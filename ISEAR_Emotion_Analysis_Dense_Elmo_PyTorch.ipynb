{
 "cells": [
  {
   "cell_type": "code",
   "execution_count": 1,
   "metadata": {},
   "outputs": [
    {
     "name": "stderr",
     "output_type": "stream",
     "text": [
      "Using TensorFlow backend.\n"
     ]
    }
   ],
   "source": [
    "import os\n",
    "\n",
    "import logging\n",
    "import pandas as pd\n",
    "import numpy as np\n",
    "import matplotlib.pyplot as plt\n",
    "from sklearn.model_selection import train_test_split\n",
    "\n",
    "import torch\n",
    "import torch.nn as nn\n",
    "import torch.nn.functional as F\n",
    "import torch.optim as optim\n",
    "\n",
    "from keras.preprocessing.text import Tokenizer\n",
    "from keras.preprocessing.sequence import pad_sequences\n",
    "\n",
    "os.environ[\"CUDA_DEVICE_ORDER\"]=\"PCI_BUS_ID\"\n",
    "# The GPU id to use, usually either \"0\" or \"1\"\n",
    "os.environ[\"CUDA_VISIBLE_DEVICES\"]=\"1\"\n",
    "os.environ[\"TFHUB_CACHE_DIR\"]=\"tfhub_modules\"\n",
    "\n",
    "torch.manual_seed(1)\n",
    "\n",
    "use_cuda = torch.cuda.is_available()\n",
    "device = torch.device(\"cuda:0\" if use_cuda else \"cpu\")"
   ]
  },
  {
   "cell_type": "code",
   "execution_count": 2,
   "metadata": {},
   "outputs": [
    {
     "name": "stdout",
     "output_type": "stream",
     "text": [
      "Better speed can be achieved with apex installed from https://www.github.com/nvidia/apex.\n"
     ]
    }
   ],
   "source": [
    "from allennlp.data.tokenizers.word_tokenizer import WordTokenizer\n",
    "from allennlp.modules.elmo import batch_to_ids\n",
    "\n",
    "NUM_WORDS = 20000\n",
    "\n",
    "class ISEARDataset(object):\n",
    "    FILENAME = \"data/isear_databank.csv\"\n",
    "    EMOTION_CLASSES = [\"anger\", \"disgust\", \"fear\", \"guilt\", \"joy\", \"sadness\", \"shame\"]\n",
    "    EMOTION_CLASSES_DICT = {\"anger\": 0, \"disgust\": 1, \"fear\": 2, \"guilt\": 3, \"joy\": 4, \"sadness\": 5, \"shame\": 6}\n",
    "    RANDOM_STATE = 41\n",
    "  \n",
    "    def get_classes(self):\n",
    "        return self.EMOTION_CLASSES\n",
    "  \n",
    "    def get_classes_dict(self):\n",
    "        return self.EMOTION_CLASSES_DICT\n",
    "    \n",
    "    def _tokens_to_texts(self, tokens):\n",
    "        texts = []\n",
    "        for token in tokens:\n",
    "            texts.append([t.text for t in token])\n",
    "        return texts\n",
    "\n",
    "    def _sequence_texts(self, texts):\n",
    "        tokenizer = WordTokenizer()\n",
    "        tokens = tokenizer.batch_tokenize(texts)\n",
    "        sequences = batch_to_ids(self._tokens_to_texts(tokens))\n",
    "        return sequences\n",
    "\n",
    "    def __init__(self, n_items=0):\n",
    "        data = pd.read_csv(self.FILENAME)\n",
    "\n",
    "        if n_items > 0:\n",
    "            data = data.iloc[0:n_items,:]\n",
    "\n",
    "        data[\"text\"] = data[\"SIT\"]\n",
    "        data[\"emotion\"] = data[\"Field1\"]\n",
    "\n",
    "        for emotion in self.get_classes():\n",
    "            data.loc[data[\"emotion\"] == emotion, \"emotion_int\"] = self.get_classes_dict()[emotion]\n",
    "\n",
    "        self.X = self._sequence_texts(data[\"text\"]).numpy()\n",
    "        self.y = data[\"emotion_int\"].values"
   ]
  },
  {
   "cell_type": "code",
   "execution_count": 3,
   "metadata": {},
   "outputs": [],
   "source": [
    "dataset = ISEARDataset()\n",
    "# dataset = ISEARDataset(200)\n",
    "X_train, X_test, y_train, y_test = train_test_split(dataset.X, dataset.y, test_size=0.3, random_state=dataset.RANDOM_STATE, stratify=dataset.y)\n",
    "X_train, X_valid, y_train, y_valid = train_test_split(X_train, y_train, test_size=0.2, random_state=dataset.RANDOM_STATE, stratify=y_train)"
   ]
  },
  {
   "cell_type": "code",
   "execution_count": 4,
   "metadata": {},
   "outputs": [
    {
     "name": "stdout",
     "output_type": "stream",
     "text": [
      "X_train.shape: (4292, 201, 50)\n",
      "y_train.shape: (4292)\n",
      "X_valid.shape: (1074, 201, 50)\n",
      "y_valid.shape: (1074)\n",
      "X_test.shape: (2300, 201, 50)\n",
      "y_test.shape: (2300)\n"
     ]
    }
   ],
   "source": [
    "print(\"X_train.shape: (%d, %d, %d)\" % X_train.shape)\n",
    "print(\"y_train.shape: (%d)\" % y_train.shape)\n",
    "\n",
    "print(\"X_valid.shape: (%d, %d, %d)\" % X_valid.shape)\n",
    "print(\"y_valid.shape: (%d)\" % y_valid.shape)\n",
    "\n",
    "print(\"X_test.shape: (%d, %d, %d)\" % X_test.shape)\n",
    "print(\"y_test.shape: (%d)\" % y_test.shape)"
   ]
  },
  {
   "cell_type": "code",
   "execution_count": 5,
   "metadata": {},
   "outputs": [],
   "source": [
    "np.save(\"pytorch_isear_X_train_elmo.npy\", X_train)\n",
    "np.save(\"pytorch_isear_X_valid_elmo.npy\", X_valid)\n",
    "np.save(\"pytorch_isear_X_test_elmo.npy\", X_test)\n",
    "\n",
    "np.save(\"pytorch_isear_y_train_elmo.npy\", y_train)\n",
    "np.save(\"pytorch_isear_y_valid_elmo.npy\", y_valid)\n",
    "np.save(\"pytorch_isear_y_test_elmo.npy\", y_test)"
   ]
  },
  {
   "cell_type": "code",
   "execution_count": 6,
   "metadata": {},
   "outputs": [],
   "source": [
    "X_train = np.load(\"pytorch_isear_X_train_elmo.npy\")\n",
    "X_valid = np.load(\"pytorch_isear_X_valid_elmo.npy\")\n",
    "X_test = np.load(\"pytorch_isear_X_test_elmo.npy\")\n",
    "\n",
    "y_train = np.load(\"pytorch_isear_y_train_elmo.npy\")\n",
    "y_valid = np.load(\"pytorch_isear_y_valid_elmo.npy\")\n",
    "y_test = np.load(\"pytorch_isear_y_test_elmo.npy\")"
   ]
  },
  {
   "cell_type": "code",
   "execution_count": 7,
   "metadata": {},
   "outputs": [
    {
     "name": "stdout",
     "output_type": "stream",
     "text": [
      "class dictionary: {'anger': 0, 'disgust': 1, 'fear': 2, 'guilt': 3, 'joy': 4, 'sadness': 5, 'shame': 6}\n",
      "class labels: ['anger', 'disgust', 'fear', 'guilt', 'joy', 'sadness', 'shame']\n",
      "number of bins: 7\n"
     ]
    }
   ],
   "source": [
    "dic = dataset.get_classes_dict()\n",
    "labels = dataset.get_classes()\n",
    "n_classes = len(labels)\n",
    "print(\"class dictionary: %s\" % dic)\n",
    "print(\"class labels: %s\" % labels)\n",
    "print(\"number of bins: %s\" % n_classes)"
   ]
  },
  {
   "cell_type": "code",
   "execution_count": 8,
   "metadata": {
    "scrolled": true
   },
   "outputs": [
    {
     "name": "stdout",
     "output_type": "stream",
     "text": [
      "bins: [0, 1, 2, 3, 4, 5, 6, 7]\n"
     ]
    },
    {
     "data": {
      "image/png": "[encoded data removed]",
      "text/plain": [
       "<Figure size 432x288 with 1 Axes>"
      ]
     },
     "metadata": {
      "needs_background": "light"
     },
     "output_type": "display_data"
    }
   ],
   "source": [
    "bins = list(range(0, n_classes + 1))\n",
    "print(\"bins:\", bins)\n",
    "hist, _ = np.histogram(y_train, bins=bins)\n",
    "\n",
    "y_pos = np.arange(len(labels))\n",
    "\n",
    "plt.bar(y_pos, hist, align='center', alpha=0.5)\n",
    "plt.xticks(y_pos, labels)\n",
    "plt.ylabel('Number')\n",
    "plt.title('Emotions')\n",
    " \n",
    "plt.show()"
   ]
  },
  {
   "cell_type": "code",
   "execution_count": 9,
   "metadata": {
    "scrolled": true
   },
   "outputs": [
    {
     "name": "stdout",
     "output_type": "stream",
     "text": [
      "y.shape: torch.Size([4292, 1, 1, 1])\n",
      "y_onehot.shape: torch.Size([4292, 7, 1, 1])\n"
     ]
    }
   ],
   "source": [
    "from torch import autograd\n",
    "\n",
    "def make_one_hot(labels, C=2):\n",
    "    '''\n",
    "    Converts an integer label torch.autograd.Variable to a one-hot Variable.\n",
    "    \n",
    "    Parameters\n",
    "    ----------\n",
    "    labels : torch.autograd.Variable of torch.cuda.LongTensor\n",
    "        N x 1 x H x W, where N is batch size. \n",
    "        Each value is an integer representing correct classification.\n",
    "    C : integer. \n",
    "        number of classes in labels.\n",
    "    \n",
    "    Returns\n",
    "    -------\n",
    "    target : torch.autograd.Variable of torch.cuda.FloatTensor\n",
    "        N x C x H x W, where C is class number. One-hot encoded.\n",
    "    '''\n",
    "    one_hot = torch.FloatTensor(labels.size(0), C, labels.size(2), labels.size(3)).zero_()\n",
    "    target = one_hot.scatter_(1, labels.data, 1)\n",
    "    \n",
    "    target = autograd.Variable(target)\n",
    "        \n",
    "    return target\n",
    "  \n",
    "y = torch.LongTensor(y_train).view(-1, 1, 1, 1)\n",
    "print(\"y.shape:\", y.shape)\n",
    "y_onehot = make_one_hot(y, C=7)\n",
    "print(\"y_onehot.shape:\", y_onehot.shape)"
   ]
  },
  {
   "cell_type": "code",
   "execution_count": 10,
   "metadata": {},
   "outputs": [],
   "source": [
    "import torch\n",
    "from torch.utils import data\n",
    "\n",
    "class ISEAR_Tensor_Dataset(data.TensorDataset):\n",
    "  \n",
    "  def __init__(self, text, emotion, num_class=2):\n",
    "    X = torch.LongTensor(text)\n",
    "    y = torch.LongTensor(emotion).view(-1, 1, 1, 1)\n",
    "    y_onehot = make_one_hot(y, num_class)\n",
    "    y_onehot = y_onehot.view(y_onehot.shape[0], y_onehot.shape[1])\n",
    "    tensors = []\n",
    "    tensors.append(X)\n",
    "    tensors.append(y_onehot)\n",
    "    super().__init__(*tensors)"
   ]
  },
  {
   "cell_type": "code",
   "execution_count": 11,
   "metadata": {},
   "outputs": [],
   "source": [
    "train_dataset = ISEAR_Tensor_Dataset(X_train, y_train, num_class=7)\n",
    "valid_dataset = ISEAR_Tensor_Dataset(X_valid, y_valid, num_class=7)\n",
    "test_dataset = ISEAR_Tensor_Dataset(X_test, y_test, num_class=7)"
   ]
  },
  {
   "cell_type": "code",
   "execution_count": 12,
   "metadata": {},
   "outputs": [
    {
     "name": "stdout",
     "output_type": "stream",
     "text": [
      "train_dataset.tensors[0].shape: torch.Size([4292, 201, 50])\n",
      "train_dataset.tensors[1].shape: torch.Size([4292, 7])\n"
     ]
    }
   ],
   "source": [
    "print(\"train_dataset.tensors[0].shape:\", train_dataset.tensors[0].shape)\n",
    "print(\"train_dataset.tensors[1].shape:\", train_dataset.tensors[1].shape)"
   ]
  },
  {
   "cell_type": "code",
   "execution_count": 13,
   "metadata": {},
   "outputs": [
    {
     "name": "stdout",
     "output_type": "stream",
     "text": [
      "train_dataset length: 4292\n",
      "valid_dataset length: 1074\n",
      "test_dataset length: 2300\n"
     ]
    }
   ],
   "source": [
    "print(\"train_dataset length:\", len(train_dataset))\n",
    "print(\"valid_dataset length:\", len(valid_dataset))\n",
    "print(\"test_dataset length:\", len(test_dataset))"
   ]
  },
  {
   "cell_type": "code",
   "execution_count": 14,
   "metadata": {},
   "outputs": [],
   "source": [
    "batch_size = 50\n",
    "\n",
    "train_loader = data.DataLoader(train_dataset, batch_size=batch_size, shuffle=True)\n",
    "valid_loader = data.DataLoader(valid_dataset, batch_size=batch_size, shuffle=True)\n",
    "test_loader = data.DataLoader(test_dataset, batch_size=batch_size, shuffle=True)"
   ]
  },
  {
   "cell_type": "markdown",
   "metadata": {},
   "source": [
    "### Load Elmo"
   ]
  },
  {
   "cell_type": "code",
   "execution_count": 15,
   "metadata": {},
   "outputs": [],
   "source": [
    "from allennlp.modules.elmo import Elmo, batch_to_ids\n",
    "\n",
    "options_file = \"https://s3-us-west-2.amazonaws.com/allennlp/models/elmo/2x4096_512_2048cnn_2xhighway/elmo_2x4096_512_2048cnn_2xhighway_options.json\"\n",
    "weight_file = \"https://s3-us-west-2.amazonaws.com/allennlp/models/elmo/2x4096_512_2048cnn_2xhighway/elmo_2x4096_512_2048cnn_2xhighway_weights.hdf5\"\n",
    "\n",
    "# Compute two different representation for each token.\n",
    "# Each representation is a linear weighted combination for the\n",
    "# 3 layers in ELMo (i.e., charcnn, the outputs of the two BiLSTM))\n",
    "elmo = Elmo(options_file, weight_file, num_output_representations=2, dropout=0)\n",
    "elmo = elmo.to(device)"
   ]
  },
  {
   "cell_type": "code",
   "execution_count": 16,
   "metadata": {},
   "outputs": [
    {
     "name": "stdout",
     "output_type": "stream",
     "text": [
      "shape: torch.Size([201, 50])\n",
      "experiment_X_train.shape: torch.Size([1, 201, 50])\n",
      "embedded shape: torch.Size([1, 201, 1024])\n"
     ]
    }
   ],
   "source": [
    "shape = train_dataset[0][0].shape\n",
    "print(\"shape:\", shape)\n",
    "experiment_X_train = train_dataset[0][0].view(1, shape[0], shape[1]).to(device)\n",
    "print(\"experiment_X_train.shape:\", experiment_X_train.shape)\n",
    "\n",
    "embedded = elmo(experiment_X_train)\n",
    "print(\"embedded shape:\", embedded['elmo_representations'][0].shape)"
   ]
  },
  {
   "cell_type": "code",
   "execution_count": 17,
   "metadata": {},
   "outputs": [
    {
     "data": {
      "text/plain": [
       "tensor([[-1.0745, -0.5283, -0.2177,  ..., -0.6874,  0.0337,  0.1065],\n",
       "        [-0.2210, -0.1498,  0.6300,  ...,  0.4575,  0.2636,  0.6487],\n",
       "        [ 0.0527, -0.4137, -0.1914,  ...,  0.0653, -0.3125,  0.5624],\n",
       "        [ 0.7515, -0.4722,  0.8008,  ..., -0.1728,  0.2715,  1.1177],\n",
       "        [-0.2145, -0.3570,  0.1599,  ..., -0.0838, -0.4250,  0.4586],\n",
       "        [-0.3339, -0.3030,  0.4855,  ..., -0.0636, -0.4033,  0.4355]],\n",
       "       device='cuda:0', grad_fn=<SelectBackward>)"
      ]
     },
     "execution_count": 17,
     "metadata": {},
     "output_type": "execute_result"
    }
   ],
   "source": [
    "import scipy\n",
    "\n",
    "sentences = [\n",
    "  [\"I\", \"ate\", \"an\", \"apple\", \"for\", \"breakfast\"], \n",
    "  [\"I\", \"ate\", \"a\", \"carrot\", \"for\", \"breakfast\"]\n",
    "]\n",
    "character_ids = batch_to_ids(sentences)\n",
    "\n",
    "embeddings = elmo(character_ids.to(device))\n",
    "embeddings['elmo_representations'][0][0]"
   ]
  },
  {
   "cell_type": "code",
   "execution_count": 18,
   "metadata": {},
   "outputs": [
    {
     "data": {
      "text/plain": [
       "0.27184659242630005"
      ]
     },
     "execution_count": 18,
     "metadata": {},
     "output_type": "execute_result"
    }
   ],
   "source": [
    "vector1 = embeddings['elmo_representations'][0][0].cpu().detach().numpy()\n",
    "vector2 = embeddings['elmo_representations'][0][1].cpu().detach().numpy()\n",
    "scipy.spatial.distance.cosine(vector1[3], vector2[3]) # cosine distance between \"apple\" and \"carrot\" in the last layer"
   ]
  },
  {
   "cell_type": "markdown",
   "metadata": {},
   "source": [
    "## Neural Network Architecture "
   ]
  },
  {
   "cell_type": "code",
   "execution_count": 19,
   "metadata": {},
   "outputs": [],
   "source": [
    "import torch.nn as nn\n",
    "import torch.nn.functional as F\n",
    "\n",
    "class ElmoClassifier(nn.Module):\n",
    "\n",
    "    def __init__(self, device, elmo_embedding, input_dim, embedding_dim=1024, linear_dim=256,\n",
    "                 output_dim=7, drop_rate=0.2):\n",
    "\n",
    "        super(ElmoClassifier, self).__init__()\n",
    "        \n",
    "        self.device = device\n",
    "        self.embedding = elmo_embedding\n",
    "        self.input_dim = input_dim\n",
    "        self.embedding_dim = embedding_dim\n",
    "        self.linear_dim = linear_dim\n",
    "        self.output_dim = output_dim\n",
    "        self.drop_rate = drop_rate\n",
    "        \n",
    "        self.linear = nn.Linear(in_features=self.embedding_dim, out_features=self.linear_dim)\n",
    "        self.linear_pred = nn.Linear(in_features=self.linear_dim, out_features=self.output_dim)\n",
    "\n",
    "    def __shape_to_string(self, shape):\n",
    "        return str(shape)\n",
    "    \n",
    "    def summary(self, input_size):\n",
    "        sentence = torch.LongTensor(np.zeros(input_size)).to(self.device)\n",
    "        print(\"{:<20}  {:<25}\".format(\"input\", self.__shape_to_string(sentence.shape)))\n",
    "        embeds = self.embedding(sentence)['elmo_representations'][0]\n",
    "        print(\"{:<20}  {:<25}\".format(\"embedding\", self.__shape_to_string(embeds.shape)))\n",
    "        avg_embeds = embeds.mean(dim=1)\n",
    "        print(\"{:<20}  {:<25}\".format(\"avg_embeds\", self.__shape_to_string(avg_embeds.shape)))\n",
    "        dense = self.linear(avg_embeds)\n",
    "        print(\"{:<20}  {:<25}\".format(\"dense\", self.__shape_to_string(dense.shape)))\n",
    "        output = F.softmax(self.linear_pred(dense))\n",
    "        print(\"{:<20}  {:<25}\".format(\"output\", self.__shape_to_string(output.shape)))\n",
    "\n",
    "    def forward(self, sentence):\n",
    "        embeds = self.embedding(sentence)['elmo_representations'][0]\n",
    "        avg_embeds = embeds.mean(dim=1)\n",
    "        dense = F.dropout(self.linear(avg_embeds), self.drop_rate)\n",
    "        output = F.softmax(self.linear_pred(dense))\n",
    "        return output"
   ]
  },
  {
   "cell_type": "code",
   "execution_count": 20,
   "metadata": {},
   "outputs": [
    {
     "name": "stdout",
     "output_type": "stream",
     "text": [
      "input                 torch.Size([1, 201, 50]) \n",
      "embedding             torch.Size([1, 201, 1024])\n",
      "avg_embeds            torch.Size([1, 1024])    \n",
      "dense                 torch.Size([1, 256])     \n",
      "output                torch.Size([1, 7])       \n"
     ]
    },
    {
     "name": "stderr",
     "output_type": "stream",
     "text": [
      "/home/david/anaconda3/envs/tf36/lib/python3.6/site-packages/ipykernel_launcher.py:34: UserWarning: Implicit dimension choice for softmax has been deprecated. Change the call to include dim=X as an argument.\n"
     ]
    }
   ],
   "source": [
    "input_dim = X_train.shape[1]\n",
    "embedding_dim = 1024\n",
    "linear_dim = 256\n",
    "output_dim = 7\n",
    "drop_rate = 0.2\n",
    "\n",
    "model = ElmoClassifier(device, elmo, input_dim, embedding_dim, linear_dim, output_dim, drop_rate)\n",
    "model = model.to(device)\n",
    "\n",
    "model.summary([1, 201, 50])"
   ]
  },
  {
   "cell_type": "code",
   "execution_count": 21,
   "metadata": {},
   "outputs": [
    {
     "data": {
      "text/plain": [
       "{'dataset': <__main__.ISEAR_Tensor_Dataset at 0x7feb8b23a9e8>,\n",
       " 'batch_size': 50,\n",
       " 'num_workers': 0,\n",
       " 'collate_fn': <function torch.utils.data.dataloader.default_collate(batch)>,\n",
       " 'pin_memory': False,\n",
       " 'drop_last': False,\n",
       " 'timeout': 0,\n",
       " 'worker_init_fn': None,\n",
       " 'sampler': <torch.utils.data.sampler.RandomSampler at 0x7feb6a9cf128>,\n",
       " 'batch_sampler': <torch.utils.data.sampler.BatchSampler at 0x7feb6a9cf160>,\n",
       " '_DataLoader__initialized': True}"
      ]
     },
     "execution_count": 21,
     "metadata": {},
     "output_type": "execute_result"
    }
   ],
   "source": [
    "train_loader.__dict__"
   ]
  },
  {
   "cell_type": "code",
   "execution_count": 22,
   "metadata": {},
   "outputs": [],
   "source": [
    "def train(epoch, model, data_loader, device, optimiser, loss_fn=nn.BCELoss(), log_interval=100):\n",
    "    #####################\n",
    "    # Train model\n",
    "    #####################\n",
    "\n",
    "    # switch model to training mode, clear gradient accumulators\n",
    "    model.train()\n",
    "    # model.hidden = model.init_hidden()\n",
    "    \n",
    "    train_loss = 0\n",
    "    total_correct = 0\n",
    "\n",
    "    all_pred = []\n",
    "    all_target = []\n",
    "\n",
    "    for batch_idx, (data, target) in enumerate(data_loader):\n",
    "        data, target = data.to(device), target.to(device)\n",
    "        optimiser.zero_grad()\n",
    "        output = model(data)\n",
    "        \n",
    "        loss = loss_fn(output, target)\n",
    "        loss.backward()\n",
    "        optimiser.step()\n",
    "        \n",
    "        train_loss += loss.data # sum up batch loss\n",
    "        \n",
    "        pred = output.max(1, keepdim=True)[1]\n",
    "        pred = pred.view(pred.size(0))\n",
    "\n",
    "        target = target.max(1, keepdim=True)[1]\n",
    "        target = target.view(target.size(0))\n",
    "\n",
    "        correct = pred.eq(target.view_as(pred)).sum()\n",
    "        total_correct += correct\n",
    "\n",
    "        all_pred += pred.cpu().numpy().tolist()\n",
    "        all_target += target.cpu().numpy().tolist()\n",
    "\n",
    "        if batch_idx % log_interval == 0:\n",
    "            print('Train Epoch: {} [{}\\t/\\t{}\\t({:.0f}%)]\\tLoss: {:.6f}'.format(\n",
    "                epoch, batch_idx * len(data), len(train_loader.dataset),\n",
    "                100. * batch_idx / len(train_loader), loss.data))\n",
    "    \n",
    "    print('Train: Average loss: {:.4f}, Accuracy: {}/{} ({:.0f}%)'.format(\n",
    "        train_loss, total_correct, len(data_loader.dataset),\n",
    "        100. * total_correct / len(data_loader.dataset)))\n",
    "    \n",
    "    return train_loss, all_pred, all_target"
   ]
  },
  {
   "cell_type": "code",
   "execution_count": 23,
   "metadata": {},
   "outputs": [],
   "source": [
    "def evaluate(model, data_loader, device, loss_fn=nn.BCELoss()):\n",
    "    #####################\n",
    "    # Evaluation model\n",
    "    #####################\n",
    "    model.eval()\n",
    "    eval_loss = 0\n",
    "    total_correct = 0\n",
    "\n",
    "    all_pred = []\n",
    "    all_target = []\n",
    "    \n",
    "    with torch.no_grad():\n",
    "        for data, target in data_loader:\n",
    "            data, target = data.to(device), target.to(device)\n",
    "            output = model(data)\n",
    "            eval_loss += loss_fn(output, target).data # sum up batch loss\n",
    "            \n",
    "            pred = output.max(1, keepdim=True)[1]\n",
    "            pred = pred.view(pred.size(0))\n",
    "            \n",
    "            target = target.max(1, keepdim=True)[1]\n",
    "            target = target.view(target.size(0))\n",
    "            \n",
    "            correct = pred.eq(target.view_as(pred)).sum()\n",
    "            total_correct += correct\n",
    "\n",
    "            all_pred += pred.cpu().numpy().tolist()\n",
    "            all_target += target.cpu().numpy().tolist()\n",
    "\n",
    "    print('Evaluate: Average loss: {:.4f}, Accuracy: {}/{} ({:.0f}%)\\n'.format(\n",
    "        eval_loss, total_correct, len(data_loader.dataset),\n",
    "        100. * total_correct / len(data_loader.dataset)))\n",
    "    \n",
    "    return eval_loss, all_pred, all_target"
   ]
  },
  {
   "cell_type": "code",
   "execution_count": 24,
   "metadata": {},
   "outputs": [
    {
     "name": "stderr",
     "output_type": "stream",
     "text": [
      "/home/david/anaconda3/envs/tf36/lib/python3.6/site-packages/ipykernel_launcher.py:41: UserWarning: Implicit dimension choice for softmax has been deprecated. Change the call to include dim=X as an argument.\n"
     ]
    },
    {
     "name": "stdout",
     "output_type": "stream",
     "text": [
      "Train Epoch: 0 [0\t/\t4292\t(0%)]\tLoss: 0.411015\n",
      "Train Epoch: 0 [500\t/\t4292\t(12%)]\tLoss: 0.405058\n",
      "Train Epoch: 0 [1000\t/\t4292\t(23%)]\tLoss: 0.397643\n",
      "Train Epoch: 0 [1500\t/\t4292\t(35%)]\tLoss: 0.393081\n",
      "Train Epoch: 0 [2000\t/\t4292\t(47%)]\tLoss: 0.387182\n",
      "Train Epoch: 0 [2500\t/\t4292\t(58%)]\tLoss: 0.364824\n",
      "Train Epoch: 0 [3000\t/\t4292\t(70%)]\tLoss: 0.374756\n",
      "Train Epoch: 0 [3500\t/\t4292\t(81%)]\tLoss: 0.353225\n",
      "Train Epoch: 0 [4000\t/\t4292\t(93%)]\tLoss: 0.350644\n",
      "Train: Average loss: 33.0672, Accuracy: 1444/4292 (33%)\n",
      "Evaluate: Average loss: 7.8028, Accuracy: 453/1074 (42%)\n",
      "\n",
      "Train Epoch: 1 [0\t/\t4292\t(0%)]\tLoss: 0.342446\n",
      "Train Epoch: 1 [500\t/\t4292\t(12%)]\tLoss: 0.358369\n",
      "Train Epoch: 1 [1000\t/\t4292\t(23%)]\tLoss: 0.333625\n",
      "Train Epoch: 1 [1500\t/\t4292\t(35%)]\tLoss: 0.311725\n",
      "Train Epoch: 1 [2000\t/\t4292\t(47%)]\tLoss: 0.325308\n",
      "Train Epoch: 1 [2500\t/\t4292\t(58%)]\tLoss: 0.301255\n",
      "Train Epoch: 1 [3000\t/\t4292\t(70%)]\tLoss: 0.319777\n",
      "Train Epoch: 1 [3500\t/\t4292\t(81%)]\tLoss: 0.298963\n",
      "Train Epoch: 1 [4000\t/\t4292\t(93%)]\tLoss: 0.310968\n",
      "Train: Average loss: 28.5412, Accuracy: 1984/4292 (46%)\n",
      "Evaluate: Average loss: 7.2380, Accuracy: 511/1074 (47%)\n",
      "\n",
      "Train Epoch: 2 [0\t/\t4292\t(0%)]\tLoss: 0.307928\n",
      "Train Epoch: 2 [500\t/\t4292\t(12%)]\tLoss: 0.312236\n",
      "Train Epoch: 2 [1000\t/\t4292\t(23%)]\tLoss: 0.328670\n",
      "Train Epoch: 2 [1500\t/\t4292\t(35%)]\tLoss: 0.271504\n",
      "Train Epoch: 2 [2000\t/\t4292\t(47%)]\tLoss: 0.274367\n",
      "Train Epoch: 2 [2500\t/\t4292\t(58%)]\tLoss: 0.273089\n",
      "Train Epoch: 2 [3000\t/\t4292\t(70%)]\tLoss: 0.302525\n",
      "Train Epoch: 2 [3500\t/\t4292\t(81%)]\tLoss: 0.340983\n",
      "Train Epoch: 2 [4000\t/\t4292\t(93%)]\tLoss: 0.299046\n",
      "Train: Average loss: 26.2407, Accuracy: 2189/4292 (51%)\n",
      "Evaluate: Average loss: 6.8936, Accuracy: 535/1074 (49%)\n",
      "\n",
      "Train Epoch: 3 [0\t/\t4292\t(0%)]\tLoss: 0.249707\n",
      "Train Epoch: 3 [500\t/\t4292\t(12%)]\tLoss: 0.292848\n",
      "Train Epoch: 3 [1000\t/\t4292\t(23%)]\tLoss: 0.315759\n",
      "Train Epoch: 3 [1500\t/\t4292\t(35%)]\tLoss: 0.303377\n",
      "Train Epoch: 3 [2000\t/\t4292\t(47%)]\tLoss: 0.322457\n",
      "Train Epoch: 3 [2500\t/\t4292\t(58%)]\tLoss: 0.320009\n",
      "Train Epoch: 3 [3000\t/\t4292\t(70%)]\tLoss: 0.301987\n",
      "Train Epoch: 3 [3500\t/\t4292\t(81%)]\tLoss: 0.273434\n",
      "Train Epoch: 3 [4000\t/\t4292\t(93%)]\tLoss: 0.291453\n",
      "Train: Average loss: 24.9058, Accuracy: 2323/4292 (54%)\n",
      "Evaluate: Average loss: 6.6674, Accuracy: 579/1074 (53%)\n",
      "\n",
      "Train Epoch: 4 [0\t/\t4292\t(0%)]\tLoss: 0.289071\n",
      "Train Epoch: 4 [500\t/\t4292\t(12%)]\tLoss: 0.255626\n",
      "Train Epoch: 4 [1000\t/\t4292\t(23%)]\tLoss: 0.277215\n",
      "Train Epoch: 4 [1500\t/\t4292\t(35%)]\tLoss: 0.252805\n",
      "Train Epoch: 4 [2000\t/\t4292\t(47%)]\tLoss: 0.269015\n",
      "Train Epoch: 4 [2500\t/\t4292\t(58%)]\tLoss: 0.258565\n",
      "Train Epoch: 4 [3000\t/\t4292\t(70%)]\tLoss: 0.290088\n",
      "Train Epoch: 4 [3500\t/\t4292\t(81%)]\tLoss: 0.291096\n",
      "Train Epoch: 4 [4000\t/\t4292\t(93%)]\tLoss: 0.281426\n",
      "Train: Average loss: 23.6583, Accuracy: 2467/4292 (57%)\n",
      "Evaluate: Average loss: 6.8311, Accuracy: 568/1074 (52%)\n",
      "\n",
      "Train Epoch: 5 [0\t/\t4292\t(0%)]\tLoss: 0.247814\n",
      "Train Epoch: 5 [500\t/\t4292\t(12%)]\tLoss: 0.305640\n",
      "Train Epoch: 5 [1000\t/\t4292\t(23%)]\tLoss: 0.250268\n",
      "Train Epoch: 5 [1500\t/\t4292\t(35%)]\tLoss: 0.307901\n",
      "Train Epoch: 5 [2000\t/\t4292\t(47%)]\tLoss: 0.312128\n",
      "Train Epoch: 5 [2500\t/\t4292\t(58%)]\tLoss: 0.253950\n",
      "Train Epoch: 5 [3000\t/\t4292\t(70%)]\tLoss: 0.236492\n",
      "Train Epoch: 5 [3500\t/\t4292\t(81%)]\tLoss: 0.263409\n",
      "Train Epoch: 5 [4000\t/\t4292\t(93%)]\tLoss: 0.255959\n",
      "Train: Average loss: 22.6832, Accuracy: 2532/4292 (58%)\n",
      "Evaluate: Average loss: 6.6091, Accuracy: 580/1074 (54%)\n",
      "\n",
      "Train Epoch: 6 [0\t/\t4292\t(0%)]\tLoss: 0.235698\n",
      "Train Epoch: 6 [500\t/\t4292\t(12%)]\tLoss: 0.229719\n",
      "Train Epoch: 6 [1000\t/\t4292\t(23%)]\tLoss: 0.277068\n",
      "Train Epoch: 6 [1500\t/\t4292\t(35%)]\tLoss: 0.308042\n",
      "Train Epoch: 6 [2000\t/\t4292\t(47%)]\tLoss: 0.254203\n",
      "Train Epoch: 6 [2500\t/\t4292\t(58%)]\tLoss: 0.271799\n",
      "Train Epoch: 6 [3000\t/\t4292\t(70%)]\tLoss: 0.251550\n",
      "Train Epoch: 6 [3500\t/\t4292\t(81%)]\tLoss: 0.244524\n",
      "Train Epoch: 6 [4000\t/\t4292\t(93%)]\tLoss: 0.215083\n",
      "Train: Average loss: 21.9757, Accuracy: 2628/4292 (61%)\n",
      "Evaluate: Average loss: 6.6068, Accuracy: 579/1074 (53%)\n",
      "\n",
      "Train Epoch: 7 [0\t/\t4292\t(0%)]\tLoss: 0.228261\n",
      "Train Epoch: 7 [500\t/\t4292\t(12%)]\tLoss: 0.215603\n",
      "Train Epoch: 7 [1000\t/\t4292\t(23%)]\tLoss: 0.253721\n",
      "Train Epoch: 7 [1500\t/\t4292\t(35%)]\tLoss: 0.273432\n",
      "Train Epoch: 7 [2000\t/\t4292\t(47%)]\tLoss: 0.323581\n",
      "Train Epoch: 7 [2500\t/\t4292\t(58%)]\tLoss: 0.262768\n",
      "Train Epoch: 7 [3000\t/\t4292\t(70%)]\tLoss: 0.225284\n",
      "Train Epoch: 7 [3500\t/\t4292\t(81%)]\tLoss: 0.257391\n",
      "Train Epoch: 7 [4000\t/\t4292\t(93%)]\tLoss: 0.299614\n",
      "Train: Average loss: 21.3548, Accuracy: 2641/4292 (61%)\n",
      "Evaluate: Average loss: 6.5689, Accuracy: 584/1074 (54%)\n",
      "\n",
      "Train Epoch: 8 [0\t/\t4292\t(0%)]\tLoss: 0.232501\n",
      "Train Epoch: 8 [500\t/\t4292\t(12%)]\tLoss: 0.229233\n",
      "Train Epoch: 8 [1000\t/\t4292\t(23%)]\tLoss: 0.260275\n",
      "Train Epoch: 8 [1500\t/\t4292\t(35%)]\tLoss: 0.246869\n",
      "Train Epoch: 8 [2000\t/\t4292\t(47%)]\tLoss: 0.200947\n",
      "Train Epoch: 8 [2500\t/\t4292\t(58%)]\tLoss: 0.231888\n",
      "Train Epoch: 8 [3000\t/\t4292\t(70%)]\tLoss: 0.207864\n",
      "Train Epoch: 8 [3500\t/\t4292\t(81%)]\tLoss: 0.235915\n",
      "Train Epoch: 8 [4000\t/\t4292\t(93%)]\tLoss: 0.300775\n",
      "Train: Average loss: 20.6632, Accuracy: 2713/4292 (63%)\n",
      "Evaluate: Average loss: 6.5788, Accuracy: 582/1074 (54%)\n",
      "\n",
      "Train Epoch: 9 [0\t/\t4292\t(0%)]\tLoss: 0.185675\n",
      "Train Epoch: 9 [500\t/\t4292\t(12%)]\tLoss: 0.253144\n",
      "Train Epoch: 9 [1000\t/\t4292\t(23%)]\tLoss: 0.224430\n",
      "Train Epoch: 9 [1500\t/\t4292\t(35%)]\tLoss: 0.246568\n",
      "Train Epoch: 9 [2000\t/\t4292\t(47%)]\tLoss: 0.220029\n",
      "Train Epoch: 9 [2500\t/\t4292\t(58%)]\tLoss: 0.210640\n",
      "Train Epoch: 9 [3000\t/\t4292\t(70%)]\tLoss: 0.203999\n",
      "Train Epoch: 9 [3500\t/\t4292\t(81%)]\tLoss: 0.256913\n",
      "Train Epoch: 9 [4000\t/\t4292\t(93%)]\tLoss: 0.248000\n",
      "Train: Average loss: 20.2606, Accuracy: 2741/4292 (63%)\n",
      "Evaluate: Average loss: 6.8221, Accuracy: 576/1074 (53%)\n",
      "\n",
      "Train Epoch: 10 [0\t/\t4292\t(0%)]\tLoss: 0.226288\n",
      "Train Epoch: 10 [500\t/\t4292\t(12%)]\tLoss: 0.223656\n",
      "Train Epoch: 10 [1000\t/\t4292\t(23%)]\tLoss: 0.265883\n",
      "Train Epoch: 10 [1500\t/\t4292\t(35%)]\tLoss: 0.284930\n",
      "Train Epoch: 10 [2000\t/\t4292\t(47%)]\tLoss: 0.209171\n",
      "Train Epoch: 10 [2500\t/\t4292\t(58%)]\tLoss: 0.274123\n",
      "Train Epoch: 10 [3000\t/\t4292\t(70%)]\tLoss: 0.187826\n",
      "Train Epoch: 10 [3500\t/\t4292\t(81%)]\tLoss: 0.234762\n",
      "Train Epoch: 10 [4000\t/\t4292\t(93%)]\tLoss: 0.190528\n",
      "Train: Average loss: 19.8992, Accuracy: 2765/4292 (64%)\n",
      "Evaluate: Average loss: 6.6752, Accuracy: 599/1074 (55%)\n",
      "\n",
      "Train Epoch: 11 [0\t/\t4292\t(0%)]\tLoss: 0.226427\n",
      "Train Epoch: 11 [500\t/\t4292\t(12%)]\tLoss: 0.199329\n",
      "Train Epoch: 11 [1000\t/\t4292\t(23%)]\tLoss: 0.264251\n",
      "Train Epoch: 11 [1500\t/\t4292\t(35%)]\tLoss: 0.228811\n",
      "Train Epoch: 11 [2000\t/\t4292\t(47%)]\tLoss: 0.185536\n",
      "Train Epoch: 11 [2500\t/\t4292\t(58%)]\tLoss: 0.175372\n",
      "Train Epoch: 11 [3000\t/\t4292\t(70%)]\tLoss: 0.231647\n",
      "Train Epoch: 11 [3500\t/\t4292\t(81%)]\tLoss: 0.264509\n",
      "Train Epoch: 11 [4000\t/\t4292\t(93%)]\tLoss: 0.186044\n",
      "Train: Average loss: 19.2467, Accuracy: 2844/4292 (66%)\n",
      "Evaluate: Average loss: 6.7153, Accuracy: 598/1074 (55%)\n",
      "\n",
      "Train Epoch: 12 [0\t/\t4292\t(0%)]\tLoss: 0.210182\n",
      "Train Epoch: 12 [500\t/\t4292\t(12%)]\tLoss: 0.211582\n",
      "Train Epoch: 12 [1000\t/\t4292\t(23%)]\tLoss: 0.196139\n",
      "Train Epoch: 12 [1500\t/\t4292\t(35%)]\tLoss: 0.229851\n",
      "Train Epoch: 12 [2000\t/\t4292\t(47%)]\tLoss: 0.207152\n",
      "Train Epoch: 12 [2500\t/\t4292\t(58%)]\tLoss: 0.197475\n",
      "Train Epoch: 12 [3000\t/\t4292\t(70%)]\tLoss: 0.212490\n",
      "Train Epoch: 12 [3500\t/\t4292\t(81%)]\tLoss: 0.214056\n",
      "Train Epoch: 12 [4000\t/\t4292\t(93%)]\tLoss: 0.226193\n",
      "Train: Average loss: 18.9703, Accuracy: 2875/4292 (66%)\n",
      "Evaluate: Average loss: 6.8062, Accuracy: 595/1074 (55%)\n",
      "\n",
      "Train Epoch: 13 [0\t/\t4292\t(0%)]\tLoss: 0.184442\n",
      "Train Epoch: 13 [500\t/\t4292\t(12%)]\tLoss: 0.191581\n",
      "Train Epoch: 13 [1000\t/\t4292\t(23%)]\tLoss: 0.199860\n",
      "Train Epoch: 13 [1500\t/\t4292\t(35%)]\tLoss: 0.253763\n",
      "Train Epoch: 13 [2000\t/\t4292\t(47%)]\tLoss: 0.183667\n",
      "Train Epoch: 13 [2500\t/\t4292\t(58%)]\tLoss: 0.207077\n",
      "Train Epoch: 13 [3000\t/\t4292\t(70%)]\tLoss: 0.215351\n",
      "Train Epoch: 13 [3500\t/\t4292\t(81%)]\tLoss: 0.234672\n",
      "Train Epoch: 13 [4000\t/\t4292\t(93%)]\tLoss: 0.226837\n",
      "Train: Average loss: 18.5191, Accuracy: 2891/4292 (67%)\n",
      "Evaluate: Average loss: 6.7903, Accuracy: 609/1074 (56%)\n",
      "\n",
      "Train Epoch: 14 [0\t/\t4292\t(0%)]\tLoss: 0.209858\n",
      "Train Epoch: 14 [500\t/\t4292\t(12%)]\tLoss: 0.191715\n",
      "Train Epoch: 14 [1000\t/\t4292\t(23%)]\tLoss: 0.213563\n",
      "Train Epoch: 14 [1500\t/\t4292\t(35%)]\tLoss: 0.224270\n",
      "Train Epoch: 14 [2000\t/\t4292\t(47%)]\tLoss: 0.197806\n",
      "Train Epoch: 14 [2500\t/\t4292\t(58%)]\tLoss: 0.220713\n",
      "Train Epoch: 14 [3000\t/\t4292\t(70%)]\tLoss: 0.233137\n"
     ]
    },
    {
     "name": "stdout",
     "output_type": "stream",
     "text": [
      "Train Epoch: 14 [3500\t/\t4292\t(81%)]\tLoss: 0.197146\n",
      "Train Epoch: 14 [4000\t/\t4292\t(93%)]\tLoss: 0.240136\n",
      "Train: Average loss: 17.9483, Accuracy: 2964/4292 (69%)\n",
      "Evaluate: Average loss: 6.7708, Accuracy: 587/1074 (54%)\n",
      "\n",
      "Train Epoch: 15 [0\t/\t4292\t(0%)]\tLoss: 0.200426\n",
      "Train Epoch: 15 [500\t/\t4292\t(12%)]\tLoss: 0.173669\n",
      "Train Epoch: 15 [1000\t/\t4292\t(23%)]\tLoss: 0.163494\n",
      "Train Epoch: 15 [1500\t/\t4292\t(35%)]\tLoss: 0.235959\n",
      "Train Epoch: 15 [2000\t/\t4292\t(47%)]\tLoss: 0.190008\n",
      "Train Epoch: 15 [2500\t/\t4292\t(58%)]\tLoss: 0.161368\n",
      "Train Epoch: 15 [3000\t/\t4292\t(70%)]\tLoss: 0.234317\n",
      "Train Epoch: 15 [3500\t/\t4292\t(81%)]\tLoss: 0.249913\n",
      "Train Epoch: 15 [4000\t/\t4292\t(93%)]\tLoss: 0.227047\n",
      "Train: Average loss: 17.7907, Accuracy: 2970/4292 (69%)\n",
      "Evaluate: Average loss: 7.0591, Accuracy: 582/1074 (54%)\n",
      "\n",
      "Train Epoch: 16 [0\t/\t4292\t(0%)]\tLoss: 0.201443\n",
      "Train Epoch: 16 [500\t/\t4292\t(12%)]\tLoss: 0.240584\n",
      "Train Epoch: 16 [1000\t/\t4292\t(23%)]\tLoss: 0.238044\n",
      "Train Epoch: 16 [1500\t/\t4292\t(35%)]\tLoss: 0.200049\n",
      "Train Epoch: 16 [2000\t/\t4292\t(47%)]\tLoss: 0.238251\n",
      "Train Epoch: 16 [2500\t/\t4292\t(58%)]\tLoss: 0.242541\n",
      "Train Epoch: 16 [3000\t/\t4292\t(70%)]\tLoss: 0.196850\n",
      "Train Epoch: 16 [3500\t/\t4292\t(81%)]\tLoss: 0.174956\n",
      "Train Epoch: 16 [4000\t/\t4292\t(93%)]\tLoss: 0.231600\n",
      "Train: Average loss: 17.7080, Accuracy: 2954/4292 (68%)\n",
      "Evaluate: Average loss: 7.0856, Accuracy: 588/1074 (54%)\n",
      "\n",
      "Train Epoch: 17 [0\t/\t4292\t(0%)]\tLoss: 0.131045\n",
      "Train Epoch: 17 [500\t/\t4292\t(12%)]\tLoss: 0.207989\n",
      "Train Epoch: 17 [1000\t/\t4292\t(23%)]\tLoss: 0.202206\n",
      "Train Epoch: 17 [1500\t/\t4292\t(35%)]\tLoss: 0.257555\n",
      "Train Epoch: 17 [2000\t/\t4292\t(47%)]\tLoss: 0.204035\n",
      "Train Epoch: 17 [2500\t/\t4292\t(58%)]\tLoss: 0.192725\n",
      "Train Epoch: 17 [3000\t/\t4292\t(70%)]\tLoss: 0.232686\n",
      "Train Epoch: 17 [3500\t/\t4292\t(81%)]\tLoss: 0.210151\n",
      "Train Epoch: 17 [4000\t/\t4292\t(93%)]\tLoss: 0.219147\n",
      "Train: Average loss: 17.3420, Accuracy: 3004/4292 (69%)\n",
      "Evaluate: Average loss: 7.0289, Accuracy: 598/1074 (55%)\n",
      "\n",
      "Train Epoch: 18 [0\t/\t4292\t(0%)]\tLoss: 0.202460\n",
      "Train Epoch: 18 [500\t/\t4292\t(12%)]\tLoss: 0.190611\n",
      "Train Epoch: 18 [1000\t/\t4292\t(23%)]\tLoss: 0.212134\n",
      "Train Epoch: 18 [1500\t/\t4292\t(35%)]\tLoss: 0.222682\n",
      "Train Epoch: 18 [2000\t/\t4292\t(47%)]\tLoss: 0.194870\n",
      "Train Epoch: 18 [2500\t/\t4292\t(58%)]\tLoss: 0.150822\n",
      "Train Epoch: 18 [3000\t/\t4292\t(70%)]\tLoss: 0.124773\n",
      "Train Epoch: 18 [3500\t/\t4292\t(81%)]\tLoss: 0.178944\n",
      "Train Epoch: 18 [4000\t/\t4292\t(93%)]\tLoss: 0.168762\n",
      "Train: Average loss: 16.8976, Accuracy: 3032/4292 (70%)\n",
      "Evaluate: Average loss: 7.1014, Accuracy: 594/1074 (55%)\n",
      "\n",
      "Train Epoch: 19 [0\t/\t4292\t(0%)]\tLoss: 0.195561\n",
      "Train Epoch: 19 [500\t/\t4292\t(12%)]\tLoss: 0.200368\n",
      "Train Epoch: 19 [1000\t/\t4292\t(23%)]\tLoss: 0.186363\n",
      "Train Epoch: 19 [1500\t/\t4292\t(35%)]\tLoss: 0.157414\n",
      "Train Epoch: 19 [2000\t/\t4292\t(47%)]\tLoss: 0.173247\n",
      "Train Epoch: 19 [2500\t/\t4292\t(58%)]\tLoss: 0.184083\n",
      "Train Epoch: 19 [3000\t/\t4292\t(70%)]\tLoss: 0.208623\n",
      "Train Epoch: 19 [3500\t/\t4292\t(81%)]\tLoss: 0.248267\n",
      "Train Epoch: 19 [4000\t/\t4292\t(93%)]\tLoss: 0.240125\n",
      "Train: Average loss: 16.6741, Accuracy: 3040/4292 (70%)\n",
      "Evaluate: Average loss: 7.0833, Accuracy: 573/1074 (53%)\n",
      "\n",
      "Train Epoch: 20 [0\t/\t4292\t(0%)]\tLoss: 0.164079\n",
      "Train Epoch: 20 [500\t/\t4292\t(12%)]\tLoss: 0.167512\n",
      "Train Epoch: 20 [1000\t/\t4292\t(23%)]\tLoss: 0.212360\n",
      "Train Epoch: 20 [1500\t/\t4292\t(35%)]\tLoss: 0.206611\n",
      "Train Epoch: 20 [2000\t/\t4292\t(47%)]\tLoss: 0.232664\n",
      "Train Epoch: 20 [2500\t/\t4292\t(58%)]\tLoss: 0.163214\n",
      "Train Epoch: 20 [3000\t/\t4292\t(70%)]\tLoss: 0.157440\n",
      "Train Epoch: 20 [3500\t/\t4292\t(81%)]\tLoss: 0.185077\n",
      "Train Epoch: 20 [4000\t/\t4292\t(93%)]\tLoss: 0.192052\n",
      "Train: Average loss: 16.2718, Accuracy: 3089/4292 (71%)\n",
      "Evaluate: Average loss: 7.3429, Accuracy: 599/1074 (55%)\n",
      "\n",
      "Train Epoch: 21 [0\t/\t4292\t(0%)]\tLoss: 0.192538\n",
      "Train Epoch: 21 [500\t/\t4292\t(12%)]\tLoss: 0.203189\n",
      "Train Epoch: 21 [1000\t/\t4292\t(23%)]\tLoss: 0.167462\n",
      "Train Epoch: 21 [1500\t/\t4292\t(35%)]\tLoss: 0.173581\n",
      "Train Epoch: 21 [2000\t/\t4292\t(47%)]\tLoss: 0.188574\n",
      "Train Epoch: 21 [2500\t/\t4292\t(58%)]\tLoss: 0.188073\n",
      "Train Epoch: 21 [3000\t/\t4292\t(70%)]\tLoss: 0.163109\n",
      "Train Epoch: 21 [3500\t/\t4292\t(81%)]\tLoss: 0.223367\n",
      "Train Epoch: 21 [4000\t/\t4292\t(93%)]\tLoss: 0.159821\n",
      "Train: Average loss: 15.9700, Accuracy: 3129/4292 (72%)\n",
      "Evaluate: Average loss: 7.5793, Accuracy: 585/1074 (54%)\n",
      "\n",
      "Train Epoch: 22 [0\t/\t4292\t(0%)]\tLoss: 0.212677\n",
      "Train Epoch: 22 [500\t/\t4292\t(12%)]\tLoss: 0.146672\n",
      "Train Epoch: 22 [1000\t/\t4292\t(23%)]\tLoss: 0.196214\n",
      "Train Epoch: 22 [1500\t/\t4292\t(35%)]\tLoss: 0.177749\n",
      "Train Epoch: 22 [2000\t/\t4292\t(47%)]\tLoss: 0.190928\n",
      "Train Epoch: 22 [2500\t/\t4292\t(58%)]\tLoss: 0.246439\n",
      "Train Epoch: 22 [3000\t/\t4292\t(70%)]\tLoss: 0.151708\n",
      "Train Epoch: 22 [3500\t/\t4292\t(81%)]\tLoss: 0.151244\n",
      "Train Epoch: 22 [4000\t/\t4292\t(93%)]\tLoss: 0.170560\n",
      "Train: Average loss: 15.8916, Accuracy: 3130/4292 (72%)\n",
      "Evaluate: Average loss: 7.2585, Accuracy: 592/1074 (55%)\n",
      "\n",
      "Train Epoch: 23 [0\t/\t4292\t(0%)]\tLoss: 0.152884\n",
      "Train Epoch: 23 [500\t/\t4292\t(12%)]\tLoss: 0.201887\n",
      "Train Epoch: 23 [1000\t/\t4292\t(23%)]\tLoss: 0.262777\n",
      "Train Epoch: 23 [1500\t/\t4292\t(35%)]\tLoss: 0.144383\n",
      "Train Epoch: 23 [2000\t/\t4292\t(47%)]\tLoss: 0.143703\n",
      "Train Epoch: 23 [2500\t/\t4292\t(58%)]\tLoss: 0.180569\n",
      "Train Epoch: 23 [3000\t/\t4292\t(70%)]\tLoss: 0.147011\n",
      "Train Epoch: 23 [3500\t/\t4292\t(81%)]\tLoss: 0.173030\n",
      "Train Epoch: 23 [4000\t/\t4292\t(93%)]\tLoss: 0.135896\n",
      "Train: Average loss: 15.7655, Accuracy: 3133/4292 (72%)\n",
      "Evaluate: Average loss: 7.5743, Accuracy: 582/1074 (54%)\n",
      "\n",
      "Train Epoch: 24 [0\t/\t4292\t(0%)]\tLoss: 0.201855\n",
      "Train Epoch: 24 [500\t/\t4292\t(12%)]\tLoss: 0.112681\n",
      "Train Epoch: 24 [1000\t/\t4292\t(23%)]\tLoss: 0.154782\n",
      "Train Epoch: 24 [1500\t/\t4292\t(35%)]\tLoss: 0.188483\n",
      "Train Epoch: 24 [2000\t/\t4292\t(47%)]\tLoss: 0.192274\n",
      "Train Epoch: 24 [2500\t/\t4292\t(58%)]\tLoss: 0.159117\n",
      "Train Epoch: 24 [3000\t/\t4292\t(70%)]\tLoss: 0.141785\n",
      "Train Epoch: 24 [3500\t/\t4292\t(81%)]\tLoss: 0.233841\n",
      "Train Epoch: 24 [4000\t/\t4292\t(93%)]\tLoss: 0.198905\n",
      "Train: Average loss: 15.3838, Accuracy: 3168/4292 (73%)\n",
      "Evaluate: Average loss: 8.0045, Accuracy: 578/1074 (53%)\n",
      "\n",
      "Train Epoch: 25 [0\t/\t4292\t(0%)]\tLoss: 0.207049\n",
      "Train Epoch: 25 [500\t/\t4292\t(12%)]\tLoss: 0.155462\n",
      "Train Epoch: 25 [1000\t/\t4292\t(23%)]\tLoss: 0.218062\n",
      "Train Epoch: 25 [1500\t/\t4292\t(35%)]\tLoss: 0.184119\n",
      "Train Epoch: 25 [2000\t/\t4292\t(47%)]\tLoss: 0.187043\n",
      "Train Epoch: 25 [2500\t/\t4292\t(58%)]\tLoss: 0.189986\n",
      "Train Epoch: 25 [3000\t/\t4292\t(70%)]\tLoss: 0.127840\n",
      "Train Epoch: 25 [3500\t/\t4292\t(81%)]\tLoss: 0.169374\n",
      "Train Epoch: 25 [4000\t/\t4292\t(93%)]\tLoss: 0.172335\n",
      "Train: Average loss: 15.4561, Accuracy: 3144/4292 (73%)\n",
      "Evaluate: Average loss: 7.8073, Accuracy: 579/1074 (53%)\n",
      "\n",
      "Train Epoch: 26 [0\t/\t4292\t(0%)]\tLoss: 0.139164\n",
      "Train Epoch: 26 [500\t/\t4292\t(12%)]\tLoss: 0.154148\n",
      "Train Epoch: 26 [1000\t/\t4292\t(23%)]\tLoss: 0.157066\n",
      "Train Epoch: 26 [1500\t/\t4292\t(35%)]\tLoss: 0.119476\n",
      "Train Epoch: 26 [2000\t/\t4292\t(47%)]\tLoss: 0.171229\n",
      "Train Epoch: 26 [2500\t/\t4292\t(58%)]\tLoss: 0.194177\n",
      "Train Epoch: 26 [3000\t/\t4292\t(70%)]\tLoss: 0.189210\n",
      "Train Epoch: 26 [3500\t/\t4292\t(81%)]\tLoss: 0.139336\n",
      "Train Epoch: 26 [4000\t/\t4292\t(93%)]\tLoss: 0.203473\n",
      "Train: Average loss: 14.8621, Accuracy: 3221/4292 (75%)\n",
      "Evaluate: Average loss: 7.8472, Accuracy: 575/1074 (53%)\n",
      "\n",
      "Train Epoch: 27 [0\t/\t4292\t(0%)]\tLoss: 0.188206\n",
      "Train Epoch: 27 [500\t/\t4292\t(12%)]\tLoss: 0.184963\n",
      "Train Epoch: 27 [1000\t/\t4292\t(23%)]\tLoss: 0.211544\n",
      "Train Epoch: 27 [1500\t/\t4292\t(35%)]\tLoss: 0.150616\n",
      "Train Epoch: 27 [2000\t/\t4292\t(47%)]\tLoss: 0.169814\n",
      "Train Epoch: 27 [2500\t/\t4292\t(58%)]\tLoss: 0.136910\n",
      "Train Epoch: 27 [3000\t/\t4292\t(70%)]\tLoss: 0.177742\n",
      "Train Epoch: 27 [3500\t/\t4292\t(81%)]\tLoss: 0.160422\n",
      "Train Epoch: 27 [4000\t/\t4292\t(93%)]\tLoss: 0.183406\n",
      "Train: Average loss: 14.7685, Accuracy: 3201/4292 (74%)\n",
      "Evaluate: Average loss: 7.9066, Accuracy: 575/1074 (53%)\n",
      "\n",
      "Train Epoch: 28 [0\t/\t4292\t(0%)]\tLoss: 0.228845\n",
      "Train Epoch: 28 [500\t/\t4292\t(12%)]\tLoss: 0.202984\n",
      "Train Epoch: 28 [1000\t/\t4292\t(23%)]\tLoss: 0.199345\n",
      "Train Epoch: 28 [1500\t/\t4292\t(35%)]\tLoss: 0.201802\n",
      "Train Epoch: 28 [2000\t/\t4292\t(47%)]\tLoss: 0.161776\n",
      "Train Epoch: 28 [2500\t/\t4292\t(58%)]\tLoss: 0.197706\n",
      "Train Epoch: 28 [3000\t/\t4292\t(70%)]\tLoss: 0.144840\n",
      "Train Epoch: 28 [3500\t/\t4292\t(81%)]\tLoss: 0.249349\n",
      "Train Epoch: 28 [4000\t/\t4292\t(93%)]\tLoss: 0.134958\n",
      "Train: Average loss: 14.4241, Accuracy: 3263/4292 (76%)\n",
      "Evaluate: Average loss: 8.0759, Accuracy: 594/1074 (55%)\n",
      "\n",
      "Train Epoch: 29 [0\t/\t4292\t(0%)]\tLoss: 0.163379\n"
     ]
    },
    {
     "name": "stdout",
     "output_type": "stream",
     "text": [
      "Train Epoch: 29 [500\t/\t4292\t(12%)]\tLoss: 0.132504\n",
      "Train Epoch: 29 [1000\t/\t4292\t(23%)]\tLoss: 0.217950\n",
      "Train Epoch: 29 [1500\t/\t4292\t(35%)]\tLoss: 0.166647\n",
      "Train Epoch: 29 [2000\t/\t4292\t(47%)]\tLoss: 0.204504\n",
      "Train Epoch: 29 [2500\t/\t4292\t(58%)]\tLoss: 0.199280\n",
      "Train Epoch: 29 [3000\t/\t4292\t(70%)]\tLoss: 0.175694\n",
      "Train Epoch: 29 [3500\t/\t4292\t(81%)]\tLoss: 0.192021\n",
      "Train Epoch: 29 [4000\t/\t4292\t(93%)]\tLoss: 0.203386\n",
      "Train: Average loss: 14.4501, Accuracy: 3256/4292 (75%)\n",
      "Evaluate: Average loss: 7.8212, Accuracy: 596/1074 (55%)\n",
      "\n"
     ]
    }
   ],
   "source": [
    "loss_fn = nn.BCELoss()\n",
    "log_interval = 10\n",
    "max_epochs = 30\n",
    "learning_rate = 1e-3\n",
    "optimiser = optim.Adam(model.parameters(), lr=learning_rate)\n",
    "\n",
    "train_loss_hist = np.zeros(max_epochs)\n",
    "eval_loss_hist = np.zeros(max_epochs)\n",
    "\n",
    "for epoch in range(max_epochs):\n",
    "  \n",
    "    train_loss, train_pred, train_target = train(epoch, model, train_loader, device, optimiser, loss_fn, log_interval)\n",
    "    train_loss_hist[epoch] = train_loss\n",
    "    \n",
    "    valid_loss, valid_pred, valid_target = evaluate(model, valid_loader, device, loss_fn=nn.BCELoss())\n",
    "    eval_loss_hist[epoch] = valid_loss"
   ]
  },
  {
   "cell_type": "code",
   "execution_count": 25,
   "metadata": {},
   "outputs": [
    {
     "data": {
      "image/png": "[encoded data removed]",
      "text/plain": [
       "<Figure size 432x288 with 1 Axes>"
      ]
     },
     "metadata": {
      "needs_background": "light"
     },
     "output_type": "display_data"
    }
   ],
   "source": [
    "import matplotlib.pyplot as plt\n",
    "plt.plot(train_loss_hist, color='skyblue')\n",
    "plt.plot(eval_loss_hist, color='red')\n",
    "plt.ylabel('Historic Loss')\n",
    "plt.show()"
   ]
  },
  {
   "cell_type": "code",
   "execution_count": 26,
   "metadata": {},
   "outputs": [
    {
     "name": "stderr",
     "output_type": "stream",
     "text": [
      "/home/david/anaconda3/envs/tf36/lib/python3.6/site-packages/torch/serialization.py:250: UserWarning: Couldn't retrieve source code for container of type ElmoClassifier. It won't be checked for correctness upon loading.\n",
      "  \"type \" + obj.__name__ + \". It won't be checked \"\n"
     ]
    }
   ],
   "source": [
    "model_path = 'pytorch_isear_dense_elmo_model.h5'\n",
    "weight_path = 'pytorch_isear_dense_elmo_weights.h5'\n",
    "\n",
    "torch.save(model.state_dict(), weight_path)\n",
    "torch.save(model, model_path)"
   ]
  },
  {
   "cell_type": "code",
   "execution_count": 27,
   "metadata": {},
   "outputs": [
    {
     "name": "stderr",
     "output_type": "stream",
     "text": [
      "/home/david/anaconda3/envs/tf36/lib/python3.6/site-packages/ipykernel_launcher.py:41: UserWarning: Implicit dimension choice for softmax has been deprecated. Change the call to include dim=X as an argument.\n"
     ]
    },
    {
     "name": "stdout",
     "output_type": "stream",
     "text": [
      "Evaluate: Average loss: 16.6365, Accuracy: 1237/2300 (53%)\n",
      "\n"
     ]
    }
   ],
   "source": [
    "test_loss, test_pred, test_target = evaluate(model, test_loader, device, loss_fn)"
   ]
  },
  {
   "cell_type": "code",
   "execution_count": 28,
   "metadata": {},
   "outputs": [
    {
     "data": {
      "text/html": [
       "<div>\n",
       "<style scoped>\n",
       "    .dataframe tbody tr th:only-of-type {\n",
       "        vertical-align: middle;\n",
       "    }\n",
       "\n",
       "    .dataframe tbody tr th {\n",
       "        vertical-align: top;\n",
       "    }\n",
       "\n",
       "    .dataframe thead th {\n",
       "        text-align: right;\n",
       "    }\n",
       "</style>\n",
       "<table border=\"1\" class=\"dataframe\">\n",
       "  <thead>\n",
       "    <tr style=\"text-align: right;\">\n",
       "      <th></th>\n",
       "      <th>anger</th>\n",
       "      <th>disgust</th>\n",
       "      <th>fear</th>\n",
       "      <th>guilt</th>\n",
       "      <th>joy</th>\n",
       "      <th>sadness</th>\n",
       "      <th>shame</th>\n",
       "    </tr>\n",
       "  </thead>\n",
       "  <tbody>\n",
       "    <tr>\n",
       "      <th>anger</th>\n",
       "      <td>135</td>\n",
       "      <td>52</td>\n",
       "      <td>7</td>\n",
       "      <td>52</td>\n",
       "      <td>12</td>\n",
       "      <td>21</td>\n",
       "      <td>50</td>\n",
       "    </tr>\n",
       "    <tr>\n",
       "      <th>disgust</th>\n",
       "      <td>59</td>\n",
       "      <td>192</td>\n",
       "      <td>10</td>\n",
       "      <td>24</td>\n",
       "      <td>8</td>\n",
       "      <td>13</td>\n",
       "      <td>23</td>\n",
       "    </tr>\n",
       "    <tr>\n",
       "      <th>fear</th>\n",
       "      <td>28</td>\n",
       "      <td>27</td>\n",
       "      <td>192</td>\n",
       "      <td>30</td>\n",
       "      <td>14</td>\n",
       "      <td>26</td>\n",
       "      <td>11</td>\n",
       "    </tr>\n",
       "    <tr>\n",
       "      <th>guilt</th>\n",
       "      <td>47</td>\n",
       "      <td>23</td>\n",
       "      <td>10</td>\n",
       "      <td>166</td>\n",
       "      <td>6</td>\n",
       "      <td>18</td>\n",
       "      <td>58</td>\n",
       "    </tr>\n",
       "    <tr>\n",
       "      <th>joy</th>\n",
       "      <td>12</td>\n",
       "      <td>18</td>\n",
       "      <td>5</td>\n",
       "      <td>17</td>\n",
       "      <td>238</td>\n",
       "      <td>21</td>\n",
       "      <td>17</td>\n",
       "    </tr>\n",
       "    <tr>\n",
       "      <th>sadness</th>\n",
       "      <td>38</td>\n",
       "      <td>23</td>\n",
       "      <td>12</td>\n",
       "      <td>33</td>\n",
       "      <td>25</td>\n",
       "      <td>185</td>\n",
       "      <td>13</td>\n",
       "    </tr>\n",
       "    <tr>\n",
       "      <th>shame</th>\n",
       "      <td>36</td>\n",
       "      <td>34</td>\n",
       "      <td>9</td>\n",
       "      <td>91</td>\n",
       "      <td>12</td>\n",
       "      <td>18</td>\n",
       "      <td>129</td>\n",
       "    </tr>\n",
       "  </tbody>\n",
       "</table>\n",
       "</div>"
      ],
      "text/plain": [
       "         anger  disgust  fear  guilt  joy  sadness  shame\n",
       "anger      135       52     7     52   12       21     50\n",
       "disgust     59      192    10     24    8       13     23\n",
       "fear        28       27   192     30   14       26     11\n",
       "guilt       47       23    10    166    6       18     58\n",
       "joy         12       18     5     17  238       21     17\n",
       "sadness     38       23    12     33   25      185     13\n",
       "shame       36       34     9     91   12       18    129"
      ]
     },
     "execution_count": 28,
     "metadata": {},
     "output_type": "execute_result"
    }
   ],
   "source": [
    "from sklearn.metrics import confusion_matrix, precision_recall_fscore_support, accuracy_score\n",
    "\n",
    "cf_matrix = confusion_matrix(test_target, test_pred)\n",
    "\n",
    "df_cm = pd.DataFrame(\n",
    "    cf_matrix, index=labels, columns=labels, \n",
    ")\n",
    "\n",
    "df_cm"
   ]
  },
  {
   "cell_type": "code",
   "execution_count": 29,
   "metadata": {},
   "outputs": [],
   "source": [
    "import seaborn as sns\n",
    "\n",
    "def print_confusion_matrix(confusion_matrix, class_names, figsize = (4,3), fontsize=15):\n",
    "    \"\"\"Prints a confusion matrix, as returned by sklearn.metrics.confusion_matrix, as a heatmap.\n",
    "    \n",
    "    Arguments\n",
    "    ---------\n",
    "    confusion_matrix: numpy.ndarray\n",
    "        The numpy.ndarray object returned from a call to sklearn.metrics.confusion_matrix. \n",
    "        Similarly constructed ndarrays can also be used.\n",
    "    class_names: list\n",
    "        An ordered list of class names, in the order they index the given confusion matrix.\n",
    "    figsize: tuple\n",
    "        A 2-long tuple, the first value determining the horizontal size of the ouputted figure,\n",
    "        the second determining the vertical size. Defaults to (10,7).\n",
    "    fontsize: int\n",
    "        Font size for axes labels. Defaults to 14.\n",
    "        \n",
    "    Returns\n",
    "    -------\n",
    "    matplotlib.figure.Figure\n",
    "        The resulting confusion matrix figure\n",
    "    \"\"\"\n",
    "    df_cm = pd.DataFrame(\n",
    "        confusion_matrix, index=class_names, columns=class_names, \n",
    "    )\n",
    "    fig = plt.figure(figsize=figsize)\n",
    "    try:\n",
    "        heatmap = sns.heatmap(df_cm, annot=True, fmt=\"d\")\n",
    "    except ValueError:\n",
    "        raise ValueError(\"Confusion matrix values must be integers.\")\n",
    "    heatmap.yaxis.set_ticklabels(heatmap.yaxis.get_ticklabels(), rotation=0, ha='right', fontsize=fontsize)\n",
    "    heatmap.xaxis.set_ticklabels(heatmap.xaxis.get_ticklabels(), rotation=45, ha='right', fontsize=fontsize)\n",
    "    plt.ylabel('True label')\n",
    "    plt.xlabel('Predicted label')\n",
    "    return fig"
   ]
  },
  {
   "cell_type": "code",
   "execution_count": 30,
   "metadata": {},
   "outputs": [
    {
     "name": "stdout",
     "output_type": "stream",
     "text": [
      "Figure(288x216)\n"
     ]
    },
    {
     "data": {
      "image/png": "[encoded data removed]",
      "text/plain": [
       "<Figure size 288x216 with 2 Axes>"
      ]
     },
     "metadata": {
      "needs_background": "light"
     },
     "output_type": "display_data"
    }
   ],
   "source": [
    "print(print_confusion_matrix(cf_matrix, class_names=labels))"
   ]
  },
  {
   "cell_type": "code",
   "execution_count": 31,
   "metadata": {},
   "outputs": [
    {
     "name": "stdout",
     "output_type": "stream",
     "text": [
      "test accuracy: 0.5378260869565218\n"
     ]
    }
   ],
   "source": [
    "test_accuracy = accuracy_score(test_target, test_pred)\n",
    "print(\"test accuracy:\", test_accuracy)"
   ]
  },
  {
   "cell_type": "markdown",
   "metadata": {},
   "source": [
    "### Performance score for each classes"
   ]
  },
  {
   "cell_type": "code",
   "execution_count": 32,
   "metadata": {},
   "outputs": [
    {
     "data": {
      "text/html": [
       "<div>\n",
       "<style scoped>\n",
       "    .dataframe tbody tr th:only-of-type {\n",
       "        vertical-align: middle;\n",
       "    }\n",
       "\n",
       "    .dataframe tbody tr th {\n",
       "        vertical-align: top;\n",
       "    }\n",
       "\n",
       "    .dataframe thead th {\n",
       "        text-align: right;\n",
       "    }\n",
       "</style>\n",
       "<table border=\"1\" class=\"dataframe\">\n",
       "  <thead>\n",
       "    <tr style=\"text-align: right;\">\n",
       "      <th></th>\n",
       "      <th>precision</th>\n",
       "      <th>recall</th>\n",
       "      <th>f1-score</th>\n",
       "      <th>support</th>\n",
       "    </tr>\n",
       "  </thead>\n",
       "  <tbody>\n",
       "    <tr>\n",
       "      <th>anger</th>\n",
       "      <td>0.3803</td>\n",
       "      <td>0.4103</td>\n",
       "      <td>0.3947</td>\n",
       "      <td>329</td>\n",
       "    </tr>\n",
       "    <tr>\n",
       "      <th>disgust</th>\n",
       "      <td>0.5203</td>\n",
       "      <td>0.5836</td>\n",
       "      <td>0.5501</td>\n",
       "      <td>329</td>\n",
       "    </tr>\n",
       "    <tr>\n",
       "      <th>fear</th>\n",
       "      <td>0.7837</td>\n",
       "      <td>0.5854</td>\n",
       "      <td>0.6702</td>\n",
       "      <td>328</td>\n",
       "    </tr>\n",
       "    <tr>\n",
       "      <th>guilt</th>\n",
       "      <td>0.4019</td>\n",
       "      <td>0.5061</td>\n",
       "      <td>0.4480</td>\n",
       "      <td>328</td>\n",
       "    </tr>\n",
       "    <tr>\n",
       "      <th>joy</th>\n",
       "      <td>0.7556</td>\n",
       "      <td>0.7256</td>\n",
       "      <td>0.7403</td>\n",
       "      <td>328</td>\n",
       "    </tr>\n",
       "    <tr>\n",
       "      <th>sadness</th>\n",
       "      <td>0.6126</td>\n",
       "      <td>0.5623</td>\n",
       "      <td>0.5864</td>\n",
       "      <td>329</td>\n",
       "    </tr>\n",
       "    <tr>\n",
       "      <th>shame</th>\n",
       "      <td>0.4286</td>\n",
       "      <td>0.3921</td>\n",
       "      <td>0.4095</td>\n",
       "      <td>329</td>\n",
       "    </tr>\n",
       "  </tbody>\n",
       "</table>\n",
       "</div>"
      ],
      "text/plain": [
       "         precision  recall  f1-score  support\n",
       "anger       0.3803  0.4103    0.3947      329\n",
       "disgust     0.5203  0.5836    0.5501      329\n",
       "fear        0.7837  0.5854    0.6702      328\n",
       "guilt       0.4019  0.5061    0.4480      328\n",
       "joy         0.7556  0.7256    0.7403      328\n",
       "sadness     0.6126  0.5623    0.5864      329\n",
       "shame       0.4286  0.3921    0.4095      329"
      ]
     },
     "execution_count": 32,
     "metadata": {},
     "output_type": "execute_result"
    }
   ],
   "source": [
    "precision, recall, fscore, support = precision_recall_fscore_support(test_target, test_pred)\n",
    "score_dict = {\n",
    "  \"precision\": precision.round(4),\n",
    "  \"recall\": recall.round(4),\n",
    "  \"f1-score\": fscore.round(4),\n",
    "  \"support\": support.round(4)\n",
    "}\n",
    "score_df = pd.DataFrame(score_dict, index=labels)\n",
    "score_df"
   ]
  },
  {
   "cell_type": "markdown",
   "metadata": {},
   "source": [
    "### Cohen Kappa Score"
   ]
  },
  {
   "cell_type": "code",
   "execution_count": 33,
   "metadata": {},
   "outputs": [
    {
     "name": "stdout",
     "output_type": "stream",
     "text": [
      "kappa: 0.4607955895024406\n"
     ]
    }
   ],
   "source": [
    "from sklearn.metrics import cohen_kappa_score\n",
    "\n",
    "kappa_score = cohen_kappa_score(test_target, test_pred)\n",
    "print(\"kappa:\", kappa_score)"
   ]
  },
  {
   "cell_type": "code",
   "execution_count": null,
   "metadata": {},
   "outputs": [],
   "source": []
  }
 ],
 "metadata": {
  "kernelspec": {
   "display_name": "Python 3",
   "language": "python",
   "name": "python3"
  },
  "language_info": {
   "codemirror_mode": {
    "name": "ipython",
    "version": 3
   },
   "file_extension": ".py",
   "mimetype": "text/x-python",
   "name": "python",
   "nbconvert_exporter": "python",
   "pygments_lexer": "ipython3",
   "version": "3.6.7"
  }
 },
 "nbformat": 4,
 "nbformat_minor": 2
}
