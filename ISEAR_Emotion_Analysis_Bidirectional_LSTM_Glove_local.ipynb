{
 "cells": [
  {
   "cell_type": "code",
   "execution_count": 1,
   "metadata": {},
   "outputs": [
    {
     "name": "stderr",
     "output_type": "stream",
     "text": [
      "Using TensorFlow backend.\n"
     ]
    },
    {
     "name": "stdout",
     "output_type": "stream",
     "text": [
      "1.10.0\n",
      "['/job:localhost/replica:0/task:0/device:GPU:0']\n"
     ]
    }
   ],
   "source": [
    "import os\n",
    "os.environ[\"CUDA_DEVICE_ORDER\"]=\"PCI_BUS_ID\"\n",
    "# The GPU id to use, usually either \"0\" or \"1\"\n",
    "os.environ[\"CUDA_VISIBLE_DEVICES\"]=\"2\"\n",
    "\n",
    "import tensorflow as tf\n",
    "from keras import backend as K\n",
    "print(tf.__version__)\n",
    "print(K.tensorflow_backend._get_available_gpus())"
   ]
  },
  {
   "cell_type": "code",
   "execution_count": 2,
   "metadata": {
    "colab": {
     "base_uri": "https://localhost:8080/",
     "height": 53
    },
    "colab_type": "code",
    "id": "OdaHCMv2rGKs",
    "outputId": "52ab27e8-cef8-4112-8444-af74aa5fdc69"
   },
   "outputs": [
    {
     "name": "stdout",
     "output_type": "stream",
     "text": [
      "1.10.0\n"
     ]
    }
   ],
   "source": [
    "import os\n",
    "import tensorflow as tf\n",
    "from tensorflow import keras\n",
    "import numpy as np\n",
    "import urllib.request\n",
    "import pandas as pd\n",
    "from gensim.test.utils import common_texts, get_tmpfile\n",
    "from gensim.utils import simple_preprocess\n",
    "from gensim.models import Word2Vec\n",
    "from tempfile import gettempdir\n",
    "import zipfile\n",
    "from keras.preprocessing.text import Tokenizer\n",
    "from keras.preprocessing.sequence import pad_sequences\n",
    "from keras.utils import to_categorical\n",
    "from sklearn.model_selection import train_test_split\n",
    "from sklearn.metrics import confusion_matrix, precision_recall_fscore_support, accuracy_score\n",
    "from sklearn.model_selection import train_test_split\n",
    "import matplotlib.pyplot as plt\n",
    "import seaborn as sns\n",
    "from collections import Counter\n",
    "\n",
    "print(tf.__version__)"
   ]
  },
  {
   "cell_type": "code",
   "execution_count": 3,
   "metadata": {},
   "outputs": [],
   "source": [
    "from numpy.random import seed\n",
    "from tensorflow import set_random_seed\n",
    "\n",
    "RANDOM_SEED = 20190101\n",
    "\n",
    "def set_random(random_seed):\n",
    "    seed(random_seed)\n",
    "    set_random_seed(random_seed)\n",
    "\n",
    "set_random(RANDOM_SEED)"
   ]
  },
  {
   "cell_type": "code",
   "execution_count": 4,
   "metadata": {
    "colab": {},
    "colab_type": "code",
    "id": "oBynQmEcrNAy"
   },
   "outputs": [],
   "source": [
    "class ISEARDataset(object):\n",
    "  FILENAME = \"data/isear_databank.csv\"\n",
    "  EMOTION_CLASSES = [\"anger\", \"disgust\", \"fear\", \"guilt\", \"joy\", \"sadness\", \"shame\"]\n",
    "  EMOTION_CLASSES_DICT = {\"anger\": 0, \"disgust\": 1, \"fear\": 2, \"guilt\": 3, \"joy\": 4, \"sadness\": 5, \"shame\": 6}\n",
    "  RANDOM_STATE = 41\n",
    "  \n",
    "  def get_classes(self):\n",
    "    return self.EMOTION_CLASSES\n",
    "  \n",
    "  def get_classes_dict(self):\n",
    "    return self.EMOTION_CLASSES_DICT\n",
    "  \n",
    "  def __load_data_file(self):\n",
    "    data = pd.read_csv(self.FILENAME)\n",
    "    data[\"emotion\"] = data[\"Field1\"]\n",
    "    data[\"text\"] = data[\"SIT\"]\n",
    "    return data[[\"text\", \"emotion\"]]\n",
    "\n",
    "  def load_data(self):\n",
    "    train_data = None\n",
    "    test_data = None\n",
    "    \n",
    "    data = self.__load_data_file()\n",
    "    \n",
    "    train_data, test_data = train_test_split(data, test_size=0.3, random_state=self.RANDOM_STATE, stratify=data[\"emotion\"].values)\n",
    "    return train_data, test_data"
   ]
  },
  {
   "cell_type": "code",
   "execution_count": 5,
   "metadata": {
    "colab": {
     "base_uri": "https://localhost:8080/",
     "height": 89
    },
    "colab_type": "code",
    "id": "XH3qUR6yBTJA",
    "outputId": "f441c777-dde9-496e-ee3c-12d8c5558a0f"
   },
   "outputs": [
    {
     "name": "stdout",
     "output_type": "stream",
     "text": [
      "train_data.shape: (4829, 2)\n",
      "valid_data.shape: (537, 2)\n",
      "test_data.shape: (2300, 2)\n"
     ]
    }
   ],
   "source": [
    "isear_dataset = ISEARDataset()\n",
    "train_data, test_data = isear_dataset.load_data()\n",
    "train_data, valid_data = train_test_split(train_data, test_size=0.1, random_state=200, stratify=train_data.emotion)\n",
    "\n",
    "print(\"train_data.shape:\", train_data.shape)\n",
    "print(\"valid_data.shape:\", valid_data.shape)\n",
    "print(\"test_data.shape:\", test_data.shape)"
   ]
  },
  {
   "cell_type": "code",
   "execution_count": 6,
   "metadata": {
    "colab": {
     "base_uri": "https://localhost:8080/",
     "height": 416
    },
    "colab_type": "code",
    "id": "Obaz_HS7uTNe",
    "outputId": "de4a99fd-3eb9-42f8-e595-efda6a1e1ae0"
   },
   "outputs": [
    {
     "name": "stdout",
     "output_type": "stream",
     "text": [
      "{'anger': 0, 'disgust': 1, 'fear': 2, 'guilt': 3, 'joy': 4, 'sadness': 5, 'shame': 6}\n",
      "['anger', 'disgust', 'fear', 'guilt', 'joy', 'sadness', 'shame']\n",
      "7\n"
     ]
    },
    {
     "data": {
      "image/png": "[encoded data removed]",
      "text/plain": [
       "<Figure size 432x288 with 1 Axes>"
      ]
     },
     "metadata": {
      "needs_background": "light"
     },
     "output_type": "display_data"
    }
   ],
   "source": [
    "dic = isear_dataset.get_classes_dict()\n",
    "labels = isear_dataset.get_classes()\n",
    "print(dic)\n",
    "print(labels)\n",
    "\n",
    "for emotion in labels:\n",
    "  train_data.loc[train_data.emotion == emotion, \"emotion_int\"] = dic[emotion]\n",
    "  valid_data.loc[valid_data.emotion == emotion, \"emotion_int\"] = dic[emotion]\n",
    "  test_data.loc[test_data.emotion == emotion, \"emotion_int\"] = dic[emotion]\n",
    "  \n",
    "num_bins = len(labels)\n",
    "print(num_bins)\n",
    "bins = [0,1,2,3,4,5,6,7]\n",
    "hist, _ = np.histogram(train_data[\"emotion_int\"], bins=bins)\n",
    "\n",
    "y_pos = np.arange(len(labels))\n",
    "\n",
    "plt.bar(y_pos, hist, align='center', alpha=0.5)\n",
    "plt.xticks(y_pos, labels)\n",
    "plt.ylabel('Number')\n",
    "plt.title('Emotions')\n",
    " \n",
    "plt.show()"
   ]
  },
  {
   "cell_type": "markdown",
   "metadata": {
    "colab_type": "text",
    "id": "YJdxyPflwIhm"
   },
   "source": [
    "### Tokenize training and test dataset"
   ]
  },
  {
   "cell_type": "code",
   "execution_count": 7,
   "metadata": {
    "colab": {
     "base_uri": "https://localhost:8080/",
     "height": 35
    },
    "colab_type": "code",
    "id": "kohmws_IwHqJ",
    "outputId": "b2c9c87f-0a30-41e8-b90f-d0532448bed2"
   },
   "outputs": [
    {
     "name": "stdout",
     "output_type": "stream",
     "text": [
      "Found 7194 unique tokens.\n"
     ]
    }
   ],
   "source": [
    "NUM_WORDS=20000\n",
    "texts = train_data.text\n",
    "tokenizer = Tokenizer(num_words=NUM_WORDS,filters='!\"#$%&()*+,-./:;<=>?@[\\\\]^_`{|}~\\t\\n\\'',\n",
    "                      lower=True)\n",
    "tokenizer.fit_on_texts(texts)\n",
    "sequences_train = tokenizer.texts_to_sequences(texts)\n",
    "sequences_valid = tokenizer.texts_to_sequences(valid_data.text)\n",
    "sequences_test = tokenizer.texts_to_sequences(test_data.text)\n",
    "word_index = tokenizer.word_index\n",
    "print('Found %s unique tokens.' % len(word_index))"
   ]
  },
  {
   "cell_type": "code",
   "execution_count": 8,
   "metadata": {
    "colab": {
     "base_uri": "https://localhost:8080/",
     "height": 53
    },
    "colab_type": "code",
    "id": "0ThyXUt0wYzz",
    "outputId": "845dea3d-2993-4dc3-f5b1-e24fe3c5735f"
   },
   "outputs": [
    {
     "name": "stdout",
     "output_type": "stream",
     "text": [
      "Shape of X train, validation and test tensor: (4829, 192) (537, 192) (2300, 192)\n",
      "Shape of label train, validation and test tensor: (4829, 7) (537, 7) (2300, 7)\n"
     ]
    }
   ],
   "source": [
    "X_train = pad_sequences(sequences_train)\n",
    "X_val = pad_sequences(sequences_valid, maxlen=X_train.shape[1])\n",
    "X_test = pad_sequences(sequences_test, maxlen=X_train.shape[1])\n",
    "\n",
    "y_train = to_categorical(np.asarray(train_data.emotion.apply(lambda x:dic[x])))\n",
    "y_val = to_categorical(np.asarray(valid_data.emotion.apply(lambda x:dic[x])))\n",
    "y_test = to_categorical(np.asarray(test_data.emotion.apply(lambda x:dic[x])))\n",
    "\n",
    "print('Shape of X train, validation and test tensor:', X_train.shape, X_val.shape, X_test.shape)\n",
    "print('Shape of label train, validation and test tensor:', y_train.shape, y_val.shape, y_test.shape)"
   ]
  },
  {
   "cell_type": "code",
   "execution_count": 9,
   "metadata": {
    "colab": {
     "base_uri": "https://localhost:8080/",
     "height": 362
    },
    "colab_type": "code",
    "id": "GnriMPVD81N5",
    "outputId": "88fd85f1-f983-4793-bb26-3dd55d108282"
   },
   "outputs": [
    {
     "data": {
      "image/png": "[encoded data removed]",
      "text/plain": [
       "<Figure size 432x288 with 1 Axes>"
      ]
     },
     "metadata": {
      "needs_background": "light"
     },
     "output_type": "display_data"
    }
   ],
   "source": [
    "hist, _ = np.histogram(y_train, bins=bins)\n",
    "plt.bar(y_pos, hist, align='center', alpha=0.5)\n",
    "plt.xticks(y_pos, labels)\n",
    "plt.ylabel('Number')\n",
    "plt.title('Emotions')\n",
    " \n",
    "plt.show()"
   ]
  },
  {
   "cell_type": "code",
   "execution_count": 10,
   "metadata": {
    "colab": {
     "base_uri": "https://localhost:8080/",
     "height": 362
    },
    "colab_type": "code",
    "id": "NJCFKhSL-ClX",
    "outputId": "49476c44-305e-42ae-e77f-0e3d458ff09f"
   },
   "outputs": [
    {
     "data": {
      "image/png": "[encoded data removed]",
      "text/plain": [
       "<Figure size 432x288 with 1 Axes>"
      ]
     },
     "metadata": {
      "needs_background": "light"
     },
     "output_type": "display_data"
    }
   ],
   "source": [
    "hist, _ = np.histogram(y_val, bins=bins)\n",
    "\n",
    "plt.bar(y_pos, hist, align='center', alpha=0.5)\n",
    "plt.xticks(y_pos, labels)\n",
    "plt.ylabel('Number')\n",
    "plt.title('Emotions')\n",
    " \n",
    "plt.show()"
   ]
  },
  {
   "cell_type": "code",
   "execution_count": 11,
   "metadata": {
    "colab": {
     "base_uri": "https://localhost:8080/",
     "height": 362
    },
    "colab_type": "code",
    "id": "o239sc_L-FDK",
    "outputId": "c18294df-47cf-42d2-a887-df7aa2a89297"
   },
   "outputs": [
    {
     "data": {
      "image/png": "[encoded data removed]",
      "text/plain": [
       "<Figure size 432x288 with 1 Axes>"
      ]
     },
     "metadata": {
      "needs_background": "light"
     },
     "output_type": "display_data"
    }
   ],
   "source": [
    "hist, _ = np.histogram(y_test, bins=bins)\n",
    "\n",
    "plt.bar(y_pos, hist, align='center', alpha=0.5)\n",
    "plt.xticks(y_pos, labels)\n",
    "plt.ylabel('Number')\n",
    "plt.title('Emotions')\n",
    " \n",
    "plt.show()"
   ]
  },
  {
   "cell_type": "markdown",
   "metadata": {},
   "source": [
    "## Word Embedding using Glove"
   ]
  },
  {
   "cell_type": "code",
   "execution_count": null,
   "metadata": {},
   "outputs": [],
   "source": [
    "import requests\n",
    "\n",
    "url = 'http://nlp.stanford.edu/data/glove.twitter.27B.zip'\n",
    "r = requests.get(url, allow_redirects=True)\n",
    "open('glove.twitter.27B.zip', 'wb').write(r.content)"
   ]
  },
  {
   "cell_type": "code",
   "execution_count": null,
   "metadata": {},
   "outputs": [],
   "source": [
    "!ls -lA"
   ]
  },
  {
   "cell_type": "code",
   "execution_count": null,
   "metadata": {},
   "outputs": [],
   "source": [
    "!mv glove.twitter.27B.zip ../../Datasets/WordEmbeddings/glove.twitter.27B.zip\n",
    "!unzip ../../Datasets/WordEmbeddings/glove.twitter.27B.zip"
   ]
  },
  {
   "cell_type": "markdown",
   "metadata": {},
   "source": [
    "### Convert Glove.Twitter to Word2Vec"
   ]
  },
  {
   "cell_type": "code",
   "execution_count": null,
   "metadata": {},
   "outputs": [],
   "source": [
    "from gensim.test.utils import datapath, get_tmpfile\n",
    "from gensim.scripts.glove2word2vec import glove2word2vec\n",
    "\n",
    "glove_file = \"../../Datasets/WordEmbeddings/glove.twitter.27B.200d.txt\"\n",
    "tmp_glove_file = \"../../Datasets/WordEmbeddings/glove.word2vec.twitter.27B.200d.txt\"\n",
    "\n",
    "glove2word2vec(glove_file, tmp_glove_file)"
   ]
  },
  {
   "cell_type": "code",
   "execution_count": 14,
   "metadata": {},
   "outputs": [],
   "source": [
    "import gensim\n",
    "from gensim.models import Word2Vec\n",
    "from gensim.utils import simple_preprocess\n",
    "\n",
    "from gensim.models.keyedvectors import KeyedVectors\n",
    "\n",
    "word_vectors = KeyedVectors.load_word2vec_format('../../Datasets/WordEmbeddings/glove.word2vec.twitter.27B.200d.txt', binary=False)\n",
    "\n",
    "EMBEDDING_DIM=200\n",
    "vocabulary_size = min(len(word_index)+1, NUM_WORDS)\n",
    "embedding_matrix = np.zeros((vocabulary_size, EMBEDDING_DIM))\n",
    "for word, i in word_index.items():\n",
    "    if i>=NUM_WORDS:\n",
    "        continue\n",
    "    try:\n",
    "        embedding_vector = word_vectors[word]\n",
    "        embedding_matrix[i] = embedding_vector\n",
    "    except KeyError:\n",
    "        embedding_matrix[i] = np.random.normal(0,np.sqrt(0.25), EMBEDDING_DIM)\n",
    "\n",
    "del(word_vectors)"
   ]
  },
  {
   "cell_type": "code",
   "execution_count": 15,
   "metadata": {},
   "outputs": [],
   "source": [
    "file_embedded_matrix = \"isear_embedded_matrix_glove_twitter.npy\"\n",
    "np.save(file_embedded_matrix, embedding_matrix)"
   ]
  },
  {
   "cell_type": "code",
   "execution_count": 16,
   "metadata": {},
   "outputs": [],
   "source": [
    "np.save(\"isear_X_train.npy\", X_train)\n",
    "np.save(\"isear_X_val.npy\", X_val)\n",
    "np.save(\"isear_X_test.npy\", X_test)\n",
    "\n",
    "np.save(\"isear_y_train.npy\", y_train)\n",
    "np.save(\"isear_y_val.npy\", y_val)\n",
    "np.save(\"isear_y_test.npy\", y_test)"
   ]
  },
  {
   "cell_type": "markdown",
   "metadata": {},
   "source": [
    "## Reload embedding layer and training dataset"
   ]
  },
  {
   "cell_type": "code",
   "execution_count": 17,
   "metadata": {},
   "outputs": [
    {
     "name": "stdout",
     "output_type": "stream",
     "text": [
      "embedding matrix shape: (7195, 200)\n"
     ]
    }
   ],
   "source": [
    "file_embedded_matrix = \"isear_embedded_matrix_glove_twitter.npy\"\n",
    "embedding_matrix = np.load(file_embedded_matrix)\n",
    "print(\"embedding matrix shape:\", embedding_matrix.shape)"
   ]
  },
  {
   "cell_type": "code",
   "execution_count": 18,
   "metadata": {},
   "outputs": [],
   "source": [
    "X_train = np.load(\"isear_X_train.npy\")\n",
    "X_val = np.load(\"isear_X_val.npy\")\n",
    "X_test = np.load(\"isear_X_test.npy\")\n",
    "\n",
    "y_train = np.load(\"isear_y_train.npy\")\n",
    "y_val = np.load(\"isear_y_val.npy\")\n",
    "y_test = np.load(\"isear_y_test.npy\")"
   ]
  },
  {
   "cell_type": "code",
   "execution_count": 19,
   "metadata": {
    "colab": {
     "base_uri": "https://localhost:8080/",
     "height": 665
    },
    "colab_type": "code",
    "id": "Q0fX0z7_7Mi5",
    "outputId": "8b616edf-551b-4653-be02-4dcdfce95e9c"
   },
   "outputs": [
    {
     "name": "stdout",
     "output_type": "stream",
     "text": [
      "sequence length: 192\n",
      "_________________________________________________________________\n",
      "Layer (type)                 Output Shape              Param #   \n",
      "=================================================================\n",
      "input_1 (InputLayer)         (None, 192)               0         \n",
      "_________________________________________________________________\n",
      "embedding (Embedding)        (None, 192, 200)          1439000   \n",
      "_________________________________________________________________\n",
      "spatial_dropout (SpatialDrop (None, 192, 200)          0         \n",
      "_________________________________________________________________\n",
      "bidirectional_1 (Bidirection (None, 1200)              3844800   \n",
      "_________________________________________________________________\n",
      "output (Dense)               (None, 7)                 8407      \n",
      "=================================================================\n",
      "Total params: 5,292,207\n",
      "Trainable params: 5,292,207\n",
      "Non-trainable params: 0\n",
      "_________________________________________________________________\n"
     ]
    }
   ],
   "source": [
    "from keras.layers import Dense, Input, GlobalMaxPooling1D\n",
    "from keras.layers import Conv1D, MaxPooling1D, Embedding\n",
    "from keras.models import Model\n",
    "from keras.layers import Input, Dense, Embedding, Conv2D, MaxPooling2D, Dropout, concatenate, LSTM, SpatialDropout1D, Bidirectional\n",
    "from keras.layers.core import Reshape, Flatten\n",
    "from keras.callbacks import EarlyStopping, ModelCheckpoint\n",
    "from keras.optimizers import Adam, Adadelta, RMSprop\n",
    "from keras.models import Model\n",
    "from keras import regularizers\n",
    "\n",
    "sequence_length = X_train.shape[1]\n",
    "HIDDEN_DIM = 600\n",
    "DROPOUT_RATE = 0.2\n",
    "N_CLASSES = 7\n",
    "vocabulary_size = embedding_matrix.shape[0]\n",
    "EMBEDDING_DIM=200\n",
    "\n",
    "print(\"sequence length:\", sequence_length)\n",
    "\n",
    "inputs = Input(shape=(sequence_length,), name='input_1')\n",
    "embedding_layer = Embedding(vocabulary_size, EMBEDDING_DIM, weights=[embedding_matrix], input_length=sequence_length, trainable=True, name='embedding')\n",
    "embedding = embedding_layer(inputs)\n",
    "spatial_droput = SpatialDropout1D(0.4, name='spatial_dropout')(embedding)\n",
    "lstm = Bidirectional(LSTM(units=HIDDEN_DIM, dropout=DROPOUT_RATE, recurrent_dropout=DROPOUT_RATE, name='lstm'))(spatial_droput)\n",
    "output = Dense(units=N_CLASSES, activation='softmax', name='output')(lstm)\n",
    "\n",
    "model = None \n",
    "\n",
    "# this creates a model that includes\n",
    "model = Model(inputs, output)\n",
    "\n",
    "model.summary()"
   ]
  },
  {
   "cell_type": "code",
   "execution_count": 20,
   "metadata": {
    "colab": {
     "base_uri": "https://localhost:8080/",
     "height": 1007
    },
    "colab_type": "code",
    "id": "HHZ1POD77GRp",
    "outputId": "ac731521-56ca-421b-d700-a25f81a4ee20",
    "scrolled": true
   },
   "outputs": [
    {
     "name": "stdout",
     "output_type": "stream",
     "text": [
      "Train on 4829 samples, validate on 537 samples\n",
      "Epoch 1/100\n",
      "4829/4829 [==============================] - 24s 5ms/step - loss: 1.9356 - acc: 0.1982 - val_loss: 1.8741 - val_acc: 0.2682\n",
      "\n",
      "Epoch 00001: val_acc improved from -inf to 0.26816, saving model to tmp/weights-01-0.27.hdf5\n",
      "Epoch 2/100\n",
      "4829/4829 [==============================] - 13s 3ms/step - loss: 1.8269 - acc: 0.3214 - val_loss: 1.7637 - val_acc: 0.3520\n",
      "\n",
      "Epoch 00002: val_acc improved from 0.26816 to 0.35196, saving model to tmp/weights-02-0.35.hdf5\n",
      "Epoch 3/100\n",
      "4829/4829 [==============================] - 13s 3ms/step - loss: 1.7279 - acc: 0.3380 - val_loss: 1.6503 - val_acc: 0.3687\n",
      "\n",
      "Epoch 00003: val_acc improved from 0.35196 to 0.36872, saving model to tmp/weights-03-0.37.hdf5\n",
      "Epoch 4/100\n",
      "4829/4829 [==============================] - 13s 3ms/step - loss: 1.6444 - acc: 0.3864 - val_loss: 1.5576 - val_acc: 0.3929\n",
      "\n",
      "Epoch 00004: val_acc improved from 0.36872 to 0.39292, saving model to tmp/weights-04-0.39.hdf5\n",
      "Epoch 5/100\n",
      "4829/4829 [==============================] - 13s 3ms/step - loss: 1.5830 - acc: 0.4028 - val_loss: 1.5121 - val_acc: 0.4395\n",
      "\n",
      "Epoch 00005: val_acc improved from 0.39292 to 0.43948, saving model to tmp/weights-05-0.44.hdf5\n",
      "Epoch 6/100\n",
      "4829/4829 [==============================] - 13s 3ms/step - loss: 1.5469 - acc: 0.4231 - val_loss: 1.5227 - val_acc: 0.4507\n",
      "\n",
      "Epoch 00006: val_acc improved from 0.43948 to 0.45065, saving model to tmp/weights-06-0.45.hdf5\n",
      "Epoch 7/100\n",
      "4829/4829 [==============================] - 13s 3ms/step - loss: 1.4911 - acc: 0.4419 - val_loss: 1.4455 - val_acc: 0.4451\n",
      "\n",
      "Epoch 00007: val_acc did not improve from 0.45065\n",
      "Epoch 8/100\n",
      "4829/4829 [==============================] - 13s 3ms/step - loss: 1.4587 - acc: 0.4616 - val_loss: 1.4436 - val_acc: 0.4711\n",
      "\n",
      "Epoch 00008: val_acc improved from 0.45065 to 0.47114, saving model to tmp/weights-08-0.47.hdf5\n",
      "Epoch 9/100\n",
      "4829/4829 [==============================] - 13s 3ms/step - loss: 1.4104 - acc: 0.4848 - val_loss: 1.3901 - val_acc: 0.4953\n",
      "\n",
      "Epoch 00009: val_acc improved from 0.47114 to 0.49534, saving model to tmp/weights-09-0.50.hdf5\n",
      "Epoch 10/100\n",
      "4829/4829 [==============================] - 13s 3ms/step - loss: 1.3724 - acc: 0.4951 - val_loss: 1.3626 - val_acc: 0.4898\n",
      "\n",
      "Epoch 00010: val_acc did not improve from 0.49534\n",
      "Epoch 11/100\n",
      "4829/4829 [==============================] - 13s 3ms/step - loss: 1.3442 - acc: 0.5096 - val_loss: 1.3429 - val_acc: 0.5233\n",
      "\n",
      "Epoch 00011: val_acc improved from 0.49534 to 0.52328, saving model to tmp/weights-11-0.52.hdf5\n",
      "Epoch 12/100\n",
      "4829/4829 [==============================] - 15s 3ms/step - loss: 1.2973 - acc: 0.5299 - val_loss: 1.2905 - val_acc: 0.5233\n",
      "\n",
      "Epoch 00012: val_acc did not improve from 0.52328\n",
      "Epoch 13/100\n",
      "4829/4829 [==============================] - 14s 3ms/step - loss: 1.2678 - acc: 0.5415 - val_loss: 1.2853 - val_acc: 0.5233\n",
      "\n",
      "Epoch 00013: val_acc did not improve from 0.52328\n",
      "Epoch 14/100\n",
      "4829/4829 [==============================] - 14s 3ms/step - loss: 1.2277 - acc: 0.5525 - val_loss: 1.2758 - val_acc: 0.5307\n",
      "\n",
      "Epoch 00014: val_acc improved from 0.52328 to 0.53073, saving model to tmp/weights-14-0.53.hdf5\n",
      "Epoch 15/100\n",
      "4829/4829 [==============================] - 14s 3ms/step - loss: 1.1866 - acc: 0.5761 - val_loss: 1.2577 - val_acc: 0.5214\n",
      "\n",
      "Epoch 00015: val_acc did not improve from 0.53073\n",
      "Epoch 16/100\n",
      "4829/4829 [==============================] - 14s 3ms/step - loss: 1.1664 - acc: 0.5786 - val_loss: 1.2192 - val_acc: 0.5419\n",
      "\n",
      "Epoch 00016: val_acc improved from 0.53073 to 0.54190, saving model to tmp/weights-16-0.54.hdf5\n",
      "Epoch 17/100\n",
      "4829/4829 [==============================] - 14s 3ms/step - loss: 1.1247 - acc: 0.6020 - val_loss: 1.2069 - val_acc: 0.5624\n",
      "\n",
      "Epoch 00017: val_acc improved from 0.54190 to 0.56238, saving model to tmp/weights-17-0.56.hdf5\n",
      "Epoch 18/100\n",
      "4829/4829 [==============================] - 14s 3ms/step - loss: 1.0848 - acc: 0.6111 - val_loss: 1.2039 - val_acc: 0.5549\n",
      "\n",
      "Epoch 00018: val_acc did not improve from 0.56238\n",
      "Epoch 19/100\n",
      "4829/4829 [==============================] - 14s 3ms/step - loss: 1.0559 - acc: 0.6150 - val_loss: 1.1667 - val_acc: 0.5717\n",
      "\n",
      "Epoch 00019: val_acc improved from 0.56238 to 0.57169, saving model to tmp/weights-19-0.57.hdf5\n",
      "Epoch 20/100\n",
      "4829/4829 [==============================] - 14s 3ms/step - loss: 1.0153 - acc: 0.6366 - val_loss: 1.1525 - val_acc: 0.5810\n",
      "\n",
      "Epoch 00020: val_acc improved from 0.57169 to 0.58101, saving model to tmp/weights-20-0.58.hdf5\n",
      "Epoch 21/100\n",
      "4829/4829 [==============================] - 14s 3ms/step - loss: 0.9773 - acc: 0.6498 - val_loss: 1.1575 - val_acc: 0.5661\n",
      "\n",
      "Epoch 00021: val_acc did not improve from 0.58101\n",
      "Epoch 22/100\n",
      "4829/4829 [==============================] - 14s 3ms/step - loss: 0.9716 - acc: 0.6507 - val_loss: 1.1344 - val_acc: 0.5903\n",
      "\n",
      "Epoch 00022: val_acc improved from 0.58101 to 0.59032, saving model to tmp/weights-22-0.59.hdf5\n",
      "Epoch 23/100\n",
      "4829/4829 [==============================] - 14s 3ms/step - loss: 0.9270 - acc: 0.6635 - val_loss: 1.1470 - val_acc: 0.5922\n",
      "\n",
      "Epoch 00023: val_acc improved from 0.59032 to 0.59218, saving model to tmp/weights-23-0.59.hdf5\n",
      "Epoch 24/100\n",
      "4829/4829 [==============================] - 14s 3ms/step - loss: 0.9161 - acc: 0.6749 - val_loss: 1.1558 - val_acc: 0.5717\n",
      "\n",
      "Epoch 00024: val_acc did not improve from 0.59218\n",
      "Epoch 25/100\n",
      "4829/4829 [==============================] - 14s 3ms/step - loss: 0.9000 - acc: 0.6838 - val_loss: 1.1230 - val_acc: 0.5903\n",
      "\n",
      "Epoch 00025: val_acc did not improve from 0.59218\n",
      "Epoch 26/100\n",
      "4829/4829 [==============================] - 14s 3ms/step - loss: 0.8834 - acc: 0.6898 - val_loss: 1.1235 - val_acc: 0.5885\n",
      "\n",
      "Epoch 00026: val_acc did not improve from 0.59218\n",
      "Epoch 27/100\n",
      "4829/4829 [==============================] - 14s 3ms/step - loss: 0.8427 - acc: 0.7008 - val_loss: 1.1100 - val_acc: 0.6034\n",
      "\n",
      "Epoch 00027: val_acc improved from 0.59218 to 0.60335, saving model to tmp/weights-27-0.60.hdf5\n",
      "Epoch 28/100\n",
      "4829/4829 [==============================] - 14s 3ms/step - loss: 0.8272 - acc: 0.7159 - val_loss: 1.1306 - val_acc: 0.5903\n",
      "\n",
      "Epoch 00028: val_acc did not improve from 0.60335\n",
      "Epoch 29/100\n",
      "4829/4829 [==============================] - 14s 3ms/step - loss: 0.7863 - acc: 0.7217 - val_loss: 1.1365 - val_acc: 0.6015\n",
      "\n",
      "Epoch 00029: val_acc did not improve from 0.60335\n",
      "Epoch 30/100\n",
      "4829/4829 [==============================] - 14s 3ms/step - loss: 0.7802 - acc: 0.7333 - val_loss: 1.1203 - val_acc: 0.5847\n",
      "\n",
      "Epoch 00030: val_acc did not improve from 0.60335\n",
      "Epoch 31/100\n",
      "4829/4829 [==============================] - 14s 3ms/step - loss: 0.7530 - acc: 0.7372 - val_loss: 1.1153 - val_acc: 0.6034\n",
      "\n",
      "Epoch 00031: val_acc did not improve from 0.60335\n",
      "Epoch 32/100\n",
      "4829/4829 [==============================] - 14s 3ms/step - loss: 0.7263 - acc: 0.7467 - val_loss: 1.1451 - val_acc: 0.6145\n",
      "\n",
      "Epoch 00032: val_acc improved from 0.60335 to 0.61453, saving model to tmp/weights-32-0.61.hdf5\n",
      "Epoch 33/100\n",
      "4829/4829 [==============================] - 14s 3ms/step - loss: 0.7101 - acc: 0.7494 - val_loss: 1.1294 - val_acc: 0.6071\n",
      "\n",
      "Epoch 00033: val_acc did not improve from 0.61453\n",
      "Epoch 34/100\n",
      "4829/4829 [==============================] - 14s 3ms/step - loss: 0.6773 - acc: 0.7631 - val_loss: 1.1507 - val_acc: 0.6089\n",
      "\n",
      "Epoch 00034: val_acc did not improve from 0.61453\n",
      "Epoch 35/100\n",
      "4829/4829 [==============================] - 14s 3ms/step - loss: 0.6671 - acc: 0.7612 - val_loss: 1.1491 - val_acc: 0.6034\n",
      "\n",
      "Epoch 00035: val_acc did not improve from 0.61453\n",
      "Epoch 36/100\n",
      "4829/4829 [==============================] - 14s 3ms/step - loss: 0.6186 - acc: 0.7879 - val_loss: 1.1570 - val_acc: 0.6108\n",
      "\n",
      "Epoch 00036: val_acc did not improve from 0.61453\n",
      "Epoch 37/100\n",
      "4829/4829 [==============================] - 13s 3ms/step - loss: 0.6125 - acc: 0.7830 - val_loss: 1.1807 - val_acc: 0.6052\n",
      "\n",
      "Epoch 00037: val_acc did not improve from 0.61453\n"
     ]
    }
   ],
   "source": [
    "adam = Adam(lr=1e-3, decay=0.0)\n",
    "adadelta = Adadelta(lr=1.0, rho=0.95, epsilon=None, decay=0.0)\n",
    "rmsprop = RMSprop(lr=0.001, rho=0.9, epsilon=None, decay=0.0)\n",
    "\n",
    "model.compile(loss='categorical_crossentropy', optimizer=adam, metrics=['acc'])\n",
    "\n",
    "filepath=\"tmp/weights-{epoch:02d}-{val_acc:.2f}.hdf5\"\n",
    "model_checkpoint = ModelCheckpoint(filepath, monitor='val_acc', verbose=1, save_best_only=True, mode='auto')\n",
    "early_stopping = EarlyStopping(monitor='val_loss', patience=10)\n",
    "callbacks = [early_stopping, model_checkpoint]\n",
    "\n",
    "history = model.fit(X_train, y_train, batch_size=1000, epochs=100, verbose=1, validation_data=(X_val, y_val), callbacks=callbacks)  # starts training"
   ]
  },
  {
   "cell_type": "code",
   "execution_count": 21,
   "metadata": {},
   "outputs": [],
   "source": [
    "model_path = 'isear_bidirectional_lstm_glove_twitter_model.h5'\n",
    "weight_path = 'isear_bidirectional_lstm_glove_twitter_weights.h5'\n",
    "\n",
    "model.save(model_path)\n",
    "model.save_weights(weight_path)"
   ]
  },
  {
   "cell_type": "code",
   "execution_count": 22,
   "metadata": {
    "colab": {},
    "colab_type": "code",
    "id": "b0P0vTv-7RC6"
   },
   "outputs": [],
   "source": [
    "sequences_test=tokenizer.texts_to_sequences(test_data.text)\n",
    "X_test = pad_sequences(sequences_test, maxlen=X_test.shape[1])\n",
    "y_pred = model.predict(X_test)\n",
    "\n",
    "y_pred_original = [labels[val] for val in np.argmax(y_pred, axis=1).squeeze()]\n",
    "y_test_original = np.asarray(test_data.emotion)"
   ]
  },
  {
   "cell_type": "code",
   "execution_count": 23,
   "metadata": {
    "colab": {},
    "colab_type": "code",
    "id": "BREyqdCAI9d0"
   },
   "outputs": [],
   "source": [
    "def print_confusion_matrix(confusion_matrix, class_names, figsize = (4,3), fontsize=15):\n",
    "    \"\"\"Prints a confusion matrix, as returned by sklearn.metrics.confusion_matrix, as a heatmap.\n",
    "    \n",
    "    Arguments\n",
    "    ---------\n",
    "    confusion_matrix: numpy.ndarray\n",
    "        The numpy.ndarray object returned from a call to sklearn.metrics.confusion_matrix. \n",
    "        Similarly constructed ndarrays can also be used.\n",
    "    class_names: list\n",
    "        An ordered list of class names, in the order they index the given confusion matrix.\n",
    "    figsize: tuple\n",
    "        A 2-long tuple, the first value determining the horizontal size of the ouputted figure,\n",
    "        the second determining the vertical size. Defaults to (10,7).\n",
    "    fontsize: int\n",
    "        Font size for axes labels. Defaults to 14.\n",
    "        \n",
    "    Returns\n",
    "    -------\n",
    "    matplotlib.figure.Figure\n",
    "        The resulting confusion matrix figure\n",
    "    \"\"\"\n",
    "    df_cm = pd.DataFrame(\n",
    "        confusion_matrix, index=class_names, columns=class_names, \n",
    "    )\n",
    "    fig = plt.figure(figsize=figsize)\n",
    "    try:\n",
    "        heatmap = sns.heatmap(df_cm, annot=True, fmt=\"d\")\n",
    "    except ValueError:\n",
    "        raise ValueError(\"Confusion matrix values must be integers.\")\n",
    "    heatmap.yaxis.set_ticklabels(heatmap.yaxis.get_ticklabels(), rotation=0, ha='right', fontsize=fontsize)\n",
    "    heatmap.xaxis.set_ticklabels(heatmap.xaxis.get_ticklabels(), rotation=45, ha='right', fontsize=fontsize)\n",
    "    plt.ylabel('True label')\n",
    "    plt.xlabel('Predicted label')\n",
    "    return fig"
   ]
  },
  {
   "cell_type": "code",
   "execution_count": 24,
   "metadata": {
    "colab": {
     "base_uri": "https://localhost:8080/",
     "height": 266
    },
    "colab_type": "code",
    "id": "XG9HPQb10TZm",
    "outputId": "148a07cc-b59e-4da4-b8d8-fc2335505840"
   },
   "outputs": [
    {
     "data": {
      "text/html": [
       "<div>\n",
       "<style scoped>\n",
       "    .dataframe tbody tr th:only-of-type {\n",
       "        vertical-align: middle;\n",
       "    }\n",
       "\n",
       "    .dataframe tbody tr th {\n",
       "        vertical-align: top;\n",
       "    }\n",
       "\n",
       "    .dataframe thead th {\n",
       "        text-align: right;\n",
       "    }\n",
       "</style>\n",
       "<table border=\"1\" class=\"dataframe\">\n",
       "  <thead>\n",
       "    <tr style=\"text-align: right;\">\n",
       "      <th></th>\n",
       "      <th>anger</th>\n",
       "      <th>disgust</th>\n",
       "      <th>fear</th>\n",
       "      <th>guilt</th>\n",
       "      <th>joy</th>\n",
       "      <th>sadness</th>\n",
       "      <th>shame</th>\n",
       "    </tr>\n",
       "  </thead>\n",
       "  <tbody>\n",
       "    <tr>\n",
       "      <th>anger</th>\n",
       "      <td>185</td>\n",
       "      <td>26</td>\n",
       "      <td>10</td>\n",
       "      <td>37</td>\n",
       "      <td>18</td>\n",
       "      <td>19</td>\n",
       "      <td>34</td>\n",
       "    </tr>\n",
       "    <tr>\n",
       "      <th>disgust</th>\n",
       "      <td>53</td>\n",
       "      <td>198</td>\n",
       "      <td>17</td>\n",
       "      <td>7</td>\n",
       "      <td>22</td>\n",
       "      <td>12</td>\n",
       "      <td>20</td>\n",
       "    </tr>\n",
       "    <tr>\n",
       "      <th>fear</th>\n",
       "      <td>20</td>\n",
       "      <td>13</td>\n",
       "      <td>221</td>\n",
       "      <td>19</td>\n",
       "      <td>25</td>\n",
       "      <td>15</td>\n",
       "      <td>15</td>\n",
       "    </tr>\n",
       "    <tr>\n",
       "      <th>guilt</th>\n",
       "      <td>60</td>\n",
       "      <td>11</td>\n",
       "      <td>12</td>\n",
       "      <td>151</td>\n",
       "      <td>17</td>\n",
       "      <td>18</td>\n",
       "      <td>59</td>\n",
       "    </tr>\n",
       "    <tr>\n",
       "      <th>joy</th>\n",
       "      <td>10</td>\n",
       "      <td>5</td>\n",
       "      <td>6</td>\n",
       "      <td>6</td>\n",
       "      <td>269</td>\n",
       "      <td>20</td>\n",
       "      <td>12</td>\n",
       "    </tr>\n",
       "    <tr>\n",
       "      <th>sadness</th>\n",
       "      <td>37</td>\n",
       "      <td>8</td>\n",
       "      <td>12</td>\n",
       "      <td>17</td>\n",
       "      <td>32</td>\n",
       "      <td>198</td>\n",
       "      <td>25</td>\n",
       "    </tr>\n",
       "    <tr>\n",
       "      <th>shame</th>\n",
       "      <td>35</td>\n",
       "      <td>18</td>\n",
       "      <td>17</td>\n",
       "      <td>54</td>\n",
       "      <td>26</td>\n",
       "      <td>10</td>\n",
       "      <td>169</td>\n",
       "    </tr>\n",
       "  </tbody>\n",
       "</table>\n",
       "</div>"
      ],
      "text/plain": [
       "         anger  disgust  fear  guilt  joy  sadness  shame\n",
       "anger      185       26    10     37   18       19     34\n",
       "disgust     53      198    17      7   22       12     20\n",
       "fear        20       13   221     19   25       15     15\n",
       "guilt       60       11    12    151   17       18     59\n",
       "joy         10        5     6      6  269       20     12\n",
       "sadness     37        8    12     17   32      198     25\n",
       "shame       35       18    17     54   26       10    169"
      ]
     },
     "execution_count": 24,
     "metadata": {},
     "output_type": "execute_result"
    }
   ],
   "source": [
    "cf_matrix = confusion_matrix(y_test_original, y_pred_original, labels=labels)\n",
    "\n",
    "df_cm = pd.DataFrame(\n",
    "    cf_matrix, index=labels, columns=labels, \n",
    ")\n",
    "\n",
    "df_cm"
   ]
  },
  {
   "cell_type": "code",
   "execution_count": 25,
   "metadata": {
    "colab": {
     "base_uri": "https://localhost:8080/",
     "height": 282
    },
    "colab_type": "code",
    "id": "59xnXmbEAKXy",
    "outputId": "0c492fd0-65db-4d33-b271-653754517489"
   },
   "outputs": [
    {
     "name": "stdout",
     "output_type": "stream",
     "text": [
      "Figure(288x216)\n"
     ]
    },
    {
     "data": {
      "image/png": "[encoded data removed]",
      "text/plain": [
       "<Figure size 288x216 with 2 Axes>"
      ]
     },
     "metadata": {
      "needs_background": "light"
     },
     "output_type": "display_data"
    }
   ],
   "source": [
    "print(print_confusion_matrix(cf_matrix, class_names=labels))"
   ]
  },
  {
   "cell_type": "code",
   "execution_count": 26,
   "metadata": {
    "colab": {
     "base_uri": "https://localhost:8080/",
     "height": 35
    },
    "colab_type": "code",
    "id": "9XE5c4LJEZXy",
    "outputId": "dc792a8e-8cd7-42f6-8897-c3d44fc0bbc5"
   },
   "outputs": [
    {
     "name": "stdout",
     "output_type": "stream",
     "text": [
      "test accuracy: 0.6047826086956521\n"
     ]
    }
   ],
   "source": [
    "test_accuracy = accuracy_score(y_test_original, y_pred_original)\n",
    "print(\"test accuracy:\", test_accuracy)"
   ]
  },
  {
   "cell_type": "markdown",
   "metadata": {
    "colab_type": "text",
    "id": "jAISNDCVwvR7"
   },
   "source": [
    "### Performance score for each classes"
   ]
  },
  {
   "cell_type": "code",
   "execution_count": 27,
   "metadata": {
    "colab": {
     "base_uri": "https://localhost:8080/",
     "height": 266
    },
    "colab_type": "code",
    "id": "iFb9Q6A1DcXi",
    "outputId": "a226d743-4e83-46a9-f1a4-d29911fb96c6"
   },
   "outputs": [
    {
     "data": {
      "text/html": [
       "<div>\n",
       "<style scoped>\n",
       "    .dataframe tbody tr th:only-of-type {\n",
       "        vertical-align: middle;\n",
       "    }\n",
       "\n",
       "    .dataframe tbody tr th {\n",
       "        vertical-align: top;\n",
       "    }\n",
       "\n",
       "    .dataframe thead th {\n",
       "        text-align: right;\n",
       "    }\n",
       "</style>\n",
       "<table border=\"1\" class=\"dataframe\">\n",
       "  <thead>\n",
       "    <tr style=\"text-align: right;\">\n",
       "      <th></th>\n",
       "      <th>precision</th>\n",
       "      <th>recall</th>\n",
       "      <th>f1-score</th>\n",
       "      <th>support</th>\n",
       "    </tr>\n",
       "  </thead>\n",
       "  <tbody>\n",
       "    <tr>\n",
       "      <th>anger</th>\n",
       "      <td>0.4625</td>\n",
       "      <td>0.5623</td>\n",
       "      <td>0.5075</td>\n",
       "      <td>329</td>\n",
       "    </tr>\n",
       "    <tr>\n",
       "      <th>disgust</th>\n",
       "      <td>0.7097</td>\n",
       "      <td>0.6018</td>\n",
       "      <td>0.6513</td>\n",
       "      <td>329</td>\n",
       "    </tr>\n",
       "    <tr>\n",
       "      <th>fear</th>\n",
       "      <td>0.7492</td>\n",
       "      <td>0.6738</td>\n",
       "      <td>0.7095</td>\n",
       "      <td>328</td>\n",
       "    </tr>\n",
       "    <tr>\n",
       "      <th>guilt</th>\n",
       "      <td>0.5189</td>\n",
       "      <td>0.4604</td>\n",
       "      <td>0.4879</td>\n",
       "      <td>328</td>\n",
       "    </tr>\n",
       "    <tr>\n",
       "      <th>joy</th>\n",
       "      <td>0.6577</td>\n",
       "      <td>0.8201</td>\n",
       "      <td>0.7300</td>\n",
       "      <td>328</td>\n",
       "    </tr>\n",
       "    <tr>\n",
       "      <th>sadness</th>\n",
       "      <td>0.6781</td>\n",
       "      <td>0.6018</td>\n",
       "      <td>0.6377</td>\n",
       "      <td>329</td>\n",
       "    </tr>\n",
       "    <tr>\n",
       "      <th>shame</th>\n",
       "      <td>0.5060</td>\n",
       "      <td>0.5137</td>\n",
       "      <td>0.5098</td>\n",
       "      <td>329</td>\n",
       "    </tr>\n",
       "  </tbody>\n",
       "</table>\n",
       "</div>"
      ],
      "text/plain": [
       "         precision  recall  f1-score  support\n",
       "anger       0.4625  0.5623    0.5075      329\n",
       "disgust     0.7097  0.6018    0.6513      329\n",
       "fear        0.7492  0.6738    0.7095      328\n",
       "guilt       0.5189  0.4604    0.4879      328\n",
       "joy         0.6577  0.8201    0.7300      328\n",
       "sadness     0.6781  0.6018    0.6377      329\n",
       "shame       0.5060  0.5137    0.5098      329"
      ]
     },
     "execution_count": 27,
     "metadata": {},
     "output_type": "execute_result"
    }
   ],
   "source": [
    "precision, recall, fscore, support = precision_recall_fscore_support(y_test_original, y_pred_original)\n",
    "score_dict = {\n",
    "  \"precision\": precision.round(4),\n",
    "  \"recall\": recall.round(4),\n",
    "  \"f1-score\": fscore.round(4),\n",
    "  \"support\": support.round(4)\n",
    "}\n",
    "score_df = pd.DataFrame(score_dict, index=labels)\n",
    "score_df"
   ]
  },
  {
   "cell_type": "markdown",
   "metadata": {
    "colab_type": "text",
    "id": "cHi1Gw7Oz1zG"
   },
   "source": [
    "### Performance score using micro average"
   ]
  },
  {
   "cell_type": "code",
   "execution_count": 28,
   "metadata": {
    "colab": {
     "base_uri": "https://localhost:8080/",
     "height": 80
    },
    "colab_type": "code",
    "id": "KP69PDE9D_jz",
    "outputId": "744435f3-1047-4c33-dc52-ac88d2f62e89"
   },
   "outputs": [
    {
     "data": {
      "text/html": [
       "<div>\n",
       "<style scoped>\n",
       "    .dataframe tbody tr th:only-of-type {\n",
       "        vertical-align: middle;\n",
       "    }\n",
       "\n",
       "    .dataframe tbody tr th {\n",
       "        vertical-align: top;\n",
       "    }\n",
       "\n",
       "    .dataframe thead th {\n",
       "        text-align: right;\n",
       "    }\n",
       "</style>\n",
       "<table border=\"1\" class=\"dataframe\">\n",
       "  <thead>\n",
       "    <tr style=\"text-align: right;\">\n",
       "      <th></th>\n",
       "      <th>precision</th>\n",
       "      <th>recall</th>\n",
       "      <th>f1-score</th>\n",
       "      <th>support</th>\n",
       "    </tr>\n",
       "  </thead>\n",
       "  <tbody>\n",
       "    <tr>\n",
       "      <th>score</th>\n",
       "      <td>0.6048</td>\n",
       "      <td>0.6048</td>\n",
       "      <td>0.6048</td>\n",
       "      <td>None</td>\n",
       "    </tr>\n",
       "  </tbody>\n",
       "</table>\n",
       "</div>"
      ],
      "text/plain": [
       "       precision  recall  f1-score support\n",
       "score     0.6048  0.6048    0.6048    None"
      ]
     },
     "execution_count": 28,
     "metadata": {},
     "output_type": "execute_result"
    }
   ],
   "source": [
    "precision, recall, fscore, support = precision_recall_fscore_support(y_test_original, y_pred_original, average=\"micro\")\n",
    "score_dict = {\n",
    "  \"precision\": precision.round(4),\n",
    "  \"recall\": recall.round(4),\n",
    "  \"f1-score\": fscore.round(4),\n",
    "  \"support\": support\n",
    "}\n",
    "score_df = pd.DataFrame(score_dict, index=[\"score\"])\n",
    "score_df"
   ]
  },
  {
   "cell_type": "markdown",
   "metadata": {
    "colab_type": "text",
    "id": "IWXNCktiz8Vb"
   },
   "source": [
    "### Performance score using macro average"
   ]
  },
  {
   "cell_type": "code",
   "execution_count": 29,
   "metadata": {
    "colab": {
     "base_uri": "https://localhost:8080/",
     "height": 80
    },
    "colab_type": "code",
    "id": "g4e0vsNIydDs",
    "outputId": "483d7037-366b-43d0-cf8e-22c3c88206e2"
   },
   "outputs": [
    {
     "data": {
      "text/html": [
       "<div>\n",
       "<style scoped>\n",
       "    .dataframe tbody tr th:only-of-type {\n",
       "        vertical-align: middle;\n",
       "    }\n",
       "\n",
       "    .dataframe tbody tr th {\n",
       "        vertical-align: top;\n",
       "    }\n",
       "\n",
       "    .dataframe thead th {\n",
       "        text-align: right;\n",
       "    }\n",
       "</style>\n",
       "<table border=\"1\" class=\"dataframe\">\n",
       "  <thead>\n",
       "    <tr style=\"text-align: right;\">\n",
       "      <th></th>\n",
       "      <th>precision</th>\n",
       "      <th>recall</th>\n",
       "      <th>f1-score</th>\n",
       "      <th>support</th>\n",
       "    </tr>\n",
       "  </thead>\n",
       "  <tbody>\n",
       "    <tr>\n",
       "      <th>score</th>\n",
       "      <td>0.6117</td>\n",
       "      <td>0.6048</td>\n",
       "      <td>0.6048</td>\n",
       "      <td>None</td>\n",
       "    </tr>\n",
       "  </tbody>\n",
       "</table>\n",
       "</div>"
      ],
      "text/plain": [
       "       precision  recall  f1-score support\n",
       "score     0.6117  0.6048    0.6048    None"
      ]
     },
     "execution_count": 29,
     "metadata": {},
     "output_type": "execute_result"
    }
   ],
   "source": [
    "precision, recall, fscore, support = precision_recall_fscore_support(y_test_original, y_pred_original, average=\"macro\")\n",
    "score_dict = {\n",
    "  \"precision\": precision.round(4),\n",
    "  \"recall\": recall.round(4),\n",
    "  \"f1-score\": fscore.round(4),\n",
    "  \"support\": support\n",
    "}\n",
    "score_df = pd.DataFrame(score_dict, index=[\"score\"])\n",
    "score_df"
   ]
  },
  {
   "cell_type": "markdown",
   "metadata": {
    "colab_type": "text",
    "id": "wFJFH7u6z-oG"
   },
   "source": [
    "### Performance score using weighted average"
   ]
  },
  {
   "cell_type": "code",
   "execution_count": 30,
   "metadata": {
    "colab": {
     "base_uri": "https://localhost:8080/",
     "height": 80
    },
    "colab_type": "code",
    "id": "z99JkHjuzv68",
    "outputId": "3f344bb2-be50-4b46-d22c-995d4f5b4c73"
   },
   "outputs": [
    {
     "data": {
      "text/html": [
       "<div>\n",
       "<style scoped>\n",
       "    .dataframe tbody tr th:only-of-type {\n",
       "        vertical-align: middle;\n",
       "    }\n",
       "\n",
       "    .dataframe tbody tr th {\n",
       "        vertical-align: top;\n",
       "    }\n",
       "\n",
       "    .dataframe thead th {\n",
       "        text-align: right;\n",
       "    }\n",
       "</style>\n",
       "<table border=\"1\" class=\"dataframe\">\n",
       "  <thead>\n",
       "    <tr style=\"text-align: right;\">\n",
       "      <th></th>\n",
       "      <th>precision</th>\n",
       "      <th>recall</th>\n",
       "      <th>f1-score</th>\n",
       "      <th>support</th>\n",
       "    </tr>\n",
       "  </thead>\n",
       "  <tbody>\n",
       "    <tr>\n",
       "      <th>score</th>\n",
       "      <td>0.6117</td>\n",
       "      <td>0.6048</td>\n",
       "      <td>0.6048</td>\n",
       "      <td>None</td>\n",
       "    </tr>\n",
       "  </tbody>\n",
       "</table>\n",
       "</div>"
      ],
      "text/plain": [
       "       precision  recall  f1-score support\n",
       "score     0.6117  0.6048    0.6048    None"
      ]
     },
     "execution_count": 30,
     "metadata": {},
     "output_type": "execute_result"
    }
   ],
   "source": [
    "precision, recall, fscore, support = precision_recall_fscore_support(y_test_original, y_pred_original, average=\"weighted\")\n",
    "score_dict = {\n",
    "  \"precision\": precision.round(4),\n",
    "  \"recall\": recall.round(4),\n",
    "  \"f1-score\": fscore.round(4),\n",
    "  \"support\": support\n",
    "}\n",
    "score_df = pd.DataFrame(score_dict, index=[\"score\"])\n",
    "score_df"
   ]
  },
  {
   "cell_type": "markdown",
   "metadata": {},
   "source": [
    "### Cohen Kappa Score"
   ]
  },
  {
   "cell_type": "code",
   "execution_count": 31,
   "metadata": {
    "colab": {},
    "colab_type": "code",
    "id": "7iO_O16noNuN"
   },
   "outputs": [
    {
     "name": "stdout",
     "output_type": "stream",
     "text": [
      "kappa: 0.5389139877312791\n"
     ]
    }
   ],
   "source": [
    "from sklearn.metrics import cohen_kappa_score\n",
    "\n",
    "kappa_score = cohen_kappa_score(y_test_original, y_pred_original, labels=labels)\n",
    "print(\"kappa:\", kappa_score)"
   ]
  },
  {
   "cell_type": "code",
   "execution_count": null,
   "metadata": {},
   "outputs": [],
   "source": []
  }
 ],
 "metadata": {
  "accelerator": "GPU",
  "colab": {
   "collapsed_sections": [],
   "include_colab_link": true,
   "name": "ISEAR-Emotion-Analysis-ConvNet.ipynb",
   "provenance": [],
   "version": "0.3.2"
  },
  "kernelspec": {
   "display_name": "Python 3",
   "language": "python",
   "name": "python3"
  },
  "language_info": {
   "codemirror_mode": {
    "name": "ipython",
    "version": 3
   },
   "file_extension": ".py",
   "mimetype": "text/x-python",
   "name": "python",
   "nbconvert_exporter": "python",
   "pygments_lexer": "ipython3",
   "version": "3.6.7"
  }
 },
 "nbformat": 4,
 "nbformat_minor": 1
}
