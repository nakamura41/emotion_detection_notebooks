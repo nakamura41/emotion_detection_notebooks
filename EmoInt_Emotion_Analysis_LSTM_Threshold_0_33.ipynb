{
  "nbformat": 4,
  "nbformat_minor": 0,
  "metadata": {
    "colab": {
      "name": "EmoInt-Emotion-Analysis-LSTM-Threshold-0.33.ipynb",
      "version": "0.3.2",
      "provenance": [],
      "collapsed_sections": [],
      "include_colab_link": true
    },
    "kernelspec": {
      "name": "python3",
      "display_name": "Python 3"
    },
    "accelerator": "GPU"
  },
  "cells": [
    {
      "cell_type": "markdown",
      "metadata": {
        "id": "view-in-github",
        "colab_type": "text"
      },
      "source": [
        "<a href=\"https://colab.research.google.com/github/nakamura41/emotion_detection_notebooks/blob/master/EmoInt_Emotion_Analysis_LSTM_Threshold_0_33.ipynb\" target=\"_parent\"><img src=\"https://colab.research.google.com/assets/colab-badge.svg\" alt=\"Open In Colab\"/></a>"
      ]
    },
    {
      "metadata": {
        "id": "wRzS3ihSifMc",
        "colab_type": "code",
        "outputId": "34ada150-e01e-4088-bb4a-7e1907d6a0bb",
        "colab": {
          "base_uri": "https://localhost:8080/",
          "height": 341
        }
      },
      "cell_type": "code",
      "source": [
        "!pip install PyDrive"
      ],
      "execution_count": 1,
      "outputs": [
        {
          "output_type": "stream",
          "text": [
            "Collecting PyDrive\n",
            "\u001b[?25l  Downloading https://files.pythonhosted.org/packages/52/e0/0e64788e5dd58ce2d6934549676243dc69d982f198524be9b99e9c2a4fd5/PyDrive-1.3.1.tar.gz (987kB)\n",
            "\u001b[K    100% |████████████████████████████████| 993kB 20.9MB/s \n",
            "\u001b[?25hRequirement already satisfied: google-api-python-client>=1.2 in /usr/local/lib/python3.6/dist-packages (from PyDrive) (1.6.7)\n",
            "Requirement already satisfied: oauth2client>=4.0.0 in /usr/local/lib/python3.6/dist-packages (from PyDrive) (4.1.3)\n",
            "Requirement already satisfied: PyYAML>=3.0 in /usr/local/lib/python3.6/dist-packages (from PyDrive) (3.13)\n",
            "Requirement already satisfied: httplib2<1dev,>=0.9.2 in /usr/local/lib/python3.6/dist-packages (from google-api-python-client>=1.2->PyDrive) (0.11.3)\n",
            "Requirement already satisfied: six<2dev,>=1.6.1 in /usr/local/lib/python3.6/dist-packages (from google-api-python-client>=1.2->PyDrive) (1.11.0)\n",
            "Requirement already satisfied: uritemplate<4dev,>=3.0.0 in /usr/local/lib/python3.6/dist-packages (from google-api-python-client>=1.2->PyDrive) (3.0.0)\n",
            "Requirement already satisfied: pyasn1-modules>=0.0.5 in /usr/local/lib/python3.6/dist-packages (from oauth2client>=4.0.0->PyDrive) (0.2.2)\n",
            "Requirement already satisfied: rsa>=3.1.4 in /usr/local/lib/python3.6/dist-packages (from oauth2client>=4.0.0->PyDrive) (4.0)\n",
            "Requirement already satisfied: pyasn1>=0.1.7 in /usr/local/lib/python3.6/dist-packages (from oauth2client>=4.0.0->PyDrive) (0.4.4)\n",
            "Building wheels for collected packages: PyDrive\n",
            "  Running setup.py bdist_wheel for PyDrive ... \u001b[?25l-\b \b\\\b \bdone\n",
            "\u001b[?25h  Stored in directory: /root/.cache/pip/wheels/fa/d2/9a/d3b6b506c2da98289e5d417215ce34b696db856643bad779f4\n",
            "Successfully built PyDrive\n",
            "Installing collected packages: PyDrive\n",
            "Successfully installed PyDrive-1.3.1\n"
          ],
          "name": "stdout"
        }
      ]
    },
    {
      "metadata": {
        "id": "OdaHCMv2rGKs",
        "colab_type": "code",
        "outputId": "36bf9995-3b5c-449f-ed99-17188cae4491",
        "colab": {
          "base_uri": "https://localhost:8080/",
          "height": 53
        }
      },
      "cell_type": "code",
      "source": [
        "import os\n",
        "import tensorflow as tf\n",
        "from tensorflow import keras\n",
        "import numpy as np\n",
        "import urllib.request\n",
        "import pandas as pd\n",
        "from gensim.test.utils import common_texts, get_tmpfile\n",
        "from gensim.utils import simple_preprocess\n",
        "from gensim.models import Word2Vec\n",
        "from tempfile import gettempdir\n",
        "import zipfile\n",
        "from keras.preprocessing.text import Tokenizer\n",
        "from keras.preprocessing.sequence import pad_sequences\n",
        "from keras.utils import to_categorical\n",
        "from pydrive.auth import GoogleAuth\n",
        "from pydrive.drive import GoogleDrive\n",
        "from google.colab import auth\n",
        "from oauth2client.client import GoogleCredentials\n",
        "from sklearn.model_selection import train_test_split\n",
        "from sklearn.metrics import confusion_matrix, precision_recall_fscore_support, accuracy_score\n",
        "import matplotlib.pyplot as plt\n",
        "import seaborn as sns\n",
        "\n",
        "print(tf.__version__)"
      ],
      "execution_count": 2,
      "outputs": [
        {
          "output_type": "stream",
          "text": [
            "Using TensorFlow backend.\n"
          ],
          "name": "stderr"
        },
        {
          "output_type": "stream",
          "text": [
            "1.12.0\n"
          ],
          "name": "stdout"
        }
      ]
    },
    {
      "metadata": {
        "id": "VMhX1N2k4SgY",
        "colab_type": "code",
        "colab": {}
      },
      "cell_type": "code",
      "source": [
        "# 1. Authenticate and create the PyDrive client.\n",
        "auth.authenticate_user()\n",
        "gauth = GoogleAuth()\n",
        "gauth.credentials = GoogleCredentials.get_application_default()\n",
        "drive = GoogleDrive(gauth)"
      ],
      "execution_count": 0,
      "outputs": []
    },
    {
      "metadata": {
        "id": "6FJlfk614hrw",
        "colab_type": "code",
        "colab": {}
      },
      "cell_type": "code",
      "source": [
        "# download google drive file\n",
        "def download_drive_file(drive_directory, filename):\n",
        "  list_file_query = \"title='{}' and trashed=false\".format(drive_directory)\n",
        "  file_list = drive.ListFile({'q': list_file_query}).GetList()\n",
        "\n",
        "  if len(file_list) > 0:\n",
        "    directory_id = file_list[0]['id']\n",
        "\n",
        "    list_file_query = \"'{}' in parents\".format(directory_id)\n",
        "\n",
        "    file_list = drive.ListFile({'q': list_file_query}).GetList()\n",
        "    \n",
        "    file_id = None\n",
        "    for file1 in file_list:\n",
        "      if file1['title'] == filename:\n",
        "        print(\"downloading file {}\".format(file1['title']))\n",
        "        file1.GetContentFile(file1['title'])"
      ],
      "execution_count": 0,
      "outputs": []
    },
    {
      "metadata": {
        "id": "2KRH2n6dEvz3",
        "colab_type": "code",
        "colab": {}
      },
      "cell_type": "code",
      "source": [
        "# upload google drive file\n",
        "def upload_drive_file(drive_directory, filename):\n",
        "  list_file_query = \"title='{}' and trashed=false\".format(drive_directory)\n",
        "  file_list = drive.ListFile({'q': list_file_query}).GetList()\n",
        "\n",
        "  if len(file_list) > 0:\n",
        "    directory_id = file_list[0]['id']\n",
        "    file = drive.CreateFile({\n",
        "        'title': filename, \n",
        "        \"parents\": [{\"kind\": \"drive#fileLink\",\"id\": directory_id}]\n",
        "    })\n",
        "    file.SetContentFile(filename)\n",
        "    file.Upload()"
      ],
      "execution_count": 0,
      "outputs": []
    },
    {
      "metadata": {
        "id": "zFoyaJyBEyOZ",
        "colab_type": "code",
        "colab": {}
      },
      "cell_type": "code",
      "source": [
        "def save_numpy_array(numpy_array, filename):\n",
        "  np.save(filename, numpy_array)\n",
        "  \n",
        "def save_n_upload_numpy_array(numpy_array, drive_directory, filename):\n",
        "  save_numpy_array(numpy_array, filename)\n",
        "  upload_drive_file(drive_directory, filename)"
      ],
      "execution_count": 0,
      "outputs": []
    },
    {
      "metadata": {
        "id": "oBynQmEcrNAy",
        "colab_type": "code",
        "colab": {}
      },
      "cell_type": "code",
      "source": [
        "class EmoIntDataset(object):\n",
        "  BASE_URL = \"http://saifmohammad.com/WebDocs/\"\n",
        "  TRAIN_URI = \"EmoInt%20Train%20Data/{}-ratings-0to1.train.txt\"\n",
        "  TEST_URI = \"EmoInt%20Test%20Gold%20Data/{}-ratings-0to1.test.gold.txt\"\n",
        "  EMOTION_CLASSES = [\"anger\", \"fear\", \"joy\", \"sadness\"]\n",
        "  \n",
        "  THRESHOLD = 0.33\n",
        "  \n",
        "  def __load_data_per_class(self, url, threshold=0):\n",
        "    resource = urllib.request.urlopen(url)\n",
        "    np_array = np.asarray([line.split('\\t') for line in [line.strip() for line in resource.read().decode('utf-8').splitlines()]])\n",
        "    df = pd.DataFrame(np_array, columns=[\"id\", \"text\", \"emotion\", \"emotion_level\"])\n",
        "    df['emotion_level'] = df['emotion_level'].astype(float)\n",
        "    df = df.query('emotion_level>' + str(threshold))\n",
        "    return df[[\"text\", \"emotion\"]]\n",
        "  \n",
        "  def load_data(self, set_threshold=False):\n",
        "    train_data = None\n",
        "    test_data = None\n",
        "    \n",
        "    for emotion in self.EMOTION_CLASSES:\n",
        "      # load train dataset\n",
        "      train_df = self.__load_data_per_class(self.BASE_URL + self.TRAIN_URI.format(emotion), threshold=(self.THRESHOLD if set_threshold else 0))\n",
        "      \n",
        "      # load test dataset\n",
        "      test_df = self.__load_data_per_class(self.BASE_URL + self.TEST_URI.format(emotion), threshold=(self.THRESHOLD if set_threshold else 0))\n",
        "      \n",
        "      train_data = (train_df if train_data is None else train_data.append(train_df))\n",
        "      test_data = (test_df if test_data is None else test_data.append(test_df))\n",
        "      \n",
        "    return train_data, test_data"
      ],
      "execution_count": 0,
      "outputs": []
    },
    {
      "metadata": {
        "id": "tevwfq4Tu6fe",
        "colab_type": "code",
        "outputId": "e82f7cdf-513c-4564-af37-fb00b57ff4fd",
        "colab": {
          "base_uri": "https://localhost:8080/",
          "height": 71
        }
      },
      "cell_type": "code",
      "source": [
        "emo_int_dataset = EmoIntDataset()\n",
        "train_data, test_data = emo_int_dataset.load_data(set_threshold=True)\n",
        "train_data, valid_data = train_test_split(train_data, test_size=0.1, random_state=200, stratify=train_data.emotion)\n",
        "\n",
        "print(train_data.shape)\n",
        "print(valid_data.shape)\n",
        "print(test_data.shape)"
      ],
      "execution_count": 8,
      "outputs": [
        {
          "output_type": "stream",
          "text": [
            "(2610, 2)\n",
            "(291, 2)\n",
            "(2508, 2)\n"
          ],
          "name": "stdout"
        }
      ]
    },
    {
      "metadata": {
        "id": "J-xXkD_4175U",
        "colab_type": "code",
        "outputId": "6fe3405b-ad85-4bb1-e79b-99bcd922c2dc",
        "colab": {
          "base_uri": "https://localhost:8080/",
          "height": 53
        }
      },
      "cell_type": "code",
      "source": [
        "emotions = train_data.emotion.unique()\n",
        "dic = dict()\n",
        "labels = []\n",
        "for i, emotion in enumerate(emotions):\n",
        "    dic[emotion]=i\n",
        "    labels.append(emotion)\n",
        "print(dic)\n",
        "print(labels)"
      ],
      "execution_count": 9,
      "outputs": [
        {
          "output_type": "stream",
          "text": [
            "{'fear': 0, 'anger': 1, 'sadness': 2, 'joy': 3}\n",
            "['fear', 'anger', 'sadness', 'joy']\n"
          ],
          "name": "stdout"
        }
      ]
    },
    {
      "metadata": {
        "id": "yhA_GXLyw1gx",
        "colab_type": "code",
        "outputId": "7a35d0e0-e9ce-41fa-d87a-b8fdb0b8114a",
        "colab": {
          "base_uri": "https://localhost:8080/",
          "height": 35
        }
      },
      "cell_type": "code",
      "source": [
        "NUM_WORDS=20000\n",
        "texts = train_data.text\n",
        "tokenizer = Tokenizer(num_words=NUM_WORDS,filters='!\"#$%&()*+,-./:;<=>?@[\\\\]^_`{|}~\\t\\n\\'',\n",
        "                      lower=True)\n",
        "tokenizer.fit_on_texts(texts)\n",
        "sequences_train = tokenizer.texts_to_sequences(texts)\n",
        "sequences_valid = tokenizer.texts_to_sequences(valid_data.text)\n",
        "sequences_test = tokenizer.texts_to_sequences(test_data.text)\n",
        "word_index = tokenizer.word_index\n",
        "print('Found %s unique tokens.' % len(word_index))"
      ],
      "execution_count": 10,
      "outputs": [
        {
          "output_type": "stream",
          "text": [
            "Found 8672 unique tokens.\n"
          ],
          "name": "stdout"
        }
      ]
    },
    {
      "metadata": {
        "id": "f3a8LX2z0Vn3",
        "colab_type": "code",
        "outputId": "a20de544-51c0-449c-afcb-478cf744eef3",
        "colab": {
          "base_uri": "https://localhost:8080/",
          "height": 53
        }
      },
      "cell_type": "code",
      "source": [
        "X_train = pad_sequences(sequences_train)\n",
        "X_val = pad_sequences(sequences_valid, maxlen=X_train.shape[1])\n",
        "X_test = pad_sequences(sequences_test, maxlen=X_train.shape[1])\n",
        "\n",
        "y_train = to_categorical(np.asarray(train_data.emotion.apply(lambda x:dic[x])))\n",
        "y_val = to_categorical(np.asarray(valid_data.emotion.apply(lambda x:dic[x])))\n",
        "y_test = to_categorical(np.asarray(test_data.emotion.apply(lambda x:dic[x])))\n",
        "\n",
        "print('Shape of X train, validation and test tensor:', X_train.shape, X_val.shape, X_test.shape)\n",
        "print('Shape of label train, validation and test tensor:', y_train.shape, y_val.shape, y_test.shape)"
      ],
      "execution_count": 0,
      "outputs": [
        {
          "output_type": "stream",
          "text": [
            "Shape of X train, validation and test tensor: (2610, 33) (291, 33) (2508, 33)\n",
            "Shape of label train, validation and test tensor: (2610, 4) (291, 4) (2508, 4)\n"
          ],
          "name": "stdout"
        }
      ]
    },
    {
      "metadata": {
        "id": "WPzDX7qc6eQx",
        "colab_type": "code",
        "colab": {}
      },
      "cell_type": "code",
      "source": [
        "download_drive_file(\"Datasets\", \"GoogleNews-vectors-negative300.bin.gz\")"
      ],
      "execution_count": 0,
      "outputs": []
    },
    {
      "metadata": {
        "id": "naD_jPLlmlFq",
        "colab_type": "code",
        "colab": {}
      },
      "cell_type": "code",
      "source": [
        "import gensim\n",
        "from gensim.models import Word2Vec\n",
        "from gensim.utils import simple_preprocess\n",
        "\n",
        "from gensim.models.keyedvectors import KeyedVectors\n",
        "\n",
        "word_vectors = KeyedVectors.load_word2vec_format('GoogleNews-vectors-negative300.bin.gz', binary=True)\n",
        "\n",
        "EMBEDDING_DIM=300\n",
        "vocabulary_size = min(len(word_index)+1, NUM_WORDS)\n",
        "embedding_matrix = np.zeros((vocabulary_size, EMBEDDING_DIM))\n",
        "for word, i in word_index.items():\n",
        "    if i>=NUM_WORDS:\n",
        "        continue\n",
        "    try:\n",
        "        embedding_vector = word_vectors[word]\n",
        "        embedding_matrix[i] = embedding_vector\n",
        "    except KeyError:\n",
        "        embedding_matrix[i] = np.random.normal(0,np.sqrt(0.25), EMBEDDING_DIM)\n",
        "\n",
        "del(word_vectors)"
      ],
      "execution_count": 0,
      "outputs": []
    },
    {
      "metadata": {
        "id": "U7K8Juz6RhpX",
        "colab_type": "code",
        "outputId": "59bdd38b-1907-41e5-a9cf-25c4a9bca48f",
        "colab": {
          "base_uri": "https://localhost:8080/",
          "height": 35
        }
      },
      "cell_type": "code",
      "source": [
        "print(\"embedding_matrix.shape:\", embedding_matrix.shape)\n",
        "file_embedded_matrix = \"emoint_embedded_matrix_word2vec.npy\"\n",
        "save_n_upload_numpy_array(embedding_matrix, \"Colab Notebooks\", file_embedded_matrix)"
      ],
      "execution_count": 0,
      "outputs": [
        {
          "output_type": "stream",
          "text": [
            "embedding_matrix.shape: (8673, 300)\n"
          ],
          "name": "stdout"
        }
      ]
    },
    {
      "metadata": {
        "id": "5H1f3UbhE329",
        "colab_type": "text"
      },
      "cell_type": "markdown",
      "source": [
        "## Reload embedding layer and training dataset"
      ]
    },
    {
      "metadata": {
        "id": "W_ksCjVeE3a2",
        "colab_type": "code",
        "outputId": "7b4f42bb-22b3-42a9-c434-18786b73c744",
        "colab": {
          "base_uri": "https://localhost:8080/",
          "height": 53
        }
      },
      "cell_type": "code",
      "source": [
        "file_embedded_matrix = \"emoint_embedded_matrix_word2vec.npy\"\n",
        "download_drive_file(\"Colab Notebooks\", file_embedded_matrix)\n",
        "embedding_matrix = np.load(file_embedded_matrix)\n",
        "print(\"embedding matrix shape:\", embedding_matrix.shape)"
      ],
      "execution_count": 11,
      "outputs": [
        {
          "output_type": "stream",
          "text": [
            "downloading file emoint_embedded_matrix_word2vec.npy\n",
            "embedding matrix shape: (8673, 300)\n"
          ],
          "name": "stdout"
        }
      ]
    },
    {
      "metadata": {
        "id": "FGZlNGwuE73I",
        "colab_type": "code",
        "outputId": "afff3eea-f8b7-4b59-83aa-1dab1262150c",
        "colab": {
          "base_uri": "https://localhost:8080/",
          "height": 125
        }
      },
      "cell_type": "code",
      "source": [
        "download_drive_file(\"Colab Notebooks\", \"emoint_X_train.npy\")\n",
        "download_drive_file(\"Colab Notebooks\", \"emoint_X_val.npy\")\n",
        "download_drive_file(\"Colab Notebooks\", \"emoint_X_test.npy\")\n",
        "\n",
        "download_drive_file(\"Colab Notebooks\", \"emoint_y_train.npy\")\n",
        "download_drive_file(\"Colab Notebooks\", \"emoint_y_val.npy\")\n",
        "download_drive_file(\"Colab Notebooks\", \"emoint_y_test.npy\")\n",
        "\n",
        "X_train = np.load(\"emoint_X_train.npy\")\n",
        "X_val = np.load(\"emoint_X_val.npy\")\n",
        "X_test = np.load(\"emoint_X_test.npy\")\n",
        "\n",
        "y_train = np.load(\"emoint_y_train.npy\")\n",
        "y_val = np.load(\"emoint_y_val.npy\")\n",
        "y_test = np.load(\"emoint_y_test.npy\")"
      ],
      "execution_count": 12,
      "outputs": [
        {
          "output_type": "stream",
          "text": [
            "downloading file emoint_X_train.npy\n",
            "downloading file emoint_X_val.npy\n",
            "downloading file emoint_X_test.npy\n",
            "downloading file emoint_y_train.npy\n",
            "downloading file emoint_y_val.npy\n",
            "downloading file emoint_y_test.npy\n"
          ],
          "name": "stdout"
        }
      ]
    },
    {
      "metadata": {
        "id": "Q0fX0z7_7Mi5",
        "colab_type": "code",
        "outputId": "95dd4603-4f3a-4915-acfa-6f6c9462d375",
        "colab": {
          "base_uri": "https://localhost:8080/",
          "height": 305
        }
      },
      "cell_type": "code",
      "source": [
        "from keras.layers import Dense, Input, GlobalMaxPooling1D, TimeDistributed\n",
        "from keras.layers import Conv1D, MaxPooling1D, Embedding, Bidirectional\n",
        "from keras.models import Model\n",
        "from keras.layers import Input, Dense, Embedding, Conv2D, MaxPooling2D, Dropout, concatenate, LSTM\n",
        "from keras.layers.core import Reshape, Flatten\n",
        "from keras.callbacks import EarlyStopping, ModelCheckpoint\n",
        "from keras.optimizers import Adam, Adadelta, RMSprop\n",
        "from keras.models import Model\n",
        "from keras import regularizers\n",
        "sequence_length = X_train.shape[1]\n",
        "filter_sizes = [3,4,5]\n",
        "num_filters = 100\n",
        "# CONV_DROP_RATE = 0.5\n",
        "HIDDEN_DIM = 66\n",
        "LSTM_DROP_RATE = 0.2\n",
        "vocabulary_size = 8673\n",
        "EMBEDDING_DIM=300\n",
        "\n",
        "print(sequence_length)\n",
        "\n",
        "inputs = Input(shape=(sequence_length,), name='input_1')\n",
        "embedding_layer = Embedding(vocabulary_size, EMBEDDING_DIM, weights=[embedding_matrix], input_length=sequence_length, trainable=True, name='embedding')\n",
        "embedding = embedding_layer(inputs)\n",
        "# reshape = Reshape((sequence_length, EMBEDDING_DIM, 1, 1), name='reshape_1')(embedding)\n",
        "\n",
        "lstm = LSTM(units=HIDDEN_DIM, dropout=LSTM_DROP_RATE, recurrent_dropout=LSTM_DROP_RATE, name='lstm')(embedding)\n",
        "\n",
        "# conv_1 = Conv2D(num_filters, (filter_sizes[0], EMBEDDING_DIM), activation='relu',kernel_regularizer=regularizers.l2(0.01), name='conv_1')(reshape)\n",
        "# conv_2 = Conv2D(num_filters, (filter_sizes[1], EMBEDDING_DIM), activation='relu',kernel_regularizer=regularizers.l2(0.01), name='conv_2')(reshape)\n",
        "# conv_3 = Conv2D(num_filters, (filter_sizes[2], EMBEDDING_DIM), activation='relu',kernel_regularizer=regularizers.l2(0.01), name='conv_3')(reshape)\n",
        "\n",
        "\n",
        "# maxpool_1 = MaxPooling2D((sequence_length - filter_sizes[0] + 1, 1), strides=1, name='maxpool_1')(conv_1)\n",
        "\n",
        "# maxpool_2 = MaxPooling2D((sequence_length - filter_sizes[1] + 1, 1), strides=1, name='maxpool_2')(conv_2)\n",
        "# maxpool_3 = MaxPooling2D((sequence_length - filter_sizes[2] + 1, 1), strides=1, name='maxpool_3')(conv_3)\n",
        "\n",
        "# merged_tensor = concatenate([maxpool_1, maxpool_2, maxpool_3], axis=1, name='concatenate_1')\n",
        "# flatten = Flatten()(merged_tensor)\n",
        "# reshape2 = Reshape((EMBEDDING_DIM, 1), name='reshape_2')(flatten)\n",
        "# lstm = Bidirectional(LSTM(units=HIDDEN_DIM, dropout=LSTM_DROP_RATE, recurrent_dropout=LSTM_DROP_RATE, name='lstm'))(reshape2)\n",
        "# dropout = Dropout(drop_rate, name='dropout_1')(flatten)\n",
        "output = Dense(units=4, activation='softmax',kernel_regularizer=regularizers.l2(0.01), name='dense_1')(lstm)\n",
        "\n",
        "model = None \n",
        "\n",
        "# this creates a model that includes\n",
        "model = Model(inputs, output)\n",
        "\n",
        "model.summary()"
      ],
      "execution_count": 38,
      "outputs": [
        {
          "output_type": "stream",
          "text": [
            "33\n",
            "_________________________________________________________________\n",
            "Layer (type)                 Output Shape              Param #   \n",
            "=================================================================\n",
            "input_1 (InputLayer)         (None, 33)                0         \n",
            "_________________________________________________________________\n",
            "embedding (Embedding)        (None, 33, 300)           2601900   \n",
            "_________________________________________________________________\n",
            "lstm (LSTM)                  (None, 66)                96888     \n",
            "_________________________________________________________________\n",
            "dense_1 (Dense)              (None, 4)                 268       \n",
            "=================================================================\n",
            "Total params: 2,699,056\n",
            "Trainable params: 2,699,056\n",
            "Non-trainable params: 0\n",
            "_________________________________________________________________\n"
          ],
          "name": "stdout"
        }
      ]
    },
    {
      "metadata": {
        "id": "rClQ6sed4JA5",
        "colab_type": "code",
        "outputId": "31092a36-4fd7-4e5a-9ad7-d4c5bf2f5de1",
        "colab": {
          "base_uri": "https://localhost:8080/",
          "height": 269
        }
      },
      "cell_type": "code",
      "source": [
        "!rm -r tmp\n",
        "!mkdir tmp\n",
        "!ls -lA"
      ],
      "execution_count": 39,
      "outputs": [
        {
          "output_type": "stream",
          "text": [
            "total 53964\n",
            "-rw-r--r-- 1 root root     2530 Dec 18 02:30 adc.json\n",
            "drwxr-xr-x 1 root root     4096 Dec 18 02:30 .config\n",
            "-rw-r--r-- 1 root root 22397720 Dec 18 02:42 emoint_convnet_lstm_model.h5\n",
            "-rw-r--r-- 1 root root 11204584 Dec 18 02:42 emoint_convnet_lstm_weights.h5\n",
            "-rw-r--r-- 1 root root 20815328 Dec 18 02:30 emoint_embedded_matrix_word2vec.npy\n",
            "-rw-r--r-- 1 root root   331184 Dec 18 02:30 emoint_X_test.npy\n",
            "-rw-r--r-- 1 root root   344648 Dec 18 02:30 emoint_X_train.npy\n",
            "-rw-r--r-- 1 root root    38540 Dec 18 02:30 emoint_X_val.npy\n",
            "-rw-r--r-- 1 root root    40256 Dec 18 02:30 emoint_y_test.npy\n",
            "-rw-r--r-- 1 root root    41888 Dec 18 02:30 emoint_y_train.npy\n",
            "-rw-r--r-- 1 root root     4784 Dec 18 02:30 emoint_y_val.npy\n",
            "drwxr-xr-x 1 root root     4096 Dec 10 17:34 sample_data\n",
            "drwxr-xr-x 2 root root     4096 Dec 18 02:43 tmp\n"
          ],
          "name": "stdout"
        }
      ]
    },
    {
      "metadata": {
        "id": "8yp4WKi-FM_m",
        "colab_type": "text"
      },
      "cell_type": "markdown",
      "source": [
        "## Two-steps training"
      ]
    },
    {
      "metadata": {
        "id": "HHZ1POD77GRp",
        "colab_type": "code",
        "outputId": "c37a87a0-1a3a-4800-9058-0a643cbb1e85",
        "colab": {
          "base_uri": "https://localhost:8080/",
          "height": 2771
        }
      },
      "cell_type": "code",
      "source": [
        "adam = Adam(lr=1e-3, decay=0.0)\n",
        "adadelta = Adadelta(lr=1.0, rho=0.95, epsilon=None, decay=0.0)\n",
        "rmsprop = RMSprop(lr=0.001, rho=0.9, epsilon=None, decay=0.0)\n",
        "\n",
        "model.compile(loss='categorical_crossentropy', optimizer=rmsprop, metrics=['acc'])\n",
        "\n",
        "filepath=\"tmp/weights-{epoch:02d}-{val_acc:.2f}.hdf5\"\n",
        "model_checkpoint = ModelCheckpoint(filepath, monitor='val_acc', verbose=1, save_best_only=True, mode='auto')\n",
        "early_stopping = EarlyStopping(monitor='val_loss', patience=10)\n",
        "callbacks = [early_stopping, model_checkpoint]\n",
        "\n",
        "history = model.fit(X_train, y_train, batch_size=1000, epochs=100, verbose=1, validation_data=(X_val, y_val), callbacks=callbacks)  # starts training"
      ],
      "execution_count": 40,
      "outputs": [
        {
          "output_type": "stream",
          "text": [
            "Train on 2610 samples, validate on 291 samples\n",
            "Epoch 1/100\n",
            "2610/2610 [==============================] - 2s 720us/step - loss: 1.4321 - acc: 0.3249 - val_loss: 1.3726 - val_acc: 0.3986\n",
            "\n",
            "Epoch 00001: val_acc improved from -inf to 0.39863, saving model to tmp/weights-01-0.40.hdf5\n",
            "Epoch 2/100\n",
            "2610/2610 [==============================] - 0s 173us/step - loss: 1.3367 - acc: 0.4307 - val_loss: 1.3082 - val_acc: 0.5326\n",
            "\n",
            "Epoch 00002: val_acc improved from 0.39863 to 0.53265, saving model to tmp/weights-02-0.53.hdf5\n",
            "Epoch 3/100\n",
            "2610/2610 [==============================] - 0s 164us/step - loss: 1.2451 - acc: 0.5674 - val_loss: 1.2348 - val_acc: 0.6117\n",
            "\n",
            "Epoch 00003: val_acc improved from 0.53265 to 0.61168, saving model to tmp/weights-03-0.61.hdf5\n",
            "Epoch 4/100\n",
            "2610/2610 [==============================] - 0s 166us/step - loss: 1.1576 - acc: 0.6295 - val_loss: 1.1642 - val_acc: 0.5876\n",
            "\n",
            "Epoch 00004: val_acc did not improve from 0.61168\n",
            "Epoch 5/100\n",
            "2610/2610 [==============================] - 0s 167us/step - loss: 1.0290 - acc: 0.7180 - val_loss: 1.0679 - val_acc: 0.7045\n",
            "\n",
            "Epoch 00005: val_acc improved from 0.61168 to 0.70447, saving model to tmp/weights-05-0.70.hdf5\n",
            "Epoch 6/100\n",
            "2610/2610 [==============================] - 0s 165us/step - loss: 0.9828 - acc: 0.7111 - val_loss: 1.0219 - val_acc: 0.7251\n",
            "\n",
            "Epoch 00006: val_acc improved from 0.70447 to 0.72509, saving model to tmp/weights-06-0.73.hdf5\n",
            "Epoch 7/100\n",
            "2610/2610 [==============================] - 0s 165us/step - loss: 0.8310 - acc: 0.8195 - val_loss: 0.9582 - val_acc: 0.6976\n",
            "\n",
            "Epoch 00007: val_acc did not improve from 0.72509\n",
            "Epoch 8/100\n",
            "2610/2610 [==============================] - 0s 163us/step - loss: 0.7503 - acc: 0.8199 - val_loss: 0.9289 - val_acc: 0.7182\n",
            "\n",
            "Epoch 00008: val_acc did not improve from 0.72509\n",
            "Epoch 9/100\n",
            "2610/2610 [==============================] - 0s 170us/step - loss: 0.6558 - acc: 0.8529 - val_loss: 0.8828 - val_acc: 0.7320\n",
            "\n",
            "Epoch 00009: val_acc improved from 0.72509 to 0.73196, saving model to tmp/weights-09-0.73.hdf5\n",
            "Epoch 10/100\n",
            "2610/2610 [==============================] - 0s 164us/step - loss: 0.5997 - acc: 0.8678 - val_loss: 0.8458 - val_acc: 0.7491\n",
            "\n",
            "Epoch 00010: val_acc improved from 0.73196 to 0.74914, saving model to tmp/weights-10-0.75.hdf5\n",
            "Epoch 11/100\n",
            "2610/2610 [==============================] - 0s 163us/step - loss: 0.5030 - acc: 0.9031 - val_loss: 0.7864 - val_acc: 0.7766\n",
            "\n",
            "Epoch 00011: val_acc improved from 0.74914 to 0.77663, saving model to tmp/weights-11-0.78.hdf5\n",
            "Epoch 12/100\n",
            "2610/2610 [==============================] - 0s 164us/step - loss: 0.4721 - acc: 0.9134 - val_loss: 0.7821 - val_acc: 0.7663\n",
            "\n",
            "Epoch 00012: val_acc did not improve from 0.77663\n",
            "Epoch 13/100\n",
            "2610/2610 [==============================] - 0s 166us/step - loss: 0.4151 - acc: 0.9230 - val_loss: 0.7961 - val_acc: 0.7663\n",
            "\n",
            "Epoch 00013: val_acc did not improve from 0.77663\n",
            "Epoch 14/100\n",
            "2610/2610 [==============================] - 0s 171us/step - loss: 0.3934 - acc: 0.9276 - val_loss: 0.7618 - val_acc: 0.7560\n",
            "\n",
            "Epoch 00014: val_acc did not improve from 0.77663\n",
            "Epoch 15/100\n",
            "2610/2610 [==============================] - 0s 164us/step - loss: 0.3522 - acc: 0.9418 - val_loss: 0.7635 - val_acc: 0.7904\n",
            "\n",
            "Epoch 00015: val_acc improved from 0.77663 to 0.79038, saving model to tmp/weights-15-0.79.hdf5\n",
            "Epoch 16/100\n",
            "2610/2610 [==============================] - 0s 172us/step - loss: 0.3190 - acc: 0.9513 - val_loss: 0.6872 - val_acc: 0.8007\n",
            "\n",
            "Epoch 00016: val_acc improved from 0.79038 to 0.80069, saving model to tmp/weights-16-0.80.hdf5\n",
            "Epoch 17/100\n",
            "2610/2610 [==============================] - 0s 163us/step - loss: 0.2828 - acc: 0.9609 - val_loss: 0.7035 - val_acc: 0.7938\n",
            "\n",
            "Epoch 00017: val_acc did not improve from 0.80069\n",
            "Epoch 18/100\n",
            "2610/2610 [==============================] - 0s 165us/step - loss: 0.2529 - acc: 0.9659 - val_loss: 0.7048 - val_acc: 0.7973\n",
            "\n",
            "Epoch 00018: val_acc did not improve from 0.80069\n",
            "Epoch 19/100\n",
            "2610/2610 [==============================] - 0s 164us/step - loss: 0.2719 - acc: 0.9513 - val_loss: 0.6645 - val_acc: 0.8076\n",
            "\n",
            "Epoch 00019: val_acc improved from 0.80069 to 0.80756, saving model to tmp/weights-19-0.81.hdf5\n",
            "Epoch 20/100\n",
            "2610/2610 [==============================] - 0s 162us/step - loss: 0.2232 - acc: 0.9709 - val_loss: 0.6639 - val_acc: 0.8076\n",
            "\n",
            "Epoch 00020: val_acc did not improve from 0.80756\n",
            "Epoch 21/100\n",
            "2610/2610 [==============================] - 0s 164us/step - loss: 0.2225 - acc: 0.9724 - val_loss: 0.6754 - val_acc: 0.7904\n",
            "\n",
            "Epoch 00021: val_acc did not improve from 0.80756\n",
            "Epoch 22/100\n",
            "2610/2610 [==============================] - 0s 165us/step - loss: 0.2140 - acc: 0.9709 - val_loss: 0.6716 - val_acc: 0.8213\n",
            "\n",
            "Epoch 00022: val_acc improved from 0.80756 to 0.82131, saving model to tmp/weights-22-0.82.hdf5\n",
            "Epoch 23/100\n",
            "2610/2610 [==============================] - 0s 167us/step - loss: 0.2021 - acc: 0.9770 - val_loss: 0.6580 - val_acc: 0.8076\n",
            "\n",
            "Epoch 00023: val_acc did not improve from 0.82131\n",
            "Epoch 24/100\n",
            "2610/2610 [==============================] - 0s 172us/step - loss: 0.2034 - acc: 0.9697 - val_loss: 0.6642 - val_acc: 0.8213\n",
            "\n",
            "Epoch 00024: val_acc did not improve from 0.82131\n",
            "Epoch 25/100\n",
            "2610/2610 [==============================] - 0s 168us/step - loss: 0.1729 - acc: 0.9820 - val_loss: 0.6469 - val_acc: 0.8316\n",
            "\n",
            "Epoch 00025: val_acc improved from 0.82131 to 0.83162, saving model to tmp/weights-25-0.83.hdf5\n",
            "Epoch 26/100\n",
            "2610/2610 [==============================] - 0s 164us/step - loss: 0.1697 - acc: 0.9793 - val_loss: 0.6379 - val_acc: 0.8076\n",
            "\n",
            "Epoch 00026: val_acc did not improve from 0.83162\n",
            "Epoch 27/100\n",
            "2610/2610 [==============================] - 0s 167us/step - loss: 0.1643 - acc: 0.9812 - val_loss: 0.6583 - val_acc: 0.8213\n",
            "\n",
            "Epoch 00027: val_acc did not improve from 0.83162\n",
            "Epoch 28/100\n",
            "2610/2610 [==============================] - 0s 187us/step - loss: 0.1624 - acc: 0.9831 - val_loss: 0.6049 - val_acc: 0.8213\n",
            "\n",
            "Epoch 00028: val_acc did not improve from 0.83162\n",
            "Epoch 29/100\n",
            "2610/2610 [==============================] - 0s 167us/step - loss: 0.1485 - acc: 0.9839 - val_loss: 0.6852 - val_acc: 0.8247\n",
            "\n",
            "Epoch 00029: val_acc did not improve from 0.83162\n",
            "Epoch 30/100\n",
            "2610/2610 [==============================] - 0s 162us/step - loss: 0.1522 - acc: 0.9824 - val_loss: 0.6421 - val_acc: 0.8144\n",
            "\n",
            "Epoch 00030: val_acc did not improve from 0.83162\n",
            "Epoch 31/100\n",
            "2610/2610 [==============================] - 0s 160us/step - loss: 0.1420 - acc: 0.9862 - val_loss: 0.6392 - val_acc: 0.8007\n",
            "\n",
            "Epoch 00031: val_acc did not improve from 0.83162\n",
            "Epoch 32/100\n",
            "2610/2610 [==============================] - 0s 165us/step - loss: 0.1322 - acc: 0.9851 - val_loss: 0.6568 - val_acc: 0.8282\n",
            "\n",
            "Epoch 00032: val_acc did not improve from 0.83162\n",
            "Epoch 33/100\n",
            "2610/2610 [==============================] - 0s 164us/step - loss: 0.1393 - acc: 0.9839 - val_loss: 0.6398 - val_acc: 0.8179\n",
            "\n",
            "Epoch 00033: val_acc did not improve from 0.83162\n",
            "Epoch 34/100\n",
            "2610/2610 [==============================] - 0s 164us/step - loss: 0.1254 - acc: 0.9854 - val_loss: 0.6608 - val_acc: 0.7973\n",
            "\n",
            "Epoch 00034: val_acc did not improve from 0.83162\n",
            "Epoch 35/100\n",
            "2610/2610 [==============================] - 0s 165us/step - loss: 0.1226 - acc: 0.9870 - val_loss: 0.6448 - val_acc: 0.8179\n",
            "\n",
            "Epoch 00035: val_acc did not improve from 0.83162\n",
            "Epoch 36/100\n",
            "2610/2610 [==============================] - 0s 162us/step - loss: 0.1309 - acc: 0.9831 - val_loss: 0.6525 - val_acc: 0.8351\n",
            "\n",
            "Epoch 00036: val_acc improved from 0.83162 to 0.83505, saving model to tmp/weights-36-0.84.hdf5\n",
            "Epoch 37/100\n",
            "2610/2610 [==============================] - 0s 169us/step - loss: 0.1163 - acc: 0.9870 - val_loss: 0.6732 - val_acc: 0.8316\n",
            "\n",
            "Epoch 00037: val_acc did not improve from 0.83505\n",
            "Epoch 38/100\n",
            "2610/2610 [==============================] - 0s 164us/step - loss: 0.1185 - acc: 0.9866 - val_loss: 0.6234 - val_acc: 0.8351\n",
            "\n",
            "Epoch 00038: val_acc did not improve from 0.83505\n"
          ],
          "name": "stdout"
        }
      ]
    },
    {
      "metadata": {
        "id": "tzlNz7u3FT_1",
        "colab_type": "code",
        "colab": {
          "base_uri": "https://localhost:8080/",
          "height": 7235
        },
        "outputId": "7796fc0a-3d3d-444d-e989-53eb180c9e39"
      },
      "cell_type": "code",
      "source": [
        "X_train_combined = np.concatenate((X_train, X_val))\n",
        "y_train_combined = np.concatenate((y_train, y_val))\n",
        "\n",
        "history = model.fit(X_train_combined, y_train_combined, batch_size=1000, epochs=100, verbose=1, validation_data=(X_val, y_val), callbacks=callbacks)  # starts training"
      ],
      "execution_count": 41,
      "outputs": [
        {
          "output_type": "stream",
          "text": [
            "Train on 2901 samples, validate on 291 samples\n",
            "Epoch 1/100\n",
            "2901/2901 [==============================] - 0s 155us/step - loss: 0.1618 - acc: 0.9724 - val_loss: 0.4393 - val_acc: 0.8866\n",
            "\n",
            "Epoch 00001: val_acc improved from 0.83505 to 0.88660, saving model to tmp/weights-01-0.89.hdf5\n",
            "Epoch 2/100\n",
            "2901/2901 [==============================] - 0s 151us/step - loss: 0.1547 - acc: 0.9731 - val_loss: 0.3732 - val_acc: 0.8969\n",
            "\n",
            "Epoch 00002: val_acc improved from 0.88660 to 0.89691, saving model to tmp/weights-02-0.90.hdf5\n",
            "Epoch 3/100\n",
            "2901/2901 [==============================] - 0s 156us/step - loss: 0.1415 - acc: 0.9766 - val_loss: 0.3493 - val_acc: 0.9107\n",
            "\n",
            "Epoch 00003: val_acc improved from 0.89691 to 0.91065, saving model to tmp/weights-03-0.91.hdf5\n",
            "Epoch 4/100\n",
            "2901/2901 [==============================] - 0s 149us/step - loss: 0.1393 - acc: 0.9783 - val_loss: 0.2894 - val_acc: 0.9244\n",
            "\n",
            "Epoch 00004: val_acc improved from 0.91065 to 0.92440, saving model to tmp/weights-04-0.92.hdf5\n",
            "Epoch 5/100\n",
            "2901/2901 [==============================] - 0s 150us/step - loss: 0.1303 - acc: 0.9786 - val_loss: 0.2840 - val_acc: 0.9313\n",
            "\n",
            "Epoch 00005: val_acc improved from 0.92440 to 0.93127, saving model to tmp/weights-05-0.93.hdf5\n",
            "Epoch 6/100\n",
            "2901/2901 [==============================] - 0s 156us/step - loss: 0.1297 - acc: 0.9797 - val_loss: 0.2372 - val_acc: 0.9416\n",
            "\n",
            "Epoch 00006: val_acc improved from 0.93127 to 0.94158, saving model to tmp/weights-06-0.94.hdf5\n",
            "Epoch 7/100\n",
            "2901/2901 [==============================] - 0s 153us/step - loss: 0.1181 - acc: 0.9810 - val_loss: 0.2201 - val_acc: 0.9519\n",
            "\n",
            "Epoch 00007: val_acc improved from 0.94158 to 0.95189, saving model to tmp/weights-07-0.95.hdf5\n",
            "Epoch 8/100\n",
            "2901/2901 [==============================] - 0s 156us/step - loss: 0.1169 - acc: 0.9835 - val_loss: 0.1919 - val_acc: 0.9553\n",
            "\n",
            "Epoch 00008: val_acc improved from 0.95189 to 0.95533, saving model to tmp/weights-08-0.96.hdf5\n",
            "Epoch 9/100\n",
            "2901/2901 [==============================] - 0s 150us/step - loss: 0.1104 - acc: 0.9824 - val_loss: 0.1752 - val_acc: 0.9588\n",
            "\n",
            "Epoch 00009: val_acc improved from 0.95533 to 0.95876, saving model to tmp/weights-09-0.96.hdf5\n",
            "Epoch 10/100\n",
            "2901/2901 [==============================] - 0s 151us/step - loss: 0.1080 - acc: 0.9848 - val_loss: 0.1697 - val_acc: 0.9656\n",
            "\n",
            "Epoch 00010: val_acc improved from 0.95876 to 0.96564, saving model to tmp/weights-10-0.97.hdf5\n",
            "Epoch 11/100\n",
            "2901/2901 [==============================] - 0s 155us/step - loss: 0.1006 - acc: 0.9852 - val_loss: 0.1645 - val_acc: 0.9691\n",
            "\n",
            "Epoch 00011: val_acc improved from 0.96564 to 0.96907, saving model to tmp/weights-11-0.97.hdf5\n",
            "Epoch 12/100\n",
            "2901/2901 [==============================] - 0s 149us/step - loss: 0.1028 - acc: 0.9831 - val_loss: 0.1559 - val_acc: 0.9691\n",
            "\n",
            "Epoch 00012: val_acc did not improve from 0.96907\n",
            "Epoch 13/100\n",
            "2901/2901 [==============================] - 0s 151us/step - loss: 0.1074 - acc: 0.9821 - val_loss: 0.1426 - val_acc: 0.9691\n",
            "\n",
            "Epoch 00013: val_acc did not improve from 0.96907\n",
            "Epoch 14/100\n",
            "2901/2901 [==============================] - 0s 149us/step - loss: 0.0942 - acc: 0.9852 - val_loss: 0.1321 - val_acc: 0.9691\n",
            "\n",
            "Epoch 00014: val_acc did not improve from 0.96907\n",
            "Epoch 15/100\n",
            "2901/2901 [==============================] - 0s 153us/step - loss: 0.0951 - acc: 0.9859 - val_loss: 0.1290 - val_acc: 0.9725\n",
            "\n",
            "Epoch 00015: val_acc improved from 0.96907 to 0.97251, saving model to tmp/weights-15-0.97.hdf5\n",
            "Epoch 16/100\n",
            "2901/2901 [==============================] - 0s 153us/step - loss: 0.0899 - acc: 0.9876 - val_loss: 0.1215 - val_acc: 0.9725\n",
            "\n",
            "Epoch 00016: val_acc did not improve from 0.97251\n",
            "Epoch 17/100\n",
            "2901/2901 [==============================] - 0s 150us/step - loss: 0.0929 - acc: 0.9835 - val_loss: 0.1231 - val_acc: 0.9691\n",
            "\n",
            "Epoch 00017: val_acc did not improve from 0.97251\n",
            "Epoch 18/100\n",
            "2901/2901 [==============================] - 0s 154us/step - loss: 0.0937 - acc: 0.9855 - val_loss: 0.1144 - val_acc: 0.9725\n",
            "\n",
            "Epoch 00018: val_acc did not improve from 0.97251\n",
            "Epoch 19/100\n",
            "2901/2901 [==============================] - 0s 162us/step - loss: 0.0861 - acc: 0.9831 - val_loss: 0.1129 - val_acc: 0.9725\n",
            "\n",
            "Epoch 00019: val_acc did not improve from 0.97251\n",
            "Epoch 20/100\n",
            "2901/2901 [==============================] - 0s 152us/step - loss: 0.0839 - acc: 0.9866 - val_loss: 0.1178 - val_acc: 0.9725\n",
            "\n",
            "Epoch 00020: val_acc did not improve from 0.97251\n",
            "Epoch 21/100\n",
            "2901/2901 [==============================] - 0s 152us/step - loss: 0.0859 - acc: 0.9852 - val_loss: 0.1060 - val_acc: 0.9725\n",
            "\n",
            "Epoch 00021: val_acc did not improve from 0.97251\n",
            "Epoch 22/100\n",
            "2901/2901 [==============================] - 0s 154us/step - loss: 0.0822 - acc: 0.9845 - val_loss: 0.1057 - val_acc: 0.9725\n",
            "\n",
            "Epoch 00022: val_acc did not improve from 0.97251\n",
            "Epoch 23/100\n",
            "2901/2901 [==============================] - 0s 151us/step - loss: 0.0887 - acc: 0.9831 - val_loss: 0.1124 - val_acc: 0.9759\n",
            "\n",
            "Epoch 00023: val_acc improved from 0.97251 to 0.97594, saving model to tmp/weights-23-0.98.hdf5\n",
            "Epoch 24/100\n",
            "2901/2901 [==============================] - 0s 149us/step - loss: 0.0786 - acc: 0.9862 - val_loss: 0.1014 - val_acc: 0.9725\n",
            "\n",
            "Epoch 00024: val_acc did not improve from 0.97594\n",
            "Epoch 25/100\n",
            "2901/2901 [==============================] - 0s 155us/step - loss: 0.0775 - acc: 0.9866 - val_loss: 0.1007 - val_acc: 0.9725\n",
            "\n",
            "Epoch 00025: val_acc did not improve from 0.97594\n",
            "Epoch 26/100\n",
            "2901/2901 [==============================] - 0s 151us/step - loss: 0.0737 - acc: 0.9869 - val_loss: 0.0982 - val_acc: 0.9759\n",
            "\n",
            "Epoch 00026: val_acc did not improve from 0.97594\n",
            "Epoch 27/100\n",
            "2901/2901 [==============================] - 0s 151us/step - loss: 0.0764 - acc: 0.9848 - val_loss: 0.0942 - val_acc: 0.9794\n",
            "\n",
            "Epoch 00027: val_acc improved from 0.97594 to 0.97938, saving model to tmp/weights-27-0.98.hdf5\n",
            "Epoch 28/100\n",
            "2901/2901 [==============================] - 0s 152us/step - loss: 0.0751 - acc: 0.9848 - val_loss: 0.0998 - val_acc: 0.9759\n",
            "\n",
            "Epoch 00028: val_acc did not improve from 0.97938\n",
            "Epoch 29/100\n",
            "2901/2901 [==============================] - 0s 156us/step - loss: 0.0719 - acc: 0.9876 - val_loss: 0.0954 - val_acc: 0.9725\n",
            "\n",
            "Epoch 00029: val_acc did not improve from 0.97938\n",
            "Epoch 30/100\n",
            "2901/2901 [==============================] - 0s 151us/step - loss: 0.0722 - acc: 0.9866 - val_loss: 0.0943 - val_acc: 0.9725\n",
            "\n",
            "Epoch 00030: val_acc did not improve from 0.97938\n",
            "Epoch 31/100\n",
            "2901/2901 [==============================] - 0s 154us/step - loss: 0.0763 - acc: 0.9852 - val_loss: 0.0913 - val_acc: 0.9794\n",
            "\n",
            "Epoch 00031: val_acc did not improve from 0.97938\n",
            "Epoch 32/100\n",
            "2901/2901 [==============================] - 0s 151us/step - loss: 0.0718 - acc: 0.9866 - val_loss: 0.0856 - val_acc: 0.9794\n",
            "\n",
            "Epoch 00032: val_acc did not improve from 0.97938\n",
            "Epoch 33/100\n",
            "2901/2901 [==============================] - 0s 152us/step - loss: 0.0713 - acc: 0.9848 - val_loss: 0.0871 - val_acc: 0.9794\n",
            "\n",
            "Epoch 00033: val_acc did not improve from 0.97938\n",
            "Epoch 34/100\n",
            "2901/2901 [==============================] - 0s 154us/step - loss: 0.0679 - acc: 0.9869 - val_loss: 0.0827 - val_acc: 0.9759\n",
            "\n",
            "Epoch 00034: val_acc did not improve from 0.97938\n",
            "Epoch 35/100\n",
            "2901/2901 [==============================] - 0s 163us/step - loss: 0.0715 - acc: 0.9845 - val_loss: 0.0817 - val_acc: 0.9759\n",
            "\n",
            "Epoch 00035: val_acc did not improve from 0.97938\n",
            "Epoch 36/100\n",
            "2901/2901 [==============================] - 0s 150us/step - loss: 0.0683 - acc: 0.9872 - val_loss: 0.0817 - val_acc: 0.9725\n",
            "\n",
            "Epoch 00036: val_acc did not improve from 0.97938\n",
            "Epoch 37/100\n",
            "2901/2901 [==============================] - 0s 152us/step - loss: 0.0664 - acc: 0.9848 - val_loss: 0.0835 - val_acc: 0.9725\n",
            "\n",
            "Epoch 00037: val_acc did not improve from 0.97938\n",
            "Epoch 38/100\n",
            "2901/2901 [==============================] - 0s 154us/step - loss: 0.0649 - acc: 0.9862 - val_loss: 0.0828 - val_acc: 0.9725\n",
            "\n",
            "Epoch 00038: val_acc did not improve from 0.97938\n",
            "Epoch 39/100\n",
            "2901/2901 [==============================] - 0s 155us/step - loss: 0.0651 - acc: 0.9876 - val_loss: 0.0801 - val_acc: 0.9759\n",
            "\n",
            "Epoch 00039: val_acc did not improve from 0.97938\n",
            "Epoch 40/100\n",
            "2901/2901 [==============================] - 0s 155us/step - loss: 0.0678 - acc: 0.9841 - val_loss: 0.0773 - val_acc: 0.9794\n",
            "\n",
            "Epoch 00040: val_acc did not improve from 0.97938\n",
            "Epoch 41/100\n",
            "2901/2901 [==============================] - 0s 158us/step - loss: 0.0667 - acc: 0.9869 - val_loss: 0.0766 - val_acc: 0.9759\n",
            "\n",
            "Epoch 00041: val_acc did not improve from 0.97938\n",
            "Epoch 42/100\n",
            "2901/2901 [==============================] - 0s 154us/step - loss: 0.0672 - acc: 0.9852 - val_loss: 0.0800 - val_acc: 0.9794\n",
            "\n",
            "Epoch 00042: val_acc did not improve from 0.97938\n",
            "Epoch 43/100\n",
            "2901/2901 [==============================] - 0s 160us/step - loss: 0.0637 - acc: 0.9872 - val_loss: 0.0756 - val_acc: 0.9759\n",
            "\n",
            "Epoch 00043: val_acc did not improve from 0.97938\n",
            "Epoch 44/100\n",
            "2901/2901 [==============================] - 0s 153us/step - loss: 0.0617 - acc: 0.9866 - val_loss: 0.0742 - val_acc: 0.9794\n",
            "\n",
            "Epoch 00044: val_acc did not improve from 0.97938\n",
            "Epoch 45/100\n",
            "2901/2901 [==============================] - 0s 154us/step - loss: 0.0638 - acc: 0.9866 - val_loss: 0.0742 - val_acc: 0.9759\n",
            "\n",
            "Epoch 00045: val_acc did not improve from 0.97938\n",
            "Epoch 46/100\n",
            "2901/2901 [==============================] - 0s 151us/step - loss: 0.0623 - acc: 0.9855 - val_loss: 0.0757 - val_acc: 0.9759\n",
            "\n",
            "Epoch 00046: val_acc did not improve from 0.97938\n",
            "Epoch 47/100\n",
            "2901/2901 [==============================] - 0s 157us/step - loss: 0.0610 - acc: 0.9859 - val_loss: 0.0738 - val_acc: 0.9794\n",
            "\n",
            "Epoch 00047: val_acc did not improve from 0.97938\n",
            "Epoch 48/100\n",
            "2901/2901 [==============================] - 0s 156us/step - loss: 0.0616 - acc: 0.9859 - val_loss: 0.0715 - val_acc: 0.9794\n",
            "\n",
            "Epoch 00048: val_acc did not improve from 0.97938\n",
            "Epoch 49/100\n",
            "2901/2901 [==============================] - 0s 152us/step - loss: 0.0605 - acc: 0.9855 - val_loss: 0.0729 - val_acc: 0.9759\n",
            "\n",
            "Epoch 00049: val_acc did not improve from 0.97938\n",
            "Epoch 50/100\n",
            "2901/2901 [==============================] - 0s 149us/step - loss: 0.0581 - acc: 0.9883 - val_loss: 0.0719 - val_acc: 0.9794\n",
            "\n",
            "Epoch 00050: val_acc did not improve from 0.97938\n",
            "Epoch 51/100\n",
            "2901/2901 [==============================] - 0s 153us/step - loss: 0.0585 - acc: 0.9866 - val_loss: 0.0709 - val_acc: 0.9794\n",
            "\n",
            "Epoch 00051: val_acc did not improve from 0.97938\n",
            "Epoch 52/100\n",
            "2901/2901 [==============================] - 0s 154us/step - loss: 0.0582 - acc: 0.9859 - val_loss: 0.0703 - val_acc: 0.9725\n",
            "\n",
            "Epoch 00052: val_acc did not improve from 0.97938\n",
            "Epoch 53/100\n",
            "2901/2901 [==============================] - 0s 154us/step - loss: 0.0587 - acc: 0.9855 - val_loss: 0.0705 - val_acc: 0.9863\n",
            "\n",
            "Epoch 00053: val_acc improved from 0.97938 to 0.98625, saving model to tmp/weights-53-0.99.hdf5\n",
            "Epoch 54/100\n",
            "2901/2901 [==============================] - 0s 151us/step - loss: 0.0579 - acc: 0.9883 - val_loss: 0.0715 - val_acc: 0.9725\n",
            "\n",
            "Epoch 00054: val_acc did not improve from 0.98625\n",
            "Epoch 55/100\n",
            "2901/2901 [==============================] - 0s 153us/step - loss: 0.0566 - acc: 0.9876 - val_loss: 0.0721 - val_acc: 0.9759\n",
            "\n",
            "Epoch 00055: val_acc did not improve from 0.98625\n",
            "Epoch 56/100\n",
            "2901/2901 [==============================] - 0s 153us/step - loss: 0.0589 - acc: 0.9852 - val_loss: 0.0706 - val_acc: 0.9794\n",
            "\n",
            "Epoch 00056: val_acc did not improve from 0.98625\n",
            "Epoch 57/100\n",
            "2901/2901 [==============================] - 0s 157us/step - loss: 0.0574 - acc: 0.9862 - val_loss: 0.0689 - val_acc: 0.9759\n",
            "\n",
            "Epoch 00057: val_acc did not improve from 0.98625\n",
            "Epoch 58/100\n",
            "2901/2901 [==============================] - 0s 151us/step - loss: 0.0570 - acc: 0.9859 - val_loss: 0.0688 - val_acc: 0.9759\n",
            "\n",
            "Epoch 00058: val_acc did not improve from 0.98625\n",
            "Epoch 59/100\n",
            "2901/2901 [==============================] - 0s 154us/step - loss: 0.0555 - acc: 0.9869 - val_loss: 0.0685 - val_acc: 0.9725\n",
            "\n",
            "Epoch 00059: val_acc did not improve from 0.98625\n",
            "Epoch 60/100\n",
            "2901/2901 [==============================] - 0s 152us/step - loss: 0.0539 - acc: 0.9872 - val_loss: 0.0661 - val_acc: 0.9794\n",
            "\n",
            "Epoch 00060: val_acc did not improve from 0.98625\n",
            "Epoch 61/100\n",
            "2901/2901 [==============================] - 0s 158us/step - loss: 0.0556 - acc: 0.9872 - val_loss: 0.0686 - val_acc: 0.9759\n",
            "\n",
            "Epoch 00061: val_acc did not improve from 0.98625\n",
            "Epoch 62/100\n",
            "2901/2901 [==============================] - 0s 153us/step - loss: 0.0548 - acc: 0.9872 - val_loss: 0.0686 - val_acc: 0.9759\n",
            "\n",
            "Epoch 00062: val_acc did not improve from 0.98625\n",
            "Epoch 63/100\n",
            "2901/2901 [==============================] - 0s 155us/step - loss: 0.0548 - acc: 0.9872 - val_loss: 0.0652 - val_acc: 0.9794\n",
            "\n",
            "Epoch 00063: val_acc did not improve from 0.98625\n",
            "Epoch 64/100\n",
            "2901/2901 [==============================] - 0s 152us/step - loss: 0.0539 - acc: 0.9866 - val_loss: 0.0654 - val_acc: 0.9794\n",
            "\n",
            "Epoch 00064: val_acc did not improve from 0.98625\n",
            "Epoch 65/100\n",
            "2901/2901 [==============================] - 0s 153us/step - loss: 0.0573 - acc: 0.9838 - val_loss: 0.0669 - val_acc: 0.9794\n",
            "\n",
            "Epoch 00065: val_acc did not improve from 0.98625\n",
            "Epoch 66/100\n",
            "2901/2901 [==============================] - 0s 153us/step - loss: 0.0533 - acc: 0.9859 - val_loss: 0.0697 - val_acc: 0.9828\n",
            "\n",
            "Epoch 00066: val_acc did not improve from 0.98625\n",
            "Epoch 67/100\n",
            "2901/2901 [==============================] - 0s 152us/step - loss: 0.0547 - acc: 0.9862 - val_loss: 0.0651 - val_acc: 0.9759\n",
            "\n",
            "Epoch 00067: val_acc did not improve from 0.98625\n",
            "Epoch 68/100\n",
            "2901/2901 [==============================] - 0s 155us/step - loss: 0.0525 - acc: 0.9886 - val_loss: 0.0642 - val_acc: 0.9794\n",
            "\n",
            "Epoch 00068: val_acc did not improve from 0.98625\n",
            "Epoch 69/100\n",
            "2901/2901 [==============================] - 0s 154us/step - loss: 0.0531 - acc: 0.9859 - val_loss: 0.0645 - val_acc: 0.9794\n",
            "\n",
            "Epoch 00069: val_acc did not improve from 0.98625\n",
            "Epoch 70/100\n",
            "2901/2901 [==============================] - 0s 156us/step - loss: 0.0544 - acc: 0.9845 - val_loss: 0.0630 - val_acc: 0.9794\n",
            "\n",
            "Epoch 00070: val_acc did not improve from 0.98625\n",
            "Epoch 71/100\n",
            "2901/2901 [==============================] - 0s 154us/step - loss: 0.0540 - acc: 0.9862 - val_loss: 0.0623 - val_acc: 0.9828\n",
            "\n",
            "Epoch 00071: val_acc did not improve from 0.98625\n",
            "Epoch 72/100\n",
            "2901/2901 [==============================] - 0s 154us/step - loss: 0.0529 - acc: 0.9848 - val_loss: 0.0630 - val_acc: 0.9828\n",
            "\n",
            "Epoch 00072: val_acc did not improve from 0.98625\n",
            "Epoch 73/100\n",
            "2901/2901 [==============================] - 0s 157us/step - loss: 0.0530 - acc: 0.9859 - val_loss: 0.0659 - val_acc: 0.9794\n",
            "\n",
            "Epoch 00073: val_acc did not improve from 0.98625\n",
            "Epoch 74/100\n",
            "2901/2901 [==============================] - 0s 158us/step - loss: 0.0545 - acc: 0.9859 - val_loss: 0.0620 - val_acc: 0.9828\n",
            "\n",
            "Epoch 00074: val_acc did not improve from 0.98625\n",
            "Epoch 75/100\n",
            "2901/2901 [==============================] - 0s 156us/step - loss: 0.0526 - acc: 0.9848 - val_loss: 0.0636 - val_acc: 0.9794\n",
            "\n",
            "Epoch 00075: val_acc did not improve from 0.98625\n",
            "Epoch 76/100\n",
            "2901/2901 [==============================] - 0s 154us/step - loss: 0.0498 - acc: 0.9876 - val_loss: 0.0630 - val_acc: 0.9759\n",
            "\n",
            "Epoch 00076: val_acc did not improve from 0.98625\n",
            "Epoch 77/100\n",
            "2901/2901 [==============================] - 0s 154us/step - loss: 0.0510 - acc: 0.9876 - val_loss: 0.0620 - val_acc: 0.9828\n",
            "\n",
            "Epoch 00077: val_acc did not improve from 0.98625\n",
            "Epoch 78/100\n",
            "2901/2901 [==============================] - 0s 155us/step - loss: 0.0528 - acc: 0.9859 - val_loss: 0.0640 - val_acc: 0.9759\n",
            "\n",
            "Epoch 00078: val_acc did not improve from 0.98625\n",
            "Epoch 79/100\n",
            "2901/2901 [==============================] - 0s 154us/step - loss: 0.0515 - acc: 0.9852 - val_loss: 0.0646 - val_acc: 0.9759\n",
            "\n",
            "Epoch 00079: val_acc did not improve from 0.98625\n",
            "Epoch 80/100\n",
            "2901/2901 [==============================] - 0s 155us/step - loss: 0.0502 - acc: 0.9872 - val_loss: 0.0616 - val_acc: 0.9828\n",
            "\n",
            "Epoch 00080: val_acc did not improve from 0.98625\n",
            "Epoch 81/100\n",
            "2901/2901 [==============================] - 0s 154us/step - loss: 0.0515 - acc: 0.9869 - val_loss: 0.0626 - val_acc: 0.9828\n",
            "\n",
            "Epoch 00081: val_acc did not improve from 0.98625\n",
            "Epoch 82/100\n",
            "2901/2901 [==============================] - 0s 156us/step - loss: 0.0517 - acc: 0.9841 - val_loss: 0.0620 - val_acc: 0.9794\n",
            "\n",
            "Epoch 00082: val_acc did not improve from 0.98625\n",
            "Epoch 83/100\n",
            "2901/2901 [==============================] - 0s 153us/step - loss: 0.0516 - acc: 0.9845 - val_loss: 0.0636 - val_acc: 0.9794\n",
            "\n",
            "Epoch 00083: val_acc did not improve from 0.98625\n",
            "Epoch 84/100\n",
            "2901/2901 [==============================] - 0s 158us/step - loss: 0.0496 - acc: 0.9886 - val_loss: 0.0627 - val_acc: 0.9794\n",
            "\n",
            "Epoch 00084: val_acc did not improve from 0.98625\n",
            "Epoch 85/100\n",
            "2901/2901 [==============================] - 0s 155us/step - loss: 0.0507 - acc: 0.9845 - val_loss: 0.0618 - val_acc: 0.9759\n",
            "\n",
            "Epoch 00085: val_acc did not improve from 0.98625\n",
            "Epoch 86/100\n",
            "2901/2901 [==============================] - 0s 157us/step - loss: 0.0506 - acc: 0.9876 - val_loss: 0.0618 - val_acc: 0.9794\n",
            "\n",
            "Epoch 00086: val_acc did not improve from 0.98625\n",
            "Epoch 87/100\n",
            "2901/2901 [==============================] - 0s 157us/step - loss: 0.0492 - acc: 0.9869 - val_loss: 0.0607 - val_acc: 0.9828\n",
            "\n",
            "Epoch 00087: val_acc did not improve from 0.98625\n",
            "Epoch 88/100\n",
            "2901/2901 [==============================] - 0s 159us/step - loss: 0.0487 - acc: 0.9879 - val_loss: 0.0608 - val_acc: 0.9794\n",
            "\n",
            "Epoch 00088: val_acc did not improve from 0.98625\n",
            "Epoch 89/100\n",
            "2901/2901 [==============================] - 0s 153us/step - loss: 0.0507 - acc: 0.9859 - val_loss: 0.0606 - val_acc: 0.9759\n",
            "\n",
            "Epoch 00089: val_acc did not improve from 0.98625\n",
            "Epoch 90/100\n",
            "2901/2901 [==============================] - 0s 153us/step - loss: 0.0496 - acc: 0.9855 - val_loss: 0.0610 - val_acc: 0.9759\n",
            "\n",
            "Epoch 00090: val_acc did not improve from 0.98625\n",
            "Epoch 91/100\n",
            "2901/2901 [==============================] - 0s 151us/step - loss: 0.0490 - acc: 0.9859 - val_loss: 0.0599 - val_acc: 0.9794\n",
            "\n",
            "Epoch 00091: val_acc did not improve from 0.98625\n",
            "Epoch 92/100\n",
            "2901/2901 [==============================] - 0s 152us/step - loss: 0.0498 - acc: 0.9845 - val_loss: 0.0598 - val_acc: 0.9794\n",
            "\n",
            "Epoch 00092: val_acc did not improve from 0.98625\n",
            "Epoch 93/100\n",
            "2901/2901 [==============================] - 0s 156us/step - loss: 0.0503 - acc: 0.9848 - val_loss: 0.0604 - val_acc: 0.9794\n",
            "\n",
            "Epoch 00093: val_acc did not improve from 0.98625\n",
            "Epoch 94/100\n",
            "2901/2901 [==============================] - 0s 151us/step - loss: 0.0497 - acc: 0.9852 - val_loss: 0.0603 - val_acc: 0.9794\n",
            "\n",
            "Epoch 00094: val_acc did not improve from 0.98625\n",
            "Epoch 95/100\n",
            "2901/2901 [==============================] - 0s 154us/step - loss: 0.0482 - acc: 0.9859 - val_loss: 0.0592 - val_acc: 0.9759\n",
            "\n",
            "Epoch 00095: val_acc did not improve from 0.98625\n",
            "Epoch 96/100\n",
            "2901/2901 [==============================] - 0s 152us/step - loss: 0.0497 - acc: 0.9876 - val_loss: 0.0593 - val_acc: 0.9863\n",
            "\n",
            "Epoch 00096: val_acc did not improve from 0.98625\n",
            "Epoch 97/100\n",
            "2901/2901 [==============================] - 0s 155us/step - loss: 0.0499 - acc: 0.9859 - val_loss: 0.0588 - val_acc: 0.9794\n",
            "\n",
            "Epoch 00097: val_acc did not improve from 0.98625\n",
            "Epoch 98/100\n",
            "2901/2901 [==============================] - 0s 155us/step - loss: 0.0482 - acc: 0.9855 - val_loss: 0.0594 - val_acc: 0.9759\n",
            "\n",
            "Epoch 00098: val_acc did not improve from 0.98625\n",
            "Epoch 99/100\n",
            "2901/2901 [==============================] - 0s 149us/step - loss: 0.0481 - acc: 0.9866 - val_loss: 0.0593 - val_acc: 0.9794\n",
            "\n",
            "Epoch 00099: val_acc did not improve from 0.98625\n",
            "Epoch 100/100\n",
            "2901/2901 [==============================] - 0s 153us/step - loss: 0.0494 - acc: 0.9835 - val_loss: 0.0608 - val_acc: 0.9759\n",
            "\n",
            "Epoch 00100: val_acc did not improve from 0.98625\n"
          ],
          "name": "stdout"
        }
      ]
    },
    {
      "metadata": {
        "id": "OtGrA8RBKShg",
        "colab_type": "code",
        "colab": {}
      },
      "cell_type": "code",
      "source": [
        "model_path = 'emoint_lstm_model.h5'\n",
        "weight_path = 'emoint_lstm_weights.h5'\n",
        "\n",
        "model.save(model_path)\n",
        "model.save_weights(weight_path)"
      ],
      "execution_count": 0,
      "outputs": []
    },
    {
      "metadata": {
        "id": "eFzd1urtKeFw",
        "colab_type": "code",
        "colab": {
          "base_uri": "https://localhost:8080/",
          "height": 341
        },
        "outputId": "d8a48b36-c14d-4251-8358-c8e2026c7176"
      },
      "cell_type": "code",
      "source": [
        "!ls -lah"
      ],
      "execution_count": 58,
      "outputs": [
        {
          "output_type": "stream",
          "text": [
            "total 83M\n",
            "drwxr-xr-x 1 root root 4.0K Dec 18 02:45 .\n",
            "drwxr-xr-x 1 root root 4.0K Dec 18 02:25 ..\n",
            "-rw-r--r-- 1 root root 2.5K Dec 18 02:30 adc.json\n",
            "drwxr-xr-x 1 root root 4.0K Dec 18 02:30 .config\n",
            "-rw-r--r-- 1 root root  21M Dec 18 02:44 emoint_convnet_lstm_model.h5\n",
            "-rw-r--r-- 1 root root  11M Dec 18 02:44 emoint_convnet_lstm_weights.h5\n",
            "-rw-r--r-- 1 root root  20M Dec 18 02:30 emoint_embedded_matrix_word2vec.npy\n",
            "-rw-r--r-- 1 root root  21M Dec 18 02:45 emoint_lstm_model.h5\n",
            "-rw-r--r-- 1 root root  11M Dec 18 02:45 emoint_lstm_weights.h5\n",
            "-rw-r--r-- 1 root root 324K Dec 18 02:30 emoint_X_test.npy\n",
            "-rw-r--r-- 1 root root 337K Dec 18 02:30 emoint_X_train.npy\n",
            "-rw-r--r-- 1 root root  38K Dec 18 02:30 emoint_X_val.npy\n",
            "-rw-r--r-- 1 root root  40K Dec 18 02:30 emoint_y_test.npy\n",
            "-rw-r--r-- 1 root root  41K Dec 18 02:30 emoint_y_train.npy\n",
            "-rw-r--r-- 1 root root 4.7K Dec 18 02:30 emoint_y_val.npy\n",
            "drwxr-xr-x 1 root root 4.0K Dec 10 17:34 sample_data\n",
            "drwxr-xr-x 2 root root 4.0K Dec 18 02:44 tmp\n"
          ],
          "name": "stdout"
        }
      ]
    },
    {
      "metadata": {
        "id": "85MiexxMK8zd",
        "colab_type": "code",
        "colab": {}
      },
      "cell_type": "code",
      "source": [
        "upload_drive_file(\"Colab Notebooks\", model_path)\n",
        "upload_drive_file(\"Colab Notebooks\", weight_path)"
      ],
      "execution_count": 0,
      "outputs": []
    },
    {
      "metadata": {
        "id": "b0P0vTv-7RC6",
        "colab_type": "code",
        "colab": {}
      },
      "cell_type": "code",
      "source": [
        "sequences_test=tokenizer.texts_to_sequences(test_data.text)\n",
        "X_test = pad_sequences(sequences_test, maxlen=X_test.shape[1])\n",
        "y_pred = model.predict(X_test)"
      ],
      "execution_count": 0,
      "outputs": []
    },
    {
      "metadata": {
        "id": "IgHlDfC_-rS5",
        "colab_type": "code",
        "colab": {
          "base_uri": "https://localhost:8080/",
          "height": 35
        },
        "outputId": "1bc55b98-6e9a-472e-dce0-f08034a14f7d"
      },
      "cell_type": "code",
      "source": [
        "history.history.keys()"
      ],
      "execution_count": 46,
      "outputs": [
        {
          "output_type": "execute_result",
          "data": {
            "text/plain": [
              "dict_keys(['val_loss', 'val_acc', 'loss', 'acc'])"
            ]
          },
          "metadata": {
            "tags": []
          },
          "execution_count": 46
        }
      ]
    },
    {
      "metadata": {
        "id": "-JaFoS4u_pwS",
        "colab_type": "code",
        "colab": {}
      },
      "cell_type": "code",
      "source": [
        "y_pred_original = [labels[val] for val in np.argmax(y_pred, axis=1).squeeze()]\n",
        "y_test_original = np.asarray(test_data.emotion)"
      ],
      "execution_count": 0,
      "outputs": []
    },
    {
      "metadata": {
        "id": "BREyqdCAI9d0",
        "colab_type": "code",
        "colab": {}
      },
      "cell_type": "code",
      "source": [
        "def print_confusion_matrix(confusion_matrix, class_names, figsize = (4,3), fontsize=15):\n",
        "    \"\"\"Prints a confusion matrix, as returned by sklearn.metrics.confusion_matrix, as a heatmap.\n",
        "    \n",
        "    Arguments\n",
        "    ---------\n",
        "    confusion_matrix: numpy.ndarray\n",
        "        The numpy.ndarray object returned from a call to sklearn.metrics.confusion_matrix. \n",
        "        Similarly constructed ndarrays can also be used.\n",
        "    class_names: list\n",
        "        An ordered list of class names, in the order they index the given confusion matrix.\n",
        "    figsize: tuple\n",
        "        A 2-long tuple, the first value determining the horizontal size of the ouputted figure,\n",
        "        the second determining the vertical size. Defaults to (10,7).\n",
        "    fontsize: int\n",
        "        Font size for axes labels. Defaults to 14.\n",
        "        \n",
        "    Returns\n",
        "    -------\n",
        "    matplotlib.figure.Figure\n",
        "        The resulting confusion matrix figure\n",
        "    \"\"\"\n",
        "    df_cm = pd.DataFrame(\n",
        "        confusion_matrix, index=class_names, columns=class_names, \n",
        "    )\n",
        "    fig = plt.figure(figsize=figsize)\n",
        "    try:\n",
        "        heatmap = sns.heatmap(df_cm, annot=True, fmt=\"d\")\n",
        "    except ValueError:\n",
        "        raise ValueError(\"Confusion matrix values must be integers.\")\n",
        "    heatmap.yaxis.set_ticklabels(heatmap.yaxis.get_ticklabels(), rotation=0, ha='right', fontsize=fontsize)\n",
        "    heatmap.xaxis.set_ticklabels(heatmap.xaxis.get_ticklabels(), rotation=45, ha='right', fontsize=fontsize)\n",
        "    plt.ylabel('True label')\n",
        "    plt.xlabel('Predicted label')\n",
        "    return fig"
      ],
      "execution_count": 0,
      "outputs": []
    },
    {
      "metadata": {
        "id": "XG9HPQb10TZm",
        "colab_type": "code",
        "colab": {
          "base_uri": "https://localhost:8080/",
          "height": 173
        },
        "outputId": "9c029486-7619-4e30-a198-09d4be51cbc1"
      },
      "cell_type": "code",
      "source": [
        "cf_matrix = confusion_matrix(y_test_original, y_pred_original, labels=labels)\n",
        "\n",
        "df_cm = pd.DataFrame(\n",
        "    cf_matrix, index=labels, columns=labels, \n",
        ")\n",
        "\n",
        "df_cm"
      ],
      "execution_count": 49,
      "outputs": [
        {
          "output_type": "execute_result",
          "data": {
            "text/html": [
              "<div>\n",
              "<style scoped>\n",
              "    .dataframe tbody tr th:only-of-type {\n",
              "        vertical-align: middle;\n",
              "    }\n",
              "\n",
              "    .dataframe tbody tr th {\n",
              "        vertical-align: top;\n",
              "    }\n",
              "\n",
              "    .dataframe thead th {\n",
              "        text-align: right;\n",
              "    }\n",
              "</style>\n",
              "<table border=\"1\" class=\"dataframe\">\n",
              "  <thead>\n",
              "    <tr style=\"text-align: right;\">\n",
              "      <th></th>\n",
              "      <th>fear</th>\n",
              "      <th>anger</th>\n",
              "      <th>sadness</th>\n",
              "      <th>joy</th>\n",
              "    </tr>\n",
              "  </thead>\n",
              "  <tbody>\n",
              "    <tr>\n",
              "      <th>fear</th>\n",
              "      <td>562</td>\n",
              "      <td>76</td>\n",
              "      <td>109</td>\n",
              "      <td>42</td>\n",
              "    </tr>\n",
              "    <tr>\n",
              "      <th>anger</th>\n",
              "      <td>121</td>\n",
              "      <td>427</td>\n",
              "      <td>59</td>\n",
              "      <td>36</td>\n",
              "    </tr>\n",
              "    <tr>\n",
              "      <th>sadness</th>\n",
              "      <td>111</td>\n",
              "      <td>50</td>\n",
              "      <td>344</td>\n",
              "      <td>28</td>\n",
              "    </tr>\n",
              "    <tr>\n",
              "      <th>joy</th>\n",
              "      <td>80</td>\n",
              "      <td>24</td>\n",
              "      <td>30</td>\n",
              "      <td>409</td>\n",
              "    </tr>\n",
              "  </tbody>\n",
              "</table>\n",
              "</div>"
            ],
            "text/plain": [
              "         fear  anger  sadness  joy\n",
              "fear      562     76      109   42\n",
              "anger     121    427       59   36\n",
              "sadness   111     50      344   28\n",
              "joy        80     24       30  409"
            ]
          },
          "metadata": {
            "tags": []
          },
          "execution_count": 49
        }
      ]
    },
    {
      "metadata": {
        "id": "59xnXmbEAKXy",
        "colab_type": "code",
        "colab": {
          "base_uri": "https://localhost:8080/",
          "height": 282
        },
        "outputId": "541a8eea-0c13-4a73-cf29-308e249b68ad"
      },
      "cell_type": "code",
      "source": [
        "print(print_confusion_matrix(cf_matrix, class_names=labels))"
      ],
      "execution_count": 50,
      "outputs": [
        {
          "output_type": "stream",
          "text": [
            "Figure(288x216)\n"
          ],
          "name": "stdout"
        },
        {
          "output_type": "display_data",
          "data": {
            "image/png": "[encoded data removed]",
            "text/plain": [
              "<matplotlib.figure.Figure at 0x7f4f9229a1d0>"
            ]
          },
          "metadata": {
            "tags": []
          }
        }
      ]
    },
    {
      "metadata": {
        "id": "9XE5c4LJEZXy",
        "colab_type": "code",
        "colab": {
          "base_uri": "https://localhost:8080/",
          "height": 35
        },
        "outputId": "1655ec35-4b98-4975-8a01-4d1fd65a39de"
      },
      "cell_type": "code",
      "source": [
        "test_accuracy = accuracy_score(y_test_original, y_pred_original)\n",
        "print(\"test accuracy:\", test_accuracy)"
      ],
      "execution_count": 51,
      "outputs": [
        {
          "output_type": "stream",
          "text": [
            "test accuracy: 0.6945773524720893\n"
          ],
          "name": "stdout"
        }
      ]
    },
    {
      "metadata": {
        "id": "jAISNDCVwvR7",
        "colab_type": "text"
      },
      "cell_type": "markdown",
      "source": [
        "### Performance score for each classes"
      ]
    },
    {
      "metadata": {
        "id": "iFb9Q6A1DcXi",
        "colab_type": "code",
        "colab": {
          "base_uri": "https://localhost:8080/",
          "height": 173
        },
        "outputId": "a9c4f37a-e80d-46ff-a78e-8885ba7adf45"
      },
      "cell_type": "code",
      "source": [
        "precision, recall, fscore, support = precision_recall_fscore_support(y_test_original, y_pred_original)\n",
        "score_dict = {\n",
        "  \"precision\": precision.round(4),\n",
        "  \"recall\": recall.round(4),\n",
        "  \"f1-score\": fscore.round(4),\n",
        "  \"support\": support.round(4)\n",
        "}\n",
        "score_df = pd.DataFrame(score_dict, index=labels)\n",
        "score_df"
      ],
      "execution_count": 52,
      "outputs": [
        {
          "output_type": "execute_result",
          "data": {
            "text/html": [
              "<div>\n",
              "<style scoped>\n",
              "    .dataframe tbody tr th:only-of-type {\n",
              "        vertical-align: middle;\n",
              "    }\n",
              "\n",
              "    .dataframe tbody tr th {\n",
              "        vertical-align: top;\n",
              "    }\n",
              "\n",
              "    .dataframe thead th {\n",
              "        text-align: right;\n",
              "    }\n",
              "</style>\n",
              "<table border=\"1\" class=\"dataframe\">\n",
              "  <thead>\n",
              "    <tr style=\"text-align: right;\">\n",
              "      <th></th>\n",
              "      <th>f1-score</th>\n",
              "      <th>precision</th>\n",
              "      <th>recall</th>\n",
              "      <th>support</th>\n",
              "    </tr>\n",
              "  </thead>\n",
              "  <tbody>\n",
              "    <tr>\n",
              "      <th>fear</th>\n",
              "      <td>0.7000</td>\n",
              "      <td>0.7400</td>\n",
              "      <td>0.6641</td>\n",
              "      <td>643</td>\n",
              "    </tr>\n",
              "    <tr>\n",
              "      <th>anger</th>\n",
              "      <td>0.6759</td>\n",
              "      <td>0.6430</td>\n",
              "      <td>0.7123</td>\n",
              "      <td>789</td>\n",
              "    </tr>\n",
              "    <tr>\n",
              "      <th>sadness</th>\n",
              "      <td>0.7732</td>\n",
              "      <td>0.7942</td>\n",
              "      <td>0.7532</td>\n",
              "      <td>543</td>\n",
              "    </tr>\n",
              "    <tr>\n",
              "      <th>joy</th>\n",
              "      <td>0.6400</td>\n",
              "      <td>0.6347</td>\n",
              "      <td>0.6454</td>\n",
              "      <td>533</td>\n",
              "    </tr>\n",
              "  </tbody>\n",
              "</table>\n",
              "</div>"
            ],
            "text/plain": [
              "         f1-score  precision  recall  support\n",
              "fear       0.7000     0.7400  0.6641      643\n",
              "anger      0.6759     0.6430  0.7123      789\n",
              "sadness    0.7732     0.7942  0.7532      543\n",
              "joy        0.6400     0.6347  0.6454      533"
            ]
          },
          "metadata": {
            "tags": []
          },
          "execution_count": 52
        }
      ]
    },
    {
      "metadata": {
        "id": "cHi1Gw7Oz1zG",
        "colab_type": "text"
      },
      "cell_type": "markdown",
      "source": [
        "### Performance score using micro average"
      ]
    },
    {
      "metadata": {
        "id": "KP69PDE9D_jz",
        "colab_type": "code",
        "colab": {
          "base_uri": "https://localhost:8080/",
          "height": 80
        },
        "outputId": "eed9fe11-281b-43cc-8676-82422ce5f573"
      },
      "cell_type": "code",
      "source": [
        "precision, recall, fscore, support = precision_recall_fscore_support(y_test_original, y_pred_original, average=\"micro\")\n",
        "score_dict = {\n",
        "  \"precision\": precision.round(4),\n",
        "  \"recall\": recall.round(4),\n",
        "  \"f1-score\": fscore.round(4),\n",
        "  \"support\": support\n",
        "}\n",
        "score_df = pd.DataFrame(score_dict, index=[\"score\"])\n",
        "score_df"
      ],
      "execution_count": 53,
      "outputs": [
        {
          "output_type": "execute_result",
          "data": {
            "text/html": [
              "<div>\n",
              "<style scoped>\n",
              "    .dataframe tbody tr th:only-of-type {\n",
              "        vertical-align: middle;\n",
              "    }\n",
              "\n",
              "    .dataframe tbody tr th {\n",
              "        vertical-align: top;\n",
              "    }\n",
              "\n",
              "    .dataframe thead th {\n",
              "        text-align: right;\n",
              "    }\n",
              "</style>\n",
              "<table border=\"1\" class=\"dataframe\">\n",
              "  <thead>\n",
              "    <tr style=\"text-align: right;\">\n",
              "      <th></th>\n",
              "      <th>f1-score</th>\n",
              "      <th>precision</th>\n",
              "      <th>recall</th>\n",
              "      <th>support</th>\n",
              "    </tr>\n",
              "  </thead>\n",
              "  <tbody>\n",
              "    <tr>\n",
              "      <th>score</th>\n",
              "      <td>0.6946</td>\n",
              "      <td>0.6946</td>\n",
              "      <td>0.6946</td>\n",
              "      <td>None</td>\n",
              "    </tr>\n",
              "  </tbody>\n",
              "</table>\n",
              "</div>"
            ],
            "text/plain": [
              "       f1-score  precision  recall support\n",
              "score    0.6946     0.6946  0.6946    None"
            ]
          },
          "metadata": {
            "tags": []
          },
          "execution_count": 53
        }
      ]
    },
    {
      "metadata": {
        "id": "IWXNCktiz8Vb",
        "colab_type": "text"
      },
      "cell_type": "markdown",
      "source": [
        "### Performance score using macro average"
      ]
    },
    {
      "metadata": {
        "id": "g4e0vsNIydDs",
        "colab_type": "code",
        "colab": {
          "base_uri": "https://localhost:8080/",
          "height": 80
        },
        "outputId": "7cb1a5e0-415a-4b32-8d7b-918a34e9277a"
      },
      "cell_type": "code",
      "source": [
        "precision, recall, fscore, support = precision_recall_fscore_support(y_test_original, y_pred_original, average=\"macro\")\n",
        "score_dict = {\n",
        "  \"precision\": precision.round(4),\n",
        "  \"recall\": recall.round(4),\n",
        "  \"f1-score\": fscore.round(4),\n",
        "  \"support\": support\n",
        "}\n",
        "score_df = pd.DataFrame(score_dict, index=[\"score\"])\n",
        "score_df"
      ],
      "execution_count": 54,
      "outputs": [
        {
          "output_type": "execute_result",
          "data": {
            "text/html": [
              "<div>\n",
              "<style scoped>\n",
              "    .dataframe tbody tr th:only-of-type {\n",
              "        vertical-align: middle;\n",
              "    }\n",
              "\n",
              "    .dataframe tbody tr th {\n",
              "        vertical-align: top;\n",
              "    }\n",
              "\n",
              "    .dataframe thead th {\n",
              "        text-align: right;\n",
              "    }\n",
              "</style>\n",
              "<table border=\"1\" class=\"dataframe\">\n",
              "  <thead>\n",
              "    <tr style=\"text-align: right;\">\n",
              "      <th></th>\n",
              "      <th>f1-score</th>\n",
              "      <th>precision</th>\n",
              "      <th>recall</th>\n",
              "      <th>support</th>\n",
              "    </tr>\n",
              "  </thead>\n",
              "  <tbody>\n",
              "    <tr>\n",
              "      <th>score</th>\n",
              "      <td>0.6973</td>\n",
              "      <td>0.703</td>\n",
              "      <td>0.6937</td>\n",
              "      <td>None</td>\n",
              "    </tr>\n",
              "  </tbody>\n",
              "</table>\n",
              "</div>"
            ],
            "text/plain": [
              "       f1-score  precision  recall support\n",
              "score    0.6973      0.703  0.6937    None"
            ]
          },
          "metadata": {
            "tags": []
          },
          "execution_count": 54
        }
      ]
    },
    {
      "metadata": {
        "id": "wFJFH7u6z-oG",
        "colab_type": "text"
      },
      "cell_type": "markdown",
      "source": [
        "### Performance score using weighted average"
      ]
    },
    {
      "metadata": {
        "id": "z99JkHjuzv68",
        "colab_type": "code",
        "colab": {
          "base_uri": "https://localhost:8080/",
          "height": 80
        },
        "outputId": "aa8fe629-25a7-4d96-d74d-237aceb9e71b"
      },
      "cell_type": "code",
      "source": [
        "precision, recall, fscore, support = precision_recall_fscore_support(y_test_original, y_pred_original, average=\"weighted\")\n",
        "score_dict = {\n",
        "  \"precision\": precision.round(4),\n",
        "  \"recall\": recall.round(4),\n",
        "  \"f1-score\": fscore.round(4),\n",
        "  \"support\": support\n",
        "}\n",
        "score_df = pd.DataFrame(score_dict, index=[\"score\"])\n",
        "score_df"
      ],
      "execution_count": 55,
      "outputs": [
        {
          "output_type": "execute_result",
          "data": {
            "text/html": [
              "<div>\n",
              "<style scoped>\n",
              "    .dataframe tbody tr th:only-of-type {\n",
              "        vertical-align: middle;\n",
              "    }\n",
              "\n",
              "    .dataframe tbody tr th {\n",
              "        vertical-align: top;\n",
              "    }\n",
              "\n",
              "    .dataframe thead th {\n",
              "        text-align: right;\n",
              "    }\n",
              "</style>\n",
              "<table border=\"1\" class=\"dataframe\">\n",
              "  <thead>\n",
              "    <tr style=\"text-align: right;\">\n",
              "      <th></th>\n",
              "      <th>f1-score</th>\n",
              "      <th>precision</th>\n",
              "      <th>recall</th>\n",
              "      <th>support</th>\n",
              "    </tr>\n",
              "  </thead>\n",
              "  <tbody>\n",
              "    <tr>\n",
              "      <th>score</th>\n",
              "      <td>0.6955</td>\n",
              "      <td>0.6988</td>\n",
              "      <td>0.6946</td>\n",
              "      <td>None</td>\n",
              "    </tr>\n",
              "  </tbody>\n",
              "</table>\n",
              "</div>"
            ],
            "text/plain": [
              "       f1-score  precision  recall support\n",
              "score    0.6955     0.6988  0.6946    None"
            ]
          },
          "metadata": {
            "tags": []
          },
          "execution_count": 55
        }
      ]
    },
    {
      "metadata": {
        "id": "Y83dx5SyoBR8",
        "colab_type": "code",
        "colab": {
          "base_uri": "https://localhost:8080/",
          "height": 35
        },
        "outputId": "79bb5d46-79cb-45fc-bc0d-e4f66bed852f"
      },
      "cell_type": "code",
      "source": [
        "from sklearn.metrics import cohen_kappa_score\n",
        "\n",
        "kappa_score = cohen_kappa_score(y_test_original, y_pred_original, labels=labels)\n",
        "print(\"kappa:\", kappa_score)"
      ],
      "execution_count": 56,
      "outputs": [
        {
          "output_type": "stream",
          "text": [
            "kappa: 0.5878235616193829\n"
          ],
          "name": "stdout"
        }
      ]
    },
    {
      "metadata": {
        "id": "5womFgI2kjed",
        "colab_type": "code",
        "colab": {}
      },
      "cell_type": "code",
      "source": [
        ""
      ],
      "execution_count": 0,
      "outputs": []
    }
  ]
}