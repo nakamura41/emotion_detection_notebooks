{
 "cells": [
  {
   "cell_type": "code",
   "execution_count": 1,
   "metadata": {
    "colab": {
     "base_uri": "https://localhost:8080/",
     "height": 53
    },
    "colab_type": "code",
    "id": "OdaHCMv2rGKs",
    "outputId": "4c25ffe9-28d1-4b60-dc3e-c1bb37427aba"
   },
   "outputs": [
    {
     "name": "stderr",
     "output_type": "stream",
     "text": [
      "Using TensorFlow backend.\n"
     ]
    },
    {
     "name": "stdout",
     "output_type": "stream",
     "text": [
      "1.10.0\n",
      "['/job:localhost/replica:0/task:0/device:GPU:0']\n"
     ]
    }
   ],
   "source": [
    "import os\n",
    "os.environ[\"CUDA_DEVICE_ORDER\"]=\"PCI_BUS_ID\"\n",
    "# The GPU id to use, usually either \"0\" or \"1\"\n",
    "os.environ[\"CUDA_VISIBLE_DEVICES\"]=\"7\"\n",
    "\n",
    "import tensorflow as tf\n",
    "from keras import backend as K\n",
    "print(tf.__version__)\n",
    "print(K.tensorflow_backend._get_available_gpus())"
   ]
  },
  {
   "cell_type": "code",
   "execution_count": 2,
   "metadata": {},
   "outputs": [],
   "source": [
    "import numpy as np\n",
    "import urllib.request\n",
    "import pandas as pd\n",
    "from gensim.test.utils import common_texts, get_tmpfile\n",
    "from gensim.utils import simple_preprocess\n",
    "from gensim.models import Word2Vec\n",
    "from tempfile import gettempdir\n",
    "import zipfile\n",
    "from tensorflow.keras.preprocessing.text import Tokenizer\n",
    "from tensorflow.keras.preprocessing.sequence import pad_sequences\n",
    "from tensorflow.keras.utils import to_categorical\n",
    "from sklearn.model_selection import train_test_split\n",
    "from sklearn.metrics import confusion_matrix, precision_recall_fscore_support, accuracy_score\n",
    "import matplotlib.pyplot as plt\n",
    "import seaborn as sns"
   ]
  },
  {
   "cell_type": "code",
   "execution_count": 3,
   "metadata": {},
   "outputs": [],
   "source": [
    "from numpy.random import seed\n",
    "from tensorflow import set_random_seed\n",
    "\n",
    "RANDOM_SEED = 20190101\n",
    "\n",
    "def set_random(random_seed):\n",
    "    seed(random_seed)\n",
    "    set_random_seed(random_seed)\n",
    "\n",
    "set_random(RANDOM_SEED)"
   ]
  },
  {
   "cell_type": "code",
   "execution_count": 4,
   "metadata": {
    "colab": {},
    "colab_type": "code",
    "id": "oBynQmEcrNAy"
   },
   "outputs": [],
   "source": [
    "class EmoIntDataset(object):\n",
    "  BASE_URL = \"http://saifmohammad.com/WebDocs/\"\n",
    "  TRAIN_URI = \"EmoInt%20Train%20Data/{}-ratings-0to1.train.txt\"\n",
    "  TEST_URI = \"EmoInt%20Test%20Gold%20Data/{}-ratings-0to1.test.gold.txt\"\n",
    "  EMOTION_CLASSES = [\"anger\", \"fear\", \"joy\", \"sadness\"]\n",
    "  \n",
    "  THRESHOLD = 0.33\n",
    "  \n",
    "  def __load_data_per_class(self, url, threshold=0):\n",
    "    resource = urllib.request.urlopen(url)\n",
    "    np_array = np.asarray([line.split('\\t') for line in [line.strip() for line in resource.read().decode('utf-8').splitlines()]])\n",
    "    df = pd.DataFrame(np_array, columns=[\"id\", \"text\", \"emotion\", \"emotion_level\"])\n",
    "    df['emotion_level'] = df['emotion_level'].astype(float)\n",
    "    df = df.query('emotion_level>' + str(threshold))\n",
    "    return df[[\"text\", \"emotion\"]]\n",
    "  \n",
    "  def load_data(self, set_threshold=False):\n",
    "    train_data = None\n",
    "    test_data = None\n",
    "    \n",
    "    for emotion in self.EMOTION_CLASSES:\n",
    "      # load train dataset\n",
    "      train_df = self.__load_data_per_class(self.BASE_URL + self.TRAIN_URI.format(emotion), threshold=(self.THRESHOLD if set_threshold else 0))\n",
    "      \n",
    "      # load test dataset\n",
    "      test_df = self.__load_data_per_class(self.BASE_URL + self.TEST_URI.format(emotion), threshold=(self.THRESHOLD if set_threshold else 0))\n",
    "      \n",
    "      train_data = (train_df if train_data is None else train_data.append(train_df))\n",
    "      test_data = (test_df if test_data is None else test_data.append(test_df))\n",
    "      \n",
    "    return train_data, test_data"
   ]
  },
  {
   "cell_type": "code",
   "execution_count": 5,
   "metadata": {
    "colab": {
     "base_uri": "https://localhost:8080/",
     "height": 71
    },
    "colab_type": "code",
    "id": "tevwfq4Tu6fe",
    "outputId": "ec36e15a-4715-4252-aabf-39e9cf5965b8"
   },
   "outputs": [
    {
     "name": "stdout",
     "output_type": "stream",
     "text": [
      "(2610, 2)\n",
      "(291, 2)\n",
      "(2508, 2)\n"
     ]
    }
   ],
   "source": [
    "emo_int_dataset = EmoIntDataset()\n",
    "train_data, test_data = emo_int_dataset.load_data(set_threshold=True)\n",
    "train_data, valid_data = train_test_split(train_data, test_size=0.1, random_state=RANDOM_SEED, stratify=train_data.emotion)\n",
    "\n",
    "print(train_data.shape)\n",
    "print(valid_data.shape)\n",
    "print(test_data.shape)"
   ]
  },
  {
   "cell_type": "code",
   "execution_count": 6,
   "metadata": {
    "colab": {
     "base_uri": "https://localhost:8080/",
     "height": 53
    },
    "colab_type": "code",
    "id": "J-xXkD_4175U",
    "outputId": "a7a98816-a9aa-4124-f705-80c699360ece"
   },
   "outputs": [
    {
     "name": "stdout",
     "output_type": "stream",
     "text": [
      "{'fear': 0, 'joy': 1, 'anger': 2, 'sadness': 3}\n",
      "['fear', 'joy', 'anger', 'sadness']\n"
     ]
    }
   ],
   "source": [
    "emotions = train_data.emotion.unique()\n",
    "dic = dict()\n",
    "labels = []\n",
    "for i, emotion in enumerate(emotions):\n",
    "    dic[emotion]=i\n",
    "    labels.append(emotion)\n",
    "print(dic)\n",
    "print(labels)"
   ]
  },
  {
   "cell_type": "code",
   "execution_count": 7,
   "metadata": {
    "colab": {
     "base_uri": "https://localhost:8080/",
     "height": 35
    },
    "colab_type": "code",
    "id": "yhA_GXLyw1gx",
    "outputId": "1e3a39c7-2e9b-4c4f-8683-cbd05b975ce8"
   },
   "outputs": [
    {
     "name": "stdout",
     "output_type": "stream",
     "text": [
      "Found 8591 unique tokens.\n"
     ]
    }
   ],
   "source": [
    "NUM_WORDS=20000\n",
    "texts = train_data.text\n",
    "tokenizer = Tokenizer(num_words=NUM_WORDS,filters='!\"#$%&()*+,-./:;<=>?@[\\\\]^_`{|}~\\t\\n\\'',\n",
    "                      lower=True)\n",
    "tokenizer.fit_on_texts(texts)\n",
    "sequences_train = tokenizer.texts_to_sequences(texts)\n",
    "sequences_valid = tokenizer.texts_to_sequences(valid_data.text)\n",
    "sequences_test = tokenizer.texts_to_sequences(test_data.text)\n",
    "word_index = tokenizer.word_index\n",
    "print('Found %s unique tokens.' % len(word_index))"
   ]
  },
  {
   "cell_type": "code",
   "execution_count": 8,
   "metadata": {
    "colab": {
     "base_uri": "https://localhost:8080/",
     "height": 53
    },
    "colab_type": "code",
    "id": "f3a8LX2z0Vn3",
    "outputId": "9b05668d-f7b4-461c-a0eb-73f44b7dea6d"
   },
   "outputs": [
    {
     "name": "stdout",
     "output_type": "stream",
     "text": [
      "Shape of X train, validation and test tensor: (2610, 34) (291, 34) (2508, 34)\n",
      "Shape of label train, validation and test tensor: (2610, 4) (291, 4) (2508, 4)\n"
     ]
    }
   ],
   "source": [
    "X_train = pad_sequences(sequences_train)\n",
    "X_val = pad_sequences(sequences_valid, maxlen=X_train.shape[1])\n",
    "X_test = pad_sequences(sequences_test, maxlen=X_train.shape[1])\n",
    "\n",
    "y_train = to_categorical(np.asarray(train_data.emotion.apply(lambda x:dic[x])))\n",
    "y_val = to_categorical(np.asarray(valid_data.emotion.apply(lambda x:dic[x])))\n",
    "y_test = to_categorical(np.asarray(test_data.emotion.apply(lambda x:dic[x])))\n",
    "\n",
    "print('Shape of X train, validation and test tensor:', X_train.shape, X_val.shape, X_test.shape)\n",
    "print('Shape of label train, validation and test tensor:', y_train.shape, y_val.shape, y_test.shape)"
   ]
  },
  {
   "cell_type": "markdown",
   "metadata": {},
   "source": [
    "## Word Embedding using Word2Vec model trained in Twitter tweets"
   ]
  },
  {
   "cell_type": "code",
   "execution_count": 9,
   "metadata": {
    "colab": {},
    "colab_type": "code",
    "id": "naD_jPLlmlFq"
   },
   "outputs": [],
   "source": [
    "import gensim\n",
    "from gensim.models import Word2Vec\n",
    "from gensim.utils import simple_preprocess\n",
    "\n",
    "from gensim.models.keyedvectors import KeyedVectors\n",
    "\n",
    "word_vectors = KeyedVectors.load_word2vec_format('../../Datasets/WordEmbeddings/word2vec_twitter_model.bin', binary=True, unicode_errors='ignore')\n",
    "\n",
    "EMBEDDING_DIM=400\n",
    "vocabulary_size = min(len(word_index)+1, NUM_WORDS)\n",
    "embedding_matrix = np.zeros((vocabulary_size, EMBEDDING_DIM))\n",
    "for word, i in word_index.items():\n",
    "    if i>=NUM_WORDS:\n",
    "        continue\n",
    "    try:\n",
    "        embedding_vector = word_vectors[word]\n",
    "        embedding_matrix[i] = embedding_vector\n",
    "    except KeyError:\n",
    "        embedding_matrix[i] = np.random.normal(0,np.sqrt(0.25), EMBEDDING_DIM)\n",
    "\n",
    "del(word_vectors)"
   ]
  },
  {
   "cell_type": "code",
   "execution_count": 10,
   "metadata": {},
   "outputs": [],
   "source": [
    "file_embedded_matrix = \"emoint_embedded_matrix_word2vec_twitter.npy\"\n",
    "np.save(file_embedded_matrix, embedding_matrix)"
   ]
  },
  {
   "cell_type": "code",
   "execution_count": 11,
   "metadata": {},
   "outputs": [],
   "source": [
    "np.save(\"emoint_X_train.npy\", X_train)\n",
    "np.save(\"emoint_X_val.npy\", X_val)\n",
    "np.save(\"emoint_X_test.npy\", X_test)\n",
    "\n",
    "np.save(\"emoint_y_train.npy\", y_train)\n",
    "np.save(\"emoint_y_val.npy\", y_val)\n",
    "np.save(\"emoint_y_test.npy\", y_test)"
   ]
  },
  {
   "cell_type": "markdown",
   "metadata": {
    "colab_type": "text",
    "id": "5H1f3UbhE329"
   },
   "source": [
    "## Reload embedding layer and training dataset"
   ]
  },
  {
   "cell_type": "code",
   "execution_count": 12,
   "metadata": {
    "colab": {
     "base_uri": "https://localhost:8080/",
     "height": 71
    },
    "colab_type": "code",
    "id": "W_ksCjVeE3a2",
    "outputId": "0735ce9c-b13f-43f8-9942-081318aca6f6"
   },
   "outputs": [
    {
     "name": "stdout",
     "output_type": "stream",
     "text": [
      "embedding matrix shape: (8592, 400)\n"
     ]
    }
   ],
   "source": [
    "file_embedded_matrix = \"emoint_embedded_matrix_word2vec_twitter.npy\"\n",
    "embedding_matrix = np.load(file_embedded_matrix)\n",
    "print(\"embedding matrix shape:\", embedding_matrix.shape)"
   ]
  },
  {
   "cell_type": "code",
   "execution_count": 13,
   "metadata": {
    "colab": {
     "base_uri": "https://localhost:8080/",
     "height": 449
    },
    "colab_type": "code",
    "id": "FGZlNGwuE73I",
    "outputId": "777edc4c-7132-4a44-85f7-043f3b90a1d2"
   },
   "outputs": [],
   "source": [
    "X_train = np.load(\"emoint_X_train.npy\")\n",
    "X_val = np.load(\"emoint_X_val.npy\")\n",
    "X_test = np.load(\"emoint_X_test.npy\")\n",
    "\n",
    "y_train = np.load(\"emoint_y_train.npy\")\n",
    "y_val = np.load(\"emoint_y_val.npy\")\n",
    "y_test = np.load(\"emoint_y_test.npy\")"
   ]
  },
  {
   "cell_type": "code",
   "execution_count": 14,
   "metadata": {
    "colab": {
     "base_uri": "https://localhost:8080/",
     "height": 665
    },
    "colab_type": "code",
    "id": "Q0fX0z7_7Mi5",
    "outputId": "ec459fa1-dea4-41ed-fada-bc92e1e56eb0"
   },
   "outputs": [
    {
     "name": "stdout",
     "output_type": "stream",
     "text": [
      "34\n",
      "__________________________________________________________________________________________________\n",
      "Layer (type)                    Output Shape         Param #     Connected to                     \n",
      "==================================================================================================\n",
      "input_1 (InputLayer)            (None, 34)           0                                            \n",
      "__________________________________________________________________________________________________\n",
      "embedding (Embedding)           (None, 34, 400)      3436800     input_1[0][0]                    \n",
      "__________________________________________________________________________________________________\n",
      "reshape_1 (Reshape)             (None, 34, 400, 1)   0           embedding[0][0]                  \n",
      "__________________________________________________________________________________________________\n",
      "conv_1 (Conv2D)                 (None, 32, 1, 100)   120100      reshape_1[0][0]                  \n",
      "__________________________________________________________________________________________________\n",
      "conv_2 (Conv2D)                 (None, 31, 1, 100)   160100      reshape_1[0][0]                  \n",
      "__________________________________________________________________________________________________\n",
      "conv_3 (Conv2D)                 (None, 30, 1, 100)   200100      reshape_1[0][0]                  \n",
      "__________________________________________________________________________________________________\n",
      "maxpool_1 (MaxPooling2D)        (None, 1, 1, 100)    0           conv_1[0][0]                     \n",
      "__________________________________________________________________________________________________\n",
      "maxpool_2 (MaxPooling2D)        (None, 1, 1, 100)    0           conv_2[0][0]                     \n",
      "__________________________________________________________________________________________________\n",
      "maxpool_3 (MaxPooling2D)        (None, 1, 1, 100)    0           conv_3[0][0]                     \n",
      "__________________________________________________________________________________________________\n",
      "concatenate_1 (Concatenate)     (None, 3, 1, 100)    0           maxpool_1[0][0]                  \n",
      "                                                                 maxpool_2[0][0]                  \n",
      "                                                                 maxpool_3[0][0]                  \n",
      "__________________________________________________________________________________________________\n",
      "flatten (Flatten)               (None, 300)          0           concatenate_1[0][0]              \n",
      "__________________________________________________________________________________________________\n",
      "dropout_1 (Dropout)             (None, 300)          0           flatten[0][0]                    \n",
      "__________________________________________________________________________________________________\n",
      "dense_1 (Dense)                 (None, 4)            1204        dropout_1[0][0]                  \n",
      "==================================================================================================\n",
      "Total params: 3,918,304\n",
      "Trainable params: 3,918,304\n",
      "Non-trainable params: 0\n",
      "__________________________________________________________________________________________________\n"
     ]
    }
   ],
   "source": [
    "from tensorflow.keras.layers import Dense, Input, GlobalMaxPooling1D\n",
    "from tensorflow.keras.layers import Conv1D, MaxPooling1D, Embedding\n",
    "from tensorflow.keras.models import Model\n",
    "from tensorflow.keras.layers import Input, Dense, Embedding, Conv2D, MaxPooling2D, Dropout, concatenate, LSTM\n",
    "from tensorflow.keras.layers import Reshape, Flatten\n",
    "from tensorflow.keras.callbacks import EarlyStopping, ModelCheckpoint\n",
    "from tensorflow.keras.optimizers import Adam, Adadelta, RMSprop\n",
    "from tensorflow.keras.models import Model\n",
    "from tensorflow.keras import regularizers\n",
    "sequence_length = X_train.shape[1]\n",
    "filter_sizes = [3,4,5]\n",
    "num_filters = 100\n",
    "drop_rate = 0.5\n",
    "vocabulary_size = embedding_matrix.shape[0]\n",
    "EMBEDDING_DIM=400\n",
    "\n",
    "print(sequence_length)\n",
    "\n",
    "inputs = Input(shape=(sequence_length,), name='input_1')\n",
    "embedding_layer = Embedding(vocabulary_size, EMBEDDING_DIM, weights=[embedding_matrix], input_length=sequence_length, trainable=True, name='embedding')\n",
    "embedding = embedding_layer(inputs)\n",
    "reshape = Reshape((sequence_length, EMBEDDING_DIM, 1), name='reshape_1')(embedding)\n",
    "\n",
    "conv_1 = Conv2D(num_filters, (filter_sizes[0], EMBEDDING_DIM), activation='relu',kernel_regularizer=regularizers.l2(0.01), name='conv_1')(reshape)\n",
    "conv_2 = Conv2D(num_filters, (filter_sizes[1], EMBEDDING_DIM), activation='relu',kernel_regularizer=regularizers.l2(0.01), name='conv_2')(reshape)\n",
    "conv_3 = Conv2D(num_filters, (filter_sizes[2], EMBEDDING_DIM), activation='relu',kernel_regularizer=regularizers.l2(0.01), name='conv_3')(reshape)\n",
    "\n",
    "maxpool_1 = MaxPooling2D((sequence_length - filter_sizes[0] + 1, 1), strides=1, name='maxpool_1')(conv_1)\n",
    "maxpool_2 = MaxPooling2D((sequence_length - filter_sizes[1] + 1, 1), strides=1, name='maxpool_2')(conv_2)\n",
    "maxpool_3 = MaxPooling2D((sequence_length - filter_sizes[2] + 1, 1), strides=1, name='maxpool_3')(conv_3)\n",
    "\n",
    "merged_tensor = concatenate([maxpool_1, maxpool_2, maxpool_3], axis=1, name='concatenate_1')\n",
    "flatten = Flatten()(merged_tensor)\n",
    "dropout = Dropout(drop_rate, name='dropout_1')(flatten)\n",
    "output = Dense(units=4, activation='softmax',kernel_regularizer=regularizers.l2(0.01), name='dense_1')(dropout)\n",
    "\n",
    "model = None \n",
    "\n",
    "# this creates a model that includes\n",
    "model = Model(inputs, output)\n",
    "\n",
    "model.summary()"
   ]
  },
  {
   "cell_type": "code",
   "execution_count": 15,
   "metadata": {
    "colab": {
     "base_uri": "https://localhost:8080/",
     "height": 359
    },
    "colab_type": "code",
    "id": "rClQ6sed4JA5",
    "outputId": "b9e5e551-970b-40d4-f670-a15b3dea4c97"
   },
   "outputs": [
    {
     "name": "stdout",
     "output_type": "stream",
     "text": [
      "total 755560\r\n",
      "-rw-rw---- 1 david david   175476 Dec 18 15:21 CrowdFlower_Emotion_Analysis_ConvNet.ipynb\r\n",
      "drwxrwx--- 2 david david     4096 Jan  7 11:21 data\r\n",
      "-rw-rw---- 1 david david 55482008 Dec 21 10:50 emoint_bidirectional_lstm_fasttext_model.h5\r\n",
      "-rw-rw---- 1 david david 27745664 Dec 21 10:50 emoint_bidirectional_lstm_fasttext_weights.h5\r\n",
      "-rw-rw---- 1 david david 44703608 Jan  7 17:48 emoint_bidirectional_lstm_glove_model.h5\r\n",
      "-rw-rw---- 1 david david 22356464 Jan  7 17:48 emoint_bidirectional_lstm_glove_weights.h5\r\n",
      "-rw-rw---- 1 david david 55482008 Dec 21 10:25 emoint_bidirectional_lstm_word2vec_model.h5\r\n",
      "-rw-rw---- 1 david david 66260408 Jan  7 17:14 emoint_bidirectional_lstm_word2vec_twitter_model.h5\r\n",
      "-rw-rw---- 1 david david 33134864 Jan  7 17:14 emoint_bidirectional_lstm_word2vec_twitter_weights.h5\r\n",
      "-rw-rw---- 1 david david 27745664 Dec 21 10:25 emoint_bidirectional_lstm_word2vec_weights.h5\r\n",
      "-rw-rw---- 1 david david 23554384 Dec 20 17:53 emoint_convnet_fasttext_model.h5\r\n",
      "-rw-rw---- 1 david david 11783784 Dec 20 17:53 emoint_convnet_fasttext_weights.h5\r\n",
      "-rw-rw---- 1 david david 15720760 Jan  8 11:21 emoint_convnet_glove_model.h5\r\n",
      "-rw-rw---- 1 david david 15720784 Dec 19 14:02 emoint_convnet_glove_twitter_model.h5\r\n",
      "-rw-rw---- 1 david david  7866984 Dec 19 14:02 emoint_convnet_glove_twitter_weights.h5\r\n",
      "-rw-rw---- 1 david david  7866960 Jan  8 11:21 emoint_convnet_glove_weights.h5\r\n",
      "-rw-rw---- 1 david david 21564208 Dec 21 15:03 emoint_convnet_model.h5\r\n",
      "-rw-rw---- 1 david david 21564208 Dec 21 15:04 emoint_convnet_single_model.h5\r\n",
      "-rw-rw---- 1 david david 10787480 Dec 21 15:04 emoint_convnet_single_weights.h5\r\n",
      "-rw-rw---- 1 david david 10787480 Dec 21 15:03 emoint_convnet_weights.h5\r\n",
      "-rw-rw---- 1 david david 31387984 Dec 19 13:50 emoint_convnet_word2vec_twitter_model.h5\r\n",
      "-rw-rw---- 1 david david 15700584 Dec 19 13:50 emoint_convnet_word2vec_twitter_weights.h5\r\n",
      "-rw-rw---- 1 david david 20815328 Dec 21 10:47 emoint_embedded_matrix_fasttext_wikipedia.npy\r\n",
      "-rw-rw---- 1 david david 13747328 Jan  8 11:20 emoint_embedded_matrix_glove_twitter.npy\r\n",
      "-rw-rw---- 1 david david 20815328 Dec 21 10:21 emoint_embedded_matrix_word2vec.npy\r\n",
      "-rw-rw---- 1 david david 27494528 Jan  8 11:30 emoint_embedded_matrix_word2vec_twitter.npy\r\n",
      "-rw-rw---- 1 david david   144822 Dec 18 15:21 EmoInt_Embedding_Comparison.ipynb\r\n",
      "-rw-rw---- 1 david david    85355 Dec 21 11:09 EmoInt_Emotion_Analysis_Bidirectional_LSTM_Threshold_0_33_FastText_local.ipynb\r\n",
      "-rw-rw---- 1 david david    26030 Jan  7 17:45 EmoInt_Emotion_Analysis_Bidirectional_LSTM_Threshold_0_33_Glove_local.ipynb\r\n",
      "-rw-rw---- 1 david david    99516 Dec 21 10:03 EmoInt_Emotion_Analysis_Bidirectional_LSTM_Threshold_0_33.ipynb\r\n",
      "-rw-rw---- 1 david david    80836 Jan  7 10:57 EmoInt_Emotion_Analysis_Bidirectional_LSTM_Threshold_0_33_Word2Vec-GoogleNews_local.ipynb\r\n",
      "-rw-rw---- 1 david david    82946 Jan  7 17:26 EmoInt_Emotion_Analysis_Bidirectional_LSTM_Threshold_0_33_Word2Vec-Twitter_local.ipynb\r\n",
      "-rw-rw---- 1 david david   106254 Dec 21 13:49 EmoInt_Emotion_Analysis_ConvNet_LSTM_Threshold_0_33.ipynb\r\n",
      "-rw-rw---- 1 david david    93235 Dec 21 15:04 EmoInt_Emotion_Analysis_ConvNet_single_Threshold_0_33_local.ipynb\r\n",
      "-rw-rw---- 1 david david    84622 Dec 18 15:21 EmoInt_Emotion_Analysis_ConvNet_Threshold_0_30.ipynb\r\n",
      "-rw-rw---- 1 david david    94037 Jan  7 16:20 EmoInt_Emotion_Analysis_ConvNet_Threshold_0_33_FastText_local.ipynb\r\n",
      "-rw-rw---- 1 david david   129473 Dec 21 11:20 EmoInt_Emotion_Analysis_ConvNet_Threshold_0_33_Glove.ipynb\r\n",
      "-rw-rw---- 1 david david    99112 Jan  8 11:22 EmoInt_Emotion_Analysis_ConvNet_Threshold_0_33_Glove_local.ipynb\r\n",
      "-rw-rw---- 1 david david   133515 Dec 19 10:26 EmoInt_Emotion_Analysis_ConvNet_Threshold_0_33.ipynb\r\n",
      "-rw-rw---- 1 david david    87014 Jan  7 10:57 EmoInt_Emotion_Analysis_ConvNet_Threshold_0_33_Word2Vec-GoogleNews_local.ipynb\r\n",
      "-rw-rw---- 1 david david    29484 Jan  8 11:30 EmoInt_Emotion_Analysis_ConvNet_Threshold_0_33_Word2Vec-Twitter_local.ipynb\r\n",
      "-rw-rw---- 1 david david    38776 Dec 19 16:14 EmoInt_Emotion_Analysis_Elmo_Threshold_0_33.ipynb\r\n",
      "-rw-rw---- 1 david david   116312 Dec 18 15:21 EmoInt_Emotion_Analysis_LSTM_Threshold_0_33.ipynb\r\n",
      "-rw-rw---- 1 david david    76589 Dec 18 15:21 EmoInt_Sentiment_Analysis_ConvNet.ipynb\r\n",
      "-rw-rw---- 1 david david    79654 Dec 18 15:21 EmoInt_Sentiment_Analysis_LSTM_ConvNet.ipynb\r\n",
      "-rw-rw---- 1 david david   341216 Jan  8 11:30 emoint_X_test.npy\r\n",
      "-rw-rw---- 1 david david   355088 Jan  8 11:30 emoint_X_train.npy\r\n",
      "-rw-rw---- 1 david david    39704 Jan  8 11:30 emoint_X_val.npy\r\n",
      "-rw-rw---- 1 david david    40256 Jan  8 11:30 emoint_y_test.npy\r\n",
      "-rw-rw---- 1 david david    41888 Jan  8 11:30 emoint_y_train.npy\r\n",
      "-rw-rw---- 1 david david     4784 Jan  8 11:30 emoint_y_val.npy\r\n",
      "drwxrwx--- 8 david david     4096 Jan  8 11:22 .git\r\n",
      "-rw-rw---- 1 david david     1269 Jan  7 11:45 .gitignore\r\n",
      "drwxrwx--- 2 david david     4096 Jan  7 17:34 .ipynb_checkpoints\r\n",
      "-rw-rw---- 1 david david 30298872 Jan  7 13:38 isear_convnet_fasttext_wikipedia_model.h5\r\n",
      "-rw-rw---- 1 david david 10110960 Jan  7 13:38 isear_convnet_fasttext_wikipedia_weights.h5\r\n",
      "-rw-rw---- 1 david david 20224872 Jan  7 13:20 isear_convnet_glove_twitter_model.h5\r\n",
      "-rw-rw---- 1 david david  6752960 Jan  7 13:20 isear_convnet_glove_twitter_weights.h5\r\n",
      "-rw-rw---- 1 david david 30298944 Jan  7 11:42 isear_convnet_word2vec_googlenews_model.h5\r\n",
      "-rw-rw---- 1 david david 10110976 Jan  7 11:42 isear_convnet_word2vec_googlenews_weights.h5\r\n",
      "-rw-rw---- 1 david david 17268128 Jan  7 13:37 isear_embedded_matrix_fasttext_wikipedia.npy\r\n",
      "-rw-rw---- 1 david david 11512128 Jan  7 13:19 isear_embedded_matrix_glove_twitter.npy\r\n",
      "-rw-rw---- 1 david david 17268128 Jan  7 11:25 isear_embedded_matrix_word2vec_googlenews.npy\r\n",
      "-rw-rw---- 1 david david   251911 Dec 18 15:21 ISEAR_Embedding_Comparison.ipynb\r\n",
      "-rw-rw---- 1 david david   121995 Jan  7 13:42 ISEAR_Emotion_Analysis_ConvNet_FastText_local.ipynb\r\n",
      "-rw-rw---- 1 david david   123449 Jan  7 13:25 ISEAR_Emotion_Analysis_ConvNet_Glove_local.ipynb\r\n",
      "-rw-rw---- 1 david david   152471 Jan  7 11:15 ISEAR_Emotion_Analysis_ConvNet_Word2Vec-GoogleNews.ipynb\r\n",
      "-rw-rw---- 1 david david   120583 Jan  7 13:11 ISEAR_Emotion_Analysis_ConvNet_Word2Vec-GoogleNews_local.ipynb\r\n",
      "-rw-rw---- 1 david david  1766528 Jan  7 13:37 isear_X_test.npy\r\n",
      "-rw-rw---- 1 david david  3708800 Jan  7 13:37 isear_X_train.npy\r\n",
      "-rw-rw---- 1 david david   412544 Jan  7 13:37 isear_X_val.npy\r\n",
      "-rw-rw---- 1 david david    64528 Jan  7 13:37 isear_y_test.npy\r\n",
      "-rw-rw---- 1 david david   135340 Jan  7 13:37 isear_y_train.npy\r\n",
      "-rw-rw---- 1 david david    15164 Jan  7 13:37 isear_y_val.npy\r\n",
      "-rw-rw---- 1 david david    35147 Dec 18 15:21 LICENSE\r\n",
      "-rw-rw---- 1 david david       29 Dec 18 15:21 README.md\r\n",
      "drwxr-x--- 3 david david     4096 Dec 19 16:06 tfhub_modules\r\n",
      "drwxrwx--- 2 david david     4096 Jan  8 11:30 tmp\r\n"
     ]
    }
   ],
   "source": [
    "!rm -r tmp\n",
    "!mkdir tmp\n",
    "!ls -lA"
   ]
  },
  {
   "cell_type": "code",
   "execution_count": 16,
   "metadata": {
    "colab": {
     "base_uri": "https://localhost:8080/",
     "height": 7235
    },
    "colab_type": "code",
    "id": "HHZ1POD77GRp",
    "outputId": "d1bb2a8a-651f-44c3-dbff-8c1ed50751d0"
   },
   "outputs": [
    {
     "name": "stderr",
     "output_type": "stream",
     "text": [
      "/home/david/anaconda3/envs/tf36/lib/python3.6/site-packages/tensorflow/python/ops/gradients_impl.py:108: UserWarning: Converting sparse IndexedSlices to a dense Tensor of unknown shape. This may consume a large amount of memory.\n",
      "  \"Converting sparse IndexedSlices to a dense Tensor of unknown shape. \"\n"
     ]
    },
    {
     "name": "stdout",
     "output_type": "stream",
     "text": [
      "Train on 2610 samples, validate on 291 samples\n",
      "Epoch 1/100\n",
      "2610/2610 [==============================] - 3s 1ms/step - loss: 1.9128 - acc: 0.2770 - val_loss: 1.5143 - val_acc: 0.3643\n",
      "\n",
      "Epoch 00001: val_acc improved from -inf to 0.36426, saving model to tmp/weights-01-0.36.hdf5\n",
      "Epoch 2/100\n",
      "2610/2610 [==============================] - 0s 39us/step - loss: 1.4272 - acc: 0.4900 - val_loss: 1.3994 - val_acc: 0.4948\n",
      "\n",
      "Epoch 00002: val_acc improved from 0.36426 to 0.49485, saving model to tmp/weights-02-0.49.hdf5\n",
      "Epoch 3/100\n",
      "2610/2610 [==============================] - 0s 35us/step - loss: 1.2870 - acc: 0.5985 - val_loss: 1.3074 - val_acc: 0.5842\n",
      "\n",
      "Epoch 00003: val_acc improved from 0.49485 to 0.58419, saving model to tmp/weights-03-0.58.hdf5\n",
      "Epoch 4/100\n",
      "2610/2610 [==============================] - 0s 35us/step - loss: 1.1614 - acc: 0.7134 - val_loss: 1.2010 - val_acc: 0.7320\n",
      "\n",
      "Epoch 00004: val_acc improved from 0.58419 to 0.73196, saving model to tmp/weights-04-0.73.hdf5\n",
      "Epoch 5/100\n",
      "2610/2610 [==============================] - 0s 36us/step - loss: 1.0553 - acc: 0.7801 - val_loss: 1.1746 - val_acc: 0.6735\n",
      "\n",
      "Epoch 00005: val_acc did not improve from 0.73196\n",
      "Epoch 6/100\n",
      "2610/2610 [==============================] - 0s 35us/step - loss: 0.9562 - acc: 0.7962 - val_loss: 1.0399 - val_acc: 0.6598\n",
      "\n",
      "Epoch 00006: val_acc did not improve from 0.73196\n",
      "Epoch 7/100\n",
      "2610/2610 [==============================] - 0s 35us/step - loss: 0.8623 - acc: 0.8207 - val_loss: 0.9708 - val_acc: 0.7835\n",
      "\n",
      "Epoch 00007: val_acc improved from 0.73196 to 0.78351, saving model to tmp/weights-07-0.78.hdf5\n",
      "Epoch 8/100\n",
      "2610/2610 [==============================] - 0s 35us/step - loss: 0.7851 - acc: 0.8716 - val_loss: 0.9088 - val_acc: 0.8007\n",
      "\n",
      "Epoch 00008: val_acc improved from 0.78351 to 0.80069, saving model to tmp/weights-08-0.80.hdf5\n",
      "Epoch 9/100\n",
      "2610/2610 [==============================] - 0s 35us/step - loss: 0.6972 - acc: 0.9027 - val_loss: 0.8188 - val_acc: 0.8557\n",
      "\n",
      "Epoch 00009: val_acc improved from 0.80069 to 0.85567, saving model to tmp/weights-09-0.86.hdf5\n",
      "Epoch 10/100\n",
      "2610/2610 [==============================] - 0s 35us/step - loss: 0.6594 - acc: 0.9161 - val_loss: 0.8744 - val_acc: 0.8007\n",
      "\n",
      "Epoch 00010: val_acc did not improve from 0.85567\n",
      "Epoch 11/100\n",
      "2610/2610 [==============================] - 0s 35us/step - loss: 0.6465 - acc: 0.9134 - val_loss: 0.7578 - val_acc: 0.8694\n",
      "\n",
      "Epoch 00011: val_acc improved from 0.85567 to 0.86942, saving model to tmp/weights-11-0.87.hdf5\n",
      "Epoch 12/100\n",
      "2610/2610 [==============================] - 0s 34us/step - loss: 0.5442 - acc: 0.9590 - val_loss: 0.7155 - val_acc: 0.8729\n",
      "\n",
      "Epoch 00012: val_acc improved from 0.86942 to 0.87285, saving model to tmp/weights-12-0.87.hdf5\n",
      "Epoch 13/100\n",
      "2610/2610 [==============================] - 0s 37us/step - loss: 0.5160 - acc: 0.9594 - val_loss: 0.7240 - val_acc: 0.8660\n",
      "\n",
      "Epoch 00013: val_acc did not improve from 0.87285\n",
      "Epoch 14/100\n",
      "2610/2610 [==============================] - 0s 36us/step - loss: 0.5195 - acc: 0.9552 - val_loss: 0.7407 - val_acc: 0.8454\n",
      "\n",
      "Epoch 00014: val_acc did not improve from 0.87285\n",
      "Epoch 15/100\n",
      "2610/2610 [==============================] - 0s 37us/step - loss: 0.4893 - acc: 0.9690 - val_loss: 0.6975 - val_acc: 0.8557\n",
      "\n",
      "Epoch 00015: val_acc did not improve from 0.87285\n",
      "Epoch 16/100\n",
      "2610/2610 [==============================] - 0s 36us/step - loss: 0.5127 - acc: 0.9444 - val_loss: 0.7112 - val_acc: 0.8557\n",
      "\n",
      "Epoch 00016: val_acc did not improve from 0.87285\n",
      "Epoch 17/100\n",
      "2610/2610 [==============================] - 0s 36us/step - loss: 0.4568 - acc: 0.9697 - val_loss: 0.6315 - val_acc: 0.8935\n",
      "\n",
      "Epoch 00017: val_acc improved from 0.87285 to 0.89347, saving model to tmp/weights-17-0.89.hdf5\n",
      "Epoch 18/100\n",
      "2610/2610 [==============================] - 0s 34us/step - loss: 0.4255 - acc: 0.9720 - val_loss: 0.7125 - val_acc: 0.8557\n",
      "\n",
      "Epoch 00018: val_acc did not improve from 0.89347\n",
      "Epoch 19/100\n",
      "2610/2610 [==============================] - 0s 35us/step - loss: 0.4741 - acc: 0.9617 - val_loss: 0.6431 - val_acc: 0.8866\n",
      "\n",
      "Epoch 00019: val_acc did not improve from 0.89347\n",
      "Epoch 20/100\n",
      "2610/2610 [==============================] - 0s 36us/step - loss: 0.4118 - acc: 0.9759 - val_loss: 0.6401 - val_acc: 0.8763\n",
      "\n",
      "Epoch 00020: val_acc did not improve from 0.89347\n",
      "Epoch 21/100\n",
      "2610/2610 [==============================] - 0s 35us/step - loss: 0.4130 - acc: 0.9736 - val_loss: 0.6783 - val_acc: 0.8488\n",
      "\n",
      "Epoch 00021: val_acc did not improve from 0.89347\n",
      "Epoch 22/100\n",
      "2610/2610 [==============================] - 0s 35us/step - loss: 0.4068 - acc: 0.9713 - val_loss: 0.6054 - val_acc: 0.8763\n",
      "\n",
      "Epoch 00022: val_acc did not improve from 0.89347\n",
      "Epoch 23/100\n",
      "2610/2610 [==============================] - 0s 35us/step - loss: 0.3620 - acc: 0.9778 - val_loss: 0.6047 - val_acc: 0.8900\n",
      "\n",
      "Epoch 00023: val_acc did not improve from 0.89347\n",
      "Epoch 24/100\n",
      "2610/2610 [==============================] - 0s 35us/step - loss: 0.3891 - acc: 0.9736 - val_loss: 0.6399 - val_acc: 0.8557\n",
      "\n",
      "Epoch 00024: val_acc did not improve from 0.89347\n",
      "Epoch 25/100\n",
      "2610/2610 [==============================] - 0s 35us/step - loss: 0.3525 - acc: 0.9839 - val_loss: 0.5713 - val_acc: 0.8935\n",
      "\n",
      "Epoch 00025: val_acc did not improve from 0.89347\n",
      "Epoch 26/100\n",
      "2610/2610 [==============================] - 0s 35us/step - loss: 0.3373 - acc: 0.9843 - val_loss: 0.6140 - val_acc: 0.8694\n",
      "\n",
      "Epoch 00026: val_acc did not improve from 0.89347\n",
      "Epoch 27/100\n",
      "2610/2610 [==============================] - 0s 35us/step - loss: 0.3789 - acc: 0.9720 - val_loss: 0.7546 - val_acc: 0.8041\n",
      "\n",
      "Epoch 00027: val_acc did not improve from 0.89347\n",
      "Epoch 28/100\n",
      "2610/2610 [==============================] - 0s 35us/step - loss: 0.4269 - acc: 0.9529 - val_loss: 0.5793 - val_acc: 0.8832\n",
      "\n",
      "Epoch 00028: val_acc did not improve from 0.89347\n",
      "Epoch 29/100\n",
      "2610/2610 [==============================] - 0s 35us/step - loss: 0.3189 - acc: 0.9862 - val_loss: 0.5512 - val_acc: 0.8900\n",
      "\n",
      "Epoch 00029: val_acc did not improve from 0.89347\n",
      "Epoch 30/100\n",
      "2610/2610 [==============================] - 0s 35us/step - loss: 0.3067 - acc: 0.9839 - val_loss: 0.5432 - val_acc: 0.9003\n",
      "\n",
      "Epoch 00030: val_acc improved from 0.89347 to 0.90034, saving model to tmp/weights-30-0.90.hdf5\n",
      "Epoch 31/100\n",
      "2610/2610 [==============================] - 0s 35us/step - loss: 0.2983 - acc: 0.9847 - val_loss: 0.5789 - val_acc: 0.8729\n",
      "\n",
      "Epoch 00031: val_acc did not improve from 0.90034\n",
      "Epoch 32/100\n",
      "2610/2610 [==============================] - 0s 35us/step - loss: 0.3311 - acc: 0.9785 - val_loss: 0.6400 - val_acc: 0.8625\n",
      "\n",
      "Epoch 00032: val_acc did not improve from 0.90034\n",
      "Epoch 33/100\n",
      "2610/2610 [==============================] - 0s 35us/step - loss: 0.3473 - acc: 0.9716 - val_loss: 0.5792 - val_acc: 0.8729\n",
      "\n",
      "Epoch 00033: val_acc did not improve from 0.90034\n",
      "Epoch 34/100\n",
      "2610/2610 [==============================] - 0s 36us/step - loss: 0.2979 - acc: 0.9820 - val_loss: 0.5455 - val_acc: 0.8797\n",
      "\n",
      "Epoch 00034: val_acc did not improve from 0.90034\n",
      "Epoch 35/100\n",
      "2610/2610 [==============================] - 0s 35us/step - loss: 0.2888 - acc: 0.9828 - val_loss: 0.5566 - val_acc: 0.8797\n",
      "\n",
      "Epoch 00035: val_acc did not improve from 0.90034\n",
      "Epoch 36/100\n",
      "2610/2610 [==============================] - 0s 36us/step - loss: 0.3008 - acc: 0.9843 - val_loss: 0.6316 - val_acc: 0.8522\n",
      "\n",
      "Epoch 00036: val_acc did not improve from 0.90034\n",
      "Epoch 37/100\n",
      "2610/2610 [==============================] - 0s 35us/step - loss: 0.3456 - acc: 0.9743 - val_loss: 0.5830 - val_acc: 0.8797\n",
      "\n",
      "Epoch 00037: val_acc did not improve from 0.90034\n",
      "Epoch 38/100\n",
      "2610/2610 [==============================] - 0s 35us/step - loss: 0.2867 - acc: 0.9820 - val_loss: 0.5326 - val_acc: 0.8935\n",
      "\n",
      "Epoch 00038: val_acc did not improve from 0.90034\n",
      "Epoch 39/100\n",
      "2610/2610 [==============================] - 0s 35us/step - loss: 0.2624 - acc: 0.9885 - val_loss: 0.5173 - val_acc: 0.9003\n",
      "\n",
      "Epoch 00039: val_acc did not improve from 0.90034\n",
      "Epoch 40/100\n",
      "2610/2610 [==============================] - 0s 37us/step - loss: 0.2708 - acc: 0.9862 - val_loss: 0.5507 - val_acc: 0.8694\n",
      "\n",
      "Epoch 00040: val_acc did not improve from 0.90034\n",
      "Epoch 41/100\n",
      "2610/2610 [==============================] - 0s 37us/step - loss: 0.2743 - acc: 0.9831 - val_loss: 0.5497 - val_acc: 0.8935\n"
     ]
    },
    {
     "name": "stdout",
     "output_type": "stream",
     "text": [
      "\n",
      "Epoch 00041: val_acc did not improve from 0.90034\n",
      "Epoch 42/100\n",
      "2610/2610 [==============================] - 0s 35us/step - loss: 0.2871 - acc: 0.9839 - val_loss: 0.5701 - val_acc: 0.8694\n",
      "\n",
      "Epoch 00042: val_acc did not improve from 0.90034\n",
      "Epoch 43/100\n",
      "2610/2610 [==============================] - 0s 36us/step - loss: 0.2733 - acc: 0.9828 - val_loss: 0.5267 - val_acc: 0.8729\n",
      "\n",
      "Epoch 00043: val_acc did not improve from 0.90034\n",
      "Epoch 44/100\n",
      "2610/2610 [==============================] - 0s 35us/step - loss: 0.2652 - acc: 0.9839 - val_loss: 0.5573 - val_acc: 0.8729\n",
      "\n",
      "Epoch 00044: val_acc did not improve from 0.90034\n",
      "Epoch 45/100\n",
      "2610/2610 [==============================] - 0s 34us/step - loss: 0.2615 - acc: 0.9870 - val_loss: 0.5251 - val_acc: 0.8763\n",
      "\n",
      "Epoch 00045: val_acc did not improve from 0.90034\n",
      "Epoch 46/100\n",
      "2610/2610 [==============================] - 0s 35us/step - loss: 0.2547 - acc: 0.9839 - val_loss: 0.5215 - val_acc: 0.8866\n",
      "\n",
      "Epoch 00046: val_acc did not improve from 0.90034\n",
      "Epoch 47/100\n",
      "2610/2610 [==============================] - 0s 35us/step - loss: 0.2432 - acc: 0.9847 - val_loss: 0.5221 - val_acc: 0.8866\n",
      "\n",
      "Epoch 00047: val_acc did not improve from 0.90034\n",
      "Epoch 48/100\n",
      "2610/2610 [==============================] - 0s 36us/step - loss: 0.2636 - acc: 0.9847 - val_loss: 0.6023 - val_acc: 0.8522\n",
      "\n",
      "Epoch 00048: val_acc did not improve from 0.90034\n",
      "Epoch 49/100\n",
      "2610/2610 [==============================] - 0s 35us/step - loss: 0.2732 - acc: 0.9801 - val_loss: 0.5171 - val_acc: 0.9003\n",
      "\n",
      "Epoch 00049: val_acc did not improve from 0.90034\n",
      "Epoch 50/100\n",
      "2610/2610 [==============================] - 0s 36us/step - loss: 0.2399 - acc: 0.9862 - val_loss: 0.5081 - val_acc: 0.8797\n",
      "\n",
      "Epoch 00050: val_acc did not improve from 0.90034\n",
      "Epoch 51/100\n",
      "2610/2610 [==============================] - 0s 36us/step - loss: 0.2352 - acc: 0.9877 - val_loss: 0.5654 - val_acc: 0.8694\n",
      "\n",
      "Epoch 00051: val_acc did not improve from 0.90034\n",
      "Epoch 52/100\n",
      "2610/2610 [==============================] - 0s 36us/step - loss: 0.2729 - acc: 0.9816 - val_loss: 0.5441 - val_acc: 0.8729\n",
      "\n",
      "Epoch 00052: val_acc did not improve from 0.90034\n",
      "Epoch 53/100\n",
      "2610/2610 [==============================] - 0s 35us/step - loss: 0.2367 - acc: 0.9854 - val_loss: 0.5125 - val_acc: 0.8866\n",
      "\n",
      "Epoch 00053: val_acc did not improve from 0.90034\n",
      "Epoch 54/100\n",
      "2610/2610 [==============================] - 0s 35us/step - loss: 0.2255 - acc: 0.9897 - val_loss: 0.4887 - val_acc: 0.9038\n",
      "\n",
      "Epoch 00054: val_acc improved from 0.90034 to 0.90378, saving model to tmp/weights-54-0.90.hdf5\n",
      "Epoch 55/100\n",
      "2610/2610 [==============================] - 0s 35us/step - loss: 0.2182 - acc: 0.9881 - val_loss: 0.5016 - val_acc: 0.8866\n",
      "\n",
      "Epoch 00055: val_acc did not improve from 0.90378\n",
      "Epoch 56/100\n",
      "2610/2610 [==============================] - 0s 37us/step - loss: 0.2266 - acc: 0.9874 - val_loss: 0.6215 - val_acc: 0.8213\n",
      "\n",
      "Epoch 00056: val_acc did not improve from 0.90378\n",
      "Epoch 57/100\n",
      "2610/2610 [==============================] - 0s 36us/step - loss: 0.3246 - acc: 0.9590 - val_loss: 0.5159 - val_acc: 0.9003\n",
      "\n",
      "Epoch 00057: val_acc did not improve from 0.90378\n",
      "Epoch 58/100\n",
      "2610/2610 [==============================] - 0s 37us/step - loss: 0.2222 - acc: 0.9897 - val_loss: 0.5002 - val_acc: 0.8866\n",
      "\n",
      "Epoch 00058: val_acc did not improve from 0.90378\n",
      "Epoch 59/100\n",
      "2610/2610 [==============================] - 0s 36us/step - loss: 0.2158 - acc: 0.9858 - val_loss: 0.4984 - val_acc: 0.8900\n",
      "\n",
      "Epoch 00059: val_acc did not improve from 0.90378\n",
      "Epoch 60/100\n",
      "2610/2610 [==============================] - 0s 36us/step - loss: 0.2130 - acc: 0.9862 - val_loss: 0.4878 - val_acc: 0.8900\n",
      "\n",
      "Epoch 00060: val_acc did not improve from 0.90378\n",
      "Epoch 61/100\n",
      "2610/2610 [==============================] - 0s 35us/step - loss: 0.2097 - acc: 0.9877 - val_loss: 0.4870 - val_acc: 0.8935\n",
      "\n",
      "Epoch 00061: val_acc did not improve from 0.90378\n",
      "Epoch 62/100\n",
      "2610/2610 [==============================] - 0s 35us/step - loss: 0.2136 - acc: 0.9858 - val_loss: 0.5217 - val_acc: 0.8729\n",
      "\n",
      "Epoch 00062: val_acc did not improve from 0.90378\n",
      "Epoch 63/100\n",
      "2610/2610 [==============================] - 0s 35us/step - loss: 0.2423 - acc: 0.9797 - val_loss: 0.5403 - val_acc: 0.8763\n",
      "\n",
      "Epoch 00063: val_acc did not improve from 0.90378\n",
      "Epoch 64/100\n",
      "2610/2610 [==============================] - 0s 36us/step - loss: 0.2218 - acc: 0.9854 - val_loss: 0.4863 - val_acc: 0.8969\n",
      "\n",
      "Epoch 00064: val_acc did not improve from 0.90378\n",
      "Epoch 65/100\n",
      "2610/2610 [==============================] - 0s 37us/step - loss: 0.2055 - acc: 0.9885 - val_loss: 0.4803 - val_acc: 0.8900\n",
      "\n",
      "Epoch 00065: val_acc did not improve from 0.90378\n",
      "Epoch 66/100\n",
      "2610/2610 [==============================] - 0s 36us/step - loss: 0.2023 - acc: 0.9877 - val_loss: 0.4770 - val_acc: 0.8935\n",
      "\n",
      "Epoch 00066: val_acc did not improve from 0.90378\n",
      "Epoch 67/100\n",
      "2610/2610 [==============================] - 0s 37us/step - loss: 0.1985 - acc: 0.9893 - val_loss: 0.4826 - val_acc: 0.9038\n",
      "\n",
      "Epoch 00067: val_acc did not improve from 0.90378\n",
      "Epoch 68/100\n",
      "2610/2610 [==============================] - 0s 36us/step - loss: 0.2224 - acc: 0.9831 - val_loss: 0.5835 - val_acc: 0.8591\n",
      "\n",
      "Epoch 00068: val_acc did not improve from 0.90378\n",
      "Epoch 69/100\n",
      "2610/2610 [==============================] - 0s 35us/step - loss: 0.2123 - acc: 0.9877 - val_loss: 0.4897 - val_acc: 0.9003\n",
      "\n",
      "Epoch 00069: val_acc did not improve from 0.90378\n",
      "Epoch 70/100\n",
      "2610/2610 [==============================] - 0s 36us/step - loss: 0.1985 - acc: 0.9870 - val_loss: 0.4886 - val_acc: 0.8900\n",
      "\n",
      "Epoch 00070: val_acc did not improve from 0.90378\n",
      "Epoch 71/100\n",
      "2610/2610 [==============================] - 0s 34us/step - loss: 0.2019 - acc: 0.9874 - val_loss: 0.5187 - val_acc: 0.8866\n",
      "\n",
      "Epoch 00071: val_acc did not improve from 0.90378\n",
      "Epoch 72/100\n",
      "2610/2610 [==============================] - 0s 37us/step - loss: 0.2118 - acc: 0.9854 - val_loss: 0.5013 - val_acc: 0.8900\n",
      "\n",
      "Epoch 00072: val_acc did not improve from 0.90378\n",
      "Epoch 73/100\n",
      "2610/2610 [==============================] - 0s 38us/step - loss: 0.1990 - acc: 0.9870 - val_loss: 0.4977 - val_acc: 0.8866\n",
      "\n",
      "Epoch 00073: val_acc did not improve from 0.90378\n",
      "Epoch 74/100\n",
      "2610/2610 [==============================] - 0s 35us/step - loss: 0.2084 - acc: 0.9851 - val_loss: 0.5086 - val_acc: 0.8900\n",
      "\n",
      "Epoch 00074: val_acc did not improve from 0.90378\n",
      "Epoch 75/100\n",
      "2610/2610 [==============================] - 0s 35us/step - loss: 0.1966 - acc: 0.9874 - val_loss: 0.4709 - val_acc: 0.9072\n",
      "\n",
      "Epoch 00075: val_acc improved from 0.90378 to 0.90722, saving model to tmp/weights-75-0.91.hdf5\n",
      "Epoch 76/100\n",
      "2610/2610 [==============================] - 0s 34us/step - loss: 0.1927 - acc: 0.9870 - val_loss: 0.4962 - val_acc: 0.8900\n",
      "\n",
      "Epoch 00076: val_acc did not improve from 0.90722\n",
      "Epoch 77/100\n",
      "2610/2610 [==============================] - 0s 36us/step - loss: 0.1964 - acc: 0.9851 - val_loss: 0.4694 - val_acc: 0.8900\n",
      "\n",
      "Epoch 00077: val_acc did not improve from 0.90722\n",
      "Epoch 78/100\n",
      "2610/2610 [==============================] - 0s 36us/step - loss: 0.1918 - acc: 0.9877 - val_loss: 0.5072 - val_acc: 0.8866\n",
      "\n",
      "Epoch 00078: val_acc did not improve from 0.90722\n",
      "Epoch 79/100\n",
      "2610/2610 [==============================] - 0s 35us/step - loss: 0.2053 - acc: 0.9839 - val_loss: 0.4760 - val_acc: 0.8969\n",
      "\n",
      "Epoch 00079: val_acc did not improve from 0.90722\n",
      "Epoch 80/100\n",
      "2610/2610 [==============================] - 0s 35us/step - loss: 0.1867 - acc: 0.9854 - val_loss: 0.4743 - val_acc: 0.8900\n",
      "\n",
      "Epoch 00080: val_acc did not improve from 0.90722\n",
      "Epoch 81/100\n",
      "2610/2610 [==============================] - 0s 36us/step - loss: 0.1838 - acc: 0.9889 - val_loss: 0.4664 - val_acc: 0.8935\n",
      "\n",
      "Epoch 00081: val_acc did not improve from 0.90722\n",
      "Epoch 82/100\n",
      "2610/2610 [==============================] - 0s 36us/step - loss: 0.1816 - acc: 0.9877 - val_loss: 0.4962 - val_acc: 0.8763\n",
      "\n",
      "Epoch 00082: val_acc did not improve from 0.90722\n",
      "Epoch 83/100\n",
      "2610/2610 [==============================] - 0s 35us/step - loss: 0.1886 - acc: 0.9874 - val_loss: 0.4765 - val_acc: 0.9038\n",
      "\n",
      "Epoch 00083: val_acc did not improve from 0.90722\n",
      "Epoch 84/100\n",
      "2610/2610 [==============================] - 0s 36us/step - loss: 0.1891 - acc: 0.9862 - val_loss: 0.4821 - val_acc: 0.8866\n",
      "\n",
      "Epoch 00084: val_acc did not improve from 0.90722\n",
      "Epoch 85/100\n"
     ]
    },
    {
     "name": "stdout",
     "output_type": "stream",
     "text": [
      "2610/2610 [==============================] - 0s 35us/step - loss: 0.1812 - acc: 0.9877 - val_loss: 0.4652 - val_acc: 0.9003\n",
      "\n",
      "Epoch 00085: val_acc did not improve from 0.90722\n",
      "Epoch 86/100\n",
      "2610/2610 [==============================] - 0s 35us/step - loss: 0.1837 - acc: 0.9866 - val_loss: 0.4857 - val_acc: 0.8832\n",
      "\n",
      "Epoch 00086: val_acc did not improve from 0.90722\n",
      "Epoch 87/100\n",
      "2610/2610 [==============================] - 0s 35us/step - loss: 0.1755 - acc: 0.9908 - val_loss: 0.4729 - val_acc: 0.8900\n",
      "\n",
      "Epoch 00087: val_acc did not improve from 0.90722\n",
      "Epoch 88/100\n",
      "2610/2610 [==============================] - 0s 35us/step - loss: 0.1756 - acc: 0.9881 - val_loss: 0.4817 - val_acc: 0.8797\n",
      "\n",
      "Epoch 00088: val_acc did not improve from 0.90722\n",
      "Epoch 89/100\n",
      "2610/2610 [==============================] - 0s 36us/step - loss: 0.1851 - acc: 0.9854 - val_loss: 0.4815 - val_acc: 0.8763\n",
      "\n",
      "Epoch 00089: val_acc did not improve from 0.90722\n",
      "Epoch 90/100\n",
      "2610/2610 [==============================] - 0s 35us/step - loss: 0.1825 - acc: 0.9877 - val_loss: 0.4628 - val_acc: 0.9003\n",
      "\n",
      "Epoch 00090: val_acc did not improve from 0.90722\n",
      "Epoch 91/100\n",
      "2610/2610 [==============================] - 0s 35us/step - loss: 0.1748 - acc: 0.9877 - val_loss: 0.4678 - val_acc: 0.8900\n",
      "\n",
      "Epoch 00091: val_acc did not improve from 0.90722\n",
      "Epoch 92/100\n",
      "2610/2610 [==============================] - 0s 36us/step - loss: 0.1766 - acc: 0.9847 - val_loss: 0.4901 - val_acc: 0.8832\n",
      "\n",
      "Epoch 00092: val_acc did not improve from 0.90722\n",
      "Epoch 93/100\n",
      "2610/2610 [==============================] - 0s 35us/step - loss: 0.1804 - acc: 0.9851 - val_loss: 0.4725 - val_acc: 0.8900\n",
      "\n",
      "Epoch 00093: val_acc did not improve from 0.90722\n",
      "Epoch 94/100\n",
      "2610/2610 [==============================] - 0s 36us/step - loss: 0.1788 - acc: 0.9874 - val_loss: 0.4793 - val_acc: 0.8969\n",
      "\n",
      "Epoch 00094: val_acc did not improve from 0.90722\n",
      "Epoch 95/100\n",
      "2610/2610 [==============================] - 0s 35us/step - loss: 0.1721 - acc: 0.9851 - val_loss: 0.4534 - val_acc: 0.8935\n",
      "\n",
      "Epoch 00095: val_acc did not improve from 0.90722\n",
      "Epoch 96/100\n",
      "2610/2610 [==============================] - 0s 36us/step - loss: 0.1667 - acc: 0.9870 - val_loss: 0.4538 - val_acc: 0.9003\n",
      "\n",
      "Epoch 00096: val_acc did not improve from 0.90722\n",
      "Epoch 97/100\n",
      "2610/2610 [==============================] - 0s 36us/step - loss: 0.1639 - acc: 0.9874 - val_loss: 0.4653 - val_acc: 0.8935\n",
      "\n",
      "Epoch 00097: val_acc did not improve from 0.90722\n",
      "Epoch 98/100\n",
      "2610/2610 [==============================] - 0s 35us/step - loss: 0.1643 - acc: 0.9874 - val_loss: 0.4729 - val_acc: 0.9038\n",
      "\n",
      "Epoch 00098: val_acc did not improve from 0.90722\n",
      "Epoch 99/100\n",
      "2610/2610 [==============================] - 0s 35us/step - loss: 0.1692 - acc: 0.9858 - val_loss: 0.4650 - val_acc: 0.8866\n",
      "\n",
      "Epoch 00099: val_acc did not improve from 0.90722\n",
      "Epoch 100/100\n",
      "2610/2610 [==============================] - 0s 36us/step - loss: 0.1705 - acc: 0.9843 - val_loss: 0.4966 - val_acc: 0.8763\n",
      "\n",
      "Epoch 00100: val_acc did not improve from 0.90722\n"
     ]
    }
   ],
   "source": [
    "adam = Adam(lr=1e-3, decay=0.0)\n",
    "adadelta = Adadelta(lr=1.0, rho=0.95, epsilon=None, decay=0.0)\n",
    "rmsprop = RMSprop(lr=0.001, rho=0.9, epsilon=None, decay=0.0)\n",
    "\n",
    "model.compile(loss='categorical_crossentropy', optimizer=rmsprop, metrics=['acc'])\n",
    "\n",
    "filepath=\"tmp/weights-{epoch:02d}-{val_acc:.2f}.hdf5\"\n",
    "model_checkpoint = ModelCheckpoint(filepath, monitor='val_acc', verbose=1, save_best_only=True, mode='auto')\n",
    "early_stopping = EarlyStopping(monitor='val_loss', patience=10)\n",
    "callbacks = [early_stopping, model_checkpoint]\n",
    "\n",
    "history = model.fit(X_train, y_train, batch_size=1000, epochs=100, verbose=1, validation_data=(X_val, y_val), callbacks=callbacks)  # starts training"
   ]
  },
  {
   "cell_type": "code",
   "execution_count": 17,
   "metadata": {
    "colab": {},
    "colab_type": "code",
    "id": "OtGrA8RBKShg"
   },
   "outputs": [],
   "source": [
    "model_path = 'emoint_convnet_word2vec_twitter_model.h5'\n",
    "weight_path = 'emoint_convnet_word2vec_twitter_weights.h5'\n",
    "\n",
    "model.save(model_path)\n",
    "model.save_weights(weight_path)"
   ]
  },
  {
   "cell_type": "code",
   "execution_count": 18,
   "metadata": {
    "colab": {
     "base_uri": "https://localhost:8080/",
     "height": 431
    },
    "colab_type": "code",
    "id": "eFzd1urtKeFw",
    "outputId": "f68815ff-ebfc-4ed5-fcc8-8c63bd25ff87"
   },
   "outputs": [
    {
     "name": "stdout",
     "output_type": "stream",
     "text": [
      "total 738M\r\n",
      "drwxrwx--- 7 david david 4.0K Jan  8 11:30 .\r\n",
      "drwxrwx--- 3 david david 4.0K Dec 18 16:51 ..\r\n",
      "-rw-rw---- 1 david david 172K Dec 18 15:21 CrowdFlower_Emotion_Analysis_ConvNet.ipynb\r\n",
      "drwxrwx--- 2 david david 4.0K Jan  7 11:21 data\r\n",
      "-rw-rw---- 1 david david  53M Dec 21 10:50 emoint_bidirectional_lstm_fasttext_model.h5\r\n",
      "-rw-rw---- 1 david david  27M Dec 21 10:50 emoint_bidirectional_lstm_fasttext_weights.h5\r\n",
      "-rw-rw---- 1 david david  43M Jan  7 17:48 emoint_bidirectional_lstm_glove_model.h5\r\n",
      "-rw-rw---- 1 david david  22M Jan  7 17:48 emoint_bidirectional_lstm_glove_weights.h5\r\n",
      "-rw-rw---- 1 david david  53M Dec 21 10:25 emoint_bidirectional_lstm_word2vec_model.h5\r\n",
      "-rw-rw---- 1 david david  64M Jan  7 17:14 emoint_bidirectional_lstm_word2vec_twitter_model.h5\r\n",
      "-rw-rw---- 1 david david  32M Jan  7 17:14 emoint_bidirectional_lstm_word2vec_twitter_weights.h5\r\n",
      "-rw-rw---- 1 david david  27M Dec 21 10:25 emoint_bidirectional_lstm_word2vec_weights.h5\r\n",
      "-rw-rw---- 1 david david  23M Dec 20 17:53 emoint_convnet_fasttext_model.h5\r\n",
      "-rw-rw---- 1 david david  12M Dec 20 17:53 emoint_convnet_fasttext_weights.h5\r\n",
      "-rw-rw---- 1 david david  15M Jan  8 11:21 emoint_convnet_glove_model.h5\r\n",
      "-rw-rw---- 1 david david  15M Dec 19 14:02 emoint_convnet_glove_twitter_model.h5\r\n",
      "-rw-rw---- 1 david david 7.6M Dec 19 14:02 emoint_convnet_glove_twitter_weights.h5\r\n",
      "-rw-rw---- 1 david david 7.6M Jan  8 11:21 emoint_convnet_glove_weights.h5\r\n",
      "-rw-rw---- 1 david david  21M Dec 21 15:03 emoint_convnet_model.h5\r\n",
      "-rw-rw---- 1 david david  21M Dec 21 15:04 emoint_convnet_single_model.h5\r\n",
      "-rw-rw---- 1 david david  11M Dec 21 15:04 emoint_convnet_single_weights.h5\r\n",
      "-rw-rw---- 1 david david  11M Dec 21 15:03 emoint_convnet_weights.h5\r\n",
      "-rw-rw---- 1 david david  30M Jan  8 11:30 emoint_convnet_word2vec_twitter_model.h5\r\n",
      "-rw-rw---- 1 david david  15M Jan  8 11:30 emoint_convnet_word2vec_twitter_weights.h5\r\n",
      "-rw-rw---- 1 david david  20M Dec 21 10:47 emoint_embedded_matrix_fasttext_wikipedia.npy\r\n",
      "-rw-rw---- 1 david david  14M Jan  8 11:20 emoint_embedded_matrix_glove_twitter.npy\r\n",
      "-rw-rw---- 1 david david  20M Dec 21 10:21 emoint_embedded_matrix_word2vec.npy\r\n",
      "-rw-rw---- 1 david david  27M Jan  8 11:30 emoint_embedded_matrix_word2vec_twitter.npy\r\n",
      "-rw-rw---- 1 david david 142K Dec 18 15:21 EmoInt_Embedding_Comparison.ipynb\r\n",
      "-rw-rw---- 1 david david  84K Dec 21 11:09 EmoInt_Emotion_Analysis_Bidirectional_LSTM_Threshold_0_33_FastText_local.ipynb\r\n",
      "-rw-rw---- 1 david david  26K Jan  7 17:45 EmoInt_Emotion_Analysis_Bidirectional_LSTM_Threshold_0_33_Glove_local.ipynb\r\n",
      "-rw-rw---- 1 david david  98K Dec 21 10:03 EmoInt_Emotion_Analysis_Bidirectional_LSTM_Threshold_0_33.ipynb\r\n",
      "-rw-rw---- 1 david david  79K Jan  7 10:57 EmoInt_Emotion_Analysis_Bidirectional_LSTM_Threshold_0_33_Word2Vec-GoogleNews_local.ipynb\r\n",
      "-rw-rw---- 1 david david  82K Jan  7 17:26 EmoInt_Emotion_Analysis_Bidirectional_LSTM_Threshold_0_33_Word2Vec-Twitter_local.ipynb\r\n",
      "-rw-rw---- 1 david david 104K Dec 21 13:49 EmoInt_Emotion_Analysis_ConvNet_LSTM_Threshold_0_33.ipynb\r\n",
      "-rw-rw---- 1 david david  92K Dec 21 15:04 EmoInt_Emotion_Analysis_ConvNet_single_Threshold_0_33_local.ipynb\r\n",
      "-rw-rw---- 1 david david  83K Dec 18 15:21 EmoInt_Emotion_Analysis_ConvNet_Threshold_0_30.ipynb\r\n",
      "-rw-rw---- 1 david david  92K Jan  7 16:20 EmoInt_Emotion_Analysis_ConvNet_Threshold_0_33_FastText_local.ipynb\r\n",
      "-rw-rw---- 1 david david 127K Dec 21 11:20 EmoInt_Emotion_Analysis_ConvNet_Threshold_0_33_Glove.ipynb\r\n",
      "-rw-rw---- 1 david david  97K Jan  8 11:22 EmoInt_Emotion_Analysis_ConvNet_Threshold_0_33_Glove_local.ipynb\r\n",
      "-rw-rw---- 1 david david 131K Dec 19 10:26 EmoInt_Emotion_Analysis_ConvNet_Threshold_0_33.ipynb\r\n",
      "-rw-rw---- 1 david david  85K Jan  7 10:57 EmoInt_Emotion_Analysis_ConvNet_Threshold_0_33_Word2Vec-GoogleNews_local.ipynb\r\n",
      "-rw-rw---- 1 david david  38K Jan  8 11:30 EmoInt_Emotion_Analysis_ConvNet_Threshold_0_33_Word2Vec-Twitter_local.ipynb\r\n",
      "-rw-rw---- 1 david david  38K Dec 19 16:14 EmoInt_Emotion_Analysis_Elmo_Threshold_0_33.ipynb\r\n",
      "-rw-rw---- 1 david david 114K Dec 18 15:21 EmoInt_Emotion_Analysis_LSTM_Threshold_0_33.ipynb\r\n",
      "-rw-rw---- 1 david david  75K Dec 18 15:21 EmoInt_Sentiment_Analysis_ConvNet.ipynb\r\n",
      "-rw-rw---- 1 david david  78K Dec 18 15:21 EmoInt_Sentiment_Analysis_LSTM_ConvNet.ipynb\r\n",
      "-rw-rw---- 1 david david 334K Jan  8 11:30 emoint_X_test.npy\r\n",
      "-rw-rw---- 1 david david 347K Jan  8 11:30 emoint_X_train.npy\r\n",
      "-rw-rw---- 1 david david  39K Jan  8 11:30 emoint_X_val.npy\r\n",
      "-rw-rw---- 1 david david  40K Jan  8 11:30 emoint_y_test.npy\r\n",
      "-rw-rw---- 1 david david  41K Jan  8 11:30 emoint_y_train.npy\r\n",
      "-rw-rw---- 1 david david 4.7K Jan  8 11:30 emoint_y_val.npy\r\n",
      "drwxrwx--- 8 david david 4.0K Jan  8 11:22 .git\r\n",
      "-rw-rw---- 1 david david 1.3K Jan  7 11:45 .gitignore\r\n",
      "drwxrwx--- 2 david david 4.0K Jan  7 17:34 .ipynb_checkpoints\r\n",
      "-rw-rw---- 1 david david  29M Jan  7 13:38 isear_convnet_fasttext_wikipedia_model.h5\r\n",
      "-rw-rw---- 1 david david 9.7M Jan  7 13:38 isear_convnet_fasttext_wikipedia_weights.h5\r\n",
      "-rw-rw---- 1 david david  20M Jan  7 13:20 isear_convnet_glove_twitter_model.h5\r\n",
      "-rw-rw---- 1 david david 6.5M Jan  7 13:20 isear_convnet_glove_twitter_weights.h5\r\n",
      "-rw-rw---- 1 david david  29M Jan  7 11:42 isear_convnet_word2vec_googlenews_model.h5\r\n",
      "-rw-rw---- 1 david david 9.7M Jan  7 11:42 isear_convnet_word2vec_googlenews_weights.h5\r\n",
      "-rw-rw---- 1 david david  17M Jan  7 13:37 isear_embedded_matrix_fasttext_wikipedia.npy\r\n",
      "-rw-rw---- 1 david david  11M Jan  7 13:19 isear_embedded_matrix_glove_twitter.npy\r\n",
      "-rw-rw---- 1 david david  17M Jan  7 11:25 isear_embedded_matrix_word2vec_googlenews.npy\r\n",
      "-rw-rw---- 1 david david 247K Dec 18 15:21 ISEAR_Embedding_Comparison.ipynb\r\n",
      "-rw-rw---- 1 david david 120K Jan  7 13:42 ISEAR_Emotion_Analysis_ConvNet_FastText_local.ipynb\r\n",
      "-rw-rw---- 1 david david 121K Jan  7 13:25 ISEAR_Emotion_Analysis_ConvNet_Glove_local.ipynb\r\n",
      "-rw-rw---- 1 david david 149K Jan  7 11:15 ISEAR_Emotion_Analysis_ConvNet_Word2Vec-GoogleNews.ipynb\r\n",
      "-rw-rw---- 1 david david 118K Jan  7 13:11 ISEAR_Emotion_Analysis_ConvNet_Word2Vec-GoogleNews_local.ipynb\r\n",
      "-rw-rw---- 1 david david 1.7M Jan  7 13:37 isear_X_test.npy\r\n",
      "-rw-rw---- 1 david david 3.6M Jan  7 13:37 isear_X_train.npy\r\n",
      "-rw-rw---- 1 david david 403K Jan  7 13:37 isear_X_val.npy\r\n",
      "-rw-rw---- 1 david david  64K Jan  7 13:37 isear_y_test.npy\r\n",
      "-rw-rw---- 1 david david 133K Jan  7 13:37 isear_y_train.npy\r\n",
      "-rw-rw---- 1 david david  15K Jan  7 13:37 isear_y_val.npy\r\n",
      "-rw-rw---- 1 david david  35K Dec 18 15:21 LICENSE\r\n",
      "-rw-rw---- 1 david david   29 Dec 18 15:21 README.md\r\n",
      "drwxr-x--- 3 david david 4.0K Dec 19 16:06 tfhub_modules\r\n",
      "drwxrwx--- 2 david david 4.0K Jan  8 11:30 tmp\r\n"
     ]
    }
   ],
   "source": [
    "!ls -lah"
   ]
  },
  {
   "cell_type": "code",
   "execution_count": 19,
   "metadata": {
    "colab": {},
    "colab_type": "code",
    "id": "b0P0vTv-7RC6"
   },
   "outputs": [],
   "source": [
    "sequences_test=tokenizer.texts_to_sequences(test_data.text)\n",
    "X_test = pad_sequences(sequences_test, maxlen=X_test.shape[1])\n",
    "y_pred = model.predict(X_test)"
   ]
  },
  {
   "cell_type": "code",
   "execution_count": 20,
   "metadata": {
    "colab": {
     "base_uri": "https://localhost:8080/",
     "height": 35
    },
    "colab_type": "code",
    "id": "IgHlDfC_-rS5",
    "outputId": "31b11c6c-f20d-48ee-8b34-d4ed77f64a54"
   },
   "outputs": [
    {
     "data": {
      "text/plain": [
       "dict_keys(['val_loss', 'val_acc', 'loss', 'acc'])"
      ]
     },
     "execution_count": 20,
     "metadata": {},
     "output_type": "execute_result"
    }
   ],
   "source": [
    "history.history.keys()"
   ]
  },
  {
   "cell_type": "code",
   "execution_count": 21,
   "metadata": {
    "colab": {},
    "colab_type": "code",
    "id": "-JaFoS4u_pwS"
   },
   "outputs": [],
   "source": [
    "y_pred_original = [labels[val] for val in np.argmax(y_pred, axis=1).squeeze()]\n",
    "y_test_original = np.asarray(test_data.emotion)"
   ]
  },
  {
   "cell_type": "code",
   "execution_count": 22,
   "metadata": {
    "colab": {},
    "colab_type": "code",
    "id": "BREyqdCAI9d0"
   },
   "outputs": [],
   "source": [
    "def print_confusion_matrix(confusion_matrix, class_names, figsize = (4,3), fontsize=15):\n",
    "    \"\"\"Prints a confusion matrix, as returned by sklearn.metrics.confusion_matrix, as a heatmap.\n",
    "    \n",
    "    Arguments\n",
    "    ---------\n",
    "    confusion_matrix: numpy.ndarray\n",
    "        The numpy.ndarray object returned from a call to sklearn.metrics.confusion_matrix. \n",
    "        Similarly constructed ndarrays can also be used.\n",
    "    class_names: list\n",
    "        An ordered list of class names, in the order they index the given confusion matrix.\n",
    "    figsize: tuple\n",
    "        A 2-long tuple, the first value determining the horizontal size of the ouputted figure,\n",
    "        the second determining the vertical size. Defaults to (10,7).\n",
    "    fontsize: int\n",
    "        Font size for axes labels. Defaults to 14.\n",
    "        \n",
    "    Returns\n",
    "    -------\n",
    "    matplotlib.figure.Figure\n",
    "        The resulting confusion matrix figure\n",
    "    \"\"\"\n",
    "    df_cm = pd.DataFrame(\n",
    "        confusion_matrix, index=class_names, columns=class_names, \n",
    "    )\n",
    "    fig = plt.figure(figsize=figsize)\n",
    "    try:\n",
    "        heatmap = sns.heatmap(df_cm, annot=True, fmt=\"d\")\n",
    "    except ValueError:\n",
    "        raise ValueError(\"Confusion matrix values must be integers.\")\n",
    "    heatmap.yaxis.set_ticklabels(heatmap.yaxis.get_ticklabels(), rotation=0, ha='right', fontsize=fontsize)\n",
    "    heatmap.xaxis.set_ticklabels(heatmap.xaxis.get_ticklabels(), rotation=45, ha='right', fontsize=fontsize)\n",
    "    plt.ylabel('True label')\n",
    "    plt.xlabel('Predicted label')\n",
    "    return fig"
   ]
  },
  {
   "cell_type": "code",
   "execution_count": 23,
   "metadata": {
    "colab": {
     "base_uri": "https://localhost:8080/",
     "height": 173
    },
    "colab_type": "code",
    "id": "XG9HPQb10TZm",
    "outputId": "e3b800d0-3f15-45a2-defb-9f715fd29de2"
   },
   "outputs": [
    {
     "data": {
      "text/html": [
       "<div>\n",
       "<style scoped>\n",
       "    .dataframe tbody tr th:only-of-type {\n",
       "        vertical-align: middle;\n",
       "    }\n",
       "\n",
       "    .dataframe tbody tr th {\n",
       "        vertical-align: top;\n",
       "    }\n",
       "\n",
       "    .dataframe thead th {\n",
       "        text-align: right;\n",
       "    }\n",
       "</style>\n",
       "<table border=\"1\" class=\"dataframe\">\n",
       "  <thead>\n",
       "    <tr style=\"text-align: right;\">\n",
       "      <th></th>\n",
       "      <th>fear</th>\n",
       "      <th>joy</th>\n",
       "      <th>anger</th>\n",
       "      <th>sadness</th>\n",
       "    </tr>\n",
       "  </thead>\n",
       "  <tbody>\n",
       "    <tr>\n",
       "      <th>fear</th>\n",
       "      <td>614</td>\n",
       "      <td>13</td>\n",
       "      <td>27</td>\n",
       "      <td>135</td>\n",
       "    </tr>\n",
       "    <tr>\n",
       "      <th>joy</th>\n",
       "      <td>17</td>\n",
       "      <td>472</td>\n",
       "      <td>6</td>\n",
       "      <td>48</td>\n",
       "    </tr>\n",
       "    <tr>\n",
       "      <th>anger</th>\n",
       "      <td>32</td>\n",
       "      <td>7</td>\n",
       "      <td>529</td>\n",
       "      <td>75</td>\n",
       "    </tr>\n",
       "    <tr>\n",
       "      <th>sadness</th>\n",
       "      <td>27</td>\n",
       "      <td>3</td>\n",
       "      <td>16</td>\n",
       "      <td>487</td>\n",
       "    </tr>\n",
       "  </tbody>\n",
       "</table>\n",
       "</div>"
      ],
      "text/plain": [
       "         fear  joy  anger  sadness\n",
       "fear      614   13     27      135\n",
       "joy        17  472      6       48\n",
       "anger      32    7    529       75\n",
       "sadness    27    3     16      487"
      ]
     },
     "execution_count": 23,
     "metadata": {},
     "output_type": "execute_result"
    }
   ],
   "source": [
    "cf_matrix = confusion_matrix(y_test_original, y_pred_original, labels=labels)\n",
    "\n",
    "df_cm = pd.DataFrame(\n",
    "    cf_matrix, index=labels, columns=labels, \n",
    ")\n",
    "\n",
    "df_cm"
   ]
  },
  {
   "cell_type": "code",
   "execution_count": 24,
   "metadata": {
    "colab": {
     "base_uri": "https://localhost:8080/",
     "height": 282
    },
    "colab_type": "code",
    "id": "59xnXmbEAKXy",
    "outputId": "d0eb88ff-ba79-445c-f709-5b1b9a3f76fc"
   },
   "outputs": [
    {
     "name": "stdout",
     "output_type": "stream",
     "text": [
      "Figure(288x216)\n"
     ]
    },
    {
     "data": {
      "image/png": "[encoded data removed]",
      "text/plain": [
       "<Figure size 288x216 with 2 Axes>"
      ]
     },
     "metadata": {
      "needs_background": "light"
     },
     "output_type": "display_data"
    }
   ],
   "source": [
    "print(print_confusion_matrix(cf_matrix, class_names=labels))"
   ]
  },
  {
   "cell_type": "code",
   "execution_count": 25,
   "metadata": {
    "colab": {
     "base_uri": "https://localhost:8080/",
     "height": 35
    },
    "colab_type": "code",
    "id": "9XE5c4LJEZXy",
    "outputId": "bc5b6c2a-56f9-482a-d5d7-8a8f8951d073"
   },
   "outputs": [
    {
     "name": "stdout",
     "output_type": "stream",
     "text": [
      "test accuracy: 0.8381180223285486\n"
     ]
    }
   ],
   "source": [
    "test_accuracy = accuracy_score(y_test_original, y_pred_original)\n",
    "print(\"test accuracy:\", test_accuracy)"
   ]
  },
  {
   "cell_type": "markdown",
   "metadata": {
    "colab_type": "text",
    "id": "jAISNDCVwvR7"
   },
   "source": [
    "### Performance score for each classes"
   ]
  },
  {
   "cell_type": "code",
   "execution_count": 26,
   "metadata": {
    "colab": {
     "base_uri": "https://localhost:8080/",
     "height": 173
    },
    "colab_type": "code",
    "id": "iFb9Q6A1DcXi",
    "outputId": "c929fdf3-b791-4b64-9f23-dda88a238456"
   },
   "outputs": [
    {
     "data": {
      "text/html": [
       "<div>\n",
       "<style scoped>\n",
       "    .dataframe tbody tr th:only-of-type {\n",
       "        vertical-align: middle;\n",
       "    }\n",
       "\n",
       "    .dataframe tbody tr th {\n",
       "        vertical-align: top;\n",
       "    }\n",
       "\n",
       "    .dataframe thead th {\n",
       "        text-align: right;\n",
       "    }\n",
       "</style>\n",
       "<table border=\"1\" class=\"dataframe\">\n",
       "  <thead>\n",
       "    <tr style=\"text-align: right;\">\n",
       "      <th></th>\n",
       "      <th>precision</th>\n",
       "      <th>recall</th>\n",
       "      <th>f1-score</th>\n",
       "      <th>support</th>\n",
       "    </tr>\n",
       "  </thead>\n",
       "  <tbody>\n",
       "    <tr>\n",
       "      <th>fear</th>\n",
       "      <td>0.9152</td>\n",
       "      <td>0.8227</td>\n",
       "      <td>0.8665</td>\n",
       "      <td>643</td>\n",
       "    </tr>\n",
       "    <tr>\n",
       "      <th>joy</th>\n",
       "      <td>0.8899</td>\n",
       "      <td>0.7782</td>\n",
       "      <td>0.8303</td>\n",
       "      <td>789</td>\n",
       "    </tr>\n",
       "    <tr>\n",
       "      <th>anger</th>\n",
       "      <td>0.9535</td>\n",
       "      <td>0.8692</td>\n",
       "      <td>0.9094</td>\n",
       "      <td>543</td>\n",
       "    </tr>\n",
       "    <tr>\n",
       "      <th>sadness</th>\n",
       "      <td>0.6537</td>\n",
       "      <td>0.9137</td>\n",
       "      <td>0.7621</td>\n",
       "      <td>533</td>\n",
       "    </tr>\n",
       "  </tbody>\n",
       "</table>\n",
       "</div>"
      ],
      "text/plain": [
       "         precision  recall  f1-score  support\n",
       "fear        0.9152  0.8227    0.8665      643\n",
       "joy         0.8899  0.7782    0.8303      789\n",
       "anger       0.9535  0.8692    0.9094      543\n",
       "sadness     0.6537  0.9137    0.7621      533"
      ]
     },
     "execution_count": 26,
     "metadata": {},
     "output_type": "execute_result"
    }
   ],
   "source": [
    "precision, recall, fscore, support = precision_recall_fscore_support(y_test_original, y_pred_original)\n",
    "score_dict = {\n",
    "  \"precision\": precision.round(4),\n",
    "  \"recall\": recall.round(4),\n",
    "  \"f1-score\": fscore.round(4),\n",
    "  \"support\": support.round(4)\n",
    "}\n",
    "score_df = pd.DataFrame(score_dict, index=labels)\n",
    "score_df"
   ]
  },
  {
   "cell_type": "markdown",
   "metadata": {
    "colab_type": "text",
    "id": "cHi1Gw7Oz1zG"
   },
   "source": [
    "### Performance score using micro average"
   ]
  },
  {
   "cell_type": "code",
   "execution_count": 27,
   "metadata": {
    "colab": {
     "base_uri": "https://localhost:8080/",
     "height": 80
    },
    "colab_type": "code",
    "id": "KP69PDE9D_jz",
    "outputId": "a09292bc-cb8c-4da1-e465-f01284bcb061"
   },
   "outputs": [
    {
     "data": {
      "text/html": [
       "<div>\n",
       "<style scoped>\n",
       "    .dataframe tbody tr th:only-of-type {\n",
       "        vertical-align: middle;\n",
       "    }\n",
       "\n",
       "    .dataframe tbody tr th {\n",
       "        vertical-align: top;\n",
       "    }\n",
       "\n",
       "    .dataframe thead th {\n",
       "        text-align: right;\n",
       "    }\n",
       "</style>\n",
       "<table border=\"1\" class=\"dataframe\">\n",
       "  <thead>\n",
       "    <tr style=\"text-align: right;\">\n",
       "      <th></th>\n",
       "      <th>precision</th>\n",
       "      <th>recall</th>\n",
       "      <th>f1-score</th>\n",
       "      <th>support</th>\n",
       "    </tr>\n",
       "  </thead>\n",
       "  <tbody>\n",
       "    <tr>\n",
       "      <th>score</th>\n",
       "      <td>0.8381</td>\n",
       "      <td>0.8381</td>\n",
       "      <td>0.8381</td>\n",
       "      <td>None</td>\n",
       "    </tr>\n",
       "  </tbody>\n",
       "</table>\n",
       "</div>"
      ],
      "text/plain": [
       "       precision  recall  f1-score support\n",
       "score     0.8381  0.8381    0.8381    None"
      ]
     },
     "execution_count": 27,
     "metadata": {},
     "output_type": "execute_result"
    }
   ],
   "source": [
    "precision, recall, fscore, support = precision_recall_fscore_support(y_test_original, y_pred_original, average=\"micro\")\n",
    "score_dict = {\n",
    "  \"precision\": precision.round(4),\n",
    "  \"recall\": recall.round(4),\n",
    "  \"f1-score\": fscore.round(4),\n",
    "  \"support\": support\n",
    "}\n",
    "score_df = pd.DataFrame(score_dict, index=[\"score\"])\n",
    "score_df"
   ]
  },
  {
   "cell_type": "markdown",
   "metadata": {
    "colab_type": "text",
    "id": "IWXNCktiz8Vb"
   },
   "source": [
    "### Performance score using macro average"
   ]
  },
  {
   "cell_type": "code",
   "execution_count": 28,
   "metadata": {
    "colab": {
     "base_uri": "https://localhost:8080/",
     "height": 80
    },
    "colab_type": "code",
    "id": "g4e0vsNIydDs",
    "outputId": "67b18848-4c46-4c36-d085-17e3caf36efb"
   },
   "outputs": [
    {
     "data": {
      "text/html": [
       "<div>\n",
       "<style scoped>\n",
       "    .dataframe tbody tr th:only-of-type {\n",
       "        vertical-align: middle;\n",
       "    }\n",
       "\n",
       "    .dataframe tbody tr th {\n",
       "        vertical-align: top;\n",
       "    }\n",
       "\n",
       "    .dataframe thead th {\n",
       "        text-align: right;\n",
       "    }\n",
       "</style>\n",
       "<table border=\"1\" class=\"dataframe\">\n",
       "  <thead>\n",
       "    <tr style=\"text-align: right;\">\n",
       "      <th></th>\n",
       "      <th>precision</th>\n",
       "      <th>recall</th>\n",
       "      <th>f1-score</th>\n",
       "      <th>support</th>\n",
       "    </tr>\n",
       "  </thead>\n",
       "  <tbody>\n",
       "    <tr>\n",
       "      <th>score</th>\n",
       "      <td>0.8531</td>\n",
       "      <td>0.846</td>\n",
       "      <td>0.8421</td>\n",
       "      <td>None</td>\n",
       "    </tr>\n",
       "  </tbody>\n",
       "</table>\n",
       "</div>"
      ],
      "text/plain": [
       "       precision  recall  f1-score support\n",
       "score     0.8531   0.846    0.8421    None"
      ]
     },
     "execution_count": 28,
     "metadata": {},
     "output_type": "execute_result"
    }
   ],
   "source": [
    "precision, recall, fscore, support = precision_recall_fscore_support(y_test_original, y_pred_original, average=\"macro\")\n",
    "score_dict = {\n",
    "  \"precision\": precision.round(4),\n",
    "  \"recall\": recall.round(4),\n",
    "  \"f1-score\": fscore.round(4),\n",
    "  \"support\": support\n",
    "}\n",
    "score_df = pd.DataFrame(score_dict, index=[\"score\"])\n",
    "score_df"
   ]
  },
  {
   "cell_type": "markdown",
   "metadata": {
    "colab_type": "text",
    "id": "wFJFH7u6z-oG"
   },
   "source": [
    "### Performance score using weighted average"
   ]
  },
  {
   "cell_type": "code",
   "execution_count": 29,
   "metadata": {
    "colab": {
     "base_uri": "https://localhost:8080/",
     "height": 80
    },
    "colab_type": "code",
    "id": "z99JkHjuzv68",
    "outputId": "f96c549e-7a24-4411-cb4e-53e64c431b9a"
   },
   "outputs": [
    {
     "data": {
      "text/html": [
       "<div>\n",
       "<style scoped>\n",
       "    .dataframe tbody tr th:only-of-type {\n",
       "        vertical-align: middle;\n",
       "    }\n",
       "\n",
       "    .dataframe tbody tr th {\n",
       "        vertical-align: top;\n",
       "    }\n",
       "\n",
       "    .dataframe thead th {\n",
       "        text-align: right;\n",
       "    }\n",
       "</style>\n",
       "<table border=\"1\" class=\"dataframe\">\n",
       "  <thead>\n",
       "    <tr style=\"text-align: right;\">\n",
       "      <th></th>\n",
       "      <th>precision</th>\n",
       "      <th>recall</th>\n",
       "      <th>f1-score</th>\n",
       "      <th>support</th>\n",
       "    </tr>\n",
       "  </thead>\n",
       "  <tbody>\n",
       "    <tr>\n",
       "      <th>score</th>\n",
       "      <td>0.86</td>\n",
       "      <td>0.8381</td>\n",
       "      <td>0.8422</td>\n",
       "      <td>None</td>\n",
       "    </tr>\n",
       "  </tbody>\n",
       "</table>\n",
       "</div>"
      ],
      "text/plain": [
       "       precision  recall  f1-score support\n",
       "score       0.86  0.8381    0.8422    None"
      ]
     },
     "execution_count": 29,
     "metadata": {},
     "output_type": "execute_result"
    }
   ],
   "source": [
    "precision, recall, fscore, support = precision_recall_fscore_support(y_test_original, y_pred_original, average=\"weighted\")\n",
    "score_dict = {\n",
    "  \"precision\": precision.round(4),\n",
    "  \"recall\": recall.round(4),\n",
    "  \"f1-score\": fscore.round(4),\n",
    "  \"support\": support\n",
    "}\n",
    "score_df = pd.DataFrame(score_dict, index=[\"score\"])\n",
    "score_df"
   ]
  },
  {
   "cell_type": "markdown",
   "metadata": {},
   "source": [
    "### Cohen Kappa Score"
   ]
  },
  {
   "cell_type": "code",
   "execution_count": 30,
   "metadata": {
    "colab": {
     "base_uri": "https://localhost:8080/",
     "height": 35
    },
    "colab_type": "code",
    "id": "Y83dx5SyoBR8",
    "outputId": "ac60ea1c-5d2f-4ce8-f56a-e17404d025cd"
   },
   "outputs": [
    {
     "name": "stdout",
     "output_type": "stream",
     "text": [
      "kappa: 0.783725598061226\n"
     ]
    }
   ],
   "source": [
    "from sklearn.metrics import cohen_kappa_score\n",
    "\n",
    "kappa_score = cohen_kappa_score(y_test_original, y_pred_original, labels=labels)\n",
    "print(\"kappa:\", kappa_score)"
   ]
  },
  {
   "cell_type": "code",
   "execution_count": null,
   "metadata": {},
   "outputs": [],
   "source": []
  }
 ],
 "metadata": {
  "accelerator": "GPU",
  "colab": {
   "collapsed_sections": [],
   "include_colab_link": true,
   "name": "EmoInt-Emotion-Analysis-ConvNet-Threshold-0.33.ipynb",
   "provenance": [],
   "version": "0.3.2"
  },
  "kernelspec": {
   "display_name": "Python 3",
   "language": "python",
   "name": "python3"
  },
  "language_info": {
   "codemirror_mode": {
    "name": "ipython",
    "version": 3
   },
   "file_extension": ".py",
   "mimetype": "text/x-python",
   "name": "python",
   "nbconvert_exporter": "python",
   "pygments_lexer": "ipython3",
   "version": "3.6.7"
  }
 },
 "nbformat": 4,
 "nbformat_minor": 1
}
