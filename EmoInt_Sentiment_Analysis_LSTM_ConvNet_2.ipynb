{
  "nbformat": 4,
  "nbformat_minor": 0,
  "metadata": {
    "colab": {
      "name": "EmoInt-Sentiment-Analysis-LSTM-ConvNet-2.ipynb",
      "version": "0.3.2",
      "provenance": [],
      "collapsed_sections": [],
      "include_colab_link": true
    },
    "kernelspec": {
      "name": "python3",
      "display_name": "Python 3"
    },
    "accelerator": "GPU"
  },
  "cells": [
    {
      "cell_type": "markdown",
      "metadata": {
        "id": "view-in-github",
        "colab_type": "text"
      },
      "source": [
        "[View in Colaboratory](https://colab.research.google.com/github/nakamura41/emotion_detection_notebooks/blob/master/EmoInt_Sentiment_Analysis_LSTM_ConvNet_2.ipynb)"
      ]
    },
    {
      "metadata": {
        "id": "wRzS3ihSifMc",
        "colab_type": "code",
        "colab": {
          "base_uri": "https://localhost:8080/",
          "height": 454
        },
        "outputId": "0bdc5e51-736e-400e-aecb-39c0fa2591b0"
      },
      "cell_type": "code",
      "source": [
        "!pip install gensim\n",
        "!pip install -U -q PyDrive"
      ],
      "execution_count": 1,
      "outputs": [
        {
          "output_type": "stream",
          "text": [
            "Requirement already satisfied: gensim in /usr/local/lib/python3.6/dist-packages (3.5.0)\n",
            "Requirement already satisfied: smart-open>=1.2.1 in /usr/local/lib/python3.6/dist-packages (from gensim) (1.6.0)\n",
            "Requirement already satisfied: numpy>=1.11.3 in /usr/local/lib/python3.6/dist-packages (from gensim) (1.14.5)\n",
            "Requirement already satisfied: scipy>=0.18.1 in /usr/local/lib/python3.6/dist-packages (from gensim) (0.19.1)\n",
            "Requirement already satisfied: six>=1.5.0 in /usr/local/lib/python3.6/dist-packages (from gensim) (1.11.0)\n",
            "Requirement already satisfied: boto>=2.32 in /usr/local/lib/python3.6/dist-packages (from smart-open>=1.2.1->gensim) (2.49.0)\n",
            "Requirement already satisfied: requests in /usr/local/lib/python3.6/dist-packages (from smart-open>=1.2.1->gensim) (2.18.4)\n",
            "Requirement already satisfied: bz2file in /usr/local/lib/python3.6/dist-packages (from smart-open>=1.2.1->gensim) (0.98)\n",
            "Requirement already satisfied: boto3 in /usr/local/lib/python3.6/dist-packages (from smart-open>=1.2.1->gensim) (1.9.3)\n",
            "Requirement already satisfied: certifi>=2017.4.17 in /usr/local/lib/python3.6/dist-packages (from requests->smart-open>=1.2.1->gensim) (2018.8.24)\n",
            "Requirement already satisfied: chardet<3.1.0,>=3.0.2 in /usr/local/lib/python3.6/dist-packages (from requests->smart-open>=1.2.1->gensim) (3.0.4)\n",
            "Requirement already satisfied: idna<2.7,>=2.5 in /usr/local/lib/python3.6/dist-packages (from requests->smart-open>=1.2.1->gensim) (2.6)\n",
            "Requirement already satisfied: urllib3<1.23,>=1.21.1 in /usr/local/lib/python3.6/dist-packages (from requests->smart-open>=1.2.1->gensim) (1.22)\n",
            "Requirement already satisfied: jmespath<1.0.0,>=0.7.1 in /usr/local/lib/python3.6/dist-packages (from boto3->smart-open>=1.2.1->gensim) (0.9.3)\n",
            "Requirement already satisfied: s3transfer<0.2.0,>=0.1.10 in /usr/local/lib/python3.6/dist-packages (from boto3->smart-open>=1.2.1->gensim) (0.1.13)\n",
            "Requirement already satisfied: botocore<1.13.0,>=1.12.3 in /usr/local/lib/python3.6/dist-packages (from boto3->smart-open>=1.2.1->gensim) (1.12.3)\n",
            "Requirement already satisfied: docutils>=0.10 in /usr/local/lib/python3.6/dist-packages (from botocore<1.13.0,>=1.12.3->boto3->smart-open>=1.2.1->gensim) (0.14)\n",
            "Requirement already satisfied: python-dateutil<3.0.0,>=2.1; python_version >= \"2.7\" in /usr/local/lib/python3.6/dist-packages (from botocore<1.13.0,>=1.12.3->boto3->smart-open>=1.2.1->gensim) (2.5.3)\n"
          ],
          "name": "stdout"
        }
      ]
    },
    {
      "metadata": {
        "id": "OdaHCMv2rGKs",
        "colab_type": "code",
        "colab": {
          "base_uri": "https://localhost:8080/",
          "height": 34
        },
        "outputId": "be5496a4-4cd0-4637-aaca-adb4c63e47e2"
      },
      "cell_type": "code",
      "source": [
        "import os\n",
        "import tensorflow as tf\n",
        "from tensorflow import keras\n",
        "import numpy as np\n",
        "import urllib.request\n",
        "import pandas as pd\n",
        "from gensim.test.utils import common_texts, get_tmpfile\n",
        "from gensim.utils import simple_preprocess\n",
        "from gensim.models import Word2Vec\n",
        "from tempfile import gettempdir\n",
        "import zipfile\n",
        "from keras.preprocessing.text import Tokenizer\n",
        "from keras.preprocessing.sequence import pad_sequences\n",
        "from keras.utils import to_categorical\n",
        "from pydrive.auth import GoogleAuth\n",
        "from pydrive.drive import GoogleDrive\n",
        "from google.colab import auth\n",
        "from oauth2client.client import GoogleCredentials\n",
        "from sklearn.metrics import confusion_matrix, precision_recall_fscore_support, accuracy_score\n",
        "import matplotlib.pyplot as plt\n",
        "import seaborn as sns\n",
        "\n",
        "print(tf.__version__)"
      ],
      "execution_count": 3,
      "outputs": [
        {
          "output_type": "stream",
          "text": [
            "1.10.1\n"
          ],
          "name": "stdout"
        }
      ]
    },
    {
      "metadata": {
        "id": "VMhX1N2k4SgY",
        "colab_type": "code",
        "colab": {}
      },
      "cell_type": "code",
      "source": [
        "# 1. Authenticate and create the PyDrive client.\n",
        "auth.authenticate_user()\n",
        "gauth = GoogleAuth()\n",
        "gauth.credentials = GoogleCredentials.get_application_default()\n",
        "drive = GoogleDrive(gauth)"
      ],
      "execution_count": 0,
      "outputs": []
    },
    {
      "metadata": {
        "id": "6FJlfk614hrw",
        "colab_type": "code",
        "colab": {}
      },
      "cell_type": "code",
      "source": [
        "# download google drive file\n",
        "def download_drive_file(drive_directory, filename):\n",
        "  list_file_query = \"title='{}' and trashed=false\".format(drive_directory)\n",
        "  file_list = drive.ListFile({'q': list_file_query}).GetList()\n",
        "\n",
        "  if len(file_list) > 0:\n",
        "    directory_id = file_list[0]['id']\n",
        "\n",
        "    list_file_query = \"'{}' in parents\".format(directory_id)\n",
        "\n",
        "    file_list = drive.ListFile({'q': list_file_query}).GetList()\n",
        "    \n",
        "    file_id = None\n",
        "    for file1 in file_list:\n",
        "      if file1['title'] == filename:\n",
        "        print(\"downloading file {}\".format(file1['title']))\n",
        "        file1.GetContentFile(file1['title'])"
      ],
      "execution_count": 0,
      "outputs": []
    },
    {
      "metadata": {
        "id": "WPzDX7qc6eQx",
        "colab_type": "code",
        "colab": {
          "base_uri": "https://localhost:8080/",
          "height": 34
        },
        "outputId": "598e7a05-9953-48c7-a3b7-8764c1d9bc60"
      },
      "cell_type": "code",
      "source": [
        "download_drive_file(\"Datasets\", \"GoogleNews-vectors-negative300.bin.gz\")"
      ],
      "execution_count": 6,
      "outputs": [
        {
          "output_type": "stream",
          "text": [
            "downloading file GoogleNews-vectors-negative300.bin.gz\n"
          ],
          "name": "stdout"
        }
      ]
    },
    {
      "metadata": {
        "id": "xnY2L2-b6-ye",
        "colab_type": "code",
        "colab": {
          "base_uri": "https://localhost:8080/",
          "height": 82
        },
        "outputId": "632eead9-ef03-4b88-8a89-5caa1f37c8a7"
      },
      "cell_type": "code",
      "source": [
        "!ls"
      ],
      "execution_count": 7,
      "outputs": [
        {
          "output_type": "stream",
          "text": [
            "adc.json\t emoint_weights.h5\t\t\tsample_data\n",
            "emoint_model.h5  GoogleNews-vectors-negative300.bin.gz\n"
          ],
          "name": "stdout"
        }
      ]
    },
    {
      "metadata": {
        "id": "oBynQmEcrNAy",
        "colab_type": "code",
        "colab": {}
      },
      "cell_type": "code",
      "source": [
        "class EmoIntDataset(object):\n",
        "  BASE_URL = \"http://saifmohammad.com/WebDocs/\"\n",
        "  TRAIN_URI = \"EmoInt%20Train%20Data/{}-ratings-0to1.train.txt\"\n",
        "  TEST_URI = \"EmoInt%20Test%20Data/{}-ratings-0to1.test.target.txt\"\n",
        "  EMOTION_CLASSES = [\"anger\", \"fear\", \"joy\", \"sadness\"]\n",
        "  \n",
        "  def __load_data_per_class(self, url):\n",
        "    resource = urllib.request.urlopen(url)\n",
        "    np_array = np.asarray([line.split('\\t') for line in [line.strip() for line in resource.read().decode('utf-8').splitlines()]])\n",
        "    df = pd.DataFrame(np_array, columns=[\"id\", \"text\", \"emotion\", \"emotion_level\"])\n",
        "    return df[[\"text\", \"emotion\"]]\n",
        "  \n",
        "  def load_data(self):\n",
        "    train_data = None\n",
        "    test_data = None\n",
        "    \n",
        "    for emotion in self.EMOTION_CLASSES:\n",
        "      # load train dataset\n",
        "      train_df = self.__load_data_per_class(self.BASE_URL + self.TRAIN_URI.format(emotion))\n",
        "      \n",
        "      # load test dataset\n",
        "      test_df = self.__load_data_per_class(self.BASE_URL + self.TEST_URI.format(emotion))\n",
        "      \n",
        "      train_data = (train_df if train_data is None else train_data.append(train_df))\n",
        "      test_data = (test_df if test_data is None else test_data.append(test_df))\n",
        "      \n",
        "    return train_data, test_data"
      ],
      "execution_count": 0,
      "outputs": []
    },
    {
      "metadata": {
        "id": "tevwfq4Tu6fe",
        "colab_type": "code",
        "colab": {
          "base_uri": "https://localhost:8080/",
          "height": 68
        },
        "outputId": "e818ec24-09c1-4804-e5e6-ae56c2508ec8"
      },
      "cell_type": "code",
      "source": [
        "emo_int_dataset = EmoIntDataset()\n",
        "train_data, test_data = emo_int_dataset.load_data()\n",
        "\n",
        "val_data=train_data.sample(frac=0.1,random_state=200)\n",
        "train_data=train_data.drop(val_data.index)\n",
        "\n",
        "print(train_data.shape)\n",
        "print(val_data.shape)\n",
        "print(test_data.shape)"
      ],
      "execution_count": 9,
      "outputs": [
        {
          "output_type": "stream",
          "text": [
            "(2463, 2)\n",
            "(361, 2)\n",
            "(3142, 2)\n"
          ],
          "name": "stdout"
        }
      ]
    },
    {
      "metadata": {
        "id": "J-xXkD_4175U",
        "colab_type": "code",
        "colab": {
          "base_uri": "https://localhost:8080/",
          "height": 51
        },
        "outputId": "5fca78c9-3525-4c40-8b99-1c95cccf25d8"
      },
      "cell_type": "code",
      "source": [
        "emotions = train_data.emotion.unique()\n",
        "dic = dict()\n",
        "labels = []\n",
        "for i, emotion in enumerate(emotions):\n",
        "    dic[emotion]=i\n",
        "    labels.append(emotion)\n",
        "print(dic)\n",
        "print(labels)"
      ],
      "execution_count": 10,
      "outputs": [
        {
          "output_type": "stream",
          "text": [
            "{'anger': 0, 'fear': 1, 'joy': 2, 'sadness': 3}\n",
            "['anger', 'fear', 'joy', 'sadness']\n"
          ],
          "name": "stdout"
        }
      ]
    },
    {
      "metadata": {
        "id": "yhA_GXLyw1gx",
        "colab_type": "code",
        "colab": {
          "base_uri": "https://localhost:8080/",
          "height": 34
        },
        "outputId": "503f46e0-6ac4-4f4d-da39-56131055b41f"
      },
      "cell_type": "code",
      "source": [
        "NUM_WORDS=20000\n",
        "texts = train_data.text\n",
        "tokenizer = Tokenizer(num_words=NUM_WORDS,filters='!\"#$%&()*+,-./:;<=>?@[\\\\]^_`{|}~\\t\\n\\'',\n",
        "                      lower=True)\n",
        "tokenizer.fit_on_texts(texts)\n",
        "sequences_train = tokenizer.texts_to_sequences(texts)\n",
        "sequences_valid = tokenizer.texts_to_sequences(val_data.text)\n",
        "sequences_test = tokenizer.texts_to_sequences(test_data.text)\n",
        "word_index = tokenizer.word_index\n",
        "print('Found %s unique tokens.' % len(word_index))"
      ],
      "execution_count": 11,
      "outputs": [
        {
          "output_type": "stream",
          "text": [
            "Found 8479 unique tokens.\n"
          ],
          "name": "stdout"
        }
      ]
    },
    {
      "metadata": {
        "id": "f3a8LX2z0Vn3",
        "colab_type": "code",
        "colab": {
          "base_uri": "https://localhost:8080/",
          "height": 51
        },
        "outputId": "93e6227d-a097-410c-cc57-49f955ded900"
      },
      "cell_type": "code",
      "source": [
        "X_train = pad_sequences(sequences_train)\n",
        "X_val = pad_sequences(sequences_valid, maxlen=X_train.shape[1])\n",
        "X_test = pad_sequences(sequences_test, maxlen=X_train.shape[1])\n",
        "\n",
        "y_train = to_categorical(np.asarray(train_data.emotion.apply(lambda x:dic[x])))\n",
        "y_val = to_categorical(np.asarray(val_data.emotion.apply(lambda x:dic[x])))\n",
        "y_test = to_categorical(np.asarray(test_data.emotion.apply(lambda x:dic[x])))\n",
        "\n",
        "print('Shape of X train, validation and test tensor:', X_train.shape, X_val.shape, X_test.shape)\n",
        "print('Shape of label train, validation and test tensor:', y_train.shape, y_val.shape, y_test.shape)"
      ],
      "execution_count": 12,
      "outputs": [
        {
          "output_type": "stream",
          "text": [
            "Shape of X train, validation and test tensor: (2463, 34) (361, 34) (3142, 34)\n",
            "Shape of label train, validation and test tensor: (2463, 4) (361, 4) (3142, 4)\n"
          ],
          "name": "stdout"
        }
      ]
    },
    {
      "metadata": {
        "id": "naD_jPLlmlFq",
        "colab_type": "code",
        "colab": {}
      },
      "cell_type": "code",
      "source": [
        "import gensim\n",
        "from gensim.models import Word2Vec\n",
        "from gensim.utils import simple_preprocess\n",
        "\n",
        "from gensim.models.keyedvectors import KeyedVectors\n",
        "\n",
        "word_vectors = KeyedVectors.load_word2vec_format('GoogleNews-vectors-negative300.bin.gz', binary=True)\n",
        "\n",
        "EMBEDDING_DIM=300\n",
        "vocabulary_size = min(len(word_index)+1, NUM_WORDS)\n",
        "embedding_matrix = np.zeros((vocabulary_size, EMBEDDING_DIM))\n",
        "for word, i in word_index.items():\n",
        "    if i>=NUM_WORDS:\n",
        "        continue\n",
        "    try:\n",
        "        embedding_vector = word_vectors[word]\n",
        "        embedding_matrix[i] = embedding_vector\n",
        "    except KeyError:\n",
        "        embedding_matrix[i] = np.random.normal(0,np.sqrt(0.25), EMBEDDING_DIM)\n",
        "\n",
        "del(word_vectors)\n",
        "\n",
        "from keras.layers import Embedding\n",
        "embedding_layer = Embedding(vocabulary_size,\n",
        "                            EMBEDDING_DIM,\n",
        "                            weights=[embedding_matrix],\n",
        "                            trainable=True)"
      ],
      "execution_count": 0,
      "outputs": []
    },
    {
      "metadata": {
        "id": "Q0fX0z7_7Mi5",
        "colab_type": "code",
        "colab": {
          "base_uri": "https://localhost:8080/",
          "height": 697
        },
        "outputId": "39b874ce-0664-4c4e-ed27-ea295b6d42bb"
      },
      "cell_type": "code",
      "source": [
        "from keras.layers import Dense, Input, GlobalMaxPooling1D\n",
        "from keras.layers import Conv1D, MaxPooling1D, Embedding\n",
        "from keras.models import Model\n",
        "from keras.layers import Input, Dense, Embedding, Conv2D, MaxPooling2D, Dropout, concatenate, LSTM\n",
        "from keras.layers.core import Reshape, Flatten\n",
        "from keras.callbacks import EarlyStopping\n",
        "from keras.optimizers import Adam\n",
        "from keras.models import Model\n",
        "from keras import regularizers\n",
        "sequence_length = X_train.shape[1]\n",
        "filter_sizes = [3,4,5]\n",
        "num_filters = 100\n",
        "drop_rate = 0.5\n",
        "\n",
        "print(sequence_length)\n",
        "\n",
        "inputs = Input(shape=(sequence_length,), name='input_1')\n",
        "embedding = embedding_layer(inputs)\n",
        "reshape = Reshape((sequence_length, EMBEDDING_DIM), name='reshape_1')(embedding)\n",
        "\n",
        "conv_1 = Conv1D(num_filters, (filter_sizes[0]),activation='relu',kernel_regularizer=regularizers.l2(0.01), name='conv_1')(reshape)\n",
        "conv_2 = Conv1D(num_filters, (filter_sizes[1]),activation='relu',kernel_regularizer=regularizers.l2(0.01), name='conv_2')(reshape)\n",
        "conv_3 = Conv1D(num_filters, (filter_sizes[2]),activation='relu',kernel_regularizer=regularizers.l2(0.01), name='conv_3')(reshape)\n",
        "\n",
        "maxpool_1 = MaxPooling1D(sequence_length - filter_sizes[0] + 1, strides=1, name='maxpool_1')(conv_1)\n",
        "maxpool_2 = MaxPooling1D(sequence_length - filter_sizes[1] + 1, strides=1, name='maxpool_2')(conv_2)\n",
        "maxpool_3 = MaxPooling1D(sequence_length - filter_sizes[2] + 1, strides=1, name='maxpool_3')(conv_3)\n",
        "\n",
        "lstm_1 = LSTM(num_filters, name='lstm_1', dropout=drop_rate, recurrent_dropout=drop_rate)(maxpool_1)\n",
        "lstm_2 = LSTM(num_filters, name='lstm_2', dropout=drop_rate, recurrent_dropout=drop_rate)(maxpool_2)\n",
        "lstm_3 = LSTM(num_filters, name='lstm_3', dropout=drop_rate, recurrent_dropout=drop_rate)(maxpool_3)\n",
        "\n",
        "merged_tensor = concatenate([lstm_1, lstm_2, lstm_3], axis=1, name='concatenate_1')\n",
        "# flatten = Flatten()(merged_tensor)\n",
        "dropout = Dropout(drop_rate, name='dropout_1')(merged_tensor)\n",
        "output = Dense(units=4, activation='softmax',kernel_regularizer=regularizers.l2(0.01), name='dense_1')(dropout)\n",
        "\n",
        "# this creates a model that includes\n",
        "model = Model(inputs, output)\n",
        "\n",
        "model.summary()"
      ],
      "execution_count": 82,
      "outputs": [
        {
          "output_type": "stream",
          "text": [
            "34\n",
            "__________________________________________________________________________________________________\n",
            "Layer (type)                    Output Shape         Param #     Connected to                     \n",
            "==================================================================================================\n",
            "input_1 (InputLayer)            (None, 34)           0                                            \n",
            "__________________________________________________________________________________________________\n",
            "embedding_1 (Embedding)         (None, 34, 300)      2544000     input_1[0][0]                    \n",
            "__________________________________________________________________________________________________\n",
            "reshape_1 (Reshape)             (None, 34, 300)      0           embedding_1[22][0]               \n",
            "__________________________________________________________________________________________________\n",
            "conv_1 (Conv1D)                 (None, 32, 100)      90100       reshape_1[0][0]                  \n",
            "__________________________________________________________________________________________________\n",
            "conv_2 (Conv1D)                 (None, 31, 100)      120100      reshape_1[0][0]                  \n",
            "__________________________________________________________________________________________________\n",
            "conv_3 (Conv1D)                 (None, 30, 100)      150100      reshape_1[0][0]                  \n",
            "__________________________________________________________________________________________________\n",
            "maxpool_1 (MaxPooling1D)        (None, 1, 100)       0           conv_1[0][0]                     \n",
            "__________________________________________________________________________________________________\n",
            "maxpool_2 (MaxPooling1D)        (None, 1, 100)       0           conv_2[0][0]                     \n",
            "__________________________________________________________________________________________________\n",
            "maxpool_3 (MaxPooling1D)        (None, 1, 100)       0           conv_3[0][0]                     \n",
            "__________________________________________________________________________________________________\n",
            "lstm_1 (LSTM)                   (None, 100)          80400       maxpool_1[0][0]                  \n",
            "__________________________________________________________________________________________________\n",
            "lstm_2 (LSTM)                   (None, 100)          80400       maxpool_2[0][0]                  \n",
            "__________________________________________________________________________________________________\n",
            "lstm_3 (LSTM)                   (None, 100)          80400       maxpool_3[0][0]                  \n",
            "__________________________________________________________________________________________________\n",
            "concatenate_1 (Concatenate)     (None, 300)          0           lstm_1[0][0]                     \n",
            "                                                                 lstm_2[0][0]                     \n",
            "                                                                 lstm_3[0][0]                     \n",
            "__________________________________________________________________________________________________\n",
            "dropout_1 (Dropout)             (None, 300)          0           concatenate_1[0][0]              \n",
            "__________________________________________________________________________________________________\n",
            "dense_1 (Dense)                 (None, 4)            1204        dropout_1[0][0]                  \n",
            "==================================================================================================\n",
            "Total params: 3,146,704\n",
            "Trainable params: 3,146,704\n",
            "Non-trainable params: 0\n",
            "__________________________________________________________________________________________________\n"
          ],
          "name": "stdout"
        }
      ]
    },
    {
      "metadata": {
        "id": "HHZ1POD77GRp",
        "colab_type": "code",
        "colab": {
          "base_uri": "https://localhost:8080/",
          "height": 1530
        },
        "outputId": "6e1eb05a-ec02-4ab6-ac0c-bdae75c1bfd8"
      },
      "cell_type": "code",
      "source": [
        "adam = Adam(lr=1e-3)\n",
        "\n",
        "model.compile(loss='categorical_crossentropy',\n",
        "              optimizer=adam,\n",
        "              metrics=['acc'])\n",
        "callbacks = [EarlyStopping(monitor='val_loss', patience=5)]\n",
        "history = model.fit(X_train, y_train, batch_size=1000, epochs=100, verbose=1, validation_data=(X_val, y_val), callbacks=callbacks)  # starts training"
      ],
      "execution_count": 83,
      "outputs": [
        {
          "output_type": "stream",
          "text": [
            "Train on 2463 samples, validate on 361 samples\n",
            "Epoch 1/100\n",
            "2463/2463 [==============================] - 6s 3ms/step - loss: 5.8485 - acc: 0.2797 - val_loss: 5.4436 - val_acc: 0.3186\n",
            "Epoch 2/100\n",
            "2463/2463 [==============================] - 0s 146us/step - loss: 5.2885 - acc: 0.3467 - val_loss: 4.8968 - val_acc: 0.3186\n",
            "Epoch 3/100\n",
            "2463/2463 [==============================] - 0s 133us/step - loss: 4.7374 - acc: 0.3707 - val_loss: 4.3774 - val_acc: 0.3573\n",
            "Epoch 4/100\n",
            "2463/2463 [==============================] - 0s 128us/step - loss: 4.2151 - acc: 0.4730 - val_loss: 3.9006 - val_acc: 0.5125\n",
            "Epoch 5/100\n",
            "2463/2463 [==============================] - 0s 130us/step - loss: 3.7278 - acc: 0.6387 - val_loss: 3.4565 - val_acc: 0.6842\n",
            "Epoch 6/100\n",
            "2463/2463 [==============================] - 0s 130us/step - loss: 3.2629 - acc: 0.7808 - val_loss: 3.0327 - val_acc: 0.7673\n",
            "Epoch 7/100\n",
            "2463/2463 [==============================] - 0s 132us/step - loss: 2.8086 - acc: 0.8729 - val_loss: 2.6240 - val_acc: 0.8227\n",
            "Epoch 8/100\n",
            "2463/2463 [==============================] - 0s 129us/step - loss: 2.3780 - acc: 0.9257 - val_loss: 2.2399 - val_acc: 0.8532\n",
            "Epoch 9/100\n",
            "2463/2463 [==============================] - 0s 136us/step - loss: 1.9813 - acc: 0.9639 - val_loss: 1.9010 - val_acc: 0.8753\n",
            "Epoch 10/100\n",
            "2463/2463 [==============================] - 0s 130us/step - loss: 1.6250 - acc: 0.9862 - val_loss: 1.6294 - val_acc: 0.8781\n",
            "Epoch 11/100\n",
            "2463/2463 [==============================] - 0s 134us/step - loss: 1.3444 - acc: 0.9907 - val_loss: 1.4292 - val_acc: 0.8837\n",
            "Epoch 12/100\n",
            "2463/2463 [==============================] - 0s 131us/step - loss: 1.1348 - acc: 0.9898 - val_loss: 1.2854 - val_acc: 0.8615\n",
            "Epoch 13/100\n",
            "2463/2463 [==============================] - 0s 129us/step - loss: 0.9733 - acc: 0.9894 - val_loss: 1.1670 - val_acc: 0.8726\n",
            "Epoch 14/100\n",
            "2463/2463 [==============================] - 0s 127us/step - loss: 0.8410 - acc: 0.9882 - val_loss: 1.0573 - val_acc: 0.8809\n",
            "Epoch 15/100\n",
            "2463/2463 [==============================] - 0s 135us/step - loss: 0.7183 - acc: 0.9894 - val_loss: 0.9571 - val_acc: 0.8837\n",
            "Epoch 16/100\n",
            "2463/2463 [==============================] - 0s 128us/step - loss: 0.6159 - acc: 0.9890 - val_loss: 0.8621 - val_acc: 0.8837\n",
            "Epoch 17/100\n",
            "2463/2463 [==============================] - 0s 128us/step - loss: 0.5319 - acc: 0.9870 - val_loss: 0.7749 - val_acc: 0.8864\n",
            "Epoch 18/100\n",
            "2463/2463 [==============================] - 0s 130us/step - loss: 0.4550 - acc: 0.9898 - val_loss: 0.7021 - val_acc: 0.8809\n",
            "Epoch 19/100\n",
            "2463/2463 [==============================] - 0s 131us/step - loss: 0.4015 - acc: 0.9882 - val_loss: 0.6486 - val_acc: 0.8837\n",
            "Epoch 20/100\n",
            "2463/2463 [==============================] - 0s 127us/step - loss: 0.3602 - acc: 0.9878 - val_loss: 0.6073 - val_acc: 0.8837\n",
            "Epoch 21/100\n",
            "2463/2463 [==============================] - 0s 128us/step - loss: 0.3257 - acc: 0.9898 - val_loss: 0.5775 - val_acc: 0.8809\n",
            "Epoch 22/100\n",
            "2463/2463 [==============================] - 0s 130us/step - loss: 0.2914 - acc: 0.9935 - val_loss: 0.5578 - val_acc: 0.8809\n",
            "Epoch 23/100\n",
            "2463/2463 [==============================] - 0s 127us/step - loss: 0.2698 - acc: 0.9890 - val_loss: 0.5468 - val_acc: 0.8781\n",
            "Epoch 24/100\n",
            "2463/2463 [==============================] - 0s 129us/step - loss: 0.2510 - acc: 0.9878 - val_loss: 0.5415 - val_acc: 0.8809\n",
            "Epoch 25/100\n",
            "2463/2463 [==============================] - 0s 129us/step - loss: 0.2332 - acc: 0.9923 - val_loss: 0.5334 - val_acc: 0.8837\n",
            "Epoch 26/100\n",
            "2463/2463 [==============================] - 0s 130us/step - loss: 0.2219 - acc: 0.9907 - val_loss: 0.5180 - val_acc: 0.8837\n",
            "Epoch 27/100\n",
            "2463/2463 [==============================] - 0s 128us/step - loss: 0.2103 - acc: 0.9911 - val_loss: 0.5090 - val_acc: 0.8837\n",
            "Epoch 28/100\n",
            "2463/2463 [==============================] - 0s 131us/step - loss: 0.1974 - acc: 0.9923 - val_loss: 0.5036 - val_acc: 0.8837\n",
            "Epoch 29/100\n",
            "2463/2463 [==============================] - 0s 128us/step - loss: 0.1942 - acc: 0.9907 - val_loss: 0.4974 - val_acc: 0.8837\n",
            "Epoch 30/100\n",
            "2463/2463 [==============================] - 0s 129us/step - loss: 0.1857 - acc: 0.9898 - val_loss: 0.4908 - val_acc: 0.8837\n",
            "Epoch 31/100\n",
            "2463/2463 [==============================] - 0s 130us/step - loss: 0.1777 - acc: 0.9915 - val_loss: 0.4893 - val_acc: 0.8837\n",
            "Epoch 32/100\n",
            "2463/2463 [==============================] - 0s 127us/step - loss: 0.1716 - acc: 0.9939 - val_loss: 0.4921 - val_acc: 0.8837\n",
            "Epoch 33/100\n",
            "2463/2463 [==============================] - 0s 133us/step - loss: 0.1675 - acc: 0.9919 - val_loss: 0.4897 - val_acc: 0.8837\n",
            "Epoch 34/100\n",
            "2463/2463 [==============================] - 0s 129us/step - loss: 0.1623 - acc: 0.9927 - val_loss: 0.4869 - val_acc: 0.8809\n",
            "Epoch 35/100\n",
            "2463/2463 [==============================] - 0s 127us/step - loss: 0.1634 - acc: 0.9907 - val_loss: 0.4825 - val_acc: 0.8837\n",
            "Epoch 36/100\n",
            "2463/2463 [==============================] - 0s 131us/step - loss: 0.1579 - acc: 0.9903 - val_loss: 0.4809 - val_acc: 0.8864\n",
            "Epoch 37/100\n",
            "2463/2463 [==============================] - 0s 129us/step - loss: 0.1554 - acc: 0.9915 - val_loss: 0.4760 - val_acc: 0.8837\n",
            "Epoch 38/100\n",
            "2463/2463 [==============================] - 0s 136us/step - loss: 0.1534 - acc: 0.9907 - val_loss: 0.4676 - val_acc: 0.8781\n",
            "Epoch 39/100\n",
            "2463/2463 [==============================] - 0s 127us/step - loss: 0.1491 - acc: 0.9935 - val_loss: 0.4631 - val_acc: 0.8809\n",
            "Epoch 40/100\n",
            "2463/2463 [==============================] - 0s 129us/step - loss: 0.1489 - acc: 0.9915 - val_loss: 0.4659 - val_acc: 0.8809\n",
            "Epoch 41/100\n",
            "2463/2463 [==============================] - 0s 128us/step - loss: 0.1449 - acc: 0.9915 - val_loss: 0.4720 - val_acc: 0.8864\n",
            "Epoch 42/100\n",
            "2463/2463 [==============================] - 0s 131us/step - loss: 0.1445 - acc: 0.9915 - val_loss: 0.4654 - val_acc: 0.8809\n",
            "Epoch 43/100\n",
            "2463/2463 [==============================] - 0s 127us/step - loss: 0.1379 - acc: 0.9919 - val_loss: 0.4697 - val_acc: 0.8809\n",
            "Epoch 44/100\n",
            "2463/2463 [==============================] - 0s 133us/step - loss: 0.1441 - acc: 0.9882 - val_loss: 0.4740 - val_acc: 0.8837\n"
          ],
          "name": "stdout"
        }
      ]
    },
    {
      "metadata": {
        "id": "OtGrA8RBKShg",
        "colab_type": "code",
        "colab": {}
      },
      "cell_type": "code",
      "source": [
        "model_path = 'emoint_model.h5'\n",
        "weight_path = 'emoint_weights.h5'\n",
        "\n",
        "model.save(model_path)\n",
        "model.save_weights(weight_path)"
      ],
      "execution_count": 0,
      "outputs": []
    },
    {
      "metadata": {
        "id": "eFzd1urtKeFw",
        "colab_type": "code",
        "colab": {
          "base_uri": "https://localhost:8080/",
          "height": 201
        },
        "outputId": "0c704f74-7306-4bd3-d8ce-73dc6edaa751"
      },
      "cell_type": "code",
      "source": [
        "!ls -lah"
      ],
      "execution_count": 85,
      "outputs": [
        {
          "output_type": "stream",
          "text": [
            "total 1.6G\n",
            "drwxr-xr-x 1 root root 4.0K Sep 13 06:38 .\n",
            "drwxr-xr-x 1 root root 4.0K Sep 13 06:31 ..\n",
            "-rw-r--r-- 1 root root 2.5K Sep 13 06:33 adc.json\n",
            "drwxr-xr-x 1 root root 4.0K Sep 13 06:33 .config\n",
            "-rw-r--r-- 1 root root  37M Sep 13 07:21 emoint_model.h5\n",
            "-rw-r--r-- 1 root root  13M Sep 13 07:21 emoint_weights.h5\n",
            "-rw-r--r-- 1 root root 1.6G Sep 13 06:59 GoogleNews-vectors-negative300.bin.gz\n",
            "drwxr-xr-x 2 root root 4.0K Sep 11 17:54 sample_data\n"
          ],
          "name": "stdout"
        }
      ]
    },
    {
      "metadata": {
        "id": "85MiexxMK8zd",
        "colab_type": "code",
        "colab": {}
      },
      "cell_type": "code",
      "source": [
        "model_file = drive.CreateFile({'title': model_path})\n",
        "model_file.SetContentFile(model_path)\n",
        "model_file.Upload()\n",
        "\n",
        "weight_file = drive.CreateFile({'title': weight_path})\n",
        "weight_file.SetContentFile(weight_path)\n",
        "weight_file.Upload()"
      ],
      "execution_count": 0,
      "outputs": []
    },
    {
      "metadata": {
        "id": "b0P0vTv-7RC6",
        "colab_type": "code",
        "colab": {}
      },
      "cell_type": "code",
      "source": [
        "sequences_test=tokenizer.texts_to_sequences(test_data.text)\n",
        "X_test = pad_sequences(sequences_test, maxlen=X_test.shape[1])\n",
        "y_pred = model.predict(X_test)"
      ],
      "execution_count": 0,
      "outputs": []
    },
    {
      "metadata": {
        "id": "IgHlDfC_-rS5",
        "colab_type": "code",
        "colab": {
          "base_uri": "https://localhost:8080/",
          "height": 34
        },
        "outputId": "6d9860ec-1089-4544-e724-9da0da2f820c"
      },
      "cell_type": "code",
      "source": [
        "history.history.keys()"
      ],
      "execution_count": 88,
      "outputs": [
        {
          "output_type": "execute_result",
          "data": {
            "text/plain": [
              "dict_keys(['val_loss', 'val_acc', 'loss', 'acc'])"
            ]
          },
          "metadata": {
            "tags": []
          },
          "execution_count": 88
        }
      ]
    },
    {
      "metadata": {
        "id": "-JaFoS4u_pwS",
        "colab_type": "code",
        "colab": {}
      },
      "cell_type": "code",
      "source": [
        "y_pred_original = [labels[val] for val in np.argmax(y_pred, axis=1).squeeze()]\n",
        "y_test_original = np.asarray(test_data.emotion)"
      ],
      "execution_count": 0,
      "outputs": []
    },
    {
      "metadata": {
        "id": "BREyqdCAI9d0",
        "colab_type": "code",
        "colab": {}
      },
      "cell_type": "code",
      "source": [
        "def print_confusion_matrix(confusion_matrix, class_names, figsize = (4,3), fontsize=15):\n",
        "    \"\"\"Prints a confusion matrix, as returned by sklearn.metrics.confusion_matrix, as a heatmap.\n",
        "    \n",
        "    Arguments\n",
        "    ---------\n",
        "    confusion_matrix: numpy.ndarray\n",
        "        The numpy.ndarray object returned from a call to sklearn.metrics.confusion_matrix. \n",
        "        Similarly constructed ndarrays can also be used.\n",
        "    class_names: list\n",
        "        An ordered list of class names, in the order they index the given confusion matrix.\n",
        "    figsize: tuple\n",
        "        A 2-long tuple, the first value determining the horizontal size of the ouputted figure,\n",
        "        the second determining the vertical size. Defaults to (10,7).\n",
        "    fontsize: int\n",
        "        Font size for axes labels. Defaults to 14.\n",
        "        \n",
        "    Returns\n",
        "    -------\n",
        "    matplotlib.figure.Figure\n",
        "        The resulting confusion matrix figure\n",
        "    \"\"\"\n",
        "    df_cm = pd.DataFrame(\n",
        "        confusion_matrix, index=class_names, columns=class_names, \n",
        "    )\n",
        "    fig = plt.figure(figsize=figsize)\n",
        "    try:\n",
        "        heatmap = sns.heatmap(df_cm, annot=True, fmt=\"d\")\n",
        "    except ValueError:\n",
        "        raise ValueError(\"Confusion matrix values must be integers.\")\n",
        "    heatmap.yaxis.set_ticklabels(heatmap.yaxis.get_ticklabels(), rotation=0, ha='right', fontsize=fontsize)\n",
        "    heatmap.xaxis.set_ticklabels(heatmap.xaxis.get_ticklabels(), rotation=45, ha='right', fontsize=fontsize)\n",
        "    plt.ylabel('True label')\n",
        "    plt.xlabel('Predicted label')\n",
        "    return fig"
      ],
      "execution_count": 0,
      "outputs": []
    },
    {
      "metadata": {
        "id": "XG9HPQb10TZm",
        "colab_type": "code",
        "colab": {
          "base_uri": "https://localhost:8080/",
          "height": 173
        },
        "outputId": "edea33da-8f2e-4626-f333-7a5411be00bc"
      },
      "cell_type": "code",
      "source": [
        "cf_matrix = confusion_matrix(y_test_original, y_pred_original, labels=labels)\n",
        "\n",
        "df_cm = pd.DataFrame(\n",
        "    cf_matrix, index=labels, columns=labels, \n",
        ")\n",
        "\n",
        "df_cm"
      ],
      "execution_count": 91,
      "outputs": [
        {
          "output_type": "execute_result",
          "data": {
            "text/html": [
              "<div>\n",
              "<style scoped>\n",
              "    .dataframe tbody tr th:only-of-type {\n",
              "        vertical-align: middle;\n",
              "    }\n",
              "\n",
              "    .dataframe tbody tr th {\n",
              "        vertical-align: top;\n",
              "    }\n",
              "\n",
              "    .dataframe thead th {\n",
              "        text-align: right;\n",
              "    }\n",
              "</style>\n",
              "<table border=\"1\" class=\"dataframe\">\n",
              "  <thead>\n",
              "    <tr style=\"text-align: right;\">\n",
              "      <th></th>\n",
              "      <th>anger</th>\n",
              "      <th>fear</th>\n",
              "      <th>joy</th>\n",
              "      <th>sadness</th>\n",
              "    </tr>\n",
              "  </thead>\n",
              "  <tbody>\n",
              "    <tr>\n",
              "      <th>anger</th>\n",
              "      <td>629</td>\n",
              "      <td>72</td>\n",
              "      <td>17</td>\n",
              "      <td>42</td>\n",
              "    </tr>\n",
              "    <tr>\n",
              "      <th>fear</th>\n",
              "      <td>33</td>\n",
              "      <td>851</td>\n",
              "      <td>31</td>\n",
              "      <td>80</td>\n",
              "    </tr>\n",
              "    <tr>\n",
              "      <th>joy</th>\n",
              "      <td>14</td>\n",
              "      <td>52</td>\n",
              "      <td>633</td>\n",
              "      <td>15</td>\n",
              "    </tr>\n",
              "    <tr>\n",
              "      <th>sadness</th>\n",
              "      <td>34</td>\n",
              "      <td>68</td>\n",
              "      <td>17</td>\n",
              "      <td>554</td>\n",
              "    </tr>\n",
              "  </tbody>\n",
              "</table>\n",
              "</div>"
            ],
            "text/plain": [
              "         anger  fear  joy  sadness\n",
              "anger      629    72   17       42\n",
              "fear        33   851   31       80\n",
              "joy         14    52  633       15\n",
              "sadness     34    68   17      554"
            ]
          },
          "metadata": {
            "tags": []
          },
          "execution_count": 91
        }
      ]
    },
    {
      "metadata": {
        "id": "59xnXmbEAKXy",
        "colab_type": "code",
        "colab": {
          "base_uri": "https://localhost:8080/",
          "height": 281
        },
        "outputId": "ea372561-48cf-4a36-f452-90c4105fe891"
      },
      "cell_type": "code",
      "source": [
        "print(print_confusion_matrix(cf_matrix, class_names=labels))"
      ],
      "execution_count": 92,
      "outputs": [
        {
          "output_type": "stream",
          "text": [
            "Figure(288x216)\n"
          ],
          "name": "stdout"
        },
        {
          "output_type": "display_data",
          "data": {
            "image/png": "[encoded data removed]",
            "text/plain": [
              "<matplotlib.figure.Figure at 0x7f822adf3ef0>"
            ]
          },
          "metadata": {
            "tags": []
          }
        }
      ]
    },
    {
      "metadata": {
        "id": "9XE5c4LJEZXy",
        "colab_type": "code",
        "colab": {
          "base_uri": "https://localhost:8080/",
          "height": 34
        },
        "outputId": "c2fdf3d0-f498-4b4b-dcc2-3154e3142cde"
      },
      "cell_type": "code",
      "source": [
        "test_accuracy = accuracy_score(y_test_original, y_pred_original)\n",
        "print(\"test accuracy:\", test_accuracy)"
      ],
      "execution_count": 93,
      "outputs": [
        {
          "output_type": "stream",
          "text": [
            "test accuracy: 0.8488224061107574\n"
          ],
          "name": "stdout"
        }
      ]
    },
    {
      "metadata": {
        "id": "jAISNDCVwvR7",
        "colab_type": "text"
      },
      "cell_type": "markdown",
      "source": [
        "### Performance score for each classes"
      ]
    },
    {
      "metadata": {
        "id": "iFb9Q6A1DcXi",
        "colab_type": "code",
        "colab": {
          "base_uri": "https://localhost:8080/",
          "height": 173
        },
        "outputId": "53faaf68-8c6f-4910-a294-09ba014efff8"
      },
      "cell_type": "code",
      "source": [
        "precision, recall, fscore, support = precision_recall_fscore_support(y_test_original, y_pred_original)\n",
        "score_dict = {\n",
        "  \"precision\": precision.round(4),\n",
        "  \"recall\": recall.round(4),\n",
        "  \"f1-score\": fscore.round(4),\n",
        "  \"support\": support.round(4)\n",
        "}\n",
        "score_df = pd.DataFrame(score_dict, index=labels)\n",
        "score_df"
      ],
      "execution_count": 94,
      "outputs": [
        {
          "output_type": "execute_result",
          "data": {
            "text/html": [
              "<div>\n",
              "<style scoped>\n",
              "    .dataframe tbody tr th:only-of-type {\n",
              "        vertical-align: middle;\n",
              "    }\n",
              "\n",
              "    .dataframe tbody tr th {\n",
              "        vertical-align: top;\n",
              "    }\n",
              "\n",
              "    .dataframe thead th {\n",
              "        text-align: right;\n",
              "    }\n",
              "</style>\n",
              "<table border=\"1\" class=\"dataframe\">\n",
              "  <thead>\n",
              "    <tr style=\"text-align: right;\">\n",
              "      <th></th>\n",
              "      <th>f1-score</th>\n",
              "      <th>precision</th>\n",
              "      <th>recall</th>\n",
              "      <th>support</th>\n",
              "    </tr>\n",
              "  </thead>\n",
              "  <tbody>\n",
              "    <tr>\n",
              "      <th>anger</th>\n",
              "      <td>0.8558</td>\n",
              "      <td>0.8859</td>\n",
              "      <td>0.8276</td>\n",
              "      <td>760</td>\n",
              "    </tr>\n",
              "    <tr>\n",
              "      <th>fear</th>\n",
              "      <td>0.8351</td>\n",
              "      <td>0.8159</td>\n",
              "      <td>0.8553</td>\n",
              "      <td>995</td>\n",
              "    </tr>\n",
              "    <tr>\n",
              "      <th>joy</th>\n",
              "      <td>0.8966</td>\n",
              "      <td>0.9069</td>\n",
              "      <td>0.8866</td>\n",
              "      <td>714</td>\n",
              "    </tr>\n",
              "    <tr>\n",
              "      <th>sadness</th>\n",
              "      <td>0.8123</td>\n",
              "      <td>0.8017</td>\n",
              "      <td>0.8232</td>\n",
              "      <td>673</td>\n",
              "    </tr>\n",
              "  </tbody>\n",
              "</table>\n",
              "</div>"
            ],
            "text/plain": [
              "         f1-score  precision  recall  support\n",
              "anger      0.8558     0.8859  0.8276      760\n",
              "fear       0.8351     0.8159  0.8553      995\n",
              "joy        0.8966     0.9069  0.8866      714\n",
              "sadness    0.8123     0.8017  0.8232      673"
            ]
          },
          "metadata": {
            "tags": []
          },
          "execution_count": 94
        }
      ]
    },
    {
      "metadata": {
        "id": "cHi1Gw7Oz1zG",
        "colab_type": "text"
      },
      "cell_type": "markdown",
      "source": [
        "### Performance score using micro average"
      ]
    },
    {
      "metadata": {
        "id": "KP69PDE9D_jz",
        "colab_type": "code",
        "colab": {
          "base_uri": "https://localhost:8080/",
          "height": 80
        },
        "outputId": "c0c004e9-2416-49d4-d512-cc0a5ef9d97d"
      },
      "cell_type": "code",
      "source": [
        "precision, recall, fscore, support = precision_recall_fscore_support(y_test_original, y_pred_original, average=\"micro\")\n",
        "score_dict = {\n",
        "  \"precision\": precision.round(4),\n",
        "  \"recall\": recall.round(4),\n",
        "  \"f1-score\": fscore.round(4),\n",
        "  \"support\": support\n",
        "}\n",
        "score_df = pd.DataFrame(score_dict, index=[\"score\"])\n",
        "score_df"
      ],
      "execution_count": 95,
      "outputs": [
        {
          "output_type": "execute_result",
          "data": {
            "text/html": [
              "<div>\n",
              "<style scoped>\n",
              "    .dataframe tbody tr th:only-of-type {\n",
              "        vertical-align: middle;\n",
              "    }\n",
              "\n",
              "    .dataframe tbody tr th {\n",
              "        vertical-align: top;\n",
              "    }\n",
              "\n",
              "    .dataframe thead th {\n",
              "        text-align: right;\n",
              "    }\n",
              "</style>\n",
              "<table border=\"1\" class=\"dataframe\">\n",
              "  <thead>\n",
              "    <tr style=\"text-align: right;\">\n",
              "      <th></th>\n",
              "      <th>f1-score</th>\n",
              "      <th>precision</th>\n",
              "      <th>recall</th>\n",
              "      <th>support</th>\n",
              "    </tr>\n",
              "  </thead>\n",
              "  <tbody>\n",
              "    <tr>\n",
              "      <th>score</th>\n",
              "      <td>0.8488</td>\n",
              "      <td>0.8488</td>\n",
              "      <td>0.8488</td>\n",
              "      <td>None</td>\n",
              "    </tr>\n",
              "  </tbody>\n",
              "</table>\n",
              "</div>"
            ],
            "text/plain": [
              "       f1-score  precision  recall support\n",
              "score    0.8488     0.8488  0.8488    None"
            ]
          },
          "metadata": {
            "tags": []
          },
          "execution_count": 95
        }
      ]
    },
    {
      "metadata": {
        "id": "IWXNCktiz8Vb",
        "colab_type": "text"
      },
      "cell_type": "markdown",
      "source": [
        "### Performance score using macro average"
      ]
    },
    {
      "metadata": {
        "id": "g4e0vsNIydDs",
        "colab_type": "code",
        "colab": {
          "base_uri": "https://localhost:8080/",
          "height": 80
        },
        "outputId": "25c4aa83-343e-49f5-a063-6960fd25c492"
      },
      "cell_type": "code",
      "source": [
        "precision, recall, fscore, support = precision_recall_fscore_support(y_test_original, y_pred_original, average=\"macro\")\n",
        "score_dict = {\n",
        "  \"precision\": precision.round(4),\n",
        "  \"recall\": recall.round(4),\n",
        "  \"f1-score\": fscore.round(4),\n",
        "  \"support\": support\n",
        "}\n",
        "score_df = pd.DataFrame(score_dict, index=[\"score\"])\n",
        "score_df"
      ],
      "execution_count": 96,
      "outputs": [
        {
          "output_type": "execute_result",
          "data": {
            "text/html": [
              "<div>\n",
              "<style scoped>\n",
              "    .dataframe tbody tr th:only-of-type {\n",
              "        vertical-align: middle;\n",
              "    }\n",
              "\n",
              "    .dataframe tbody tr th {\n",
              "        vertical-align: top;\n",
              "    }\n",
              "\n",
              "    .dataframe thead th {\n",
              "        text-align: right;\n",
              "    }\n",
              "</style>\n",
              "<table border=\"1\" class=\"dataframe\">\n",
              "  <thead>\n",
              "    <tr style=\"text-align: right;\">\n",
              "      <th></th>\n",
              "      <th>f1-score</th>\n",
              "      <th>precision</th>\n",
              "      <th>recall</th>\n",
              "      <th>support</th>\n",
              "    </tr>\n",
              "  </thead>\n",
              "  <tbody>\n",
              "    <tr>\n",
              "      <th>score</th>\n",
              "      <td>0.85</td>\n",
              "      <td>0.8526</td>\n",
              "      <td>0.8482</td>\n",
              "      <td>None</td>\n",
              "    </tr>\n",
              "  </tbody>\n",
              "</table>\n",
              "</div>"
            ],
            "text/plain": [
              "       f1-score  precision  recall support\n",
              "score      0.85     0.8526  0.8482    None"
            ]
          },
          "metadata": {
            "tags": []
          },
          "execution_count": 96
        }
      ]
    },
    {
      "metadata": {
        "id": "wFJFH7u6z-oG",
        "colab_type": "text"
      },
      "cell_type": "markdown",
      "source": [
        "### Performance score using weighted average"
      ]
    },
    {
      "metadata": {
        "id": "z99JkHjuzv68",
        "colab_type": "code",
        "colab": {
          "base_uri": "https://localhost:8080/",
          "height": 80
        },
        "outputId": "00fdc820-84a2-4c9c-d8b4-b8440bf17375"
      },
      "cell_type": "code",
      "source": [
        "precision, recall, fscore, support = precision_recall_fscore_support(y_test_original, y_pred_original, average=\"weighted\")\n",
        "score_dict = {\n",
        "  \"precision\": precision.round(4),\n",
        "  \"recall\": recall.round(4),\n",
        "  \"f1-score\": fscore.round(4),\n",
        "  \"support\": support\n",
        "}\n",
        "score_df = pd.DataFrame(score_dict, index=[\"score\"])\n",
        "score_df"
      ],
      "execution_count": 97,
      "outputs": [
        {
          "output_type": "execute_result",
          "data": {
            "text/html": [
              "<div>\n",
              "<style scoped>\n",
              "    .dataframe tbody tr th:only-of-type {\n",
              "        vertical-align: middle;\n",
              "    }\n",
              "\n",
              "    .dataframe tbody tr th {\n",
              "        vertical-align: top;\n",
              "    }\n",
              "\n",
              "    .dataframe thead th {\n",
              "        text-align: right;\n",
              "    }\n",
              "</style>\n",
              "<table border=\"1\" class=\"dataframe\">\n",
              "  <thead>\n",
              "    <tr style=\"text-align: right;\">\n",
              "      <th></th>\n",
              "      <th>f1-score</th>\n",
              "      <th>precision</th>\n",
              "      <th>recall</th>\n",
              "      <th>support</th>\n",
              "    </tr>\n",
              "  </thead>\n",
              "  <tbody>\n",
              "    <tr>\n",
              "      <th>score</th>\n",
              "      <td>0.8492</td>\n",
              "      <td>0.8505</td>\n",
              "      <td>0.8488</td>\n",
              "      <td>None</td>\n",
              "    </tr>\n",
              "  </tbody>\n",
              "</table>\n",
              "</div>"
            ],
            "text/plain": [
              "       f1-score  precision  recall support\n",
              "score    0.8492     0.8505  0.8488    None"
            ]
          },
          "metadata": {
            "tags": []
          },
          "execution_count": 97
        }
      ]
    },
    {
      "metadata": {
        "id": "praJLop1zxg9",
        "colab_type": "code",
        "colab": {}
      },
      "cell_type": "code",
      "source": [
        ""
      ],
      "execution_count": 0,
      "outputs": []
    }
  ]
}