{
 "cells": [
  {
   "cell_type": "code",
   "execution_count": 1,
   "metadata": {},
   "outputs": [
    {
     "name": "stderr",
     "output_type": "stream",
     "text": [
      "Using TensorFlow backend.\n"
     ]
    }
   ],
   "source": [
    "import os\n",
    "\n",
    "import logging\n",
    "import pandas as pd\n",
    "import numpy as np\n",
    "import matplotlib.pyplot as plt\n",
    "from sklearn.model_selection import train_test_split\n",
    "\n",
    "import torch\n",
    "import torch.nn as nn\n",
    "import torch.nn.functional as F\n",
    "import torch.optim as optim\n",
    "\n",
    "from keras.preprocessing.text import Tokenizer\n",
    "from keras.preprocessing.sequence import pad_sequences\n",
    "\n",
    "os.environ[\"CUDA_DEVICE_ORDER\"]=\"PCI_BUS_ID\"\n",
    "# The GPU id to use, usually either \"0\" or \"1\"\n",
    "os.environ[\"CUDA_VISIBLE_DEVICES\"]=\"1\"\n",
    "os.environ[\"TFHUB_CACHE_DIR\"]=\"tfhub_modules\"\n",
    "\n",
    "torch.manual_seed(1)\n",
    "\n",
    "use_cuda = torch.cuda.is_available()\n",
    "device = torch.device(\"cuda:0\" if use_cuda else \"cpu\")"
   ]
  },
  {
   "cell_type": "code",
   "execution_count": 2,
   "metadata": {},
   "outputs": [],
   "source": [
    "NUM_WORDS = 20000\n",
    "\n",
    "class ISEARDataset(object):\n",
    "    FILENAME = \"data/isear_databank.csv\"\n",
    "    EMOTION_CLASSES = [\"anger\", \"disgust\", \"fear\", \"guilt\", \"joy\", \"sadness\", \"shame\"]\n",
    "    EMOTION_CLASSES_DICT = {\"anger\": 0, \"disgust\": 1, \"fear\": 2, \"guilt\": 3, \"joy\": 4, \"sadness\": 5, \"shame\": 6}\n",
    "    RANDOM_STATE = 41\n",
    "  \n",
    "    def get_classes(self):\n",
    "        return self.EMOTION_CLASSES\n",
    "  \n",
    "    def get_classes_dict(self):\n",
    "        return self.EMOTION_CLASSES_DICT\n",
    "\n",
    "    def _sequence_texts(self, texts):\n",
    "        tokenizer = Tokenizer(num_words=NUM_WORDS,filters='!\"#$%&()*+,-./:;<=>?@[\\\\]^_`{|}~\\t\\n\\'', lower=True)\n",
    "        tokenizer.fit_on_texts(texts)\n",
    "        sequences = pad_sequences(tokenizer.texts_to_sequences(texts))\n",
    "        word_index = tokenizer.word_index\n",
    "        return sequences, word_index\n",
    "\n",
    "    def __init__(self, n_items=0):\n",
    "        data = pd.read_csv(self.FILENAME)\n",
    "\n",
    "        if n_items > 0:\n",
    "            data = data.iloc[0:n_items,:]\n",
    "\n",
    "        data[\"text\"] = data[\"SIT\"]\n",
    "        data[\"emotion\"] = data[\"Field1\"]\n",
    "\n",
    "        for emotion in self.get_classes():\n",
    "            data.loc[data[\"emotion\"] == emotion, \"emotion_int\"] = self.get_classes_dict()[emotion]\n",
    "\n",
    "        sequences, word_index = self._sequence_texts(data[\"text\"])\n",
    "        self.X = sequences\n",
    "        self.y = data[\"emotion_int\"].values\n",
    "        self.word_index = word_index"
   ]
  },
  {
   "cell_type": "code",
   "execution_count": 3,
   "metadata": {},
   "outputs": [],
   "source": [
    "dataset = ISEARDataset()\n",
    "# dataset = ISEARDataset(200)\n",
    "X_train, X_test, y_train, y_test = train_test_split(dataset.X, dataset.y, test_size=0.3, random_state=dataset.RANDOM_STATE, stratify=dataset.y)\n",
    "X_train, X_valid, y_train, y_valid = train_test_split(X_train, y_train, test_size=0.2, random_state=dataset.RANDOM_STATE, stratify=y_train)"
   ]
  },
  {
   "cell_type": "code",
   "execution_count": 4,
   "metadata": {},
   "outputs": [
    {
     "name": "stdout",
     "output_type": "stream",
     "text": [
      "X_train.shape: (4292, 192)\n",
      "y_train.shape: (4292)\n",
      "X_valid.shape: (1074, 192)\n",
      "y_valid.shape: (1074)\n",
      "X_test.shape: (2300, 192)\n",
      "y_test.shape: (2300)\n"
     ]
    }
   ],
   "source": [
    "print(\"X_train.shape: (%d, %d)\" % X_train.shape)\n",
    "print(\"y_train.shape: (%d)\" % y_train.shape)\n",
    "\n",
    "print(\"X_valid.shape: (%d, %d)\" % X_valid.shape)\n",
    "print(\"y_valid.shape: (%d)\" % y_valid.shape)\n",
    "\n",
    "print(\"X_test.shape: (%d, %d)\" % X_test.shape)\n",
    "print(\"y_test.shape: (%d)\" % y_test.shape)"
   ]
  },
  {
   "cell_type": "code",
   "execution_count": 5,
   "metadata": {},
   "outputs": [],
   "source": [
    "np.save(\"pytorch_isear_X_train.npy\", X_train)\n",
    "np.save(\"pytorch_isear_X_valid.npy\", X_valid)\n",
    "np.save(\"pytorch_isear_X_test.npy\", X_test)\n",
    "\n",
    "np.save(\"pytorch_isear_y_train.npy\", y_train)\n",
    "np.save(\"pytorch_isear_y_valid.npy\", y_valid)\n",
    "np.save(\"pytorch_isear_y_test.npy\", y_test)"
   ]
  },
  {
   "cell_type": "code",
   "execution_count": 6,
   "metadata": {},
   "outputs": [],
   "source": [
    "X_train = np.load(\"pytorch_isear_X_train.npy\")\n",
    "X_valid = np.load(\"pytorch_isear_X_valid.npy\")\n",
    "X_test = np.load(\"pytorch_isear_X_test.npy\")\n",
    "\n",
    "y_train = np.load(\"pytorch_isear_y_train.npy\")\n",
    "y_valid = np.load(\"pytorch_isear_y_valid.npy\")\n",
    "y_test = np.load(\"pytorch_isear_y_test.npy\")"
   ]
  },
  {
   "cell_type": "code",
   "execution_count": 7,
   "metadata": {},
   "outputs": [
    {
     "name": "stdout",
     "output_type": "stream",
     "text": [
      "class dictionary: {'anger': 0, 'disgust': 1, 'fear': 2, 'guilt': 3, 'joy': 4, 'sadness': 5, 'shame': 6}\n",
      "class labels: ['anger', 'disgust', 'fear', 'guilt', 'joy', 'sadness', 'shame']\n",
      "number of bins: 7\n"
     ]
    }
   ],
   "source": [
    "dic = dataset.get_classes_dict()\n",
    "labels = dataset.get_classes()\n",
    "n_classes = len(labels)\n",
    "print(\"class dictionary: %s\" % dic)\n",
    "print(\"class labels: %s\" % labels)\n",
    "print(\"number of bins: %s\" % n_classes)"
   ]
  },
  {
   "cell_type": "code",
   "execution_count": 8,
   "metadata": {
    "scrolled": true
   },
   "outputs": [
    {
     "name": "stdout",
     "output_type": "stream",
     "text": [
      "bins: [0, 1, 2, 3, 4, 5, 6, 7]\n"
     ]
    },
    {
     "data": {
      "image/png": "[encoded data removed]",
      "text/plain": [
       "<Figure size 432x288 with 1 Axes>"
      ]
     },
     "metadata": {
      "needs_background": "light"
     },
     "output_type": "display_data"
    }
   ],
   "source": [
    "bins = list(range(0, n_classes + 1))\n",
    "print(\"bins:\", bins)\n",
    "hist, _ = np.histogram(y_train, bins=bins)\n",
    "\n",
    "y_pos = np.arange(len(labels))\n",
    "\n",
    "plt.bar(y_pos, hist, align='center', alpha=0.5)\n",
    "plt.xticks(y_pos, labels)\n",
    "plt.ylabel('Number')\n",
    "plt.title('Emotions')\n",
    " \n",
    "plt.show()"
   ]
  },
  {
   "cell_type": "code",
   "execution_count": 9,
   "metadata": {
    "scrolled": true
   },
   "outputs": [
    {
     "name": "stdout",
     "output_type": "stream",
     "text": [
      "y.shape: torch.Size([4292, 1, 1, 1])\n",
      "y_onehot.shape: torch.Size([4292, 7, 1, 1])\n"
     ]
    }
   ],
   "source": [
    "from torch import autograd\n",
    "\n",
    "def make_one_hot(labels, C=2):\n",
    "    '''\n",
    "    Converts an integer label torch.autograd.Variable to a one-hot Variable.\n",
    "    \n",
    "    Parameters\n",
    "    ----------\n",
    "    labels : torch.autograd.Variable of torch.cuda.LongTensor\n",
    "        N x 1 x H x W, where N is batch size. \n",
    "        Each value is an integer representing correct classification.\n",
    "    C : integer. \n",
    "        number of classes in labels.\n",
    "    \n",
    "    Returns\n",
    "    -------\n",
    "    target : torch.autograd.Variable of torch.cuda.FloatTensor\n",
    "        N x C x H x W, where C is class number. One-hot encoded.\n",
    "    '''\n",
    "    one_hot = torch.FloatTensor(labels.size(0), C, labels.size(2), labels.size(3)).zero_()\n",
    "    target = one_hot.scatter_(1, labels.data, 1)\n",
    "    \n",
    "    target = autograd.Variable(target)\n",
    "        \n",
    "    return target\n",
    "  \n",
    "y = torch.LongTensor(y_train).view(-1, 1, 1, 1)\n",
    "print(\"y.shape:\", y.shape)\n",
    "y_onehot = make_one_hot(y, C=7)\n",
    "print(\"y_onehot.shape:\", y_onehot.shape)"
   ]
  },
  {
   "cell_type": "code",
   "execution_count": 10,
   "metadata": {},
   "outputs": [],
   "source": [
    "import torch\n",
    "from torch.utils import data\n",
    "\n",
    "class ISEAR_Tensor_Dataset(data.TensorDataset):\n",
    "  \n",
    "  def __init__(self, text, emotion, num_class=2):\n",
    "    X = torch.LongTensor(text)\n",
    "    y = torch.LongTensor(emotion).view(-1, 1, 1, 1)\n",
    "    y_onehot = make_one_hot(y, num_class)\n",
    "    y_onehot = y_onehot.view(y_onehot.shape[0], y_onehot.shape[1])\n",
    "    tensors = []\n",
    "    tensors.append(X)\n",
    "    tensors.append(y_onehot)\n",
    "    super().__init__(*tensors)"
   ]
  },
  {
   "cell_type": "code",
   "execution_count": 11,
   "metadata": {},
   "outputs": [],
   "source": [
    "train_dataset = ISEAR_Tensor_Dataset(X_train, y_train, num_class=7)\n",
    "valid_dataset = ISEAR_Tensor_Dataset(X_valid, y_valid, num_class=7)\n",
    "test_dataset = ISEAR_Tensor_Dataset(X_test, y_test, num_class=7)"
   ]
  },
  {
   "cell_type": "code",
   "execution_count": 12,
   "metadata": {},
   "outputs": [
    {
     "name": "stdout",
     "output_type": "stream",
     "text": [
      "train_dataset.tensors[0].shape: torch.Size([4292, 192])\n",
      "train_dataset.tensors[1].shape: torch.Size([4292, 7])\n"
     ]
    }
   ],
   "source": [
    "print(\"train_dataset.tensors[0].shape:\", train_dataset.tensors[0].shape)\n",
    "print(\"train_dataset.tensors[1].shape:\", train_dataset.tensors[1].shape)"
   ]
  },
  {
   "cell_type": "code",
   "execution_count": 13,
   "metadata": {},
   "outputs": [
    {
     "name": "stdout",
     "output_type": "stream",
     "text": [
      "train_dataset length: 4292\n",
      "valid_dataset length: 1074\n",
      "test_dataset length: 2300\n"
     ]
    }
   ],
   "source": [
    "print(\"train_dataset length:\", len(train_dataset))\n",
    "print(\"valid_dataset length:\", len(valid_dataset))\n",
    "print(\"test_dataset length:\", len(test_dataset))"
   ]
  },
  {
   "cell_type": "code",
   "execution_count": 14,
   "metadata": {},
   "outputs": [],
   "source": [
    "batch_size = 50\n",
    "\n",
    "train_loader = data.DataLoader(train_dataset, batch_size=batch_size, shuffle=True)\n",
    "valid_loader = data.DataLoader(valid_dataset, batch_size=batch_size, shuffle=True)\n",
    "test_loader = data.DataLoader(test_dataset, batch_size=batch_size, shuffle=True)"
   ]
  },
  {
   "cell_type": "markdown",
   "metadata": {},
   "source": [
    "### Word2Vec Embedding"
   ]
  },
  {
   "cell_type": "code",
   "execution_count": 15,
   "metadata": {},
   "outputs": [],
   "source": [
    "import gensim\n",
    "from gensim.models import Word2Vec\n",
    "from gensim.utils import simple_preprocess\n",
    "\n",
    "from gensim.models.keyedvectors import KeyedVectors\n",
    "\n",
    "word_vectors = KeyedVectors.load_word2vec_format('../../Datasets/WordEmbeddings/GoogleNews-vectors-negative300.bin.gz', binary=True)\n",
    "\n",
    "EMBEDDING_DIM=300\n",
    "\n",
    "vocabulary_size = min(len(dataset.word_index)+1, NUM_WORDS)\n",
    "embedding_weights = np.zeros((vocabulary_size, EMBEDDING_DIM))\n",
    "for word, i in dataset.word_index.items():\n",
    "    if i>=NUM_WORDS:\n",
    "        continue\n",
    "    try:\n",
    "        embedding_vector = word_vectors[word]\n",
    "        embedding_weights[i] = embedding_vector\n",
    "    except KeyError:\n",
    "        embedding_weights[i] = np.random.normal(0,np.sqrt(0.25), EMBEDDING_DIM)\n",
    "\n",
    "del(word_vectors)"
   ]
  },
  {
   "cell_type": "code",
   "execution_count": 16,
   "metadata": {},
   "outputs": [],
   "source": [
    "file_embedding_weights = \"pytorch_isear_embedded_matrix_word2vec_googlenews.npy\"\n",
    "np.save(file_embedding_weights, embedding_weights)"
   ]
  },
  {
   "cell_type": "markdown",
   "metadata": {},
   "source": [
    "## Reload embedding layer"
   ]
  },
  {
   "cell_type": "code",
   "execution_count": 17,
   "metadata": {},
   "outputs": [
    {
     "name": "stdout",
     "output_type": "stream",
     "text": [
      "embedding_weights.shape: (9014, 300)\n"
     ]
    }
   ],
   "source": [
    "file_embedding_weights = \"pytorch_isear_embedded_matrix_word2vec_googlenews.npy\"\n",
    "embedding_weights = np.load(file_embedding_weights)\n",
    "print(\"embedding_weights.shape:\", embedding_weights.shape)"
   ]
  },
  {
   "cell_type": "code",
   "execution_count": 18,
   "metadata": {},
   "outputs": [],
   "source": [
    "embedding = nn.Embedding(num_embeddings=vocabulary_size, embedding_dim=EMBEDDING_DIM, _weight=torch.Tensor(embedding_weights))"
   ]
  },
  {
   "cell_type": "code",
   "execution_count": 19,
   "metadata": {},
   "outputs": [
    {
     "name": "stdout",
     "output_type": "stream",
     "text": [
      "embedding.requires_grad: True\n"
     ]
    }
   ],
   "source": [
    "for param in embedding.parameters():\n",
    "    print(\"embedding.requires_grad:\", param.requires_grad)"
   ]
  },
  {
   "cell_type": "markdown",
   "metadata": {},
   "source": [
    "## Define the classifier"
   ]
  },
  {
   "cell_type": "code",
   "execution_count": 31,
   "metadata": {},
   "outputs": [],
   "source": [
    "from collections import OrderedDict\n",
    "\n",
    "class LSTMClassifier(nn.Module):\n",
    "  \n",
    "    def _transpose_embedding(self, x):\n",
    "        return x.permute(1, 0, 2)\n",
    "            \n",
    "    def __init__(self, device, embedding, input_dim, embedding_dim=300, hidden_dim=600,\n",
    "                 output_dim=7, filter_dim=100, drop_rate=0.2):\n",
    "        super(LSTMClassifier, self).__init__()\n",
    "        \n",
    "        self.embedding = embedding\n",
    "        self.input_dim = input_dim\n",
    "        self.embedding_dim = embedding_dim\n",
    "        self.hidden_dim = hidden_dim\n",
    "        self.filter_dim = filter_dim\n",
    "        self.output_dim = output_dim\n",
    "        self.drop_rate = drop_rate\n",
    "        self.device = device\n",
    "        \n",
    "        self.bidirectional_lstm = nn.LSTM(\n",
    "            input_size=embedding_dim, hidden_size=self.hidden_dim, \n",
    "            dropout=self.drop_rate, bidirectional=True)\n",
    "        \n",
    "        self.linear = nn.Linear(in_features=self.hidden_dim * 2, out_features=self.output_dim)\n",
    "        \n",
    "    def __shape_to_string(self, shape):\n",
    "        return str(shape)\n",
    "    \n",
    "    def summary(self, input_size):\n",
    "        x = torch.LongTensor(np.zeros(input_size)).to(self.device)\n",
    "        print(\"{:<20}  {:<25}\".format(\"input\", self.__shape_to_string(x.shape)))\n",
    "        embeds = self.embedding(x)\n",
    "        print(\"{:<20}  {:<25}\".format(\"embedding\", self.__shape_to_string(embedded.shape)))\n",
    "        transposed_embeds = self._transpose_embedding(embeds)\n",
    "        print(\"{:<20}  {:<25}\".format(\"transposed_embeds\", self.__shape_to_string(transposed_embeds.shape)))\n",
    "        lstm, (hn, cn) = self.bidirectional_lstm(transposed_embeds)\n",
    "        print(\"{:<20}  {:<25}\".format(\"lstm\", self.__shape_to_string(lstm.shape)))\n",
    "        lstm_last_seq = lstm[self.input_dim-1, :]\n",
    "        print(\"{:<20}  {:<25}\".format(\"lstm_last_seq\", self.__shape_to_string(lstm_last_seq.shape)))\n",
    "        output = F.softmax(self.linear(lstm_last_seq))\n",
    "        print(\"{:<20}  {:<25}\".format(\"output\", self.__shape_to_string(output.shape)))\n",
    "\n",
    "    def forward(self, x):\n",
    "        x = x.type(torch.long).to(self.device)\n",
    "        embeds = self.embedding(x)\n",
    "        transposed_embeds = self._transpose_embedding(embeds)\n",
    "        lstm, (hn, cn) = self.bidirectional_lstm(transposed_embeds)\n",
    "        lstm_last_seq = lstm[self.input_dim-1,:]\n",
    "        output = F.softmax(self.linear(lstm_last_seq))\n",
    "        \n",
    "        return output"
   ]
  },
  {
   "cell_type": "code",
   "execution_count": 32,
   "metadata": {},
   "outputs": [
    {
     "name": "stdout",
     "output_type": "stream",
     "text": [
      "input                 torch.Size([1, 192])     \n",
      "embedding             torch.Size([1, 192, 300])\n",
      "reshape               torch.Size([192, 1, 300])\n",
      "lstm                  torch.Size([192, 1, 1200])\n",
      "lstm_last_seq         torch.Size([1, 1200])    \n",
      "output                torch.Size([1, 7])       \n"
     ]
    },
    {
     "name": "stderr",
     "output_type": "stream",
     "text": [
      "/home/david/anaconda3/envs/tf36/lib/python3.6/site-packages/ipykernel_launcher.py:38: UserWarning: Implicit dimension choice for softmax has been deprecated. Change the call to include dim=X as an argument.\n"
     ]
    }
   ],
   "source": [
    "input_dim = X_train.shape[1]\n",
    "filter_dim = 100\n",
    "embedding_dim = 300\n",
    "hidden_dim = 600\n",
    "drop_rate = 0.2\n",
    "output_dim = 7\n",
    "model = LSTMClassifier(device, embedding, input_dim, embedding_dim, hidden_dim, output_dim, filter_dim, drop_rate)\n",
    "model = model.to(device)\n",
    "\n",
    "model.summary([1, 192])"
   ]
  },
  {
   "cell_type": "code",
   "execution_count": 33,
   "metadata": {},
   "outputs": [
    {
     "data": {
      "text/plain": [
       "{'dataset': <__main__.ISEAR_Tensor_Dataset at 0x7feab87abd68>,\n",
       " 'batch_size': 50,\n",
       " 'num_workers': 0,\n",
       " 'collate_fn': <function torch.utils.data.dataloader.default_collate(batch)>,\n",
       " 'pin_memory': False,\n",
       " 'drop_last': False,\n",
       " 'timeout': 0,\n",
       " 'worker_init_fn': None,\n",
       " 'sampler': <torch.utils.data.sampler.RandomSampler at 0x7feab87a5ba8>,\n",
       " 'batch_sampler': <torch.utils.data.sampler.BatchSampler at 0x7fec28604390>,\n",
       " '_DataLoader__initialized': True}"
      ]
     },
     "execution_count": 33,
     "metadata": {},
     "output_type": "execute_result"
    }
   ],
   "source": [
    "train_loader.__dict__"
   ]
  },
  {
   "cell_type": "code",
   "execution_count": 34,
   "metadata": {},
   "outputs": [],
   "source": [
    "def train(epoch, model, data_loader, device, optimiser, loss_fn=nn.BCELoss(), log_interval=100):\n",
    "    #####################\n",
    "    # Train model\n",
    "    #####################\n",
    "\n",
    "    # switch model to training mode, clear gradient accumulators\n",
    "    model.train()\n",
    "    # model.hidden = model.init_hidden()\n",
    "    \n",
    "    train_loss = 0\n",
    "    total_correct = 0\n",
    "\n",
    "    all_pred = []\n",
    "    all_target = []\n",
    "\n",
    "    for batch_idx, (data, target) in enumerate(data_loader):\n",
    "        data, target = data.to(device), target.to(device)\n",
    "        optimiser.zero_grad()\n",
    "        output = model(data)\n",
    "        \n",
    "        loss = loss_fn(output, target)\n",
    "        loss.backward()\n",
    "        optimiser.step()\n",
    "        \n",
    "        train_loss += loss.data # sum up batch loss\n",
    "        \n",
    "        pred = output.max(1, keepdim=True)[1]\n",
    "        pred = pred.view(pred.size(0))\n",
    "\n",
    "        target = target.max(1, keepdim=True)[1]\n",
    "        target = target.view(target.size(0))\n",
    "\n",
    "        correct = pred.eq(target.view_as(pred)).sum()\n",
    "        total_correct += correct\n",
    "\n",
    "        all_pred += pred.cpu().numpy().tolist()\n",
    "        all_target += target.cpu().numpy().tolist()\n",
    "\n",
    "        if batch_idx % log_interval == 0:\n",
    "            print('Train Epoch: {} [{}\\t/\\t{}\\t({:.0f}%)]\\tLoss: {:.6f}'.format(\n",
    "                epoch, batch_idx * len(data), len(train_loader.dataset),\n",
    "                100. * batch_idx / len(train_loader), loss.data))\n",
    "    \n",
    "    print('Train: Average loss: {:.4f}, Accuracy: {}/{} ({:.0f}%)'.format(\n",
    "        train_loss, total_correct, len(data_loader.dataset),\n",
    "        100. * total_correct / len(data_loader.dataset)))\n",
    "    \n",
    "    return train_loss, all_pred, all_target"
   ]
  },
  {
   "cell_type": "code",
   "execution_count": 35,
   "metadata": {},
   "outputs": [],
   "source": [
    "def evaluate(model, data_loader, device, loss_fn=nn.BCELoss()):\n",
    "    #####################\n",
    "    # Evaluation model\n",
    "    #####################\n",
    "    model.eval()\n",
    "    eval_loss = 0\n",
    "    total_correct = 0\n",
    "\n",
    "    all_pred = []\n",
    "    all_target = []\n",
    "    \n",
    "    with torch.no_grad():\n",
    "        for data, target in data_loader:\n",
    "            data, target = data.to(device), target.to(device)\n",
    "            output = model(data)\n",
    "            eval_loss += loss_fn(output, target).data # sum up batch loss\n",
    "            \n",
    "            pred = output.max(1, keepdim=True)[1]\n",
    "            pred = pred.view(pred.size(0))\n",
    "            \n",
    "            target = target.max(1, keepdim=True)[1]\n",
    "            target = target.view(target.size(0))\n",
    "            \n",
    "            correct = pred.eq(target.view_as(pred)).sum()\n",
    "            total_correct += correct\n",
    "\n",
    "            all_pred += pred.cpu().numpy().tolist()\n",
    "            all_target += target.cpu().numpy().tolist()\n",
    "\n",
    "    print('Evaluate: Average loss: {:.4f}, Accuracy: {}/{} ({:.0f}%)\\n'.format(\n",
    "        eval_loss, total_correct, len(data_loader.dataset),\n",
    "        100. * total_correct / len(data_loader.dataset)))\n",
    "    \n",
    "    return eval_loss, all_pred, all_target"
   ]
  },
  {
   "cell_type": "code",
   "execution_count": 36,
   "metadata": {},
   "outputs": [
    {
     "name": "stderr",
     "output_type": "stream",
     "text": [
      "/home/david/anaconda3/envs/tf36/lib/python3.6/site-packages/ipykernel_launcher.py:47: UserWarning: Implicit dimension choice for softmax has been deprecated. Change the call to include dim=X as an argument.\n"
     ]
    },
    {
     "name": "stdout",
     "output_type": "stream",
     "text": [
      "Train Epoch: 0 [0\t/\t4292\t(0%)]\tLoss: 0.410158\n",
      "Train Epoch: 0 [500\t/\t4292\t(12%)]\tLoss: 0.410221\n",
      "Train Epoch: 0 [1000\t/\t4292\t(23%)]\tLoss: 0.401632\n",
      "Train Epoch: 0 [1500\t/\t4292\t(35%)]\tLoss: 0.393287\n",
      "Train Epoch: 0 [2000\t/\t4292\t(47%)]\tLoss: 0.385560\n",
      "Train Epoch: 0 [2500\t/\t4292\t(58%)]\tLoss: 0.399002\n",
      "Train Epoch: 0 [3000\t/\t4292\t(70%)]\tLoss: 0.379564\n",
      "Train Epoch: 0 [3500\t/\t4292\t(81%)]\tLoss: 0.363383\n",
      "Train Epoch: 0 [4000\t/\t4292\t(93%)]\tLoss: 0.335147\n",
      "Train: Average loss: 33.2780, Accuracy: 1217/4292 (28%)\n",
      "Evaluate: Average loss: 7.9839, Accuracy: 378/1074 (35%)\n",
      "\n",
      "Train Epoch: 1 [0\t/\t4292\t(0%)]\tLoss: 0.367990\n",
      "Train Epoch: 1 [500\t/\t4292\t(12%)]\tLoss: 0.331827\n",
      "Train Epoch: 1 [1000\t/\t4292\t(23%)]\tLoss: 0.350307\n",
      "Train Epoch: 1 [1500\t/\t4292\t(35%)]\tLoss: 0.296779\n",
      "Train Epoch: 1 [2000\t/\t4292\t(47%)]\tLoss: 0.275143\n",
      "Train Epoch: 1 [2500\t/\t4292\t(58%)]\tLoss: 0.296741\n",
      "Train Epoch: 1 [3000\t/\t4292\t(70%)]\tLoss: 0.296146\n",
      "Train Epoch: 1 [3500\t/\t4292\t(81%)]\tLoss: 0.349666\n",
      "Train Epoch: 1 [4000\t/\t4292\t(93%)]\tLoss: 0.249787\n",
      "Train: Average loss: 26.5499, Accuracy: 2081/4292 (48%)\n",
      "Evaluate: Average loss: 7.1709, Accuracy: 465/1074 (43%)\n",
      "\n",
      "Train Epoch: 2 [0\t/\t4292\t(0%)]\tLoss: 0.232579\n",
      "Train Epoch: 2 [500\t/\t4292\t(12%)]\tLoss: 0.254327\n",
      "Train Epoch: 2 [1000\t/\t4292\t(23%)]\tLoss: 0.226394\n",
      "Train Epoch: 2 [1500\t/\t4292\t(35%)]\tLoss: 0.261422\n",
      "Train Epoch: 2 [2000\t/\t4292\t(47%)]\tLoss: 0.255359\n",
      "Train Epoch: 2 [2500\t/\t4292\t(58%)]\tLoss: 0.229353\n",
      "Train Epoch: 2 [3000\t/\t4292\t(70%)]\tLoss: 0.191845\n",
      "Train Epoch: 2 [3500\t/\t4292\t(81%)]\tLoss: 0.247551\n",
      "Train Epoch: 2 [4000\t/\t4292\t(93%)]\tLoss: 0.214684\n",
      "Train: Average loss: 21.0519, Accuracy: 2687/4292 (62%)\n",
      "Evaluate: Average loss: 7.2986, Accuracy: 512/1074 (47%)\n",
      "\n",
      "Train Epoch: 3 [0\t/\t4292\t(0%)]\tLoss: 0.158845\n",
      "Train Epoch: 3 [500\t/\t4292\t(12%)]\tLoss: 0.145483\n",
      "Train Epoch: 3 [1000\t/\t4292\t(23%)]\tLoss: 0.166454\n",
      "Train Epoch: 3 [1500\t/\t4292\t(35%)]\tLoss: 0.193336\n",
      "Train Epoch: 3 [2000\t/\t4292\t(47%)]\tLoss: 0.117409\n",
      "Train Epoch: 3 [2500\t/\t4292\t(58%)]\tLoss: 0.197827\n",
      "Train Epoch: 3 [3000\t/\t4292\t(70%)]\tLoss: 0.175528\n",
      "Train Epoch: 3 [3500\t/\t4292\t(81%)]\tLoss: 0.116079\n",
      "Train Epoch: 3 [4000\t/\t4292\t(93%)]\tLoss: 0.150307\n",
      "Train: Average loss: 15.3619, Accuracy: 3160/4292 (73%)\n",
      "Evaluate: Average loss: 7.7818, Accuracy: 487/1074 (45%)\n",
      "\n",
      "Train Epoch: 4 [0\t/\t4292\t(0%)]\tLoss: 0.124642\n",
      "Train Epoch: 4 [500\t/\t4292\t(12%)]\tLoss: 0.129018\n",
      "Train Epoch: 4 [1000\t/\t4292\t(23%)]\tLoss: 0.080794\n",
      "Train Epoch: 4 [1500\t/\t4292\t(35%)]\tLoss: 0.056919\n",
      "Train Epoch: 4 [2000\t/\t4292\t(47%)]\tLoss: 0.126131\n",
      "Train Epoch: 4 [2500\t/\t4292\t(58%)]\tLoss: 0.198808\n",
      "Train Epoch: 4 [3000\t/\t4292\t(70%)]\tLoss: 0.130236\n",
      "Train Epoch: 4 [3500\t/\t4292\t(81%)]\tLoss: 0.165328\n",
      "Train Epoch: 4 [4000\t/\t4292\t(93%)]\tLoss: 0.099646\n",
      "Train: Average loss: 11.0092, Accuracy: 3500/4292 (81%)\n",
      "Evaluate: Average loss: 8.3666, Accuracy: 524/1074 (48%)\n",
      "\n",
      "Train Epoch: 5 [0\t/\t4292\t(0%)]\tLoss: 0.091974\n",
      "Train Epoch: 5 [500\t/\t4292\t(12%)]\tLoss: 0.105958\n",
      "Train Epoch: 5 [1000\t/\t4292\t(23%)]\tLoss: 0.058319\n",
      "Train Epoch: 5 [1500\t/\t4292\t(35%)]\tLoss: 0.078759\n",
      "Train Epoch: 5 [2000\t/\t4292\t(47%)]\tLoss: 0.109234\n",
      "Train Epoch: 5 [2500\t/\t4292\t(58%)]\tLoss: 0.065538\n",
      "Train Epoch: 5 [3000\t/\t4292\t(70%)]\tLoss: 0.107760\n",
      "Train Epoch: 5 [3500\t/\t4292\t(81%)]\tLoss: 0.055953\n",
      "Train Epoch: 5 [4000\t/\t4292\t(93%)]\tLoss: 0.135701\n",
      "Train: Average loss: 8.6180, Accuracy: 3683/4292 (85%)\n",
      "Evaluate: Average loss: 8.5731, Accuracy: 550/1074 (51%)\n",
      "\n",
      "Train Epoch: 6 [0\t/\t4292\t(0%)]\tLoss: 0.055614\n",
      "Train Epoch: 6 [500\t/\t4292\t(12%)]\tLoss: 0.073944\n",
      "Train Epoch: 6 [1000\t/\t4292\t(23%)]\tLoss: 0.055259\n",
      "Train Epoch: 6 [1500\t/\t4292\t(35%)]\tLoss: 0.056966\n",
      "Train Epoch: 6 [2000\t/\t4292\t(47%)]\tLoss: 0.063441\n",
      "Train Epoch: 6 [2500\t/\t4292\t(58%)]\tLoss: 0.081872\n",
      "Train Epoch: 6 [3000\t/\t4292\t(70%)]\tLoss: 0.081749\n",
      "Train Epoch: 6 [3500\t/\t4292\t(81%)]\tLoss: 0.054123\n",
      "Train Epoch: 6 [4000\t/\t4292\t(93%)]\tLoss: 0.073132\n",
      "Train: Average loss: 6.3107, Accuracy: 3856/4292 (89%)\n",
      "Evaluate: Average loss: 9.8677, Accuracy: 546/1074 (50%)\n",
      "\n",
      "Train Epoch: 7 [0\t/\t4292\t(0%)]\tLoss: 0.053706\n",
      "Train Epoch: 7 [500\t/\t4292\t(12%)]\tLoss: 0.057837\n",
      "Train Epoch: 7 [1000\t/\t4292\t(23%)]\tLoss: 0.055255\n",
      "Train Epoch: 7 [1500\t/\t4292\t(35%)]\tLoss: 0.026809\n",
      "Train Epoch: 7 [2000\t/\t4292\t(47%)]\tLoss: 0.036574\n",
      "Train Epoch: 7 [2500\t/\t4292\t(58%)]\tLoss: 0.041742\n",
      "Train Epoch: 7 [3000\t/\t4292\t(70%)]\tLoss: 0.072660\n",
      "Train Epoch: 7 [3500\t/\t4292\t(81%)]\tLoss: 0.051693\n",
      "Train Epoch: 7 [4000\t/\t4292\t(93%)]\tLoss: 0.048652\n",
      "Train: Average loss: 4.8362, Accuracy: 3964/4292 (92%)\n",
      "Evaluate: Average loss: 10.0683, Accuracy: 541/1074 (50%)\n",
      "\n",
      "Train Epoch: 8 [0\t/\t4292\t(0%)]\tLoss: 0.017062\n",
      "Train Epoch: 8 [500\t/\t4292\t(12%)]\tLoss: 0.087406\n",
      "Train Epoch: 8 [1000\t/\t4292\t(23%)]\tLoss: 0.030426\n",
      "Train Epoch: 8 [1500\t/\t4292\t(35%)]\tLoss: 0.020053\n",
      "Train Epoch: 8 [2000\t/\t4292\t(47%)]\tLoss: 0.084657\n",
      "Train Epoch: 8 [2500\t/\t4292\t(58%)]\tLoss: 0.032980\n",
      "Train Epoch: 8 [3000\t/\t4292\t(70%)]\tLoss: 0.039334\n",
      "Train Epoch: 8 [3500\t/\t4292\t(81%)]\tLoss: 0.040333\n",
      "Train Epoch: 8 [4000\t/\t4292\t(93%)]\tLoss: 0.063077\n",
      "Train: Average loss: 3.2671, Accuracy: 4084/4292 (95%)\n",
      "Evaluate: Average loss: 10.8558, Accuracy: 565/1074 (52%)\n",
      "\n",
      "Train Epoch: 9 [0\t/\t4292\t(0%)]\tLoss: 0.024177\n",
      "Train Epoch: 9 [500\t/\t4292\t(12%)]\tLoss: 0.036157\n",
      "Train Epoch: 9 [1000\t/\t4292\t(23%)]\tLoss: 0.013967\n",
      "Train Epoch: 9 [1500\t/\t4292\t(35%)]\tLoss: 0.019964\n",
      "Train Epoch: 9 [2000\t/\t4292\t(47%)]\tLoss: 0.034168\n",
      "Train Epoch: 9 [2500\t/\t4292\t(58%)]\tLoss: 0.035840\n",
      "Train Epoch: 9 [3000\t/\t4292\t(70%)]\tLoss: 0.044246\n",
      "Train Epoch: 9 [3500\t/\t4292\t(81%)]\tLoss: 0.026507\n",
      "Train Epoch: 9 [4000\t/\t4292\t(93%)]\tLoss: 0.070626\n",
      "Train: Average loss: 3.2445, Accuracy: 4078/4292 (95%)\n",
      "Evaluate: Average loss: 11.4787, Accuracy: 559/1074 (52%)\n",
      "\n"
     ]
    }
   ],
   "source": [
    "loss_fn = nn.BCELoss()\n",
    "log_interval = 10\n",
    "max_epochs = 10\n",
    "learning_rate = 1e-3\n",
    "optimiser = optim.Adam(model.parameters(), lr=learning_rate)\n",
    "\n",
    "train_loss_hist = np.zeros(max_epochs)\n",
    "eval_loss_hist = np.zeros(max_epochs)\n",
    "\n",
    "for epoch in range(max_epochs):\n",
    "  \n",
    "    train_loss, train_pred, train_target = train(epoch, model, train_loader, device, optimiser, loss_fn, log_interval)\n",
    "    train_loss_hist[epoch] = train_loss\n",
    "    \n",
    "    valid_loss, valid_pred, valid_target = evaluate(model, valid_loader, device, loss_fn=nn.BCELoss())\n",
    "    eval_loss_hist[epoch] = valid_loss"
   ]
  },
  {
   "cell_type": "code",
   "execution_count": 38,
   "metadata": {},
   "outputs": [
    {
     "data": {
      "image/png": "[encoded data removed]",
      "text/plain": [
       "<Figure size 432x288 with 1 Axes>"
      ]
     },
     "metadata": {
      "needs_background": "light"
     },
     "output_type": "display_data"
    }
   ],
   "source": [
    "import matplotlib.pyplot as plt\n",
    "plt.plot(train_loss_hist, color='skyblue')\n",
    "plt.plot(eval_loss_hist, color='red')\n",
    "plt.ylabel('Historic Loss')\n",
    "plt.show()"
   ]
  },
  {
   "cell_type": "code",
   "execution_count": 39,
   "metadata": {},
   "outputs": [
    {
     "name": "stderr",
     "output_type": "stream",
     "text": [
      "/home/david/anaconda3/envs/tf36/lib/python3.6/site-packages/torch/serialization.py:250: UserWarning: Couldn't retrieve source code for container of type LSTMClassifier. It won't be checked for correctness upon loading.\n",
      "  \"type \" + obj.__name__ + \". It won't be checked \"\n"
     ]
    }
   ],
   "source": [
    "model_path = 'pytorch_isear_bidirectional_lstm_word2vec_googlenews_model.h5'\n",
    "weight_path = 'pytorch_isear_bidirectional_lstm_word2vec_googlenews_weights.h5'\n",
    "\n",
    "torch.save(model.state_dict(), weight_path)\n",
    "torch.save(model, model_path)"
   ]
  },
  {
   "cell_type": "code",
   "execution_count": 40,
   "metadata": {},
   "outputs": [
    {
     "name": "stderr",
     "output_type": "stream",
     "text": [
      "/home/david/anaconda3/envs/tf36/lib/python3.6/site-packages/ipykernel_launcher.py:47: UserWarning: Implicit dimension choice for softmax has been deprecated. Change the call to include dim=X as an argument.\n"
     ]
    },
    {
     "name": "stdout",
     "output_type": "stream",
     "text": [
      "Evaluate: Average loss: 24.2741, Accuracy: 1142/2300 (49%)\n",
      "\n"
     ]
    }
   ],
   "source": [
    "test_loss, test_pred, test_target = evaluate(model, test_loader, device, loss_fn)"
   ]
  },
  {
   "cell_type": "code",
   "execution_count": 41,
   "metadata": {},
   "outputs": [
    {
     "data": {
      "text/html": [
       "<div>\n",
       "<style scoped>\n",
       "    .dataframe tbody tr th:only-of-type {\n",
       "        vertical-align: middle;\n",
       "    }\n",
       "\n",
       "    .dataframe tbody tr th {\n",
       "        vertical-align: top;\n",
       "    }\n",
       "\n",
       "    .dataframe thead th {\n",
       "        text-align: right;\n",
       "    }\n",
       "</style>\n",
       "<table border=\"1\" class=\"dataframe\">\n",
       "  <thead>\n",
       "    <tr style=\"text-align: right;\">\n",
       "      <th></th>\n",
       "      <th>anger</th>\n",
       "      <th>disgust</th>\n",
       "      <th>fear</th>\n",
       "      <th>guilt</th>\n",
       "      <th>joy</th>\n",
       "      <th>sadness</th>\n",
       "      <th>shame</th>\n",
       "    </tr>\n",
       "  </thead>\n",
       "  <tbody>\n",
       "    <tr>\n",
       "      <th>anger</th>\n",
       "      <td>91</td>\n",
       "      <td>30</td>\n",
       "      <td>22</td>\n",
       "      <td>86</td>\n",
       "      <td>25</td>\n",
       "      <td>25</td>\n",
       "      <td>50</td>\n",
       "    </tr>\n",
       "    <tr>\n",
       "      <th>disgust</th>\n",
       "      <td>47</td>\n",
       "      <td>144</td>\n",
       "      <td>25</td>\n",
       "      <td>28</td>\n",
       "      <td>21</td>\n",
       "      <td>19</td>\n",
       "      <td>45</td>\n",
       "    </tr>\n",
       "    <tr>\n",
       "      <th>fear</th>\n",
       "      <td>25</td>\n",
       "      <td>16</td>\n",
       "      <td>184</td>\n",
       "      <td>28</td>\n",
       "      <td>22</td>\n",
       "      <td>25</td>\n",
       "      <td>28</td>\n",
       "    </tr>\n",
       "    <tr>\n",
       "      <th>guilt</th>\n",
       "      <td>31</td>\n",
       "      <td>16</td>\n",
       "      <td>15</td>\n",
       "      <td>165</td>\n",
       "      <td>16</td>\n",
       "      <td>26</td>\n",
       "      <td>59</td>\n",
       "    </tr>\n",
       "    <tr>\n",
       "      <th>joy</th>\n",
       "      <td>10</td>\n",
       "      <td>9</td>\n",
       "      <td>13</td>\n",
       "      <td>13</td>\n",
       "      <td>239</td>\n",
       "      <td>26</td>\n",
       "      <td>18</td>\n",
       "    </tr>\n",
       "    <tr>\n",
       "      <th>sadness</th>\n",
       "      <td>33</td>\n",
       "      <td>8</td>\n",
       "      <td>24</td>\n",
       "      <td>24</td>\n",
       "      <td>39</td>\n",
       "      <td>177</td>\n",
       "      <td>24</td>\n",
       "    </tr>\n",
       "    <tr>\n",
       "      <th>shame</th>\n",
       "      <td>35</td>\n",
       "      <td>20</td>\n",
       "      <td>23</td>\n",
       "      <td>57</td>\n",
       "      <td>31</td>\n",
       "      <td>21</td>\n",
       "      <td>142</td>\n",
       "    </tr>\n",
       "  </tbody>\n",
       "</table>\n",
       "</div>"
      ],
      "text/plain": [
       "         anger  disgust  fear  guilt  joy  sadness  shame\n",
       "anger       91       30    22     86   25       25     50\n",
       "disgust     47      144    25     28   21       19     45\n",
       "fear        25       16   184     28   22       25     28\n",
       "guilt       31       16    15    165   16       26     59\n",
       "joy         10        9    13     13  239       26     18\n",
       "sadness     33        8    24     24   39      177     24\n",
       "shame       35       20    23     57   31       21    142"
      ]
     },
     "execution_count": 41,
     "metadata": {},
     "output_type": "execute_result"
    }
   ],
   "source": [
    "from sklearn.metrics import confusion_matrix, precision_recall_fscore_support, accuracy_score\n",
    "\n",
    "cf_matrix = confusion_matrix(test_target, test_pred)\n",
    "\n",
    "df_cm = pd.DataFrame(\n",
    "    cf_matrix, index=labels, columns=labels, \n",
    ")\n",
    "\n",
    "df_cm"
   ]
  },
  {
   "cell_type": "code",
   "execution_count": 42,
   "metadata": {},
   "outputs": [],
   "source": [
    "import seaborn as sns\n",
    "\n",
    "def print_confusion_matrix(confusion_matrix, class_names, figsize = (4,3), fontsize=15):\n",
    "    \"\"\"Prints a confusion matrix, as returned by sklearn.metrics.confusion_matrix, as a heatmap.\n",
    "    \n",
    "    Arguments\n",
    "    ---------\n",
    "    confusion_matrix: numpy.ndarray\n",
    "        The numpy.ndarray object returned from a call to sklearn.metrics.confusion_matrix. \n",
    "        Similarly constructed ndarrays can also be used.\n",
    "    class_names: list\n",
    "        An ordered list of class names, in the order they index the given confusion matrix.\n",
    "    figsize: tuple\n",
    "        A 2-long tuple, the first value determining the horizontal size of the ouputted figure,\n",
    "        the second determining the vertical size. Defaults to (10,7).\n",
    "    fontsize: int\n",
    "        Font size for axes labels. Defaults to 14.\n",
    "        \n",
    "    Returns\n",
    "    -------\n",
    "    matplotlib.figure.Figure\n",
    "        The resulting confusion matrix figure\n",
    "    \"\"\"\n",
    "    df_cm = pd.DataFrame(\n",
    "        confusion_matrix, index=class_names, columns=class_names, \n",
    "    )\n",
    "    fig = plt.figure(figsize=figsize)\n",
    "    try:\n",
    "        heatmap = sns.heatmap(df_cm, annot=True, fmt=\"d\")\n",
    "    except ValueError:\n",
    "        raise ValueError(\"Confusion matrix values must be integers.\")\n",
    "    heatmap.yaxis.set_ticklabels(heatmap.yaxis.get_ticklabels(), rotation=0, ha='right', fontsize=fontsize)\n",
    "    heatmap.xaxis.set_ticklabels(heatmap.xaxis.get_ticklabels(), rotation=45, ha='right', fontsize=fontsize)\n",
    "    plt.ylabel('True label')\n",
    "    plt.xlabel('Predicted label')\n",
    "    return fig"
   ]
  },
  {
   "cell_type": "code",
   "execution_count": 43,
   "metadata": {},
   "outputs": [
    {
     "name": "stdout",
     "output_type": "stream",
     "text": [
      "Figure(288x216)\n"
     ]
    },
    {
     "data": {
      "image/png": "[encoded data removed]",
      "text/plain": [
       "<Figure size 288x216 with 2 Axes>"
      ]
     },
     "metadata": {
      "needs_background": "light"
     },
     "output_type": "display_data"
    }
   ],
   "source": [
    "print(print_confusion_matrix(cf_matrix, class_names=labels))"
   ]
  },
  {
   "cell_type": "code",
   "execution_count": 44,
   "metadata": {},
   "outputs": [
    {
     "name": "stdout",
     "output_type": "stream",
     "text": [
      "test accuracy: 0.4965217391304348\n"
     ]
    }
   ],
   "source": [
    "test_accuracy = accuracy_score(test_target, test_pred)\n",
    "print(\"test accuracy:\", test_accuracy)"
   ]
  },
  {
   "cell_type": "markdown",
   "metadata": {},
   "source": [
    "### Performance score for each classes"
   ]
  },
  {
   "cell_type": "code",
   "execution_count": 45,
   "metadata": {},
   "outputs": [
    {
     "data": {
      "text/html": [
       "<div>\n",
       "<style scoped>\n",
       "    .dataframe tbody tr th:only-of-type {\n",
       "        vertical-align: middle;\n",
       "    }\n",
       "\n",
       "    .dataframe tbody tr th {\n",
       "        vertical-align: top;\n",
       "    }\n",
       "\n",
       "    .dataframe thead th {\n",
       "        text-align: right;\n",
       "    }\n",
       "</style>\n",
       "<table border=\"1\" class=\"dataframe\">\n",
       "  <thead>\n",
       "    <tr style=\"text-align: right;\">\n",
       "      <th></th>\n",
       "      <th>precision</th>\n",
       "      <th>recall</th>\n",
       "      <th>f1-score</th>\n",
       "      <th>support</th>\n",
       "    </tr>\n",
       "  </thead>\n",
       "  <tbody>\n",
       "    <tr>\n",
       "      <th>anger</th>\n",
       "      <td>0.3346</td>\n",
       "      <td>0.2766</td>\n",
       "      <td>0.3028</td>\n",
       "      <td>329</td>\n",
       "    </tr>\n",
       "    <tr>\n",
       "      <th>disgust</th>\n",
       "      <td>0.5926</td>\n",
       "      <td>0.4377</td>\n",
       "      <td>0.5035</td>\n",
       "      <td>329</td>\n",
       "    </tr>\n",
       "    <tr>\n",
       "      <th>fear</th>\n",
       "      <td>0.6013</td>\n",
       "      <td>0.5610</td>\n",
       "      <td>0.5804</td>\n",
       "      <td>328</td>\n",
       "    </tr>\n",
       "    <tr>\n",
       "      <th>guilt</th>\n",
       "      <td>0.4115</td>\n",
       "      <td>0.5030</td>\n",
       "      <td>0.4527</td>\n",
       "      <td>328</td>\n",
       "    </tr>\n",
       "    <tr>\n",
       "      <th>joy</th>\n",
       "      <td>0.6081</td>\n",
       "      <td>0.7287</td>\n",
       "      <td>0.6630</td>\n",
       "      <td>328</td>\n",
       "    </tr>\n",
       "    <tr>\n",
       "      <th>sadness</th>\n",
       "      <td>0.5549</td>\n",
       "      <td>0.5380</td>\n",
       "      <td>0.5463</td>\n",
       "      <td>329</td>\n",
       "    </tr>\n",
       "    <tr>\n",
       "      <th>shame</th>\n",
       "      <td>0.3880</td>\n",
       "      <td>0.4316</td>\n",
       "      <td>0.4086</td>\n",
       "      <td>329</td>\n",
       "    </tr>\n",
       "  </tbody>\n",
       "</table>\n",
       "</div>"
      ],
      "text/plain": [
       "         precision  recall  f1-score  support\n",
       "anger       0.3346  0.2766    0.3028      329\n",
       "disgust     0.5926  0.4377    0.5035      329\n",
       "fear        0.6013  0.5610    0.5804      328\n",
       "guilt       0.4115  0.5030    0.4527      328\n",
       "joy         0.6081  0.7287    0.6630      328\n",
       "sadness     0.5549  0.5380    0.5463      329\n",
       "shame       0.3880  0.4316    0.4086      329"
      ]
     },
     "execution_count": 45,
     "metadata": {},
     "output_type": "execute_result"
    }
   ],
   "source": [
    "precision, recall, fscore, support = precision_recall_fscore_support(test_target, test_pred)\n",
    "score_dict = {\n",
    "  \"precision\": precision.round(4),\n",
    "  \"recall\": recall.round(4),\n",
    "  \"f1-score\": fscore.round(4),\n",
    "  \"support\": support.round(4)\n",
    "}\n",
    "score_df = pd.DataFrame(score_dict, index=labels)\n",
    "score_df"
   ]
  },
  {
   "cell_type": "markdown",
   "metadata": {},
   "source": [
    "### Cohen Kappa Score"
   ]
  },
  {
   "cell_type": "code",
   "execution_count": 46,
   "metadata": {},
   "outputs": [
    {
     "name": "stdout",
     "output_type": "stream",
     "text": [
      "kappa: 0.4126235003528581\n"
     ]
    }
   ],
   "source": [
    "from sklearn.metrics import cohen_kappa_score\n",
    "\n",
    "kappa_score = cohen_kappa_score(test_target, test_pred)\n",
    "print(\"kappa:\", kappa_score)"
   ]
  },
  {
   "cell_type": "code",
   "execution_count": null,
   "metadata": {},
   "outputs": [],
   "source": []
  }
 ],
 "metadata": {
  "kernelspec": {
   "display_name": "Python 3",
   "language": "python",
   "name": "python3"
  },
  "language_info": {
   "codemirror_mode": {
    "name": "ipython",
    "version": 3
   },
   "file_extension": ".py",
   "mimetype": "text/x-python",
   "name": "python",
   "nbconvert_exporter": "python",
   "pygments_lexer": "ipython3",
   "version": "3.6.7"
  }
 },
 "nbformat": 4,
 "nbformat_minor": 2
}
