{
  "nbformat": 4,
  "nbformat_minor": 0,
  "metadata": {
    "colab": {
      "name": "ISEAR Embedding Comparison",
      "version": "0.3.2",
      "provenance": [],
      "collapsed_sections": [],
      "include_colab_link": true
    },
    "kernelspec": {
      "name": "python3",
      "display_name": "Python 3"
    },
    "accelerator": "GPU"
  },
  "cells": [
    {
      "cell_type": "markdown",
      "metadata": {
        "id": "view-in-github",
        "colab_type": "text"
      },
      "source": [
        "<a href=\"https://colab.research.google.com/github/nakamura41/emotion_detection_notebooks/blob/master/ISEAR_Embedding_Comparison.ipynb\" target=\"_parent\"><img src=\"https://colab.research.google.com/assets/colab-badge.svg\" alt=\"Open In Colab\"/></a>"
      ]
    },
    {
      "metadata": {
        "id": "c95s_IW-AeyH",
        "colab_type": "code",
        "outputId": "fefd9066-5682-4ed5-9d71-74427d329433",
        "colab": {
          "base_uri": "https://localhost:8080/",
          "height": 1099
        }
      },
      "cell_type": "code",
      "source": [
        "!pip install gensim\n",
        "!pip install pydrive"
      ],
      "execution_count": 1,
      "outputs": [
        {
          "output_type": "stream",
          "text": [
            "Collecting gensim\n",
            "\u001b[?25l  Downloading https://files.pythonhosted.org/packages/27/a4/d10c0acc8528d838cda5eede0ee9c784caa598dbf40bd0911ff8d067a7eb/gensim-3.6.0-cp36-cp36m-manylinux1_x86_64.whl (23.6MB)\n",
            "\u001b[K    100% |████████████████████████████████| 23.6MB 893kB/s \n",
            "\u001b[?25hCollecting smart-open>=1.2.1 (from gensim)\n",
            "  Downloading https://files.pythonhosted.org/packages/4b/1f/6f27e3682124de63ac97a0a5876da6186de6c19410feab66c1543afab055/smart_open-1.7.1.tar.gz\n",
            "Requirement already satisfied: six>=1.5.0 in /usr/local/lib/python3.6/dist-packages (from gensim) (1.11.0)\n",
            "Requirement already satisfied: scipy>=0.18.1 in /usr/local/lib/python3.6/dist-packages (from gensim) (1.1.0)\n",
            "Requirement already satisfied: numpy>=1.11.3 in /usr/local/lib/python3.6/dist-packages (from gensim) (1.14.6)\n",
            "Collecting boto>=2.32 (from smart-open>=1.2.1->gensim)\n",
            "\u001b[?25l  Downloading https://files.pythonhosted.org/packages/23/10/c0b78c27298029e4454a472a1919bde20cb182dab1662cec7f2ca1dcc523/boto-2.49.0-py2.py3-none-any.whl (1.4MB)\n",
            "\u001b[K    100% |████████████████████████████████| 1.4MB 12.1MB/s \n",
            "\u001b[?25hCollecting bz2file (from smart-open>=1.2.1->gensim)\n",
            "  Downloading https://files.pythonhosted.org/packages/61/39/122222b5e85cd41c391b68a99ee296584b2a2d1d233e7ee32b4532384f2d/bz2file-0.98.tar.gz\n",
            "Requirement already satisfied: requests in /usr/local/lib/python3.6/dist-packages (from smart-open>=1.2.1->gensim) (2.18.4)\n",
            "Collecting boto3 (from smart-open>=1.2.1->gensim)\n",
            "\u001b[?25l  Downloading https://files.pythonhosted.org/packages/da/d9/5c892a943fede7db0c0d3bd653570208ffb3c163bc57c1a9354acd65c921/boto3-1.9.42-py2.py3-none-any.whl (128kB)\n",
            "\u001b[K    100% |████████████████████████████████| 133kB 23.0MB/s \n",
            "\u001b[?25hRequirement already satisfied: chardet<3.1.0,>=3.0.2 in /usr/local/lib/python3.6/dist-packages (from requests->smart-open>=1.2.1->gensim) (3.0.4)\n",
            "Requirement already satisfied: urllib3<1.23,>=1.21.1 in /usr/local/lib/python3.6/dist-packages (from requests->smart-open>=1.2.1->gensim) (1.22)\n",
            "Requirement already satisfied: idna<2.7,>=2.5 in /usr/local/lib/python3.6/dist-packages (from requests->smart-open>=1.2.1->gensim) (2.6)\n",
            "Requirement already satisfied: certifi>=2017.4.17 in /usr/local/lib/python3.6/dist-packages (from requests->smart-open>=1.2.1->gensim) (2018.10.15)\n",
            "Collecting jmespath<1.0.0,>=0.7.1 (from boto3->smart-open>=1.2.1->gensim)\n",
            "  Downloading https://files.pythonhosted.org/packages/b7/31/05c8d001f7f87f0f07289a5fc0fc3832e9a57f2dbd4d3b0fee70e0d51365/jmespath-0.9.3-py2.py3-none-any.whl\n",
            "Collecting botocore<1.13.0,>=1.12.42 (from boto3->smart-open>=1.2.1->gensim)\n",
            "\u001b[?25l  Downloading https://files.pythonhosted.org/packages/6f/ad/706263fda4a8c673fd58c1cf03160dfdcf093d6614130193d3ce12a81fad/botocore-1.12.42-py2.py3-none-any.whl (4.8MB)\n",
            "\u001b[K    100% |████████████████████████████████| 4.8MB 6.9MB/s \n",
            "\u001b[?25hCollecting s3transfer<0.2.0,>=0.1.10 (from boto3->smart-open>=1.2.1->gensim)\n",
            "\u001b[?25l  Downloading https://files.pythonhosted.org/packages/d7/14/2a0004d487464d120c9fb85313a75cd3d71a7506955be458eebfe19a6b1d/s3transfer-0.1.13-py2.py3-none-any.whl (59kB)\n",
            "\u001b[K    100% |████████████████████████████████| 61kB 22.6MB/s \n",
            "\u001b[?25hRequirement already satisfied: python-dateutil<3.0.0,>=2.1; python_version >= \"2.7\" in /usr/local/lib/python3.6/dist-packages (from botocore<1.13.0,>=1.12.42->boto3->smart-open>=1.2.1->gensim) (2.5.3)\n",
            "Collecting docutils>=0.10 (from botocore<1.13.0,>=1.12.42->boto3->smart-open>=1.2.1->gensim)\n",
            "\u001b[?25l  Downloading https://files.pythonhosted.org/packages/36/fa/08e9e6e0e3cbd1d362c3bbee8d01d0aedb2155c4ac112b19ef3cae8eed8d/docutils-0.14-py3-none-any.whl (543kB)\n",
            "\u001b[K    100% |████████████████████████████████| 552kB 22.3MB/s \n",
            "\u001b[?25hBuilding wheels for collected packages: smart-open, bz2file\n",
            "  Running setup.py bdist_wheel for smart-open ... \u001b[?25l-\b \bdone\n",
            "\u001b[?25h  Stored in directory: /root/.cache/pip/wheels/23/00/44/e5b939f7a80c04e32297dbd6d96fa3065af89ecf57e2b5f89f\n",
            "  Running setup.py bdist_wheel for bz2file ... \u001b[?25l-\b \bdone\n",
            "\u001b[?25h  Stored in directory: /root/.cache/pip/wheels/81/75/d6/e1317bf09bf1af5a30befc2a007869fa6e1f516b8f7c591cb9\n",
            "Successfully built smart-open bz2file\n",
            "Installing collected packages: boto, bz2file, jmespath, docutils, botocore, s3transfer, boto3, smart-open, gensim\n",
            "Successfully installed boto-2.49.0 boto3-1.9.42 botocore-1.12.42 bz2file-0.98 docutils-0.14 gensim-3.6.0 jmespath-0.9.3 s3transfer-0.1.13 smart-open-1.7.1\n",
            "Collecting pydrive\n",
            "\u001b[?25l  Downloading https://files.pythonhosted.org/packages/52/e0/0e64788e5dd58ce2d6934549676243dc69d982f198524be9b99e9c2a4fd5/PyDrive-1.3.1.tar.gz (987kB)\n",
            "\u001b[K    100% |████████████████████████████████| 993kB 20.1MB/s \n",
            "\u001b[?25hRequirement already satisfied: google-api-python-client>=1.2 in /usr/local/lib/python3.6/dist-packages (from pydrive) (1.6.7)\n",
            "Requirement already satisfied: oauth2client>=4.0.0 in /usr/local/lib/python3.6/dist-packages (from pydrive) (4.1.3)\n",
            "Requirement already satisfied: PyYAML>=3.0 in /usr/local/lib/python3.6/dist-packages (from pydrive) (3.13)\n",
            "Requirement already satisfied: six<2dev,>=1.6.1 in /usr/local/lib/python3.6/dist-packages (from google-api-python-client>=1.2->pydrive) (1.11.0)\n",
            "Requirement already satisfied: uritemplate<4dev,>=3.0.0 in /usr/local/lib/python3.6/dist-packages (from google-api-python-client>=1.2->pydrive) (3.0.0)\n",
            "Requirement already satisfied: httplib2<1dev,>=0.9.2 in /usr/local/lib/python3.6/dist-packages (from google-api-python-client>=1.2->pydrive) (0.11.3)\n",
            "Requirement already satisfied: pyasn1-modules>=0.0.5 in /usr/local/lib/python3.6/dist-packages (from oauth2client>=4.0.0->pydrive) (0.2.2)\n",
            "Requirement already satisfied: rsa>=3.1.4 in /usr/local/lib/python3.6/dist-packages (from oauth2client>=4.0.0->pydrive) (4.0)\n",
            "Requirement already satisfied: pyasn1>=0.1.7 in /usr/local/lib/python3.6/dist-packages (from oauth2client>=4.0.0->pydrive) (0.4.4)\n",
            "Building wheels for collected packages: pydrive\n",
            "  Running setup.py bdist_wheel for pydrive ... \u001b[?25l-\b \bdone\n",
            "\u001b[?25h  Stored in directory: /root/.cache/pip/wheels/fa/d2/9a/d3b6b506c2da98289e5d417215ce34b696db856643bad779f4\n",
            "Successfully built pydrive\n",
            "Installing collected packages: pydrive\n",
            "Successfully installed pydrive-1.3.1\n"
          ],
          "name": "stdout"
        }
      ]
    },
    {
      "metadata": {
        "colab_type": "code",
        "id": "OdaHCMv2rGKs",
        "outputId": "7f79eb98-3f4c-416d-85a5-ceb03b75d53b",
        "colab": {
          "base_uri": "https://localhost:8080/",
          "height": 53
        }
      },
      "cell_type": "code",
      "source": [
        "import os\n",
        "import tensorflow as tf\n",
        "import tensorflow_hub as hub\n",
        "from tensorflow import keras\n",
        "import numpy as np\n",
        "import urllib.request\n",
        "import pandas as pd\n",
        "from gensim.test.utils import common_texts, get_tmpfile\n",
        "from gensim.utils import simple_preprocess\n",
        "from gensim.models import Word2Vec\n",
        "from tempfile import gettempdir\n",
        "import zipfile\n",
        "from keras.preprocessing.text import Tokenizer\n",
        "from keras.preprocessing.sequence import pad_sequences\n",
        "from keras.utils import to_categorical\n",
        "from sklearn.model_selection import train_test_split\n",
        "from sklearn.metrics import confusion_matrix, classification_report, accuracy_score, brier_score_loss\n",
        "import matplotlib.pyplot as plt\n",
        "import seaborn as sns\n",
        "\n",
        "print(tf.__version__)"
      ],
      "execution_count": 2,
      "outputs": [
        {
          "output_type": "stream",
          "text": [
            "1.12.0\n"
          ],
          "name": "stdout"
        },
        {
          "output_type": "stream",
          "text": [
            "Using TensorFlow backend.\n"
          ],
          "name": "stderr"
        }
      ]
    },
    {
      "metadata": {
        "id": "qKMmZVQloI6e",
        "colab_type": "code",
        "colab": {}
      },
      "cell_type": "code",
      "source": [
        "from pydrive.auth import GoogleAuth\n",
        "from pydrive.drive import GoogleDrive\n",
        "from google.colab import auth\n",
        "from oauth2client.client import GoogleCredentials\n",
        "\n",
        "\n",
        "# 1. Authenticate and create the PyDrive client.\n",
        "auth.authenticate_user()\n",
        "gauth = GoogleAuth()\n",
        "gauth.credentials = GoogleCredentials.get_application_default()\n",
        "drive = GoogleDrive(gauth)"
      ],
      "execution_count": 0,
      "outputs": []
    },
    {
      "metadata": {
        "id": "GiXlSKbGoNcZ",
        "colab_type": "code",
        "colab": {}
      },
      "cell_type": "code",
      "source": [
        "# download google drive file\n",
        "def download_drive_file(drive_directory, filename):\n",
        "  list_file_query = \"title='{}' and trashed=false\".format(drive_directory)\n",
        "  file_list = drive.ListFile({'q': list_file_query}).GetList()\n",
        "\n",
        "  if len(file_list) > 0:\n",
        "    directory_id = file_list[0]['id']\n",
        "\n",
        "    list_file_query = \"'{}' in parents\".format(directory_id)\n",
        "\n",
        "    file_list = drive.ListFile({'q': list_file_query}).GetList()\n",
        "    \n",
        "    file_id = None\n",
        "    for file1 in file_list:\n",
        "      if file1['title'] == filename:\n",
        "        print(\"downloading file {}\".format(file1['title']))\n",
        "        file1.GetContentFile(file1['title'])"
      ],
      "execution_count": 0,
      "outputs": []
    },
    {
      "metadata": {
        "id": "wWC0XDwDASUM",
        "colab_type": "code",
        "colab": {}
      },
      "cell_type": "code",
      "source": [
        "module_url = \"https://tfhub.dev/google/universal-sentence-encoder-large/3\" #@param [\"https://tfhub.dev/google/universal-sentence-encoder/2\", \"https://tfhub.dev/google/universal-sentence-encoder-large/3\"]"
      ],
      "execution_count": 0,
      "outputs": []
    },
    {
      "metadata": {
        "id": "IElRtsQwASUP",
        "colab_type": "code",
        "outputId": "d008f4ee-cbe8-4c0f-bac7-69c653bf9abe",
        "colab": {
          "base_uri": "https://localhost:8080/",
          "height": 35
        }
      },
      "cell_type": "code",
      "source": [
        "# Import the Universal Sentence Encoder's TF Hub module\n",
        "tf_use_embed = hub.Module(module_url)"
      ],
      "execution_count": 0,
      "outputs": [
        {
          "output_type": "stream",
          "text": [
            "INFO:tensorflow:Using /tmp/tfhub_modules to cache modules.\n"
          ],
          "name": "stdout"
        }
      ]
    },
    {
      "metadata": {
        "id": "0RhkgBlRASUR",
        "colab_type": "code",
        "outputId": "22d4b59d-610c-4e48-b419-7d2f4463ea66",
        "colab": {
          "base_uri": "https://localhost:8080/",
          "height": 161
        }
      },
      "cell_type": "code",
      "source": [
        "sentences = [\"I love you so much\", \"I hate that movie, there are no plotline or even interesting scenes\"]\n",
        "# Reduce logging output.\n",
        "tf.logging.set_verbosity(tf.logging.ERROR)\n",
        "\n",
        "with tf.Session() as session:\n",
        "    session.run([tf.global_variables_initializer(), tf.tables_initializer()])\n",
        "    embedded_sentences = session.run(tf_use_embed(sentences))\n",
        "    for i, embedded_sentence in enumerate(np.array(embedded_sentences).tolist()):\n",
        "        print(\"Sentence: {}\".format(sentences[i]))\n",
        "        print(\"Embedding size: {}\".format(len(embedded_sentence)))\n",
        "        message_embedding_snippet = \", \".join(\n",
        "            (str(x) for x in embedded_sentence[:3]))\n",
        "        print(\"Embedding: [{}, ...]\\n\".format(message_embedding_snippet))"
      ],
      "execution_count": 0,
      "outputs": [
        {
          "output_type": "stream",
          "text": [
            "Sentence: I love you so much\n",
            "Embedding size: 512\n",
            "Embedding: [-0.03638805076479912, -0.07312509417533875, 0.007526352070271969, ...]\n",
            "\n",
            "Sentence: I hate that movie, there are no plotline or even interesting scenes\n",
            "Embedding size: 512\n",
            "Embedding: [0.016185155138373375, 0.059069763869047165, -0.0056126900017261505, ...]\n",
            "\n"
          ],
          "name": "stdout"
        }
      ]
    },
    {
      "metadata": {
        "id": "EzmR-eCcASUU",
        "colab_type": "code",
        "colab": {}
      },
      "cell_type": "code",
      "source": [
        "def embed_use(sentences):\n",
        "    with tf.Session() as session:\n",
        "        session.run([tf.global_variables_initializer(), tf.tables_initializer()])\n",
        "        embedded_sentences = session.run(tf_use_embed(sentences))\n",
        "        return embedded_sentences"
      ],
      "execution_count": 0,
      "outputs": []
    },
    {
      "metadata": {
        "colab_type": "code",
        "id": "oBynQmEcrNAy",
        "colab": {}
      },
      "cell_type": "code",
      "source": [
        "class ISEARDataset(object):\n",
        "  FILENAME = \"isear_databank.csv\"\n",
        "  EMOTION_CLASSES = [\"anger\", \"disgust\", \"fear\", \"guilt\", \"joy\", \"sadness\", \"shame\"]\n",
        "  EMOTION_CLASSES_DICT = {\"anger\": 0, \"disgust\": 1, \"fear\": 2, \"guilt\": 3, \"joy\": 4, \"sadness\": 5, \"shame\": 6}\n",
        "  RANDOM_STATE = 41\n",
        "  \n",
        "  def get_classes(self):\n",
        "    return self.EMOTION_CLASSES\n",
        "  \n",
        "  def get_classes_dict(self):\n",
        "    return self.EMOTION_CLASSES_DICT\n",
        "  \n",
        "  def __load_data_file(self):\n",
        "    download_drive_file(\"Datasets\", self.FILENAME)\n",
        "    data = pd.read_csv(self.FILENAME)\n",
        "    data[\"emotion\"] = data[\"Field1\"]\n",
        "    data[\"text\"] = data[\"SIT\"]\n",
        "    return data[[\"text\", \"emotion\"]]\n",
        "\n",
        "  def load_data(self):\n",
        "    train_data = None\n",
        "    test_data = None\n",
        "    \n",
        "    data = self.__load_data_file()\n",
        "    \n",
        "    train_data, test_data = train_test_split(data, test_size=0.3, random_state=self.RANDOM_STATE, stratify=data[\"emotion\"].values)\n",
        "    return train_data, test_data"
      ],
      "execution_count": 0,
      "outputs": []
    },
    {
      "metadata": {
        "id": "1n7zVExV0jJe",
        "colab_type": "code",
        "colab": {}
      },
      "cell_type": "code",
      "source": [
        "def print_confusion_matrix(confusion_matrix, class_names, figsize = (4,3), fontsize=15):\n",
        "    \"\"\"Prints a confusion matrix, as returned by sklearn.metrics.confusion_matrix, as a heatmap.\n",
        "    \n",
        "    Arguments\n",
        "    ---------\n",
        "    confusion_matrix: numpy.ndarray\n",
        "        The numpy.ndarray object returned from a call to sklearn.metrics.confusion_matrix. \n",
        "        Similarly constructed ndarrays can also be used.\n",
        "    class_names: list\n",
        "        An ordered list of class names, in the order they index the given confusion matrix.\n",
        "    figsize: tuple\n",
        "        A 2-long tuple, the first value determining the horizontal size of the ouputted figure,\n",
        "        the second determining the vertical size. Defaults to (10,7).\n",
        "    fontsize: int\n",
        "        Font size for axes labels. Defaults to 14.\n",
        "        \n",
        "    Returns\n",
        "    -------\n",
        "    matplotlib.figure.Figure\n",
        "        The resulting confusion matrix figure\n",
        "    \"\"\"\n",
        "    df_cm = pd.DataFrame(\n",
        "        confusion_matrix, index=class_names, columns=class_names, \n",
        "    )\n",
        "    fig = plt.figure(figsize=figsize)\n",
        "    try:\n",
        "        heatmap = sns.heatmap(df_cm, annot=True, fmt=\"d\")\n",
        "    except ValueError:\n",
        "        raise ValueError(\"Confusion matrix values must be integers.\")\n",
        "    heatmap.yaxis.set_ticklabels(heatmap.yaxis.get_ticklabels(), rotation=0, ha='right', fontsize=fontsize)\n",
        "    heatmap.xaxis.set_ticklabels(heatmap.xaxis.get_ticklabels(), rotation=45, ha='right', fontsize=fontsize)\n",
        "    plt.ylabel('True label')\n",
        "    plt.xlabel('Predicted label')\n",
        "    return fig"
      ],
      "execution_count": 0,
      "outputs": []
    },
    {
      "metadata": {
        "colab_type": "code",
        "id": "tevwfq4Tu6fe",
        "outputId": "88aeb151-9727-40db-f6ee-143764a8069b",
        "colab": {
          "base_uri": "https://localhost:8080/",
          "height": 89
        }
      },
      "cell_type": "code",
      "source": [
        "isear_dataset = ISEARDataset()\n",
        "train_data, test_data = isear_dataset.load_data()\n",
        "train_data, valid_data = train_test_split(train_data, test_size=0.1, random_state=200, stratify=train_data.emotion)\n",
        "\n",
        "print(train_data.shape)\n",
        "print(valid_data.shape)\n",
        "print(test_data.shape)"
      ],
      "execution_count": 6,
      "outputs": [
        {
          "output_type": "stream",
          "text": [
            "downloading file isear_databank.csv\n",
            "(4829, 2)\n",
            "(537, 2)\n",
            "(2300, 2)\n"
          ],
          "name": "stdout"
        }
      ]
    },
    {
      "metadata": {
        "colab_type": "code",
        "id": "J-xXkD_4175U",
        "outputId": "cf315ad3-2a69-4849-e5d7-c79115ad9db9",
        "colab": {
          "base_uri": "https://localhost:8080/",
          "height": 53
        }
      },
      "cell_type": "code",
      "source": [
        "emotions = train_data.emotion.unique()\n",
        "dic = dict()\n",
        "labels = []\n",
        "for i, emotion in enumerate(emotions):\n",
        "    dic[emotion]=i\n",
        "    labels.append(emotion)\n",
        "print(dic)\n",
        "print(labels)"
      ],
      "execution_count": 7,
      "outputs": [
        {
          "output_type": "stream",
          "text": [
            "{'guilt': 0, 'sadness': 1, 'fear': 2, 'anger': 3, 'joy': 4, 'disgust': 5, 'shame': 6}\n",
            "['guilt', 'sadness', 'fear', 'anger', 'joy', 'disgust', 'shame']\n"
          ],
          "name": "stdout"
        }
      ]
    },
    {
      "metadata": {
        "id": "MtZaeo2JASUh",
        "colab_type": "code",
        "colab": {}
      },
      "cell_type": "code",
      "source": [
        "train_labels = np.array(train_data.emotion.apply(lambda x:dic[x]))\n",
        "test_labels = np.array(test_data.emotion.apply(lambda x:dic[x]))"
      ],
      "execution_count": 0,
      "outputs": []
    },
    {
      "metadata": {
        "id": "0wXUaCQeASUe",
        "colab_type": "text"
      },
      "cell_type": "markdown",
      "source": [
        "# Embed with Universal Sentence Encoder"
      ]
    },
    {
      "metadata": {
        "id": "AvcnW45qASUg",
        "colab_type": "code",
        "colab": {}
      },
      "cell_type": "code",
      "source": [
        "train_embedded_use = embed_use(train_data.text.tolist())\n",
        "test_embedded_use = embed_use(test_data.text.tolist())"
      ],
      "execution_count": 0,
      "outputs": []
    },
    {
      "metadata": {
        "id": "-mgHsSbYASUk",
        "colab_type": "text"
      },
      "cell_type": "markdown",
      "source": [
        "# Universal Sentence Encoder + SVM Classifier"
      ]
    },
    {
      "metadata": {
        "id": "2l8cnyxSASUk",
        "colab_type": "code",
        "outputId": "d581d4b6-6d56-4fed-c7c8-cc7dd3697e74",
        "colab": {
          "base_uri": "https://localhost:8080/",
          "height": 89
        }
      },
      "cell_type": "code",
      "source": [
        "from sklearn import svm\n",
        "clfSVM = svm.SVC(C=10000.0, gamma='auto', kernel='rbf')\n",
        "clfSVM.fit(train_embedded_use, train_labels)"
      ],
      "execution_count": 0,
      "outputs": [
        {
          "output_type": "execute_result",
          "data": {
            "text/plain": [
              "SVC(C=10000.0, cache_size=200, class_weight=None, coef0=0.0,\n",
              "  decision_function_shape='ovr', degree=3, gamma='auto', kernel='rbf',\n",
              "  max_iter=-1, probability=False, random_state=None, shrinking=True,\n",
              "  tol=0.001, verbose=False)"
            ]
          },
          "metadata": {
            "tags": []
          },
          "execution_count": 13
        }
      ]
    },
    {
      "metadata": {
        "id": "GKvNJ0g9ASUn",
        "colab_type": "code",
        "colab": {}
      },
      "cell_type": "code",
      "source": [
        "test_pred_labels = clfSVM.predict(test_embedded_use)"
      ],
      "execution_count": 0,
      "outputs": []
    },
    {
      "metadata": {
        "id": "UJw3zrZDASUp",
        "colab_type": "code",
        "colab": {}
      },
      "cell_type": "code",
      "source": [
        "cmSVM = confusion_matrix(test_labels, test_pred_labels)\n",
        "cmSVM"
      ],
      "execution_count": 0,
      "outputs": []
    },
    {
      "metadata": {
        "id": "Tt3rbFReASUr",
        "colab_type": "code",
        "colab": {}
      },
      "cell_type": "code",
      "source": [
        "reportSVM = classification_report(test_labels, test_pred_labels, target_names=labels)\n",
        "print(reportSVM)"
      ],
      "execution_count": 0,
      "outputs": []
    },
    {
      "metadata": {
        "id": "suU_Yw-fASUw",
        "colab_type": "text"
      },
      "cell_type": "markdown",
      "source": [
        "# TfIdfVectorizer + SVM Classifier"
      ]
    },
    {
      "metadata": {
        "id": "crQ4mZBsASUx",
        "colab_type": "code",
        "colab": {}
      },
      "cell_type": "code",
      "source": [
        "from sklearn.feature_extraction.text import TfidfVectorizer\n",
        "\n",
        "tfidf_vectorizer = TfidfVectorizer(max_df=70, min_df=2, ngram_range=(1, 3))\n",
        "train_tfidf_vectors = tfidf_vectorizer.fit_transform(train_data.text.tolist())\n",
        "test_tfidf_vectors = tfidf_vectorizer.transform(test_data.text.tolist())"
      ],
      "execution_count": 0,
      "outputs": []
    },
    {
      "metadata": {
        "id": "efLiuFqgASUz",
        "colab_type": "code",
        "outputId": "a010858d-cbbf-477f-f01a-2797a9df2382",
        "colab": {
          "base_uri": "https://localhost:8080/",
          "height": 89
        }
      },
      "cell_type": "code",
      "source": [
        "from sklearn import svm\n",
        "clf_SVM_Tfidf = svm.SVC(C=10000.0, gamma='auto', kernel='rbf')\n",
        "clf_SVM_Tfidf.fit(train_tfidf_vectors, train_labels)"
      ],
      "execution_count": 11,
      "outputs": [
        {
          "output_type": "execute_result",
          "data": {
            "text/plain": [
              "SVC(C=10000.0, cache_size=200, class_weight=None, coef0=0.0,\n",
              "  decision_function_shape='ovr', degree=3, gamma='auto', kernel='rbf',\n",
              "  max_iter=-1, probability=False, random_state=None, shrinking=True,\n",
              "  tol=0.001, verbose=False)"
            ]
          },
          "metadata": {
            "tags": []
          },
          "execution_count": 11
        }
      ]
    },
    {
      "metadata": {
        "id": "MoS_XCtUASU3",
        "colab_type": "code",
        "colab": {}
      },
      "cell_type": "code",
      "source": [
        "test_pred_labels_Tfidf = clf_SVM_Tfidf.predict(test_tfidf_vectors)"
      ],
      "execution_count": 0,
      "outputs": []
    },
    {
      "metadata": {
        "id": "eBQ0W7MrASU5",
        "colab_type": "code",
        "outputId": "3a16f32a-7817-4d22-b198-b707e7ca24e7",
        "colab": {
          "base_uri": "https://localhost:8080/",
          "height": 143
        }
      },
      "cell_type": "code",
      "source": [
        "cmSVM_Tfidf = confusion_matrix(test_labels, test_pred_labels_Tfidf)\n",
        "cmSVM_Tfidf"
      ],
      "execution_count": 13,
      "outputs": [
        {
          "output_type": "execute_result",
          "data": {
            "text/plain": [
              "array([[144,  27,  14,  62,  12,  18,  51],\n",
              "       [ 24, 171,  15,  43,  30,  20,  26],\n",
              "       [ 23,  20, 207,  21,  18,  19,  20],\n",
              "       [ 50,  23,   9, 159,  15,  38,  35],\n",
              "       [ 17,  17,  14,  18, 233,  14,  15],\n",
              "       [ 16,  19,  18,  53,   7, 181,  35],\n",
              "       [ 64,  15,  21,  39,  18,  26, 146]])"
            ]
          },
          "metadata": {
            "tags": []
          },
          "execution_count": 13
        }
      ]
    },
    {
      "metadata": {
        "id": "AGQETcYH0tGS",
        "colab_type": "code",
        "colab": {
          "base_uri": "https://localhost:8080/",
          "height": 282
        },
        "outputId": "f462a831-38e3-4519-8bff-87430f3809a7"
      },
      "cell_type": "code",
      "source": [
        "print(print_confusion_matrix(cmSVM_Tfidf, class_names=labels))"
      ],
      "execution_count": 45,
      "outputs": [
        {
          "output_type": "stream",
          "text": [
            "Figure(288x216)\n"
          ],
          "name": "stdout"
        },
        {
          "output_type": "display_data",
          "data": {
            "image/png": "[encoded data removed]",
            "text/plain": [
              "<matplotlib.figure.Figure at 0x7f2e52a31b70>"
            ]
          },
          "metadata": {
            "tags": []
          }
        }
      ]
    },
    {
      "metadata": {
        "id": "N5YwSO_ZASU7",
        "colab_type": "code",
        "outputId": "b4126ef8-a7b3-4712-cfb6-91c5b8a7de0b",
        "colab": {
          "base_uri": "https://localhost:8080/",
          "height": 233
        }
      },
      "cell_type": "code",
      "source": [
        "reportSVM = classification_report(test_labels, test_pred_labels_Tfidf, target_names=labels)\n",
        "print(reportSVM)"
      ],
      "execution_count": 14,
      "outputs": [
        {
          "output_type": "stream",
          "text": [
            "             precision    recall  f1-score   support\n",
            "\n",
            "      guilt       0.43      0.44      0.43       328\n",
            "    sadness       0.59      0.52      0.55       329\n",
            "       fear       0.69      0.63      0.66       328\n",
            "      anger       0.40      0.48      0.44       329\n",
            "        joy       0.70      0.71      0.70       328\n",
            "    disgust       0.57      0.55      0.56       329\n",
            "      shame       0.45      0.44      0.44       329\n",
            "\n",
            "avg / total       0.55      0.54      0.54      2300\n",
            "\n"
          ],
          "name": "stdout"
        }
      ]
    },
    {
      "metadata": {
        "id": "xY_as_tfASU-",
        "colab_type": "text"
      },
      "cell_type": "markdown",
      "source": [
        "# CountVectorizer + SVM Classifier"
      ]
    },
    {
      "metadata": {
        "id": "k0LFEc-xASU-",
        "colab_type": "code",
        "outputId": "07ab30ff-ea29-4bc3-8686-025f49962706",
        "colab": {
          "base_uri": "https://localhost:8080/",
          "height": 89
        }
      },
      "cell_type": "code",
      "source": [
        "from sklearn.feature_extraction.text import CountVectorizer\n",
        "from sklearn.naive_bayes import MultinomialNB\n",
        "\n",
        "# Initialize a CountVectorizer object: count_vectorizer\n",
        "count_vectorizer = CountVectorizer(stop_words=\"english\", analyzer='word', \n",
        "                                   ngram_range=(1, 3), max_df=70, min_df=2, max_features=None)\n",
        "\n",
        "train_count_vectors = count_vectorizer.fit_transform(train_data.text.tolist())\n",
        "test_count_vectors = count_vectorizer.transform(test_data.text.tolist())\n",
        "\n",
        "clf_NB_count = MultinomialNB(alpha=0.1)\n",
        "clf_SVM_count = svm.SVC(C=10000.0, gamma='auto', kernel='rbf')\n",
        "clf_NB_count.fit(train_count_vectors, train_labels)\n",
        "clf_SVM_count.fit(train_count_vectors, train_labels)"
      ],
      "execution_count": 15,
      "outputs": [
        {
          "output_type": "execute_result",
          "data": {
            "text/plain": [
              "SVC(C=10000.0, cache_size=200, class_weight=None, coef0=0.0,\n",
              "  decision_function_shape='ovr', degree=3, gamma='auto', kernel='rbf',\n",
              "  max_iter=-1, probability=False, random_state=None, shrinking=True,\n",
              "  tol=0.001, verbose=False)"
            ]
          },
          "metadata": {
            "tags": []
          },
          "execution_count": 15
        }
      ]
    },
    {
      "metadata": {
        "id": "8RGYwlr2ASVB",
        "colab_type": "code",
        "outputId": "8579835d-8af4-490f-9dd8-7ee25c9f06da",
        "colab": {
          "base_uri": "https://localhost:8080/",
          "height": 143
        }
      },
      "cell_type": "code",
      "source": [
        "# get the feature names as numpy array\n",
        "feature_names = np.array(count_vectorizer.get_feature_names())\n",
        "\n",
        "# Sort the coefficients from the model\n",
        "sorted_coef_index = clf_NB_count.coef_[0].argsort()\n",
        "\n",
        "# Find the 10 smallest and 10 largest coefficients\n",
        "# The 10 largest coefficients are being indexed using [:-11:-1] \n",
        "# so the list returned is in order of largest to smallest\n",
        "print('Smallest Coefs:\\n{}\\n'.format(feature_names[sorted_coef_index[:10]]))\n",
        "print('Largest Coefs: \\n{}'.format(feature_names[sorted_coef_index[:-11:-1]]))"
      ],
      "execution_count": 16,
      "outputs": [
        {
          "output_type": "stream",
          "text": [
            "Smallest Coefs:\n",
            "['junior' 'moment life' 'moment didn' 'mom' 'molested' 'molest'\n",
            " 'misunderstand' 'moments' 'mistreated' 'missed train university']\n",
            "\n",
            "Largest Coefs: \n",
            "['guilt' 'caught' 'hurt' 'promised' 'help' 'feel guilty' 'realized'\n",
            " 'reason' 'forgot' 'able']\n"
          ],
          "name": "stdout"
        }
      ]
    },
    {
      "metadata": {
        "id": "0twrTRK3ASVE",
        "colab_type": "code",
        "outputId": "adee51c8-1ad6-4f28-fd69-7e72d3200574",
        "colab": {
          "base_uri": "https://localhost:8080/",
          "height": 143
        }
      },
      "cell_type": "code",
      "source": [
        "test_pred_labels_count = clf_SVM_count.predict(test_count_vectors)\n",
        "\n",
        "cmSVM_count = confusion_matrix(test_labels, test_pred_labels_count)\n",
        "cmSVM_count"
      ],
      "execution_count": 17,
      "outputs": [
        {
          "output_type": "execute_result",
          "data": {
            "text/plain": [
              "array([[ 94,  46,  32,  57,  20,  30,  49],\n",
              "       [ 32, 153,  31,  34,  45,  12,  22],\n",
              "       [ 28,  43, 162,  26,  20,  25,  24],\n",
              "       [ 53,  47,  26, 103,  28,  34,  38],\n",
              "       [ 27,  37,  31,  14, 186,  18,  15],\n",
              "       [ 30,  35,  33,  50,  27, 121,  33],\n",
              "       [ 62,  41,  28,  36,  28,  29, 105]])"
            ]
          },
          "metadata": {
            "tags": []
          },
          "execution_count": 17
        }
      ]
    },
    {
      "metadata": {
        "id": "io4n_NuH04Sv",
        "colab_type": "code",
        "colab": {
          "base_uri": "https://localhost:8080/",
          "height": 282
        },
        "outputId": "bccf9456-55fe-4ace-f344-2642863c5d2b"
      },
      "cell_type": "code",
      "source": [
        "print(print_confusion_matrix(cmSVM_count, class_names=labels))"
      ],
      "execution_count": 46,
      "outputs": [
        {
          "output_type": "stream",
          "text": [
            "Figure(288x216)\n"
          ],
          "name": "stdout"
        },
        {
          "output_type": "display_data",
          "data": {
            "image/png": "[encoded data removed]",
            "text/plain": [
              "<matplotlib.figure.Figure at 0x7f2e52a66898>"
            ]
          },
          "metadata": {
            "tags": []
          }
        }
      ]
    },
    {
      "metadata": {
        "id": "kjEy36O_ASVL",
        "colab_type": "code",
        "outputId": "094394f7-afa8-4a5b-d528-706ab574dc01",
        "colab": {
          "base_uri": "https://localhost:8080/",
          "height": 233
        }
      },
      "cell_type": "code",
      "source": [
        "reportSVM = classification_report(test_labels, test_pred_labels_count, target_names=labels)\n",
        "print(reportSVM)"
      ],
      "execution_count": 18,
      "outputs": [
        {
          "output_type": "stream",
          "text": [
            "             precision    recall  f1-score   support\n",
            "\n",
            "      guilt       0.29      0.29      0.29       328\n",
            "    sadness       0.38      0.47      0.42       329\n",
            "       fear       0.47      0.49      0.48       328\n",
            "      anger       0.32      0.31      0.32       329\n",
            "        joy       0.53      0.57      0.55       328\n",
            "    disgust       0.45      0.37      0.40       329\n",
            "      shame       0.37      0.32      0.34       329\n",
            "\n",
            "avg / total       0.40      0.40      0.40      2300\n",
            "\n"
          ],
          "name": "stdout"
        }
      ]
    },
    {
      "metadata": {
        "id": "cunC17ZVASVN",
        "colab_type": "text"
      },
      "cell_type": "markdown",
      "source": [
        "# CV 5 fold with CountVectorizer + TfIdfTransformer + SVM Classifier "
      ]
    },
    {
      "metadata": {
        "id": "PkQTjwcMASVN",
        "colab_type": "code",
        "outputId": "bc864942-c5ab-4f05-e6ff-e546c6d2d2a5",
        "colab": {
          "base_uri": "https://localhost:8080/",
          "height": 325
        }
      },
      "cell_type": "code",
      "source": [
        "from sklearn.model_selection import GridSearchCV\n",
        "from sklearn.pipeline import Pipeline\n",
        "from sklearn.feature_extraction.text import TfidfTransformer\n",
        "\n",
        "# Define a pipeline combining a text feature extractor with a simple\n",
        "# classifier\n",
        "pipeline = Pipeline([\n",
        "    ('vect', CountVectorizer()),\n",
        "    ('tfidf', TfidfTransformer()),\n",
        "    ('clf', svm.SVC()),\n",
        "])\n",
        "\n",
        "# uncommenting more parameters will give better exploring power but will\n",
        "# increase processing time in a combinatorial way\n",
        "parameters = {\n",
        "    'vect__max_df': (0.5, 0.75, 1.0),\n",
        "    # 'vect__max_features': (None, 5000, 10000, 50000),\n",
        "    'vect__ngram_range': ((1, 1), (1, 2), (1, 3)),  # unigrams or bigrams\n",
        "    'tfidf__use_idf': (True, False),\n",
        "    # 'tfidf__norm': ('l1', 'l2'),\n",
        "    'clf__C': (10000.0,),\n",
        "    'clf__gamma': ('auto',),\n",
        "    'clf__kernel': ('rbf',),\n",
        "}\n",
        "\n",
        "grid_search = GridSearchCV(pipeline, parameters, cv=5, n_jobs=-1, verbose=1)\n",
        "\n",
        "grid_search.fit(train_data.text.tolist(), train_labels)"
      ],
      "execution_count": 20,
      "outputs": [
        {
          "output_type": "stream",
          "text": [
            "Fitting 5 folds for each of 18 candidates, totalling 90 fits\n"
          ],
          "name": "stdout"
        },
        {
          "output_type": "stream",
          "text": [
            "[Parallel(n_jobs=-1)]: Done  46 tasks      | elapsed:  6.6min\n",
            "[Parallel(n_jobs=-1)]: Done  90 out of  90 | elapsed: 12.5min finished\n"
          ],
          "name": "stderr"
        },
        {
          "output_type": "execute_result",
          "data": {
            "text/plain": [
              "GridSearchCV(cv=5, error_score='raise',\n",
              "       estimator=Pipeline(memory=None,\n",
              "     steps=[('vect', CountVectorizer(analyzer='word', binary=False, decode_error='strict',\n",
              "        dtype=<class 'numpy.int64'>, encoding='utf-8', input='content',\n",
              "        lowercase=True, max_df=1.0, max_features=None, min_df=1,\n",
              "        ngram_range=(1, 1), preprocessor=None, stop_words=None,\n",
              "        strip...,\n",
              "  max_iter=-1, probability=False, random_state=None, shrinking=True,\n",
              "  tol=0.001, verbose=False))]),\n",
              "       fit_params=None, iid=True, n_jobs=-1,\n",
              "       param_grid={'vect__max_df': (0.5, 0.75, 1.0), 'vect__ngram_range': ((1, 1), (1, 2), (1, 3)), 'tfidf__use_idf': (True, False), 'clf__C': (10000.0,), 'clf__gamma': ('auto',), 'clf__kernel': ('rbf',)},\n",
              "       pre_dispatch='2*n_jobs', refit=True, return_train_score='warn',\n",
              "       scoring=None, verbose=1)"
            ]
          },
          "metadata": {
            "tags": []
          },
          "execution_count": 20
        }
      ]
    },
    {
      "metadata": {
        "id": "CwNXm7oTASVQ",
        "colab_type": "code",
        "outputId": "722f4a89-bb58-4ebc-a0c0-c4623ff62194",
        "colab": {
          "base_uri": "https://localhost:8080/",
          "height": 161
        }
      },
      "cell_type": "code",
      "source": [
        "print(\"Best score: %0.3f\" % grid_search.best_score_)\n",
        "print(\"Best parameters set:\")\n",
        "best_parameters = grid_search.best_estimator_.get_params()\n",
        "for param_name in sorted(parameters.keys()):\n",
        "    print(\"\\t%s: %r\" % (param_name, best_parameters[param_name]))"
      ],
      "execution_count": 21,
      "outputs": [
        {
          "output_type": "stream",
          "text": [
            "Best score: 0.535\n",
            "Best parameters set:\n",
            "\tclf__C: 10000.0\n",
            "\tclf__gamma: 'auto'\n",
            "\tclf__kernel: 'rbf'\n",
            "\ttfidf__use_idf: True\n",
            "\tvect__max_df: 0.5\n",
            "\tvect__ngram_range: (1, 2)\n"
          ],
          "name": "stdout"
        }
      ]
    },
    {
      "metadata": {
        "id": "ohWHM2dzASVU",
        "colab_type": "code",
        "outputId": "07cff74c-6472-4f34-c22d-a4048fd165a5",
        "colab": {
          "base_uri": "https://localhost:8080/",
          "height": 143
        }
      },
      "cell_type": "code",
      "source": [
        "test_pred_labels_grid = grid_search.predict(test_data.text.tolist())\n",
        "\n",
        "cmSVM_grid = confusion_matrix(test_labels, test_pred_labels_grid)\n",
        "cmSVM_grid"
      ],
      "execution_count": 22,
      "outputs": [
        {
          "output_type": "execute_result",
          "data": {
            "text/plain": [
              "array([[155,   7,  22,  77,  11,  28,  28],\n",
              "       [ 37, 161,  20,  51,  22,  17,  21],\n",
              "       [ 24,  12, 209,  32,  17,  21,  13],\n",
              "       [ 34,  11,  19, 209,  11,  30,  15],\n",
              "       [ 10,   9,   8,  37, 226,  24,  14],\n",
              "       [ 14,   8,  26,  51,   5, 201,  24],\n",
              "       [ 62,   5,  33,  46,  15,  42, 126]])"
            ]
          },
          "metadata": {
            "tags": []
          },
          "execution_count": 22
        }
      ]
    },
    {
      "metadata": {
        "id": "QThqCwgs07NQ",
        "colab_type": "code",
        "colab": {
          "base_uri": "https://localhost:8080/",
          "height": 282
        },
        "outputId": "c7efe92a-34fd-4881-afc4-93128da544bf"
      },
      "cell_type": "code",
      "source": [
        "print(print_confusion_matrix(cmSVM_grid, class_names=labels))"
      ],
      "execution_count": 47,
      "outputs": [
        {
          "output_type": "stream",
          "text": [
            "Figure(288x216)\n"
          ],
          "name": "stdout"
        },
        {
          "output_type": "display_data",
          "data": {
            "image/png": "[encoded data removed]",
            "text/plain": [
              "<matplotlib.figure.Figure at 0x7f2e52b0c630>"
            ]
          },
          "metadata": {
            "tags": []
          }
        }
      ]
    },
    {
      "metadata": {
        "id": "IOxPmd3tASVW",
        "colab_type": "code",
        "outputId": "3a27ef96-9564-401d-b201-45e807e61aa9",
        "colab": {
          "base_uri": "https://localhost:8080/",
          "height": 233
        }
      },
      "cell_type": "code",
      "source": [
        "reportSVM_grid = classification_report(test_labels, test_pred_labels_grid, target_names=labels)\n",
        "print(reportSVM_grid)"
      ],
      "execution_count": 23,
      "outputs": [
        {
          "output_type": "stream",
          "text": [
            "             precision    recall  f1-score   support\n",
            "\n",
            "      guilt       0.46      0.47      0.47       328\n",
            "    sadness       0.76      0.49      0.59       329\n",
            "       fear       0.62      0.64      0.63       328\n",
            "      anger       0.42      0.64      0.50       329\n",
            "        joy       0.74      0.69      0.71       328\n",
            "    disgust       0.55      0.61      0.58       329\n",
            "      shame       0.52      0.38      0.44       329\n",
            "\n",
            "avg / total       0.58      0.56      0.56      2300\n",
            "\n"
          ],
          "name": "stdout"
        }
      ]
    },
    {
      "metadata": {
        "id": "Sgdaca1cASVZ",
        "colab_type": "text"
      },
      "cell_type": "markdown",
      "source": [
        "# CV 5 fold with CountVectorizer + TfIdfTransformer + SGDClassifier "
      ]
    },
    {
      "metadata": {
        "id": "ARXDnixgASVZ",
        "colab_type": "code",
        "outputId": "5c4c169d-65a5-4bb7-ebb6-699da9d03d4a",
        "colab": {
          "base_uri": "https://localhost:8080/",
          "height": 307
        }
      },
      "cell_type": "code",
      "source": [
        "from sklearn.model_selection import GridSearchCV\n",
        "from sklearn.pipeline import Pipeline\n",
        "from sklearn.linear_model import SGDClassifier\n",
        "from sklearn.feature_extraction.text import TfidfTransformer\n",
        "\n",
        "# Define a pipeline combining a text feature extractor with a simple\n",
        "# classifier\n",
        "pipeline = Pipeline([\n",
        "    ('vect', CountVectorizer()),\n",
        "    ('tfidf', TfidfTransformer()),\n",
        "    ('clf', SGDClassifier()),\n",
        "])\n",
        "\n",
        "# uncommenting more parameters will give better exploring power but will\n",
        "# increase processing time in a combinatorial way\n",
        "parameters = {\n",
        "    'vect__max_df': (0.5, 0.75, 1.0),\n",
        "    # 'vect__max_features': (None, 5000, 10000, 50000),\n",
        "    'vect__ngram_range': ((1, 1), (1, 2)),  # unigrams or bigrams\n",
        "    # 'tfidf__use_idf': (True, False),\n",
        "    # 'tfidf__norm': ('l1', 'l2'),\n",
        "    'clf__max_iter': (5,),\n",
        "    'clf__alpha': (0.00001, 0.000001),\n",
        "    'clf__penalty': ('l2', 'elasticnet'),\n",
        "    # 'clf__max_iter': (10, 50, 80),\n",
        "}\n",
        "\n",
        "grid_search = GridSearchCV(pipeline, parameters, cv=5, n_jobs=-1, verbose=1)\n",
        "\n",
        "grid_search.fit(train_data.text.tolist(), train_labels)"
      ],
      "execution_count": 24,
      "outputs": [
        {
          "output_type": "stream",
          "text": [
            "Fitting 5 folds for each of 24 candidates, totalling 120 fits\n"
          ],
          "name": "stdout"
        },
        {
          "output_type": "stream",
          "text": [
            "[Parallel(n_jobs=-1)]: Done  46 tasks      | elapsed:   14.4s\n",
            "[Parallel(n_jobs=-1)]: Done 120 out of 120 | elapsed:   38.4s finished\n"
          ],
          "name": "stderr"
        },
        {
          "output_type": "execute_result",
          "data": {
            "text/plain": [
              "GridSearchCV(cv=5, error_score='raise',\n",
              "       estimator=Pipeline(memory=None,\n",
              "     steps=[('vect', CountVectorizer(analyzer='word', binary=False, decode_error='strict',\n",
              "        dtype=<class 'numpy.int64'>, encoding='utf-8', input='content',\n",
              "        lowercase=True, max_df=1.0, max_features=None, min_df=1,\n",
              "        ngram_range=(1, 1), preprocessor=None, stop_words=None,\n",
              "        strip...='l2', power_t=0.5, random_state=None,\n",
              "       shuffle=True, tol=None, verbose=0, warm_start=False))]),\n",
              "       fit_params=None, iid=True, n_jobs=-1,\n",
              "       param_grid={'vect__max_df': (0.5, 0.75, 1.0), 'vect__ngram_range': ((1, 1), (1, 2)), 'clf__max_iter': (5,), 'clf__alpha': (1e-05, 1e-06), 'clf__penalty': ('l2', 'elasticnet')},\n",
              "       pre_dispatch='2*n_jobs', refit=True, return_train_score='warn',\n",
              "       scoring=None, verbose=1)"
            ]
          },
          "metadata": {
            "tags": []
          },
          "execution_count": 24
        }
      ]
    },
    {
      "metadata": {
        "id": "r5_eE1yDASVb",
        "colab_type": "code",
        "outputId": "2c247c96-3d78-4e2e-b25e-cf87954506c0",
        "colab": {
          "base_uri": "https://localhost:8080/",
          "height": 143
        }
      },
      "cell_type": "code",
      "source": [
        "print(\"Best score: %0.3f\" % grid_search.best_score_)\n",
        "print(\"Best parameters set:\")\n",
        "best_parameters = grid_search.best_estimator_.get_params()\n",
        "for param_name in sorted(parameters.keys()):\n",
        "    print(\"\\t%s: %r\" % (param_name, best_parameters[param_name]))"
      ],
      "execution_count": 25,
      "outputs": [
        {
          "output_type": "stream",
          "text": [
            "Best score: 0.547\n",
            "Best parameters set:\n",
            "\tclf__alpha: 1e-05\n",
            "\tclf__max_iter: 5\n",
            "\tclf__penalty: 'l2'\n",
            "\tvect__max_df: 0.75\n",
            "\tvect__ngram_range: (1, 2)\n"
          ],
          "name": "stdout"
        }
      ]
    },
    {
      "metadata": {
        "id": "tyT61VJzASVd",
        "colab_type": "code",
        "outputId": "af186953-4724-40f7-8965-c460a42b082d",
        "colab": {
          "base_uri": "https://localhost:8080/",
          "height": 143
        }
      },
      "cell_type": "code",
      "source": [
        "train_pred_labels_grid = grid_search.predict(train_data.text.tolist())\n",
        "\n",
        "cmSVM_grid = confusion_matrix(train_labels, train_pred_labels_grid)\n",
        "cmSVM_grid"
      ],
      "execution_count": 26,
      "outputs": [
        {
          "output_type": "execute_result",
          "data": {
            "text/plain": [
              "array([[676,  13,   0,   0,   0,   0,   0],\n",
              "       [  0, 690,   0,   0,   0,   0,   0],\n",
              "       [  0,   3, 687,   0,   0,   0,   0],\n",
              "       [  1,   5,   0, 683,   0,   0,   1],\n",
              "       [  0,   2,   0,   0, 688,   0,   0],\n",
              "       [  0,   7,   2,   0,   0, 681,   0],\n",
              "       [  4,  15,   0,   0,   0,   0, 671]])"
            ]
          },
          "metadata": {
            "tags": []
          },
          "execution_count": 26
        }
      ]
    },
    {
      "metadata": {
        "colab_type": "code",
        "outputId": "88fdb04a-e3a8-494e-ebc0-348febe34286",
        "id": "1fWbdbUjeYf9",
        "colab": {
          "base_uri": "https://localhost:8080/",
          "height": 143
        }
      },
      "cell_type": "code",
      "source": [
        "test_pred_labels_grid = grid_search.predict(test_data.text.tolist())\n",
        "\n",
        "cmSVM_grid = confusion_matrix(test_labels, test_pred_labels_grid)\n",
        "cmSVM_grid"
      ],
      "execution_count": 0,
      "outputs": [
        {
          "output_type": "execute_result",
          "data": {
            "text/plain": [
              "array([[154,  22,  14,  68,  13,  18,  39],\n",
              "       [ 26, 189,  13,  47,  24,  12,  18],\n",
              "       [ 23,  23, 213,  21,  17,  13,  18],\n",
              "       [ 44,  33,  13, 164,  13,  34,  28],\n",
              "       [ 10,  21,  14,  24, 232,  10,  17],\n",
              "       [ 21,  23,  25,  50,  11, 169,  30],\n",
              "       [ 63,  19,  25,  38,  22,  16, 146]])"
            ]
          },
          "metadata": {
            "tags": []
          },
          "execution_count": 27
        }
      ]
    },
    {
      "metadata": {
        "id": "kvPI72W51B6-",
        "colab_type": "code",
        "colab": {
          "base_uri": "https://localhost:8080/",
          "height": 282
        },
        "outputId": "0d9ce2a7-ef22-4062-87ca-68f9075d74ef"
      },
      "cell_type": "code",
      "source": [
        "print(print_confusion_matrix(cmSVM_grid, class_names=labels))"
      ],
      "execution_count": 48,
      "outputs": [
        {
          "output_type": "stream",
          "text": [
            "Figure(288x216)\n"
          ],
          "name": "stdout"
        },
        {
          "output_type": "display_data",
          "data": {
            "image/png": "[encoded data removed]",
            "text/plain": [
              "<matplotlib.figure.Figure at 0x7f2e65fbc198>"
            ]
          },
          "metadata": {
            "tags": []
          }
        }
      ]
    },
    {
      "metadata": {
        "id": "ZBccwVRWASVh",
        "colab_type": "code",
        "outputId": "2bd85980-94ae-4b91-8b5a-1df5dcad8901",
        "colab": {
          "base_uri": "https://localhost:8080/",
          "height": 233
        }
      },
      "cell_type": "code",
      "source": [
        "reportSVM_grid = classification_report(test_labels, test_pred_labels_grid, target_names=labels)\n",
        "print(reportSVM_grid)"
      ],
      "execution_count": 28,
      "outputs": [
        {
          "output_type": "stream",
          "text": [
            "             precision    recall  f1-score   support\n",
            "\n",
            "      guilt       0.45      0.47      0.46       328\n",
            "    sadness       0.57      0.57      0.57       329\n",
            "       fear       0.67      0.65      0.66       328\n",
            "      anger       0.40      0.50      0.44       329\n",
            "        joy       0.70      0.71      0.70       328\n",
            "    disgust       0.62      0.51      0.56       329\n",
            "      shame       0.49      0.44      0.47       329\n",
            "\n",
            "avg / total       0.56      0.55      0.55      2300\n",
            "\n"
          ],
          "name": "stdout"
        }
      ]
    },
    {
      "metadata": {
        "id": "oDLbHXHUASVk",
        "colab_type": "text"
      },
      "cell_type": "markdown",
      "source": [
        "# spaCy vectorization + SVM Classifier"
      ]
    },
    {
      "metadata": {
        "id": "VjGysCs9CjJC",
        "colab_type": "code",
        "outputId": "5bc46976-d650-4ce9-a4fa-a849c2d59181",
        "colab": {
          "base_uri": "https://localhost:8080/",
          "height": 271
        }
      },
      "cell_type": "code",
      "source": [
        "!python -m spacy download en_core_web_lg"
      ],
      "execution_count": 29,
      "outputs": [
        {
          "output_type": "stream",
          "text": [
            "Collecting en_core_web_lg==2.0.0 from https://github.com/explosion/spacy-models/releases/download/en_core_web_lg-2.0.0/en_core_web_lg-2.0.0.tar.gz#egg=en_core_web_lg==2.0.0\n",
            "\u001b[?25l  Downloading https://github.com/explosion/spacy-models/releases/download/en_core_web_lg-2.0.0/en_core_web_lg-2.0.0.tar.gz (852.3MB)\n",
            "\u001b[K    100% |████████████████████████████████| 852.3MB 32.1MB/s \n",
            "\u001b[?25hInstalling collected packages: en-core-web-lg\n",
            "  Running setup.py install for en-core-web-lg ... \u001b[?25l-\b \b\\\b \b|\b \b/\b \b-\b \b\\\b \b|\b \b/\b \b-\b \b\\\b \b|\b \b/\b \bdone\n",
            "\u001b[?25hSuccessfully installed en-core-web-lg-2.0.0\n",
            "\n",
            "\u001b[93m    Linking successful\u001b[0m\n",
            "    /usr/local/lib/python3.6/dist-packages/en_core_web_lg -->\n",
            "    /usr/local/lib/python3.6/dist-packages/spacy/data/en_core_web_lg\n",
            "\n",
            "    You can now load the model via spacy.load('en_core_web_lg')\n",
            "\n"
          ],
          "name": "stdout"
        }
      ]
    },
    {
      "metadata": {
        "id": "C5Tw3LHsASVl",
        "colab_type": "code",
        "colab": {}
      },
      "cell_type": "code",
      "source": [
        "import spacy\n",
        "\n",
        "nlp = spacy.load('en_core_web_lg')\n",
        "train_spacy_vectors = train_data.text.apply(lambda x: nlp(x).vector).tolist()\n",
        "test_spacy_vectors = test_data.text.apply(lambda x: nlp(x).vector).tolist()"
      ],
      "execution_count": 0,
      "outputs": []
    },
    {
      "metadata": {
        "id": "cVMwEmhsASVo",
        "colab_type": "code",
        "outputId": "f70093a8-2993-4b69-de4c-e9be43b781f8",
        "colab": {
          "base_uri": "https://localhost:8080/",
          "height": 89
        }
      },
      "cell_type": "code",
      "source": [
        "clf_SVM_spacy = svm.SVC(C=10000.0, gamma='auto', kernel='rbf')\n",
        "clf_SVM_spacy.fit(train_spacy_vectors, train_labels)"
      ],
      "execution_count": 31,
      "outputs": [
        {
          "output_type": "execute_result",
          "data": {
            "text/plain": [
              "SVC(C=10000.0, cache_size=200, class_weight=None, coef0=0.0,\n",
              "  decision_function_shape='ovr', degree=3, gamma='auto', kernel='rbf',\n",
              "  max_iter=-1, probability=False, random_state=None, shrinking=True,\n",
              "  tol=0.001, verbose=False)"
            ]
          },
          "metadata": {
            "tags": []
          },
          "execution_count": 31
        }
      ]
    },
    {
      "metadata": {
        "id": "HPESeGFEASVs",
        "colab_type": "code",
        "outputId": "4405b353-36dd-46a4-bdb9-f1eb09a7c116",
        "colab": {
          "base_uri": "https://localhost:8080/",
          "height": 143
        }
      },
      "cell_type": "code",
      "source": [
        "test_pred_labels_spacy = clf_SVM_spacy.predict(test_spacy_vectors)\n",
        "\n",
        "cmSVM_spacy = confusion_matrix(test_labels, test_pred_labels_spacy)\n",
        "cmSVM_spacy"
      ],
      "execution_count": 32,
      "outputs": [
        {
          "output_type": "execute_result",
          "data": {
            "text/plain": [
              "array([[159,  26,  17,  54,  10,  15,  47],\n",
              "       [ 33, 177,  21,  29,  36,  14,  19],\n",
              "       [ 29,  20, 204,  17,  21,  19,  18],\n",
              "       [ 56,  27,  17, 155,  10,  31,  33],\n",
              "       [ 18,  37,  14,  19, 212,  12,  16],\n",
              "       [ 19,  24,  28,  50,  11, 164,  33],\n",
              "       [ 76,  20,  25,  36,  21,  29, 122]])"
            ]
          },
          "metadata": {
            "tags": []
          },
          "execution_count": 32
        }
      ]
    },
    {
      "metadata": {
        "id": "j90TW-aoASVv",
        "colab_type": "code",
        "outputId": "66a5564f-6f3d-4428-f250-21b6507ca3f7",
        "colab": {
          "base_uri": "https://localhost:8080/",
          "height": 233
        }
      },
      "cell_type": "code",
      "source": [
        "reportSVM_spacy = classification_report(test_labels, test_pred_labels_spacy, target_names=labels)\n",
        "print(reportSVM_spacy)"
      ],
      "execution_count": 33,
      "outputs": [
        {
          "output_type": "stream",
          "text": [
            "             precision    recall  f1-score   support\n",
            "\n",
            "      guilt       0.41      0.48      0.44       328\n",
            "    sadness       0.53      0.54      0.54       329\n",
            "       fear       0.63      0.62      0.62       328\n",
            "      anger       0.43      0.47      0.45       329\n",
            "        joy       0.66      0.65      0.65       328\n",
            "    disgust       0.58      0.50      0.54       329\n",
            "      shame       0.42      0.37      0.40       329\n",
            "\n",
            "avg / total       0.52      0.52      0.52      2300\n",
            "\n"
          ],
          "name": "stdout"
        }
      ]
    },
    {
      "metadata": {
        "id": "dYIUwbr5ASVz",
        "colab_type": "text"
      },
      "cell_type": "markdown",
      "source": [
        "# Using spaCy TextCategorizer"
      ]
    },
    {
      "metadata": {
        "id": "zbrLaQf_ASVz",
        "colab_type": "code",
        "outputId": "3fbd5b25-dae8-43af-cba2-99a398d0965f",
        "colab": {
          "base_uri": "https://localhost:8080/",
          "height": 35
        }
      },
      "cell_type": "code",
      "source": [
        "labels"
      ],
      "execution_count": 34,
      "outputs": [
        {
          "output_type": "execute_result",
          "data": {
            "text/plain": [
              "['guilt', 'sadness', 'fear', 'anger', 'joy', 'disgust', 'shame']"
            ]
          },
          "metadata": {
            "tags": []
          },
          "execution_count": 34
        }
      ]
    },
    {
      "metadata": {
        "id": "qYJWx21QASV2",
        "colab_type": "code",
        "outputId": "ee7ebb6b-a60d-4aa1-e721-70585def34ac",
        "colab": {
          "base_uri": "https://localhost:8080/",
          "height": 35
        }
      },
      "cell_type": "code",
      "source": [
        "from spacy.pipeline import TextCategorizer\n",
        "\n",
        "model = 'en_core_web_lg'\n",
        "nlp = spacy.load(model)  # load existing spaCy model\n",
        "print(\"Loaded model '%s'\" % model)\n",
        "\n",
        "textcat = nlp.create_pipe('textcat')\n",
        "nlp.add_pipe(textcat, last=True)"
      ],
      "execution_count": 35,
      "outputs": [
        {
          "output_type": "stream",
          "text": [
            "Loaded model 'en_core_web_lg'\n"
          ],
          "name": "stdout"
        }
      ]
    },
    {
      "metadata": {
        "id": "8Iq1guxgASV4",
        "colab_type": "code",
        "outputId": "e9e9331a-d70a-41b2-c039-ddc76c84f00b",
        "colab": {
          "base_uri": "https://localhost:8080/",
          "height": 35
        }
      },
      "cell_type": "code",
      "source": [
        "# assign label\n",
        "for label in labels:\n",
        "    textcat.add_label(label)\n",
        "    \n",
        "textcat.labels"
      ],
      "execution_count": 36,
      "outputs": [
        {
          "output_type": "execute_result",
          "data": {
            "text/plain": [
              "['guilt', 'sadness', 'fear', 'anger', 'joy', 'disgust', 'shame']"
            ]
          },
          "metadata": {
            "tags": []
          },
          "execution_count": 36
        }
      ]
    },
    {
      "metadata": {
        "id": "_6YDUTDuASV6",
        "colab_type": "code",
        "colab": {}
      },
      "cell_type": "code",
      "source": [
        "train_texts = train_data.text.tolist()\n",
        "valid_texts = valid_data.text.tolist()\n",
        "test_texts = test_data.text.tolist()\n",
        "\n",
        "train_labels = np.array(train_data.emotion.apply(lambda x:dic[x]))\n",
        "valid_labels = np.array(valid_data.emotion.apply(lambda x:dic[x]))\n",
        "test_labels = np.array(test_data.emotion.apply(lambda x:dic[x]))"
      ],
      "execution_count": 0,
      "outputs": []
    },
    {
      "metadata": {
        "id": "Ni-mxu8FASV-",
        "colab_type": "code",
        "colab": {}
      },
      "cell_type": "code",
      "source": [
        "def to_spacy_categorical(label_data, labels):\n",
        "    new_data = dict()\n",
        "    for label in labels:\n",
        "        new_data[label] = (label_data == label)\n",
        "    return new_data"
      ],
      "execution_count": 0,
      "outputs": []
    },
    {
      "metadata": {
        "id": "q3i7mn0zASWA",
        "colab_type": "code",
        "colab": {}
      },
      "cell_type": "code",
      "source": [
        "train_encoded_labels = np.array(train_data.emotion.apply(lambda x:to_spacy_categorical(x, labels)))\n",
        "valid_encoded_labels = np.array(valid_data.emotion.apply(lambda x:to_spacy_categorical(x, labels)))\n",
        "test_encoded_labels = np.array(test_data.emotion.apply(lambda x:to_spacy_categorical(x, labels)))"
      ],
      "execution_count": 0,
      "outputs": []
    },
    {
      "metadata": {
        "id": "D4b4BSk6ASWD",
        "colab_type": "code",
        "outputId": "5a2bfdd2-6ad4-4b14-ac2d-e6e816f4e5bd",
        "colab": {
          "base_uri": "https://localhost:8080/",
          "height": 161
        }
      },
      "cell_type": "code",
      "source": [
        "train_encoded_labels"
      ],
      "execution_count": 40,
      "outputs": [
        {
          "output_type": "execute_result",
          "data": {
            "text/plain": [
              "array([{'guilt': True, 'sadness': False, 'fear': False, 'anger': False, 'joy': False, 'disgust': False, 'shame': False},\n",
              "       {'guilt': False, 'sadness': True, 'fear': False, 'anger': False, 'joy': False, 'disgust': False, 'shame': False},\n",
              "       {'guilt': False, 'sadness': True, 'fear': False, 'anger': False, 'joy': False, 'disgust': False, 'shame': False},\n",
              "       ...,\n",
              "       {'guilt': False, 'sadness': False, 'fear': False, 'anger': False, 'joy': False, 'disgust': True, 'shame': False},\n",
              "       {'guilt': False, 'sadness': True, 'fear': False, 'anger': False, 'joy': False, 'disgust': False, 'shame': False},\n",
              "       {'guilt': False, 'sadness': False, 'fear': False, 'anger': True, 'joy': False, 'disgust': False, 'shame': False}],\n",
              "      dtype=object)"
            ]
          },
          "metadata": {
            "tags": []
          },
          "execution_count": 40
        }
      ]
    },
    {
      "metadata": {
        "id": "5MNtZ2hFASWF",
        "colab_type": "code",
        "colab": {}
      },
      "cell_type": "code",
      "source": [
        "train_spacy_data = list(zip(train_texts, [{'cats': cats} for cats in train_encoded_labels]))\n",
        "valid_spacy_data = list(zip(valid_texts, [{'cats': cats} for cats in valid_encoded_labels]))\n",
        "test_spacy_data = list(zip(test_texts, [{'cats': cats} for cats in test_encoded_labels]))"
      ],
      "execution_count": 0,
      "outputs": []
    },
    {
      "metadata": {
        "id": "k5XLQpIoASWG",
        "colab_type": "code",
        "colab": {}
      },
      "cell_type": "code",
      "source": [
        "from spacy.util import minibatch\n",
        "\n",
        "def evaluate(tokenizer, textcat, texts, cats):\n",
        "    docs = (tokenizer(text) for text in texts)\n",
        "    tp = 1e-8  # True positives\n",
        "    fp = 1e-8  # False positives\n",
        "    fn = 1e-8  # False negatives\n",
        "    tn = 1e-8  # True negatives\n",
        "    for i, doc in enumerate(textcat.pipe(docs)):\n",
        "        gold = cats[i]\n",
        "        for label, score in doc.cats.items():\n",
        "            if label not in gold:\n",
        "                continue\n",
        "            if score >= 0.5 and gold[label] >= 0.5:\n",
        "                tp += 1.\n",
        "            elif score >= 0.5 and gold[label] < 0.5:\n",
        "                fp += 1.\n",
        "            elif score < 0.5 and gold[label] < 0.5:\n",
        "                tn += 1\n",
        "            elif score < 0.5 and gold[label] >= 0.5:\n",
        "                fn += 1\n",
        "    precision = tp / (tp + fp)\n",
        "    recall = tp / (tp + fn)\n",
        "    f_score = 2 * (precision * recall) / (precision + recall)\n",
        "    return {'textcat_p': precision, 'textcat_r': recall, 'textcat_f': f_score}\n",
        "\n",
        "\n",
        "def training(spacy_nlp, train_data, valid_data, epoch=20):\n",
        "    valid_texts, valid_labels = zip(*valid_data)\n",
        "    \n",
        "    other_pipes = [pipe for pipe in spacy_nlp.pipe_names if pipe != 'textcat']\n",
        "    with spacy_nlp.disable_pipes(*other_pipes):  # only train textcat\n",
        "        optimizer = spacy_nlp.begin_training()\n",
        "        print(\"Training the model...\")\n",
        "        print('{:^5}\\t{:^5}\\t{:^5}\\t{:^5}\\t{:^5}'.format('EPOCH', 'LOSS', 'P', 'R', 'F'))\n",
        "        for i in range(epoch):\n",
        "            losses = {}\n",
        "            # batch up the examples using spaCy's minibatch\n",
        "            batches = minibatch(train_data, size=4)\n",
        "\n",
        "            for batch in batches:\n",
        "                texts, annotations = zip(*batch)\n",
        "                spacy_nlp.update(texts, annotations, sgd=optimizer, drop=0.2, losses=losses)\n",
        "\n",
        "            with textcat.model.use_params(optimizer.averages):\n",
        "                # evaluate on the dev data split off in load_data()\n",
        "                scores = evaluate(spacy_nlp.tokenizer, textcat, valid_texts, valid_labels)\n",
        "\n",
        "            print('{0:.0f}\\t{1:.3f}\\t{2:.3f}\\t{3:.3f}\\t{4:.3f}'  # print a simple table\n",
        "                  .format(i + 1, losses['textcat'], scores['textcat_p'],\n",
        "                          scores['textcat_r'], scores['textcat_f']))\n",
        "\n",
        "    return spacy_nlp"
      ],
      "execution_count": 0,
      "outputs": []
    },
    {
      "metadata": {
        "id": "xWxmVAB6ASWJ",
        "colab_type": "code",
        "colab": {}
      },
      "cell_type": "code",
      "source": [
        "nlp = training(nlp, train_spacy_data, valid_spacy_data, epoch=20)"
      ],
      "execution_count": 0,
      "outputs": []
    },
    {
      "metadata": {
        "id": "LDcKudmEASWK",
        "colab_type": "code",
        "colab": {}
      },
      "cell_type": "code",
      "source": [
        ""
      ],
      "execution_count": 0,
      "outputs": []
    }
  ]
}