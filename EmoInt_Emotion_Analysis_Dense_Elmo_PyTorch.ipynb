{
 "cells": [
  {
   "cell_type": "code",
   "execution_count": 1,
   "metadata": {},
   "outputs": [
    {
     "name": "stderr",
     "output_type": "stream",
     "text": [
      "Using TensorFlow backend.\n"
     ]
    }
   ],
   "source": [
    "import os\n",
    "\n",
    "import logging\n",
    "import pandas as pd\n",
    "import numpy as np\n",
    "import matplotlib.pyplot as plt\n",
    "\n",
    "import urllib.request\n",
    "from sklearn.model_selection import train_test_split\n",
    "\n",
    "import torch\n",
    "import torch.nn as nn\n",
    "import torch.nn.functional as F\n",
    "import torch.optim as optim\n",
    "\n",
    "from keras.preprocessing.text import Tokenizer\n",
    "from keras.preprocessing.sequence import pad_sequences\n",
    "\n",
    "os.environ[\"CUDA_DEVICE_ORDER\"]=\"PCI_BUS_ID\"\n",
    "# The GPU id to use, usually either \"0\" or \"1\"\n",
    "os.environ[\"CUDA_VISIBLE_DEVICES\"]=\"1\"\n",
    "os.environ[\"TFHUB_CACHE_DIR\"]=\"tfhub_modules\"\n",
    "\n",
    "torch.manual_seed(1)\n",
    "\n",
    "use_cuda = torch.cuda.is_available()\n",
    "device = torch.device(\"cuda:0\" if use_cuda else \"cpu\")"
   ]
  },
  {
   "cell_type": "code",
   "execution_count": 2,
   "metadata": {},
   "outputs": [],
   "source": [
    "from allennlp.data.tokenizers.word_tokenizer import WordTokenizer\n",
    "from allennlp.modules.elmo import batch_to_ids\n",
    "\n",
    "class Dataset(object):\n",
    "    def __init__(self, X, y):\n",
    "        self.X = X\n",
    "        self.y = y\n",
    "    \n",
    "class EmoIntDataset(object):\n",
    "    BASE_URL = \"http://saifmohammad.com/WebDocs/\"\n",
    "    TRAIN_URI = \"EmoInt%20Train%20Data/{}-ratings-0to1.train.txt\"\n",
    "    TEST_URI = \"EmoInt%20Test%20Gold%20Data/{}-ratings-0to1.test.gold.txt\"\n",
    "    THRESHOLD = 0.33\n",
    "  \n",
    "    def get_labels(self):\n",
    "        return [\"anger\", \"fear\", \"joy\", \"sadness\"]\n",
    "  \n",
    "    def get_label_map(self):\n",
    "        return {label : i for i, label in enumerate(self.get_labels())}\n",
    "    \n",
    "    def _tokens_to_texts(self, tokens):\n",
    "        texts = []\n",
    "        for token in tokens:\n",
    "            texts.append([t.text for t in token])\n",
    "        return texts\n",
    "\n",
    "    def _sequence_texts(self, texts):\n",
    "        tokenizer = WordTokenizer()\n",
    "        tokens = tokenizer.batch_tokenize(texts)\n",
    "        sequences = batch_to_ids(self._tokens_to_texts(tokens))\n",
    "        return sequences\n",
    "\n",
    "    def __load_data_per_class(self, label, url, threshold=0):\n",
    "        resource = urllib.request.urlopen(url)\n",
    "        np_array = np.asarray([line.split('\\t') for line in [line.strip() for line in resource.read().decode('utf-8').splitlines()]])\n",
    "        df = pd.DataFrame(np_array, columns=[\"id\", \"text\", \"label\", \"label_level\"])\n",
    "        df['label_level'] = df['label_level'].astype(float)\n",
    "        df = df.query('label_level>' + str(threshold))\n",
    "        df.loc[df[\"label\"] == label, \"label_int\"] = self.get_label_map()[label]\n",
    "        return df[[\"text\", \"label\", \"label_int\"]]\n",
    "    \n",
    "    def __load_data(self, set_threshold=False):\n",
    "        train_data = None\n",
    "        test_data = None\n",
    "\n",
    "        for label in self.get_labels():\n",
    "            # load train dataset\n",
    "            train_df = self.__load_data_per_class(label, self.BASE_URL + self.TRAIN_URI.format(label), threshold=(self.THRESHOLD if set_threshold else 0))\n",
    "\n",
    "            # load test dataset\n",
    "            test_df = self.__load_data_per_class(label, self.BASE_URL + self.TEST_URI.format(label), threshold=(self.THRESHOLD if set_threshold else 0))\n",
    "\n",
    "            train_data = (train_df if train_data is None else train_data.append(train_df))\n",
    "            test_data = (test_df if test_data is None else test_data.append(test_df))\n",
    "\n",
    "        return train_data, test_data\n",
    "\n",
    "    def __init__(self, set_threshold=False):\n",
    "        train_data, test_data = self.__load_data(set_threshold)\n",
    "        self.train_dataset = Dataset(self._sequence_texts(train_data.text).numpy(), train_data.label_int.values)\n",
    "        self.test_dataset = Dataset(self._sequence_texts(test_data.text).numpy(), test_data.label_int.values)\n",
    "        "
   ]
  },
  {
   "cell_type": "code",
   "execution_count": 3,
   "metadata": {},
   "outputs": [
    {
     "name": "stderr",
     "output_type": "stream",
     "text": [
      "/home/david/anaconda3/envs/tf36/lib/python3.6/site-packages/pandas/core/indexing.py:362: SettingWithCopyWarning: \n",
      "A value is trying to be set on a copy of a slice from a DataFrame.\n",
      "Try using .loc[row_indexer,col_indexer] = value instead\n",
      "\n",
      "See the caveats in the documentation: http://pandas.pydata.org/pandas-docs/stable/indexing.html#indexing-view-versus-copy\n",
      "  self.obj[key] = _infer_fill_value(value)\n",
      "/home/david/anaconda3/envs/tf36/lib/python3.6/site-packages/pandas/core/indexing.py:543: SettingWithCopyWarning: \n",
      "A value is trying to be set on a copy of a slice from a DataFrame.\n",
      "Try using .loc[row_indexer,col_indexer] = value instead\n",
      "\n",
      "See the caveats in the documentation: http://pandas.pydata.org/pandas-docs/stable/indexing.html#indexing-view-versus-copy\n",
      "  self.obj[item] = s\n"
     ]
    }
   ],
   "source": [
    "dataset = EmoIntDataset(set_threshold=True)\n",
    "X_train = dataset.train_dataset.X\n",
    "y_train = dataset.train_dataset.y\n",
    "X_test = dataset.test_dataset.X\n",
    "y_test = dataset.test_dataset.y\n",
    "X_train, X_valid, y_train, y_valid = train_test_split(X_train, y_train, test_size=0.2, random_state=41, stratify=y_train)"
   ]
  },
  {
   "cell_type": "code",
   "execution_count": 4,
   "metadata": {},
   "outputs": [
    {
     "name": "stdout",
     "output_type": "stream",
     "text": [
      "X_train.shape: (2320, 85, 50)\n",
      "y_train.shape: (2320)\n",
      "X_valid.shape: (581, 85, 50)\n",
      "y_valid.shape: (581)\n",
      "X_test.shape: (2508, 44, 50)\n",
      "y_test.shape: (2508)\n"
     ]
    }
   ],
   "source": [
    "print(\"X_train.shape: (%d, %d, %d)\" % X_train.shape)\n",
    "print(\"y_train.shape: (%d)\" % y_train.shape)\n",
    "\n",
    "print(\"X_valid.shape: (%d, %d, %d)\" % X_valid.shape)\n",
    "print(\"y_valid.shape: (%d)\" % y_valid.shape)\n",
    "\n",
    "print(\"X_test.shape: (%d, %d, %d)\" % X_test.shape)\n",
    "print(\"y_test.shape: (%d)\" % y_test.shape)"
   ]
  },
  {
   "cell_type": "code",
   "execution_count": 5,
   "metadata": {},
   "outputs": [],
   "source": [
    "np.save(\"pytorch_emoint_X_train_elmo.npy\", X_train)\n",
    "np.save(\"pytorch_emoint_X_valid_elmo.npy\", X_valid)\n",
    "np.save(\"pytorch_emoint_X_test_elmo.npy\", X_test)\n",
    "\n",
    "np.save(\"pytorch_emoint_y_train_elmo.npy\", y_train)\n",
    "np.save(\"pytorch_emoint_y_valid_elmo.npy\", y_valid)\n",
    "np.save(\"pytorch_emoint_y_test_elmo.npy\", y_test)"
   ]
  },
  {
   "cell_type": "code",
   "execution_count": 6,
   "metadata": {},
   "outputs": [],
   "source": [
    "X_train = np.load(\"pytorch_emoint_X_train_elmo.npy\")\n",
    "X_valid = np.load(\"pytorch_emoint_X_valid_elmo.npy\")\n",
    "X_test = np.load(\"pytorch_emoint_X_test_elmo.npy\")\n",
    "\n",
    "y_train = np.load(\"pytorch_emoint_y_train_elmo.npy\")\n",
    "y_valid = np.load(\"pytorch_emoint_y_valid_elmo.npy\")\n",
    "y_test = np.load(\"pytorch_emoint_y_test_elmo.npy\")"
   ]
  },
  {
   "cell_type": "code",
   "execution_count": 7,
   "metadata": {},
   "outputs": [
    {
     "name": "stdout",
     "output_type": "stream",
     "text": [
      "class dictionary: {'anger': 0, 'fear': 1, 'joy': 2, 'sadness': 3}\n",
      "class labels: ['anger', 'fear', 'joy', 'sadness']\n",
      "number of bins: 4\n"
     ]
    }
   ],
   "source": [
    "dic = dataset.get_label_map()\n",
    "labels = dataset.get_labels()\n",
    "n_classes = len(labels)\n",
    "print(\"class dictionary: %s\" % dic)\n",
    "print(\"class labels: %s\" % labels)\n",
    "print(\"number of bins: %s\" % n_classes)"
   ]
  },
  {
   "cell_type": "code",
   "execution_count": 8,
   "metadata": {
    "scrolled": true
   },
   "outputs": [
    {
     "name": "stdout",
     "output_type": "stream",
     "text": [
      "bins: [0, 1, 2, 3, 4]\n"
     ]
    },
    {
     "data": {
      "image/png": "[encoded data removed]",
      "text/plain": [
       "<Figure size 432x288 with 1 Axes>"
      ]
     },
     "metadata": {
      "needs_background": "light"
     },
     "output_type": "display_data"
    }
   ],
   "source": [
    "bins = list(range(0, n_classes + 1))\n",
    "print(\"bins:\", bins)\n",
    "hist, _ = np.histogram(y_train, bins=bins)\n",
    "\n",
    "y_pos = np.arange(len(labels))\n",
    "\n",
    "plt.bar(y_pos, hist, align='center', alpha=0.5)\n",
    "plt.xticks(y_pos, labels)\n",
    "plt.ylabel('Number')\n",
    "plt.title('Emotions')\n",
    " \n",
    "plt.show()"
   ]
  },
  {
   "cell_type": "code",
   "execution_count": 9,
   "metadata": {
    "scrolled": true
   },
   "outputs": [
    {
     "name": "stdout",
     "output_type": "stream",
     "text": [
      "y.shape: torch.Size([2320, 1, 1, 1])\n",
      "y_onehot.shape: torch.Size([2320, 7, 1, 1])\n"
     ]
    }
   ],
   "source": [
    "from torch import autograd\n",
    "\n",
    "def make_one_hot(labels, C=2):\n",
    "    '''\n",
    "    Converts an integer label torch.autograd.Variable to a one-hot Variable.\n",
    "    \n",
    "    Parameters\n",
    "    ----------\n",
    "    labels : torch.autograd.Variable of torch.cuda.LongTensor\n",
    "        N x 1 x H x W, where N is batch size. \n",
    "        Each value is an integer representing correct classification.\n",
    "    C : integer. \n",
    "        number of classes in labels.\n",
    "    \n",
    "    Returns\n",
    "    -------\n",
    "    target : torch.autograd.Variable of torch.cuda.FloatTensor\n",
    "        N x C x H x W, where C is class number. One-hot encoded.\n",
    "    '''\n",
    "    one_hot = torch.FloatTensor(labels.size(0), C, labels.size(2), labels.size(3)).zero_()\n",
    "    target = one_hot.scatter_(1, labels.data, 1)\n",
    "    \n",
    "    target = autograd.Variable(target)\n",
    "        \n",
    "    return target\n",
    "  \n",
    "y = torch.LongTensor(y_train).view(-1, 1, 1, 1)\n",
    "print(\"y.shape:\", y.shape)\n",
    "y_onehot = make_one_hot(y, C=7)\n",
    "print(\"y_onehot.shape:\", y_onehot.shape)"
   ]
  },
  {
   "cell_type": "code",
   "execution_count": 10,
   "metadata": {},
   "outputs": [],
   "source": [
    "import torch\n",
    "from torch.utils import data\n",
    "\n",
    "class ISEAR_Tensor_Dataset(data.TensorDataset):\n",
    "  \n",
    "  def __init__(self, text, emotion, num_class=2):\n",
    "    X = torch.LongTensor(text)\n",
    "    y = torch.LongTensor(emotion).view(-1, 1, 1, 1)\n",
    "    y_onehot = make_one_hot(y, num_class)\n",
    "    y_onehot = y_onehot.view(y_onehot.shape[0], y_onehot.shape[1])\n",
    "    tensors = []\n",
    "    tensors.append(X)\n",
    "    tensors.append(y_onehot)\n",
    "    super().__init__(*tensors)"
   ]
  },
  {
   "cell_type": "code",
   "execution_count": 11,
   "metadata": {},
   "outputs": [],
   "source": [
    "train_dataset = ISEAR_Tensor_Dataset(X_train, y_train, num_class=7)\n",
    "valid_dataset = ISEAR_Tensor_Dataset(X_valid, y_valid, num_class=7)\n",
    "test_dataset = ISEAR_Tensor_Dataset(X_test, y_test, num_class=7)"
   ]
  },
  {
   "cell_type": "code",
   "execution_count": 12,
   "metadata": {},
   "outputs": [
    {
     "name": "stdout",
     "output_type": "stream",
     "text": [
      "train_dataset.tensors[0].shape: torch.Size([2320, 85, 50])\n",
      "train_dataset.tensors[1].shape: torch.Size([2320, 7])\n"
     ]
    }
   ],
   "source": [
    "print(\"train_dataset.tensors[0].shape:\", train_dataset.tensors[0].shape)\n",
    "print(\"train_dataset.tensors[1].shape:\", train_dataset.tensors[1].shape)"
   ]
  },
  {
   "cell_type": "code",
   "execution_count": 13,
   "metadata": {},
   "outputs": [
    {
     "name": "stdout",
     "output_type": "stream",
     "text": [
      "train_dataset length: 2320\n",
      "valid_dataset length: 581\n",
      "test_dataset length: 2508\n"
     ]
    }
   ],
   "source": [
    "print(\"train_dataset length:\", len(train_dataset))\n",
    "print(\"valid_dataset length:\", len(valid_dataset))\n",
    "print(\"test_dataset length:\", len(test_dataset))"
   ]
  },
  {
   "cell_type": "code",
   "execution_count": 14,
   "metadata": {},
   "outputs": [],
   "source": [
    "batch_size = 50\n",
    "\n",
    "train_loader = data.DataLoader(train_dataset, batch_size=batch_size, shuffle=True)\n",
    "valid_loader = data.DataLoader(valid_dataset, batch_size=batch_size, shuffle=True)\n",
    "test_loader = data.DataLoader(test_dataset, batch_size=batch_size, shuffle=True)"
   ]
  },
  {
   "cell_type": "markdown",
   "metadata": {},
   "source": [
    "### Load Elmo"
   ]
  },
  {
   "cell_type": "code",
   "execution_count": 15,
   "metadata": {},
   "outputs": [],
   "source": [
    "from allennlp.modules.elmo import Elmo, batch_to_ids\n",
    "\n",
    "options_file = \"https://s3-us-west-2.amazonaws.com/allennlp/models/elmo/2x4096_512_2048cnn_2xhighway/elmo_2x4096_512_2048cnn_2xhighway_options.json\"\n",
    "weight_file = \"https://s3-us-west-2.amazonaws.com/allennlp/models/elmo/2x4096_512_2048cnn_2xhighway/elmo_2x4096_512_2048cnn_2xhighway_weights.hdf5\"\n",
    "\n",
    "# Compute two different representation for each token.\n",
    "# Each representation is a linear weighted combination for the\n",
    "# 3 layers in ELMo (i.e., charcnn, the outputs of the two BiLSTM))\n",
    "elmo = Elmo(options_file, weight_file, num_output_representations=2, dropout=0)\n",
    "elmo = elmo.to(device)"
   ]
  },
  {
   "cell_type": "code",
   "execution_count": 16,
   "metadata": {},
   "outputs": [
    {
     "name": "stdout",
     "output_type": "stream",
     "text": [
      "shape: torch.Size([85, 50])\n",
      "experiment_X_train.shape: torch.Size([1, 85, 50])\n",
      "embedded shape: torch.Size([1, 85, 1024])\n"
     ]
    }
   ],
   "source": [
    "shape = train_dataset[0][0].shape\n",
    "print(\"shape:\", shape)\n",
    "experiment_X_train = train_dataset[0][0].view(1, shape[0], shape[1]).to(device)\n",
    "print(\"experiment_X_train.shape:\", experiment_X_train.shape)\n",
    "\n",
    "embedded = elmo(experiment_X_train)\n",
    "print(\"embedded shape:\", embedded['elmo_representations'][0].shape)"
   ]
  },
  {
   "cell_type": "code",
   "execution_count": 17,
   "metadata": {},
   "outputs": [
    {
     "data": {
      "text/plain": [
       "tensor([[-1.0646, -0.5283, -0.2031,  ..., -0.6870,  0.0331,  0.1069],\n",
       "        [-0.2396, -0.1636,  0.6351,  ...,  0.4575,  0.2634,  0.6492],\n",
       "        [ 0.0213, -0.4116, -0.1971,  ...,  0.0663, -0.3136,  0.5627],\n",
       "        [ 0.7194, -0.4869,  0.8039,  ..., -0.1715,  0.2720,  1.1207],\n",
       "        [-0.2111, -0.3582,  0.1580,  ..., -0.0863, -0.4251,  0.4566],\n",
       "        [-0.3513, -0.3273,  0.4696,  ..., -0.0638, -0.3941,  0.4478]],\n",
       "       device='cuda:0', grad_fn=<SelectBackward>)"
      ]
     },
     "execution_count": 17,
     "metadata": {},
     "output_type": "execute_result"
    }
   ],
   "source": [
    "import scipy\n",
    "\n",
    "sentences = [\n",
    "  [\"I\", \"ate\", \"an\", \"apple\", \"for\", \"breakfast\"], \n",
    "  [\"I\", \"ate\", \"a\", \"carrot\", \"for\", \"breakfast\"]\n",
    "]\n",
    "character_ids = batch_to_ids(sentences)\n",
    "\n",
    "embeddings = elmo(character_ids.to(device))\n",
    "embeddings['elmo_representations'][0][0]"
   ]
  },
  {
   "cell_type": "code",
   "execution_count": 18,
   "metadata": {},
   "outputs": [
    {
     "data": {
      "text/plain": [
       "0.27159833908081055"
      ]
     },
     "execution_count": 18,
     "metadata": {},
     "output_type": "execute_result"
    }
   ],
   "source": [
    "vector1 = embeddings['elmo_representations'][0][0].cpu().detach().numpy()\n",
    "vector2 = embeddings['elmo_representations'][0][1].cpu().detach().numpy()\n",
    "scipy.spatial.distance.cosine(vector1[3], vector2[3]) # cosine distance between \"apple\" and \"carrot\" in the last layer"
   ]
  },
  {
   "cell_type": "markdown",
   "metadata": {},
   "source": [
    "## Neural Network Architecture "
   ]
  },
  {
   "cell_type": "code",
   "execution_count": 19,
   "metadata": {},
   "outputs": [],
   "source": [
    "import torch.nn as nn\n",
    "import torch.nn.functional as F\n",
    "\n",
    "class ElmoClassifier(nn.Module):\n",
    "\n",
    "    def __init__(self, device, elmo_embedding, input_dim, embedding_dim=1024, linear_dim=256,\n",
    "                 output_dim=7, drop_rate=0.2):\n",
    "\n",
    "        super(ElmoClassifier, self).__init__()\n",
    "        \n",
    "        self.device = device\n",
    "        self.embedding = elmo_embedding\n",
    "        self.input_dim = input_dim\n",
    "        self.embedding_dim = embedding_dim\n",
    "        self.linear_dim = linear_dim\n",
    "        self.output_dim = output_dim\n",
    "        self.drop_rate = drop_rate\n",
    "        \n",
    "        self.linear = nn.Linear(in_features=self.embedding_dim, out_features=self.linear_dim)\n",
    "        self.linear_pred = nn.Linear(in_features=self.linear_dim, out_features=self.output_dim)\n",
    "\n",
    "    def __shape_to_string(self, shape):\n",
    "        return str(shape)\n",
    "    \n",
    "    def summary(self, input_size):\n",
    "        sentence = torch.LongTensor(np.zeros(input_size)).to(self.device)\n",
    "        print(\"{:<20}  {:<25}\".format(\"input\", self.__shape_to_string(sentence.shape)))\n",
    "        embeds = self.embedding(sentence)['elmo_representations'][0]\n",
    "        print(\"{:<20}  {:<25}\".format(\"embedding\", self.__shape_to_string(embeds.shape)))\n",
    "        avg_embeds = embeds.mean(dim=1)\n",
    "        print(\"{:<20}  {:<25}\".format(\"avg_embeds\", self.__shape_to_string(avg_embeds.shape)))\n",
    "        dense = self.linear(avg_embeds)\n",
    "        print(\"{:<20}  {:<25}\".format(\"dense\", self.__shape_to_string(dense.shape)))\n",
    "        output = F.softmax(self.linear_pred(dense))\n",
    "        print(\"{:<20}  {:<25}\".format(\"output\", self.__shape_to_string(output.shape)))\n",
    "\n",
    "    def forward(self, sentence):\n",
    "        embeds = self.embedding(sentence)['elmo_representations'][0]\n",
    "        avg_embeds = embeds.mean(dim=1)\n",
    "        dense = F.dropout(self.linear(avg_embeds), self.drop_rate)\n",
    "        output = F.softmax(self.linear_pred(dense))\n",
    "        return output"
   ]
  },
  {
   "cell_type": "code",
   "execution_count": 20,
   "metadata": {},
   "outputs": [
    {
     "name": "stdout",
     "output_type": "stream",
     "text": [
      "input                 torch.Size([1, 201, 50]) \n",
      "embedding             torch.Size([1, 201, 1024])\n",
      "avg_embeds            torch.Size([1, 1024])    \n",
      "dense                 torch.Size([1, 256])     \n",
      "output                torch.Size([1, 7])       \n"
     ]
    },
    {
     "name": "stderr",
     "output_type": "stream",
     "text": [
      "/home/david/anaconda3/envs/tf36/lib/python3.6/site-packages/ipykernel_launcher.py:34: UserWarning: Implicit dimension choice for softmax has been deprecated. Change the call to include dim=X as an argument.\n"
     ]
    }
   ],
   "source": [
    "input_dim = X_train.shape[1]\n",
    "embedding_dim = 1024\n",
    "linear_dim = 256\n",
    "output_dim = 7\n",
    "drop_rate = 0.2\n",
    "\n",
    "model = ElmoClassifier(device, elmo, input_dim, embedding_dim, linear_dim, output_dim, drop_rate)\n",
    "model = model.to(device)\n",
    "\n",
    "model.summary([1, 201, 50])"
   ]
  },
  {
   "cell_type": "code",
   "execution_count": 21,
   "metadata": {},
   "outputs": [
    {
     "data": {
      "text/plain": [
       "{'dataset': <__main__.ISEAR_Tensor_Dataset at 0x7f64f5f2e0b8>,\n",
       " 'batch_size': 50,\n",
       " 'num_workers': 0,\n",
       " 'collate_fn': <function torch.utils.data.dataloader.default_collate(batch)>,\n",
       " 'pin_memory': False,\n",
       " 'drop_last': False,\n",
       " 'timeout': 0,\n",
       " 'worker_init_fn': None,\n",
       " 'sampler': <torch.utils.data.sampler.RandomSampler at 0x7f637473d9e8>,\n",
       " 'batch_sampler': <torch.utils.data.sampler.BatchSampler at 0x7f637473d860>,\n",
       " '_DataLoader__initialized': True}"
      ]
     },
     "execution_count": 21,
     "metadata": {},
     "output_type": "execute_result"
    }
   ],
   "source": [
    "train_loader.__dict__"
   ]
  },
  {
   "cell_type": "code",
   "execution_count": 22,
   "metadata": {},
   "outputs": [],
   "source": [
    "def train(epoch, model, data_loader, device, optimiser, loss_fn=nn.BCELoss(), log_interval=100):\n",
    "    #####################\n",
    "    # Train model\n",
    "    #####################\n",
    "\n",
    "    # switch model to training mode, clear gradient accumulators\n",
    "    model.train()\n",
    "    # model.hidden = model.init_hidden()\n",
    "    \n",
    "    train_loss = 0\n",
    "    total_correct = 0\n",
    "\n",
    "    all_pred = []\n",
    "    all_target = []\n",
    "\n",
    "    for batch_idx, (data, target) in enumerate(data_loader):\n",
    "        data, target = data.to(device), target.to(device)\n",
    "        optimiser.zero_grad()\n",
    "        output = model(data)\n",
    "        \n",
    "        loss = loss_fn(output, target)\n",
    "        loss.backward()\n",
    "        optimiser.step()\n",
    "        \n",
    "        train_loss += loss.data # sum up batch loss\n",
    "        \n",
    "        pred = output.max(1, keepdim=True)[1]\n",
    "        pred = pred.view(pred.size(0))\n",
    "\n",
    "        target = target.max(1, keepdim=True)[1]\n",
    "        target = target.view(target.size(0))\n",
    "\n",
    "        correct = pred.eq(target.view_as(pred)).sum()\n",
    "        total_correct += correct\n",
    "\n",
    "        all_pred += pred.cpu().numpy().tolist()\n",
    "        all_target += target.cpu().numpy().tolist()\n",
    "\n",
    "        if batch_idx % log_interval == 0:\n",
    "            print('Train Epoch: {} [{}\\t/\\t{}\\t({:.0f}%)]\\tLoss: {:.6f}'.format(\n",
    "                epoch, batch_idx * len(data), len(train_loader.dataset),\n",
    "                100. * batch_idx / len(train_loader), loss.data))\n",
    "    \n",
    "    print('Train: Average loss: {:.4f}, Accuracy: {}/{} ({:.0f}%)'.format(\n",
    "        train_loss, total_correct, len(data_loader.dataset),\n",
    "        100. * total_correct / len(data_loader.dataset)))\n",
    "    \n",
    "    return train_loss, all_pred, all_target"
   ]
  },
  {
   "cell_type": "code",
   "execution_count": 23,
   "metadata": {},
   "outputs": [],
   "source": [
    "def evaluate(model, data_loader, device, loss_fn=nn.BCELoss()):\n",
    "    #####################\n",
    "    # Evaluation model\n",
    "    #####################\n",
    "    model.eval()\n",
    "    eval_loss = 0\n",
    "    total_correct = 0\n",
    "\n",
    "    all_pred = []\n",
    "    all_target = []\n",
    "    \n",
    "    with torch.no_grad():\n",
    "        for data, target in data_loader:\n",
    "            data, target = data.to(device), target.to(device)\n",
    "            output = model(data)\n",
    "            eval_loss += loss_fn(output, target).data # sum up batch loss\n",
    "            \n",
    "            pred = output.max(1, keepdim=True)[1]\n",
    "            pred = pred.view(pred.size(0))\n",
    "            \n",
    "            target = target.max(1, keepdim=True)[1]\n",
    "            target = target.view(target.size(0))\n",
    "            \n",
    "            correct = pred.eq(target.view_as(pred)).sum()\n",
    "            total_correct += correct\n",
    "\n",
    "            all_pred += pred.cpu().numpy().tolist()\n",
    "            all_target += target.cpu().numpy().tolist()\n",
    "\n",
    "    print('Evaluate: Average loss: {:.4f}, Accuracy: {}/{} ({:.0f}%)\\n'.format(\n",
    "        eval_loss, total_correct, len(data_loader.dataset),\n",
    "        100. * total_correct / len(data_loader.dataset)))\n",
    "    \n",
    "    return eval_loss, all_pred, all_target"
   ]
  },
  {
   "cell_type": "code",
   "execution_count": 24,
   "metadata": {},
   "outputs": [
    {
     "name": "stderr",
     "output_type": "stream",
     "text": [
      "/home/david/anaconda3/envs/tf36/lib/python3.6/site-packages/ipykernel_launcher.py:41: UserWarning: Implicit dimension choice for softmax has been deprecated. Change the call to include dim=X as an argument.\n"
     ]
    },
    {
     "name": "stdout",
     "output_type": "stream",
     "text": [
      "Train Epoch: 0 [0\t/\t2320\t(0%)]\tLoss: 0.408650\n",
      "Train Epoch: 0 [500\t/\t2320\t(21%)]\tLoss: 0.337349\n",
      "Train Epoch: 0 [1000\t/\t2320\t(43%)]\tLoss: 0.317932\n",
      "Train Epoch: 0 [1500\t/\t2320\t(64%)]\tLoss: 0.314289\n",
      "Train Epoch: 0 [2000\t/\t2320\t(85%)]\tLoss: 0.288815\n",
      "Train: Average loss: 15.0849, Accuracy: 908/2320 (39%)\n",
      "Evaluate: Average loss: 3.4595, Accuracy: 292/581 (50%)\n",
      "\n",
      "Train Epoch: 1 [0\t/\t2320\t(0%)]\tLoss: 0.293373\n",
      "Train Epoch: 1 [500\t/\t2320\t(21%)]\tLoss: 0.273797\n",
      "Train Epoch: 1 [1000\t/\t2320\t(43%)]\tLoss: 0.281001\n",
      "Train Epoch: 1 [1500\t/\t2320\t(64%)]\tLoss: 0.276030\n",
      "Train Epoch: 1 [2000\t/\t2320\t(85%)]\tLoss: 0.283708\n",
      "Train: Average loss: 12.9723, Accuracy: 1213/2320 (52%)\n",
      "Evaluate: Average loss: 3.2185, Accuracy: 312/581 (53%)\n",
      "\n",
      "Train Epoch: 2 [0\t/\t2320\t(0%)]\tLoss: 0.248006\n",
      "Train Epoch: 2 [500\t/\t2320\t(21%)]\tLoss: 0.246156\n",
      "Train Epoch: 2 [1000\t/\t2320\t(43%)]\tLoss: 0.242154\n",
      "Train Epoch: 2 [1500\t/\t2320\t(64%)]\tLoss: 0.260514\n",
      "Train Epoch: 2 [2000\t/\t2320\t(85%)]\tLoss: 0.235386\n",
      "Train: Average loss: 11.8665, Accuracy: 1310/2320 (56%)\n",
      "Evaluate: Average loss: 3.0184, Accuracy: 328/581 (56%)\n",
      "\n",
      "Train Epoch: 3 [0\t/\t2320\t(0%)]\tLoss: 0.269321\n",
      "Train Epoch: 3 [500\t/\t2320\t(21%)]\tLoss: 0.239704\n",
      "Train Epoch: 3 [1000\t/\t2320\t(43%)]\tLoss: 0.240865\n",
      "Train Epoch: 3 [1500\t/\t2320\t(64%)]\tLoss: 0.234162\n",
      "Train Epoch: 3 [2000\t/\t2320\t(85%)]\tLoss: 0.251238\n",
      "Train: Average loss: 11.2808, Accuracy: 1395/2320 (60%)\n",
      "Evaluate: Average loss: 2.9907, Accuracy: 323/581 (55%)\n",
      "\n",
      "Train Epoch: 4 [0\t/\t2320\t(0%)]\tLoss: 0.256905\n",
      "Train Epoch: 4 [500\t/\t2320\t(21%)]\tLoss: 0.204614\n",
      "Train Epoch: 4 [1000\t/\t2320\t(43%)]\tLoss: 0.213980\n",
      "Train Epoch: 4 [1500\t/\t2320\t(64%)]\tLoss: 0.257700\n",
      "Train Epoch: 4 [2000\t/\t2320\t(85%)]\tLoss: 0.220801\n",
      "Train: Average loss: 10.5550, Accuracy: 1451/2320 (62%)\n",
      "Evaluate: Average loss: 3.1893, Accuracy: 314/581 (54%)\n",
      "\n",
      "Train Epoch: 5 [0\t/\t2320\t(0%)]\tLoss: 0.218371\n",
      "Train Epoch: 5 [500\t/\t2320\t(21%)]\tLoss: 0.219742\n",
      "Train Epoch: 5 [1000\t/\t2320\t(43%)]\tLoss: 0.245785\n",
      "Train Epoch: 5 [1500\t/\t2320\t(64%)]\tLoss: 0.204510\n",
      "Train Epoch: 5 [2000\t/\t2320\t(85%)]\tLoss: 0.184451\n",
      "Train: Average loss: 10.0073, Accuracy: 1527/2320 (65%)\n",
      "Evaluate: Average loss: 2.8555, Accuracy: 335/581 (57%)\n",
      "\n",
      "Train Epoch: 6 [0\t/\t2320\t(0%)]\tLoss: 0.184703\n",
      "Train Epoch: 6 [500\t/\t2320\t(21%)]\tLoss: 0.206647\n",
      "Train Epoch: 6 [1000\t/\t2320\t(43%)]\tLoss: 0.227845\n",
      "Train Epoch: 6 [1500\t/\t2320\t(64%)]\tLoss: 0.206002\n",
      "Train Epoch: 6 [2000\t/\t2320\t(85%)]\tLoss: 0.186772\n",
      "Train: Average loss: 9.4516, Accuracy: 1569/2320 (67%)\n",
      "Evaluate: Average loss: 2.9561, Accuracy: 356/581 (61%)\n",
      "\n",
      "Train Epoch: 7 [0\t/\t2320\t(0%)]\tLoss: 0.196843\n",
      "Train Epoch: 7 [500\t/\t2320\t(21%)]\tLoss: 0.204202\n",
      "Train Epoch: 7 [1000\t/\t2320\t(43%)]\tLoss: 0.180053\n",
      "Train Epoch: 7 [1500\t/\t2320\t(64%)]\tLoss: 0.205892\n",
      "Train Epoch: 7 [2000\t/\t2320\t(85%)]\tLoss: 0.151171\n",
      "Train: Average loss: 9.1354, Accuracy: 1609/2320 (69%)\n",
      "Evaluate: Average loss: 2.8662, Accuracy: 342/581 (58%)\n",
      "\n",
      "Train Epoch: 8 [0\t/\t2320\t(0%)]\tLoss: 0.189522\n",
      "Train Epoch: 8 [500\t/\t2320\t(21%)]\tLoss: 0.226374\n",
      "Train Epoch: 8 [1000\t/\t2320\t(43%)]\tLoss: 0.152120\n",
      "Train Epoch: 8 [1500\t/\t2320\t(64%)]\tLoss: 0.177529\n",
      "Train Epoch: 8 [2000\t/\t2320\t(85%)]\tLoss: 0.210379\n",
      "Train: Average loss: 8.5815, Accuracy: 1667/2320 (71%)\n",
      "Evaluate: Average loss: 2.7111, Accuracy: 356/581 (61%)\n",
      "\n",
      "Train Epoch: 9 [0\t/\t2320\t(0%)]\tLoss: 0.135926\n",
      "Train Epoch: 9 [500\t/\t2320\t(21%)]\tLoss: 0.199491\n",
      "Train Epoch: 9 [1000\t/\t2320\t(43%)]\tLoss: 0.173472\n",
      "Train Epoch: 9 [1500\t/\t2320\t(64%)]\tLoss: 0.167965\n",
      "Train Epoch: 9 [2000\t/\t2320\t(85%)]\tLoss: 0.200417\n",
      "Train: Average loss: 8.2808, Accuracy: 1699/2320 (73%)\n",
      "Evaluate: Average loss: 2.7681, Accuracy: 354/581 (60%)\n",
      "\n",
      "Train Epoch: 10 [0\t/\t2320\t(0%)]\tLoss: 0.158293\n",
      "Train Epoch: 10 [500\t/\t2320\t(21%)]\tLoss: 0.151226\n",
      "Train Epoch: 10 [1000\t/\t2320\t(43%)]\tLoss: 0.161723\n",
      "Train Epoch: 10 [1500\t/\t2320\t(64%)]\tLoss: 0.196109\n",
      "Train Epoch: 10 [2000\t/\t2320\t(85%)]\tLoss: 0.177142\n",
      "Train: Average loss: 7.8439, Accuracy: 1742/2320 (75%)\n",
      "Evaluate: Average loss: 2.7429, Accuracy: 378/581 (65%)\n",
      "\n",
      "Train Epoch: 11 [0\t/\t2320\t(0%)]\tLoss: 0.149534\n",
      "Train Epoch: 11 [500\t/\t2320\t(21%)]\tLoss: 0.155027\n",
      "Train Epoch: 11 [1000\t/\t2320\t(43%)]\tLoss: 0.140520\n",
      "Train Epoch: 11 [1500\t/\t2320\t(64%)]\tLoss: 0.160811\n",
      "Train Epoch: 11 [2000\t/\t2320\t(85%)]\tLoss: 0.196175\n",
      "Train: Average loss: 7.5250, Accuracy: 1772/2320 (76%)\n",
      "Evaluate: Average loss: 2.7496, Accuracy: 374/581 (64%)\n",
      "\n",
      "Train Epoch: 12 [0\t/\t2320\t(0%)]\tLoss: 0.132311\n",
      "Train Epoch: 12 [500\t/\t2320\t(21%)]\tLoss: 0.167525\n",
      "Train Epoch: 12 [1000\t/\t2320\t(43%)]\tLoss: 0.161676\n",
      "Train Epoch: 12 [1500\t/\t2320\t(64%)]\tLoss: 0.149733\n",
      "Train Epoch: 12 [2000\t/\t2320\t(85%)]\tLoss: 0.199304\n",
      "Train: Average loss: 7.1557, Accuracy: 1777/2320 (76%)\n",
      "Evaluate: Average loss: 2.7956, Accuracy: 372/581 (64%)\n",
      "\n",
      "Train Epoch: 13 [0\t/\t2320\t(0%)]\tLoss: 0.138311\n",
      "Train Epoch: 13 [500\t/\t2320\t(21%)]\tLoss: 0.122232\n",
      "Train Epoch: 13 [1000\t/\t2320\t(43%)]\tLoss: 0.105835\n",
      "Train Epoch: 13 [1500\t/\t2320\t(64%)]\tLoss: 0.147257\n",
      "Train Epoch: 13 [2000\t/\t2320\t(85%)]\tLoss: 0.143991\n",
      "Train: Average loss: 6.9488, Accuracy: 1817/2320 (78%)\n",
      "Evaluate: Average loss: 2.9355, Accuracy: 369/581 (63%)\n",
      "\n",
      "Train Epoch: 14 [0\t/\t2320\t(0%)]\tLoss: 0.153475\n",
      "Train Epoch: 14 [500\t/\t2320\t(21%)]\tLoss: 0.140297\n",
      "Train Epoch: 14 [1000\t/\t2320\t(43%)]\tLoss: 0.100716\n",
      "Train Epoch: 14 [1500\t/\t2320\t(64%)]\tLoss: 0.116624\n",
      "Train Epoch: 14 [2000\t/\t2320\t(85%)]\tLoss: 0.153445\n",
      "Train: Average loss: 6.5978, Accuracy: 1857/2320 (80%)\n",
      "Evaluate: Average loss: 2.9724, Accuracy: 385/581 (66%)\n",
      "\n",
      "Train Epoch: 15 [0\t/\t2320\t(0%)]\tLoss: 0.137519\n",
      "Train Epoch: 15 [500\t/\t2320\t(21%)]\tLoss: 0.147983\n",
      "Train Epoch: 15 [1000\t/\t2320\t(43%)]\tLoss: 0.143073\n",
      "Train Epoch: 15 [1500\t/\t2320\t(64%)]\tLoss: 0.113539\n",
      "Train Epoch: 15 [2000\t/\t2320\t(85%)]\tLoss: 0.132895\n",
      "Train: Average loss: 6.3796, Accuracy: 1860/2320 (80%)\n",
      "Evaluate: Average loss: 2.9336, Accuracy: 369/581 (63%)\n",
      "\n",
      "Train Epoch: 16 [0\t/\t2320\t(0%)]\tLoss: 0.114224\n",
      "Train Epoch: 16 [500\t/\t2320\t(21%)]\tLoss: 0.147649\n",
      "Train Epoch: 16 [1000\t/\t2320\t(43%)]\tLoss: 0.164902\n",
      "Train Epoch: 16 [1500\t/\t2320\t(64%)]\tLoss: 0.172114\n",
      "Train Epoch: 16 [2000\t/\t2320\t(85%)]\tLoss: 0.110835\n",
      "Train: Average loss: 6.0365, Accuracy: 1889/2320 (81%)\n",
      "Evaluate: Average loss: 2.8541, Accuracy: 387/581 (66%)\n",
      "\n",
      "Train Epoch: 17 [0\t/\t2320\t(0%)]\tLoss: 0.103725\n",
      "Train Epoch: 17 [500\t/\t2320\t(21%)]\tLoss: 0.090871\n",
      "Train Epoch: 17 [1000\t/\t2320\t(43%)]\tLoss: 0.112155\n",
      "Train Epoch: 17 [1500\t/\t2320\t(64%)]\tLoss: 0.119893\n",
      "Train Epoch: 17 [2000\t/\t2320\t(85%)]\tLoss: 0.173080\n",
      "Train: Average loss: 5.9166, Accuracy: 1888/2320 (81%)\n",
      "Evaluate: Average loss: 2.9846, Accuracy: 379/581 (65%)\n",
      "\n",
      "Train Epoch: 18 [0\t/\t2320\t(0%)]\tLoss: 0.107610\n",
      "Train Epoch: 18 [500\t/\t2320\t(21%)]\tLoss: 0.105962\n",
      "Train Epoch: 18 [1000\t/\t2320\t(43%)]\tLoss: 0.163933\n",
      "Train Epoch: 18 [1500\t/\t2320\t(64%)]\tLoss: 0.118641\n",
      "Train Epoch: 18 [2000\t/\t2320\t(85%)]\tLoss: 0.137726\n",
      "Train: Average loss: 5.7976, Accuracy: 1904/2320 (82%)\n",
      "Evaluate: Average loss: 3.1662, Accuracy: 385/581 (66%)\n",
      "\n",
      "Train Epoch: 19 [0\t/\t2320\t(0%)]\tLoss: 0.168082\n",
      "Train Epoch: 19 [500\t/\t2320\t(21%)]\tLoss: 0.118392\n",
      "Train Epoch: 19 [1000\t/\t2320\t(43%)]\tLoss: 0.104604\n",
      "Train Epoch: 19 [1500\t/\t2320\t(64%)]\tLoss: 0.111703\n",
      "Train Epoch: 19 [2000\t/\t2320\t(85%)]\tLoss: 0.130198\n",
      "Train: Average loss: 5.3381, Accuracy: 1953/2320 (84%)\n",
      "Evaluate: Average loss: 3.1040, Accuracy: 390/581 (67%)\n",
      "\n",
      "Train Epoch: 20 [0\t/\t2320\t(0%)]\tLoss: 0.099872\n",
      "Train Epoch: 20 [500\t/\t2320\t(21%)]\tLoss: 0.137272\n",
      "Train Epoch: 20 [1000\t/\t2320\t(43%)]\tLoss: 0.113977\n",
      "Train Epoch: 20 [1500\t/\t2320\t(64%)]\tLoss: 0.085790\n",
      "Train Epoch: 20 [2000\t/\t2320\t(85%)]\tLoss: 0.121683\n",
      "Train: Average loss: 5.1965, Accuracy: 1970/2320 (84%)\n",
      "Evaluate: Average loss: 3.1022, Accuracy: 375/581 (64%)\n",
      "\n",
      "Train Epoch: 21 [0\t/\t2320\t(0%)]\tLoss: 0.091628\n",
      "Train Epoch: 21 [500\t/\t2320\t(21%)]\tLoss: 0.105992\n",
      "Train Epoch: 21 [1000\t/\t2320\t(43%)]\tLoss: 0.110850\n",
      "Train Epoch: 21 [1500\t/\t2320\t(64%)]\tLoss: 0.081010\n",
      "Train Epoch: 21 [2000\t/\t2320\t(85%)]\tLoss: 0.147144\n",
      "Train: Average loss: 5.2818, Accuracy: 1963/2320 (84%)\n",
      "Evaluate: Average loss: 3.1982, Accuracy: 372/581 (64%)\n",
      "\n",
      "Train Epoch: 22 [0\t/\t2320\t(0%)]\tLoss: 0.073850\n",
      "Train Epoch: 22 [500\t/\t2320\t(21%)]\tLoss: 0.163995\n",
      "Train Epoch: 22 [1000\t/\t2320\t(43%)]\tLoss: 0.090043\n",
      "Train Epoch: 22 [1500\t/\t2320\t(64%)]\tLoss: 0.123998\n",
      "Train Epoch: 22 [2000\t/\t2320\t(85%)]\tLoss: 0.111097\n",
      "Train: Average loss: 4.7754, Accuracy: 2006/2320 (86%)\n"
     ]
    },
    {
     "name": "stdout",
     "output_type": "stream",
     "text": [
      "Evaluate: Average loss: 3.2724, Accuracy: 373/581 (64%)\n",
      "\n",
      "Train Epoch: 23 [0\t/\t2320\t(0%)]\tLoss: 0.081108\n",
      "Train Epoch: 23 [500\t/\t2320\t(21%)]\tLoss: 0.092252\n",
      "Train Epoch: 23 [1000\t/\t2320\t(43%)]\tLoss: 0.110258\n",
      "Train Epoch: 23 [1500\t/\t2320\t(64%)]\tLoss: 0.096347\n",
      "Train Epoch: 23 [2000\t/\t2320\t(85%)]\tLoss: 0.078628\n",
      "Train: Average loss: 4.7947, Accuracy: 2004/2320 (86%)\n",
      "Evaluate: Average loss: 3.3522, Accuracy: 386/581 (66%)\n",
      "\n",
      "Train Epoch: 24 [0\t/\t2320\t(0%)]\tLoss: 0.066044\n",
      "Train Epoch: 24 [500\t/\t2320\t(21%)]\tLoss: 0.119964\n",
      "Train Epoch: 24 [1000\t/\t2320\t(43%)]\tLoss: 0.069570\n",
      "Train Epoch: 24 [1500\t/\t2320\t(64%)]\tLoss: 0.085363\n",
      "Train Epoch: 24 [2000\t/\t2320\t(85%)]\tLoss: 0.136727\n",
      "Train: Average loss: 4.9546, Accuracy: 1970/2320 (84%)\n",
      "Evaluate: Average loss: 3.4152, Accuracy: 385/581 (66%)\n",
      "\n",
      "Train Epoch: 25 [0\t/\t2320\t(0%)]\tLoss: 0.103594\n",
      "Train Epoch: 25 [500\t/\t2320\t(21%)]\tLoss: 0.113260\n",
      "Train Epoch: 25 [1000\t/\t2320\t(43%)]\tLoss: 0.057329\n",
      "Train Epoch: 25 [1500\t/\t2320\t(64%)]\tLoss: 0.100571\n",
      "Train Epoch: 25 [2000\t/\t2320\t(85%)]\tLoss: 0.098042\n",
      "Train: Average loss: 4.6006, Accuracy: 2008/2320 (86%)\n",
      "Evaluate: Average loss: 3.5533, Accuracy: 379/581 (65%)\n",
      "\n",
      "Train Epoch: 26 [0\t/\t2320\t(0%)]\tLoss: 0.089639\n",
      "Train Epoch: 26 [500\t/\t2320\t(21%)]\tLoss: 0.107011\n",
      "Train Epoch: 26 [1000\t/\t2320\t(43%)]\tLoss: 0.070911\n",
      "Train Epoch: 26 [1500\t/\t2320\t(64%)]\tLoss: 0.117111\n",
      "Train Epoch: 26 [2000\t/\t2320\t(85%)]\tLoss: 0.069276\n",
      "Train: Average loss: 4.4431, Accuracy: 2033/2320 (87%)\n",
      "Evaluate: Average loss: 3.6632, Accuracy: 388/581 (66%)\n",
      "\n",
      "Train Epoch: 27 [0\t/\t2320\t(0%)]\tLoss: 0.103660\n",
      "Train Epoch: 27 [500\t/\t2320\t(21%)]\tLoss: 0.094405\n",
      "Train Epoch: 27 [1000\t/\t2320\t(43%)]\tLoss: 0.044214\n",
      "Train Epoch: 27 [1500\t/\t2320\t(64%)]\tLoss: 0.071865\n",
      "Train Epoch: 27 [2000\t/\t2320\t(85%)]\tLoss: 0.067901\n",
      "Train: Average loss: 4.1307, Accuracy: 2037/2320 (87%)\n",
      "Evaluate: Average loss: 3.6466, Accuracy: 384/581 (66%)\n",
      "\n",
      "Train Epoch: 28 [0\t/\t2320\t(0%)]\tLoss: 0.090837\n",
      "Train Epoch: 28 [500\t/\t2320\t(21%)]\tLoss: 0.039183\n",
      "Train Epoch: 28 [1000\t/\t2320\t(43%)]\tLoss: 0.077025\n",
      "Train Epoch: 28 [1500\t/\t2320\t(64%)]\tLoss: 0.134835\n",
      "Train Epoch: 28 [2000\t/\t2320\t(85%)]\tLoss: 0.052795\n",
      "Train: Average loss: 4.0687, Accuracy: 2046/2320 (88%)\n",
      "Evaluate: Average loss: 3.6383, Accuracy: 385/581 (66%)\n",
      "\n",
      "Train Epoch: 29 [0\t/\t2320\t(0%)]\tLoss: 0.057837\n",
      "Train Epoch: 29 [500\t/\t2320\t(21%)]\tLoss: 0.066940\n",
      "Train Epoch: 29 [1000\t/\t2320\t(43%)]\tLoss: 0.087803\n",
      "Train Epoch: 29 [1500\t/\t2320\t(64%)]\tLoss: 0.122989\n",
      "Train Epoch: 29 [2000\t/\t2320\t(85%)]\tLoss: 0.055622\n",
      "Train: Average loss: 3.9915, Accuracy: 2072/2320 (89%)\n",
      "Evaluate: Average loss: 3.7345, Accuracy: 374/581 (64%)\n",
      "\n"
     ]
    }
   ],
   "source": [
    "loss_fn = nn.BCELoss()\n",
    "log_interval = 10\n",
    "max_epochs = 30\n",
    "learning_rate = 1e-3\n",
    "optimiser = optim.Adam(model.parameters(), lr=learning_rate)\n",
    "\n",
    "train_loss_hist = np.zeros(max_epochs)\n",
    "eval_loss_hist = np.zeros(max_epochs)\n",
    "\n",
    "for epoch in range(max_epochs):\n",
    "  \n",
    "    train_loss, train_pred, train_target = train(epoch, model, train_loader, device, optimiser, loss_fn, log_interval)\n",
    "    train_loss_hist[epoch] = train_loss\n",
    "    \n",
    "    valid_loss, valid_pred, valid_target = evaluate(model, valid_loader, device, loss_fn=nn.BCELoss())\n",
    "    eval_loss_hist[epoch] = valid_loss"
   ]
  },
  {
   "cell_type": "code",
   "execution_count": 25,
   "metadata": {},
   "outputs": [
    {
     "data": {
      "image/png": "[encoded data removed]",
      "text/plain": [
       "<Figure size 432x288 with 1 Axes>"
      ]
     },
     "metadata": {
      "needs_background": "light"
     },
     "output_type": "display_data"
    }
   ],
   "source": [
    "import matplotlib.pyplot as plt\n",
    "plt.plot(train_loss_hist, color='skyblue')\n",
    "plt.plot(eval_loss_hist, color='red')\n",
    "plt.ylabel('Historic Loss')\n",
    "plt.show()"
   ]
  },
  {
   "cell_type": "code",
   "execution_count": 26,
   "metadata": {},
   "outputs": [
    {
     "name": "stderr",
     "output_type": "stream",
     "text": [
      "/home/david/anaconda3/envs/tf36/lib/python3.6/site-packages/torch/serialization.py:250: UserWarning: Couldn't retrieve source code for container of type ElmoClassifier. It won't be checked for correctness upon loading.\n",
      "  \"type \" + obj.__name__ + \". It won't be checked \"\n"
     ]
    }
   ],
   "source": [
    "model_path = 'pytorch_emoint_dense_elmo_model.h5'\n",
    "weight_path = 'pytorch_emoint_dense_elmo_weights.h5'\n",
    "\n",
    "torch.save(model.state_dict(), weight_path)\n",
    "torch.save(model, model_path)"
   ]
  },
  {
   "cell_type": "code",
   "execution_count": 27,
   "metadata": {},
   "outputs": [
    {
     "name": "stderr",
     "output_type": "stream",
     "text": [
      "/home/david/anaconda3/envs/tf36/lib/python3.6/site-packages/ipykernel_launcher.py:41: UserWarning: Implicit dimension choice for softmax has been deprecated. Change the call to include dim=X as an argument.\n"
     ]
    },
    {
     "name": "stdout",
     "output_type": "stream",
     "text": [
      "Evaluate: Average loss: 37.4274, Accuracy: 1400/2508 (55%)\n",
      "\n"
     ]
    }
   ],
   "source": [
    "test_loss, test_pred, test_target = evaluate(model, test_loader, device, loss_fn)"
   ]
  },
  {
   "cell_type": "code",
   "execution_count": 28,
   "metadata": {},
   "outputs": [
    {
     "data": {
      "text/html": [
       "<div>\n",
       "<style scoped>\n",
       "    .dataframe tbody tr th:only-of-type {\n",
       "        vertical-align: middle;\n",
       "    }\n",
       "\n",
       "    .dataframe tbody tr th {\n",
       "        vertical-align: top;\n",
       "    }\n",
       "\n",
       "    .dataframe thead th {\n",
       "        text-align: right;\n",
       "    }\n",
       "</style>\n",
       "<table border=\"1\" class=\"dataframe\">\n",
       "  <thead>\n",
       "    <tr style=\"text-align: right;\">\n",
       "      <th></th>\n",
       "      <th>anger</th>\n",
       "      <th>fear</th>\n",
       "      <th>joy</th>\n",
       "      <th>sadness</th>\n",
       "    </tr>\n",
       "  </thead>\n",
       "  <tbody>\n",
       "    <tr>\n",
       "      <th>anger</th>\n",
       "      <td>373</td>\n",
       "      <td>74</td>\n",
       "      <td>68</td>\n",
       "      <td>128</td>\n",
       "    </tr>\n",
       "    <tr>\n",
       "      <th>fear</th>\n",
       "      <td>155</td>\n",
       "      <td>338</td>\n",
       "      <td>86</td>\n",
       "      <td>210</td>\n",
       "    </tr>\n",
       "    <tr>\n",
       "      <th>joy</th>\n",
       "      <td>43</td>\n",
       "      <td>38</td>\n",
       "      <td>396</td>\n",
       "      <td>66</td>\n",
       "    </tr>\n",
       "    <tr>\n",
       "      <th>sadness</th>\n",
       "      <td>74</td>\n",
       "      <td>96</td>\n",
       "      <td>70</td>\n",
       "      <td>293</td>\n",
       "    </tr>\n",
       "  </tbody>\n",
       "</table>\n",
       "</div>"
      ],
      "text/plain": [
       "         anger  fear  joy  sadness\n",
       "anger      373    74   68      128\n",
       "fear       155   338   86      210\n",
       "joy         43    38  396       66\n",
       "sadness     74    96   70      293"
      ]
     },
     "execution_count": 28,
     "metadata": {},
     "output_type": "execute_result"
    }
   ],
   "source": [
    "from sklearn.metrics import confusion_matrix, precision_recall_fscore_support, accuracy_score\n",
    "\n",
    "cf_matrix = confusion_matrix(test_target, test_pred)\n",
    "\n",
    "df_cm = pd.DataFrame(\n",
    "    cf_matrix, index=labels, columns=labels, \n",
    ")\n",
    "\n",
    "df_cm"
   ]
  },
  {
   "cell_type": "code",
   "execution_count": 29,
   "metadata": {},
   "outputs": [],
   "source": [
    "import seaborn as sns\n",
    "\n",
    "def print_confusion_matrix(confusion_matrix, class_names, figsize = (4,3), fontsize=15):\n",
    "    \"\"\"Prints a confusion matrix, as returned by sklearn.metrics.confusion_matrix, as a heatmap.\n",
    "    \n",
    "    Arguments\n",
    "    ---------\n",
    "    confusion_matrix: numpy.ndarray\n",
    "        The numpy.ndarray object returned from a call to sklearn.metrics.confusion_matrix. \n",
    "        Similarly constructed ndarrays can also be used.\n",
    "    class_names: list\n",
    "        An ordered list of class names, in the order they index the given confusion matrix.\n",
    "    figsize: tuple\n",
    "        A 2-long tuple, the first value determining the horizontal size of the ouputted figure,\n",
    "        the second determining the vertical size. Defaults to (10,7).\n",
    "    fontsize: int\n",
    "        Font size for axes labels. Defaults to 14.\n",
    "        \n",
    "    Returns\n",
    "    -------\n",
    "    matplotlib.figure.Figure\n",
    "        The resulting confusion matrix figure\n",
    "    \"\"\"\n",
    "    df_cm = pd.DataFrame(\n",
    "        confusion_matrix, index=class_names, columns=class_names, \n",
    "    )\n",
    "    fig = plt.figure(figsize=figsize)\n",
    "    try:\n",
    "        heatmap = sns.heatmap(df_cm, annot=True, fmt=\"d\")\n",
    "    except ValueError:\n",
    "        raise ValueError(\"Confusion matrix values must be integers.\")\n",
    "    heatmap.yaxis.set_ticklabels(heatmap.yaxis.get_ticklabels(), rotation=0, ha='right', fontsize=fontsize)\n",
    "    heatmap.xaxis.set_ticklabels(heatmap.xaxis.get_ticklabels(), rotation=45, ha='right', fontsize=fontsize)\n",
    "    plt.ylabel('True label')\n",
    "    plt.xlabel('Predicted label')\n",
    "    return fig"
   ]
  },
  {
   "cell_type": "code",
   "execution_count": 30,
   "metadata": {},
   "outputs": [
    {
     "name": "stdout",
     "output_type": "stream",
     "text": [
      "Figure(288x216)\n"
     ]
    },
    {
     "data": {
      "image/png": "[encoded data removed]",
      "text/plain": [
       "<Figure size 288x216 with 2 Axes>"
      ]
     },
     "metadata": {
      "needs_background": "light"
     },
     "output_type": "display_data"
    }
   ],
   "source": [
    "print(print_confusion_matrix(cf_matrix, class_names=labels))"
   ]
  },
  {
   "cell_type": "code",
   "execution_count": 31,
   "metadata": {},
   "outputs": [
    {
     "name": "stdout",
     "output_type": "stream",
     "text": [
      "test accuracy: 0.5582137161084529\n"
     ]
    }
   ],
   "source": [
    "test_accuracy = accuracy_score(test_target, test_pred)\n",
    "print(\"test accuracy:\", test_accuracy)"
   ]
  },
  {
   "cell_type": "markdown",
   "metadata": {},
   "source": [
    "### Performance score for each classes"
   ]
  },
  {
   "cell_type": "code",
   "execution_count": 32,
   "metadata": {},
   "outputs": [
    {
     "data": {
      "text/html": [
       "<div>\n",
       "<style scoped>\n",
       "    .dataframe tbody tr th:only-of-type {\n",
       "        vertical-align: middle;\n",
       "    }\n",
       "\n",
       "    .dataframe tbody tr th {\n",
       "        vertical-align: top;\n",
       "    }\n",
       "\n",
       "    .dataframe thead th {\n",
       "        text-align: right;\n",
       "    }\n",
       "</style>\n",
       "<table border=\"1\" class=\"dataframe\">\n",
       "  <thead>\n",
       "    <tr style=\"text-align: right;\">\n",
       "      <th></th>\n",
       "      <th>precision</th>\n",
       "      <th>recall</th>\n",
       "      <th>f1-score</th>\n",
       "      <th>support</th>\n",
       "    </tr>\n",
       "  </thead>\n",
       "  <tbody>\n",
       "    <tr>\n",
       "      <th>anger</th>\n",
       "      <td>0.5783</td>\n",
       "      <td>0.5801</td>\n",
       "      <td>0.5792</td>\n",
       "      <td>643</td>\n",
       "    </tr>\n",
       "    <tr>\n",
       "      <th>fear</th>\n",
       "      <td>0.6190</td>\n",
       "      <td>0.4284</td>\n",
       "      <td>0.5064</td>\n",
       "      <td>789</td>\n",
       "    </tr>\n",
       "    <tr>\n",
       "      <th>joy</th>\n",
       "      <td>0.6387</td>\n",
       "      <td>0.7293</td>\n",
       "      <td>0.6810</td>\n",
       "      <td>543</td>\n",
       "    </tr>\n",
       "    <tr>\n",
       "      <th>sadness</th>\n",
       "      <td>0.4204</td>\n",
       "      <td>0.5497</td>\n",
       "      <td>0.4764</td>\n",
       "      <td>533</td>\n",
       "    </tr>\n",
       "  </tbody>\n",
       "</table>\n",
       "</div>"
      ],
      "text/plain": [
       "         precision  recall  f1-score  support\n",
       "anger       0.5783  0.5801    0.5792      643\n",
       "fear        0.6190  0.4284    0.5064      789\n",
       "joy         0.6387  0.7293    0.6810      543\n",
       "sadness     0.4204  0.5497    0.4764      533"
      ]
     },
     "execution_count": 32,
     "metadata": {},
     "output_type": "execute_result"
    }
   ],
   "source": [
    "precision, recall, fscore, support = precision_recall_fscore_support(test_target, test_pred)\n",
    "score_dict = {\n",
    "  \"precision\": precision.round(4),\n",
    "  \"recall\": recall.round(4),\n",
    "  \"f1-score\": fscore.round(4),\n",
    "  \"support\": support.round(4)\n",
    "}\n",
    "score_df = pd.DataFrame(score_dict, index=labels)\n",
    "score_df"
   ]
  },
  {
   "cell_type": "code",
   "execution_count": 34,
   "metadata": {},
   "outputs": [
    {
     "data": {
      "text/html": [
       "<div>\n",
       "<style scoped>\n",
       "    .dataframe tbody tr th:only-of-type {\n",
       "        vertical-align: middle;\n",
       "    }\n",
       "\n",
       "    .dataframe tbody tr th {\n",
       "        vertical-align: top;\n",
       "    }\n",
       "\n",
       "    .dataframe thead th {\n",
       "        text-align: right;\n",
       "    }\n",
       "</style>\n",
       "<table border=\"1\" class=\"dataframe\">\n",
       "  <thead>\n",
       "    <tr style=\"text-align: right;\">\n",
       "      <th></th>\n",
       "      <th>precision</th>\n",
       "      <th>recall</th>\n",
       "      <th>f1-score</th>\n",
       "      <th>support</th>\n",
       "    </tr>\n",
       "  </thead>\n",
       "  <tbody>\n",
       "    <tr>\n",
       "      <th>score</th>\n",
       "      <td>0.5582</td>\n",
       "      <td>0.5582</td>\n",
       "      <td>0.5582</td>\n",
       "      <td>None</td>\n",
       "    </tr>\n",
       "  </tbody>\n",
       "</table>\n",
       "</div>"
      ],
      "text/plain": [
       "       precision  recall  f1-score support\n",
       "score     0.5582  0.5582    0.5582    None"
      ]
     },
     "execution_count": 34,
     "metadata": {},
     "output_type": "execute_result"
    }
   ],
   "source": [
    "precision, recall, fscore, support = precision_recall_fscore_support(test_target, test_pred, average=\"micro\")\n",
    "score_dict = {\n",
    "  \"precision\": precision.round(4),\n",
    "  \"recall\": recall.round(4),\n",
    "  \"f1-score\": fscore.round(4),\n",
    "  \"support\": support\n",
    "}\n",
    "score_df = pd.DataFrame(score_dict, index=[\"score\"])\n",
    "score_df"
   ]
  },
  {
   "cell_type": "markdown",
   "metadata": {},
   "source": [
    "### Cohen Kappa Score"
   ]
  },
  {
   "cell_type": "code",
   "execution_count": 35,
   "metadata": {},
   "outputs": [
    {
     "name": "stdout",
     "output_type": "stream",
     "text": [
      "kappa: 0.4132929536392186\n"
     ]
    }
   ],
   "source": [
    "from sklearn.metrics import cohen_kappa_score\n",
    "\n",
    "kappa_score = cohen_kappa_score(test_target, test_pred)\n",
    "print(\"kappa:\", kappa_score)"
   ]
  },
  {
   "cell_type": "code",
   "execution_count": null,
   "metadata": {},
   "outputs": [],
   "source": []
  }
 ],
 "metadata": {
  "kernelspec": {
   "display_name": "Python 3",
   "language": "python",
   "name": "python3"
  },
  "language_info": {
   "codemirror_mode": {
    "name": "ipython",
    "version": 3
   },
   "file_extension": ".py",
   "mimetype": "text/x-python",
   "name": "python",
   "nbconvert_exporter": "python",
   "pygments_lexer": "ipython3",
   "version": "3.6.7"
  }
 },
 "nbformat": 4,
 "nbformat_minor": 2
}
