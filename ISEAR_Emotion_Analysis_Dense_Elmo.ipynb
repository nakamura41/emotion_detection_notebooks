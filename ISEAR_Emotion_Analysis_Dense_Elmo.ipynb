{
 "cells": [
  {
   "cell_type": "code",
   "execution_count": 1,
   "metadata": {},
   "outputs": [
    {
     "name": "stderr",
     "output_type": "stream",
     "text": [
      "Using TensorFlow backend.\n"
     ]
    },
    {
     "name": "stdout",
     "output_type": "stream",
     "text": [
      "1.10.0\n",
      "['/job:localhost/replica:0/task:0/device:GPU:0']\n"
     ]
    }
   ],
   "source": [
    "import os\n",
    "os.environ[\"CUDA_DEVICE_ORDER\"]=\"PCI_BUS_ID\"\n",
    "# The GPU id to use, usually either \"0\" or \"1\"\n",
    "os.environ[\"CUDA_VISIBLE_DEVICES\"]=\"7\"\n",
    "os.environ[\"TFHUB_CACHE_DIR\"]=\"tfhub_modules\"\n",
    "\n",
    "import tensorflow as tf\n",
    "from keras import backend as K\n",
    "print(tf.__version__)\n",
    "print(K.tensorflow_backend._get_available_gpus())"
   ]
  },
  {
   "cell_type": "code",
   "execution_count": 2,
   "metadata": {},
   "outputs": [
    {
     "name": "stderr",
     "output_type": "stream",
     "text": [
      "matplotlib.backends - DEBUG - backend module://ipykernel.pylab.backend_inline version unknown\n"
     ]
    }
   ],
   "source": [
    "import os\n",
    "import pandas as pd\n",
    "import numpy as np\n",
    "import tensorflow_hub as hub\n",
    "from keras.utils import to_categorical\n",
    "from keras.engine import Layer\n",
    "import keras.layers as layers\n",
    "from keras.layers import Input, Lambda, Dense, Dropout\n",
    "from keras.models import Model, load_model\n",
    "from sklearn.model_selection import train_test_split\n",
    "from sklearn.metrics import confusion_matrix, precision_recall_fscore_support, accuracy_score\n",
    "import matplotlib.pyplot as plt\n",
    "import seaborn as sns\n",
    "import logging\n",
    "\n",
    "\n",
    "logging.basicConfig(level=logging.DEBUG, format='%(name)s - %(levelname)s - %(message)s')\n",
    "\n",
    "# Initialize session\n",
    "sess = tf.Session()\n",
    "K.set_session(sess)"
   ]
  },
  {
   "cell_type": "code",
   "execution_count": 3,
   "metadata": {},
   "outputs": [],
   "source": [
    "from numpy.random import seed\n",
    "from tensorflow import set_random_seed\n",
    "\n",
    "RANDOM_SEED = 20190101\n",
    "\n",
    "def set_random(random_seed):\n",
    "    seed(random_seed)\n",
    "    set_random_seed(random_seed)\n",
    "\n",
    "set_random(RANDOM_SEED)"
   ]
  },
  {
   "cell_type": "code",
   "execution_count": 4,
   "metadata": {},
   "outputs": [],
   "source": [
    "class ISEARDataset(object):\n",
    "  FILENAME = \"data/isear_databank.csv\"\n",
    "  EMOTION_CLASSES = [\"anger\", \"disgust\", \"fear\", \"guilt\", \"joy\", \"sadness\", \"shame\"]\n",
    "  EMOTION_CLASSES_DICT = {\"anger\": 0, \"disgust\": 1, \"fear\": 2, \"guilt\": 3, \"joy\": 4, \"sadness\": 5, \"shame\": 6}\n",
    "  RANDOM_STATE = 41\n",
    "  \n",
    "  def get_classes(self):\n",
    "    return self.EMOTION_CLASSES\n",
    "  \n",
    "  def get_classes_dict(self):\n",
    "    return self.EMOTION_CLASSES_DICT\n",
    "  \n",
    "  def __load_data_file(self):\n",
    "    data = pd.read_csv(self.FILENAME)\n",
    "    data[\"emotion\"] = data[\"Field1\"]\n",
    "    data[\"text\"] = data[\"SIT\"]\n",
    "    return data[[\"text\", \"emotion\"]]\n",
    "\n",
    "  def load_data(self):\n",
    "    train_data = None\n",
    "    test_data = None\n",
    "    \n",
    "    data = self.__load_data_file()\n",
    "    \n",
    "    train_data, test_data = train_test_split(data, test_size=0.3, random_state=self.RANDOM_STATE, stratify=data[\"emotion\"].values)\n",
    "    return train_data, test_data"
   ]
  },
  {
   "cell_type": "code",
   "execution_count": 5,
   "metadata": {},
   "outputs": [
    {
     "name": "stderr",
     "output_type": "stream",
     "text": [
      "root - DEBUG - train_data.shape: (4829, 2)\n",
      "root - DEBUG - valid_data.shape: (537, 2)\n",
      "root - DEBUG - test_data.shape: (2300, 2)\n"
     ]
    }
   ],
   "source": [
    "isear_dataset = ISEARDataset()\n",
    "train_data, test_data = isear_dataset.load_data()\n",
    "train_data, valid_data = train_test_split(train_data, test_size=0.1, random_state=200, stratify=train_data.emotion)\n",
    "\n",
    "logging.debug(\"train_data.shape: (%d, %d)\" % train_data.shape)\n",
    "logging.debug(\"valid_data.shape: (%d, %d)\" % valid_data.shape)\n",
    "logging.debug(\"test_data.shape: (%d, %d)\" % test_data.shape)"
   ]
  },
  {
   "cell_type": "code",
   "execution_count": 6,
   "metadata": {},
   "outputs": [
    {
     "name": "stderr",
     "output_type": "stream",
     "text": [
      "root - DEBUG - class dictionary: {'anger': 0, 'disgust': 1, 'fear': 2, 'guilt': 3, 'joy': 4, 'sadness': 5, 'shame': 6}\n",
      "root - DEBUG - class labels: ['anger', 'disgust', 'fear', 'guilt', 'joy', 'sadness', 'shame']\n",
      "root - DEBUG - number of bins: 7\n",
      "matplotlib.font_manager - DEBUG - findfont: Matching :family=sans-serif:style=normal:variant=normal:weight=normal:stretch=normal:size=10.0 to DejaVu Sans ('/home/david/anaconda3/envs/tf36/lib/python3.6/site-packages/matplotlib/mpl-data/fonts/ttf/DejaVuSans.ttf') with score of 0.050000\n",
      "matplotlib.font_manager - DEBUG - findfont: Matching :family=sans-serif:style=normal:variant=normal:weight=normal:stretch=normal:size=12.0 to DejaVu Sans ('/home/david/anaconda3/envs/tf36/lib/python3.6/site-packages/matplotlib/mpl-data/fonts/ttf/DejaVuSans.ttf') with score of 0.050000\n"
     ]
    },
    {
     "name": "stdout",
     "output_type": "stream",
     "text": [
      "bins: [0, 1, 2, 3, 4, 5, 6, 7]\n"
     ]
    },
    {
     "data": {
      "image/png": "[encoded data removed]",
      "text/plain": [
       "<Figure size 432x288 with 1 Axes>"
      ]
     },
     "metadata": {
      "needs_background": "light"
     },
     "output_type": "display_data"
    }
   ],
   "source": [
    "dic = isear_dataset.get_classes_dict()\n",
    "labels = isear_dataset.get_classes()\n",
    "n_classes = len(labels)\n",
    "logging.debug(\"class dictionary: %s\" % dic)\n",
    "logging.debug(\"class labels: %s\" % labels)\n",
    "logging.debug(\"number of bins: %s\" % n_classes)\n",
    "\n",
    "for emotion in labels:\n",
    "  train_data.loc[train_data.emotion == emotion, \"emotion_int\"] = dic[emotion]\n",
    "  valid_data.loc[valid_data.emotion == emotion, \"emotion_int\"] = dic[emotion]\n",
    "  test_data.loc[test_data.emotion == emotion, \"emotion_int\"] = dic[emotion]\n",
    "\n",
    "bins = list(range(0, n_classes + 1))\n",
    "print(\"bins:\", bins)\n",
    "hist, _ = np.histogram(train_data[\"emotion_int\"], bins=bins)\n",
    "\n",
    "y_pos = np.arange(len(labels))\n",
    "\n",
    "plt.bar(y_pos, hist, align='center', alpha=0.5)\n",
    "plt.xticks(y_pos, labels)\n",
    "plt.ylabel('Number')\n",
    "plt.title('Emotions')\n",
    " \n",
    "plt.show()"
   ]
  },
  {
   "cell_type": "code",
   "execution_count": 7,
   "metadata": {},
   "outputs": [
    {
     "name": "stderr",
     "output_type": "stream",
     "text": [
      "root - DEBUG - Shape of X train, validation and test tensor: (4829, 1), (537, 1), (2300, 1)\n",
      "root - DEBUG - Shape of label train, validation and test tensor: (4829, 7), (537, 7), (2300, 7)\n"
     ]
    }
   ],
   "source": [
    "X_train = np.array(train_data.text, dtype=object)[:, np.newaxis]\n",
    "X_val = np.array(valid_data.text, dtype=object)[:, np.newaxis]\n",
    "X_test = np.array(test_data.text, dtype=object)[:, np.newaxis]\n",
    "\n",
    "y_train = to_categorical(np.asarray(train_data.emotion.apply(lambda x:dic[x])))\n",
    "y_val = to_categorical(np.asarray(valid_data.emotion.apply(lambda x:dic[x])))\n",
    "y_test = to_categorical(np.asarray(test_data.emotion.apply(lambda x:dic[x])))\n",
    "\n",
    "logging.debug('Shape of X train, validation and test tensor: %s, %s, %s' % (X_train.shape, X_val.shape, X_test.shape))\n",
    "logging.debug('Shape of label train, validation and test tensor: %s, %s, %s' % (y_train.shape, y_val.shape, y_test.shape))"
   ]
  },
  {
   "cell_type": "code",
   "execution_count": 8,
   "metadata": {},
   "outputs": [],
   "source": [
    "def ELMoEmbedding(x):\n",
    "    url = \"https://tfhub.dev/google/elmo/2\"\n",
    "    embed = hub.Module(url)\n",
    "    return embed(tf.squeeze(tf.cast(x, tf.string)), signature=\"default\", as_dict=True)[\"default\"]"
   ]
  },
  {
   "cell_type": "code",
   "execution_count": 9,
   "metadata": {},
   "outputs": [],
   "source": [
    "# Function to build model\n",
    "def build_model(drop_rate=0.2):\n",
    "    input_text = layers.Input(shape=(1,), dtype=\"string\")\n",
    "    embedding = Lambda(ELMoEmbedding, output_shape=(1024, ))(input_text)\n",
    "    dense = Dense(256, activation='relu')(embedding)\n",
    "    dropout = Dropout(drop_rate)(dense)\n",
    "    pred = Dense(n_classes, activation='softmax')(dropout)\n",
    "    model = Model(inputs=[input_text], outputs=pred)\n",
    "    model.summary()\n",
    "\n",
    "    return model"
   ]
  },
  {
   "cell_type": "code",
   "execution_count": 10,
   "metadata": {},
   "outputs": [
    {
     "name": "stdout",
     "output_type": "stream",
     "text": [
      "INFO:tensorflow:Using tfhub_modules to cache modules.\n"
     ]
    },
    {
     "name": "stderr",
     "output_type": "stream",
     "text": [
      "tensorflow - INFO - Using tfhub_modules to cache modules.\n"
     ]
    },
    {
     "name": "stdout",
     "output_type": "stream",
     "text": [
      "INFO:tensorflow:Saver not created because there are no variables in the graph to restore\n"
     ]
    },
    {
     "name": "stderr",
     "output_type": "stream",
     "text": [
      "tensorflow - INFO - Saver not created because there are no variables in the graph to restore\n"
     ]
    },
    {
     "name": "stdout",
     "output_type": "stream",
     "text": [
      "_________________________________________________________________\n",
      "Layer (type)                 Output Shape              Param #   \n",
      "=================================================================\n",
      "input_1 (InputLayer)         (None, 1)                 0         \n",
      "_________________________________________________________________\n",
      "lambda_1 (Lambda)            (None, 1024)              0         \n",
      "_________________________________________________________________\n",
      "dense_1 (Dense)              (None, 256)               262400    \n",
      "_________________________________________________________________\n",
      "dropout_1 (Dropout)          (None, 256)               0         \n",
      "_________________________________________________________________\n",
      "dense_2 (Dense)              (None, 7)                 1799      \n",
      "=================================================================\n",
      "Total params: 264,199\n",
      "Trainable params: 264,199\n",
      "Non-trainable params: 0\n",
      "_________________________________________________________________\n"
     ]
    }
   ],
   "source": [
    "import datetime\n",
    "from keras.optimizers import Adam, Adadelta, RMSprop\n",
    "from keras.callbacks import EarlyStopping, ModelCheckpoint\n",
    "\n",
    "\n",
    "start_time = datetime.datetime.now()\n",
    "\n",
    "# Build and fit\n",
    "model = build_model()"
   ]
  },
  {
   "cell_type": "code",
   "execution_count": 11,
   "metadata": {},
   "outputs": [
    {
     "name": "stdout",
     "output_type": "stream",
     "text": [
      "Train on 4829 samples, validate on 537 samples\n",
      "Epoch 1/100\n",
      "4829/4829 [==============================] - 51s 10ms/step - loss: 1.6985 - acc: 0.3541 - val_loss: 1.5052 - val_acc: 0.4488\n",
      "\n",
      "Epoch 00001: val_acc improved from -inf to 0.44879, saving model to tmp/weights-01-0.45.hdf5\n",
      "Epoch 2/100\n",
      "4829/4829 [==============================] - 43s 9ms/step - loss: 1.4380 - acc: 0.4663 - val_loss: 1.4675 - val_acc: 0.4469\n",
      "\n",
      "Epoch 00002: val_acc did not improve from 0.44879\n",
      "Epoch 3/100\n",
      "4829/4829 [==============================] - 43s 9ms/step - loss: 1.3392 - acc: 0.5140 - val_loss: 1.3856 - val_acc: 0.4953\n",
      "\n",
      "Epoch 00003: val_acc improved from 0.44879 to 0.49534, saving model to tmp/weights-03-0.50.hdf5\n",
      "Epoch 4/100\n",
      "4829/4829 [==============================] - 42s 9ms/step - loss: 1.2529 - acc: 0.5415 - val_loss: 1.3942 - val_acc: 0.4823\n",
      "\n",
      "Epoch 00004: val_acc did not improve from 0.49534\n",
      "Epoch 5/100\n",
      "4829/4829 [==============================] - 41s 8ms/step - loss: 1.2045 - acc: 0.5678 - val_loss: 1.3010 - val_acc: 0.5400\n",
      "\n",
      "Epoch 00005: val_acc improved from 0.49534 to 0.54004, saving model to tmp/weights-05-0.54.hdf5\n",
      "Epoch 6/100\n",
      "4829/4829 [==============================] - 40s 8ms/step - loss: 1.2042 - acc: 0.5693 - val_loss: 1.3685 - val_acc: 0.5233\n",
      "\n",
      "Epoch 00006: val_acc did not improve from 0.54004\n",
      "Epoch 7/100\n",
      "4829/4829 [==============================] - 41s 8ms/step - loss: 1.1572 - acc: 0.5749 - val_loss: 1.3183 - val_acc: 0.5047\n",
      "\n",
      "Epoch 00007: val_acc did not improve from 0.54004\n",
      "Epoch 8/100\n",
      "4829/4829 [==============================] - 41s 9ms/step - loss: 1.1385 - acc: 0.5927 - val_loss: 1.2861 - val_acc: 0.5400\n",
      "\n",
      "Epoch 00008: val_acc did not improve from 0.54004\n",
      "Epoch 9/100\n",
      "4829/4829 [==============================] - 41s 8ms/step - loss: 1.0625 - acc: 0.6287 - val_loss: 1.3584 - val_acc: 0.5140\n",
      "\n",
      "Epoch 00009: val_acc did not improve from 0.54004\n",
      "Epoch 10/100\n",
      "4829/4829 [==============================] - 41s 9ms/step - loss: 1.0331 - acc: 0.6258 - val_loss: 1.3327 - val_acc: 0.5326\n",
      "\n",
      "Epoch 00010: val_acc did not improve from 0.54004\n",
      "Epoch 11/100\n",
      "4829/4829 [==============================] - 41s 9ms/step - loss: 1.0189 - acc: 0.6353 - val_loss: 1.3485 - val_acc: 0.5326\n",
      "\n",
      "Epoch 00011: val_acc did not improve from 0.54004\n",
      "Epoch 12/100\n",
      "4829/4829 [==============================] - 41s 9ms/step - loss: 0.9985 - acc: 0.6475 - val_loss: 1.2841 - val_acc: 0.5512\n",
      "\n",
      "Epoch 00012: val_acc improved from 0.54004 to 0.55121, saving model to tmp/weights-12-0.55.hdf5\n",
      "Epoch 13/100\n",
      "4829/4829 [==============================] - 41s 9ms/step - loss: 0.9495 - acc: 0.6598 - val_loss: 1.3126 - val_acc: 0.5214\n",
      "\n",
      "Epoch 00013: val_acc did not improve from 0.55121\n",
      "Epoch 14/100\n",
      "4829/4829 [==============================] - 40s 8ms/step - loss: 0.9318 - acc: 0.6703 - val_loss: 1.3380 - val_acc: 0.5251\n",
      "\n",
      "Epoch 00014: val_acc did not improve from 0.55121\n",
      "Epoch 15/100\n",
      "4829/4829 [==============================] - 42s 9ms/step - loss: 0.9340 - acc: 0.6666 - val_loss: 1.2994 - val_acc: 0.5531\n",
      "\n",
      "Epoch 00015: val_acc improved from 0.55121 to 0.55307, saving model to tmp/weights-15-0.55.hdf5\n",
      "Epoch 16/100\n",
      "4829/4829 [==============================] - 42s 9ms/step - loss: 0.8866 - acc: 0.6859 - val_loss: 1.3343 - val_acc: 0.5400\n",
      "\n",
      "Epoch 00016: val_acc did not improve from 0.55307\n",
      "Epoch 17/100\n",
      "4829/4829 [==============================] - 41s 8ms/step - loss: 0.8560 - acc: 0.6943 - val_loss: 1.3791 - val_acc: 0.5233\n"
     ]
    },
    {
     "name": "stderr",
     "output_type": "stream",
     "text": [
      "root - DEBUG - 0 days, 0 hours, 11 minutes, 55 seconds elapsed\n"
     ]
    },
    {
     "name": "stdout",
     "output_type": "stream",
     "text": [
      "\n",
      "Epoch 00017: val_acc did not improve from 0.55307\n"
     ]
    }
   ],
   "source": [
    "adam = Adam(lr=1e-3, decay=0.0)\n",
    "adadelta = Adadelta(lr=1.0, rho=0.95, epsilon=None, decay=0.0)\n",
    "rmsprop = RMSprop(lr=0.001, rho=0.9, epsilon=None, decay=0.0)\n",
    "\n",
    "filepath=\"tmp/weights-{epoch:02d}-{val_acc:.2f}.hdf5\"\n",
    "model_checkpoint = ModelCheckpoint(filepath, monitor='val_acc', verbose=1, save_best_only=True, mode='auto')\n",
    "early_stopping = EarlyStopping(monitor='val_loss', patience=5)\n",
    "callbacks = [early_stopping, model_checkpoint]\n",
    "\n",
    "model.compile(loss='categorical_crossentropy', optimizer=adam, metrics=['accuracy'])\n",
    "\n",
    "history = model.fit(\n",
    "    X_train, \n",
    "    y_train, \n",
    "    batch_size=32, \n",
    "    epochs=100, \n",
    "    verbose=1, \n",
    "    validation_data=(X_val, y_val), \n",
    "    callbacks=callbacks\n",
    ")  # starts training\n",
    "\n",
    "end_time = datetime.datetime.now()\n",
    "\n",
    "def days_hours_minutes_seconds(td):\n",
    "    return td.days, td.seconds//3600, (td.seconds//60)%60, (td.seconds%60)\n",
    "\n",
    "elapsed_time = end_time - start_time\n",
    "logging.debug(\"%d days, %d hours, %d minutes, %d seconds elapsed\" % (days_hours_minutes_seconds(elapsed_time)))"
   ]
  },
  {
   "cell_type": "code",
   "execution_count": 12,
   "metadata": {},
   "outputs": [
    {
     "name": "stderr",
     "output_type": "stream",
     "text": [
      "root - DEBUG - model and weights is successfully saved\n"
     ]
    }
   ],
   "source": [
    "model.save('isear_dense_elmo_model.h5')\n",
    "model.save_weights('isear_dense_elmo_weights.h5')\n",
    "\n",
    "logging.debug(\"model and weights is successfully saved\")"
   ]
  },
  {
   "cell_type": "markdown",
   "metadata": {},
   "source": [
    "## Evaluate the model"
   ]
  },
  {
   "cell_type": "code",
   "execution_count": 13,
   "metadata": {},
   "outputs": [],
   "source": [
    "y_pred = model.predict(X_test)\n",
    "\n",
    "y_pred_original = [labels[val] for val in np.argmax(y_pred, axis=1).squeeze()]\n",
    "y_test_original = np.asarray(test_data.emotion)"
   ]
  },
  {
   "cell_type": "code",
   "execution_count": 14,
   "metadata": {},
   "outputs": [],
   "source": [
    "def print_confusion_matrix(confusion_matrix, class_names, figsize = (4,3), fontsize=15):\n",
    "    \"\"\"Prints a confusion matrix, as returned by sklearn.metrics.confusion_matrix, as a heatmap.\n",
    "    \n",
    "    Arguments\n",
    "    ---------\n",
    "    confusion_matrix: numpy.ndarray\n",
    "        The numpy.ndarray object returned from a call to sklearn.metrics.confusion_matrix. \n",
    "        Similarly constructed ndarrays can also be used.\n",
    "    class_names: list\n",
    "        An ordered list of class names, in the order they index the given confusion matrix.\n",
    "    figsize: tuple\n",
    "        A 2-long tuple, the first value determining the horizontal size of the ouputted figure,\n",
    "        the second determining the vertical size. Defaults to (10,7).\n",
    "    fontsize: int\n",
    "        Font size for axes labels. Defaults to 14.\n",
    "        \n",
    "    Returns\n",
    "    -------\n",
    "    matplotlib.figure.Figure\n",
    "        The resulting confusion matrix figure\n",
    "    \"\"\"\n",
    "    df_cm = pd.DataFrame(\n",
    "        confusion_matrix, index=class_names, columns=class_names, \n",
    "    )\n",
    "    fig = plt.figure(figsize=figsize)\n",
    "    try:\n",
    "        heatmap = sns.heatmap(df_cm, annot=True, fmt=\"d\")\n",
    "    except ValueError:\n",
    "        raise ValueError(\"Confusion matrix values must be integers.\")\n",
    "    heatmap.yaxis.set_ticklabels(heatmap.yaxis.get_ticklabels(), rotation=0, ha='right', fontsize=fontsize)\n",
    "    heatmap.xaxis.set_ticklabels(heatmap.xaxis.get_ticklabels(), rotation=45, ha='right', fontsize=fontsize)\n",
    "    plt.ylabel('True label')\n",
    "    plt.xlabel('Predicted label')\n",
    "    return fig"
   ]
  },
  {
   "cell_type": "code",
   "execution_count": 15,
   "metadata": {},
   "outputs": [
    {
     "data": {
      "text/html": [
       "<div>\n",
       "<style scoped>\n",
       "    .dataframe tbody tr th:only-of-type {\n",
       "        vertical-align: middle;\n",
       "    }\n",
       "\n",
       "    .dataframe tbody tr th {\n",
       "        vertical-align: top;\n",
       "    }\n",
       "\n",
       "    .dataframe thead th {\n",
       "        text-align: right;\n",
       "    }\n",
       "</style>\n",
       "<table border=\"1\" class=\"dataframe\">\n",
       "  <thead>\n",
       "    <tr style=\"text-align: right;\">\n",
       "      <th></th>\n",
       "      <th>anger</th>\n",
       "      <th>disgust</th>\n",
       "      <th>fear</th>\n",
       "      <th>guilt</th>\n",
       "      <th>joy</th>\n",
       "      <th>sadness</th>\n",
       "      <th>shame</th>\n",
       "    </tr>\n",
       "  </thead>\n",
       "  <tbody>\n",
       "    <tr>\n",
       "      <th>anger</th>\n",
       "      <td>140</td>\n",
       "      <td>40</td>\n",
       "      <td>13</td>\n",
       "      <td>58</td>\n",
       "      <td>29</td>\n",
       "      <td>16</td>\n",
       "      <td>33</td>\n",
       "    </tr>\n",
       "    <tr>\n",
       "      <th>disgust</th>\n",
       "      <td>60</td>\n",
       "      <td>172</td>\n",
       "      <td>21</td>\n",
       "      <td>32</td>\n",
       "      <td>15</td>\n",
       "      <td>8</td>\n",
       "      <td>21</td>\n",
       "    </tr>\n",
       "    <tr>\n",
       "      <th>fear</th>\n",
       "      <td>21</td>\n",
       "      <td>23</td>\n",
       "      <td>199</td>\n",
       "      <td>31</td>\n",
       "      <td>16</td>\n",
       "      <td>19</td>\n",
       "      <td>19</td>\n",
       "    </tr>\n",
       "    <tr>\n",
       "      <th>guilt</th>\n",
       "      <td>52</td>\n",
       "      <td>12</td>\n",
       "      <td>16</td>\n",
       "      <td>192</td>\n",
       "      <td>13</td>\n",
       "      <td>12</td>\n",
       "      <td>31</td>\n",
       "    </tr>\n",
       "    <tr>\n",
       "      <th>joy</th>\n",
       "      <td>9</td>\n",
       "      <td>5</td>\n",
       "      <td>9</td>\n",
       "      <td>17</td>\n",
       "      <td>269</td>\n",
       "      <td>8</td>\n",
       "      <td>11</td>\n",
       "    </tr>\n",
       "    <tr>\n",
       "      <th>sadness</th>\n",
       "      <td>29</td>\n",
       "      <td>16</td>\n",
       "      <td>22</td>\n",
       "      <td>41</td>\n",
       "      <td>49</td>\n",
       "      <td>158</td>\n",
       "      <td>14</td>\n",
       "    </tr>\n",
       "    <tr>\n",
       "      <th>shame</th>\n",
       "      <td>39</td>\n",
       "      <td>28</td>\n",
       "      <td>13</td>\n",
       "      <td>106</td>\n",
       "      <td>25</td>\n",
       "      <td>11</td>\n",
       "      <td>107</td>\n",
       "    </tr>\n",
       "  </tbody>\n",
       "</table>\n",
       "</div>"
      ],
      "text/plain": [
       "         anger  disgust  fear  guilt  joy  sadness  shame\n",
       "anger      140       40    13     58   29       16     33\n",
       "disgust     60      172    21     32   15        8     21\n",
       "fear        21       23   199     31   16       19     19\n",
       "guilt       52       12    16    192   13       12     31\n",
       "joy          9        5     9     17  269        8     11\n",
       "sadness     29       16    22     41   49      158     14\n",
       "shame       39       28    13    106   25       11    107"
      ]
     },
     "execution_count": 15,
     "metadata": {},
     "output_type": "execute_result"
    }
   ],
   "source": [
    "cf_matrix = confusion_matrix(y_test_original, y_pred_original, labels=labels)\n",
    "\n",
    "df_cm = pd.DataFrame(\n",
    "    cf_matrix, index=labels, columns=labels, \n",
    ")\n",
    "\n",
    "df_cm"
   ]
  },
  {
   "cell_type": "code",
   "execution_count": 16,
   "metadata": {},
   "outputs": [
    {
     "name": "stderr",
     "output_type": "stream",
     "text": [
      "matplotlib.font_manager - DEBUG - findfont: Matching :family=sans-serif:style=normal:variant=normal:weight=normal:stretch=normal:size=15.0 to DejaVu Sans ('/home/david/anaconda3/envs/tf36/lib/python3.6/site-packages/matplotlib/mpl-data/fonts/ttf/DejaVuSans.ttf') with score of 0.050000\n"
     ]
    },
    {
     "name": "stdout",
     "output_type": "stream",
     "text": [
      "Figure(288x216)\n"
     ]
    },
    {
     "data": {
      "image/png": "[encoded data removed]",
      "text/plain": [
       "<Figure size 288x216 with 2 Axes>"
      ]
     },
     "metadata": {
      "needs_background": "light"
     },
     "output_type": "display_data"
    }
   ],
   "source": [
    "print(print_confusion_matrix(cf_matrix, class_names=labels))"
   ]
  },
  {
   "cell_type": "code",
   "execution_count": 17,
   "metadata": {},
   "outputs": [
    {
     "name": "stdout",
     "output_type": "stream",
     "text": [
      "test accuracy: 0.5378260869565218\n"
     ]
    }
   ],
   "source": [
    "test_accuracy = accuracy_score(y_test_original, y_pred_original)\n",
    "print(\"test accuracy:\", test_accuracy)"
   ]
  },
  {
   "cell_type": "markdown",
   "metadata": {},
   "source": [
    "### Performance score for each classes"
   ]
  },
  {
   "cell_type": "code",
   "execution_count": 18,
   "metadata": {},
   "outputs": [
    {
     "data": {
      "text/html": [
       "<div>\n",
       "<style scoped>\n",
       "    .dataframe tbody tr th:only-of-type {\n",
       "        vertical-align: middle;\n",
       "    }\n",
       "\n",
       "    .dataframe tbody tr th {\n",
       "        vertical-align: top;\n",
       "    }\n",
       "\n",
       "    .dataframe thead th {\n",
       "        text-align: right;\n",
       "    }\n",
       "</style>\n",
       "<table border=\"1\" class=\"dataframe\">\n",
       "  <thead>\n",
       "    <tr style=\"text-align: right;\">\n",
       "      <th></th>\n",
       "      <th>precision</th>\n",
       "      <th>recall</th>\n",
       "      <th>f1-score</th>\n",
       "      <th>support</th>\n",
       "    </tr>\n",
       "  </thead>\n",
       "  <tbody>\n",
       "    <tr>\n",
       "      <th>anger</th>\n",
       "      <td>0.4000</td>\n",
       "      <td>0.4255</td>\n",
       "      <td>0.4124</td>\n",
       "      <td>329</td>\n",
       "    </tr>\n",
       "    <tr>\n",
       "      <th>disgust</th>\n",
       "      <td>0.5811</td>\n",
       "      <td>0.5228</td>\n",
       "      <td>0.5504</td>\n",
       "      <td>329</td>\n",
       "    </tr>\n",
       "    <tr>\n",
       "      <th>fear</th>\n",
       "      <td>0.6792</td>\n",
       "      <td>0.6067</td>\n",
       "      <td>0.6409</td>\n",
       "      <td>328</td>\n",
       "    </tr>\n",
       "    <tr>\n",
       "      <th>guilt</th>\n",
       "      <td>0.4025</td>\n",
       "      <td>0.5854</td>\n",
       "      <td>0.4770</td>\n",
       "      <td>328</td>\n",
       "    </tr>\n",
       "    <tr>\n",
       "      <th>joy</th>\n",
       "      <td>0.6466</td>\n",
       "      <td>0.8201</td>\n",
       "      <td>0.7231</td>\n",
       "      <td>328</td>\n",
       "    </tr>\n",
       "    <tr>\n",
       "      <th>sadness</th>\n",
       "      <td>0.6810</td>\n",
       "      <td>0.4802</td>\n",
       "      <td>0.5633</td>\n",
       "      <td>329</td>\n",
       "    </tr>\n",
       "    <tr>\n",
       "      <th>shame</th>\n",
       "      <td>0.4534</td>\n",
       "      <td>0.3252</td>\n",
       "      <td>0.3788</td>\n",
       "      <td>329</td>\n",
       "    </tr>\n",
       "  </tbody>\n",
       "</table>\n",
       "</div>"
      ],
      "text/plain": [
       "         precision  recall  f1-score  support\n",
       "anger       0.4000  0.4255    0.4124      329\n",
       "disgust     0.5811  0.5228    0.5504      329\n",
       "fear        0.6792  0.6067    0.6409      328\n",
       "guilt       0.4025  0.5854    0.4770      328\n",
       "joy         0.6466  0.8201    0.7231      328\n",
       "sadness     0.6810  0.4802    0.5633      329\n",
       "shame       0.4534  0.3252    0.3788      329"
      ]
     },
     "execution_count": 18,
     "metadata": {},
     "output_type": "execute_result"
    }
   ],
   "source": [
    "precision, recall, fscore, support = precision_recall_fscore_support(y_test_original, y_pred_original)\n",
    "score_dict = {\n",
    "  \"precision\": precision.round(4),\n",
    "  \"recall\": recall.round(4),\n",
    "  \"f1-score\": fscore.round(4),\n",
    "  \"support\": support.round(4)\n",
    "}\n",
    "score_df = pd.DataFrame(score_dict, index=labels)\n",
    "score_df"
   ]
  },
  {
   "cell_type": "markdown",
   "metadata": {},
   "source": [
    "### Performance score using micro average"
   ]
  },
  {
   "cell_type": "code",
   "execution_count": 19,
   "metadata": {},
   "outputs": [
    {
     "data": {
      "text/html": [
       "<div>\n",
       "<style scoped>\n",
       "    .dataframe tbody tr th:only-of-type {\n",
       "        vertical-align: middle;\n",
       "    }\n",
       "\n",
       "    .dataframe tbody tr th {\n",
       "        vertical-align: top;\n",
       "    }\n",
       "\n",
       "    .dataframe thead th {\n",
       "        text-align: right;\n",
       "    }\n",
       "</style>\n",
       "<table border=\"1\" class=\"dataframe\">\n",
       "  <thead>\n",
       "    <tr style=\"text-align: right;\">\n",
       "      <th></th>\n",
       "      <th>precision</th>\n",
       "      <th>recall</th>\n",
       "      <th>f1-score</th>\n",
       "      <th>support</th>\n",
       "    </tr>\n",
       "  </thead>\n",
       "  <tbody>\n",
       "    <tr>\n",
       "      <th>score</th>\n",
       "      <td>0.5378</td>\n",
       "      <td>0.5378</td>\n",
       "      <td>0.5378</td>\n",
       "      <td>None</td>\n",
       "    </tr>\n",
       "  </tbody>\n",
       "</table>\n",
       "</div>"
      ],
      "text/plain": [
       "       precision  recall  f1-score support\n",
       "score     0.5378  0.5378    0.5378    None"
      ]
     },
     "execution_count": 19,
     "metadata": {},
     "output_type": "execute_result"
    }
   ],
   "source": [
    "precision, recall, fscore, support = precision_recall_fscore_support(y_test_original, y_pred_original, average=\"micro\")\n",
    "score_dict = {\n",
    "  \"precision\": precision.round(4),\n",
    "  \"recall\": recall.round(4),\n",
    "  \"f1-score\": fscore.round(4),\n",
    "  \"support\": support\n",
    "}\n",
    "score_df = pd.DataFrame(score_dict, index=[\"score\"])\n",
    "score_df"
   ]
  },
  {
   "cell_type": "markdown",
   "metadata": {},
   "source": [
    "### Performance score using macro average"
   ]
  },
  {
   "cell_type": "code",
   "execution_count": 20,
   "metadata": {},
   "outputs": [
    {
     "data": {
      "text/html": [
       "<div>\n",
       "<style scoped>\n",
       "    .dataframe tbody tr th:only-of-type {\n",
       "        vertical-align: middle;\n",
       "    }\n",
       "\n",
       "    .dataframe tbody tr th {\n",
       "        vertical-align: top;\n",
       "    }\n",
       "\n",
       "    .dataframe thead th {\n",
       "        text-align: right;\n",
       "    }\n",
       "</style>\n",
       "<table border=\"1\" class=\"dataframe\">\n",
       "  <thead>\n",
       "    <tr style=\"text-align: right;\">\n",
       "      <th></th>\n",
       "      <th>precision</th>\n",
       "      <th>recall</th>\n",
       "      <th>f1-score</th>\n",
       "      <th>support</th>\n",
       "    </tr>\n",
       "  </thead>\n",
       "  <tbody>\n",
       "    <tr>\n",
       "      <th>score</th>\n",
       "      <td>0.5491</td>\n",
       "      <td>0.538</td>\n",
       "      <td>0.5351</td>\n",
       "      <td>None</td>\n",
       "    </tr>\n",
       "  </tbody>\n",
       "</table>\n",
       "</div>"
      ],
      "text/plain": [
       "       precision  recall  f1-score support\n",
       "score     0.5491   0.538    0.5351    None"
      ]
     },
     "execution_count": 20,
     "metadata": {},
     "output_type": "execute_result"
    }
   ],
   "source": [
    "precision, recall, fscore, support = precision_recall_fscore_support(y_test_original, y_pred_original, average=\"macro\")\n",
    "score_dict = {\n",
    "  \"precision\": precision.round(4),\n",
    "  \"recall\": recall.round(4),\n",
    "  \"f1-score\": fscore.round(4),\n",
    "  \"support\": support\n",
    "}\n",
    "score_df = pd.DataFrame(score_dict, index=[\"score\"])\n",
    "score_df"
   ]
  },
  {
   "cell_type": "markdown",
   "metadata": {},
   "source": [
    "### Performance score using weighted average"
   ]
  },
  {
   "cell_type": "code",
   "execution_count": 21,
   "metadata": {},
   "outputs": [
    {
     "data": {
      "text/html": [
       "<div>\n",
       "<style scoped>\n",
       "    .dataframe tbody tr th:only-of-type {\n",
       "        vertical-align: middle;\n",
       "    }\n",
       "\n",
       "    .dataframe tbody tr th {\n",
       "        vertical-align: top;\n",
       "    }\n",
       "\n",
       "    .dataframe thead th {\n",
       "        text-align: right;\n",
       "    }\n",
       "</style>\n",
       "<table border=\"1\" class=\"dataframe\">\n",
       "  <thead>\n",
       "    <tr style=\"text-align: right;\">\n",
       "      <th></th>\n",
       "      <th>precision</th>\n",
       "      <th>recall</th>\n",
       "      <th>f1-score</th>\n",
       "      <th>support</th>\n",
       "    </tr>\n",
       "  </thead>\n",
       "  <tbody>\n",
       "    <tr>\n",
       "      <th>score</th>\n",
       "      <td>0.5491</td>\n",
       "      <td>0.5378</td>\n",
       "      <td>0.535</td>\n",
       "      <td>None</td>\n",
       "    </tr>\n",
       "  </tbody>\n",
       "</table>\n",
       "</div>"
      ],
      "text/plain": [
       "       precision  recall  f1-score support\n",
       "score     0.5491  0.5378     0.535    None"
      ]
     },
     "execution_count": 21,
     "metadata": {},
     "output_type": "execute_result"
    }
   ],
   "source": [
    "precision, recall, fscore, support = precision_recall_fscore_support(y_test_original, y_pred_original, average=\"weighted\")\n",
    "score_dict = {\n",
    "  \"precision\": precision.round(4),\n",
    "  \"recall\": recall.round(4),\n",
    "  \"f1-score\": fscore.round(4),\n",
    "  \"support\": support\n",
    "}\n",
    "score_df = pd.DataFrame(score_dict, index=[\"score\"])\n",
    "score_df"
   ]
  },
  {
   "cell_type": "markdown",
   "metadata": {},
   "source": [
    "### Cohen Kappa Score"
   ]
  },
  {
   "cell_type": "code",
   "execution_count": 22,
   "metadata": {},
   "outputs": [
    {
     "name": "stdout",
     "output_type": "stream",
     "text": [
      "kappa: 0.4608209177401804\n"
     ]
    }
   ],
   "source": [
    "from sklearn.metrics import cohen_kappa_score\n",
    "\n",
    "kappa_score = cohen_kappa_score(y_test_original, y_pred_original, labels=labels)\n",
    "print(\"kappa:\", kappa_score)"
   ]
  },
  {
   "cell_type": "code",
   "execution_count": null,
   "metadata": {},
   "outputs": [],
   "source": []
  }
 ],
 "metadata": {
  "kernelspec": {
   "display_name": "Python 3",
   "language": "python",
   "name": "python3"
  },
  "language_info": {
   "codemirror_mode": {
    "name": "ipython",
    "version": 3
   },
   "file_extension": ".py",
   "mimetype": "text/x-python",
   "name": "python",
   "nbconvert_exporter": "python",
   "pygments_lexer": "ipython3",
   "version": "3.6.7"
  }
 },
 "nbformat": 4,
 "nbformat_minor": 2
}
