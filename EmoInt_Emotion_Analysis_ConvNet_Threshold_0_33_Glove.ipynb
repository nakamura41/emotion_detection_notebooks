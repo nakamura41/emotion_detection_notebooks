{
 "cells": [
  {
   "cell_type": "markdown",
   "metadata": {
    "colab_type": "text",
    "id": "view-in-github"
   },
   "source": [
    "<a href=\"https://colab.research.google.com/github/nakamura41/emotion_detection_notebooks/blob/master/EmoInt_Emotion_Analysis_ConvNet_Threshold_0_33_Glove.ipynb\" target=\"_parent\"><img src=\"https://colab.research.google.com/assets/colab-badge.svg\" alt=\"Open In Colab\"/></a>"
   ]
  },
  {
   "cell_type": "code",
   "execution_count": 2,
   "metadata": {
    "colab": {
     "base_uri": "https://localhost:8080/",
     "height": 197
    },
    "colab_type": "code",
    "id": "wRzS3ihSifMc",
    "outputId": "6b81f03a-6e84-4205-bb82-7898cbc77a42"
   },
   "outputs": [
    {
     "name": "stdout",
     "output_type": "stream",
     "text": [
      "Requirement already satisfied: PyDrive in /usr/local/lib/python3.6/dist-packages (1.3.1)\n",
      "Requirement already satisfied: google-api-python-client>=1.2 in /usr/local/lib/python3.6/dist-packages (from PyDrive) (1.6.7)\n",
      "Requirement already satisfied: oauth2client>=4.0.0 in /usr/local/lib/python3.6/dist-packages (from PyDrive) (4.1.3)\n",
      "Requirement already satisfied: PyYAML>=3.0 in /usr/local/lib/python3.6/dist-packages (from PyDrive) (3.13)\n",
      "Requirement already satisfied: uritemplate<4dev,>=3.0.0 in /usr/local/lib/python3.6/dist-packages (from google-api-python-client>=1.2->PyDrive) (3.0.0)\n",
      "Requirement already satisfied: httplib2<1dev,>=0.9.2 in /usr/local/lib/python3.6/dist-packages (from google-api-python-client>=1.2->PyDrive) (0.11.3)\n",
      "Requirement already satisfied: six<2dev,>=1.6.1 in /usr/local/lib/python3.6/dist-packages (from google-api-python-client>=1.2->PyDrive) (1.11.0)\n",
      "Requirement already satisfied: pyasn1-modules>=0.0.5 in /usr/local/lib/python3.6/dist-packages (from oauth2client>=4.0.0->PyDrive) (0.2.2)\n",
      "Requirement already satisfied: rsa>=3.1.4 in /usr/local/lib/python3.6/dist-packages (from oauth2client>=4.0.0->PyDrive) (4.0)\n",
      "Requirement already satisfied: pyasn1>=0.1.7 in /usr/local/lib/python3.6/dist-packages (from oauth2client>=4.0.0->PyDrive) (0.4.4)\n"
     ]
    }
   ],
   "source": [
    "!pip install PyDrive"
   ]
  },
  {
   "cell_type": "code",
   "execution_count": 4,
   "metadata": {
    "colab": {
     "base_uri": "https://localhost:8080/",
     "height": 53
    },
    "colab_type": "code",
    "id": "OdaHCMv2rGKs",
    "outputId": "a6c32146-9f57-43c4-d899-b54086d68c03"
   },
   "outputs": [
    {
     "name": "stderr",
     "output_type": "stream",
     "text": [
      "Using TensorFlow backend.\n"
     ]
    },
    {
     "name": "stdout",
     "output_type": "stream",
     "text": [
      "1.12.0\n"
     ]
    }
   ],
   "source": [
    "import os\n",
    "import tensorflow as tf\n",
    "from tensorflow import keras\n",
    "import numpy as np\n",
    "import urllib.request\n",
    "import pandas as pd\n",
    "from gensim.test.utils import common_texts, get_tmpfile\n",
    "from gensim.utils import simple_preprocess\n",
    "from gensim.models import Word2Vec\n",
    "from tempfile import gettempdir\n",
    "import zipfile\n",
    "from keras.preprocessing.text import Tokenizer\n",
    "from keras.preprocessing.sequence import pad_sequences\n",
    "from keras.utils import to_categorical\n",
    "from pydrive.auth import GoogleAuth\n",
    "from pydrive.drive import GoogleDrive\n",
    "from google.colab import auth\n",
    "from oauth2client.client import GoogleCredentials\n",
    "from sklearn.model_selection import train_test_split\n",
    "from sklearn.metrics import confusion_matrix, precision_recall_fscore_support, accuracy_score\n",
    "import matplotlib.pyplot as plt\n",
    "import seaborn as sns\n",
    "\n",
    "print(tf.__version__)"
   ]
  },
  {
   "cell_type": "code",
   "execution_count": 0,
   "metadata": {
    "colab": {},
    "colab_type": "code",
    "id": "VMhX1N2k4SgY"
   },
   "outputs": [],
   "source": [
    "# 1. Authenticate and create the PyDrive client.\n",
    "auth.authenticate_user()\n",
    "gauth = GoogleAuth()\n",
    "gauth.credentials = GoogleCredentials.get_application_default()\n",
    "drive = GoogleDrive(gauth)"
   ]
  },
  {
   "cell_type": "code",
   "execution_count": 0,
   "metadata": {
    "colab": {},
    "colab_type": "code",
    "id": "6FJlfk614hrw"
   },
   "outputs": [],
   "source": [
    "# download google drive file\n",
    "def download_drive_file(drive_directory, filename):\n",
    "  list_file_query = \"title='{}' and trashed=false\".format(drive_directory)\n",
    "  file_list = drive.ListFile({'q': list_file_query}).GetList()\n",
    "\n",
    "  if len(file_list) > 0:\n",
    "    directory_id = file_list[0]['id']\n",
    "\n",
    "    list_file_query = \"'{}' in parents\".format(directory_id)\n",
    "\n",
    "    file_list = drive.ListFile({'q': list_file_query}).GetList()\n",
    "    \n",
    "    file_id = None\n",
    "    for file1 in file_list:\n",
    "      if file1['title'] == filename:\n",
    "        print(\"downloading file {}\".format(file1['title']))\n",
    "        file1.GetContentFile(file1['title'])"
   ]
  },
  {
   "cell_type": "code",
   "execution_count": 0,
   "metadata": {
    "colab": {},
    "colab_type": "code",
    "id": "2KRH2n6dEvz3"
   },
   "outputs": [],
   "source": [
    "# upload google drive file\n",
    "def upload_drive_file(drive_directory, filename):\n",
    "  list_file_query = \"title='{}' and trashed=false\".format(drive_directory)\n",
    "  file_list = drive.ListFile({'q': list_file_query}).GetList()\n",
    "\n",
    "  if len(file_list) > 0:\n",
    "    directory_id = file_list[0]['id']\n",
    "    file = drive.CreateFile({\n",
    "        'title': filename, \n",
    "        \"parents\": [{\"kind\": \"drive#fileLink\",\"id\": directory_id}]\n",
    "    })\n",
    "    file.SetContentFile(filename)\n",
    "    file.Upload()"
   ]
  },
  {
   "cell_type": "code",
   "execution_count": 0,
   "metadata": {
    "colab": {},
    "colab_type": "code",
    "id": "zFoyaJyBEyOZ"
   },
   "outputs": [],
   "source": [
    "def save_numpy_array(numpy_array, filename):\n",
    "  np.save(filename, numpy_array)\n",
    "  \n",
    "def save_n_upload_numpy_array(numpy_array, drive_directory, filename):\n",
    "  save_numpy_array(numpy_array, filename)\n",
    "  upload_drive_file(drive_directory, filename)"
   ]
  },
  {
   "cell_type": "code",
   "execution_count": 0,
   "metadata": {
    "colab": {},
    "colab_type": "code",
    "id": "oBynQmEcrNAy"
   },
   "outputs": [],
   "source": [
    "class EmoIntDataset(object):\n",
    "  BASE_URL = \"http://saifmohammad.com/WebDocs/\"\n",
    "  TRAIN_URI = \"EmoInt%20Train%20Data/{}-ratings-0to1.train.txt\"\n",
    "  TEST_URI = \"EmoInt%20Test%20Gold%20Data/{}-ratings-0to1.test.gold.txt\"\n",
    "  EMOTION_CLASSES = [\"anger\", \"fear\", \"joy\", \"sadness\"]\n",
    "  \n",
    "  THRESHOLD = 0.33\n",
    "  \n",
    "  def __load_data_per_class(self, url, threshold=0):\n",
    "    resource = urllib.request.urlopen(url)\n",
    "    np_array = np.asarray([line.split('\\t') for line in [line.strip() for line in resource.read().decode('utf-8').splitlines()]])\n",
    "    df = pd.DataFrame(np_array, columns=[\"id\", \"text\", \"emotion\", \"emotion_level\"])\n",
    "    df['emotion_level'] = df['emotion_level'].astype(float)\n",
    "    df = df.query('emotion_level>' + str(threshold))\n",
    "    return df[[\"text\", \"emotion\"]]\n",
    "  \n",
    "  def load_data(self, set_threshold=False):\n",
    "    train_data = None\n",
    "    test_data = None\n",
    "    \n",
    "    for emotion in self.EMOTION_CLASSES:\n",
    "      # load train dataset\n",
    "      train_df = self.__load_data_per_class(self.BASE_URL + self.TRAIN_URI.format(emotion), threshold=(self.THRESHOLD if set_threshold else 0))\n",
    "      \n",
    "      # load test dataset\n",
    "      test_df = self.__load_data_per_class(self.BASE_URL + self.TEST_URI.format(emotion), threshold=(self.THRESHOLD if set_threshold else 0))\n",
    "      \n",
    "      train_data = (train_df if train_data is None else train_data.append(train_df))\n",
    "      test_data = (test_df if test_data is None else test_data.append(test_df))\n",
    "      \n",
    "    return train_data, test_data"
   ]
  },
  {
   "cell_type": "code",
   "execution_count": 10,
   "metadata": {
    "colab": {
     "base_uri": "https://localhost:8080/",
     "height": 71
    },
    "colab_type": "code",
    "id": "tevwfq4Tu6fe",
    "outputId": "7dca7e3c-6c27-4659-f874-c1dfae39da3d"
   },
   "outputs": [
    {
     "name": "stdout",
     "output_type": "stream",
     "text": [
      "(2610, 2)\n",
      "(291, 2)\n",
      "(2508, 2)\n"
     ]
    }
   ],
   "source": [
    "emo_int_dataset = EmoIntDataset()\n",
    "train_data, test_data = emo_int_dataset.load_data(set_threshold=True)\n",
    "train_data, valid_data = train_test_split(train_data, test_size=0.1, random_state=200, stratify=train_data.emotion)\n",
    "\n",
    "print(train_data.shape)\n",
    "print(valid_data.shape)\n",
    "print(test_data.shape)"
   ]
  },
  {
   "cell_type": "code",
   "execution_count": 11,
   "metadata": {
    "colab": {
     "base_uri": "https://localhost:8080/",
     "height": 53
    },
    "colab_type": "code",
    "id": "J-xXkD_4175U",
    "outputId": "81f7f45e-0121-495b-9684-6fbc7f066306"
   },
   "outputs": [
    {
     "name": "stdout",
     "output_type": "stream",
     "text": [
      "{'fear': 0, 'anger': 1, 'sadness': 2, 'joy': 3}\n",
      "['fear', 'anger', 'sadness', 'joy']\n"
     ]
    }
   ],
   "source": [
    "emotions = train_data.emotion.unique()\n",
    "dic = dict()\n",
    "labels = []\n",
    "for i, emotion in enumerate(emotions):\n",
    "    dic[emotion]=i\n",
    "    labels.append(emotion)\n",
    "print(dic)\n",
    "print(labels)"
   ]
  },
  {
   "cell_type": "code",
   "execution_count": 12,
   "metadata": {
    "colab": {
     "base_uri": "https://localhost:8080/",
     "height": 35
    },
    "colab_type": "code",
    "id": "yhA_GXLyw1gx",
    "outputId": "c21a2758-550f-474e-a5d0-f79a27137bbe"
   },
   "outputs": [
    {
     "name": "stdout",
     "output_type": "stream",
     "text": [
      "Found 8672 unique tokens.\n"
     ]
    }
   ],
   "source": [
    "NUM_WORDS=20000\n",
    "texts = train_data.text\n",
    "tokenizer = Tokenizer(num_words=NUM_WORDS,filters='!\"#$%&()*+,-./:;<=>?@[\\\\]^_`{|}~\\t\\n\\'',\n",
    "                      lower=True)\n",
    "tokenizer.fit_on_texts(texts)\n",
    "sequences_train = tokenizer.texts_to_sequences(texts)\n",
    "sequences_valid = tokenizer.texts_to_sequences(valid_data.text)\n",
    "sequences_test = tokenizer.texts_to_sequences(test_data.text)\n",
    "word_index = tokenizer.word_index\n",
    "print('Found %s unique tokens.' % len(word_index))"
   ]
  },
  {
   "cell_type": "code",
   "execution_count": 13,
   "metadata": {
    "colab": {
     "base_uri": "https://localhost:8080/",
     "height": 53
    },
    "colab_type": "code",
    "id": "f3a8LX2z0Vn3",
    "outputId": "1a8a433e-413b-446e-b34c-ea64855c3883"
   },
   "outputs": [
    {
     "name": "stdout",
     "output_type": "stream",
     "text": [
      "Shape of X train, validation and test tensor: (2610, 33) (291, 33) (2508, 33)\n",
      "Shape of label train, validation and test tensor: (2610, 4) (291, 4) (2508, 4)\n"
     ]
    }
   ],
   "source": [
    "X_train = pad_sequences(sequences_train)\n",
    "X_val = pad_sequences(sequences_valid, maxlen=X_train.shape[1])\n",
    "X_test = pad_sequences(sequences_test, maxlen=X_train.shape[1])\n",
    "\n",
    "y_train = to_categorical(np.asarray(train_data.emotion.apply(lambda x:dic[x])))\n",
    "y_val = to_categorical(np.asarray(valid_data.emotion.apply(lambda x:dic[x])))\n",
    "y_test = to_categorical(np.asarray(test_data.emotion.apply(lambda x:dic[x])))\n",
    "\n",
    "print('Shape of X train, validation and test tensor:', X_train.shape, X_val.shape, X_test.shape)\n",
    "print('Shape of label train, validation and test tensor:', y_train.shape, y_val.shape, y_test.shape)"
   ]
  },
  {
   "cell_type": "markdown",
   "metadata": {
    "colab_type": "text",
    "id": "N4q9A3OxzeiE"
   },
   "source": [
    "## Word Embedding using Glove"
   ]
  },
  {
   "cell_type": "code",
   "execution_count": 1,
   "metadata": {
    "colab": {
     "base_uri": "https://localhost:8080/",
     "height": 35
    },
    "colab_type": "code",
    "id": "tOxJk--6zslB",
    "outputId": "e294b924-d06b-4e31-9aa9-9d4d76573c79"
   },
   "outputs": [
    {
     "data": {
      "text/plain": [
       "1520408563"
      ]
     },
     "execution_count": 1,
     "metadata": {
      "tags": []
     },
     "output_type": "execute_result"
    }
   ],
   "source": [
    "import requests\n",
    "\n",
    "url = 'http://nlp.stanford.edu/data/glove.twitter.27B.zip'\n",
    "r = requests.get(url, allow_redirects=True)\n",
    "open('glove.twitter.27B.zip', 'wb').write(r.content)"
   ]
  },
  {
   "cell_type": "code",
   "execution_count": 3,
   "metadata": {
    "colab": {
     "base_uri": "https://localhost:8080/",
     "height": 323
    },
    "colab_type": "code",
    "id": "WPzDX7qc6eQx",
    "outputId": "3792909e-396c-471c-93d3-e20daad48714"
   },
   "outputs": [
    {
     "name": "stdout",
     "output_type": "stream",
     "text": [
      "total 1579936\n",
      "-rw-r--r-- 1 root root       2530 Dec 18 02:30 adc.json\n",
      "drwxr-xr-x 1 root root       4096 Dec 18 02:30 .config\n",
      "-rw-r--r-- 1 root root   27645944 Dec 18 03:37 emoint_convnet_lstm_model.h5\n",
      "-rw-r--r-- 1 root root   13834864 Dec 18 03:37 emoint_convnet_lstm_weights.h5\n",
      "-rw-r--r-- 1 root root   20815328 Dec 18 02:54 emoint_embedded_matrix_word2vec.npy\n",
      "-rw-r--r-- 1 root root   22860648 Dec 18 03:27 emoint_lstm_model.h5\n",
      "-rw-r--r-- 1 root root   11438184 Dec 18 03:27 emoint_lstm_weights.h5\n",
      "-rw-r--r-- 1 root root     331184 Dec 18 02:55 emoint_X_test.npy\n",
      "-rw-r--r-- 1 root root     344648 Dec 18 02:54 emoint_X_train.npy\n",
      "-rw-r--r-- 1 root root      38540 Dec 18 02:54 emoint_X_val.npy\n",
      "-rw-r--r-- 1 root root      40256 Dec 18 02:55 emoint_y_test.npy\n",
      "-rw-r--r-- 1 root root      41888 Dec 18 02:55 emoint_y_train.npy\n",
      "-rw-r--r-- 1 root root       4784 Dec 18 02:55 emoint_y_val.npy\n",
      "-rw-r--r-- 1 root root 1520408563 Dec 18 05:51 glove.twitter.27B.zip\n",
      "drwxr-xr-x 1 root root       4096 Dec 10 17:34 sample_data\n",
      "drwxr-xr-x 2 root root       4096 Dec 18 03:37 tmp\n"
     ]
    }
   ],
   "source": [
    "!ls -lA"
   ]
  },
  {
   "cell_type": "code",
   "execution_count": 14,
   "metadata": {
    "colab": {
     "base_uri": "https://localhost:8080/",
     "height": 107
    },
    "colab_type": "code",
    "id": "yxFrLaUg4KAS",
    "outputId": "960b6d37-1a27-405e-f5c1-9005b8338cad"
   },
   "outputs": [
    {
     "name": "stdout",
     "output_type": "stream",
     "text": [
      "Archive:  glove.twitter.27B.zip\n",
      "  inflating: glove.twitter.27B.25d.txt  \n",
      "  inflating: glove.twitter.27B.50d.txt  \n",
      "  inflating: glove.twitter.27B.100d.txt  \n",
      "  inflating: glove.twitter.27B.200d.txt  \n"
     ]
    }
   ],
   "source": [
    "!unzip glove.twitter.27B.zip"
   ]
  },
  {
   "cell_type": "markdown",
   "metadata": {
    "colab_type": "text",
    "id": "XRwQoQPO4ff_"
   },
   "source": [
    "### Convert Glove.Twitter to Word2Vec"
   ]
  },
  {
   "cell_type": "code",
   "execution_count": 18,
   "metadata": {
    "colab": {
     "base_uri": "https://localhost:8080/",
     "height": 35
    },
    "colab_type": "code",
    "id": "7jPsgQs24e7e",
    "outputId": "b5aba77e-7b1d-4487-fe99-f72f5c1a8e86"
   },
   "outputs": [
    {
     "data": {
      "text/plain": [
       "(1193514, 200)"
      ]
     },
     "execution_count": 18,
     "metadata": {
      "tags": []
     },
     "output_type": "execute_result"
    }
   ],
   "source": [
    "from gensim.test.utils import datapath, get_tmpfile\n",
    "from gensim.scripts.glove2word2vec import glove2word2vec\n",
    "\n",
    "glove_file = 'glove.twitter.27B.200d.txt'\n",
    "tmp_glove_file = \"word2vec.twitter.27B.200d.txt\"\n",
    "\n",
    "glove2word2vec(glove_file, tmp_glove_file)"
   ]
  },
  {
   "cell_type": "code",
   "execution_count": 19,
   "metadata": {
    "colab": {
     "base_uri": "https://localhost:8080/",
     "height": 413
    },
    "colab_type": "code",
    "id": "smHAkYUV5_92",
    "outputId": "375ea4ff-9b22-4c7d-d8c6-fced560c8da8"
   },
   "outputs": [
    {
     "name": "stdout",
     "output_type": "stream",
     "text": [
      "total 7346988\n",
      "-rw-r--r-- 1 root root       2530 Dec 18 02:30 adc.json\n",
      "drwxr-xr-x 1 root root       4096 Dec 18 02:30 .config\n",
      "-rw-r--r-- 1 root root   27645944 Dec 18 03:37 emoint_convnet_lstm_model.h5\n",
      "-rw-r--r-- 1 root root   13834864 Dec 18 03:37 emoint_convnet_lstm_weights.h5\n",
      "-rw-r--r-- 1 root root   20815328 Dec 18 02:54 emoint_embedded_matrix_word2vec.npy\n",
      "-rw-r--r-- 1 root root   22860648 Dec 18 03:27 emoint_lstm_model.h5\n",
      "-rw-r--r-- 1 root root   11438184 Dec 18 03:27 emoint_lstm_weights.h5\n",
      "-rw-r--r-- 1 root root     331184 Dec 18 02:55 emoint_X_test.npy\n",
      "-rw-r--r-- 1 root root     344648 Dec 18 02:54 emoint_X_train.npy\n",
      "-rw-r--r-- 1 root root      38540 Dec 18 02:54 emoint_X_val.npy\n",
      "-rw-r--r-- 1 root root      40256 Dec 18 02:55 emoint_y_test.npy\n",
      "-rw-r--r-- 1 root root      41888 Dec 18 02:55 emoint_y_train.npy\n",
      "-rw-r--r-- 1 root root       4784 Dec 18 02:55 emoint_y_val.npy\n",
      "-rw-rw-r-- 1 root root 1021669379 Aug 14  2014 glove.twitter.27B.100d.txt\n",
      "-rw-rw-r-- 1 root root 2057590469 Aug 14  2014 glove.twitter.27B.200d.txt\n",
      "-r--r--r-- 1 root root  257699726 Aug 14  2014 glove.twitter.27B.25d.txt\n",
      "-rw-rw-r-- 1 root root  510887943 Aug 14  2014 glove.twitter.27B.50d.txt\n",
      "-rw-r--r-- 1 root root 1520408563 Dec 18 05:51 glove.twitter.27B.zip\n",
      "drwxr-xr-x 1 root root       4096 Dec 10 17:34 sample_data\n",
      "drwxr-xr-x 2 root root       4096 Dec 18 03:37 tmp\n",
      "-rw-r--r-- 1 root root 2057590481 Dec 18 06:02 word2vec.twitter.27B.200d.txt\n"
     ]
    }
   ],
   "source": [
    "!ls -lA"
   ]
  },
  {
   "cell_type": "code",
   "execution_count": 0,
   "metadata": {
    "colab": {},
    "colab_type": "code",
    "id": "naD_jPLlmlFq"
   },
   "outputs": [],
   "source": [
    "import gensim\n",
    "from gensim.models import Word2Vec\n",
    "from gensim.utils import simple_preprocess\n",
    "\n",
    "from gensim.models.keyedvectors import KeyedVectors\n",
    "\n",
    "word_vectors = KeyedVectors.load_word2vec_format('word2vec.twitter.27B.200d.txt', binary=False)\n",
    "\n",
    "EMBEDDING_DIM=200\n",
    "vocabulary_size = min(len(word_index)+1, NUM_WORDS)\n",
    "embedding_matrix = np.zeros((vocabulary_size, EMBEDDING_DIM))\n",
    "for word, i in word_index.items():\n",
    "    if i>=NUM_WORDS:\n",
    "        continue\n",
    "    try:\n",
    "        embedding_vector = word_vectors[word]\n",
    "        embedding_matrix[i] = embedding_vector\n",
    "    except KeyError:\n",
    "        embedding_matrix[i] = np.random.normal(0,np.sqrt(0.25), EMBEDDING_DIM)\n",
    "\n",
    "del(word_vectors)\n",
    "\n",
    "from keras.layers import Embedding\n",
    "embedding_layer = Embedding(vocabulary_size, EMBEDDING_DIM, weights=[embedding_matrix], trainable=True)"
   ]
  },
  {
   "cell_type": "code",
   "execution_count": 0,
   "metadata": {
    "colab": {},
    "colab_type": "code",
    "id": "qzQMMT8y6QXe"
   },
   "outputs": [],
   "source": [
    "file_embedded_matrix = \"emoint_embedded_matrix_glove_twitter.npy\"\n",
    "save_n_upload_numpy_array(embedding_matrix, \"Colab Notebooks\", file_embedded_matrix)"
   ]
  },
  {
   "cell_type": "code",
   "execution_count": 0,
   "metadata": {
    "colab": {},
    "colab_type": "code",
    "id": "zyVX5mGS6fxn"
   },
   "outputs": [],
   "source": [
    "save_n_upload_numpy_array(X_train, \"Colab Notebooks\", \"emoint_X_train.npy\")\n",
    "save_n_upload_numpy_array(X_val, \"Colab Notebooks\", \"emoint_X_val.npy\")\n",
    "save_n_upload_numpy_array(X_test, \"Colab Notebooks\", \"emoint_X_test.npy\")\n",
    "\n",
    "save_n_upload_numpy_array(y_train, \"Colab Notebooks\", \"emoint_y_train.npy\")\n",
    "save_n_upload_numpy_array(y_val, \"Colab Notebooks\", \"emoint_y_val.npy\")\n",
    "save_n_upload_numpy_array(y_test, \"Colab Notebooks\", \"emoint_y_test.npy\")"
   ]
  },
  {
   "cell_type": "markdown",
   "metadata": {
    "colab_type": "text",
    "id": "5H1f3UbhE329"
   },
   "source": [
    "## Reload embedding layer and training dataset"
   ]
  },
  {
   "cell_type": "code",
   "execution_count": 23,
   "metadata": {
    "colab": {
     "base_uri": "https://localhost:8080/",
     "height": 53
    },
    "colab_type": "code",
    "id": "W_ksCjVeE3a2",
    "outputId": "eff65890-193d-4c06-98e3-85b0b47d9570"
   },
   "outputs": [
    {
     "name": "stdout",
     "output_type": "stream",
     "text": [
      "downloading file emoint_embedded_matrix_glove_twitter.npy\n",
      "embedding matrix shape: (8673, 200)\n"
     ]
    }
   ],
   "source": [
    "file_embedded_matrix = \"emoint_embedded_matrix_glove_twitter.npy\"\n",
    "download_drive_file(\"Colab Notebooks\", file_embedded_matrix)\n",
    "embedding_matrix = np.load(file_embedded_matrix)\n",
    "print(\"embedding matrix shape:\", embedding_matrix.shape)"
   ]
  },
  {
   "cell_type": "code",
   "execution_count": 24,
   "metadata": {
    "colab": {
     "base_uri": "https://localhost:8080/",
     "height": 179
    },
    "colab_type": "code",
    "id": "FGZlNGwuE73I",
    "outputId": "6d258001-28b8-4a91-e94d-23b4b3495bfd"
   },
   "outputs": [
    {
     "name": "stdout",
     "output_type": "stream",
     "text": [
      "downloading file emoint_X_train.npy\n",
      "downloading file emoint_X_train.npy\n",
      "downloading file emoint_X_val.npy\n",
      "downloading file emoint_X_val.npy\n",
      "downloading file emoint_X_test.npy\n",
      "downloading file emoint_X_test.npy\n",
      "downloading file emoint_y_train.npy\n",
      "downloading file emoint_y_val.npy\n",
      "downloading file emoint_y_test.npy\n"
     ]
    }
   ],
   "source": [
    "download_drive_file(\"Colab Notebooks\", \"emoint_X_train.npy\")\n",
    "download_drive_file(\"Colab Notebooks\", \"emoint_X_val.npy\")\n",
    "download_drive_file(\"Colab Notebooks\", \"emoint_X_test.npy\")\n",
    "\n",
    "download_drive_file(\"Colab Notebooks\", \"emoint_y_train.npy\")\n",
    "download_drive_file(\"Colab Notebooks\", \"emoint_y_val.npy\")\n",
    "download_drive_file(\"Colab Notebooks\", \"emoint_y_test.npy\")\n",
    "\n",
    "X_train = np.load(\"emoint_X_train.npy\")\n",
    "X_val = np.load(\"emoint_X_val.npy\")\n",
    "X_test = np.load(\"emoint_X_test.npy\")\n",
    "\n",
    "y_train = np.load(\"emoint_y_train.npy\")\n",
    "y_val = np.load(\"emoint_y_val.npy\")\n",
    "y_test = np.load(\"emoint_y_test.npy\")"
   ]
  },
  {
   "cell_type": "code",
   "execution_count": 25,
   "metadata": {
    "colab": {
     "base_uri": "https://localhost:8080/",
     "height": 665
    },
    "colab_type": "code",
    "id": "Q0fX0z7_7Mi5",
    "outputId": "8e599141-c7dd-4e68-e1ea-31fed91a551b"
   },
   "outputs": [
    {
     "name": "stdout",
     "output_type": "stream",
     "text": [
      "33\n",
      "__________________________________________________________________________________________________\n",
      "Layer (type)                    Output Shape         Param #     Connected to                     \n",
      "==================================================================================================\n",
      "input_1 (InputLayer)            (None, 33)           0                                            \n",
      "__________________________________________________________________________________________________\n",
      "embedding (Embedding)           (None, 33, 200)      1734600     input_1[0][0]                    \n",
      "__________________________________________________________________________________________________\n",
      "reshape_1 (Reshape)             (None, 33, 200, 1)   0           embedding[0][0]                  \n",
      "__________________________________________________________________________________________________\n",
      "conv_1 (Conv2D)                 (None, 31, 1, 100)   60100       reshape_1[0][0]                  \n",
      "__________________________________________________________________________________________________\n",
      "conv_2 (Conv2D)                 (None, 30, 1, 100)   80100       reshape_1[0][0]                  \n",
      "__________________________________________________________________________________________________\n",
      "conv_3 (Conv2D)                 (None, 29, 1, 100)   100100      reshape_1[0][0]                  \n",
      "__________________________________________________________________________________________________\n",
      "maxpool_1 (MaxPooling2D)        (None, 1, 1, 100)    0           conv_1[0][0]                     \n",
      "__________________________________________________________________________________________________\n",
      "maxpool_2 (MaxPooling2D)        (None, 1, 1, 100)    0           conv_2[0][0]                     \n",
      "__________________________________________________________________________________________________\n",
      "maxpool_3 (MaxPooling2D)        (None, 1, 1, 100)    0           conv_3[0][0]                     \n",
      "__________________________________________________________________________________________________\n",
      "concatenate_1 (Concatenate)     (None, 3, 1, 100)    0           maxpool_1[0][0]                  \n",
      "                                                                 maxpool_2[0][0]                  \n",
      "                                                                 maxpool_3[0][0]                  \n",
      "__________________________________________________________________________________________________\n",
      "flatten_1 (Flatten)             (None, 300)          0           concatenate_1[0][0]              \n",
      "__________________________________________________________________________________________________\n",
      "dropout_1 (Dropout)             (None, 300)          0           flatten_1[0][0]                  \n",
      "__________________________________________________________________________________________________\n",
      "dense_1 (Dense)                 (None, 4)            1204        dropout_1[0][0]                  \n",
      "==================================================================================================\n",
      "Total params: 1,976,104\n",
      "Trainable params: 1,976,104\n",
      "Non-trainable params: 0\n",
      "__________________________________________________________________________________________________\n"
     ]
    }
   ],
   "source": [
    "from keras.layers import Dense, Input, GlobalMaxPooling1D\n",
    "from keras.layers import Conv1D, MaxPooling1D, Embedding\n",
    "from keras.models import Model\n",
    "from keras.layers import Input, Dense, Embedding, Conv2D, MaxPooling2D, Dropout, concatenate, LSTM\n",
    "from keras.layers.core import Reshape, Flatten\n",
    "from keras.callbacks import EarlyStopping, ModelCheckpoint\n",
    "from keras.optimizers import Adam, Adadelta, RMSprop\n",
    "from keras.models import Model\n",
    "from keras import regularizers\n",
    "sequence_length = X_train.shape[1]\n",
    "filter_sizes = [3,4,5]\n",
    "num_filters = 100\n",
    "drop_rate = 0.5\n",
    "vocabulary_size = 8673\n",
    "EMBEDDING_DIM=200\n",
    "\n",
    "print(sequence_length)\n",
    "\n",
    "inputs = Input(shape=(sequence_length,), name='input_1')\n",
    "embedding_layer = Embedding(vocabulary_size, EMBEDDING_DIM, weights=[embedding_matrix], input_length=sequence_length, trainable=True, name='embedding')\n",
    "embedding = embedding_layer(inputs)\n",
    "reshape = Reshape((sequence_length, EMBEDDING_DIM, 1), name='reshape_1')(embedding)\n",
    "\n",
    "conv_1 = Conv2D(num_filters, (filter_sizes[0], EMBEDDING_DIM), activation='relu',kernel_regularizer=regularizers.l2(0.01), name='conv_1')(reshape)\n",
    "conv_2 = Conv2D(num_filters, (filter_sizes[1], EMBEDDING_DIM), activation='relu',kernel_regularizer=regularizers.l2(0.01), name='conv_2')(reshape)\n",
    "conv_3 = Conv2D(num_filters, (filter_sizes[2], EMBEDDING_DIM), activation='relu',kernel_regularizer=regularizers.l2(0.01), name='conv_3')(reshape)\n",
    "\n",
    "maxpool_1 = MaxPooling2D((sequence_length - filter_sizes[0] + 1, 1), strides=1, name='maxpool_1')(conv_1)\n",
    "maxpool_2 = MaxPooling2D((sequence_length - filter_sizes[1] + 1, 1), strides=1, name='maxpool_2')(conv_2)\n",
    "maxpool_3 = MaxPooling2D((sequence_length - filter_sizes[2] + 1, 1), strides=1, name='maxpool_3')(conv_3)\n",
    "\n",
    "merged_tensor = concatenate([maxpool_1, maxpool_2, maxpool_3], axis=1, name='concatenate_1')\n",
    "flatten = Flatten()(merged_tensor)\n",
    "dropout = Dropout(drop_rate, name='dropout_1')(flatten)\n",
    "output = Dense(units=4, activation='softmax',kernel_regularizer=regularizers.l2(0.01), name='dense_1')(dropout)\n",
    "\n",
    "model = None \n",
    "\n",
    "# this creates a model that includes\n",
    "model = Model(inputs, output)\n",
    "\n",
    "model.summary()"
   ]
  },
  {
   "cell_type": "code",
   "execution_count": 26,
   "metadata": {
    "colab": {
     "base_uri": "https://localhost:8080/",
     "height": 431
    },
    "colab_type": "code",
    "id": "rClQ6sed4JA5",
    "outputId": "cd906e43-0fa6-4913-eec9-5fd22c223153"
   },
   "outputs": [
    {
     "name": "stdout",
     "output_type": "stream",
     "text": [
      "total 7360540\n",
      "-rw-r--r-- 1 root root       2530 Dec 18 02:30 adc.json\n",
      "drwxr-xr-x 1 root root       4096 Dec 18 02:30 .config\n",
      "-rw-r--r-- 1 root root   27645944 Dec 18 03:37 emoint_convnet_lstm_model.h5\n",
      "-rw-r--r-- 1 root root   13834864 Dec 18 03:37 emoint_convnet_lstm_weights.h5\n",
      "-rw-r--r-- 1 root root   13876928 Dec 18 06:07 emoint_embedded_matrix_glove_twitter.npy\n",
      "-rw-r--r-- 1 root root   20815328 Dec 18 02:54 emoint_embedded_matrix_word2vec.npy\n",
      "-rw-r--r-- 1 root root   22860648 Dec 18 03:27 emoint_lstm_model.h5\n",
      "-rw-r--r-- 1 root root   11438184 Dec 18 03:27 emoint_lstm_weights.h5\n",
      "-rw-r--r-- 1 root root     331184 Dec 18 06:08 emoint_X_test.npy\n",
      "-rw-r--r-- 1 root root     344648 Dec 18 06:08 emoint_X_train.npy\n",
      "-rw-r--r-- 1 root root      38540 Dec 18 06:08 emoint_X_val.npy\n",
      "-rw-r--r-- 1 root root      40256 Dec 18 06:09 emoint_y_test.npy\n",
      "-rw-r--r-- 1 root root      41888 Dec 18 06:08 emoint_y_train.npy\n",
      "-rw-r--r-- 1 root root       4784 Dec 18 06:08 emoint_y_val.npy\n",
      "-rw-rw-r-- 1 root root 1021669379 Aug 14  2014 glove.twitter.27B.100d.txt\n",
      "-rw-rw-r-- 1 root root 2057590469 Aug 14  2014 glove.twitter.27B.200d.txt\n",
      "-r--r--r-- 1 root root  257699726 Aug 14  2014 glove.twitter.27B.25d.txt\n",
      "-rw-rw-r-- 1 root root  510887943 Aug 14  2014 glove.twitter.27B.50d.txt\n",
      "-rw-r--r-- 1 root root 1520408563 Dec 18 05:51 glove.twitter.27B.zip\n",
      "drwxr-xr-x 1 root root       4096 Dec 10 17:34 sample_data\n",
      "drwxr-xr-x 2 root root       4096 Dec 18 06:09 tmp\n",
      "-rw-r--r-- 1 root root 2057590481 Dec 18 06:02 word2vec.twitter.27B.200d.txt\n"
     ]
    }
   ],
   "source": [
    "!rm -r tmp\n",
    "!mkdir tmp\n",
    "!ls -lA"
   ]
  },
  {
   "cell_type": "markdown",
   "metadata": {
    "colab_type": "text",
    "id": "8yp4WKi-FM_m"
   },
   "source": [
    "## Two-steps training"
   ]
  },
  {
   "cell_type": "code",
   "execution_count": 28,
   "metadata": {
    "colab": {
     "base_uri": "https://localhost:8080/",
     "height": 7235
    },
    "colab_type": "code",
    "id": "HHZ1POD77GRp",
    "outputId": "f8103b9f-c4fc-4480-9880-45dad5da7df2"
   },
   "outputs": [
    {
     "name": "stdout",
     "output_type": "stream",
     "text": [
      "Train on 2610 samples, validate on 291 samples\n",
      "Epoch 1/100\n",
      "2610/2610 [==============================] - 1s 335us/step - loss: 0.8164 - acc: 0.8180 - val_loss: 0.8111 - val_acc: 0.8110\n",
      "\n",
      "Epoch 00001: val_acc improved from -inf to 0.81100, saving model to tmp/weights-01-0.81.hdf5\n",
      "Epoch 2/100\n",
      "2610/2610 [==============================] - 0s 119us/step - loss: 0.5865 - acc: 0.9490 - val_loss: 0.7642 - val_acc: 0.8282\n",
      "\n",
      "Epoch 00002: val_acc improved from 0.81100 to 0.82818, saving model to tmp/weights-02-0.83.hdf5\n",
      "Epoch 3/100\n",
      "2610/2610 [==============================] - 0s 110us/step - loss: 0.5568 - acc: 0.9441 - val_loss: 0.7510 - val_acc: 0.8351\n",
      "\n",
      "Epoch 00003: val_acc improved from 0.82818 to 0.83505, saving model to tmp/weights-03-0.84.hdf5\n",
      "Epoch 4/100\n",
      "2610/2610 [==============================] - 0s 103us/step - loss: 0.5159 - acc: 0.9602 - val_loss: 0.7112 - val_acc: 0.8247\n",
      "\n",
      "Epoch 00004: val_acc did not improve from 0.83505\n",
      "Epoch 5/100\n",
      "2610/2610 [==============================] - 0s 106us/step - loss: 0.4802 - acc: 0.9663 - val_loss: 0.6949 - val_acc: 0.8316\n",
      "\n",
      "Epoch 00005: val_acc did not improve from 0.83505\n",
      "Epoch 6/100\n",
      "2610/2610 [==============================] - 0s 106us/step - loss: 0.4732 - acc: 0.9693 - val_loss: 0.6911 - val_acc: 0.8247\n",
      "\n",
      "Epoch 00006: val_acc did not improve from 0.83505\n",
      "Epoch 7/100\n",
      "2610/2610 [==============================] - 0s 105us/step - loss: 0.4502 - acc: 0.9747 - val_loss: 0.6755 - val_acc: 0.8419\n",
      "\n",
      "Epoch 00007: val_acc improved from 0.83505 to 0.84192, saving model to tmp/weights-07-0.84.hdf5\n",
      "Epoch 8/100\n",
      "2610/2610 [==============================] - 0s 104us/step - loss: 0.4533 - acc: 0.9709 - val_loss: 0.6785 - val_acc: 0.8351\n",
      "\n",
      "Epoch 00008: val_acc did not improve from 0.84192\n",
      "Epoch 9/100\n",
      "2610/2610 [==============================] - 0s 106us/step - loss: 0.4274 - acc: 0.9736 - val_loss: 0.6521 - val_acc: 0.8488\n",
      "\n",
      "Epoch 00009: val_acc improved from 0.84192 to 0.84880, saving model to tmp/weights-09-0.85.hdf5\n",
      "Epoch 10/100\n",
      "2610/2610 [==============================] - 0s 108us/step - loss: 0.4157 - acc: 0.9774 - val_loss: 0.6384 - val_acc: 0.8419\n",
      "\n",
      "Epoch 00010: val_acc did not improve from 0.84880\n",
      "Epoch 11/100\n",
      "2610/2610 [==============================] - 0s 106us/step - loss: 0.3943 - acc: 0.9812 - val_loss: 0.6402 - val_acc: 0.8557\n",
      "\n",
      "Epoch 00011: val_acc improved from 0.84880 to 0.85567, saving model to tmp/weights-11-0.86.hdf5\n",
      "Epoch 12/100\n",
      "2610/2610 [==============================] - 0s 103us/step - loss: 0.3912 - acc: 0.9824 - val_loss: 0.6424 - val_acc: 0.8625\n",
      "\n",
      "Epoch 00012: val_acc improved from 0.85567 to 0.86254, saving model to tmp/weights-12-0.86.hdf5\n",
      "Epoch 13/100\n",
      "2610/2610 [==============================] - 0s 104us/step - loss: 0.3962 - acc: 0.9770 - val_loss: 0.6116 - val_acc: 0.8522\n",
      "\n",
      "Epoch 00013: val_acc did not improve from 0.86254\n",
      "Epoch 14/100\n",
      "2610/2610 [==============================] - 0s 106us/step - loss: 0.3814 - acc: 0.9789 - val_loss: 0.6200 - val_acc: 0.8694\n",
      "\n",
      "Epoch 00014: val_acc improved from 0.86254 to 0.86942, saving model to tmp/weights-14-0.87.hdf5\n",
      "Epoch 15/100\n",
      "2610/2610 [==============================] - 0s 103us/step - loss: 0.3696 - acc: 0.9805 - val_loss: 0.5934 - val_acc: 0.8591\n",
      "\n",
      "Epoch 00015: val_acc did not improve from 0.86942\n",
      "Epoch 16/100\n",
      "2610/2610 [==============================] - 0s 108us/step - loss: 0.3527 - acc: 0.9851 - val_loss: 0.6091 - val_acc: 0.8488\n",
      "\n",
      "Epoch 00016: val_acc did not improve from 0.86942\n",
      "Epoch 17/100\n",
      "2610/2610 [==============================] - 0s 103us/step - loss: 0.3800 - acc: 0.9736 - val_loss: 0.6612 - val_acc: 0.8522\n",
      "\n",
      "Epoch 00017: val_acc did not improve from 0.86942\n",
      "Epoch 18/100\n",
      "2610/2610 [==============================] - 0s 104us/step - loss: 0.3657 - acc: 0.9747 - val_loss: 0.5848 - val_acc: 0.8625\n",
      "\n",
      "Epoch 00018: val_acc did not improve from 0.86942\n",
      "Epoch 19/100\n",
      "2610/2610 [==============================] - 0s 107us/step - loss: 0.3394 - acc: 0.9831 - val_loss: 0.5758 - val_acc: 0.8660\n",
      "\n",
      "Epoch 00019: val_acc did not improve from 0.86942\n",
      "Epoch 20/100\n",
      "2610/2610 [==============================] - 0s 107us/step - loss: 0.3345 - acc: 0.9862 - val_loss: 0.5856 - val_acc: 0.8557\n",
      "\n",
      "Epoch 00020: val_acc did not improve from 0.86942\n",
      "Epoch 21/100\n",
      "2610/2610 [==============================] - 0s 105us/step - loss: 0.3357 - acc: 0.9820 - val_loss: 0.5865 - val_acc: 0.8522\n",
      "\n",
      "Epoch 00021: val_acc did not improve from 0.86942\n",
      "Epoch 22/100\n",
      "2610/2610 [==============================] - 0s 104us/step - loss: 0.3291 - acc: 0.9847 - val_loss: 0.5659 - val_acc: 0.8625\n",
      "\n",
      "Epoch 00022: val_acc did not improve from 0.86942\n",
      "Epoch 23/100\n",
      "2610/2610 [==============================] - 0s 107us/step - loss: 0.3163 - acc: 0.9835 - val_loss: 0.5584 - val_acc: 0.8694\n",
      "\n",
      "Epoch 00023: val_acc did not improve from 0.86942\n",
      "Epoch 24/100\n",
      "2610/2610 [==============================] - 0s 106us/step - loss: 0.3215 - acc: 0.9835 - val_loss: 0.5977 - val_acc: 0.8522\n",
      "\n",
      "Epoch 00024: val_acc did not improve from 0.86942\n",
      "Epoch 25/100\n",
      "2610/2610 [==============================] - 0s 104us/step - loss: 0.3437 - acc: 0.9747 - val_loss: 0.5757 - val_acc: 0.8488\n",
      "\n",
      "Epoch 00025: val_acc did not improve from 0.86942\n",
      "Epoch 26/100\n",
      "2610/2610 [==============================] - 0s 104us/step - loss: 0.3084 - acc: 0.9831 - val_loss: 0.5445 - val_acc: 0.8729\n",
      "\n",
      "Epoch 00026: val_acc improved from 0.86942 to 0.87285, saving model to tmp/weights-26-0.87.hdf5\n",
      "Epoch 27/100\n",
      "2610/2610 [==============================] - 0s 104us/step - loss: 0.2988 - acc: 0.9847 - val_loss: 0.5494 - val_acc: 0.8660\n",
      "\n",
      "Epoch 00027: val_acc did not improve from 0.87285\n",
      "Epoch 28/100\n",
      "2610/2610 [==============================] - 0s 104us/step - loss: 0.2952 - acc: 0.9870 - val_loss: 0.5438 - val_acc: 0.8797\n",
      "\n",
      "Epoch 00028: val_acc improved from 0.87285 to 0.87973, saving model to tmp/weights-28-0.88.hdf5\n",
      "Epoch 29/100\n",
      "2610/2610 [==============================] - 0s 108us/step - loss: 0.2933 - acc: 0.9854 - val_loss: 0.5574 - val_acc: 0.8625\n",
      "\n",
      "Epoch 00029: val_acc did not improve from 0.87973\n",
      "Epoch 30/100\n",
      "2610/2610 [==============================] - 0s 107us/step - loss: 0.3027 - acc: 0.9828 - val_loss: 0.5654 - val_acc: 0.8694\n",
      "\n",
      "Epoch 00030: val_acc did not improve from 0.87973\n",
      "Epoch 31/100\n",
      "2610/2610 [==============================] - 0s 106us/step - loss: 0.2989 - acc: 0.9835 - val_loss: 0.5453 - val_acc: 0.8694\n",
      "\n",
      "Epoch 00031: val_acc did not improve from 0.87973\n",
      "Epoch 32/100\n",
      "2610/2610 [==============================] - 0s 106us/step - loss: 0.2873 - acc: 0.9824 - val_loss: 0.5311 - val_acc: 0.8694\n",
      "\n",
      "Epoch 00032: val_acc did not improve from 0.87973\n",
      "Epoch 33/100\n",
      "2610/2610 [==============================] - 0s 105us/step - loss: 0.2901 - acc: 0.9854 - val_loss: 0.5312 - val_acc: 0.8729\n",
      "\n",
      "Epoch 00033: val_acc did not improve from 0.87973\n",
      "Epoch 34/100\n",
      "2610/2610 [==============================] - 0s 105us/step - loss: 0.2734 - acc: 0.9877 - val_loss: 0.5129 - val_acc: 0.8832\n",
      "\n",
      "Epoch 00034: val_acc improved from 0.87973 to 0.88316, saving model to tmp/weights-34-0.88.hdf5\n",
      "Epoch 35/100\n",
      "2610/2610 [==============================] - 0s 106us/step - loss: 0.2684 - acc: 0.9858 - val_loss: 0.5007 - val_acc: 0.8832\n",
      "\n",
      "Epoch 00035: val_acc did not improve from 0.88316\n",
      "Epoch 36/100\n",
      "2610/2610 [==============================] - 0s 105us/step - loss: 0.2711 - acc: 0.9866 - val_loss: 0.5153 - val_acc: 0.8694\n",
      "\n",
      "Epoch 00036: val_acc did not improve from 0.88316\n",
      "Epoch 37/100\n",
      "2610/2610 [==============================] - 0s 104us/step - loss: 0.2707 - acc: 0.9854 - val_loss: 0.5066 - val_acc: 0.8900\n",
      "\n",
      "Epoch 00037: val_acc improved from 0.88316 to 0.89003, saving model to tmp/weights-37-0.89.hdf5\n",
      "Epoch 38/100\n",
      "2610/2610 [==============================] - 0s 106us/step - loss: 0.2663 - acc: 0.9866 - val_loss: 0.5223 - val_acc: 0.8729\n",
      "\n",
      "Epoch 00038: val_acc did not improve from 0.89003\n",
      "Epoch 39/100\n",
      "2610/2610 [==============================] - 0s 106us/step - loss: 0.2717 - acc: 0.9835 - val_loss: 0.5334 - val_acc: 0.8660\n",
      "\n",
      "Epoch 00039: val_acc did not improve from 0.89003\n",
      "Epoch 40/100\n",
      "2610/2610 [==============================] - 0s 107us/step - loss: 0.2741 - acc: 0.9839 - val_loss: 0.4992 - val_acc: 0.8763\n",
      "\n",
      "Epoch 00040: val_acc did not improve from 0.89003\n",
      "Epoch 41/100\n",
      "2610/2610 [==============================] - 0s 105us/step - loss: 0.2552 - acc: 0.9839 - val_loss: 0.5112 - val_acc: 0.8763\n",
      "\n",
      "Epoch 00041: val_acc did not improve from 0.89003\n",
      "Epoch 42/100\n",
      "2610/2610 [==============================] - 0s 107us/step - loss: 0.2567 - acc: 0.9843 - val_loss: 0.4952 - val_acc: 0.8866\n",
      "\n",
      "Epoch 00042: val_acc did not improve from 0.89003\n",
      "Epoch 43/100\n",
      "2610/2610 [==============================] - 0s 107us/step - loss: 0.2525 - acc: 0.9851 - val_loss: 0.4921 - val_acc: 0.8729\n",
      "\n",
      "Epoch 00043: val_acc did not improve from 0.89003\n",
      "Epoch 44/100\n",
      "2610/2610 [==============================] - 0s 106us/step - loss: 0.2426 - acc: 0.9851 - val_loss: 0.4808 - val_acc: 0.8797\n",
      "\n",
      "Epoch 00044: val_acc did not improve from 0.89003\n",
      "Epoch 45/100\n",
      "2610/2610 [==============================] - 0s 106us/step - loss: 0.2475 - acc: 0.9843 - val_loss: 0.4958 - val_acc: 0.8900\n",
      "\n",
      "Epoch 00045: val_acc did not improve from 0.89003\n",
      "Epoch 46/100\n",
      "2610/2610 [==============================] - 0s 105us/step - loss: 0.2437 - acc: 0.9877 - val_loss: 0.4924 - val_acc: 0.8729\n",
      "\n",
      "Epoch 00046: val_acc did not improve from 0.89003\n",
      "Epoch 47/100\n",
      "2610/2610 [==============================] - 0s 104us/step - loss: 0.2534 - acc: 0.9831 - val_loss: 0.4830 - val_acc: 0.8832\n",
      "\n",
      "Epoch 00047: val_acc did not improve from 0.89003\n",
      "Epoch 48/100\n",
      "2610/2610 [==============================] - 0s 106us/step - loss: 0.2452 - acc: 0.9854 - val_loss: 0.4934 - val_acc: 0.8832\n",
      "\n",
      "Epoch 00048: val_acc did not improve from 0.89003\n",
      "Epoch 49/100\n",
      "2610/2610 [==============================] - 0s 106us/step - loss: 0.2317 - acc: 0.9877 - val_loss: 0.4939 - val_acc: 0.8729\n",
      "\n",
      "Epoch 00049: val_acc did not improve from 0.89003\n",
      "Epoch 50/100\n",
      "2610/2610 [==============================] - 0s 106us/step - loss: 0.2366 - acc: 0.9870 - val_loss: 0.4806 - val_acc: 0.8866\n",
      "\n",
      "Epoch 00050: val_acc did not improve from 0.89003\n",
      "Epoch 51/100\n",
      "2610/2610 [==============================] - 0s 104us/step - loss: 0.2373 - acc: 0.9831 - val_loss: 0.5383 - val_acc: 0.8729\n",
      "\n",
      "Epoch 00051: val_acc did not improve from 0.89003\n",
      "Epoch 52/100\n",
      "2610/2610 [==============================] - 0s 105us/step - loss: 0.2460 - acc: 0.9824 - val_loss: 0.4687 - val_acc: 0.8900\n",
      "\n",
      "Epoch 00052: val_acc did not improve from 0.89003\n",
      "Epoch 53/100\n",
      "2610/2610 [==============================] - 0s 104us/step - loss: 0.2281 - acc: 0.9862 - val_loss: 0.4744 - val_acc: 0.8763\n",
      "\n",
      "Epoch 00053: val_acc did not improve from 0.89003\n",
      "Epoch 54/100\n",
      "2610/2610 [==============================] - 0s 106us/step - loss: 0.2224 - acc: 0.9874 - val_loss: 0.4650 - val_acc: 0.8832\n",
      "\n",
      "Epoch 00054: val_acc did not improve from 0.89003\n",
      "Epoch 55/100\n",
      "2610/2610 [==============================] - 0s 104us/step - loss: 0.2202 - acc: 0.9874 - val_loss: 0.4605 - val_acc: 0.8866\n",
      "\n",
      "Epoch 00055: val_acc did not improve from 0.89003\n",
      "Epoch 56/100\n",
      "2610/2610 [==============================] - 0s 106us/step - loss: 0.2217 - acc: 0.9866 - val_loss: 0.4963 - val_acc: 0.8832\n",
      "\n",
      "Epoch 00056: val_acc did not improve from 0.89003\n",
      "Epoch 57/100\n",
      "2610/2610 [==============================] - 0s 105us/step - loss: 0.2266 - acc: 0.9839 - val_loss: 0.4781 - val_acc: 0.8832\n",
      "\n",
      "Epoch 00057: val_acc did not improve from 0.89003\n",
      "Epoch 58/100\n",
      "2610/2610 [==============================] - 0s 104us/step - loss: 0.2287 - acc: 0.9839 - val_loss: 0.4591 - val_acc: 0.8832\n",
      "\n",
      "Epoch 00058: val_acc did not improve from 0.89003\n",
      "Epoch 59/100\n",
      "2610/2610 [==============================] - 0s 104us/step - loss: 0.2115 - acc: 0.9885 - val_loss: 0.4583 - val_acc: 0.8866\n",
      "\n",
      "Epoch 00059: val_acc did not improve from 0.89003\n",
      "Epoch 60/100\n",
      "2610/2610 [==============================] - 0s 105us/step - loss: 0.2122 - acc: 0.9897 - val_loss: 0.4500 - val_acc: 0.8832\n",
      "\n",
      "Epoch 00060: val_acc did not improve from 0.89003\n",
      "Epoch 61/100\n",
      "2610/2610 [==============================] - 0s 104us/step - loss: 0.2112 - acc: 0.9874 - val_loss: 0.4781 - val_acc: 0.8935\n",
      "\n",
      "Epoch 00061: val_acc improved from 0.89003 to 0.89347, saving model to tmp/weights-61-0.89.hdf5\n",
      "Epoch 62/100\n",
      "2610/2610 [==============================] - 0s 106us/step - loss: 0.2161 - acc: 0.9885 - val_loss: 0.4515 - val_acc: 0.8935\n",
      "\n",
      "Epoch 00062: val_acc did not improve from 0.89347\n",
      "Epoch 63/100\n",
      "2610/2610 [==============================] - 0s 106us/step - loss: 0.2139 - acc: 0.9877 - val_loss: 0.4790 - val_acc: 0.8832\n",
      "\n",
      "Epoch 00063: val_acc did not improve from 0.89347\n",
      "Epoch 64/100\n",
      "2610/2610 [==============================] - 0s 105us/step - loss: 0.2128 - acc: 0.9843 - val_loss: 0.4379 - val_acc: 0.8969\n",
      "\n",
      "Epoch 00064: val_acc improved from 0.89347 to 0.89691, saving model to tmp/weights-64-0.90.hdf5\n",
      "Epoch 65/100\n",
      "2610/2610 [==============================] - 0s 109us/step - loss: 0.2041 - acc: 0.9874 - val_loss: 0.4438 - val_acc: 0.8900\n",
      "\n",
      "Epoch 00065: val_acc did not improve from 0.89691\n",
      "Epoch 66/100\n",
      "2610/2610 [==============================] - 0s 105us/step - loss: 0.2134 - acc: 0.9835 - val_loss: 0.4453 - val_acc: 0.9038\n",
      "\n",
      "Epoch 00066: val_acc improved from 0.89691 to 0.90378, saving model to tmp/weights-66-0.90.hdf5\n",
      "Epoch 67/100\n",
      "2610/2610 [==============================] - 0s 106us/step - loss: 0.2022 - acc: 0.9870 - val_loss: 0.4614 - val_acc: 0.8935\n",
      "\n",
      "Epoch 00067: val_acc did not improve from 0.90378\n",
      "Epoch 68/100\n",
      "2610/2610 [==============================] - 0s 104us/step - loss: 0.2051 - acc: 0.9877 - val_loss: 0.4335 - val_acc: 0.8900\n",
      "\n",
      "Epoch 00068: val_acc did not improve from 0.90378\n",
      "Epoch 69/100\n",
      "2610/2610 [==============================] - 0s 105us/step - loss: 0.2039 - acc: 0.9851 - val_loss: 0.4942 - val_acc: 0.8900\n",
      "\n",
      "Epoch 00069: val_acc did not improve from 0.90378\n",
      "Epoch 70/100\n",
      "2610/2610 [==============================] - 0s 104us/step - loss: 0.2078 - acc: 0.9847 - val_loss: 0.4314 - val_acc: 0.8935\n",
      "\n",
      "Epoch 00070: val_acc did not improve from 0.90378\n",
      "Epoch 71/100\n",
      "2610/2610 [==============================] - 0s 106us/step - loss: 0.1961 - acc: 0.9862 - val_loss: 0.4352 - val_acc: 0.8900\n",
      "\n",
      "Epoch 00071: val_acc did not improve from 0.90378\n",
      "Epoch 72/100\n",
      "2610/2610 [==============================] - 0s 106us/step - loss: 0.1918 - acc: 0.9874 - val_loss: 0.4337 - val_acc: 0.8969\n",
      "\n",
      "Epoch 00072: val_acc did not improve from 0.90378\n",
      "Epoch 73/100\n",
      "2610/2610 [==============================] - 0s 108us/step - loss: 0.1940 - acc: 0.9862 - val_loss: 0.4250 - val_acc: 0.8969\n",
      "\n",
      "Epoch 00073: val_acc did not improve from 0.90378\n",
      "Epoch 74/100\n",
      "2610/2610 [==============================] - 0s 106us/step - loss: 0.2038 - acc: 0.9866 - val_loss: 0.4497 - val_acc: 0.8832\n",
      "\n",
      "Epoch 00074: val_acc did not improve from 0.90378\n",
      "Epoch 75/100\n",
      "2610/2610 [==============================] - 0s 105us/step - loss: 0.1932 - acc: 0.9877 - val_loss: 0.4280 - val_acc: 0.8969\n",
      "\n",
      "Epoch 00075: val_acc did not improve from 0.90378\n",
      "Epoch 76/100\n",
      "2610/2610 [==============================] - 0s 105us/step - loss: 0.1899 - acc: 0.9877 - val_loss: 0.4211 - val_acc: 0.8935\n",
      "\n",
      "Epoch 00076: val_acc did not improve from 0.90378\n",
      "Epoch 77/100\n",
      "2610/2610 [==============================] - 0s 105us/step - loss: 0.1863 - acc: 0.9877 - val_loss: 0.4347 - val_acc: 0.8900\n",
      "\n",
      "Epoch 00077: val_acc did not improve from 0.90378\n",
      "Epoch 78/100\n",
      "2610/2610 [==============================] - 0s 106us/step - loss: 0.1926 - acc: 0.9877 - val_loss: 0.4269 - val_acc: 0.8935\n",
      "\n",
      "Epoch 00078: val_acc did not improve from 0.90378\n",
      "Epoch 79/100\n",
      "2610/2610 [==============================] - 0s 109us/step - loss: 0.1921 - acc: 0.9831 - val_loss: 0.4545 - val_acc: 0.8832\n",
      "\n",
      "Epoch 00079: val_acc did not improve from 0.90378\n",
      "Epoch 80/100\n",
      "2610/2610 [==============================] - 0s 108us/step - loss: 0.1878 - acc: 0.9881 - val_loss: 0.4363 - val_acc: 0.8935\n",
      "\n",
      "Epoch 00080: val_acc did not improve from 0.90378\n",
      "Epoch 81/100\n",
      "2610/2610 [==============================] - 0s 106us/step - loss: 0.1910 - acc: 0.9854 - val_loss: 0.4236 - val_acc: 0.9072\n",
      "\n",
      "Epoch 00081: val_acc improved from 0.90378 to 0.90722, saving model to tmp/weights-81-0.91.hdf5\n",
      "Epoch 82/100\n",
      "2610/2610 [==============================] - 0s 105us/step - loss: 0.1823 - acc: 0.9866 - val_loss: 0.4150 - val_acc: 0.8935\n",
      "\n",
      "Epoch 00082: val_acc did not improve from 0.90722\n",
      "Epoch 83/100\n",
      "2610/2610 [==============================] - 0s 106us/step - loss: 0.1832 - acc: 0.9866 - val_loss: 0.4292 - val_acc: 0.8969\n",
      "\n",
      "Epoch 00083: val_acc did not improve from 0.90722\n",
      "Epoch 84/100\n",
      "2610/2610 [==============================] - 0s 106us/step - loss: 0.1800 - acc: 0.9870 - val_loss: 0.4161 - val_acc: 0.8935\n",
      "\n",
      "Epoch 00084: val_acc did not improve from 0.90722\n",
      "Epoch 85/100\n",
      "2610/2610 [==============================] - 0s 106us/step - loss: 0.1833 - acc: 0.9874 - val_loss: 0.4228 - val_acc: 0.9038\n",
      "\n",
      "Epoch 00085: val_acc did not improve from 0.90722\n",
      "Epoch 86/100\n",
      "2610/2610 [==============================] - 0s 106us/step - loss: 0.1811 - acc: 0.9870 - val_loss: 0.4179 - val_acc: 0.9038\n",
      "\n",
      "Epoch 00086: val_acc did not improve from 0.90722\n",
      "Epoch 87/100\n",
      "2610/2610 [==============================] - 0s 106us/step - loss: 0.1790 - acc: 0.9877 - val_loss: 0.4401 - val_acc: 0.8935\n",
      "\n",
      "Epoch 00087: val_acc did not improve from 0.90722\n",
      "Epoch 88/100\n",
      "2610/2610 [==============================] - 0s 106us/step - loss: 0.1820 - acc: 0.9874 - val_loss: 0.4242 - val_acc: 0.8969\n",
      "\n",
      "Epoch 00088: val_acc did not improve from 0.90722\n",
      "Epoch 89/100\n",
      "2610/2610 [==============================] - 0s 106us/step - loss: 0.1773 - acc: 0.9866 - val_loss: 0.4145 - val_acc: 0.8969\n",
      "\n",
      "Epoch 00089: val_acc did not improve from 0.90722\n",
      "Epoch 90/100\n",
      "2610/2610 [==============================] - 0s 105us/step - loss: 0.1748 - acc: 0.9870 - val_loss: 0.4181 - val_acc: 0.9003\n",
      "\n",
      "Epoch 00090: val_acc did not improve from 0.90722\n",
      "Epoch 91/100\n",
      "2610/2610 [==============================] - 0s 107us/step - loss: 0.1781 - acc: 0.9847 - val_loss: 0.4291 - val_acc: 0.8935\n",
      "\n",
      "Epoch 00091: val_acc did not improve from 0.90722\n",
      "Epoch 92/100\n",
      "2610/2610 [==============================] - 0s 104us/step - loss: 0.1771 - acc: 0.9854 - val_loss: 0.4157 - val_acc: 0.9003\n",
      "\n",
      "Epoch 00092: val_acc did not improve from 0.90722\n",
      "Epoch 93/100\n",
      "2610/2610 [==============================] - 0s 108us/step - loss: 0.1769 - acc: 0.9847 - val_loss: 0.4128 - val_acc: 0.8969\n",
      "\n",
      "Epoch 00093: val_acc did not improve from 0.90722\n",
      "Epoch 94/100\n",
      "2610/2610 [==============================] - 0s 105us/step - loss: 0.1797 - acc: 0.9858 - val_loss: 0.4449 - val_acc: 0.8866\n",
      "\n",
      "Epoch 00094: val_acc did not improve from 0.90722\n",
      "Epoch 95/100\n",
      "2610/2610 [==============================] - 0s 104us/step - loss: 0.1766 - acc: 0.9866 - val_loss: 0.4146 - val_acc: 0.8900\n",
      "\n",
      "Epoch 00095: val_acc did not improve from 0.90722\n",
      "Epoch 96/100\n",
      "2610/2610 [==============================] - 0s 105us/step - loss: 0.1722 - acc: 0.9851 - val_loss: 0.4060 - val_acc: 0.9003\n",
      "\n",
      "Epoch 00096: val_acc did not improve from 0.90722\n",
      "Epoch 97/100\n",
      "2610/2610 [==============================] - 0s 106us/step - loss: 0.1657 - acc: 0.9908 - val_loss: 0.4043 - val_acc: 0.8969\n",
      "\n",
      "Epoch 00097: val_acc did not improve from 0.90722\n",
      "Epoch 98/100\n",
      "2610/2610 [==============================] - 0s 106us/step - loss: 0.1669 - acc: 0.9862 - val_loss: 0.4296 - val_acc: 0.8866\n",
      "\n",
      "Epoch 00098: val_acc did not improve from 0.90722\n",
      "Epoch 99/100\n",
      "2610/2610 [==============================] - 0s 106us/step - loss: 0.1705 - acc: 0.9874 - val_loss: 0.4396 - val_acc: 0.8832\n",
      "\n",
      "Epoch 00099: val_acc did not improve from 0.90722\n",
      "Epoch 100/100\n",
      "2610/2610 [==============================] - 0s 109us/step - loss: 0.1659 - acc: 0.9889 - val_loss: 0.4065 - val_acc: 0.9003\n",
      "\n",
      "Epoch 00100: val_acc did not improve from 0.90722\n"
     ]
    }
   ],
   "source": [
    "adam = Adam(lr=1e-3, decay=0.0)\n",
    "adadelta = Adadelta(lr=1.0, rho=0.95, epsilon=None, decay=0.0)\n",
    "rmsprop = RMSprop(lr=0.001, rho=0.9, epsilon=None, decay=0.0)\n",
    "\n",
    "model.compile(loss='categorical_crossentropy', optimizer=rmsprop, metrics=['acc'])\n",
    "\n",
    "filepath=\"tmp/weights-{epoch:02d}-{val_acc:.2f}.hdf5\"\n",
    "model_checkpoint = ModelCheckpoint(filepath, monitor='val_acc', verbose=1, save_best_only=True, mode='auto')\n",
    "early_stopping = EarlyStopping(monitor='val_loss', patience=10)\n",
    "callbacks = [early_stopping, model_checkpoint]\n",
    "\n",
    "history = model.fit(X_train, y_train, batch_size=1000, epochs=100, verbose=1, validation_data=(X_val, y_val), callbacks=callbacks)  # starts training"
   ]
  },
  {
   "cell_type": "code",
   "execution_count": 29,
   "metadata": {
    "colab": {
     "base_uri": "https://localhost:8080/",
     "height": 7235
    },
    "colab_type": "code",
    "id": "tzlNz7u3FT_1",
    "outputId": "2258500a-8cd6-4e93-e105-998926755917"
   },
   "outputs": [
    {
     "name": "stdout",
     "output_type": "stream",
     "text": [
      "Train on 2901 samples, validate on 291 samples\n",
      "Epoch 1/100\n",
      "2901/2901 [==============================] - 1s 217us/step - loss: 0.1937 - acc: 0.9776 - val_loss: 0.3506 - val_acc: 0.9141\n",
      "\n",
      "Epoch 00001: val_acc improved from 0.90722 to 0.91409, saving model to tmp/weights-01-0.91.hdf5\n",
      "Epoch 2/100\n",
      "2901/2901 [==============================] - 0s 104us/step - loss: 0.1929 - acc: 0.9814 - val_loss: 0.3113 - val_acc: 0.9416\n",
      "\n",
      "Epoch 00002: val_acc improved from 0.91409 to 0.94158, saving model to tmp/weights-02-0.94.hdf5\n",
      "Epoch 3/100\n",
      "2901/2901 [==============================] - 0s 101us/step - loss: 0.1871 - acc: 0.9814 - val_loss: 0.2805 - val_acc: 0.9450\n",
      "\n",
      "Epoch 00003: val_acc improved from 0.94158 to 0.94502, saving model to tmp/weights-03-0.95.hdf5\n",
      "Epoch 4/100\n",
      "2901/2901 [==============================] - 0s 101us/step - loss: 0.1823 - acc: 0.9800 - val_loss: 0.2874 - val_acc: 0.9553\n",
      "\n",
      "Epoch 00004: val_acc improved from 0.94502 to 0.95533, saving model to tmp/weights-04-0.96.hdf5\n",
      "Epoch 5/100\n",
      "2901/2901 [==============================] - 0s 102us/step - loss: 0.1823 - acc: 0.9821 - val_loss: 0.2770 - val_acc: 0.9485\n",
      "\n",
      "Epoch 00005: val_acc did not improve from 0.95533\n",
      "Epoch 6/100\n",
      "2901/2901 [==============================] - 0s 103us/step - loss: 0.1752 - acc: 0.9859 - val_loss: 0.2586 - val_acc: 0.9588\n",
      "\n",
      "Epoch 00006: val_acc improved from 0.95533 to 0.95876, saving model to tmp/weights-06-0.96.hdf5\n",
      "Epoch 7/100\n",
      "2901/2901 [==============================] - 0s 101us/step - loss: 0.1801 - acc: 0.9814 - val_loss: 0.2970 - val_acc: 0.9381\n",
      "\n",
      "Epoch 00007: val_acc did not improve from 0.95876\n",
      "Epoch 8/100\n",
      "2901/2901 [==============================] - 0s 102us/step - loss: 0.1816 - acc: 0.9800 - val_loss: 0.2574 - val_acc: 0.9553\n",
      "\n",
      "Epoch 00008: val_acc did not improve from 0.95876\n",
      "Epoch 9/100\n",
      "2901/2901 [==============================] - 0s 104us/step - loss: 0.1794 - acc: 0.9804 - val_loss: 0.2452 - val_acc: 0.9656\n",
      "\n",
      "Epoch 00009: val_acc improved from 0.95876 to 0.96564, saving model to tmp/weights-09-0.97.hdf5\n",
      "Epoch 10/100\n",
      "2901/2901 [==============================] - 0s 102us/step - loss: 0.1773 - acc: 0.9817 - val_loss: 0.2490 - val_acc: 0.9622\n",
      "\n",
      "Epoch 00010: val_acc did not improve from 0.96564\n",
      "Epoch 11/100\n",
      "2901/2901 [==============================] - 0s 103us/step - loss: 0.1709 - acc: 0.9835 - val_loss: 0.2448 - val_acc: 0.9622\n",
      "\n",
      "Epoch 00011: val_acc did not improve from 0.96564\n",
      "Epoch 12/100\n",
      "2901/2901 [==============================] - 0s 104us/step - loss: 0.1702 - acc: 0.9835 - val_loss: 0.2522 - val_acc: 0.9622\n",
      "\n",
      "Epoch 00012: val_acc did not improve from 0.96564\n",
      "Epoch 13/100\n",
      "2901/2901 [==============================] - 0s 104us/step - loss: 0.1702 - acc: 0.9845 - val_loss: 0.2516 - val_acc: 0.9622\n",
      "\n",
      "Epoch 00013: val_acc did not improve from 0.96564\n",
      "Epoch 14/100\n",
      "2901/2901 [==============================] - 0s 104us/step - loss: 0.1760 - acc: 0.9831 - val_loss: 0.2490 - val_acc: 0.9622\n",
      "\n",
      "Epoch 00014: val_acc did not improve from 0.96564\n",
      "Epoch 15/100\n",
      "2901/2901 [==============================] - 0s 106us/step - loss: 0.1745 - acc: 0.9824 - val_loss: 0.2432 - val_acc: 0.9656\n",
      "\n",
      "Epoch 00015: val_acc did not improve from 0.96564\n",
      "Epoch 16/100\n",
      "2901/2901 [==============================] - 0s 100us/step - loss: 0.1669 - acc: 0.9859 - val_loss: 0.2355 - val_acc: 0.9622\n",
      "\n",
      "Epoch 00016: val_acc did not improve from 0.96564\n",
      "Epoch 17/100\n",
      "2901/2901 [==============================] - 0s 102us/step - loss: 0.1691 - acc: 0.9824 - val_loss: 0.2298 - val_acc: 0.9691\n",
      "\n",
      "Epoch 00017: val_acc improved from 0.96564 to 0.96907, saving model to tmp/weights-17-0.97.hdf5\n",
      "Epoch 18/100\n",
      "2901/2901 [==============================] - 0s 103us/step - loss: 0.1666 - acc: 0.9852 - val_loss: 0.2320 - val_acc: 0.9691\n",
      "\n",
      "Epoch 00018: val_acc did not improve from 0.96907\n",
      "Epoch 19/100\n",
      "2901/2901 [==============================] - 0s 105us/step - loss: 0.1647 - acc: 0.9841 - val_loss: 0.2361 - val_acc: 0.9691\n",
      "\n",
      "Epoch 00019: val_acc did not improve from 0.96907\n",
      "Epoch 20/100\n",
      "2901/2901 [==============================] - 0s 104us/step - loss: 0.1697 - acc: 0.9841 - val_loss: 0.2454 - val_acc: 0.9622\n",
      "\n",
      "Epoch 00020: val_acc did not improve from 0.96907\n",
      "Epoch 21/100\n",
      "2901/2901 [==============================] - 0s 103us/step - loss: 0.1716 - acc: 0.9824 - val_loss: 0.2244 - val_acc: 0.9725\n",
      "\n",
      "Epoch 00021: val_acc improved from 0.96907 to 0.97251, saving model to tmp/weights-21-0.97.hdf5\n",
      "Epoch 22/100\n",
      "2901/2901 [==============================] - 0s 105us/step - loss: 0.1641 - acc: 0.9838 - val_loss: 0.2243 - val_acc: 0.9691\n",
      "\n",
      "Epoch 00022: val_acc did not improve from 0.97251\n",
      "Epoch 23/100\n",
      "2901/2901 [==============================] - 0s 105us/step - loss: 0.1662 - acc: 0.9859 - val_loss: 0.2229 - val_acc: 0.9656\n",
      "\n",
      "Epoch 00023: val_acc did not improve from 0.97251\n",
      "Epoch 24/100\n",
      "2901/2901 [==============================] - 0s 104us/step - loss: 0.1625 - acc: 0.9845 - val_loss: 0.2186 - val_acc: 0.9725\n",
      "\n",
      "Epoch 00024: val_acc did not improve from 0.97251\n",
      "Epoch 25/100\n",
      "2901/2901 [==============================] - 0s 104us/step - loss: 0.1645 - acc: 0.9838 - val_loss: 0.2349 - val_acc: 0.9588\n",
      "\n",
      "Epoch 00025: val_acc did not improve from 0.97251\n",
      "Epoch 26/100\n",
      "2901/2901 [==============================] - 0s 103us/step - loss: 0.1677 - acc: 0.9835 - val_loss: 0.2193 - val_acc: 0.9691\n",
      "\n",
      "Epoch 00026: val_acc did not improve from 0.97251\n",
      "Epoch 27/100\n",
      "2901/2901 [==============================] - 0s 103us/step - loss: 0.1597 - acc: 0.9859 - val_loss: 0.2115 - val_acc: 0.9725\n",
      "\n",
      "Epoch 00027: val_acc did not improve from 0.97251\n",
      "Epoch 28/100\n",
      "2901/2901 [==============================] - 0s 103us/step - loss: 0.1578 - acc: 0.9862 - val_loss: 0.2268 - val_acc: 0.9691\n",
      "\n",
      "Epoch 00028: val_acc did not improve from 0.97251\n",
      "Epoch 29/100\n",
      "2901/2901 [==============================] - 0s 104us/step - loss: 0.1623 - acc: 0.9828 - val_loss: 0.2340 - val_acc: 0.9656\n",
      "\n",
      "Epoch 00029: val_acc did not improve from 0.97251\n",
      "Epoch 30/100\n",
      "2901/2901 [==============================] - 0s 102us/step - loss: 0.1602 - acc: 0.9838 - val_loss: 0.2110 - val_acc: 0.9691\n",
      "\n",
      "Epoch 00030: val_acc did not improve from 0.97251\n",
      "Epoch 31/100\n",
      "2901/2901 [==============================] - 0s 103us/step - loss: 0.1587 - acc: 0.9845 - val_loss: 0.2140 - val_acc: 0.9691\n",
      "\n",
      "Epoch 00031: val_acc did not improve from 0.97251\n",
      "Epoch 32/100\n",
      "2901/2901 [==============================] - 0s 104us/step - loss: 0.1556 - acc: 0.9841 - val_loss: 0.2081 - val_acc: 0.9725\n",
      "\n",
      "Epoch 00032: val_acc did not improve from 0.97251\n",
      "Epoch 33/100\n",
      "2901/2901 [==============================] - 0s 104us/step - loss: 0.1541 - acc: 0.9866 - val_loss: 0.2057 - val_acc: 0.9691\n",
      "\n",
      "Epoch 00033: val_acc did not improve from 0.97251\n",
      "Epoch 34/100\n",
      "2901/2901 [==============================] - 0s 104us/step - loss: 0.1588 - acc: 0.9859 - val_loss: 0.2166 - val_acc: 0.9691\n",
      "\n",
      "Epoch 00034: val_acc did not improve from 0.97251\n",
      "Epoch 35/100\n",
      "2901/2901 [==============================] - 0s 103us/step - loss: 0.1534 - acc: 0.9862 - val_loss: 0.2024 - val_acc: 0.9725\n",
      "\n",
      "Epoch 00035: val_acc did not improve from 0.97251\n",
      "Epoch 36/100\n",
      "2901/2901 [==============================] - 0s 104us/step - loss: 0.1536 - acc: 0.9852 - val_loss: 0.2026 - val_acc: 0.9725\n",
      "\n",
      "Epoch 00036: val_acc did not improve from 0.97251\n",
      "Epoch 37/100\n",
      "2901/2901 [==============================] - 0s 102us/step - loss: 0.1553 - acc: 0.9862 - val_loss: 0.1993 - val_acc: 0.9725\n",
      "\n",
      "Epoch 00037: val_acc did not improve from 0.97251\n",
      "Epoch 38/100\n",
      "2901/2901 [==============================] - 0s 103us/step - loss: 0.1532 - acc: 0.9817 - val_loss: 0.1943 - val_acc: 0.9725\n",
      "\n",
      "Epoch 00038: val_acc did not improve from 0.97251\n",
      "Epoch 39/100\n",
      "2901/2901 [==============================] - 0s 104us/step - loss: 0.1550 - acc: 0.9859 - val_loss: 0.2257 - val_acc: 0.9691\n",
      "\n",
      "Epoch 00039: val_acc did not improve from 0.97251\n",
      "Epoch 40/100\n",
      "2901/2901 [==============================] - 0s 103us/step - loss: 0.1571 - acc: 0.9841 - val_loss: 0.1966 - val_acc: 0.9725\n",
      "\n",
      "Epoch 00040: val_acc did not improve from 0.97251\n",
      "Epoch 41/100\n",
      "2901/2901 [==============================] - 0s 103us/step - loss: 0.1531 - acc: 0.9848 - val_loss: 0.1905 - val_acc: 0.9725\n",
      "\n",
      "Epoch 00041: val_acc did not improve from 0.97251\n",
      "Epoch 42/100\n",
      "2901/2901 [==============================] - 0s 104us/step - loss: 0.1475 - acc: 0.9838 - val_loss: 0.1917 - val_acc: 0.9759\n",
      "\n",
      "Epoch 00042: val_acc improved from 0.97251 to 0.97594, saving model to tmp/weights-42-0.98.hdf5\n",
      "Epoch 43/100\n",
      "2901/2901 [==============================] - 0s 104us/step - loss: 0.1498 - acc: 0.9841 - val_loss: 0.1887 - val_acc: 0.9794\n",
      "\n",
      "Epoch 00043: val_acc improved from 0.97594 to 0.97938, saving model to tmp/weights-43-0.98.hdf5\n",
      "Epoch 44/100\n",
      "2901/2901 [==============================] - 0s 101us/step - loss: 0.1501 - acc: 0.9841 - val_loss: 0.1877 - val_acc: 0.9725\n",
      "\n",
      "Epoch 00044: val_acc did not improve from 0.97938\n",
      "Epoch 45/100\n",
      "2901/2901 [==============================] - 0s 102us/step - loss: 0.1482 - acc: 0.9838 - val_loss: 0.1909 - val_acc: 0.9759\n",
      "\n",
      "Epoch 00045: val_acc did not improve from 0.97938\n",
      "Epoch 46/100\n",
      "2901/2901 [==============================] - 0s 102us/step - loss: 0.1530 - acc: 0.9835 - val_loss: 0.1941 - val_acc: 0.9691\n",
      "\n",
      "Epoch 00046: val_acc did not improve from 0.97938\n",
      "Epoch 47/100\n",
      "2901/2901 [==============================] - 0s 103us/step - loss: 0.1472 - acc: 0.9855 - val_loss: 0.1857 - val_acc: 0.9725\n",
      "\n",
      "Epoch 00047: val_acc did not improve from 0.97938\n",
      "Epoch 48/100\n",
      "2901/2901 [==============================] - 0s 104us/step - loss: 0.1476 - acc: 0.9828 - val_loss: 0.2082 - val_acc: 0.9691\n",
      "\n",
      "Epoch 00048: val_acc did not improve from 0.97938\n",
      "Epoch 49/100\n",
      "2901/2901 [==============================] - 0s 104us/step - loss: 0.1477 - acc: 0.9862 - val_loss: 0.1829 - val_acc: 0.9759\n",
      "\n",
      "Epoch 00049: val_acc did not improve from 0.97938\n",
      "Epoch 50/100\n",
      "2901/2901 [==============================] - 0s 102us/step - loss: 0.1460 - acc: 0.9852 - val_loss: 0.1838 - val_acc: 0.9759\n",
      "\n",
      "Epoch 00050: val_acc did not improve from 0.97938\n",
      "Epoch 51/100\n",
      "2901/2901 [==============================] - 0s 103us/step - loss: 0.1412 - acc: 0.9872 - val_loss: 0.1953 - val_acc: 0.9759\n",
      "\n",
      "Epoch 00051: val_acc did not improve from 0.97938\n",
      "Epoch 52/100\n",
      "2901/2901 [==============================] - 0s 105us/step - loss: 0.1458 - acc: 0.9862 - val_loss: 0.1786 - val_acc: 0.9691\n",
      "\n",
      "Epoch 00052: val_acc did not improve from 0.97938\n",
      "Epoch 53/100\n",
      "2901/2901 [==============================] - 0s 102us/step - loss: 0.1457 - acc: 0.9845 - val_loss: 0.1911 - val_acc: 0.9725\n",
      "\n",
      "Epoch 00053: val_acc did not improve from 0.97938\n",
      "Epoch 54/100\n",
      "2901/2901 [==============================] - 0s 103us/step - loss: 0.1454 - acc: 0.9845 - val_loss: 0.1788 - val_acc: 0.9794\n",
      "\n",
      "Epoch 00054: val_acc did not improve from 0.97938\n",
      "Epoch 55/100\n",
      "2901/2901 [==============================] - 0s 103us/step - loss: 0.1399 - acc: 0.9872 - val_loss: 0.1772 - val_acc: 0.9725\n",
      "\n",
      "Epoch 00055: val_acc did not improve from 0.97938\n",
      "Epoch 56/100\n",
      "2901/2901 [==============================] - 0s 103us/step - loss: 0.1410 - acc: 0.9845 - val_loss: 0.1900 - val_acc: 0.9691\n",
      "\n",
      "Epoch 00056: val_acc did not improve from 0.97938\n",
      "Epoch 57/100\n",
      "2901/2901 [==============================] - 0s 101us/step - loss: 0.1435 - acc: 0.9848 - val_loss: 0.1760 - val_acc: 0.9691\n",
      "\n",
      "Epoch 00057: val_acc did not improve from 0.97938\n",
      "Epoch 58/100\n",
      "2901/2901 [==============================] - 0s 103us/step - loss: 0.1474 - acc: 0.9838 - val_loss: 0.1926 - val_acc: 0.9759\n",
      "\n",
      "Epoch 00058: val_acc did not improve from 0.97938\n",
      "Epoch 59/100\n",
      "2901/2901 [==============================] - 0s 102us/step - loss: 0.1454 - acc: 0.9835 - val_loss: 0.1782 - val_acc: 0.9725\n",
      "\n",
      "Epoch 00059: val_acc did not improve from 0.97938\n",
      "Epoch 60/100\n",
      "2901/2901 [==============================] - 0s 103us/step - loss: 0.1389 - acc: 0.9848 - val_loss: 0.1716 - val_acc: 0.9759\n",
      "\n",
      "Epoch 00060: val_acc did not improve from 0.97938\n",
      "Epoch 61/100\n",
      "2901/2901 [==============================] - 0s 109us/step - loss: 0.1410 - acc: 0.9866 - val_loss: 0.2039 - val_acc: 0.9725\n",
      "\n",
      "Epoch 00061: val_acc did not improve from 0.97938\n",
      "Epoch 62/100\n",
      "2901/2901 [==============================] - 0s 102us/step - loss: 0.1488 - acc: 0.9831 - val_loss: 0.1763 - val_acc: 0.9759\n",
      "\n",
      "Epoch 00062: val_acc did not improve from 0.97938\n",
      "Epoch 63/100\n",
      "2901/2901 [==============================] - 0s 102us/step - loss: 0.1403 - acc: 0.9845 - val_loss: 0.1732 - val_acc: 0.9759\n",
      "\n",
      "Epoch 00063: val_acc did not improve from 0.97938\n",
      "Epoch 64/100\n",
      "2901/2901 [==============================] - 0s 102us/step - loss: 0.1365 - acc: 0.9848 - val_loss: 0.1747 - val_acc: 0.9725\n",
      "\n",
      "Epoch 00064: val_acc did not improve from 0.97938\n",
      "Epoch 65/100\n",
      "2901/2901 [==============================] - 0s 103us/step - loss: 0.1383 - acc: 0.9862 - val_loss: 0.1712 - val_acc: 0.9759\n",
      "\n",
      "Epoch 00065: val_acc did not improve from 0.97938\n",
      "Epoch 66/100\n",
      "2901/2901 [==============================] - 0s 104us/step - loss: 0.1376 - acc: 0.9855 - val_loss: 0.1755 - val_acc: 0.9759\n",
      "\n",
      "Epoch 00066: val_acc did not improve from 0.97938\n",
      "Epoch 67/100\n",
      "2901/2901 [==============================] - 0s 101us/step - loss: 0.1388 - acc: 0.9852 - val_loss: 0.1679 - val_acc: 0.9759\n",
      "\n",
      "Epoch 00067: val_acc did not improve from 0.97938\n",
      "Epoch 68/100\n",
      "2901/2901 [==============================] - 0s 104us/step - loss: 0.1347 - acc: 0.9859 - val_loss: 0.1763 - val_acc: 0.9759\n",
      "\n",
      "Epoch 00068: val_acc did not improve from 0.97938\n",
      "Epoch 69/100\n",
      "2901/2901 [==============================] - 0s 105us/step - loss: 0.1429 - acc: 0.9841 - val_loss: 0.1666 - val_acc: 0.9794\n",
      "\n",
      "Epoch 00069: val_acc did not improve from 0.97938\n",
      "Epoch 70/100\n",
      "2901/2901 [==============================] - 0s 103us/step - loss: 0.1337 - acc: 0.9879 - val_loss: 0.1867 - val_acc: 0.9759\n",
      "\n",
      "Epoch 00070: val_acc did not improve from 0.97938\n",
      "Epoch 71/100\n",
      "2901/2901 [==============================] - 0s 101us/step - loss: 0.1351 - acc: 0.9862 - val_loss: 0.1716 - val_acc: 0.9725\n",
      "\n",
      "Epoch 00071: val_acc did not improve from 0.97938\n",
      "Epoch 72/100\n",
      "2901/2901 [==============================] - 0s 101us/step - loss: 0.1339 - acc: 0.9845 - val_loss: 0.1755 - val_acc: 0.9725\n",
      "\n",
      "Epoch 00072: val_acc did not improve from 0.97938\n",
      "Epoch 73/100\n",
      "2901/2901 [==============================] - 0s 103us/step - loss: 0.1349 - acc: 0.9838 - val_loss: 0.1701 - val_acc: 0.9759\n",
      "\n",
      "Epoch 00073: val_acc did not improve from 0.97938\n",
      "Epoch 74/100\n",
      "2901/2901 [==============================] - 0s 105us/step - loss: 0.1350 - acc: 0.9848 - val_loss: 0.1793 - val_acc: 0.9691\n",
      "\n",
      "Epoch 00074: val_acc did not improve from 0.97938\n",
      "Epoch 75/100\n",
      "2901/2901 [==============================] - 0s 103us/step - loss: 0.1331 - acc: 0.9845 - val_loss: 0.1607 - val_acc: 0.9725\n",
      "\n",
      "Epoch 00075: val_acc did not improve from 0.97938\n",
      "Epoch 76/100\n",
      "2901/2901 [==============================] - 0s 104us/step - loss: 0.1360 - acc: 0.9841 - val_loss: 0.1653 - val_acc: 0.9725\n",
      "\n",
      "Epoch 00076: val_acc did not improve from 0.97938\n",
      "Epoch 77/100\n",
      "2901/2901 [==============================] - 0s 106us/step - loss: 0.1307 - acc: 0.9859 - val_loss: 0.1668 - val_acc: 0.9828\n",
      "\n",
      "Epoch 00077: val_acc improved from 0.97938 to 0.98282, saving model to tmp/weights-77-0.98.hdf5\n",
      "Epoch 78/100\n",
      "2901/2901 [==============================] - 0s 105us/step - loss: 0.1403 - acc: 0.9824 - val_loss: 0.1686 - val_acc: 0.9794\n",
      "\n",
      "Epoch 00078: val_acc did not improve from 0.98282\n",
      "Epoch 79/100\n",
      "2901/2901 [==============================] - 0s 104us/step - loss: 0.1361 - acc: 0.9841 - val_loss: 0.1759 - val_acc: 0.9759\n",
      "\n",
      "Epoch 00079: val_acc did not improve from 0.98282\n",
      "Epoch 80/100\n",
      "2901/2901 [==============================] - 0s 102us/step - loss: 0.1407 - acc: 0.9835 - val_loss: 0.1563 - val_acc: 0.9794\n",
      "\n",
      "Epoch 00080: val_acc did not improve from 0.98282\n",
      "Epoch 81/100\n",
      "2901/2901 [==============================] - 0s 104us/step - loss: 0.1345 - acc: 0.9841 - val_loss: 0.1570 - val_acc: 0.9759\n",
      "\n",
      "Epoch 00081: val_acc did not improve from 0.98282\n",
      "Epoch 82/100\n",
      "2901/2901 [==============================] - 0s 108us/step - loss: 0.1308 - acc: 0.9852 - val_loss: 0.1599 - val_acc: 0.9725\n",
      "\n",
      "Epoch 00082: val_acc did not improve from 0.98282\n",
      "Epoch 83/100\n",
      "2901/2901 [==============================] - 0s 105us/step - loss: 0.1311 - acc: 0.9852 - val_loss: 0.1592 - val_acc: 0.9759\n",
      "\n",
      "Epoch 00083: val_acc did not improve from 0.98282\n",
      "Epoch 84/100\n",
      "2901/2901 [==============================] - 0s 107us/step - loss: 0.1285 - acc: 0.9866 - val_loss: 0.1712 - val_acc: 0.9759\n",
      "\n",
      "Epoch 00084: val_acc did not improve from 0.98282\n",
      "Epoch 85/100\n",
      "2901/2901 [==============================] - 0s 105us/step - loss: 0.1320 - acc: 0.9855 - val_loss: 0.1638 - val_acc: 0.9828\n",
      "\n",
      "Epoch 00085: val_acc did not improve from 0.98282\n",
      "Epoch 86/100\n",
      "2901/2901 [==============================] - 0s 105us/step - loss: 0.1371 - acc: 0.9838 - val_loss: 0.1563 - val_acc: 0.9759\n",
      "\n",
      "Epoch 00086: val_acc did not improve from 0.98282\n",
      "Epoch 87/100\n",
      "2901/2901 [==============================] - 0s 104us/step - loss: 0.1301 - acc: 0.9845 - val_loss: 0.1609 - val_acc: 0.9794\n",
      "\n",
      "Epoch 00087: val_acc did not improve from 0.98282\n",
      "Epoch 88/100\n",
      "2901/2901 [==============================] - 0s 101us/step - loss: 0.1326 - acc: 0.9838 - val_loss: 0.1695 - val_acc: 0.9725\n",
      "\n",
      "Epoch 00088: val_acc did not improve from 0.98282\n",
      "Epoch 89/100\n",
      "2901/2901 [==============================] - 0s 103us/step - loss: 0.1293 - acc: 0.9852 - val_loss: 0.1582 - val_acc: 0.9691\n",
      "\n",
      "Epoch 00089: val_acc did not improve from 0.98282\n",
      "Epoch 90/100\n",
      "2901/2901 [==============================] - 0s 110us/step - loss: 0.1280 - acc: 0.9845 - val_loss: 0.1526 - val_acc: 0.9759\n",
      "\n",
      "Epoch 00090: val_acc did not improve from 0.98282\n",
      "Epoch 91/100\n",
      "2901/2901 [==============================] - 0s 106us/step - loss: 0.1319 - acc: 0.9852 - val_loss: 0.1644 - val_acc: 0.9725\n",
      "\n",
      "Epoch 00091: val_acc did not improve from 0.98282\n",
      "Epoch 92/100\n",
      "2901/2901 [==============================] - 0s 103us/step - loss: 0.1282 - acc: 0.9869 - val_loss: 0.1551 - val_acc: 0.9759\n",
      "\n",
      "Epoch 00092: val_acc did not improve from 0.98282\n",
      "Epoch 93/100\n",
      "2901/2901 [==============================] - 0s 105us/step - loss: 0.1255 - acc: 0.9855 - val_loss: 0.1531 - val_acc: 0.9725\n",
      "\n",
      "Epoch 00093: val_acc did not improve from 0.98282\n",
      "Epoch 94/100\n",
      "2901/2901 [==============================] - 0s 104us/step - loss: 0.1321 - acc: 0.9831 - val_loss: 0.1609 - val_acc: 0.9794\n",
      "\n",
      "Epoch 00094: val_acc did not improve from 0.98282\n",
      "Epoch 95/100\n",
      "2901/2901 [==============================] - 0s 105us/step - loss: 0.1267 - acc: 0.9869 - val_loss: 0.1603 - val_acc: 0.9725\n",
      "\n",
      "Epoch 00095: val_acc did not improve from 0.98282\n",
      "Epoch 96/100\n",
      "2901/2901 [==============================] - 0s 107us/step - loss: 0.1277 - acc: 0.9841 - val_loss: 0.1618 - val_acc: 0.9725\n",
      "\n",
      "Epoch 00096: val_acc did not improve from 0.98282\n",
      "Epoch 97/100\n",
      "2901/2901 [==============================] - 0s 108us/step - loss: 0.1289 - acc: 0.9855 - val_loss: 0.1495 - val_acc: 0.9794\n",
      "\n",
      "Epoch 00097: val_acc did not improve from 0.98282\n",
      "Epoch 98/100\n",
      "2901/2901 [==============================] - 0s 106us/step - loss: 0.1285 - acc: 0.9848 - val_loss: 0.1609 - val_acc: 0.9725\n",
      "\n",
      "Epoch 00098: val_acc did not improve from 0.98282\n",
      "Epoch 99/100\n",
      "2901/2901 [==============================] - 0s 106us/step - loss: 0.1263 - acc: 0.9859 - val_loss: 0.1625 - val_acc: 0.9794\n",
      "\n",
      "Epoch 00099: val_acc did not improve from 0.98282\n",
      "Epoch 100/100\n",
      "2901/2901 [==============================] - 0s 107us/step - loss: 0.1249 - acc: 0.9845 - val_loss: 0.1612 - val_acc: 0.9794\n",
      "\n",
      "Epoch 00100: val_acc did not improve from 0.98282\n"
     ]
    }
   ],
   "source": [
    "X_train_combined = np.concatenate((X_train, X_val))\n",
    "y_train_combined = np.concatenate((y_train, y_val))\n",
    "\n",
    "history = model.fit(X_train_combined, y_train_combined, batch_size=1000, epochs=100, verbose=1, validation_data=(X_val, y_val), callbacks=callbacks)  # starts training"
   ]
  },
  {
   "cell_type": "code",
   "execution_count": 0,
   "metadata": {
    "colab": {},
    "colab_type": "code",
    "id": "OtGrA8RBKShg"
   },
   "outputs": [],
   "source": [
    "model_path = 'emoint_convnet_glove_model.h5'\n",
    "weight_path = 'emoint_convnet_glove_weights.h5'\n",
    "\n",
    "model.save(model_path)\n",
    "model.save_weights(weight_path)"
   ]
  },
  {
   "cell_type": "code",
   "execution_count": 31,
   "metadata": {
    "colab": {
     "base_uri": "https://localhost:8080/",
     "height": 503
    },
    "colab_type": "code",
    "id": "eFzd1urtKeFw",
    "outputId": "30f6ae5a-bdc3-42ad-b697-38b11d72b133"
   },
   "outputs": [
    {
     "name": "stdout",
     "output_type": "stream",
     "text": [
      "total 7.1G\n",
      "drwxr-xr-x 1 root root 4.0K Dec 18 06:10 .\n",
      "drwxr-xr-x 1 root root 4.0K Dec 18 02:25 ..\n",
      "-rw-r--r-- 1 root root 2.5K Dec 18 02:30 adc.json\n",
      "drwxr-xr-x 1 root root 4.0K Dec 18 02:30 .config\n",
      "-rw-r--r-- 1 root root  16M Dec 18 06:10 emoint_convnet_glove_model.h5\n",
      "-rw-r--r-- 1 root root 7.6M Dec 18 06:10 emoint_convnet_glove_weights.h5\n",
      "-rw-r--r-- 1 root root  27M Dec 18 03:37 emoint_convnet_lstm_model.h5\n",
      "-rw-r--r-- 1 root root  14M Dec 18 03:37 emoint_convnet_lstm_weights.h5\n",
      "-rw-r--r-- 1 root root  14M Dec 18 06:07 emoint_embedded_matrix_glove_twitter.npy\n",
      "-rw-r--r-- 1 root root  20M Dec 18 02:54 emoint_embedded_matrix_word2vec.npy\n",
      "-rw-r--r-- 1 root root  22M Dec 18 03:27 emoint_lstm_model.h5\n",
      "-rw-r--r-- 1 root root  11M Dec 18 03:27 emoint_lstm_weights.h5\n",
      "-rw-r--r-- 1 root root 324K Dec 18 06:08 emoint_X_test.npy\n",
      "-rw-r--r-- 1 root root 337K Dec 18 06:08 emoint_X_train.npy\n",
      "-rw-r--r-- 1 root root  38K Dec 18 06:08 emoint_X_val.npy\n",
      "-rw-r--r-- 1 root root  40K Dec 18 06:09 emoint_y_test.npy\n",
      "-rw-r--r-- 1 root root  41K Dec 18 06:08 emoint_y_train.npy\n",
      "-rw-r--r-- 1 root root 4.7K Dec 18 06:08 emoint_y_val.npy\n",
      "-rw-rw-r-- 1 root root 975M Aug 14  2014 glove.twitter.27B.100d.txt\n",
      "-rw-rw-r-- 1 root root 2.0G Aug 14  2014 glove.twitter.27B.200d.txt\n",
      "-r--r--r-- 1 root root 246M Aug 14  2014 glove.twitter.27B.25d.txt\n",
      "-rw-rw-r-- 1 root root 488M Aug 14  2014 glove.twitter.27B.50d.txt\n",
      "-rw-r--r-- 1 root root 1.5G Dec 18 05:51 glove.twitter.27B.zip\n",
      "drwxr-xr-x 1 root root 4.0K Dec 10 17:34 sample_data\n",
      "drwxr-xr-x 2 root root 4.0K Dec 18 06:10 tmp\n",
      "-rw-r--r-- 1 root root 2.0G Dec 18 06:02 word2vec.twitter.27B.200d.txt\n"
     ]
    }
   ],
   "source": [
    "!ls -lah"
   ]
  },
  {
   "cell_type": "code",
   "execution_count": 0,
   "metadata": {
    "colab": {},
    "colab_type": "code",
    "id": "85MiexxMK8zd"
   },
   "outputs": [],
   "source": [
    "upload_drive_file(\"Colab Notebooks\", model_path)\n",
    "upload_drive_file(\"Colab Notebooks\", weight_path)"
   ]
  },
  {
   "cell_type": "code",
   "execution_count": 0,
   "metadata": {
    "colab": {},
    "colab_type": "code",
    "id": "b0P0vTv-7RC6"
   },
   "outputs": [],
   "source": [
    "sequences_test=tokenizer.texts_to_sequences(test_data.text)\n",
    "X_test = pad_sequences(sequences_test, maxlen=X_test.shape[1])\n",
    "y_pred = model.predict(X_test)"
   ]
  },
  {
   "cell_type": "code",
   "execution_count": 34,
   "metadata": {
    "colab": {
     "base_uri": "https://localhost:8080/",
     "height": 35
    },
    "colab_type": "code",
    "id": "IgHlDfC_-rS5",
    "outputId": "858832e1-83cd-430b-95dc-4620248b5a46"
   },
   "outputs": [
    {
     "data": {
      "text/plain": [
       "dict_keys(['val_loss', 'val_acc', 'loss', 'acc'])"
      ]
     },
     "execution_count": 34,
     "metadata": {
      "tags": []
     },
     "output_type": "execute_result"
    }
   ],
   "source": [
    "history.history.keys()"
   ]
  },
  {
   "cell_type": "code",
   "execution_count": 0,
   "metadata": {
    "colab": {},
    "colab_type": "code",
    "id": "-JaFoS4u_pwS"
   },
   "outputs": [],
   "source": [
    "y_pred_original = [labels[val] for val in np.argmax(y_pred, axis=1).squeeze()]\n",
    "y_test_original = np.asarray(test_data.emotion)"
   ]
  },
  {
   "cell_type": "code",
   "execution_count": 0,
   "metadata": {
    "colab": {},
    "colab_type": "code",
    "id": "BREyqdCAI9d0"
   },
   "outputs": [],
   "source": [
    "def print_confusion_matrix(confusion_matrix, class_names, figsize = (4,3), fontsize=15):\n",
    "    \"\"\"Prints a confusion matrix, as returned by sklearn.metrics.confusion_matrix, as a heatmap.\n",
    "    \n",
    "    Arguments\n",
    "    ---------\n",
    "    confusion_matrix: numpy.ndarray\n",
    "        The numpy.ndarray object returned from a call to sklearn.metrics.confusion_matrix. \n",
    "        Similarly constructed ndarrays can also be used.\n",
    "    class_names: list\n",
    "        An ordered list of class names, in the order they index the given confusion matrix.\n",
    "    figsize: tuple\n",
    "        A 2-long tuple, the first value determining the horizontal size of the ouputted figure,\n",
    "        the second determining the vertical size. Defaults to (10,7).\n",
    "    fontsize: int\n",
    "        Font size for axes labels. Defaults to 14.\n",
    "        \n",
    "    Returns\n",
    "    -------\n",
    "    matplotlib.figure.Figure\n",
    "        The resulting confusion matrix figure\n",
    "    \"\"\"\n",
    "    df_cm = pd.DataFrame(\n",
    "        confusion_matrix, index=class_names, columns=class_names, \n",
    "    )\n",
    "    fig = plt.figure(figsize=figsize)\n",
    "    try:\n",
    "        heatmap = sns.heatmap(df_cm, annot=True, fmt=\"d\")\n",
    "    except ValueError:\n",
    "        raise ValueError(\"Confusion matrix values must be integers.\")\n",
    "    heatmap.yaxis.set_ticklabels(heatmap.yaxis.get_ticklabels(), rotation=0, ha='right', fontsize=fontsize)\n",
    "    heatmap.xaxis.set_ticklabels(heatmap.xaxis.get_ticklabels(), rotation=45, ha='right', fontsize=fontsize)\n",
    "    plt.ylabel('True label')\n",
    "    plt.xlabel('Predicted label')\n",
    "    return fig"
   ]
  },
  {
   "cell_type": "code",
   "execution_count": 37,
   "metadata": {
    "colab": {
     "base_uri": "https://localhost:8080/",
     "height": 173
    },
    "colab_type": "code",
    "id": "XG9HPQb10TZm",
    "outputId": "b0189c28-7815-4b56-fb7d-0978e75a1c58"
   },
   "outputs": [
    {
     "data": {
      "text/html": [
       "<div>\n",
       "<style scoped>\n",
       "    .dataframe tbody tr th:only-of-type {\n",
       "        vertical-align: middle;\n",
       "    }\n",
       "\n",
       "    .dataframe tbody tr th {\n",
       "        vertical-align: top;\n",
       "    }\n",
       "\n",
       "    .dataframe thead th {\n",
       "        text-align: right;\n",
       "    }\n",
       "</style>\n",
       "<table border=\"1\" class=\"dataframe\">\n",
       "  <thead>\n",
       "    <tr style=\"text-align: right;\">\n",
       "      <th></th>\n",
       "      <th>fear</th>\n",
       "      <th>anger</th>\n",
       "      <th>sadness</th>\n",
       "      <th>joy</th>\n",
       "    </tr>\n",
       "  </thead>\n",
       "  <tbody>\n",
       "    <tr>\n",
       "      <th>fear</th>\n",
       "      <td>701</td>\n",
       "      <td>22</td>\n",
       "      <td>54</td>\n",
       "      <td>12</td>\n",
       "    </tr>\n",
       "    <tr>\n",
       "      <th>anger</th>\n",
       "      <td>82</td>\n",
       "      <td>520</td>\n",
       "      <td>29</td>\n",
       "      <td>12</td>\n",
       "    </tr>\n",
       "    <tr>\n",
       "      <th>sadness</th>\n",
       "      <td>90</td>\n",
       "      <td>25</td>\n",
       "      <td>413</td>\n",
       "      <td>5</td>\n",
       "    </tr>\n",
       "    <tr>\n",
       "      <th>joy</th>\n",
       "      <td>42</td>\n",
       "      <td>6</td>\n",
       "      <td>9</td>\n",
       "      <td>486</td>\n",
       "    </tr>\n",
       "  </tbody>\n",
       "</table>\n",
       "</div>"
      ],
      "text/plain": [
       "         fear  anger  sadness  joy\n",
       "fear      701     22       54   12\n",
       "anger      82    520       29   12\n",
       "sadness    90     25      413    5\n",
       "joy        42      6        9  486"
      ]
     },
     "execution_count": 37,
     "metadata": {
      "tags": []
     },
     "output_type": "execute_result"
    }
   ],
   "source": [
    "cf_matrix = confusion_matrix(y_test_original, y_pred_original, labels=labels)\n",
    "\n",
    "df_cm = pd.DataFrame(\n",
    "    cf_matrix, index=labels, columns=labels, \n",
    ")\n",
    "\n",
    "df_cm"
   ]
  },
  {
   "cell_type": "code",
   "execution_count": 38,
   "metadata": {
    "colab": {
     "base_uri": "https://localhost:8080/",
     "height": 282
    },
    "colab_type": "code",
    "id": "59xnXmbEAKXy",
    "outputId": "08a25baf-90f3-4809-bd8a-96211846c1bb"
   },
   "outputs": [
    {
     "name": "stdout",
     "output_type": "stream",
     "text": [
      "Figure(288x216)\n"
     ]
    },
    {
     "data": {
      "image/png": "[encoded data removed]",
      "text/plain": [
       "<matplotlib.figure.Figure at 0x7f118a22ee80>"
      ]
     },
     "metadata": {
      "tags": []
     },
     "output_type": "display_data"
    }
   ],
   "source": [
    "print(print_confusion_matrix(cf_matrix, class_names=labels))"
   ]
  },
  {
   "cell_type": "code",
   "execution_count": 39,
   "metadata": {
    "colab": {
     "base_uri": "https://localhost:8080/",
     "height": 35
    },
    "colab_type": "code",
    "id": "9XE5c4LJEZXy",
    "outputId": "012b0138-c6f6-4aa1-c9b9-ed2ac97bf8a9"
   },
   "outputs": [
    {
     "name": "stdout",
     "output_type": "stream",
     "text": [
      "test accuracy: 0.8452950558213717\n"
     ]
    }
   ],
   "source": [
    "test_accuracy = accuracy_score(y_test_original, y_pred_original)\n",
    "print(\"test accuracy:\", test_accuracy)"
   ]
  },
  {
   "cell_type": "markdown",
   "metadata": {
    "colab_type": "text",
    "id": "jAISNDCVwvR7"
   },
   "source": [
    "### Performance score for each classes"
   ]
  },
  {
   "cell_type": "code",
   "execution_count": 40,
   "metadata": {
    "colab": {
     "base_uri": "https://localhost:8080/",
     "height": 173
    },
    "colab_type": "code",
    "id": "iFb9Q6A1DcXi",
    "outputId": "4a608fda-4738-4e6e-d789-6daf515d7b3a"
   },
   "outputs": [
    {
     "data": {
      "text/html": [
       "<div>\n",
       "<style scoped>\n",
       "    .dataframe tbody tr th:only-of-type {\n",
       "        vertical-align: middle;\n",
       "    }\n",
       "\n",
       "    .dataframe tbody tr th {\n",
       "        vertical-align: top;\n",
       "    }\n",
       "\n",
       "    .dataframe thead th {\n",
       "        text-align: right;\n",
       "    }\n",
       "</style>\n",
       "<table border=\"1\" class=\"dataframe\">\n",
       "  <thead>\n",
       "    <tr style=\"text-align: right;\">\n",
       "      <th></th>\n",
       "      <th>f1-score</th>\n",
       "      <th>precision</th>\n",
       "      <th>recall</th>\n",
       "      <th>support</th>\n",
       "    </tr>\n",
       "  </thead>\n",
       "  <tbody>\n",
       "    <tr>\n",
       "      <th>fear</th>\n",
       "      <td>0.8553</td>\n",
       "      <td>0.9075</td>\n",
       "      <td>0.8087</td>\n",
       "      <td>643</td>\n",
       "    </tr>\n",
       "    <tr>\n",
       "      <th>anger</th>\n",
       "      <td>0.8228</td>\n",
       "      <td>0.7661</td>\n",
       "      <td>0.8885</td>\n",
       "      <td>789</td>\n",
       "    </tr>\n",
       "    <tr>\n",
       "      <th>sadness</th>\n",
       "      <td>0.9187</td>\n",
       "      <td>0.9437</td>\n",
       "      <td>0.8950</td>\n",
       "      <td>543</td>\n",
       "    </tr>\n",
       "    <tr>\n",
       "      <th>joy</th>\n",
       "      <td>0.7958</td>\n",
       "      <td>0.8178</td>\n",
       "      <td>0.7749</td>\n",
       "      <td>533</td>\n",
       "    </tr>\n",
       "  </tbody>\n",
       "</table>\n",
       "</div>"
      ],
      "text/plain": [
       "         f1-score  precision  recall  support\n",
       "fear       0.8553     0.9075  0.8087      643\n",
       "anger      0.8228     0.7661  0.8885      789\n",
       "sadness    0.9187     0.9437  0.8950      543\n",
       "joy        0.7958     0.8178  0.7749      533"
      ]
     },
     "execution_count": 40,
     "metadata": {
      "tags": []
     },
     "output_type": "execute_result"
    }
   ],
   "source": [
    "precision, recall, fscore, support = precision_recall_fscore_support(y_test_original, y_pred_original)\n",
    "score_dict = {\n",
    "  \"precision\": precision.round(4),\n",
    "  \"recall\": recall.round(4),\n",
    "  \"f1-score\": fscore.round(4),\n",
    "  \"support\": support.round(4)\n",
    "}\n",
    "score_df = pd.DataFrame(score_dict, index=labels)\n",
    "score_df"
   ]
  },
  {
   "cell_type": "markdown",
   "metadata": {
    "colab_type": "text",
    "id": "cHi1Gw7Oz1zG"
   },
   "source": [
    "### Performance score using micro average"
   ]
  },
  {
   "cell_type": "code",
   "execution_count": 41,
   "metadata": {
    "colab": {
     "base_uri": "https://localhost:8080/",
     "height": 80
    },
    "colab_type": "code",
    "id": "KP69PDE9D_jz",
    "outputId": "72834dae-1317-4646-9e17-961edef6a001"
   },
   "outputs": [
    {
     "data": {
      "text/html": [
       "<div>\n",
       "<style scoped>\n",
       "    .dataframe tbody tr th:only-of-type {\n",
       "        vertical-align: middle;\n",
       "    }\n",
       "\n",
       "    .dataframe tbody tr th {\n",
       "        vertical-align: top;\n",
       "    }\n",
       "\n",
       "    .dataframe thead th {\n",
       "        text-align: right;\n",
       "    }\n",
       "</style>\n",
       "<table border=\"1\" class=\"dataframe\">\n",
       "  <thead>\n",
       "    <tr style=\"text-align: right;\">\n",
       "      <th></th>\n",
       "      <th>f1-score</th>\n",
       "      <th>precision</th>\n",
       "      <th>recall</th>\n",
       "      <th>support</th>\n",
       "    </tr>\n",
       "  </thead>\n",
       "  <tbody>\n",
       "    <tr>\n",
       "      <th>score</th>\n",
       "      <td>0.8453</td>\n",
       "      <td>0.8453</td>\n",
       "      <td>0.8453</td>\n",
       "      <td>None</td>\n",
       "    </tr>\n",
       "  </tbody>\n",
       "</table>\n",
       "</div>"
      ],
      "text/plain": [
       "       f1-score  precision  recall support\n",
       "score    0.8453     0.8453  0.8453    None"
      ]
     },
     "execution_count": 41,
     "metadata": {
      "tags": []
     },
     "output_type": "execute_result"
    }
   ],
   "source": [
    "precision, recall, fscore, support = precision_recall_fscore_support(y_test_original, y_pred_original, average=\"micro\")\n",
    "score_dict = {\n",
    "  \"precision\": precision.round(4),\n",
    "  \"recall\": recall.round(4),\n",
    "  \"f1-score\": fscore.round(4),\n",
    "  \"support\": support\n",
    "}\n",
    "score_df = pd.DataFrame(score_dict, index=[\"score\"])\n",
    "score_df"
   ]
  },
  {
   "cell_type": "markdown",
   "metadata": {
    "colab_type": "text",
    "id": "IWXNCktiz8Vb"
   },
   "source": [
    "### Performance score using macro average"
   ]
  },
  {
   "cell_type": "code",
   "execution_count": 42,
   "metadata": {
    "colab": {
     "base_uri": "https://localhost:8080/",
     "height": 80
    },
    "colab_type": "code",
    "id": "g4e0vsNIydDs",
    "outputId": "18928ec2-0722-4fa7-9819-c39b1f3df9fe"
   },
   "outputs": [
    {
     "data": {
      "text/html": [
       "<div>\n",
       "<style scoped>\n",
       "    .dataframe tbody tr th:only-of-type {\n",
       "        vertical-align: middle;\n",
       "    }\n",
       "\n",
       "    .dataframe tbody tr th {\n",
       "        vertical-align: top;\n",
       "    }\n",
       "\n",
       "    .dataframe thead th {\n",
       "        text-align: right;\n",
       "    }\n",
       "</style>\n",
       "<table border=\"1\" class=\"dataframe\">\n",
       "  <thead>\n",
       "    <tr style=\"text-align: right;\">\n",
       "      <th></th>\n",
       "      <th>f1-score</th>\n",
       "      <th>precision</th>\n",
       "      <th>recall</th>\n",
       "      <th>support</th>\n",
       "    </tr>\n",
       "  </thead>\n",
       "  <tbody>\n",
       "    <tr>\n",
       "      <th>score</th>\n",
       "      <td>0.8481</td>\n",
       "      <td>0.8588</td>\n",
       "      <td>0.8418</td>\n",
       "      <td>None</td>\n",
       "    </tr>\n",
       "  </tbody>\n",
       "</table>\n",
       "</div>"
      ],
      "text/plain": [
       "       f1-score  precision  recall support\n",
       "score    0.8481     0.8588  0.8418    None"
      ]
     },
     "execution_count": 42,
     "metadata": {
      "tags": []
     },
     "output_type": "execute_result"
    }
   ],
   "source": [
    "precision, recall, fscore, support = precision_recall_fscore_support(y_test_original, y_pred_original, average=\"macro\")\n",
    "score_dict = {\n",
    "  \"precision\": precision.round(4),\n",
    "  \"recall\": recall.round(4),\n",
    "  \"f1-score\": fscore.round(4),\n",
    "  \"support\": support\n",
    "}\n",
    "score_df = pd.DataFrame(score_dict, index=[\"score\"])\n",
    "score_df"
   ]
  },
  {
   "cell_type": "markdown",
   "metadata": {
    "colab_type": "text",
    "id": "wFJFH7u6z-oG"
   },
   "source": [
    "### Performance score using weighted average"
   ]
  },
  {
   "cell_type": "code",
   "execution_count": 43,
   "metadata": {
    "colab": {
     "base_uri": "https://localhost:8080/",
     "height": 80
    },
    "colab_type": "code",
    "id": "z99JkHjuzv68",
    "outputId": "71df70a8-dcc7-4bfa-8b62-d5b2b3d21431"
   },
   "outputs": [
    {
     "data": {
      "text/html": [
       "<div>\n",
       "<style scoped>\n",
       "    .dataframe tbody tr th:only-of-type {\n",
       "        vertical-align: middle;\n",
       "    }\n",
       "\n",
       "    .dataframe tbody tr th {\n",
       "        vertical-align: top;\n",
       "    }\n",
       "\n",
       "    .dataframe thead th {\n",
       "        text-align: right;\n",
       "    }\n",
       "</style>\n",
       "<table border=\"1\" class=\"dataframe\">\n",
       "  <thead>\n",
       "    <tr style=\"text-align: right;\">\n",
       "      <th></th>\n",
       "      <th>f1-score</th>\n",
       "      <th>precision</th>\n",
       "      <th>recall</th>\n",
       "      <th>support</th>\n",
       "    </tr>\n",
       "  </thead>\n",
       "  <tbody>\n",
       "    <tr>\n",
       "      <th>score</th>\n",
       "      <td>0.8461</td>\n",
       "      <td>0.8518</td>\n",
       "      <td>0.8453</td>\n",
       "      <td>None</td>\n",
       "    </tr>\n",
       "  </tbody>\n",
       "</table>\n",
       "</div>"
      ],
      "text/plain": [
       "       f1-score  precision  recall support\n",
       "score    0.8461     0.8518  0.8453    None"
      ]
     },
     "execution_count": 43,
     "metadata": {
      "tags": []
     },
     "output_type": "execute_result"
    }
   ],
   "source": [
    "precision, recall, fscore, support = precision_recall_fscore_support(y_test_original, y_pred_original, average=\"weighted\")\n",
    "score_dict = {\n",
    "  \"precision\": precision.round(4),\n",
    "  \"recall\": recall.round(4),\n",
    "  \"f1-score\": fscore.round(4),\n",
    "  \"support\": support\n",
    "}\n",
    "score_df = pd.DataFrame(score_dict, index=[\"score\"])\n",
    "score_df"
   ]
  },
  {
   "cell_type": "code",
   "execution_count": 44,
   "metadata": {
    "colab": {
     "base_uri": "https://localhost:8080/",
     "height": 35
    },
    "colab_type": "code",
    "id": "Y83dx5SyoBR8",
    "outputId": "c58fc815-9cc1-4db6-abf1-05af8f1fd550"
   },
   "outputs": [
    {
     "name": "stdout",
     "output_type": "stream",
     "text": [
      "kappa: 0.7907699188110637\n"
     ]
    }
   ],
   "source": [
    "from sklearn.metrics import cohen_kappa_score\n",
    "\n",
    "kappa_score = cohen_kappa_score(y_test_original, y_pred_original, labels=labels)\n",
    "print(\"kappa:\", kappa_score)"
   ]
  },
  {
   "cell_type": "code",
   "execution_count": 0,
   "metadata": {
    "colab": {},
    "colab_type": "code",
    "id": "5womFgI2kjed"
   },
   "outputs": [],
   "source": []
  }
 ],
 "metadata": {
  "accelerator": "GPU",
  "colab": {
   "collapsed_sections": [],
   "include_colab_link": true,
   "name": "EmoInt-Emotion-Analysis-ConvNet-Threshold-0.33-Glove.ipynb",
   "provenance": [],
   "version": "0.3.2"
  },
  "kernelspec": {
   "display_name": "Python 3",
   "language": "python",
   "name": "python3"
  },
  "language_info": {
   "codemirror_mode": {
    "name": "ipython",
    "version": 3
   },
   "file_extension": ".py",
   "mimetype": "text/x-python",
   "name": "python",
   "nbconvert_exporter": "python",
   "pygments_lexer": "ipython3",
   "version": "3.6.7"
  }
 },
 "nbformat": 4,
 "nbformat_minor": 1
}
