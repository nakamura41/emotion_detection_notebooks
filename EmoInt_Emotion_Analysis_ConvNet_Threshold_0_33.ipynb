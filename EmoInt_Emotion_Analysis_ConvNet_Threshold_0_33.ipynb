{
  "nbformat": 4,
  "nbformat_minor": 0,
  "metadata": {
    "colab": {
      "name": "EmoInt-Emotion-Analysis-ConvNet-Threshold-0.33.ipynb",
      "version": "0.3.2",
      "provenance": [],
      "collapsed_sections": [],
      "include_colab_link": true
    },
    "kernelspec": {
      "name": "python3",
      "display_name": "Python 3"
    },
    "accelerator": "GPU"
  },
  "cells": [
    {
      "cell_type": "markdown",
      "metadata": {
        "id": "view-in-github",
        "colab_type": "text"
      },
      "source": [
        "<a href=\"https://colab.research.google.com/github/nakamura41/emotion_detection_notebooks/blob/master/EmoInt_Emotion_Analysis_ConvNet_Threshold_0_33.ipynb\" target=\"_parent\"><img src=\"https://colab.research.google.com/assets/colab-badge.svg\" alt=\"Open In Colab\"/></a>"
      ]
    },
    {
      "metadata": {
        "id": "wRzS3ihSifMc",
        "colab_type": "code",
        "outputId": "e1e78bc1-1fdc-4bb8-c96b-c27283125c44",
        "colab": {
          "base_uri": "https://localhost:8080/",
          "height": 197
        }
      },
      "cell_type": "code",
      "source": [
        "!pip install PyDrive"
      ],
      "execution_count": 0,
      "outputs": [
        {
          "output_type": "stream",
          "text": [
            "Requirement already satisfied: PyDrive in /usr/local/lib/python3.6/dist-packages (1.3.1)\n",
            "Requirement already satisfied: oauth2client>=4.0.0 in /usr/local/lib/python3.6/dist-packages (from PyDrive) (4.1.3)\n",
            "Requirement already satisfied: PyYAML>=3.0 in /usr/local/lib/python3.6/dist-packages (from PyDrive) (3.13)\n",
            "Requirement already satisfied: google-api-python-client>=1.2 in /usr/local/lib/python3.6/dist-packages (from PyDrive) (1.6.7)\n",
            "Requirement already satisfied: six>=1.6.1 in /usr/local/lib/python3.6/dist-packages (from oauth2client>=4.0.0->PyDrive) (1.11.0)\n",
            "Requirement already satisfied: rsa>=3.1.4 in /usr/local/lib/python3.6/dist-packages (from oauth2client>=4.0.0->PyDrive) (4.0)\n",
            "Requirement already satisfied: pyasn1-modules>=0.0.5 in /usr/local/lib/python3.6/dist-packages (from oauth2client>=4.0.0->PyDrive) (0.2.2)\n",
            "Requirement already satisfied: httplib2>=0.9.1 in /usr/local/lib/python3.6/dist-packages (from oauth2client>=4.0.0->PyDrive) (0.11.3)\n",
            "Requirement already satisfied: pyasn1>=0.1.7 in /usr/local/lib/python3.6/dist-packages (from oauth2client>=4.0.0->PyDrive) (0.4.4)\n",
            "Requirement already satisfied: uritemplate<4dev,>=3.0.0 in /usr/local/lib/python3.6/dist-packages (from google-api-python-client>=1.2->PyDrive) (3.0.0)\n"
          ],
          "name": "stdout"
        }
      ]
    },
    {
      "metadata": {
        "id": "OdaHCMv2rGKs",
        "colab_type": "code",
        "outputId": "4c25ffe9-28d1-4b60-dc3e-c1bb37427aba",
        "colab": {
          "base_uri": "https://localhost:8080/",
          "height": 53
        }
      },
      "cell_type": "code",
      "source": [
        "import os\n",
        "import tensorflow as tf\n",
        "from tensorflow import keras\n",
        "import numpy as np\n",
        "import urllib.request\n",
        "import pandas as pd\n",
        "from gensim.test.utils import common_texts, get_tmpfile\n",
        "from gensim.utils import simple_preprocess\n",
        "from gensim.models import Word2Vec\n",
        "from tempfile import gettempdir\n",
        "import zipfile\n",
        "from keras.preprocessing.text import Tokenizer\n",
        "from keras.preprocessing.sequence import pad_sequences\n",
        "from keras.utils import to_categorical\n",
        "from pydrive.auth import GoogleAuth\n",
        "from pydrive.drive import GoogleDrive\n",
        "from google.colab import auth\n",
        "from oauth2client.client import GoogleCredentials\n",
        "from sklearn.model_selection import train_test_split\n",
        "from sklearn.metrics import confusion_matrix, precision_recall_fscore_support, accuracy_score\n",
        "import matplotlib.pyplot as plt\n",
        "import seaborn as sns\n",
        "\n",
        "print(tf.__version__)"
      ],
      "execution_count": 0,
      "outputs": [
        {
          "output_type": "stream",
          "text": [
            "Using TensorFlow backend.\n"
          ],
          "name": "stderr"
        },
        {
          "output_type": "stream",
          "text": [
            "1.12.0\n"
          ],
          "name": "stdout"
        }
      ]
    },
    {
      "metadata": {
        "id": "VMhX1N2k4SgY",
        "colab_type": "code",
        "colab": {}
      },
      "cell_type": "code",
      "source": [
        "# 1. Authenticate and create the PyDrive client.\n",
        "auth.authenticate_user()\n",
        "gauth = GoogleAuth()\n",
        "gauth.credentials = GoogleCredentials.get_application_default()\n",
        "drive = GoogleDrive(gauth)"
      ],
      "execution_count": 0,
      "outputs": []
    },
    {
      "metadata": {
        "id": "6FJlfk614hrw",
        "colab_type": "code",
        "colab": {}
      },
      "cell_type": "code",
      "source": [
        "# download google drive file\n",
        "def download_drive_file(drive_directory, filename):\n",
        "  list_file_query = \"title='{}' and trashed=false\".format(drive_directory)\n",
        "  file_list = drive.ListFile({'q': list_file_query}).GetList()\n",
        "\n",
        "  if len(file_list) > 0:\n",
        "    directory_id = file_list[0]['id']\n",
        "\n",
        "    list_file_query = \"'{}' in parents\".format(directory_id)\n",
        "\n",
        "    file_list = drive.ListFile({'q': list_file_query}).GetList()\n",
        "    \n",
        "    file_id = None\n",
        "    for file1 in file_list:\n",
        "      if file1['title'] == filename:\n",
        "        print(\"downloading file {}\".format(file1['title']))\n",
        "        file1.GetContentFile(file1['title'])"
      ],
      "execution_count": 0,
      "outputs": []
    },
    {
      "metadata": {
        "id": "2KRH2n6dEvz3",
        "colab_type": "code",
        "colab": {}
      },
      "cell_type": "code",
      "source": [
        "# upload google drive file\n",
        "def upload_drive_file(drive_directory, filename):\n",
        "  list_file_query = \"title='{}' and trashed=false\".format(drive_directory)\n",
        "  file_list = drive.ListFile({'q': list_file_query}).GetList()\n",
        "\n",
        "  if len(file_list) > 0:\n",
        "    directory_id = file_list[0]['id']\n",
        "    file = drive.CreateFile({\n",
        "        'title': filename, \n",
        "        \"parents\": [{\"kind\": \"drive#fileLink\",\"id\": directory_id}]\n",
        "    })\n",
        "    file.SetContentFile(filename)\n",
        "    file.Upload()"
      ],
      "execution_count": 0,
      "outputs": []
    },
    {
      "metadata": {
        "id": "zFoyaJyBEyOZ",
        "colab_type": "code",
        "colab": {}
      },
      "cell_type": "code",
      "source": [
        "def save_numpy_array(numpy_array, filename):\n",
        "  np.save(filename, numpy_array)\n",
        "  \n",
        "def save_n_upload_numpy_array(numpy_array, drive_directory, filename):\n",
        "  save_numpy_array(numpy_array, filename)\n",
        "  upload_drive_file(drive_directory, filename)"
      ],
      "execution_count": 0,
      "outputs": []
    },
    {
      "metadata": {
        "id": "oBynQmEcrNAy",
        "colab_type": "code",
        "colab": {}
      },
      "cell_type": "code",
      "source": [
        "class EmoIntDataset(object):\n",
        "  BASE_URL = \"http://saifmohammad.com/WebDocs/\"\n",
        "  TRAIN_URI = \"EmoInt%20Train%20Data/{}-ratings-0to1.train.txt\"\n",
        "  TEST_URI = \"EmoInt%20Test%20Gold%20Data/{}-ratings-0to1.test.gold.txt\"\n",
        "  EMOTION_CLASSES = [\"anger\", \"fear\", \"joy\", \"sadness\"]\n",
        "  \n",
        "  THRESHOLD = 0.33\n",
        "  \n",
        "  def __load_data_per_class(self, url, threshold=0):\n",
        "    resource = urllib.request.urlopen(url)\n",
        "    np_array = np.asarray([line.split('\\t') for line in [line.strip() for line in resource.read().decode('utf-8').splitlines()]])\n",
        "    df = pd.DataFrame(np_array, columns=[\"id\", \"text\", \"emotion\", \"emotion_level\"])\n",
        "    df['emotion_level'] = df['emotion_level'].astype(float)\n",
        "    df = df.query('emotion_level>' + str(threshold))\n",
        "    return df[[\"text\", \"emotion\"]]\n",
        "  \n",
        "  def load_data(self, set_threshold=False):\n",
        "    train_data = None\n",
        "    test_data = None\n",
        "    \n",
        "    for emotion in self.EMOTION_CLASSES:\n",
        "      # load train dataset\n",
        "      train_df = self.__load_data_per_class(self.BASE_URL + self.TRAIN_URI.format(emotion), threshold=(self.THRESHOLD if set_threshold else 0))\n",
        "      \n",
        "      # load test dataset\n",
        "      test_df = self.__load_data_per_class(self.BASE_URL + self.TEST_URI.format(emotion), threshold=(self.THRESHOLD if set_threshold else 0))\n",
        "      \n",
        "      train_data = (train_df if train_data is None else train_data.append(train_df))\n",
        "      test_data = (test_df if test_data is None else test_data.append(test_df))\n",
        "      \n",
        "    return train_data, test_data"
      ],
      "execution_count": 0,
      "outputs": []
    },
    {
      "metadata": {
        "id": "tevwfq4Tu6fe",
        "colab_type": "code",
        "outputId": "ec36e15a-4715-4252-aabf-39e9cf5965b8",
        "colab": {
          "base_uri": "https://localhost:8080/",
          "height": 71
        }
      },
      "cell_type": "code",
      "source": [
        "emo_int_dataset = EmoIntDataset()\n",
        "train_data, test_data = emo_int_dataset.load_data(set_threshold=True)\n",
        "train_data, valid_data = train_test_split(train_data, test_size=0.1, random_state=200, stratify=train_data.emotion)\n",
        "\n",
        "print(train_data.shape)\n",
        "print(valid_data.shape)\n",
        "print(test_data.shape)"
      ],
      "execution_count": 0,
      "outputs": [
        {
          "output_type": "stream",
          "text": [
            "(2610, 2)\n",
            "(291, 2)\n",
            "(2508, 2)\n"
          ],
          "name": "stdout"
        }
      ]
    },
    {
      "metadata": {
        "id": "J-xXkD_4175U",
        "colab_type": "code",
        "outputId": "a7a98816-a9aa-4124-f705-80c699360ece",
        "colab": {
          "base_uri": "https://localhost:8080/",
          "height": 53
        }
      },
      "cell_type": "code",
      "source": [
        "emotions = train_data.emotion.unique()\n",
        "dic = dict()\n",
        "labels = []\n",
        "for i, emotion in enumerate(emotions):\n",
        "    dic[emotion]=i\n",
        "    labels.append(emotion)\n",
        "print(dic)\n",
        "print(labels)"
      ],
      "execution_count": 0,
      "outputs": [
        {
          "output_type": "stream",
          "text": [
            "{'fear': 0, 'anger': 1, 'sadness': 2, 'joy': 3}\n",
            "['fear', 'anger', 'sadness', 'joy']\n"
          ],
          "name": "stdout"
        }
      ]
    },
    {
      "metadata": {
        "id": "yhA_GXLyw1gx",
        "colab_type": "code",
        "outputId": "1e3a39c7-2e9b-4c4f-8683-cbd05b975ce8",
        "colab": {
          "base_uri": "https://localhost:8080/",
          "height": 35
        }
      },
      "cell_type": "code",
      "source": [
        "NUM_WORDS=20000\n",
        "texts = train_data.text\n",
        "tokenizer = Tokenizer(num_words=NUM_WORDS,filters='!\"#$%&()*+,-./:;<=>?@[\\\\]^_`{|}~\\t\\n\\'',\n",
        "                      lower=True)\n",
        "tokenizer.fit_on_texts(texts)\n",
        "sequences_train = tokenizer.texts_to_sequences(texts)\n",
        "sequences_valid = tokenizer.texts_to_sequences(valid_data.text)\n",
        "sequences_test = tokenizer.texts_to_sequences(test_data.text)\n",
        "word_index = tokenizer.word_index\n",
        "print('Found %s unique tokens.' % len(word_index))"
      ],
      "execution_count": 0,
      "outputs": [
        {
          "output_type": "stream",
          "text": [
            "Found 8672 unique tokens.\n"
          ],
          "name": "stdout"
        }
      ]
    },
    {
      "metadata": {
        "id": "f3a8LX2z0Vn3",
        "colab_type": "code",
        "outputId": "9b05668d-f7b4-461c-a0eb-73f44b7dea6d",
        "colab": {
          "base_uri": "https://localhost:8080/",
          "height": 53
        }
      },
      "cell_type": "code",
      "source": [
        "X_train = pad_sequences(sequences_train)\n",
        "X_val = pad_sequences(sequences_valid, maxlen=X_train.shape[1])\n",
        "X_test = pad_sequences(sequences_test, maxlen=X_train.shape[1])\n",
        "\n",
        "y_train = to_categorical(np.asarray(train_data.emotion.apply(lambda x:dic[x])))\n",
        "y_val = to_categorical(np.asarray(valid_data.emotion.apply(lambda x:dic[x])))\n",
        "y_test = to_categorical(np.asarray(test_data.emotion.apply(lambda x:dic[x])))\n",
        "\n",
        "print('Shape of X train, validation and test tensor:', X_train.shape, X_val.shape, X_test.shape)\n",
        "print('Shape of label train, validation and test tensor:', y_train.shape, y_val.shape, y_test.shape)"
      ],
      "execution_count": 0,
      "outputs": [
        {
          "output_type": "stream",
          "text": [
            "Shape of X train, validation and test tensor: (2610, 33) (291, 33) (2508, 33)\n",
            "Shape of label train, validation and test tensor: (2610, 4) (291, 4) (2508, 4)\n"
          ],
          "name": "stdout"
        }
      ]
    },
    {
      "metadata": {
        "id": "WPzDX7qc6eQx",
        "colab_type": "code",
        "outputId": "c5399a48-e409-4a02-8962-9980a7891804",
        "colab": {
          "base_uri": "https://localhost:8080/",
          "height": 35
        }
      },
      "cell_type": "code",
      "source": [
        "download_drive_file(\"Datasets\", \"GoogleNews-vectors-negative300.bin.gz\")"
      ],
      "execution_count": 0,
      "outputs": [
        {
          "output_type": "stream",
          "text": [
            "downloading file GoogleNews-vectors-negative300.bin.gz\n"
          ],
          "name": "stdout"
        }
      ]
    },
    {
      "metadata": {
        "id": "naD_jPLlmlFq",
        "colab_type": "code",
        "colab": {}
      },
      "cell_type": "code",
      "source": [
        "import gensim\n",
        "from gensim.models import Word2Vec\n",
        "from gensim.utils import simple_preprocess\n",
        "\n",
        "from gensim.models.keyedvectors import KeyedVectors\n",
        "\n",
        "word_vectors = KeyedVectors.load_word2vec_format('GoogleNews-vectors-negative300.bin.gz', binary=True)\n",
        "\n",
        "EMBEDDING_DIM=300\n",
        "vocabulary_size = min(len(word_index)+1, NUM_WORDS)\n",
        "embedding_matrix = np.zeros((vocabulary_size, EMBEDDING_DIM))\n",
        "for word, i in word_index.items():\n",
        "    if i>=NUM_WORDS:\n",
        "        continue\n",
        "    try:\n",
        "        embedding_vector = word_vectors[word]\n",
        "        embedding_matrix[i] = embedding_vector\n",
        "    except KeyError:\n",
        "        embedding_matrix[i] = np.random.normal(0,np.sqrt(0.25), EMBEDDING_DIM)\n",
        "\n",
        "del(word_vectors)\n",
        "\n",
        "from keras.layers import Embedding\n",
        "embedding_layer = Embedding(vocabulary_size, EMBEDDING_DIM, weights=[embedding_matrix], trainable=True)"
      ],
      "execution_count": 0,
      "outputs": []
    },
    {
      "metadata": {
        "id": "5H1f3UbhE329",
        "colab_type": "text"
      },
      "cell_type": "markdown",
      "source": [
        "## Reload embedding layer and training dataset"
      ]
    },
    {
      "metadata": {
        "id": "W_ksCjVeE3a2",
        "colab_type": "code",
        "outputId": "0735ce9c-b13f-43f8-9942-081318aca6f6",
        "colab": {
          "base_uri": "https://localhost:8080/",
          "height": 71
        }
      },
      "cell_type": "code",
      "source": [
        "file_embedded_matrix = \"emoint_embedded_matrix_word2vec.npy\"\n",
        "download_drive_file(\"Colab Notebooks\", file_embedded_matrix)\n",
        "embedding_matrix = np.load(file_embedded_matrix)\n",
        "print(\"embedding matrix shape:\", embedding_matrix.shape)"
      ],
      "execution_count": 0,
      "outputs": [
        {
          "output_type": "stream",
          "text": [
            "downloading file emoint_embedded_matrix_word2vec.npy\n",
            "downloading file emoint_embedded_matrix_word2vec.npy\n",
            "embedding matrix shape: (8673, 300)\n"
          ],
          "name": "stdout"
        }
      ]
    },
    {
      "metadata": {
        "id": "FGZlNGwuE73I",
        "colab_type": "code",
        "outputId": "777edc4c-7132-4a44-85f7-043f3b90a1d2",
        "colab": {
          "base_uri": "https://localhost:8080/",
          "height": 449
        }
      },
      "cell_type": "code",
      "source": [
        "download_drive_file(\"Colab Notebooks\", \"emoint_X_train.npy\")\n",
        "download_drive_file(\"Colab Notebooks\", \"emoint_X_val.npy\")\n",
        "download_drive_file(\"Colab Notebooks\", \"emoint_X_test.npy\")\n",
        "\n",
        "download_drive_file(\"Colab Notebooks\", \"emoint_y_train.npy\")\n",
        "download_drive_file(\"Colab Notebooks\", \"emoint_y_val.npy\")\n",
        "download_drive_file(\"Colab Notebooks\", \"emoint_y_test.npy\")\n",
        "\n",
        "X_train = np.load(\"emoint_X_train.npy\")\n",
        "X_val = np.load(\"emoint_X_val.npy\")\n",
        "X_test = np.load(\"emoint_X_test.npy\")\n",
        "\n",
        "y_train = np.load(\"emoint_y_train.npy\")\n",
        "y_val = np.load(\"emoint_y_val.npy\")\n",
        "y_test = np.load(\"emoint_y_test.npy\")"
      ],
      "execution_count": 0,
      "outputs": [
        {
          "output_type": "stream",
          "text": [
            "downloading file emoint_X_train.npy\n",
            "downloading file emoint_X_train.npy\n",
            "downloading file emoint_X_train.npy\n",
            "downloading file emoint_X_train.npy\n",
            "downloading file emoint_X_val.npy\n",
            "downloading file emoint_X_val.npy\n",
            "downloading file emoint_X_val.npy\n",
            "downloading file emoint_X_val.npy\n",
            "downloading file emoint_X_test.npy\n",
            "downloading file emoint_X_test.npy\n",
            "downloading file emoint_X_test.npy\n",
            "downloading file emoint_X_test.npy\n",
            "downloading file emoint_y_train.npy\n",
            "downloading file emoint_y_train.npy\n",
            "downloading file emoint_y_train.npy\n",
            "downloading file emoint_y_train.npy\n",
            "downloading file emoint_y_val.npy\n",
            "downloading file emoint_y_val.npy\n",
            "downloading file emoint_y_val.npy\n",
            "downloading file emoint_y_val.npy\n",
            "downloading file emoint_y_test.npy\n",
            "downloading file emoint_y_test.npy\n",
            "downloading file emoint_y_test.npy\n",
            "downloading file emoint_y_test.npy\n"
          ],
          "name": "stdout"
        }
      ]
    },
    {
      "metadata": {
        "id": "Q0fX0z7_7Mi5",
        "colab_type": "code",
        "outputId": "ec459fa1-dea4-41ed-fada-bc92e1e56eb0",
        "colab": {
          "base_uri": "https://localhost:8080/",
          "height": 665
        }
      },
      "cell_type": "code",
      "source": [
        "from keras.layers import Dense, Input, GlobalMaxPooling1D\n",
        "from keras.layers import Conv1D, MaxPooling1D, Embedding\n",
        "from keras.models import Model\n",
        "from keras.layers import Input, Dense, Embedding, Conv2D, MaxPooling2D, Dropout, concatenate, LSTM\n",
        "from keras.layers.core import Reshape, Flatten\n",
        "from keras.callbacks import EarlyStopping, ModelCheckpoint\n",
        "from keras.optimizers import Adam, Adadelta, RMSprop\n",
        "from keras.models import Model\n",
        "from keras import regularizers\n",
        "sequence_length = X_train.shape[1]\n",
        "filter_sizes = [3,4,5]\n",
        "num_filters = 100\n",
        "drop_rate = 0.5\n",
        "vocabulary_size = 8673\n",
        "EMBEDDING_DIM=300\n",
        "\n",
        "print(sequence_length)\n",
        "\n",
        "inputs = Input(shape=(sequence_length,), name='input_1')\n",
        "embedding_layer = Embedding(vocabulary_size, EMBEDDING_DIM, weights=[embedding_matrix], input_length=sequence_length, trainable=True, name='embedding')\n",
        "embedding = embedding_layer(inputs)\n",
        "reshape = Reshape((sequence_length, EMBEDDING_DIM, 1), name='reshape_1')(embedding)\n",
        "\n",
        "conv_1 = Conv2D(num_filters, (filter_sizes[0], EMBEDDING_DIM), activation='relu',kernel_regularizer=regularizers.l2(0.01), name='conv_1')(reshape)\n",
        "conv_2 = Conv2D(num_filters, (filter_sizes[1], EMBEDDING_DIM), activation='relu',kernel_regularizer=regularizers.l2(0.01), name='conv_2')(reshape)\n",
        "conv_3 = Conv2D(num_filters, (filter_sizes[2], EMBEDDING_DIM), activation='relu',kernel_regularizer=regularizers.l2(0.01), name='conv_3')(reshape)\n",
        "\n",
        "maxpool_1 = MaxPooling2D((sequence_length - filter_sizes[0] + 1, 1), strides=1, name='maxpool_1')(conv_1)\n",
        "maxpool_2 = MaxPooling2D((sequence_length - filter_sizes[1] + 1, 1), strides=1, name='maxpool_2')(conv_2)\n",
        "maxpool_3 = MaxPooling2D((sequence_length - filter_sizes[2] + 1, 1), strides=1, name='maxpool_3')(conv_3)\n",
        "\n",
        "merged_tensor = concatenate([maxpool_1, maxpool_2, maxpool_3], axis=1, name='concatenate_1')\n",
        "flatten = Flatten()(merged_tensor)\n",
        "dropout = Dropout(drop_rate, name='dropout_1')(flatten)\n",
        "output = Dense(units=4, activation='softmax',kernel_regularizer=regularizers.l2(0.01), name='dense_1')(dropout)\n",
        "\n",
        "model = None \n",
        "\n",
        "# this creates a model that includes\n",
        "model = Model(inputs, output)\n",
        "\n",
        "model.summary()"
      ],
      "execution_count": 0,
      "outputs": [
        {
          "output_type": "stream",
          "text": [
            "33\n",
            "__________________________________________________________________________________________________\n",
            "Layer (type)                    Output Shape         Param #     Connected to                     \n",
            "==================================================================================================\n",
            "input_1 (InputLayer)            (None, 33)           0                                            \n",
            "__________________________________________________________________________________________________\n",
            "embedding (Embedding)           (None, 33, 300)      2601900     input_1[0][0]                    \n",
            "__________________________________________________________________________________________________\n",
            "reshape_1 (Reshape)             (None, 33, 300, 1)   0           embedding[0][0]                  \n",
            "__________________________________________________________________________________________________\n",
            "conv_1 (Conv2D)                 (None, 31, 1, 100)   90100       reshape_1[0][0]                  \n",
            "__________________________________________________________________________________________________\n",
            "conv_2 (Conv2D)                 (None, 30, 1, 100)   120100      reshape_1[0][0]                  \n",
            "__________________________________________________________________________________________________\n",
            "conv_3 (Conv2D)                 (None, 29, 1, 100)   150100      reshape_1[0][0]                  \n",
            "__________________________________________________________________________________________________\n",
            "maxpool_1 (MaxPooling2D)        (None, 1, 1, 100)    0           conv_1[0][0]                     \n",
            "__________________________________________________________________________________________________\n",
            "maxpool_2 (MaxPooling2D)        (None, 1, 1, 100)    0           conv_2[0][0]                     \n",
            "__________________________________________________________________________________________________\n",
            "maxpool_3 (MaxPooling2D)        (None, 1, 1, 100)    0           conv_3[0][0]                     \n",
            "__________________________________________________________________________________________________\n",
            "concatenate_1 (Concatenate)     (None, 3, 1, 100)    0           maxpool_1[0][0]                  \n",
            "                                                                 maxpool_2[0][0]                  \n",
            "                                                                 maxpool_3[0][0]                  \n",
            "__________________________________________________________________________________________________\n",
            "flatten_1 (Flatten)             (None, 300)          0           concatenate_1[0][0]              \n",
            "__________________________________________________________________________________________________\n",
            "dropout_1 (Dropout)             (None, 300)          0           flatten_1[0][0]                  \n",
            "__________________________________________________________________________________________________\n",
            "dense_1 (Dense)                 (None, 4)            1204        dropout_1[0][0]                  \n",
            "==================================================================================================\n",
            "Total params: 2,963,404\n",
            "Trainable params: 2,963,404\n",
            "Non-trainable params: 0\n",
            "__________________________________________________________________________________________________\n"
          ],
          "name": "stdout"
        }
      ]
    },
    {
      "metadata": {
        "id": "rClQ6sed4JA5",
        "colab_type": "code",
        "outputId": "b9e5e551-970b-40d4-f670-a15b3dea4c97",
        "colab": {
          "base_uri": "https://localhost:8080/",
          "height": 359
        }
      },
      "cell_type": "code",
      "source": [
        "!rm -r tmp\n",
        "!mkdir tmp\n",
        "!ls -lA"
      ],
      "execution_count": 0,
      "outputs": [
        {
          "output_type": "stream",
          "text": [
            "total 1801576\n",
            "-rw-r--r-- 1 root root       2530 Dec 17 03:53 adc.json\n",
            "drwxr-xr-x 1 root root       4096 Dec 17 03:53 .config\n",
            "-rw-r--r-- 1 root root   55482024 Dec 17 07:15 emoint_bidirectional_lstm_model.h5\n",
            "-rw-r--r-- 1 root root   27745664 Dec 17 07:15 emoint_bidirectional_lstm_weights.h5\n",
            "-rw-r--r-- 1 root root   20815328 Dec 17 07:31 emoint_embedded_matrix_word2vec.npy\n",
            "-rw-r--r-- 1 root root   38158376 Dec 17 07:00 emoint_lstm_model.h5\n",
            "-rw-r--r-- 1 root root   19083168 Dec 17 07:00 emoint_lstm_weights.h5\n",
            "-rw-r--r-- 1 root root   23748760 Dec 17 03:57 emoint_model.h5\n",
            "-rw-r--r-- 1 root root   11880960 Dec 17 03:57 emoint_weights.h5\n",
            "-rw-r--r-- 1 root root     331184 Dec 17 07:31 emoint_X_test.npy\n",
            "-rw-r--r-- 1 root root     344648 Dec 17 07:31 emoint_X_train.npy\n",
            "-rw-r--r-- 1 root root      38540 Dec 17 07:31 emoint_X_val.npy\n",
            "-rw-r--r-- 1 root root      40256 Dec 17 07:31 emoint_y_test.npy\n",
            "-rw-r--r-- 1 root root      41888 Dec 17 07:31 emoint_y_train.npy\n",
            "-rw-r--r-- 1 root root       4784 Dec 17 07:31 emoint_y_val.npy\n",
            "-rw-r--r-- 1 root root 1647046227 Dec 17 06:56 GoogleNews-vectors-negative300.bin.gz\n",
            "drwxr-xr-x 1 root root       4096 Dec 10 17:34 sample_data\n",
            "drwxr-xr-x 2 root root       4096 Dec 17 07:32 tmp\n"
          ],
          "name": "stdout"
        }
      ]
    },
    {
      "metadata": {
        "id": "8yp4WKi-FM_m",
        "colab_type": "text"
      },
      "cell_type": "markdown",
      "source": [
        "## Two-steps training"
      ]
    },
    {
      "metadata": {
        "id": "HHZ1POD77GRp",
        "colab_type": "code",
        "outputId": "d1bb2a8a-651f-44c3-dbff-8c1ed50751d0",
        "colab": {
          "base_uri": "https://localhost:8080/",
          "height": 7235
        }
      },
      "cell_type": "code",
      "source": [
        "adam = Adam(lr=1e-3, decay=0.0)\n",
        "adadelta = Adadelta(lr=1.0, rho=0.95, epsilon=None, decay=0.0)\n",
        "rmsprop = RMSprop(lr=0.001, rho=0.9, epsilon=None, decay=0.0)\n",
        "\n",
        "model.compile(loss='categorical_crossentropy', optimizer=rmsprop, metrics=['acc'])\n",
        "\n",
        "filepath=\"tmp/weights-{epoch:02d}-{val_acc:.2f}.hdf5\"\n",
        "model_checkpoint = ModelCheckpoint(filepath, monitor='val_acc', verbose=1, save_best_only=True, mode='auto')\n",
        "early_stopping = EarlyStopping(monitor='val_loss', patience=10)\n",
        "callbacks = [early_stopping, model_checkpoint]\n",
        "\n",
        "history = model.fit(X_train, y_train, batch_size=1000, epochs=100, verbose=1, validation_data=(X_val, y_val), callbacks=callbacks)  # starts training"
      ],
      "execution_count": 0,
      "outputs": [
        {
          "output_type": "stream",
          "text": [
            "Train on 2610 samples, validate on 291 samples\n",
            "Epoch 1/100\n",
            "2610/2610 [==============================] - 5s 2ms/step - loss: 1.6730 - acc: 0.2801 - val_loss: 1.6613 - val_acc: 0.3574\n",
            "\n",
            "Epoch 00001: val_acc improved from -inf to 0.35739, saving model to tmp/weights-01-0.36.hdf5\n",
            "Epoch 2/100\n",
            "2610/2610 [==============================] - 0s 139us/step - loss: 1.5620 - acc: 0.4195 - val_loss: 1.5330 - val_acc: 0.3608\n",
            "\n",
            "Epoch 00002: val_acc improved from 0.35739 to 0.36082, saving model to tmp/weights-02-0.36.hdf5\n",
            "Epoch 3/100\n",
            "2610/2610 [==============================] - 0s 131us/step - loss: 1.3372 - acc: 0.5644 - val_loss: 1.3317 - val_acc: 0.5464\n",
            "\n",
            "Epoch 00003: val_acc improved from 0.36082 to 0.54639, saving model to tmp/weights-03-0.55.hdf5\n",
            "Epoch 4/100\n",
            "2610/2610 [==============================] - 0s 135us/step - loss: 1.1846 - acc: 0.7034 - val_loss: 1.2336 - val_acc: 0.6529\n",
            "\n",
            "Epoch 00004: val_acc improved from 0.54639 to 0.65292, saving model to tmp/weights-04-0.65.hdf5\n",
            "Epoch 5/100\n",
            "2610/2610 [==============================] - 0s 132us/step - loss: 1.0676 - acc: 0.7793 - val_loss: 1.1255 - val_acc: 0.7320\n",
            "\n",
            "Epoch 00005: val_acc improved from 0.65292 to 0.73196, saving model to tmp/weights-05-0.73.hdf5\n",
            "Epoch 6/100\n",
            "2610/2610 [==============================] - 0s 135us/step - loss: 0.9550 - acc: 0.8544 - val_loss: 1.0379 - val_acc: 0.8247\n",
            "\n",
            "Epoch 00006: val_acc improved from 0.73196 to 0.82474, saving model to tmp/weights-06-0.82.hdf5\n",
            "Epoch 7/100\n",
            "2610/2610 [==============================] - 0s 132us/step - loss: 0.8530 - acc: 0.9061 - val_loss: 0.9534 - val_acc: 0.8041\n",
            "\n",
            "Epoch 00007: val_acc did not improve from 0.82474\n",
            "Epoch 8/100\n",
            "2610/2610 [==============================] - 0s 134us/step - loss: 0.7736 - acc: 0.9192 - val_loss: 0.8892 - val_acc: 0.8522\n",
            "\n",
            "Epoch 00008: val_acc improved from 0.82474 to 0.85223, saving model to tmp/weights-08-0.85.hdf5\n",
            "Epoch 9/100\n",
            "2610/2610 [==============================] - 0s 132us/step - loss: 0.7079 - acc: 0.9387 - val_loss: 0.8429 - val_acc: 0.8316\n",
            "\n",
            "Epoch 00009: val_acc did not improve from 0.85223\n",
            "Epoch 10/100\n",
            "2610/2610 [==============================] - 0s 132us/step - loss: 0.6404 - acc: 0.9479 - val_loss: 0.7913 - val_acc: 0.8694\n",
            "\n",
            "Epoch 00010: val_acc improved from 0.85223 to 0.86942, saving model to tmp/weights-10-0.87.hdf5\n",
            "Epoch 11/100\n",
            "2610/2610 [==============================] - 0s 128us/step - loss: 0.5966 - acc: 0.9621 - val_loss: 0.7592 - val_acc: 0.8694\n",
            "\n",
            "Epoch 00011: val_acc did not improve from 0.86942\n",
            "Epoch 12/100\n",
            "2610/2610 [==============================] - 0s 134us/step - loss: 0.5614 - acc: 0.9628 - val_loss: 0.7316 - val_acc: 0.8832\n",
            "\n",
            "Epoch 00012: val_acc improved from 0.86942 to 0.88316, saving model to tmp/weights-12-0.88.hdf5\n",
            "Epoch 13/100\n",
            "2610/2610 [==============================] - 0s 133us/step - loss: 0.5372 - acc: 0.9636 - val_loss: 0.7070 - val_acc: 0.8832\n",
            "\n",
            "Epoch 00013: val_acc did not improve from 0.88316\n",
            "Epoch 14/100\n",
            "2610/2610 [==============================] - 0s 131us/step - loss: 0.5004 - acc: 0.9690 - val_loss: 0.6895 - val_acc: 0.8935\n",
            "\n",
            "Epoch 00014: val_acc improved from 0.88316 to 0.89347, saving model to tmp/weights-14-0.89.hdf5\n",
            "Epoch 15/100\n",
            "2610/2610 [==============================] - 0s 132us/step - loss: 0.4811 - acc: 0.9732 - val_loss: 0.6729 - val_acc: 0.8866\n",
            "\n",
            "Epoch 00015: val_acc did not improve from 0.89347\n",
            "Epoch 16/100\n",
            "2610/2610 [==============================] - 0s 133us/step - loss: 0.4615 - acc: 0.9713 - val_loss: 0.6548 - val_acc: 0.8832\n",
            "\n",
            "Epoch 00016: val_acc did not improve from 0.89347\n",
            "Epoch 17/100\n",
            "2610/2610 [==============================] - 0s 130us/step - loss: 0.4452 - acc: 0.9759 - val_loss: 0.6420 - val_acc: 0.8935\n",
            "\n",
            "Epoch 00017: val_acc did not improve from 0.89347\n",
            "Epoch 18/100\n",
            "2610/2610 [==============================] - 0s 134us/step - loss: 0.4302 - acc: 0.9755 - val_loss: 0.6212 - val_acc: 0.8935\n",
            "\n",
            "Epoch 00018: val_acc did not improve from 0.89347\n",
            "Epoch 19/100\n",
            "2610/2610 [==============================] - 0s 132us/step - loss: 0.4140 - acc: 0.9782 - val_loss: 0.6254 - val_acc: 0.8935\n",
            "\n",
            "Epoch 00019: val_acc did not improve from 0.89347\n",
            "Epoch 20/100\n",
            "2610/2610 [==============================] - 0s 132us/step - loss: 0.4081 - acc: 0.9774 - val_loss: 0.6586 - val_acc: 0.8729\n",
            "\n",
            "Epoch 00020: val_acc did not improve from 0.89347\n",
            "Epoch 21/100\n",
            "2610/2610 [==============================] - 0s 136us/step - loss: 0.4107 - acc: 0.9743 - val_loss: 0.5997 - val_acc: 0.9003\n",
            "\n",
            "Epoch 00021: val_acc improved from 0.89347 to 0.90034, saving model to tmp/weights-21-0.90.hdf5\n",
            "Epoch 22/100\n",
            "2610/2610 [==============================] - 0s 133us/step - loss: 0.3871 - acc: 0.9770 - val_loss: 0.5965 - val_acc: 0.8866\n",
            "\n",
            "Epoch 00022: val_acc did not improve from 0.90034\n",
            "Epoch 23/100\n",
            "2610/2610 [==============================] - 0s 132us/step - loss: 0.3748 - acc: 0.9820 - val_loss: 0.5943 - val_acc: 0.8969\n",
            "\n",
            "Epoch 00023: val_acc did not improve from 0.90034\n",
            "Epoch 24/100\n",
            "2610/2610 [==============================] - 0s 134us/step - loss: 0.3657 - acc: 0.9801 - val_loss: 0.5898 - val_acc: 0.8900\n",
            "\n",
            "Epoch 00024: val_acc did not improve from 0.90034\n",
            "Epoch 25/100\n",
            "2610/2610 [==============================] - 0s 132us/step - loss: 0.3721 - acc: 0.9743 - val_loss: 0.5719 - val_acc: 0.8969\n",
            "\n",
            "Epoch 00025: val_acc did not improve from 0.90034\n",
            "Epoch 26/100\n",
            "2610/2610 [==============================] - 0s 132us/step - loss: 0.3464 - acc: 0.9808 - val_loss: 0.5508 - val_acc: 0.9038\n",
            "\n",
            "Epoch 00026: val_acc improved from 0.90034 to 0.90378, saving model to tmp/weights-26-0.90.hdf5\n",
            "Epoch 27/100\n",
            "2610/2610 [==============================] - 0s 130us/step - loss: 0.3381 - acc: 0.9816 - val_loss: 0.5524 - val_acc: 0.8969\n",
            "\n",
            "Epoch 00027: val_acc did not improve from 0.90378\n",
            "Epoch 28/100\n",
            "2610/2610 [==============================] - 0s 130us/step - loss: 0.3337 - acc: 0.9831 - val_loss: 0.5530 - val_acc: 0.9003\n",
            "\n",
            "Epoch 00028: val_acc did not improve from 0.90378\n",
            "Epoch 29/100\n",
            "2610/2610 [==============================] - 0s 133us/step - loss: 0.3290 - acc: 0.9816 - val_loss: 0.5410 - val_acc: 0.9107\n",
            "\n",
            "Epoch 00029: val_acc improved from 0.90378 to 0.91065, saving model to tmp/weights-29-0.91.hdf5\n",
            "Epoch 30/100\n",
            "2610/2610 [==============================] - 0s 131us/step - loss: 0.3265 - acc: 0.9808 - val_loss: 0.5520 - val_acc: 0.8935\n",
            "\n",
            "Epoch 00030: val_acc did not improve from 0.91065\n",
            "Epoch 31/100\n",
            "2610/2610 [==============================] - 0s 131us/step - loss: 0.3210 - acc: 0.9805 - val_loss: 0.5425 - val_acc: 0.9107\n",
            "\n",
            "Epoch 00031: val_acc did not improve from 0.91065\n",
            "Epoch 32/100\n",
            "2610/2610 [==============================] - 0s 134us/step - loss: 0.3158 - acc: 0.9828 - val_loss: 0.5309 - val_acc: 0.8866\n",
            "\n",
            "Epoch 00032: val_acc did not improve from 0.91065\n",
            "Epoch 33/100\n",
            "2610/2610 [==============================] - 0s 130us/step - loss: 0.3066 - acc: 0.9847 - val_loss: 0.5215 - val_acc: 0.9141\n",
            "\n",
            "Epoch 00033: val_acc improved from 0.91065 to 0.91409, saving model to tmp/weights-33-0.91.hdf5\n",
            "Epoch 34/100\n",
            "2610/2610 [==============================] - 0s 132us/step - loss: 0.3069 - acc: 0.9820 - val_loss: 0.5172 - val_acc: 0.9003\n",
            "\n",
            "Epoch 00034: val_acc did not improve from 0.91409\n",
            "Epoch 35/100\n",
            "2610/2610 [==============================] - 0s 132us/step - loss: 0.2994 - acc: 0.9789 - val_loss: 0.5158 - val_acc: 0.9107\n",
            "\n",
            "Epoch 00035: val_acc did not improve from 0.91409\n",
            "Epoch 36/100\n",
            "2610/2610 [==============================] - 0s 136us/step - loss: 0.2943 - acc: 0.9854 - val_loss: 0.5625 - val_acc: 0.8866\n",
            "\n",
            "Epoch 00036: val_acc did not improve from 0.91409\n",
            "Epoch 37/100\n",
            "2610/2610 [==============================] - 0s 141us/step - loss: 0.2956 - acc: 0.9820 - val_loss: 0.5135 - val_acc: 0.9107\n",
            "\n",
            "Epoch 00037: val_acc did not improve from 0.91409\n",
            "Epoch 38/100\n",
            "2610/2610 [==============================] - 0s 131us/step - loss: 0.2831 - acc: 0.9831 - val_loss: 0.5040 - val_acc: 0.9107\n",
            "\n",
            "Epoch 00038: val_acc did not improve from 0.91409\n",
            "Epoch 39/100\n",
            "2610/2610 [==============================] - 0s 136us/step - loss: 0.2772 - acc: 0.9824 - val_loss: 0.4967 - val_acc: 0.9175\n",
            "\n",
            "Epoch 00039: val_acc improved from 0.91409 to 0.91753, saving model to tmp/weights-39-0.92.hdf5\n",
            "Epoch 40/100\n",
            "2610/2610 [==============================] - 0s 131us/step - loss: 0.2716 - acc: 0.9854 - val_loss: 0.5054 - val_acc: 0.8935\n",
            "\n",
            "Epoch 00040: val_acc did not improve from 0.91753\n",
            "Epoch 41/100\n",
            "2610/2610 [==============================] - 0s 131us/step - loss: 0.2779 - acc: 0.9824 - val_loss: 0.5044 - val_acc: 0.9072\n",
            "\n",
            "Epoch 00041: val_acc did not improve from 0.91753\n",
            "Epoch 42/100\n",
            "2610/2610 [==============================] - 0s 136us/step - loss: 0.2743 - acc: 0.9851 - val_loss: 0.5069 - val_acc: 0.8969\n",
            "\n",
            "Epoch 00042: val_acc did not improve from 0.91753\n",
            "Epoch 43/100\n",
            "2610/2610 [==============================] - 0s 131us/step - loss: 0.2620 - acc: 0.9870 - val_loss: 0.5189 - val_acc: 0.8866\n",
            "\n",
            "Epoch 00043: val_acc did not improve from 0.91753\n",
            "Epoch 44/100\n",
            "2610/2610 [==============================] - 0s 135us/step - loss: 0.2641 - acc: 0.9858 - val_loss: 0.4913 - val_acc: 0.9072\n",
            "\n",
            "Epoch 00044: val_acc did not improve from 0.91753\n",
            "Epoch 45/100\n",
            "2610/2610 [==============================] - 0s 131us/step - loss: 0.2551 - acc: 0.9862 - val_loss: 0.4928 - val_acc: 0.8935\n",
            "\n",
            "Epoch 00045: val_acc did not improve from 0.91753\n",
            "Epoch 46/100\n",
            "2610/2610 [==============================] - 0s 136us/step - loss: 0.2580 - acc: 0.9843 - val_loss: 0.4821 - val_acc: 0.9072\n",
            "\n",
            "Epoch 00046: val_acc did not improve from 0.91753\n",
            "Epoch 47/100\n",
            "2610/2610 [==============================] - 0s 132us/step - loss: 0.2538 - acc: 0.9858 - val_loss: 0.4688 - val_acc: 0.9072\n",
            "\n",
            "Epoch 00047: val_acc did not improve from 0.91753\n",
            "Epoch 48/100\n",
            "2610/2610 [==============================] - 0s 132us/step - loss: 0.2452 - acc: 0.9866 - val_loss: 0.4681 - val_acc: 0.9003\n",
            "\n",
            "Epoch 00048: val_acc did not improve from 0.91753\n",
            "Epoch 49/100\n",
            "2610/2610 [==============================] - 0s 135us/step - loss: 0.2495 - acc: 0.9866 - val_loss: 0.4692 - val_acc: 0.9003\n",
            "\n",
            "Epoch 00049: val_acc did not improve from 0.91753\n",
            "Epoch 50/100\n",
            "2610/2610 [==============================] - 0s 133us/step - loss: 0.2416 - acc: 0.9858 - val_loss: 0.4777 - val_acc: 0.8969\n",
            "\n",
            "Epoch 00050: val_acc did not improve from 0.91753\n",
            "Epoch 51/100\n",
            "2610/2610 [==============================] - 0s 131us/step - loss: 0.2399 - acc: 0.9843 - val_loss: 0.4659 - val_acc: 0.9038\n",
            "\n",
            "Epoch 00051: val_acc did not improve from 0.91753\n",
            "Epoch 52/100\n",
            "2610/2610 [==============================] - 0s 135us/step - loss: 0.2388 - acc: 0.9862 - val_loss: 0.4708 - val_acc: 0.9003\n",
            "\n",
            "Epoch 00052: val_acc did not improve from 0.91753\n",
            "Epoch 53/100\n",
            "2610/2610 [==============================] - 0s 132us/step - loss: 0.2350 - acc: 0.9854 - val_loss: 0.4562 - val_acc: 0.9072\n",
            "\n",
            "Epoch 00053: val_acc did not improve from 0.91753\n",
            "Epoch 54/100\n",
            "2610/2610 [==============================] - 0s 135us/step - loss: 0.2288 - acc: 0.9881 - val_loss: 0.4667 - val_acc: 0.9072\n",
            "\n",
            "Epoch 00054: val_acc did not improve from 0.91753\n",
            "Epoch 55/100\n",
            "2610/2610 [==============================] - 0s 130us/step - loss: 0.2257 - acc: 0.9908 - val_loss: 0.4494 - val_acc: 0.9107\n",
            "\n",
            "Epoch 00055: val_acc did not improve from 0.91753\n",
            "Epoch 56/100\n",
            "2610/2610 [==============================] - 0s 133us/step - loss: 0.2247 - acc: 0.9870 - val_loss: 0.4655 - val_acc: 0.9038\n",
            "\n",
            "Epoch 00056: val_acc did not improve from 0.91753\n",
            "Epoch 57/100\n",
            "2610/2610 [==============================] - 0s 132us/step - loss: 0.2276 - acc: 0.9843 - val_loss: 0.4597 - val_acc: 0.9072\n",
            "\n",
            "Epoch 00057: val_acc did not improve from 0.91753\n",
            "Epoch 58/100\n",
            "2610/2610 [==============================] - 0s 135us/step - loss: 0.2253 - acc: 0.9866 - val_loss: 0.5082 - val_acc: 0.8866\n",
            "\n",
            "Epoch 00058: val_acc did not improve from 0.91753\n",
            "Epoch 59/100\n",
            "2610/2610 [==============================] - 0s 132us/step - loss: 0.2337 - acc: 0.9851 - val_loss: 0.4597 - val_acc: 0.9072\n",
            "\n",
            "Epoch 00059: val_acc did not improve from 0.91753\n",
            "Epoch 60/100\n",
            "2610/2610 [==============================] - 0s 133us/step - loss: 0.2191 - acc: 0.9881 - val_loss: 0.4435 - val_acc: 0.9038\n",
            "\n",
            "Epoch 00060: val_acc did not improve from 0.91753\n",
            "Epoch 61/100\n",
            "2610/2610 [==============================] - 0s 131us/step - loss: 0.2123 - acc: 0.9881 - val_loss: 0.4375 - val_acc: 0.9072\n",
            "\n",
            "Epoch 00061: val_acc did not improve from 0.91753\n",
            "Epoch 62/100\n",
            "2610/2610 [==============================] - 0s 135us/step - loss: 0.2113 - acc: 0.9862 - val_loss: 0.4455 - val_acc: 0.9072\n",
            "\n",
            "Epoch 00062: val_acc did not improve from 0.91753\n",
            "Epoch 63/100\n",
            "2610/2610 [==============================] - 0s 131us/step - loss: 0.2147 - acc: 0.9870 - val_loss: 0.4380 - val_acc: 0.9107\n",
            "\n",
            "Epoch 00063: val_acc did not improve from 0.91753\n",
            "Epoch 64/100\n",
            "2610/2610 [==============================] - 0s 133us/step - loss: 0.2070 - acc: 0.9885 - val_loss: 0.4356 - val_acc: 0.9107\n",
            "\n",
            "Epoch 00064: val_acc did not improve from 0.91753\n",
            "Epoch 65/100\n",
            "2610/2610 [==============================] - 0s 133us/step - loss: 0.2048 - acc: 0.9877 - val_loss: 0.4354 - val_acc: 0.9107\n",
            "\n",
            "Epoch 00065: val_acc did not improve from 0.91753\n",
            "Epoch 66/100\n",
            "2610/2610 [==============================] - 0s 138us/step - loss: 0.2072 - acc: 0.9866 - val_loss: 0.4328 - val_acc: 0.9107\n",
            "\n",
            "Epoch 00066: val_acc did not improve from 0.91753\n",
            "Epoch 67/100\n",
            "2610/2610 [==============================] - 0s 134us/step - loss: 0.2014 - acc: 0.9858 - val_loss: 0.4176 - val_acc: 0.9141\n",
            "\n",
            "Epoch 00067: val_acc did not improve from 0.91753\n",
            "Epoch 68/100\n",
            "2610/2610 [==============================] - 0s 133us/step - loss: 0.2057 - acc: 0.9866 - val_loss: 0.4685 - val_acc: 0.8969\n",
            "\n",
            "Epoch 00068: val_acc did not improve from 0.91753\n",
            "Epoch 69/100\n",
            "2610/2610 [==============================] - 0s 133us/step - loss: 0.2109 - acc: 0.9843 - val_loss: 0.4324 - val_acc: 0.9141\n",
            "\n",
            "Epoch 00069: val_acc did not improve from 0.91753\n",
            "Epoch 70/100\n",
            "2610/2610 [==============================] - 0s 134us/step - loss: 0.2026 - acc: 0.9870 - val_loss: 0.4381 - val_acc: 0.9072\n",
            "\n",
            "Epoch 00070: val_acc did not improve from 0.91753\n",
            "Epoch 71/100\n",
            "2610/2610 [==============================] - 0s 136us/step - loss: 0.1950 - acc: 0.9885 - val_loss: 0.4302 - val_acc: 0.9072\n",
            "\n",
            "Epoch 00071: val_acc did not improve from 0.91753\n",
            "Epoch 72/100\n",
            "2610/2610 [==============================] - 0s 135us/step - loss: 0.1960 - acc: 0.9870 - val_loss: 0.4154 - val_acc: 0.9107\n",
            "\n",
            "Epoch 00072: val_acc did not improve from 0.91753\n",
            "Epoch 73/100\n",
            "2610/2610 [==============================] - 0s 134us/step - loss: 0.1943 - acc: 0.9870 - val_loss: 0.4228 - val_acc: 0.9107\n",
            "\n",
            "Epoch 00073: val_acc did not improve from 0.91753\n",
            "Epoch 74/100\n",
            "2610/2610 [==============================] - 0s 133us/step - loss: 0.1933 - acc: 0.9854 - val_loss: 0.4536 - val_acc: 0.8935\n",
            "\n",
            "Epoch 00074: val_acc did not improve from 0.91753\n",
            "Epoch 75/100\n",
            "2610/2610 [==============================] - 0s 130us/step - loss: 0.1941 - acc: 0.9885 - val_loss: 0.4269 - val_acc: 0.9003\n",
            "\n",
            "Epoch 00075: val_acc did not improve from 0.91753\n",
            "Epoch 76/100\n",
            "2610/2610 [==============================] - 0s 135us/step - loss: 0.1881 - acc: 0.9877 - val_loss: 0.4239 - val_acc: 0.9072\n",
            "\n",
            "Epoch 00076: val_acc did not improve from 0.91753\n",
            "Epoch 77/100\n",
            "2610/2610 [==============================] - 0s 130us/step - loss: 0.1885 - acc: 0.9866 - val_loss: 0.4153 - val_acc: 0.9141\n",
            "\n",
            "Epoch 00077: val_acc did not improve from 0.91753\n",
            "Epoch 78/100\n",
            "2610/2610 [==============================] - 0s 133us/step - loss: 0.1873 - acc: 0.9854 - val_loss: 0.4251 - val_acc: 0.9107\n",
            "\n",
            "Epoch 00078: val_acc did not improve from 0.91753\n",
            "Epoch 79/100\n",
            "2610/2610 [==============================] - 0s 135us/step - loss: 0.1863 - acc: 0.9862 - val_loss: 0.4192 - val_acc: 0.9107\n",
            "\n",
            "Epoch 00079: val_acc did not improve from 0.91753\n",
            "Epoch 80/100\n",
            "2610/2610 [==============================] - 0s 133us/step - loss: 0.1847 - acc: 0.9854 - val_loss: 0.4126 - val_acc: 0.9107\n",
            "\n",
            "Epoch 00080: val_acc did not improve from 0.91753\n",
            "Epoch 81/100\n",
            "2610/2610 [==============================] - 0s 132us/step - loss: 0.1831 - acc: 0.9874 - val_loss: 0.4240 - val_acc: 0.9003\n",
            "\n",
            "Epoch 00081: val_acc did not improve from 0.91753\n",
            "Epoch 82/100\n",
            "2610/2610 [==============================] - 0s 135us/step - loss: 0.1807 - acc: 0.9877 - val_loss: 0.4199 - val_acc: 0.9107\n",
            "\n",
            "Epoch 00082: val_acc did not improve from 0.91753\n",
            "Epoch 83/100\n",
            "2610/2610 [==============================] - 0s 134us/step - loss: 0.1849 - acc: 0.9839 - val_loss: 0.4281 - val_acc: 0.9003\n",
            "\n",
            "Epoch 00083: val_acc did not improve from 0.91753\n",
            "Epoch 84/100\n",
            "2610/2610 [==============================] - 0s 134us/step - loss: 0.1825 - acc: 0.9862 - val_loss: 0.4073 - val_acc: 0.9072\n",
            "\n",
            "Epoch 00084: val_acc did not improve from 0.91753\n",
            "Epoch 85/100\n",
            "2610/2610 [==============================] - 0s 132us/step - loss: 0.1749 - acc: 0.9870 - val_loss: 0.4183 - val_acc: 0.8969\n",
            "\n",
            "Epoch 00085: val_acc did not improve from 0.91753\n",
            "Epoch 86/100\n",
            "2610/2610 [==============================] - 0s 136us/step - loss: 0.1751 - acc: 0.9889 - val_loss: 0.4132 - val_acc: 0.9107\n",
            "\n",
            "Epoch 00086: val_acc did not improve from 0.91753\n",
            "Epoch 87/100\n",
            "2610/2610 [==============================] - 0s 136us/step - loss: 0.1784 - acc: 0.9889 - val_loss: 0.4084 - val_acc: 0.9038\n",
            "\n",
            "Epoch 00087: val_acc did not improve from 0.91753\n",
            "Epoch 88/100\n",
            "2610/2610 [==============================] - 0s 135us/step - loss: 0.1721 - acc: 0.9877 - val_loss: 0.3978 - val_acc: 0.9072\n",
            "\n",
            "Epoch 00088: val_acc did not improve from 0.91753\n",
            "Epoch 89/100\n",
            "2610/2610 [==============================] - 0s 132us/step - loss: 0.1751 - acc: 0.9877 - val_loss: 0.4007 - val_acc: 0.9072\n",
            "\n",
            "Epoch 00089: val_acc did not improve from 0.91753\n",
            "Epoch 90/100\n",
            "2610/2610 [==============================] - 0s 134us/step - loss: 0.1718 - acc: 0.9893 - val_loss: 0.3997 - val_acc: 0.9107\n",
            "\n",
            "Epoch 00090: val_acc did not improve from 0.91753\n",
            "Epoch 91/100\n",
            "2610/2610 [==============================] - 0s 132us/step - loss: 0.1707 - acc: 0.9877 - val_loss: 0.4129 - val_acc: 0.8935\n",
            "\n",
            "Epoch 00091: val_acc did not improve from 0.91753\n",
            "Epoch 92/100\n",
            "2610/2610 [==============================] - 0s 134us/step - loss: 0.1713 - acc: 0.9866 - val_loss: 0.3938 - val_acc: 0.9072\n",
            "\n",
            "Epoch 00092: val_acc did not improve from 0.91753\n",
            "Epoch 93/100\n",
            "2610/2610 [==============================] - 0s 134us/step - loss: 0.1641 - acc: 0.9908 - val_loss: 0.3940 - val_acc: 0.9107\n",
            "\n",
            "Epoch 00093: val_acc did not improve from 0.91753\n",
            "Epoch 94/100\n",
            "2610/2610 [==============================] - 0s 132us/step - loss: 0.1662 - acc: 0.9877 - val_loss: 0.4099 - val_acc: 0.9072\n",
            "\n",
            "Epoch 00094: val_acc did not improve from 0.91753\n",
            "Epoch 95/100\n",
            "2610/2610 [==============================] - 0s 132us/step - loss: 0.1690 - acc: 0.9877 - val_loss: 0.3924 - val_acc: 0.9038\n",
            "\n",
            "Epoch 00095: val_acc did not improve from 0.91753\n",
            "Epoch 96/100\n",
            "2610/2610 [==============================] - 0s 134us/step - loss: 0.1659 - acc: 0.9866 - val_loss: 0.3987 - val_acc: 0.9107\n",
            "\n",
            "Epoch 00096: val_acc did not improve from 0.91753\n",
            "Epoch 97/100\n",
            "2610/2610 [==============================] - 0s 133us/step - loss: 0.1644 - acc: 0.9866 - val_loss: 0.4204 - val_acc: 0.9038\n",
            "\n",
            "Epoch 00097: val_acc did not improve from 0.91753\n",
            "Epoch 98/100\n",
            "2610/2610 [==============================] - 0s 132us/step - loss: 0.1668 - acc: 0.9900 - val_loss: 0.3854 - val_acc: 0.9107\n",
            "\n",
            "Epoch 00098: val_acc did not improve from 0.91753\n",
            "Epoch 99/100\n",
            "2610/2610 [==============================] - 0s 135us/step - loss: 0.1661 - acc: 0.9854 - val_loss: 0.4003 - val_acc: 0.9107\n",
            "\n",
            "Epoch 00099: val_acc did not improve from 0.91753\n",
            "Epoch 100/100\n",
            "2610/2610 [==============================] - 0s 131us/step - loss: 0.1615 - acc: 0.9874 - val_loss: 0.3975 - val_acc: 0.9072\n",
            "\n",
            "Epoch 00100: val_acc did not improve from 0.91753\n"
          ],
          "name": "stdout"
        }
      ]
    },
    {
      "metadata": {
        "id": "tzlNz7u3FT_1",
        "colab_type": "code",
        "outputId": "8f01c895-1b6d-4dba-e476-c4df8a58b178",
        "colab": {
          "base_uri": "https://localhost:8080/",
          "height": 7235
        }
      },
      "cell_type": "code",
      "source": [
        "X_train_combined = np.concatenate((X_train, X_val))\n",
        "y_train_combined = np.concatenate((y_train, y_val))\n",
        "\n",
        "history = model.fit(X_train_combined, y_train_combined, batch_size=1000, epochs=100, verbose=1, validation_data=(X_val, y_val), callbacks=callbacks)  # starts training"
      ],
      "execution_count": 0,
      "outputs": [
        {
          "output_type": "stream",
          "text": [
            "Train on 2901 samples, validate on 291 samples\n",
            "Epoch 1/100\n",
            "2901/2901 [==============================] - 1s 405us/step - loss: 0.1872 - acc: 0.9790 - val_loss: 0.3515 - val_acc: 0.9141\n",
            "\n",
            "Epoch 00001: val_acc did not improve from 0.91753\n",
            "Epoch 2/100\n",
            "2901/2901 [==============================] - 0s 136us/step - loss: 0.1842 - acc: 0.9804 - val_loss: 0.3160 - val_acc: 0.9278\n",
            "\n",
            "Epoch 00002: val_acc improved from 0.91753 to 0.92784, saving model to tmp/weights-02-0.93.hdf5\n",
            "Epoch 3/100\n",
            "2901/2901 [==============================] - 0s 130us/step - loss: 0.1793 - acc: 0.9821 - val_loss: 0.3009 - val_acc: 0.9347\n",
            "\n",
            "Epoch 00003: val_acc improved from 0.92784 to 0.93471, saving model to tmp/weights-03-0.93.hdf5\n",
            "Epoch 4/100\n",
            "2901/2901 [==============================] - 0s 132us/step - loss: 0.1754 - acc: 0.9841 - val_loss: 0.2931 - val_acc: 0.9416\n",
            "\n",
            "Epoch 00004: val_acc improved from 0.93471 to 0.94158, saving model to tmp/weights-04-0.94.hdf5\n",
            "Epoch 5/100\n",
            "2901/2901 [==============================] - 0s 133us/step - loss: 0.1788 - acc: 0.9807 - val_loss: 0.2905 - val_acc: 0.9485\n",
            "\n",
            "Epoch 00005: val_acc improved from 0.94158 to 0.94845, saving model to tmp/weights-05-0.95.hdf5\n",
            "Epoch 6/100\n",
            "2901/2901 [==============================] - 0s 131us/step - loss: 0.1794 - acc: 0.9831 - val_loss: 0.2885 - val_acc: 0.9450\n",
            "\n",
            "Epoch 00006: val_acc did not improve from 0.94845\n",
            "Epoch 7/100\n",
            "2901/2901 [==============================] - 0s 132us/step - loss: 0.1767 - acc: 0.9824 - val_loss: 0.2743 - val_acc: 0.9553\n",
            "\n",
            "Epoch 00007: val_acc improved from 0.94845 to 0.95533, saving model to tmp/weights-07-0.96.hdf5\n",
            "Epoch 8/100\n",
            "2901/2901 [==============================] - 0s 145us/step - loss: 0.1715 - acc: 0.9831 - val_loss: 0.2643 - val_acc: 0.9519\n",
            "\n",
            "Epoch 00008: val_acc did not improve from 0.95533\n",
            "Epoch 9/100\n",
            "2901/2901 [==============================] - 0s 132us/step - loss: 0.1748 - acc: 0.9810 - val_loss: 0.2795 - val_acc: 0.9485\n",
            "\n",
            "Epoch 00009: val_acc did not improve from 0.95533\n",
            "Epoch 10/100\n",
            "2901/2901 [==============================] - 0s 133us/step - loss: 0.1734 - acc: 0.9817 - val_loss: 0.2652 - val_acc: 0.9656\n",
            "\n",
            "Epoch 00010: val_acc improved from 0.95533 to 0.96564, saving model to tmp/weights-10-0.97.hdf5\n",
            "Epoch 11/100\n",
            "2901/2901 [==============================] - 0s 129us/step - loss: 0.1635 - acc: 0.9848 - val_loss: 0.2660 - val_acc: 0.9519\n",
            "\n",
            "Epoch 00011: val_acc did not improve from 0.96564\n",
            "Epoch 12/100\n",
            "2901/2901 [==============================] - 0s 132us/step - loss: 0.1683 - acc: 0.9814 - val_loss: 0.2527 - val_acc: 0.9553\n",
            "\n",
            "Epoch 00012: val_acc did not improve from 0.96564\n",
            "Epoch 13/100\n",
            "2901/2901 [==============================] - 0s 133us/step - loss: 0.1655 - acc: 0.9835 - val_loss: 0.2526 - val_acc: 0.9588\n",
            "\n",
            "Epoch 00013: val_acc did not improve from 0.96564\n",
            "Epoch 14/100\n",
            "2901/2901 [==============================] - 0s 133us/step - loss: 0.1635 - acc: 0.9869 - val_loss: 0.2465 - val_acc: 0.9656\n",
            "\n",
            "Epoch 00014: val_acc did not improve from 0.96564\n",
            "Epoch 15/100\n",
            "2901/2901 [==============================] - 0s 134us/step - loss: 0.1667 - acc: 0.9841 - val_loss: 0.2772 - val_acc: 0.9485\n",
            "\n",
            "Epoch 00015: val_acc did not improve from 0.96564\n",
            "Epoch 16/100\n",
            "2901/2901 [==============================] - 0s 133us/step - loss: 0.1747 - acc: 0.9814 - val_loss: 0.2452 - val_acc: 0.9588\n",
            "\n",
            "Epoch 00016: val_acc did not improve from 0.96564\n",
            "Epoch 17/100\n",
            "2901/2901 [==============================] - 0s 133us/step - loss: 0.1626 - acc: 0.9828 - val_loss: 0.2400 - val_acc: 0.9656\n",
            "\n",
            "Epoch 00017: val_acc did not improve from 0.96564\n",
            "Epoch 18/100\n",
            "2901/2901 [==============================] - 0s 134us/step - loss: 0.1613 - acc: 0.9841 - val_loss: 0.2450 - val_acc: 0.9622\n",
            "\n",
            "Epoch 00018: val_acc did not improve from 0.96564\n",
            "Epoch 19/100\n",
            "2901/2901 [==============================] - 0s 135us/step - loss: 0.1602 - acc: 0.9845 - val_loss: 0.2388 - val_acc: 0.9622\n",
            "\n",
            "Epoch 00019: val_acc did not improve from 0.96564\n",
            "Epoch 20/100\n",
            "2901/2901 [==============================] - 0s 129us/step - loss: 0.1601 - acc: 0.9831 - val_loss: 0.2277 - val_acc: 0.9656\n",
            "\n",
            "Epoch 00020: val_acc did not improve from 0.96564\n",
            "Epoch 21/100\n",
            "2901/2901 [==============================] - 0s 132us/step - loss: 0.1594 - acc: 0.9848 - val_loss: 0.2577 - val_acc: 0.9450\n",
            "\n",
            "Epoch 00021: val_acc did not improve from 0.96564\n",
            "Epoch 22/100\n",
            "2901/2901 [==============================] - 0s 132us/step - loss: 0.1640 - acc: 0.9828 - val_loss: 0.2313 - val_acc: 0.9622\n",
            "\n",
            "Epoch 00022: val_acc did not improve from 0.96564\n",
            "Epoch 23/100\n",
            "2901/2901 [==============================] - 0s 134us/step - loss: 0.1562 - acc: 0.9835 - val_loss: 0.2267 - val_acc: 0.9622\n",
            "\n",
            "Epoch 00023: val_acc did not improve from 0.96564\n",
            "Epoch 24/100\n",
            "2901/2901 [==============================] - 0s 135us/step - loss: 0.1593 - acc: 0.9841 - val_loss: 0.2199 - val_acc: 0.9691\n",
            "\n",
            "Epoch 00024: val_acc improved from 0.96564 to 0.96907, saving model to tmp/weights-24-0.97.hdf5\n",
            "Epoch 25/100\n",
            "2901/2901 [==============================] - 0s 131us/step - loss: 0.1548 - acc: 0.9848 - val_loss: 0.2130 - val_acc: 0.9691\n",
            "\n",
            "Epoch 00025: val_acc did not improve from 0.96907\n",
            "Epoch 26/100\n",
            "2901/2901 [==============================] - 0s 134us/step - loss: 0.1545 - acc: 0.9859 - val_loss: 0.2324 - val_acc: 0.9588\n",
            "\n",
            "Epoch 00026: val_acc did not improve from 0.96907\n",
            "Epoch 27/100\n",
            "2901/2901 [==============================] - 0s 132us/step - loss: 0.1543 - acc: 0.9848 - val_loss: 0.2179 - val_acc: 0.9622\n",
            "\n",
            "Epoch 00027: val_acc did not improve from 0.96907\n",
            "Epoch 28/100\n",
            "2901/2901 [==============================] - 0s 135us/step - loss: 0.1525 - acc: 0.9862 - val_loss: 0.2265 - val_acc: 0.9691\n",
            "\n",
            "Epoch 00028: val_acc did not improve from 0.96907\n",
            "Epoch 29/100\n",
            "2901/2901 [==============================] - 0s 136us/step - loss: 0.1539 - acc: 0.9838 - val_loss: 0.2151 - val_acc: 0.9622\n",
            "\n",
            "Epoch 00029: val_acc did not improve from 0.96907\n",
            "Epoch 30/100\n",
            "2901/2901 [==============================] - 0s 131us/step - loss: 0.1531 - acc: 0.9838 - val_loss: 0.2119 - val_acc: 0.9759\n",
            "\n",
            "Epoch 00030: val_acc improved from 0.96907 to 0.97594, saving model to tmp/weights-30-0.98.hdf5\n",
            "Epoch 31/100\n",
            "2901/2901 [==============================] - 0s 133us/step - loss: 0.1581 - acc: 0.9810 - val_loss: 0.2373 - val_acc: 0.9553\n",
            "\n",
            "Epoch 00031: val_acc did not improve from 0.97594\n",
            "Epoch 32/100\n",
            "2901/2901 [==============================] - 0s 131us/step - loss: 0.1602 - acc: 0.9845 - val_loss: 0.2088 - val_acc: 0.9656\n",
            "\n",
            "Epoch 00032: val_acc did not improve from 0.97594\n",
            "Epoch 33/100\n",
            "2901/2901 [==============================] - 0s 134us/step - loss: 0.1502 - acc: 0.9817 - val_loss: 0.2023 - val_acc: 0.9691\n",
            "\n",
            "Epoch 00033: val_acc did not improve from 0.97594\n",
            "Epoch 34/100\n",
            "2901/2901 [==============================] - 0s 135us/step - loss: 0.1461 - acc: 0.9866 - val_loss: 0.1985 - val_acc: 0.9691\n",
            "\n",
            "Epoch 00034: val_acc did not improve from 0.97594\n",
            "Epoch 35/100\n",
            "2901/2901 [==============================] - 0s 132us/step - loss: 0.1488 - acc: 0.9848 - val_loss: 0.1988 - val_acc: 0.9794\n",
            "\n",
            "Epoch 00035: val_acc improved from 0.97594 to 0.97938, saving model to tmp/weights-35-0.98.hdf5\n",
            "Epoch 36/100\n",
            "2901/2901 [==============================] - 0s 132us/step - loss: 0.1537 - acc: 0.9835 - val_loss: 0.1971 - val_acc: 0.9725\n",
            "\n",
            "Epoch 00036: val_acc did not improve from 0.97938\n",
            "Epoch 37/100\n",
            "2901/2901 [==============================] - 0s 133us/step - loss: 0.1489 - acc: 0.9835 - val_loss: 0.2047 - val_acc: 0.9759\n",
            "\n",
            "Epoch 00037: val_acc did not improve from 0.97938\n",
            "Epoch 38/100\n",
            "2901/2901 [==============================] - 0s 132us/step - loss: 0.1559 - acc: 0.9828 - val_loss: 0.2112 - val_acc: 0.9691\n",
            "\n",
            "Epoch 00038: val_acc did not improve from 0.97938\n",
            "Epoch 39/100\n",
            "2901/2901 [==============================] - 0s 135us/step - loss: 0.1470 - acc: 0.9841 - val_loss: 0.1970 - val_acc: 0.9725\n",
            "\n",
            "Epoch 00039: val_acc did not improve from 0.97938\n",
            "Epoch 40/100\n",
            "2901/2901 [==============================] - 0s 133us/step - loss: 0.1455 - acc: 0.9855 - val_loss: 0.1961 - val_acc: 0.9691\n",
            "\n",
            "Epoch 00040: val_acc did not improve from 0.97938\n",
            "Epoch 41/100\n",
            "2901/2901 [==============================] - 0s 131us/step - loss: 0.1474 - acc: 0.9845 - val_loss: 0.2157 - val_acc: 0.9691\n",
            "\n",
            "Epoch 00041: val_acc did not improve from 0.97938\n",
            "Epoch 42/100\n",
            "2901/2901 [==============================] - 0s 134us/step - loss: 0.1504 - acc: 0.9828 - val_loss: 0.1907 - val_acc: 0.9794\n",
            "\n",
            "Epoch 00042: val_acc did not improve from 0.97938\n",
            "Epoch 43/100\n",
            "2901/2901 [==============================] - 0s 133us/step - loss: 0.1459 - acc: 0.9835 - val_loss: 0.1918 - val_acc: 0.9725\n",
            "\n",
            "Epoch 00043: val_acc did not improve from 0.97938\n",
            "Epoch 44/100\n",
            "2901/2901 [==============================] - 0s 133us/step - loss: 0.1446 - acc: 0.9831 - val_loss: 0.1893 - val_acc: 0.9725\n",
            "\n",
            "Epoch 00044: val_acc did not improve from 0.97938\n",
            "Epoch 45/100\n",
            "2901/2901 [==============================] - 0s 133us/step - loss: 0.1398 - acc: 0.9869 - val_loss: 0.2049 - val_acc: 0.9759\n",
            "\n",
            "Epoch 00045: val_acc did not improve from 0.97938\n",
            "Epoch 46/100\n",
            "2901/2901 [==============================] - 0s 133us/step - loss: 0.1462 - acc: 0.9862 - val_loss: 0.1887 - val_acc: 0.9691\n",
            "\n",
            "Epoch 00046: val_acc did not improve from 0.97938\n",
            "Epoch 47/100\n",
            "2901/2901 [==============================] - 0s 135us/step - loss: 0.1407 - acc: 0.9862 - val_loss: 0.1796 - val_acc: 0.9759\n",
            "\n",
            "Epoch 00047: val_acc did not improve from 0.97938\n",
            "Epoch 48/100\n",
            "2901/2901 [==============================] - 0s 136us/step - loss: 0.1408 - acc: 0.9841 - val_loss: 0.1843 - val_acc: 0.9759\n",
            "\n",
            "Epoch 00048: val_acc did not improve from 0.97938\n",
            "Epoch 49/100\n",
            "2901/2901 [==============================] - 0s 132us/step - loss: 0.1435 - acc: 0.9852 - val_loss: 0.1815 - val_acc: 0.9794\n",
            "\n",
            "Epoch 00049: val_acc did not improve from 0.97938\n",
            "Epoch 50/100\n",
            "2901/2901 [==============================] - 0s 133us/step - loss: 0.1382 - acc: 0.9862 - val_loss: 0.1812 - val_acc: 0.9656\n",
            "\n",
            "Epoch 00050: val_acc did not improve from 0.97938\n",
            "Epoch 51/100\n",
            "2901/2901 [==============================] - 0s 131us/step - loss: 0.1411 - acc: 0.9859 - val_loss: 0.1937 - val_acc: 0.9725\n",
            "\n",
            "Epoch 00051: val_acc did not improve from 0.97938\n",
            "Epoch 52/100\n",
            "2901/2901 [==============================] - 0s 132us/step - loss: 0.1418 - acc: 0.9866 - val_loss: 0.1799 - val_acc: 0.9759\n",
            "\n",
            "Epoch 00052: val_acc did not improve from 0.97938\n",
            "Epoch 53/100\n",
            "2901/2901 [==============================] - 0s 133us/step - loss: 0.1354 - acc: 0.9862 - val_loss: 0.1865 - val_acc: 0.9759\n",
            "\n",
            "Epoch 00053: val_acc did not improve from 0.97938\n",
            "Epoch 54/100\n",
            "2901/2901 [==============================] - 0s 135us/step - loss: 0.1389 - acc: 0.9859 - val_loss: 0.1801 - val_acc: 0.9725\n",
            "\n",
            "Epoch 00054: val_acc did not improve from 0.97938\n",
            "Epoch 55/100\n",
            "2901/2901 [==============================] - 0s 135us/step - loss: 0.1407 - acc: 0.9835 - val_loss: 0.1757 - val_acc: 0.9725\n",
            "\n",
            "Epoch 00055: val_acc did not improve from 0.97938\n",
            "Epoch 56/100\n",
            "2901/2901 [==============================] - 0s 135us/step - loss: 0.1332 - acc: 0.9869 - val_loss: 0.1855 - val_acc: 0.9725\n",
            "\n",
            "Epoch 00056: val_acc did not improve from 0.97938\n",
            "Epoch 57/100\n",
            "2901/2901 [==============================] - 0s 136us/step - loss: 0.1346 - acc: 0.9855 - val_loss: 0.1749 - val_acc: 0.9759\n",
            "\n",
            "Epoch 00057: val_acc did not improve from 0.97938\n",
            "Epoch 58/100\n",
            "2901/2901 [==============================] - 0s 134us/step - loss: 0.1413 - acc: 0.9831 - val_loss: 0.1769 - val_acc: 0.9725\n",
            "\n",
            "Epoch 00058: val_acc did not improve from 0.97938\n",
            "Epoch 59/100\n",
            "2901/2901 [==============================] - 0s 133us/step - loss: 0.1395 - acc: 0.9831 - val_loss: 0.1873 - val_acc: 0.9725\n",
            "\n",
            "Epoch 00059: val_acc did not improve from 0.97938\n",
            "Epoch 60/100\n",
            "2901/2901 [==============================] - 0s 134us/step - loss: 0.1341 - acc: 0.9866 - val_loss: 0.1697 - val_acc: 0.9691\n",
            "\n",
            "Epoch 00060: val_acc did not improve from 0.97938\n",
            "Epoch 61/100\n",
            "2901/2901 [==============================] - 0s 133us/step - loss: 0.1320 - acc: 0.9859 - val_loss: 0.1763 - val_acc: 0.9759\n",
            "\n",
            "Epoch 00061: val_acc did not improve from 0.97938\n",
            "Epoch 62/100\n",
            "2901/2901 [==============================] - 0s 135us/step - loss: 0.1352 - acc: 0.9845 - val_loss: 0.1670 - val_acc: 0.9794\n",
            "\n",
            "Epoch 00062: val_acc did not improve from 0.97938\n",
            "Epoch 63/100\n",
            "2901/2901 [==============================] - 0s 134us/step - loss: 0.1320 - acc: 0.9852 - val_loss: 0.1691 - val_acc: 0.9725\n",
            "\n",
            "Epoch 00063: val_acc did not improve from 0.97938\n",
            "Epoch 64/100\n",
            "2901/2901 [==============================] - 0s 133us/step - loss: 0.1330 - acc: 0.9855 - val_loss: 0.1668 - val_acc: 0.9759\n",
            "\n",
            "Epoch 00064: val_acc did not improve from 0.97938\n",
            "Epoch 65/100\n",
            "2901/2901 [==============================] - 0s 132us/step - loss: 0.1420 - acc: 0.9845 - val_loss: 0.1735 - val_acc: 0.9725\n",
            "\n",
            "Epoch 00065: val_acc did not improve from 0.97938\n",
            "Epoch 66/100\n",
            "2901/2901 [==============================] - 0s 133us/step - loss: 0.1299 - acc: 0.9872 - val_loss: 0.1669 - val_acc: 0.9759\n",
            "\n",
            "Epoch 00066: val_acc did not improve from 0.97938\n",
            "Epoch 67/100\n",
            "2901/2901 [==============================] - 0s 134us/step - loss: 0.1299 - acc: 0.9838 - val_loss: 0.1741 - val_acc: 0.9759\n",
            "\n",
            "Epoch 00067: val_acc did not improve from 0.97938\n",
            "Epoch 68/100\n",
            "2901/2901 [==============================] - 0s 134us/step - loss: 0.1330 - acc: 0.9855 - val_loss: 0.1700 - val_acc: 0.9759\n",
            "\n",
            "Epoch 00068: val_acc did not improve from 0.97938\n",
            "Epoch 69/100\n",
            "2901/2901 [==============================] - 0s 134us/step - loss: 0.1354 - acc: 0.9845 - val_loss: 0.1631 - val_acc: 0.9725\n",
            "\n",
            "Epoch 00069: val_acc did not improve from 0.97938\n",
            "Epoch 70/100\n",
            "2901/2901 [==============================] - 0s 132us/step - loss: 0.1309 - acc: 0.9835 - val_loss: 0.1670 - val_acc: 0.9759\n",
            "\n",
            "Epoch 00070: val_acc did not improve from 0.97938\n",
            "Epoch 71/100\n",
            "2901/2901 [==============================] - 0s 133us/step - loss: 0.1296 - acc: 0.9845 - val_loss: 0.1566 - val_acc: 0.9794\n",
            "\n",
            "Epoch 00071: val_acc did not improve from 0.97938\n",
            "Epoch 72/100\n",
            "2901/2901 [==============================] - 0s 133us/step - loss: 0.1309 - acc: 0.9841 - val_loss: 0.1682 - val_acc: 0.9759\n",
            "\n",
            "Epoch 00072: val_acc did not improve from 0.97938\n",
            "Epoch 73/100\n",
            "2901/2901 [==============================] - 0s 130us/step - loss: 0.1305 - acc: 0.9841 - val_loss: 0.1587 - val_acc: 0.9759\n",
            "\n",
            "Epoch 00073: val_acc did not improve from 0.97938\n",
            "Epoch 74/100\n",
            "2901/2901 [==============================] - 0s 134us/step - loss: 0.1275 - acc: 0.9838 - val_loss: 0.1600 - val_acc: 0.9794\n",
            "\n",
            "Epoch 00074: val_acc did not improve from 0.97938\n",
            "Epoch 75/100\n",
            "2901/2901 [==============================] - 0s 136us/step - loss: 0.1270 - acc: 0.9855 - val_loss: 0.1692 - val_acc: 0.9759\n",
            "\n",
            "Epoch 00075: val_acc did not improve from 0.97938\n",
            "Epoch 76/100\n",
            "2901/2901 [==============================] - 0s 136us/step - loss: 0.1320 - acc: 0.9855 - val_loss: 0.1828 - val_acc: 0.9759\n",
            "\n",
            "Epoch 00076: val_acc did not improve from 0.97938\n",
            "Epoch 77/100\n",
            "2901/2901 [==============================] - 0s 136us/step - loss: 0.1315 - acc: 0.9845 - val_loss: 0.1557 - val_acc: 0.9759\n",
            "\n",
            "Epoch 00077: val_acc did not improve from 0.97938\n",
            "Epoch 78/100\n",
            "2901/2901 [==============================] - 0s 137us/step - loss: 0.1279 - acc: 0.9841 - val_loss: 0.1584 - val_acc: 0.9759\n",
            "\n",
            "Epoch 00078: val_acc did not improve from 0.97938\n",
            "Epoch 79/100\n",
            "2901/2901 [==============================] - 0s 137us/step - loss: 0.1330 - acc: 0.9852 - val_loss: 0.1604 - val_acc: 0.9691\n",
            "\n",
            "Epoch 00079: val_acc did not improve from 0.97938\n",
            "Epoch 80/100\n",
            "2901/2901 [==============================] - 0s 134us/step - loss: 0.1247 - acc: 0.9848 - val_loss: 0.1573 - val_acc: 0.9759\n",
            "\n",
            "Epoch 00080: val_acc did not improve from 0.97938\n",
            "Epoch 81/100\n",
            "2901/2901 [==============================] - 0s 133us/step - loss: 0.1278 - acc: 0.9831 - val_loss: 0.1532 - val_acc: 0.9725\n",
            "\n",
            "Epoch 00081: val_acc did not improve from 0.97938\n",
            "Epoch 82/100\n",
            "2901/2901 [==============================] - 0s 135us/step - loss: 0.1258 - acc: 0.9852 - val_loss: 0.1524 - val_acc: 0.9691\n",
            "\n",
            "Epoch 00082: val_acc did not improve from 0.97938\n",
            "Epoch 83/100\n",
            "2901/2901 [==============================] - 0s 132us/step - loss: 0.1244 - acc: 0.9859 - val_loss: 0.1532 - val_acc: 0.9725\n",
            "\n",
            "Epoch 00083: val_acc did not improve from 0.97938\n",
            "Epoch 84/100\n",
            "2901/2901 [==============================] - 0s 136us/step - loss: 0.1238 - acc: 0.9852 - val_loss: 0.1538 - val_acc: 0.9794\n",
            "\n",
            "Epoch 00084: val_acc did not improve from 0.97938\n",
            "Epoch 85/100\n",
            "2901/2901 [==============================] - 0s 130us/step - loss: 0.1240 - acc: 0.9859 - val_loss: 0.1579 - val_acc: 0.9759\n",
            "\n",
            "Epoch 00085: val_acc did not improve from 0.97938\n",
            "Epoch 86/100\n",
            "2901/2901 [==============================] - 0s 129us/step - loss: 0.1230 - acc: 0.9848 - val_loss: 0.1645 - val_acc: 0.9725\n",
            "\n",
            "Epoch 00086: val_acc did not improve from 0.97938\n",
            "Epoch 87/100\n",
            "2901/2901 [==============================] - 0s 133us/step - loss: 0.1301 - acc: 0.9876 - val_loss: 0.1500 - val_acc: 0.9794\n",
            "\n",
            "Epoch 00087: val_acc did not improve from 0.97938\n",
            "Epoch 88/100\n",
            "2901/2901 [==============================] - 0s 135us/step - loss: 0.1251 - acc: 0.9845 - val_loss: 0.1466 - val_acc: 0.9828\n",
            "\n",
            "Epoch 00088: val_acc improved from 0.97938 to 0.98282, saving model to tmp/weights-88-0.98.hdf5\n",
            "Epoch 89/100\n",
            "2901/2901 [==============================] - 0s 131us/step - loss: 0.1232 - acc: 0.9848 - val_loss: 0.1474 - val_acc: 0.9794\n",
            "\n",
            "Epoch 00089: val_acc did not improve from 0.98282\n",
            "Epoch 90/100\n",
            "2901/2901 [==============================] - 0s 132us/step - loss: 0.1234 - acc: 0.9869 - val_loss: 0.1464 - val_acc: 0.9759\n",
            "\n",
            "Epoch 00090: val_acc did not improve from 0.98282\n",
            "Epoch 91/100\n",
            "2901/2901 [==============================] - 0s 133us/step - loss: 0.1223 - acc: 0.9845 - val_loss: 0.1485 - val_acc: 0.9759\n",
            "\n",
            "Epoch 00091: val_acc did not improve from 0.98282\n",
            "Epoch 92/100\n",
            "2901/2901 [==============================] - 0s 132us/step - loss: 0.1243 - acc: 0.9859 - val_loss: 0.1485 - val_acc: 0.9828\n",
            "\n",
            "Epoch 00092: val_acc did not improve from 0.98282\n",
            "Epoch 93/100\n",
            "2901/2901 [==============================] - 0s 133us/step - loss: 0.1203 - acc: 0.9862 - val_loss: 0.1444 - val_acc: 0.9725\n",
            "\n",
            "Epoch 00093: val_acc did not improve from 0.98282\n",
            "Epoch 94/100\n",
            "2901/2901 [==============================] - 0s 133us/step - loss: 0.1219 - acc: 0.9845 - val_loss: 0.1508 - val_acc: 0.9794\n",
            "\n",
            "Epoch 00094: val_acc did not improve from 0.98282\n",
            "Epoch 95/100\n",
            "2901/2901 [==============================] - 0s 134us/step - loss: 0.1217 - acc: 0.9852 - val_loss: 0.1442 - val_acc: 0.9794\n",
            "\n",
            "Epoch 00095: val_acc did not improve from 0.98282\n",
            "Epoch 96/100\n",
            "2901/2901 [==============================] - 0s 131us/step - loss: 0.1198 - acc: 0.9859 - val_loss: 0.1542 - val_acc: 0.9725\n",
            "\n",
            "Epoch 00096: val_acc did not improve from 0.98282\n",
            "Epoch 97/100\n",
            "2901/2901 [==============================] - 0s 135us/step - loss: 0.1240 - acc: 0.9859 - val_loss: 0.1498 - val_acc: 0.9794\n",
            "\n",
            "Epoch 00097: val_acc did not improve from 0.98282\n",
            "Epoch 98/100\n",
            "2901/2901 [==============================] - 0s 133us/step - loss: 0.1233 - acc: 0.9855 - val_loss: 0.1498 - val_acc: 0.9759\n",
            "\n",
            "Epoch 00098: val_acc did not improve from 0.98282\n",
            "Epoch 99/100\n",
            "2901/2901 [==============================] - 0s 134us/step - loss: 0.1187 - acc: 0.9841 - val_loss: 0.1424 - val_acc: 0.9828\n",
            "\n",
            "Epoch 00099: val_acc did not improve from 0.98282\n",
            "Epoch 100/100\n",
            "2901/2901 [==============================] - 0s 131us/step - loss: 0.1232 - acc: 0.9869 - val_loss: 0.1429 - val_acc: 0.9759\n",
            "\n",
            "Epoch 00100: val_acc did not improve from 0.98282\n"
          ],
          "name": "stdout"
        }
      ]
    },
    {
      "metadata": {
        "id": "OtGrA8RBKShg",
        "colab_type": "code",
        "colab": {}
      },
      "cell_type": "code",
      "source": [
        "model_path = 'emoint_convnet_model.h5'\n",
        "weight_path = 'emoint_convnet_weights.h5'\n",
        "\n",
        "model.save(model_path)\n",
        "model.save_weights(weight_path)"
      ],
      "execution_count": 0,
      "outputs": []
    },
    {
      "metadata": {
        "id": "eFzd1urtKeFw",
        "colab_type": "code",
        "outputId": "f68815ff-ebfc-4ed5-fcc8-8c63bd25ff87",
        "colab": {
          "base_uri": "https://localhost:8080/",
          "height": 431
        }
      },
      "cell_type": "code",
      "source": [
        "!ls -lah"
      ],
      "execution_count": 0,
      "outputs": [
        {
          "output_type": "stream",
          "text": [
            "total 1.8G\n",
            "drwxr-xr-x 1 root root 4.0K Dec 17 07:34 .\n",
            "drwxr-xr-x 1 root root 4.0K Dec 17 03:52 ..\n",
            "-rw-r--r-- 1 root root 2.5K Dec 17 03:53 adc.json\n",
            "drwxr-xr-x 1 root root 4.0K Dec 17 03:53 .config\n",
            "-rw-r--r-- 1 root root  53M Dec 17 07:15 emoint_bidirectional_lstm_model.h5\n",
            "-rw-r--r-- 1 root root  27M Dec 17 07:15 emoint_bidirectional_lstm_weights.h5\n",
            "-rw-r--r-- 1 root root  23M Dec 17 07:34 emoint_convnet_model.h5\n",
            "-rw-r--r-- 1 root root  12M Dec 17 07:34 emoint_convnet_weights.h5\n",
            "-rw-r--r-- 1 root root  20M Dec 17 07:31 emoint_embedded_matrix_word2vec.npy\n",
            "-rw-r--r-- 1 root root  37M Dec 17 07:00 emoint_lstm_model.h5\n",
            "-rw-r--r-- 1 root root  19M Dec 17 07:00 emoint_lstm_weights.h5\n",
            "-rw-r--r-- 1 root root  23M Dec 17 03:57 emoint_model.h5\n",
            "-rw-r--r-- 1 root root  12M Dec 17 03:57 emoint_weights.h5\n",
            "-rw-r--r-- 1 root root 324K Dec 17 07:31 emoint_X_test.npy\n",
            "-rw-r--r-- 1 root root 337K Dec 17 07:31 emoint_X_train.npy\n",
            "-rw-r--r-- 1 root root  38K Dec 17 07:31 emoint_X_val.npy\n",
            "-rw-r--r-- 1 root root  40K Dec 17 07:31 emoint_y_test.npy\n",
            "-rw-r--r-- 1 root root  41K Dec 17 07:31 emoint_y_train.npy\n",
            "-rw-r--r-- 1 root root 4.7K Dec 17 07:31 emoint_y_val.npy\n",
            "-rw-r--r-- 1 root root 1.6G Dec 17 06:56 GoogleNews-vectors-negative300.bin.gz\n",
            "drwxr-xr-x 1 root root 4.0K Dec 10 17:34 sample_data\n",
            "drwxr-xr-x 2 root root 4.0K Dec 17 07:34 tmp\n"
          ],
          "name": "stdout"
        }
      ]
    },
    {
      "metadata": {
        "id": "85MiexxMK8zd",
        "colab_type": "code",
        "colab": {}
      },
      "cell_type": "code",
      "source": [
        "upload_drive_file(\"Colab Notebooks\", model_path)\n",
        "upload_drive_file(\"Colab Notebooks\", weight_path)"
      ],
      "execution_count": 0,
      "outputs": []
    },
    {
      "metadata": {
        "id": "b0P0vTv-7RC6",
        "colab_type": "code",
        "colab": {}
      },
      "cell_type": "code",
      "source": [
        "sequences_test=tokenizer.texts_to_sequences(test_data.text)\n",
        "X_test = pad_sequences(sequences_test, maxlen=X_test.shape[1])\n",
        "y_pred = model.predict(X_test)"
      ],
      "execution_count": 0,
      "outputs": []
    },
    {
      "metadata": {
        "id": "IgHlDfC_-rS5",
        "colab_type": "code",
        "outputId": "31b11c6c-f20d-48ee-8b34-d4ed77f64a54",
        "colab": {
          "base_uri": "https://localhost:8080/",
          "height": 35
        }
      },
      "cell_type": "code",
      "source": [
        "history.history.keys()"
      ],
      "execution_count": 0,
      "outputs": [
        {
          "output_type": "execute_result",
          "data": {
            "text/plain": [
              "dict_keys(['val_loss', 'val_acc', 'loss', 'acc'])"
            ]
          },
          "metadata": {
            "tags": []
          },
          "execution_count": 23
        }
      ]
    },
    {
      "metadata": {
        "id": "-JaFoS4u_pwS",
        "colab_type": "code",
        "colab": {}
      },
      "cell_type": "code",
      "source": [
        "y_pred_original = [labels[val] for val in np.argmax(y_pred, axis=1).squeeze()]\n",
        "y_test_original = np.asarray(test_data.emotion)"
      ],
      "execution_count": 0,
      "outputs": []
    },
    {
      "metadata": {
        "id": "BREyqdCAI9d0",
        "colab_type": "code",
        "colab": {}
      },
      "cell_type": "code",
      "source": [
        "def print_confusion_matrix(confusion_matrix, class_names, figsize = (4,3), fontsize=15):\n",
        "    \"\"\"Prints a confusion matrix, as returned by sklearn.metrics.confusion_matrix, as a heatmap.\n",
        "    \n",
        "    Arguments\n",
        "    ---------\n",
        "    confusion_matrix: numpy.ndarray\n",
        "        The numpy.ndarray object returned from a call to sklearn.metrics.confusion_matrix. \n",
        "        Similarly constructed ndarrays can also be used.\n",
        "    class_names: list\n",
        "        An ordered list of class names, in the order they index the given confusion matrix.\n",
        "    figsize: tuple\n",
        "        A 2-long tuple, the first value determining the horizontal size of the ouputted figure,\n",
        "        the second determining the vertical size. Defaults to (10,7).\n",
        "    fontsize: int\n",
        "        Font size for axes labels. Defaults to 14.\n",
        "        \n",
        "    Returns\n",
        "    -------\n",
        "    matplotlib.figure.Figure\n",
        "        The resulting confusion matrix figure\n",
        "    \"\"\"\n",
        "    df_cm = pd.DataFrame(\n",
        "        confusion_matrix, index=class_names, columns=class_names, \n",
        "    )\n",
        "    fig = plt.figure(figsize=figsize)\n",
        "    try:\n",
        "        heatmap = sns.heatmap(df_cm, annot=True, fmt=\"d\")\n",
        "    except ValueError:\n",
        "        raise ValueError(\"Confusion matrix values must be integers.\")\n",
        "    heatmap.yaxis.set_ticklabels(heatmap.yaxis.get_ticklabels(), rotation=0, ha='right', fontsize=fontsize)\n",
        "    heatmap.xaxis.set_ticklabels(heatmap.xaxis.get_ticklabels(), rotation=45, ha='right', fontsize=fontsize)\n",
        "    plt.ylabel('True label')\n",
        "    plt.xlabel('Predicted label')\n",
        "    return fig"
      ],
      "execution_count": 0,
      "outputs": []
    },
    {
      "metadata": {
        "id": "XG9HPQb10TZm",
        "colab_type": "code",
        "outputId": "e3b800d0-3f15-45a2-defb-9f715fd29de2",
        "colab": {
          "base_uri": "https://localhost:8080/",
          "height": 173
        }
      },
      "cell_type": "code",
      "source": [
        "cf_matrix = confusion_matrix(y_test_original, y_pred_original, labels=labels)\n",
        "\n",
        "df_cm = pd.DataFrame(\n",
        "    cf_matrix, index=labels, columns=labels, \n",
        ")\n",
        "\n",
        "df_cm"
      ],
      "execution_count": 0,
      "outputs": [
        {
          "output_type": "execute_result",
          "data": {
            "text/html": [
              "<div>\n",
              "<style scoped>\n",
              "    .dataframe tbody tr th:only-of-type {\n",
              "        vertical-align: middle;\n",
              "    }\n",
              "\n",
              "    .dataframe tbody tr th {\n",
              "        vertical-align: top;\n",
              "    }\n",
              "\n",
              "    .dataframe thead th {\n",
              "        text-align: right;\n",
              "    }\n",
              "</style>\n",
              "<table border=\"1\" class=\"dataframe\">\n",
              "  <thead>\n",
              "    <tr style=\"text-align: right;\">\n",
              "      <th></th>\n",
              "      <th>fear</th>\n",
              "      <th>anger</th>\n",
              "      <th>sadness</th>\n",
              "      <th>joy</th>\n",
              "    </tr>\n",
              "  </thead>\n",
              "  <tbody>\n",
              "    <tr>\n",
              "      <th>fear</th>\n",
              "      <td>647</td>\n",
              "      <td>49</td>\n",
              "      <td>75</td>\n",
              "      <td>18</td>\n",
              "    </tr>\n",
              "    <tr>\n",
              "      <th>anger</th>\n",
              "      <td>43</td>\n",
              "      <td>553</td>\n",
              "      <td>33</td>\n",
              "      <td>14</td>\n",
              "    </tr>\n",
              "    <tr>\n",
              "      <th>sadness</th>\n",
              "      <td>47</td>\n",
              "      <td>40</td>\n",
              "      <td>437</td>\n",
              "      <td>9</td>\n",
              "    </tr>\n",
              "    <tr>\n",
              "      <th>joy</th>\n",
              "      <td>22</td>\n",
              "      <td>13</td>\n",
              "      <td>14</td>\n",
              "      <td>494</td>\n",
              "    </tr>\n",
              "  </tbody>\n",
              "</table>\n",
              "</div>"
            ],
            "text/plain": [
              "         fear  anger  sadness  joy\n",
              "fear      647     49       75   18\n",
              "anger      43    553       33   14\n",
              "sadness    47     40      437    9\n",
              "joy        22     13       14  494"
            ]
          },
          "metadata": {
            "tags": []
          },
          "execution_count": 26
        }
      ]
    },
    {
      "metadata": {
        "id": "59xnXmbEAKXy",
        "colab_type": "code",
        "outputId": "d0eb88ff-ba79-445c-f709-5b1b9a3f76fc",
        "colab": {
          "base_uri": "https://localhost:8080/",
          "height": 282
        }
      },
      "cell_type": "code",
      "source": [
        "print(print_confusion_matrix(cf_matrix, class_names=labels))"
      ],
      "execution_count": 0,
      "outputs": [
        {
          "output_type": "stream",
          "text": [
            "Figure(288x216)\n"
          ],
          "name": "stdout"
        },
        {
          "output_type": "display_data",
          "data": {
            "image/png": "[encoded data removed]",
            "text/plain": [
              "<matplotlib.figure.Figure at 0x7fbb96e8cd68>"
            ]
          },
          "metadata": {
            "tags": []
          }
        }
      ]
    },
    {
      "metadata": {
        "id": "9XE5c4LJEZXy",
        "colab_type": "code",
        "outputId": "bc5b6c2a-56f9-482a-d5d7-8a8f8951d073",
        "colab": {
          "base_uri": "https://localhost:8080/",
          "height": 35
        }
      },
      "cell_type": "code",
      "source": [
        "test_accuracy = accuracy_score(y_test_original, y_pred_original)\n",
        "print(\"test accuracy:\", test_accuracy)"
      ],
      "execution_count": 0,
      "outputs": [
        {
          "output_type": "stream",
          "text": [
            "test accuracy: 0.8496810207336523\n"
          ],
          "name": "stdout"
        }
      ]
    },
    {
      "metadata": {
        "id": "jAISNDCVwvR7",
        "colab_type": "text"
      },
      "cell_type": "markdown",
      "source": [
        "### Performance score for each classes"
      ]
    },
    {
      "metadata": {
        "id": "iFb9Q6A1DcXi",
        "colab_type": "code",
        "outputId": "c929fdf3-b791-4b64-9f23-dda88a238456",
        "colab": {
          "base_uri": "https://localhost:8080/",
          "height": 173
        }
      },
      "cell_type": "code",
      "source": [
        "precision, recall, fscore, support = precision_recall_fscore_support(y_test_original, y_pred_original)\n",
        "score_dict = {\n",
        "  \"precision\": precision.round(4),\n",
        "  \"recall\": recall.round(4),\n",
        "  \"f1-score\": fscore.round(4),\n",
        "  \"support\": support.round(4)\n",
        "}\n",
        "score_df = pd.DataFrame(score_dict, index=labels)\n",
        "score_df"
      ],
      "execution_count": 0,
      "outputs": [
        {
          "output_type": "execute_result",
          "data": {
            "text/html": [
              "<div>\n",
              "<style scoped>\n",
              "    .dataframe tbody tr th:only-of-type {\n",
              "        vertical-align: middle;\n",
              "    }\n",
              "\n",
              "    .dataframe tbody tr th {\n",
              "        vertical-align: top;\n",
              "    }\n",
              "\n",
              "    .dataframe thead th {\n",
              "        text-align: right;\n",
              "    }\n",
              "</style>\n",
              "<table border=\"1\" class=\"dataframe\">\n",
              "  <thead>\n",
              "    <tr style=\"text-align: right;\">\n",
              "      <th></th>\n",
              "      <th>f1-score</th>\n",
              "      <th>precision</th>\n",
              "      <th>recall</th>\n",
              "      <th>support</th>\n",
              "    </tr>\n",
              "  </thead>\n",
              "  <tbody>\n",
              "    <tr>\n",
              "      <th>fear</th>\n",
              "      <td>0.8521</td>\n",
              "      <td>0.8443</td>\n",
              "      <td>0.8600</td>\n",
              "      <td>643</td>\n",
              "    </tr>\n",
              "    <tr>\n",
              "      <th>anger</th>\n",
              "      <td>0.8359</td>\n",
              "      <td>0.8524</td>\n",
              "      <td>0.8200</td>\n",
              "      <td>789</td>\n",
              "    </tr>\n",
              "    <tr>\n",
              "      <th>sadness</th>\n",
              "      <td>0.9165</td>\n",
              "      <td>0.9234</td>\n",
              "      <td>0.9098</td>\n",
              "      <td>543</td>\n",
              "    </tr>\n",
              "    <tr>\n",
              "      <th>joy</th>\n",
              "      <td>0.8004</td>\n",
              "      <td>0.7818</td>\n",
              "      <td>0.8199</td>\n",
              "      <td>533</td>\n",
              "    </tr>\n",
              "  </tbody>\n",
              "</table>\n",
              "</div>"
            ],
            "text/plain": [
              "         f1-score  precision  recall  support\n",
              "fear       0.8521     0.8443  0.8600      643\n",
              "anger      0.8359     0.8524  0.8200      789\n",
              "sadness    0.9165     0.9234  0.9098      543\n",
              "joy        0.8004     0.7818  0.8199      533"
            ]
          },
          "metadata": {
            "tags": []
          },
          "execution_count": 29
        }
      ]
    },
    {
      "metadata": {
        "id": "cHi1Gw7Oz1zG",
        "colab_type": "text"
      },
      "cell_type": "markdown",
      "source": [
        "### Performance score using micro average"
      ]
    },
    {
      "metadata": {
        "id": "KP69PDE9D_jz",
        "colab_type": "code",
        "outputId": "a09292bc-cb8c-4da1-e465-f01284bcb061",
        "colab": {
          "base_uri": "https://localhost:8080/",
          "height": 80
        }
      },
      "cell_type": "code",
      "source": [
        "precision, recall, fscore, support = precision_recall_fscore_support(y_test_original, y_pred_original, average=\"micro\")\n",
        "score_dict = {\n",
        "  \"precision\": precision.round(4),\n",
        "  \"recall\": recall.round(4),\n",
        "  \"f1-score\": fscore.round(4),\n",
        "  \"support\": support\n",
        "}\n",
        "score_df = pd.DataFrame(score_dict, index=[\"score\"])\n",
        "score_df"
      ],
      "execution_count": 0,
      "outputs": [
        {
          "output_type": "execute_result",
          "data": {
            "text/html": [
              "<div>\n",
              "<style scoped>\n",
              "    .dataframe tbody tr th:only-of-type {\n",
              "        vertical-align: middle;\n",
              "    }\n",
              "\n",
              "    .dataframe tbody tr th {\n",
              "        vertical-align: top;\n",
              "    }\n",
              "\n",
              "    .dataframe thead th {\n",
              "        text-align: right;\n",
              "    }\n",
              "</style>\n",
              "<table border=\"1\" class=\"dataframe\">\n",
              "  <thead>\n",
              "    <tr style=\"text-align: right;\">\n",
              "      <th></th>\n",
              "      <th>f1-score</th>\n",
              "      <th>precision</th>\n",
              "      <th>recall</th>\n",
              "      <th>support</th>\n",
              "    </tr>\n",
              "  </thead>\n",
              "  <tbody>\n",
              "    <tr>\n",
              "      <th>score</th>\n",
              "      <td>0.8497</td>\n",
              "      <td>0.8497</td>\n",
              "      <td>0.8497</td>\n",
              "      <td>None</td>\n",
              "    </tr>\n",
              "  </tbody>\n",
              "</table>\n",
              "</div>"
            ],
            "text/plain": [
              "       f1-score  precision  recall support\n",
              "score    0.8497     0.8497  0.8497    None"
            ]
          },
          "metadata": {
            "tags": []
          },
          "execution_count": 30
        }
      ]
    },
    {
      "metadata": {
        "id": "IWXNCktiz8Vb",
        "colab_type": "text"
      },
      "cell_type": "markdown",
      "source": [
        "### Performance score using macro average"
      ]
    },
    {
      "metadata": {
        "id": "g4e0vsNIydDs",
        "colab_type": "code",
        "outputId": "67b18848-4c46-4c36-d085-17e3caf36efb",
        "colab": {
          "base_uri": "https://localhost:8080/",
          "height": 80
        }
      },
      "cell_type": "code",
      "source": [
        "precision, recall, fscore, support = precision_recall_fscore_support(y_test_original, y_pred_original, average=\"macro\")\n",
        "score_dict = {\n",
        "  \"precision\": precision.round(4),\n",
        "  \"recall\": recall.round(4),\n",
        "  \"f1-score\": fscore.round(4),\n",
        "  \"support\": support\n",
        "}\n",
        "score_df = pd.DataFrame(score_dict, index=[\"score\"])\n",
        "score_df"
      ],
      "execution_count": 0,
      "outputs": [
        {
          "output_type": "execute_result",
          "data": {
            "text/html": [
              "<div>\n",
              "<style scoped>\n",
              "    .dataframe tbody tr th:only-of-type {\n",
              "        vertical-align: middle;\n",
              "    }\n",
              "\n",
              "    .dataframe tbody tr th {\n",
              "        vertical-align: top;\n",
              "    }\n",
              "\n",
              "    .dataframe thead th {\n",
              "        text-align: right;\n",
              "    }\n",
              "</style>\n",
              "<table border=\"1\" class=\"dataframe\">\n",
              "  <thead>\n",
              "    <tr style=\"text-align: right;\">\n",
              "      <th></th>\n",
              "      <th>f1-score</th>\n",
              "      <th>precision</th>\n",
              "      <th>recall</th>\n",
              "      <th>support</th>\n",
              "    </tr>\n",
              "  </thead>\n",
              "  <tbody>\n",
              "    <tr>\n",
              "      <th>score</th>\n",
              "      <td>0.8512</td>\n",
              "      <td>0.8505</td>\n",
              "      <td>0.8524</td>\n",
              "      <td>None</td>\n",
              "    </tr>\n",
              "  </tbody>\n",
              "</table>\n",
              "</div>"
            ],
            "text/plain": [
              "       f1-score  precision  recall support\n",
              "score    0.8512     0.8505  0.8524    None"
            ]
          },
          "metadata": {
            "tags": []
          },
          "execution_count": 31
        }
      ]
    },
    {
      "metadata": {
        "id": "wFJFH7u6z-oG",
        "colab_type": "text"
      },
      "cell_type": "markdown",
      "source": [
        "### Performance score using weighted average"
      ]
    },
    {
      "metadata": {
        "id": "z99JkHjuzv68",
        "colab_type": "code",
        "outputId": "f96c549e-7a24-4411-cb4e-53e64c431b9a",
        "colab": {
          "base_uri": "https://localhost:8080/",
          "height": 80
        }
      },
      "cell_type": "code",
      "source": [
        "precision, recall, fscore, support = precision_recall_fscore_support(y_test_original, y_pred_original, average=\"weighted\")\n",
        "score_dict = {\n",
        "  \"precision\": precision.round(4),\n",
        "  \"recall\": recall.round(4),\n",
        "  \"f1-score\": fscore.round(4),\n",
        "  \"support\": support\n",
        "}\n",
        "score_df = pd.DataFrame(score_dict, index=[\"score\"])\n",
        "score_df"
      ],
      "execution_count": 0,
      "outputs": [
        {
          "output_type": "execute_result",
          "data": {
            "text/html": [
              "<div>\n",
              "<style scoped>\n",
              "    .dataframe tbody tr th:only-of-type {\n",
              "        vertical-align: middle;\n",
              "    }\n",
              "\n",
              "    .dataframe tbody tr th {\n",
              "        vertical-align: top;\n",
              "    }\n",
              "\n",
              "    .dataframe thead th {\n",
              "        text-align: right;\n",
              "    }\n",
              "</style>\n",
              "<table border=\"1\" class=\"dataframe\">\n",
              "  <thead>\n",
              "    <tr style=\"text-align: right;\">\n",
              "      <th></th>\n",
              "      <th>f1-score</th>\n",
              "      <th>precision</th>\n",
              "      <th>recall</th>\n",
              "      <th>support</th>\n",
              "    </tr>\n",
              "  </thead>\n",
              "  <tbody>\n",
              "    <tr>\n",
              "      <th>score</th>\n",
              "      <td>0.85</td>\n",
              "      <td>0.8507</td>\n",
              "      <td>0.8497</td>\n",
              "      <td>None</td>\n",
              "    </tr>\n",
              "  </tbody>\n",
              "</table>\n",
              "</div>"
            ],
            "text/plain": [
              "       f1-score  precision  recall support\n",
              "score      0.85     0.8507  0.8497    None"
            ]
          },
          "metadata": {
            "tags": []
          },
          "execution_count": 32
        }
      ]
    },
    {
      "metadata": {
        "id": "Y83dx5SyoBR8",
        "colab_type": "code",
        "outputId": "ac60ea1c-5d2f-4ce8-f56a-e17404d025cd",
        "colab": {
          "base_uri": "https://localhost:8080/",
          "height": 35
        }
      },
      "cell_type": "code",
      "source": [
        "from sklearn.metrics import cohen_kappa_score\n",
        "\n",
        "kappa_score = cohen_kappa_score(y_test_original, y_pred_original, labels=labels)\n",
        "print(\"kappa:\", kappa_score)"
      ],
      "execution_count": 0,
      "outputs": [
        {
          "output_type": "stream",
          "text": [
            "kappa: 0.7980355417255142\n"
          ],
          "name": "stdout"
        }
      ]
    },
    {
      "metadata": {
        "id": "5womFgI2kjed",
        "colab_type": "code",
        "colab": {}
      },
      "cell_type": "code",
      "source": [
        ""
      ],
      "execution_count": 0,
      "outputs": []
    }
  ]
}