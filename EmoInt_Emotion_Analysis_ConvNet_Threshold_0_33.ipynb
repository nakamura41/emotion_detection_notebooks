{
  "nbformat": 4,
  "nbformat_minor": 0,
  "metadata": {
    "colab": {
      "name": "EmoInt-Emotion-Analysis-ConvNet-Threshold-0.33.ipynb",
      "version": "0.3.2",
      "provenance": [],
      "collapsed_sections": [],
      "include_colab_link": true
    },
    "kernelspec": {
      "name": "python3",
      "display_name": "Python 3"
    },
    "accelerator": "GPU"
  },
  "cells": [
    {
      "cell_type": "markdown",
      "metadata": {
        "id": "view-in-github",
        "colab_type": "text"
      },
      "source": [
        "<a href=\"https://colab.research.google.com/github/nakamura41/emotion_detection_notebooks/blob/master/EmoInt_Emotion_Analysis_ConvNet_Threshold_0_33.ipynb\" target=\"_parent\"><img src=\"https://colab.research.google.com/assets/colab-badge.svg\" alt=\"Open In Colab\"/></a>"
      ]
    },
    {
      "metadata": {
        "id": "wRzS3ihSifMc",
        "colab_type": "code",
        "outputId": "82820182-2a56-4b27-f933-10a8959d5ddc",
        "colab": {
          "base_uri": "https://localhost:8080/",
          "height": 361
        }
      },
      "cell_type": "code",
      "source": [
        "!pip install gensim\n",
        "!pip install -U -q PyDrive"
      ],
      "execution_count": 1,
      "outputs": [
        {
          "output_type": "stream",
          "text": [
            "Requirement already satisfied: gensim in /usr/local/lib/python3.6/dist-packages (3.6.0)\n",
            "Requirement already satisfied: smart-open>=1.2.1 in /usr/local/lib/python3.6/dist-packages (from gensim) (1.7.1)\n",
            "Requirement already satisfied: scipy>=0.18.1 in /usr/local/lib/python3.6/dist-packages (from gensim) (1.1.0)\n",
            "Requirement already satisfied: numpy>=1.11.3 in /usr/local/lib/python3.6/dist-packages (from gensim) (1.14.6)\n",
            "Requirement already satisfied: six>=1.5.0 in /usr/local/lib/python3.6/dist-packages (from gensim) (1.11.0)\n",
            "Requirement already satisfied: boto>=2.32 in /usr/local/lib/python3.6/dist-packages (from smart-open>=1.2.1->gensim) (2.49.0)\n",
            "Requirement already satisfied: boto3 in /usr/local/lib/python3.6/dist-packages (from smart-open>=1.2.1->gensim) (1.9.42)\n",
            "Requirement already satisfied: requests in /usr/local/lib/python3.6/dist-packages (from smart-open>=1.2.1->gensim) (2.18.4)\n",
            "Requirement already satisfied: bz2file in /usr/local/lib/python3.6/dist-packages (from smart-open>=1.2.1->gensim) (0.98)\n",
            "Requirement already satisfied: jmespath<1.0.0,>=0.7.1 in /usr/local/lib/python3.6/dist-packages (from boto3->smart-open>=1.2.1->gensim) (0.9.3)\n",
            "Requirement already satisfied: botocore<1.13.0,>=1.12.42 in /usr/local/lib/python3.6/dist-packages (from boto3->smart-open>=1.2.1->gensim) (1.12.42)\n",
            "Requirement already satisfied: s3transfer<0.2.0,>=0.1.10 in /usr/local/lib/python3.6/dist-packages (from boto3->smart-open>=1.2.1->gensim) (0.1.13)\n",
            "Requirement already satisfied: idna<2.7,>=2.5 in /usr/local/lib/python3.6/dist-packages (from requests->smart-open>=1.2.1->gensim) (2.6)\n",
            "Requirement already satisfied: chardet<3.1.0,>=3.0.2 in /usr/local/lib/python3.6/dist-packages (from requests->smart-open>=1.2.1->gensim) (3.0.4)\n",
            "Requirement already satisfied: urllib3<1.23,>=1.21.1 in /usr/local/lib/python3.6/dist-packages (from requests->smart-open>=1.2.1->gensim) (1.22)\n",
            "Requirement already satisfied: certifi>=2017.4.17 in /usr/local/lib/python3.6/dist-packages (from requests->smart-open>=1.2.1->gensim) (2018.10.15)\n",
            "Requirement already satisfied: docutils>=0.10 in /usr/local/lib/python3.6/dist-packages (from botocore<1.13.0,>=1.12.42->boto3->smart-open>=1.2.1->gensim) (0.14)\n",
            "Requirement already satisfied: python-dateutil<3.0.0,>=2.1; python_version >= \"2.7\" in /usr/local/lib/python3.6/dist-packages (from botocore<1.13.0,>=1.12.42->boto3->smart-open>=1.2.1->gensim) (2.5.3)\n"
          ],
          "name": "stdout"
        }
      ]
    },
    {
      "metadata": {
        "id": "OdaHCMv2rGKs",
        "colab_type": "code",
        "outputId": "a99e743b-33a5-4b26-fb3a-be7ea687ed3c",
        "colab": {
          "base_uri": "https://localhost:8080/",
          "height": 53
        }
      },
      "cell_type": "code",
      "source": [
        "import os\n",
        "import tensorflow as tf\n",
        "from tensorflow import keras\n",
        "import numpy as np\n",
        "import urllib.request\n",
        "import pandas as pd\n",
        "from gensim.test.utils import common_texts, get_tmpfile\n",
        "from gensim.utils import simple_preprocess\n",
        "from gensim.models import Word2Vec\n",
        "from tempfile import gettempdir\n",
        "import zipfile\n",
        "from keras.preprocessing.text import Tokenizer\n",
        "from keras.preprocessing.sequence import pad_sequences\n",
        "from keras.utils import to_categorical\n",
        "from pydrive.auth import GoogleAuth\n",
        "from pydrive.drive import GoogleDrive\n",
        "from google.colab import auth\n",
        "from oauth2client.client import GoogleCredentials\n",
        "from sklearn.model_selection import train_test_split\n",
        "from sklearn.metrics import confusion_matrix, precision_recall_fscore_support, accuracy_score\n",
        "import matplotlib.pyplot as plt\n",
        "import seaborn as sns\n",
        "\n",
        "print(tf.__version__)"
      ],
      "execution_count": 2,
      "outputs": [
        {
          "output_type": "stream",
          "text": [
            "1.12.0\n"
          ],
          "name": "stdout"
        },
        {
          "output_type": "stream",
          "text": [
            "Using TensorFlow backend.\n"
          ],
          "name": "stderr"
        }
      ]
    },
    {
      "metadata": {
        "id": "VMhX1N2k4SgY",
        "colab_type": "code",
        "colab": {}
      },
      "cell_type": "code",
      "source": [
        "# 1. Authenticate and create the PyDrive client.\n",
        "auth.authenticate_user()\n",
        "gauth = GoogleAuth()\n",
        "gauth.credentials = GoogleCredentials.get_application_default()\n",
        "drive = GoogleDrive(gauth)"
      ],
      "execution_count": 0,
      "outputs": []
    },
    {
      "metadata": {
        "id": "6FJlfk614hrw",
        "colab_type": "code",
        "colab": {}
      },
      "cell_type": "code",
      "source": [
        "# download google drive file\n",
        "def download_drive_file(drive_directory, filename):\n",
        "  list_file_query = \"title='{}' and trashed=false\".format(drive_directory)\n",
        "  file_list = drive.ListFile({'q': list_file_query}).GetList()\n",
        "\n",
        "  if len(file_list) > 0:\n",
        "    directory_id = file_list[0]['id']\n",
        "\n",
        "    list_file_query = \"'{}' in parents\".format(directory_id)\n",
        "\n",
        "    file_list = drive.ListFile({'q': list_file_query}).GetList()\n",
        "    \n",
        "    file_id = None\n",
        "    for file1 in file_list:\n",
        "      if file1['title'] == filename:\n",
        "        print(\"downloading file {}\".format(file1['title']))\n",
        "        file1.GetContentFile(file1['title'])"
      ],
      "execution_count": 0,
      "outputs": []
    },
    {
      "metadata": {
        "id": "WPzDX7qc6eQx",
        "colab_type": "code",
        "outputId": "b9e21788-2ff2-4b83-89f7-5171af574e5f",
        "colab": {
          "base_uri": "https://localhost:8080/",
          "height": 35
        }
      },
      "cell_type": "code",
      "source": [
        "download_drive_file(\"Datasets\", \"GoogleNews-vectors-negative300.bin.gz\")"
      ],
      "execution_count": 5,
      "outputs": [
        {
          "output_type": "stream",
          "text": [
            "downloading file GoogleNews-vectors-negative300.bin.gz\n"
          ],
          "name": "stdout"
        }
      ]
    },
    {
      "metadata": {
        "id": "xnY2L2-b6-ye",
        "colab_type": "code",
        "outputId": "c7c31e26-2b4a-4d0f-f64c-d8f848a7a12a",
        "colab": {
          "base_uri": "https://localhost:8080/",
          "height": 53
        }
      },
      "cell_type": "code",
      "source": [
        "!ls"
      ],
      "execution_count": 6,
      "outputs": [
        {
          "output_type": "stream",
          "text": [
            "adc.json\t\t\t       isear_databank.csv\n",
            "GoogleNews-vectors-negative300.bin.gz  sample_data\n"
          ],
          "name": "stdout"
        }
      ]
    },
    {
      "metadata": {
        "id": "oBynQmEcrNAy",
        "colab_type": "code",
        "colab": {}
      },
      "cell_type": "code",
      "source": [
        "class EmoIntDataset(object):\n",
        "  BASE_URL = \"http://saifmohammad.com/WebDocs/\"\n",
        "  TRAIN_URI = \"EmoInt%20Train%20Data/{}-ratings-0to1.train.txt\"\n",
        "  TEST_URI = \"EmoInt%20Test%20Gold%20Data/{}-ratings-0to1.test.gold.txt\"\n",
        "  EMOTION_CLASSES = [\"anger\", \"fear\", \"joy\", \"sadness\"]\n",
        "  \n",
        "  THRESHOLD = 0.33\n",
        "  \n",
        "  def __load_data_per_class(self, url, threshold=0):\n",
        "    resource = urllib.request.urlopen(url)\n",
        "    np_array = np.asarray([line.split('\\t') for line in [line.strip() for line in resource.read().decode('utf-8').splitlines()]])\n",
        "    df = pd.DataFrame(np_array, columns=[\"id\", \"text\", \"emotion\", \"emotion_level\"])\n",
        "    df['emotion_level'] = df['emotion_level'].astype(float)\n",
        "    df = df.query('emotion_level>' + str(threshold))\n",
        "    return df[[\"text\", \"emotion\"]]\n",
        "  \n",
        "  def load_data(self, set_threshold=False):\n",
        "    train_data = None\n",
        "    test_data = None\n",
        "    \n",
        "    for emotion in self.EMOTION_CLASSES:\n",
        "      # load train dataset\n",
        "      train_df = self.__load_data_per_class(self.BASE_URL + self.TRAIN_URI.format(emotion), threshold=(self.THRESHOLD if set_threshold else 0))\n",
        "      \n",
        "      # load test dataset\n",
        "      test_df = self.__load_data_per_class(self.BASE_URL + self.TEST_URI.format(emotion), threshold=(self.THRESHOLD if set_threshold else 0))\n",
        "      \n",
        "      train_data = (train_df if train_data is None else train_data.append(train_df))\n",
        "      test_data = (test_df if test_data is None else test_data.append(test_df))\n",
        "      \n",
        "    return train_data, test_data"
      ],
      "execution_count": 0,
      "outputs": []
    },
    {
      "metadata": {
        "id": "tevwfq4Tu6fe",
        "colab_type": "code",
        "outputId": "1f0cc0c3-2ff4-4934-bf72-8b300f2553f4",
        "colab": {
          "base_uri": "https://localhost:8080/",
          "height": 71
        }
      },
      "cell_type": "code",
      "source": [
        "emo_int_dataset = EmoIntDataset()\n",
        "train_data, test_data = emo_int_dataset.load_data(set_threshold=True)\n",
        "train_data, valid_data = train_test_split(train_data, test_size=0.1, random_state=200, stratify=train_data.emotion)\n",
        "\n",
        "print(train_data.shape)\n",
        "print(valid_data.shape)\n",
        "print(test_data.shape)"
      ],
      "execution_count": 9,
      "outputs": [
        {
          "output_type": "stream",
          "text": [
            "(2610, 2)\n",
            "(291, 2)\n",
            "(2508, 2)\n"
          ],
          "name": "stdout"
        }
      ]
    },
    {
      "metadata": {
        "id": "J-xXkD_4175U",
        "colab_type": "code",
        "outputId": "33db9909-8a77-4732-bfe7-357515149805",
        "colab": {
          "base_uri": "https://localhost:8080/",
          "height": 53
        }
      },
      "cell_type": "code",
      "source": [
        "emotions = train_data.emotion.unique()\n",
        "dic = dict()\n",
        "labels = []\n",
        "for i, emotion in enumerate(emotions):\n",
        "    dic[emotion]=i\n",
        "    labels.append(emotion)\n",
        "print(dic)\n",
        "print(labels)"
      ],
      "execution_count": 10,
      "outputs": [
        {
          "output_type": "stream",
          "text": [
            "{'fear': 0, 'anger': 1, 'sadness': 2, 'joy': 3}\n",
            "['fear', 'anger', 'sadness', 'joy']\n"
          ],
          "name": "stdout"
        }
      ]
    },
    {
      "metadata": {
        "id": "yhA_GXLyw1gx",
        "colab_type": "code",
        "outputId": "c6c1ffb7-929c-4782-cd92-991dfd5c8e7b",
        "colab": {
          "base_uri": "https://localhost:8080/",
          "height": 35
        }
      },
      "cell_type": "code",
      "source": [
        "NUM_WORDS=20000\n",
        "texts = train_data.text\n",
        "tokenizer = Tokenizer(num_words=NUM_WORDS,filters='!\"#$%&()*+,-./:;<=>?@[\\\\]^_`{|}~\\t\\n\\'',\n",
        "                      lower=True)\n",
        "tokenizer.fit_on_texts(texts)\n",
        "sequences_train = tokenizer.texts_to_sequences(texts)\n",
        "sequences_valid = tokenizer.texts_to_sequences(valid_data.text)\n",
        "sequences_test = tokenizer.texts_to_sequences(test_data.text)\n",
        "word_index = tokenizer.word_index\n",
        "print('Found %s unique tokens.' % len(word_index))"
      ],
      "execution_count": 11,
      "outputs": [
        {
          "output_type": "stream",
          "text": [
            "Found 8672 unique tokens.\n"
          ],
          "name": "stdout"
        }
      ]
    },
    {
      "metadata": {
        "id": "f3a8LX2z0Vn3",
        "colab_type": "code",
        "outputId": "6d8882dc-b1b2-43df-9806-da335c1e3068",
        "colab": {
          "base_uri": "https://localhost:8080/",
          "height": 53
        }
      },
      "cell_type": "code",
      "source": [
        "X_train = pad_sequences(sequences_train)\n",
        "X_val = pad_sequences(sequences_valid, maxlen=X_train.shape[1])\n",
        "X_test = pad_sequences(sequences_test, maxlen=X_train.shape[1])\n",
        "\n",
        "y_train = to_categorical(np.asarray(train_data.emotion.apply(lambda x:dic[x])))\n",
        "y_val = to_categorical(np.asarray(valid_data.emotion.apply(lambda x:dic[x])))\n",
        "y_test = to_categorical(np.asarray(test_data.emotion.apply(lambda x:dic[x])))\n",
        "\n",
        "print('Shape of X train, validation and test tensor:', X_train.shape, X_val.shape, X_test.shape)\n",
        "print('Shape of label train, validation and test tensor:', y_train.shape, y_val.shape, y_test.shape)"
      ],
      "execution_count": 12,
      "outputs": [
        {
          "output_type": "stream",
          "text": [
            "Shape of X train, validation and test tensor: (2610, 33) (291, 33) (2508, 33)\n",
            "Shape of label train, validation and test tensor: (2610, 4) (291, 4) (2508, 4)\n"
          ],
          "name": "stdout"
        }
      ]
    },
    {
      "metadata": {
        "id": "naD_jPLlmlFq",
        "colab_type": "code",
        "colab": {}
      },
      "cell_type": "code",
      "source": [
        "import gensim\n",
        "from gensim.models import Word2Vec\n",
        "from gensim.utils import simple_preprocess\n",
        "\n",
        "from gensim.models.keyedvectors import KeyedVectors\n",
        "\n",
        "word_vectors = KeyedVectors.load_word2vec_format('GoogleNews-vectors-negative300.bin.gz', binary=True)\n",
        "\n",
        "EMBEDDING_DIM=300\n",
        "vocabulary_size = min(len(word_index)+1, NUM_WORDS)\n",
        "embedding_matrix = np.zeros((vocabulary_size, EMBEDDING_DIM))\n",
        "for word, i in word_index.items():\n",
        "    if i>=NUM_WORDS:\n",
        "        continue\n",
        "    try:\n",
        "        embedding_vector = word_vectors[word]\n",
        "        embedding_matrix[i] = embedding_vector\n",
        "    except KeyError:\n",
        "        embedding_matrix[i] = np.random.normal(0,np.sqrt(0.25), EMBEDDING_DIM)\n",
        "\n",
        "del(word_vectors)\n",
        "\n",
        "from keras.layers import Embedding\n",
        "embedding_layer = Embedding(vocabulary_size,\n",
        "                            EMBEDDING_DIM,\n",
        "                            weights=[embedding_matrix],\n",
        "                            trainable=True)"
      ],
      "execution_count": 0,
      "outputs": []
    },
    {
      "metadata": {
        "id": "Q0fX0z7_7Mi5",
        "colab_type": "code",
        "outputId": "12267ea8-fad0-4845-8fbb-3813acf5fcc2",
        "colab": {
          "base_uri": "https://localhost:8080/",
          "height": 665
        }
      },
      "cell_type": "code",
      "source": [
        "from keras.layers import Dense, Input, GlobalMaxPooling1D\n",
        "from keras.layers import Conv1D, MaxPooling1D, Embedding\n",
        "from keras.models import Model\n",
        "from keras.layers import Input, Dense, Embedding, Conv2D, MaxPooling2D, Dropout, concatenate, LSTM\n",
        "from keras.layers.core import Reshape, Flatten\n",
        "from keras.callbacks import EarlyStopping\n",
        "from keras.optimizers import Adam, Adadelta, RMSprop\n",
        "from keras.models import Model\n",
        "from keras import regularizers\n",
        "sequence_length = X_train.shape[1]\n",
        "filter_sizes = [3,4,5]\n",
        "num_filters = 100\n",
        "drop_rate = 0.5\n",
        "\n",
        "print(sequence_length)\n",
        "\n",
        "inputs = Input(shape=(sequence_length,), name='input_1')\n",
        "embedding = embedding_layer(inputs)\n",
        "reshape = Reshape((sequence_length, EMBEDDING_DIM, 1), name='reshape_1')(embedding)\n",
        "\n",
        "conv_1 = Conv2D(num_filters, (filter_sizes[0], EMBEDDING_DIM), activation='relu',kernel_regularizer=regularizers.l2(0.01), name='conv_1')(reshape)\n",
        "conv_2 = Conv2D(num_filters, (filter_sizes[1], EMBEDDING_DIM), activation='relu',kernel_regularizer=regularizers.l2(0.01), name='conv_2')(reshape)\n",
        "conv_3 = Conv2D(num_filters, (filter_sizes[2], EMBEDDING_DIM), activation='relu',kernel_regularizer=regularizers.l2(0.01), name='conv_3')(reshape)\n",
        "\n",
        "maxpool_1 = MaxPooling2D((sequence_length - filter_sizes[0] + 1, 1), strides=1, name='maxpool_1')(conv_1)\n",
        "maxpool_2 = MaxPooling2D((sequence_length - filter_sizes[1] + 1, 1), strides=1, name='maxpool_2')(conv_2)\n",
        "maxpool_3 = MaxPooling2D((sequence_length - filter_sizes[2] + 1, 1), strides=1, name='maxpool_3')(conv_3)\n",
        "\n",
        "merged_tensor = concatenate([maxpool_1, maxpool_2, maxpool_3], axis=1, name='concatenate_1')\n",
        "flatten = Flatten()(merged_tensor)\n",
        "dropout = Dropout(drop_rate, name='dropout_1')(flatten)\n",
        "output = Dense(units=4, activation='softmax',kernel_regularizer=regularizers.l2(0.01), name='dense_1')(dropout)\n",
        "\n",
        "# this creates a model that includes\n",
        "model = Model(inputs, output)\n",
        "\n",
        "model.summary()"
      ],
      "execution_count": 14,
      "outputs": [
        {
          "output_type": "stream",
          "text": [
            "33\n",
            "__________________________________________________________________________________________________\n",
            "Layer (type)                    Output Shape         Param #     Connected to                     \n",
            "==================================================================================================\n",
            "input_1 (InputLayer)            (None, 33)           0                                            \n",
            "__________________________________________________________________________________________________\n",
            "embedding_1 (Embedding)         (None, 33, 300)      2601900     input_1[0][0]                    \n",
            "__________________________________________________________________________________________________\n",
            "reshape_1 (Reshape)             (None, 33, 300, 1)   0           embedding_1[0][0]                \n",
            "__________________________________________________________________________________________________\n",
            "conv_1 (Conv2D)                 (None, 31, 1, 100)   90100       reshape_1[0][0]                  \n",
            "__________________________________________________________________________________________________\n",
            "conv_2 (Conv2D)                 (None, 30, 1, 100)   120100      reshape_1[0][0]                  \n",
            "__________________________________________________________________________________________________\n",
            "conv_3 (Conv2D)                 (None, 29, 1, 100)   150100      reshape_1[0][0]                  \n",
            "__________________________________________________________________________________________________\n",
            "maxpool_1 (MaxPooling2D)        (None, 1, 1, 100)    0           conv_1[0][0]                     \n",
            "__________________________________________________________________________________________________\n",
            "maxpool_2 (MaxPooling2D)        (None, 1, 1, 100)    0           conv_2[0][0]                     \n",
            "__________________________________________________________________________________________________\n",
            "maxpool_3 (MaxPooling2D)        (None, 1, 1, 100)    0           conv_3[0][0]                     \n",
            "__________________________________________________________________________________________________\n",
            "concatenate_1 (Concatenate)     (None, 3, 1, 100)    0           maxpool_1[0][0]                  \n",
            "                                                                 maxpool_2[0][0]                  \n",
            "                                                                 maxpool_3[0][0]                  \n",
            "__________________________________________________________________________________________________\n",
            "flatten_1 (Flatten)             (None, 300)          0           concatenate_1[0][0]              \n",
            "__________________________________________________________________________________________________\n",
            "dropout_1 (Dropout)             (None, 300)          0           flatten_1[0][0]                  \n",
            "__________________________________________________________________________________________________\n",
            "dense_1 (Dense)                 (None, 4)            1204        dropout_1[0][0]                  \n",
            "==================================================================================================\n",
            "Total params: 2,963,404\n",
            "Trainable params: 2,963,404\n",
            "Non-trainable params: 0\n",
            "__________________________________________________________________________________________________\n"
          ],
          "name": "stdout"
        }
      ]
    },
    {
      "metadata": {
        "id": "HHZ1POD77GRp",
        "colab_type": "code",
        "outputId": "52c7c03c-0300-44a9-9301-19d3325cccb5",
        "colab": {
          "base_uri": "https://localhost:8080/",
          "height": 1907
        }
      },
      "cell_type": "code",
      "source": [
        "adam = Adam(lr=1e-3, decay=0.0)\n",
        "adadelta = Adadelta(lr=1.0, rho=0.95, epsilon=None, decay=0.0)\n",
        "rmsprop = RMSprop(lr=0.001, rho=0.9, epsilon=None, decay=0.0)\n",
        "\n",
        "model.compile(loss='categorical_crossentropy',\n",
        "              optimizer=rmsprop,\n",
        "              metrics=['acc'])\n",
        "callbacks = [EarlyStopping(monitor='val_loss', patience=5)]\n",
        "history = model.fit(X_train, y_train, batch_size=1000, epochs=100, verbose=1, validation_data=(X_val, y_val), callbacks=callbacks)  # starts training"
      ],
      "execution_count": 15,
      "outputs": [
        {
          "output_type": "stream",
          "text": [
            "Train on 2610 samples, validate on 291 samples\n",
            "Epoch 1/100\n",
            "2610/2610 [==============================] - 5s 2ms/step - loss: 1.6441 - acc: 0.2904 - val_loss: 1.6149 - val_acc: 0.3883\n",
            "Epoch 2/100\n",
            "2610/2610 [==============================] - 0s 131us/step - loss: 1.4896 - acc: 0.4724 - val_loss: 1.4701 - val_acc: 0.4021\n",
            "Epoch 3/100\n",
            "2610/2610 [==============================] - 0s 133us/step - loss: 1.3750 - acc: 0.5042 - val_loss: 1.3041 - val_acc: 0.6392\n",
            "Epoch 4/100\n",
            "2610/2610 [==============================] - 0s 132us/step - loss: 1.1757 - acc: 0.7161 - val_loss: 1.2533 - val_acc: 0.6357\n",
            "Epoch 5/100\n",
            "2610/2610 [==============================] - 0s 132us/step - loss: 1.0831 - acc: 0.7713 - val_loss: 1.1468 - val_acc: 0.6495\n",
            "Epoch 6/100\n",
            "2610/2610 [==============================] - 0s 131us/step - loss: 0.9781 - acc: 0.8096 - val_loss: 1.0376 - val_acc: 0.7973\n",
            "Epoch 7/100\n",
            "2610/2610 [==============================] - 0s 131us/step - loss: 0.8668 - acc: 0.9073 - val_loss: 0.9705 - val_acc: 0.7938\n",
            "Epoch 8/100\n",
            "2610/2610 [==============================] - 0s 137us/step - loss: 0.7833 - acc: 0.9276 - val_loss: 0.8947 - val_acc: 0.8488\n",
            "Epoch 9/100\n",
            "2610/2610 [==============================] - 0s 130us/step - loss: 0.7134 - acc: 0.9418 - val_loss: 0.8524 - val_acc: 0.8660\n",
            "Epoch 10/100\n",
            "2610/2610 [==============================] - 0s 132us/step - loss: 0.6588 - acc: 0.9525 - val_loss: 0.8127 - val_acc: 0.8454\n",
            "Epoch 11/100\n",
            "2610/2610 [==============================] - 0s 130us/step - loss: 0.6070 - acc: 0.9552 - val_loss: 0.7659 - val_acc: 0.8763\n",
            "Epoch 12/100\n",
            "2610/2610 [==============================] - 0s 130us/step - loss: 0.5696 - acc: 0.9590 - val_loss: 0.7421 - val_acc: 0.8866\n",
            "Epoch 13/100\n",
            "2610/2610 [==============================] - 0s 132us/step - loss: 0.5336 - acc: 0.9701 - val_loss: 0.7188 - val_acc: 0.8797\n",
            "Epoch 14/100\n",
            "2610/2610 [==============================] - 0s 130us/step - loss: 0.5159 - acc: 0.9690 - val_loss: 0.7044 - val_acc: 0.8935\n",
            "Epoch 15/100\n",
            "2610/2610 [==============================] - 0s 130us/step - loss: 0.4821 - acc: 0.9716 - val_loss: 0.6799 - val_acc: 0.8797\n",
            "Epoch 16/100\n",
            "2610/2610 [==============================] - 0s 129us/step - loss: 0.4623 - acc: 0.9766 - val_loss: 0.6603 - val_acc: 0.8935\n",
            "Epoch 17/100\n",
            "2610/2610 [==============================] - 0s 131us/step - loss: 0.4501 - acc: 0.9739 - val_loss: 0.6635 - val_acc: 0.8969\n",
            "Epoch 18/100\n",
            "2610/2610 [==============================] - 0s 130us/step - loss: 0.4515 - acc: 0.9674 - val_loss: 0.6639 - val_acc: 0.8866\n",
            "Epoch 19/100\n",
            "2610/2610 [==============================] - 0s 132us/step - loss: 0.4266 - acc: 0.9759 - val_loss: 0.6289 - val_acc: 0.8969\n",
            "Epoch 20/100\n",
            "2610/2610 [==============================] - 0s 132us/step - loss: 0.4088 - acc: 0.9785 - val_loss: 0.6195 - val_acc: 0.8763\n",
            "Epoch 21/100\n",
            "2610/2610 [==============================] - 0s 129us/step - loss: 0.3933 - acc: 0.9816 - val_loss: 0.6257 - val_acc: 0.9003\n",
            "Epoch 22/100\n",
            "2610/2610 [==============================] - 0s 133us/step - loss: 0.3821 - acc: 0.9789 - val_loss: 0.5972 - val_acc: 0.8900\n",
            "Epoch 23/100\n",
            "2610/2610 [==============================] - 0s 132us/step - loss: 0.3726 - acc: 0.9805 - val_loss: 0.6068 - val_acc: 0.8832\n",
            "Epoch 24/100\n",
            "2610/2610 [==============================] - 0s 128us/step - loss: 0.3671 - acc: 0.9828 - val_loss: 0.5915 - val_acc: 0.9038\n",
            "Epoch 25/100\n",
            "2610/2610 [==============================] - 0s 130us/step - loss: 0.3554 - acc: 0.9828 - val_loss: 0.5917 - val_acc: 0.8866\n",
            "Epoch 26/100\n",
            "2610/2610 [==============================] - 0s 132us/step - loss: 0.3582 - acc: 0.9785 - val_loss: 0.5783 - val_acc: 0.9038\n",
            "Epoch 27/100\n",
            "2610/2610 [==============================] - 0s 129us/step - loss: 0.3390 - acc: 0.9847 - val_loss: 0.5715 - val_acc: 0.9038\n",
            "Epoch 28/100\n",
            "2610/2610 [==============================] - 0s 131us/step - loss: 0.3349 - acc: 0.9801 - val_loss: 0.5572 - val_acc: 0.9072\n",
            "Epoch 29/100\n",
            "2610/2610 [==============================] - 0s 129us/step - loss: 0.3234 - acc: 0.9831 - val_loss: 0.5591 - val_acc: 0.8969\n",
            "Epoch 30/100\n",
            "2610/2610 [==============================] - 0s 130us/step - loss: 0.3277 - acc: 0.9812 - val_loss: 0.5604 - val_acc: 0.9072\n",
            "Epoch 31/100\n",
            "2610/2610 [==============================] - 0s 131us/step - loss: 0.3159 - acc: 0.9885 - val_loss: 0.5520 - val_acc: 0.8969\n",
            "Epoch 32/100\n",
            "2610/2610 [==============================] - 0s 129us/step - loss: 0.3121 - acc: 0.9808 - val_loss: 0.5414 - val_acc: 0.9038\n",
            "Epoch 33/100\n",
            "2610/2610 [==============================] - 0s 133us/step - loss: 0.3071 - acc: 0.9831 - val_loss: 0.5387 - val_acc: 0.9038\n",
            "Epoch 34/100\n",
            "2610/2610 [==============================] - 0s 130us/step - loss: 0.3002 - acc: 0.9831 - val_loss: 0.5389 - val_acc: 0.8935\n",
            "Epoch 35/100\n",
            "2610/2610 [==============================] - 0s 130us/step - loss: 0.3045 - acc: 0.9805 - val_loss: 0.5530 - val_acc: 0.8866\n",
            "Epoch 36/100\n",
            "2610/2610 [==============================] - 0s 130us/step - loss: 0.3107 - acc: 0.9793 - val_loss: 0.5373 - val_acc: 0.9038\n",
            "Epoch 37/100\n",
            "2610/2610 [==============================] - 0s 132us/step - loss: 0.2909 - acc: 0.9835 - val_loss: 0.5237 - val_acc: 0.9003\n",
            "Epoch 38/100\n",
            "2610/2610 [==============================] - 0s 130us/step - loss: 0.2803 - acc: 0.9847 - val_loss: 0.5222 - val_acc: 0.9003\n",
            "Epoch 39/100\n",
            "2610/2610 [==============================] - 0s 132us/step - loss: 0.2759 - acc: 0.9847 - val_loss: 0.5140 - val_acc: 0.9038\n",
            "Epoch 40/100\n",
            "2610/2610 [==============================] - 0s 130us/step - loss: 0.2843 - acc: 0.9808 - val_loss: 0.5226 - val_acc: 0.8969\n",
            "Epoch 41/100\n",
            "2610/2610 [==============================] - 0s 132us/step - loss: 0.2677 - acc: 0.9847 - val_loss: 0.5075 - val_acc: 0.8969\n",
            "Epoch 42/100\n",
            "2610/2610 [==============================] - 0s 130us/step - loss: 0.2652 - acc: 0.9862 - val_loss: 0.5058 - val_acc: 0.9072\n",
            "Epoch 43/100\n",
            "2610/2610 [==============================] - 0s 129us/step - loss: 0.2697 - acc: 0.9839 - val_loss: 0.5480 - val_acc: 0.8832\n",
            "Epoch 44/100\n",
            "2610/2610 [==============================] - 0s 132us/step - loss: 0.2746 - acc: 0.9793 - val_loss: 0.5121 - val_acc: 0.9038\n",
            "Epoch 45/100\n",
            "2610/2610 [==============================] - 0s 132us/step - loss: 0.2625 - acc: 0.9847 - val_loss: 0.4979 - val_acc: 0.9038\n",
            "Epoch 46/100\n",
            "2610/2610 [==============================] - 0s 133us/step - loss: 0.2508 - acc: 0.9847 - val_loss: 0.5054 - val_acc: 0.8935\n",
            "Epoch 47/100\n",
            "2610/2610 [==============================] - 0s 133us/step - loss: 0.2464 - acc: 0.9874 - val_loss: 0.4852 - val_acc: 0.9175\n",
            "Epoch 48/100\n",
            "2610/2610 [==============================] - 0s 131us/step - loss: 0.2510 - acc: 0.9851 - val_loss: 0.5005 - val_acc: 0.9003\n",
            "Epoch 49/100\n",
            "2610/2610 [==============================] - 0s 130us/step - loss: 0.2502 - acc: 0.9862 - val_loss: 0.4945 - val_acc: 0.9003\n",
            "Epoch 50/100\n",
            "2610/2610 [==============================] - 0s 133us/step - loss: 0.2449 - acc: 0.9851 - val_loss: 0.4906 - val_acc: 0.9038\n",
            "Epoch 51/100\n",
            "2610/2610 [==============================] - 0s 130us/step - loss: 0.2404 - acc: 0.9851 - val_loss: 0.4889 - val_acc: 0.9107\n",
            "Epoch 52/100\n",
            "2610/2610 [==============================] - 0s 130us/step - loss: 0.2430 - acc: 0.9828 - val_loss: 0.5009 - val_acc: 0.8969\n"
          ],
          "name": "stdout"
        }
      ]
    },
    {
      "metadata": {
        "id": "OtGrA8RBKShg",
        "colab_type": "code",
        "colab": {}
      },
      "cell_type": "code",
      "source": [
        "model_path = 'emoint_model.h5'\n",
        "weight_path = 'emoint_weights.h5'\n",
        "\n",
        "model.save(model_path)\n",
        "model.save_weights(weight_path)"
      ],
      "execution_count": 0,
      "outputs": []
    },
    {
      "metadata": {
        "id": "eFzd1urtKeFw",
        "colab_type": "code",
        "outputId": "1da6f12c-4a99-4c8d-8321-226256a00b9f",
        "colab": {
          "base_uri": "https://localhost:8080/",
          "height": 197
        }
      },
      "cell_type": "code",
      "source": [
        "!ls -lah"
      ],
      "execution_count": 17,
      "outputs": [
        {
          "output_type": "stream",
          "text": [
            "total 1.6G\n",
            "drwxr-xr-x 1 root root 4.0K Nov 11 04:24 .\n",
            "drwxr-xr-x 1 root root 4.0K Nov 11 02:39 ..\n",
            "-rw-r--r-- 1 root root 2.5K Nov 11 02:42 adc.json\n",
            "drwxr-xr-x 1 root root 4.0K Nov 11 02:42 .config\n",
            "-rw-r--r-- 1 root root  23M Nov 11 04:24 emoint_model.h5\n",
            "-rw-r--r-- 1 root root  12M Nov 11 04:24 emoint_weights.h5\n",
            "-rw-r--r-- 1 root root 1.6G Nov 11 04:20 GoogleNews-vectors-negative300.bin.gz\n",
            "-rw-r--r-- 1 root root 1.7M Nov 11 02:42 isear_databank.csv\n",
            "drwxr-xr-x 2 root root 4.0K Nov  7 20:08 sample_data\n"
          ],
          "name": "stdout"
        }
      ]
    },
    {
      "metadata": {
        "id": "85MiexxMK8zd",
        "colab_type": "code",
        "colab": {}
      },
      "cell_type": "code",
      "source": [
        "model_file = drive.CreateFile({'title': model_path})\n",
        "model_file.SetContentFile(model_path)\n",
        "model_file.Upload()\n",
        "\n",
        "weight_file = drive.CreateFile({'title': weight_path})\n",
        "weight_file.SetContentFile(weight_path)\n",
        "weight_file.Upload()"
      ],
      "execution_count": 0,
      "outputs": []
    },
    {
      "metadata": {
        "id": "b0P0vTv-7RC6",
        "colab_type": "code",
        "colab": {}
      },
      "cell_type": "code",
      "source": [
        "sequences_test=tokenizer.texts_to_sequences(test_data.text)\n",
        "X_test = pad_sequences(sequences_test, maxlen=X_test.shape[1])\n",
        "y_pred = model.predict(X_test)"
      ],
      "execution_count": 0,
      "outputs": []
    },
    {
      "metadata": {
        "id": "IgHlDfC_-rS5",
        "colab_type": "code",
        "outputId": "7ba70cea-a966-4552-9950-ad5b1f600384",
        "colab": {
          "base_uri": "https://localhost:8080/",
          "height": 35
        }
      },
      "cell_type": "code",
      "source": [
        "history.history.keys()"
      ],
      "execution_count": 20,
      "outputs": [
        {
          "output_type": "execute_result",
          "data": {
            "text/plain": [
              "dict_keys(['val_loss', 'val_acc', 'loss', 'acc'])"
            ]
          },
          "metadata": {
            "tags": []
          },
          "execution_count": 20
        }
      ]
    },
    {
      "metadata": {
        "id": "-JaFoS4u_pwS",
        "colab_type": "code",
        "colab": {}
      },
      "cell_type": "code",
      "source": [
        "y_pred_original = [labels[val] for val in np.argmax(y_pred, axis=1).squeeze()]\n",
        "y_test_original = np.asarray(test_data.emotion)"
      ],
      "execution_count": 0,
      "outputs": []
    },
    {
      "metadata": {
        "id": "BREyqdCAI9d0",
        "colab_type": "code",
        "colab": {}
      },
      "cell_type": "code",
      "source": [
        "def print_confusion_matrix(confusion_matrix, class_names, figsize = (4,3), fontsize=15):\n",
        "    \"\"\"Prints a confusion matrix, as returned by sklearn.metrics.confusion_matrix, as a heatmap.\n",
        "    \n",
        "    Arguments\n",
        "    ---------\n",
        "    confusion_matrix: numpy.ndarray\n",
        "        The numpy.ndarray object returned from a call to sklearn.metrics.confusion_matrix. \n",
        "        Similarly constructed ndarrays can also be used.\n",
        "    class_names: list\n",
        "        An ordered list of class names, in the order they index the given confusion matrix.\n",
        "    figsize: tuple\n",
        "        A 2-long tuple, the first value determining the horizontal size of the ouputted figure,\n",
        "        the second determining the vertical size. Defaults to (10,7).\n",
        "    fontsize: int\n",
        "        Font size for axes labels. Defaults to 14.\n",
        "        \n",
        "    Returns\n",
        "    -------\n",
        "    matplotlib.figure.Figure\n",
        "        The resulting confusion matrix figure\n",
        "    \"\"\"\n",
        "    df_cm = pd.DataFrame(\n",
        "        confusion_matrix, index=class_names, columns=class_names, \n",
        "    )\n",
        "    fig = plt.figure(figsize=figsize)\n",
        "    try:\n",
        "        heatmap = sns.heatmap(df_cm, annot=True, fmt=\"d\")\n",
        "    except ValueError:\n",
        "        raise ValueError(\"Confusion matrix values must be integers.\")\n",
        "    heatmap.yaxis.set_ticklabels(heatmap.yaxis.get_ticklabels(), rotation=0, ha='right', fontsize=fontsize)\n",
        "    heatmap.xaxis.set_ticklabels(heatmap.xaxis.get_ticklabels(), rotation=45, ha='right', fontsize=fontsize)\n",
        "    plt.ylabel('True label')\n",
        "    plt.xlabel('Predicted label')\n",
        "    return fig"
      ],
      "execution_count": 0,
      "outputs": []
    },
    {
      "metadata": {
        "id": "XG9HPQb10TZm",
        "colab_type": "code",
        "outputId": "3b61b018-3b75-4f65-bfc2-640e28fff897",
        "colab": {
          "base_uri": "https://localhost:8080/",
          "height": 173
        }
      },
      "cell_type": "code",
      "source": [
        "cf_matrix = confusion_matrix(y_test_original, y_pred_original, labels=labels)\n",
        "\n",
        "df_cm = pd.DataFrame(\n",
        "    cf_matrix, index=labels, columns=labels, \n",
        ")\n",
        "\n",
        "df_cm"
      ],
      "execution_count": 23,
      "outputs": [
        {
          "output_type": "execute_result",
          "data": {
            "text/html": [
              "<div>\n",
              "<style scoped>\n",
              "    .dataframe tbody tr th:only-of-type {\n",
              "        vertical-align: middle;\n",
              "    }\n",
              "\n",
              "    .dataframe tbody tr th {\n",
              "        vertical-align: top;\n",
              "    }\n",
              "\n",
              "    .dataframe thead th {\n",
              "        text-align: right;\n",
              "    }\n",
              "</style>\n",
              "<table border=\"1\" class=\"dataframe\">\n",
              "  <thead>\n",
              "    <tr style=\"text-align: right;\">\n",
              "      <th></th>\n",
              "      <th>fear</th>\n",
              "      <th>anger</th>\n",
              "      <th>sadness</th>\n",
              "      <th>joy</th>\n",
              "    </tr>\n",
              "  </thead>\n",
              "  <tbody>\n",
              "    <tr>\n",
              "      <th>fear</th>\n",
              "      <td>698</td>\n",
              "      <td>30</td>\n",
              "      <td>51</td>\n",
              "      <td>10</td>\n",
              "    </tr>\n",
              "    <tr>\n",
              "      <th>anger</th>\n",
              "      <td>69</td>\n",
              "      <td>536</td>\n",
              "      <td>28</td>\n",
              "      <td>10</td>\n",
              "    </tr>\n",
              "    <tr>\n",
              "      <th>sadness</th>\n",
              "      <td>75</td>\n",
              "      <td>29</td>\n",
              "      <td>424</td>\n",
              "      <td>5</td>\n",
              "    </tr>\n",
              "    <tr>\n",
              "      <th>joy</th>\n",
              "      <td>41</td>\n",
              "      <td>5</td>\n",
              "      <td>11</td>\n",
              "      <td>486</td>\n",
              "    </tr>\n",
              "  </tbody>\n",
              "</table>\n",
              "</div>"
            ],
            "text/plain": [
              "         fear  anger  sadness  joy\n",
              "fear      698     30       51   10\n",
              "anger      69    536       28   10\n",
              "sadness    75     29      424    5\n",
              "joy        41      5       11  486"
            ]
          },
          "metadata": {
            "tags": []
          },
          "execution_count": 23
        }
      ]
    },
    {
      "metadata": {
        "id": "59xnXmbEAKXy",
        "colab_type": "code",
        "outputId": "d38e375a-307a-4693-8091-a86598637408",
        "colab": {
          "base_uri": "https://localhost:8080/",
          "height": 282
        }
      },
      "cell_type": "code",
      "source": [
        "print(print_confusion_matrix(cf_matrix, class_names=labels))"
      ],
      "execution_count": 24,
      "outputs": [
        {
          "output_type": "stream",
          "text": [
            "Figure(288x216)\n"
          ],
          "name": "stdout"
        },
        {
          "output_type": "display_data",
          "data": {
            "image/png": "[encoded data removed]",
            "text/plain": [
              "<matplotlib.figure.Figure at 0x7ff9c4659748>"
            ]
          },
          "metadata": {
            "tags": []
          }
        }
      ]
    },
    {
      "metadata": {
        "id": "9XE5c4LJEZXy",
        "colab_type": "code",
        "outputId": "3aad6e05-bc21-4e35-f1d4-aa2c473549a3",
        "colab": {
          "base_uri": "https://localhost:8080/",
          "height": 35
        }
      },
      "cell_type": "code",
      "source": [
        "test_accuracy = accuracy_score(y_test_original, y_pred_original)\n",
        "print(\"test accuracy:\", test_accuracy)"
      ],
      "execution_count": 25,
      "outputs": [
        {
          "output_type": "stream",
          "text": [
            "test accuracy: 0.8548644338118022\n"
          ],
          "name": "stdout"
        }
      ]
    },
    {
      "metadata": {
        "id": "jAISNDCVwvR7",
        "colab_type": "text"
      },
      "cell_type": "markdown",
      "source": [
        "### Performance score for each classes"
      ]
    },
    {
      "metadata": {
        "id": "iFb9Q6A1DcXi",
        "colab_type": "code",
        "outputId": "b36a2ddf-a634-4445-8ab4-44a24d4019f5",
        "colab": {
          "base_uri": "https://localhost:8080/",
          "height": 173
        }
      },
      "cell_type": "code",
      "source": [
        "precision, recall, fscore, support = precision_recall_fscore_support(y_test_original, y_pred_original)\n",
        "score_dict = {\n",
        "  \"precision\": precision.round(4),\n",
        "  \"recall\": recall.round(4),\n",
        "  \"f1-score\": fscore.round(4),\n",
        "  \"support\": support.round(4)\n",
        "}\n",
        "score_df = pd.DataFrame(score_dict, index=labels)\n",
        "score_df"
      ],
      "execution_count": 26,
      "outputs": [
        {
          "output_type": "execute_result",
          "data": {
            "text/html": [
              "<div>\n",
              "<style scoped>\n",
              "    .dataframe tbody tr th:only-of-type {\n",
              "        vertical-align: middle;\n",
              "    }\n",
              "\n",
              "    .dataframe tbody tr th {\n",
              "        vertical-align: top;\n",
              "    }\n",
              "\n",
              "    .dataframe thead th {\n",
              "        text-align: right;\n",
              "    }\n",
              "</style>\n",
              "<table border=\"1\" class=\"dataframe\">\n",
              "  <thead>\n",
              "    <tr style=\"text-align: right;\">\n",
              "      <th></th>\n",
              "      <th>f1-score</th>\n",
              "      <th>precision</th>\n",
              "      <th>recall</th>\n",
              "      <th>support</th>\n",
              "    </tr>\n",
              "  </thead>\n",
              "  <tbody>\n",
              "    <tr>\n",
              "      <th>fear</th>\n",
              "      <td>0.8624</td>\n",
              "      <td>0.8933</td>\n",
              "      <td>0.8336</td>\n",
              "      <td>643</td>\n",
              "    </tr>\n",
              "    <tr>\n",
              "      <th>anger</th>\n",
              "      <td>0.8349</td>\n",
              "      <td>0.7905</td>\n",
              "      <td>0.8847</td>\n",
              "      <td>789</td>\n",
              "    </tr>\n",
              "    <tr>\n",
              "      <th>sadness</th>\n",
              "      <td>0.9222</td>\n",
              "      <td>0.9511</td>\n",
              "      <td>0.8950</td>\n",
              "      <td>543</td>\n",
              "    </tr>\n",
              "    <tr>\n",
              "      <th>joy</th>\n",
              "      <td>0.8099</td>\n",
              "      <td>0.8249</td>\n",
              "      <td>0.7955</td>\n",
              "      <td>533</td>\n",
              "    </tr>\n",
              "  </tbody>\n",
              "</table>\n",
              "</div>"
            ],
            "text/plain": [
              "         f1-score  precision  recall  support\n",
              "fear       0.8624     0.8933  0.8336      643\n",
              "anger      0.8349     0.7905  0.8847      789\n",
              "sadness    0.9222     0.9511  0.8950      543\n",
              "joy        0.8099     0.8249  0.7955      533"
            ]
          },
          "metadata": {
            "tags": []
          },
          "execution_count": 26
        }
      ]
    },
    {
      "metadata": {
        "id": "cHi1Gw7Oz1zG",
        "colab_type": "text"
      },
      "cell_type": "markdown",
      "source": [
        "### Performance score using micro average"
      ]
    },
    {
      "metadata": {
        "id": "KP69PDE9D_jz",
        "colab_type": "code",
        "outputId": "69119763-17ee-4886-c4f9-57ea265fac26",
        "colab": {
          "base_uri": "https://localhost:8080/",
          "height": 80
        }
      },
      "cell_type": "code",
      "source": [
        "precision, recall, fscore, support = precision_recall_fscore_support(y_test_original, y_pred_original, average=\"micro\")\n",
        "score_dict = {\n",
        "  \"precision\": precision.round(4),\n",
        "  \"recall\": recall.round(4),\n",
        "  \"f1-score\": fscore.round(4),\n",
        "  \"support\": support\n",
        "}\n",
        "score_df = pd.DataFrame(score_dict, index=[\"score\"])\n",
        "score_df"
      ],
      "execution_count": 27,
      "outputs": [
        {
          "output_type": "execute_result",
          "data": {
            "text/html": [
              "<div>\n",
              "<style scoped>\n",
              "    .dataframe tbody tr th:only-of-type {\n",
              "        vertical-align: middle;\n",
              "    }\n",
              "\n",
              "    .dataframe tbody tr th {\n",
              "        vertical-align: top;\n",
              "    }\n",
              "\n",
              "    .dataframe thead th {\n",
              "        text-align: right;\n",
              "    }\n",
              "</style>\n",
              "<table border=\"1\" class=\"dataframe\">\n",
              "  <thead>\n",
              "    <tr style=\"text-align: right;\">\n",
              "      <th></th>\n",
              "      <th>f1-score</th>\n",
              "      <th>precision</th>\n",
              "      <th>recall</th>\n",
              "      <th>support</th>\n",
              "    </tr>\n",
              "  </thead>\n",
              "  <tbody>\n",
              "    <tr>\n",
              "      <th>score</th>\n",
              "      <td>0.8549</td>\n",
              "      <td>0.8549</td>\n",
              "      <td>0.8549</td>\n",
              "      <td>None</td>\n",
              "    </tr>\n",
              "  </tbody>\n",
              "</table>\n",
              "</div>"
            ],
            "text/plain": [
              "       f1-score  precision  recall support\n",
              "score    0.8549     0.8549  0.8549    None"
            ]
          },
          "metadata": {
            "tags": []
          },
          "execution_count": 27
        }
      ]
    },
    {
      "metadata": {
        "id": "IWXNCktiz8Vb",
        "colab_type": "text"
      },
      "cell_type": "markdown",
      "source": [
        "### Performance score using macro average"
      ]
    },
    {
      "metadata": {
        "id": "g4e0vsNIydDs",
        "colab_type": "code",
        "outputId": "1a80a456-411b-4338-8d7d-feeb35f58fb1",
        "colab": {
          "base_uri": "https://localhost:8080/",
          "height": 80
        }
      },
      "cell_type": "code",
      "source": [
        "precision, recall, fscore, support = precision_recall_fscore_support(y_test_original, y_pred_original, average=\"macro\")\n",
        "score_dict = {\n",
        "  \"precision\": precision.round(4),\n",
        "  \"recall\": recall.round(4),\n",
        "  \"f1-score\": fscore.round(4),\n",
        "  \"support\": support\n",
        "}\n",
        "score_df = pd.DataFrame(score_dict, index=[\"score\"])\n",
        "score_df"
      ],
      "execution_count": 28,
      "outputs": [
        {
          "output_type": "execute_result",
          "data": {
            "text/html": [
              "<div>\n",
              "<style scoped>\n",
              "    .dataframe tbody tr th:only-of-type {\n",
              "        vertical-align: middle;\n",
              "    }\n",
              "\n",
              "    .dataframe tbody tr th {\n",
              "        vertical-align: top;\n",
              "    }\n",
              "\n",
              "    .dataframe thead th {\n",
              "        text-align: right;\n",
              "    }\n",
              "</style>\n",
              "<table border=\"1\" class=\"dataframe\">\n",
              "  <thead>\n",
              "    <tr style=\"text-align: right;\">\n",
              "      <th></th>\n",
              "      <th>f1-score</th>\n",
              "      <th>precision</th>\n",
              "      <th>recall</th>\n",
              "      <th>support</th>\n",
              "    </tr>\n",
              "  </thead>\n",
              "  <tbody>\n",
              "    <tr>\n",
              "      <th>score</th>\n",
              "      <td>0.8574</td>\n",
              "      <td>0.8649</td>\n",
              "      <td>0.8522</td>\n",
              "      <td>None</td>\n",
              "    </tr>\n",
              "  </tbody>\n",
              "</table>\n",
              "</div>"
            ],
            "text/plain": [
              "       f1-score  precision  recall support\n",
              "score    0.8574     0.8649  0.8522    None"
            ]
          },
          "metadata": {
            "tags": []
          },
          "execution_count": 28
        }
      ]
    },
    {
      "metadata": {
        "id": "wFJFH7u6z-oG",
        "colab_type": "text"
      },
      "cell_type": "markdown",
      "source": [
        "### Performance score using weighted average"
      ]
    },
    {
      "metadata": {
        "id": "z99JkHjuzv68",
        "colab_type": "code",
        "outputId": "54c6cc5c-b881-4071-9312-c21b7fdb4c17",
        "colab": {
          "base_uri": "https://localhost:8080/",
          "height": 80
        }
      },
      "cell_type": "code",
      "source": [
        "precision, recall, fscore, support = precision_recall_fscore_support(y_test_original, y_pred_original, average=\"weighted\")\n",
        "score_dict = {\n",
        "  \"precision\": precision.round(4),\n",
        "  \"recall\": recall.round(4),\n",
        "  \"f1-score\": fscore.round(4),\n",
        "  \"support\": support\n",
        "}\n",
        "score_df = pd.DataFrame(score_dict, index=[\"score\"])\n",
        "score_df"
      ],
      "execution_count": 29,
      "outputs": [
        {
          "output_type": "execute_result",
          "data": {
            "text/html": [
              "<div>\n",
              "<style scoped>\n",
              "    .dataframe tbody tr th:only-of-type {\n",
              "        vertical-align: middle;\n",
              "    }\n",
              "\n",
              "    .dataframe tbody tr th {\n",
              "        vertical-align: top;\n",
              "    }\n",
              "\n",
              "    .dataframe thead th {\n",
              "        text-align: right;\n",
              "    }\n",
              "</style>\n",
              "<table border=\"1\" class=\"dataframe\">\n",
              "  <thead>\n",
              "    <tr style=\"text-align: right;\">\n",
              "      <th></th>\n",
              "      <th>f1-score</th>\n",
              "      <th>precision</th>\n",
              "      <th>recall</th>\n",
              "      <th>support</th>\n",
              "    </tr>\n",
              "  </thead>\n",
              "  <tbody>\n",
              "    <tr>\n",
              "      <th>score</th>\n",
              "      <td>0.8556</td>\n",
              "      <td>0.8589</td>\n",
              "      <td>0.8549</td>\n",
              "      <td>None</td>\n",
              "    </tr>\n",
              "  </tbody>\n",
              "</table>\n",
              "</div>"
            ],
            "text/plain": [
              "       f1-score  precision  recall support\n",
              "score    0.8556     0.8589  0.8549    None"
            ]
          },
          "metadata": {
            "tags": []
          },
          "execution_count": 29
        }
      ]
    },
    {
      "metadata": {
        "id": "Y83dx5SyoBR8",
        "colab_type": "code",
        "colab": {}
      },
      "cell_type": "code",
      "source": [
        ""
      ],
      "execution_count": 0,
      "outputs": []
    }
  ]
}