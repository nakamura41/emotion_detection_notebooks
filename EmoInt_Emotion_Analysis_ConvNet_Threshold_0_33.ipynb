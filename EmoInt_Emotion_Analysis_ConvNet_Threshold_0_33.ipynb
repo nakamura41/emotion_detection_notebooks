{
  "nbformat": 4,
  "nbformat_minor": 0,
  "metadata": {
    "colab": {
      "name": "EmoInt-Emotion-Analysis-ConvNet-Threshold-0.33.ipynb",
      "version": "0.3.2",
      "provenance": [],
      "collapsed_sections": [],
      "include_colab_link": true
    },
    "kernelspec": {
      "name": "python3",
      "display_name": "Python 3"
    },
    "accelerator": "GPU"
  },
  "cells": [
    {
      "cell_type": "markdown",
      "metadata": {
        "id": "view-in-github",
        "colab_type": "text"
      },
      "source": [
        "[View in Colaboratory](https://colab.research.google.com/github/nakamura41/emotion_detection_notebooks/blob/master/EmoInt_Emotion_Analysis_ConvNet_Threshold_0_33.ipynb)"
      ]
    },
    {
      "metadata": {
        "id": "wRzS3ihSifMc",
        "colab_type": "code",
        "outputId": "0b3139f7-35ba-4c88-f327-496ef91141e2",
        "colab": {
          "base_uri": "https://localhost:8080/",
          "height": 343
        }
      },
      "cell_type": "code",
      "source": [
        "!pip install gensim\n",
        "!pip install -U -q PyDrive"
      ],
      "execution_count": 1,
      "outputs": [
        {
          "output_type": "stream",
          "text": [
            "Requirement already satisfied: gensim in /usr/local/lib/python3.6/dist-packages (3.6.0)\n",
            "Requirement already satisfied: six>=1.5.0 in /usr/local/lib/python3.6/dist-packages (from gensim) (1.11.0)\n",
            "Requirement already satisfied: smart-open>=1.2.1 in /usr/local/lib/python3.6/dist-packages (from gensim) (1.7.1)\n",
            "Requirement already satisfied: numpy>=1.11.3 in /usr/local/lib/python3.6/dist-packages (from gensim) (1.14.6)\n",
            "Requirement already satisfied: scipy>=0.18.1 in /usr/local/lib/python3.6/dist-packages (from gensim) (0.19.1)\n",
            "Requirement already satisfied: boto>=2.32 in /usr/local/lib/python3.6/dist-packages (from smart-open>=1.2.1->gensim) (2.49.0)\n",
            "Requirement already satisfied: requests in /usr/local/lib/python3.6/dist-packages (from smart-open>=1.2.1->gensim) (2.18.4)\n",
            "Requirement already satisfied: boto3 in /usr/local/lib/python3.6/dist-packages (from smart-open>=1.2.1->gensim) (1.9.27)\n",
            "Requirement already satisfied: bz2file in /usr/local/lib/python3.6/dist-packages (from smart-open>=1.2.1->gensim) (0.98)\n",
            "Requirement already satisfied: certifi>=2017.4.17 in /usr/local/lib/python3.6/dist-packages (from requests->smart-open>=1.2.1->gensim) (2018.10.15)\n",
            "Requirement already satisfied: urllib3<1.23,>=1.21.1 in /usr/local/lib/python3.6/dist-packages (from requests->smart-open>=1.2.1->gensim) (1.22)\n",
            "Requirement already satisfied: chardet<3.1.0,>=3.0.2 in /usr/local/lib/python3.6/dist-packages (from requests->smart-open>=1.2.1->gensim) (3.0.4)\n",
            "Requirement already satisfied: idna<2.7,>=2.5 in /usr/local/lib/python3.6/dist-packages (from requests->smart-open>=1.2.1->gensim) (2.6)\n",
            "Requirement already satisfied: s3transfer<0.2.0,>=0.1.10 in /usr/local/lib/python3.6/dist-packages (from boto3->smart-open>=1.2.1->gensim) (0.1.13)\n",
            "Requirement already satisfied: jmespath<1.0.0,>=0.7.1 in /usr/local/lib/python3.6/dist-packages (from boto3->smart-open>=1.2.1->gensim) (0.9.3)\n",
            "Requirement already satisfied: botocore<1.13.0,>=1.12.27 in /usr/local/lib/python3.6/dist-packages (from boto3->smart-open>=1.2.1->gensim) (1.12.27)\n",
            "Requirement already satisfied: python-dateutil<3.0.0,>=2.1; python_version >= \"2.7\" in /usr/local/lib/python3.6/dist-packages (from botocore<1.13.0,>=1.12.27->boto3->smart-open>=1.2.1->gensim) (2.5.3)\n",
            "Requirement already satisfied: docutils>=0.10 in /usr/local/lib/python3.6/dist-packages (from botocore<1.13.0,>=1.12.27->boto3->smart-open>=1.2.1->gensim) (0.14)\n"
          ],
          "name": "stdout"
        }
      ]
    },
    {
      "metadata": {
        "id": "OdaHCMv2rGKs",
        "colab_type": "code",
        "outputId": "e2884d15-0f9b-4b3d-c1a8-b5419c5ef2b6",
        "colab": {
          "base_uri": "https://localhost:8080/",
          "height": 51
        }
      },
      "cell_type": "code",
      "source": [
        "import os\n",
        "import tensorflow as tf\n",
        "from tensorflow import keras\n",
        "import numpy as np\n",
        "import urllib.request\n",
        "import pandas as pd\n",
        "from gensim.test.utils import common_texts, get_tmpfile\n",
        "from gensim.utils import simple_preprocess\n",
        "from gensim.models import Word2Vec\n",
        "from tempfile import gettempdir\n",
        "import zipfile\n",
        "from keras.preprocessing.text import Tokenizer\n",
        "from keras.preprocessing.sequence import pad_sequences\n",
        "from keras.utils import to_categorical\n",
        "from pydrive.auth import GoogleAuth\n",
        "from pydrive.drive import GoogleDrive\n",
        "from google.colab import auth\n",
        "from oauth2client.client import GoogleCredentials\n",
        "from sklearn.metrics import confusion_matrix, precision_recall_fscore_support, accuracy_score\n",
        "import matplotlib.pyplot as plt\n",
        "import seaborn as sns\n",
        "\n",
        "print(tf.__version__)"
      ],
      "execution_count": 2,
      "outputs": [
        {
          "output_type": "stream",
          "text": [
            "1.11.0\n"
          ],
          "name": "stdout"
        },
        {
          "output_type": "stream",
          "text": [
            "Using TensorFlow backend.\n"
          ],
          "name": "stderr"
        }
      ]
    },
    {
      "metadata": {
        "id": "VMhX1N2k4SgY",
        "colab_type": "code",
        "colab": {}
      },
      "cell_type": "code",
      "source": [
        "# 1. Authenticate and create the PyDrive client.\n",
        "auth.authenticate_user()\n",
        "gauth = GoogleAuth()\n",
        "gauth.credentials = GoogleCredentials.get_application_default()\n",
        "drive = GoogleDrive(gauth)"
      ],
      "execution_count": 0,
      "outputs": []
    },
    {
      "metadata": {
        "id": "6FJlfk614hrw",
        "colab_type": "code",
        "colab": {}
      },
      "cell_type": "code",
      "source": [
        "# download google drive file\n",
        "def download_drive_file(drive_directory, filename):\n",
        "  list_file_query = \"title='{}' and trashed=false\".format(drive_directory)\n",
        "  file_list = drive.ListFile({'q': list_file_query}).GetList()\n",
        "\n",
        "  if len(file_list) > 0:\n",
        "    directory_id = file_list[0]['id']\n",
        "\n",
        "    list_file_query = \"'{}' in parents\".format(directory_id)\n",
        "\n",
        "    file_list = drive.ListFile({'q': list_file_query}).GetList()\n",
        "    \n",
        "    file_id = None\n",
        "    for file1 in file_list:\n",
        "      if file1['title'] == filename:\n",
        "        print(\"downloading file {}\".format(file1['title']))\n",
        "        file1.GetContentFile(file1['title'])"
      ],
      "execution_count": 0,
      "outputs": []
    },
    {
      "metadata": {
        "id": "WPzDX7qc6eQx",
        "colab_type": "code",
        "outputId": "b752ac1e-99db-494f-af2d-93bfa59ccb96",
        "colab": {
          "base_uri": "https://localhost:8080/",
          "height": 34
        }
      },
      "cell_type": "code",
      "source": [
        "download_drive_file(\"Datasets\", \"GoogleNews-vectors-negative300.bin.gz\")"
      ],
      "execution_count": 5,
      "outputs": [
        {
          "output_type": "stream",
          "text": [
            "downloading file GoogleNews-vectors-negative300.bin.gz\n"
          ],
          "name": "stdout"
        }
      ]
    },
    {
      "metadata": {
        "id": "xnY2L2-b6-ye",
        "colab_type": "code",
        "outputId": "f8db7869-cc22-4653-d36e-c86fe00517d6",
        "colab": {
          "base_uri": "https://localhost:8080/",
          "height": 51
        }
      },
      "cell_type": "code",
      "source": [
        "!ls"
      ],
      "execution_count": 6,
      "outputs": [
        {
          "output_type": "stream",
          "text": [
            "adc.json\t emoint_weights.h5\t\t\tsample_data\n",
            "emoint_model.h5  GoogleNews-vectors-negative300.bin.gz\n"
          ],
          "name": "stdout"
        }
      ]
    },
    {
      "metadata": {
        "id": "oBynQmEcrNAy",
        "colab_type": "code",
        "colab": {}
      },
      "cell_type": "code",
      "source": [
        "class EmoIntDataset(object):\n",
        "  BASE_URL = \"http://saifmohammad.com/WebDocs/\"\n",
        "  TRAIN_URI = \"EmoInt%20Train%20Data/{}-ratings-0to1.train.txt\"\n",
        "  TEST_URI = \"EmoInt%20Test%20Gold%20Data/{}-ratings-0to1.test.gold.txt\"\n",
        "  EMOTION_CLASSES = [\"anger\", \"fear\", \"joy\", \"sadness\"]\n",
        "  \n",
        "  THRESHOLD = 0.33\n",
        "  \n",
        "  def __load_data_per_class(self, url, threshold=0):\n",
        "    resource = urllib.request.urlopen(url)\n",
        "    np_array = np.asarray([line.split('\\t') for line in [line.strip() for line in resource.read().decode('utf-8').splitlines()]])\n",
        "    df = pd.DataFrame(np_array, columns=[\"id\", \"text\", \"emotion\", \"emotion_level\"])\n",
        "    df['emotion_level'] = df['emotion_level'].astype(float)\n",
        "    df = df.query('emotion_level>' + str(threshold))\n",
        "    return df[[\"text\", \"emotion\"]]\n",
        "  \n",
        "  def load_data(self, set_threshold=False):\n",
        "    train_data = None\n",
        "    test_data = None\n",
        "    \n",
        "    for emotion in self.EMOTION_CLASSES:\n",
        "      # load train dataset\n",
        "      train_df = self.__load_data_per_class(self.BASE_URL + self.TRAIN_URI.format(emotion), threshold=(self.THRESHOLD if set_threshold else 0))\n",
        "      \n",
        "      # load test dataset\n",
        "      test_df = self.__load_data_per_class(self.BASE_URL + self.TEST_URI.format(emotion), threshold=(self.THRESHOLD if set_threshold else 0))\n",
        "      \n",
        "      train_data = (train_df if train_data is None else train_data.append(train_df))\n",
        "      test_data = (test_df if test_data is None else test_data.append(test_df))\n",
        "      \n",
        "    return train_data, test_data"
      ],
      "execution_count": 0,
      "outputs": []
    },
    {
      "metadata": {
        "id": "tevwfq4Tu6fe",
        "colab_type": "code",
        "outputId": "fe428440-b096-4a6a-b5a7-6896f486971f",
        "colab": {
          "base_uri": "https://localhost:8080/",
          "height": 68
        }
      },
      "cell_type": "code",
      "source": [
        "emo_int_dataset = EmoIntDataset()\n",
        "train_data, test_data = emo_int_dataset.load_data(set_threshold=True)\n",
        "\n",
        "val_data=train_data.sample(frac=0.1,random_state=200)\n",
        "train_data=train_data.drop(val_data.index)\n",
        "\n",
        "print(train_data.shape)\n",
        "print(val_data.shape)\n",
        "print(test_data.shape)"
      ],
      "execution_count": 8,
      "outputs": [
        {
          "output_type": "stream",
          "text": [
            "(2023, 2)\n",
            "(290, 2)\n",
            "(2508, 2)\n"
          ],
          "name": "stdout"
        }
      ]
    },
    {
      "metadata": {
        "id": "J-xXkD_4175U",
        "colab_type": "code",
        "outputId": "9b0968f7-c880-45b2-e2bd-9f35bfa4218a",
        "colab": {
          "base_uri": "https://localhost:8080/",
          "height": 51
        }
      },
      "cell_type": "code",
      "source": [
        "emotions = train_data.emotion.unique()\n",
        "dic = dict()\n",
        "labels = []\n",
        "for i, emotion in enumerate(emotions):\n",
        "    dic[emotion]=i\n",
        "    labels.append(emotion)\n",
        "print(dic)\n",
        "print(labels)"
      ],
      "execution_count": 9,
      "outputs": [
        {
          "output_type": "stream",
          "text": [
            "{'anger': 0, 'fear': 1, 'joy': 2, 'sadness': 3}\n",
            "['anger', 'fear', 'joy', 'sadness']\n"
          ],
          "name": "stdout"
        }
      ]
    },
    {
      "metadata": {
        "id": "yhA_GXLyw1gx",
        "colab_type": "code",
        "outputId": "655644ce-940a-4204-f4f0-62f4b2c07e30",
        "colab": {
          "base_uri": "https://localhost:8080/",
          "height": 34
        }
      },
      "cell_type": "code",
      "source": [
        "NUM_WORDS=20000\n",
        "texts = train_data.text\n",
        "tokenizer = Tokenizer(num_words=NUM_WORDS,filters='!\"#$%&()*+,-./:;<=>?@[\\\\]^_`{|}~\\t\\n\\'',\n",
        "                      lower=True)\n",
        "tokenizer.fit_on_texts(texts)\n",
        "sequences_train = tokenizer.texts_to_sequences(texts)\n",
        "sequences_valid = tokenizer.texts_to_sequences(val_data.text)\n",
        "sequences_test = tokenizer.texts_to_sequences(test_data.text)\n",
        "word_index = tokenizer.word_index\n",
        "print('Found %s unique tokens.' % len(word_index))"
      ],
      "execution_count": 10,
      "outputs": [
        {
          "output_type": "stream",
          "text": [
            "Found 7484 unique tokens.\n"
          ],
          "name": "stdout"
        }
      ]
    },
    {
      "metadata": {
        "id": "f3a8LX2z0Vn3",
        "colab_type": "code",
        "outputId": "4aad513c-ff51-4d7d-ec7e-c4ebba5dde8f",
        "colab": {
          "base_uri": "https://localhost:8080/",
          "height": 51
        }
      },
      "cell_type": "code",
      "source": [
        "X_train = pad_sequences(sequences_train)\n",
        "X_val = pad_sequences(sequences_valid, maxlen=X_train.shape[1])\n",
        "X_test = pad_sequences(sequences_test, maxlen=X_train.shape[1])\n",
        "\n",
        "y_train = to_categorical(np.asarray(train_data.emotion.apply(lambda x:dic[x])))\n",
        "y_val = to_categorical(np.asarray(val_data.emotion.apply(lambda x:dic[x])))\n",
        "y_test = to_categorical(np.asarray(test_data.emotion.apply(lambda x:dic[x])))\n",
        "\n",
        "print('Shape of X train, validation and test tensor:', X_train.shape, X_val.shape, X_test.shape)\n",
        "print('Shape of label train, validation and test tensor:', y_train.shape, y_val.shape, y_test.shape)"
      ],
      "execution_count": 11,
      "outputs": [
        {
          "output_type": "stream",
          "text": [
            "Shape of X train, validation and test tensor: (2023, 33) (290, 33) (2508, 33)\n",
            "Shape of label train, validation and test tensor: (2023, 4) (290, 4) (2508, 4)\n"
          ],
          "name": "stdout"
        }
      ]
    },
    {
      "metadata": {
        "id": "naD_jPLlmlFq",
        "colab_type": "code",
        "colab": {}
      },
      "cell_type": "code",
      "source": [
        "import gensim\n",
        "from gensim.models import Word2Vec\n",
        "from gensim.utils import simple_preprocess\n",
        "\n",
        "from gensim.models.keyedvectors import KeyedVectors\n",
        "\n",
        "word_vectors = KeyedVectors.load_word2vec_format('GoogleNews-vectors-negative300.bin.gz', binary=True)\n",
        "\n",
        "EMBEDDING_DIM=300\n",
        "vocabulary_size = min(len(word_index)+1, NUM_WORDS)\n",
        "embedding_matrix = np.zeros((vocabulary_size, EMBEDDING_DIM))\n",
        "for word, i in word_index.items():\n",
        "    if i>=NUM_WORDS:\n",
        "        continue\n",
        "    try:\n",
        "        embedding_vector = word_vectors[word]\n",
        "        embedding_matrix[i] = embedding_vector\n",
        "    except KeyError:\n",
        "        embedding_matrix[i] = np.random.normal(0,np.sqrt(0.25), EMBEDDING_DIM)\n",
        "\n",
        "del(word_vectors)\n",
        "\n",
        "from keras.layers import Embedding\n",
        "embedding_layer = Embedding(vocabulary_size,\n",
        "                            EMBEDDING_DIM,\n",
        "                            weights=[embedding_matrix],\n",
        "                            trainable=True)"
      ],
      "execution_count": 0,
      "outputs": []
    },
    {
      "metadata": {
        "id": "Q0fX0z7_7Mi5",
        "colab_type": "code",
        "outputId": "4c2fc9d8-7a0c-4787-f595-7ff3fdd1d2a2",
        "colab": {
          "base_uri": "https://localhost:8080/",
          "height": 629
        }
      },
      "cell_type": "code",
      "source": [
        "from keras.layers import Dense, Input, GlobalMaxPooling1D\n",
        "from keras.layers import Conv1D, MaxPooling1D, Embedding\n",
        "from keras.models import Model\n",
        "from keras.layers import Input, Dense, Embedding, Conv2D, MaxPooling2D, Dropout, concatenate, LSTM\n",
        "from keras.layers.core import Reshape, Flatten\n",
        "from keras.callbacks import EarlyStopping\n",
        "from keras.optimizers import Adam, Adadelta, RMSprop\n",
        "from keras.models import Model\n",
        "from keras import regularizers\n",
        "sequence_length = X_train.shape[1]\n",
        "filter_sizes = [3,4,5]\n",
        "num_filters = 100\n",
        "drop_rate = 0.5\n",
        "\n",
        "print(sequence_length)\n",
        "\n",
        "inputs = Input(shape=(sequence_length,), name='input_1')\n",
        "embedding = embedding_layer(inputs)\n",
        "reshape = Reshape((sequence_length, EMBEDDING_DIM, 1), name='reshape_1')(embedding)\n",
        "\n",
        "conv_1 = Conv2D(num_filters, (filter_sizes[0], EMBEDDING_DIM), activation='relu',kernel_regularizer=regularizers.l2(0.01), name='conv_1')(reshape)\n",
        "conv_2 = Conv2D(num_filters, (filter_sizes[1], EMBEDDING_DIM), activation='relu',kernel_regularizer=regularizers.l2(0.01), name='conv_2')(reshape)\n",
        "conv_3 = Conv2D(num_filters, (filter_sizes[2], EMBEDDING_DIM), activation='relu',kernel_regularizer=regularizers.l2(0.01), name='conv_3')(reshape)\n",
        "\n",
        "maxpool_1 = MaxPooling2D((sequence_length - filter_sizes[0] + 1, 1), strides=1, name='maxpool_1')(conv_1)\n",
        "maxpool_2 = MaxPooling2D((sequence_length - filter_sizes[1] + 1, 1), strides=1, name='maxpool_2')(conv_2)\n",
        "maxpool_3 = MaxPooling2D((sequence_length - filter_sizes[2] + 1, 1), strides=1, name='maxpool_3')(conv_3)\n",
        "\n",
        "merged_tensor = concatenate([maxpool_1, maxpool_2, maxpool_3], axis=1, name='concatenate_1')\n",
        "flatten = Flatten()(merged_tensor)\n",
        "dropout = Dropout(drop_rate, name='dropout_1')(flatten)\n",
        "output = Dense(units=4, activation='softmax',kernel_regularizer=regularizers.l2(0.01), name='dense_1')(dropout)\n",
        "\n",
        "# this creates a model that includes\n",
        "model = Model(inputs, output)\n",
        "\n",
        "model.summary()"
      ],
      "execution_count": 13,
      "outputs": [
        {
          "output_type": "stream",
          "text": [
            "33\n",
            "__________________________________________________________________________________________________\n",
            "Layer (type)                    Output Shape         Param #     Connected to                     \n",
            "==================================================================================================\n",
            "input_1 (InputLayer)            (None, 33)           0                                            \n",
            "__________________________________________________________________________________________________\n",
            "embedding_1 (Embedding)         (None, 33, 300)      2245500     input_1[0][0]                    \n",
            "__________________________________________________________________________________________________\n",
            "reshape_1 (Reshape)             (None, 33, 300, 1)   0           embedding_1[0][0]                \n",
            "__________________________________________________________________________________________________\n",
            "conv_1 (Conv2D)                 (None, 31, 1, 100)   90100       reshape_1[0][0]                  \n",
            "__________________________________________________________________________________________________\n",
            "conv_2 (Conv2D)                 (None, 30, 1, 100)   120100      reshape_1[0][0]                  \n",
            "__________________________________________________________________________________________________\n",
            "conv_3 (Conv2D)                 (None, 29, 1, 100)   150100      reshape_1[0][0]                  \n",
            "__________________________________________________________________________________________________\n",
            "maxpool_1 (MaxPooling2D)        (None, 1, 1, 100)    0           conv_1[0][0]                     \n",
            "__________________________________________________________________________________________________\n",
            "maxpool_2 (MaxPooling2D)        (None, 1, 1, 100)    0           conv_2[0][0]                     \n",
            "__________________________________________________________________________________________________\n",
            "maxpool_3 (MaxPooling2D)        (None, 1, 1, 100)    0           conv_3[0][0]                     \n",
            "__________________________________________________________________________________________________\n",
            "concatenate_1 (Concatenate)     (None, 3, 1, 100)    0           maxpool_1[0][0]                  \n",
            "                                                                 maxpool_2[0][0]                  \n",
            "                                                                 maxpool_3[0][0]                  \n",
            "__________________________________________________________________________________________________\n",
            "flatten_1 (Flatten)             (None, 300)          0           concatenate_1[0][0]              \n",
            "__________________________________________________________________________________________________\n",
            "dropout_1 (Dropout)             (None, 300)          0           flatten_1[0][0]                  \n",
            "__________________________________________________________________________________________________\n",
            "dense_1 (Dense)                 (None, 4)            1204        dropout_1[0][0]                  \n",
            "==================================================================================================\n",
            "Total params: 2,607,004\n",
            "Trainable params: 2,607,004\n",
            "Non-trainable params: 0\n",
            "__________________________________________________________________________________________________\n"
          ],
          "name": "stdout"
        }
      ]
    },
    {
      "metadata": {
        "id": "HHZ1POD77GRp",
        "colab_type": "code",
        "outputId": "bae6f96f-4671-4f9d-d77d-1652d9a3e769",
        "colab": {
          "base_uri": "https://localhost:8080/",
          "height": 2516
        }
      },
      "cell_type": "code",
      "source": [
        "adam = Adam(lr=1e-3, decay=0.0)\n",
        "adadelta = Adadelta(lr=1.0, rho=0.95, epsilon=None, decay=0.0)\n",
        "rmsprop = RMSprop(lr=0.001, rho=0.9, epsilon=None, decay=0.0)\n",
        "\n",
        "model.compile(loss='categorical_crossentropy',\n",
        "              optimizer=rmsprop,\n",
        "              metrics=['acc'])\n",
        "callbacks = [EarlyStopping(monitor='val_loss', patience=5)]\n",
        "history = model.fit(X_train, y_train, batch_size=1000, epochs=100, verbose=1, validation_data=(X_val, y_val), callbacks=callbacks)  # starts training"
      ],
      "execution_count": 14,
      "outputs": [
        {
          "output_type": "stream",
          "text": [
            "Train on 2023 samples, validate on 290 samples\n",
            "Epoch 1/100\n",
            "2023/2023 [==============================] - 2s 1ms/step - loss: 1.6953 - acc: 0.2793 - val_loss: 1.6707 - val_acc: 0.3034\n",
            "Epoch 2/100\n",
            "2023/2023 [==============================] - 0s 141us/step - loss: 1.5758 - acc: 0.3925 - val_loss: 1.5107 - val_acc: 0.3897\n",
            "Epoch 3/100\n",
            "2023/2023 [==============================] - 0s 141us/step - loss: 1.4434 - acc: 0.4632 - val_loss: 1.5781 - val_acc: 0.3966\n",
            "Epoch 4/100\n",
            "2023/2023 [==============================] - 0s 140us/step - loss: 1.4387 - acc: 0.4973 - val_loss: 1.5136 - val_acc: 0.3724\n",
            "Epoch 5/100\n",
            "2023/2023 [==============================] - 0s 144us/step - loss: 1.3462 - acc: 0.5477 - val_loss: 1.3987 - val_acc: 0.5000\n",
            "Epoch 6/100\n",
            "2023/2023 [==============================] - 0s 144us/step - loss: 1.2679 - acc: 0.6223 - val_loss: 1.5461 - val_acc: 0.3828\n",
            "Epoch 7/100\n",
            "2023/2023 [==============================] - 0s 142us/step - loss: 1.2885 - acc: 0.6189 - val_loss: 1.3249 - val_acc: 0.6000\n",
            "Epoch 8/100\n",
            "2023/2023 [==============================] - 0s 145us/step - loss: 1.1585 - acc: 0.7202 - val_loss: 1.3254 - val_acc: 0.5483\n",
            "Epoch 9/100\n",
            "2023/2023 [==============================] - 0s 141us/step - loss: 1.1216 - acc: 0.7474 - val_loss: 1.2546 - val_acc: 0.6138\n",
            "Epoch 10/100\n",
            "2023/2023 [==============================] - 0s 143us/step - loss: 1.0829 - acc: 0.7509 - val_loss: 1.1893 - val_acc: 0.6552\n",
            "Epoch 11/100\n",
            "2023/2023 [==============================] - 0s 143us/step - loss: 1.0129 - acc: 0.8141 - val_loss: 1.1692 - val_acc: 0.6207\n",
            "Epoch 12/100\n",
            "2023/2023 [==============================] - 0s 145us/step - loss: 0.9759 - acc: 0.8057 - val_loss: 1.0999 - val_acc: 0.7966\n",
            "Epoch 13/100\n",
            "2023/2023 [==============================] - 0s 143us/step - loss: 0.8906 - acc: 0.8873 - val_loss: 1.0453 - val_acc: 0.7310\n",
            "Epoch 14/100\n",
            "2023/2023 [==============================] - 0s 142us/step - loss: 0.8581 - acc: 0.8883 - val_loss: 1.0183 - val_acc: 0.7552\n",
            "Epoch 15/100\n",
            "2023/2023 [==============================] - 0s 146us/step - loss: 0.8187 - acc: 0.9051 - val_loss: 1.0171 - val_acc: 0.7724\n",
            "Epoch 16/100\n",
            "2023/2023 [==============================] - 0s 142us/step - loss: 0.8009 - acc: 0.8833 - val_loss: 0.9673 - val_acc: 0.7517\n",
            "Epoch 17/100\n",
            "2023/2023 [==============================] - 0s 142us/step - loss: 0.7456 - acc: 0.9170 - val_loss: 0.9303 - val_acc: 0.8517\n",
            "Epoch 18/100\n",
            "2023/2023 [==============================] - 0s 141us/step - loss: 0.7039 - acc: 0.9432 - val_loss: 0.8933 - val_acc: 0.8621\n",
            "Epoch 19/100\n",
            "2023/2023 [==============================] - 0s 146us/step - loss: 0.6799 - acc: 0.9525 - val_loss: 0.8414 - val_acc: 0.8793\n",
            "Epoch 20/100\n",
            "2023/2023 [==============================] - 0s 143us/step - loss: 0.6355 - acc: 0.9614 - val_loss: 0.8346 - val_acc: 0.8655\n",
            "Epoch 21/100\n",
            "2023/2023 [==============================] - 0s 142us/step - loss: 0.6179 - acc: 0.9659 - val_loss: 0.8245 - val_acc: 0.8621\n",
            "Epoch 22/100\n",
            "2023/2023 [==============================] - 0s 144us/step - loss: 0.5991 - acc: 0.9639 - val_loss: 0.8122 - val_acc: 0.8414\n",
            "Epoch 23/100\n",
            "2023/2023 [==============================] - 0s 144us/step - loss: 0.5779 - acc: 0.9639 - val_loss: 0.7759 - val_acc: 0.8966\n",
            "Epoch 24/100\n",
            "2023/2023 [==============================] - 0s 145us/step - loss: 0.5645 - acc: 0.9689 - val_loss: 0.7720 - val_acc: 0.8690\n",
            "Epoch 25/100\n",
            "2023/2023 [==============================] - 0s 143us/step - loss: 0.5491 - acc: 0.9723 - val_loss: 0.7231 - val_acc: 0.9000\n",
            "Epoch 26/100\n",
            "2023/2023 [==============================] - 0s 145us/step - loss: 0.5225 - acc: 0.9807 - val_loss: 0.8014 - val_acc: 0.8241\n",
            "Epoch 27/100\n",
            "2023/2023 [==============================] - 0s 142us/step - loss: 0.5506 - acc: 0.9521 - val_loss: 0.6953 - val_acc: 0.9172\n",
            "Epoch 28/100\n",
            "2023/2023 [==============================] - 0s 146us/step - loss: 0.4889 - acc: 0.9792 - val_loss: 0.6907 - val_acc: 0.8966\n",
            "Epoch 29/100\n",
            "2023/2023 [==============================] - 0s 145us/step - loss: 0.4726 - acc: 0.9852 - val_loss: 0.6993 - val_acc: 0.8828\n",
            "Epoch 30/100\n",
            "2023/2023 [==============================] - 0s 143us/step - loss: 0.4670 - acc: 0.9832 - val_loss: 0.6714 - val_acc: 0.9034\n",
            "Epoch 31/100\n",
            "2023/2023 [==============================] - 0s 149us/step - loss: 0.4568 - acc: 0.9802 - val_loss: 0.6593 - val_acc: 0.9034\n",
            "Epoch 32/100\n",
            "2023/2023 [==============================] - 0s 143us/step - loss: 0.4402 - acc: 0.9817 - val_loss: 0.6431 - val_acc: 0.9000\n",
            "Epoch 33/100\n",
            "2023/2023 [==============================] - 0s 143us/step - loss: 0.4297 - acc: 0.9817 - val_loss: 0.6356 - val_acc: 0.8966\n",
            "Epoch 34/100\n",
            "2023/2023 [==============================] - 0s 142us/step - loss: 0.4186 - acc: 0.9822 - val_loss: 0.6558 - val_acc: 0.8793\n",
            "Epoch 35/100\n",
            "2023/2023 [==============================] - 0s 142us/step - loss: 0.4177 - acc: 0.9807 - val_loss: 0.6214 - val_acc: 0.8966\n",
            "Epoch 36/100\n",
            "2023/2023 [==============================] - 0s 145us/step - loss: 0.4003 - acc: 0.9847 - val_loss: 0.6021 - val_acc: 0.9172\n",
            "Epoch 37/100\n",
            "2023/2023 [==============================] - 0s 140us/step - loss: 0.3974 - acc: 0.9857 - val_loss: 0.6226 - val_acc: 0.8931\n",
            "Epoch 38/100\n",
            "2023/2023 [==============================] - 0s 141us/step - loss: 0.3929 - acc: 0.9817 - val_loss: 0.5994 - val_acc: 0.9034\n",
            "Epoch 39/100\n",
            "2023/2023 [==============================] - 0s 145us/step - loss: 0.3842 - acc: 0.9837 - val_loss: 0.6017 - val_acc: 0.9207\n",
            "Epoch 40/100\n",
            "2023/2023 [==============================] - 0s 145us/step - loss: 0.3787 - acc: 0.9857 - val_loss: 0.5740 - val_acc: 0.9138\n",
            "Epoch 41/100\n",
            "2023/2023 [==============================] - 0s 142us/step - loss: 0.3670 - acc: 0.9871 - val_loss: 0.5890 - val_acc: 0.8931\n",
            "Epoch 42/100\n",
            "2023/2023 [==============================] - 0s 142us/step - loss: 0.3654 - acc: 0.9857 - val_loss: 0.5672 - val_acc: 0.9034\n",
            "Epoch 43/100\n",
            "2023/2023 [==============================] - 0s 141us/step - loss: 0.3524 - acc: 0.9886 - val_loss: 0.6110 - val_acc: 0.8897\n",
            "Epoch 44/100\n",
            "2023/2023 [==============================] - 0s 142us/step - loss: 0.3756 - acc: 0.9792 - val_loss: 0.6031 - val_acc: 0.8897\n",
            "Epoch 45/100\n",
            "2023/2023 [==============================] - 0s 145us/step - loss: 0.3545 - acc: 0.9857 - val_loss: 0.5735 - val_acc: 0.8862\n",
            "Epoch 46/100\n",
            "2023/2023 [==============================] - 0s 143us/step - loss: 0.3422 - acc: 0.9871 - val_loss: 0.6012 - val_acc: 0.8931\n",
            "Epoch 47/100\n",
            "2023/2023 [==============================] - 0s 143us/step - loss: 0.3652 - acc: 0.9802 - val_loss: 0.5589 - val_acc: 0.9034\n",
            "Epoch 48/100\n",
            "2023/2023 [==============================] - 0s 140us/step - loss: 0.3385 - acc: 0.9857 - val_loss: 0.5336 - val_acc: 0.9034\n",
            "Epoch 49/100\n",
            "2023/2023 [==============================] - 0s 144us/step - loss: 0.3211 - acc: 0.9867 - val_loss: 0.5381 - val_acc: 0.9034\n",
            "Epoch 50/100\n",
            "2023/2023 [==============================] - 0s 141us/step - loss: 0.3220 - acc: 0.9896 - val_loss: 0.5474 - val_acc: 0.9034\n",
            "Epoch 51/100\n",
            "2023/2023 [==============================] - 0s 141us/step - loss: 0.3325 - acc: 0.9852 - val_loss: 0.5698 - val_acc: 0.8897\n",
            "Epoch 52/100\n",
            "2023/2023 [==============================] - 0s 143us/step - loss: 0.3207 - acc: 0.9876 - val_loss: 0.5277 - val_acc: 0.9138\n",
            "Epoch 53/100\n",
            "2023/2023 [==============================] - 0s 145us/step - loss: 0.3136 - acc: 0.9852 - val_loss: 0.5393 - val_acc: 0.9138\n",
            "Epoch 54/100\n",
            "2023/2023 [==============================] - 0s 143us/step - loss: 0.3121 - acc: 0.9847 - val_loss: 0.5140 - val_acc: 0.9138\n",
            "Epoch 55/100\n",
            "2023/2023 [==============================] - 0s 143us/step - loss: 0.3024 - acc: 0.9881 - val_loss: 0.5139 - val_acc: 0.9241\n",
            "Epoch 56/100\n",
            "2023/2023 [==============================] - 0s 142us/step - loss: 0.2984 - acc: 0.9871 - val_loss: 0.5049 - val_acc: 0.9103\n",
            "Epoch 57/100\n",
            "2023/2023 [==============================] - 0s 153us/step - loss: 0.2880 - acc: 0.9896 - val_loss: 0.4919 - val_acc: 0.9138\n",
            "Epoch 58/100\n",
            "2023/2023 [==============================] - 0s 146us/step - loss: 0.2825 - acc: 0.9886 - val_loss: 0.5010 - val_acc: 0.9103\n",
            "Epoch 59/100\n",
            "2023/2023 [==============================] - 0s 141us/step - loss: 0.2849 - acc: 0.9876 - val_loss: 0.4899 - val_acc: 0.9000\n",
            "Epoch 60/100\n",
            "2023/2023 [==============================] - 0s 144us/step - loss: 0.2753 - acc: 0.9886 - val_loss: 0.5138 - val_acc: 0.8966\n",
            "Epoch 61/100\n",
            "2023/2023 [==============================] - 0s 141us/step - loss: 0.2810 - acc: 0.9886 - val_loss: 0.4976 - val_acc: 0.8931\n",
            "Epoch 62/100\n",
            "2023/2023 [==============================] - 0s 141us/step - loss: 0.2820 - acc: 0.9886 - val_loss: 0.5089 - val_acc: 0.8966\n",
            "Epoch 63/100\n",
            "2023/2023 [==============================] - 0s 144us/step - loss: 0.2807 - acc: 0.9862 - val_loss: 0.4777 - val_acc: 0.9000\n",
            "Epoch 64/100\n",
            "2023/2023 [==============================] - 0s 147us/step - loss: 0.2688 - acc: 0.9871 - val_loss: 0.5300 - val_acc: 0.8759\n",
            "Epoch 65/100\n",
            "2023/2023 [==============================] - 0s 144us/step - loss: 0.2863 - acc: 0.9871 - val_loss: 0.5010 - val_acc: 0.9000\n",
            "Epoch 66/100\n",
            "2023/2023 [==============================] - 0s 142us/step - loss: 0.2793 - acc: 0.9881 - val_loss: 0.4769 - val_acc: 0.9069\n",
            "Epoch 67/100\n",
            "2023/2023 [==============================] - 0s 142us/step - loss: 0.2591 - acc: 0.9921 - val_loss: 0.4813 - val_acc: 0.8897\n",
            "Epoch 68/100\n",
            "2023/2023 [==============================] - 0s 141us/step - loss: 0.2587 - acc: 0.9867 - val_loss: 0.4617 - val_acc: 0.9034\n",
            "Epoch 69/100\n",
            "2023/2023 [==============================] - 0s 142us/step - loss: 0.2499 - acc: 0.9886 - val_loss: 0.4632 - val_acc: 0.9034\n",
            "Epoch 70/100\n",
            "2023/2023 [==============================] - 0s 144us/step - loss: 0.2484 - acc: 0.9881 - val_loss: 0.4648 - val_acc: 0.8966\n",
            "Epoch 71/100\n",
            "2023/2023 [==============================] - 0s 145us/step - loss: 0.2419 - acc: 0.9891 - val_loss: 0.4876 - val_acc: 0.9103\n",
            "Epoch 72/100\n",
            "2023/2023 [==============================] - 0s 144us/step - loss: 0.2676 - acc: 0.9886 - val_loss: 0.4752 - val_acc: 0.9103\n",
            "Epoch 73/100\n",
            "2023/2023 [==============================] - 0s 142us/step - loss: 0.2542 - acc: 0.9876 - val_loss: 0.4805 - val_acc: 0.9069\n"
          ],
          "name": "stdout"
        }
      ]
    },
    {
      "metadata": {
        "id": "OtGrA8RBKShg",
        "colab_type": "code",
        "colab": {}
      },
      "cell_type": "code",
      "source": [
        "model_path = 'emoint_model.h5'\n",
        "weight_path = 'emoint_weights.h5'\n",
        "\n",
        "model.save(model_path)\n",
        "model.save_weights(weight_path)"
      ],
      "execution_count": 0,
      "outputs": []
    },
    {
      "metadata": {
        "id": "eFzd1urtKeFw",
        "colab_type": "code",
        "outputId": "340d3401-070f-42f0-e75d-4cb7942a718e",
        "colab": {
          "base_uri": "https://localhost:8080/",
          "height": 170
        }
      },
      "cell_type": "code",
      "source": [
        "!ls -lah"
      ],
      "execution_count": 16,
      "outputs": [
        {
          "output_type": "stream",
          "text": [
            "total 1.6G\n",
            "drwxr-xr-x 1 root root 4.0K Oct 19 09:12 .\n",
            "drwxr-xr-x 1 root root 4.0K Oct 19 08:37 ..\n",
            "-rw-r--r-- 1 root root 2.5K Oct 19 08:42 adc.json\n",
            "drwxr-xr-x 1 root root 4.0K Oct 19 08:42 .config\n",
            "-rw-r--r-- 1 root root  20M Oct 19 09:29 emoint_model.h5\n",
            "-rw-r--r-- 1 root root  10M Oct 19 09:29 emoint_weights.h5\n",
            "-rw-r--r-- 1 root root 1.6G Oct 19 09:25 GoogleNews-vectors-negative300.bin.gz\n",
            "drwxr-xr-x 2 root root 4.0K Oct 17 17:44 sample_data\n"
          ],
          "name": "stdout"
        }
      ]
    },
    {
      "metadata": {
        "id": "85MiexxMK8zd",
        "colab_type": "code",
        "colab": {}
      },
      "cell_type": "code",
      "source": [
        "model_file = drive.CreateFile({'title': model_path})\n",
        "model_file.SetContentFile(model_path)\n",
        "model_file.Upload()\n",
        "\n",
        "weight_file = drive.CreateFile({'title': weight_path})\n",
        "weight_file.SetContentFile(weight_path)\n",
        "weight_file.Upload()"
      ],
      "execution_count": 0,
      "outputs": []
    },
    {
      "metadata": {
        "id": "b0P0vTv-7RC6",
        "colab_type": "code",
        "colab": {}
      },
      "cell_type": "code",
      "source": [
        "sequences_test=tokenizer.texts_to_sequences(test_data.text)\n",
        "X_test = pad_sequences(sequences_test, maxlen=X_test.shape[1])\n",
        "y_pred = model.predict(X_test)"
      ],
      "execution_count": 0,
      "outputs": []
    },
    {
      "metadata": {
        "id": "IgHlDfC_-rS5",
        "colab_type": "code",
        "outputId": "968abcd5-8f4d-46e5-db73-38b6883be8c8",
        "colab": {
          "base_uri": "https://localhost:8080/",
          "height": 34
        }
      },
      "cell_type": "code",
      "source": [
        "history.history.keys()"
      ],
      "execution_count": 19,
      "outputs": [
        {
          "output_type": "execute_result",
          "data": {
            "text/plain": [
              "dict_keys(['val_loss', 'val_acc', 'loss', 'acc'])"
            ]
          },
          "metadata": {
            "tags": []
          },
          "execution_count": 19
        }
      ]
    },
    {
      "metadata": {
        "id": "-JaFoS4u_pwS",
        "colab_type": "code",
        "colab": {}
      },
      "cell_type": "code",
      "source": [
        "y_pred_original = [labels[val] for val in np.argmax(y_pred, axis=1).squeeze()]\n",
        "y_test_original = np.asarray(test_data.emotion)"
      ],
      "execution_count": 0,
      "outputs": []
    },
    {
      "metadata": {
        "id": "BREyqdCAI9d0",
        "colab_type": "code",
        "colab": {}
      },
      "cell_type": "code",
      "source": [
        "def print_confusion_matrix(confusion_matrix, class_names, figsize = (4,3), fontsize=15):\n",
        "    \"\"\"Prints a confusion matrix, as returned by sklearn.metrics.confusion_matrix, as a heatmap.\n",
        "    \n",
        "    Arguments\n",
        "    ---------\n",
        "    confusion_matrix: numpy.ndarray\n",
        "        The numpy.ndarray object returned from a call to sklearn.metrics.confusion_matrix. \n",
        "        Similarly constructed ndarrays can also be used.\n",
        "    class_names: list\n",
        "        An ordered list of class names, in the order they index the given confusion matrix.\n",
        "    figsize: tuple\n",
        "        A 2-long tuple, the first value determining the horizontal size of the ouputted figure,\n",
        "        the second determining the vertical size. Defaults to (10,7).\n",
        "    fontsize: int\n",
        "        Font size for axes labels. Defaults to 14.\n",
        "        \n",
        "    Returns\n",
        "    -------\n",
        "    matplotlib.figure.Figure\n",
        "        The resulting confusion matrix figure\n",
        "    \"\"\"\n",
        "    df_cm = pd.DataFrame(\n",
        "        confusion_matrix, index=class_names, columns=class_names, \n",
        "    )\n",
        "    fig = plt.figure(figsize=figsize)\n",
        "    try:\n",
        "        heatmap = sns.heatmap(df_cm, annot=True, fmt=\"d\")\n",
        "    except ValueError:\n",
        "        raise ValueError(\"Confusion matrix values must be integers.\")\n",
        "    heatmap.yaxis.set_ticklabels(heatmap.yaxis.get_ticklabels(), rotation=0, ha='right', fontsize=fontsize)\n",
        "    heatmap.xaxis.set_ticklabels(heatmap.xaxis.get_ticklabels(), rotation=45, ha='right', fontsize=fontsize)\n",
        "    plt.ylabel('True label')\n",
        "    plt.xlabel('Predicted label')\n",
        "    return fig"
      ],
      "execution_count": 0,
      "outputs": []
    },
    {
      "metadata": {
        "id": "XG9HPQb10TZm",
        "colab_type": "code",
        "outputId": "4c201835-e74a-41d9-b737-a9ac50ac165c",
        "colab": {
          "base_uri": "https://localhost:8080/",
          "height": 173
        }
      },
      "cell_type": "code",
      "source": [
        "cf_matrix = confusion_matrix(y_test_original, y_pred_original, labels=labels)\n",
        "\n",
        "df_cm = pd.DataFrame(\n",
        "    cf_matrix, index=labels, columns=labels, \n",
        ")\n",
        "\n",
        "df_cm"
      ],
      "execution_count": 22,
      "outputs": [
        {
          "output_type": "execute_result",
          "data": {
            "text/html": [
              "<div>\n",
              "<style scoped>\n",
              "    .dataframe tbody tr th:only-of-type {\n",
              "        vertical-align: middle;\n",
              "    }\n",
              "\n",
              "    .dataframe tbody tr th {\n",
              "        vertical-align: top;\n",
              "    }\n",
              "\n",
              "    .dataframe thead th {\n",
              "        text-align: right;\n",
              "    }\n",
              "</style>\n",
              "<table border=\"1\" class=\"dataframe\">\n",
              "  <thead>\n",
              "    <tr style=\"text-align: right;\">\n",
              "      <th></th>\n",
              "      <th>anger</th>\n",
              "      <th>fear</th>\n",
              "      <th>joy</th>\n",
              "      <th>sadness</th>\n",
              "    </tr>\n",
              "  </thead>\n",
              "  <tbody>\n",
              "    <tr>\n",
              "      <th>anger</th>\n",
              "      <td>524</td>\n",
              "      <td>40</td>\n",
              "      <td>13</td>\n",
              "      <td>66</td>\n",
              "    </tr>\n",
              "    <tr>\n",
              "      <th>fear</th>\n",
              "      <td>33</td>\n",
              "      <td>632</td>\n",
              "      <td>17</td>\n",
              "      <td>107</td>\n",
              "    </tr>\n",
              "    <tr>\n",
              "      <th>joy</th>\n",
              "      <td>5</td>\n",
              "      <td>20</td>\n",
              "      <td>491</td>\n",
              "      <td>27</td>\n",
              "    </tr>\n",
              "    <tr>\n",
              "      <th>sadness</th>\n",
              "      <td>18</td>\n",
              "      <td>42</td>\n",
              "      <td>8</td>\n",
              "      <td>465</td>\n",
              "    </tr>\n",
              "  </tbody>\n",
              "</table>\n",
              "</div>"
            ],
            "text/plain": [
              "         anger  fear  joy  sadness\n",
              "anger      524    40   13       66\n",
              "fear        33   632   17      107\n",
              "joy          5    20  491       27\n",
              "sadness     18    42    8      465"
            ]
          },
          "metadata": {
            "tags": []
          },
          "execution_count": 22
        }
      ]
    },
    {
      "metadata": {
        "id": "59xnXmbEAKXy",
        "colab_type": "code",
        "outputId": "8c8bdbca-ad80-46be-c1ad-12a1528f4103",
        "colab": {
          "base_uri": "https://localhost:8080/",
          "height": 281
        }
      },
      "cell_type": "code",
      "source": [
        "print(print_confusion_matrix(cf_matrix, class_names=labels))"
      ],
      "execution_count": 23,
      "outputs": [
        {
          "output_type": "stream",
          "text": [
            "Figure(288x216)\n"
          ],
          "name": "stdout"
        },
        {
          "output_type": "display_data",
          "data": {
            "image/png": "[encoded data removed]",
            "text/plain": [
              "<matplotlib.figure.Figure at 0x7fad9eb280f0>"
            ]
          },
          "metadata": {
            "tags": []
          }
        }
      ]
    },
    {
      "metadata": {
        "id": "9XE5c4LJEZXy",
        "colab_type": "code",
        "outputId": "d6801258-9893-40d5-87ed-74bc05906547",
        "colab": {
          "base_uri": "https://localhost:8080/",
          "height": 34
        }
      },
      "cell_type": "code",
      "source": [
        "test_accuracy = accuracy_score(y_test_original, y_pred_original)\n",
        "print(\"test accuracy:\", test_accuracy)"
      ],
      "execution_count": 24,
      "outputs": [
        {
          "output_type": "stream",
          "text": [
            "test accuracy: 0.8421052631578947\n"
          ],
          "name": "stdout"
        }
      ]
    },
    {
      "metadata": {
        "id": "jAISNDCVwvR7",
        "colab_type": "text"
      },
      "cell_type": "markdown",
      "source": [
        "### Performance score for each classes"
      ]
    },
    {
      "metadata": {
        "id": "iFb9Q6A1DcXi",
        "colab_type": "code",
        "outputId": "7bd5056d-646d-45d2-8e76-89d8709ebb4e",
        "colab": {
          "base_uri": "https://localhost:8080/",
          "height": 173
        }
      },
      "cell_type": "code",
      "source": [
        "precision, recall, fscore, support = precision_recall_fscore_support(y_test_original, y_pred_original)\n",
        "score_dict = {\n",
        "  \"precision\": precision.round(4),\n",
        "  \"recall\": recall.round(4),\n",
        "  \"f1-score\": fscore.round(4),\n",
        "  \"support\": support.round(4)\n",
        "}\n",
        "score_df = pd.DataFrame(score_dict, index=labels)\n",
        "score_df"
      ],
      "execution_count": 25,
      "outputs": [
        {
          "output_type": "execute_result",
          "data": {
            "text/html": [
              "<div>\n",
              "<style scoped>\n",
              "    .dataframe tbody tr th:only-of-type {\n",
              "        vertical-align: middle;\n",
              "    }\n",
              "\n",
              "    .dataframe tbody tr th {\n",
              "        vertical-align: top;\n",
              "    }\n",
              "\n",
              "    .dataframe thead th {\n",
              "        text-align: right;\n",
              "    }\n",
              "</style>\n",
              "<table border=\"1\" class=\"dataframe\">\n",
              "  <thead>\n",
              "    <tr style=\"text-align: right;\">\n",
              "      <th></th>\n",
              "      <th>f1-score</th>\n",
              "      <th>precision</th>\n",
              "      <th>recall</th>\n",
              "      <th>support</th>\n",
              "    </tr>\n",
              "  </thead>\n",
              "  <tbody>\n",
              "    <tr>\n",
              "      <th>anger</th>\n",
              "      <td>0.8569</td>\n",
              "      <td>0.9034</td>\n",
              "      <td>0.8149</td>\n",
              "      <td>643</td>\n",
              "    </tr>\n",
              "    <tr>\n",
              "      <th>fear</th>\n",
              "      <td>0.8299</td>\n",
              "      <td>0.8610</td>\n",
              "      <td>0.8010</td>\n",
              "      <td>789</td>\n",
              "    </tr>\n",
              "    <tr>\n",
              "      <th>joy</th>\n",
              "      <td>0.9160</td>\n",
              "      <td>0.9282</td>\n",
              "      <td>0.9042</td>\n",
              "      <td>543</td>\n",
              "    </tr>\n",
              "    <tr>\n",
              "      <th>sadness</th>\n",
              "      <td>0.7763</td>\n",
              "      <td>0.6992</td>\n",
              "      <td>0.8724</td>\n",
              "      <td>533</td>\n",
              "    </tr>\n",
              "  </tbody>\n",
              "</table>\n",
              "</div>"
            ],
            "text/plain": [
              "         f1-score  precision  recall  support\n",
              "anger      0.8569     0.9034  0.8149      643\n",
              "fear       0.8299     0.8610  0.8010      789\n",
              "joy        0.9160     0.9282  0.9042      543\n",
              "sadness    0.7763     0.6992  0.8724      533"
            ]
          },
          "metadata": {
            "tags": []
          },
          "execution_count": 25
        }
      ]
    },
    {
      "metadata": {
        "id": "cHi1Gw7Oz1zG",
        "colab_type": "text"
      },
      "cell_type": "markdown",
      "source": [
        "### Performance score using micro average"
      ]
    },
    {
      "metadata": {
        "id": "KP69PDE9D_jz",
        "colab_type": "code",
        "outputId": "afc12b4c-3db1-4741-8f56-83e1c547cb43",
        "colab": {
          "base_uri": "https://localhost:8080/",
          "height": 80
        }
      },
      "cell_type": "code",
      "source": [
        "precision, recall, fscore, support = precision_recall_fscore_support(y_test_original, y_pred_original, average=\"micro\")\n",
        "score_dict = {\n",
        "  \"precision\": precision.round(4),\n",
        "  \"recall\": recall.round(4),\n",
        "  \"f1-score\": fscore.round(4),\n",
        "  \"support\": support\n",
        "}\n",
        "score_df = pd.DataFrame(score_dict, index=[\"score\"])\n",
        "score_df"
      ],
      "execution_count": 26,
      "outputs": [
        {
          "output_type": "execute_result",
          "data": {
            "text/html": [
              "<div>\n",
              "<style scoped>\n",
              "    .dataframe tbody tr th:only-of-type {\n",
              "        vertical-align: middle;\n",
              "    }\n",
              "\n",
              "    .dataframe tbody tr th {\n",
              "        vertical-align: top;\n",
              "    }\n",
              "\n",
              "    .dataframe thead th {\n",
              "        text-align: right;\n",
              "    }\n",
              "</style>\n",
              "<table border=\"1\" class=\"dataframe\">\n",
              "  <thead>\n",
              "    <tr style=\"text-align: right;\">\n",
              "      <th></th>\n",
              "      <th>f1-score</th>\n",
              "      <th>precision</th>\n",
              "      <th>recall</th>\n",
              "      <th>support</th>\n",
              "    </tr>\n",
              "  </thead>\n",
              "  <tbody>\n",
              "    <tr>\n",
              "      <th>score</th>\n",
              "      <td>0.8421</td>\n",
              "      <td>0.8421</td>\n",
              "      <td>0.8421</td>\n",
              "      <td>None</td>\n",
              "    </tr>\n",
              "  </tbody>\n",
              "</table>\n",
              "</div>"
            ],
            "text/plain": [
              "       f1-score  precision  recall support\n",
              "score    0.8421     0.8421  0.8421    None"
            ]
          },
          "metadata": {
            "tags": []
          },
          "execution_count": 26
        }
      ]
    },
    {
      "metadata": {
        "id": "IWXNCktiz8Vb",
        "colab_type": "text"
      },
      "cell_type": "markdown",
      "source": [
        "### Performance score using macro average"
      ]
    },
    {
      "metadata": {
        "id": "g4e0vsNIydDs",
        "colab_type": "code",
        "outputId": "1e8b2a02-8fea-4f1d-9a2c-ff80bbb8e5a6",
        "colab": {
          "base_uri": "https://localhost:8080/",
          "height": 80
        }
      },
      "cell_type": "code",
      "source": [
        "precision, recall, fscore, support = precision_recall_fscore_support(y_test_original, y_pred_original, average=\"macro\")\n",
        "score_dict = {\n",
        "  \"precision\": precision.round(4),\n",
        "  \"recall\": recall.round(4),\n",
        "  \"f1-score\": fscore.round(4),\n",
        "  \"support\": support\n",
        "}\n",
        "score_df = pd.DataFrame(score_dict, index=[\"score\"])\n",
        "score_df"
      ],
      "execution_count": 27,
      "outputs": [
        {
          "output_type": "execute_result",
          "data": {
            "text/html": [
              "<div>\n",
              "<style scoped>\n",
              "    .dataframe tbody tr th:only-of-type {\n",
              "        vertical-align: middle;\n",
              "    }\n",
              "\n",
              "    .dataframe tbody tr th {\n",
              "        vertical-align: top;\n",
              "    }\n",
              "\n",
              "    .dataframe thead th {\n",
              "        text-align: right;\n",
              "    }\n",
              "</style>\n",
              "<table border=\"1\" class=\"dataframe\">\n",
              "  <thead>\n",
              "    <tr style=\"text-align: right;\">\n",
              "      <th></th>\n",
              "      <th>f1-score</th>\n",
              "      <th>precision</th>\n",
              "      <th>recall</th>\n",
              "      <th>support</th>\n",
              "    </tr>\n",
              "  </thead>\n",
              "  <tbody>\n",
              "    <tr>\n",
              "      <th>score</th>\n",
              "      <td>0.8448</td>\n",
              "      <td>0.848</td>\n",
              "      <td>0.8481</td>\n",
              "      <td>None</td>\n",
              "    </tr>\n",
              "  </tbody>\n",
              "</table>\n",
              "</div>"
            ],
            "text/plain": [
              "       f1-score  precision  recall support\n",
              "score    0.8448      0.848  0.8481    None"
            ]
          },
          "metadata": {
            "tags": []
          },
          "execution_count": 27
        }
      ]
    },
    {
      "metadata": {
        "id": "wFJFH7u6z-oG",
        "colab_type": "text"
      },
      "cell_type": "markdown",
      "source": [
        "### Performance score using weighted average"
      ]
    },
    {
      "metadata": {
        "id": "z99JkHjuzv68",
        "colab_type": "code",
        "outputId": "e05611d7-005f-4bce-8389-f25047072dc7",
        "colab": {
          "base_uri": "https://localhost:8080/",
          "height": 80
        }
      },
      "cell_type": "code",
      "source": [
        "precision, recall, fscore, support = precision_recall_fscore_support(y_test_original, y_pred_original, average=\"weighted\")\n",
        "score_dict = {\n",
        "  \"precision\": precision.round(4),\n",
        "  \"recall\": recall.round(4),\n",
        "  \"f1-score\": fscore.round(4),\n",
        "  \"support\": support\n",
        "}\n",
        "score_df = pd.DataFrame(score_dict, index=[\"score\"])\n",
        "score_df"
      ],
      "execution_count": 28,
      "outputs": [
        {
          "output_type": "execute_result",
          "data": {
            "text/html": [
              "<div>\n",
              "<style scoped>\n",
              "    .dataframe tbody tr th:only-of-type {\n",
              "        vertical-align: middle;\n",
              "    }\n",
              "\n",
              "    .dataframe tbody tr th {\n",
              "        vertical-align: top;\n",
              "    }\n",
              "\n",
              "    .dataframe thead th {\n",
              "        text-align: right;\n",
              "    }\n",
              "</style>\n",
              "<table border=\"1\" class=\"dataframe\">\n",
              "  <thead>\n",
              "    <tr style=\"text-align: right;\">\n",
              "      <th></th>\n",
              "      <th>f1-score</th>\n",
              "      <th>precision</th>\n",
              "      <th>recall</th>\n",
              "      <th>support</th>\n",
              "    </tr>\n",
              "  </thead>\n",
              "  <tbody>\n",
              "    <tr>\n",
              "      <th>score</th>\n",
              "      <td>0.8441</td>\n",
              "      <td>0.8521</td>\n",
              "      <td>0.8421</td>\n",
              "      <td>None</td>\n",
              "    </tr>\n",
              "  </tbody>\n",
              "</table>\n",
              "</div>"
            ],
            "text/plain": [
              "       f1-score  precision  recall support\n",
              "score    0.8441     0.8521  0.8421    None"
            ]
          },
          "metadata": {
            "tags": []
          },
          "execution_count": 28
        }
      ]
    },
    {
      "metadata": {
        "id": "Y83dx5SyoBR8",
        "colab_type": "code",
        "colab": {}
      },
      "cell_type": "code",
      "source": [
        ""
      ],
      "execution_count": 0,
      "outputs": []
    }
  ]
}