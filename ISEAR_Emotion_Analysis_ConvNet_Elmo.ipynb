{
 "cells": [
  {
   "cell_type": "code",
   "execution_count": 1,
   "metadata": {},
   "outputs": [
    {
     "name": "stderr",
     "output_type": "stream",
     "text": [
      "matplotlib.backends - DEBUG - backend module://ipykernel.pylab.backend_inline version unknown\n"
     ]
    }
   ],
   "source": [
    "import os\n",
    "\n",
    "import logging\n",
    "import pandas as pd\n",
    "import numpy as np\n",
    "import matplotlib.pyplot as plt\n",
    "from sklearn.model_selection import train_test_split\n",
    "\n",
    "import torch\n",
    "import torch.nn as nn\n",
    "import torch.nn.functional as F\n",
    "import torch.optim as optim\n",
    "\n",
    "\n",
    "torch.manual_seed(1)\n",
    "logging.basicConfig(level=logging.DEBUG, format='%(name)s - %(levelname)s - %(message)s')\n",
    "\n",
    "os.environ[\"CUDA_DEVICE_ORDER\"]=\"PCI_BUS_ID\"\n",
    "# The GPU id to use, usually either \"0\" or \"1\"\n",
    "os.environ[\"CUDA_VISIBLE_DEVICES\"]=\"1\"\n",
    "os.environ[\"TFHUB_CACHE_DIR\"]=\"tfhub_modules\""
   ]
  },
  {
   "cell_type": "code",
   "execution_count": 2,
   "metadata": {},
   "outputs": [],
   "source": [
    "class ISEARDataset(object):\n",
    "  FILENAME = \"data/isear_databank.csv\"\n",
    "  EMOTION_CLASSES = [\"anger\", \"disgust\", \"fear\", \"guilt\", \"joy\", \"sadness\", \"shame\"]\n",
    "  EMOTION_CLASSES_DICT = {\"anger\": 0, \"disgust\": 1, \"fear\": 2, \"guilt\": 3, \"joy\": 4, \"sadness\": 5, \"shame\": 6}\n",
    "  RANDOM_STATE = 41\n",
    "  \n",
    "  def get_classes(self):\n",
    "    return self.EMOTION_CLASSES\n",
    "  \n",
    "  def get_classes_dict(self):\n",
    "    return self.EMOTION_CLASSES_DICT\n",
    "  \n",
    "  def __load_data_file(self):\n",
    "    data = pd.read_csv(self.FILENAME)\n",
    "    data[\"emotion\"] = data[\"Field1\"]\n",
    "    data[\"text\"] = data[\"SIT\"]\n",
    "    return data[[\"text\", \"emotion\"]]\n",
    "\n",
    "  def load_data(self):\n",
    "    train_data = None\n",
    "    test_data = None\n",
    "    \n",
    "    data = self.__load_data_file()\n",
    "    \n",
    "    train_data, test_data = train_test_split(data, test_size=0.3, random_state=self.RANDOM_STATE, stratify=data[\"emotion\"].values)\n",
    "    return train_data, test_data"
   ]
  },
  {
   "cell_type": "code",
   "execution_count": 3,
   "metadata": {},
   "outputs": [
    {
     "name": "stderr",
     "output_type": "stream",
     "text": [
      "root - DEBUG - train_data.shape: (4829, 2)\n",
      "root - DEBUG - valid_data.shape: (537, 2)\n",
      "root - DEBUG - test_data.shape: (2300, 2)\n"
     ]
    }
   ],
   "source": [
    "isear_dataset = ISEARDataset()\n",
    "train_data, test_data = isear_dataset.load_data()\n",
    "train_data, valid_data = train_test_split(train_data, test_size=0.1, random_state=200, stratify=train_data.emotion)\n",
    "\n",
    "logging.debug(\"train_data.shape: (%d, %d)\" % train_data.shape)\n",
    "logging.debug(\"valid_data.shape: (%d, %d)\" % valid_data.shape)\n",
    "logging.debug(\"test_data.shape: (%d, %d)\" % test_data.shape)"
   ]
  },
  {
   "cell_type": "code",
   "execution_count": 4,
   "metadata": {},
   "outputs": [
    {
     "name": "stderr",
     "output_type": "stream",
     "text": [
      "root - DEBUG - class dictionary: {'anger': 0, 'disgust': 1, 'fear': 2, 'guilt': 3, 'joy': 4, 'sadness': 5, 'shame': 6}\n",
      "root - DEBUG - class labels: ['anger', 'disgust', 'fear', 'guilt', 'joy', 'sadness', 'shame']\n",
      "root - DEBUG - number of bins: 7\n",
      "matplotlib.font_manager - DEBUG - findfont: Matching :family=sans-serif:style=normal:variant=normal:weight=normal:stretch=normal:size=10.0 to DejaVu Sans ('/home/david/anaconda3/envs/tf36/lib/python3.6/site-packages/matplotlib/mpl-data/fonts/ttf/DejaVuSans.ttf') with score of 0.050000\n",
      "matplotlib.font_manager - DEBUG - findfont: Matching :family=sans-serif:style=normal:variant=normal:weight=normal:stretch=normal:size=12.0 to DejaVu Sans ('/home/david/anaconda3/envs/tf36/lib/python3.6/site-packages/matplotlib/mpl-data/fonts/ttf/DejaVuSans.ttf') with score of 0.050000\n"
     ]
    },
    {
     "name": "stdout",
     "output_type": "stream",
     "text": [
      "bins: [0, 1, 2, 3, 4, 5, 6, 7]\n"
     ]
    },
    {
     "data": {
      "image/png": "[encoded data removed]",
      "text/plain": [
       "<Figure size 432x288 with 1 Axes>"
      ]
     },
     "metadata": {
      "needs_background": "light"
     },
     "output_type": "display_data"
    }
   ],
   "source": [
    "dic = isear_dataset.get_classes_dict()\n",
    "labels = isear_dataset.get_classes()\n",
    "n_classes = len(labels)\n",
    "logging.debug(\"class dictionary: %s\" % dic)\n",
    "logging.debug(\"class labels: %s\" % labels)\n",
    "logging.debug(\"number of bins: %s\" % n_classes)\n",
    "\n",
    "for emotion in labels:\n",
    "  train_data.loc[train_data.emotion == emotion, \"emotion_int\"] = dic[emotion]\n",
    "  valid_data.loc[valid_data.emotion == emotion, \"emotion_int\"] = dic[emotion]\n",
    "  test_data.loc[test_data.emotion == emotion, \"emotion_int\"] = dic[emotion]\n",
    "\n",
    "bins = list(range(0, n_classes + 1))\n",
    "print(\"bins:\", bins)\n",
    "hist, _ = np.histogram(train_data[\"emotion_int\"], bins=bins)\n",
    "\n",
    "y_pos = np.arange(len(labels))\n",
    "\n",
    "plt.bar(y_pos, hist, align='center', alpha=0.5)\n",
    "plt.xticks(y_pos, labels)\n",
    "plt.ylabel('Number')\n",
    "plt.title('Emotions')\n",
    " \n",
    "plt.show()"
   ]
  },
  {
   "cell_type": "code",
   "execution_count": 7,
   "metadata": {},
   "outputs": [
    {
     "name": "stderr",
     "output_type": "stream",
     "text": [
      "allennlp.modules.seq2seq_encoders - DEBUG - allennlp could not register 'alternating_highway_lstm_cuda' - installation needs to be completed manually if you have pip-installed the package. Run ``bash make.sh`` in the 'custom_extensions' module on a machine with a GPU.\n",
      "allennlp.modules.elmo - INFO - Initializing ELMo\n",
      "urllib3.connectionpool - DEBUG - Starting new HTTPS connection (1): s3-us-west-2.amazonaws.com:443\n",
      "urllib3.connectionpool - DEBUG - https://s3-us-west-2.amazonaws.com:443 \"HEAD /allennlp/models/elmo/2x1024_128_2048cnn_1xhighway/elmo_2x1024_128_2048cnn_1xhighway_options.json HTTP/1.1\" 200 0\n",
      "urllib3.connectionpool - DEBUG - Starting new HTTPS connection (1): s3-us-west-2.amazonaws.com:443\n",
      "urllib3.connectionpool - DEBUG - https://s3-us-west-2.amazonaws.com:443 \"HEAD /allennlp/models/elmo/2x1024_128_2048cnn_1xhighway/elmo_2x1024_128_2048cnn_1xhighway_weights.hdf5 HTTP/1.1\" 200 0\n",
      "urllib3.connectionpool - DEBUG - Starting new HTTPS connection (1): s3-us-west-2.amazonaws.com:443\n",
      "urllib3.connectionpool - DEBUG - https://s3-us-west-2.amazonaws.com:443 \"HEAD /allennlp/models/elmo/2x1024_128_2048cnn_1xhighway/elmo_2x1024_128_2048cnn_1xhighway_weights.hdf5 HTTP/1.1\" 200 0\n",
      "urllib3.connectionpool - DEBUG - Starting new HTTPS connection (1): s3-us-west-2.amazonaws.com:443\n",
      "urllib3.connectionpool - DEBUG - https://s3-us-west-2.amazonaws.com:443 \"HEAD /allennlp/models/elmo/2x1024_128_2048cnn_1xhighway/elmo_2x1024_128_2048cnn_1xhighway_weights.hdf5 HTTP/1.1\" 200 0\n",
      "urllib3.connectionpool - DEBUG - Starting new HTTPS connection (1): s3-us-west-2.amazonaws.com:443\n",
      "urllib3.connectionpool - DEBUG - https://s3-us-west-2.amazonaws.com:443 \"HEAD /allennlp/models/elmo/2x1024_128_2048cnn_1xhighway/elmo_2x1024_128_2048cnn_1xhighway_weights.hdf5 HTTP/1.1\" 200 0\n",
      "urllib3.connectionpool - DEBUG - Starting new HTTPS connection (1): s3-us-west-2.amazonaws.com:443\n",
      "urllib3.connectionpool - DEBUG - https://s3-us-west-2.amazonaws.com:443 \"HEAD /allennlp/models/elmo/2x1024_128_2048cnn_1xhighway/elmo_2x1024_128_2048cnn_1xhighway_weights.hdf5 HTTP/1.1\" 200 0\n",
      "urllib3.connectionpool - DEBUG - Starting new HTTPS connection (1): s3-us-west-2.amazonaws.com:443\n",
      "urllib3.connectionpool - DEBUG - https://s3-us-west-2.amazonaws.com:443 \"HEAD /allennlp/models/elmo/2x1024_128_2048cnn_1xhighway/elmo_2x1024_128_2048cnn_1xhighway_weights.hdf5 HTTP/1.1\" 200 0\n",
      "urllib3.connectionpool - DEBUG - Starting new HTTPS connection (1): s3-us-west-2.amazonaws.com:443\n",
      "urllib3.connectionpool - DEBUG - https://s3-us-west-2.amazonaws.com:443 \"HEAD /allennlp/models/elmo/2x1024_128_2048cnn_1xhighway/elmo_2x1024_128_2048cnn_1xhighway_weights.hdf5 HTTP/1.1\" 200 0\n",
      "urllib3.connectionpool - DEBUG - Starting new HTTPS connection (1): s3-us-west-2.amazonaws.com:443\n",
      "urllib3.connectionpool - DEBUG - https://s3-us-west-2.amazonaws.com:443 \"HEAD /allennlp/models/elmo/2x1024_128_2048cnn_1xhighway/elmo_2x1024_128_2048cnn_1xhighway_weights.hdf5 HTTP/1.1\" 200 0\n",
      "urllib3.connectionpool - DEBUG - Starting new HTTPS connection (1): s3-us-west-2.amazonaws.com:443\n",
      "urllib3.connectionpool - DEBUG - https://s3-us-west-2.amazonaws.com:443 \"HEAD /allennlp/models/elmo/2x1024_128_2048cnn_1xhighway/elmo_2x1024_128_2048cnn_1xhighway_weights.hdf5 HTTP/1.1\" 200 0\n",
      "urllib3.connectionpool - DEBUG - Starting new HTTPS connection (1): s3-us-west-2.amazonaws.com:443\n",
      "urllib3.connectionpool - DEBUG - https://s3-us-west-2.amazonaws.com:443 \"HEAD /allennlp/models/elmo/2x1024_128_2048cnn_1xhighway/elmo_2x1024_128_2048cnn_1xhighway_weights.hdf5 HTTP/1.1\" 200 0\n",
      "urllib3.connectionpool - DEBUG - Starting new HTTPS connection (1): s3-us-west-2.amazonaws.com:443\n",
      "urllib3.connectionpool - DEBUG - https://s3-us-west-2.amazonaws.com:443 \"HEAD /allennlp/models/elmo/2x1024_128_2048cnn_1xhighway/elmo_2x1024_128_2048cnn_1xhighway_options.json HTTP/1.1\" 200 0\n",
      "urllib3.connectionpool - DEBUG - Starting new HTTPS connection (1): s3-us-west-2.amazonaws.com:443\n",
      "urllib3.connectionpool - DEBUG - https://s3-us-west-2.amazonaws.com:443 \"HEAD /allennlp/models/elmo/2x1024_128_2048cnn_1xhighway/elmo_2x1024_128_2048cnn_1xhighway_weights.hdf5 HTTP/1.1\" 200 0\n"
     ]
    },
    {
     "data": {
      "text/plain": [
       "{'elmo_representations': [tensor([[[ 4.3756e-01, -4.8623e-01, -9.5745e-04,  ...,  9.7785e-02,\n",
       "             1.4836e-01,  4.3901e-03],\n",
       "           [ 7.1112e-02,  2.7539e-01, -3.6213e-01,  ...,  3.9166e-02,\n",
       "            -1.6154e-01, -8.9053e-02],\n",
       "           [ 2.8289e-01,  1.0413e+00, -4.2083e-01,  ...,  4.5400e-01,\n",
       "             2.5717e-01,  3.9710e-01],\n",
       "           [-4.2325e-01,  3.1289e-01, -3.4542e-01,  ...,  2.5908e-01,\n",
       "             5.9813e-01,  2.5162e-01],\n",
       "           [ 1.0569e-01,  1.1877e-01, -3.2079e-01,  ..., -2.7252e-01,\n",
       "            -1.0665e-03,  2.2316e-01],\n",
       "           [-4.7895e-01,  5.6897e-01,  2.3329e-01,  ..., -4.6209e-01,\n",
       "            -4.3714e-01, -1.4972e-01]],\n",
       "  \n",
       "          [[ 4.3756e-01, -4.8623e-01, -9.5757e-04,  ...,  1.8139e-01,\n",
       "             1.6335e-01,  7.9839e-02],\n",
       "           [ 7.1112e-02,  2.7539e-01, -3.6213e-01,  ...,  1.0907e-01,\n",
       "            -1.3844e-01,  3.8415e-02],\n",
       "           [-1.2256e-01,  8.0256e-02, -1.3381e-01,  ...,  3.6823e-01,\n",
       "             2.1741e-01,  2.8494e-01],\n",
       "           [ 1.1003e-01, -8.1645e-02,  3.1989e-01,  ..., -6.0678e-02,\n",
       "             2.8554e-01,  1.2083e-01],\n",
       "           [-2.1437e-02, -8.1555e-02, -2.4424e-01,  ..., -2.7252e-01,\n",
       "            -1.0664e-03,  2.2316e-01],\n",
       "           [-4.3671e-01,  4.5656e-01,  2.0948e-01,  ..., -4.6209e-01,\n",
       "            -4.3714e-01, -1.4972e-01]]], grad_fn=<CopySlices>)],\n",
       " 'mask': tensor([[1, 1, 1, 1, 1, 1],\n",
       "         [1, 1, 1, 1, 1, 1]])}"
      ]
     },
     "execution_count": 7,
     "metadata": {},
     "output_type": "execute_result"
    }
   ],
   "source": [
    "from allennlp.modules.elmo import Elmo, batch_to_ids\n",
    "\n",
    "options_file = \"https://s3-us-west-2.amazonaws.com/allennlp/models/elmo/2x1024_128_2048cnn_1xhighway/elmo_2x1024_128_2048cnn_1xhighway_options.json\"\n",
    "weight_file = \"https://s3-us-west-2.amazonaws.com/allennlp/models/elmo/2x1024_128_2048cnn_1xhighway/elmo_2x1024_128_2048cnn_1xhighway_weights.hdf5\"\n",
    "\n",
    "# Compute two different representation for each token.\n",
    "# Each representation is a linear weighted combination for the\n",
    "# 3 layers in ELMo (i.e., charcnn, the outputs of the two BiLSTM))\n",
    "elmo = Elmo(options_file, weight_file, num_output_representations=1, dropout=0)\n",
    "\n",
    "# use batch_to_ids to convert sentences to character ids\n",
    "sentences = [[\"I\", \"ate\", \"an\", \"apple\", \"for\", \"breakfast\"], [\"I\", \"ate\", \"a\", \"carrot\", \"for\", \"breakfast\"]]\n",
    "character_ids = batch_to_ids(sentences)\n",
    "\n",
    "embeddings = elmo(character_ids)\n",
    "\n",
    "embeddings"
   ]
  },
  {
   "cell_type": "code",
   "execution_count": 8,
   "metadata": {},
   "outputs": [
    {
     "data": {
      "text/plain": [
       "tensor([-4.2325e-01,  3.1289e-01, -3.4542e-01, -3.1014e-01, -5.6415e-01,\n",
       "        -1.8240e-01,  5.5703e-01, -5.3180e-01,  6.4167e-01,  3.5408e-02,\n",
       "        -5.3202e-01, -5.9440e-01, -5.9428e-01, -4.6132e-01,  2.1338e-01,\n",
       "         9.8465e-02,  6.0334e-01, -1.9126e-02,  5.6934e-01,  7.6625e-01,\n",
       "         1.8691e-01,  9.8496e-02, -2.3313e-01, -4.2633e-01, -9.6580e-01,\n",
       "        -2.7636e-01, -1.0689e-01,  5.1652e-01,  1.8732e-01,  1.8302e-01,\n",
       "        -8.5062e-02,  3.2676e-01,  4.3260e-01,  2.4236e-01,  8.9615e-02,\n",
       "         6.6932e-01, -8.4051e-02, -6.8439e-01, -1.4887e-01,  3.0480e-02,\n",
       "         9.7660e-02, -3.7491e-01, -2.6952e-01, -1.0879e+00,  2.2349e-01,\n",
       "        -1.1638e-03, -9.2463e-01,  6.5309e-01,  2.9771e-01,  4.0277e-01,\n",
       "        -1.9363e-01,  9.1250e-02,  1.0957e+00, -1.2587e-01, -1.3668e+00,\n",
       "         1.0718e+00, -4.0975e-01,  1.6330e-01,  9.2373e-02,  4.3808e-01,\n",
       "         1.9901e-01,  1.2635e+00,  2.9335e-02,  7.8514e-01, -7.5447e-01,\n",
       "         2.8829e-01,  1.3557e+00, -1.6016e+00, -5.1756e-01, -4.8099e-02,\n",
       "        -3.1237e-01, -2.4453e-01,  1.5592e-01,  8.2785e-02,  9.4586e-01,\n",
       "        -7.2174e-01, -3.0493e-01,  2.4000e-01,  2.0922e-01,  5.7200e-01,\n",
       "         8.4451e-02,  2.3956e-01,  3.4193e-01,  3.6062e-01, -7.3917e-02,\n",
       "        -9.3720e-01, -7.7661e-01, -1.9862e-01,  3.0764e-01, -1.4847e-01,\n",
       "         8.2080e-01,  5.5318e-01,  5.0978e-01, -8.2094e-02, -1.6011e-01,\n",
       "        -1.9390e-01,  4.7740e-01, -6.8861e-01,  2.8930e-02, -2.8980e-01,\n",
       "         8.8041e-01, -2.0358e-01,  8.9782e-02,  2.3017e-01,  5.1334e-01,\n",
       "        -3.2551e-01,  8.6151e-02,  1.2058e+00,  1.0303e+00,  2.4923e-01,\n",
       "         5.7835e-01,  1.0228e-01,  4.1408e-01, -1.4533e-01,  6.8001e-01,\n",
       "         4.2442e-01,  8.5436e-01, -3.2942e-01,  5.6050e-01, -2.3264e-01,\n",
       "         4.9814e-01, -2.3810e-01, -9.9985e-01,  2.9080e-01, -5.7093e-01,\n",
       "         7.4449e-01,  4.6241e-01,  4.5249e-01, -2.9285e-01,  7.0399e-01,\n",
       "        -3.5922e-01, -3.1305e-02, -6.6690e-01,  1.8147e-01,  4.0495e-01,\n",
       "         4.4541e-01,  7.8397e-01,  1.1719e-02, -1.6041e-01, -1.6474e-01,\n",
       "        -2.1685e-01, -1.2257e+00,  3.5127e-01, -2.6540e-01,  9.6374e-02,\n",
       "        -1.8981e-02,  3.0407e-01,  1.2099e+00, -1.7827e-01, -4.5904e-01,\n",
       "        -3.8405e-01, -3.8635e-01,  2.1914e-01, -1.7229e-01,  3.7846e-01,\n",
       "         1.1441e-01,  6.0243e-02,  8.8840e-02, -4.2206e-01, -4.9322e-01,\n",
       "         4.2984e-01,  2.9861e-01,  1.2340e-01, -1.7111e-01, -2.3924e-01,\n",
       "         1.5448e-01, -2.7253e-01,  1.0966e-01, -1.0546e-01,  2.0739e-01,\n",
       "         5.4249e-01, -1.2657e-01,  4.8528e-01, -2.9034e-01, -3.2310e-01,\n",
       "         1.9639e-01,  1.4213e-01, -3.1577e-01,  5.9544e-02, -1.7777e-01,\n",
       "         3.2577e-01,  3.0342e-01,  2.6800e-02,  3.0447e-01,  2.5013e-01,\n",
       "        -7.6442e-02,  1.1516e-01,  7.9937e-01, -4.2276e-01,  1.3137e+00,\n",
       "        -2.5060e-01, -1.1300e-01,  2.8722e-02,  2.7372e-01,  4.6153e-01,\n",
       "        -1.5065e+00,  2.9632e-01, -1.6553e-02,  6.7938e-01,  1.4146e-01,\n",
       "         1.2578e-01,  4.7809e-02,  8.0903e-01,  2.6468e-01,  3.8569e-01,\n",
       "        -4.6888e-01, -1.2806e-01,  4.4752e-01, -1.3268e-01,  6.1481e-01,\n",
       "        -9.1047e-02,  3.0413e-01,  3.7390e-01, -1.0058e+00, -7.9123e-01,\n",
       "         4.2925e-03, -2.1574e-01,  3.0910e-01,  3.6073e-01, -5.3564e-01,\n",
       "        -1.0692e-01, -5.9677e-01, -1.3622e-01, -3.6648e-02, -4.8764e-02,\n",
       "        -4.2559e-01,  2.4391e-01, -2.0553e-01,  6.3620e-01,  1.7091e-01,\n",
       "        -7.0876e-01, -2.1686e-01,  4.7786e-01,  3.1114e-01, -5.9022e-02,\n",
       "         6.5207e-01,  1.0522e+00,  8.7179e-02,  5.4251e-01,  5.8886e-02,\n",
       "         9.7485e-01,  2.9678e-01,  2.0441e-01, -2.0167e-01, -6.1466e-01,\n",
       "        -4.5611e-01,  3.4525e-02, -3.9046e-01,  1.9599e-01, -1.0672e-01,\n",
       "        -9.7923e-01,  4.6470e-01, -1.0158e+00,  2.5908e-01,  5.9813e-01,\n",
       "         2.5162e-01], grad_fn=<SelectBackward>)"
      ]
     },
     "execution_count": 8,
     "metadata": {},
     "output_type": "execute_result"
    }
   ],
   "source": [
    "embeddings['elmo_representations'][0][0][3]"
   ]
  },
  {
   "cell_type": "code",
   "execution_count": 9,
   "metadata": {},
   "outputs": [
    {
     "data": {
      "text/plain": [
       "tensor([ 0.1100, -0.0816,  0.3199, -0.3158, -0.2770, -0.0410,  0.3335, -0.6008,\n",
       "         0.3870, -0.3189,  0.0527, -0.4956, -0.3350, -0.6907, -0.2297,  0.2915,\n",
       "         0.1208, -0.3877,  0.2383,  0.4437, -0.4679,  0.3230, -0.2592, -0.4862,\n",
       "        -1.1312,  0.2357,  0.0278, -0.0308, -0.1074,  0.2662, -0.2661,  0.4266,\n",
       "         0.2657, -0.0820,  0.3471,  0.7010, -0.2093, -0.5405,  0.1320, -0.2795,\n",
       "         0.1999, -0.3326,  0.1666, -1.1544,  0.3103,  0.0448, -0.6981,  0.3170,\n",
       "         0.0020,  0.4104, -0.3225,  0.4023,  0.3601,  0.0578, -0.6622,  0.8963,\n",
       "        -0.0778,  0.1298,  0.0583,  0.3888,  0.5428,  1.5588, -0.0441,  0.9767,\n",
       "        -0.9032,  0.3454,  1.0624, -1.4201, -0.9866,  0.0631, -0.0450, -0.1062,\n",
       "        -0.0438, -0.0686,  0.4281, -1.0498,  0.1070,  0.1514,  0.3638,  0.2343,\n",
       "         0.4350,  0.0624,  0.1309,  0.4906, -0.3815, -0.9005, -0.8931, -0.3780,\n",
       "        -0.1412, -0.1676,  0.7581,  0.3118, -0.1093, -0.1344, -0.3957, -0.1400,\n",
       "         0.3408, -0.9079, -0.0894, -0.3816,  0.7776, -0.1721,  0.3144,  0.5584,\n",
       "        -0.0682, -0.4493, -0.1857,  0.3968,  1.2277,  0.3667,  0.7625,  0.2227,\n",
       "         0.2912, -0.0982,  0.3434,  0.5074,  0.2277, -0.3551,  0.3655, -0.1944,\n",
       "         0.3711,  0.0480, -0.8986,  0.0120, -0.7537,  0.5911,  0.2834,  0.2907,\n",
       "        -0.2189,  0.2168,  0.0963,  0.0257, -0.4383,  0.1564,  0.4070,  0.1916,\n",
       "        -0.1236, -0.2283,  0.2507,  0.0613, -0.4132, -1.2391,  0.0558,  0.0211,\n",
       "         0.4267, -0.1815, -0.2849,  0.9362, -0.2111,  0.1665,  0.1276, -0.5711,\n",
       "         0.2064,  0.3266, -0.1928, -0.0567, -0.2634,  0.1192,  0.0114,  0.3664,\n",
       "        -0.0093,  0.2982,  0.1806, -0.3378, -0.1413,  0.2508,  0.0156, -0.0737,\n",
       "         0.1445,  0.1922,  1.1482,  0.1524,  0.5504, -0.2258, -0.2262, -0.3448,\n",
       "         0.1828, -0.3762,  0.2568,  0.0930, -0.0569, -0.0441, -0.0824, -0.1643,\n",
       "        -0.0220, -0.0054, -0.0174,  0.4408,  0.1273,  1.1466,  0.1670,  0.3114,\n",
       "         0.0207, -0.1794,  0.1379, -1.7082, -0.7648, -0.2584,  0.2204,  0.4024,\n",
       "        -0.2310, -0.1262,  0.3292,  0.1191,  0.0232, -0.1489,  0.2941, -0.2279,\n",
       "         0.2058,  0.2610,  0.1840,  0.1732,  0.3410, -0.5374, -0.6219,  0.1660,\n",
       "        -0.3570, -0.2560,  0.9260, -0.2299, -0.2118, -0.4132,  0.2301, -0.1642,\n",
       "         0.0425, -0.1358, -0.2796, -0.2853,  0.2002, -0.1725, -0.0949, -0.1449,\n",
       "         0.0965,  0.2709, -0.2386,  0.2172,  0.8751,  0.4565,  0.1816, -0.2455,\n",
       "         0.4764,  0.3905,  0.4469,  0.1761, -0.7731, -0.2078, -0.0830, -0.0602,\n",
       "        -0.2159,  0.0328, -0.6233,  0.3006, -0.8051, -0.0607,  0.2855,  0.1208],\n",
       "       grad_fn=<SelectBackward>)"
      ]
     },
     "execution_count": 9,
     "metadata": {},
     "output_type": "execute_result"
    }
   ],
   "source": [
    "embeddings['elmo_representations'][0][1][3]"
   ]
  },
  {
   "cell_type": "code",
   "execution_count": 10,
   "metadata": {},
   "outputs": [
    {
     "data": {
      "text/plain": [
       "0.22028756141662598"
      ]
     },
     "execution_count": 10,
     "metadata": {},
     "output_type": "execute_result"
    }
   ],
   "source": [
    "from scipy.spatial.distance import cosine\n",
    "\n",
    "vectors = embeddings['elmo_representations'][0].detach().numpy()\n",
    "cosine(vectors[0][3], vectors[1][3])"
   ]
  },
  {
   "cell_type": "code",
   "execution_count": 11,
   "metadata": {},
   "outputs": [
    {
     "data": {
      "text/plain": [
       "0.004648745059967041"
      ]
     },
     "execution_count": 11,
     "metadata": {},
     "output_type": "execute_result"
    }
   ],
   "source": [
    "cosine(vectors[0][5], vectors[1][5])"
   ]
  },
  {
   "cell_type": "code",
   "execution_count": 12,
   "metadata": {},
   "outputs": [
    {
     "data": {
      "text/plain": [
       "{'elmo_representations': [tensor([[[ 2.4977e-01, -6.6283e-02,  2.1410e-02,  ..., -4.8233e-02,\n",
       "             1.8866e-01, -2.8295e-01],\n",
       "           [ 1.1351e-01, -2.4031e-01,  3.6148e-01,  ...,  4.8067e-02,\n",
       "            -2.3969e-03, -2.0045e-01],\n",
       "           [ 4.9011e-01, -5.8767e-01,  2.2363e-01,  ...,  2.1993e-01,\n",
       "             1.3822e-01,  9.4120e-02],\n",
       "           ...,\n",
       "           [ 0.0000e+00,  0.0000e+00,  0.0000e+00,  ...,  0.0000e+00,\n",
       "             0.0000e+00,  0.0000e+00],\n",
       "           [ 0.0000e+00,  0.0000e+00,  0.0000e+00,  ...,  0.0000e+00,\n",
       "             0.0000e+00,  0.0000e+00],\n",
       "           [ 0.0000e+00,  0.0000e+00,  0.0000e+00,  ...,  0.0000e+00,\n",
       "             0.0000e+00,  0.0000e+00]],\n",
       "  \n",
       "          [[-1.0334e-01,  1.2403e+00, -5.4524e-02,  ...,  3.4440e-01,\n",
       "             2.6005e-01, -7.2842e-02],\n",
       "           [ 4.6890e-01, -4.0811e-01, -2.3620e-01,  ..., -2.1398e-02,\n",
       "             1.6214e-01, -1.5590e-01],\n",
       "           [ 9.6651e-02,  2.4398e-01,  1.5075e-02,  ...,  2.9042e-01,\n",
       "            -2.7767e-01, -1.7365e-01],\n",
       "           ...,\n",
       "           [ 2.8302e-01, -5.9645e-01,  1.2344e-01,  ..., -2.2398e-01,\n",
       "            -2.3300e-01, -1.3749e-01],\n",
       "           [ 3.2149e-02, -7.6440e-02,  8.6960e-02,  ..., -1.2444e+00,\n",
       "             7.1843e-04, -2.1622e-02],\n",
       "           [ 9.9485e-02,  2.0950e-03,  3.6720e-02,  ..., -2.4541e-01,\n",
       "            -1.5238e-01,  2.2497e-01]],\n",
       "  \n",
       "          [[ 6.8637e-01, -6.2320e-01, -6.5948e-01,  ...,  1.8339e-02,\n",
       "            -3.0169e-01, -2.4587e-01],\n",
       "           [ 3.3150e-01, -4.0979e-01, -3.4059e-01,  ..., -3.5415e-02,\n",
       "             9.5336e-02,  3.1280e-01],\n",
       "           [-1.2727e-01, -2.6836e-01, -1.6295e-01,  ..., -1.3226e-02,\n",
       "             5.4388e-02, -4.1116e-02],\n",
       "           ...,\n",
       "           [ 0.0000e+00,  0.0000e+00,  0.0000e+00,  ...,  0.0000e+00,\n",
       "             0.0000e+00,  0.0000e+00],\n",
       "           [ 0.0000e+00,  0.0000e+00,  0.0000e+00,  ...,  0.0000e+00,\n",
       "             0.0000e+00,  0.0000e+00],\n",
       "           [ 0.0000e+00,  0.0000e+00,  0.0000e+00,  ...,  0.0000e+00,\n",
       "             0.0000e+00,  0.0000e+00]],\n",
       "  \n",
       "          ...,\n",
       "  \n",
       "          [[ 3.5835e-01, -2.0507e-02, -6.5820e-01,  ..., -3.0909e-02,\n",
       "            -7.8990e-02, -1.5396e-01],\n",
       "           [ 3.6948e-01, -5.7688e-01, -4.1122e-02,  ...,  3.5612e-02,\n",
       "             3.4253e-02, -9.3055e-02],\n",
       "           [ 8.2359e-02, -7.4861e-01, -4.6088e-01,  ...,  1.4445e-02,\n",
       "             6.3313e-02,  3.4774e-01],\n",
       "           ...,\n",
       "           [ 0.0000e+00,  0.0000e+00,  0.0000e+00,  ...,  0.0000e+00,\n",
       "             0.0000e+00,  0.0000e+00],\n",
       "           [ 0.0000e+00,  0.0000e+00,  0.0000e+00,  ...,  0.0000e+00,\n",
       "             0.0000e+00,  0.0000e+00],\n",
       "           [ 0.0000e+00,  0.0000e+00,  0.0000e+00,  ...,  0.0000e+00,\n",
       "             0.0000e+00,  0.0000e+00]],\n",
       "  \n",
       "          [[ 9.8765e-01, -2.0060e-01, -6.5976e-01,  ...,  1.5337e-01,\n",
       "             1.1678e-01,  1.7260e-01],\n",
       "           [ 1.9666e-01, -3.4794e-01, -3.3110e-01,  ..., -6.2966e-02,\n",
       "             1.6276e-01,  4.3111e-01],\n",
       "           [ 3.5177e-01, -6.9448e-01, -1.1238e-01,  ...,  2.5340e-01,\n",
       "            -3.1045e-01,  2.6282e-02],\n",
       "           ...,\n",
       "           [ 0.0000e+00,  0.0000e+00,  0.0000e+00,  ...,  0.0000e+00,\n",
       "             0.0000e+00,  0.0000e+00],\n",
       "           [ 0.0000e+00,  0.0000e+00,  0.0000e+00,  ...,  0.0000e+00,\n",
       "             0.0000e+00,  0.0000e+00],\n",
       "           [ 0.0000e+00,  0.0000e+00,  0.0000e+00,  ...,  0.0000e+00,\n",
       "             0.0000e+00,  0.0000e+00]],\n",
       "  \n",
       "          [[ 4.3756e-01, -4.8623e-01, -9.5782e-04,  ..., -2.7432e-01,\n",
       "             3.4211e-01,  9.2468e-02],\n",
       "           [ 4.6090e-02, -1.0313e-01, -9.0275e-02,  ...,  2.6456e-01,\n",
       "            -4.2823e-03,  3.7289e-01],\n",
       "           [-1.3576e-01,  2.7156e-01,  1.4868e-01,  ...,  2.4860e-01,\n",
       "             1.1495e-01,  2.4861e-01],\n",
       "           ...,\n",
       "           [ 0.0000e+00,  0.0000e+00,  0.0000e+00,  ...,  0.0000e+00,\n",
       "             0.0000e+00,  0.0000e+00],\n",
       "           [ 0.0000e+00,  0.0000e+00,  0.0000e+00,  ...,  0.0000e+00,\n",
       "             0.0000e+00,  0.0000e+00],\n",
       "           [ 0.0000e+00,  0.0000e+00,  0.0000e+00,  ...,  0.0000e+00,\n",
       "             0.0000e+00,  0.0000e+00]]], grad_fn=<CopySlices>)],\n",
       " 'mask': tensor([[1, 1, 1,  ..., 0, 0, 0],\n",
       "         [1, 1, 1,  ..., 1, 1, 1],\n",
       "         [1, 1, 1,  ..., 0, 0, 0],\n",
       "         ...,\n",
       "         [1, 1, 1,  ..., 0, 0, 0],\n",
       "         [1, 1, 1,  ..., 0, 0, 0],\n",
       "         [1, 1, 1,  ..., 0, 0, 0]])}"
      ]
     },
     "execution_count": 12,
     "metadata": {},
     "output_type": "execute_result"
    }
   ],
   "source": [
    "from nltk import word_tokenize\n",
    "\n",
    "train_character_ids = batch_to_ids(train_data.text[0:10])\n",
    "\n",
    "embeddings = elmo(train_character_ids)\n",
    "\n",
    "embeddings"
   ]
  },
  {
   "cell_type": "code",
   "execution_count": 13,
   "metadata": {},
   "outputs": [
    {
     "data": {
      "text/plain": [
       "(10, 280, 256)"
      ]
     },
     "execution_count": 13,
     "metadata": {},
     "output_type": "execute_result"
    }
   ],
   "source": [
    "embeddings['elmo_representations'][0].detach().numpy().shape"
   ]
  },
  {
   "cell_type": "code",
   "execution_count": 5,
   "metadata": {},
   "outputs": [],
   "source": [
    "class LSTMClassifier(nn.Module):\n",
    "    def __init__(self, embedding_dim, hidden_dim, vocab_size, tagset_size):\n",
    "        super(LSTMClassifier, self).__init__()\n",
    "        self.hidden_dim = hidden_dim\n",
    "\n",
    "        self.word_embeddings = nn.Embedding(vocab_size, embedding_dim)\n",
    "\n",
    "        # The LSTM takes word embeddings as inputs, and outputs hidden states\n",
    "        # with dimensionality hidden_dim.\n",
    "        self.lstm = nn.LSTM(embedding_dim, hidden_dim)\n",
    "\n",
    "        # The linear layer that maps from hidden state space to tag space\n",
    "        self.hidden2tag = nn.Linear(hidden_dim, tagset_size)\n",
    "        self.hidden = self.init_hidden()\n",
    "\n",
    "    def init_hidden(self):\n",
    "        # Before we've done anything, we dont have any hidden state.\n",
    "        # Refer to the Pytorch documentation to see exactly\n",
    "        # why they have this dimensionality.\n",
    "        # The axes semantics are (num_layers, minibatch_size, hidden_dim)\n",
    "        return (torch.zeros(1, 1, self.hidden_dim),\n",
    "                torch.zeros(1, 1, self.hidden_dim))\n",
    "\n",
    "    def forward(self, sentence):\n",
    "        embeds = self.word_embeddings(sentence)\n",
    "        lstm_out, self.hidden = self.lstm(\n",
    "            embeds.view(len(sentence), 1, -1), self.hidden)\n",
    "        tag_space = self.hidden2tag(lstm_out.view(len(sentence), -1))\n",
    "        tag_scores = F.log_softmax(tag_space, dim=1)\n",
    "        return tag_scores"
   ]
  },
  {
   "cell_type": "code",
   "execution_count": 6,
   "metadata": {},
   "outputs": [
    {
     "ename": "NameError",
     "evalue": "name 'EMBEDDING_DIM' is not defined",
     "output_type": "error",
     "traceback": [
      "\u001b[0;31m---------------------------------------------------------------------------\u001b[0m",
      "\u001b[0;31mNameError\u001b[0m                                 Traceback (most recent call last)",
      "\u001b[0;32m<ipython-input-6-c16b1b8e0628>\u001b[0m in \u001b[0;36m<module>\u001b[0;34m\u001b[0m\n\u001b[0;32m----> 1\u001b[0;31m \u001b[0mmodel\u001b[0m \u001b[0;34m=\u001b[0m \u001b[0mLSTMClassifier\u001b[0m\u001b[0;34m(\u001b[0m\u001b[0mEMBEDDING_DIM\u001b[0m\u001b[0;34m,\u001b[0m \u001b[0mHIDDEN_DIM\u001b[0m\u001b[0;34m,\u001b[0m \u001b[0mlen\u001b[0m\u001b[0;34m(\u001b[0m\u001b[0mword_to_ix\u001b[0m\u001b[0;34m)\u001b[0m\u001b[0;34m,\u001b[0m \u001b[0mlen\u001b[0m\u001b[0;34m(\u001b[0m\u001b[0mtag_to_ix\u001b[0m\u001b[0;34m)\u001b[0m\u001b[0;34m)\u001b[0m\u001b[0;34m\u001b[0m\u001b[0;34m\u001b[0m\u001b[0m\n\u001b[0m\u001b[1;32m      2\u001b[0m \u001b[0mloss_function\u001b[0m \u001b[0;34m=\u001b[0m \u001b[0mnn\u001b[0m\u001b[0;34m.\u001b[0m\u001b[0mNLLLoss\u001b[0m\u001b[0;34m(\u001b[0m\u001b[0;34m)\u001b[0m\u001b[0;34m\u001b[0m\u001b[0;34m\u001b[0m\u001b[0m\n\u001b[1;32m      3\u001b[0m \u001b[0moptimizer\u001b[0m \u001b[0;34m=\u001b[0m \u001b[0moptim\u001b[0m\u001b[0;34m.\u001b[0m\u001b[0mSGD\u001b[0m\u001b[0;34m(\u001b[0m\u001b[0mmodel\u001b[0m\u001b[0;34m.\u001b[0m\u001b[0mparameters\u001b[0m\u001b[0;34m(\u001b[0m\u001b[0;34m)\u001b[0m\u001b[0;34m,\u001b[0m \u001b[0mlr\u001b[0m\u001b[0;34m=\u001b[0m\u001b[0;36m0.1\u001b[0m\u001b[0;34m)\u001b[0m\u001b[0;34m\u001b[0m\u001b[0;34m\u001b[0m\u001b[0m\n",
      "\u001b[0;31mNameError\u001b[0m: name 'EMBEDDING_DIM' is not defined"
     ]
    }
   ],
   "source": [
    "model = LSTMClassifier(EMBEDDING_DIM, HIDDEN_DIM, len(word_to_ix), len(tag_to_ix))\n",
    "loss_function = nn.NLLLoss()\n",
    "optimizer = optim.SGD(model.parameters(), lr=0.1)"
   ]
  },
  {
   "cell_type": "code",
   "execution_count": null,
   "metadata": {},
   "outputs": [],
   "source": []
  }
 ],
 "metadata": {
  "kernelspec": {
   "display_name": "Python 3",
   "language": "python",
   "name": "python3"
  },
  "language_info": {
   "codemirror_mode": {
    "name": "ipython",
    "version": 3
   },
   "file_extension": ".py",
   "mimetype": "text/x-python",
   "name": "python",
   "nbconvert_exporter": "python",
   "pygments_lexer": "ipython3",
   "version": "3.6.7"
  }
 },
 "nbformat": 4,
 "nbformat_minor": 2
}
