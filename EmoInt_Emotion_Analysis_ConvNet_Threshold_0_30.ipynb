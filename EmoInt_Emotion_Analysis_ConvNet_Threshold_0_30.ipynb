{
  "nbformat": 4,
  "nbformat_minor": 0,
  "metadata": {
    "colab": {
      "name": "EmoInt-Emotion-Analysis-ConvNet-Threshold-0.30.ipynb",
      "version": "0.3.2",
      "provenance": [],
      "collapsed_sections": [],
      "include_colab_link": true
    },
    "kernelspec": {
      "name": "python3",
      "display_name": "Python 3"
    },
    "accelerator": "GPU"
  },
  "cells": [
    {
      "cell_type": "markdown",
      "metadata": {
        "id": "view-in-github",
        "colab_type": "text"
      },
      "source": [
        "[View in Colaboratory](https://colab.research.google.com/github/nakamura41/emotion_detection_notebooks/blob/master/EmoInt_Emotion_Analysis_ConvNet_Threshold_0_30.ipynb)"
      ]
    },
    {
      "metadata": {
        "id": "wRzS3ihSifMc",
        "colab_type": "code",
        "outputId": "eefbed63-774f-42d9-e640-948097d07365",
        "colab": {
          "base_uri": "https://localhost:8080/",
          "height": 734
        }
      },
      "cell_type": "code",
      "source": [
        "!pip install gensim\n",
        "!pip install -U -q PyDrive"
      ],
      "execution_count": 1,
      "outputs": [
        {
          "output_type": "stream",
          "text": [
            "Collecting gensim\n",
            "\u001b[?25l  Downloading https://files.pythonhosted.org/packages/27/a4/d10c0acc8528d838cda5eede0ee9c784caa598dbf40bd0911ff8d067a7eb/gensim-3.6.0-cp36-cp36m-manylinux1_x86_64.whl (23.6MB)\n",
            "\u001b[K    100% |████████████████████████████████| 23.6MB 1.9MB/s \n",
            "\u001b[?25hCollecting smart-open>=1.2.1 (from gensim)\n",
            "  Downloading https://files.pythonhosted.org/packages/4b/1f/6f27e3682124de63ac97a0a5876da6186de6c19410feab66c1543afab055/smart_open-1.7.1.tar.gz\n",
            "Requirement already satisfied: six>=1.5.0 in /usr/local/lib/python3.6/dist-packages (from gensim) (1.11.0)\n",
            "Requirement already satisfied: numpy>=1.11.3 in /usr/local/lib/python3.6/dist-packages (from gensim) (1.14.6)\n",
            "Requirement already satisfied: scipy>=0.18.1 in /usr/local/lib/python3.6/dist-packages (from gensim) (0.19.1)\n",
            "Collecting boto>=2.32 (from smart-open>=1.2.1->gensim)\n",
            "\u001b[?25l  Downloading https://files.pythonhosted.org/packages/23/10/c0b78c27298029e4454a472a1919bde20cb182dab1662cec7f2ca1dcc523/boto-2.49.0-py2.py3-none-any.whl (1.4MB)\n",
            "\u001b[K    100% |████████████████████████████████| 1.4MB 15.5MB/s \n",
            "\u001b[?25hCollecting bz2file (from smart-open>=1.2.1->gensim)\n",
            "  Downloading https://files.pythonhosted.org/packages/61/39/122222b5e85cd41c391b68a99ee296584b2a2d1d233e7ee32b4532384f2d/bz2file-0.98.tar.gz\n",
            "Requirement already satisfied: requests in /usr/local/lib/python3.6/dist-packages (from smart-open>=1.2.1->gensim) (2.18.4)\n",
            "Collecting boto3 (from smart-open>=1.2.1->gensim)\n",
            "\u001b[?25l  Downloading https://files.pythonhosted.org/packages/42/f4/33264206005267ce74a57ee766ece6d6454dab836379022ff134a9fa5e89/boto3-1.9.27-py2.py3-none-any.whl (128kB)\n",
            "\u001b[K    100% |████████████████████████████████| 133kB 29.5MB/s \n",
            "\u001b[?25hRequirement already satisfied: urllib3<1.23,>=1.21.1 in /usr/local/lib/python3.6/dist-packages (from requests->smart-open>=1.2.1->gensim) (1.22)\n",
            "Requirement already satisfied: certifi>=2017.4.17 in /usr/local/lib/python3.6/dist-packages (from requests->smart-open>=1.2.1->gensim) (2018.10.15)\n",
            "Requirement already satisfied: chardet<3.1.0,>=3.0.2 in /usr/local/lib/python3.6/dist-packages (from requests->smart-open>=1.2.1->gensim) (3.0.4)\n",
            "Requirement already satisfied: idna<2.7,>=2.5 in /usr/local/lib/python3.6/dist-packages (from requests->smart-open>=1.2.1->gensim) (2.6)\n",
            "Collecting botocore<1.13.0,>=1.12.27 (from boto3->smart-open>=1.2.1->gensim)\n",
            "\u001b[?25l  Downloading https://files.pythonhosted.org/packages/79/86/7ebf7a3e0cb5b9c88217ded0d5c16a85f5291ad4a62fe32f6c1cacd616c1/botocore-1.12.27-py2.py3-none-any.whl (4.7MB)\n",
            "\u001b[K    100% |████████████████████████████████| 4.7MB 1.2MB/s \n",
            "\u001b[?25hCollecting s3transfer<0.2.0,>=0.1.10 (from boto3->smart-open>=1.2.1->gensim)\n",
            "\u001b[?25l  Downloading https://files.pythonhosted.org/packages/d7/14/2a0004d487464d120c9fb85313a75cd3d71a7506955be458eebfe19a6b1d/s3transfer-0.1.13-py2.py3-none-any.whl (59kB)\n",
            "\u001b[K    100% |████████████████████████████████| 61kB 21.8MB/s \n",
            "\u001b[?25hCollecting jmespath<1.0.0,>=0.7.1 (from boto3->smart-open>=1.2.1->gensim)\n",
            "  Downloading https://files.pythonhosted.org/packages/b7/31/05c8d001f7f87f0f07289a5fc0fc3832e9a57f2dbd4d3b0fee70e0d51365/jmespath-0.9.3-py2.py3-none-any.whl\n",
            "Collecting docutils>=0.10 (from botocore<1.13.0,>=1.12.27->boto3->smart-open>=1.2.1->gensim)\n",
            "\u001b[?25l  Downloading https://files.pythonhosted.org/packages/36/fa/08e9e6e0e3cbd1d362c3bbee8d01d0aedb2155c4ac112b19ef3cae8eed8d/docutils-0.14-py3-none-any.whl (543kB)\n",
            "\u001b[K    100% |████████████████████████████████| 552kB 20.1MB/s \n",
            "\u001b[?25hRequirement already satisfied: python-dateutil<3.0.0,>=2.1; python_version >= \"2.7\" in /usr/local/lib/python3.6/dist-packages (from botocore<1.13.0,>=1.12.27->boto3->smart-open>=1.2.1->gensim) (2.5.3)\n",
            "Building wheels for collected packages: smart-open, bz2file\n",
            "  Running setup.py bdist_wheel for smart-open ... \u001b[?25l-\b \b\\\b \bdone\n",
            "\u001b[?25h  Stored in directory: /root/.cache/pip/wheels/23/00/44/e5b939f7a80c04e32297dbd6d96fa3065af89ecf57e2b5f89f\n",
            "  Running setup.py bdist_wheel for bz2file ... \u001b[?25l-\b \bdone\n",
            "\u001b[?25h  Stored in directory: /root/.cache/pip/wheels/81/75/d6/e1317bf09bf1af5a30befc2a007869fa6e1f516b8f7c591cb9\n",
            "Successfully built smart-open bz2file\n",
            "Installing collected packages: boto, bz2file, docutils, jmespath, botocore, s3transfer, boto3, smart-open, gensim\n",
            "Successfully installed boto-2.49.0 boto3-1.9.27 botocore-1.12.27 bz2file-0.98 docutils-0.14 gensim-3.6.0 jmespath-0.9.3 s3transfer-0.1.13 smart-open-1.7.1\n"
          ],
          "name": "stdout"
        }
      ]
    },
    {
      "metadata": {
        "id": "OdaHCMv2rGKs",
        "colab_type": "code",
        "outputId": "f01ce946-6b5c-4ec0-cd60-c537aca21375",
        "colab": {
          "base_uri": "https://localhost:8080/",
          "height": 51
        }
      },
      "cell_type": "code",
      "source": [
        "import os\n",
        "import tensorflow as tf\n",
        "from tensorflow import keras\n",
        "import numpy as np\n",
        "import urllib.request\n",
        "import pandas as pd\n",
        "from gensim.test.utils import common_texts, get_tmpfile\n",
        "from gensim.utils import simple_preprocess\n",
        "from gensim.models import Word2Vec\n",
        "from tempfile import gettempdir\n",
        "import zipfile\n",
        "from keras.preprocessing.text import Tokenizer\n",
        "from keras.preprocessing.sequence import pad_sequences\n",
        "from keras.utils import to_categorical\n",
        "from pydrive.auth import GoogleAuth\n",
        "from pydrive.drive import GoogleDrive\n",
        "from google.colab import auth\n",
        "from oauth2client.client import GoogleCredentials\n",
        "from sklearn.metrics import confusion_matrix, precision_recall_fscore_support, accuracy_score\n",
        "import matplotlib.pyplot as plt\n",
        "import seaborn as sns\n",
        "\n",
        "print(tf.__version__)"
      ],
      "execution_count": 2,
      "outputs": [
        {
          "output_type": "stream",
          "text": [
            "1.11.0\n"
          ],
          "name": "stdout"
        },
        {
          "output_type": "stream",
          "text": [
            "Using TensorFlow backend.\n"
          ],
          "name": "stderr"
        }
      ]
    },
    {
      "metadata": {
        "id": "VMhX1N2k4SgY",
        "colab_type": "code",
        "colab": {}
      },
      "cell_type": "code",
      "source": [
        "# 1. Authenticate and create the PyDrive client.\n",
        "auth.authenticate_user()\n",
        "gauth = GoogleAuth()\n",
        "gauth.credentials = GoogleCredentials.get_application_default()\n",
        "drive = GoogleDrive(gauth)"
      ],
      "execution_count": 0,
      "outputs": []
    },
    {
      "metadata": {
        "id": "6FJlfk614hrw",
        "colab_type": "code",
        "colab": {}
      },
      "cell_type": "code",
      "source": [
        "# download google drive file\n",
        "def download_drive_file(drive_directory, filename):\n",
        "  list_file_query = \"title='{}' and trashed=false\".format(drive_directory)\n",
        "  file_list = drive.ListFile({'q': list_file_query}).GetList()\n",
        "\n",
        "  if len(file_list) > 0:\n",
        "    directory_id = file_list[0]['id']\n",
        "\n",
        "    list_file_query = \"'{}' in parents\".format(directory_id)\n",
        "\n",
        "    file_list = drive.ListFile({'q': list_file_query}).GetList()\n",
        "    \n",
        "    file_id = None\n",
        "    for file1 in file_list:\n",
        "      if file1['title'] == filename:\n",
        "        print(\"downloading file {}\".format(file1['title']))\n",
        "        file1.GetContentFile(file1['title'])"
      ],
      "execution_count": 0,
      "outputs": []
    },
    {
      "metadata": {
        "id": "WPzDX7qc6eQx",
        "colab_type": "code",
        "outputId": "9e6a9d34-2d99-4f17-e7bf-420a7f97750a",
        "colab": {
          "base_uri": "https://localhost:8080/",
          "height": 34
        }
      },
      "cell_type": "code",
      "source": [
        "download_drive_file(\"Datasets\", \"GoogleNews-vectors-negative300.bin.gz\")"
      ],
      "execution_count": 5,
      "outputs": [
        {
          "output_type": "stream",
          "text": [
            "downloading file GoogleNews-vectors-negative300.bin.gz\n"
          ],
          "name": "stdout"
        }
      ]
    },
    {
      "metadata": {
        "id": "xnY2L2-b6-ye",
        "colab_type": "code",
        "outputId": "ca4e246e-75b9-4046-a5b0-0f6ba8b70e63",
        "colab": {
          "base_uri": "https://localhost:8080/",
          "height": 34
        }
      },
      "cell_type": "code",
      "source": [
        "!ls"
      ],
      "execution_count": 7,
      "outputs": [
        {
          "output_type": "stream",
          "text": [
            "adc.json  GoogleNews-vectors-negative300.bin.gz  sample_data\n"
          ],
          "name": "stdout"
        }
      ]
    },
    {
      "metadata": {
        "id": "oBynQmEcrNAy",
        "colab_type": "code",
        "colab": {}
      },
      "cell_type": "code",
      "source": [
        "class EmoIntDataset(object):\n",
        "  BASE_URL = \"http://saifmohammad.com/WebDocs/\"\n",
        "  TRAIN_URI = \"EmoInt%20Train%20Data/{}-ratings-0to1.train.txt\"\n",
        "  TEST_URI = \"EmoInt%20Test%20Gold%20Data/{}-ratings-0to1.test.gold.txt\"\n",
        "  EMOTION_CLASSES = [\"anger\", \"fear\", \"joy\", \"sadness\"]\n",
        "  \n",
        "  THRESHOLD = 0.30\n",
        "  \n",
        "  def __load_data_per_class(self, url, threshold=0):\n",
        "    resource = urllib.request.urlopen(url)\n",
        "    np_array = np.asarray([line.split('\\t') for line in [line.strip() for line in resource.read().decode('utf-8').splitlines()]])\n",
        "    df = pd.DataFrame(np_array, columns=[\"id\", \"text\", \"emotion\", \"emotion_level\"])\n",
        "    df['emotion_level'] = df['emotion_level'].astype(float)\n",
        "    df = df.query('emotion_level>' + str(threshold))\n",
        "    return df[[\"text\", \"emotion\"]]\n",
        "  \n",
        "  def load_data(self, set_threshold=False):\n",
        "    train_data = None\n",
        "    test_data = None\n",
        "    \n",
        "    for emotion in self.EMOTION_CLASSES:\n",
        "      # load train dataset\n",
        "      train_df = self.__load_data_per_class(self.BASE_URL + self.TRAIN_URI.format(emotion), threshold=(self.THRESHOLD if set_threshold else 0))\n",
        "      \n",
        "      # load test dataset\n",
        "      test_df = self.__load_data_per_class(self.BASE_URL + self.TEST_URI.format(emotion), threshold=(self.THRESHOLD if set_threshold else 0))\n",
        "      \n",
        "      train_data = (train_df if train_data is None else train_data.append(train_df))\n",
        "      test_data = (test_df if test_data is None else test_data.append(test_df))\n",
        "      \n",
        "    return train_data, test_data"
      ],
      "execution_count": 0,
      "outputs": []
    },
    {
      "metadata": {
        "id": "tevwfq4Tu6fe",
        "colab_type": "code",
        "outputId": "5c98c45c-1860-4517-f23f-635bcb81fc6c",
        "colab": {
          "base_uri": "https://localhost:8080/",
          "height": 88
        }
      },
      "cell_type": "code",
      "source": [
        "emo_int_dataset = EmoIntDataset()\n",
        "train_data, test_data = emo_int_dataset.load_data(set_threshold=True)\n",
        "\n",
        "val_data=train_data.sample(frac=0.1,random_state=200)\n",
        "train_data=train_data.drop(val_data.index)\n",
        "\n",
        "print(train_data.shape)\n",
        "print(val_data.shape)\n",
        "print(test_data.shape)"
      ],
      "execution_count": 55,
      "outputs": [
        {
          "output_type": "stream",
          "text": [
            "(2094, 2)\n",
            "(302, 2)\n",
            "(2604, 2)\n"
          ],
          "name": "stdout"
        }
      ]
    },
    {
      "metadata": {
        "id": "J-xXkD_4175U",
        "colab_type": "code",
        "outputId": "4b5e3658-9c9d-4e04-bacb-f495f4def556",
        "colab": {
          "base_uri": "https://localhost:8080/",
          "height": 51
        }
      },
      "cell_type": "code",
      "source": [
        "emotions = train_data.emotion.unique()\n",
        "dic = dict()\n",
        "labels = []\n",
        "for i, emotion in enumerate(emotions):\n",
        "    dic[emotion]=i\n",
        "    labels.append(emotion)\n",
        "print(dic)\n",
        "print(labels)"
      ],
      "execution_count": 56,
      "outputs": [
        {
          "output_type": "stream",
          "text": [
            "{'anger': 0, 'fear': 1, 'joy': 2, 'sadness': 3}\n",
            "['anger', 'fear', 'joy', 'sadness']\n"
          ],
          "name": "stdout"
        }
      ]
    },
    {
      "metadata": {
        "id": "yhA_GXLyw1gx",
        "colab_type": "code",
        "outputId": "e52a4d47-219e-45ac-ed18-4929a2137fdd",
        "colab": {
          "base_uri": "https://localhost:8080/",
          "height": 34
        }
      },
      "cell_type": "code",
      "source": [
        "NUM_WORDS=20000\n",
        "texts = train_data.text\n",
        "tokenizer = Tokenizer(num_words=NUM_WORDS,filters='!\"#$%&()*+,-./:;<=>?@[\\\\]^_`{|}~\\t\\n\\'',\n",
        "                      lower=True)\n",
        "tokenizer.fit_on_texts(texts)\n",
        "sequences_train = tokenizer.texts_to_sequences(texts)\n",
        "sequences_valid = tokenizer.texts_to_sequences(val_data.text)\n",
        "sequences_test = tokenizer.texts_to_sequences(test_data.text)\n",
        "word_index = tokenizer.word_index\n",
        "print('Found %s unique tokens.' % len(word_index))"
      ],
      "execution_count": 57,
      "outputs": [
        {
          "output_type": "stream",
          "text": [
            "Found 7581 unique tokens.\n"
          ],
          "name": "stdout"
        }
      ]
    },
    {
      "metadata": {
        "id": "f3a8LX2z0Vn3",
        "colab_type": "code",
        "outputId": "2a8c7af6-b045-4c36-c7b4-4ad909813da6",
        "colab": {
          "base_uri": "https://localhost:8080/",
          "height": 51
        }
      },
      "cell_type": "code",
      "source": [
        "X_train = pad_sequences(sequences_train)\n",
        "X_val = pad_sequences(sequences_valid, maxlen=X_train.shape[1])\n",
        "X_test = pad_sequences(sequences_test, maxlen=X_train.shape[1])\n",
        "\n",
        "y_train = to_categorical(np.asarray(train_data.emotion.apply(lambda x:dic[x])))\n",
        "y_val = to_categorical(np.asarray(val_data.emotion.apply(lambda x:dic[x])))\n",
        "y_test = to_categorical(np.asarray(test_data.emotion.apply(lambda x:dic[x])))\n",
        "\n",
        "print('Shape of X train, validation and test tensor:', X_train.shape, X_val.shape, X_test.shape)\n",
        "print('Shape of label train, validation and test tensor:', y_train.shape, y_val.shape, y_test.shape)"
      ],
      "execution_count": 58,
      "outputs": [
        {
          "output_type": "stream",
          "text": [
            "Shape of X train, validation and test tensor: (2094, 33) (302, 33) (2604, 33)\n",
            "Shape of label train, validation and test tensor: (2094, 4) (302, 4) (2604, 4)\n"
          ],
          "name": "stdout"
        }
      ]
    },
    {
      "metadata": {
        "id": "naD_jPLlmlFq",
        "colab_type": "code",
        "colab": {}
      },
      "cell_type": "code",
      "source": [
        "import gensim\n",
        "from gensim.models import Word2Vec\n",
        "from gensim.utils import simple_preprocess\n",
        "\n",
        "from gensim.models.keyedvectors import KeyedVectors\n",
        "\n",
        "word_vectors = KeyedVectors.load_word2vec_format('GoogleNews-vectors-negative300.bin.gz', binary=True)\n",
        "\n",
        "EMBEDDING_DIM=300\n",
        "vocabulary_size = min(len(word_index)+1, NUM_WORDS)\n",
        "embedding_matrix = np.zeros((vocabulary_size, EMBEDDING_DIM))\n",
        "for word, i in word_index.items():\n",
        "    if i>=NUM_WORDS:\n",
        "        continue\n",
        "    try:\n",
        "        embedding_vector = word_vectors[word]\n",
        "        embedding_matrix[i] = embedding_vector\n",
        "    except KeyError:\n",
        "        embedding_matrix[i] = np.random.normal(0,np.sqrt(0.25), EMBEDDING_DIM)\n",
        "\n",
        "del(word_vectors)\n",
        "\n",
        "from keras.layers import Embedding\n",
        "embedding_layer = Embedding(vocabulary_size,\n",
        "                            EMBEDDING_DIM,\n",
        "                            weights=[embedding_matrix],\n",
        "                            trainable=True)"
      ],
      "execution_count": 0,
      "outputs": []
    },
    {
      "metadata": {
        "id": "Q0fX0z7_7Mi5",
        "colab_type": "code",
        "outputId": "4c0b925a-3df3-4101-bc34-eccb7c06f3c0",
        "colab": {
          "base_uri": "https://localhost:8080/",
          "height": 629
        }
      },
      "cell_type": "code",
      "source": [
        "from keras.layers import Dense, Input, GlobalMaxPooling1D\n",
        "from keras.layers import Conv1D, MaxPooling1D, Embedding\n",
        "from keras.models import Model\n",
        "from keras.layers import Input, Dense, Embedding, Conv2D, MaxPooling2D, Dropout, concatenate, LSTM\n",
        "from keras.layers.core import Reshape, Flatten\n",
        "from keras.callbacks import EarlyStopping\n",
        "from keras.optimizers import Adam, Adadelta, RMSprop\n",
        "from keras.models import Model\n",
        "from keras import regularizers\n",
        "sequence_length = X_train.shape[1]\n",
        "filter_sizes = [3,4,5]\n",
        "num_filters = 100\n",
        "drop_rate = 0.5\n",
        "\n",
        "print(sequence_length)\n",
        "\n",
        "inputs = Input(shape=(sequence_length,), name='input_1')\n",
        "embedding = embedding_layer(inputs)\n",
        "reshape = Reshape((sequence_length, EMBEDDING_DIM, 1), name='reshape_1')(embedding)\n",
        "\n",
        "conv_1 = Conv2D(num_filters, (filter_sizes[0], EMBEDDING_DIM), activation='relu',kernel_regularizer=regularizers.l2(0.01), name='conv_1')(reshape)\n",
        "conv_2 = Conv2D(num_filters, (filter_sizes[1], EMBEDDING_DIM), activation='relu',kernel_regularizer=regularizers.l2(0.01), name='conv_2')(reshape)\n",
        "conv_3 = Conv2D(num_filters, (filter_sizes[2], EMBEDDING_DIM), activation='relu',kernel_regularizer=regularizers.l2(0.01), name='conv_3')(reshape)\n",
        "\n",
        "maxpool_1 = MaxPooling2D((sequence_length - filter_sizes[0] + 1, 1), strides=1, name='maxpool_1')(conv_1)\n",
        "maxpool_2 = MaxPooling2D((sequence_length - filter_sizes[1] + 1, 1), strides=1, name='maxpool_2')(conv_2)\n",
        "maxpool_3 = MaxPooling2D((sequence_length - filter_sizes[2] + 1, 1), strides=1, name='maxpool_3')(conv_3)\n",
        "\n",
        "merged_tensor = concatenate([maxpool_1, maxpool_2, maxpool_3], axis=1, name='concatenate_1')\n",
        "flatten = Flatten()(merged_tensor)\n",
        "dropout = Dropout(drop_rate, name='dropout_1')(flatten)\n",
        "output = Dense(units=4, activation='softmax',kernel_regularizer=regularizers.l2(0.01), name='dense_1')(dropout)\n",
        "\n",
        "# this creates a model that includes\n",
        "model = Model(inputs, output)\n",
        "\n",
        "model.summary()"
      ],
      "execution_count": 60,
      "outputs": [
        {
          "output_type": "stream",
          "text": [
            "33\n",
            "__________________________________________________________________________________________________\n",
            "Layer (type)                    Output Shape         Param #     Connected to                     \n",
            "==================================================================================================\n",
            "input_1 (InputLayer)            (None, 33)           0                                            \n",
            "__________________________________________________________________________________________________\n",
            "embedding_2 (Embedding)         (None, 33, 300)      2274600     input_1[0][0]                    \n",
            "__________________________________________________________________________________________________\n",
            "reshape_1 (Reshape)             (None, 33, 300, 1)   0           embedding_2[0][0]                \n",
            "__________________________________________________________________________________________________\n",
            "conv_1 (Conv2D)                 (None, 31, 1, 100)   90100       reshape_1[0][0]                  \n",
            "__________________________________________________________________________________________________\n",
            "conv_2 (Conv2D)                 (None, 30, 1, 100)   120100      reshape_1[0][0]                  \n",
            "__________________________________________________________________________________________________\n",
            "conv_3 (Conv2D)                 (None, 29, 1, 100)   150100      reshape_1[0][0]                  \n",
            "__________________________________________________________________________________________________\n",
            "maxpool_1 (MaxPooling2D)        (None, 1, 1, 100)    0           conv_1[0][0]                     \n",
            "__________________________________________________________________________________________________\n",
            "maxpool_2 (MaxPooling2D)        (None, 1, 1, 100)    0           conv_2[0][0]                     \n",
            "__________________________________________________________________________________________________\n",
            "maxpool_3 (MaxPooling2D)        (None, 1, 1, 100)    0           conv_3[0][0]                     \n",
            "__________________________________________________________________________________________________\n",
            "concatenate_1 (Concatenate)     (None, 3, 1, 100)    0           maxpool_1[0][0]                  \n",
            "                                                                 maxpool_2[0][0]                  \n",
            "                                                                 maxpool_3[0][0]                  \n",
            "__________________________________________________________________________________________________\n",
            "flatten_2 (Flatten)             (None, 300)          0           concatenate_1[0][0]              \n",
            "__________________________________________________________________________________________________\n",
            "dropout_1 (Dropout)             (None, 300)          0           flatten_2[0][0]                  \n",
            "__________________________________________________________________________________________________\n",
            "dense_1 (Dense)                 (None, 4)            1204        dropout_1[0][0]                  \n",
            "==================================================================================================\n",
            "Total params: 2,636,104\n",
            "Trainable params: 2,636,104\n",
            "Non-trainable params: 0\n",
            "__________________________________________________________________________________________________\n"
          ],
          "name": "stdout"
        }
      ]
    },
    {
      "metadata": {
        "id": "HHZ1POD77GRp",
        "colab_type": "code",
        "outputId": "4e27600b-3186-4d82-f9a6-87dc856b2034",
        "colab": {
          "base_uri": "https://localhost:8080/",
          "height": 1938
        }
      },
      "cell_type": "code",
      "source": [
        "adam = Adam(lr=1e-3, decay=0.0)\n",
        "adadelta = Adadelta(lr=1.0, rho=0.95, epsilon=None, decay=0.0)\n",
        "rmsprop = RMSprop(lr=0.001, rho=0.9, epsilon=None, decay=0.0)\n",
        "\n",
        "model.compile(loss='categorical_crossentropy',\n",
        "              optimizer=rmsprop,\n",
        "              metrics=['acc'])\n",
        "callbacks = [EarlyStopping(monitor='val_loss', patience=5)]\n",
        "history = model.fit(X_train, y_train, batch_size=1000, epochs=100, verbose=1, validation_data=(X_val, y_val), callbacks=callbacks)  # starts training"
      ],
      "execution_count": 61,
      "outputs": [
        {
          "output_type": "stream",
          "text": [
            "Train on 2094 samples, validate on 302 samples\n",
            "Epoch 1/100\n",
            "2094/2094 [==============================] - 1s 584us/step - loss: 1.6668 - acc: 0.2851 - val_loss: 1.6257 - val_acc: 0.3079\n",
            "Epoch 2/100\n",
            "2094/2094 [==============================] - 0s 150us/step - loss: 1.5855 - acc: 0.4117 - val_loss: 1.4954 - val_acc: 0.4305\n",
            "Epoch 3/100\n",
            "2094/2094 [==============================] - 0s 141us/step - loss: 1.3829 - acc: 0.5387 - val_loss: 1.5314 - val_acc: 0.3775\n",
            "Epoch 4/100\n",
            "2094/2094 [==============================] - 0s 141us/step - loss: 1.3589 - acc: 0.5649 - val_loss: 1.3698 - val_acc: 0.5199\n",
            "Epoch 5/100\n",
            "2094/2094 [==============================] - 0s 140us/step - loss: 1.2384 - acc: 0.6442 - val_loss: 1.3031 - val_acc: 0.5563\n",
            "Epoch 6/100\n",
            "2094/2094 [==============================] - 0s 142us/step - loss: 1.1326 - acc: 0.7230 - val_loss: 1.2454 - val_acc: 0.6026\n",
            "Epoch 7/100\n",
            "2094/2094 [==============================] - 0s 141us/step - loss: 1.0909 - acc: 0.7512 - val_loss: 1.1843 - val_acc: 0.6854\n",
            "Epoch 8/100\n",
            "2094/2094 [==============================] - 0s 140us/step - loss: 0.9920 - acc: 0.8219 - val_loss: 1.1030 - val_acc: 0.7616\n",
            "Epoch 9/100\n",
            "2094/2094 [==============================] - 0s 141us/step - loss: 0.9069 - acc: 0.8754 - val_loss: 1.0378 - val_acc: 0.7715\n",
            "Epoch 10/100\n",
            "2094/2094 [==============================] - 0s 140us/step - loss: 0.8342 - acc: 0.9097 - val_loss: 0.9871 - val_acc: 0.8013\n",
            "Epoch 11/100\n",
            "2094/2094 [==============================] - 0s 142us/step - loss: 0.7758 - acc: 0.9341 - val_loss: 0.9513 - val_acc: 0.8477\n",
            "Epoch 12/100\n",
            "2094/2094 [==============================] - 0s 139us/step - loss: 0.7298 - acc: 0.9417 - val_loss: 0.8938 - val_acc: 0.8179\n",
            "Epoch 13/100\n",
            "2094/2094 [==============================] - 0s 143us/step - loss: 0.6865 - acc: 0.9537 - val_loss: 0.8571 - val_acc: 0.8775\n",
            "Epoch 14/100\n",
            "2094/2094 [==============================] - 0s 141us/step - loss: 0.6477 - acc: 0.9532 - val_loss: 0.8348 - val_acc: 0.8311\n",
            "Epoch 15/100\n",
            "2094/2094 [==============================] - 0s 141us/step - loss: 0.6268 - acc: 0.9451 - val_loss: 0.7944 - val_acc: 0.8907\n",
            "Epoch 16/100\n",
            "2094/2094 [==============================] - 0s 144us/step - loss: 0.5788 - acc: 0.9694 - val_loss: 0.7708 - val_acc: 0.8775\n",
            "Epoch 17/100\n",
            "2094/2094 [==============================] - 0s 138us/step - loss: 0.5555 - acc: 0.9680 - val_loss: 0.7672 - val_acc: 0.8841\n",
            "Epoch 18/100\n",
            "2094/2094 [==============================] - 0s 142us/step - loss: 0.5463 - acc: 0.9690 - val_loss: 0.7543 - val_acc: 0.8609\n",
            "Epoch 19/100\n",
            "2094/2094 [==============================] - 0s 138us/step - loss: 0.5214 - acc: 0.9733 - val_loss: 0.7158 - val_acc: 0.8775\n",
            "Epoch 20/100\n",
            "2094/2094 [==============================] - 0s 140us/step - loss: 0.4992 - acc: 0.9766 - val_loss: 0.6959 - val_acc: 0.8940\n",
            "Epoch 21/100\n",
            "2094/2094 [==============================] - 0s 141us/step - loss: 0.4849 - acc: 0.9752 - val_loss: 0.6849 - val_acc: 0.8974\n",
            "Epoch 22/100\n",
            "2094/2094 [==============================] - 0s 141us/step - loss: 0.4680 - acc: 0.9780 - val_loss: 0.6752 - val_acc: 0.8808\n",
            "Epoch 23/100\n",
            "2094/2094 [==============================] - 0s 139us/step - loss: 0.4556 - acc: 0.9809 - val_loss: 0.6775 - val_acc: 0.8808\n",
            "Epoch 24/100\n",
            "2094/2094 [==============================] - 0s 138us/step - loss: 0.4514 - acc: 0.9747 - val_loss: 0.6514 - val_acc: 0.9007\n",
            "Epoch 25/100\n",
            "2094/2094 [==============================] - 0s 144us/step - loss: 0.4292 - acc: 0.9776 - val_loss: 0.6724 - val_acc: 0.8709\n",
            "Epoch 26/100\n",
            "2094/2094 [==============================] - 0s 139us/step - loss: 0.4374 - acc: 0.9733 - val_loss: 0.6475 - val_acc: 0.8974\n",
            "Epoch 27/100\n",
            "2094/2094 [==============================] - 0s 139us/step - loss: 0.4107 - acc: 0.9814 - val_loss: 0.6228 - val_acc: 0.8874\n",
            "Epoch 28/100\n",
            "2094/2094 [==============================] - 0s 141us/step - loss: 0.4031 - acc: 0.9828 - val_loss: 0.6205 - val_acc: 0.8974\n",
            "Epoch 29/100\n",
            "2094/2094 [==============================] - 0s 139us/step - loss: 0.3903 - acc: 0.9823 - val_loss: 0.6048 - val_acc: 0.8974\n",
            "Epoch 30/100\n",
            "2094/2094 [==============================] - 0s 139us/step - loss: 0.3809 - acc: 0.9809 - val_loss: 0.6394 - val_acc: 0.8709\n",
            "Epoch 31/100\n",
            "2094/2094 [==============================] - 0s 143us/step - loss: 0.4021 - acc: 0.9766 - val_loss: 0.5998 - val_acc: 0.9073\n",
            "Epoch 32/100\n",
            "2094/2094 [==============================] - 0s 145us/step - loss: 0.3721 - acc: 0.9833 - val_loss: 0.5837 - val_acc: 0.8808\n",
            "Epoch 33/100\n",
            "2094/2094 [==============================] - 0s 140us/step - loss: 0.3629 - acc: 0.9852 - val_loss: 0.6022 - val_acc: 0.8907\n",
            "Epoch 34/100\n",
            "2094/2094 [==============================] - 0s 140us/step - loss: 0.3703 - acc: 0.9847 - val_loss: 0.6011 - val_acc: 0.8808\n",
            "Epoch 35/100\n",
            "2094/2094 [==============================] - 0s 139us/step - loss: 0.3537 - acc: 0.9828 - val_loss: 0.6081 - val_acc: 0.8940\n",
            "Epoch 36/100\n",
            "2094/2094 [==============================] - 0s 141us/step - loss: 0.3542 - acc: 0.9814 - val_loss: 0.5987 - val_acc: 0.8775\n",
            "Epoch 37/100\n",
            "2094/2094 [==============================] - 0s 140us/step - loss: 0.3535 - acc: 0.9809 - val_loss: 0.5657 - val_acc: 0.9007\n",
            "Epoch 38/100\n",
            "2094/2094 [==============================] - 0s 139us/step - loss: 0.3313 - acc: 0.9838 - val_loss: 0.5669 - val_acc: 0.9007\n",
            "Epoch 39/100\n",
            "2094/2094 [==============================] - 0s 140us/step - loss: 0.3314 - acc: 0.9852 - val_loss: 0.5680 - val_acc: 0.8974\n",
            "Epoch 40/100\n",
            "2094/2094 [==============================] - 0s 140us/step - loss: 0.3273 - acc: 0.9866 - val_loss: 0.5582 - val_acc: 0.8974\n",
            "Epoch 41/100\n",
            "2094/2094 [==============================] - 0s 139us/step - loss: 0.3205 - acc: 0.9828 - val_loss: 0.5579 - val_acc: 0.8907\n",
            "Epoch 42/100\n",
            "2094/2094 [==============================] - 0s 138us/step - loss: 0.3127 - acc: 0.9847 - val_loss: 0.5345 - val_acc: 0.8974\n",
            "Epoch 43/100\n",
            "2094/2094 [==============================] - 0s 138us/step - loss: 0.3045 - acc: 0.9857 - val_loss: 0.5346 - val_acc: 0.8907\n",
            "Epoch 44/100\n",
            "2094/2094 [==============================] - 0s 140us/step - loss: 0.3008 - acc: 0.9842 - val_loss: 0.5678 - val_acc: 0.8940\n",
            "Epoch 45/100\n",
            "2094/2094 [==============================] - 0s 138us/step - loss: 0.3154 - acc: 0.9842 - val_loss: 0.5272 - val_acc: 0.8874\n",
            "Epoch 46/100\n",
            "2094/2094 [==============================] - 0s 139us/step - loss: 0.3013 - acc: 0.9847 - val_loss: 0.5317 - val_acc: 0.8841\n",
            "Epoch 47/100\n",
            "2094/2094 [==============================] - 0s 138us/step - loss: 0.3002 - acc: 0.9833 - val_loss: 0.5107 - val_acc: 0.9073\n",
            "Epoch 48/100\n",
            "2094/2094 [==============================] - 0s 140us/step - loss: 0.2918 - acc: 0.9828 - val_loss: 0.5099 - val_acc: 0.8974\n",
            "Epoch 49/100\n",
            "2094/2094 [==============================] - 0s 140us/step - loss: 0.2913 - acc: 0.9847 - val_loss: 0.5253 - val_acc: 0.9007\n",
            "Epoch 50/100\n",
            "2094/2094 [==============================] - 0s 139us/step - loss: 0.2891 - acc: 0.9823 - val_loss: 0.5249 - val_acc: 0.8907\n",
            "Epoch 51/100\n",
            "2094/2094 [==============================] - 0s 138us/step - loss: 0.2944 - acc: 0.9833 - val_loss: 0.4934 - val_acc: 0.9040\n",
            "Epoch 52/100\n",
            "2094/2094 [==============================] - 0s 141us/step - loss: 0.2744 - acc: 0.9862 - val_loss: 0.5052 - val_acc: 0.8907\n",
            "Epoch 53/100\n",
            "2094/2094 [==============================] - 0s 143us/step - loss: 0.2703 - acc: 0.9866 - val_loss: 0.5094 - val_acc: 0.8974\n",
            "Epoch 54/100\n",
            "2094/2094 [==============================] - 0s 139us/step - loss: 0.2760 - acc: 0.9866 - val_loss: 0.4978 - val_acc: 0.8974\n",
            "Epoch 55/100\n",
            "2094/2094 [==============================] - 0s 139us/step - loss: 0.2701 - acc: 0.9871 - val_loss: 0.5044 - val_acc: 0.8907\n",
            "Epoch 56/100\n",
            "2094/2094 [==============================] - 0s 143us/step - loss: 0.2744 - acc: 0.9862 - val_loss: 0.5112 - val_acc: 0.9040\n"
          ],
          "name": "stdout"
        }
      ]
    },
    {
      "metadata": {
        "id": "OtGrA8RBKShg",
        "colab_type": "code",
        "colab": {}
      },
      "cell_type": "code",
      "source": [
        "model_path = 'emoint_model.h5'\n",
        "weight_path = 'emoint_weights.h5'\n",
        "\n",
        "model.save(model_path)\n",
        "model.save_weights(weight_path)"
      ],
      "execution_count": 0,
      "outputs": []
    },
    {
      "metadata": {
        "id": "eFzd1urtKeFw",
        "colab_type": "code",
        "outputId": "a2384d66-625a-4923-aa99-f8e493ea406f",
        "colab": {
          "base_uri": "https://localhost:8080/",
          "height": 170
        }
      },
      "cell_type": "code",
      "source": [
        "!ls -lah"
      ],
      "execution_count": 63,
      "outputs": [
        {
          "output_type": "stream",
          "text": [
            "total 1.6G\n",
            "drwxr-xr-x 1 root root 4.0K Oct 19 09:12 .\n",
            "drwxr-xr-x 1 root root 4.0K Oct 19 08:37 ..\n",
            "-rw-r--r-- 1 root root 2.5K Oct 19 08:42 adc.json\n",
            "drwxr-xr-x 1 root root 4.0K Oct 19 08:42 .config\n",
            "-rw-r--r-- 1 root root  21M Oct 19 09:22 emoint_model.h5\n",
            "-rw-r--r-- 1 root root  11M Oct 19 09:22 emoint_weights.h5\n",
            "-rw-r--r-- 1 root root 1.6G Oct 19 08:42 GoogleNews-vectors-negative300.bin.gz\n",
            "drwxr-xr-x 2 root root 4.0K Oct 17 17:44 sample_data\n"
          ],
          "name": "stdout"
        }
      ]
    },
    {
      "metadata": {
        "id": "85MiexxMK8zd",
        "colab_type": "code",
        "colab": {}
      },
      "cell_type": "code",
      "source": [
        "model_file = drive.CreateFile({'title': model_path})\n",
        "model_file.SetContentFile(model_path)\n",
        "model_file.Upload()\n",
        "\n",
        "weight_file = drive.CreateFile({'title': weight_path})\n",
        "weight_file.SetContentFile(weight_path)\n",
        "weight_file.Upload()"
      ],
      "execution_count": 0,
      "outputs": []
    },
    {
      "metadata": {
        "id": "b0P0vTv-7RC6",
        "colab_type": "code",
        "colab": {}
      },
      "cell_type": "code",
      "source": [
        "sequences_test=tokenizer.texts_to_sequences(test_data.text)\n",
        "X_test = pad_sequences(sequences_test, maxlen=X_test.shape[1])\n",
        "y_pred = model.predict(X_test)"
      ],
      "execution_count": 0,
      "outputs": []
    },
    {
      "metadata": {
        "id": "IgHlDfC_-rS5",
        "colab_type": "code",
        "outputId": "4412ef6f-317e-44c8-9db4-1bfa16b0cbdb",
        "colab": {
          "base_uri": "https://localhost:8080/",
          "height": 34
        }
      },
      "cell_type": "code",
      "source": [
        "history.history.keys()"
      ],
      "execution_count": 66,
      "outputs": [
        {
          "output_type": "execute_result",
          "data": {
            "text/plain": [
              "dict_keys(['val_loss', 'val_acc', 'loss', 'acc'])"
            ]
          },
          "metadata": {
            "tags": []
          },
          "execution_count": 66
        }
      ]
    },
    {
      "metadata": {
        "id": "-JaFoS4u_pwS",
        "colab_type": "code",
        "colab": {}
      },
      "cell_type": "code",
      "source": [
        "y_pred_original = [labels[val] for val in np.argmax(y_pred, axis=1).squeeze()]\n",
        "y_test_original = np.asarray(test_data.emotion)"
      ],
      "execution_count": 0,
      "outputs": []
    },
    {
      "metadata": {
        "id": "BREyqdCAI9d0",
        "colab_type": "code",
        "colab": {}
      },
      "cell_type": "code",
      "source": [
        "def print_confusion_matrix(confusion_matrix, class_names, figsize = (4,3), fontsize=15):\n",
        "    \"\"\"Prints a confusion matrix, as returned by sklearn.metrics.confusion_matrix, as a heatmap.\n",
        "    \n",
        "    Arguments\n",
        "    ---------\n",
        "    confusion_matrix: numpy.ndarray\n",
        "        The numpy.ndarray object returned from a call to sklearn.metrics.confusion_matrix. \n",
        "        Similarly constructed ndarrays can also be used.\n",
        "    class_names: list\n",
        "        An ordered list of class names, in the order they index the given confusion matrix.\n",
        "    figsize: tuple\n",
        "        A 2-long tuple, the first value determining the horizontal size of the ouputted figure,\n",
        "        the second determining the vertical size. Defaults to (10,7).\n",
        "    fontsize: int\n",
        "        Font size for axes labels. Defaults to 14.\n",
        "        \n",
        "    Returns\n",
        "    -------\n",
        "    matplotlib.figure.Figure\n",
        "        The resulting confusion matrix figure\n",
        "    \"\"\"\n",
        "    df_cm = pd.DataFrame(\n",
        "        confusion_matrix, index=class_names, columns=class_names, \n",
        "    )\n",
        "    fig = plt.figure(figsize=figsize)\n",
        "    try:\n",
        "        heatmap = sns.heatmap(df_cm, annot=True, fmt=\"d\")\n",
        "    except ValueError:\n",
        "        raise ValueError(\"Confusion matrix values must be integers.\")\n",
        "    heatmap.yaxis.set_ticklabels(heatmap.yaxis.get_ticklabels(), rotation=0, ha='right', fontsize=fontsize)\n",
        "    heatmap.xaxis.set_ticklabels(heatmap.xaxis.get_ticklabels(), rotation=45, ha='right', fontsize=fontsize)\n",
        "    plt.ylabel('True label')\n",
        "    plt.xlabel('Predicted label')\n",
        "    return fig"
      ],
      "execution_count": 0,
      "outputs": []
    },
    {
      "metadata": {
        "id": "XG9HPQb10TZm",
        "colab_type": "code",
        "outputId": "ec5b6078-e718-45f2-ee23-06f3eaa3f9de",
        "colab": {
          "base_uri": "https://localhost:8080/",
          "height": 173
        }
      },
      "cell_type": "code",
      "source": [
        "cf_matrix = confusion_matrix(y_test_original, y_pred_original, labels=labels)\n",
        "\n",
        "df_cm = pd.DataFrame(\n",
        "    cf_matrix, index=labels, columns=labels, \n",
        ")\n",
        "\n",
        "df_cm"
      ],
      "execution_count": 69,
      "outputs": [
        {
          "output_type": "execute_result",
          "data": {
            "text/html": [
              "<div>\n",
              "<style scoped>\n",
              "    .dataframe tbody tr th:only-of-type {\n",
              "        vertical-align: middle;\n",
              "    }\n",
              "\n",
              "    .dataframe tbody tr th {\n",
              "        vertical-align: top;\n",
              "    }\n",
              "\n",
              "    .dataframe thead th {\n",
              "        text-align: right;\n",
              "    }\n",
              "</style>\n",
              "<table border=\"1\" class=\"dataframe\">\n",
              "  <thead>\n",
              "    <tr style=\"text-align: right;\">\n",
              "      <th></th>\n",
              "      <th>anger</th>\n",
              "      <th>fear</th>\n",
              "      <th>joy</th>\n",
              "      <th>sadness</th>\n",
              "    </tr>\n",
              "  </thead>\n",
              "  <tbody>\n",
              "    <tr>\n",
              "      <th>anger</th>\n",
              "      <td>586</td>\n",
              "      <td>31</td>\n",
              "      <td>10</td>\n",
              "      <td>41</td>\n",
              "    </tr>\n",
              "    <tr>\n",
              "      <th>fear</th>\n",
              "      <td>59</td>\n",
              "      <td>660</td>\n",
              "      <td>11</td>\n",
              "      <td>87</td>\n",
              "    </tr>\n",
              "    <tr>\n",
              "      <th>joy</th>\n",
              "      <td>15</td>\n",
              "      <td>15</td>\n",
              "      <td>522</td>\n",
              "      <td>21</td>\n",
              "    </tr>\n",
              "    <tr>\n",
              "      <th>sadness</th>\n",
              "      <td>42</td>\n",
              "      <td>27</td>\n",
              "      <td>6</td>\n",
              "      <td>471</td>\n",
              "    </tr>\n",
              "  </tbody>\n",
              "</table>\n",
              "</div>"
            ],
            "text/plain": [
              "         anger  fear  joy  sadness\n",
              "anger      586    31   10       41\n",
              "fear        59   660   11       87\n",
              "joy         15    15  522       21\n",
              "sadness     42    27    6      471"
            ]
          },
          "metadata": {
            "tags": []
          },
          "execution_count": 69
        }
      ]
    },
    {
      "metadata": {
        "id": "59xnXmbEAKXy",
        "colab_type": "code",
        "outputId": "a97f8be9-a0ab-4468-a4bb-3a22cb65cb66",
        "colab": {
          "base_uri": "https://localhost:8080/",
          "height": 281
        }
      },
      "cell_type": "code",
      "source": [
        "print(print_confusion_matrix(cf_matrix, class_names=labels))"
      ],
      "execution_count": 70,
      "outputs": [
        {
          "output_type": "stream",
          "text": [
            "Figure(288x216)\n"
          ],
          "name": "stdout"
        },
        {
          "output_type": "display_data",
          "data": {
            "image/png": "[encoded data removed]",
            "text/plain": [
              "<matplotlib.figure.Figure at 0x7f45feb3fb70>"
            ]
          },
          "metadata": {
            "tags": []
          }
        }
      ]
    },
    {
      "metadata": {
        "id": "9XE5c4LJEZXy",
        "colab_type": "code",
        "outputId": "d37cdce3-458f-43c0-acd7-ffb4156fdd6e",
        "colab": {
          "base_uri": "https://localhost:8080/",
          "height": 34
        }
      },
      "cell_type": "code",
      "source": [
        "test_accuracy = accuracy_score(y_test_original, y_pred_original)\n",
        "print(\"test accuracy:\", test_accuracy)"
      ],
      "execution_count": 71,
      "outputs": [
        {
          "output_type": "stream",
          "text": [
            "test accuracy: 0.8598310291858678\n"
          ],
          "name": "stdout"
        }
      ]
    },
    {
      "metadata": {
        "id": "jAISNDCVwvR7",
        "colab_type": "text"
      },
      "cell_type": "markdown",
      "source": [
        "### Performance score for each classes"
      ]
    },
    {
      "metadata": {
        "id": "iFb9Q6A1DcXi",
        "colab_type": "code",
        "outputId": "cd74d0a3-ce59-472b-c34f-893316186f8c",
        "colab": {
          "base_uri": "https://localhost:8080/",
          "height": 173
        }
      },
      "cell_type": "code",
      "source": [
        "precision, recall, fscore, support = precision_recall_fscore_support(y_test_original, y_pred_original)\n",
        "score_dict = {\n",
        "  \"precision\": precision.round(4),\n",
        "  \"recall\": recall.round(4),\n",
        "  \"f1-score\": fscore.round(4),\n",
        "  \"support\": support.round(4)\n",
        "}\n",
        "score_df = pd.DataFrame(score_dict, index=labels)\n",
        "score_df"
      ],
      "execution_count": 72,
      "outputs": [
        {
          "output_type": "execute_result",
          "data": {
            "text/html": [
              "<div>\n",
              "<style scoped>\n",
              "    .dataframe tbody tr th:only-of-type {\n",
              "        vertical-align: middle;\n",
              "    }\n",
              "\n",
              "    .dataframe tbody tr th {\n",
              "        vertical-align: top;\n",
              "    }\n",
              "\n",
              "    .dataframe thead th {\n",
              "        text-align: right;\n",
              "    }\n",
              "</style>\n",
              "<table border=\"1\" class=\"dataframe\">\n",
              "  <thead>\n",
              "    <tr style=\"text-align: right;\">\n",
              "      <th></th>\n",
              "      <th>f1-score</th>\n",
              "      <th>precision</th>\n",
              "      <th>recall</th>\n",
              "      <th>support</th>\n",
              "    </tr>\n",
              "  </thead>\n",
              "  <tbody>\n",
              "    <tr>\n",
              "      <th>anger</th>\n",
              "      <td>0.8555</td>\n",
              "      <td>0.8348</td>\n",
              "      <td>0.8772</td>\n",
              "      <td>668</td>\n",
              "    </tr>\n",
              "    <tr>\n",
              "      <th>fear</th>\n",
              "      <td>0.8516</td>\n",
              "      <td>0.9004</td>\n",
              "      <td>0.8078</td>\n",
              "      <td>817</td>\n",
              "    </tr>\n",
              "    <tr>\n",
              "      <th>joy</th>\n",
              "      <td>0.9305</td>\n",
              "      <td>0.9508</td>\n",
              "      <td>0.9110</td>\n",
              "      <td>573</td>\n",
              "    </tr>\n",
              "    <tr>\n",
              "      <th>sadness</th>\n",
              "      <td>0.8079</td>\n",
              "      <td>0.7597</td>\n",
              "      <td>0.8626</td>\n",
              "      <td>546</td>\n",
              "    </tr>\n",
              "  </tbody>\n",
              "</table>\n",
              "</div>"
            ],
            "text/plain": [
              "         f1-score  precision  recall  support\n",
              "anger      0.8555     0.8348  0.8772      668\n",
              "fear       0.8516     0.9004  0.8078      817\n",
              "joy        0.9305     0.9508  0.9110      573\n",
              "sadness    0.8079     0.7597  0.8626      546"
            ]
          },
          "metadata": {
            "tags": []
          },
          "execution_count": 72
        }
      ]
    },
    {
      "metadata": {
        "id": "cHi1Gw7Oz1zG",
        "colab_type": "text"
      },
      "cell_type": "markdown",
      "source": [
        "### Performance score using micro average"
      ]
    },
    {
      "metadata": {
        "id": "KP69PDE9D_jz",
        "colab_type": "code",
        "outputId": "9912afb5-cb78-41bb-f314-7f87858bd0c1",
        "colab": {
          "base_uri": "https://localhost:8080/",
          "height": 80
        }
      },
      "cell_type": "code",
      "source": [
        "precision, recall, fscore, support = precision_recall_fscore_support(y_test_original, y_pred_original, average=\"micro\")\n",
        "score_dict = {\n",
        "  \"precision\": precision.round(4),\n",
        "  \"recall\": recall.round(4),\n",
        "  \"f1-score\": fscore.round(4),\n",
        "  \"support\": support\n",
        "}\n",
        "score_df = pd.DataFrame(score_dict, index=[\"score\"])\n",
        "score_df"
      ],
      "execution_count": 73,
      "outputs": [
        {
          "output_type": "execute_result",
          "data": {
            "text/html": [
              "<div>\n",
              "<style scoped>\n",
              "    .dataframe tbody tr th:only-of-type {\n",
              "        vertical-align: middle;\n",
              "    }\n",
              "\n",
              "    .dataframe tbody tr th {\n",
              "        vertical-align: top;\n",
              "    }\n",
              "\n",
              "    .dataframe thead th {\n",
              "        text-align: right;\n",
              "    }\n",
              "</style>\n",
              "<table border=\"1\" class=\"dataframe\">\n",
              "  <thead>\n",
              "    <tr style=\"text-align: right;\">\n",
              "      <th></th>\n",
              "      <th>f1-score</th>\n",
              "      <th>precision</th>\n",
              "      <th>recall</th>\n",
              "      <th>support</th>\n",
              "    </tr>\n",
              "  </thead>\n",
              "  <tbody>\n",
              "    <tr>\n",
              "      <th>score</th>\n",
              "      <td>0.8598</td>\n",
              "      <td>0.8598</td>\n",
              "      <td>0.8598</td>\n",
              "      <td>None</td>\n",
              "    </tr>\n",
              "  </tbody>\n",
              "</table>\n",
              "</div>"
            ],
            "text/plain": [
              "       f1-score  precision  recall support\n",
              "score    0.8598     0.8598  0.8598    None"
            ]
          },
          "metadata": {
            "tags": []
          },
          "execution_count": 73
        }
      ]
    },
    {
      "metadata": {
        "id": "IWXNCktiz8Vb",
        "colab_type": "text"
      },
      "cell_type": "markdown",
      "source": [
        "### Performance score using macro average"
      ]
    },
    {
      "metadata": {
        "id": "g4e0vsNIydDs",
        "colab_type": "code",
        "outputId": "ca9ddf7b-9c9f-47bc-98d6-3ef81d5a459f",
        "colab": {
          "base_uri": "https://localhost:8080/",
          "height": 80
        }
      },
      "cell_type": "code",
      "source": [
        "precision, recall, fscore, support = precision_recall_fscore_support(y_test_original, y_pred_original, average=\"macro\")\n",
        "score_dict = {\n",
        "  \"precision\": precision.round(4),\n",
        "  \"recall\": recall.round(4),\n",
        "  \"f1-score\": fscore.round(4),\n",
        "  \"support\": support\n",
        "}\n",
        "score_df = pd.DataFrame(score_dict, index=[\"score\"])\n",
        "score_df"
      ],
      "execution_count": 74,
      "outputs": [
        {
          "output_type": "execute_result",
          "data": {
            "text/html": [
              "<div>\n",
              "<style scoped>\n",
              "    .dataframe tbody tr th:only-of-type {\n",
              "        vertical-align: middle;\n",
              "    }\n",
              "\n",
              "    .dataframe tbody tr th {\n",
              "        vertical-align: top;\n",
              "    }\n",
              "\n",
              "    .dataframe thead th {\n",
              "        text-align: right;\n",
              "    }\n",
              "</style>\n",
              "<table border=\"1\" class=\"dataframe\">\n",
              "  <thead>\n",
              "    <tr style=\"text-align: right;\">\n",
              "      <th></th>\n",
              "      <th>f1-score</th>\n",
              "      <th>precision</th>\n",
              "      <th>recall</th>\n",
              "      <th>support</th>\n",
              "    </tr>\n",
              "  </thead>\n",
              "  <tbody>\n",
              "    <tr>\n",
              "      <th>score</th>\n",
              "      <td>0.8614</td>\n",
              "      <td>0.8614</td>\n",
              "      <td>0.8647</td>\n",
              "      <td>None</td>\n",
              "    </tr>\n",
              "  </tbody>\n",
              "</table>\n",
              "</div>"
            ],
            "text/plain": [
              "       f1-score  precision  recall support\n",
              "score    0.8614     0.8614  0.8647    None"
            ]
          },
          "metadata": {
            "tags": []
          },
          "execution_count": 74
        }
      ]
    },
    {
      "metadata": {
        "id": "wFJFH7u6z-oG",
        "colab_type": "text"
      },
      "cell_type": "markdown",
      "source": [
        "### Performance score using weighted average"
      ]
    },
    {
      "metadata": {
        "id": "z99JkHjuzv68",
        "colab_type": "code",
        "outputId": "b0599318-0baa-4362-e7ef-24310557280e",
        "colab": {
          "base_uri": "https://localhost:8080/",
          "height": 80
        }
      },
      "cell_type": "code",
      "source": [
        "precision, recall, fscore, support = precision_recall_fscore_support(y_test_original, y_pred_original, average=\"weighted\")\n",
        "score_dict = {\n",
        "  \"precision\": precision.round(4),\n",
        "  \"recall\": recall.round(4),\n",
        "  \"f1-score\": fscore.round(4),\n",
        "  \"support\": support\n",
        "}\n",
        "score_df = pd.DataFrame(score_dict, index=[\"score\"])\n",
        "score_df"
      ],
      "execution_count": 75,
      "outputs": [
        {
          "output_type": "execute_result",
          "data": {
            "text/html": [
              "<div>\n",
              "<style scoped>\n",
              "    .dataframe tbody tr th:only-of-type {\n",
              "        vertical-align: middle;\n",
              "    }\n",
              "\n",
              "    .dataframe tbody tr th {\n",
              "        vertical-align: top;\n",
              "    }\n",
              "\n",
              "    .dataframe thead th {\n",
              "        text-align: right;\n",
              "    }\n",
              "</style>\n",
              "<table border=\"1\" class=\"dataframe\">\n",
              "  <thead>\n",
              "    <tr style=\"text-align: right;\">\n",
              "      <th></th>\n",
              "      <th>f1-score</th>\n",
              "      <th>precision</th>\n",
              "      <th>recall</th>\n",
              "      <th>support</th>\n",
              "    </tr>\n",
              "  </thead>\n",
              "  <tbody>\n",
              "    <tr>\n",
              "      <th>score</th>\n",
              "      <td>0.8608</td>\n",
              "      <td>0.8652</td>\n",
              "      <td>0.8598</td>\n",
              "      <td>None</td>\n",
              "    </tr>\n",
              "  </tbody>\n",
              "</table>\n",
              "</div>"
            ],
            "text/plain": [
              "       f1-score  precision  recall support\n",
              "score    0.8608     0.8652  0.8598    None"
            ]
          },
          "metadata": {
            "tags": []
          },
          "execution_count": 75
        }
      ]
    },
    {
      "metadata": {
        "id": "Y83dx5SyoBR8",
        "colab_type": "code",
        "colab": {}
      },
      "cell_type": "code",
      "source": [
        ""
      ],
      "execution_count": 0,
      "outputs": []
    }
  ]
}