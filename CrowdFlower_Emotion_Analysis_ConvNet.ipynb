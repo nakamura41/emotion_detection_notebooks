{
  "nbformat": 4,
  "nbformat_minor": 0,
  "metadata": {
    "colab": {
      "name": "CrowdFlower-Emotion-Analysis-ConvNet.ipynb",
      "version": "0.3.2",
      "provenance": [],
      "collapsed_sections": [],
      "include_colab_link": true
    },
    "kernelspec": {
      "name": "python3",
      "display_name": "Python 3"
    },
    "accelerator": "GPU"
  },
  "cells": [
    {
      "cell_type": "markdown",
      "metadata": {
        "id": "view-in-github",
        "colab_type": "text"
      },
      "source": [
        "[View in Colaboratory](https://colab.research.google.com/github/nakamura41/emotion_detection_notebooks/blob/master/CrowdFlower_Emotion_Analysis_ConvNet.ipynb)"
      ]
    },
    {
      "metadata": {
        "id": "wRzS3ihSifMc",
        "colab_type": "code",
        "colab": {
          "base_uri": "https://localhost:8080/",
          "height": 445
        },
        "outputId": "c6570724-643a-42cc-f1f2-7d83b5ee1c4b"
      },
      "cell_type": "code",
      "source": [
        "!pip install gensim\n",
        "!pip install -U -q PyDrive\n",
        "!pip install -U imbalanced-learn\n",
        "!pip install nltk"
      ],
      "execution_count": 2,
      "outputs": [
        {
          "output_type": "stream",
          "text": [
            "Requirement already satisfied: gensim in /usr/local/lib/python3.6/dist-packages (3.6.0)\n",
            "Requirement already satisfied: six>=1.5.0 in /usr/local/lib/python3.6/dist-packages (from gensim) (1.11.0)\n",
            "Requirement already satisfied: smart-open>=1.2.1 in /usr/local/lib/python3.6/dist-packages (from gensim) (1.7.1)\n",
            "Requirement already satisfied: scipy>=0.18.1 in /usr/local/lib/python3.6/dist-packages (from gensim) (0.19.1)\n",
            "Requirement already satisfied: numpy>=1.11.3 in /usr/local/lib/python3.6/dist-packages (from gensim) (1.14.6)\n",
            "Requirement already satisfied: boto3 in /usr/local/lib/python3.6/dist-packages (from smart-open>=1.2.1->gensim) (1.9.21)\n",
            "Requirement already satisfied: requests in /usr/local/lib/python3.6/dist-packages (from smart-open>=1.2.1->gensim) (2.18.4)\n",
            "Requirement already satisfied: boto>=2.32 in /usr/local/lib/python3.6/dist-packages (from smart-open>=1.2.1->gensim) (2.49.0)\n",
            "Requirement already satisfied: bz2file in /usr/local/lib/python3.6/dist-packages (from smart-open>=1.2.1->gensim) (0.98)\n",
            "Requirement already satisfied: jmespath<1.0.0,>=0.7.1 in /usr/local/lib/python3.6/dist-packages (from boto3->smart-open>=1.2.1->gensim) (0.9.3)\n",
            "Requirement already satisfied: s3transfer<0.2.0,>=0.1.10 in /usr/local/lib/python3.6/dist-packages (from boto3->smart-open>=1.2.1->gensim) (0.1.13)\n",
            "Requirement already satisfied: botocore<1.13.0,>=1.12.21 in /usr/local/lib/python3.6/dist-packages (from boto3->smart-open>=1.2.1->gensim) (1.12.21)\n",
            "Requirement already satisfied: chardet<3.1.0,>=3.0.2 in /usr/local/lib/python3.6/dist-packages (from requests->smart-open>=1.2.1->gensim) (3.0.4)\n",
            "Requirement already satisfied: idna<2.7,>=2.5 in /usr/local/lib/python3.6/dist-packages (from requests->smart-open>=1.2.1->gensim) (2.6)\n",
            "Requirement already satisfied: urllib3<1.23,>=1.21.1 in /usr/local/lib/python3.6/dist-packages (from requests->smart-open>=1.2.1->gensim) (1.22)\n",
            "Requirement already satisfied: certifi>=2017.4.17 in /usr/local/lib/python3.6/dist-packages (from requests->smart-open>=1.2.1->gensim) (2018.8.24)\n",
            "Requirement already satisfied: docutils>=0.10 in /usr/local/lib/python3.6/dist-packages (from botocore<1.13.0,>=1.12.21->boto3->smart-open>=1.2.1->gensim) (0.14)\n",
            "Requirement already satisfied: python-dateutil<3.0.0,>=2.1; python_version >= \"2.7\" in /usr/local/lib/python3.6/dist-packages (from botocore<1.13.0,>=1.12.21->boto3->smart-open>=1.2.1->gensim) (2.5.3)\n",
            "Requirement already up-to-date: imbalanced-learn in /usr/local/lib/python3.6/dist-packages (0.3.3)\n",
            "Requirement already satisfied, skipping upgrade: scipy in /usr/local/lib/python3.6/dist-packages (from imbalanced-learn) (0.19.1)\n",
            "Requirement already satisfied, skipping upgrade: scikit-learn in /usr/local/lib/python3.6/dist-packages (from imbalanced-learn) (0.19.2)\n",
            "Requirement already satisfied, skipping upgrade: numpy in /usr/local/lib/python3.6/dist-packages (from imbalanced-learn) (1.14.6)\n",
            "Requirement already satisfied: nltk in /usr/local/lib/python3.6/dist-packages (3.2.5)\n",
            "Requirement already satisfied: six in /usr/local/lib/python3.6/dist-packages (from nltk) (1.11.0)\n"
          ],
          "name": "stdout"
        }
      ]
    },
    {
      "metadata": {
        "id": "OdaHCMv2rGKs",
        "colab_type": "code",
        "colab": {
          "base_uri": "https://localhost:8080/",
          "height": 51
        },
        "outputId": "3932eee8-3f4a-4de0-e810-d0584b6ce7c7"
      },
      "cell_type": "code",
      "source": [
        "import os\n",
        "import tensorflow as tf\n",
        "from tensorflow import keras\n",
        "import numpy as np\n",
        "import urllib.request\n",
        "import pandas as pd\n",
        "from gensim.test.utils import common_texts, get_tmpfile\n",
        "from gensim.utils import simple_preprocess\n",
        "from gensim.models import Word2Vec\n",
        "from tempfile import gettempdir\n",
        "import zipfile\n",
        "from nltk.tokenize import TweetTokenizer\n",
        "from keras.preprocessing.text import Tokenizer\n",
        "from keras.preprocessing.sequence import pad_sequences\n",
        "from keras.utils import to_categorical\n",
        "from pydrive.auth import GoogleAuth\n",
        "from pydrive.drive import GoogleDrive\n",
        "from google.colab import auth\n",
        "from oauth2client.client import GoogleCredentials\n",
        "from sklearn.metrics import confusion_matrix, precision_recall_fscore_support, accuracy_score\n",
        "from sklearn.model_selection import train_test_split\n",
        "import matplotlib.pyplot as plt\n",
        "import seaborn as sns\n",
        "from imblearn.over_sampling import SMOTE, RandomOverSampler\n",
        "from collections import Counter\n",
        "\n",
        "RANDOM_STATE = 41\n",
        "\n",
        "print(tf.__version__)"
      ],
      "execution_count": 3,
      "outputs": [
        {
          "output_type": "stream",
          "text": [
            "Using TensorFlow backend.\n"
          ],
          "name": "stderr"
        },
        {
          "output_type": "stream",
          "text": [
            "1.11.0\n"
          ],
          "name": "stdout"
        }
      ]
    },
    {
      "metadata": {
        "id": "VMhX1N2k4SgY",
        "colab_type": "code",
        "colab": {}
      },
      "cell_type": "code",
      "source": [
        "# 1. Authenticate and create the PyDrive client.\n",
        "auth.authenticate_user()\n",
        "gauth = GoogleAuth()\n",
        "gauth.credentials = GoogleCredentials.get_application_default()\n",
        "drive = GoogleDrive(gauth)"
      ],
      "execution_count": 0,
      "outputs": []
    },
    {
      "metadata": {
        "id": "6FJlfk614hrw",
        "colab_type": "code",
        "colab": {}
      },
      "cell_type": "code",
      "source": [
        "# download google drive file\n",
        "def download_drive_file(drive_directory, filename):\n",
        "  list_file_query = \"title='{}' and trashed=false\".format(drive_directory)\n",
        "  file_list = drive.ListFile({'q': list_file_query}).GetList()\n",
        "\n",
        "  if len(file_list) > 0:\n",
        "    directory_id = file_list[0]['id']\n",
        "\n",
        "    list_file_query = \"'{}' in parents\".format(directory_id)\n",
        "\n",
        "    file_list = drive.ListFile({'q': list_file_query}).GetList()\n",
        "    \n",
        "    file_id = None\n",
        "    for file1 in file_list:\n",
        "      if file1['title'] == filename:\n",
        "        print(\"downloading file {}\".format(file1['title']))\n",
        "        file1.GetContentFile(file1['title'])"
      ],
      "execution_count": 0,
      "outputs": []
    },
    {
      "metadata": {
        "id": "WPzDX7qc6eQx",
        "colab_type": "code",
        "colab": {}
      },
      "cell_type": "code",
      "source": [
        "# download_drive_file(\"Datasets\", \"GoogleNews-vectors-negative300.bin.gz\")\n",
        "download_drive_file(\"Datasets\", \"word2vec_twitter_model.bin\")"
      ],
      "execution_count": 0,
      "outputs": []
    },
    {
      "metadata": {
        "id": "xnY2L2-b6-ye",
        "colab_type": "code",
        "colab": {
          "base_uri": "https://localhost:8080/",
          "height": 34
        },
        "outputId": "63be5b71-3821-4330-ea67-b9d22be64388"
      },
      "cell_type": "code",
      "source": [
        "!ls"
      ],
      "execution_count": 7,
      "outputs": [
        {
          "output_type": "stream",
          "text": [
            "adc.json  sample_data  word2vec_twitter_model.bin\n"
          ],
          "name": "stdout"
        }
      ]
    },
    {
      "metadata": {
        "id": "uAFp4ExN8NaC",
        "colab_type": "code",
        "colab": {
          "base_uri": "https://localhost:8080/",
          "height": 68
        },
        "outputId": "7619a32a-d33c-4053-84be-168577fa7691"
      },
      "cell_type": "code",
      "source": [
        "!free"
      ],
      "execution_count": 8,
      "outputs": [
        {
          "output_type": "stream",
          "text": [
            "              total        used        free      shared  buff/cache   available\n",
            "Mem:       13335204      528564     5914192         828     6892448    12548084\n",
            "Swap:             0           0           0\n"
          ],
          "name": "stdout"
        }
      ]
    },
    {
      "metadata": {
        "id": "oBynQmEcrNAy",
        "colab_type": "code",
        "colab": {}
      },
      "cell_type": "code",
      "source": [
        "class CrowdFlowerDataset(object):\n",
        "  BASE_URL = \"https://www.crowdflower.com/wp-content/uploads/2016/07/text_emotion.csv\"\n",
        "  EMOTION_ORIGINAL_CLASSES = [\"anger\", \"boredom\", \"empty\", \"enthusiasm\", \"fun\", \"happiness\", \"hate\", \"love\", \"neutral\", \"relief\", \"sadness\", \"surprise\", \"worry\"]\n",
        "  EMOTION_CLASSES = [\"anger\", \"fear\", \"joy\", \"love\", \"neutral\", \"sadness\"]\n",
        "  EMOTION_CLASSES_DICT = {\"anger\": 0, \"fear\": 1, \"joy\": 2, \"love\": 3, \"neutral\": 4, \"sadness\": 5}\n",
        "  RANDOM_STATE = 41\n",
        "  \n",
        "  # based on Parrott's emotions group\n",
        "  EMOTION_MAPPING = {\n",
        "      \"anger\": \"anger\",\n",
        "      \"boredom\": \"sadness\",\n",
        "      \"empty\": \"sadness\",\n",
        "      \"enthusiasm\": \"joy\",\n",
        "      \"fun\": \"joy\",\n",
        "      \"happiness\": \"joy\",\n",
        "      \"hate\": \"anger\",\n",
        "      \"love\": \"love\",\n",
        "      \"neutral\": \"neutral\",\n",
        "      \"relief\": \"joy\",\n",
        "      \"sadness\": \"sadness\",\n",
        "      \"surprise\": \"joy\",\n",
        "      \"worry\": \"fear\"\n",
        "  }\n",
        "  \n",
        "  def get_classes(self):\n",
        "    return self.EMOTION_CLASSES\n",
        "  \n",
        "  def get_classes_dict(self):\n",
        "    return self.EMOTION_CLASSES_DICT\n",
        "  \n",
        "  def get_num_classes(self):\n",
        "    return len(self.EMOTION_CLASSES)\n",
        "\n",
        "  def __load_data_url(self, url):\n",
        "    df = pd.read_csv(url)\n",
        "    df[\"text\"] = df[\"content\"]\n",
        "    df[\"emotion\"] = df[\"sentiment\"]\n",
        "    # df = df[df.emotion != \"neutral\"]\n",
        "    return df[[\"text\", \"emotion\"]]\n",
        "  \n",
        "  def __emotion_mapping(self, data):\n",
        "    new_data = data\n",
        "    for emotion in self.EMOTION_ORIGINAL_CLASSES:\n",
        "      new_data.loc[data.emotion == emotion, \"emotion\"] = self.EMOTION_MAPPING[emotion]\n",
        "    return new_data\n",
        "    \n",
        "  def load_data(self):\n",
        "    train_data = None\n",
        "    test_data = None\n",
        "    \n",
        "    data = self.__load_data_url(self.BASE_URL)\n",
        "    data = self.__emotion_mapping(data)\n",
        "    \n",
        "    train_data, test_data = train_test_split(data, test_size=0.3, random_state=self.RANDOM_STATE, stratify=data[\"emotion\"].values)\n",
        "    return train_data, test_data"
      ],
      "execution_count": 0,
      "outputs": []
    },
    {
      "metadata": {
        "id": "Obaz_HS7uTNe",
        "colab_type": "code",
        "colab": {
          "base_uri": "https://localhost:8080/",
          "height": 396
        },
        "outputId": "b329567a-5485-44d5-fc97-8ee23868c1e4"
      },
      "cell_type": "code",
      "source": [
        "crowd_flower_dataset = CrowdFlowerDataset()\n",
        "train_data_original, test_data = crowd_flower_dataset.load_data()\n",
        "\n",
        "emotions = train_data_original.emotion.unique()\n",
        "dic = crowd_flower_dataset.get_classes_dict()\n",
        "labels = crowd_flower_dataset.get_classes()\n",
        "print(dic)\n",
        "print(labels)\n",
        "\n",
        "for emotion in labels:\n",
        "  train_data_original.loc[train_data_original.emotion == emotion, \"emotion_int\"] = dic[emotion]\n",
        "  test_data.loc[test_data.emotion == emotion, \"emotion_int\"] = dic[emotion]\n",
        "  \n",
        "num_bins = crowd_flower_dataset.get_num_classes()\n",
        "bins = [0,1,2,3,4,5,6]\n",
        "hist, _ = np.histogram(train_data_original[\"emotion_int\"], bins=bins)\n",
        "\n",
        "objects = crowd_flower_dataset.get_classes()\n",
        "y_pos = np.arange(len(objects))\n",
        "\n",
        "plt.bar(y_pos, hist, align='center', alpha=0.5)\n",
        "plt.xticks(y_pos, objects)\n",
        "plt.ylabel('Number')\n",
        "plt.title('Emotions')\n",
        " \n",
        "plt.show()"
      ],
      "execution_count": 10,
      "outputs": [
        {
          "output_type": "stream",
          "text": [
            "{'anger': 0, 'fear': 1, 'joy': 2, 'love': 3, 'neutral': 4, 'sadness': 5}\n",
            "['anger', 'fear', 'joy', 'love', 'neutral', 'sadness']\n"
          ],
          "name": "stdout"
        },
        {
          "output_type": "display_data",
          "data": {
            "image/png": "[encoded data removed]",
            "text/plain": [
              "<matplotlib.figure.Figure at 0x7f157a169898>"
            ]
          },
          "metadata": {
            "tags": []
          }
        }
      ]
    },
    {
      "metadata": {
        "id": "-mV3plCkwDGq",
        "colab_type": "text"
      },
      "cell_type": "markdown",
      "source": [
        "The training data is very imbalanced!"
      ]
    },
    {
      "metadata": {
        "id": "V_OC3qiUC8Lh",
        "colab_type": "code",
        "colab": {
          "base_uri": "https://localhost:8080/",
          "height": 68
        },
        "outputId": "e47d0d52-6f73-4197-ab6a-e5319f1380a9"
      },
      "cell_type": "code",
      "source": [
        "train_data, val_data = train_test_split(train_data_original, test_size=0.1, random_state=RANDOM_STATE, stratify=train_data_original[\"emotion\"].values)\n",
        "\n",
        "print('y_train {}'.format(Counter(train_data[\"emotion\"].values)))\n",
        "print('y_val {}'.format(Counter(val_data[\"emotion\"].values)))\n",
        "print('y_test {}'.format(Counter(test_data[\"emotion\"].values)))"
      ],
      "execution_count": 11,
      "outputs": [
        {
          "output_type": "stream",
          "text": [
            "y_train Counter({'joy': 7218, 'neutral': 5442, 'fear': 5329, 'sadness': 3888, 'love': 2420, 'anger': 903})\n",
            "y_val Counter({'joy': 802, 'neutral': 605, 'fear': 592, 'sadness': 432, 'love': 269, 'anger': 100})\n",
            "y_test Counter({'joy': 3437, 'neutral': 2591, 'fear': 2538, 'sadness': 1851, 'love': 1153, 'anger': 430})\n"
          ],
          "name": "stdout"
        }
      ]
    },
    {
      "metadata": {
        "id": "SgHNDMKoQjWR",
        "colab_type": "code",
        "colab": {
          "base_uri": "https://localhost:8080/",
          "height": 359
        },
        "outputId": "b290b9ca-6e08-44b8-f542-c0f08e389949"
      },
      "cell_type": "code",
      "source": [
        "pd.set_option('display.max_columns', None)\n",
        "pd.set_option('display.max_colwidth', -1)\n",
        "train_data[[\"text\", \"emotion\", \"emotion_int\"]].head(10)"
      ],
      "execution_count": 57,
      "outputs": [
        {
          "output_type": "execute_result",
          "data": {
            "text/html": [
              "<div>\n",
              "<style scoped>\n",
              "    .dataframe tbody tr th:only-of-type {\n",
              "        vertical-align: middle;\n",
              "    }\n",
              "\n",
              "    .dataframe tbody tr th {\n",
              "        vertical-align: top;\n",
              "    }\n",
              "\n",
              "    .dataframe thead th {\n",
              "        text-align: right;\n",
              "    }\n",
              "</style>\n",
              "<table border=\"1\" class=\"dataframe\">\n",
              "  <thead>\n",
              "    <tr style=\"text-align: right;\">\n",
              "      <th></th>\n",
              "      <th>text</th>\n",
              "      <th>emotion</th>\n",
              "      <th>emotion_int</th>\n",
              "    </tr>\n",
              "  </thead>\n",
              "  <tbody>\n",
              "    <tr>\n",
              "      <th>32762</th>\n",
              "      <td>wants @jubliantJO to come back online so that he can talk about all the gossip and horrible things which transpired today.</td>\n",
              "      <td>joy</td>\n",
              "      <td>2.0</td>\n",
              "    </tr>\n",
              "    <tr>\n",
              "      <th>36029</th>\n",
              "      <td>Happy Mother's Day - Happy Motherï¿½s Day  http://tumblr.com/xnx1qyn0j</td>\n",
              "      <td>neutral</td>\n",
              "      <td>4.0</td>\n",
              "    </tr>\n",
              "    <tr>\n",
              "      <th>9142</th>\n",
              "      <td>@JermSorensen yeah. She's screwed. $3000 in new tires, new turbo, and maint, paid it off, and now she'll get almost nothing.</td>\n",
              "      <td>joy</td>\n",
              "      <td>2.0</td>\n",
              "    </tr>\n",
              "    <tr>\n",
              "      <th>33465</th>\n",
              "      <td>@DrMeredithGrey i think she'll pull through.</td>\n",
              "      <td>fear</td>\n",
              "      <td>1.0</td>\n",
              "    </tr>\n",
              "    <tr>\n",
              "      <th>30316</th>\n",
              "      <td>@dosjon NOPE.  It's been years since it's happened like this.</td>\n",
              "      <td>neutral</td>\n",
              "      <td>4.0</td>\n",
              "    </tr>\n",
              "    <tr>\n",
              "      <th>34835</th>\n",
              "      <td>@robyn3890 it was way worse than that ...and where were you why didnt you say hello?</td>\n",
              "      <td>fear</td>\n",
              "      <td>1.0</td>\n",
              "    </tr>\n",
              "    <tr>\n",
              "      <th>31771</th>\n",
              "      <td>I'm going to go check out DJ Volt.</td>\n",
              "      <td>joy</td>\n",
              "      <td>2.0</td>\n",
              "    </tr>\n",
              "    <tr>\n",
              "      <th>38860</th>\n",
              "      <td>@cydonian why? i enjoy fancy meals on my own smtimes, thr's joy in solitude, u can REALLY enjoy the food &amp;amp; it's lk a date with the world</td>\n",
              "      <td>joy</td>\n",
              "      <td>2.0</td>\n",
              "    </tr>\n",
              "    <tr>\n",
              "      <th>37322</th>\n",
              "      <td>Its sunday morning and birds are chirping. Hoping for the best and praying that its the best.</td>\n",
              "      <td>joy</td>\n",
              "      <td>2.0</td>\n",
              "    </tr>\n",
              "    <tr>\n",
              "      <th>4356</th>\n",
              "      <td>Im sure the 5 ppl who came in after me will be seen by a dentist before I will</td>\n",
              "      <td>anger</td>\n",
              "      <td>0.0</td>\n",
              "    </tr>\n",
              "  </tbody>\n",
              "</table>\n",
              "</div>"
            ],
            "text/plain": [
              "                                                                                                                                               text  \\\n",
              "32762  wants @jubliantJO to come back online so that he can talk about all the gossip and horrible things which transpired today.                     \n",
              "36029  Happy Mother's Day - Happy Motherï¿½s Day  http://tumblr.com/xnx1qyn0j                                                                         \n",
              "9142   @JermSorensen yeah. She's screwed. $3000 in new tires, new turbo, and maint, paid it off, and now she'll get almost nothing.                   \n",
              "33465  @DrMeredithGrey i think she'll pull through.                                                                                                   \n",
              "30316  @dosjon NOPE.  It's been years since it's happened like this.                                                                                  \n",
              "34835  @robyn3890 it was way worse than that ...and where were you why didnt you say hello?                                                           \n",
              "31771  I'm going to go check out DJ Volt.                                                                                                             \n",
              "38860  @cydonian why? i enjoy fancy meals on my own smtimes, thr's joy in solitude, u can REALLY enjoy the food &amp; it's lk a date with the world   \n",
              "37322  Its sunday morning and birds are chirping. Hoping for the best and praying that its the best.                                                  \n",
              "4356   Im sure the 5 ppl who came in after me will be seen by a dentist before I will                                                                 \n",
              "\n",
              "       emotion  emotion_int  \n",
              "32762  joy      2.0          \n",
              "36029  neutral  4.0          \n",
              "9142   joy      2.0          \n",
              "33465  fear     1.0          \n",
              "30316  neutral  4.0          \n",
              "34835  fear     1.0          \n",
              "31771  joy      2.0          \n",
              "38860  joy      2.0          \n",
              "37322  joy      2.0          \n",
              "4356   anger    0.0          "
            ]
          },
          "metadata": {
            "tags": []
          },
          "execution_count": 57
        }
      ]
    },
    {
      "metadata": {
        "id": "YJdxyPflwIhm",
        "colab_type": "text"
      },
      "cell_type": "markdown",
      "source": [
        "### Tokenize training and test dataset"
      ]
    },
    {
      "metadata": {
        "id": "0OrDKpx7GDaz",
        "colab_type": "code",
        "colab": {}
      },
      "cell_type": "code",
      "source": [
        "NUM_WORDS=60000\n",
        "texts = train_data[\"text\"].values"
      ],
      "execution_count": 0,
      "outputs": []
    },
    {
      "metadata": {
        "id": "R8IU95VXE17e",
        "colab_type": "code",
        "colab": {}
      },
      "cell_type": "code",
      "source": [
        "from collections import OrderedDict\n",
        "from collections import defaultdict\n",
        "from nltk.tokenize import TweetTokenizer\n",
        "\n",
        "\n",
        "class CustomTweetTokenizer(object):\n",
        "  \n",
        "    def __init__(self, num_words=None,\n",
        "                 filters='!\"$%&()*+,-./:;<=>?[\\\\]^_`{|}~\\t\\n',\n",
        "                 lower=True,\n",
        "                 char_level=False,\n",
        "                 oov_token=None,\n",
        "                 document_count=0,\n",
        "                 **kwargs):\n",
        "        # Legacy support\n",
        "        if 'nb_words' in kwargs:\n",
        "            warnings.warn('The `nb_words` argument in `Tokenizer` '\n",
        "                          'has been renamed `num_words`.')\n",
        "            num_words = kwargs.pop('nb_words')\n",
        "        if kwargs:\n",
        "            raise TypeError('Unrecognized keyword arguments: ' + str(kwargs))\n",
        "\n",
        "        self.tokenizer = TweetTokenizer(reduce_len=True)\n",
        "        self.word_counts = OrderedDict()\n",
        "        self.filters = filters\n",
        "        self.word_docs = defaultdict(int)\n",
        "        self.lower = lower\n",
        "        self.num_words = num_words\n",
        "        self.document_count = document_count\n",
        "        self.char_level = char_level\n",
        "        self.oov_token = oov_token\n",
        "        self.index_docs = defaultdict(int)\n",
        "        self.word_index = dict()\n",
        "        self.index_word = dict()\n",
        "    \n",
        "    def text_to_word_sequence(self, text, filters='!\"$%&()*+,-./:;<=>?[\\\\]^_`{|}~\\t\\n', lower=True):\n",
        "        if lower:\n",
        "            text = text.lower()\n",
        "        tokens = self.tokenizer.tokenize(text)\n",
        "        # tokens = filter(lambda t: not t.startswith('@'), tokens)\n",
        "        # tokens = filter(lambda t: not t.startswith('#'), tokens)\n",
        "        tokens = filter(lambda t: not t.startswith('http'), tokens)\n",
        "        tokens = filter(lambda t: not t in list(c for c in filters), tokens)\n",
        "        return list(tokens)\n",
        "\n",
        "    def fit_on_texts(self, texts):\n",
        "        \"\"\"Updates internal vocabulary based on a list of texts.\n",
        "        In the case where texts contains lists,\n",
        "        we assume each entry of the lists to be a token.\n",
        "        Required before using `texts_to_sequences` or `texts_to_matrix`.\n",
        "        # Arguments\n",
        "            texts: can be a list of strings,\n",
        "                a generator of strings (for memory-efficiency),\n",
        "                or a list of list of strings.\n",
        "        \"\"\"\n",
        "        for text in texts:\n",
        "            self.document_count += 1\n",
        "            if self.char_level or isinstance(text, list):\n",
        "                if self.lower:\n",
        "                    if isinstance(text, list):\n",
        "                        text = [text_elem.lower() for text_elem in text]\n",
        "                    else:\n",
        "                        text = text.lower()\n",
        "                seq = text\n",
        "            else:\n",
        "                seq = self.text_to_word_sequence(text, self.filters, self.lower)\n",
        "            for w in seq:\n",
        "                if w in self.word_counts:\n",
        "                    self.word_counts[w] += 1\n",
        "                else:\n",
        "                    self.word_counts[w] = 1\n",
        "            for w in set(seq):\n",
        "                # In how many documents each word occurs\n",
        "                self.word_docs[w] += 1\n",
        "\n",
        "        wcounts = list(self.word_counts.items())\n",
        "        wcounts.sort(key=lambda x: x[1], reverse=True)\n",
        "        # forcing the oov_token to index 1 if it exists\n",
        "        if self.oov_token is None:\n",
        "            sorted_voc = []\n",
        "        else:\n",
        "            sorted_voc = [self.oov_token]\n",
        "        sorted_voc.extend(wc[0] for wc in wcounts)\n",
        "\n",
        "        # note that index 0 is reserved, never assigned to an existing word\n",
        "        self.word_index = dict(\n",
        "            list(zip(sorted_voc, list(range(1, len(sorted_voc) + 1)))))\n",
        "\n",
        "        self.index_word = dict((c, w) for w, c in self.word_index.items())\n",
        "\n",
        "        for w, c in list(self.word_docs.items()):\n",
        "            self.index_docs[self.word_index[w]] = c\n",
        "\n",
        "    def texts_to_sequences(self, texts):\n",
        "        \"\"\"Transforms each text in texts to a sequence of integers.\n",
        "        Only top \"num_words\" most frequent words will be taken into account.\n",
        "        Only words known by the tokenizer will be taken into account.\n",
        "        # Arguments\n",
        "            texts: A list of texts (strings).\n",
        "        # Returns\n",
        "            A list of sequences.\n",
        "        \"\"\"\n",
        "        return list(self.texts_to_sequences_generator(texts))\n",
        "\n",
        "    def texts_to_sequences_generator(self, texts):\n",
        "        \"\"\"Transforms each text in `texts` to a sequence of integers.\n",
        "        Each item in texts can also be a list,\n",
        "        in which case we assume each item of that list to be a token.\n",
        "        Only top \"num_words\" most frequent words will be taken into account.\n",
        "        Only words known by the tokenizer will be taken into account.\n",
        "        # Arguments\n",
        "            texts: A list of texts (strings).\n",
        "        # Yields\n",
        "            Yields individual sequences.\n",
        "        \"\"\"\n",
        "        num_words = self.num_words\n",
        "        oov_token_index = self.word_index.get(self.oov_token)\n",
        "        for text in texts:\n",
        "            if self.char_level or isinstance(text, list):\n",
        "                if self.lower:\n",
        "                    if isinstance(text, list):\n",
        "                        text = [text_elem.lower() for text_elem in text]\n",
        "                    else:\n",
        "                        text = text.lower()\n",
        "                seq = text\n",
        "            else:\n",
        "                seq = self.text_to_word_sequence(text, self.filters, self.lower)\n",
        "            vect = []\n",
        "            for w in seq:\n",
        "                i = self.word_index.get(w)\n",
        "                if i is not None:\n",
        "                    if num_words and i >= num_words:\n",
        "                        if oov_token_index is not None:\n",
        "                            vect.append(oov_token_index)\n",
        "                    else:\n",
        "                        vect.append(i)\n",
        "                elif self.oov_token is not None:\n",
        "                    vect.append(oov_token_index)\n",
        "            yield vect"
      ],
      "execution_count": 0,
      "outputs": []
    },
    {
      "metadata": {
        "id": "sRWCGG4S9S_9",
        "colab_type": "code",
        "colab": {
          "base_uri": "https://localhost:8080/",
          "height": 34
        },
        "outputId": "b6719662-77f5-42f1-b4d3-92e1737b5dbc"
      },
      "cell_type": "code",
      "source": [
        "NUM_WORDS=60000\n",
        "texts = train_data[\"text\"].values\n",
        "tokenizer = CustomTweetTokenizer(num_words=NUM_WORDS,filters='!\"$%&()*+,-./:;<=>?[\\\\]^_`{|}~\\t\\n',\n",
        "                      lower=True)\n",
        "tokenizer.fit_on_texts(texts)\n",
        "sequences_train = tokenizer.texts_to_sequences(texts)\n",
        "sequences_val = tokenizer.texts_to_sequences(val_data[\"text\"].values)\n",
        "sequences_test = tokenizer.texts_to_sequences(test_data[\"text\"].values)\n",
        "word_index = tokenizer.word_index\n",
        "print('Found %s unique tokens.' % len(word_index))"
      ],
      "execution_count": 64,
      "outputs": [
        {
          "output_type": "stream",
          "text": [
            "Found 35081 unique tokens.\n"
          ],
          "name": "stdout"
        }
      ]
    },
    {
      "metadata": {
        "id": "dXGrWpRfGds2",
        "colab_type": "code",
        "colab": {}
      },
      "cell_type": "code",
      "source": [
        "reverse_word_index = []\n",
        "for word in word_index:\n",
        "  reverse_word_index.append(word)"
      ],
      "execution_count": 0,
      "outputs": []
    },
    {
      "metadata": {
        "id": "ziArYEtpHdtp",
        "colab_type": "code",
        "colab": {
          "base_uri": "https://localhost:8080/",
          "height": 54
        },
        "outputId": "28c7ca0c-d4e7-412e-87b7-ba690a21fc33"
      },
      "cell_type": "code",
      "source": [
        "words = []\n",
        "for index in sequences_train[2]:\n",
        "  words.append(reverse_word_index[index - 1])\n",
        "print(words)"
      ],
      "execution_count": 67,
      "outputs": [
        {
          "output_type": "stream",
          "text": [
            "['@jermsorensen', 'yeah', \"she's\", 'screwed', '3000', 'in', 'new', 'tires', 'new', 'turbo', 'and', 'maint', 'paid', 'it', 'off', 'and', 'now', \"she'll\", 'get', 'almost', 'nothing']\n"
          ],
          "name": "stdout"
        }
      ]
    },
    {
      "metadata": {
        "id": "0ThyXUt0wYzz",
        "colab_type": "code",
        "colab": {
          "base_uri": "https://localhost:8080/",
          "height": 51
        },
        "outputId": "861e6750-0dfe-4792-edec-88929ba7e41d"
      },
      "cell_type": "code",
      "source": [
        "X_train_unbalanced = pad_sequences(sequences_train)\n",
        "X_val = pad_sequences(sequences_val, maxlen=X_train_unbalanced.shape[1])\n",
        "X_test = pad_sequences(sequences_test, maxlen=X_train_unbalanced.shape[1])\n",
        "\n",
        "y_train_unbalanced = np.asarray(train_data.emotion.apply(lambda x:dic[x]))\n",
        "y_val = np.asarray(val_data.emotion.apply(lambda x:dic[x]))\n",
        "y_test = np.asarray(test_data.emotion.apply(lambda x:dic[x]))\n",
        "\n",
        "print('Shape of X train, val and test tensor:', X_train_unbalanced.shape, X_val.shape, X_test.shape)\n",
        "print('Shape of label train, val and test tensor:', y_train_unbalanced.shape, y_val.shape, y_test.shape)"
      ],
      "execution_count": 68,
      "outputs": [
        {
          "output_type": "stream",
          "text": [
            "Shape of X train, val and test tensor: (25200, 51) (2800, 51) (12000, 51)\n",
            "Shape of label train, val and test tensor: (25200,) (2800,) (12000,)\n"
          ],
          "name": "stdout"
        }
      ]
    },
    {
      "metadata": {
        "id": "pPef2Zy8ffPZ",
        "colab_type": "text"
      },
      "cell_type": "markdown",
      "source": [
        "### Balance Training dataset using SMOTE"
      ]
    },
    {
      "metadata": {
        "id": "ErlhZPQWwYQ7",
        "colab_type": "code",
        "colab": {
          "base_uri": "https://localhost:8080/",
          "height": 68
        },
        "outputId": "62abd860-41cc-48a5-e05d-ad3841dc6537"
      },
      "cell_type": "code",
      "source": [
        "sm = SMOTE(random_state=RANDOM_STATE)\n",
        "X_train_smote, y_train_smote = sm.fit_sample(X_train_unbalanced, y_train_unbalanced)\n",
        "\n",
        "print('Shape of X train tensor which is balanced using SMOTE:', X_train_smote.shape)\n",
        "print('Original label shape {}'.format(Counter(y_train_unbalanced)))\n",
        "print('Resampled label shape {}'.format(Counter(y_train_smote)))"
      ],
      "execution_count": 69,
      "outputs": [
        {
          "output_type": "stream",
          "text": [
            "Shape of X train tensor which is balanced using SMOTE: (43308, 51)\n",
            "Original label shape Counter({2: 7218, 4: 5442, 1: 5329, 5: 3888, 3: 2420, 0: 903})\n",
            "Resampled label shape Counter({2: 7218, 4: 7218, 1: 7218, 0: 7218, 5: 7218, 3: 7218})\n"
          ],
          "name": "stdout"
        }
      ]
    },
    {
      "metadata": {
        "id": "iwlnNhNPC_tS",
        "colab_type": "text"
      },
      "cell_type": "markdown",
      "source": [
        "### Balance Training dataset using Random Over Sampler"
      ]
    },
    {
      "metadata": {
        "id": "GLE5qaubfeou",
        "colab_type": "code",
        "colab": {
          "base_uri": "https://localhost:8080/",
          "height": 68
        },
        "outputId": "65726ca7-d2f6-4d7a-8e70-c6936fc98ab2"
      },
      "cell_type": "code",
      "source": [
        "ros = RandomOverSampler(random_state=RANDOM_STATE)\n",
        "X_train_ros, y_train_ros = ros.fit_sample(X_train_unbalanced, y_train_unbalanced)\n",
        "\n",
        "print('Shape of X train tensor which is balanced using ROS:', X_train_ros.shape)\n",
        "print('Original label shape {}'.format(Counter(y_train_unbalanced)))\n",
        "print('Resampled label shape {}'.format(Counter(y_train_ros)))"
      ],
      "execution_count": 70,
      "outputs": [
        {
          "output_type": "stream",
          "text": [
            "Shape of X train tensor which is balanced using ROS: (43308, 51)\n",
            "Original label shape Counter({2: 7218, 4: 5442, 1: 5329, 5: 3888, 3: 2420, 0: 903})\n",
            "Resampled label shape Counter({2: 7218, 4: 7218, 1: 7218, 0: 7218, 5: 7218, 3: 7218})\n"
          ],
          "name": "stdout"
        }
      ]
    },
    {
      "metadata": {
        "id": "CwbMhHeecE9f",
        "colab_type": "code",
        "colab": {}
      },
      "cell_type": "code",
      "source": [
        "X_train = X_train_ros\n",
        "y_train = y_train_ros"
      ],
      "execution_count": 0,
      "outputs": []
    },
    {
      "metadata": {
        "id": "GnriMPVD81N5",
        "colab_type": "code",
        "colab": {
          "base_uri": "https://localhost:8080/",
          "height": 362
        },
        "outputId": "45a09d66-738f-4b99-82bd-8a43750abc5c"
      },
      "cell_type": "code",
      "source": [
        "hist, _ = np.histogram(y_train, bins=bins)\n",
        "\n",
        "y_pos = np.arange(len(objects))\n",
        "\n",
        "plt.bar(y_pos, hist, align='center', alpha=0.5)\n",
        "plt.xticks(y_pos, objects)\n",
        "plt.ylabel('Number')\n",
        "plt.title('Emotions')\n",
        " \n",
        "plt.show()"
      ],
      "execution_count": 72,
      "outputs": [
        {
          "output_type": "display_data",
          "data": {
            "image/png": "[encoded data removed]",
            "text/plain": [
              "<matplotlib.figure.Figure at 0x7f15767889b0>"
            ]
          },
          "metadata": {
            "tags": []
          }
        }
      ]
    },
    {
      "metadata": {
        "id": "NJCFKhSL-ClX",
        "colab_type": "code",
        "colab": {
          "base_uri": "https://localhost:8080/",
          "height": 362
        },
        "outputId": "74fc2aa2-95b1-43d3-c6ed-a966b20da1d0"
      },
      "cell_type": "code",
      "source": [
        "hist, _ = np.histogram(y_val, bins=bins)\n",
        "\n",
        "y_pos = np.arange(len(objects))\n",
        "\n",
        "plt.bar(y_pos, hist, align='center', alpha=0.5)\n",
        "plt.xticks(y_pos, objects)\n",
        "plt.ylabel('Number')\n",
        "plt.title('Emotions')\n",
        " \n",
        "plt.show()"
      ],
      "execution_count": 73,
      "outputs": [
        {
          "output_type": "display_data",
          "data": {
            "image/png": "[encoded data removed]",
            "text/plain": [
              "<matplotlib.figure.Figure at 0x7f1577091e80>"
            ]
          },
          "metadata": {
            "tags": []
          }
        }
      ]
    },
    {
      "metadata": {
        "id": "o239sc_L-FDK",
        "colab_type": "code",
        "colab": {
          "base_uri": "https://localhost:8080/",
          "height": 362
        },
        "outputId": "282cb51c-a048-497c-e45c-0e474229ebc8"
      },
      "cell_type": "code",
      "source": [
        "hist, _ = np.histogram(y_test, bins=bins)\n",
        "\n",
        "y_pos = np.arange(len(objects))\n",
        "\n",
        "plt.bar(y_pos, hist, align='center', alpha=0.5)\n",
        "plt.xticks(y_pos, objects)\n",
        "plt.ylabel('Number')\n",
        "plt.title('Emotions')\n",
        " \n",
        "plt.show()"
      ],
      "execution_count": 74,
      "outputs": [
        {
          "output_type": "display_data",
          "data": {
            "image/png": "[encoded data removed]",
            "text/plain": [
              "<matplotlib.figure.Figure at 0x7f157a0d6668>"
            ]
          },
          "metadata": {
            "tags": []
          }
        }
      ]
    },
    {
      "metadata": {
        "id": "f3a8LX2z0Vn3",
        "colab_type": "code",
        "colab": {
          "base_uri": "https://localhost:8080/",
          "height": 51
        },
        "outputId": "fde620f6-0f37-4c1d-8e5a-abe7a79ac426"
      },
      "cell_type": "code",
      "source": [
        "y_train = to_categorical(y_train)\n",
        "y_val = to_categorical(y_val)\n",
        "y_test = to_categorical(y_test)\n",
        "\n",
        "print('Shape of X train, validation and test tensor:', X_train.shape, X_val.shape, X_test.shape)\n",
        "print('Shape of label train, validation and test tensor:', y_train.shape, y_val.shape, y_test.shape)"
      ],
      "execution_count": 75,
      "outputs": [
        {
          "output_type": "stream",
          "text": [
            "Shape of X train, validation and test tensor: (43308, 51) (2800, 51) (12000, 51)\n",
            "Shape of label train, validation and test tensor: (43308, 6) (2800, 6) (12000, 6)\n"
          ],
          "name": "stdout"
        }
      ]
    },
    {
      "metadata": {
        "id": "naD_jPLlmlFq",
        "colab_type": "code",
        "colab": {}
      },
      "cell_type": "code",
      "source": [
        "import gensim\n",
        "from gensim.models import Word2Vec\n",
        "from gensim.utils import simple_preprocess\n",
        "\n",
        "from gensim.models.keyedvectors import KeyedVectors\n",
        "\n",
        "# word_vectors = KeyedVectors.load_word2vec_format('GoogleNews-vectors-negative300.bin.gz', binary=True)\n",
        "word_vectors = KeyedVectors.load_word2vec_format('word2vec_twitter_model.bin', binary=True, unicode_errors='ignore')"
      ],
      "execution_count": 0,
      "outputs": []
    },
    {
      "metadata": {
        "id": "B4J3vdcWfGf1",
        "colab_type": "code",
        "colab": {
          "base_uri": "https://localhost:8080/",
          "height": 51
        },
        "outputId": "09069148-27e8-4f69-d302-90831ff835e8"
      },
      "cell_type": "code",
      "source": [
        "EMBEDDING_DIM=400\n",
        "vocabulary_size = min(len(word_index)+1, NUM_WORDS)\n",
        "embedding_matrix = np.zeros((vocabulary_size, EMBEDDING_DIM))\n",
        "\n",
        "print(\"vocabulary_size:\", vocabulary_size)\n",
        "print(\"embedding_matrix shape:\", embedding_matrix.shape)"
      ],
      "execution_count": 77,
      "outputs": [
        {
          "output_type": "stream",
          "text": [
            "vocabulary_size: 35082\n",
            "embedding_matrix shape: (35082, 400)\n"
          ],
          "name": "stdout"
        }
      ]
    },
    {
      "metadata": {
        "id": "I2WEfompe2-e",
        "colab_type": "code",
        "colab": {}
      },
      "cell_type": "code",
      "source": [
        "for word, i in word_index.items():\n",
        "    if i>=NUM_WORDS:\n",
        "        continue\n",
        "    try:\n",
        "        embedding_vector = word_vectors[word]\n",
        "        embedding_matrix[i] = embedding_vector\n",
        "    except KeyError:\n",
        "        embedding_matrix[i] = np.random.normal(0,np.sqrt(0.25), EMBEDDING_DIM)\n",
        "\n",
        "del(word_vectors)\n",
        "\n",
        "from keras.layers import Embedding\n",
        "embedding_layer = Embedding(vocabulary_size,\n",
        "                            EMBEDDING_DIM,\n",
        "                            weights=[embedding_matrix],\n",
        "                            trainable=True)"
      ],
      "execution_count": 0,
      "outputs": []
    },
    {
      "metadata": {
        "id": "Q0fX0z7_7Mi5",
        "colab_type": "code",
        "colab": {
          "base_uri": "https://localhost:8080/",
          "height": 629
        },
        "outputId": "0abc9daf-f28e-4130-fa6c-dccecec4d2e9"
      },
      "cell_type": "code",
      "source": [
        "from keras.layers import Dense, Input, GlobalMaxPooling1D\n",
        "from keras.layers import Conv1D, MaxPooling1D, Embedding\n",
        "from keras.models import Model\n",
        "from keras.layers import Input, Dense, Embedding, Conv2D, MaxPooling2D, Dropout, concatenate, LSTM\n",
        "from keras.layers.core import Reshape, Flatten\n",
        "from keras.callbacks import EarlyStopping\n",
        "from keras.optimizers import Adam, Adadelta, RMSprop\n",
        "from keras.models import Model\n",
        "from keras import regularizers\n",
        "sequence_length = X_train.shape[1]\n",
        "filter_sizes = [3,4,5]\n",
        "num_filters = 100\n",
        "drop_rate = 0.5\n",
        "n_class = num_bins\n",
        "\n",
        "print(sequence_length)\n",
        "\n",
        "inputs = Input(shape=(sequence_length,), name='input_1')\n",
        "embedding = embedding_layer(inputs)\n",
        "reshape = Reshape((sequence_length, EMBEDDING_DIM, 1), name='reshape_1')(embedding)\n",
        "\n",
        "conv_1 = Conv2D(num_filters, (filter_sizes[0], EMBEDDING_DIM), activation='relu',kernel_regularizer=regularizers.l2(0.01), name='conv_1')(reshape)\n",
        "conv_2 = Conv2D(num_filters, (filter_sizes[1], EMBEDDING_DIM), activation='relu',kernel_regularizer=regularizers.l2(0.01), name='conv_2')(reshape)\n",
        "conv_3 = Conv2D(num_filters, (filter_sizes[2], EMBEDDING_DIM), activation='relu',kernel_regularizer=regularizers.l2(0.01), name='conv_3')(reshape)\n",
        "\n",
        "maxpool_1 = MaxPooling2D((sequence_length - filter_sizes[0] + 1, 1), strides=1, name='maxpool_1')(conv_1)\n",
        "maxpool_2 = MaxPooling2D((sequence_length - filter_sizes[1] + 1, 1), strides=1, name='maxpool_2')(conv_2)\n",
        "maxpool_3 = MaxPooling2D((sequence_length - filter_sizes[2] + 1, 1), strides=1, name='maxpool_3')(conv_3)\n",
        "\n",
        "merged_tensor = concatenate([maxpool_1, maxpool_2, maxpool_3], axis=1, name='concatenate_1')\n",
        "flatten = Flatten()(merged_tensor)\n",
        "dropout = Dropout(drop_rate, name='dropout_1')(flatten)\n",
        "output = Dense(units=n_class, activation='softmax',kernel_regularizer=regularizers.l2(0.01), name='dense_1')(dropout)\n",
        "\n",
        "# this creates a model that includes\n",
        "model = Model(inputs, output)\n",
        "\n",
        "model.summary()"
      ],
      "execution_count": 79,
      "outputs": [
        {
          "output_type": "stream",
          "text": [
            "51\n",
            "__________________________________________________________________________________________________\n",
            "Layer (type)                    Output Shape         Param #     Connected to                     \n",
            "==================================================================================================\n",
            "input_1 (InputLayer)            (None, 51)           0                                            \n",
            "__________________________________________________________________________________________________\n",
            "embedding_2 (Embedding)         (None, 51, 400)      14032800    input_1[0][0]                    \n",
            "__________________________________________________________________________________________________\n",
            "reshape_1 (Reshape)             (None, 51, 400, 1)   0           embedding_2[0][0]                \n",
            "__________________________________________________________________________________________________\n",
            "conv_1 (Conv2D)                 (None, 49, 1, 100)   120100      reshape_1[0][0]                  \n",
            "__________________________________________________________________________________________________\n",
            "conv_2 (Conv2D)                 (None, 48, 1, 100)   160100      reshape_1[0][0]                  \n",
            "__________________________________________________________________________________________________\n",
            "conv_3 (Conv2D)                 (None, 47, 1, 100)   200100      reshape_1[0][0]                  \n",
            "__________________________________________________________________________________________________\n",
            "maxpool_1 (MaxPooling2D)        (None, 1, 1, 100)    0           conv_1[0][0]                     \n",
            "__________________________________________________________________________________________________\n",
            "maxpool_2 (MaxPooling2D)        (None, 1, 1, 100)    0           conv_2[0][0]                     \n",
            "__________________________________________________________________________________________________\n",
            "maxpool_3 (MaxPooling2D)        (None, 1, 1, 100)    0           conv_3[0][0]                     \n",
            "__________________________________________________________________________________________________\n",
            "concatenate_1 (Concatenate)     (None, 3, 1, 100)    0           maxpool_1[0][0]                  \n",
            "                                                                 maxpool_2[0][0]                  \n",
            "                                                                 maxpool_3[0][0]                  \n",
            "__________________________________________________________________________________________________\n",
            "flatten_2 (Flatten)             (None, 300)          0           concatenate_1[0][0]              \n",
            "__________________________________________________________________________________________________\n",
            "dropout_1 (Dropout)             (None, 300)          0           flatten_2[0][0]                  \n",
            "__________________________________________________________________________________________________\n",
            "dense_1 (Dense)                 (None, 6)            1806        dropout_1[0][0]                  \n",
            "==================================================================================================\n",
            "Total params: 14,514,906\n",
            "Trainable params: 14,514,906\n",
            "Non-trainable params: 0\n",
            "__________________________________________________________________________________________________\n"
          ],
          "name": "stdout"
        }
      ]
    },
    {
      "metadata": {
        "id": "HHZ1POD77GRp",
        "colab_type": "code",
        "colab": {
          "base_uri": "https://localhost:8080/",
          "height": 272
        },
        "outputId": "16c7f78c-328b-4a96-fb19-08e188b8ac1b"
      },
      "cell_type": "code",
      "source": [
        "adam = Adam(lr=1e-3, decay=0.0)\n",
        "adadelta = Adadelta(lr=1.0, rho=0.95, epsilon=None, decay=0.0)\n",
        "rmsprop = RMSprop(lr=0.001, rho=0.9, epsilon=None, decay=0.0)\n",
        "\n",
        "model.compile(loss='categorical_crossentropy',\n",
        "              optimizer=adam,\n",
        "              metrics=['acc'])\n",
        "callbacks = [EarlyStopping(monitor='val_loss', patience=5)]\n",
        "history = model.fit(X_train, y_train, batch_size=1000, epochs=100, verbose=1, validation_data=(X_val, y_val), callbacks=callbacks)  # starts training"
      ],
      "execution_count": 80,
      "outputs": [
        {
          "output_type": "stream",
          "text": [
            "Train on 43308 samples, validate on 2800 samples\n",
            "Epoch 1/100\n",
            "43308/43308 [==============================] - 16s 359us/step - loss: 1.7544 - acc: 0.3931 - val_loss: 1.7811 - val_acc: 0.3750\n",
            "Epoch 2/100\n",
            "43308/43308 [==============================] - 11s 263us/step - loss: 1.5429 - acc: 0.5199 - val_loss: 1.7100 - val_acc: 0.4100\n",
            "Epoch 3/100\n",
            "43308/43308 [==============================] - 11s 265us/step - loss: 1.4338 - acc: 0.5729 - val_loss: 1.7269 - val_acc: 0.4068\n",
            "Epoch 4/100\n",
            "43308/43308 [==============================] - 11s 265us/step - loss: 1.3456 - acc: 0.6188 - val_loss: 1.7611 - val_acc: 0.3918\n",
            "Epoch 5/100\n",
            "43308/43308 [==============================] - 11s 265us/step - loss: 1.2627 - acc: 0.6668 - val_loss: 1.7673 - val_acc: 0.4089\n",
            "Epoch 6/100\n",
            "43308/43308 [==============================] - 11s 263us/step - loss: 1.1798 - acc: 0.7174 - val_loss: 1.8135 - val_acc: 0.3914\n",
            "Epoch 7/100\n",
            "43308/43308 [==============================] - 11s 264us/step - loss: 1.0978 - acc: 0.7646 - val_loss: 1.8552 - val_acc: 0.3975\n"
          ],
          "name": "stdout"
        }
      ]
    },
    {
      "metadata": {
        "id": "b0P0vTv-7RC6",
        "colab_type": "code",
        "colab": {}
      },
      "cell_type": "code",
      "source": [
        "sequences_test=tokenizer.texts_to_sequences(test_data.text)\n",
        "X_test = pad_sequences(sequences_test, maxlen=X_test.shape[1])\n",
        "y_pred = model.predict(X_test)"
      ],
      "execution_count": 0,
      "outputs": []
    },
    {
      "metadata": {
        "id": "IgHlDfC_-rS5",
        "colab_type": "code",
        "colab": {
          "base_uri": "https://localhost:8080/",
          "height": 34
        },
        "outputId": "5fb99ef4-d12f-474a-d7c6-22255f6df7b7"
      },
      "cell_type": "code",
      "source": [
        "history.history.keys()"
      ],
      "execution_count": 82,
      "outputs": [
        {
          "output_type": "execute_result",
          "data": {
            "text/plain": [
              "dict_keys(['val_loss', 'val_acc', 'loss', 'acc'])"
            ]
          },
          "metadata": {
            "tags": []
          },
          "execution_count": 82
        }
      ]
    },
    {
      "metadata": {
        "id": "-JaFoS4u_pwS",
        "colab_type": "code",
        "colab": {}
      },
      "cell_type": "code",
      "source": [
        "y_pred_original = [labels[val] for val in np.argmax(y_pred, axis=1).squeeze()]\n",
        "y_test_original = np.asarray(test_data.emotion)"
      ],
      "execution_count": 0,
      "outputs": []
    },
    {
      "metadata": {
        "id": "BREyqdCAI9d0",
        "colab_type": "code",
        "colab": {}
      },
      "cell_type": "code",
      "source": [
        "def print_confusion_matrix(confusion_matrix, class_names, figsize = (4,3), fontsize=15):\n",
        "    \"\"\"Prints a confusion matrix, as returned by sklearn.metrics.confusion_matrix, as a heatmap.\n",
        "    \n",
        "    Arguments\n",
        "    ---------\n",
        "    confusion_matrix: numpy.ndarray\n",
        "        The numpy.ndarray object returned from a call to sklearn.metrics.confusion_matrix. \n",
        "        Similarly constructed ndarrays can also be used.\n",
        "    class_names: list\n",
        "        An ordered list of class names, in the order they index the given confusion matrix.\n",
        "    figsize: tuple\n",
        "        A 2-long tuple, the first value determining the horizontal size of the ouputted figure,\n",
        "        the second determining the vertical size. Defaults to (10,7).\n",
        "    fontsize: int\n",
        "        Font size for axes labels. Defaults to 14.\n",
        "        \n",
        "    Returns\n",
        "    -------\n",
        "    matplotlib.figure.Figure\n",
        "        The resulting confusion matrix figure\n",
        "    \"\"\"\n",
        "    df_cm = pd.DataFrame(\n",
        "        confusion_matrix, index=class_names, columns=class_names, \n",
        "    )\n",
        "    fig = plt.figure(figsize=figsize)\n",
        "    try:\n",
        "        heatmap = sns.heatmap(df_cm, annot=True, fmt=\"d\")\n",
        "    except ValueError:\n",
        "        raise ValueError(\"Confusion matrix values must be integers.\")\n",
        "    heatmap.yaxis.set_ticklabels(heatmap.yaxis.get_ticklabels(), rotation=0, ha='right', fontsize=fontsize)\n",
        "    heatmap.xaxis.set_ticklabels(heatmap.xaxis.get_ticklabels(), rotation=45, ha='right', fontsize=fontsize)\n",
        "    plt.ylabel('True label')\n",
        "    plt.xlabel('Predicted label')\n",
        "    return fig"
      ],
      "execution_count": 0,
      "outputs": []
    },
    {
      "metadata": {
        "id": "XG9HPQb10TZm",
        "colab_type": "code",
        "colab": {
          "base_uri": "https://localhost:8080/",
          "height": 235
        },
        "outputId": "91118f62-df87-40ba-aa3f-56c65fc42a98"
      },
      "cell_type": "code",
      "source": [
        "cf_matrix = confusion_matrix(y_test_original, y_pred_original, labels=labels)\n",
        "\n",
        "df_cm = pd.DataFrame(\n",
        "    cf_matrix, index=labels, columns=labels, \n",
        ")\n",
        "\n",
        "df_cm"
      ],
      "execution_count": 85,
      "outputs": [
        {
          "output_type": "execute_result",
          "data": {
            "text/html": [
              "<div>\n",
              "<style scoped>\n",
              "    .dataframe tbody tr th:only-of-type {\n",
              "        vertical-align: middle;\n",
              "    }\n",
              "\n",
              "    .dataframe tbody tr th {\n",
              "        vertical-align: top;\n",
              "    }\n",
              "\n",
              "    .dataframe thead th {\n",
              "        text-align: right;\n",
              "    }\n",
              "</style>\n",
              "<table border=\"1\" class=\"dataframe\">\n",
              "  <thead>\n",
              "    <tr style=\"text-align: right;\">\n",
              "      <th></th>\n",
              "      <th>anger</th>\n",
              "      <th>fear</th>\n",
              "      <th>joy</th>\n",
              "      <th>love</th>\n",
              "      <th>neutral</th>\n",
              "      <th>sadness</th>\n",
              "    </tr>\n",
              "  </thead>\n",
              "  <tbody>\n",
              "    <tr>\n",
              "      <th>anger</th>\n",
              "      <td>147</td>\n",
              "      <td>88</td>\n",
              "      <td>55</td>\n",
              "      <td>7</td>\n",
              "      <td>55</td>\n",
              "      <td>78</td>\n",
              "    </tr>\n",
              "    <tr>\n",
              "      <th>fear</th>\n",
              "      <td>155</td>\n",
              "      <td>809</td>\n",
              "      <td>471</td>\n",
              "      <td>116</td>\n",
              "      <td>449</td>\n",
              "      <td>538</td>\n",
              "    </tr>\n",
              "    <tr>\n",
              "      <th>joy</th>\n",
              "      <td>80</td>\n",
              "      <td>338</td>\n",
              "      <td>1739</td>\n",
              "      <td>394</td>\n",
              "      <td>652</td>\n",
              "      <td>234</td>\n",
              "    </tr>\n",
              "    <tr>\n",
              "      <th>love</th>\n",
              "      <td>20</td>\n",
              "      <td>46</td>\n",
              "      <td>415</td>\n",
              "      <td>523</td>\n",
              "      <td>95</td>\n",
              "      <td>54</td>\n",
              "    </tr>\n",
              "    <tr>\n",
              "      <th>neutral</th>\n",
              "      <td>84</td>\n",
              "      <td>346</td>\n",
              "      <td>669</td>\n",
              "      <td>152</td>\n",
              "      <td>1065</td>\n",
              "      <td>275</td>\n",
              "    </tr>\n",
              "    <tr>\n",
              "      <th>sadness</th>\n",
              "      <td>146</td>\n",
              "      <td>390</td>\n",
              "      <td>315</td>\n",
              "      <td>73</td>\n",
              "      <td>293</td>\n",
              "      <td>634</td>\n",
              "    </tr>\n",
              "  </tbody>\n",
              "</table>\n",
              "</div>"
            ],
            "text/plain": [
              "         anger  fear   joy  love  neutral  sadness\n",
              "anger    147    88    55    7     55       78     \n",
              "fear     155    809   471   116   449      538    \n",
              "joy      80     338   1739  394   652      234    \n",
              "love     20     46    415   523   95       54     \n",
              "neutral  84     346   669   152   1065     275    \n",
              "sadness  146    390   315   73    293      634    "
            ]
          },
          "metadata": {
            "tags": []
          },
          "execution_count": 85
        }
      ]
    },
    {
      "metadata": {
        "id": "59xnXmbEAKXy",
        "colab_type": "code",
        "colab": {
          "base_uri": "https://localhost:8080/",
          "height": 281
        },
        "outputId": "61eec1b8-5dce-4e31-ab9e-2850e5be7ad7"
      },
      "cell_type": "code",
      "source": [
        "print(print_confusion_matrix(cf_matrix, class_names=labels))"
      ],
      "execution_count": 86,
      "outputs": [
        {
          "output_type": "stream",
          "text": [
            "Figure(288x216)\n"
          ],
          "name": "stdout"
        },
        {
          "output_type": "display_data",
          "data": {
            "image/png": "[encoded data removed]",
            "text/plain": [
              "<matplotlib.figure.Figure at 0x7f15752cd6a0>"
            ]
          },
          "metadata": {
            "tags": []
          }
        }
      ]
    },
    {
      "metadata": {
        "id": "9XE5c4LJEZXy",
        "colab_type": "code",
        "colab": {
          "base_uri": "https://localhost:8080/",
          "height": 34
        },
        "outputId": "62391023-99ec-42da-d455-354bc52a2d25"
      },
      "cell_type": "code",
      "source": [
        "test_accuracy = accuracy_score(y_test_original, y_pred_original)\n",
        "print(\"test accuracy:\", test_accuracy)"
      ],
      "execution_count": 87,
      "outputs": [
        {
          "output_type": "stream",
          "text": [
            "test accuracy: 0.40975\n"
          ],
          "name": "stdout"
        }
      ]
    },
    {
      "metadata": {
        "id": "jAISNDCVwvR7",
        "colab_type": "text"
      },
      "cell_type": "markdown",
      "source": [
        "### Performance score for each classes"
      ]
    },
    {
      "metadata": {
        "id": "iFb9Q6A1DcXi",
        "colab_type": "code",
        "colab": {
          "base_uri": "https://localhost:8080/",
          "height": 235
        },
        "outputId": "a4699ac1-97c8-46a2-a808-4ee60a8ffe6f"
      },
      "cell_type": "code",
      "source": [
        "precision, recall, fscore, support = precision_recall_fscore_support(y_test_original, y_pred_original)\n",
        "score_dict = {\n",
        "  \"precision\": precision.round(4),\n",
        "  \"recall\": recall.round(4),\n",
        "  \"f1-score\": fscore.round(4),\n",
        "  \"support\": support.round(4)\n",
        "}\n",
        "score_df = pd.DataFrame(score_dict, index=labels)\n",
        "score_df"
      ],
      "execution_count": 88,
      "outputs": [
        {
          "output_type": "execute_result",
          "data": {
            "text/html": [
              "<div>\n",
              "<style scoped>\n",
              "    .dataframe tbody tr th:only-of-type {\n",
              "        vertical-align: middle;\n",
              "    }\n",
              "\n",
              "    .dataframe tbody tr th {\n",
              "        vertical-align: top;\n",
              "    }\n",
              "\n",
              "    .dataframe thead th {\n",
              "        text-align: right;\n",
              "    }\n",
              "</style>\n",
              "<table border=\"1\" class=\"dataframe\">\n",
              "  <thead>\n",
              "    <tr style=\"text-align: right;\">\n",
              "      <th></th>\n",
              "      <th>f1-score</th>\n",
              "      <th>precision</th>\n",
              "      <th>recall</th>\n",
              "      <th>support</th>\n",
              "    </tr>\n",
              "  </thead>\n",
              "  <tbody>\n",
              "    <tr>\n",
              "      <th>anger</th>\n",
              "      <td>0.2768</td>\n",
              "      <td>0.2326</td>\n",
              "      <td>0.3419</td>\n",
              "      <td>430</td>\n",
              "    </tr>\n",
              "    <tr>\n",
              "      <th>fear</th>\n",
              "      <td>0.3552</td>\n",
              "      <td>0.4011</td>\n",
              "      <td>0.3188</td>\n",
              "      <td>2538</td>\n",
              "    </tr>\n",
              "    <tr>\n",
              "      <th>joy</th>\n",
              "      <td>0.4898</td>\n",
              "      <td>0.4746</td>\n",
              "      <td>0.5060</td>\n",
              "      <td>3437</td>\n",
              "    </tr>\n",
              "    <tr>\n",
              "      <th>love</th>\n",
              "      <td>0.4326</td>\n",
              "      <td>0.4134</td>\n",
              "      <td>0.4536</td>\n",
              "      <td>1153</td>\n",
              "    </tr>\n",
              "    <tr>\n",
              "      <th>neutral</th>\n",
              "      <td>0.4096</td>\n",
              "      <td>0.4082</td>\n",
              "      <td>0.4110</td>\n",
              "      <td>2591</td>\n",
              "    </tr>\n",
              "    <tr>\n",
              "      <th>sadness</th>\n",
              "      <td>0.3461</td>\n",
              "      <td>0.3497</td>\n",
              "      <td>0.3425</td>\n",
              "      <td>1851</td>\n",
              "    </tr>\n",
              "  </tbody>\n",
              "</table>\n",
              "</div>"
            ],
            "text/plain": [
              "         f1-score  precision  recall  support\n",
              "anger    0.2768    0.2326     0.3419  430    \n",
              "fear     0.3552    0.4011     0.3188  2538   \n",
              "joy      0.4898    0.4746     0.5060  3437   \n",
              "love     0.4326    0.4134     0.4536  1153   \n",
              "neutral  0.4096    0.4082     0.4110  2591   \n",
              "sadness  0.3461    0.3497     0.3425  1851   "
            ]
          },
          "metadata": {
            "tags": []
          },
          "execution_count": 88
        }
      ]
    },
    {
      "metadata": {
        "id": "cHi1Gw7Oz1zG",
        "colab_type": "text"
      },
      "cell_type": "markdown",
      "source": [
        "### Performance score using micro average"
      ]
    },
    {
      "metadata": {
        "id": "KP69PDE9D_jz",
        "colab_type": "code",
        "colab": {
          "base_uri": "https://localhost:8080/",
          "height": 80
        },
        "outputId": "5f0cb1b0-5396-4e36-dfd0-99006710926b"
      },
      "cell_type": "code",
      "source": [
        "precision, recall, fscore, support = precision_recall_fscore_support(y_test_original, y_pred_original, average=\"micro\")\n",
        "score_dict = {\n",
        "  \"precision\": precision.round(4),\n",
        "  \"recall\": recall.round(4),\n",
        "  \"f1-score\": fscore.round(4),\n",
        "  \"support\": support\n",
        "}\n",
        "score_df = pd.DataFrame(score_dict, index=[\"score\"])\n",
        "score_df"
      ],
      "execution_count": 89,
      "outputs": [
        {
          "output_type": "execute_result",
          "data": {
            "text/html": [
              "<div>\n",
              "<style scoped>\n",
              "    .dataframe tbody tr th:only-of-type {\n",
              "        vertical-align: middle;\n",
              "    }\n",
              "\n",
              "    .dataframe tbody tr th {\n",
              "        vertical-align: top;\n",
              "    }\n",
              "\n",
              "    .dataframe thead th {\n",
              "        text-align: right;\n",
              "    }\n",
              "</style>\n",
              "<table border=\"1\" class=\"dataframe\">\n",
              "  <thead>\n",
              "    <tr style=\"text-align: right;\">\n",
              "      <th></th>\n",
              "      <th>f1-score</th>\n",
              "      <th>precision</th>\n",
              "      <th>recall</th>\n",
              "      <th>support</th>\n",
              "    </tr>\n",
              "  </thead>\n",
              "  <tbody>\n",
              "    <tr>\n",
              "      <th>score</th>\n",
              "      <td>0.4098</td>\n",
              "      <td>0.4098</td>\n",
              "      <td>0.4098</td>\n",
              "      <td>None</td>\n",
              "    </tr>\n",
              "  </tbody>\n",
              "</table>\n",
              "</div>"
            ],
            "text/plain": [
              "       f1-score  precision  recall support\n",
              "score  0.4098    0.4098     0.4098  None  "
            ]
          },
          "metadata": {
            "tags": []
          },
          "execution_count": 89
        }
      ]
    },
    {
      "metadata": {
        "id": "IWXNCktiz8Vb",
        "colab_type": "text"
      },
      "cell_type": "markdown",
      "source": [
        "### Performance score using macro average"
      ]
    },
    {
      "metadata": {
        "id": "g4e0vsNIydDs",
        "colab_type": "code",
        "colab": {
          "base_uri": "https://localhost:8080/",
          "height": 80
        },
        "outputId": "011f44d0-8667-4c13-b41a-cc60621b601d"
      },
      "cell_type": "code",
      "source": [
        "precision, recall, fscore, support = precision_recall_fscore_support(y_test_original, y_pred_original, average=\"macro\")\n",
        "score_dict = {\n",
        "  \"precision\": precision.round(4),\n",
        "  \"recall\": recall.round(4),\n",
        "  \"f1-score\": fscore.round(4),\n",
        "  \"support\": support\n",
        "}\n",
        "score_df = pd.DataFrame(score_dict, index=[\"score\"])\n",
        "score_df"
      ],
      "execution_count": 90,
      "outputs": [
        {
          "output_type": "execute_result",
          "data": {
            "text/html": [
              "<div>\n",
              "<style scoped>\n",
              "    .dataframe tbody tr th:only-of-type {\n",
              "        vertical-align: middle;\n",
              "    }\n",
              "\n",
              "    .dataframe tbody tr th {\n",
              "        vertical-align: top;\n",
              "    }\n",
              "\n",
              "    .dataframe thead th {\n",
              "        text-align: right;\n",
              "    }\n",
              "</style>\n",
              "<table border=\"1\" class=\"dataframe\">\n",
              "  <thead>\n",
              "    <tr style=\"text-align: right;\">\n",
              "      <th></th>\n",
              "      <th>f1-score</th>\n",
              "      <th>precision</th>\n",
              "      <th>recall</th>\n",
              "      <th>support</th>\n",
              "    </tr>\n",
              "  </thead>\n",
              "  <tbody>\n",
              "    <tr>\n",
              "      <th>score</th>\n",
              "      <td>0.385</td>\n",
              "      <td>0.3799</td>\n",
              "      <td>0.3956</td>\n",
              "      <td>None</td>\n",
              "    </tr>\n",
              "  </tbody>\n",
              "</table>\n",
              "</div>"
            ],
            "text/plain": [
              "       f1-score  precision  recall support\n",
              "score  0.385     0.3799     0.3956  None  "
            ]
          },
          "metadata": {
            "tags": []
          },
          "execution_count": 90
        }
      ]
    },
    {
      "metadata": {
        "id": "wFJFH7u6z-oG",
        "colab_type": "text"
      },
      "cell_type": "markdown",
      "source": [
        "### Performance score using weighted average"
      ]
    },
    {
      "metadata": {
        "id": "z99JkHjuzv68",
        "colab_type": "code",
        "colab": {
          "base_uri": "https://localhost:8080/",
          "height": 80
        },
        "outputId": "5c8a38cd-0317-45ea-ff63-a14cb71f78e8"
      },
      "cell_type": "code",
      "source": [
        "precision, recall, fscore, support = precision_recall_fscore_support(y_test_original, y_pred_original, average=\"weighted\")\n",
        "score_dict = {\n",
        "  \"precision\": precision.round(4),\n",
        "  \"recall\": recall.round(4),\n",
        "  \"f1-score\": fscore.round(4),\n",
        "  \"support\": support\n",
        "}\n",
        "score_df = pd.DataFrame(score_dict, index=[\"score\"])\n",
        "score_df"
      ],
      "execution_count": 91,
      "outputs": [
        {
          "output_type": "execute_result",
          "data": {
            "text/html": [
              "<div>\n",
              "<style scoped>\n",
              "    .dataframe tbody tr th:only-of-type {\n",
              "        vertical-align: middle;\n",
              "    }\n",
              "\n",
              "    .dataframe tbody tr th {\n",
              "        vertical-align: top;\n",
              "    }\n",
              "\n",
              "    .dataframe thead th {\n",
              "        text-align: right;\n",
              "    }\n",
              "</style>\n",
              "<table border=\"1\" class=\"dataframe\">\n",
              "  <thead>\n",
              "    <tr style=\"text-align: right;\">\n",
              "      <th></th>\n",
              "      <th>f1-score</th>\n",
              "      <th>precision</th>\n",
              "      <th>recall</th>\n",
              "      <th>support</th>\n",
              "    </tr>\n",
              "  </thead>\n",
              "  <tbody>\n",
              "    <tr>\n",
              "      <th>score</th>\n",
              "      <td>0.4087</td>\n",
              "      <td>0.4109</td>\n",
              "      <td>0.4098</td>\n",
              "      <td>None</td>\n",
              "    </tr>\n",
              "  </tbody>\n",
              "</table>\n",
              "</div>"
            ],
            "text/plain": [
              "       f1-score  precision  recall support\n",
              "score  0.4087    0.4109     0.4098  None  "
            ]
          },
          "metadata": {
            "tags": []
          },
          "execution_count": 91
        }
      ]
    },
    {
      "metadata": {
        "id": "praJLop1zxg9",
        "colab_type": "code",
        "colab": {}
      },
      "cell_type": "code",
      "source": [
        ""
      ],
      "execution_count": 0,
      "outputs": []
    }
  ]
}