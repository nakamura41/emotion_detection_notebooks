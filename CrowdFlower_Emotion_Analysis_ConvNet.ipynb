{
  "nbformat": 4,
  "nbformat_minor": 0,
  "metadata": {
    "colab": {
      "name": "CrowdFlower-Emotion-Analysis-ConvNet.ipynb",
      "version": "0.3.2",
      "provenance": [],
      "collapsed_sections": [],
      "include_colab_link": true
    },
    "kernelspec": {
      "name": "python3",
      "display_name": "Python 3"
    },
    "accelerator": "GPU"
  },
  "cells": [
    {
      "cell_type": "markdown",
      "metadata": {
        "id": "view-in-github",
        "colab_type": "text"
      },
      "source": [
        "[View in Colaboratory](https://colab.research.google.com/github/nakamura41/emotion_detection_notebooks/blob/master/CrowdFlower_Emotion_Analysis_ConvNet.ipynb)"
      ]
    },
    {
      "metadata": {
        "id": "wRzS3ihSifMc",
        "colab_type": "code",
        "colab": {
          "base_uri": "https://localhost:8080/",
          "height": 514
        },
        "outputId": "382baf91-fec9-4277-a5ba-959004805e2f"
      },
      "cell_type": "code",
      "source": [
        "!pip install gensim\n",
        "!pip install -U -q PyDrive\n",
        "!pip install -U imbalanced-learn"
      ],
      "execution_count": 1,
      "outputs": [
        {
          "output_type": "stream",
          "text": [
            "Requirement already satisfied: gensim in /usr/local/lib/python3.6/dist-packages (3.5.0)\n",
            "Requirement already satisfied: numpy>=1.11.3 in /usr/local/lib/python3.6/dist-packages (from gensim) (1.14.5)\n",
            "Requirement already satisfied: smart-open>=1.2.1 in /usr/local/lib/python3.6/dist-packages (from gensim) (1.6.0)\n",
            "Requirement already satisfied: scipy>=0.18.1 in /usr/local/lib/python3.6/dist-packages (from gensim) (0.19.1)\n",
            "Requirement already satisfied: six>=1.5.0 in /usr/local/lib/python3.6/dist-packages (from gensim) (1.11.0)\n",
            "Requirement already satisfied: boto>=2.32 in /usr/local/lib/python3.6/dist-packages (from smart-open>=1.2.1->gensim) (2.49.0)\n",
            "Requirement already satisfied: bz2file in /usr/local/lib/python3.6/dist-packages (from smart-open>=1.2.1->gensim) (0.98)\n",
            "Requirement already satisfied: boto3 in /usr/local/lib/python3.6/dist-packages (from smart-open>=1.2.1->gensim) (1.9.6)\n",
            "Requirement already satisfied: requests in /usr/local/lib/python3.6/dist-packages (from smart-open>=1.2.1->gensim) (2.18.4)\n",
            "Requirement already satisfied: s3transfer<0.2.0,>=0.1.10 in /usr/local/lib/python3.6/dist-packages (from boto3->smart-open>=1.2.1->gensim) (0.1.13)\n",
            "Requirement already satisfied: botocore<1.13.0,>=1.12.6 in /usr/local/lib/python3.6/dist-packages (from boto3->smart-open>=1.2.1->gensim) (1.12.6)\n",
            "Requirement already satisfied: jmespath<1.0.0,>=0.7.1 in /usr/local/lib/python3.6/dist-packages (from boto3->smart-open>=1.2.1->gensim) (0.9.3)\n",
            "Requirement already satisfied: chardet<3.1.0,>=3.0.2 in /usr/local/lib/python3.6/dist-packages (from requests->smart-open>=1.2.1->gensim) (3.0.4)\n",
            "Requirement already satisfied: certifi>=2017.4.17 in /usr/local/lib/python3.6/dist-packages (from requests->smart-open>=1.2.1->gensim) (2018.8.24)\n",
            "Requirement already satisfied: urllib3<1.23,>=1.21.1 in /usr/local/lib/python3.6/dist-packages (from requests->smart-open>=1.2.1->gensim) (1.22)\n",
            "Requirement already satisfied: idna<2.7,>=2.5 in /usr/local/lib/python3.6/dist-packages (from requests->smart-open>=1.2.1->gensim) (2.6)\n",
            "Requirement already satisfied: python-dateutil<3.0.0,>=2.1; python_version >= \"2.7\" in /usr/local/lib/python3.6/dist-packages (from botocore<1.13.0,>=1.12.6->boto3->smart-open>=1.2.1->gensim) (2.5.3)\n",
            "Requirement already satisfied: docutils>=0.10 in /usr/local/lib/python3.6/dist-packages (from botocore<1.13.0,>=1.12.6->boto3->smart-open>=1.2.1->gensim) (0.14)\n",
            "Requirement already up-to-date: imbalanced-learn in /usr/local/lib/python3.6/dist-packages (0.3.3)\n",
            "Requirement already satisfied, skipping upgrade: numpy in /usr/local/lib/python3.6/dist-packages (from imbalanced-learn) (1.14.5)\n",
            "Requirement already satisfied, skipping upgrade: scikit-learn in /usr/local/lib/python3.6/dist-packages (from imbalanced-learn) (0.19.2)\n",
            "Requirement already satisfied, skipping upgrade: scipy in /usr/local/lib/python3.6/dist-packages (from imbalanced-learn) (0.19.1)\n"
          ],
          "name": "stdout"
        }
      ]
    },
    {
      "metadata": {
        "id": "OdaHCMv2rGKs",
        "colab_type": "code",
        "colab": {
          "base_uri": "https://localhost:8080/",
          "height": 51
        },
        "outputId": "f4aff5e4-b24a-47b6-bdc4-926f3249bf10"
      },
      "cell_type": "code",
      "source": [
        "import os\n",
        "import tensorflow as tf\n",
        "from tensorflow import keras\n",
        "import numpy as np\n",
        "import urllib.request\n",
        "import pandas as pd\n",
        "from gensim.test.utils import common_texts, get_tmpfile\n",
        "from gensim.utils import simple_preprocess\n",
        "from gensim.models import Word2Vec\n",
        "from tempfile import gettempdir\n",
        "import zipfile\n",
        "from keras.preprocessing.text import Tokenizer\n",
        "from keras.preprocessing.sequence import pad_sequences\n",
        "from keras.utils import to_categorical\n",
        "from pydrive.auth import GoogleAuth\n",
        "from pydrive.drive import GoogleDrive\n",
        "from google.colab import auth\n",
        "from oauth2client.client import GoogleCredentials\n",
        "from sklearn.metrics import confusion_matrix, precision_recall_fscore_support, accuracy_score\n",
        "from sklearn.model_selection import train_test_split\n",
        "import matplotlib.pyplot as plt\n",
        "import seaborn as sns\n",
        "from imblearn.over_sampling import SMOTE, RandomOverSampler\n",
        "from collections import Counter\n",
        "\n",
        "RANDOM_STATE = 41\n",
        "\n",
        "print(tf.__version__)"
      ],
      "execution_count": 2,
      "outputs": [
        {
          "output_type": "stream",
          "text": [
            "1.10.1\n"
          ],
          "name": "stdout"
        },
        {
          "output_type": "stream",
          "text": [
            "Using TensorFlow backend.\n"
          ],
          "name": "stderr"
        }
      ]
    },
    {
      "metadata": {
        "id": "VMhX1N2k4SgY",
        "colab_type": "code",
        "colab": {}
      },
      "cell_type": "code",
      "source": [
        "# 1. Authenticate and create the PyDrive client.\n",
        "auth.authenticate_user()\n",
        "gauth = GoogleAuth()\n",
        "gauth.credentials = GoogleCredentials.get_application_default()\n",
        "drive = GoogleDrive(gauth)"
      ],
      "execution_count": 0,
      "outputs": []
    },
    {
      "metadata": {
        "id": "6FJlfk614hrw",
        "colab_type": "code",
        "colab": {}
      },
      "cell_type": "code",
      "source": [
        "# download google drive file\n",
        "def download_drive_file(drive_directory, filename):\n",
        "  list_file_query = \"title='{}' and trashed=false\".format(drive_directory)\n",
        "  file_list = drive.ListFile({'q': list_file_query}).GetList()\n",
        "\n",
        "  if len(file_list) > 0:\n",
        "    directory_id = file_list[0]['id']\n",
        "\n",
        "    list_file_query = \"'{}' in parents\".format(directory_id)\n",
        "\n",
        "    file_list = drive.ListFile({'q': list_file_query}).GetList()\n",
        "    \n",
        "    file_id = None\n",
        "    for file1 in file_list:\n",
        "      if file1['title'] == filename:\n",
        "        print(\"downloading file {}\".format(file1['title']))\n",
        "        file1.GetContentFile(file1['title'])"
      ],
      "execution_count": 0,
      "outputs": []
    },
    {
      "metadata": {
        "id": "WPzDX7qc6eQx",
        "colab_type": "code",
        "colab": {
          "base_uri": "https://localhost:8080/",
          "height": 34
        },
        "outputId": "0b39857c-e9e6-487c-8816-50ba63c45834"
      },
      "cell_type": "code",
      "source": [
        "download_drive_file(\"Datasets\", \"GoogleNews-vectors-negative300.bin.gz\")"
      ],
      "execution_count": 5,
      "outputs": [
        {
          "output_type": "stream",
          "text": [
            "downloading file GoogleNews-vectors-negative300.bin.gz\n"
          ],
          "name": "stdout"
        }
      ]
    },
    {
      "metadata": {
        "id": "xnY2L2-b6-ye",
        "colab_type": "code",
        "colab": {
          "base_uri": "https://localhost:8080/",
          "height": 65
        },
        "outputId": "f2cfb577-2ee5-4e2c-b553-bd7bd6022125"
      },
      "cell_type": "code",
      "source": [
        "!ls"
      ],
      "execution_count": 6,
      "outputs": [
        {
          "output_type": "stream",
          "text": [
            "adc.json  GoogleNews-vectors-negative300.bin.gz  sample_data\n"
          ],
          "name": "stdout"
        }
      ]
    },
    {
      "metadata": {
        "id": "oBynQmEcrNAy",
        "colab_type": "code",
        "colab": {}
      },
      "cell_type": "code",
      "source": [
        "class CrowdFlowerDataset(object):\n",
        "  BASE_URL = \"https://www.crowdflower.com/wp-content/uploads/2016/07/text_emotion.csv\"\n",
        "  EMOTION_CLASSES = [\"anger\", \"boredom\", \"empty\", \"enthusiasm\", \"fun\", \"happiness\", \"hate\", \"love\", \"neutral\", \"relief\", \"sadness\", \"surprise\", \"worry\"]\n",
        "  RANDOM_STATE = 41\n",
        "  \n",
        "  # based on Parrott's emotions group\n",
        "  EMOTION_MAPPING = {\n",
        "      \"anger\": \"anger\",\n",
        "      \"boredom\": \"sadness\",\n",
        "      \"empty\": \"sadness\",\n",
        "      \"enthusiasm\": \"joy\",\n",
        "      \"fun\": \"joy\",\n",
        "      \"happiness\": \"joy\",\n",
        "      \"hate\": \"anger\",\n",
        "      \"love\": \"love\",\n",
        "      \"neutral\": \"neutral\",\n",
        "      \"relief\": \"joy\",\n",
        "      \"sadness\": \"sadness\",\n",
        "      \"surprise\": \"joy\",\n",
        "      \"worry\": \"worry\"\n",
        "  }\n",
        "  \n",
        "  def __load_data_url(self, url):\n",
        "    df = pd.read_csv(url)\n",
        "    df[\"text\"] = df[\"content\"]\n",
        "    df[\"emotion\"] = df[\"sentiment\"]\n",
        "    df = df[df.emotion != \"neutral\"]\n",
        "    return df[[\"text\", \"emotion\"]]\n",
        "  \n",
        "  def __emotion_mapping(self, data):\n",
        "    new_data = data\n",
        "    for emotion in self.EMOTION_CLASSES:\n",
        "      new_data.loc[data.emotion == emotion, \"emotion\"] = self.EMOTION_MAPPING[emotion]\n",
        "    return new_data\n",
        "    \n",
        "  def load_data(self):\n",
        "    train_data = None\n",
        "    test_data = None\n",
        "    \n",
        "    data = self.__load_data_url(self.BASE_URL)\n",
        "    data = self.__emotion_mapping(data)\n",
        "    \n",
        "    train_data, test_data = train_test_split(data, test_size=0.3, random_state=self.RANDOM_STATE, stratify=data[\"emotion\"].values)\n",
        "    return train_data, test_data"
      ],
      "execution_count": 0,
      "outputs": []
    },
    {
      "metadata": {
        "id": "Obaz_HS7uTNe",
        "colab_type": "code",
        "colab": {
          "base_uri": "https://localhost:8080/",
          "height": 396
        },
        "outputId": "633625ec-92bd-4a42-d025-eb5353c175a7"
      },
      "cell_type": "code",
      "source": [
        "crowd_flower_dataset = CrowdFlowerDataset()\n",
        "train_data, test_data = crowd_flower_dataset.load_data()\n",
        "\n",
        "emotions = train_data.emotion.unique()\n",
        "dic = dict()\n",
        "labels = []\n",
        "for i, emotion in enumerate(emotions):\n",
        "    dic[emotion]=i\n",
        "    labels.append(emotion)\n",
        "print(dic)\n",
        "print(labels)\n",
        "\n",
        "for emotion in labels:\n",
        "  train_data.loc[train_data.emotion == emotion, \"emotion_int\"] = dic[emotion]\n",
        "  test_data.loc[test_data.emotion == emotion, \"emotion_int\"] = dic[emotion]\n",
        "  \n",
        "num_bins = 5\n",
        "bins = [0,1,2,3,4,5]\n",
        "hist, _ = np.histogram(train_data[\"emotion_int\"], bins=bins)\n",
        "\n",
        "objects = ('Sadness', 'Joy', 'Worry', 'Love', 'Anger')\n",
        "y_pos = np.arange(len(objects))\n",
        "\n",
        "plt.bar(y_pos, hist, align='center', alpha=0.5)\n",
        "plt.xticks(y_pos, objects)\n",
        "plt.ylabel('Number')\n",
        "plt.title('Emotions')\n",
        " \n",
        "plt.show()"
      ],
      "execution_count": 9,
      "outputs": [
        {
          "output_type": "stream",
          "text": [
            "{'sadness': 0, 'joy': 1, 'worry': 2, 'love': 3, 'anger': 4}\n",
            "['sadness', 'joy', 'worry', 'love', 'anger']\n"
          ],
          "name": "stdout"
        },
        {
          "output_type": "display_data",
          "data": {
            "image/png": "[encoded data removed]",
            "text/plain": [
              "<matplotlib.figure.Figure at 0x7fb61531c3c8>"
            ]
          },
          "metadata": {
            "tags": []
          }
        }
      ]
    },
    {
      "metadata": {
        "id": "-mV3plCkwDGq",
        "colab_type": "text"
      },
      "cell_type": "markdown",
      "source": [
        "The training data is very imbalanced!"
      ]
    },
    {
      "metadata": {
        "id": "YJdxyPflwIhm",
        "colab_type": "text"
      },
      "cell_type": "markdown",
      "source": [
        "### Tokenize training and test dataset"
      ]
    },
    {
      "metadata": {
        "id": "kohmws_IwHqJ",
        "colab_type": "code",
        "colab": {
          "base_uri": "https://localhost:8080/",
          "height": 34
        },
        "outputId": "45453cb7-04ea-4593-85e6-964a9ad4292a"
      },
      "cell_type": "code",
      "source": [
        "NUM_WORDS=20000\n",
        "texts = train_data.text\n",
        "tokenizer = Tokenizer(num_words=NUM_WORDS,filters='!\"#$%&()*+,-./:;<=>?@[\\\\]^_`{|}~\\t\\n\\'',\n",
        "                      lower=True)\n",
        "tokenizer.fit_on_texts(texts)\n",
        "sequences_train = tokenizer.texts_to_sequences(texts)\n",
        "sequences_test = tokenizer.texts_to_sequences(test_data.text)\n",
        "word_index = tokenizer.word_index\n",
        "print('Found %s unique tokens.' % len(word_index))"
      ],
      "execution_count": 10,
      "outputs": [
        {
          "output_type": "stream",
          "text": [
            "Found 31065 unique tokens.\n"
          ],
          "name": "stdout"
        }
      ]
    },
    {
      "metadata": {
        "id": "0ThyXUt0wYzz",
        "colab_type": "code",
        "colab": {
          "base_uri": "https://localhost:8080/",
          "height": 51
        },
        "outputId": "73e665dd-aeff-4c28-944b-5f62d6b14c44"
      },
      "cell_type": "code",
      "source": [
        "X_train_unbalanced = pad_sequences(sequences_train)\n",
        "X_test = pad_sequences(sequences_test, maxlen=X_train_unbalanced.shape[1])\n",
        "\n",
        "y_train_unbalanced = np.asarray(train_data.emotion.apply(lambda x:dic[x]))\n",
        "y_test = np.asarray(test_data.emotion.apply(lambda x:dic[x]))\n",
        "\n",
        "print('Shape of X train and test tensor:', X_train_unbalanced.shape, X_test.shape)\n",
        "print('Shape of label train and test tensor:', y_train_unbalanced.shape, y_test.shape)"
      ],
      "execution_count": 11,
      "outputs": [
        {
          "output_type": "stream",
          "text": [
            "Shape of X train and test tensor: (21953, 36) (9409, 36)\n",
            "Shape of label train and test tensor: (21953,) (9409,)\n"
          ],
          "name": "stdout"
        }
      ]
    },
    {
      "metadata": {
        "id": "pPef2Zy8ffPZ",
        "colab_type": "text"
      },
      "cell_type": "markdown",
      "source": [
        "### Balance Training dataset using SMOTE"
      ]
    },
    {
      "metadata": {
        "id": "ErlhZPQWwYQ7",
        "colab_type": "code",
        "colab": {
          "base_uri": "https://localhost:8080/",
          "height": 68
        },
        "outputId": "be53b023-e11c-436d-df40-31f4d305c64a"
      },
      "cell_type": "code",
      "source": [
        "sm = SMOTE(random_state=RANDOM_STATE)\n",
        "X_train_smote, y_train_smote = sm.fit_sample(X_train_unbalanced, y_train_unbalanced)\n",
        "\n",
        "print('Shape of X train tensor which is balanced using SMOTE:', X_train_smote.shape)\n",
        "print('Original label shape {}'.format(Counter(y_train_unbalanced)))\n",
        "print('Resampled label shape {}'.format(Counter(y_train_smote)))"
      ],
      "execution_count": 12,
      "outputs": [
        {
          "output_type": "stream",
          "text": [
            "Shape of X train tensor which is balanced using SMOTE: (40100, 36)\n",
            "Original label shape Counter({1: 8020, 2: 5921, 0: 4320, 3: 2689, 4: 1003})\n",
            "Resampled label shape Counter({0: 8020, 1: 8020, 2: 8020, 3: 8020, 4: 8020})\n"
          ],
          "name": "stdout"
        }
      ]
    },
    {
      "metadata": {
        "id": "iwlnNhNPC_tS",
        "colab_type": "text"
      },
      "cell_type": "markdown",
      "source": [
        "### Balance Training dataset using Random Over Sampler"
      ]
    },
    {
      "metadata": {
        "id": "GLE5qaubfeou",
        "colab_type": "code",
        "colab": {
          "base_uri": "https://localhost:8080/",
          "height": 68
        },
        "outputId": "6754a86d-dba1-49ad-b797-fcf7b3e134d2"
      },
      "cell_type": "code",
      "source": [
        "ros = RandomOverSampler(random_state=RANDOM_STATE)\n",
        "X_train_ros, y_train_ros = ros.fit_sample(X_train_unbalanced, y_train_unbalanced)\n",
        "\n",
        "print('Shape of X train tensor which is balanced using ROS:', X_train_ros.shape)\n",
        "print('Original label shape {}'.format(Counter(y_train_unbalanced)))\n",
        "print('Resampled label shape {}'.format(Counter(y_train_ros)))"
      ],
      "execution_count": 13,
      "outputs": [
        {
          "output_type": "stream",
          "text": [
            "Shape of X train tensor which is balanced using ROS: (40100, 36)\n",
            "Original label shape Counter({1: 8020, 2: 5921, 0: 4320, 3: 2689, 4: 1003})\n",
            "Resampled label shape Counter({0: 8020, 1: 8020, 2: 8020, 3: 8020, 4: 8020})\n"
          ],
          "name": "stdout"
        }
      ]
    },
    {
      "metadata": {
        "id": "rgwNEoe9fkUu",
        "colab_type": "code",
        "colab": {
          "base_uri": "https://localhost:8080/",
          "height": 68
        },
        "outputId": "2bd1a113-02c4-48ee-d687-d944d60b5d5e"
      },
      "cell_type": "code",
      "source": [
        "X_train, X_val, y_train, y_val = train_test_split(X_train_ros, y_train_ros, test_size=0.1, random_state=RANDOM_STATE, stratify=y_train_ros)\n",
        "\n",
        "print('y_train {}'.format(Counter(y_train)))\n",
        "print('y_val {}'.format(Counter(y_val)))\n",
        "print('y_test {}'.format(Counter(y_test)))"
      ],
      "execution_count": 14,
      "outputs": [
        {
          "output_type": "stream",
          "text": [
            "y_train Counter({4: 7218, 2: 7218, 3: 7218, 0: 7218, 1: 7218})\n",
            "y_val Counter({4: 802, 1: 802, 3: 802, 0: 802, 2: 802})\n",
            "y_test Counter({1: 3437, 2: 2538, 0: 1851, 3: 1153, 4: 430})\n"
          ],
          "name": "stdout"
        }
      ]
    },
    {
      "metadata": {
        "id": "GnriMPVD81N5",
        "colab_type": "code",
        "colab": {
          "base_uri": "https://localhost:8080/",
          "height": 362
        },
        "outputId": "3bf62998-f249-4795-b736-861c911d2390"
      },
      "cell_type": "code",
      "source": [
        "hist, _ = np.histogram(y_train, bins=bins)\n",
        "\n",
        "y_pos = np.arange(len(objects))\n",
        "\n",
        "plt.bar(y_pos, hist, align='center', alpha=0.5)\n",
        "plt.xticks(y_pos, objects)\n",
        "plt.ylabel('Number')\n",
        "plt.title('Emotions')\n",
        " \n",
        "plt.show()"
      ],
      "execution_count": 15,
      "outputs": [
        {
          "output_type": "display_data",
          "data": {
            "image/png": "[encoded data removed]",
            "text/plain": [
              "<matplotlib.figure.Figure at 0x7fb61531c128>"
            ]
          },
          "metadata": {
            "tags": []
          }
        }
      ]
    },
    {
      "metadata": {
        "id": "NJCFKhSL-ClX",
        "colab_type": "code",
        "colab": {
          "base_uri": "https://localhost:8080/",
          "height": 362
        },
        "outputId": "02db8836-09ac-4afb-9a5d-60520ac7fa2b"
      },
      "cell_type": "code",
      "source": [
        "hist, _ = np.histogram(y_val, bins=bins)\n",
        "\n",
        "y_pos = np.arange(len(objects))\n",
        "\n",
        "plt.bar(y_pos, hist, align='center', alpha=0.5)\n",
        "plt.xticks(y_pos, objects)\n",
        "plt.ylabel('Number')\n",
        "plt.title('Emotions')\n",
        " \n",
        "plt.show()"
      ],
      "execution_count": 16,
      "outputs": [
        {
          "output_type": "display_data",
          "data": {
            "image/png": "[encoded data removed]",
            "text/plain": [
              "<matplotlib.figure.Figure at 0x7fb611e34e10>"
            ]
          },
          "metadata": {
            "tags": []
          }
        }
      ]
    },
    {
      "metadata": {
        "id": "o239sc_L-FDK",
        "colab_type": "code",
        "colab": {
          "base_uri": "https://localhost:8080/",
          "height": 362
        },
        "outputId": "4d18a3b6-c0e1-4dc6-837f-582590cc9674"
      },
      "cell_type": "code",
      "source": [
        "hist, _ = np.histogram(y_test, bins=bins)\n",
        "\n",
        "y_pos = np.arange(len(objects))\n",
        "\n",
        "plt.bar(y_pos, hist, align='center', alpha=0.5)\n",
        "plt.xticks(y_pos, objects)\n",
        "plt.ylabel('Number')\n",
        "plt.title('Emotions')\n",
        " \n",
        "plt.show()"
      ],
      "execution_count": 17,
      "outputs": [
        {
          "output_type": "display_data",
          "data": {
            "image/png": "[encoded data removed]",
            "text/plain": [
              "<matplotlib.figure.Figure at 0x7fb61175a860>"
            ]
          },
          "metadata": {
            "tags": []
          }
        }
      ]
    },
    {
      "metadata": {
        "id": "f3a8LX2z0Vn3",
        "colab_type": "code",
        "colab": {
          "base_uri": "https://localhost:8080/",
          "height": 51
        },
        "outputId": "8717a108-779f-4008-98b4-eef1f06d8179"
      },
      "cell_type": "code",
      "source": [
        "y_train = to_categorical(y_train)\n",
        "y_val = to_categorical(y_val)\n",
        "y_test = to_categorical(y_test)\n",
        "\n",
        "print('Shape of X train, validation and test tensor:', X_train.shape, X_val.shape, X_test.shape)\n",
        "print('Shape of label train, validation and test tensor:', y_train.shape, y_val.shape, y_test.shape)"
      ],
      "execution_count": 18,
      "outputs": [
        {
          "output_type": "stream",
          "text": [
            "Shape of X train, validation and test tensor: (36090, 36) (4010, 36) (9409, 36)\n",
            "Shape of label train, validation and test tensor: (36090, 5) (4010, 5) (9409, 5)\n"
          ],
          "name": "stdout"
        }
      ]
    },
    {
      "metadata": {
        "id": "naD_jPLlmlFq",
        "colab_type": "code",
        "colab": {}
      },
      "cell_type": "code",
      "source": [
        "import gensim\n",
        "from gensim.models import Word2Vec\n",
        "from gensim.utils import simple_preprocess\n",
        "\n",
        "from gensim.models.keyedvectors import KeyedVectors\n",
        "\n",
        "word_vectors = KeyedVectors.load_word2vec_format('GoogleNews-vectors-negative300.bin.gz', binary=True)\n",
        "\n",
        "EMBEDDING_DIM=300\n",
        "vocabulary_size = min(len(word_index)+1, NUM_WORDS)\n",
        "embedding_matrix = np.zeros((vocabulary_size, EMBEDDING_DIM))\n",
        "for word, i in word_index.items():\n",
        "    if i>=NUM_WORDS:\n",
        "        continue\n",
        "    try:\n",
        "        embedding_vector = word_vectors[word]\n",
        "        embedding_matrix[i] = embedding_vector\n",
        "    except KeyError:\n",
        "        embedding_matrix[i] = np.random.normal(0,np.sqrt(0.25), EMBEDDING_DIM)\n",
        "\n",
        "del(word_vectors)\n",
        "\n",
        "from keras.layers import Embedding\n",
        "embedding_layer = Embedding(vocabulary_size,\n",
        "                            EMBEDDING_DIM,\n",
        "                            weights=[embedding_matrix],\n",
        "                            trainable=True)"
      ],
      "execution_count": 0,
      "outputs": []
    },
    {
      "metadata": {
        "id": "Q0fX0z7_7Mi5",
        "colab_type": "code",
        "colab": {
          "base_uri": "https://localhost:8080/",
          "height": 629
        },
        "outputId": "3969023f-a17b-470d-c3f2-19e22bc7add4"
      },
      "cell_type": "code",
      "source": [
        "from keras.layers import Dense, Input, GlobalMaxPooling1D\n",
        "from keras.layers import Conv1D, MaxPooling1D, Embedding\n",
        "from keras.models import Model\n",
        "from keras.layers import Input, Dense, Embedding, Conv2D, MaxPooling2D, Dropout, concatenate, LSTM\n",
        "from keras.layers.core import Reshape, Flatten\n",
        "from keras.callbacks import EarlyStopping\n",
        "from keras.optimizers import Adam, Adadelta, RMSprop\n",
        "from keras.models import Model\n",
        "from keras import regularizers\n",
        "sequence_length = X_train.shape[1]\n",
        "filter_sizes = [3,4,5]\n",
        "num_filters = 100\n",
        "drop_rate = 0.5\n",
        "n_class = 5\n",
        "\n",
        "print(sequence_length)\n",
        "\n",
        "inputs = Input(shape=(sequence_length,), name='input_1')\n",
        "embedding = embedding_layer(inputs)\n",
        "reshape = Reshape((sequence_length, EMBEDDING_DIM, 1), name='reshape_1')(embedding)\n",
        "\n",
        "conv_1 = Conv2D(num_filters, (filter_sizes[0], EMBEDDING_DIM), activation='relu',kernel_regularizer=regularizers.l2(0.01), name='conv_1')(reshape)\n",
        "conv_2 = Conv2D(num_filters, (filter_sizes[1], EMBEDDING_DIM), activation='relu',kernel_regularizer=regularizers.l2(0.01), name='conv_2')(reshape)\n",
        "conv_3 = Conv2D(num_filters, (filter_sizes[2], EMBEDDING_DIM), activation='relu',kernel_regularizer=regularizers.l2(0.01), name='conv_3')(reshape)\n",
        "\n",
        "maxpool_1 = MaxPooling2D((sequence_length - filter_sizes[0] + 1, 1), strides=1, name='maxpool_1')(conv_1)\n",
        "maxpool_2 = MaxPooling2D((sequence_length - filter_sizes[1] + 1, 1), strides=1, name='maxpool_2')(conv_2)\n",
        "maxpool_3 = MaxPooling2D((sequence_length - filter_sizes[2] + 1, 1), strides=1, name='maxpool_3')(conv_3)\n",
        "\n",
        "merged_tensor = concatenate([maxpool_1, maxpool_2, maxpool_3], axis=1, name='concatenate_1')\n",
        "flatten = Flatten()(merged_tensor)\n",
        "dropout = Dropout(drop_rate, name='dropout_1')(flatten)\n",
        "output = Dense(units=n_class, activation='softmax',kernel_regularizer=regularizers.l2(0.01), name='dense_1')(dropout)\n",
        "\n",
        "# this creates a model that includes\n",
        "model = Model(inputs, output)\n",
        "\n",
        "model.summary()"
      ],
      "execution_count": 20,
      "outputs": [
        {
          "output_type": "stream",
          "text": [
            "36\n",
            "__________________________________________________________________________________________________\n",
            "Layer (type)                    Output Shape         Param #     Connected to                     \n",
            "==================================================================================================\n",
            "input_1 (InputLayer)            (None, 36)           0                                            \n",
            "__________________________________________________________________________________________________\n",
            "embedding_1 (Embedding)         (None, 36, 300)      6000000     input_1[0][0]                    \n",
            "__________________________________________________________________________________________________\n",
            "reshape_1 (Reshape)             (None, 36, 300, 1)   0           embedding_1[0][0]                \n",
            "__________________________________________________________________________________________________\n",
            "conv_1 (Conv2D)                 (None, 34, 1, 100)   90100       reshape_1[0][0]                  \n",
            "__________________________________________________________________________________________________\n",
            "conv_2 (Conv2D)                 (None, 33, 1, 100)   120100      reshape_1[0][0]                  \n",
            "__________________________________________________________________________________________________\n",
            "conv_3 (Conv2D)                 (None, 32, 1, 100)   150100      reshape_1[0][0]                  \n",
            "__________________________________________________________________________________________________\n",
            "maxpool_1 (MaxPooling2D)        (None, 1, 1, 100)    0           conv_1[0][0]                     \n",
            "__________________________________________________________________________________________________\n",
            "maxpool_2 (MaxPooling2D)        (None, 1, 1, 100)    0           conv_2[0][0]                     \n",
            "__________________________________________________________________________________________________\n",
            "maxpool_3 (MaxPooling2D)        (None, 1, 1, 100)    0           conv_3[0][0]                     \n",
            "__________________________________________________________________________________________________\n",
            "concatenate_1 (Concatenate)     (None, 3, 1, 100)    0           maxpool_1[0][0]                  \n",
            "                                                                 maxpool_2[0][0]                  \n",
            "                                                                 maxpool_3[0][0]                  \n",
            "__________________________________________________________________________________________________\n",
            "flatten_1 (Flatten)             (None, 300)          0           concatenate_1[0][0]              \n",
            "__________________________________________________________________________________________________\n",
            "dropout_1 (Dropout)             (None, 300)          0           flatten_1[0][0]                  \n",
            "__________________________________________________________________________________________________\n",
            "dense_1 (Dense)                 (None, 5)            1505        dropout_1[0][0]                  \n",
            "==================================================================================================\n",
            "Total params: 6,361,805\n",
            "Trainable params: 6,361,805\n",
            "Non-trainable params: 0\n",
            "__________________________________________________________________________________________________\n"
          ],
          "name": "stdout"
        }
      ]
    },
    {
      "metadata": {
        "id": "HHZ1POD77GRp",
        "colab_type": "code",
        "colab": {
          "base_uri": "https://localhost:8080/",
          "height": 1972
        },
        "outputId": "0ebe61a1-ae3f-45d8-a561-720d4e15af88"
      },
      "cell_type": "code",
      "source": [
        "adam = Adam(lr=1e-3, decay=0.0)\n",
        "adadelta = Adadelta(lr=1.0, rho=0.95, epsilon=None, decay=0.0)\n",
        "rmsprop = RMSprop(lr=0.001, rho=0.9, epsilon=None, decay=0.0)\n",
        "\n",
        "model.compile(loss='categorical_crossentropy',\n",
        "              optimizer=adam,\n",
        "              metrics=['acc'])\n",
        "callbacks = [EarlyStopping(monitor='val_loss', patience=5)]\n",
        "history = model.fit(X_train, y_train, batch_size=1000, epochs=100, verbose=1, validation_data=(X_val, y_val), callbacks=callbacks)  # starts training"
      ],
      "execution_count": 21,
      "outputs": [
        {
          "output_type": "stream",
          "text": [
            "Train on 36090 samples, validate on 4010 samples\n",
            "Epoch 1/100\n",
            "36090/36090 [==============================] - 7s 206us/step - loss: 1.6161 - acc: 0.3815 - val_loss: 1.4707 - val_acc: 0.4920\n",
            "Epoch 2/100\n",
            "36090/36090 [==============================] - 5s 135us/step - loss: 1.4079 - acc: 0.5153 - val_loss: 1.3448 - val_acc: 0.5494\n",
            "Epoch 3/100\n",
            "36090/36090 [==============================] - 5s 134us/step - loss: 1.3035 - acc: 0.5700 - val_loss: 1.2768 - val_acc: 0.5781\n",
            "Epoch 4/100\n",
            "36090/36090 [==============================] - 5s 137us/step - loss: 1.2292 - acc: 0.6072 - val_loss: 1.2164 - val_acc: 0.6120\n",
            "Epoch 5/100\n",
            "36090/36090 [==============================] - 5s 136us/step - loss: 1.1689 - acc: 0.6402 - val_loss: 1.1765 - val_acc: 0.6304\n",
            "Epoch 6/100\n",
            "36090/36090 [==============================] - 5s 134us/step - loss: 1.1193 - acc: 0.6715 - val_loss: 1.1481 - val_acc: 0.6486\n",
            "Epoch 7/100\n",
            "36090/36090 [==============================] - 5s 135us/step - loss: 1.0738 - acc: 0.7023 - val_loss: 1.1237 - val_acc: 0.6616\n",
            "Epoch 8/100\n",
            "36090/36090 [==============================] - 5s 135us/step - loss: 1.0323 - acc: 0.7270 - val_loss: 1.1016 - val_acc: 0.6783\n",
            "Epoch 9/100\n",
            "36090/36090 [==============================] - 5s 136us/step - loss: 0.9918 - acc: 0.7511 - val_loss: 1.0796 - val_acc: 0.6853\n",
            "Epoch 10/100\n",
            "36090/36090 [==============================] - 5s 135us/step - loss: 0.9503 - acc: 0.7747 - val_loss: 1.0605 - val_acc: 0.7002\n",
            "Epoch 11/100\n",
            "36090/36090 [==============================] - 5s 136us/step - loss: 0.9131 - acc: 0.7978 - val_loss: 1.0417 - val_acc: 0.7219\n",
            "Epoch 12/100\n",
            "36090/36090 [==============================] - 5s 135us/step - loss: 0.8754 - acc: 0.8141 - val_loss: 1.0244 - val_acc: 0.7282\n",
            "Epoch 13/100\n",
            "36090/36090 [==============================] - 5s 136us/step - loss: 0.8433 - acc: 0.8314 - val_loss: 1.0147 - val_acc: 0.7342\n",
            "Epoch 14/100\n",
            "36090/36090 [==============================] - 5s 136us/step - loss: 0.8099 - acc: 0.8442 - val_loss: 0.9965 - val_acc: 0.7419\n",
            "Epoch 15/100\n",
            "36090/36090 [==============================] - 5s 136us/step - loss: 0.7824 - acc: 0.8547 - val_loss: 0.9901 - val_acc: 0.7466\n",
            "Epoch 16/100\n",
            "36090/36090 [==============================] - 5s 136us/step - loss: 0.7548 - acc: 0.8671 - val_loss: 0.9781 - val_acc: 0.7529\n",
            "Epoch 17/100\n",
            "36090/36090 [==============================] - 5s 135us/step - loss: 0.7415 - acc: 0.8705 - val_loss: 0.9663 - val_acc: 0.7569\n",
            "Epoch 18/100\n",
            "36090/36090 [==============================] - 5s 135us/step - loss: 0.7198 - acc: 0.8783 - val_loss: 0.9719 - val_acc: 0.7559\n",
            "Epoch 19/100\n",
            "36090/36090 [==============================] - 5s 134us/step - loss: 0.7003 - acc: 0.8836 - val_loss: 0.9601 - val_acc: 0.7579\n",
            "Epoch 20/100\n",
            "36090/36090 [==============================] - 5s 135us/step - loss: 0.6867 - acc: 0.8879 - val_loss: 0.9639 - val_acc: 0.7599\n",
            "Epoch 21/100\n",
            "36090/36090 [==============================] - 5s 135us/step - loss: 0.6704 - acc: 0.8923 - val_loss: 0.9461 - val_acc: 0.7696\n",
            "Epoch 22/100\n",
            "36090/36090 [==============================] - 5s 135us/step - loss: 0.6597 - acc: 0.8950 - val_loss: 0.9468 - val_acc: 0.7628\n",
            "Epoch 23/100\n",
            "36090/36090 [==============================] - 5s 135us/step - loss: 0.6485 - acc: 0.8988 - val_loss: 0.9530 - val_acc: 0.7591\n",
            "Epoch 24/100\n",
            "36090/36090 [==============================] - 5s 134us/step - loss: 0.6328 - acc: 0.9039 - val_loss: 0.9534 - val_acc: 0.7601\n",
            "Epoch 25/100\n",
            "36090/36090 [==============================] - 5s 134us/step - loss: 0.6235 - acc: 0.9050 - val_loss: 0.9444 - val_acc: 0.7628\n",
            "Epoch 26/100\n",
            "36090/36090 [==============================] - 5s 136us/step - loss: 0.6127 - acc: 0.9087 - val_loss: 0.9241 - val_acc: 0.7691\n",
            "Epoch 27/100\n",
            "36090/36090 [==============================] - 5s 136us/step - loss: 0.6069 - acc: 0.9108 - val_loss: 0.9257 - val_acc: 0.7711\n",
            "Epoch 28/100\n",
            "36090/36090 [==============================] - 5s 136us/step - loss: 0.5928 - acc: 0.9139 - val_loss: 0.9179 - val_acc: 0.7726\n",
            "Epoch 29/100\n",
            "36090/36090 [==============================] - 5s 135us/step - loss: 0.5896 - acc: 0.9133 - val_loss: 0.9163 - val_acc: 0.7736\n",
            "Epoch 30/100\n",
            "36090/36090 [==============================] - 5s 135us/step - loss: 0.5805 - acc: 0.9178 - val_loss: 0.9252 - val_acc: 0.7693\n",
            "Epoch 31/100\n",
            "36090/36090 [==============================] - 5s 135us/step - loss: 0.5732 - acc: 0.9188 - val_loss: 0.9255 - val_acc: 0.7733\n",
            "Epoch 32/100\n",
            "36090/36090 [==============================] - 5s 135us/step - loss: 0.5680 - acc: 0.9197 - val_loss: 0.9081 - val_acc: 0.7766\n",
            "Epoch 33/100\n",
            "36090/36090 [==============================] - 5s 136us/step - loss: 0.5575 - acc: 0.9258 - val_loss: 0.9414 - val_acc: 0.7616\n",
            "Epoch 34/100\n",
            "36090/36090 [==============================] - 5s 135us/step - loss: 0.5563 - acc: 0.9239 - val_loss: 0.9147 - val_acc: 0.7728\n",
            "Epoch 35/100\n",
            "36090/36090 [==============================] - 5s 136us/step - loss: 0.5453 - acc: 0.9252 - val_loss: 0.8998 - val_acc: 0.7781\n",
            "Epoch 36/100\n",
            "36090/36090 [==============================] - 5s 135us/step - loss: 0.5409 - acc: 0.9279 - val_loss: 0.9058 - val_acc: 0.7751\n",
            "Epoch 37/100\n",
            "36090/36090 [==============================] - 5s 136us/step - loss: 0.5372 - acc: 0.9274 - val_loss: 0.9155 - val_acc: 0.7703\n",
            "Epoch 38/100\n",
            "36090/36090 [==============================] - 5s 136us/step - loss: 0.5316 - acc: 0.9298 - val_loss: 0.9121 - val_acc: 0.7701\n",
            "Epoch 39/100\n",
            "36090/36090 [==============================] - 5s 136us/step - loss: 0.5253 - acc: 0.9310 - val_loss: 0.9070 - val_acc: 0.7758\n",
            "Epoch 40/100\n",
            "36090/36090 [==============================] - 5s 136us/step - loss: 0.5197 - acc: 0.9328 - val_loss: 0.8937 - val_acc: 0.7763\n",
            "Epoch 41/100\n",
            "36090/36090 [==============================] - 5s 134us/step - loss: 0.5154 - acc: 0.9327 - val_loss: 0.8994 - val_acc: 0.7791\n",
            "Epoch 42/100\n",
            "36090/36090 [==============================] - 5s 135us/step - loss: 0.5109 - acc: 0.9354 - val_loss: 0.8840 - val_acc: 0.7858\n",
            "Epoch 43/100\n",
            "36090/36090 [==============================] - 5s 137us/step - loss: 0.5052 - acc: 0.9353 - val_loss: 0.8860 - val_acc: 0.7865\n",
            "Epoch 44/100\n",
            "36090/36090 [==============================] - 5s 136us/step - loss: 0.5038 - acc: 0.9354 - val_loss: 0.9180 - val_acc: 0.7676\n",
            "Epoch 45/100\n",
            "36090/36090 [==============================] - 5s 135us/step - loss: 0.5004 - acc: 0.9363 - val_loss: 0.8907 - val_acc: 0.7833\n",
            "Epoch 46/100\n",
            "36090/36090 [==============================] - 5s 136us/step - loss: 0.4927 - acc: 0.9387 - val_loss: 0.9061 - val_acc: 0.7791\n",
            "Epoch 47/100\n",
            "36090/36090 [==============================] - 5s 135us/step - loss: 0.4937 - acc: 0.9363 - val_loss: 0.8736 - val_acc: 0.7843\n",
            "Epoch 48/100\n",
            "36090/36090 [==============================] - 5s 134us/step - loss: 0.4853 - acc: 0.9398 - val_loss: 0.8764 - val_acc: 0.7853\n",
            "Epoch 49/100\n",
            "36090/36090 [==============================] - 5s 135us/step - loss: 0.4813 - acc: 0.9410 - val_loss: 0.8809 - val_acc: 0.7835\n",
            "Epoch 50/100\n",
            "36090/36090 [==============================] - 5s 136us/step - loss: 0.4778 - acc: 0.9408 - val_loss: 0.8725 - val_acc: 0.7835\n",
            "Epoch 51/100\n",
            "36090/36090 [==============================] - 5s 135us/step - loss: 0.4754 - acc: 0.9410 - val_loss: 0.8705 - val_acc: 0.7895\n",
            "Epoch 52/100\n",
            "36090/36090 [==============================] - 5s 135us/step - loss: 0.4716 - acc: 0.9440 - val_loss: 0.8672 - val_acc: 0.7928\n",
            "Epoch 53/100\n",
            "36090/36090 [==============================] - 5s 136us/step - loss: 0.4701 - acc: 0.9428 - val_loss: 0.8813 - val_acc: 0.7838\n",
            "Epoch 54/100\n",
            "36090/36090 [==============================] - 5s 135us/step - loss: 0.4645 - acc: 0.9445 - val_loss: 0.8794 - val_acc: 0.7860\n",
            "Epoch 55/100\n",
            "36090/36090 [==============================] - 5s 136us/step - loss: 0.4643 - acc: 0.9447 - val_loss: 0.8768 - val_acc: 0.7858\n",
            "Epoch 56/100\n",
            "36090/36090 [==============================] - 5s 136us/step - loss: 0.4590 - acc: 0.9457 - val_loss: 0.9014 - val_acc: 0.7751\n",
            "Epoch 57/100\n",
            "36090/36090 [==============================] - 5s 135us/step - loss: 0.4559 - acc: 0.9450 - val_loss: 0.8804 - val_acc: 0.7805\n"
          ],
          "name": "stdout"
        }
      ]
    },
    {
      "metadata": {
        "id": "b0P0vTv-7RC6",
        "colab_type": "code",
        "colab": {}
      },
      "cell_type": "code",
      "source": [
        "sequences_test=tokenizer.texts_to_sequences(test_data.text)\n",
        "X_test = pad_sequences(sequences_test, maxlen=X_test.shape[1])\n",
        "y_pred = model.predict(X_test)"
      ],
      "execution_count": 0,
      "outputs": []
    },
    {
      "metadata": {
        "id": "IgHlDfC_-rS5",
        "colab_type": "code",
        "colab": {
          "base_uri": "https://localhost:8080/",
          "height": 34
        },
        "outputId": "bafcd32d-2f74-49b1-bead-6dbae6a1aa4a"
      },
      "cell_type": "code",
      "source": [
        "history.history.keys()"
      ],
      "execution_count": 23,
      "outputs": [
        {
          "output_type": "execute_result",
          "data": {
            "text/plain": [
              "dict_keys(['val_loss', 'val_acc', 'loss', 'acc'])"
            ]
          },
          "metadata": {
            "tags": []
          },
          "execution_count": 23
        }
      ]
    },
    {
      "metadata": {
        "id": "-JaFoS4u_pwS",
        "colab_type": "code",
        "colab": {}
      },
      "cell_type": "code",
      "source": [
        "y_pred_original = [labels[val] for val in np.argmax(y_pred, axis=1).squeeze()]\n",
        "y_test_original = np.asarray(test_data.emotion)"
      ],
      "execution_count": 0,
      "outputs": []
    },
    {
      "metadata": {
        "id": "BREyqdCAI9d0",
        "colab_type": "code",
        "colab": {}
      },
      "cell_type": "code",
      "source": [
        "def print_confusion_matrix(confusion_matrix, class_names, figsize = (4,3), fontsize=15):\n",
        "    \"\"\"Prints a confusion matrix, as returned by sklearn.metrics.confusion_matrix, as a heatmap.\n",
        "    \n",
        "    Arguments\n",
        "    ---------\n",
        "    confusion_matrix: numpy.ndarray\n",
        "        The numpy.ndarray object returned from a call to sklearn.metrics.confusion_matrix. \n",
        "        Similarly constructed ndarrays can also be used.\n",
        "    class_names: list\n",
        "        An ordered list of class names, in the order they index the given confusion matrix.\n",
        "    figsize: tuple\n",
        "        A 2-long tuple, the first value determining the horizontal size of the ouputted figure,\n",
        "        the second determining the vertical size. Defaults to (10,7).\n",
        "    fontsize: int\n",
        "        Font size for axes labels. Defaults to 14.\n",
        "        \n",
        "    Returns\n",
        "    -------\n",
        "    matplotlib.figure.Figure\n",
        "        The resulting confusion matrix figure\n",
        "    \"\"\"\n",
        "    df_cm = pd.DataFrame(\n",
        "        confusion_matrix, index=class_names, columns=class_names, \n",
        "    )\n",
        "    fig = plt.figure(figsize=figsize)\n",
        "    try:\n",
        "        heatmap = sns.heatmap(df_cm, annot=True, fmt=\"d\")\n",
        "    except ValueError:\n",
        "        raise ValueError(\"Confusion matrix values must be integers.\")\n",
        "    heatmap.yaxis.set_ticklabels(heatmap.yaxis.get_ticklabels(), rotation=0, ha='right', fontsize=fontsize)\n",
        "    heatmap.xaxis.set_ticklabels(heatmap.xaxis.get_ticklabels(), rotation=45, ha='right', fontsize=fontsize)\n",
        "    plt.ylabel('True label')\n",
        "    plt.xlabel('Predicted label')\n",
        "    return fig"
      ],
      "execution_count": 0,
      "outputs": []
    },
    {
      "metadata": {
        "id": "XG9HPQb10TZm",
        "colab_type": "code",
        "colab": {
          "base_uri": "https://localhost:8080/",
          "height": 204
        },
        "outputId": "6f154948-8cb9-4a82-93cd-6da903792c63"
      },
      "cell_type": "code",
      "source": [
        "cf_matrix = confusion_matrix(y_test_original, y_pred_original, labels=labels)\n",
        "\n",
        "df_cm = pd.DataFrame(\n",
        "    cf_matrix, index=labels, columns=labels, \n",
        ")\n",
        "\n",
        "df_cm"
      ],
      "execution_count": 26,
      "outputs": [
        {
          "output_type": "execute_result",
          "data": {
            "text/html": [
              "<div>\n",
              "<style scoped>\n",
              "    .dataframe tbody tr th:only-of-type {\n",
              "        vertical-align: middle;\n",
              "    }\n",
              "\n",
              "    .dataframe tbody tr th {\n",
              "        vertical-align: top;\n",
              "    }\n",
              "\n",
              "    .dataframe thead th {\n",
              "        text-align: right;\n",
              "    }\n",
              "</style>\n",
              "<table border=\"1\" class=\"dataframe\">\n",
              "  <thead>\n",
              "    <tr style=\"text-align: right;\">\n",
              "      <th></th>\n",
              "      <th>sadness</th>\n",
              "      <th>joy</th>\n",
              "      <th>worry</th>\n",
              "      <th>love</th>\n",
              "      <th>anger</th>\n",
              "    </tr>\n",
              "  </thead>\n",
              "  <tbody>\n",
              "    <tr>\n",
              "      <th>sadness</th>\n",
              "      <td>606</td>\n",
              "      <td>396</td>\n",
              "      <td>633</td>\n",
              "      <td>99</td>\n",
              "      <td>117</td>\n",
              "    </tr>\n",
              "    <tr>\n",
              "      <th>joy</th>\n",
              "      <td>547</td>\n",
              "      <td>1534</td>\n",
              "      <td>787</td>\n",
              "      <td>480</td>\n",
              "      <td>89</td>\n",
              "    </tr>\n",
              "    <tr>\n",
              "      <th>worry</th>\n",
              "      <td>625</td>\n",
              "      <td>581</td>\n",
              "      <td>1048</td>\n",
              "      <td>157</td>\n",
              "      <td>127</td>\n",
              "    </tr>\n",
              "    <tr>\n",
              "      <th>love</th>\n",
              "      <td>135</td>\n",
              "      <td>339</td>\n",
              "      <td>187</td>\n",
              "      <td>465</td>\n",
              "      <td>27</td>\n",
              "    </tr>\n",
              "    <tr>\n",
              "      <th>anger</th>\n",
              "      <td>118</td>\n",
              "      <td>70</td>\n",
              "      <td>146</td>\n",
              "      <td>13</td>\n",
              "      <td>83</td>\n",
              "    </tr>\n",
              "  </tbody>\n",
              "</table>\n",
              "</div>"
            ],
            "text/plain": [
              "         sadness   joy  worry  love  anger\n",
              "sadness      606   396    633    99    117\n",
              "joy          547  1534    787   480     89\n",
              "worry        625   581   1048   157    127\n",
              "love         135   339    187   465     27\n",
              "anger        118    70    146    13     83"
            ]
          },
          "metadata": {
            "tags": []
          },
          "execution_count": 26
        }
      ]
    },
    {
      "metadata": {
        "id": "59xnXmbEAKXy",
        "colab_type": "code",
        "colab": {
          "base_uri": "https://localhost:8080/",
          "height": 282
        },
        "outputId": "1bd8508a-f8fa-4c13-fa11-27da1961e8ec"
      },
      "cell_type": "code",
      "source": [
        "print(print_confusion_matrix(cf_matrix, class_names=labels))"
      ],
      "execution_count": 27,
      "outputs": [
        {
          "output_type": "stream",
          "text": [
            "Figure(288x216)\n"
          ],
          "name": "stdout"
        },
        {
          "output_type": "display_data",
          "data": {
            "image/png": "[encoded data removed]",
            "text/plain": [
              "<matplotlib.figure.Figure at 0x7fb6110a0fd0>"
            ]
          },
          "metadata": {
            "tags": []
          }
        }
      ]
    },
    {
      "metadata": {
        "id": "9XE5c4LJEZXy",
        "colab_type": "code",
        "colab": {
          "base_uri": "https://localhost:8080/",
          "height": 34
        },
        "outputId": "276aafe2-306f-4969-c965-caf207c885ba"
      },
      "cell_type": "code",
      "source": [
        "test_accuracy = accuracy_score(y_test_original, y_pred_original)\n",
        "print(\"test accuracy:\", test_accuracy)"
      ],
      "execution_count": 28,
      "outputs": [
        {
          "output_type": "stream",
          "text": [
            "test accuracy: 0.397066638325008\n"
          ],
          "name": "stdout"
        }
      ]
    },
    {
      "metadata": {
        "id": "jAISNDCVwvR7",
        "colab_type": "text"
      },
      "cell_type": "markdown",
      "source": [
        "### Performance score for each classes"
      ]
    },
    {
      "metadata": {
        "id": "iFb9Q6A1DcXi",
        "colab_type": "code",
        "colab": {
          "base_uri": "https://localhost:8080/",
          "height": 204
        },
        "outputId": "b0837905-6f1f-4d47-9542-f90f040c28ac"
      },
      "cell_type": "code",
      "source": [
        "precision, recall, fscore, support = precision_recall_fscore_support(y_test_original, y_pred_original)\n",
        "score_dict = {\n",
        "  \"precision\": precision.round(4),\n",
        "  \"recall\": recall.round(4),\n",
        "  \"f1-score\": fscore.round(4),\n",
        "  \"support\": support.round(4)\n",
        "}\n",
        "score_df = pd.DataFrame(score_dict, index=labels)\n",
        "score_df"
      ],
      "execution_count": 29,
      "outputs": [
        {
          "output_type": "execute_result",
          "data": {
            "text/html": [
              "<div>\n",
              "<style scoped>\n",
              "    .dataframe tbody tr th:only-of-type {\n",
              "        vertical-align: middle;\n",
              "    }\n",
              "\n",
              "    .dataframe tbody tr th {\n",
              "        vertical-align: top;\n",
              "    }\n",
              "\n",
              "    .dataframe thead th {\n",
              "        text-align: right;\n",
              "    }\n",
              "</style>\n",
              "<table border=\"1\" class=\"dataframe\">\n",
              "  <thead>\n",
              "    <tr style=\"text-align: right;\">\n",
              "      <th></th>\n",
              "      <th>f1-score</th>\n",
              "      <th>precision</th>\n",
              "      <th>recall</th>\n",
              "      <th>support</th>\n",
              "    </tr>\n",
              "  </thead>\n",
              "  <tbody>\n",
              "    <tr>\n",
              "      <th>sadness</th>\n",
              "      <td>0.1901</td>\n",
              "      <td>0.1874</td>\n",
              "      <td>0.1930</td>\n",
              "      <td>430</td>\n",
              "    </tr>\n",
              "    <tr>\n",
              "      <th>joy</th>\n",
              "      <td>0.4826</td>\n",
              "      <td>0.5253</td>\n",
              "      <td>0.4463</td>\n",
              "      <td>3437</td>\n",
              "    </tr>\n",
              "    <tr>\n",
              "      <th>worry</th>\n",
              "      <td>0.3929</td>\n",
              "      <td>0.3830</td>\n",
              "      <td>0.4033</td>\n",
              "      <td>1153</td>\n",
              "    </tr>\n",
              "    <tr>\n",
              "      <th>love</th>\n",
              "      <td>0.3122</td>\n",
              "      <td>0.2984</td>\n",
              "      <td>0.3274</td>\n",
              "      <td>1851</td>\n",
              "    </tr>\n",
              "    <tr>\n",
              "      <th>anger</th>\n",
              "      <td>0.3926</td>\n",
              "      <td>0.3742</td>\n",
              "      <td>0.4129</td>\n",
              "      <td>2538</td>\n",
              "    </tr>\n",
              "  </tbody>\n",
              "</table>\n",
              "</div>"
            ],
            "text/plain": [
              "         f1-score  precision  recall  support\n",
              "sadness    0.1901     0.1874  0.1930      430\n",
              "joy        0.4826     0.5253  0.4463     3437\n",
              "worry      0.3929     0.3830  0.4033     1153\n",
              "love       0.3122     0.2984  0.3274     1851\n",
              "anger      0.3926     0.3742  0.4129     2538"
            ]
          },
          "metadata": {
            "tags": []
          },
          "execution_count": 29
        }
      ]
    },
    {
      "metadata": {
        "id": "cHi1Gw7Oz1zG",
        "colab_type": "text"
      },
      "cell_type": "markdown",
      "source": [
        "### Performance score using micro average"
      ]
    },
    {
      "metadata": {
        "id": "KP69PDE9D_jz",
        "colab_type": "code",
        "colab": {
          "base_uri": "https://localhost:8080/",
          "height": 80
        },
        "outputId": "cadcf2bb-526d-42d6-9f9a-e3cc160db39f"
      },
      "cell_type": "code",
      "source": [
        "precision, recall, fscore, support = precision_recall_fscore_support(y_test_original, y_pred_original, average=\"micro\")\n",
        "score_dict = {\n",
        "  \"precision\": precision.round(4),\n",
        "  \"recall\": recall.round(4),\n",
        "  \"f1-score\": fscore.round(4),\n",
        "  \"support\": support\n",
        "}\n",
        "score_df = pd.DataFrame(score_dict, index=[\"score\"])\n",
        "score_df"
      ],
      "execution_count": 30,
      "outputs": [
        {
          "output_type": "execute_result",
          "data": {
            "text/html": [
              "<div>\n",
              "<style scoped>\n",
              "    .dataframe tbody tr th:only-of-type {\n",
              "        vertical-align: middle;\n",
              "    }\n",
              "\n",
              "    .dataframe tbody tr th {\n",
              "        vertical-align: top;\n",
              "    }\n",
              "\n",
              "    .dataframe thead th {\n",
              "        text-align: right;\n",
              "    }\n",
              "</style>\n",
              "<table border=\"1\" class=\"dataframe\">\n",
              "  <thead>\n",
              "    <tr style=\"text-align: right;\">\n",
              "      <th></th>\n",
              "      <th>f1-score</th>\n",
              "      <th>precision</th>\n",
              "      <th>recall</th>\n",
              "      <th>support</th>\n",
              "    </tr>\n",
              "  </thead>\n",
              "  <tbody>\n",
              "    <tr>\n",
              "      <th>score</th>\n",
              "      <td>0.3971</td>\n",
              "      <td>0.3971</td>\n",
              "      <td>0.3971</td>\n",
              "      <td>None</td>\n",
              "    </tr>\n",
              "  </tbody>\n",
              "</table>\n",
              "</div>"
            ],
            "text/plain": [
              "       f1-score  precision  recall support\n",
              "score    0.3971     0.3971  0.3971    None"
            ]
          },
          "metadata": {
            "tags": []
          },
          "execution_count": 30
        }
      ]
    },
    {
      "metadata": {
        "id": "IWXNCktiz8Vb",
        "colab_type": "text"
      },
      "cell_type": "markdown",
      "source": [
        "### Performance score using macro average"
      ]
    },
    {
      "metadata": {
        "id": "g4e0vsNIydDs",
        "colab_type": "code",
        "colab": {
          "base_uri": "https://localhost:8080/",
          "height": 80
        },
        "outputId": "db4f441c-c8de-4dc3-ee16-ee02f4a2e002"
      },
      "cell_type": "code",
      "source": [
        "precision, recall, fscore, support = precision_recall_fscore_support(y_test_original, y_pred_original, average=\"macro\")\n",
        "score_dict = {\n",
        "  \"precision\": precision.round(4),\n",
        "  \"recall\": recall.round(4),\n",
        "  \"f1-score\": fscore.round(4),\n",
        "  \"support\": support\n",
        "}\n",
        "score_df = pd.DataFrame(score_dict, index=[\"score\"])\n",
        "score_df"
      ],
      "execution_count": 31,
      "outputs": [
        {
          "output_type": "execute_result",
          "data": {
            "text/html": [
              "<div>\n",
              "<style scoped>\n",
              "    .dataframe tbody tr th:only-of-type {\n",
              "        vertical-align: middle;\n",
              "    }\n",
              "\n",
              "    .dataframe tbody tr th {\n",
              "        vertical-align: top;\n",
              "    }\n",
              "\n",
              "    .dataframe thead th {\n",
              "        text-align: right;\n",
              "    }\n",
              "</style>\n",
              "<table border=\"1\" class=\"dataframe\">\n",
              "  <thead>\n",
              "    <tr style=\"text-align: right;\">\n",
              "      <th></th>\n",
              "      <th>f1-score</th>\n",
              "      <th>precision</th>\n",
              "      <th>recall</th>\n",
              "      <th>support</th>\n",
              "    </tr>\n",
              "  </thead>\n",
              "  <tbody>\n",
              "    <tr>\n",
              "      <th>score</th>\n",
              "      <td>0.3541</td>\n",
              "      <td>0.3537</td>\n",
              "      <td>0.3566</td>\n",
              "      <td>None</td>\n",
              "    </tr>\n",
              "  </tbody>\n",
              "</table>\n",
              "</div>"
            ],
            "text/plain": [
              "       f1-score  precision  recall support\n",
              "score    0.3541     0.3537  0.3566    None"
            ]
          },
          "metadata": {
            "tags": []
          },
          "execution_count": 31
        }
      ]
    },
    {
      "metadata": {
        "id": "wFJFH7u6z-oG",
        "colab_type": "text"
      },
      "cell_type": "markdown",
      "source": [
        "### Performance score using weighted average"
      ]
    },
    {
      "metadata": {
        "id": "z99JkHjuzv68",
        "colab_type": "code",
        "colab": {
          "base_uri": "https://localhost:8080/",
          "height": 80
        },
        "outputId": "9d5972de-90cc-4d42-93b9-5e3596ddb5ec"
      },
      "cell_type": "code",
      "source": [
        "precision, recall, fscore, support = precision_recall_fscore_support(y_test_original, y_pred_original, average=\"weighted\")\n",
        "score_dict = {\n",
        "  \"precision\": precision.round(4),\n",
        "  \"recall\": recall.round(4),\n",
        "  \"f1-score\": fscore.round(4),\n",
        "  \"support\": support\n",
        "}\n",
        "score_df = pd.DataFrame(score_dict, index=[\"score\"])\n",
        "score_df"
      ],
      "execution_count": 32,
      "outputs": [
        {
          "output_type": "execute_result",
          "data": {
            "text/html": [
              "<div>\n",
              "<style scoped>\n",
              "    .dataframe tbody tr th:only-of-type {\n",
              "        vertical-align: middle;\n",
              "    }\n",
              "\n",
              "    .dataframe tbody tr th {\n",
              "        vertical-align: top;\n",
              "    }\n",
              "\n",
              "    .dataframe thead th {\n",
              "        text-align: right;\n",
              "    }\n",
              "</style>\n",
              "<table border=\"1\" class=\"dataframe\">\n",
              "  <thead>\n",
              "    <tr style=\"text-align: right;\">\n",
              "      <th></th>\n",
              "      <th>f1-score</th>\n",
              "      <th>precision</th>\n",
              "      <th>recall</th>\n",
              "      <th>support</th>\n",
              "    </tr>\n",
              "  </thead>\n",
              "  <tbody>\n",
              "    <tr>\n",
              "      <th>score</th>\n",
              "      <td>0.4004</td>\n",
              "      <td>0.407</td>\n",
              "      <td>0.3971</td>\n",
              "      <td>None</td>\n",
              "    </tr>\n",
              "  </tbody>\n",
              "</table>\n",
              "</div>"
            ],
            "text/plain": [
              "       f1-score  precision  recall support\n",
              "score    0.4004      0.407  0.3971    None"
            ]
          },
          "metadata": {
            "tags": []
          },
          "execution_count": 32
        }
      ]
    },
    {
      "metadata": {
        "id": "praJLop1zxg9",
        "colab_type": "code",
        "colab": {}
      },
      "cell_type": "code",
      "source": [
        ""
      ],
      "execution_count": 0,
      "outputs": []
    }
  ]
}