{
 "cells": [
  {
   "cell_type": "code",
   "execution_count": 1,
   "metadata": {},
   "outputs": [
    {
     "name": "stderr",
     "output_type": "stream",
     "text": [
      "Using TensorFlow backend.\n"
     ]
    },
    {
     "name": "stdout",
     "output_type": "stream",
     "text": [
      "1.10.0\n",
      "['/job:localhost/replica:0/task:0/device:GPU:0']\n"
     ]
    }
   ],
   "source": [
    "import os\n",
    "os.environ[\"CUDA_DEVICE_ORDER\"]=\"PCI_BUS_ID\"\n",
    "# The GPU id to use, usually either \"0\" or \"1\"\n",
    "os.environ[\"CUDA_VISIBLE_DEVICES\"]=\"7\"\n",
    "\n",
    "import tensorflow as tf\n",
    "from keras import backend as K\n",
    "print(tf.__version__)\n",
    "print(K.tensorflow_backend._get_available_gpus())"
   ]
  },
  {
   "cell_type": "code",
   "execution_count": 2,
   "metadata": {
    "colab": {
     "base_uri": "https://localhost:8080/",
     "height": 53
    },
    "colab_type": "code",
    "id": "OdaHCMv2rGKs",
    "outputId": "757ce36e-5dc9-4f0b-888a-afe86c9e8511"
   },
   "outputs": [],
   "source": [
    "import os\n",
    "from tensorflow import keras\n",
    "import numpy as np\n",
    "import urllib.request\n",
    "import pandas as pd\n",
    "from gensim.test.utils import common_texts, get_tmpfile\n",
    "from gensim.utils import simple_preprocess\n",
    "from gensim.models import Word2Vec\n",
    "from tempfile import gettempdir\n",
    "import zipfile\n",
    "from keras.preprocessing.text import Tokenizer\n",
    "from keras.preprocessing.sequence import pad_sequences\n",
    "from keras.utils import to_categorical\n",
    "from sklearn.model_selection import train_test_split\n",
    "from sklearn.metrics import confusion_matrix, precision_recall_fscore_support, accuracy_score\n",
    "import matplotlib.pyplot as plt\n",
    "import seaborn as sns"
   ]
  },
  {
   "cell_type": "code",
   "execution_count": 3,
   "metadata": {},
   "outputs": [],
   "source": [
    "from numpy.random import seed\n",
    "from tensorflow import set_random_seed\n",
    "\n",
    "RANDOM_SEED = 20190101\n",
    "\n",
    "def set_random(random_seed):\n",
    "    seed(random_seed)\n",
    "    set_random_seed(random_seed)\n",
    "\n",
    "set_random(RANDOM_SEED)"
   ]
  },
  {
   "cell_type": "code",
   "execution_count": 4,
   "metadata": {
    "colab": {},
    "colab_type": "code",
    "id": "oBynQmEcrNAy"
   },
   "outputs": [],
   "source": [
    "class EmoIntDataset(object):\n",
    "    BASE_URL = \"http://saifmohammad.com/WebDocs/\"\n",
    "    TRAIN_URI = \"EmoInt%20Train%20Data/{}-ratings-0to1.train.txt\"\n",
    "    TEST_URI = \"EmoInt%20Test%20Gold%20Data/{}-ratings-0to1.test.gold.txt\"\n",
    "    EMOTION_CLASSES = [\"anger\", \"fear\", \"joy\", \"sadness\"]\n",
    "    THRESHOLD = 0.33\n",
    "\n",
    "    def __load_data_per_class(self, url, threshold=0):\n",
    "        resource = urllib.request.urlopen(url)\n",
    "        np_array = np.asarray([line.split('\\t') for line in [line.strip() for line in resource.read().decode('utf-8').splitlines()]])\n",
    "        df = pd.DataFrame(np_array, columns=[\"id\", \"text\", \"emotion\", \"emotion_level\"])\n",
    "        df['emotion_level'] = df['emotion_level'].astype(float)\n",
    "        df = df.query('emotion_level>' + str(threshold))\n",
    "        return df[[\"text\", \"emotion\"]]\n",
    "\n",
    "    def load_data(self, set_threshold=False):\n",
    "        train_data = None\n",
    "        test_data = None\n",
    "\n",
    "        for emotion in self.EMOTION_CLASSES:\n",
    "            # load train dataset\n",
    "            train_df = self.__load_data_per_class(self.BASE_URL + self.TRAIN_URI.format(emotion), threshold=(self.THRESHOLD if set_threshold else 0))\n",
    "\n",
    "            # load test dataset\n",
    "            test_df = self.__load_data_per_class(self.BASE_URL + self.TEST_URI.format(emotion), threshold=(self.THRESHOLD if set_threshold else 0))\n",
    "\n",
    "            train_data = (train_df if train_data is None else train_data.append(train_df))\n",
    "            test_data = (test_df if test_data is None else test_data.append(test_df))\n",
    "\n",
    "        return train_data, test_data"
   ]
  },
  {
   "cell_type": "code",
   "execution_count": 5,
   "metadata": {
    "colab": {
     "base_uri": "https://localhost:8080/",
     "height": 71
    },
    "colab_type": "code",
    "id": "tevwfq4Tu6fe",
    "outputId": "5507d39f-e094-4727-d761-2c4d1a883ecb"
   },
   "outputs": [
    {
     "name": "stdout",
     "output_type": "stream",
     "text": [
      "(2610, 2)\n",
      "(291, 2)\n",
      "(2508, 2)\n"
     ]
    }
   ],
   "source": [
    "emo_int_dataset = EmoIntDataset()\n",
    "train_data, test_data = emo_int_dataset.load_data(set_threshold=True)\n",
    "train_data, valid_data = train_test_split(train_data, test_size=0.1, random_state=200, stratify=train_data.emotion)\n",
    "\n",
    "print(train_data.shape)\n",
    "print(valid_data.shape)\n",
    "print(test_data.shape)"
   ]
  },
  {
   "cell_type": "code",
   "execution_count": 6,
   "metadata": {
    "colab": {
     "base_uri": "https://localhost:8080/",
     "height": 53
    },
    "colab_type": "code",
    "id": "J-xXkD_4175U",
    "outputId": "abd86198-fa3a-4c35-eb10-993337f48b8a"
   },
   "outputs": [
    {
     "name": "stdout",
     "output_type": "stream",
     "text": [
      "{'fear': 0, 'anger': 1, 'sadness': 2, 'joy': 3}\n",
      "['fear', 'anger', 'sadness', 'joy']\n"
     ]
    }
   ],
   "source": [
    "emotions = train_data.emotion.unique()\n",
    "dic = dict()\n",
    "labels = []\n",
    "for i, emotion in enumerate(emotions):\n",
    "    dic[emotion]=i\n",
    "    labels.append(emotion)\n",
    "print(dic)\n",
    "print(labels)"
   ]
  },
  {
   "cell_type": "code",
   "execution_count": 7,
   "metadata": {
    "colab": {
     "base_uri": "https://localhost:8080/",
     "height": 35
    },
    "colab_type": "code",
    "id": "yhA_GXLyw1gx",
    "outputId": "6a4c4c00-a630-4af6-a75c-fea4d0a33070"
   },
   "outputs": [
    {
     "name": "stdout",
     "output_type": "stream",
     "text": [
      "Found 8672 unique tokens.\n"
     ]
    }
   ],
   "source": [
    "NUM_WORDS=20000\n",
    "texts = train_data.text\n",
    "tokenizer = Tokenizer(num_words=NUM_WORDS,filters='!\"#$%&()*+,-./:;<=>?@[\\\\]^_`{|}~\\t\\n\\'',\n",
    "                      lower=True)\n",
    "tokenizer.fit_on_texts(texts)\n",
    "sequences_train = tokenizer.texts_to_sequences(texts)\n",
    "sequences_valid = tokenizer.texts_to_sequences(valid_data.text)\n",
    "sequences_test = tokenizer.texts_to_sequences(test_data.text)\n",
    "word_index = tokenizer.word_index\n",
    "print('Found %s unique tokens.' % len(word_index))"
   ]
  },
  {
   "cell_type": "code",
   "execution_count": 8,
   "metadata": {
    "colab": {
     "base_uri": "https://localhost:8080/",
     "height": 53
    },
    "colab_type": "code",
    "id": "f3a8LX2z0Vn3",
    "outputId": "9fe28fe7-328a-4fcb-9872-437ec9683444"
   },
   "outputs": [
    {
     "name": "stdout",
     "output_type": "stream",
     "text": [
      "Shape of X train, validation and test tensor: (2610, 33) (291, 33) (2508, 33)\n",
      "Shape of label train, validation and test tensor: (2610, 4) (291, 4) (2508, 4)\n"
     ]
    }
   ],
   "source": [
    "X_train = pad_sequences(sequences_train)\n",
    "X_val = pad_sequences(sequences_valid, maxlen=X_train.shape[1])\n",
    "X_test = pad_sequences(sequences_test, maxlen=X_train.shape[1])\n",
    "\n",
    "y_train = to_categorical(np.asarray(train_data.emotion.apply(lambda x:dic[x])))\n",
    "y_val = to_categorical(np.asarray(valid_data.emotion.apply(lambda x:dic[x])))\n",
    "y_test = to_categorical(np.asarray(test_data.emotion.apply(lambda x:dic[x])))\n",
    "\n",
    "print('Shape of X train, validation and test tensor:', X_train.shape, X_val.shape, X_test.shape)\n",
    "print('Shape of label train, validation and test tensor:', y_train.shape, y_val.shape, y_test.shape)"
   ]
  },
  {
   "cell_type": "code",
   "execution_count": 9,
   "metadata": {
    "colab": {},
    "colab_type": "code",
    "id": "OZprqF6Yqeoe"
   },
   "outputs": [],
   "source": [
    "np.save(\"emoint_X_train.npy\", X_train)\n",
    "np.save(\"emoint_X_val.npy\", X_val)\n",
    "np.save(\"emoint_X_test.npy\", X_test)\n",
    "\n",
    "np.save(\"emoint_y_train.npy\", y_train)\n",
    "np.save(\"emoint_y_val.npy\", y_val)\n",
    "np.save(\"emoint_y_test.npy\", y_test)"
   ]
  },
  {
   "cell_type": "markdown",
   "metadata": {
    "colab_type": "text",
    "id": "kdMDYkGMF7CA"
   },
   "source": [
    "## Word Embedding using Word2Vec trained in Google News"
   ]
  },
  {
   "cell_type": "code",
   "execution_count": 12,
   "metadata": {
    "colab": {},
    "colab_type": "code",
    "id": "naD_jPLlmlFq"
   },
   "outputs": [],
   "source": [
    "import gensim\n",
    "from gensim.models import Word2Vec\n",
    "from gensim.utils import simple_preprocess\n",
    "\n",
    "from gensim.models.keyedvectors import KeyedVectors\n",
    "\n",
    "word_vectors = KeyedVectors.load_word2vec_format('../../Datasets/WordEmbeddings/GoogleNews-vectors-negative300.bin.gz', binary=True)\n",
    "\n",
    "EMBEDDING_DIM=300\n",
    "vocabulary_size = min(len(word_index)+1, NUM_WORDS)\n",
    "embedding_matrix = np.zeros((vocabulary_size, EMBEDDING_DIM))\n",
    "for word, i in word_index.items():\n",
    "    if i>=NUM_WORDS:\n",
    "        continue\n",
    "    try:\n",
    "        embedding_vector = word_vectors[word]\n",
    "        embedding_matrix[i] = embedding_vector\n",
    "    except KeyError:\n",
    "        embedding_matrix[i] = np.random.normal(0,np.sqrt(0.25), EMBEDDING_DIM)\n",
    "\n",
    "del(word_vectors)"
   ]
  },
  {
   "cell_type": "code",
   "execution_count": 13,
   "metadata": {
    "colab": {},
    "colab_type": "code",
    "id": "aXmsV7sr7Ovh"
   },
   "outputs": [],
   "source": [
    "file_embedded_matrix = \"emoint_embedded_matrix_word2vec.npy\"\n",
    "np.save(file_embedded_matrix, embedding_matrix)"
   ]
  },
  {
   "cell_type": "markdown",
   "metadata": {
    "colab_type": "text",
    "id": "TD731zTjqTI3"
   },
   "source": [
    "## Reload the embedded layer and training dataset"
   ]
  },
  {
   "cell_type": "code",
   "execution_count": 14,
   "metadata": {
    "colab": {
     "base_uri": "https://localhost:8080/",
     "height": 71
    },
    "colab_type": "code",
    "id": "SgGl84NR9Y2Y",
    "outputId": "61b12e65-4402-4a12-c7f8-984d7ba226fb"
   },
   "outputs": [
    {
     "name": "stdout",
     "output_type": "stream",
     "text": [
      "embedding matrix shape: (8673, 300)\n"
     ]
    }
   ],
   "source": [
    "file_embedded_matrix = \"emoint_embedded_matrix_word2vec.npy\"\n",
    "embedding_matrix = np.load(file_embedded_matrix)\n",
    "print(\"embedding matrix shape:\", embedding_matrix.shape)"
   ]
  },
  {
   "cell_type": "code",
   "execution_count": 15,
   "metadata": {
    "colab": {
     "base_uri": "https://localhost:8080/",
     "height": 557
    },
    "colab_type": "code",
    "id": "txZDRozUyXAQ",
    "outputId": "ed176b31-9088-4236-d632-83748ce4e04a"
   },
   "outputs": [],
   "source": [
    "X_train = np.load(\"emoint_X_train.npy\")\n",
    "X_val = np.load(\"emoint_X_val.npy\")\n",
    "X_test = np.load(\"emoint_X_test.npy\")\n",
    "\n",
    "y_train = np.load(\"emoint_y_train.npy\")\n",
    "y_val = np.load(\"emoint_y_val.npy\")\n",
    "y_test = np.load(\"emoint_y_test.npy\")"
   ]
  },
  {
   "cell_type": "code",
   "execution_count": 16,
   "metadata": {
    "colab": {
     "base_uri": "https://localhost:8080/",
     "height": 341
    },
    "colab_type": "code",
    "id": "Q0fX0z7_7Mi5",
    "outputId": "82ec7754-bcbf-44d7-bf24-6a2cd3639bc9"
   },
   "outputs": [
    {
     "name": "stdout",
     "output_type": "stream",
     "text": [
      "sequence length: 33\n",
      "_________________________________________________________________\n",
      "Layer (type)                 Output Shape              Param #   \n",
      "=================================================================\n",
      "input_1 (InputLayer)         (None, 33)                0         \n",
      "_________________________________________________________________\n",
      "embedding (Embedding)        (None, 33, 300)           2601900   \n",
      "_________________________________________________________________\n",
      "spatial_dropout (SpatialDrop (None, 33, 300)           0         \n",
      "_________________________________________________________________\n",
      "bidirectional_1 (Bidirection (None, 1200)              4324800   \n",
      "_________________________________________________________________\n",
      "output (Dense)               (None, 4)                 4804      \n",
      "=================================================================\n",
      "Total params: 6,931,504\n",
      "Trainable params: 6,931,504\n",
      "Non-trainable params: 0\n",
      "_________________________________________________________________\n"
     ]
    }
   ],
   "source": [
    "from keras.layers import Dense, Input, GlobalMaxPooling1D\n",
    "from keras.layers import Conv1D, MaxPooling1D, Embedding\n",
    "from keras.models import Model\n",
    "from keras.layers import Input, Dense, Embedding, Conv2D, MaxPooling2D, Dropout, concatenate, LSTM, SpatialDropout1D, Bidirectional\n",
    "from keras.layers.core import Reshape, Flatten\n",
    "from keras.callbacks import EarlyStopping, ModelCheckpoint\n",
    "from keras.optimizers import Adam, Adadelta, RMSprop\n",
    "from keras.models import Model\n",
    "from keras import regularizers\n",
    "sequence_length = X_train.shape[1]\n",
    "HIDDEN_DIM = 600\n",
    "DROPOUT_RATE = 0.2\n",
    "N_CLASSES = 4\n",
    "vocabulary_size = 8673\n",
    "EMBEDDING_DIM=300\n",
    "\n",
    "print(\"sequence length:\", sequence_length)\n",
    "\n",
    "inputs = Input(shape=(sequence_length,), name='input_1')\n",
    "embedding_layer = Embedding(vocabulary_size, EMBEDDING_DIM, weights=[embedding_matrix], input_length=sequence_length, trainable=True, name='embedding')\n",
    "embedding = embedding_layer(inputs)\n",
    "spatial_droput = SpatialDropout1D(0.4, name='spatial_dropout')(embedding)\n",
    "lstm = Bidirectional(LSTM(units=HIDDEN_DIM, dropout=DROPOUT_RATE, recurrent_dropout=DROPOUT_RATE, name='lstm'))(spatial_droput)\n",
    "output = Dense(units=N_CLASSES, activation='softmax', name='output')(lstm)\n",
    "\n",
    "model = None \n",
    "\n",
    "# this creates a model that includes\n",
    "model = Model(inputs, output)\n",
    "\n",
    "model.summary()"
   ]
  },
  {
   "cell_type": "code",
   "execution_count": 17,
   "metadata": {
    "colab": {
     "base_uri": "https://localhost:8080/",
     "height": 395
    },
    "colab_type": "code",
    "id": "rClQ6sed4JA5",
    "outputId": "20296d37-73a1-466f-99fa-fc6504e99985"
   },
   "outputs": [
    {
     "name": "stdout",
     "output_type": "stream",
     "text": [
      "total 233084\r\n",
      "drwxrwx--- 8 david david     4096 Dec 20 17:58 .git\r\n",
      "-rw-rw---- 1 david david     1234 Dec 19 13:29 .gitignore\r\n",
      "drwxrwx--- 2 david david     4096 Dec 21 10:07 .ipynb_checkpoints\r\n",
      "-rw-rw---- 1 david david    25666 Dec 21 10:23 .~EmoInt_Emotion_Analysis_Bidirectional_LSTM_Threshold_0_33-Word2Vec-local.ipynb\r\n",
      "-rw-rw---- 1 david david   175476 Dec 18 15:21 CrowdFlower_Emotion_Analysis_ConvNet.ipynb\r\n",
      "-rw-rw---- 1 david david   144822 Dec 18 15:21 EmoInt_Embedding_Comparison.ipynb\r\n",
      "-rw-rw---- 1 david david        0 Dec 21 10:23 EmoInt_Emotion_Analysis_Bidirectional_LSTM_Threshold_0_33-Word2Vec-local.ipynb\r\n",
      "-rw-rw---- 1 david david    99516 Dec 21 10:03 EmoInt_Emotion_Analysis_Bidirectional_LSTM_Threshold_0_33.ipynb\r\n",
      "-rw-rw---- 1 david david   115651 Dec 18 15:21 EmoInt_Emotion_Analysis_ConvNet_LSTM_Threshold_0_33.ipynb\r\n",
      "-rw-rw---- 1 david david    84622 Dec 18 15:21 EmoInt_Emotion_Analysis_ConvNet_Threshold_0_30.ipynb\r\n",
      "-rw-rw---- 1 david david   133515 Dec 19 10:26 EmoInt_Emotion_Analysis_ConvNet_Threshold_0_33.ipynb\r\n",
      "-rw-rw---- 1 david david    94037 Dec 21 10:17 EmoInt_Emotion_Analysis_ConvNet_Threshold_0_33_FastText_local.ipynb\r\n",
      "-rw-rw---- 1 david david   141607 Dec 19 14:08 EmoInt_Emotion_Analysis_ConvNet_Threshold_0_33_Glove.ipynb\r\n",
      "-rw-rw---- 1 david david    23530 Dec 19 14:46 EmoInt_Emotion_Analysis_ConvNet_Threshold_0_33_Glove_local.ipynb\r\n",
      "-rw-rw---- 1 david david    83252 Dec 19 14:03 EmoInt_Emotion_Analysis_ConvNet_Threshold_0_33_Word2VecTwitter_local.ipynb\r\n",
      "-rw-rw---- 1 david david    87101 Dec 19 14:08 EmoInt_Emotion_Analysis_ConvNet_Threshold_0_33_local.ipynb\r\n",
      "-rw-rw---- 1 david david    38776 Dec 19 16:14 EmoInt_Emotion_Analysis_Elmo_Threshold_0_33.ipynb\r\n",
      "-rw-rw---- 1 david david   116312 Dec 18 15:21 EmoInt_Emotion_Analysis_LSTM_Threshold_0_33.ipynb\r\n",
      "-rw-rw---- 1 david david    76589 Dec 18 15:21 EmoInt_Sentiment_Analysis_ConvNet.ipynb\r\n",
      "-rw-rw---- 1 david david    79654 Dec 18 15:21 EmoInt_Sentiment_Analysis_LSTM_ConvNet.ipynb\r\n",
      "-rw-rw---- 1 david david   251911 Dec 18 15:21 ISEAR_Embedding_Comparison.ipynb\r\n",
      "-rw-rw---- 1 david david   159006 Dec 18 15:21 ISEAR_Emotion_Analysis_ConvNet.ipynb\r\n",
      "-rw-rw---- 1 david david    35147 Dec 18 15:21 LICENSE\r\n",
      "-rw-rw---- 1 david david       29 Dec 18 15:21 README.md\r\n",
      "-rw-rw---- 1 david david    19549 Dec 19 15:50 Test_Elmo_Keras.ipynb\r\n",
      "drwxrwx--- 2 david david     4096 Dec 18 15:21 data\r\n",
      "-rw-rw---- 1 david david   331184 Dec 21 10:17 emoint_X_test.npy\r\n",
      "-rw-rw---- 1 david david   344648 Dec 21 10:17 emoint_X_train.npy\r\n",
      "-rw-rw---- 1 david david    38540 Dec 21 10:17 emoint_X_val.npy\r\n",
      "-rw-rw---- 1 david david 23554384 Dec 20 17:53 emoint_convnet_fasttext_model.h5\r\n",
      "-rw-rw---- 1 david david 11783784 Dec 20 17:53 emoint_convnet_fasttext_weights.h5\r\n",
      "-rw-rw---- 1 david david 15720784 Dec 19 14:02 emoint_convnet_glove_twitter_model.h5\r\n",
      "-rw-rw---- 1 david david  7866984 Dec 19 14:02 emoint_convnet_glove_twitter_weights.h5\r\n",
      "-rw-rw---- 1 david david 31387984 Dec 19 13:50 emoint_convnet_model.h5\r\n",
      "-rw-rw---- 1 david david 15700584 Dec 19 13:50 emoint_convnet_weights.h5\r\n",
      "-rw-rw---- 1 david david 31387984 Dec 19 13:50 emoint_convnet_word2vec_twitter_model.h5\r\n",
      "-rw-rw---- 1 david david 15700584 Dec 19 13:50 emoint_convnet_word2vec_twitter_weights.h5\r\n",
      "-rw-rw---- 1 david david 20620928 Dec 20 17:52 emoint_embedded_matrix_fasttext_wikipedia.npy\r\n",
      "-rw-rw---- 1 david david 13747328 Dec 19 14:00 emoint_embedded_matrix_glove_twitter.npy\r\n",
      "-rw-rw---- 1 david david 20815328 Dec 21 10:21 emoint_embedded_matrix_word2vec.npy\r\n",
      "-rw-rw---- 1 david david 27494528 Dec 19 13:49 emoint_embedded_matrix_word2vec_twitter.npy\r\n",
      "-rw-rw---- 1 david david    40256 Dec 21 10:17 emoint_y_test.npy\r\n",
      "-rw-rw---- 1 david david    41888 Dec 21 10:17 emoint_y_train.npy\r\n",
      "-rw-rw---- 1 david david     4784 Dec 21 10:17 emoint_y_val.npy\r\n",
      "drwxr-x--- 3 david david     4096 Dec 19 16:06 tfhub_modules\r\n",
      "drwxrwx--- 2 david david     4096 Dec 21 10:23 tmp\r\n"
     ]
    }
   ],
   "source": [
    "!rm -r tmp\n",
    "!mkdir tmp\n",
    "!ls -lA"
   ]
  },
  {
   "cell_type": "code",
   "execution_count": 18,
   "metadata": {
    "colab": {
     "base_uri": "https://localhost:8080/",
     "height": 4283
    },
    "colab_type": "code",
    "id": "HHZ1POD77GRp",
    "outputId": "0864429c-6681-43a6-bd68-9bc6099c55e2"
   },
   "outputs": [
    {
     "name": "stdout",
     "output_type": "stream",
     "text": [
      "Train on 2610 samples, validate on 291 samples\n",
      "Epoch 1/100\n",
      "2610/2610 [==============================] - 4s 2ms/step - loss: 1.3680 - acc: 0.3015 - val_loss: 1.7628 - val_acc: 0.2371\n",
      "\n",
      "Epoch 00001: val_acc improved from -inf to 0.23711, saving model to tmp/weights-01-0.24.hdf5\n",
      "Epoch 2/100\n",
      "2610/2610 [==============================] - 1s 267us/step - loss: 2.9948 - acc: 0.2943 - val_loss: 1.2688 - val_acc: 0.5636\n",
      "\n",
      "Epoch 00002: val_acc improved from 0.23711 to 0.56357, saving model to tmp/weights-02-0.56.hdf5\n",
      "Epoch 3/100\n",
      "2610/2610 [==============================] - 1s 267us/step - loss: 1.2467 - acc: 0.5337 - val_loss: 1.2319 - val_acc: 0.5567\n",
      "\n",
      "Epoch 00003: val_acc did not improve from 0.56357\n",
      "Epoch 4/100\n",
      "2610/2610 [==============================] - 1s 267us/step - loss: 1.1964 - acc: 0.5628 - val_loss: 1.1842 - val_acc: 0.5704\n",
      "\n",
      "Epoch 00004: val_acc improved from 0.56357 to 0.57045, saving model to tmp/weights-04-0.57.hdf5\n",
      "Epoch 5/100\n",
      "2610/2610 [==============================] - 1s 257us/step - loss: 1.1290 - acc: 0.5958 - val_loss: 1.2454 - val_acc: 0.4124\n",
      "\n",
      "Epoch 00005: val_acc did not improve from 0.57045\n",
      "Epoch 6/100\n",
      "2610/2610 [==============================] - 1s 256us/step - loss: 1.2000 - acc: 0.4885 - val_loss: 1.1088 - val_acc: 0.6220\n",
      "\n",
      "Epoch 00006: val_acc improved from 0.57045 to 0.62199, saving model to tmp/weights-06-0.62.hdf5\n",
      "Epoch 7/100\n",
      "2610/2610 [==============================] - 1s 257us/step - loss: 1.0260 - acc: 0.6475 - val_loss: 1.1072 - val_acc: 0.5567\n",
      "\n",
      "Epoch 00007: val_acc did not improve from 0.62199\n",
      "Epoch 8/100\n",
      "2610/2610 [==============================] - 1s 264us/step - loss: 0.9900 - acc: 0.6203 - val_loss: 0.9757 - val_acc: 0.6976\n",
      "\n",
      "Epoch 00008: val_acc improved from 0.62199 to 0.69759, saving model to tmp/weights-08-0.70.hdf5\n",
      "Epoch 9/100\n",
      "2610/2610 [==============================] - 1s 488us/step - loss: 0.8464 - acc: 0.7418 - val_loss: 0.9436 - val_acc: 0.6598\n",
      "\n",
      "Epoch 00009: val_acc did not improve from 0.69759\n",
      "Epoch 10/100\n",
      "2610/2610 [==============================] - 1s 252us/step - loss: 0.8460 - acc: 0.6966 - val_loss: 0.9072 - val_acc: 0.7079\n",
      "\n",
      "Epoch 00010: val_acc improved from 0.69759 to 0.70790, saving model to tmp/weights-10-0.71.hdf5\n",
      "Epoch 11/100\n",
      "2610/2610 [==============================] - 1s 275us/step - loss: 0.7503 - acc: 0.7808 - val_loss: 0.7956 - val_acc: 0.7663\n",
      "\n",
      "Epoch 00011: val_acc improved from 0.70790 to 0.76632, saving model to tmp/weights-11-0.77.hdf5\n",
      "Epoch 12/100\n",
      "2610/2610 [==============================] - 1s 266us/step - loss: 0.7038 - acc: 0.7559 - val_loss: 0.9032 - val_acc: 0.6392\n",
      "\n",
      "Epoch 00012: val_acc did not improve from 0.76632\n",
      "Epoch 13/100\n",
      "2610/2610 [==============================] - 1s 263us/step - loss: 0.7438 - acc: 0.7414 - val_loss: 0.7487 - val_acc: 0.7526\n",
      "\n",
      "Epoch 00013: val_acc did not improve from 0.76632\n",
      "Epoch 14/100\n",
      "2610/2610 [==============================] - 1s 261us/step - loss: 0.5588 - acc: 0.8437 - val_loss: 0.7482 - val_acc: 0.7079\n",
      "\n",
      "Epoch 00014: val_acc did not improve from 0.76632\n",
      "Epoch 15/100\n",
      "2610/2610 [==============================] - 1s 261us/step - loss: 0.6084 - acc: 0.7816 - val_loss: 0.6816 - val_acc: 0.8007\n",
      "\n",
      "Epoch 00015: val_acc improved from 0.76632 to 0.80069, saving model to tmp/weights-15-0.80.hdf5\n",
      "Epoch 16/100\n",
      "2610/2610 [==============================] - 1s 263us/step - loss: 0.4903 - acc: 0.8471 - val_loss: 0.6346 - val_acc: 0.8041\n",
      "\n",
      "Epoch 00016: val_acc improved from 0.80069 to 0.80412, saving model to tmp/weights-16-0.80.hdf5\n",
      "Epoch 17/100\n",
      "2610/2610 [==============================] - 1s 267us/step - loss: 0.4962 - acc: 0.8314 - val_loss: 0.6135 - val_acc: 0.7869\n",
      "\n",
      "Epoch 00017: val_acc did not improve from 0.80412\n",
      "Epoch 18/100\n",
      "2610/2610 [==============================] - 1s 260us/step - loss: 0.4579 - acc: 0.8444 - val_loss: 0.6423 - val_acc: 0.7904\n",
      "\n",
      "Epoch 00018: val_acc did not improve from 0.80412\n",
      "Epoch 19/100\n",
      "2610/2610 [==============================] - 1s 274us/step - loss: 0.4035 - acc: 0.8701 - val_loss: 0.6532 - val_acc: 0.7457\n",
      "\n",
      "Epoch 00019: val_acc did not improve from 0.80412\n",
      "Epoch 20/100\n",
      "2610/2610 [==============================] - 1s 260us/step - loss: 0.3495 - acc: 0.8962 - val_loss: 0.5377 - val_acc: 0.8213\n",
      "\n",
      "Epoch 00020: val_acc improved from 0.80412 to 0.82131, saving model to tmp/weights-20-0.82.hdf5\n",
      "Epoch 21/100\n",
      "2610/2610 [==============================] - 1s 260us/step - loss: 0.3252 - acc: 0.8931 - val_loss: 0.5805 - val_acc: 0.8007\n",
      "\n",
      "Epoch 00021: val_acc did not improve from 0.82131\n",
      "Epoch 22/100\n",
      "2610/2610 [==============================] - 1s 252us/step - loss: 0.3161 - acc: 0.9073 - val_loss: 0.4958 - val_acc: 0.8351\n",
      "\n",
      "Epoch 00022: val_acc improved from 0.82131 to 0.83505, saving model to tmp/weights-22-0.84.hdf5\n",
      "Epoch 23/100\n",
      "2610/2610 [==============================] - 1s 421us/step - loss: 0.2741 - acc: 0.9069 - val_loss: 0.4938 - val_acc: 0.8385\n",
      "\n",
      "Epoch 00023: val_acc improved from 0.83505 to 0.83849, saving model to tmp/weights-23-0.84.hdf5\n",
      "Epoch 24/100\n",
      "2610/2610 [==============================] - 1s 258us/step - loss: 0.2648 - acc: 0.9134 - val_loss: 0.5108 - val_acc: 0.8247\n",
      "\n",
      "Epoch 00024: val_acc did not improve from 0.83849\n",
      "Epoch 25/100\n",
      "2610/2610 [==============================] - 1s 256us/step - loss: 0.2180 - acc: 0.9326 - val_loss: 0.4832 - val_acc: 0.8385\n",
      "\n",
      "Epoch 00025: val_acc did not improve from 0.83849\n",
      "Epoch 26/100\n",
      "2610/2610 [==============================] - 1s 261us/step - loss: 0.2119 - acc: 0.9284 - val_loss: 0.8097 - val_acc: 0.7251\n",
      "\n",
      "Epoch 00026: val_acc did not improve from 0.83849\n",
      "Epoch 27/100\n",
      "2610/2610 [==============================] - 1s 255us/step - loss: 0.4587 - acc: 0.8441 - val_loss: 0.5475 - val_acc: 0.8144\n",
      "\n",
      "Epoch 00027: val_acc did not improve from 0.83849\n",
      "Epoch 28/100\n",
      "2610/2610 [==============================] - 1s 262us/step - loss: 0.2507 - acc: 0.9295 - val_loss: 0.4557 - val_acc: 0.8591\n",
      "\n",
      "Epoch 00028: val_acc improved from 0.83849 to 0.85911, saving model to tmp/weights-28-0.86.hdf5\n",
      "Epoch 29/100\n",
      "2610/2610 [==============================] - 1s 267us/step - loss: 0.1542 - acc: 0.9556 - val_loss: 0.5022 - val_acc: 0.8522\n",
      "\n",
      "Epoch 00029: val_acc did not improve from 0.85911\n",
      "Epoch 30/100\n",
      "2610/2610 [==============================] - 1s 280us/step - loss: 0.1846 - acc: 0.9414 - val_loss: 0.4565 - val_acc: 0.8557\n",
      "\n",
      "Epoch 00030: val_acc did not improve from 0.85911\n",
      "Epoch 31/100\n",
      "2610/2610 [==============================] - 1s 263us/step - loss: 0.1346 - acc: 0.9621 - val_loss: 0.5029 - val_acc: 0.8041\n",
      "\n",
      "Epoch 00031: val_acc did not improve from 0.85911\n",
      "Epoch 32/100\n",
      "2610/2610 [==============================] - 1s 260us/step - loss: 0.2133 - acc: 0.9261 - val_loss: 0.4363 - val_acc: 0.8522\n",
      "\n",
      "Epoch 00032: val_acc did not improve from 0.85911\n",
      "Epoch 33/100\n",
      "2610/2610 [==============================] - 1s 261us/step - loss: 0.1196 - acc: 0.9648 - val_loss: 0.4390 - val_acc: 0.8625\n",
      "\n",
      "Epoch 00033: val_acc improved from 0.85911 to 0.86254, saving model to tmp/weights-33-0.86.hdf5\n",
      "Epoch 34/100\n",
      "2610/2610 [==============================] - 1s 262us/step - loss: 0.1119 - acc: 0.9667 - val_loss: 0.4449 - val_acc: 0.8694\n",
      "\n",
      "Epoch 00034: val_acc improved from 0.86254 to 0.86942, saving model to tmp/weights-34-0.87.hdf5\n",
      "Epoch 35/100\n",
      "2610/2610 [==============================] - 1s 265us/step - loss: 0.1077 - acc: 0.9678 - val_loss: 0.5577 - val_acc: 0.7904\n",
      "\n",
      "Epoch 00035: val_acc did not improve from 0.86942\n",
      "Epoch 36/100\n",
      "2610/2610 [==============================] - 1s 271us/step - loss: 0.1457 - acc: 0.9552 - val_loss: 0.4263 - val_acc: 0.8625\n",
      "\n",
      "Epoch 00036: val_acc did not improve from 0.86942\n",
      "Epoch 37/100\n",
      "2610/2610 [==============================] - 1s 439us/step - loss: 0.0996 - acc: 0.9693 - val_loss: 0.5105 - val_acc: 0.8385\n",
      "\n",
      "Epoch 00037: val_acc did not improve from 0.86942\n",
      "Epoch 38/100\n",
      "2610/2610 [==============================] - 1s 295us/step - loss: 0.2044 - acc: 0.9337 - val_loss: 0.6419 - val_acc: 0.7938\n",
      "\n",
      "Epoch 00038: val_acc did not improve from 0.86942\n",
      "Epoch 39/100\n",
      "2610/2610 [==============================] - 1s 259us/step - loss: 0.2169 - acc: 0.9280 - val_loss: 0.4369 - val_acc: 0.8522\n",
      "\n",
      "Epoch 00039: val_acc did not improve from 0.86942\n",
      "Epoch 40/100\n",
      "2610/2610 [==============================] - 1s 263us/step - loss: 0.0948 - acc: 0.9732 - val_loss: 0.4292 - val_acc: 0.8797\n"
     ]
    },
    {
     "name": "stdout",
     "output_type": "stream",
     "text": [
      "\n",
      "Epoch 00040: val_acc improved from 0.86942 to 0.87973, saving model to tmp/weights-40-0.88.hdf5\n",
      "Epoch 41/100\n",
      "2610/2610 [==============================] - 1s 266us/step - loss: 0.0749 - acc: 0.9782 - val_loss: 0.4399 - val_acc: 0.8454\n",
      "\n",
      "Epoch 00041: val_acc did not improve from 0.87973\n",
      "Epoch 42/100\n",
      "2610/2610 [==============================] - 1s 259us/step - loss: 0.0841 - acc: 0.9762 - val_loss: 0.4051 - val_acc: 0.8832\n",
      "\n",
      "Epoch 00042: val_acc improved from 0.87973 to 0.88316, saving model to tmp/weights-42-0.88.hdf5\n",
      "Epoch 43/100\n",
      "2610/2610 [==============================] - 1s 259us/step - loss: 0.0985 - acc: 0.9655 - val_loss: 0.4356 - val_acc: 0.8522\n",
      "\n",
      "Epoch 00043: val_acc did not improve from 0.88316\n",
      "Epoch 44/100\n",
      "2610/2610 [==============================] - 1s 263us/step - loss: 0.1029 - acc: 0.9670 - val_loss: 0.4213 - val_acc: 0.8729\n",
      "\n",
      "Epoch 00044: val_acc did not improve from 0.88316\n",
      "Epoch 45/100\n",
      "2610/2610 [==============================] - 1s 266us/step - loss: 0.0597 - acc: 0.9808 - val_loss: 0.3950 - val_acc: 0.8935\n",
      "\n",
      "Epoch 00045: val_acc improved from 0.88316 to 0.89347, saving model to tmp/weights-45-0.89.hdf5\n",
      "Epoch 46/100\n",
      "2610/2610 [==============================] - 1s 255us/step - loss: 0.0534 - acc: 0.9847 - val_loss: 0.4208 - val_acc: 0.8729\n",
      "\n",
      "Epoch 00046: val_acc did not improve from 0.89347\n",
      "Epoch 47/100\n",
      "2610/2610 [==============================] - 1s 257us/step - loss: 0.0451 - acc: 0.9835 - val_loss: 0.4345 - val_acc: 0.8763\n",
      "\n",
      "Epoch 00047: val_acc did not improve from 0.89347\n",
      "Epoch 48/100\n",
      "2610/2610 [==============================] - 1s 261us/step - loss: 0.0596 - acc: 0.9835 - val_loss: 0.4682 - val_acc: 0.8763\n",
      "\n",
      "Epoch 00048: val_acc did not improve from 0.89347\n",
      "Epoch 49/100\n",
      "2610/2610 [==============================] - 1s 263us/step - loss: 0.1029 - acc: 0.9640 - val_loss: 0.4894 - val_acc: 0.8488\n",
      "\n",
      "Epoch 00049: val_acc did not improve from 0.89347\n",
      "Epoch 50/100\n",
      "2610/2610 [==============================] - 1s 259us/step - loss: 0.1050 - acc: 0.9667 - val_loss: 0.4370 - val_acc: 0.8797\n",
      "\n",
      "Epoch 00050: val_acc did not improve from 0.89347\n",
      "Epoch 51/100\n",
      "2610/2610 [==============================] - 1s 270us/step - loss: 0.0557 - acc: 0.9820 - val_loss: 0.3935 - val_acc: 0.9003\n",
      "\n",
      "Epoch 00051: val_acc improved from 0.89347 to 0.90034, saving model to tmp/weights-51-0.90.hdf5\n",
      "Epoch 52/100\n",
      "2610/2610 [==============================] - 1s 445us/step - loss: 0.0568 - acc: 0.9816 - val_loss: 0.4349 - val_acc: 0.9003\n",
      "\n",
      "Epoch 00052: val_acc did not improve from 0.90034\n",
      "Epoch 53/100\n",
      "2610/2610 [==============================] - 1s 258us/step - loss: 0.0770 - acc: 0.9739 - val_loss: 0.4275 - val_acc: 0.8763\n",
      "\n",
      "Epoch 00053: val_acc did not improve from 0.90034\n",
      "Epoch 54/100\n",
      "2610/2610 [==============================] - 1s 270us/step - loss: 0.0473 - acc: 0.9866 - val_loss: 0.4473 - val_acc: 0.8763\n",
      "\n",
      "Epoch 00054: val_acc did not improve from 0.90034\n",
      "Epoch 55/100\n",
      "2610/2610 [==============================] - 1s 266us/step - loss: 0.0535 - acc: 0.9839 - val_loss: 0.4282 - val_acc: 0.9003\n",
      "\n",
      "Epoch 00055: val_acc did not improve from 0.90034\n",
      "Epoch 56/100\n",
      "2610/2610 [==============================] - 1s 259us/step - loss: 0.0419 - acc: 0.9854 - val_loss: 0.4347 - val_acc: 0.8832\n",
      "\n",
      "Epoch 00056: val_acc did not improve from 0.90034\n",
      "Epoch 57/100\n",
      "2610/2610 [==============================] - 1s 256us/step - loss: 0.0459 - acc: 0.9862 - val_loss: 0.4149 - val_acc: 0.8694\n",
      "\n",
      "Epoch 00057: val_acc did not improve from 0.90034\n",
      "Epoch 58/100\n",
      "2610/2610 [==============================] - 1s 266us/step - loss: 0.0426 - acc: 0.9854 - val_loss: 0.6662 - val_acc: 0.8454\n",
      "\n",
      "Epoch 00058: val_acc did not improve from 0.90034\n",
      "Epoch 59/100\n",
      "2610/2610 [==============================] - 1s 265us/step - loss: 0.0736 - acc: 0.9778 - val_loss: 0.4164 - val_acc: 0.8900\n",
      "\n",
      "Epoch 00059: val_acc did not improve from 0.90034\n",
      "Epoch 60/100\n",
      "2610/2610 [==============================] - 1s 270us/step - loss: 0.0471 - acc: 0.9835 - val_loss: 0.4325 - val_acc: 0.8832\n",
      "\n",
      "Epoch 00060: val_acc did not improve from 0.90034\n",
      "Epoch 61/100\n",
      "2610/2610 [==============================] - 1s 264us/step - loss: 0.0382 - acc: 0.9870 - val_loss: 0.4188 - val_acc: 0.8969\n",
      "\n",
      "Epoch 00061: val_acc did not improve from 0.90034\n"
     ]
    }
   ],
   "source": [
    "adam = Adam(lr=1e-3, decay=0.0)\n",
    "adadelta = Adadelta(lr=1.0, rho=0.95, epsilon=None, decay=0.0)\n",
    "rmsprop = RMSprop(lr=0.001, rho=0.9, epsilon=None, decay=0.0)\n",
    "\n",
    "model.compile(loss='categorical_crossentropy', optimizer=rmsprop, metrics=['acc'])\n",
    "\n",
    "filepath=\"tmp/weights-{epoch:02d}-{val_acc:.2f}.hdf5\"\n",
    "model_checkpoint = ModelCheckpoint(filepath, monitor='val_acc', verbose=1, save_best_only=True, mode='auto')\n",
    "early_stopping = EarlyStopping(monitor='val_loss', patience=10)\n",
    "callbacks = [early_stopping, model_checkpoint]\n",
    "\n",
    "history = model.fit(X_train, y_train, batch_size=1000, epochs=100, verbose=1, validation_data=(X_val, y_val), callbacks=callbacks)  # starts training"
   ]
  },
  {
   "cell_type": "code",
   "execution_count": 19,
   "metadata": {
    "colab": {},
    "colab_type": "code",
    "id": "OtGrA8RBKShg"
   },
   "outputs": [],
   "source": [
    "model_path = 'emoint_bidirectional_lstm_word2vec_model.h5'\n",
    "weight_path = 'emoint_bidirectional_lstm_word2vec_weights.h5'\n",
    "\n",
    "model.save(model_path)\n",
    "model.save_weights(weight_path)"
   ]
  },
  {
   "cell_type": "code",
   "execution_count": 20,
   "metadata": {
    "colab": {
     "base_uri": "https://localhost:8080/",
     "height": 431
    },
    "colab_type": "code",
    "id": "eFzd1urtKeFw",
    "outputId": "01a74e98-8890-44ae-caa8-7cd95bcaa8b2"
   },
   "outputs": [
    {
     "name": "stdout",
     "output_type": "stream",
     "text": [
      "total 308M\r\n",
      "drwxrwx--- 7 david david 4.0K Dec 21 10:25 .\r\n",
      "drwxrwx--- 3 david david 4.0K Dec 18 16:51 ..\r\n",
      "drwxrwx--- 8 david david 4.0K Dec 20 17:58 .git\r\n",
      "-rw-rw---- 1 david david 1.3K Dec 19 13:29 .gitignore\r\n",
      "drwxrwx--- 2 david david 4.0K Dec 21 10:07 .ipynb_checkpoints\r\n",
      "-rw-rw---- 1 david david 172K Dec 18 15:21 CrowdFlower_Emotion_Analysis_ConvNet.ipynb\r\n",
      "-rw-rw---- 1 david david 142K Dec 18 15:21 EmoInt_Embedding_Comparison.ipynb\r\n",
      "-rw-rw---- 1 david david  32K Dec 21 10:24 EmoInt_Emotion_Analysis_Bidirectional_LSTM_Threshold_0_33-Word2Vec-local.ipynb\r\n",
      "-rw-rw---- 1 david david  98K Dec 21 10:03 EmoInt_Emotion_Analysis_Bidirectional_LSTM_Threshold_0_33.ipynb\r\n",
      "-rw-rw---- 1 david david 113K Dec 18 15:21 EmoInt_Emotion_Analysis_ConvNet_LSTM_Threshold_0_33.ipynb\r\n",
      "-rw-rw---- 1 david david  83K Dec 18 15:21 EmoInt_Emotion_Analysis_ConvNet_Threshold_0_30.ipynb\r\n",
      "-rw-rw---- 1 david david 131K Dec 19 10:26 EmoInt_Emotion_Analysis_ConvNet_Threshold_0_33.ipynb\r\n",
      "-rw-rw---- 1 david david  92K Dec 21 10:17 EmoInt_Emotion_Analysis_ConvNet_Threshold_0_33_FastText_local.ipynb\r\n",
      "-rw-rw---- 1 david david 139K Dec 19 14:08 EmoInt_Emotion_Analysis_ConvNet_Threshold_0_33_Glove.ipynb\r\n",
      "-rw-rw---- 1 david david  23K Dec 19 14:46 EmoInt_Emotion_Analysis_ConvNet_Threshold_0_33_Glove_local.ipynb\r\n",
      "-rw-rw---- 1 david david  82K Dec 19 14:03 EmoInt_Emotion_Analysis_ConvNet_Threshold_0_33_Word2VecTwitter_local.ipynb\r\n",
      "-rw-rw---- 1 david david  86K Dec 19 14:08 EmoInt_Emotion_Analysis_ConvNet_Threshold_0_33_local.ipynb\r\n",
      "-rw-rw---- 1 david david  38K Dec 19 16:14 EmoInt_Emotion_Analysis_Elmo_Threshold_0_33.ipynb\r\n",
      "-rw-rw---- 1 david david 114K Dec 18 15:21 EmoInt_Emotion_Analysis_LSTM_Threshold_0_33.ipynb\r\n",
      "-rw-rw---- 1 david david  75K Dec 18 15:21 EmoInt_Sentiment_Analysis_ConvNet.ipynb\r\n",
      "-rw-rw---- 1 david david  78K Dec 18 15:21 EmoInt_Sentiment_Analysis_LSTM_ConvNet.ipynb\r\n",
      "-rw-rw---- 1 david david 247K Dec 18 15:21 ISEAR_Embedding_Comparison.ipynb\r\n",
      "-rw-rw---- 1 david david 156K Dec 18 15:21 ISEAR_Emotion_Analysis_ConvNet.ipynb\r\n",
      "-rw-rw---- 1 david david  35K Dec 18 15:21 LICENSE\r\n",
      "-rw-rw---- 1 david david   29 Dec 18 15:21 README.md\r\n",
      "-rw-rw---- 1 david david  20K Dec 19 15:50 Test_Elmo_Keras.ipynb\r\n",
      "drwxrwx--- 2 david david 4.0K Dec 18 15:21 data\r\n",
      "-rw-rw---- 1 david david 324K Dec 21 10:17 emoint_X_test.npy\r\n",
      "-rw-rw---- 1 david david 337K Dec 21 10:17 emoint_X_train.npy\r\n",
      "-rw-rw---- 1 david david  38K Dec 21 10:17 emoint_X_val.npy\r\n",
      "-rw-rw---- 1 david david  53M Dec 21 10:25 emoint_bidirectional_lstm_word2vec_model.h5\r\n",
      "-rw-rw---- 1 david david  27M Dec 21 10:25 emoint_bidirectional_lstm_word2vec_weights.h5\r\n",
      "-rw-rw---- 1 david david  23M Dec 20 17:53 emoint_convnet_fasttext_model.h5\r\n",
      "-rw-rw---- 1 david david  12M Dec 20 17:53 emoint_convnet_fasttext_weights.h5\r\n",
      "-rw-rw---- 1 david david  15M Dec 19 14:02 emoint_convnet_glove_twitter_model.h5\r\n",
      "-rw-rw---- 1 david david 7.6M Dec 19 14:02 emoint_convnet_glove_twitter_weights.h5\r\n",
      "-rw-rw---- 1 david david  30M Dec 19 13:50 emoint_convnet_model.h5\r\n",
      "-rw-rw---- 1 david david  15M Dec 19 13:50 emoint_convnet_weights.h5\r\n",
      "-rw-rw---- 1 david david  30M Dec 19 13:50 emoint_convnet_word2vec_twitter_model.h5\r\n",
      "-rw-rw---- 1 david david  15M Dec 19 13:50 emoint_convnet_word2vec_twitter_weights.h5\r\n",
      "-rw-rw---- 1 david david  20M Dec 20 17:52 emoint_embedded_matrix_fasttext_wikipedia.npy\r\n",
      "-rw-rw---- 1 david david  14M Dec 19 14:00 emoint_embedded_matrix_glove_twitter.npy\r\n",
      "-rw-rw---- 1 david david  20M Dec 21 10:21 emoint_embedded_matrix_word2vec.npy\r\n",
      "-rw-rw---- 1 david david  27M Dec 19 13:49 emoint_embedded_matrix_word2vec_twitter.npy\r\n",
      "-rw-rw---- 1 david david  40K Dec 21 10:17 emoint_y_test.npy\r\n",
      "-rw-rw---- 1 david david  41K Dec 21 10:17 emoint_y_train.npy\r\n",
      "-rw-rw---- 1 david david 4.7K Dec 21 10:17 emoint_y_val.npy\r\n",
      "drwxr-x--- 3 david david 4.0K Dec 19 16:06 tfhub_modules\r\n",
      "drwxrwx--- 2 david david 4.0K Dec 21 10:24 tmp\r\n"
     ]
    }
   ],
   "source": [
    "!ls -lah"
   ]
  },
  {
   "cell_type": "code",
   "execution_count": 21,
   "metadata": {
    "colab": {},
    "colab_type": "code",
    "id": "b0P0vTv-7RC6"
   },
   "outputs": [],
   "source": [
    "sequences_test=tokenizer.texts_to_sequences(test_data.text)\n",
    "X_test = pad_sequences(sequences_test, maxlen=X_test.shape[1])\n",
    "y_pred = model.predict(X_test)"
   ]
  },
  {
   "cell_type": "code",
   "execution_count": 22,
   "metadata": {
    "colab": {
     "base_uri": "https://localhost:8080/",
     "height": 35
    },
    "colab_type": "code",
    "id": "IgHlDfC_-rS5",
    "outputId": "f3945581-42d0-42a1-b0df-4d91d9f7e6e8"
   },
   "outputs": [
    {
     "data": {
      "text/plain": [
       "dict_keys(['val_loss', 'val_acc', 'loss', 'acc'])"
      ]
     },
     "execution_count": 22,
     "metadata": {},
     "output_type": "execute_result"
    }
   ],
   "source": [
    "history.history.keys()"
   ]
  },
  {
   "cell_type": "code",
   "execution_count": 23,
   "metadata": {
    "colab": {},
    "colab_type": "code",
    "id": "-JaFoS4u_pwS"
   },
   "outputs": [],
   "source": [
    "y_pred_original = [labels[val] for val in np.argmax(y_pred, axis=1).squeeze()]\n",
    "y_test_original = np.asarray(test_data.emotion)"
   ]
  },
  {
   "cell_type": "code",
   "execution_count": 24,
   "metadata": {
    "colab": {},
    "colab_type": "code",
    "id": "BREyqdCAI9d0"
   },
   "outputs": [],
   "source": [
    "def print_confusion_matrix(confusion_matrix, class_names, figsize = (4,3), fontsize=15):\n",
    "    \"\"\"Prints a confusion matrix, as returned by sklearn.metrics.confusion_matrix, as a heatmap.\n",
    "\n",
    "    Arguments\n",
    "    ---------\n",
    "    confusion_matrix: numpy.ndarray\n",
    "        The numpy.ndarray object returned from a call to sklearn.metrics.confusion_matrix. \n",
    "        Similarly constructed ndarrays can also be used.\n",
    "    class_names: list\n",
    "        An ordered list of class names, in the order they index the given confusion matrix.\n",
    "    figsize: tuple\n",
    "        A 2-long tuple, the first value determining the horizontal size of the ouputted figure,\n",
    "        the second determining the vertical size. Defaults to (10,7).\n",
    "    fontsize: int\n",
    "        Font size for axes labels. Defaults to 14.\n",
    "\n",
    "    Returns\n",
    "    -------\n",
    "    matplotlib.figure.Figure\n",
    "        The resulting confusion matrix figure\n",
    "    \"\"\"\n",
    "    df_cm = pd.DataFrame(\n",
    "        confusion_matrix, index=class_names, columns=class_names, \n",
    "    )\n",
    "    fig = plt.figure(figsize=figsize)\n",
    "    try:\n",
    "        heatmap = sns.heatmap(df_cm, annot=True, fmt=\"d\")\n",
    "    except ValueError:\n",
    "        raise ValueError(\"Confusion matrix values must be integers.\")\n",
    "    heatmap.yaxis.set_ticklabels(heatmap.yaxis.get_ticklabels(), rotation=0, ha='right', fontsize=fontsize)\n",
    "    heatmap.xaxis.set_ticklabels(heatmap.xaxis.get_ticklabels(), rotation=45, ha='right', fontsize=fontsize)\n",
    "    plt.ylabel('True label')\n",
    "    plt.xlabel('Predicted label')\n",
    "    return fig"
   ]
  },
  {
   "cell_type": "code",
   "execution_count": 25,
   "metadata": {
    "colab": {
     "base_uri": "https://localhost:8080/",
     "height": 173
    },
    "colab_type": "code",
    "id": "XG9HPQb10TZm",
    "outputId": "c9fe229c-43fe-41bd-a3d6-82c163c1ad2f"
   },
   "outputs": [
    {
     "data": {
      "text/html": [
       "<div>\n",
       "<style scoped>\n",
       "    .dataframe tbody tr th:only-of-type {\n",
       "        vertical-align: middle;\n",
       "    }\n",
       "\n",
       "    .dataframe tbody tr th {\n",
       "        vertical-align: top;\n",
       "    }\n",
       "\n",
       "    .dataframe thead th {\n",
       "        text-align: right;\n",
       "    }\n",
       "</style>\n",
       "<table border=\"1\" class=\"dataframe\">\n",
       "  <thead>\n",
       "    <tr style=\"text-align: right;\">\n",
       "      <th></th>\n",
       "      <th>fear</th>\n",
       "      <th>anger</th>\n",
       "      <th>sadness</th>\n",
       "      <th>joy</th>\n",
       "    </tr>\n",
       "  </thead>\n",
       "  <tbody>\n",
       "    <tr>\n",
       "      <th>fear</th>\n",
       "      <td>632</td>\n",
       "      <td>51</td>\n",
       "      <td>80</td>\n",
       "      <td>26</td>\n",
       "    </tr>\n",
       "    <tr>\n",
       "      <th>anger</th>\n",
       "      <td>58</td>\n",
       "      <td>532</td>\n",
       "      <td>35</td>\n",
       "      <td>18</td>\n",
       "    </tr>\n",
       "    <tr>\n",
       "      <th>sadness</th>\n",
       "      <td>88</td>\n",
       "      <td>36</td>\n",
       "      <td>390</td>\n",
       "      <td>19</td>\n",
       "    </tr>\n",
       "    <tr>\n",
       "      <th>joy</th>\n",
       "      <td>25</td>\n",
       "      <td>13</td>\n",
       "      <td>16</td>\n",
       "      <td>489</td>\n",
       "    </tr>\n",
       "  </tbody>\n",
       "</table>\n",
       "</div>"
      ],
      "text/plain": [
       "         fear  anger  sadness  joy\n",
       "fear      632     51       80   26\n",
       "anger      58    532       35   18\n",
       "sadness    88     36      390   19\n",
       "joy        25     13       16  489"
      ]
     },
     "execution_count": 25,
     "metadata": {},
     "output_type": "execute_result"
    }
   ],
   "source": [
    "cf_matrix = confusion_matrix(y_test_original, y_pred_original, labels=labels)\n",
    "\n",
    "df_cm = pd.DataFrame(\n",
    "    cf_matrix, index=labels, columns=labels, \n",
    ")\n",
    "\n",
    "df_cm"
   ]
  },
  {
   "cell_type": "code",
   "execution_count": 26,
   "metadata": {
    "colab": {
     "base_uri": "https://localhost:8080/",
     "height": 282
    },
    "colab_type": "code",
    "id": "59xnXmbEAKXy",
    "outputId": "9f68f9f9-0b05-46df-c050-6be4554b0013"
   },
   "outputs": [
    {
     "name": "stdout",
     "output_type": "stream",
     "text": [
      "Figure(288x216)\n"
     ]
    },
    {
     "data": {
      "image/png": "[encoded data removed]",
      "text/plain": [
       "<Figure size 288x216 with 2 Axes>"
      ]
     },
     "metadata": {
      "needs_background": "light"
     },
     "output_type": "display_data"
    }
   ],
   "source": [
    "print(print_confusion_matrix(cf_matrix, class_names=labels))"
   ]
  },
  {
   "cell_type": "code",
   "execution_count": 27,
   "metadata": {
    "colab": {
     "base_uri": "https://localhost:8080/",
     "height": 35
    },
    "colab_type": "code",
    "id": "9XE5c4LJEZXy",
    "outputId": "6f276941-fb3c-468e-d8d1-87b1625413a4"
   },
   "outputs": [
    {
     "name": "stdout",
     "output_type": "stream",
     "text": [
      "test accuracy: 0.8145933014354066\n"
     ]
    }
   ],
   "source": [
    "test_accuracy = accuracy_score(y_test_original, y_pred_original)\n",
    "print(\"test accuracy:\", test_accuracy)"
   ]
  },
  {
   "cell_type": "markdown",
   "metadata": {
    "colab_type": "text",
    "id": "jAISNDCVwvR7"
   },
   "source": [
    "### Performance score for each classes"
   ]
  },
  {
   "cell_type": "code",
   "execution_count": 28,
   "metadata": {
    "colab": {
     "base_uri": "https://localhost:8080/",
     "height": 173
    },
    "colab_type": "code",
    "id": "iFb9Q6A1DcXi",
    "outputId": "3f6ff514-f49d-4d2a-a94d-f94c8912bd28"
   },
   "outputs": [
    {
     "data": {
      "text/html": [
       "<div>\n",
       "<style scoped>\n",
       "    .dataframe tbody tr th:only-of-type {\n",
       "        vertical-align: middle;\n",
       "    }\n",
       "\n",
       "    .dataframe tbody tr th {\n",
       "        vertical-align: top;\n",
       "    }\n",
       "\n",
       "    .dataframe thead th {\n",
       "        text-align: right;\n",
       "    }\n",
       "</style>\n",
       "<table border=\"1\" class=\"dataframe\">\n",
       "  <thead>\n",
       "    <tr style=\"text-align: right;\">\n",
       "      <th></th>\n",
       "      <th>precision</th>\n",
       "      <th>recall</th>\n",
       "      <th>f1-score</th>\n",
       "      <th>support</th>\n",
       "    </tr>\n",
       "  </thead>\n",
       "  <tbody>\n",
       "    <tr>\n",
       "      <th>fear</th>\n",
       "      <td>0.8418</td>\n",
       "      <td>0.8274</td>\n",
       "      <td>0.8345</td>\n",
       "      <td>643</td>\n",
       "    </tr>\n",
       "    <tr>\n",
       "      <th>anger</th>\n",
       "      <td>0.7870</td>\n",
       "      <td>0.8010</td>\n",
       "      <td>0.7940</td>\n",
       "      <td>789</td>\n",
       "    </tr>\n",
       "    <tr>\n",
       "      <th>sadness</th>\n",
       "      <td>0.8859</td>\n",
       "      <td>0.9006</td>\n",
       "      <td>0.8932</td>\n",
       "      <td>543</td>\n",
       "    </tr>\n",
       "    <tr>\n",
       "      <th>joy</th>\n",
       "      <td>0.7486</td>\n",
       "      <td>0.7317</td>\n",
       "      <td>0.7400</td>\n",
       "      <td>533</td>\n",
       "    </tr>\n",
       "  </tbody>\n",
       "</table>\n",
       "</div>"
      ],
      "text/plain": [
       "         precision  recall  f1-score  support\n",
       "fear        0.8418  0.8274    0.8345      643\n",
       "anger       0.7870  0.8010    0.7940      789\n",
       "sadness     0.8859  0.9006    0.8932      543\n",
       "joy         0.7486  0.7317    0.7400      533"
      ]
     },
     "execution_count": 28,
     "metadata": {},
     "output_type": "execute_result"
    }
   ],
   "source": [
    "precision, recall, fscore, support = precision_recall_fscore_support(y_test_original, y_pred_original)\n",
    "score_dict = {\n",
    "    \"precision\": precision.round(4),\n",
    "    \"recall\": recall.round(4),\n",
    "    \"f1-score\": fscore.round(4),\n",
    "    \"support\": support.round(4)\n",
    "}\n",
    "score_df = pd.DataFrame(score_dict, index=labels)\n",
    "score_df"
   ]
  },
  {
   "cell_type": "markdown",
   "metadata": {
    "colab_type": "text",
    "id": "cHi1Gw7Oz1zG"
   },
   "source": [
    "### Performance score using micro average"
   ]
  },
  {
   "cell_type": "code",
   "execution_count": 29,
   "metadata": {
    "colab": {
     "base_uri": "https://localhost:8080/",
     "height": 80
    },
    "colab_type": "code",
    "id": "KP69PDE9D_jz",
    "outputId": "092c1a18-323c-402c-91c3-9bcfef72a24e"
   },
   "outputs": [
    {
     "data": {
      "text/html": [
       "<div>\n",
       "<style scoped>\n",
       "    .dataframe tbody tr th:only-of-type {\n",
       "        vertical-align: middle;\n",
       "    }\n",
       "\n",
       "    .dataframe tbody tr th {\n",
       "        vertical-align: top;\n",
       "    }\n",
       "\n",
       "    .dataframe thead th {\n",
       "        text-align: right;\n",
       "    }\n",
       "</style>\n",
       "<table border=\"1\" class=\"dataframe\">\n",
       "  <thead>\n",
       "    <tr style=\"text-align: right;\">\n",
       "      <th></th>\n",
       "      <th>precision</th>\n",
       "      <th>recall</th>\n",
       "      <th>f1-score</th>\n",
       "      <th>support</th>\n",
       "    </tr>\n",
       "  </thead>\n",
       "  <tbody>\n",
       "    <tr>\n",
       "      <th>score</th>\n",
       "      <td>0.8146</td>\n",
       "      <td>0.8146</td>\n",
       "      <td>0.8146</td>\n",
       "      <td>None</td>\n",
       "    </tr>\n",
       "  </tbody>\n",
       "</table>\n",
       "</div>"
      ],
      "text/plain": [
       "       precision  recall  f1-score support\n",
       "score     0.8146  0.8146    0.8146    None"
      ]
     },
     "execution_count": 29,
     "metadata": {},
     "output_type": "execute_result"
    }
   ],
   "source": [
    "precision, recall, fscore, support = precision_recall_fscore_support(y_test_original, y_pred_original, average=\"micro\")\n",
    "score_dict = {\n",
    "    \"precision\": precision.round(4),\n",
    "    \"recall\": recall.round(4),\n",
    "    \"f1-score\": fscore.round(4),\n",
    "    \"support\": support\n",
    "}\n",
    "score_df = pd.DataFrame(score_dict, index=[\"score\"])\n",
    "score_df"
   ]
  },
  {
   "cell_type": "markdown",
   "metadata": {
    "colab_type": "text",
    "id": "IWXNCktiz8Vb"
   },
   "source": [
    "### Performance score using macro average"
   ]
  },
  {
   "cell_type": "code",
   "execution_count": 30,
   "metadata": {
    "colab": {
     "base_uri": "https://localhost:8080/",
     "height": 80
    },
    "colab_type": "code",
    "id": "g4e0vsNIydDs",
    "outputId": "55b1571b-4072-4375-e9bf-464c04876875"
   },
   "outputs": [
    {
     "data": {
      "text/html": [
       "<div>\n",
       "<style scoped>\n",
       "    .dataframe tbody tr th:only-of-type {\n",
       "        vertical-align: middle;\n",
       "    }\n",
       "\n",
       "    .dataframe tbody tr th {\n",
       "        vertical-align: top;\n",
       "    }\n",
       "\n",
       "    .dataframe thead th {\n",
       "        text-align: right;\n",
       "    }\n",
       "</style>\n",
       "<table border=\"1\" class=\"dataframe\">\n",
       "  <thead>\n",
       "    <tr style=\"text-align: right;\">\n",
       "      <th></th>\n",
       "      <th>precision</th>\n",
       "      <th>recall</th>\n",
       "      <th>f1-score</th>\n",
       "      <th>support</th>\n",
       "    </tr>\n",
       "  </thead>\n",
       "  <tbody>\n",
       "    <tr>\n",
       "      <th>score</th>\n",
       "      <td>0.8158</td>\n",
       "      <td>0.8152</td>\n",
       "      <td>0.8154</td>\n",
       "      <td>None</td>\n",
       "    </tr>\n",
       "  </tbody>\n",
       "</table>\n",
       "</div>"
      ],
      "text/plain": [
       "       precision  recall  f1-score support\n",
       "score     0.8158  0.8152    0.8154    None"
      ]
     },
     "execution_count": 30,
     "metadata": {},
     "output_type": "execute_result"
    }
   ],
   "source": [
    "precision, recall, fscore, support = precision_recall_fscore_support(y_test_original, y_pred_original, average=\"macro\")\n",
    "score_dict = {\n",
    "    \"precision\": precision.round(4),\n",
    "    \"recall\": recall.round(4),\n",
    "    \"f1-score\": fscore.round(4),\n",
    "    \"support\": support\n",
    "}\n",
    "score_df = pd.DataFrame(score_dict, index=[\"score\"])\n",
    "score_df"
   ]
  },
  {
   "cell_type": "markdown",
   "metadata": {
    "colab_type": "text",
    "id": "wFJFH7u6z-oG"
   },
   "source": [
    "### Performance score using weighted average"
   ]
  },
  {
   "cell_type": "code",
   "execution_count": 31,
   "metadata": {
    "colab": {
     "base_uri": "https://localhost:8080/",
     "height": 80
    },
    "colab_type": "code",
    "id": "z99JkHjuzv68",
    "outputId": "f2b1675b-1673-482a-a993-04fb5de9afe7"
   },
   "outputs": [
    {
     "data": {
      "text/html": [
       "<div>\n",
       "<style scoped>\n",
       "    .dataframe tbody tr th:only-of-type {\n",
       "        vertical-align: middle;\n",
       "    }\n",
       "\n",
       "    .dataframe tbody tr th {\n",
       "        vertical-align: top;\n",
       "    }\n",
       "\n",
       "    .dataframe thead th {\n",
       "        text-align: right;\n",
       "    }\n",
       "</style>\n",
       "<table border=\"1\" class=\"dataframe\">\n",
       "  <thead>\n",
       "    <tr style=\"text-align: right;\">\n",
       "      <th></th>\n",
       "      <th>precision</th>\n",
       "      <th>recall</th>\n",
       "      <th>f1-score</th>\n",
       "      <th>support</th>\n",
       "    </tr>\n",
       "  </thead>\n",
       "  <tbody>\n",
       "    <tr>\n",
       "      <th>score</th>\n",
       "      <td>0.8143</td>\n",
       "      <td>0.8146</td>\n",
       "      <td>0.8144</td>\n",
       "      <td>None</td>\n",
       "    </tr>\n",
       "  </tbody>\n",
       "</table>\n",
       "</div>"
      ],
      "text/plain": [
       "       precision  recall  f1-score support\n",
       "score     0.8143  0.8146    0.8144    None"
      ]
     },
     "execution_count": 31,
     "metadata": {},
     "output_type": "execute_result"
    }
   ],
   "source": [
    "precision, recall, fscore, support = precision_recall_fscore_support(y_test_original, y_pred_original, average=\"weighted\")\n",
    "score_dict = {\n",
    "    \"precision\": precision.round(4),\n",
    "    \"recall\": recall.round(4),\n",
    "    \"f1-score\": fscore.round(4),\n",
    "    \"support\": support\n",
    "}\n",
    "score_df = pd.DataFrame(score_dict, index=[\"score\"])\n",
    "score_df"
   ]
  },
  {
   "cell_type": "code",
   "execution_count": 32,
   "metadata": {
    "colab": {
     "base_uri": "https://localhost:8080/",
     "height": 35
    },
    "colab_type": "code",
    "id": "Y83dx5SyoBR8",
    "outputId": "0d58dac8-378d-4f59-9471-25c23d188bfc"
   },
   "outputs": [
    {
     "name": "stdout",
     "output_type": "stream",
     "text": [
      "kappa: 0.7504179603534751\n"
     ]
    }
   ],
   "source": [
    "from sklearn.metrics import cohen_kappa_score\n",
    "\n",
    "kappa_score = cohen_kappa_score(y_test_original, y_pred_original, labels=labels)\n",
    "print(\"kappa:\", kappa_score)"
   ]
  },
  {
   "cell_type": "code",
   "execution_count": null,
   "metadata": {
    "colab": {},
    "colab_type": "code",
    "id": "5womFgI2kjed"
   },
   "outputs": [],
   "source": []
  }
 ],
 "metadata": {
  "accelerator": "GPU",
  "colab": {
   "collapsed_sections": [],
   "include_colab_link": true,
   "name": "EmoInt-Emotion-Analysis-Bidirectional-LSTM-Threshold-0.33.ipynb",
   "provenance": [],
   "version": "0.3.2"
  },
  "kernelspec": {
   "display_name": "Python 3",
   "language": "python",
   "name": "python3"
  },
  "language_info": {
   "codemirror_mode": {
    "name": "ipython",
    "version": 3
   },
   "file_extension": ".py",
   "mimetype": "text/x-python",
   "name": "python",
   "nbconvert_exporter": "python",
   "pygments_lexer": "ipython3",
   "version": "3.6.7"
  }
 },
 "nbformat": 4,
 "nbformat_minor": 1
}
