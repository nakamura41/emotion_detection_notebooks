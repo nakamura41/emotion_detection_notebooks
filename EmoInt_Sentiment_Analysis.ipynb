{
  "nbformat": 4,
  "nbformat_minor": 0,
  "metadata": {
    "colab": {
      "name": "Sentiment-Analysis-Test1.ipynb",
      "version": "0.3.2",
      "provenance": [],
      "collapsed_sections": [],
      "include_colab_link": true
    },
    "kernelspec": {
      "name": "python3",
      "display_name": "Python 3"
    },
    "accelerator": "GPU"
  },
  "cells": [
    {
      "cell_type": "markdown",
      "metadata": {
        "id": "view-in-github",
        "colab_type": "text"
      },
      "source": [
        "[View in Colaboratory](https://colab.research.google.com/github/nakamura41/emotion_detection_notebooks/blob/master/EmoInt_Sentiment_Analysis.ipynb)"
      ]
    },
    {
      "metadata": {
        "id": "wRzS3ihSifMc",
        "colab_type": "code",
        "colab": {
          "base_uri": "https://localhost:8080/",
          "height": 343
        },
        "outputId": "adf1ea9e-068b-4f35-d143-c03a3fa27f30"
      },
      "cell_type": "code",
      "source": [
        "!pip install gensim\n",
        "!pip install -U -q PyDrive"
      ],
      "execution_count": 4,
      "outputs": [
        {
          "output_type": "stream",
          "text": [
            "Requirement already satisfied: gensim in /usr/local/lib/python3.6/dist-packages (3.5.0)\n",
            "Requirement already satisfied: smart-open>=1.2.1 in /usr/local/lib/python3.6/dist-packages (from gensim) (1.6.0)\n",
            "Requirement already satisfied: numpy>=1.11.3 in /usr/local/lib/python3.6/dist-packages (from gensim) (1.14.5)\n",
            "Requirement already satisfied: scipy>=0.18.1 in /usr/local/lib/python3.6/dist-packages (from gensim) (0.19.1)\n",
            "Requirement already satisfied: six>=1.5.0 in /usr/local/lib/python3.6/dist-packages (from gensim) (1.11.0)\n",
            "Requirement already satisfied: boto>=2.32 in /usr/local/lib/python3.6/dist-packages (from smart-open>=1.2.1->gensim) (2.49.0)\n",
            "Requirement already satisfied: boto3 in /usr/local/lib/python3.6/dist-packages (from smart-open>=1.2.1->gensim) (1.8.8)\n",
            "Requirement already satisfied: requests in /usr/local/lib/python3.6/dist-packages (from smart-open>=1.2.1->gensim) (2.18.4)\n",
            "Requirement already satisfied: bz2file in /usr/local/lib/python3.6/dist-packages (from smart-open>=1.2.1->gensim) (0.98)\n",
            "Requirement already satisfied: botocore<1.12.0,>=1.11.8 in /usr/local/lib/python3.6/dist-packages (from boto3->smart-open>=1.2.1->gensim) (1.11.8)\n",
            "Requirement already satisfied: jmespath<1.0.0,>=0.7.1 in /usr/local/lib/python3.6/dist-packages (from boto3->smart-open>=1.2.1->gensim) (0.9.3)\n",
            "Requirement already satisfied: s3transfer<0.2.0,>=0.1.10 in /usr/local/lib/python3.6/dist-packages (from boto3->smart-open>=1.2.1->gensim) (0.1.13)\n",
            "Requirement already satisfied: chardet<3.1.0,>=3.0.2 in /usr/local/lib/python3.6/dist-packages (from requests->smart-open>=1.2.1->gensim) (3.0.4)\n",
            "Requirement already satisfied: urllib3<1.23,>=1.21.1 in /usr/local/lib/python3.6/dist-packages (from requests->smart-open>=1.2.1->gensim) (1.22)\n",
            "Requirement already satisfied: certifi>=2017.4.17 in /usr/local/lib/python3.6/dist-packages (from requests->smart-open>=1.2.1->gensim) (2018.8.24)\n",
            "Requirement already satisfied: idna<2.7,>=2.5 in /usr/local/lib/python3.6/dist-packages (from requests->smart-open>=1.2.1->gensim) (2.6)\n",
            "Requirement already satisfied: docutils>=0.10 in /usr/local/lib/python3.6/dist-packages (from botocore<1.12.0,>=1.11.8->boto3->smart-open>=1.2.1->gensim) (0.14)\n",
            "Requirement already satisfied: python-dateutil<3.0.0,>=2.1; python_version >= \"2.7\" in /usr/local/lib/python3.6/dist-packages (from botocore<1.12.0,>=1.11.8->boto3->smart-open>=1.2.1->gensim) (2.5.3)\n"
          ],
          "name": "stdout"
        }
      ]
    },
    {
      "metadata": {
        "id": "OdaHCMv2rGKs",
        "colab_type": "code",
        "colab": {
          "base_uri": "https://localhost:8080/",
          "height": 34
        },
        "outputId": "a5b893df-1dea-47fe-804d-6686d5b7d30d"
      },
      "cell_type": "code",
      "source": [
        "import os\n",
        "import tensorflow as tf\n",
        "from tensorflow import keras\n",
        "import numpy as np\n",
        "import urllib.request\n",
        "import pandas as pd\n",
        "from gensim.test.utils import common_texts, get_tmpfile\n",
        "from gensim.utils import simple_preprocess\n",
        "from gensim.models import Word2Vec\n",
        "from tempfile import gettempdir\n",
        "import zipfile\n",
        "from keras.preprocessing.text import Tokenizer\n",
        "from keras.preprocessing.sequence import pad_sequences\n",
        "from keras.utils import to_categorical\n",
        "from pydrive.auth import GoogleAuth\n",
        "from pydrive.drive import GoogleDrive\n",
        "from google.colab import auth\n",
        "from oauth2client.client import GoogleCredentials\n",
        "from sklearn.metrics import confusion_matrix, precision_recall_fscore_support, accuracy_score\n",
        "import matplotlib.pyplot as plt\n",
        "import seaborn as sns\n",
        "\n",
        "print(tf.__version__)"
      ],
      "execution_count": 47,
      "outputs": [
        {
          "output_type": "stream",
          "text": [
            "1.10.1\n"
          ],
          "name": "stdout"
        }
      ]
    },
    {
      "metadata": {
        "id": "VMhX1N2k4SgY",
        "colab_type": "code",
        "colab": {}
      },
      "cell_type": "code",
      "source": [
        "# 1. Authenticate and create the PyDrive client.\n",
        "auth.authenticate_user()\n",
        "gauth = GoogleAuth()\n",
        "gauth.credentials = GoogleCredentials.get_application_default()\n",
        "drive = GoogleDrive(gauth)"
      ],
      "execution_count": 0,
      "outputs": []
    },
    {
      "metadata": {
        "id": "6FJlfk614hrw",
        "colab_type": "code",
        "colab": {}
      },
      "cell_type": "code",
      "source": [
        "# download google drive file\n",
        "def download_drive_file(drive_directory, filename):\n",
        "  list_file_query = \"title='{}' and trashed=false\".format(drive_directory)\n",
        "  file_list = drive.ListFile({'q': list_file_query}).GetList()\n",
        "\n",
        "  if len(file_list) > 0:\n",
        "    directory_id = file_list[0]['id']\n",
        "\n",
        "    list_file_query = \"'{}' in parents\".format(directory_id)\n",
        "\n",
        "    file_list = drive.ListFile({'q': list_file_query}).GetList()\n",
        "    \n",
        "    file_id = None\n",
        "    for file1 in file_list:\n",
        "      if file1['title'] == filename:\n",
        "        print(\"downloading file {}\".format(file1['title']))\n",
        "        file1.GetContentFile(file1['title'])"
      ],
      "execution_count": 0,
      "outputs": []
    },
    {
      "metadata": {
        "id": "WPzDX7qc6eQx",
        "colab_type": "code",
        "colab": {
          "base_uri": "https://localhost:8080/",
          "height": 34
        },
        "outputId": "1b72c640-62d5-4bb8-d8ee-6a173b3a48f1"
      },
      "cell_type": "code",
      "source": [
        "download_drive_file(\"Datasets\", \"GoogleNews-vectors-negative300.bin.gz\")"
      ],
      "execution_count": 8,
      "outputs": [
        {
          "output_type": "stream",
          "text": [
            "downloading file GoogleNews-vectors-negative300.bin.gz\n"
          ],
          "name": "stdout"
        }
      ]
    },
    {
      "metadata": {
        "id": "xnY2L2-b6-ye",
        "colab_type": "code",
        "colab": {
          "base_uri": "https://localhost:8080/",
          "height": 34
        },
        "outputId": "b9b31934-fe0d-4b27-e8bf-6a52e2123d3d"
      },
      "cell_type": "code",
      "source": [
        "!ls"
      ],
      "execution_count": 9,
      "outputs": [
        {
          "output_type": "stream",
          "text": [
            "adc.json  data\tGoogleNews-vectors-negative300.bin.gz  sample_data\r\n"
          ],
          "name": "stdout"
        }
      ]
    },
    {
      "metadata": {
        "id": "oBynQmEcrNAy",
        "colab_type": "code",
        "colab": {}
      },
      "cell_type": "code",
      "source": [
        "class EmoIntDataset(object):\n",
        "  BASE_URL = \"http://saifmohammad.com/WebDocs/\"\n",
        "  TRAIN_URI = \"EmoInt%20Train%20Data/{}-ratings-0to1.train.txt\"\n",
        "  TEST_URI = \"EmoInt%20Test%20Data/{}-ratings-0to1.test.target.txt\"\n",
        "  EMOTION_CLASSES = [\"anger\", \"fear\", \"joy\", \"sadness\"]\n",
        "  \n",
        "  def __load_data_per_class(self, url):\n",
        "    resource = urllib.request.urlopen(url)\n",
        "    np_array = np.asarray([line.split('\\t') for line in [line.strip() for line in resource.read().decode('utf-8').splitlines()]])\n",
        "    df = pd.DataFrame(np_array, columns=[\"id\", \"text\", \"emotion\", \"emotion_level\"])\n",
        "    return df[[\"text\", \"emotion\"]]\n",
        "  \n",
        "  def load_data(self):\n",
        "    train_data = None\n",
        "    test_data = None\n",
        "    \n",
        "    for emotion in self.EMOTION_CLASSES:\n",
        "      # load train dataset\n",
        "      train_df = self.__load_data_per_class(self.BASE_URL + self.TRAIN_URI.format(emotion))\n",
        "      \n",
        "      # load test dataset\n",
        "      test_df = self.__load_data_per_class(self.BASE_URL + self.TEST_URI.format(emotion))\n",
        "      \n",
        "      train_data = (train_df if train_data is None else train_data.append(train_df))\n",
        "      test_data = (test_df if test_data is None else test_data.append(test_df))\n",
        "      \n",
        "    return train_data, test_data"
      ],
      "execution_count": 0,
      "outputs": []
    },
    {
      "metadata": {
        "id": "tevwfq4Tu6fe",
        "colab_type": "code",
        "colab": {
          "base_uri": "https://localhost:8080/",
          "height": 68
        },
        "outputId": "5af463b1-9962-47a4-b585-cbc9f792f9e4"
      },
      "cell_type": "code",
      "source": [
        "emo_int_dataset = EmoIntDataset()\n",
        "train_data, test_data = emo_int_dataset.load_data()\n",
        "\n",
        "val_data=train_data.sample(frac=0.1,random_state=200)\n",
        "train_data=train_data.drop(val_data.index)\n",
        "\n",
        "print(train_data.shape)\n",
        "print(val_data.shape)\n",
        "print(test_data.shape)"
      ],
      "execution_count": 11,
      "outputs": [
        {
          "output_type": "stream",
          "text": [
            "(2463, 2)\n",
            "(361, 2)\n",
            "(3142, 2)\n"
          ],
          "name": "stdout"
        }
      ]
    },
    {
      "metadata": {
        "id": "J-xXkD_4175U",
        "colab_type": "code",
        "colab": {
          "base_uri": "https://localhost:8080/",
          "height": 51
        },
        "outputId": "5e214c04-6596-488f-cbaa-74a33a06a70d"
      },
      "cell_type": "code",
      "source": [
        "emotions = train_data.emotion.unique()\n",
        "dic = dict()\n",
        "labels = []\n",
        "for i, emotion in enumerate(emotions):\n",
        "    dic[emotion]=i\n",
        "    labels.append(emotion)\n",
        "print(dic)\n",
        "print(labels)"
      ],
      "execution_count": 39,
      "outputs": [
        {
          "output_type": "stream",
          "text": [
            "{'anger': 0, 'fear': 1, 'joy': 2, 'sadness': 3}\n",
            "anger\n"
          ],
          "name": "stdout"
        }
      ]
    },
    {
      "metadata": {
        "id": "yhA_GXLyw1gx",
        "colab_type": "code",
        "colab": {
          "base_uri": "https://localhost:8080/",
          "height": 34
        },
        "outputId": "b363b85f-d0d5-45a8-fe31-62d465ccbbe0"
      },
      "cell_type": "code",
      "source": [
        "NUM_WORDS=20000\n",
        "texts = train_data.text\n",
        "tokenizer = Tokenizer(num_words=NUM_WORDS,filters='!\"#$%&()*+,-./:;<=>?@[\\\\]^_`{|}~\\t\\n\\'',\n",
        "                      lower=True)\n",
        "tokenizer.fit_on_texts(texts)\n",
        "sequences_train = tokenizer.texts_to_sequences(texts)\n",
        "sequences_valid = tokenizer.texts_to_sequences(val_data.text)\n",
        "sequences_test = tokenizer.texts_to_sequences(test_data.text)\n",
        "word_index = tokenizer.word_index\n",
        "print('Found %s unique tokens.' % len(word_index))"
      ],
      "execution_count": 15,
      "outputs": [
        {
          "output_type": "stream",
          "text": [
            "Found 8479 unique tokens.\n"
          ],
          "name": "stdout"
        }
      ]
    },
    {
      "metadata": {
        "id": "f3a8LX2z0Vn3",
        "colab_type": "code",
        "colab": {
          "base_uri": "https://localhost:8080/",
          "height": 51
        },
        "outputId": "63070be5-7e95-41a6-da85-8cde8288e4dd"
      },
      "cell_type": "code",
      "source": [
        "X_train = pad_sequences(sequences_train)\n",
        "X_val = pad_sequences(sequences_valid, maxlen=X_train.shape[1])\n",
        "X_test = pad_sequences(sequences_test, maxlen=X_train.shape[1])\n",
        "\n",
        "y_train = to_categorical(np.asarray(train_data.emotion.apply(lambda x:dic[x])))\n",
        "y_val = to_categorical(np.asarray(val_data.emotion.apply(lambda x:dic[x])))\n",
        "y_test = to_categorical(np.asarray(test_data.emotion.apply(lambda x:dic[x])))\n",
        "\n",
        "print('Shape of X train, validation and test tensor:', X_train.shape, X_val.shape, X_test.shape)\n",
        "print('Shape of label train, validation and test tensor:', y_train.shape, y_val.shape, y_test.shape)"
      ],
      "execution_count": 16,
      "outputs": [
        {
          "output_type": "stream",
          "text": [
            "Shape of X train, validation and test tensor: (2463, 34) (361, 34) (3142, 34)\n",
            "Shape of label train, validation and test tensor: (2463, 4) (361, 4) (3142, 4)\n"
          ],
          "name": "stdout"
        }
      ]
    },
    {
      "metadata": {
        "id": "naD_jPLlmlFq",
        "colab_type": "code",
        "colab": {}
      },
      "cell_type": "code",
      "source": [
        "import gensim\n",
        "from gensim.models import Word2Vec\n",
        "from gensim.utils import simple_preprocess\n",
        "\n",
        "from gensim.models.keyedvectors import KeyedVectors\n",
        "\n",
        "word_vectors = KeyedVectors.load_word2vec_format('GoogleNews-vectors-negative300.bin.gz', binary=True)\n",
        "\n",
        "EMBEDDING_DIM=300\n",
        "vocabulary_size = min(len(word_index)+1, NUM_WORDS)\n",
        "embedding_matrix = np.zeros((vocabulary_size, EMBEDDING_DIM))\n",
        "for word, i in word_index.items():\n",
        "    if i>=NUM_WORDS:\n",
        "        continue\n",
        "    try:\n",
        "        embedding_vector = word_vectors[word]\n",
        "        embedding_matrix[i] = embedding_vector\n",
        "    except KeyError:\n",
        "        embedding_matrix[i] = np.random.normal(0,np.sqrt(0.25), EMBEDDING_DIM)\n",
        "\n",
        "del(word_vectors)\n",
        "\n",
        "from keras.layers import Embedding\n",
        "embedding_layer = Embedding(vocabulary_size,\n",
        "                            EMBEDDING_DIM,\n",
        "                            weights=[embedding_matrix],\n",
        "                            trainable=True)"
      ],
      "execution_count": 0,
      "outputs": []
    },
    {
      "metadata": {
        "id": "Q0fX0z7_7Mi5",
        "colab_type": "code",
        "colab": {}
      },
      "cell_type": "code",
      "source": [
        "from keras.layers import Dense, Input, GlobalMaxPooling1D\n",
        "from keras.layers import Conv1D, MaxPooling1D, Embedding\n",
        "from keras.models import Model\n",
        "from keras.layers import Input, Dense, Embedding, Conv2D, MaxPooling2D, Dropout,concatenate\n",
        "from keras.layers.core import Reshape, Flatten\n",
        "from keras.callbacks import EarlyStopping\n",
        "from keras.optimizers import Adam\n",
        "from keras.models import Model\n",
        "from keras import regularizers\n",
        "sequence_length = X_train.shape[1]\n",
        "filter_sizes = [3,4,5]\n",
        "num_filters = 100\n",
        "drop = 0.5\n",
        "\n",
        "\n",
        "\n",
        "inputs = Input(shape=(sequence_length,))\n",
        "embedding = embedding_layer(inputs)\n",
        "reshape = Reshape((sequence_length,EMBEDDING_DIM,1))(embedding)\n",
        "\n",
        "conv_0 = Conv2D(num_filters, (filter_sizes[0], EMBEDDING_DIM),activation='relu',kernel_regularizer=regularizers.l2(0.01))(reshape)\n",
        "conv_1 = Conv2D(num_filters, (filter_sizes[1], EMBEDDING_DIM),activation='relu',kernel_regularizer=regularizers.l2(0.01))(reshape)\n",
        "conv_2 = Conv2D(num_filters, (filter_sizes[2], EMBEDDING_DIM),activation='relu',kernel_regularizer=regularizers.l2(0.01))(reshape)\n",
        "\n",
        "maxpool_0 = MaxPooling2D((sequence_length - filter_sizes[0] + 1, 1), strides=(1,1))(conv_0)\n",
        "maxpool_1 = MaxPooling2D((sequence_length - filter_sizes[1] + 1, 1), strides=(1,1))(conv_1)\n",
        "maxpool_2 = MaxPooling2D((sequence_length - filter_sizes[2] + 1, 1), strides=(1,1))(conv_2)\n",
        "\n",
        "merged_tensor = concatenate([maxpool_0, maxpool_1, maxpool_2], axis=1)\n",
        "flatten = Flatten()(merged_tensor)\n",
        "reshape = Reshape((3*num_filters,))(flatten)\n",
        "dropout = Dropout(drop)(flatten)\n",
        "output = Dense(units=4, activation='softmax',kernel_regularizer=regularizers.l2(0.01))(dropout)\n",
        "\n",
        "# this creates a model that includes\n",
        "model = Model(inputs, output)"
      ],
      "execution_count": 0,
      "outputs": []
    },
    {
      "metadata": {
        "id": "HHZ1POD77GRp",
        "colab_type": "code",
        "colab": {
          "base_uri": "https://localhost:8080/",
          "height": 1734
        },
        "outputId": "3e955e23-f5ea-46c0-d8a3-25ef9ae3ba37"
      },
      "cell_type": "code",
      "source": [
        "adam = Adam(lr=1e-3)\n",
        "\n",
        "model.compile(loss='categorical_crossentropy',\n",
        "              optimizer=adam,\n",
        "              metrics=['acc'])\n",
        "callbacks = [EarlyStopping(monitor='val_loss')]\n",
        "history = model.fit(X_train, y_train, batch_size=1000, epochs=50, verbose=1, validation_data=(X_val, y_val), callbacks=callbacks)  # starts training"
      ],
      "execution_count": 19,
      "outputs": [
        {
          "output_type": "stream",
          "text": [
            "Train on 2463 samples, validate on 361 samples\n",
            "Epoch 1/50\n",
            "2463/2463 [==============================] - 3s 1ms/step - loss: 1.5098 - acc: 0.3013 - val_loss: 1.4938 - val_acc: 0.3490\n",
            "Epoch 2/50\n",
            "2463/2463 [==============================] - 0s 123us/step - loss: 1.4222 - acc: 0.4320 - val_loss: 1.4557 - val_acc: 0.3878\n",
            "Epoch 3/50\n",
            "2463/2463 [==============================] - 0s 125us/step - loss: 1.3572 - acc: 0.5307 - val_loss: 1.4246 - val_acc: 0.3795\n",
            "Epoch 4/50\n",
            "2463/2463 [==============================] - 0s 129us/step - loss: 1.2960 - acc: 0.5664 - val_loss: 1.3817 - val_acc: 0.5097\n",
            "Epoch 5/50\n",
            "2463/2463 [==============================] - 0s 123us/step - loss: 1.2423 - acc: 0.6805 - val_loss: 1.3473 - val_acc: 0.5845\n",
            "Epoch 6/50\n",
            "2463/2463 [==============================] - 0s 124us/step - loss: 1.1732 - acc: 0.7397 - val_loss: 1.3131 - val_acc: 0.5568\n",
            "Epoch 7/50\n",
            "2463/2463 [==============================] - 0s 121us/step - loss: 1.1159 - acc: 0.7552 - val_loss: 1.2574 - val_acc: 0.6399\n",
            "Epoch 8/50\n",
            "2463/2463 [==============================] - 0s 126us/step - loss: 1.0417 - acc: 0.8283 - val_loss: 1.2016 - val_acc: 0.7091\n",
            "Epoch 9/50\n",
            "2463/2463 [==============================] - 0s 124us/step - loss: 0.9735 - acc: 0.8709 - val_loss: 1.1472 - val_acc: 0.7479\n",
            "Epoch 10/50\n",
            "2463/2463 [==============================] - 0s 126us/step - loss: 0.9081 - acc: 0.8928 - val_loss: 1.0929 - val_acc: 0.7618\n",
            "Epoch 11/50\n",
            "2463/2463 [==============================] - 0s 125us/step - loss: 0.8376 - acc: 0.9180 - val_loss: 1.0444 - val_acc: 0.7922\n",
            "Epoch 12/50\n",
            "2463/2463 [==============================] - 0s 129us/step - loss: 0.7852 - acc: 0.9302 - val_loss: 1.0021 - val_acc: 0.8199\n",
            "Epoch 13/50\n",
            "2463/2463 [==============================] - 0s 131us/step - loss: 0.7328 - acc: 0.9472 - val_loss: 0.9608 - val_acc: 0.8172\n",
            "Epoch 14/50\n",
            "2463/2463 [==============================] - 0s 125us/step - loss: 0.6955 - acc: 0.9553 - val_loss: 0.9213 - val_acc: 0.8338\n",
            "Epoch 15/50\n",
            "2463/2463 [==============================] - 0s 128us/step - loss: 0.6493 - acc: 0.9659 - val_loss: 0.8863 - val_acc: 0.8476\n",
            "Epoch 16/50\n",
            "2463/2463 [==============================] - 0s 123us/step - loss: 0.6132 - acc: 0.9687 - val_loss: 0.8575 - val_acc: 0.8421\n",
            "Epoch 17/50\n",
            "2463/2463 [==============================] - 0s 127us/step - loss: 0.5848 - acc: 0.9716 - val_loss: 0.8271 - val_acc: 0.8532\n",
            "Epoch 18/50\n",
            "2463/2463 [==============================] - 0s 126us/step - loss: 0.5629 - acc: 0.9765 - val_loss: 0.7995 - val_acc: 0.8643\n",
            "Epoch 19/50\n",
            "2463/2463 [==============================] - 0s 121us/step - loss: 0.5336 - acc: 0.9785 - val_loss: 0.7738 - val_acc: 0.8670\n",
            "Epoch 20/50\n",
            "2463/2463 [==============================] - 0s 131us/step - loss: 0.5107 - acc: 0.9842 - val_loss: 0.7493 - val_acc: 0.8698\n",
            "Epoch 21/50\n",
            "2463/2463 [==============================] - 0s 121us/step - loss: 0.4901 - acc: 0.9801 - val_loss: 0.7285 - val_acc: 0.8753\n",
            "Epoch 22/50\n",
            "2463/2463 [==============================] - 0s 126us/step - loss: 0.4698 - acc: 0.9825 - val_loss: 0.7080 - val_acc: 0.8726\n",
            "Epoch 23/50\n",
            "2463/2463 [==============================] - 0s 128us/step - loss: 0.4514 - acc: 0.9850 - val_loss: 0.6879 - val_acc: 0.8698\n",
            "Epoch 24/50\n",
            "2463/2463 [==============================] - 0s 123us/step - loss: 0.4340 - acc: 0.9878 - val_loss: 0.6696 - val_acc: 0.8726\n",
            "Epoch 25/50\n",
            "2463/2463 [==============================] - 0s 123us/step - loss: 0.4238 - acc: 0.9846 - val_loss: 0.6532 - val_acc: 0.8753\n",
            "Epoch 26/50\n",
            "2463/2463 [==============================] - 0s 122us/step - loss: 0.4065 - acc: 0.9870 - val_loss: 0.6390 - val_acc: 0.8726\n",
            "Epoch 27/50\n",
            "2463/2463 [==============================] - 0s 122us/step - loss: 0.3970 - acc: 0.9882 - val_loss: 0.6275 - val_acc: 0.8781\n",
            "Epoch 28/50\n",
            "2463/2463 [==============================] - 0s 124us/step - loss: 0.3838 - acc: 0.9882 - val_loss: 0.6170 - val_acc: 0.8809\n",
            "Epoch 29/50\n",
            "2463/2463 [==============================] - 0s 128us/step - loss: 0.3750 - acc: 0.9862 - val_loss: 0.6054 - val_acc: 0.8753\n",
            "Epoch 30/50\n",
            "2463/2463 [==============================] - 0s 124us/step - loss: 0.3653 - acc: 0.9858 - val_loss: 0.5950 - val_acc: 0.8781\n",
            "Epoch 31/50\n",
            "2463/2463 [==============================] - 0s 124us/step - loss: 0.3568 - acc: 0.9886 - val_loss: 0.5860 - val_acc: 0.8753\n",
            "Epoch 32/50\n",
            "2463/2463 [==============================] - 0s 126us/step - loss: 0.3456 - acc: 0.9919 - val_loss: 0.5781 - val_acc: 0.8781\n",
            "Epoch 33/50\n",
            "2463/2463 [==============================] - 0s 125us/step - loss: 0.3410 - acc: 0.9903 - val_loss: 0.5715 - val_acc: 0.8781\n",
            "Epoch 34/50\n",
            "2463/2463 [==============================] - 0s 125us/step - loss: 0.3334 - acc: 0.9874 - val_loss: 0.5643 - val_acc: 0.8809\n",
            "Epoch 35/50\n",
            "2463/2463 [==============================] - 0s 132us/step - loss: 0.3278 - acc: 0.9903 - val_loss: 0.5584 - val_acc: 0.8781\n",
            "Epoch 36/50\n",
            "2463/2463 [==============================] - 0s 123us/step - loss: 0.3216 - acc: 0.9882 - val_loss: 0.5533 - val_acc: 0.8809\n",
            "Epoch 37/50\n",
            "2463/2463 [==============================] - 0s 121us/step - loss: 0.3169 - acc: 0.9882 - val_loss: 0.5477 - val_acc: 0.8809\n",
            "Epoch 38/50\n",
            "2463/2463 [==============================] - 0s 125us/step - loss: 0.3121 - acc: 0.9907 - val_loss: 0.5421 - val_acc: 0.8753\n",
            "Epoch 39/50\n",
            "2463/2463 [==============================] - 0s 123us/step - loss: 0.3087 - acc: 0.9870 - val_loss: 0.5367 - val_acc: 0.8809\n",
            "Epoch 40/50\n",
            "2463/2463 [==============================] - 0s 129us/step - loss: 0.3012 - acc: 0.9907 - val_loss: 0.5329 - val_acc: 0.8864\n",
            "Epoch 41/50\n",
            "2463/2463 [==============================] - 0s 125us/step - loss: 0.2953 - acc: 0.9919 - val_loss: 0.5281 - val_acc: 0.8837\n",
            "Epoch 42/50\n",
            "2463/2463 [==============================] - 0s 136us/step - loss: 0.2937 - acc: 0.9907 - val_loss: 0.5246 - val_acc: 0.8864\n",
            "Epoch 43/50\n",
            "2463/2463 [==============================] - 0s 125us/step - loss: 0.2890 - acc: 0.9903 - val_loss: 0.5217 - val_acc: 0.8864\n",
            "Epoch 44/50\n",
            "2463/2463 [==============================] - 0s 124us/step - loss: 0.2831 - acc: 0.9898 - val_loss: 0.5195 - val_acc: 0.8864\n",
            "Epoch 45/50\n",
            "2463/2463 [==============================] - 0s 125us/step - loss: 0.2812 - acc: 0.9890 - val_loss: 0.5177 - val_acc: 0.8837\n",
            "Epoch 46/50\n",
            "2463/2463 [==============================] - 0s 127us/step - loss: 0.2793 - acc: 0.9890 - val_loss: 0.5149 - val_acc: 0.8892\n",
            "Epoch 47/50\n",
            "2463/2463 [==============================] - 0s 125us/step - loss: 0.2745 - acc: 0.9898 - val_loss: 0.5126 - val_acc: 0.8781\n",
            "Epoch 48/50\n",
            "2463/2463 [==============================] - 0s 125us/step - loss: 0.2724 - acc: 0.9890 - val_loss: 0.5087 - val_acc: 0.8781\n",
            "Epoch 49/50\n",
            "2463/2463 [==============================] - 0s 127us/step - loss: 0.2680 - acc: 0.9919 - val_loss: 0.5053 - val_acc: 0.8781\n",
            "Epoch 50/50\n",
            "2463/2463 [==============================] - 0s 123us/step - loss: 0.2651 - acc: 0.9894 - val_loss: 0.5025 - val_acc: 0.8781\n"
          ],
          "name": "stdout"
        }
      ]
    },
    {
      "metadata": {
        "id": "OtGrA8RBKShg",
        "colab_type": "code",
        "colab": {}
      },
      "cell_type": "code",
      "source": [
        "model_path = 'emoint_model.h5'\n",
        "weight_path = 'emoint_weights.h5'\n",
        "\n",
        "model.save(model_path)\n",
        "model.save_weights(weight_path)"
      ],
      "execution_count": 0,
      "outputs": []
    },
    {
      "metadata": {
        "id": "eFzd1urtKeFw",
        "colab_type": "code",
        "colab": {
          "base_uri": "https://localhost:8080/",
          "height": 187
        },
        "outputId": "ac251453-6c5e-4f04-c720-9e5877b24ff9"
      },
      "cell_type": "code",
      "source": [
        "!ls -lah"
      ],
      "execution_count": 55,
      "outputs": [
        {
          "output_type": "stream",
          "text": [
            "total 1.6G\r\n",
            "drwxr-xr-x 1 root root 4.0K Sep  6 09:15 .\r\n",
            "drwxr-xr-x 1 root root 4.0K Sep  6 02:27 ..\r\n",
            "-rw-r--r-- 1 root root 2.5K Sep  6 07:56 adc.json\r\n",
            "drwxr-xr-x 1 root root 4.0K Sep  6 07:56 .config\r\n",
            "drwxr-xr-x 2 root root 4.0K Sep  6 08:00 data\r\n",
            "-rw-r--r-- 1 root root  34M Sep  6 09:18 emoint_model.h5\r\n",
            "-rw-r--r-- 1 root root  12M Sep  6 09:18 emoint_weights.h5\r\n",
            "-rw-r--r-- 1 root root 1.6G Sep  6 08:38 GoogleNews-vectors-negative300.bin.gz\r\n",
            "drwxr-xr-x 2 root root 4.0K Aug 31 20:42 sample_data\r\n"
          ],
          "name": "stdout"
        }
      ]
    },
    {
      "metadata": {
        "id": "85MiexxMK8zd",
        "colab_type": "code",
        "colab": {}
      },
      "cell_type": "code",
      "source": [
        "model_file = drive.CreateFile({'title': model_path})\n",
        "model_file.SetContentFile(model_path)\n",
        "model_file.Upload()\n",
        "\n",
        "weight_file = drive.CreateFile({'title': weight_path})\n",
        "weight_file.SetContentFile(weight_path)\n",
        "weight_file.Upload()"
      ],
      "execution_count": 0,
      "outputs": []
    },
    {
      "metadata": {
        "id": "b0P0vTv-7RC6",
        "colab_type": "code",
        "colab": {}
      },
      "cell_type": "code",
      "source": [
        "sequences_test=tokenizer.texts_to_sequences(test_data.text)\n",
        "X_test = pad_sequences(sequences_test, maxlen=X_test.shape[1])\n",
        "y_pred = model.predict(X_test)"
      ],
      "execution_count": 0,
      "outputs": []
    },
    {
      "metadata": {
        "id": "IgHlDfC_-rS5",
        "colab_type": "code",
        "colab": {
          "base_uri": "https://localhost:8080/",
          "height": 34
        },
        "outputId": "2d769726-f47f-4175-9c96-2eeb64acf5ac"
      },
      "cell_type": "code",
      "source": [
        "history.history.keys()"
      ],
      "execution_count": 24,
      "outputs": [
        {
          "output_type": "execute_result",
          "data": {
            "text/plain": [
              "dict_keys(['val_loss', 'val_acc', 'loss', 'acc'])"
            ]
          },
          "metadata": {
            "tags": []
          },
          "execution_count": 24
        }
      ]
    },
    {
      "metadata": {
        "id": "-JaFoS4u_pwS",
        "colab_type": "code",
        "colab": {}
      },
      "cell_type": "code",
      "source": [
        "y_pred_original = [labels[val] for val in np.argmax(y_pred, axis=1).squeeze()]\n",
        "y_test_original = np.asarray(test_data.emotion)"
      ],
      "execution_count": 0,
      "outputs": []
    },
    {
      "metadata": {
        "id": "BREyqdCAI9d0",
        "colab_type": "code",
        "colab": {}
      },
      "cell_type": "code",
      "source": [
        "def print_confusion_matrix(confusion_matrix, class_names, figsize = (10,7), fontsize=14):\n",
        "    \"\"\"Prints a confusion matrix, as returned by sklearn.metrics.confusion_matrix, as a heatmap.\n",
        "    \n",
        "    Arguments\n",
        "    ---------\n",
        "    confusion_matrix: numpy.ndarray\n",
        "        The numpy.ndarray object returned from a call to sklearn.metrics.confusion_matrix. \n",
        "        Similarly constructed ndarrays can also be used.\n",
        "    class_names: list\n",
        "        An ordered list of class names, in the order they index the given confusion matrix.\n",
        "    figsize: tuple\n",
        "        A 2-long tuple, the first value determining the horizontal size of the ouputted figure,\n",
        "        the second determining the vertical size. Defaults to (10,7).\n",
        "    fontsize: int\n",
        "        Font size for axes labels. Defaults to 14.\n",
        "        \n",
        "    Returns\n",
        "    -------\n",
        "    matplotlib.figure.Figure\n",
        "        The resulting confusion matrix figure\n",
        "    \"\"\"\n",
        "    df_cm = pd.DataFrame(\n",
        "        confusion_matrix, index=class_names, columns=class_names, \n",
        "    )\n",
        "    fig = plt.figure(figsize=figsize)\n",
        "    try:\n",
        "        heatmap = sns.heatmap(df_cm, annot=True, fmt=\"d\")\n",
        "    except ValueError:\n",
        "        raise ValueError(\"Confusion matrix values must be integers.\")\n",
        "    heatmap.yaxis.set_ticklabels(heatmap.yaxis.get_ticklabels(), rotation=0, ha='right', fontsize=fontsize)\n",
        "    heatmap.xaxis.set_ticklabels(heatmap.xaxis.get_ticklabels(), rotation=45, ha='right', fontsize=fontsize)\n",
        "    plt.ylabel('True label')\n",
        "    plt.xlabel('Predicted label')\n",
        "    return fig"
      ],
      "execution_count": 0,
      "outputs": []
    },
    {
      "metadata": {
        "id": "59xnXmbEAKXy",
        "colab_type": "code",
        "colab": {
          "base_uri": "https://localhost:8080/",
          "height": 496
        },
        "outputId": "0d7e6dac-92c9-4f66-d58e-9ff6c258b47c"
      },
      "cell_type": "code",
      "source": [
        "print(print_confusion_matrix(confusion_matrix(y_test_original, y_pred_original, labels=labels), class_names=labels))"
      ],
      "execution_count": 50,
      "outputs": [
        {
          "output_type": "stream",
          "text": [
            "Figure(720x504)\n"
          ],
          "name": "stdout"
        },
        {
          "output_type": "display_data",
          "data": {
            "image/png": "[encoded data removed]",
            "text/plain": [
              "<matplotlib.figure.Figure at 0x7f5270405dd8>"
            ]
          },
          "metadata": {
            "tags": []
          }
        }
      ]
    },
    {
      "metadata": {
        "id": "9XE5c4LJEZXy",
        "colab_type": "code",
        "colab": {
          "base_uri": "https://localhost:8080/",
          "height": 34
        },
        "outputId": "7b388199-fc2d-4b2e-e92f-3e7803247347"
      },
      "cell_type": "code",
      "source": [
        "test_accuracy = accuracy_score(y_test_original, y_pred_original)\n",
        "print(\"test accuracy:\", test_accuracy)"
      ],
      "execution_count": 45,
      "outputs": [
        {
          "output_type": "stream",
          "text": [
            "test accuracy: 0.8555060471037556\n"
          ],
          "name": "stdout"
        }
      ]
    },
    {
      "metadata": {
        "id": "iFb9Q6A1DcXi",
        "colab_type": "code",
        "colab": {
          "base_uri": "https://localhost:8080/",
          "height": 85
        },
        "outputId": "4fa19f8b-2627-4d87-a021-b385c787e3b2"
      },
      "cell_type": "code",
      "source": [
        "precision, recall, fscore, support = precision_recall_fscore_support(y_test_original, y_pred_original, average='weighted')\n",
        "print(\"precision:\", precision)\n",
        "print(\"recall:\", recall)\n",
        "print(\"fscore:\", fscore)\n",
        "print(\"support:\", support)"
      ],
      "execution_count": 46,
      "outputs": [
        {
          "output_type": "stream",
          "text": [
            "precision: 0.8579120251771349\n",
            "recall: 0.8555060471037556\n",
            "fscore: 0.856018521960473\n",
            "support: None\n"
          ],
          "name": "stdout"
        }
      ]
    },
    {
      "metadata": {
        "id": "KP69PDE9D_jz",
        "colab_type": "code",
        "colab": {}
      },
      "cell_type": "code",
      "source": [
        ""
      ],
      "execution_count": 0,
      "outputs": []
    }
  ]
}