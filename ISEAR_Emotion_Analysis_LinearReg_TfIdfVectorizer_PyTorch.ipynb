{
 "cells": [
  {
   "cell_type": "code",
   "execution_count": 1,
   "metadata": {},
   "outputs": [],
   "source": [
    "import os\n",
    "\n",
    "import logging\n",
    "import pandas as pd\n",
    "import numpy as np\n",
    "import matplotlib.pyplot as plt\n",
    "from sklearn.model_selection import train_test_split\n",
    "\n",
    "import torch\n",
    "import torch.nn as nn\n",
    "import torch.nn.functional as F\n",
    "import torch.optim as optim\n",
    "\n",
    "\n",
    "os.environ[\"CUDA_DEVICE_ORDER\"]=\"PCI_BUS_ID\"\n",
    "# The GPU id to use, usually either \"0\" or \"1\"\n",
    "os.environ[\"CUDA_VISIBLE_DEVICES\"]=\"1\"\n",
    "os.environ[\"TFHUB_CACHE_DIR\"]=\"tfhub_modules\"\n",
    "\n",
    "torch.manual_seed(1)\n",
    "\n",
    "use_cuda = torch.cuda.is_available()\n",
    "device = torch.device(\"cuda:0\" if use_cuda else \"cpu\")"
   ]
  },
  {
   "cell_type": "code",
   "execution_count": 2,
   "metadata": {},
   "outputs": [],
   "source": [
    "from sklearn.feature_extraction.text import TfidfVectorizer\n",
    "\n",
    "class ISEARDataset(object):\n",
    "  FILENAME = \"data/isear_databank.csv\"\n",
    "  EMOTION_CLASSES = [\"anger\", \"disgust\", \"fear\", \"guilt\", \"joy\", \"sadness\", \"shame\"]\n",
    "  EMOTION_CLASSES_DICT = {\"anger\": 0, \"disgust\": 1, \"fear\": 2, \"guilt\": 3, \"joy\": 4, \"sadness\": 5, \"shame\": 6}\n",
    "  RANDOM_STATE = 41\n",
    "\n",
    "  def get_classes(self):\n",
    "    return self.EMOTION_CLASSES\n",
    "  \n",
    "  def get_classes_dict(self):\n",
    "    return self.EMOTION_CLASSES_DICT\n",
    "\n",
    "  def __init__(self):\n",
    "    self.vectorizer = TfidfVectorizer()\n",
    "    data = pd.read_csv(self.FILENAME)\n",
    "    data[\"text\"] = data[\"SIT\"]\n",
    "    data[\"emotion\"] = data[\"Field1\"]\n",
    "    for emotion in self.get_classes():\n",
    "      data.loc[data[\"emotion\"] == emotion, \"emotion_int\"] = self.get_classes_dict()[emotion]\n",
    "    self.X = self.vectorizer.fit_transform(data[\"text\"].values).toarray()\n",
    "    self.y = data[\"emotion_int\"].values"
   ]
  },
  {
   "cell_type": "code",
   "execution_count": 3,
   "metadata": {},
   "outputs": [
    {
     "name": "stdout",
     "output_type": "stream",
     "text": [
      "X_train.shape: (4292, 8976)\n",
      "y_train.shape: (4292)\n",
      "X_valid.shape: (1074, 8976)\n",
      "y_valid.shape: (1074)\n",
      "X_test.shape: (2300, 8976)\n",
      "y_test.shape: (2300)\n"
     ]
    }
   ],
   "source": [
    "isear_dataset = ISEARDataset()\n",
    "X_train, X_test, y_train, y_test = train_test_split(isear_dataset.X, isear_dataset.y, test_size=0.3, random_state=isear_dataset.RANDOM_STATE, stratify=isear_dataset.y)\n",
    "X_train, X_valid, y_train, y_valid = train_test_split(X_train, y_train, test_size=0.2, random_state=isear_dataset.RANDOM_STATE, stratify=y_train)\n",
    "\n",
    "print(\"X_train.shape: (%d, %d)\" % X_train.shape)\n",
    "print(\"y_train.shape: (%d)\" % y_train.shape)\n",
    "\n",
    "print(\"X_valid.shape: (%d, %d)\" % X_valid.shape)\n",
    "print(\"y_valid.shape: (%d)\" % y_valid.shape)\n",
    "\n",
    "print(\"X_test.shape: (%d, %d)\" % X_test.shape)\n",
    "print(\"y_test.shape: (%d)\" % y_test.shape)"
   ]
  },
  {
   "cell_type": "code",
   "execution_count": 4,
   "metadata": {
    "scrolled": true
   },
   "outputs": [
    {
     "name": "stdout",
     "output_type": "stream",
     "text": [
      "class dictionary: {'anger': 0, 'disgust': 1, 'fear': 2, 'guilt': 3, 'joy': 4, 'sadness': 5, 'shame': 6}\n",
      "class labels: ['anger', 'disgust', 'fear', 'guilt', 'joy', 'sadness', 'shame']\n",
      "number of bins: 7\n"
     ]
    }
   ],
   "source": [
    "dic = isear_dataset.get_classes_dict()\n",
    "labels = isear_dataset.get_classes()\n",
    "n_classes = len(labels)\n",
    "print(\"class dictionary: %s\" % dic)\n",
    "print(\"class labels: %s\" % labels)\n",
    "print(\"number of bins: %s\" % n_classes)"
   ]
  },
  {
   "cell_type": "code",
   "execution_count": 5,
   "metadata": {},
   "outputs": [
    {
     "name": "stdout",
     "output_type": "stream",
     "text": [
      "bins: [0, 1, 2, 3, 4, 5, 6, 7]\n"
     ]
    },
    {
     "data": {
      "image/png": "[encoded data removed]",
      "text/plain": [
       "<Figure size 432x288 with 1 Axes>"
      ]
     },
     "metadata": {
      "needs_background": "light"
     },
     "output_type": "display_data"
    }
   ],
   "source": [
    "bins = list(range(0, n_classes + 1))\n",
    "print(\"bins:\", bins)\n",
    "hist, _ = np.histogram(y_train, bins=bins)\n",
    "\n",
    "y_pos = np.arange(len(labels))\n",
    "\n",
    "plt.bar(y_pos, hist, align='center', alpha=0.5)\n",
    "plt.xticks(y_pos, labels)\n",
    "plt.ylabel('Number')\n",
    "plt.title('Emotions')\n",
    " \n",
    "plt.show()"
   ]
  },
  {
   "cell_type": "code",
   "execution_count": 6,
   "metadata": {},
   "outputs": [
    {
     "name": "stdout",
     "output_type": "stream",
     "text": [
      "y.shape: torch.Size([4292, 1, 1, 1])\n",
      "y_onehot.shape: torch.Size([4292, 7, 1, 1])\n"
     ]
    }
   ],
   "source": [
    "from torch import autograd\n",
    "\n",
    "def make_one_hot(labels, C=2):\n",
    "    '''\n",
    "    Converts an integer label torch.autograd.Variable to a one-hot Variable.\n",
    "    \n",
    "    Parameters\n",
    "    ----------\n",
    "    labels : torch.autograd.Variable of torch.cuda.LongTensor\n",
    "        N x 1 x H x W, where N is batch size. \n",
    "        Each value is an integer representing correct classification.\n",
    "    C : integer. \n",
    "        number of classes in labels.\n",
    "    \n",
    "    Returns\n",
    "    -------\n",
    "    target : torch.autograd.Variable of torch.cuda.FloatTensor\n",
    "        N x C x H x W, where C is class number. One-hot encoded.\n",
    "    '''\n",
    "    one_hot = torch.FloatTensor(labels.size(0), C, labels.size(2), labels.size(3)).zero_()\n",
    "    target = one_hot.scatter_(1, labels.data, 1)\n",
    "    \n",
    "    target = autograd.Variable(target)\n",
    "        \n",
    "    return target\n",
    "  \n",
    "y = torch.LongTensor(y_train).view(-1, 1, 1, 1)\n",
    "print(\"y.shape:\", y.shape)\n",
    "y_onehot = make_one_hot(y, C=7)\n",
    "print(\"y_onehot.shape:\", y_onehot.shape)"
   ]
  },
  {
   "cell_type": "code",
   "execution_count": 7,
   "metadata": {},
   "outputs": [],
   "source": [
    "import torch\n",
    "from torch.utils import data\n",
    "\n",
    "class ISEAR_Tensor_Dataset(data.TensorDataset):\n",
    "  \n",
    "  def __init__(self, text, emotion, num_class=2):\n",
    "    X = torch.tensor(text.astype('float32'))\n",
    "    y = torch.LongTensor(emotion).view(-1, 1, 1, 1)\n",
    "    y_onehot = make_one_hot(y, num_class)\n",
    "    y_onehot = y_onehot.view(y_onehot.shape[0], y_onehot.shape[1])\n",
    "    tensors = []\n",
    "    tensors.append(X)\n",
    "    tensors.append(y_onehot)\n",
    "    super().__init__(*tensors)"
   ]
  },
  {
   "cell_type": "code",
   "execution_count": 8,
   "metadata": {},
   "outputs": [],
   "source": [
    "train_dataset = ISEAR_Tensor_Dataset(X_train, y_train, num_class=7)\n",
    "valid_dataset = ISEAR_Tensor_Dataset(X_valid, y_valid, num_class=7)\n",
    "test_dataset = ISEAR_Tensor_Dataset(X_test, y_test, num_class=7)"
   ]
  },
  {
   "cell_type": "code",
   "execution_count": 9,
   "metadata": {},
   "outputs": [
    {
     "name": "stdout",
     "output_type": "stream",
     "text": [
      "train_dataset.tensors[0].shape: torch.Size([4292, 8976])\n",
      "train_dataset.tensors[1].shape: torch.Size([4292, 7])\n"
     ]
    }
   ],
   "source": [
    "print(\"train_dataset.tensors[0].shape:\", train_dataset.tensors[0].shape)\n",
    "print(\"train_dataset.tensors[1].shape:\", train_dataset.tensors[1].shape)"
   ]
  },
  {
   "cell_type": "code",
   "execution_count": 10,
   "metadata": {},
   "outputs": [
    {
     "name": "stdout",
     "output_type": "stream",
     "text": [
      "train_dataset length: 4292\n",
      "valid_dataset length: 1074\n",
      "test_dataset length: 2300\n"
     ]
    }
   ],
   "source": [
    "print(\"train_dataset length:\", len(train_dataset))\n",
    "print(\"valid_dataset length:\", len(valid_dataset))\n",
    "print(\"test_dataset length:\", len(test_dataset))"
   ]
  },
  {
   "cell_type": "code",
   "execution_count": 11,
   "metadata": {},
   "outputs": [],
   "source": [
    "batch_size = 10\n",
    "\n",
    "train_loader = data.DataLoader(train_dataset, batch_size=batch_size, shuffle=True)\n",
    "valid_loader = data.DataLoader(valid_dataset, batch_size=batch_size, shuffle=True)\n",
    "test_loader = data.DataLoader(test_dataset, batch_size=batch_size, shuffle=True)"
   ]
  },
  {
   "cell_type": "markdown",
   "metadata": {},
   "source": [
    "## Neural Network Architecture "
   ]
  },
  {
   "cell_type": "code",
   "execution_count": 12,
   "metadata": {},
   "outputs": [],
   "source": [
    "import torch.nn as nn\n",
    "import torch.nn.functional as F\n",
    "\n",
    "class DNNModel(nn.Module):\n",
    "    def __init__(self, input_dim, hidden_dim, output_dim, dropout=0.5):\n",
    "        super(DNNModel, self).__init__()\n",
    "        self.input_dim = input_dim\n",
    "        self.hidden_dim = hidden_dim\n",
    "        self.output_dim = output_dim\n",
    "\n",
    "        self.linear_input = nn.Linear(input_dim, hidden_dim)\n",
    "        self.linear_hidden_1 = nn.Linear(hidden_dim, hidden_dim)\n",
    "        self.linear_hidden_2 = nn.Linear(hidden_dim, hidden_dim)\n",
    "        self.linear_output = nn.Linear(hidden_dim, output_dim)\n",
    "        self.linear_threshold = nn.Linear(hidden_dim, hidden_dim)\n",
    "        self.linear_threshold_output = nn.Linear(hidden_dim, 1)\n",
    "\n",
    "        self.dropout = dropout\n",
    "\n",
    "    def forward(self, x):\n",
    "        tmp = F.dropout(F.relu(self.linear_input(x)), self.dropout)\n",
    "        out = F.dropout(F.relu(self.linear_hidden_1(tmp)), self.dropout)\n",
    "        out = F.dropout(F.relu(self.linear_hidden_2(out)), self.dropout)\n",
    "        out = F.sigmoid(self.linear_output(tmp))\n",
    "\n",
    "        tmp = F.dropout(F.relu(self.linear_threshold(tmp)), self.dropout)\n",
    "        threshold = F.sigmoid(self.linear_threshold_output(tmp))\n",
    "\n",
    "        return out, threshold"
   ]
  },
  {
   "cell_type": "code",
   "execution_count": 13,
   "metadata": {},
   "outputs": [],
   "source": [
    "input_dim = train_dataset.tensors[0].shape[1]\n",
    "hidden_dim = 500\n",
    "output_dim = train_dataset.tensors[1].shape[1]\n",
    "dropout = 0.5\n",
    "batch_size = 10\n",
    "model = DNNModel(input_dim, hidden_dim, output_dim, dropout=dropout)\n",
    "model = model.to(device)"
   ]
  },
  {
   "cell_type": "code",
   "execution_count": 14,
   "metadata": {},
   "outputs": [
    {
     "data": {
      "text/plain": [
       "{'dataset': <__main__.ISEAR_Tensor_Dataset at 0x7fb9a7ad1cc0>,\n",
       " 'batch_size': 10,\n",
       " 'num_workers': 0,\n",
       " 'collate_fn': <function torch.utils.data.dataloader.default_collate(batch)>,\n",
       " 'pin_memory': False,\n",
       " 'drop_last': False,\n",
       " 'timeout': 0,\n",
       " 'worker_init_fn': None,\n",
       " 'sampler': <torch.utils.data.sampler.RandomSampler at 0x7fb9a0b1f160>,\n",
       " 'batch_sampler': <torch.utils.data.sampler.BatchSampler at 0x7fb9a0b1f198>,\n",
       " '_DataLoader__initialized': True}"
      ]
     },
     "execution_count": 14,
     "metadata": {},
     "output_type": "execute_result"
    }
   ],
   "source": [
    "train_loader.__dict__"
   ]
  },
  {
   "cell_type": "code",
   "execution_count": 15,
   "metadata": {},
   "outputs": [],
   "source": [
    "def train(epoch, model, data_loader, device, optimiser, loss_fn=nn.BCELoss(), log_interval=100):\n",
    "    #####################\n",
    "    # Train model\n",
    "    #####################\n",
    "\n",
    "    # switch model to training mode, clear gradient accumulators\n",
    "    model.train()\n",
    "\n",
    "    for batch_idx, (data, target) in enumerate(data_loader):\n",
    "        data, target = data.to(device), target.to(device)\n",
    "        optimiser.zero_grad()\n",
    "\n",
    "        output, threshold = model(data)\n",
    "\n",
    "        loss = loss_fn(output, target)\n",
    "        loss.backward()\n",
    "        optimiser.step()\n",
    "        \n",
    "        if batch_idx % log_interval == 0:\n",
    "            print('Train Epoch: {} [{}\\t/\\t{}\\t({:.0f}%)]\\tLoss: {:.6f}'.format(\n",
    "                epoch, batch_idx * len(data), len(train_loader.dataset),\n",
    "                100. * batch_idx / len(train_loader), loss.item()))\n",
    "\n",
    "    return loss.item()"
   ]
  },
  {
   "cell_type": "code",
   "execution_count": 16,
   "metadata": {},
   "outputs": [],
   "source": [
    "def evaluate(model, data_loader, device, loss_fn=nn.BCELoss()):\n",
    "    #####################\n",
    "    # Evaluation model\n",
    "    #####################\n",
    "    model.eval()\n",
    "    eval_loss = 0\n",
    "    total_correct = 0\n",
    "\n",
    "    all_pred = []\n",
    "    all_target = []\n",
    "\n",
    "    with torch.no_grad():\n",
    "\n",
    "        # for batch_idx, (data, target) in enumerate(data_loader):\n",
    "        for data, target in data_loader:\n",
    "            data, target = data.to(device), target.to(device)\n",
    "            output, threshold = model(data)\n",
    "\n",
    "            loss = loss_fn(output, target).data # sum up batch loss\n",
    "            eval_loss += loss\n",
    "\n",
    "            pred = output.max(1, keepdim=True)[1]\n",
    "            pred = pred.view(pred.size(0))\n",
    "\n",
    "            target = target.max(1, keepdim=True)[1]\n",
    "            target = target.view(target.size(0))\n",
    "\n",
    "            correct = pred.eq(target.view_as(pred)).sum()\n",
    "            total_correct += correct\n",
    "\n",
    "            all_pred += pred.cpu().numpy().tolist()\n",
    "            all_target += target.cpu().numpy().tolist()\n",
    "\n",
    "    eval_loss /= len(test_loader.dataset)\n",
    "\n",
    "    print('\\nEvaluate: Average loss: {:.4f}, Accuracy: {}/{} ({:.0f}%)\\n'.format(\n",
    "        eval_loss, total_correct, len(test_loader.dataset),\n",
    "        100. * total_correct / len(test_loader.dataset)))\n",
    "\n",
    "    return eval_loss, all_pred, all_target"
   ]
  },
  {
   "cell_type": "code",
   "execution_count": 17,
   "metadata": {
    "scrolled": true
   },
   "outputs": [
    {
     "name": "stderr",
     "output_type": "stream",
     "text": [
      "/home/david/anaconda3/envs/tf36/lib/python3.6/site-packages/torch/nn/functional.py:1332: UserWarning: nn.functional.sigmoid is deprecated. Use torch.sigmoid instead.\n",
      "  warnings.warn(\"nn.functional.sigmoid is deprecated. Use torch.sigmoid instead.\")\n"
     ]
    },
    {
     "name": "stdout",
     "output_type": "stream",
     "text": [
      "Train Epoch: 0 [0\t/\t4292\t(0%)]\tLoss: 0.693691\n",
      "Train Epoch: 0 [1000\t/\t4292\t(23%)]\tLoss: 0.420553\n",
      "Train Epoch: 0 [2000\t/\t4292\t(47%)]\tLoss: 0.395466\n",
      "Train Epoch: 0 [3000\t/\t4292\t(70%)]\tLoss: 0.369814\n",
      "Train Epoch: 0 [4000\t/\t4292\t(93%)]\tLoss: 0.357362\n",
      "\n",
      "Evaluate: Average loss: 0.0169, Accuracy: 528/2300 (22%)\n",
      "\n",
      "Train Epoch: 1 [0\t/\t4292\t(0%)]\tLoss: 0.312903\n",
      "Train Epoch: 1 [1000\t/\t4292\t(23%)]\tLoss: 0.309004\n",
      "Train Epoch: 1 [2000\t/\t4292\t(47%)]\tLoss: 0.336583\n",
      "Train Epoch: 1 [3000\t/\t4292\t(70%)]\tLoss: 0.260885\n",
      "Train Epoch: 1 [4000\t/\t4292\t(93%)]\tLoss: 0.190482\n",
      "\n",
      "Evaluate: Average loss: 0.0138, Accuracy: 576/2300 (25%)\n",
      "\n",
      "Train Epoch: 2 [0\t/\t4292\t(0%)]\tLoss: 0.185142\n",
      "Train Epoch: 2 [1000\t/\t4292\t(23%)]\tLoss: 0.208540\n",
      "Train Epoch: 2 [2000\t/\t4292\t(47%)]\tLoss: 0.249808\n",
      "Train Epoch: 2 [3000\t/\t4292\t(70%)]\tLoss: 0.135362\n",
      "Train Epoch: 2 [4000\t/\t4292\t(93%)]\tLoss: 0.193990\n",
      "\n",
      "Evaluate: Average loss: 0.0132, Accuracy: 588/2300 (25%)\n",
      "\n",
      "Train Epoch: 3 [0\t/\t4292\t(0%)]\tLoss: 0.080709\n",
      "Train Epoch: 3 [1000\t/\t4292\t(23%)]\tLoss: 0.165609\n",
      "Train Epoch: 3 [2000\t/\t4292\t(47%)]\tLoss: 0.085495\n",
      "Train Epoch: 3 [3000\t/\t4292\t(70%)]\tLoss: 0.131594\n",
      "Train Epoch: 3 [4000\t/\t4292\t(93%)]\tLoss: 0.190892\n",
      "\n",
      "Evaluate: Average loss: 0.0139, Accuracy: 579/2300 (25%)\n",
      "\n",
      "Train Epoch: 4 [0\t/\t4292\t(0%)]\tLoss: 0.256401\n",
      "Train Epoch: 4 [1000\t/\t4292\t(23%)]\tLoss: 0.028015\n",
      "Train Epoch: 4 [2000\t/\t4292\t(47%)]\tLoss: 0.137618\n",
      "Train Epoch: 4 [3000\t/\t4292\t(70%)]\tLoss: 0.151276\n",
      "Train Epoch: 4 [4000\t/\t4292\t(93%)]\tLoss: 0.122298\n",
      "\n",
      "Evaluate: Average loss: 0.0149, Accuracy: 568/2300 (24%)\n",
      "\n",
      "Train Epoch: 5 [0\t/\t4292\t(0%)]\tLoss: 0.033319\n",
      "Train Epoch: 5 [1000\t/\t4292\t(23%)]\tLoss: 0.047225\n",
      "Train Epoch: 5 [2000\t/\t4292\t(47%)]\tLoss: 0.034403\n",
      "Train Epoch: 5 [3000\t/\t4292\t(70%)]\tLoss: 0.062778\n",
      "Train Epoch: 5 [4000\t/\t4292\t(93%)]\tLoss: 0.108709\n",
      "\n",
      "Evaluate: Average loss: 0.0157, Accuracy: 570/2300 (24%)\n",
      "\n",
      "Train Epoch: 6 [0\t/\t4292\t(0%)]\tLoss: 0.047214\n",
      "Train Epoch: 6 [1000\t/\t4292\t(23%)]\tLoss: 0.026699\n",
      "Train Epoch: 6 [2000\t/\t4292\t(47%)]\tLoss: 0.036457\n",
      "Train Epoch: 6 [3000\t/\t4292\t(70%)]\tLoss: 0.053447\n",
      "Train Epoch: 6 [4000\t/\t4292\t(93%)]\tLoss: 0.026670\n",
      "\n",
      "Evaluate: Average loss: 0.0172, Accuracy: 552/2300 (24%)\n",
      "\n",
      "Train Epoch: 7 [0\t/\t4292\t(0%)]\tLoss: 0.022952\n",
      "Train Epoch: 7 [1000\t/\t4292\t(23%)]\tLoss: 0.026438\n",
      "Train Epoch: 7 [2000\t/\t4292\t(47%)]\tLoss: 0.034622\n",
      "Train Epoch: 7 [3000\t/\t4292\t(70%)]\tLoss: 0.114295\n",
      "Train Epoch: 7 [4000\t/\t4292\t(93%)]\tLoss: 0.038115\n",
      "\n",
      "Evaluate: Average loss: 0.0180, Accuracy: 557/2300 (24%)\n",
      "\n",
      "Train Epoch: 8 [0\t/\t4292\t(0%)]\tLoss: 0.049249\n",
      "Train Epoch: 8 [1000\t/\t4292\t(23%)]\tLoss: 0.030277\n",
      "Train Epoch: 8 [2000\t/\t4292\t(47%)]\tLoss: 0.043213\n",
      "Train Epoch: 8 [3000\t/\t4292\t(70%)]\tLoss: 0.016889\n",
      "Train Epoch: 8 [4000\t/\t4292\t(93%)]\tLoss: 0.012827\n",
      "\n",
      "Evaluate: Average loss: 0.0193, Accuracy: 565/2300 (24%)\n",
      "\n",
      "Train Epoch: 9 [0\t/\t4292\t(0%)]\tLoss: 0.009746\n",
      "Train Epoch: 9 [1000\t/\t4292\t(23%)]\tLoss: 0.028831\n",
      "Train Epoch: 9 [2000\t/\t4292\t(47%)]\tLoss: 0.006587\n",
      "Train Epoch: 9 [3000\t/\t4292\t(70%)]\tLoss: 0.027787\n",
      "Train Epoch: 9 [4000\t/\t4292\t(93%)]\tLoss: 0.034336\n",
      "\n",
      "Evaluate: Average loss: 0.0204, Accuracy: 544/2300 (23%)\n",
      "\n"
     ]
    }
   ],
   "source": [
    "loss_fn = nn.BCELoss()\n",
    "log_interval = 10\n",
    "max_epochs = 10\n",
    "learning_rate = 1e-3\n",
    "optimiser = optim.Adam(model.parameters(), lr=learning_rate)\n",
    "\n",
    "hist = np.zeros(max_epochs)\n",
    "eval_hist = np.zeros(max_epochs)\n",
    "\n",
    "for epoch in range(max_epochs):\n",
    "  \n",
    "    hist[epoch] = train(epoch, model, train_loader, device, optimiser, loss_fn, log_interval)\n",
    "    \n",
    "    valid_loss, valid_pred, valid_target = evaluate(model, valid_loader, device, loss_fn=nn.BCELoss())\n",
    "    eval_hist[epoch] = valid_loss"
   ]
  },
  {
   "cell_type": "code",
   "execution_count": 18,
   "metadata": {},
   "outputs": [
    {
     "data": {
      "image/png": "[encoded data removed]",
      "text/plain": [
       "<Figure size 432x288 with 1 Axes>"
      ]
     },
     "metadata": {
      "needs_background": "light"
     },
     "output_type": "display_data"
    }
   ],
   "source": [
    "import matplotlib.pyplot as plt\n",
    "plt.plot(hist, color='skyblue')\n",
    "plt.plot(eval_hist, color='red')\n",
    "plt.ylabel('Historic Loss')\n",
    "plt.show()"
   ]
  },
  {
   "cell_type": "code",
   "execution_count": 19,
   "metadata": {},
   "outputs": [
    {
     "name": "stdout",
     "output_type": "stream",
     "text": [
      "\n",
      "Evaluate: Average loss: 0.0439, Accuracy: 1183/2300 (51%)\n",
      "\n"
     ]
    }
   ],
   "source": [
    "test_loss, test_pred, test_target = evaluate(model, test_loader, device, loss_fn)"
   ]
  },
  {
   "cell_type": "code",
   "execution_count": 20,
   "metadata": {},
   "outputs": [
    {
     "data": {
      "text/html": [
       "<div>\n",
       "<style scoped>\n",
       "    .dataframe tbody tr th:only-of-type {\n",
       "        vertical-align: middle;\n",
       "    }\n",
       "\n",
       "    .dataframe tbody tr th {\n",
       "        vertical-align: top;\n",
       "    }\n",
       "\n",
       "    .dataframe thead th {\n",
       "        text-align: right;\n",
       "    }\n",
       "</style>\n",
       "<table border=\"1\" class=\"dataframe\">\n",
       "  <thead>\n",
       "    <tr style=\"text-align: right;\">\n",
       "      <th></th>\n",
       "      <th>anger</th>\n",
       "      <th>disgust</th>\n",
       "      <th>fear</th>\n",
       "      <th>guilt</th>\n",
       "      <th>joy</th>\n",
       "      <th>sadness</th>\n",
       "      <th>shame</th>\n",
       "    </tr>\n",
       "  </thead>\n",
       "  <tbody>\n",
       "    <tr>\n",
       "      <th>anger</th>\n",
       "      <td>113</td>\n",
       "      <td>37</td>\n",
       "      <td>18</td>\n",
       "      <td>71</td>\n",
       "      <td>17</td>\n",
       "      <td>21</td>\n",
       "      <td>52</td>\n",
       "    </tr>\n",
       "    <tr>\n",
       "      <th>disgust</th>\n",
       "      <td>42</td>\n",
       "      <td>174</td>\n",
       "      <td>16</td>\n",
       "      <td>30</td>\n",
       "      <td>12</td>\n",
       "      <td>12</td>\n",
       "      <td>43</td>\n",
       "    </tr>\n",
       "    <tr>\n",
       "      <th>fear</th>\n",
       "      <td>18</td>\n",
       "      <td>16</td>\n",
       "      <td>200</td>\n",
       "      <td>24</td>\n",
       "      <td>18</td>\n",
       "      <td>21</td>\n",
       "      <td>31</td>\n",
       "    </tr>\n",
       "    <tr>\n",
       "      <th>guilt</th>\n",
       "      <td>45</td>\n",
       "      <td>24</td>\n",
       "      <td>13</td>\n",
       "      <td>149</td>\n",
       "      <td>15</td>\n",
       "      <td>24</td>\n",
       "      <td>58</td>\n",
       "    </tr>\n",
       "    <tr>\n",
       "      <th>joy</th>\n",
       "      <td>13</td>\n",
       "      <td>8</td>\n",
       "      <td>10</td>\n",
       "      <td>23</td>\n",
       "      <td>226</td>\n",
       "      <td>18</td>\n",
       "      <td>30</td>\n",
       "    </tr>\n",
       "    <tr>\n",
       "      <th>sadness</th>\n",
       "      <td>35</td>\n",
       "      <td>10</td>\n",
       "      <td>26</td>\n",
       "      <td>26</td>\n",
       "      <td>32</td>\n",
       "      <td>171</td>\n",
       "      <td>29</td>\n",
       "    </tr>\n",
       "    <tr>\n",
       "      <th>shame</th>\n",
       "      <td>34</td>\n",
       "      <td>34</td>\n",
       "      <td>23</td>\n",
       "      <td>52</td>\n",
       "      <td>24</td>\n",
       "      <td>12</td>\n",
       "      <td>150</td>\n",
       "    </tr>\n",
       "  </tbody>\n",
       "</table>\n",
       "</div>"
      ],
      "text/plain": [
       "         anger  disgust  fear  guilt  joy  sadness  shame\n",
       "anger      113       37    18     71   17       21     52\n",
       "disgust     42      174    16     30   12       12     43\n",
       "fear        18       16   200     24   18       21     31\n",
       "guilt       45       24    13    149   15       24     58\n",
       "joy         13        8    10     23  226       18     30\n",
       "sadness     35       10    26     26   32      171     29\n",
       "shame       34       34    23     52   24       12    150"
      ]
     },
     "execution_count": 20,
     "metadata": {},
     "output_type": "execute_result"
    }
   ],
   "source": [
    "from sklearn.metrics import confusion_matrix, precision_recall_fscore_support, accuracy_score\n",
    "\n",
    "cf_matrix = confusion_matrix(test_target, test_pred)\n",
    "\n",
    "df_cm = pd.DataFrame(\n",
    "    cf_matrix, index=labels, columns=labels, \n",
    ")\n",
    "\n",
    "df_cm"
   ]
  },
  {
   "cell_type": "code",
   "execution_count": 21,
   "metadata": {},
   "outputs": [],
   "source": [
    "import seaborn as sns\n",
    "\n",
    "def print_confusion_matrix(confusion_matrix, class_names, figsize = (4,3), fontsize=15):\n",
    "    \"\"\"Prints a confusion matrix, as returned by sklearn.metrics.confusion_matrix, as a heatmap.\n",
    "    \n",
    "    Arguments\n",
    "    ---------\n",
    "    confusion_matrix: numpy.ndarray\n",
    "        The numpy.ndarray object returned from a call to sklearn.metrics.confusion_matrix. \n",
    "        Similarly constructed ndarrays can also be used.\n",
    "    class_names: list\n",
    "        An ordered list of class names, in the order they index the given confusion matrix.\n",
    "    figsize: tuple\n",
    "        A 2-long tuple, the first value determining the horizontal size of the ouputted figure,\n",
    "        the second determining the vertical size. Defaults to (10,7).\n",
    "    fontsize: int\n",
    "        Font size for axes labels. Defaults to 14.\n",
    "        \n",
    "    Returns\n",
    "    -------\n",
    "    matplotlib.figure.Figure\n",
    "        The resulting confusion matrix figure\n",
    "    \"\"\"\n",
    "    df_cm = pd.DataFrame(\n",
    "        confusion_matrix, index=class_names, columns=class_names, \n",
    "    )\n",
    "    fig = plt.figure(figsize=figsize)\n",
    "    try:\n",
    "        heatmap = sns.heatmap(df_cm, annot=True, fmt=\"d\")\n",
    "    except ValueError:\n",
    "        raise ValueError(\"Confusion matrix values must be integers.\")\n",
    "    heatmap.yaxis.set_ticklabels(heatmap.yaxis.get_ticklabels(), rotation=0, ha='right', fontsize=fontsize)\n",
    "    heatmap.xaxis.set_ticklabels(heatmap.xaxis.get_ticklabels(), rotation=45, ha='right', fontsize=fontsize)\n",
    "    plt.ylabel('True label')\n",
    "    plt.xlabel('Predicted label')\n",
    "    return fig"
   ]
  },
  {
   "cell_type": "code",
   "execution_count": 22,
   "metadata": {},
   "outputs": [
    {
     "name": "stdout",
     "output_type": "stream",
     "text": [
      "Figure(288x216)\n"
     ]
    },
    {
     "data": {
      "image/png": "[encoded data removed]",
      "text/plain": [
       "<Figure size 288x216 with 2 Axes>"
      ]
     },
     "metadata": {
      "needs_background": "light"
     },
     "output_type": "display_data"
    }
   ],
   "source": [
    "print(print_confusion_matrix(cf_matrix, class_names=labels))"
   ]
  },
  {
   "cell_type": "code",
   "execution_count": 23,
   "metadata": {},
   "outputs": [
    {
     "name": "stdout",
     "output_type": "stream",
     "text": [
      "test accuracy: 0.5143478260869565\n"
     ]
    }
   ],
   "source": [
    "test_accuracy = accuracy_score(test_target, test_pred)\n",
    "print(\"test accuracy:\", test_accuracy)"
   ]
  },
  {
   "cell_type": "markdown",
   "metadata": {},
   "source": [
    "### Performance score for each classes"
   ]
  },
  {
   "cell_type": "code",
   "execution_count": 24,
   "metadata": {},
   "outputs": [
    {
     "data": {
      "text/html": [
       "<div>\n",
       "<style scoped>\n",
       "    .dataframe tbody tr th:only-of-type {\n",
       "        vertical-align: middle;\n",
       "    }\n",
       "\n",
       "    .dataframe tbody tr th {\n",
       "        vertical-align: top;\n",
       "    }\n",
       "\n",
       "    .dataframe thead th {\n",
       "        text-align: right;\n",
       "    }\n",
       "</style>\n",
       "<table border=\"1\" class=\"dataframe\">\n",
       "  <thead>\n",
       "    <tr style=\"text-align: right;\">\n",
       "      <th></th>\n",
       "      <th>precision</th>\n",
       "      <th>recall</th>\n",
       "      <th>f1-score</th>\n",
       "      <th>support</th>\n",
       "    </tr>\n",
       "  </thead>\n",
       "  <tbody>\n",
       "    <tr>\n",
       "      <th>anger</th>\n",
       "      <td>0.3767</td>\n",
       "      <td>0.3435</td>\n",
       "      <td>0.3593</td>\n",
       "      <td>329</td>\n",
       "    </tr>\n",
       "    <tr>\n",
       "      <th>disgust</th>\n",
       "      <td>0.5743</td>\n",
       "      <td>0.5289</td>\n",
       "      <td>0.5506</td>\n",
       "      <td>329</td>\n",
       "    </tr>\n",
       "    <tr>\n",
       "      <th>fear</th>\n",
       "      <td>0.6536</td>\n",
       "      <td>0.6098</td>\n",
       "      <td>0.6309</td>\n",
       "      <td>328</td>\n",
       "    </tr>\n",
       "    <tr>\n",
       "      <th>guilt</th>\n",
       "      <td>0.3973</td>\n",
       "      <td>0.4543</td>\n",
       "      <td>0.4239</td>\n",
       "      <td>328</td>\n",
       "    </tr>\n",
       "    <tr>\n",
       "      <th>joy</th>\n",
       "      <td>0.6570</td>\n",
       "      <td>0.6890</td>\n",
       "      <td>0.6726</td>\n",
       "      <td>328</td>\n",
       "    </tr>\n",
       "    <tr>\n",
       "      <th>sadness</th>\n",
       "      <td>0.6129</td>\n",
       "      <td>0.5198</td>\n",
       "      <td>0.5625</td>\n",
       "      <td>329</td>\n",
       "    </tr>\n",
       "    <tr>\n",
       "      <th>shame</th>\n",
       "      <td>0.3817</td>\n",
       "      <td>0.4559</td>\n",
       "      <td>0.4155</td>\n",
       "      <td>329</td>\n",
       "    </tr>\n",
       "  </tbody>\n",
       "</table>\n",
       "</div>"
      ],
      "text/plain": [
       "         precision  recall  f1-score  support\n",
       "anger       0.3767  0.3435    0.3593      329\n",
       "disgust     0.5743  0.5289    0.5506      329\n",
       "fear        0.6536  0.6098    0.6309      328\n",
       "guilt       0.3973  0.4543    0.4239      328\n",
       "joy         0.6570  0.6890    0.6726      328\n",
       "sadness     0.6129  0.5198    0.5625      329\n",
       "shame       0.3817  0.4559    0.4155      329"
      ]
     },
     "execution_count": 24,
     "metadata": {},
     "output_type": "execute_result"
    }
   ],
   "source": [
    "precision, recall, fscore, support = precision_recall_fscore_support(test_target, test_pred)\n",
    "score_dict = {\n",
    "  \"precision\": precision.round(4),\n",
    "  \"recall\": recall.round(4),\n",
    "  \"f1-score\": fscore.round(4),\n",
    "  \"support\": support.round(4)\n",
    "}\n",
    "score_df = pd.DataFrame(score_dict, index=labels)\n",
    "score_df"
   ]
  },
  {
   "cell_type": "markdown",
   "metadata": {},
   "source": [
    "### Cohen Kappa Score"
   ]
  },
  {
   "cell_type": "code",
   "execution_count": 27,
   "metadata": {},
   "outputs": [
    {
     "name": "stdout",
     "output_type": "stream",
     "text": [
      "kappa: 0.43341070611391996\n"
     ]
    }
   ],
   "source": [
    "from sklearn.metrics import cohen_kappa_score\n",
    "\n",
    "kappa_score = cohen_kappa_score(test_target, test_pred)\n",
    "print(\"kappa:\", kappa_score)"
   ]
  },
  {
   "cell_type": "code",
   "execution_count": null,
   "metadata": {},
   "outputs": [],
   "source": []
  }
 ],
 "metadata": {
  "kernelspec": {
   "display_name": "Python 3",
   "language": "python",
   "name": "python3"
  },
  "language_info": {
   "codemirror_mode": {
    "name": "ipython",
    "version": 3
   },
   "file_extension": ".py",
   "mimetype": "text/x-python",
   "name": "python",
   "nbconvert_exporter": "python",
   "pygments_lexer": "ipython3",
   "version": "3.6.7"
  }
 },
 "nbformat": 4,
 "nbformat_minor": 2
}
