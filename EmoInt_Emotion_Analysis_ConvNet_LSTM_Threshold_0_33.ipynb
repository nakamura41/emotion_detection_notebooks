{
 "cells": [
  {
   "cell_type": "markdown",
   "metadata": {
    "colab_type": "text",
    "id": "view-in-github"
   },
   "source": [
    "<a href=\"https://colab.research.google.com/github/nakamura41/emotion_detection_notebooks/blob/master/EmoInt_Emotion_Analysis_ConvNet_LSTM_Threshold_0_33.ipynb\" target=\"_parent\"><img src=\"https://colab.research.google.com/assets/colab-badge.svg\" alt=\"Open In Colab\"/></a>"
   ]
  },
  {
   "cell_type": "code",
   "execution_count": 1,
   "metadata": {
    "colab": {
     "base_uri": "https://localhost:8080/",
     "height": 197
    },
    "colab_type": "code",
    "id": "wRzS3ihSifMc",
    "outputId": "19c6dd4d-7fb3-4551-b7f2-acff099b39c7"
   },
   "outputs": [
    {
     "name": "stdout",
     "output_type": "stream",
     "text": [
      "Requirement already satisfied: PyDrive in /usr/local/lib/python3.6/dist-packages (1.3.1)\n",
      "Requirement already satisfied: PyYAML>=3.0 in /usr/local/lib/python3.6/dist-packages (from PyDrive) (3.13)\n",
      "Requirement already satisfied: google-api-python-client>=1.2 in /usr/local/lib/python3.6/dist-packages (from PyDrive) (1.6.7)\n",
      "Requirement already satisfied: oauth2client>=4.0.0 in /usr/local/lib/python3.6/dist-packages (from PyDrive) (4.1.3)\n",
      "Requirement already satisfied: httplib2<1dev,>=0.9.2 in /usr/local/lib/python3.6/dist-packages (from google-api-python-client>=1.2->PyDrive) (0.11.3)\n",
      "Requirement already satisfied: uritemplate<4dev,>=3.0.0 in /usr/local/lib/python3.6/dist-packages (from google-api-python-client>=1.2->PyDrive) (3.0.0)\n",
      "Requirement already satisfied: six<2dev,>=1.6.1 in /usr/local/lib/python3.6/dist-packages (from google-api-python-client>=1.2->PyDrive) (1.11.0)\n",
      "Requirement already satisfied: rsa>=3.1.4 in /usr/local/lib/python3.6/dist-packages (from oauth2client>=4.0.0->PyDrive) (4.0)\n",
      "Requirement already satisfied: pyasn1-modules>=0.0.5 in /usr/local/lib/python3.6/dist-packages (from oauth2client>=4.0.0->PyDrive) (0.2.2)\n",
      "Requirement already satisfied: pyasn1>=0.1.7 in /usr/local/lib/python3.6/dist-packages (from oauth2client>=4.0.0->PyDrive) (0.4.4)\n"
     ]
    }
   ],
   "source": [
    "!pip install PyDrive"
   ]
  },
  {
   "cell_type": "code",
   "execution_count": 2,
   "metadata": {
    "colab": {
     "base_uri": "https://localhost:8080/",
     "height": 53
    },
    "colab_type": "code",
    "id": "OdaHCMv2rGKs",
    "outputId": "881ba674-a9e7-4300-e6c5-07a5b4bbf096"
   },
   "outputs": [
    {
     "name": "stderr",
     "output_type": "stream",
     "text": [
      "Using TensorFlow backend.\n"
     ]
    },
    {
     "name": "stdout",
     "output_type": "stream",
     "text": [
      "1.12.0\n"
     ]
    }
   ],
   "source": [
    "import os\n",
    "import tensorflow as tf\n",
    "from tensorflow import keras\n",
    "import numpy as np\n",
    "import urllib.request\n",
    "import pandas as pd\n",
    "from gensim.test.utils import common_texts, get_tmpfile\n",
    "from gensim.utils import simple_preprocess\n",
    "from gensim.models import Word2Vec\n",
    "from tempfile import gettempdir\n",
    "import zipfile\n",
    "from keras.preprocessing.text import Tokenizer\n",
    "from keras.preprocessing.sequence import pad_sequences\n",
    "from keras.utils import to_categorical\n",
    "from pydrive.auth import GoogleAuth\n",
    "from pydrive.drive import GoogleDrive\n",
    "from google.colab import auth\n",
    "from oauth2client.client import GoogleCredentials\n",
    "from sklearn.model_selection import train_test_split\n",
    "from sklearn.metrics import confusion_matrix, precision_recall_fscore_support, accuracy_score\n",
    "import matplotlib.pyplot as plt\n",
    "import seaborn as sns\n",
    "\n",
    "print(tf.__version__)"
   ]
  },
  {
   "cell_type": "code",
   "execution_count": 0,
   "metadata": {
    "colab": {},
    "colab_type": "code",
    "id": "VMhX1N2k4SgY"
   },
   "outputs": [],
   "source": [
    "# 1. Authenticate and create the PyDrive client.\n",
    "auth.authenticate_user()\n",
    "gauth = GoogleAuth()\n",
    "gauth.credentials = GoogleCredentials.get_application_default()\n",
    "drive = GoogleDrive(gauth)"
   ]
  },
  {
   "cell_type": "code",
   "execution_count": 0,
   "metadata": {
    "colab": {},
    "colab_type": "code",
    "id": "6FJlfk614hrw"
   },
   "outputs": [],
   "source": [
    "# download google drive file\n",
    "def download_drive_file(drive_directory, filename):\n",
    "  list_file_query = \"title='{}' and trashed=false\".format(drive_directory)\n",
    "  file_list = drive.ListFile({'q': list_file_query}).GetList()\n",
    "\n",
    "  if len(file_list) > 0:\n",
    "    directory_id = file_list[0]['id']\n",
    "\n",
    "    list_file_query = \"'{}' in parents\".format(directory_id)\n",
    "\n",
    "    file_list = drive.ListFile({'q': list_file_query}).GetList()\n",
    "    \n",
    "    file_id = None\n",
    "    for file1 in file_list:\n",
    "      if file1['title'] == filename:\n",
    "        print(\"downloading file {}\".format(file1['title']))\n",
    "        file1.GetContentFile(file1['title'])"
   ]
  },
  {
   "cell_type": "code",
   "execution_count": 0,
   "metadata": {
    "colab": {},
    "colab_type": "code",
    "id": "2KRH2n6dEvz3"
   },
   "outputs": [],
   "source": [
    "# upload google drive file\n",
    "def upload_drive_file(drive_directory, filename):\n",
    "  list_file_query = \"title='{}' and trashed=false\".format(drive_directory)\n",
    "  file_list = drive.ListFile({'q': list_file_query}).GetList()\n",
    "\n",
    "  if len(file_list) > 0:\n",
    "    directory_id = file_list[0]['id']\n",
    "    file = drive.CreateFile({\n",
    "        'title': filename, \n",
    "        \"parents\": [{\"kind\": \"drive#fileLink\",\"id\": directory_id}]\n",
    "    })\n",
    "    file.SetContentFile(filename)\n",
    "    file.Upload()"
   ]
  },
  {
   "cell_type": "code",
   "execution_count": 0,
   "metadata": {
    "colab": {},
    "colab_type": "code",
    "id": "zFoyaJyBEyOZ"
   },
   "outputs": [],
   "source": [
    "def save_numpy_array(numpy_array, filename):\n",
    "  np.save(filename, numpy_array)\n",
    "  \n",
    "def save_n_upload_numpy_array(numpy_array, drive_directory, filename):\n",
    "  save_numpy_array(numpy_array, filename)\n",
    "  upload_drive_file(drive_directory, filename)"
   ]
  },
  {
   "cell_type": "code",
   "execution_count": 0,
   "metadata": {
    "colab": {},
    "colab_type": "code",
    "id": "oBynQmEcrNAy"
   },
   "outputs": [],
   "source": [
    "class EmoIntDataset(object):\n",
    "  BASE_URL = \"http://saifmohammad.com/WebDocs/\"\n",
    "  TRAIN_URI = \"EmoInt%20Train%20Data/{}-ratings-0to1.train.txt\"\n",
    "  TEST_URI = \"EmoInt%20Test%20Gold%20Data/{}-ratings-0to1.test.gold.txt\"\n",
    "  EMOTION_CLASSES = [\"anger\", \"fear\", \"joy\", \"sadness\"]\n",
    "  \n",
    "  THRESHOLD = 0.33\n",
    "  \n",
    "  def __load_data_per_class(self, url, threshold=0):\n",
    "    resource = urllib.request.urlopen(url)\n",
    "    np_array = np.asarray([line.split('\\t') for line in [line.strip() for line in resource.read().decode('utf-8').splitlines()]])\n",
    "    df = pd.DataFrame(np_array, columns=[\"id\", \"text\", \"emotion\", \"emotion_level\"])\n",
    "    df['emotion_level'] = df['emotion_level'].astype(float)\n",
    "    df = df.query('emotion_level>' + str(threshold))\n",
    "    return df[[\"text\", \"emotion\"]]\n",
    "  \n",
    "  def load_data(self, set_threshold=False):\n",
    "    train_data = None\n",
    "    test_data = None\n",
    "    \n",
    "    for emotion in self.EMOTION_CLASSES:\n",
    "      # load train dataset\n",
    "      train_df = self.__load_data_per_class(self.BASE_URL + self.TRAIN_URI.format(emotion), threshold=(self.THRESHOLD if set_threshold else 0))\n",
    "      \n",
    "      # load test dataset\n",
    "      test_df = self.__load_data_per_class(self.BASE_URL + self.TEST_URI.format(emotion), threshold=(self.THRESHOLD if set_threshold else 0))\n",
    "      \n",
    "      train_data = (train_df if train_data is None else train_data.append(train_df))\n",
    "      test_data = (test_df if test_data is None else test_data.append(test_df))\n",
    "      \n",
    "    return train_data, test_data"
   ]
  },
  {
   "cell_type": "code",
   "execution_count": 8,
   "metadata": {
    "colab": {
     "base_uri": "https://localhost:8080/",
     "height": 71
    },
    "colab_type": "code",
    "id": "tevwfq4Tu6fe",
    "outputId": "795348cb-8a28-4529-9dbb-d6e480d227bc"
   },
   "outputs": [
    {
     "name": "stdout",
     "output_type": "stream",
     "text": [
      "(2610, 2)\n",
      "(291, 2)\n",
      "(2508, 2)\n"
     ]
    }
   ],
   "source": [
    "emo_int_dataset = EmoIntDataset()\n",
    "train_data, test_data = emo_int_dataset.load_data(set_threshold=True)\n",
    "train_data, valid_data = train_test_split(train_data, test_size=0.1, random_state=200, stratify=train_data.emotion)\n",
    "\n",
    "print(train_data.shape)\n",
    "print(valid_data.shape)\n",
    "print(test_data.shape)"
   ]
  },
  {
   "cell_type": "code",
   "execution_count": 9,
   "metadata": {
    "colab": {
     "base_uri": "https://localhost:8080/",
     "height": 53
    },
    "colab_type": "code",
    "id": "J-xXkD_4175U",
    "outputId": "a358db12-8ae2-49a2-e101-e27aa5ecd492"
   },
   "outputs": [
    {
     "name": "stdout",
     "output_type": "stream",
     "text": [
      "{'fear': 0, 'anger': 1, 'sadness': 2, 'joy': 3}\n",
      "['fear', 'anger', 'sadness', 'joy']\n"
     ]
    }
   ],
   "source": [
    "emotions = train_data.emotion.unique()\n",
    "dic = dict()\n",
    "labels = []\n",
    "for i, emotion in enumerate(emotions):\n",
    "    dic[emotion]=i\n",
    "    labels.append(emotion)\n",
    "print(dic)\n",
    "print(labels)"
   ]
  },
  {
   "cell_type": "code",
   "execution_count": 10,
   "metadata": {
    "colab": {
     "base_uri": "https://localhost:8080/",
     "height": 35
    },
    "colab_type": "code",
    "id": "yhA_GXLyw1gx",
    "outputId": "3c8b1a65-b3bc-4806-d73d-2bf2be851413"
   },
   "outputs": [
    {
     "name": "stdout",
     "output_type": "stream",
     "text": [
      "Found 8672 unique tokens.\n"
     ]
    }
   ],
   "source": [
    "NUM_WORDS=20000\n",
    "texts = train_data.text\n",
    "tokenizer = Tokenizer(num_words=NUM_WORDS,filters='!\"#$%&()*+,-./:;<=>?@[\\\\]^_`{|}~\\t\\n\\'',\n",
    "                      lower=True)\n",
    "tokenizer.fit_on_texts(texts)\n",
    "sequences_train = tokenizer.texts_to_sequences(texts)\n",
    "sequences_valid = tokenizer.texts_to_sequences(valid_data.text)\n",
    "sequences_test = tokenizer.texts_to_sequences(test_data.text)\n",
    "word_index = tokenizer.word_index\n",
    "print('Found %s unique tokens.' % len(word_index))"
   ]
  },
  {
   "cell_type": "code",
   "execution_count": 0,
   "metadata": {
    "colab": {
     "base_uri": "https://localhost:8080/",
     "height": 53
    },
    "colab_type": "code",
    "id": "f3a8LX2z0Vn3",
    "outputId": "a20de544-51c0-449c-afcb-478cf744eef3"
   },
   "outputs": [
    {
     "name": "stdout",
     "output_type": "stream",
     "text": [
      "Shape of X train, validation and test tensor: (2610, 33) (291, 33) (2508, 33)\n",
      "Shape of label train, validation and test tensor: (2610, 4) (291, 4) (2508, 4)\n"
     ]
    }
   ],
   "source": [
    "X_train = pad_sequences(sequences_train)\n",
    "X_val = pad_sequences(sequences_valid, maxlen=X_train.shape[1])\n",
    "X_test = pad_sequences(sequences_test, maxlen=X_train.shape[1])\n",
    "\n",
    "y_train = to_categorical(np.asarray(train_data.emotion.apply(lambda x:dic[x])))\n",
    "y_val = to_categorical(np.asarray(valid_data.emotion.apply(lambda x:dic[x])))\n",
    "y_test = to_categorical(np.asarray(test_data.emotion.apply(lambda x:dic[x])))\n",
    "\n",
    "print('Shape of X train, validation and test tensor:', X_train.shape, X_val.shape, X_test.shape)\n",
    "print('Shape of label train, validation and test tensor:', y_train.shape, y_val.shape, y_test.shape)"
   ]
  },
  {
   "cell_type": "code",
   "execution_count": 0,
   "metadata": {
    "colab": {},
    "colab_type": "code",
    "id": "WPzDX7qc6eQx"
   },
   "outputs": [],
   "source": [
    "download_drive_file(\"Datasets\", \"GoogleNews-vectors-negative300.bin.gz\")"
   ]
  },
  {
   "cell_type": "code",
   "execution_count": 0,
   "metadata": {
    "colab": {},
    "colab_type": "code",
    "id": "naD_jPLlmlFq"
   },
   "outputs": [],
   "source": [
    "import gensim\n",
    "from gensim.models import Word2Vec\n",
    "from gensim.utils import simple_preprocess\n",
    "\n",
    "from gensim.models.keyedvectors import KeyedVectors\n",
    "\n",
    "word_vectors = KeyedVectors.load_word2vec_format('GoogleNews-vectors-negative300.bin.gz', binary=True)\n",
    "\n",
    "EMBEDDING_DIM=300\n",
    "vocabulary_size = min(len(word_index)+1, NUM_WORDS)\n",
    "embedding_matrix = np.zeros((vocabulary_size, EMBEDDING_DIM))\n",
    "for word, i in word_index.items():\n",
    "    if i>=NUM_WORDS:\n",
    "        continue\n",
    "    try:\n",
    "        embedding_vector = word_vectors[word]\n",
    "        embedding_matrix[i] = embedding_vector\n",
    "    except KeyError:\n",
    "        embedding_matrix[i] = np.random.normal(0,np.sqrt(0.25), EMBEDDING_DIM)\n",
    "\n",
    "del(word_vectors)"
   ]
  },
  {
   "cell_type": "code",
   "execution_count": 0,
   "metadata": {
    "colab": {
     "base_uri": "https://localhost:8080/",
     "height": 35
    },
    "colab_type": "code",
    "id": "U7K8Juz6RhpX",
    "outputId": "59bdd38b-1907-41e5-a9cf-25c4a9bca48f"
   },
   "outputs": [
    {
     "name": "stdout",
     "output_type": "stream",
     "text": [
      "embedding_matrix.shape: (8673, 300)\n"
     ]
    }
   ],
   "source": [
    "print(\"embedding_matrix.shape:\", embedding_matrix.shape)\n",
    "file_embedded_matrix = \"emoint_embedded_matrix_word2vec.npy\"\n",
    "save_n_upload_numpy_array(embedding_matrix, \"Colab Notebooks\", file_embedded_matrix)"
   ]
  },
  {
   "cell_type": "markdown",
   "metadata": {
    "colab_type": "text",
    "id": "5H1f3UbhE329"
   },
   "source": [
    "## Reload embedding layer and training dataset"
   ]
  },
  {
   "cell_type": "code",
   "execution_count": 11,
   "metadata": {
    "colab": {
     "base_uri": "https://localhost:8080/",
     "height": 53
    },
    "colab_type": "code",
    "id": "W_ksCjVeE3a2",
    "outputId": "3c0db7b8-e3b1-4c77-d645-c5da1692ccf5"
   },
   "outputs": [
    {
     "name": "stdout",
     "output_type": "stream",
     "text": [
      "downloading file emoint_embedded_matrix_word2vec.npy\n",
      "embedding matrix shape: (8673, 300)\n"
     ]
    }
   ],
   "source": [
    "file_embedded_matrix = \"emoint_embedded_matrix_word2vec.npy\"\n",
    "download_drive_file(\"Colab Notebooks\", file_embedded_matrix)\n",
    "embedding_matrix = np.load(file_embedded_matrix)\n",
    "print(\"embedding matrix shape:\", embedding_matrix.shape)"
   ]
  },
  {
   "cell_type": "code",
   "execution_count": 12,
   "metadata": {
    "colab": {
     "base_uri": "https://localhost:8080/",
     "height": 125
    },
    "colab_type": "code",
    "id": "FGZlNGwuE73I",
    "outputId": "74bac472-1345-427c-f68f-58d5bb973830"
   },
   "outputs": [
    {
     "name": "stdout",
     "output_type": "stream",
     "text": [
      "downloading file emoint_X_train.npy\n",
      "downloading file emoint_X_val.npy\n",
      "downloading file emoint_X_test.npy\n",
      "downloading file emoint_y_train.npy\n",
      "downloading file emoint_y_val.npy\n",
      "downloading file emoint_y_test.npy\n"
     ]
    }
   ],
   "source": [
    "download_drive_file(\"Colab Notebooks\", \"emoint_X_train.npy\")\n",
    "download_drive_file(\"Colab Notebooks\", \"emoint_X_val.npy\")\n",
    "download_drive_file(\"Colab Notebooks\", \"emoint_X_test.npy\")\n",
    "\n",
    "download_drive_file(\"Colab Notebooks\", \"emoint_y_train.npy\")\n",
    "download_drive_file(\"Colab Notebooks\", \"emoint_y_val.npy\")\n",
    "download_drive_file(\"Colab Notebooks\", \"emoint_y_test.npy\")\n",
    "\n",
    "X_train = np.load(\"emoint_X_train.npy\")\n",
    "X_val = np.load(\"emoint_X_val.npy\")\n",
    "X_test = np.load(\"emoint_X_test.npy\")\n",
    "\n",
    "y_train = np.load(\"emoint_y_train.npy\")\n",
    "y_val = np.load(\"emoint_y_val.npy\")\n",
    "y_test = np.load(\"emoint_y_test.npy\")"
   ]
  },
  {
   "cell_type": "code",
   "execution_count": 47,
   "metadata": {
    "colab": {
     "base_uri": "https://localhost:8080/",
     "height": 737
    },
    "colab_type": "code",
    "id": "Q0fX0z7_7Mi5",
    "outputId": "05ce5252-d99a-4798-ad23-0f67869dfdb2"
   },
   "outputs": [
    {
     "name": "stdout",
     "output_type": "stream",
     "text": [
      "33\n",
      "__________________________________________________________________________________________________\n",
      "Layer (type)                    Output Shape         Param #     Connected to                     \n",
      "==================================================================================================\n",
      "input_1 (InputLayer)            (None, 33)           0                                            \n",
      "__________________________________________________________________________________________________\n",
      "embedding (Embedding)           (None, 33, 300)      2601900     input_1[0][0]                    \n",
      "__________________________________________________________________________________________________\n",
      "reshape_main (Reshape)          (None, 33, 300, 1)   0           embedding[0][0]                  \n",
      "__________________________________________________________________________________________________\n",
      "conv_1 (Conv2D)                 (None, 31, 1, 100)   90100       reshape_main[0][0]               \n",
      "__________________________________________________________________________________________________\n",
      "conv_2 (Conv2D)                 (None, 30, 1, 100)   120100      reshape_main[0][0]               \n",
      "__________________________________________________________________________________________________\n",
      "conv_3 (Conv2D)                 (None, 29, 1, 100)   150100      reshape_main[0][0]               \n",
      "__________________________________________________________________________________________________\n",
      "reshape_1 (Reshape)             (None, 31, 100)      0           conv_1[0][0]                     \n",
      "__________________________________________________________________________________________________\n",
      "reshape_2 (Reshape)             (None, 30, 100)      0           conv_2[0][0]                     \n",
      "__________________________________________________________________________________________________\n",
      "reshape_3 (Reshape)             (None, 29, 100)      0           conv_3[0][0]                     \n",
      "__________________________________________________________________________________________________\n",
      "bidirectional_7 (Bidirectional) (None, 200)          160800      reshape_1[0][0]                  \n",
      "__________________________________________________________________________________________________\n",
      "bidirectional_8 (Bidirectional) (None, 200)          160800      reshape_2[0][0]                  \n",
      "__________________________________________________________________________________________________\n",
      "bidirectional_9 (Bidirectional) (None, 200)          160800      reshape_3[0][0]                  \n",
      "__________________________________________________________________________________________________\n",
      "concatenate_1 (Concatenate)     (None, 600)          0           bidirectional_7[0][0]            \n",
      "                                                                 bidirectional_8[0][0]            \n",
      "                                                                 bidirectional_9[0][0]            \n",
      "__________________________________________________________________________________________________\n",
      "dropout_1 (Dropout)             (None, 600)          0           concatenate_1[0][0]              \n",
      "__________________________________________________________________________________________________\n",
      "dense_1 (Dense)                 (None, 4)            2404        dropout_1[0][0]                  \n",
      "==================================================================================================\n",
      "Total params: 3,447,004\n",
      "Trainable params: 3,447,004\n",
      "Non-trainable params: 0\n",
      "__________________________________________________________________________________________________\n"
     ]
    }
   ],
   "source": [
    "from keras.layers import Dense, Input, GlobalMaxPooling1D, TimeDistributed\n",
    "from keras.layers import Conv1D, MaxPooling1D, Embedding, Bidirectional\n",
    "from keras.models import Model\n",
    "from keras.layers import Input, Dense, Embedding, Conv2D, MaxPooling2D, Dropout, concatenate, LSTM\n",
    "from keras.layers.core import Reshape, Flatten\n",
    "from keras.callbacks import EarlyStopping, ModelCheckpoint\n",
    "from keras.optimizers import Adam, Adadelta, RMSprop\n",
    "from keras.models import Model\n",
    "from keras import regularizers\n",
    "sequence_length = X_train.shape[1]\n",
    "filter_sizes = [3,4,5]\n",
    "num_filters = 100\n",
    "CONV_DROP_RATE = 0.5\n",
    "HIDDEN_DIM = 100\n",
    "LSTM_DROP_RATE = 0.2\n",
    "vocabulary_size = 8673\n",
    "EMBEDDING_DIM=300\n",
    "\n",
    "print(sequence_length)\n",
    "\n",
    "inputs = Input(shape=(sequence_length,), name='input_1')\n",
    "embedding_layer = Embedding(vocabulary_size, EMBEDDING_DIM, weights=[embedding_matrix], input_length=sequence_length, trainable=True, name='embedding')\n",
    "embedding = embedding_layer(inputs)\n",
    "reshape = Reshape((sequence_length, EMBEDDING_DIM, 1), name='reshape_main')(embedding)\n",
    "\n",
    "conv_1 = Conv2D(num_filters, (filter_sizes[0], EMBEDDING_DIM), activation='relu',kernel_regularizer=regularizers.l2(0.01), name='conv_1')(reshape)\n",
    "reshape_1 = Reshape((sequence_length - filter_sizes[0] + 1, num_filters), name='reshape_1')(conv_1)\n",
    "lstm_1 = Bidirectional(LSTM(units=HIDDEN_DIM, dropout=LSTM_DROP_RATE, recurrent_dropout=LSTM_DROP_RATE, name='lstm_1'))(reshape_1)\n",
    "\n",
    "conv_2 = Conv2D(num_filters, (filter_sizes[1], EMBEDDING_DIM), activation='relu',kernel_regularizer=regularizers.l2(0.01), name='conv_2')(reshape)\n",
    "reshape_2 = Reshape((sequence_length - filter_sizes[1] + 1, num_filters), name='reshape_2')(conv_2)\n",
    "lstm_2 = Bidirectional(LSTM(units=HIDDEN_DIM, dropout=LSTM_DROP_RATE, recurrent_dropout=LSTM_DROP_RATE, name='lstm_2'))(reshape_2)\n",
    "\n",
    "conv_3 = Conv2D(num_filters, (filter_sizes[2], EMBEDDING_DIM), activation='relu',kernel_regularizer=regularizers.l2(0.01), name='conv_3')(reshape)\n",
    "reshape_3 = Reshape((sequence_length - filter_sizes[2] + 1, num_filters), name='reshape_3')(conv_3)\n",
    "lstm_3 = Bidirectional(LSTM(units=HIDDEN_DIM, dropout=LSTM_DROP_RATE, recurrent_dropout=LSTM_DROP_RATE, name='lstm_3'))(reshape_3)\n",
    "\n",
    "\n",
    "# maxpool_1 = MaxPooling2D((sequence_length - filter_sizes[0] + 1, 1), strides=1, name='maxpool_1')(conv_1)\n",
    "\n",
    "# maxpool_2 = MaxPooling2D((sequence_length - filter_sizes[1] + 1, 1), strides=1, name='maxpool_2')(conv_2)\n",
    "# maxpool_3 = MaxPooling2D((sequence_length - filter_sizes[2] + 1, 1), strides=1, name='maxpool_3')(conv_3)\n",
    "\n",
    "merged_tensor = concatenate([lstm_1, lstm_2, lstm_3], axis=1, name='concatenate_1')\n",
    "# \n",
    "# merged_tensor = concatenate([maxpool_1, maxpool_2, maxpool_3], axis=1, name='concatenate_1')\n",
    "# flatten = Flatten()(merged_tensor)\n",
    "# reshape2 = Reshape((EMBEDDING_DIM, 1), name='reshape_2')(flatten)\n",
    "# lstm = Bidirectional(LSTM(units=HIDDEN_DIM, dropout=LSTM_DROP_RATE, recurrent_dropout=LSTM_DROP_RATE, name='lstm'))(reshape2)\n",
    "dropout = Dropout(CONV_DROP_RATE, name='dropout_1')(merged_tensor)\n",
    "output = Dense(units=4, activation='softmax',kernel_regularizer=regularizers.l2(0.01), name='dense_1')(dropout)\n",
    "\n",
    "model = None \n",
    "\n",
    "# this creates a model that includes\n",
    "model = Model(inputs, output)\n",
    "\n",
    "model.summary()"
   ]
  },
  {
   "cell_type": "code",
   "execution_count": 48,
   "metadata": {
    "colab": {
     "base_uri": "https://localhost:8080/",
     "height": 305
    },
    "colab_type": "code",
    "id": "rClQ6sed4JA5",
    "outputId": "5b465d80-ee45-4479-eaa6-a64d928229f1"
   },
   "outputs": [
    {
     "name": "stdout",
     "output_type": "stream",
     "text": [
      "total 88144\n",
      "-rw-r--r-- 1 root root     2530 Dec 18 02:30 adc.json\n",
      "drwxr-xr-x 1 root root     4096 Dec 18 02:30 .config\n",
      "-rw-r--r-- 1 root root 22860648 Dec 18 03:28 emoint_convnet_lstm_model.h5\n",
      "-rw-r--r-- 1 root root 11438184 Dec 18 03:28 emoint_convnet_lstm_weights.h5\n",
      "-rw-r--r-- 1 root root 20815328 Dec 18 02:54 emoint_embedded_matrix_word2vec.npy\n",
      "-rw-r--r-- 1 root root 22860648 Dec 18 03:27 emoint_lstm_model.h5\n",
      "-rw-r--r-- 1 root root 11438184 Dec 18 03:27 emoint_lstm_weights.h5\n",
      "-rw-r--r-- 1 root root   331184 Dec 18 02:55 emoint_X_test.npy\n",
      "-rw-r--r-- 1 root root   344648 Dec 18 02:54 emoint_X_train.npy\n",
      "-rw-r--r-- 1 root root    38540 Dec 18 02:54 emoint_X_val.npy\n",
      "-rw-r--r-- 1 root root    40256 Dec 18 02:55 emoint_y_test.npy\n",
      "-rw-r--r-- 1 root root    41888 Dec 18 02:55 emoint_y_train.npy\n",
      "-rw-r--r-- 1 root root     4784 Dec 18 02:55 emoint_y_val.npy\n",
      "drwxr-xr-x 1 root root     4096 Dec 10 17:34 sample_data\n",
      "drwxr-xr-x 2 root root     4096 Dec 18 03:32 tmp\n"
     ]
    }
   ],
   "source": [
    "!rm -r tmp\n",
    "!mkdir tmp\n",
    "!ls -lA"
   ]
  },
  {
   "cell_type": "markdown",
   "metadata": {
    "colab_type": "text",
    "id": "8yp4WKi-FM_m"
   },
   "source": [
    "## Two-steps training"
   ]
  },
  {
   "cell_type": "code",
   "execution_count": 49,
   "metadata": {
    "colab": {
     "base_uri": "https://localhost:8080/",
     "height": 3491
    },
    "colab_type": "code",
    "id": "HHZ1POD77GRp",
    "outputId": "6b108ec1-b034-4536-a830-bb777d3423bd"
   },
   "outputs": [
    {
     "name": "stdout",
     "output_type": "stream",
     "text": [
      "Train on 2610 samples, validate on 291 samples\n",
      "Epoch 1/100\n",
      "2610/2610 [==============================] - 10s 4ms/step - loss: 1.4939 - acc: 0.2958 - val_loss: 1.4240 - val_acc: 0.3471\n",
      "\n",
      "Epoch 00001: val_acc improved from -inf to 0.34708, saving model to tmp/weights-01-0.35.hdf5\n",
      "Epoch 2/100\n",
      "2610/2610 [==============================] - 2s 854us/step - loss: 1.3826 - acc: 0.4050 - val_loss: 1.5616 - val_acc: 0.3024\n",
      "\n",
      "Epoch 00002: val_acc did not improve from 0.34708\n",
      "Epoch 3/100\n",
      "2610/2610 [==============================] - 2s 817us/step - loss: 1.4716 - acc: 0.3839 - val_loss: 1.3313 - val_acc: 0.4914\n",
      "\n",
      "Epoch 00003: val_acc improved from 0.34708 to 0.49141, saving model to tmp/weights-03-0.49.hdf5\n",
      "Epoch 4/100\n",
      "2610/2610 [==============================] - 2s 822us/step - loss: 1.2316 - acc: 0.5808 - val_loss: 1.2771 - val_acc: 0.5189\n",
      "\n",
      "Epoch 00004: val_acc improved from 0.49141 to 0.51890, saving model to tmp/weights-04-0.52.hdf5\n",
      "Epoch 5/100\n",
      "2610/2610 [==============================] - 2s 818us/step - loss: 1.1359 - acc: 0.6134 - val_loss: 1.2877 - val_acc: 0.4777\n",
      "\n",
      "Epoch 00005: val_acc did not improve from 0.51890\n",
      "Epoch 6/100\n",
      "2610/2610 [==============================] - 2s 816us/step - loss: 1.2069 - acc: 0.5061 - val_loss: 1.2903 - val_acc: 0.4880\n",
      "\n",
      "Epoch 00006: val_acc did not improve from 0.51890\n",
      "Epoch 7/100\n",
      "2610/2610 [==============================] - 2s 819us/step - loss: 1.0330 - acc: 0.6743 - val_loss: 1.1126 - val_acc: 0.6460\n",
      "\n",
      "Epoch 00007: val_acc improved from 0.51890 to 0.64605, saving model to tmp/weights-07-0.65.hdf5\n",
      "Epoch 8/100\n",
      "2610/2610 [==============================] - 2s 818us/step - loss: 0.8760 - acc: 0.7437 - val_loss: 1.2670 - val_acc: 0.5430\n",
      "\n",
      "Epoch 00008: val_acc did not improve from 0.64605\n",
      "Epoch 9/100\n",
      "2610/2610 [==============================] - 2s 815us/step - loss: 0.9432 - acc: 0.6897 - val_loss: 1.3060 - val_acc: 0.5498\n",
      "\n",
      "Epoch 00009: val_acc did not improve from 0.64605\n",
      "Epoch 10/100\n",
      "2610/2610 [==============================] - 2s 815us/step - loss: 0.9627 - acc: 0.6989 - val_loss: 1.1034 - val_acc: 0.6392\n",
      "\n",
      "Epoch 00010: val_acc did not improve from 0.64605\n",
      "Epoch 11/100\n",
      "2610/2610 [==============================] - 2s 811us/step - loss: 0.7568 - acc: 0.8268 - val_loss: 1.0060 - val_acc: 0.7045\n",
      "\n",
      "Epoch 00011: val_acc improved from 0.64605 to 0.70447, saving model to tmp/weights-11-0.70.hdf5\n",
      "Epoch 12/100\n",
      "2610/2610 [==============================] - 2s 820us/step - loss: 0.6848 - acc: 0.8521 - val_loss: 1.0722 - val_acc: 0.6667\n",
      "\n",
      "Epoch 00012: val_acc did not improve from 0.70447\n",
      "Epoch 13/100\n",
      "2610/2610 [==============================] - 2s 823us/step - loss: 0.6228 - acc: 0.8682 - val_loss: 1.0264 - val_acc: 0.6598\n",
      "\n",
      "Epoch 00013: val_acc did not improve from 0.70447\n",
      "Epoch 14/100\n",
      "2610/2610 [==============================] - 2s 823us/step - loss: 0.6792 - acc: 0.8326 - val_loss: 1.2941 - val_acc: 0.6323\n",
      "\n",
      "Epoch 00014: val_acc did not improve from 0.70447\n",
      "Epoch 15/100\n",
      "2610/2610 [==============================] - 2s 812us/step - loss: 0.6125 - acc: 0.8927 - val_loss: 0.9250 - val_acc: 0.7285\n",
      "\n",
      "Epoch 00015: val_acc improved from 0.70447 to 0.72852, saving model to tmp/weights-15-0.73.hdf5\n",
      "Epoch 16/100\n",
      "2610/2610 [==============================] - 2s 827us/step - loss: 0.4868 - acc: 0.9356 - val_loss: 0.9624 - val_acc: 0.7285\n",
      "\n",
      "Epoch 00016: val_acc did not improve from 0.72852\n",
      "Epoch 17/100\n",
      "2610/2610 [==============================] - 2s 827us/step - loss: 0.5037 - acc: 0.9019 - val_loss: 0.8807 - val_acc: 0.7595\n",
      "\n",
      "Epoch 00017: val_acc improved from 0.72852 to 0.75945, saving model to tmp/weights-17-0.76.hdf5\n",
      "Epoch 18/100\n",
      "2610/2610 [==============================] - 2s 823us/step - loss: 0.4037 - acc: 0.9625 - val_loss: 0.9077 - val_acc: 0.7595\n",
      "\n",
      "Epoch 00018: val_acc did not improve from 0.75945\n",
      "Epoch 19/100\n",
      "2610/2610 [==============================] - 2s 817us/step - loss: 0.3884 - acc: 0.9494 - val_loss: 0.9766 - val_acc: 0.7285\n",
      "\n",
      "Epoch 00019: val_acc did not improve from 0.75945\n",
      "Epoch 20/100\n",
      "2610/2610 [==============================] - 2s 825us/step - loss: 0.3916 - acc: 0.9441 - val_loss: 1.2136 - val_acc: 0.6357\n",
      "\n",
      "Epoch 00020: val_acc did not improve from 0.75945\n",
      "Epoch 21/100\n",
      "2610/2610 [==============================] - 2s 818us/step - loss: 0.5790 - acc: 0.8598 - val_loss: 0.8994 - val_acc: 0.7491\n",
      "\n",
      "Epoch 00021: val_acc did not improve from 0.75945\n",
      "Epoch 22/100\n",
      "2610/2610 [==============================] - 2s 818us/step - loss: 0.4070 - acc: 0.9475 - val_loss: 0.8335 - val_acc: 0.7595\n",
      "\n",
      "Epoch 00022: val_acc did not improve from 0.75945\n",
      "Epoch 23/100\n",
      "2610/2610 [==============================] - 2s 811us/step - loss: 0.3069 - acc: 0.9789 - val_loss: 0.8106 - val_acc: 0.7835\n",
      "\n",
      "Epoch 00023: val_acc improved from 0.75945 to 0.78351, saving model to tmp/weights-23-0.78.hdf5\n",
      "Epoch 24/100\n",
      "2610/2610 [==============================] - 2s 821us/step - loss: 0.2768 - acc: 0.9793 - val_loss: 0.8680 - val_acc: 0.7560\n",
      "\n",
      "Epoch 00024: val_acc did not improve from 0.78351\n",
      "Epoch 25/100\n",
      "2610/2610 [==============================] - 2s 824us/step - loss: 0.3307 - acc: 0.9487 - val_loss: 1.0262 - val_acc: 0.7148\n",
      "\n",
      "Epoch 00025: val_acc did not improve from 0.78351\n",
      "Epoch 26/100\n",
      "2610/2610 [==============================] - 2s 824us/step - loss: 0.3567 - acc: 0.9425 - val_loss: 0.8640 - val_acc: 0.7629\n",
      "\n",
      "Epoch 00026: val_acc did not improve from 0.78351\n",
      "Epoch 27/100\n",
      "2610/2610 [==============================] - 2s 811us/step - loss: 0.2554 - acc: 0.9854 - val_loss: 0.8027 - val_acc: 0.7938\n",
      "\n",
      "Epoch 00027: val_acc improved from 0.78351 to 0.79381, saving model to tmp/weights-27-0.79.hdf5\n",
      "Epoch 28/100\n",
      "2610/2610 [==============================] - 2s 816us/step - loss: 0.2315 - acc: 0.9858 - val_loss: 0.9435 - val_acc: 0.7526\n",
      "\n",
      "Epoch 00028: val_acc did not improve from 0.79381\n",
      "Epoch 29/100\n",
      "2610/2610 [==============================] - 2s 828us/step - loss: 0.4837 - acc: 0.8908 - val_loss: 0.7887 - val_acc: 0.7629\n",
      "\n",
      "Epoch 00029: val_acc did not improve from 0.79381\n",
      "Epoch 30/100\n",
      "2610/2610 [==============================] - 2s 818us/step - loss: 0.4279 - acc: 0.9257 - val_loss: 1.0044 - val_acc: 0.7354\n",
      "\n",
      "Epoch 00030: val_acc did not improve from 0.79381\n",
      "Epoch 31/100\n",
      "2610/2610 [==============================] - 2s 811us/step - loss: 0.2897 - acc: 0.9766 - val_loss: 0.7708 - val_acc: 0.8110\n",
      "\n",
      "Epoch 00031: val_acc improved from 0.79381 to 0.81100, saving model to tmp/weights-31-0.81.hdf5\n",
      "Epoch 32/100\n",
      "2610/2610 [==============================] - 2s 808us/step - loss: 0.2385 - acc: 0.9858 - val_loss: 0.7684 - val_acc: 0.8041\n",
      "\n",
      "Epoch 00032: val_acc did not improve from 0.81100\n",
      "Epoch 33/100\n",
      "2610/2610 [==============================] - 2s 825us/step - loss: 0.2224 - acc: 0.9866 - val_loss: 0.7773 - val_acc: 0.8110\n",
      "\n",
      "Epoch 00033: val_acc did not improve from 0.81100\n",
      "Epoch 34/100\n",
      "2610/2610 [==============================] - 2s 832us/step - loss: 0.2065 - acc: 0.9854 - val_loss: 0.7953 - val_acc: 0.7869\n",
      "\n",
      "Epoch 00034: val_acc did not improve from 0.81100\n",
      "Epoch 35/100\n",
      "2610/2610 [==============================] - 2s 812us/step - loss: 0.1899 - acc: 0.9870 - val_loss: 0.7987 - val_acc: 0.7938\n",
      "\n",
      "Epoch 00035: val_acc did not improve from 0.81100\n",
      "Epoch 36/100\n",
      "2610/2610 [==============================] - 2s 813us/step - loss: 0.2323 - acc: 0.9678 - val_loss: 1.5377 - val_acc: 0.6632\n",
      "\n",
      "Epoch 00036: val_acc did not improve from 0.81100\n",
      "Epoch 37/100\n",
      "2610/2610 [==============================] - 2s 824us/step - loss: 0.7953 - acc: 0.8038 - val_loss: 0.8016 - val_acc: 0.7595\n",
      "\n",
      "Epoch 00037: val_acc did not improve from 0.81100\n",
      "Epoch 38/100\n",
      "2610/2610 [==============================] - 2s 813us/step - loss: 0.2816 - acc: 0.9625 - val_loss: 0.7172 - val_acc: 0.8007\n",
      "\n",
      "Epoch 00038: val_acc did not improve from 0.81100\n",
      "Epoch 39/100\n",
      "2610/2610 [==============================] - 2s 814us/step - loss: 0.2272 - acc: 0.9839 - val_loss: 0.7359 - val_acc: 0.8007\n",
      "\n",
      "Epoch 00039: val_acc did not improve from 0.81100\n",
      "Epoch 40/100\n",
      "2610/2610 [==============================] - 2s 819us/step - loss: 0.2108 - acc: 0.9851 - val_loss: 0.7463 - val_acc: 0.8041\n",
      "\n",
      "Epoch 00040: val_acc did not improve from 0.81100\n",
      "Epoch 41/100\n",
      "2610/2610 [==============================] - 2s 817us/step - loss: 0.1962 - acc: 0.9877 - val_loss: 0.7360 - val_acc: 0.8110\n",
      "\n",
      "Epoch 00041: val_acc did not improve from 0.81100\n",
      "Epoch 42/100\n",
      "2610/2610 [==============================] - 2s 818us/step - loss: 0.1864 - acc: 0.9877 - val_loss: 0.7330 - val_acc: 0.8076\n",
      "\n",
      "Epoch 00042: val_acc did not improve from 0.81100\n",
      "Epoch 43/100\n",
      "2610/2610 [==============================] - 2s 816us/step - loss: 0.1780 - acc: 0.9862 - val_loss: 0.8755 - val_acc: 0.7251\n",
      "\n",
      "Epoch 00043: val_acc did not improve from 0.81100\n",
      "Epoch 44/100\n",
      "2610/2610 [==============================] - 2s 815us/step - loss: 0.1839 - acc: 0.9839 - val_loss: 0.8204 - val_acc: 0.7904\n",
      "\n",
      "Epoch 00044: val_acc did not improve from 0.81100\n",
      "Epoch 45/100\n",
      "2610/2610 [==============================] - 2s 809us/step - loss: 0.1855 - acc: 0.9808 - val_loss: 0.8475 - val_acc: 0.7766\n",
      "\n",
      "Epoch 00045: val_acc did not improve from 0.81100\n",
      "Epoch 46/100\n",
      "2610/2610 [==============================] - 2s 812us/step - loss: 0.1607 - acc: 0.9877 - val_loss: 0.8075 - val_acc: 0.8041\n",
      "\n",
      "Epoch 00046: val_acc did not improve from 0.81100\n",
      "Epoch 47/100\n",
      "2610/2610 [==============================] - 2s 810us/step - loss: 0.1981 - acc: 0.9766 - val_loss: 1.4806 - val_acc: 0.6289\n",
      "\n",
      "Epoch 00047: val_acc did not improve from 0.81100\n",
      "Epoch 48/100\n",
      "2610/2610 [==============================] - 2s 829us/step - loss: 0.6302 - acc: 0.8322 - val_loss: 0.7611 - val_acc: 0.8041\n",
      "\n",
      "Epoch 00048: val_acc did not improve from 0.81100\n"
     ]
    }
   ],
   "source": [
    "adam = Adam(lr=1e-3, decay=0.0)\n",
    "adadelta = Adadelta(lr=1.0, rho=0.95, epsilon=None, decay=0.0)\n",
    "rmsprop = RMSprop(lr=0.001, rho=0.9, epsilon=None, decay=0.0)\n",
    "\n",
    "model.compile(loss='categorical_crossentropy', optimizer=rmsprop, metrics=['acc'])\n",
    "\n",
    "filepath=\"tmp/weights-{epoch:02d}-{val_acc:.2f}.hdf5\"\n",
    "model_checkpoint = ModelCheckpoint(filepath, monitor='val_acc', verbose=1, save_best_only=True, mode='auto')\n",
    "early_stopping = EarlyStopping(monitor='val_loss', patience=10)\n",
    "callbacks = [early_stopping, model_checkpoint]\n",
    "\n",
    "history = model.fit(X_train, y_train, batch_size=1000, epochs=100, verbose=1, validation_data=(X_val, y_val), callbacks=callbacks)  # starts training"
   ]
  },
  {
   "cell_type": "code",
   "execution_count": 50,
   "metadata": {
    "colab": {
     "base_uri": "https://localhost:8080/",
     "height": 5435
    },
    "colab_type": "code",
    "id": "tzlNz7u3FT_1",
    "outputId": "e747aa04-0e07-4ad6-8f6e-1e66a564ee72"
   },
   "outputs": [
    {
     "name": "stdout",
     "output_type": "stream",
     "text": [
      "Train on 2901 samples, validate on 291 samples\n",
      "Epoch 1/100\n",
      "2901/2901 [==============================] - 3s 961us/step - loss: 0.2665 - acc: 0.9686 - val_loss: 0.5959 - val_acc: 0.8488\n",
      "\n",
      "Epoch 00001: val_acc improved from 0.81100 to 0.84880, saving model to tmp/weights-01-0.85.hdf5\n",
      "Epoch 2/100\n",
      "2901/2901 [==============================] - 2s 762us/step - loss: 0.2339 - acc: 0.9735 - val_loss: 0.5668 - val_acc: 0.8488\n",
      "\n",
      "Epoch 00002: val_acc did not improve from 0.84880\n",
      "Epoch 3/100\n",
      "2901/2901 [==============================] - 2s 760us/step - loss: 0.2260 - acc: 0.9693 - val_loss: 0.4648 - val_acc: 0.8935\n",
      "\n",
      "Epoch 00003: val_acc improved from 0.84880 to 0.89347, saving model to tmp/weights-03-0.89.hdf5\n",
      "Epoch 4/100\n",
      "2901/2901 [==============================] - 2s 753us/step - loss: 0.2161 - acc: 0.9748 - val_loss: 0.5504 - val_acc: 0.8625\n",
      "\n",
      "Epoch 00004: val_acc did not improve from 0.89347\n",
      "Epoch 5/100\n",
      "2901/2901 [==============================] - 2s 767us/step - loss: 0.2469 - acc: 0.9604 - val_loss: 0.5846 - val_acc: 0.8247\n",
      "\n",
      "Epoch 00005: val_acc did not improve from 0.89347\n",
      "Epoch 6/100\n",
      "2901/2901 [==============================] - 2s 758us/step - loss: 0.2229 - acc: 0.9686 - val_loss: 0.3925 - val_acc: 0.9278\n",
      "\n",
      "Epoch 00006: val_acc improved from 0.89347 to 0.92784, saving model to tmp/weights-06-0.93.hdf5\n",
      "Epoch 7/100\n",
      "2901/2901 [==============================] - 2s 759us/step - loss: 0.1861 - acc: 0.9797 - val_loss: 0.3162 - val_acc: 0.9416\n",
      "\n",
      "Epoch 00007: val_acc improved from 0.92784 to 0.94158, saving model to tmp/weights-07-0.94.hdf5\n",
      "Epoch 8/100\n",
      "2901/2901 [==============================] - 2s 754us/step - loss: 0.1668 - acc: 0.9841 - val_loss: 0.2975 - val_acc: 0.9416\n",
      "\n",
      "Epoch 00008: val_acc did not improve from 0.94158\n",
      "Epoch 9/100\n",
      "2901/2901 [==============================] - 2s 755us/step - loss: 0.1753 - acc: 0.9817 - val_loss: 0.3565 - val_acc: 0.9278\n",
      "\n",
      "Epoch 00009: val_acc did not improve from 0.94158\n",
      "Epoch 10/100\n",
      "2901/2901 [==============================] - 2s 758us/step - loss: 0.1642 - acc: 0.9814 - val_loss: 0.3140 - val_acc: 0.9416\n",
      "\n",
      "Epoch 00010: val_acc did not improve from 0.94158\n",
      "Epoch 11/100\n",
      "2901/2901 [==============================] - 2s 766us/step - loss: 0.2160 - acc: 0.9607 - val_loss: 1.1123 - val_acc: 0.6873\n",
      "\n",
      "Epoch 00011: val_acc did not improve from 0.94158\n",
      "Epoch 12/100\n",
      "2901/2901 [==============================] - 2s 764us/step - loss: 0.5324 - acc: 0.8728 - val_loss: 0.3650 - val_acc: 0.9313\n",
      "\n",
      "Epoch 00012: val_acc did not improve from 0.94158\n",
      "Epoch 13/100\n",
      "2901/2901 [==============================] - 2s 758us/step - loss: 0.1990 - acc: 0.9810 - val_loss: 0.3007 - val_acc: 0.9519\n",
      "\n",
      "Epoch 00013: val_acc improved from 0.94158 to 0.95189, saving model to tmp/weights-13-0.95.hdf5\n",
      "Epoch 14/100\n",
      "2901/2901 [==============================] - 2s 759us/step - loss: 0.1771 - acc: 0.9838 - val_loss: 0.2591 - val_acc: 0.9588\n",
      "\n",
      "Epoch 00014: val_acc improved from 0.95189 to 0.95876, saving model to tmp/weights-14-0.96.hdf5\n",
      "Epoch 15/100\n",
      "2901/2901 [==============================] - 2s 759us/step - loss: 0.1669 - acc: 0.9821 - val_loss: 0.2489 - val_acc: 0.9553\n",
      "\n",
      "Epoch 00015: val_acc did not improve from 0.95876\n",
      "Epoch 16/100\n",
      "2901/2901 [==============================] - 2s 763us/step - loss: 0.1616 - acc: 0.9828 - val_loss: 0.2299 - val_acc: 0.9656\n",
      "\n",
      "Epoch 00016: val_acc improved from 0.95876 to 0.96564, saving model to tmp/weights-16-0.97.hdf5\n",
      "Epoch 17/100\n",
      "2901/2901 [==============================] - 2s 777us/step - loss: 0.1502 - acc: 0.9852 - val_loss: 0.2181 - val_acc: 0.9656\n",
      "\n",
      "Epoch 00017: val_acc did not improve from 0.96564\n",
      "Epoch 18/100\n",
      "2901/2901 [==============================] - 2s 764us/step - loss: 0.1498 - acc: 0.9821 - val_loss: 0.2247 - val_acc: 0.9622\n",
      "\n",
      "Epoch 00018: val_acc did not improve from 0.96564\n",
      "Epoch 19/100\n",
      "2901/2901 [==============================] - 2s 758us/step - loss: 0.1734 - acc: 0.9748 - val_loss: 0.3399 - val_acc: 0.9313\n",
      "\n",
      "Epoch 00019: val_acc did not improve from 0.96564\n",
      "Epoch 20/100\n",
      "2901/2901 [==============================] - 2s 755us/step - loss: 0.3326 - acc: 0.9242 - val_loss: 0.2793 - val_acc: 0.9588\n",
      "\n",
      "Epoch 00020: val_acc did not improve from 0.96564\n",
      "Epoch 21/100\n",
      "2901/2901 [==============================] - 2s 762us/step - loss: 0.1691 - acc: 0.9817 - val_loss: 0.2221 - val_acc: 0.9691\n",
      "\n",
      "Epoch 00021: val_acc improved from 0.96564 to 0.96907, saving model to tmp/weights-21-0.97.hdf5\n",
      "Epoch 22/100\n",
      "2901/2901 [==============================] - 2s 762us/step - loss: 0.1528 - acc: 0.9848 - val_loss: 0.2052 - val_acc: 0.9691\n",
      "\n",
      "Epoch 00022: val_acc did not improve from 0.96907\n",
      "Epoch 23/100\n",
      "2901/2901 [==============================] - 2s 765us/step - loss: 0.1416 - acc: 0.9862 - val_loss: 0.2446 - val_acc: 0.9450\n",
      "\n",
      "Epoch 00023: val_acc did not improve from 0.96907\n",
      "Epoch 24/100\n",
      "2901/2901 [==============================] - 2s 760us/step - loss: 0.1590 - acc: 0.9828 - val_loss: 0.1904 - val_acc: 0.9691\n",
      "\n",
      "Epoch 00024: val_acc did not improve from 0.96907\n",
      "Epoch 25/100\n",
      "2901/2901 [==============================] - 2s 762us/step - loss: 0.1403 - acc: 0.9835 - val_loss: 0.1902 - val_acc: 0.9691\n",
      "\n",
      "Epoch 00025: val_acc did not improve from 0.96907\n",
      "Epoch 26/100\n",
      "2901/2901 [==============================] - 2s 755us/step - loss: 0.1382 - acc: 0.9835 - val_loss: 0.1949 - val_acc: 0.9656\n",
      "\n",
      "Epoch 00026: val_acc did not improve from 0.96907\n",
      "Epoch 27/100\n",
      "2901/2901 [==============================] - 2s 760us/step - loss: 0.1399 - acc: 0.9821 - val_loss: 0.1933 - val_acc: 0.9725\n",
      "\n",
      "Epoch 00027: val_acc improved from 0.96907 to 0.97251, saving model to tmp/weights-27-0.97.hdf5\n",
      "Epoch 28/100\n",
      "2901/2901 [==============================] - 2s 757us/step - loss: 0.1377 - acc: 0.9831 - val_loss: 0.3132 - val_acc: 0.8935\n",
      "\n",
      "Epoch 00028: val_acc did not improve from 0.97251\n",
      "Epoch 29/100\n",
      "2901/2901 [==============================] - 2s 767us/step - loss: 0.2420 - acc: 0.9507 - val_loss: 0.3600 - val_acc: 0.9210\n",
      "\n",
      "Epoch 00029: val_acc did not improve from 0.97251\n",
      "Epoch 30/100\n",
      "2901/2901 [==============================] - 2s 762us/step - loss: 0.1861 - acc: 0.9759 - val_loss: 0.2057 - val_acc: 0.9725\n",
      "\n",
      "Epoch 00030: val_acc did not improve from 0.97251\n",
      "Epoch 31/100\n",
      "2901/2901 [==============================] - 2s 762us/step - loss: 0.1424 - acc: 0.9835 - val_loss: 0.1862 - val_acc: 0.9691\n",
      "\n",
      "Epoch 00031: val_acc did not improve from 0.97251\n",
      "Epoch 32/100\n",
      "2901/2901 [==============================] - 2s 757us/step - loss: 0.1398 - acc: 0.9804 - val_loss: 0.2094 - val_acc: 0.9588\n",
      "\n",
      "Epoch 00032: val_acc did not improve from 0.97251\n",
      "Epoch 33/100\n",
      "2901/2901 [==============================] - 2s 759us/step - loss: 0.1474 - acc: 0.9831 - val_loss: 0.1790 - val_acc: 0.9691\n",
      "\n",
      "Epoch 00033: val_acc did not improve from 0.97251\n",
      "Epoch 34/100\n",
      "2901/2901 [==============================] - 2s 755us/step - loss: 0.1269 - acc: 0.9831 - val_loss: 0.1635 - val_acc: 0.9725\n",
      "\n",
      "Epoch 00034: val_acc did not improve from 0.97251\n",
      "Epoch 35/100\n",
      "2901/2901 [==============================] - 2s 756us/step - loss: 0.1170 - acc: 0.9841 - val_loss: 0.1413 - val_acc: 0.9794\n",
      "\n",
      "Epoch 00035: val_acc improved from 0.97251 to 0.97938, saving model to tmp/weights-35-0.98.hdf5\n",
      "Epoch 36/100\n",
      "2901/2901 [==============================] - 2s 766us/step - loss: 0.1138 - acc: 0.9862 - val_loss: 0.1561 - val_acc: 0.9759\n",
      "\n",
      "Epoch 00036: val_acc did not improve from 0.97938\n",
      "Epoch 37/100\n",
      "2901/2901 [==============================] - 2s 761us/step - loss: 0.1331 - acc: 0.9793 - val_loss: 0.3408 - val_acc: 0.9038\n",
      "\n",
      "Epoch 00037: val_acc did not improve from 0.97938\n",
      "Epoch 38/100\n",
      "2901/2901 [==============================] - 2s 762us/step - loss: 0.2082 - acc: 0.9604 - val_loss: 0.3045 - val_acc: 0.8969\n",
      "\n",
      "Epoch 00038: val_acc did not improve from 0.97938\n",
      "Epoch 39/100\n",
      "2901/2901 [==============================] - 2s 758us/step - loss: 0.1671 - acc: 0.9735 - val_loss: 0.1735 - val_acc: 0.9759\n",
      "\n",
      "Epoch 00039: val_acc did not improve from 0.97938\n",
      "Epoch 40/100\n",
      "2901/2901 [==============================] - 2s 755us/step - loss: 0.1253 - acc: 0.9848 - val_loss: 0.1486 - val_acc: 0.9794\n",
      "\n",
      "Epoch 00040: val_acc did not improve from 0.97938\n",
      "Epoch 41/100\n",
      "2901/2901 [==============================] - 2s 766us/step - loss: 0.1155 - acc: 0.9848 - val_loss: 0.1411 - val_acc: 0.9794\n",
      "\n",
      "Epoch 00041: val_acc did not improve from 0.97938\n",
      "Epoch 42/100\n",
      "2901/2901 [==============================] - 2s 763us/step - loss: 0.1133 - acc: 0.9855 - val_loss: 0.1381 - val_acc: 0.9725\n",
      "\n",
      "Epoch 00042: val_acc did not improve from 0.97938\n",
      "Epoch 43/100\n",
      "2901/2901 [==============================] - 2s 760us/step - loss: 0.1174 - acc: 0.9828 - val_loss: 0.1544 - val_acc: 0.9794\n",
      "\n",
      "Epoch 00043: val_acc did not improve from 0.97938\n",
      "Epoch 44/100\n",
      "2901/2901 [==============================] - 2s 762us/step - loss: 0.1498 - acc: 0.9772 - val_loss: 0.3649 - val_acc: 0.9107\n",
      "\n",
      "Epoch 00044: val_acc did not improve from 0.97938\n",
      "Epoch 45/100\n",
      "2901/2901 [==============================] - 2s 768us/step - loss: 0.1964 - acc: 0.9645 - val_loss: 0.1575 - val_acc: 0.9794\n",
      "\n",
      "Epoch 00045: val_acc did not improve from 0.97938\n",
      "Epoch 46/100\n",
      "2901/2901 [==============================] - 2s 764us/step - loss: 0.1223 - acc: 0.9872 - val_loss: 0.1463 - val_acc: 0.9759\n",
      "\n",
      "Epoch 00046: val_acc did not improve from 0.97938\n",
      "Epoch 47/100\n",
      "2901/2901 [==============================] - 2s 756us/step - loss: 0.1128 - acc: 0.9852 - val_loss: 0.1355 - val_acc: 0.9794\n",
      "\n",
      "Epoch 00047: val_acc did not improve from 0.97938\n",
      "Epoch 48/100\n",
      "2901/2901 [==============================] - 2s 760us/step - loss: 0.1041 - acc: 0.9866 - val_loss: 0.1862 - val_acc: 0.9656\n",
      "\n",
      "Epoch 00048: val_acc did not improve from 0.97938\n",
      "Epoch 49/100\n",
      "2901/2901 [==============================] - 2s 755us/step - loss: 0.1364 - acc: 0.9797 - val_loss: 0.1608 - val_acc: 0.9691\n",
      "\n",
      "Epoch 00049: val_acc did not improve from 0.97938\n",
      "Epoch 50/100\n",
      "2901/2901 [==============================] - 2s 769us/step - loss: 0.1203 - acc: 0.9848 - val_loss: 0.1269 - val_acc: 0.9794\n",
      "\n",
      "Epoch 00050: val_acc did not improve from 0.97938\n",
      "Epoch 51/100\n",
      "2901/2901 [==============================] - 2s 760us/step - loss: 0.1009 - acc: 0.9876 - val_loss: 0.1230 - val_acc: 0.9794\n",
      "\n",
      "Epoch 00051: val_acc did not improve from 0.97938\n",
      "Epoch 52/100\n",
      "2901/2901 [==============================] - 2s 753us/step - loss: 0.0955 - acc: 0.9869 - val_loss: 0.1253 - val_acc: 0.9725\n",
      "\n",
      "Epoch 00052: val_acc did not improve from 0.97938\n",
      "Epoch 53/100\n",
      "2901/2901 [==============================] - 2s 751us/step - loss: 0.0906 - acc: 0.9872 - val_loss: 0.1141 - val_acc: 0.9794\n",
      "\n",
      "Epoch 00053: val_acc did not improve from 0.97938\n",
      "Epoch 54/100\n",
      "2901/2901 [==============================] - 2s 756us/step - loss: 0.0995 - acc: 0.9855 - val_loss: 0.4915 - val_acc: 0.8900\n",
      "\n",
      "Epoch 00054: val_acc did not improve from 0.97938\n",
      "Epoch 55/100\n",
      "2901/2901 [==============================] - 2s 753us/step - loss: 0.4263 - acc: 0.8873 - val_loss: 0.1884 - val_acc: 0.9759\n",
      "\n",
      "Epoch 00055: val_acc did not improve from 0.97938\n",
      "Epoch 56/100\n",
      "2901/2901 [==============================] - 2s 761us/step - loss: 0.1417 - acc: 0.9824 - val_loss: 0.1480 - val_acc: 0.9794\n",
      "\n",
      "Epoch 00056: val_acc did not improve from 0.97938\n",
      "Epoch 57/100\n",
      "2901/2901 [==============================] - 2s 763us/step - loss: 0.1203 - acc: 0.9848 - val_loss: 0.1333 - val_acc: 0.9794\n",
      "\n",
      "Epoch 00057: val_acc did not improve from 0.97938\n",
      "Epoch 58/100\n",
      "2901/2901 [==============================] - 2s 757us/step - loss: 0.1104 - acc: 0.9869 - val_loss: 0.1275 - val_acc: 0.9794\n",
      "\n",
      "Epoch 00058: val_acc did not improve from 0.97938\n",
      "Epoch 59/100\n",
      "2901/2901 [==============================] - 2s 758us/step - loss: 0.1061 - acc: 0.9855 - val_loss: 0.1241 - val_acc: 0.9794\n",
      "\n",
      "Epoch 00059: val_acc did not improve from 0.97938\n",
      "Epoch 60/100\n",
      "2901/2901 [==============================] - 2s 760us/step - loss: 0.1005 - acc: 0.9852 - val_loss: 0.1307 - val_acc: 0.9725\n",
      "\n",
      "Epoch 00060: val_acc did not improve from 0.97938\n",
      "Epoch 61/100\n",
      "2901/2901 [==============================] - 2s 761us/step - loss: 0.1007 - acc: 0.9848 - val_loss: 0.1277 - val_acc: 0.9725\n",
      "\n",
      "Epoch 00061: val_acc did not improve from 0.97938\n",
      "Epoch 62/100\n",
      "2901/2901 [==============================] - 2s 756us/step - loss: 0.0926 - acc: 0.9866 - val_loss: 0.1078 - val_acc: 0.9759\n",
      "\n",
      "Epoch 00062: val_acc did not improve from 0.97938\n",
      "Epoch 63/100\n",
      "2901/2901 [==============================] - 2s 758us/step - loss: 0.0862 - acc: 0.9869 - val_loss: 0.1087 - val_acc: 0.9794\n",
      "\n",
      "Epoch 00063: val_acc did not improve from 0.97938\n",
      "Epoch 64/100\n",
      "2901/2901 [==============================] - 2s 752us/step - loss: 0.0870 - acc: 0.9866 - val_loss: 0.1157 - val_acc: 0.9863\n",
      "\n",
      "Epoch 00064: val_acc improved from 0.97938 to 0.98625, saving model to tmp/weights-64-0.99.hdf5\n",
      "Epoch 65/100\n",
      "2901/2901 [==============================] - 2s 759us/step - loss: 0.0916 - acc: 0.9862 - val_loss: 0.0985 - val_acc: 0.9794\n",
      "\n",
      "Epoch 00065: val_acc did not improve from 0.98625\n",
      "Epoch 66/100\n",
      "2901/2901 [==============================] - 2s 756us/step - loss: 0.0860 - acc: 0.9876 - val_loss: 0.1137 - val_acc: 0.9759\n",
      "\n",
      "Epoch 00066: val_acc did not improve from 0.98625\n",
      "Epoch 67/100\n",
      "2901/2901 [==============================] - 2s 758us/step - loss: 0.3403 - acc: 0.9152 - val_loss: 0.2316 - val_acc: 0.9519\n",
      "\n",
      "Epoch 00067: val_acc did not improve from 0.98625\n",
      "Epoch 68/100\n",
      "2901/2901 [==============================] - 2s 762us/step - loss: 0.1572 - acc: 0.9766 - val_loss: 0.1450 - val_acc: 0.9794\n",
      "\n",
      "Epoch 00068: val_acc did not improve from 0.98625\n",
      "Epoch 69/100\n",
      "2901/2901 [==============================] - 2s 759us/step - loss: 0.1216 - acc: 0.9869 - val_loss: 0.1597 - val_acc: 0.9725\n",
      "\n",
      "Epoch 00069: val_acc did not improve from 0.98625\n",
      "Epoch 70/100\n",
      "2901/2901 [==============================] - 2s 763us/step - loss: 0.1224 - acc: 0.9848 - val_loss: 0.1344 - val_acc: 0.9794\n",
      "\n",
      "Epoch 00070: val_acc did not improve from 0.98625\n",
      "Epoch 71/100\n",
      "2901/2901 [==============================] - 2s 761us/step - loss: 0.1079 - acc: 0.9866 - val_loss: 0.1242 - val_acc: 0.9794\n",
      "\n",
      "Epoch 00071: val_acc did not improve from 0.98625\n",
      "Epoch 72/100\n",
      "2901/2901 [==============================] - 2s 759us/step - loss: 0.1018 - acc: 0.9883 - val_loss: 0.1203 - val_acc: 0.9759\n",
      "\n",
      "Epoch 00072: val_acc did not improve from 0.98625\n",
      "Epoch 73/100\n",
      "2901/2901 [==============================] - 2s 762us/step - loss: 0.0988 - acc: 0.9876 - val_loss: 0.1108 - val_acc: 0.9794\n",
      "\n",
      "Epoch 00073: val_acc did not improve from 0.98625\n",
      "Epoch 74/100\n",
      "2901/2901 [==============================] - 2s 758us/step - loss: 0.1016 - acc: 0.9835 - val_loss: 0.1172 - val_acc: 0.9794\n",
      "\n",
      "Epoch 00074: val_acc did not improve from 0.98625\n",
      "Epoch 75/100\n",
      "2901/2901 [==============================] - 2s 757us/step - loss: 0.0935 - acc: 0.9845 - val_loss: 0.1097 - val_acc: 0.9759\n",
      "\n",
      "Epoch 00075: val_acc did not improve from 0.98625\n"
     ]
    }
   ],
   "source": [
    "X_train_combined = np.concatenate((X_train, X_val))\n",
    "y_train_combined = np.concatenate((y_train, y_val))\n",
    "\n",
    "history = model.fit(X_train_combined, y_train_combined, batch_size=1000, epochs=100, verbose=1, validation_data=(X_val, y_val), callbacks=callbacks)  # starts training"
   ]
  },
  {
   "cell_type": "code",
   "execution_count": 0,
   "metadata": {
    "colab": {},
    "colab_type": "code",
    "id": "OtGrA8RBKShg"
   },
   "outputs": [],
   "source": [
    "model_path = 'emoint_convnet_lstm_model.h5'\n",
    "weight_path = 'emoint_convnet_lstm_weights.h5'\n",
    "\n",
    "model.save(model_path)\n",
    "model.save_weights(weight_path)"
   ]
  },
  {
   "cell_type": "code",
   "execution_count": 52,
   "metadata": {
    "colab": {
     "base_uri": "https://localhost:8080/",
     "height": 341
    },
    "colab_type": "code",
    "id": "eFzd1urtKeFw",
    "outputId": "577364a9-b77f-407e-f33a-a1630b4af2d1"
   },
   "outputs": [
    {
     "name": "stdout",
     "output_type": "stream",
     "text": [
      "total 93M\n",
      "drwxr-xr-x 1 root root 4.0K Dec 18 03:32 .\n",
      "drwxr-xr-x 1 root root 4.0K Dec 18 02:25 ..\n",
      "-rw-r--r-- 1 root root 2.5K Dec 18 02:30 adc.json\n",
      "drwxr-xr-x 1 root root 4.0K Dec 18 02:30 .config\n",
      "-rw-r--r-- 1 root root  27M Dec 18 03:37 emoint_convnet_lstm_model.h5\n",
      "-rw-r--r-- 1 root root  14M Dec 18 03:37 emoint_convnet_lstm_weights.h5\n",
      "-rw-r--r-- 1 root root  20M Dec 18 02:54 emoint_embedded_matrix_word2vec.npy\n",
      "-rw-r--r-- 1 root root  22M Dec 18 03:27 emoint_lstm_model.h5\n",
      "-rw-r--r-- 1 root root  11M Dec 18 03:27 emoint_lstm_weights.h5\n",
      "-rw-r--r-- 1 root root 324K Dec 18 02:55 emoint_X_test.npy\n",
      "-rw-r--r-- 1 root root 337K Dec 18 02:54 emoint_X_train.npy\n",
      "-rw-r--r-- 1 root root  38K Dec 18 02:54 emoint_X_val.npy\n",
      "-rw-r--r-- 1 root root  40K Dec 18 02:55 emoint_y_test.npy\n",
      "-rw-r--r-- 1 root root  41K Dec 18 02:55 emoint_y_train.npy\n",
      "-rw-r--r-- 1 root root 4.7K Dec 18 02:55 emoint_y_val.npy\n",
      "drwxr-xr-x 1 root root 4.0K Dec 10 17:34 sample_data\n",
      "drwxr-xr-x 2 root root 4.0K Dec 18 03:37 tmp\n"
     ]
    }
   ],
   "source": [
    "!ls -lah"
   ]
  },
  {
   "cell_type": "code",
   "execution_count": 0,
   "metadata": {
    "colab": {},
    "colab_type": "code",
    "id": "85MiexxMK8zd"
   },
   "outputs": [],
   "source": [
    "upload_drive_file(\"Colab Notebooks\", model_path)\n",
    "upload_drive_file(\"Colab Notebooks\", weight_path)"
   ]
  },
  {
   "cell_type": "code",
   "execution_count": 0,
   "metadata": {
    "colab": {},
    "colab_type": "code",
    "id": "b0P0vTv-7RC6"
   },
   "outputs": [],
   "source": [
    "sequences_test=tokenizer.texts_to_sequences(test_data.text)\n",
    "X_test = pad_sequences(sequences_test, maxlen=X_test.shape[1])\n",
    "y_pred = model.predict(X_test)"
   ]
  },
  {
   "cell_type": "code",
   "execution_count": 55,
   "metadata": {
    "colab": {
     "base_uri": "https://localhost:8080/",
     "height": 35
    },
    "colab_type": "code",
    "id": "IgHlDfC_-rS5",
    "outputId": "feb9eaa9-48e3-4f28-93e3-df7b8ac31674"
   },
   "outputs": [
    {
     "data": {
      "text/plain": [
       "dict_keys(['val_loss', 'val_acc', 'loss', 'acc'])"
      ]
     },
     "execution_count": 55,
     "metadata": {
      "tags": []
     },
     "output_type": "execute_result"
    }
   ],
   "source": [
    "history.history.keys()"
   ]
  },
  {
   "cell_type": "code",
   "execution_count": 0,
   "metadata": {
    "colab": {},
    "colab_type": "code",
    "id": "-JaFoS4u_pwS"
   },
   "outputs": [],
   "source": [
    "y_pred_original = [labels[val] for val in np.argmax(y_pred, axis=1).squeeze()]\n",
    "y_test_original = np.asarray(test_data.emotion)"
   ]
  },
  {
   "cell_type": "code",
   "execution_count": 0,
   "metadata": {
    "colab": {},
    "colab_type": "code",
    "id": "BREyqdCAI9d0"
   },
   "outputs": [],
   "source": [
    "def print_confusion_matrix(confusion_matrix, class_names, figsize = (4,3), fontsize=15):\n",
    "    \"\"\"Prints a confusion matrix, as returned by sklearn.metrics.confusion_matrix, as a heatmap.\n",
    "    \n",
    "    Arguments\n",
    "    ---------\n",
    "    confusion_matrix: numpy.ndarray\n",
    "        The numpy.ndarray object returned from a call to sklearn.metrics.confusion_matrix. \n",
    "        Similarly constructed ndarrays can also be used.\n",
    "    class_names: list\n",
    "        An ordered list of class names, in the order they index the given confusion matrix.\n",
    "    figsize: tuple\n",
    "        A 2-long tuple, the first value determining the horizontal size of the ouputted figure,\n",
    "        the second determining the vertical size. Defaults to (10,7).\n",
    "    fontsize: int\n",
    "        Font size for axes labels. Defaults to 14.\n",
    "        \n",
    "    Returns\n",
    "    -------\n",
    "    matplotlib.figure.Figure\n",
    "        The resulting confusion matrix figure\n",
    "    \"\"\"\n",
    "    df_cm = pd.DataFrame(\n",
    "        confusion_matrix, index=class_names, columns=class_names, \n",
    "    )\n",
    "    fig = plt.figure(figsize=figsize)\n",
    "    try:\n",
    "        heatmap = sns.heatmap(df_cm, annot=True, fmt=\"d\")\n",
    "    except ValueError:\n",
    "        raise ValueError(\"Confusion matrix values must be integers.\")\n",
    "    heatmap.yaxis.set_ticklabels(heatmap.yaxis.get_ticklabels(), rotation=0, ha='right', fontsize=fontsize)\n",
    "    heatmap.xaxis.set_ticklabels(heatmap.xaxis.get_ticklabels(), rotation=45, ha='right', fontsize=fontsize)\n",
    "    plt.ylabel('True label')\n",
    "    plt.xlabel('Predicted label')\n",
    "    return fig"
   ]
  },
  {
   "cell_type": "code",
   "execution_count": 58,
   "metadata": {
    "colab": {
     "base_uri": "https://localhost:8080/",
     "height": 173
    },
    "colab_type": "code",
    "id": "XG9HPQb10TZm",
    "outputId": "0de09834-2342-4bd1-eb5c-3610486fb492"
   },
   "outputs": [
    {
     "data": {
      "text/html": [
       "<div>\n",
       "<style scoped>\n",
       "    .dataframe tbody tr th:only-of-type {\n",
       "        vertical-align: middle;\n",
       "    }\n",
       "\n",
       "    .dataframe tbody tr th {\n",
       "        vertical-align: top;\n",
       "    }\n",
       "\n",
       "    .dataframe thead th {\n",
       "        text-align: right;\n",
       "    }\n",
       "</style>\n",
       "<table border=\"1\" class=\"dataframe\">\n",
       "  <thead>\n",
       "    <tr style=\"text-align: right;\">\n",
       "      <th></th>\n",
       "      <th>fear</th>\n",
       "      <th>anger</th>\n",
       "      <th>sadness</th>\n",
       "      <th>joy</th>\n",
       "    </tr>\n",
       "  </thead>\n",
       "  <tbody>\n",
       "    <tr>\n",
       "      <th>fear</th>\n",
       "      <td>588</td>\n",
       "      <td>78</td>\n",
       "      <td>73</td>\n",
       "      <td>50</td>\n",
       "    </tr>\n",
       "    <tr>\n",
       "      <th>anger</th>\n",
       "      <td>85</td>\n",
       "      <td>476</td>\n",
       "      <td>50</td>\n",
       "      <td>32</td>\n",
       "    </tr>\n",
       "    <tr>\n",
       "      <th>sadness</th>\n",
       "      <td>130</td>\n",
       "      <td>55</td>\n",
       "      <td>327</td>\n",
       "      <td>21</td>\n",
       "    </tr>\n",
       "    <tr>\n",
       "      <th>joy</th>\n",
       "      <td>65</td>\n",
       "      <td>28</td>\n",
       "      <td>37</td>\n",
       "      <td>413</td>\n",
       "    </tr>\n",
       "  </tbody>\n",
       "</table>\n",
       "</div>"
      ],
      "text/plain": [
       "         fear  anger  sadness  joy\n",
       "fear      588     78       73   50\n",
       "anger      85    476       50   32\n",
       "sadness   130     55      327   21\n",
       "joy        65     28       37  413"
      ]
     },
     "execution_count": 58,
     "metadata": {
      "tags": []
     },
     "output_type": "execute_result"
    }
   ],
   "source": [
    "cf_matrix = confusion_matrix(y_test_original, y_pred_original, labels=labels)\n",
    "\n",
    "df_cm = pd.DataFrame(\n",
    "    cf_matrix, index=labels, columns=labels, \n",
    ")\n",
    "\n",
    "df_cm"
   ]
  },
  {
   "cell_type": "code",
   "execution_count": 59,
   "metadata": {
    "colab": {
     "base_uri": "https://localhost:8080/",
     "height": 282
    },
    "colab_type": "code",
    "id": "59xnXmbEAKXy",
    "outputId": "9f1f6f2f-2153-44b8-87ff-c872b739b400"
   },
   "outputs": [
    {
     "name": "stdout",
     "output_type": "stream",
     "text": [
      "Figure(288x216)\n"
     ]
    },
    {
     "data": {
      "image/png": "[encoded data removed]",
      "text/plain": [
       "<matplotlib.figure.Figure at 0x7f2ac99ba080>"
      ]
     },
     "metadata": {
      "tags": []
     },
     "output_type": "display_data"
    }
   ],
   "source": [
    "print(print_confusion_matrix(cf_matrix, class_names=labels))"
   ]
  },
  {
   "cell_type": "code",
   "execution_count": 60,
   "metadata": {
    "colab": {
     "base_uri": "https://localhost:8080/",
     "height": 35
    },
    "colab_type": "code",
    "id": "9XE5c4LJEZXy",
    "outputId": "5aef1ca6-b065-4854-9e96-9287e82fa0c7"
   },
   "outputs": [
    {
     "name": "stdout",
     "output_type": "stream",
     "text": [
      "test accuracy: 0.7192982456140351\n"
     ]
    }
   ],
   "source": [
    "test_accuracy = accuracy_score(y_test_original, y_pred_original)\n",
    "print(\"test accuracy:\", test_accuracy)"
   ]
  },
  {
   "cell_type": "markdown",
   "metadata": {
    "colab_type": "text",
    "id": "jAISNDCVwvR7"
   },
   "source": [
    "### Performance score for each classes"
   ]
  },
  {
   "cell_type": "code",
   "execution_count": 61,
   "metadata": {
    "colab": {
     "base_uri": "https://localhost:8080/",
     "height": 173
    },
    "colab_type": "code",
    "id": "iFb9Q6A1DcXi",
    "outputId": "d3df2a01-7533-49be-f218-1419fc0c9038"
   },
   "outputs": [
    {
     "data": {
      "text/html": [
       "<div>\n",
       "<style scoped>\n",
       "    .dataframe tbody tr th:only-of-type {\n",
       "        vertical-align: middle;\n",
       "    }\n",
       "\n",
       "    .dataframe tbody tr th {\n",
       "        vertical-align: top;\n",
       "    }\n",
       "\n",
       "    .dataframe thead th {\n",
       "        text-align: right;\n",
       "    }\n",
       "</style>\n",
       "<table border=\"1\" class=\"dataframe\">\n",
       "  <thead>\n",
       "    <tr style=\"text-align: right;\">\n",
       "      <th></th>\n",
       "      <th>f1-score</th>\n",
       "      <th>precision</th>\n",
       "      <th>recall</th>\n",
       "      <th>support</th>\n",
       "    </tr>\n",
       "  </thead>\n",
       "  <tbody>\n",
       "    <tr>\n",
       "      <th>fear</th>\n",
       "      <td>0.7437</td>\n",
       "      <td>0.7473</td>\n",
       "      <td>0.7403</td>\n",
       "      <td>643</td>\n",
       "    </tr>\n",
       "    <tr>\n",
       "      <th>anger</th>\n",
       "      <td>0.7097</td>\n",
       "      <td>0.6774</td>\n",
       "      <td>0.7452</td>\n",
       "      <td>789</td>\n",
       "    </tr>\n",
       "    <tr>\n",
       "      <th>sadness</th>\n",
       "      <td>0.7800</td>\n",
       "      <td>0.8004</td>\n",
       "      <td>0.7606</td>\n",
       "      <td>543</td>\n",
       "    </tr>\n",
       "    <tr>\n",
       "      <th>joy</th>\n",
       "      <td>0.6412</td>\n",
       "      <td>0.6715</td>\n",
       "      <td>0.6135</td>\n",
       "      <td>533</td>\n",
       "    </tr>\n",
       "  </tbody>\n",
       "</table>\n",
       "</div>"
      ],
      "text/plain": [
       "         f1-score  precision  recall  support\n",
       "fear       0.7437     0.7473  0.7403      643\n",
       "anger      0.7097     0.6774  0.7452      789\n",
       "sadness    0.7800     0.8004  0.7606      543\n",
       "joy        0.6412     0.6715  0.6135      533"
      ]
     },
     "execution_count": 61,
     "metadata": {
      "tags": []
     },
     "output_type": "execute_result"
    }
   ],
   "source": [
    "precision, recall, fscore, support = precision_recall_fscore_support(y_test_original, y_pred_original)\n",
    "score_dict = {\n",
    "  \"precision\": precision.round(4),\n",
    "  \"recall\": recall.round(4),\n",
    "  \"f1-score\": fscore.round(4),\n",
    "  \"support\": support.round(4)\n",
    "}\n",
    "score_df = pd.DataFrame(score_dict, index=labels)\n",
    "score_df"
   ]
  },
  {
   "cell_type": "markdown",
   "metadata": {
    "colab_type": "text",
    "id": "cHi1Gw7Oz1zG"
   },
   "source": [
    "### Performance score using micro average"
   ]
  },
  {
   "cell_type": "code",
   "execution_count": 62,
   "metadata": {
    "colab": {
     "base_uri": "https://localhost:8080/",
     "height": 80
    },
    "colab_type": "code",
    "id": "KP69PDE9D_jz",
    "outputId": "7134f63d-cbb8-40d0-cdda-bdf2f879fed0"
   },
   "outputs": [
    {
     "data": {
      "text/html": [
       "<div>\n",
       "<style scoped>\n",
       "    .dataframe tbody tr th:only-of-type {\n",
       "        vertical-align: middle;\n",
       "    }\n",
       "\n",
       "    .dataframe tbody tr th {\n",
       "        vertical-align: top;\n",
       "    }\n",
       "\n",
       "    .dataframe thead th {\n",
       "        text-align: right;\n",
       "    }\n",
       "</style>\n",
       "<table border=\"1\" class=\"dataframe\">\n",
       "  <thead>\n",
       "    <tr style=\"text-align: right;\">\n",
       "      <th></th>\n",
       "      <th>f1-score</th>\n",
       "      <th>precision</th>\n",
       "      <th>recall</th>\n",
       "      <th>support</th>\n",
       "    </tr>\n",
       "  </thead>\n",
       "  <tbody>\n",
       "    <tr>\n",
       "      <th>score</th>\n",
       "      <td>0.7193</td>\n",
       "      <td>0.7193</td>\n",
       "      <td>0.7193</td>\n",
       "      <td>None</td>\n",
       "    </tr>\n",
       "  </tbody>\n",
       "</table>\n",
       "</div>"
      ],
      "text/plain": [
       "       f1-score  precision  recall support\n",
       "score    0.7193     0.7193  0.7193    None"
      ]
     },
     "execution_count": 62,
     "metadata": {
      "tags": []
     },
     "output_type": "execute_result"
    }
   ],
   "source": [
    "precision, recall, fscore, support = precision_recall_fscore_support(y_test_original, y_pred_original, average=\"micro\")\n",
    "score_dict = {\n",
    "  \"precision\": precision.round(4),\n",
    "  \"recall\": recall.round(4),\n",
    "  \"f1-score\": fscore.round(4),\n",
    "  \"support\": support\n",
    "}\n",
    "score_df = pd.DataFrame(score_dict, index=[\"score\"])\n",
    "score_df"
   ]
  },
  {
   "cell_type": "markdown",
   "metadata": {
    "colab_type": "text",
    "id": "IWXNCktiz8Vb"
   },
   "source": [
    "### Performance score using macro average"
   ]
  },
  {
   "cell_type": "code",
   "execution_count": 63,
   "metadata": {
    "colab": {
     "base_uri": "https://localhost:8080/",
     "height": 80
    },
    "colab_type": "code",
    "id": "g4e0vsNIydDs",
    "outputId": "ac5421a4-1f4d-4373-b635-5278e77a9e2e"
   },
   "outputs": [
    {
     "data": {
      "text/html": [
       "<div>\n",
       "<style scoped>\n",
       "    .dataframe tbody tr th:only-of-type {\n",
       "        vertical-align: middle;\n",
       "    }\n",
       "\n",
       "    .dataframe tbody tr th {\n",
       "        vertical-align: top;\n",
       "    }\n",
       "\n",
       "    .dataframe thead th {\n",
       "        text-align: right;\n",
       "    }\n",
       "</style>\n",
       "<table border=\"1\" class=\"dataframe\">\n",
       "  <thead>\n",
       "    <tr style=\"text-align: right;\">\n",
       "      <th></th>\n",
       "      <th>f1-score</th>\n",
       "      <th>precision</th>\n",
       "      <th>recall</th>\n",
       "      <th>support</th>\n",
       "    </tr>\n",
       "  </thead>\n",
       "  <tbody>\n",
       "    <tr>\n",
       "      <th>score</th>\n",
       "      <td>0.7187</td>\n",
       "      <td>0.7241</td>\n",
       "      <td>0.7149</td>\n",
       "      <td>None</td>\n",
       "    </tr>\n",
       "  </tbody>\n",
       "</table>\n",
       "</div>"
      ],
      "text/plain": [
       "       f1-score  precision  recall support\n",
       "score    0.7187     0.7241  0.7149    None"
      ]
     },
     "execution_count": 63,
     "metadata": {
      "tags": []
     },
     "output_type": "execute_result"
    }
   ],
   "source": [
    "precision, recall, fscore, support = precision_recall_fscore_support(y_test_original, y_pred_original, average=\"macro\")\n",
    "score_dict = {\n",
    "  \"precision\": precision.round(4),\n",
    "  \"recall\": recall.round(4),\n",
    "  \"f1-score\": fscore.round(4),\n",
    "  \"support\": support\n",
    "}\n",
    "score_df = pd.DataFrame(score_dict, index=[\"score\"])\n",
    "score_df"
   ]
  },
  {
   "cell_type": "markdown",
   "metadata": {
    "colab_type": "text",
    "id": "wFJFH7u6z-oG"
   },
   "source": [
    "### Performance score using weighted average"
   ]
  },
  {
   "cell_type": "code",
   "execution_count": 64,
   "metadata": {
    "colab": {
     "base_uri": "https://localhost:8080/",
     "height": 80
    },
    "colab_type": "code",
    "id": "z99JkHjuzv68",
    "outputId": "4d4e4319-cfd6-4ff7-864f-ec5d23baf3c9"
   },
   "outputs": [
    {
     "data": {
      "text/html": [
       "<div>\n",
       "<style scoped>\n",
       "    .dataframe tbody tr th:only-of-type {\n",
       "        vertical-align: middle;\n",
       "    }\n",
       "\n",
       "    .dataframe tbody tr th {\n",
       "        vertical-align: top;\n",
       "    }\n",
       "\n",
       "    .dataframe thead th {\n",
       "        text-align: right;\n",
       "    }\n",
       "</style>\n",
       "<table border=\"1\" class=\"dataframe\">\n",
       "  <thead>\n",
       "    <tr style=\"text-align: right;\">\n",
       "      <th></th>\n",
       "      <th>f1-score</th>\n",
       "      <th>precision</th>\n",
       "      <th>recall</th>\n",
       "      <th>support</th>\n",
       "    </tr>\n",
       "  </thead>\n",
       "  <tbody>\n",
       "    <tr>\n",
       "      <th>score</th>\n",
       "      <td>0.7191</td>\n",
       "      <td>0.7207</td>\n",
       "      <td>0.7193</td>\n",
       "      <td>None</td>\n",
       "    </tr>\n",
       "  </tbody>\n",
       "</table>\n",
       "</div>"
      ],
      "text/plain": [
       "       f1-score  precision  recall support\n",
       "score    0.7191     0.7207  0.7193    None"
      ]
     },
     "execution_count": 64,
     "metadata": {
      "tags": []
     },
     "output_type": "execute_result"
    }
   ],
   "source": [
    "precision, recall, fscore, support = precision_recall_fscore_support(y_test_original, y_pred_original, average=\"weighted\")\n",
    "score_dict = {\n",
    "  \"precision\": precision.round(4),\n",
    "  \"recall\": recall.round(4),\n",
    "  \"f1-score\": fscore.round(4),\n",
    "  \"support\": support\n",
    "}\n",
    "score_df = pd.DataFrame(score_dict, index=[\"score\"])\n",
    "score_df"
   ]
  },
  {
   "cell_type": "code",
   "execution_count": 65,
   "metadata": {
    "colab": {
     "base_uri": "https://localhost:8080/",
     "height": 35
    },
    "colab_type": "code",
    "id": "Y83dx5SyoBR8",
    "outputId": "6f0901e1-e196-469a-d6da-1ffbe86e7875"
   },
   "outputs": [
    {
     "name": "stdout",
     "output_type": "stream",
     "text": [
      "kappa: 0.6207722651573436\n"
     ]
    }
   ],
   "source": [
    "from sklearn.metrics import cohen_kappa_score\n",
    "\n",
    "kappa_score = cohen_kappa_score(y_test_original, y_pred_original, labels=labels)\n",
    "print(\"kappa:\", kappa_score)"
   ]
  },
  {
   "cell_type": "code",
   "execution_count": 0,
   "metadata": {
    "colab": {},
    "colab_type": "code",
    "id": "5womFgI2kjed"
   },
   "outputs": [],
   "source": []
  }
 ],
 "metadata": {
  "accelerator": "GPU",
  "colab": {
   "collapsed_sections": [],
   "include_colab_link": true,
   "name": "EmoInt-Emotion-Analysis-ConvNet-LSTM-Threshold-0.33.ipynb",
   "provenance": [],
   "version": "0.3.2"
  },
  "kernelspec": {
   "display_name": "Python 3",
   "language": "python",
   "name": "python3"
  },
  "language_info": {
   "codemirror_mode": {
    "name": "ipython",
    "version": 3
   },
   "file_extension": ".py",
   "mimetype": "text/x-python",
   "name": "python",
   "nbconvert_exporter": "python",
   "pygments_lexer": "ipython3",
   "version": "3.6.7"
  }
 },
 "nbformat": 4,
 "nbformat_minor": 1
}
