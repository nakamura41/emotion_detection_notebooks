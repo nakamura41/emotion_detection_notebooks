{
 "cells": [
  {
   "cell_type": "code",
   "execution_count": 1,
   "metadata": {},
   "outputs": [
    {
     "name": "stderr",
     "output_type": "stream",
     "text": [
      "Using TensorFlow backend.\n"
     ]
    }
   ],
   "source": [
    "import os\n",
    "\n",
    "import logging\n",
    "import pandas as pd\n",
    "import numpy as np\n",
    "import matplotlib.pyplot as plt\n",
    "from sklearn.model_selection import train_test_split\n",
    "\n",
    "import torch\n",
    "import torch.nn as nn\n",
    "import torch.nn.functional as F\n",
    "import torch.optim as optim\n",
    "\n",
    "from keras.preprocessing.text import Tokenizer\n",
    "from keras.preprocessing.sequence import pad_sequences\n",
    "\n",
    "os.environ[\"CUDA_DEVICE_ORDER\"]=\"PCI_BUS_ID\"\n",
    "# The GPU id to use, usually either \"0\" or \"1\"\n",
    "os.environ[\"CUDA_VISIBLE_DEVICES\"]=\"1\"\n",
    "os.environ[\"TFHUB_CACHE_DIR\"]=\"tfhub_modules\"\n",
    "\n",
    "torch.manual_seed(1)\n",
    "\n",
    "use_cuda = torch.cuda.is_available()\n",
    "device = torch.device(\"cuda:0\" if use_cuda else \"cpu\")"
   ]
  },
  {
   "cell_type": "code",
   "execution_count": 3,
   "metadata": {},
   "outputs": [],
   "source": [
    "from allennlp.data.tokenizers.word_tokenizer import WordTokenizer\n",
    "from allennlp.modules.elmo import batch_to_ids\n",
    "\n",
    "NUM_WORDS = 20000\n",
    "\n",
    "class ISEARDataset(object):\n",
    "    FILENAME = \"data/isear_databank.csv\"\n",
    "    EMOTION_CLASSES = [\"anger\", \"disgust\", \"fear\", \"guilt\", \"joy\", \"sadness\", \"shame\"]\n",
    "    EMOTION_CLASSES_DICT = {\"anger\": 0, \"disgust\": 1, \"fear\": 2, \"guilt\": 3, \"joy\": 4, \"sadness\": 5, \"shame\": 6}\n",
    "    RANDOM_STATE = 41\n",
    "  \n",
    "    def get_classes(self):\n",
    "        return self.EMOTION_CLASSES\n",
    "  \n",
    "    def get_classes_dict(self):\n",
    "        return self.EMOTION_CLASSES_DICT\n",
    "    \n",
    "    def _tokens_to_texts(self, tokens):\n",
    "        texts = []\n",
    "        for token in tokens:\n",
    "            texts.append([t.text for t in token])\n",
    "        return texts\n",
    "\n",
    "    def _sequence_texts(self, texts):\n",
    "        tokenizer = WordTokenizer()\n",
    "        tokens = tokenizer.batch_tokenize(texts)\n",
    "        sequences = batch_to_ids(self._tokens_to_texts(tokens))\n",
    "        return sequences\n",
    "\n",
    "    def __init__(self, n_items=0):\n",
    "        data = pd.read_csv(self.FILENAME)\n",
    "\n",
    "        if n_items > 0:\n",
    "            data = data.iloc[0:n_items,:]\n",
    "\n",
    "        data[\"text\"] = data[\"SIT\"]\n",
    "        data[\"emotion\"] = data[\"Field1\"]\n",
    "\n",
    "        for emotion in self.get_classes():\n",
    "            data.loc[data[\"emotion\"] == emotion, \"emotion_int\"] = self.get_classes_dict()[emotion]\n",
    "\n",
    "        self.X = self._sequence_texts(data[\"text\"]).numpy()\n",
    "        self.y = data[\"emotion_int\"].values"
   ]
  },
  {
   "cell_type": "code",
   "execution_count": 4,
   "metadata": {},
   "outputs": [],
   "source": [
    "dataset = ISEARDataset()\n",
    "# dataset = ISEARDataset(200)\n",
    "X_train, X_test, y_train, y_test = train_test_split(dataset.X, dataset.y, test_size=0.3, random_state=dataset.RANDOM_STATE, stratify=dataset.y)\n",
    "X_train, X_valid, y_train, y_valid = train_test_split(X_train, y_train, test_size=0.2, random_state=dataset.RANDOM_STATE, stratify=y_train)"
   ]
  },
  {
   "cell_type": "code",
   "execution_count": 5,
   "metadata": {},
   "outputs": [
    {
     "name": "stdout",
     "output_type": "stream",
     "text": [
      "X_train.shape: (4292, 201, 50)\n",
      "y_train.shape: (4292)\n",
      "X_valid.shape: (1074, 201, 50)\n",
      "y_valid.shape: (1074)\n",
      "X_test.shape: (2300, 201, 50)\n",
      "y_test.shape: (2300)\n"
     ]
    }
   ],
   "source": [
    "print(\"X_train.shape: (%d, %d, %d)\" % X_train.shape)\n",
    "print(\"y_train.shape: (%d)\" % y_train.shape)\n",
    "\n",
    "print(\"X_valid.shape: (%d, %d, %d)\" % X_valid.shape)\n",
    "print(\"y_valid.shape: (%d)\" % y_valid.shape)\n",
    "\n",
    "print(\"X_test.shape: (%d, %d, %d)\" % X_test.shape)\n",
    "print(\"y_test.shape: (%d)\" % y_test.shape)"
   ]
  },
  {
   "cell_type": "code",
   "execution_count": 6,
   "metadata": {},
   "outputs": [],
   "source": [
    "np.save(\"pytorch_isear_X_train_elmo.npy\", X_train)\n",
    "np.save(\"pytorch_isear_X_valid_elmo.npy\", X_valid)\n",
    "np.save(\"pytorch_isear_X_test_elmo.npy\", X_test)\n",
    "\n",
    "np.save(\"pytorch_isear_y_train_elmo.npy\", y_train)\n",
    "np.save(\"pytorch_isear_y_valid_elmo.npy\", y_valid)\n",
    "np.save(\"pytorch_isear_y_test_elmo.npy\", y_test)"
   ]
  },
  {
   "cell_type": "code",
   "execution_count": 7,
   "metadata": {},
   "outputs": [],
   "source": [
    "X_train = np.load(\"pytorch_isear_X_train_elmo.npy\")\n",
    "X_valid = np.load(\"pytorch_isear_X_valid_elmo.npy\")\n",
    "X_test = np.load(\"pytorch_isear_X_test_elmo.npy\")\n",
    "\n",
    "y_train = np.load(\"pytorch_isear_y_train_elmo.npy\")\n",
    "y_valid = np.load(\"pytorch_isear_y_valid_elmo.npy\")\n",
    "y_test = np.load(\"pytorch_isear_y_test_elmo.npy\")"
   ]
  },
  {
   "cell_type": "code",
   "execution_count": 8,
   "metadata": {},
   "outputs": [
    {
     "name": "stdout",
     "output_type": "stream",
     "text": [
      "class dictionary: {'anger': 0, 'disgust': 1, 'fear': 2, 'guilt': 3, 'joy': 4, 'sadness': 5, 'shame': 6}\n",
      "class labels: ['anger', 'disgust', 'fear', 'guilt', 'joy', 'sadness', 'shame']\n",
      "number of bins: 7\n"
     ]
    }
   ],
   "source": [
    "dic = dataset.get_classes_dict()\n",
    "labels = dataset.get_classes()\n",
    "n_classes = len(labels)\n",
    "print(\"class dictionary: %s\" % dic)\n",
    "print(\"class labels: %s\" % labels)\n",
    "print(\"number of bins: %s\" % n_classes)"
   ]
  },
  {
   "cell_type": "code",
   "execution_count": 9,
   "metadata": {
    "scrolled": true
   },
   "outputs": [
    {
     "name": "stdout",
     "output_type": "stream",
     "text": [
      "bins: [0, 1, 2, 3, 4, 5, 6, 7]\n"
     ]
    },
    {
     "data": {
      "image/png": "[encoded data removed]",
      "text/plain": [
       "<Figure size 432x288 with 1 Axes>"
      ]
     },
     "metadata": {
      "needs_background": "light"
     },
     "output_type": "display_data"
    }
   ],
   "source": [
    "bins = list(range(0, n_classes + 1))\n",
    "print(\"bins:\", bins)\n",
    "hist, _ = np.histogram(y_train, bins=bins)\n",
    "\n",
    "y_pos = np.arange(len(labels))\n",
    "\n",
    "plt.bar(y_pos, hist, align='center', alpha=0.5)\n",
    "plt.xticks(y_pos, labels)\n",
    "plt.ylabel('Number')\n",
    "plt.title('Emotions')\n",
    " \n",
    "plt.show()"
   ]
  },
  {
   "cell_type": "code",
   "execution_count": 10,
   "metadata": {
    "scrolled": true
   },
   "outputs": [
    {
     "name": "stdout",
     "output_type": "stream",
     "text": [
      "y.shape: torch.Size([4292, 1, 1, 1])\n",
      "y_onehot.shape: torch.Size([4292, 7, 1, 1])\n"
     ]
    }
   ],
   "source": [
    "from torch import autograd\n",
    "\n",
    "def make_one_hot(labels, C=2):\n",
    "    '''\n",
    "    Converts an integer label torch.autograd.Variable to a one-hot Variable.\n",
    "    \n",
    "    Parameters\n",
    "    ----------\n",
    "    labels : torch.autograd.Variable of torch.cuda.LongTensor\n",
    "        N x 1 x H x W, where N is batch size. \n",
    "        Each value is an integer representing correct classification.\n",
    "    C : integer. \n",
    "        number of classes in labels.\n",
    "    \n",
    "    Returns\n",
    "    -------\n",
    "    target : torch.autograd.Variable of torch.cuda.FloatTensor\n",
    "        N x C x H x W, where C is class number. One-hot encoded.\n",
    "    '''\n",
    "    one_hot = torch.FloatTensor(labels.size(0), C, labels.size(2), labels.size(3)).zero_()\n",
    "    target = one_hot.scatter_(1, labels.data, 1)\n",
    "    \n",
    "    target = autograd.Variable(target)\n",
    "        \n",
    "    return target\n",
    "  \n",
    "y = torch.LongTensor(y_train).view(-1, 1, 1, 1)\n",
    "print(\"y.shape:\", y.shape)\n",
    "y_onehot = make_one_hot(y, C=7)\n",
    "print(\"y_onehot.shape:\", y_onehot.shape)"
   ]
  },
  {
   "cell_type": "code",
   "execution_count": 11,
   "metadata": {},
   "outputs": [],
   "source": [
    "import torch\n",
    "from torch.utils import data\n",
    "\n",
    "class ISEAR_Tensor_Dataset(data.TensorDataset):\n",
    "  \n",
    "  def __init__(self, text, emotion, num_class=2):\n",
    "    X = torch.LongTensor(text)\n",
    "    y = torch.LongTensor(emotion).view(-1, 1, 1, 1)\n",
    "    y_onehot = make_one_hot(y, num_class)\n",
    "    y_onehot = y_onehot.view(y_onehot.shape[0], y_onehot.shape[1])\n",
    "    tensors = []\n",
    "    tensors.append(X)\n",
    "    tensors.append(y_onehot)\n",
    "    super().__init__(*tensors)"
   ]
  },
  {
   "cell_type": "code",
   "execution_count": 12,
   "metadata": {},
   "outputs": [],
   "source": [
    "train_dataset = ISEAR_Tensor_Dataset(X_train, y_train, num_class=7)\n",
    "valid_dataset = ISEAR_Tensor_Dataset(X_valid, y_valid, num_class=7)\n",
    "test_dataset = ISEAR_Tensor_Dataset(X_test, y_test, num_class=7)"
   ]
  },
  {
   "cell_type": "code",
   "execution_count": 13,
   "metadata": {},
   "outputs": [
    {
     "name": "stdout",
     "output_type": "stream",
     "text": [
      "train_dataset.tensors[0].shape: torch.Size([4292, 201, 50])\n",
      "train_dataset.tensors[1].shape: torch.Size([4292, 7])\n"
     ]
    }
   ],
   "source": [
    "print(\"train_dataset.tensors[0].shape:\", train_dataset.tensors[0].shape)\n",
    "print(\"train_dataset.tensors[1].shape:\", train_dataset.tensors[1].shape)"
   ]
  },
  {
   "cell_type": "code",
   "execution_count": 14,
   "metadata": {},
   "outputs": [
    {
     "name": "stdout",
     "output_type": "stream",
     "text": [
      "train_dataset length: 4292\n",
      "valid_dataset length: 1074\n",
      "test_dataset length: 2300\n"
     ]
    }
   ],
   "source": [
    "print(\"train_dataset length:\", len(train_dataset))\n",
    "print(\"valid_dataset length:\", len(valid_dataset))\n",
    "print(\"test_dataset length:\", len(test_dataset))"
   ]
  },
  {
   "cell_type": "code",
   "execution_count": 15,
   "metadata": {},
   "outputs": [],
   "source": [
    "batch_size = 50\n",
    "\n",
    "train_loader = data.DataLoader(train_dataset, batch_size=batch_size, shuffle=True)\n",
    "valid_loader = data.DataLoader(valid_dataset, batch_size=batch_size, shuffle=True)\n",
    "test_loader = data.DataLoader(test_dataset, batch_size=batch_size, shuffle=True)"
   ]
  },
  {
   "cell_type": "markdown",
   "metadata": {},
   "source": [
    "### Load Elmo"
   ]
  },
  {
   "cell_type": "code",
   "execution_count": 16,
   "metadata": {},
   "outputs": [
    {
     "name": "stderr",
     "output_type": "stream",
     "text": [
      "01/21/2019 16:48:00 - INFO - allennlp.modules.elmo -   Initializing ELMo\n"
     ]
    }
   ],
   "source": [
    "from allennlp.modules.elmo import Elmo, batch_to_ids\n",
    "\n",
    "options_file = \"https://s3-us-west-2.amazonaws.com/allennlp/models/elmo/2x1024_128_2048cnn_1xhighway/elmo_2x1024_128_2048cnn_1xhighway_options.json\"\n",
    "weight_file = \"https://s3-us-west-2.amazonaws.com/allennlp/models/elmo/2x1024_128_2048cnn_1xhighway/elmo_2x1024_128_2048cnn_1xhighway_weights.hdf5\"\n",
    "\n",
    "# Compute two different representation for each token.\n",
    "# Each representation is a linear weighted combination for the\n",
    "# 3 layers in ELMo (i.e., charcnn, the outputs of the two BiLSTM))\n",
    "elmo = Elmo(options_file, weight_file, num_output_representations=2, dropout=0)\n",
    "elmo = elmo.to(device)"
   ]
  },
  {
   "cell_type": "code",
   "execution_count": 17,
   "metadata": {},
   "outputs": [
    {
     "name": "stdout",
     "output_type": "stream",
     "text": [
      "shape: torch.Size([201, 50])\n",
      "experiment_X_train.shape: torch.Size([1, 201, 50])\n",
      "embedded shape: torch.Size([1, 201, 256])\n"
     ]
    }
   ],
   "source": [
    "shape = train_dataset[0][0].shape\n",
    "print(\"shape:\", shape)\n",
    "experiment_X_train = train_dataset[0][0].view(1, shape[0], shape[1]).to(device)\n",
    "print(\"experiment_X_train.shape:\", experiment_X_train.shape)\n",
    "\n",
    "embedded = elmo(experiment_X_train)\n",
    "print(\"embedded shape:\", embedded['elmo_representations'][0].shape)"
   ]
  },
  {
   "cell_type": "code",
   "execution_count": 18,
   "metadata": {},
   "outputs": [
    {
     "data": {
      "text/plain": [
       "tensor([[ 0.2986, -0.5326,  0.0442,  ...,  0.1001,  0.1496,  0.0450],\n",
       "        [ 0.0817,  0.2332, -0.3614,  ...,  0.0515, -0.1492, -0.0824],\n",
       "        [ 0.3065,  0.9892, -0.3809,  ...,  0.4843,  0.2650,  0.4003],\n",
       "        [-0.4204,  0.3005, -0.3551,  ...,  0.2576,  0.6135,  0.2514],\n",
       "        [ 0.1153,  0.1129, -0.3060,  ..., -0.2441, -0.0024,  0.1993],\n",
       "        [-0.4667,  0.5766,  0.2039,  ..., -0.4124, -0.3936, -0.1430]],\n",
       "       device='cuda:0', grad_fn=<SelectBackward>)"
      ]
     },
     "execution_count": 18,
     "metadata": {},
     "output_type": "execute_result"
    }
   ],
   "source": [
    "import scipy\n",
    "\n",
    "sentences = [\n",
    "  [\"I\", \"ate\", \"an\", \"apple\", \"for\", \"breakfast\"], \n",
    "  [\"I\", \"ate\", \"a\", \"carrot\", \"for\", \"breakfast\"]\n",
    "]\n",
    "character_ids = batch_to_ids(sentences)\n",
    "\n",
    "embeddings = elmo(character_ids.to(device))\n",
    "embeddings['elmo_representations'][0][0]"
   ]
  },
  {
   "cell_type": "code",
   "execution_count": 19,
   "metadata": {},
   "outputs": [
    {
     "data": {
      "text/plain": [
       "0.22254729270935059"
      ]
     },
     "execution_count": 19,
     "metadata": {},
     "output_type": "execute_result"
    }
   ],
   "source": [
    "vector1 = embeddings['elmo_representations'][0][0].cpu().detach().numpy()\n",
    "vector2 = embeddings['elmo_representations'][0][1].cpu().detach().numpy()\n",
    "scipy.spatial.distance.cosine(vector1[3], vector2[3]) # cosine distance between \"apple\" and \"carrot\" in the last layer"
   ]
  },
  {
   "cell_type": "markdown",
   "metadata": {},
   "source": [
    "## Neural Network Architecture "
   ]
  },
  {
   "cell_type": "code",
   "execution_count": 33,
   "metadata": {},
   "outputs": [],
   "source": [
    "import torch.nn as nn\n",
    "import torch.nn.functional as F\n",
    "\n",
    "class ConvNetClassifier(nn.Module):\n",
    "\n",
    "    def __init__(self, device, elmo_embedding, input_dim, embedding_dim=256, \n",
    "                 output_dim=7, filter_dim=100, filter_sizes=[3,4,5], drop_rate=0.5):\n",
    "\n",
    "        super(ConvNetClassifier, self).__init__()\n",
    "        \n",
    "        self.device = device\n",
    "        self.embedding = elmo_embedding\n",
    "        self.input_dim = input_dim\n",
    "        self.embedding_dim = embedding_dim\n",
    "        self.filter_sizes = filter_sizes\n",
    "        self.filter_dim = filter_dim\n",
    "        self.output_dim = output_dim\n",
    "        self.drop_rate = drop_rate\n",
    "        \n",
    "        self.conv2d_1 = nn.Conv2d(\n",
    "            in_channels=1, out_channels=self.filter_dim, \n",
    "            kernel_size=(self.filter_sizes[0], self.embedding_dim))\n",
    "        \n",
    "        self.conv2d_2 = nn.Conv2d(\n",
    "            in_channels=1, out_channels=self.filter_dim, \n",
    "            kernel_size=(self.filter_sizes[1], self.embedding_dim))\n",
    "        \n",
    "        self.conv2d_3 = nn.Conv2d(\n",
    "            in_channels=1, out_channels=self.filter_dim, \n",
    "            kernel_size=(self.filter_sizes[2], self.embedding_dim))\n",
    "        \n",
    "        self.maxpool2d_1 = nn.MaxPool2d(\n",
    "            kernel_size=(self.input_dim-self.filter_sizes[0]+1, 1), \n",
    "            stride=1)\n",
    "        \n",
    "        self.maxpool2d_2 = nn.MaxPool2d(\n",
    "            kernel_size=(self.input_dim-self.filter_sizes[1]+1, 1), \n",
    "            stride=1)\n",
    "        \n",
    "        self.maxpool2d_3 = nn.MaxPool2d(\n",
    "            kernel_size=(self.input_dim-self.filter_sizes[2]+1, 1), \n",
    "            stride=1)\n",
    "        \n",
    "        self.linear = nn.Linear(in_features=self.filter_dim * 3, out_features=self.output_dim)\n",
    "\n",
    "    def __shape_to_string(self, shape):\n",
    "        return str(shape)\n",
    "    \n",
    "    def summary(self, input_size):\n",
    "        sentence = torch.LongTensor(np.zeros(input_size)).to(self.device)\n",
    "        print(\"{:<20}  {:<25}\".format(\"input\", self.__shape_to_string(sentence.shape)))\n",
    "        embeds = self.embedding(sentence)['elmo_representations'][1]\n",
    "        print(\"{:<20}  {:<25}\".format(\"embedding\", self.__shape_to_string(embeds.shape)))\n",
    "        reshaped = embeds.view(embeds.shape[0], 1, embeds.shape[1], self.embedding_dim)\n",
    "        print(\"{:<20}  {:<25}\".format(\"reshaped\", self.__shape_to_string(reshaped.shape)))\n",
    "        \n",
    "        conv2d_1 = F.relu(self.conv2d_1(reshaped))\n",
    "        print(\"{:<20}  {:<25}\".format(\"conv2d_1\", self.__shape_to_string(conv2d_1.shape)))\n",
    "        conv2d_2 = F.relu(self.conv2d_2(reshaped))\n",
    "        print(\"{:<20}  {:<25}\".format(\"conv2d_2\", self.__shape_to_string(conv2d_2.shape)))\n",
    "        conv2d_3 = F.relu(self.conv2d_3(reshaped))\n",
    "        print(\"{:<20}  {:<25}\".format(\"conv2d_3\", self.__shape_to_string(conv2d_3.shape)))\n",
    "        \n",
    "        maxpool2d_1 = self.maxpool2d_1(conv2d_1)\n",
    "        print(\"{:<20}  {:<25}\".format(\"maxpool2d_1\", self.__shape_to_string(maxpool2d_1.shape)))\n",
    "        maxpool2d_2 = self.maxpool2d_2(conv2d_2)\n",
    "        print(\"{:<20}  {:<25}\".format(\"maxpool2d_2\", self.__shape_to_string(maxpool2d_2.shape)))\n",
    "        maxpool2d_3 = self.maxpool2d_3(conv2d_3)\n",
    "        print(\"{:<20}  {:<25}\".format(\"maxpool2d_3\", self.__shape_to_string(maxpool2d_3.shape)))\n",
    "        \n",
    "        concat = torch.cat([maxpool2d_1, maxpool2d_2, maxpool2d_3], dim=1)\n",
    "        print(\"{:<20}  {:<25}\".format(\"concat\", self.__shape_to_string(concat.shape)))\n",
    "        flatten = concat.view(concat.shape[0], concat.shape[1])\n",
    "        print(\"{:<20}  {:<25}\".format(\"flatten\", self.__shape_to_string(flatten.shape)))\n",
    "        dropout = F.dropout(flatten, self.drop_rate)\n",
    "        print(\"{:<20}  {:<25}\".format(\"dropout\", self.__shape_to_string(dropout.shape)))\n",
    "        output = F.softmax(self.linear(dropout))\n",
    "        print(\"{:<20}  {:<25}\".format(\"output\", self.__shape_to_string(output.shape)))\n",
    "\n",
    "    def forward(self, sentence):\n",
    "        embeds = self.embedding(sentence)['elmo_representations'][1]\n",
    "        reshaped = embeds.view(embeds.shape[0], 1, embeds.shape[1], self.embedding_dim)\n",
    "        \n",
    "        conv2d_1 = F.relu(self.conv2d_1(reshaped))\n",
    "        conv2d_2 = F.relu(self.conv2d_2(reshaped))\n",
    "        conv2d_3 = F.relu(self.conv2d_3(reshaped))\n",
    "        \n",
    "        maxpool2d_1 = self.maxpool2d_1(conv2d_1)\n",
    "        maxpool2d_2 = self.maxpool2d_2(conv2d_2)\n",
    "        maxpool2d_3 = self.maxpool2d_3(conv2d_3)\n",
    "        \n",
    "        concat = torch.cat([maxpool2d_1, maxpool2d_2, maxpool2d_3], dim=1)\n",
    "        flatten = concat.view(concat.shape[0], concat.shape[1])\n",
    "        dropout = F.dropout(flatten, self.drop_rate)\n",
    "        output = F.softmax(self.linear(dropout))\n",
    "        \n",
    "        return output"
   ]
  },
  {
   "cell_type": "code",
   "execution_count": 34,
   "metadata": {},
   "outputs": [
    {
     "name": "stdout",
     "output_type": "stream",
     "text": [
      "input                 torch.Size([1, 201, 50]) \n",
      "embedding             torch.Size([1, 201, 256])\n",
      "reshaped              torch.Size([1, 1, 201, 256])\n",
      "conv2d_1              torch.Size([1, 100, 199, 1])\n",
      "conv2d_2              torch.Size([1, 100, 198, 1])\n",
      "conv2d_3              torch.Size([1, 100, 197, 1])\n",
      "maxpool2d_1           torch.Size([1, 100, 1, 1])\n",
      "maxpool2d_2           torch.Size([1, 100, 1, 1])\n",
      "maxpool2d_3           torch.Size([1, 100, 1, 1])\n",
      "concat                torch.Size([1, 300, 1, 1])\n",
      "flatten               torch.Size([1, 300])     \n",
      "dropout               torch.Size([1, 300])     \n",
      "output                torch.Size([1, 7])       \n"
     ]
    },
    {
     "name": "stderr",
     "output_type": "stream",
     "text": [
      "/home/david/anaconda3/envs/tf36/lib/python3.6/site-packages/ipykernel_launcher.py:77: UserWarning: Implicit dimension choice for softmax has been deprecated. Change the call to include dim=X as an argument.\n"
     ]
    }
   ],
   "source": [
    "input_dim = X_train.shape[1]\n",
    "embedding_dim = 256\n",
    "filter_dim = 100\n",
    "filter_sizes = [3,4,5]\n",
    "drop_rate = 0.5\n",
    "output_dim = 7\n",
    "\n",
    "model = ConvNetClassifier(device, elmo, input_dim, embedding_dim, output_dim, filter_dim, filter_sizes, drop_rate)\n",
    "model = model.to(device)\n",
    "\n",
    "model.summary([1, 201, 50])"
   ]
  },
  {
   "cell_type": "code",
   "execution_count": 35,
   "metadata": {},
   "outputs": [
    {
     "data": {
      "text/plain": [
       "{'dataset': <__main__.ISEAR_Tensor_Dataset at 0x7fcd02572cc0>,\n",
       " 'batch_size': 50,\n",
       " 'num_workers': 0,\n",
       " 'collate_fn': <function torch.utils.data.dataloader.default_collate(batch)>,\n",
       " 'pin_memory': False,\n",
       " 'drop_last': False,\n",
       " 'timeout': 0,\n",
       " 'worker_init_fn': None,\n",
       " 'sampler': <torch.utils.data.sampler.RandomSampler at 0x7fccc4223748>,\n",
       " 'batch_sampler': <torch.utils.data.sampler.BatchSampler at 0x7fccc4223780>,\n",
       " '_DataLoader__initialized': True}"
      ]
     },
     "execution_count": 35,
     "metadata": {},
     "output_type": "execute_result"
    }
   ],
   "source": [
    "train_loader.__dict__"
   ]
  },
  {
   "cell_type": "code",
   "execution_count": 36,
   "metadata": {},
   "outputs": [],
   "source": [
    "def train(epoch, model, data_loader, device, optimiser, loss_fn=nn.BCELoss(), log_interval=100):\n",
    "    #####################\n",
    "    # Train model\n",
    "    #####################\n",
    "\n",
    "    # switch model to training mode, clear gradient accumulators\n",
    "    model.train()\n",
    "    # model.hidden = model.init_hidden()\n",
    "    \n",
    "    train_loss = 0\n",
    "    total_correct = 0\n",
    "\n",
    "    all_pred = []\n",
    "    all_target = []\n",
    "\n",
    "    for batch_idx, (data, target) in enumerate(data_loader):\n",
    "        data, target = data.to(device), target.to(device)\n",
    "        optimiser.zero_grad()\n",
    "        output = model(data)\n",
    "        \n",
    "        loss = loss_fn(output, target)\n",
    "        loss.backward()\n",
    "        optimiser.step()\n",
    "        \n",
    "        train_loss += loss.data # sum up batch loss\n",
    "        \n",
    "        pred = output.max(1, keepdim=True)[1]\n",
    "        pred = pred.view(pred.size(0))\n",
    "\n",
    "        target = target.max(1, keepdim=True)[1]\n",
    "        target = target.view(target.size(0))\n",
    "\n",
    "        correct = pred.eq(target.view_as(pred)).sum()\n",
    "        total_correct += correct\n",
    "\n",
    "        all_pred += pred.cpu().numpy().tolist()\n",
    "        all_target += target.cpu().numpy().tolist()\n",
    "\n",
    "        if batch_idx % log_interval == 0:\n",
    "            print('Train Epoch: {} [{}\\t/\\t{}\\t({:.0f}%)]\\tLoss: {:.6f}'.format(\n",
    "                epoch, batch_idx * len(data), len(train_loader.dataset),\n",
    "                100. * batch_idx / len(train_loader), loss.data))\n",
    "    \n",
    "    print('Train: Average loss: {:.4f}, Accuracy: {}/{} ({:.0f}%)'.format(\n",
    "        train_loss, total_correct, len(data_loader.dataset),\n",
    "        100. * total_correct / len(data_loader.dataset)))\n",
    "    \n",
    "    return train_loss, all_pred, all_target"
   ]
  },
  {
   "cell_type": "code",
   "execution_count": 37,
   "metadata": {},
   "outputs": [],
   "source": [
    "def evaluate(model, data_loader, device, loss_fn=nn.BCELoss()):\n",
    "    #####################\n",
    "    # Evaluation model\n",
    "    #####################\n",
    "    model.eval()\n",
    "    eval_loss = 0\n",
    "    total_correct = 0\n",
    "\n",
    "    all_pred = []\n",
    "    all_target = []\n",
    "    \n",
    "    with torch.no_grad():\n",
    "        for data, target in data_loader:\n",
    "            data, target = data.to(device), target.to(device)\n",
    "            output = model(data)\n",
    "            eval_loss += loss_fn(output, target).data # sum up batch loss\n",
    "            \n",
    "            pred = output.max(1, keepdim=True)[1]\n",
    "            pred = pred.view(pred.size(0))\n",
    "            \n",
    "            target = target.max(1, keepdim=True)[1]\n",
    "            target = target.view(target.size(0))\n",
    "            \n",
    "            correct = pred.eq(target.view_as(pred)).sum()\n",
    "            total_correct += correct\n",
    "\n",
    "            all_pred += pred.cpu().numpy().tolist()\n",
    "            all_target += target.cpu().numpy().tolist()\n",
    "\n",
    "    print('Evaluate: Average loss: {:.4f}, Accuracy: {}/{} ({:.0f}%)\\n'.format(\n",
    "        eval_loss, total_correct, len(data_loader.dataset),\n",
    "        100. * total_correct / len(data_loader.dataset)))\n",
    "    \n",
    "    return eval_loss, all_pred, all_target"
   ]
  },
  {
   "cell_type": "code",
   "execution_count": 38,
   "metadata": {},
   "outputs": [
    {
     "name": "stderr",
     "output_type": "stream",
     "text": [
      "/home/david/anaconda3/envs/tf36/lib/python3.6/site-packages/ipykernel_launcher.py:95: UserWarning: Implicit dimension choice for softmax has been deprecated. Change the call to include dim=X as an argument.\n"
     ]
    },
    {
     "name": "stdout",
     "output_type": "stream",
     "text": [
      "Train Epoch: 0 [0\t/\t4292\t(0%)]\tLoss: 0.409518\n",
      "Train Epoch: 0 [500\t/\t4292\t(12%)]\tLoss: 0.405138\n",
      "Train Epoch: 0 [1000\t/\t4292\t(23%)]\tLoss: 0.397283\n",
      "Train Epoch: 0 [1500\t/\t4292\t(35%)]\tLoss: 0.376434\n",
      "Train Epoch: 0 [2000\t/\t4292\t(47%)]\tLoss: 0.365413\n",
      "Train Epoch: 0 [2500\t/\t4292\t(58%)]\tLoss: 0.362529\n",
      "Train Epoch: 0 [3000\t/\t4292\t(70%)]\tLoss: 0.371464\n",
      "Train Epoch: 0 [3500\t/\t4292\t(81%)]\tLoss: 0.356974\n",
      "Train Epoch: 0 [4000\t/\t4292\t(93%)]\tLoss: 0.305622\n",
      "Train: Average loss: 31.9834, Accuracy: 1372/4292 (31%)\n",
      "Evaluate: Average loss: 7.6424, Accuracy: 432/1074 (40%)\n",
      "\n",
      "Train Epoch: 1 [0\t/\t4292\t(0%)]\tLoss: 0.322951\n",
      "Train Epoch: 1 [500\t/\t4292\t(12%)]\tLoss: 0.315201\n",
      "Train Epoch: 1 [1000\t/\t4292\t(23%)]\tLoss: 0.341859\n",
      "Train Epoch: 1 [1500\t/\t4292\t(35%)]\tLoss: 0.332253\n",
      "Train Epoch: 1 [2000\t/\t4292\t(47%)]\tLoss: 0.288243\n",
      "Train Epoch: 1 [2500\t/\t4292\t(58%)]\tLoss: 0.312127\n",
      "Train Epoch: 1 [3000\t/\t4292\t(70%)]\tLoss: 0.319320\n",
      "Train Epoch: 1 [3500\t/\t4292\t(81%)]\tLoss: 0.312046\n",
      "Train Epoch: 1 [4000\t/\t4292\t(93%)]\tLoss: 0.276687\n",
      "Train: Average loss: 26.8592, Accuracy: 2040/4292 (47%)\n",
      "Evaluate: Average loss: 7.2532, Accuracy: 476/1074 (44%)\n",
      "\n",
      "Train Epoch: 2 [0\t/\t4292\t(0%)]\tLoss: 0.259709\n",
      "Train Epoch: 2 [500\t/\t4292\t(12%)]\tLoss: 0.304653\n",
      "Train Epoch: 2 [1000\t/\t4292\t(23%)]\tLoss: 0.266724\n",
      "Train Epoch: 2 [1500\t/\t4292\t(35%)]\tLoss: 0.252255\n",
      "Train Epoch: 2 [2000\t/\t4292\t(47%)]\tLoss: 0.306046\n",
      "Train Epoch: 2 [2500\t/\t4292\t(58%)]\tLoss: 0.263755\n",
      "Train Epoch: 2 [3000\t/\t4292\t(70%)]\tLoss: 0.286072\n",
      "Train Epoch: 2 [3500\t/\t4292\t(81%)]\tLoss: 0.300654\n",
      "Train Epoch: 2 [4000\t/\t4292\t(93%)]\tLoss: 0.291416\n",
      "Train: Average loss: 23.5172, Accuracy: 2423/4292 (56%)\n",
      "Evaluate: Average loss: 6.9793, Accuracy: 506/1074 (47%)\n",
      "\n",
      "Train Epoch: 3 [0\t/\t4292\t(0%)]\tLoss: 0.245523\n",
      "Train Epoch: 3 [500\t/\t4292\t(12%)]\tLoss: 0.262601\n",
      "Train Epoch: 3 [1000\t/\t4292\t(23%)]\tLoss: 0.253272\n",
      "Train Epoch: 3 [1500\t/\t4292\t(35%)]\tLoss: 0.250760\n",
      "Train Epoch: 3 [2000\t/\t4292\t(47%)]\tLoss: 0.217162\n",
      "Train Epoch: 3 [2500\t/\t4292\t(58%)]\tLoss: 0.215668\n",
      "Train Epoch: 3 [3000\t/\t4292\t(70%)]\tLoss: 0.186897\n",
      "Train Epoch: 3 [3500\t/\t4292\t(81%)]\tLoss: 0.226724\n",
      "Train Epoch: 3 [4000\t/\t4292\t(93%)]\tLoss: 0.254075\n",
      "Train: Average loss: 20.6211, Accuracy: 2689/4292 (62%)\n",
      "Evaluate: Average loss: 6.7653, Accuracy: 533/1074 (49%)\n",
      "\n",
      "Train Epoch: 4 [0\t/\t4292\t(0%)]\tLoss: 0.207252\n",
      "Train Epoch: 4 [500\t/\t4292\t(12%)]\tLoss: 0.274603\n",
      "Train Epoch: 4 [1000\t/\t4292\t(23%)]\tLoss: 0.221307\n",
      "Train Epoch: 4 [1500\t/\t4292\t(35%)]\tLoss: 0.225827\n",
      "Train Epoch: 4 [2000\t/\t4292\t(47%)]\tLoss: 0.225246\n",
      "Train Epoch: 4 [2500\t/\t4292\t(58%)]\tLoss: 0.234907\n",
      "Train Epoch: 4 [3000\t/\t4292\t(70%)]\tLoss: 0.205120\n",
      "Train Epoch: 4 [3500\t/\t4292\t(81%)]\tLoss: 0.206051\n",
      "Train Epoch: 4 [4000\t/\t4292\t(93%)]\tLoss: 0.285578\n",
      "Train: Average loss: 18.3479, Accuracy: 2896/4292 (67%)\n",
      "Evaluate: Average loss: 6.8659, Accuracy: 539/1074 (50%)\n",
      "\n",
      "Train Epoch: 5 [0\t/\t4292\t(0%)]\tLoss: 0.150755\n",
      "Train Epoch: 5 [500\t/\t4292\t(12%)]\tLoss: 0.187710\n",
      "Train Epoch: 5 [1000\t/\t4292\t(23%)]\tLoss: 0.131566\n",
      "Train Epoch: 5 [1500\t/\t4292\t(35%)]\tLoss: 0.207533\n",
      "Train Epoch: 5 [2000\t/\t4292\t(47%)]\tLoss: 0.178238\n",
      "Train Epoch: 5 [2500\t/\t4292\t(58%)]\tLoss: 0.225556\n",
      "Train Epoch: 5 [3000\t/\t4292\t(70%)]\tLoss: 0.218471\n",
      "Train Epoch: 5 [3500\t/\t4292\t(81%)]\tLoss: 0.246647\n",
      "Train Epoch: 5 [4000\t/\t4292\t(93%)]\tLoss: 0.164463\n",
      "Train: Average loss: 15.7214, Accuracy: 3139/4292 (73%)\n",
      "Evaluate: Average loss: 6.9572, Accuracy: 562/1074 (52%)\n",
      "\n",
      "Train Epoch: 6 [0\t/\t4292\t(0%)]\tLoss: 0.113803\n",
      "Train Epoch: 6 [500\t/\t4292\t(12%)]\tLoss: 0.096592\n",
      "Train Epoch: 6 [1000\t/\t4292\t(23%)]\tLoss: 0.134763\n",
      "Train Epoch: 6 [1500\t/\t4292\t(35%)]\tLoss: 0.204016\n",
      "Train Epoch: 6 [2000\t/\t4292\t(47%)]\tLoss: 0.145815\n",
      "Train Epoch: 6 [2500\t/\t4292\t(58%)]\tLoss: 0.153886\n",
      "Train Epoch: 6 [3000\t/\t4292\t(70%)]\tLoss: 0.200895\n",
      "Train Epoch: 6 [3500\t/\t4292\t(81%)]\tLoss: 0.120461\n",
      "Train Epoch: 6 [4000\t/\t4292\t(93%)]\tLoss: 0.205622\n",
      "Train: Average loss: 13.7649, Accuracy: 3283/4292 (76%)\n",
      "Evaluate: Average loss: 7.4420, Accuracy: 528/1074 (49%)\n",
      "\n",
      "Train Epoch: 7 [0\t/\t4292\t(0%)]\tLoss: 0.153807\n",
      "Train Epoch: 7 [500\t/\t4292\t(12%)]\tLoss: 0.117018\n",
      "Train Epoch: 7 [1000\t/\t4292\t(23%)]\tLoss: 0.105816\n",
      "Train Epoch: 7 [1500\t/\t4292\t(35%)]\tLoss: 0.138733\n",
      "Train Epoch: 7 [2000\t/\t4292\t(47%)]\tLoss: 0.179411\n",
      "Train Epoch: 7 [2500\t/\t4292\t(58%)]\tLoss: 0.142976\n",
      "Train Epoch: 7 [3000\t/\t4292\t(70%)]\tLoss: 0.175045\n",
      "Train Epoch: 7 [3500\t/\t4292\t(81%)]\tLoss: 0.148519\n",
      "Train Epoch: 7 [4000\t/\t4292\t(93%)]\tLoss: 0.128690\n",
      "Train: Average loss: 12.5001, Accuracy: 3388/4292 (78%)\n",
      "Evaluate: Average loss: 7.5150, Accuracy: 542/1074 (50%)\n",
      "\n",
      "Train Epoch: 8 [0\t/\t4292\t(0%)]\tLoss: 0.090363\n",
      "Train Epoch: 8 [500\t/\t4292\t(12%)]\tLoss: 0.119851\n",
      "Train Epoch: 8 [1000\t/\t4292\t(23%)]\tLoss: 0.126598\n",
      "Train Epoch: 8 [1500\t/\t4292\t(35%)]\tLoss: 0.081931\n",
      "Train Epoch: 8 [2000\t/\t4292\t(47%)]\tLoss: 0.110621\n",
      "Train Epoch: 8 [2500\t/\t4292\t(58%)]\tLoss: 0.152907\n",
      "Train Epoch: 8 [3000\t/\t4292\t(70%)]\tLoss: 0.146172\n",
      "Train Epoch: 8 [3500\t/\t4292\t(81%)]\tLoss: 0.137967\n",
      "Train Epoch: 8 [4000\t/\t4292\t(93%)]\tLoss: 0.136961\n",
      "Train: Average loss: 10.6389, Accuracy: 3562/4292 (82%)\n",
      "Evaluate: Average loss: 7.6451, Accuracy: 554/1074 (51%)\n",
      "\n",
      "Train Epoch: 9 [0\t/\t4292\t(0%)]\tLoss: 0.075126\n",
      "Train Epoch: 9 [500\t/\t4292\t(12%)]\tLoss: 0.110263\n",
      "Train Epoch: 9 [1000\t/\t4292\t(23%)]\tLoss: 0.084052\n",
      "Train Epoch: 9 [1500\t/\t4292\t(35%)]\tLoss: 0.060574\n",
      "Train Epoch: 9 [2000\t/\t4292\t(47%)]\tLoss: 0.139676\n",
      "Train Epoch: 9 [2500\t/\t4292\t(58%)]\tLoss: 0.096834\n",
      "Train Epoch: 9 [3000\t/\t4292\t(70%)]\tLoss: 0.123214\n",
      "Train Epoch: 9 [3500\t/\t4292\t(81%)]\tLoss: 0.126385\n",
      "Train Epoch: 9 [4000\t/\t4292\t(93%)]\tLoss: 0.107163\n",
      "Train: Average loss: 9.2759, Accuracy: 3667/4292 (85%)\n",
      "Evaluate: Average loss: 7.5526, Accuracy: 553/1074 (51%)\n",
      "\n"
     ]
    }
   ],
   "source": [
    "loss_fn = nn.BCELoss()\n",
    "log_interval = 10\n",
    "max_epochs = 10\n",
    "learning_rate = 1e-3\n",
    "optimiser = optim.Adam(model.parameters(), lr=learning_rate)\n",
    "\n",
    "train_loss_hist = np.zeros(max_epochs)\n",
    "eval_loss_hist = np.zeros(max_epochs)\n",
    "\n",
    "for epoch in range(max_epochs):\n",
    "  \n",
    "    train_loss, train_pred, train_target = train(epoch, model, train_loader, device, optimiser, loss_fn, log_interval)\n",
    "    train_loss_hist[epoch] = train_loss\n",
    "    \n",
    "    valid_loss, valid_pred, valid_target = evaluate(model, valid_loader, device, loss_fn=nn.BCELoss())\n",
    "    eval_loss_hist[epoch] = valid_loss"
   ]
  },
  {
   "cell_type": "code",
   "execution_count": 39,
   "metadata": {},
   "outputs": [
    {
     "data": {
      "image/png": "[encoded data removed]",
      "text/plain": [
       "<Figure size 432x288 with 1 Axes>"
      ]
     },
     "metadata": {
      "needs_background": "light"
     },
     "output_type": "display_data"
    }
   ],
   "source": [
    "import matplotlib.pyplot as plt\n",
    "plt.plot(train_loss_hist, color='skyblue')\n",
    "plt.plot(eval_loss_hist, color='red')\n",
    "plt.ylabel('Historic Loss')\n",
    "plt.show()"
   ]
  },
  {
   "cell_type": "code",
   "execution_count": 40,
   "metadata": {},
   "outputs": [
    {
     "name": "stderr",
     "output_type": "stream",
     "text": [
      "/home/david/anaconda3/envs/tf36/lib/python3.6/site-packages/torch/serialization.py:250: UserWarning: Couldn't retrieve source code for container of type ConvNetClassifier. It won't be checked for correctness upon loading.\n",
      "  \"type \" + obj.__name__ + \". It won't be checked \"\n"
     ]
    }
   ],
   "source": [
    "model_path = 'pytorch_isear_convnet_elmo_model.h5'\n",
    "weight_path = 'pytorch_isear_convnet_elmo_weights.h5'\n",
    "\n",
    "torch.save(model.state_dict(), weight_path)\n",
    "torch.save(model, model_path)"
   ]
  },
  {
   "cell_type": "code",
   "execution_count": 41,
   "metadata": {},
   "outputs": [
    {
     "name": "stderr",
     "output_type": "stream",
     "text": [
      "/home/david/anaconda3/envs/tf36/lib/python3.6/site-packages/ipykernel_launcher.py:95: UserWarning: Implicit dimension choice for softmax has been deprecated. Change the call to include dim=X as an argument.\n"
     ]
    },
    {
     "name": "stdout",
     "output_type": "stream",
     "text": [
      "Evaluate: Average loss: 15.4520, Accuracy: 1212/2300 (52%)\n",
      "\n"
     ]
    }
   ],
   "source": [
    "test_loss, test_pred, test_target = evaluate(model, test_loader, device, loss_fn)"
   ]
  },
  {
   "cell_type": "code",
   "execution_count": 42,
   "metadata": {},
   "outputs": [
    {
     "data": {
      "text/html": [
       "<div>\n",
       "<style scoped>\n",
       "    .dataframe tbody tr th:only-of-type {\n",
       "        vertical-align: middle;\n",
       "    }\n",
       "\n",
       "    .dataframe tbody tr th {\n",
       "        vertical-align: top;\n",
       "    }\n",
       "\n",
       "    .dataframe thead th {\n",
       "        text-align: right;\n",
       "    }\n",
       "</style>\n",
       "<table border=\"1\" class=\"dataframe\">\n",
       "  <thead>\n",
       "    <tr style=\"text-align: right;\">\n",
       "      <th></th>\n",
       "      <th>anger</th>\n",
       "      <th>disgust</th>\n",
       "      <th>fear</th>\n",
       "      <th>guilt</th>\n",
       "      <th>joy</th>\n",
       "      <th>sadness</th>\n",
       "      <th>shame</th>\n",
       "    </tr>\n",
       "  </thead>\n",
       "  <tbody>\n",
       "    <tr>\n",
       "      <th>anger</th>\n",
       "      <td>118</td>\n",
       "      <td>78</td>\n",
       "      <td>19</td>\n",
       "      <td>40</td>\n",
       "      <td>14</td>\n",
       "      <td>26</td>\n",
       "      <td>34</td>\n",
       "    </tr>\n",
       "    <tr>\n",
       "      <th>disgust</th>\n",
       "      <td>44</td>\n",
       "      <td>183</td>\n",
       "      <td>36</td>\n",
       "      <td>19</td>\n",
       "      <td>6</td>\n",
       "      <td>12</td>\n",
       "      <td>29</td>\n",
       "    </tr>\n",
       "    <tr>\n",
       "      <th>fear</th>\n",
       "      <td>13</td>\n",
       "      <td>27</td>\n",
       "      <td>217</td>\n",
       "      <td>19</td>\n",
       "      <td>11</td>\n",
       "      <td>21</td>\n",
       "      <td>20</td>\n",
       "    </tr>\n",
       "    <tr>\n",
       "      <th>guilt</th>\n",
       "      <td>33</td>\n",
       "      <td>22</td>\n",
       "      <td>21</td>\n",
       "      <td>165</td>\n",
       "      <td>8</td>\n",
       "      <td>19</td>\n",
       "      <td>60</td>\n",
       "    </tr>\n",
       "    <tr>\n",
       "      <th>joy</th>\n",
       "      <td>11</td>\n",
       "      <td>10</td>\n",
       "      <td>17</td>\n",
       "      <td>12</td>\n",
       "      <td>223</td>\n",
       "      <td>31</td>\n",
       "      <td>24</td>\n",
       "    </tr>\n",
       "    <tr>\n",
       "      <th>sadness</th>\n",
       "      <td>17</td>\n",
       "      <td>19</td>\n",
       "      <td>36</td>\n",
       "      <td>22</td>\n",
       "      <td>33</td>\n",
       "      <td>173</td>\n",
       "      <td>29</td>\n",
       "    </tr>\n",
       "    <tr>\n",
       "      <th>shame</th>\n",
       "      <td>30</td>\n",
       "      <td>38</td>\n",
       "      <td>30</td>\n",
       "      <td>65</td>\n",
       "      <td>13</td>\n",
       "      <td>20</td>\n",
       "      <td>133</td>\n",
       "    </tr>\n",
       "  </tbody>\n",
       "</table>\n",
       "</div>"
      ],
      "text/plain": [
       "         anger  disgust  fear  guilt  joy  sadness  shame\n",
       "anger      118       78    19     40   14       26     34\n",
       "disgust     44      183    36     19    6       12     29\n",
       "fear        13       27   217     19   11       21     20\n",
       "guilt       33       22    21    165    8       19     60\n",
       "joy         11       10    17     12  223       31     24\n",
       "sadness     17       19    36     22   33      173     29\n",
       "shame       30       38    30     65   13       20    133"
      ]
     },
     "execution_count": 42,
     "metadata": {},
     "output_type": "execute_result"
    }
   ],
   "source": [
    "from sklearn.metrics import confusion_matrix, precision_recall_fscore_support, accuracy_score\n",
    "\n",
    "cf_matrix = confusion_matrix(test_target, test_pred)\n",
    "\n",
    "df_cm = pd.DataFrame(\n",
    "    cf_matrix, index=labels, columns=labels, \n",
    ")\n",
    "\n",
    "df_cm"
   ]
  },
  {
   "cell_type": "code",
   "execution_count": 43,
   "metadata": {},
   "outputs": [],
   "source": [
    "import seaborn as sns\n",
    "\n",
    "def print_confusion_matrix(confusion_matrix, class_names, figsize = (4,3), fontsize=15):\n",
    "    \"\"\"Prints a confusion matrix, as returned by sklearn.metrics.confusion_matrix, as a heatmap.\n",
    "    \n",
    "    Arguments\n",
    "    ---------\n",
    "    confusion_matrix: numpy.ndarray\n",
    "        The numpy.ndarray object returned from a call to sklearn.metrics.confusion_matrix. \n",
    "        Similarly constructed ndarrays can also be used.\n",
    "    class_names: list\n",
    "        An ordered list of class names, in the order they index the given confusion matrix.\n",
    "    figsize: tuple\n",
    "        A 2-long tuple, the first value determining the horizontal size of the ouputted figure,\n",
    "        the second determining the vertical size. Defaults to (10,7).\n",
    "    fontsize: int\n",
    "        Font size for axes labels. Defaults to 14.\n",
    "        \n",
    "    Returns\n",
    "    -------\n",
    "    matplotlib.figure.Figure\n",
    "        The resulting confusion matrix figure\n",
    "    \"\"\"\n",
    "    df_cm = pd.DataFrame(\n",
    "        confusion_matrix, index=class_names, columns=class_names, \n",
    "    )\n",
    "    fig = plt.figure(figsize=figsize)\n",
    "    try:\n",
    "        heatmap = sns.heatmap(df_cm, annot=True, fmt=\"d\")\n",
    "    except ValueError:\n",
    "        raise ValueError(\"Confusion matrix values must be integers.\")\n",
    "    heatmap.yaxis.set_ticklabels(heatmap.yaxis.get_ticklabels(), rotation=0, ha='right', fontsize=fontsize)\n",
    "    heatmap.xaxis.set_ticklabels(heatmap.xaxis.get_ticklabels(), rotation=45, ha='right', fontsize=fontsize)\n",
    "    plt.ylabel('True label')\n",
    "    plt.xlabel('Predicted label')\n",
    "    return fig"
   ]
  },
  {
   "cell_type": "code",
   "execution_count": 44,
   "metadata": {},
   "outputs": [
    {
     "name": "stdout",
     "output_type": "stream",
     "text": [
      "Figure(288x216)\n"
     ]
    },
    {
     "data": {
      "image/png": "[encoded data removed]",
      "text/plain": [
       "<Figure size 288x216 with 2 Axes>"
      ]
     },
     "metadata": {
      "needs_background": "light"
     },
     "output_type": "display_data"
    }
   ],
   "source": [
    "print(print_confusion_matrix(cf_matrix, class_names=labels))"
   ]
  },
  {
   "cell_type": "code",
   "execution_count": 45,
   "metadata": {},
   "outputs": [
    {
     "name": "stdout",
     "output_type": "stream",
     "text": [
      "test accuracy: 0.5269565217391304\n"
     ]
    }
   ],
   "source": [
    "test_accuracy = accuracy_score(test_target, test_pred)\n",
    "print(\"test accuracy:\", test_accuracy)"
   ]
  },
  {
   "cell_type": "markdown",
   "metadata": {},
   "source": [
    "### Performance score for each classes"
   ]
  },
  {
   "cell_type": "code",
   "execution_count": 46,
   "metadata": {},
   "outputs": [
    {
     "data": {
      "text/html": [
       "<div>\n",
       "<style scoped>\n",
       "    .dataframe tbody tr th:only-of-type {\n",
       "        vertical-align: middle;\n",
       "    }\n",
       "\n",
       "    .dataframe tbody tr th {\n",
       "        vertical-align: top;\n",
       "    }\n",
       "\n",
       "    .dataframe thead th {\n",
       "        text-align: right;\n",
       "    }\n",
       "</style>\n",
       "<table border=\"1\" class=\"dataframe\">\n",
       "  <thead>\n",
       "    <tr style=\"text-align: right;\">\n",
       "      <th></th>\n",
       "      <th>precision</th>\n",
       "      <th>recall</th>\n",
       "      <th>f1-score</th>\n",
       "      <th>support</th>\n",
       "    </tr>\n",
       "  </thead>\n",
       "  <tbody>\n",
       "    <tr>\n",
       "      <th>anger</th>\n",
       "      <td>0.4436</td>\n",
       "      <td>0.3587</td>\n",
       "      <td>0.3966</td>\n",
       "      <td>329</td>\n",
       "    </tr>\n",
       "    <tr>\n",
       "      <th>disgust</th>\n",
       "      <td>0.4854</td>\n",
       "      <td>0.5562</td>\n",
       "      <td>0.5184</td>\n",
       "      <td>329</td>\n",
       "    </tr>\n",
       "    <tr>\n",
       "      <th>fear</th>\n",
       "      <td>0.5771</td>\n",
       "      <td>0.6616</td>\n",
       "      <td>0.6165</td>\n",
       "      <td>328</td>\n",
       "    </tr>\n",
       "    <tr>\n",
       "      <th>guilt</th>\n",
       "      <td>0.4825</td>\n",
       "      <td>0.5030</td>\n",
       "      <td>0.4925</td>\n",
       "      <td>328</td>\n",
       "    </tr>\n",
       "    <tr>\n",
       "      <th>joy</th>\n",
       "      <td>0.7240</td>\n",
       "      <td>0.6799</td>\n",
       "      <td>0.7013</td>\n",
       "      <td>328</td>\n",
       "    </tr>\n",
       "    <tr>\n",
       "      <th>sadness</th>\n",
       "      <td>0.5728</td>\n",
       "      <td>0.5258</td>\n",
       "      <td>0.5483</td>\n",
       "      <td>329</td>\n",
       "    </tr>\n",
       "    <tr>\n",
       "      <th>shame</th>\n",
       "      <td>0.4043</td>\n",
       "      <td>0.4043</td>\n",
       "      <td>0.4043</td>\n",
       "      <td>329</td>\n",
       "    </tr>\n",
       "  </tbody>\n",
       "</table>\n",
       "</div>"
      ],
      "text/plain": [
       "         precision  recall  f1-score  support\n",
       "anger       0.4436  0.3587    0.3966      329\n",
       "disgust     0.4854  0.5562    0.5184      329\n",
       "fear        0.5771  0.6616    0.6165      328\n",
       "guilt       0.4825  0.5030    0.4925      328\n",
       "joy         0.7240  0.6799    0.7013      328\n",
       "sadness     0.5728  0.5258    0.5483      329\n",
       "shame       0.4043  0.4043    0.4043      329"
      ]
     },
     "execution_count": 46,
     "metadata": {},
     "output_type": "execute_result"
    }
   ],
   "source": [
    "precision, recall, fscore, support = precision_recall_fscore_support(test_target, test_pred)\n",
    "score_dict = {\n",
    "  \"precision\": precision.round(4),\n",
    "  \"recall\": recall.round(4),\n",
    "  \"f1-score\": fscore.round(4),\n",
    "  \"support\": support.round(4)\n",
    "}\n",
    "score_df = pd.DataFrame(score_dict, index=labels)\n",
    "score_df"
   ]
  },
  {
   "cell_type": "markdown",
   "metadata": {},
   "source": [
    "### Cohen Kappa Score"
   ]
  },
  {
   "cell_type": "code",
   "execution_count": 47,
   "metadata": {},
   "outputs": [
    {
     "name": "stdout",
     "output_type": "stream",
     "text": [
      "kappa: 0.4481208453031388\n"
     ]
    }
   ],
   "source": [
    "from sklearn.metrics import cohen_kappa_score\n",
    "\n",
    "kappa_score = cohen_kappa_score(test_target, test_pred)\n",
    "print(\"kappa:\", kappa_score)"
   ]
  },
  {
   "cell_type": "code",
   "execution_count": null,
   "metadata": {},
   "outputs": [],
   "source": []
  }
 ],
 "metadata": {
  "kernelspec": {
   "display_name": "Python 3",
   "language": "python",
   "name": "python3"
  },
  "language_info": {
   "codemirror_mode": {
    "name": "ipython",
    "version": 3
   },
   "file_extension": ".py",
   "mimetype": "text/x-python",
   "name": "python",
   "nbconvert_exporter": "python",
   "pygments_lexer": "ipython3",
   "version": "3.6.7"
  }
 },
 "nbformat": 4,
 "nbformat_minor": 2
}
