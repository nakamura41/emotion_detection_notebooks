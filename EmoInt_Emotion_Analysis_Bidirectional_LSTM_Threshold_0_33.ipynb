{
 "cells": [
  {
   "cell_type": "markdown",
   "metadata": {
    "colab_type": "text",
    "id": "view-in-github"
   },
   "source": [
    "<a href=\"https://colab.research.google.com/github/nakamura41/emotion_detection_notebooks/blob/master/EmoInt_Emotion_Analysis_Bidirectional_LSTM_Threshold_0_33.ipynb\" target=\"_parent\"><img src=\"https://colab.research.google.com/assets/colab-badge.svg\" alt=\"Open In Colab\"/></a>"
   ]
  },
  {
   "cell_type": "code",
   "execution_count": 0,
   "metadata": {
    "colab": {
     "base_uri": "https://localhost:8080/",
     "height": 197
    },
    "colab_type": "code",
    "id": "tgVlWx0J5in1",
    "outputId": "c3feab17-008f-4d97-950a-f90fcf3f217d"
   },
   "outputs": [
    {
     "name": "stdout",
     "output_type": "stream",
     "text": [
      "Requirement already satisfied: PyDrive in /usr/local/lib/python3.6/dist-packages (1.3.1)\n",
      "Requirement already satisfied: oauth2client>=4.0.0 in /usr/local/lib/python3.6/dist-packages (from PyDrive) (4.1.3)\n",
      "Requirement already satisfied: PyYAML>=3.0 in /usr/local/lib/python3.6/dist-packages (from PyDrive) (3.13)\n",
      "Requirement already satisfied: google-api-python-client>=1.2 in /usr/local/lib/python3.6/dist-packages (from PyDrive) (1.6.7)\n",
      "Requirement already satisfied: httplib2>=0.9.1 in /usr/local/lib/python3.6/dist-packages (from oauth2client>=4.0.0->PyDrive) (0.11.3)\n",
      "Requirement already satisfied: rsa>=3.1.4 in /usr/local/lib/python3.6/dist-packages (from oauth2client>=4.0.0->PyDrive) (4.0)\n",
      "Requirement already satisfied: six>=1.6.1 in /usr/local/lib/python3.6/dist-packages (from oauth2client>=4.0.0->PyDrive) (1.11.0)\n",
      "Requirement already satisfied: pyasn1>=0.1.7 in /usr/local/lib/python3.6/dist-packages (from oauth2client>=4.0.0->PyDrive) (0.4.4)\n",
      "Requirement already satisfied: pyasn1-modules>=0.0.5 in /usr/local/lib/python3.6/dist-packages (from oauth2client>=4.0.0->PyDrive) (0.2.2)\n",
      "Requirement already satisfied: uritemplate<4dev,>=3.0.0 in /usr/local/lib/python3.6/dist-packages (from google-api-python-client>=1.2->PyDrive) (3.0.0)\n"
     ]
    }
   ],
   "source": [
    "!pip install PyDrive"
   ]
  },
  {
   "cell_type": "code",
   "execution_count": 0,
   "metadata": {
    "colab": {
     "base_uri": "https://localhost:8080/",
     "height": 53
    },
    "colab_type": "code",
    "id": "OdaHCMv2rGKs",
    "outputId": "757ce36e-5dc9-4f0b-888a-afe86c9e8511"
   },
   "outputs": [
    {
     "name": "stderr",
     "output_type": "stream",
     "text": [
      "Using TensorFlow backend.\n"
     ]
    },
    {
     "name": "stdout",
     "output_type": "stream",
     "text": [
      "1.12.0\n"
     ]
    }
   ],
   "source": [
    "import os\n",
    "import tensorflow as tf\n",
    "from tensorflow import keras\n",
    "import numpy as np\n",
    "import urllib.request\n",
    "import pandas as pd\n",
    "from gensim.test.utils import common_texts, get_tmpfile\n",
    "from gensim.utils import simple_preprocess\n",
    "from gensim.models import Word2Vec\n",
    "from tempfile import gettempdir\n",
    "import zipfile\n",
    "from keras.preprocessing.text import Tokenizer\n",
    "from keras.preprocessing.sequence import pad_sequences\n",
    "from keras.utils import to_categorical\n",
    "from pydrive.auth import GoogleAuth\n",
    "from pydrive.drive import GoogleDrive\n",
    "from google.colab import auth\n",
    "from oauth2client.client import GoogleCredentials\n",
    "from sklearn.model_selection import train_test_split\n",
    "from sklearn.metrics import confusion_matrix, precision_recall_fscore_support, accuracy_score\n",
    "import matplotlib.pyplot as plt\n",
    "import seaborn as sns\n",
    "\n",
    "print(tf.__version__)"
   ]
  },
  {
   "cell_type": "code",
   "execution_count": 0,
   "metadata": {
    "colab": {},
    "colab_type": "code",
    "id": "VMhX1N2k4SgY"
   },
   "outputs": [],
   "source": [
    "# 1. Authenticate and create the PyDrive client.\n",
    "auth.authenticate_user()\n",
    "gauth = GoogleAuth()\n",
    "gauth.credentials = GoogleCredentials.get_application_default()\n",
    "drive = GoogleDrive(gauth)"
   ]
  },
  {
   "cell_type": "code",
   "execution_count": 0,
   "metadata": {
    "colab": {},
    "colab_type": "code",
    "id": "6FJlfk614hrw"
   },
   "outputs": [],
   "source": [
    "# download google drive file\n",
    "def download_drive_file(drive_directory, filename):\n",
    "  list_file_query = \"title='{}' and trashed=false\".format(drive_directory)\n",
    "  file_list = drive.ListFile({'q': list_file_query}).GetList()\n",
    "\n",
    "  if len(file_list) > 0:\n",
    "    directory_id = file_list[0]['id']\n",
    "\n",
    "    list_file_query = \"'{}' in parents\".format(directory_id)\n",
    "\n",
    "    file_list = drive.ListFile({'q': list_file_query}).GetList()\n",
    "    \n",
    "    file_id = None\n",
    "    for file1 in file_list:\n",
    "      if file1['title'] == filename:\n",
    "        print(\"downloading file {}, file id {}\".format(file1['title'], file1['id']))\n",
    "        file1.GetContentFile(file1['title'])"
   ]
  },
  {
   "cell_type": "code",
   "execution_count": 0,
   "metadata": {
    "colab": {},
    "colab_type": "code",
    "id": "VRAY8D9JtRHk"
   },
   "outputs": [],
   "source": [
    "# upload google drive file\n",
    "def upload_drive_file(drive_directory, filename):\n",
    "  list_file_query = \"title='{}' and trashed=false\".format(drive_directory)\n",
    "  file_list = drive.ListFile({'q': list_file_query}).GetList()\n",
    "\n",
    "  if len(file_list) > 0:\n",
    "    directory_id = file_list[0]['id']\n",
    "    file = drive.CreateFile({\n",
    "        'title': filename, \n",
    "        \"parents\": [{\"kind\": \"drive#fileLink\",\"id\": directory_id}]\n",
    "    })\n",
    "    file.SetContentFile(filename)\n",
    "    file.Upload()"
   ]
  },
  {
   "cell_type": "code",
   "execution_count": 0,
   "metadata": {
    "colab": {},
    "colab_type": "code",
    "id": "cWPQ7vL6uFNK"
   },
   "outputs": [],
   "source": [
    "def save_numpy_array(numpy_array, filename):\n",
    "  np.save(filename, numpy_array)\n",
    "  \n",
    "def save_n_upload_numpy_array(numpy_array, drive_directory, filename):\n",
    "  save_numpy_array(numpy_array, filename)\n",
    "  upload_drive_file(drive_directory, filename)"
   ]
  },
  {
   "cell_type": "code",
   "execution_count": 0,
   "metadata": {
    "colab": {},
    "colab_type": "code",
    "id": "oBynQmEcrNAy"
   },
   "outputs": [],
   "source": [
    "class EmoIntDataset(object):\n",
    "  BASE_URL = \"http://saifmohammad.com/WebDocs/\"\n",
    "  TRAIN_URI = \"EmoInt%20Train%20Data/{}-ratings-0to1.train.txt\"\n",
    "  TEST_URI = \"EmoInt%20Test%20Gold%20Data/{}-ratings-0to1.test.gold.txt\"\n",
    "  EMOTION_CLASSES = [\"anger\", \"fear\", \"joy\", \"sadness\"]\n",
    "  \n",
    "  THRESHOLD = 0.33\n",
    "  \n",
    "  def __load_data_per_class(self, url, threshold=0):\n",
    "    resource = urllib.request.urlopen(url)\n",
    "    np_array = np.asarray([line.split('\\t') for line in [line.strip() for line in resource.read().decode('utf-8').splitlines()]])\n",
    "    df = pd.DataFrame(np_array, columns=[\"id\", \"text\", \"emotion\", \"emotion_level\"])\n",
    "    df['emotion_level'] = df['emotion_level'].astype(float)\n",
    "    df = df.query('emotion_level>' + str(threshold))\n",
    "    return df[[\"text\", \"emotion\"]]\n",
    "  \n",
    "  def load_data(self, set_threshold=False):\n",
    "    train_data = None\n",
    "    test_data = None\n",
    "    \n",
    "    for emotion in self.EMOTION_CLASSES:\n",
    "      # load train dataset\n",
    "      train_df = self.__load_data_per_class(self.BASE_URL + self.TRAIN_URI.format(emotion), threshold=(self.THRESHOLD if set_threshold else 0))\n",
    "      \n",
    "      # load test dataset\n",
    "      test_df = self.__load_data_per_class(self.BASE_URL + self.TEST_URI.format(emotion), threshold=(self.THRESHOLD if set_threshold else 0))\n",
    "      \n",
    "      train_data = (train_df if train_data is None else train_data.append(train_df))\n",
    "      test_data = (test_df if test_data is None else test_data.append(test_df))\n",
    "      \n",
    "    return train_data, test_data"
   ]
  },
  {
   "cell_type": "code",
   "execution_count": 0,
   "metadata": {
    "colab": {
     "base_uri": "https://localhost:8080/",
     "height": 71
    },
    "colab_type": "code",
    "id": "tevwfq4Tu6fe",
    "outputId": "5507d39f-e094-4727-d761-2c4d1a883ecb"
   },
   "outputs": [
    {
     "name": "stdout",
     "output_type": "stream",
     "text": [
      "(2610, 2)\n",
      "(291, 2)\n",
      "(2508, 2)\n"
     ]
    }
   ],
   "source": [
    "emo_int_dataset = EmoIntDataset()\n",
    "train_data, test_data = emo_int_dataset.load_data(set_threshold=True)\n",
    "train_data, valid_data = train_test_split(train_data, test_size=0.1, random_state=200, stratify=train_data.emotion)\n",
    "\n",
    "print(train_data.shape)\n",
    "print(valid_data.shape)\n",
    "print(test_data.shape)"
   ]
  },
  {
   "cell_type": "code",
   "execution_count": 0,
   "metadata": {
    "colab": {
     "base_uri": "https://localhost:8080/",
     "height": 53
    },
    "colab_type": "code",
    "id": "J-xXkD_4175U",
    "outputId": "abd86198-fa3a-4c35-eb10-993337f48b8a"
   },
   "outputs": [
    {
     "name": "stdout",
     "output_type": "stream",
     "text": [
      "{'fear': 0, 'anger': 1, 'sadness': 2, 'joy': 3}\n",
      "['fear', 'anger', 'sadness', 'joy']\n"
     ]
    }
   ],
   "source": [
    "emotions = train_data.emotion.unique()\n",
    "dic = dict()\n",
    "labels = []\n",
    "for i, emotion in enumerate(emotions):\n",
    "    dic[emotion]=i\n",
    "    labels.append(emotion)\n",
    "print(dic)\n",
    "print(labels)"
   ]
  },
  {
   "cell_type": "code",
   "execution_count": 0,
   "metadata": {
    "colab": {
     "base_uri": "https://localhost:8080/",
     "height": 35
    },
    "colab_type": "code",
    "id": "yhA_GXLyw1gx",
    "outputId": "6a4c4c00-a630-4af6-a75c-fea4d0a33070"
   },
   "outputs": [
    {
     "name": "stdout",
     "output_type": "stream",
     "text": [
      "Found 8672 unique tokens.\n"
     ]
    }
   ],
   "source": [
    "NUM_WORDS=20000\n",
    "texts = train_data.text\n",
    "tokenizer = Tokenizer(num_words=NUM_WORDS,filters='!\"#$%&()*+,-./:;<=>?@[\\\\]^_`{|}~\\t\\n\\'',\n",
    "                      lower=True)\n",
    "tokenizer.fit_on_texts(texts)\n",
    "sequences_train = tokenizer.texts_to_sequences(texts)\n",
    "sequences_valid = tokenizer.texts_to_sequences(valid_data.text)\n",
    "sequences_test = tokenizer.texts_to_sequences(test_data.text)\n",
    "word_index = tokenizer.word_index\n",
    "print('Found %s unique tokens.' % len(word_index))"
   ]
  },
  {
   "cell_type": "code",
   "execution_count": 0,
   "metadata": {
    "colab": {
     "base_uri": "https://localhost:8080/",
     "height": 53
    },
    "colab_type": "code",
    "id": "f3a8LX2z0Vn3",
    "outputId": "9fe28fe7-328a-4fcb-9872-437ec9683444"
   },
   "outputs": [
    {
     "name": "stdout",
     "output_type": "stream",
     "text": [
      "Shape of X train, validation and test tensor: (2610, 33) (291, 33) (2508, 33)\n",
      "Shape of label train, validation and test tensor: (2610, 4) (291, 4) (2508, 4)\n"
     ]
    }
   ],
   "source": [
    "X_train = pad_sequences(sequences_train)\n",
    "X_val = pad_sequences(sequences_valid, maxlen=X_train.shape[1])\n",
    "X_test = pad_sequences(sequences_test, maxlen=X_train.shape[1])\n",
    "\n",
    "y_train = to_categorical(np.asarray(train_data.emotion.apply(lambda x:dic[x])))\n",
    "y_val = to_categorical(np.asarray(valid_data.emotion.apply(lambda x:dic[x])))\n",
    "y_test = to_categorical(np.asarray(test_data.emotion.apply(lambda x:dic[x])))\n",
    "\n",
    "print('Shape of X train, validation and test tensor:', X_train.shape, X_val.shape, X_test.shape)\n",
    "print('Shape of label train, validation and test tensor:', y_train.shape, y_val.shape, y_test.shape)"
   ]
  },
  {
   "cell_type": "code",
   "execution_count": 0,
   "metadata": {
    "colab": {},
    "colab_type": "code",
    "id": "OZprqF6Yqeoe"
   },
   "outputs": [],
   "source": [
    "drive_directory = \"Colab Notebooks\"\n",
    "save_n_upload_numpy_array(X_train, drive_directory, \"emoint_X_train.npy\")\n",
    "save_n_upload_numpy_array(X_val, drive_directory, \"emoint_X_val.npy\")\n",
    "save_n_upload_numpy_array(X_test, drive_directory, \"emoint_X_test.npy\")\n",
    "\n",
    "save_n_upload_numpy_array(y_train, drive_directory, \"emoint_y_train.npy\")\n",
    "save_n_upload_numpy_array(y_val, drive_directory, \"emoint_y_val.npy\")\n",
    "save_n_upload_numpy_array(y_test, drive_directory, \"emoint_y_test.npy\")"
   ]
  },
  {
   "cell_type": "markdown",
   "metadata": {
    "colab_type": "text",
    "id": "kdMDYkGMF7CA"
   },
   "source": [
    "## Word Embedding using Word2Vec"
   ]
  },
  {
   "cell_type": "code",
   "execution_count": 0,
   "metadata": {
    "colab": {},
    "colab_type": "code",
    "id": "WPzDX7qc6eQx"
   },
   "outputs": [],
   "source": [
    "download_drive_file(\"Datasets\", \"GoogleNews-vectors-negative300.bin.gz\")"
   ]
  },
  {
   "cell_type": "code",
   "execution_count": 0,
   "metadata": {
    "colab": {},
    "colab_type": "code",
    "id": "naD_jPLlmlFq"
   },
   "outputs": [],
   "source": [
    "import gensim\n",
    "from gensim.models import Word2Vec\n",
    "from gensim.utils import simple_preprocess\n",
    "\n",
    "from gensim.models.keyedvectors import KeyedVectors\n",
    "\n",
    "word_vectors = KeyedVectors.load_word2vec_format('GoogleNews-vectors-negative300.bin.gz', binary=True)\n",
    "\n",
    "EMBEDDING_DIM=300\n",
    "vocabulary_size = min(len(word_index)+1, NUM_WORDS)\n",
    "embedding_matrix = np.zeros((vocabulary_size, EMBEDDING_DIM))\n",
    "for word, i in word_index.items():\n",
    "    if i>=NUM_WORDS:\n",
    "        continue\n",
    "    try:\n",
    "        embedding_vector = word_vectors[word]\n",
    "        embedding_matrix[i] = embedding_vector\n",
    "    except KeyError:\n",
    "        embedding_matrix[i] = np.random.normal(0,np.sqrt(0.25), EMBEDDING_DIM)\n",
    "\n",
    "del(word_vectors)"
   ]
  },
  {
   "cell_type": "code",
   "execution_count": 0,
   "metadata": {
    "colab": {},
    "colab_type": "code",
    "id": "aXmsV7sr7Ovh"
   },
   "outputs": [],
   "source": [
    "file_embedded_matrix = \"emoint_embedded_matrix_word2vec.npy\"\n",
    "save_n_upload_numpy_array(embedding_matrix, \"Colab Notebooks\", file_embedded_matrix)"
   ]
  },
  {
   "cell_type": "markdown",
   "metadata": {
    "colab_type": "text",
    "id": "TD731zTjqTI3"
   },
   "source": [
    "## Reload the embedded layer and training dataset"
   ]
  },
  {
   "cell_type": "code",
   "execution_count": 0,
   "metadata": {
    "colab": {
     "base_uri": "https://localhost:8080/",
     "height": 71
    },
    "colab_type": "code",
    "id": "SgGl84NR9Y2Y",
    "outputId": "61b12e65-4402-4a12-c7f8-984d7ba226fb"
   },
   "outputs": [
    {
     "name": "stdout",
     "output_type": "stream",
     "text": [
      "downloading file emoint_embedded_matrix_word2vec.npy, file id 11FmOJypfaaOUqxjfEpdaZW0G7-Qs5yDA\n",
      "downloading file emoint_embedded_matrix_word2vec.npy, file id 1cFCAeIGRXtE_wkW-t_-Z_-ptzSRkavwk\n",
      "embedding matrix shape: (8673, 300)\n"
     ]
    }
   ],
   "source": [
    "file_embedded_matrix = \"emoint_embedded_matrix_word2vec.npy\"\n",
    "download_drive_file(\"Colab Notebooks\", file_embedded_matrix)\n",
    "embedding_matrix = np.load(file_embedded_matrix)\n",
    "print(\"embedding matrix shape:\", embedding_matrix.shape)"
   ]
  },
  {
   "cell_type": "code",
   "execution_count": 0,
   "metadata": {
    "colab": {
     "base_uri": "https://localhost:8080/",
     "height": 557
    },
    "colab_type": "code",
    "id": "txZDRozUyXAQ",
    "outputId": "ed176b31-9088-4236-d632-83748ce4e04a"
   },
   "outputs": [
    {
     "name": "stdout",
     "output_type": "stream",
     "text": [
      "downloading file emoint_X_train.npy, file id 1DNGctnEoSxuOjk4NX95H2sPjO5QJG3zK\n",
      "downloading file emoint_X_train.npy, file id 1Sfzrjds9bwbpidhUj5FU09FX9tPmYSbP\n",
      "downloading file emoint_X_train.npy, file id 1hNAa5pltA2F-lngDrRGsseJymlmJV8uB\n",
      "downloading file emoint_X_train.npy, file id 1IySKG3HZZaBabm8X5_7-HeLhG2h8DwA6\n",
      "downloading file emoint_X_train.npy, file id 1WBHSYesBsMf9-atIMjva6PeTckoQvwNt\n",
      "downloading file emoint_X_val.npy, file id 1gfxnxnUxbFNLgNpXNYGzeR3vcMiAaKlC\n",
      "downloading file emoint_X_val.npy, file id 1wt4-z-kKErILYm-U0jQsFpY9DGQOXryZ\n",
      "downloading file emoint_X_val.npy, file id 1x6EwT9GRrmuwaBrZuSyv0ti59_m16iwB\n",
      "downloading file emoint_X_val.npy, file id 1WL2OKn40zjnZHJA3M0l1caM-udzp0ZOQ\n",
      "downloading file emoint_X_val.npy, file id 1KbkxyL4OLve8_6jpCT3qlLVKr_NcTyxM\n",
      "downloading file emoint_X_test.npy, file id 1XcoZgHVZAxVM_4S-rEcAO15hqhn6AiFr\n",
      "downloading file emoint_X_test.npy, file id 1RfpNialkKT0dBZyvA7v-eRo4WMgZhhql\n",
      "downloading file emoint_X_test.npy, file id 1ulOYckifAMd5pPTNvUyMl0yerS-t_ykj\n",
      "downloading file emoint_X_test.npy, file id 1_Nwt2qXsAoom7tDf0vWwy_OF70O-7pFl\n",
      "downloading file emoint_X_test.npy, file id 10eE9HbzTCnfFsK9LS_Q-PZVXmqZYiIla\n",
      "downloading file emoint_y_train.npy, file id 1WMDn5QcwjeLHQ6m1_ZVhUBkU_ChoLOPD\n",
      "downloading file emoint_y_train.npy, file id 1kk-I_pUH5CraLAO6EiJXUrh7j1bNYANa\n",
      "downloading file emoint_y_train.npy, file id 12O9AYk6-S5V_Q3duVZc_VWXFhY2E5I9x\n",
      "downloading file emoint_y_train.npy, file id 1KMif3hOXmU9mgPvzfowOM1DWpROyGA1J\n",
      "downloading file emoint_y_train.npy, file id 1OaeMr6cgefjv27JIX4oBoCx7Lcc170Pu\n",
      "downloading file emoint_y_val.npy, file id 1jb2jwk4k4FHEyijY1cxZSBlJ0qv7kPVz\n",
      "downloading file emoint_y_val.npy, file id 1sVOajPUodsQDtCOflVlk07ai8msD7FBv\n",
      "downloading file emoint_y_val.npy, file id 14ORBPmqOPbvUmoqNLpHTPwdrIa7PgLZg\n",
      "downloading file emoint_y_val.npy, file id 1gtcwK1eElyn0rSbVODwIygV3CIfrca1i\n",
      "downloading file emoint_y_val.npy, file id 1MdDSJeqKcOamDnQkOV9aozqpHt4zd9Q4\n",
      "downloading file emoint_y_test.npy, file id 1JbcU_ZDHqQmeK7xVTmAz1VaJnGTQri5r\n",
      "downloading file emoint_y_test.npy, file id 1AfPGYYM5V4N_MFgh7-y-XzpcozU6o2f5\n",
      "downloading file emoint_y_test.npy, file id 1VfsjvgbmY3p_T4A2egkchu6kdqmb0Ym2\n",
      "downloading file emoint_y_test.npy, file id 1PiP0Ualc-HmurzFWvvo2Wpps0Jf4-Pt2\n",
      "downloading file emoint_y_test.npy, file id 1M46fsOPEAp1cAwDns2PPK_NESlyN3KUg\n"
     ]
    }
   ],
   "source": [
    "download_drive_file(\"Colab Notebooks\", \"emoint_X_train.npy\")\n",
    "download_drive_file(\"Colab Notebooks\", \"emoint_X_val.npy\")\n",
    "download_drive_file(\"Colab Notebooks\", \"emoint_X_test.npy\")\n",
    "\n",
    "download_drive_file(\"Colab Notebooks\", \"emoint_y_train.npy\")\n",
    "download_drive_file(\"Colab Notebooks\", \"emoint_y_val.npy\")\n",
    "download_drive_file(\"Colab Notebooks\", \"emoint_y_test.npy\")\n",
    "\n",
    "X_train = np.load(\"emoint_X_train.npy\")\n",
    "X_val = np.load(\"emoint_X_val.npy\")\n",
    "X_test = np.load(\"emoint_X_test.npy\")\n",
    "\n",
    "y_train = np.load(\"emoint_y_train.npy\")\n",
    "y_val = np.load(\"emoint_y_val.npy\")\n",
    "y_test = np.load(\"emoint_y_test.npy\")"
   ]
  },
  {
   "cell_type": "code",
   "execution_count": 0,
   "metadata": {
    "colab": {
     "base_uri": "https://localhost:8080/",
     "height": 341
    },
    "colab_type": "code",
    "id": "Q0fX0z7_7Mi5",
    "outputId": "82ec7754-bcbf-44d7-bf24-6a2cd3639bc9"
   },
   "outputs": [
    {
     "name": "stdout",
     "output_type": "stream",
     "text": [
      "sequence length: 33\n",
      "_________________________________________________________________\n",
      "Layer (type)                 Output Shape              Param #   \n",
      "=================================================================\n",
      "input_1 (InputLayer)         (None, 33)                0         \n",
      "_________________________________________________________________\n",
      "embedding (Embedding)        (None, 33, 300)           2601900   \n",
      "_________________________________________________________________\n",
      "spatial_dropout (SpatialDrop (None, 33, 300)           0         \n",
      "_________________________________________________________________\n",
      "bidirectional_1 (Bidirection (None, 1200)              4324800   \n",
      "_________________________________________________________________\n",
      "output (Dense)               (None, 4)                 4804      \n",
      "=================================================================\n",
      "Total params: 6,931,504\n",
      "Trainable params: 6,931,504\n",
      "Non-trainable params: 0\n",
      "_________________________________________________________________\n"
     ]
    }
   ],
   "source": [
    "from keras.layers import Dense, Input, GlobalMaxPooling1D\n",
    "from keras.layers import Conv1D, MaxPooling1D, Embedding\n",
    "from keras.models import Model\n",
    "from keras.layers import Input, Dense, Embedding, Conv2D, MaxPooling2D, Dropout, concatenate, LSTM, SpatialDropout1D, Bidirectional\n",
    "from keras.layers.core import Reshape, Flatten\n",
    "from keras.callbacks import EarlyStopping, ModelCheckpoint\n",
    "from keras.optimizers import Adam, Adadelta, RMSprop\n",
    "from keras.models import Model\n",
    "from keras import regularizers\n",
    "sequence_length = X_train.shape[1]\n",
    "HIDDEN_DIM = 600\n",
    "DROPOUT_RATE = 0.2\n",
    "N_CLASSES = 4\n",
    "vocabulary_size = 8673\n",
    "EMBEDDING_DIM=300\n",
    "\n",
    "print(\"sequence length:\", sequence_length)\n",
    "\n",
    "inputs = Input(shape=(sequence_length,), name='input_1')\n",
    "embedding_layer = Embedding(vocabulary_size, EMBEDDING_DIM, weights=[embedding_matrix], input_length=sequence_length, trainable=True, name='embedding')\n",
    "embedding = embedding_layer(inputs)\n",
    "spatial_droput = SpatialDropout1D(0.4, name='spatial_dropout')(embedding)\n",
    "lstm = Bidirectional(LSTM(units=HIDDEN_DIM, dropout=DROPOUT_RATE, recurrent_dropout=DROPOUT_RATE, name='lstm'))(spatial_droput)\n",
    "output = Dense(units=N_CLASSES, activation='softmax', name='output')(lstm)\n",
    "\n",
    "model = None \n",
    "\n",
    "# this creates a model that includes\n",
    "model = Model(inputs, output)\n",
    "\n",
    "model.summary()"
   ]
  },
  {
   "cell_type": "code",
   "execution_count": 0,
   "metadata": {
    "colab": {
     "base_uri": "https://localhost:8080/",
     "height": 395
    },
    "colab_type": "code",
    "id": "rClQ6sed4JA5",
    "outputId": "20296d37-73a1-466f-99fa-fc6504e99985"
   },
   "outputs": [
    {
     "name": "stdout",
     "output_type": "stream",
     "text": [
      "total 1836376\n",
      "-rw-r--r-- 1 root root       2530 Dec 17 03:53 adc.json\n",
      "drwxr-xr-x 1 root root       4096 Dec 17 03:53 .config\n",
      "-rw-r--r-- 1 root root   55482024 Dec 17 07:15 emoint_bidirectional_lstm_model.h5\n",
      "-rw-r--r-- 1 root root   27745664 Dec 17 07:15 emoint_bidirectional_lstm_weights.h5\n",
      "-rw-r--r-- 1 root root   23748760 Dec 17 07:34 emoint_convnet_model.h5\n",
      "-rw-r--r-- 1 root root   11880960 Dec 17 07:34 emoint_convnet_weights.h5\n",
      "-rw-r--r-- 1 root root   20815328 Dec 17 07:36 emoint_embedded_matrix_word2vec.npy\n",
      "-rw-r--r-- 1 root root   38158376 Dec 17 07:00 emoint_lstm_model.h5\n",
      "-rw-r--r-- 1 root root   19083168 Dec 17 07:00 emoint_lstm_weights.h5\n",
      "-rw-r--r-- 1 root root   23748760 Dec 17 03:57 emoint_model.h5\n",
      "-rw-r--r-- 1 root root   11880960 Dec 17 03:57 emoint_weights.h5\n",
      "-rw-r--r-- 1 root root     331184 Dec 17 07:36 emoint_X_test.npy\n",
      "-rw-r--r-- 1 root root     344648 Dec 17 07:36 emoint_X_train.npy\n",
      "-rw-r--r-- 1 root root      38540 Dec 17 07:36 emoint_X_val.npy\n",
      "-rw-r--r-- 1 root root      40256 Dec 17 07:36 emoint_y_test.npy\n",
      "-rw-r--r-- 1 root root      41888 Dec 17 07:36 emoint_y_train.npy\n",
      "-rw-r--r-- 1 root root       4784 Dec 17 07:36 emoint_y_val.npy\n",
      "-rw-r--r-- 1 root root 1647046227 Dec 17 06:56 GoogleNews-vectors-negative300.bin.gz\n",
      "drwxr-xr-x 1 root root       4096 Dec 10 17:34 sample_data\n",
      "drwxr-xr-x 2 root root       4096 Dec 17 07:37 tmp\n"
     ]
    }
   ],
   "source": [
    "!rm -r tmp\n",
    "!mkdir tmp\n",
    "!ls -lA"
   ]
  },
  {
   "cell_type": "markdown",
   "metadata": {
    "colab_type": "text",
    "id": "oDBXlEv4_0bG"
   },
   "source": [
    "## Two-steps training"
   ]
  },
  {
   "cell_type": "code",
   "execution_count": 0,
   "metadata": {
    "colab": {
     "base_uri": "https://localhost:8080/",
     "height": 4283
    },
    "colab_type": "code",
    "id": "HHZ1POD77GRp",
    "outputId": "0864429c-6681-43a6-bd68-9bc6099c55e2"
   },
   "outputs": [
    {
     "name": "stdout",
     "output_type": "stream",
     "text": [
      "Train on 2610 samples, validate on 291 samples\n",
      "Epoch 1/100\n",
      "2610/2610 [==============================] - 6s 2ms/step - loss: 1.3674 - acc: 0.3011 - val_loss: 1.2607 - val_acc: 0.5464\n",
      "\n",
      "Epoch 00001: val_acc improved from -inf to 0.54639, saving model to tmp/weights-01-0.55.hdf5\n",
      "Epoch 2/100\n",
      "2610/2610 [==============================] - 2s 905us/step - loss: 1.4675 - acc: 0.4157 - val_loss: 1.3781 - val_acc: 0.2852\n",
      "\n",
      "Epoch 00002: val_acc did not improve from 0.54639\n",
      "Epoch 3/100\n",
      "2610/2610 [==============================] - 2s 911us/step - loss: 1.2841 - acc: 0.4510 - val_loss: 1.2207 - val_acc: 0.5670\n",
      "\n",
      "Epoch 00003: val_acc improved from 0.54639 to 0.56701, saving model to tmp/weights-03-0.57.hdf5\n",
      "Epoch 4/100\n",
      "2610/2610 [==============================] - 2s 900us/step - loss: 1.1777 - acc: 0.5747 - val_loss: 1.1556 - val_acc: 0.5670\n",
      "\n",
      "Epoch 00004: val_acc did not improve from 0.56701\n",
      "Epoch 5/100\n",
      "2610/2610 [==============================] - 2s 909us/step - loss: 1.0818 - acc: 0.5912 - val_loss: 1.1028 - val_acc: 0.5361\n",
      "\n",
      "Epoch 00005: val_acc did not improve from 0.56701\n",
      "Epoch 6/100\n",
      "2610/2610 [==============================] - 2s 907us/step - loss: 1.0680 - acc: 0.5590 - val_loss: 1.0378 - val_acc: 0.6392\n",
      "\n",
      "Epoch 00006: val_acc improved from 0.56701 to 0.63918, saving model to tmp/weights-06-0.64.hdf5\n",
      "Epoch 7/100\n",
      "2610/2610 [==============================] - 2s 906us/step - loss: 0.9340 - acc: 0.6709 - val_loss: 1.1005 - val_acc: 0.5533\n",
      "\n",
      "Epoch 00007: val_acc did not improve from 0.63918\n",
      "Epoch 8/100\n",
      "2610/2610 [==============================] - 2s 919us/step - loss: 0.9525 - acc: 0.6437 - val_loss: 0.8989 - val_acc: 0.7320\n",
      "\n",
      "Epoch 00008: val_acc improved from 0.63918 to 0.73196, saving model to tmp/weights-08-0.73.hdf5\n",
      "Epoch 9/100\n",
      "2610/2610 [==============================] - 2s 910us/step - loss: 0.8017 - acc: 0.7287 - val_loss: 0.8872 - val_acc: 0.6942\n",
      "\n",
      "Epoch 00009: val_acc did not improve from 0.73196\n",
      "Epoch 10/100\n",
      "2610/2610 [==============================] - 2s 913us/step - loss: 0.7522 - acc: 0.7203 - val_loss: 0.7782 - val_acc: 0.7423\n",
      "\n",
      "Epoch 00010: val_acc improved from 0.73196 to 0.74227, saving model to tmp/weights-10-0.74.hdf5\n",
      "Epoch 11/100\n",
      "2610/2610 [==============================] - 2s 919us/step - loss: 0.6229 - acc: 0.7766 - val_loss: 0.8110 - val_acc: 0.7010\n",
      "\n",
      "Epoch 00011: val_acc did not improve from 0.74227\n",
      "Epoch 12/100\n",
      "2610/2610 [==============================] - 2s 916us/step - loss: 0.6397 - acc: 0.7774 - val_loss: 0.6983 - val_acc: 0.7491\n",
      "\n",
      "Epoch 00012: val_acc improved from 0.74227 to 0.74914, saving model to tmp/weights-12-0.75.hdf5\n",
      "Epoch 13/100\n",
      "2610/2610 [==============================] - 2s 908us/step - loss: 0.5654 - acc: 0.8034 - val_loss: 0.6730 - val_acc: 0.8110\n",
      "\n",
      "Epoch 00013: val_acc improved from 0.74914 to 0.81100, saving model to tmp/weights-13-0.81.hdf5\n",
      "Epoch 14/100\n",
      "2610/2610 [==============================] - 2s 912us/step - loss: 1.2294 - acc: 0.7238 - val_loss: 1.8567 - val_acc: 0.5258\n",
      "\n",
      "Epoch 00014: val_acc did not improve from 0.81100\n",
      "Epoch 15/100\n",
      "2610/2610 [==============================] - 2s 925us/step - loss: 1.2054 - acc: 0.6467 - val_loss: 0.8155 - val_acc: 0.7216\n",
      "\n",
      "Epoch 00015: val_acc did not improve from 0.81100\n",
      "Epoch 16/100\n",
      "2610/2610 [==============================] - 2s 919us/step - loss: 0.6975 - acc: 0.7594 - val_loss: 0.7286 - val_acc: 0.7732\n",
      "\n",
      "Epoch 00016: val_acc did not improve from 0.81100\n",
      "Epoch 17/100\n",
      "2610/2610 [==============================] - 2s 921us/step - loss: 0.5539 - acc: 0.8253 - val_loss: 0.6374 - val_acc: 0.8144\n",
      "\n",
      "Epoch 00017: val_acc improved from 0.81100 to 0.81443, saving model to tmp/weights-17-0.81.hdf5\n",
      "Epoch 18/100\n",
      "2610/2610 [==============================] - 2s 915us/step - loss: 0.4618 - acc: 0.8460 - val_loss: 0.6043 - val_acc: 0.8110\n",
      "\n",
      "Epoch 00018: val_acc did not improve from 0.81443\n",
      "Epoch 19/100\n",
      "2610/2610 [==============================] - 2s 913us/step - loss: 0.3732 - acc: 0.8835 - val_loss: 0.5922 - val_acc: 0.7973\n",
      "\n",
      "Epoch 00019: val_acc did not improve from 0.81443\n",
      "Epoch 20/100\n",
      "2610/2610 [==============================] - 2s 908us/step - loss: 0.4054 - acc: 0.8709 - val_loss: 0.5663 - val_acc: 0.8351\n",
      "\n",
      "Epoch 00020: val_acc improved from 0.81443 to 0.83505, saving model to tmp/weights-20-0.84.hdf5\n",
      "Epoch 21/100\n",
      "2610/2610 [==============================] - 2s 911us/step - loss: 0.3161 - acc: 0.9011 - val_loss: 0.5032 - val_acc: 0.8488\n",
      "\n",
      "Epoch 00021: val_acc improved from 0.83505 to 0.84880, saving model to tmp/weights-21-0.85.hdf5\n",
      "Epoch 22/100\n",
      "2610/2610 [==============================] - 2s 919us/step - loss: 0.2699 - acc: 0.9153 - val_loss: 0.5149 - val_acc: 0.8351\n",
      "\n",
      "Epoch 00022: val_acc did not improve from 0.84880\n",
      "Epoch 23/100\n",
      "2610/2610 [==============================] - 2s 919us/step - loss: 0.3212 - acc: 0.8839 - val_loss: 0.5486 - val_acc: 0.7938\n",
      "\n",
      "Epoch 00023: val_acc did not improve from 0.84880\n",
      "Epoch 24/100\n",
      "2610/2610 [==============================] - 2s 918us/step - loss: 0.3179 - acc: 0.8969 - val_loss: 0.4939 - val_acc: 0.8522\n",
      "\n",
      "Epoch 00024: val_acc improved from 0.84880 to 0.85223, saving model to tmp/weights-24-0.85.hdf5\n",
      "Epoch 25/100\n",
      "2610/2610 [==============================] - 2s 912us/step - loss: 0.2199 - acc: 0.9429 - val_loss: 0.4999 - val_acc: 0.8625\n",
      "\n",
      "Epoch 00025: val_acc improved from 0.85223 to 0.86254, saving model to tmp/weights-25-0.86.hdf5\n",
      "Epoch 26/100\n",
      "2610/2610 [==============================] - 2s 917us/step - loss: 0.2000 - acc: 0.9349 - val_loss: 0.5550 - val_acc: 0.8110\n",
      "\n",
      "Epoch 00026: val_acc did not improve from 0.86254\n",
      "Epoch 27/100\n",
      "2610/2610 [==============================] - 2s 922us/step - loss: 0.2423 - acc: 0.9261 - val_loss: 0.4439 - val_acc: 0.8660\n",
      "\n",
      "Epoch 00027: val_acc improved from 0.86254 to 0.86598, saving model to tmp/weights-27-0.87.hdf5\n",
      "Epoch 28/100\n",
      "2610/2610 [==============================] - 2s 912us/step - loss: 0.2091 - acc: 0.9299 - val_loss: 0.5190 - val_acc: 0.8316\n",
      "\n",
      "Epoch 00028: val_acc did not improve from 0.86598\n",
      "Epoch 29/100\n",
      "2610/2610 [==============================] - 2s 919us/step - loss: 0.2228 - acc: 0.9238 - val_loss: 0.4990 - val_acc: 0.8385\n",
      "\n",
      "Epoch 00029: val_acc did not improve from 0.86598\n",
      "Epoch 30/100\n",
      "2610/2610 [==============================] - 2s 914us/step - loss: 0.1744 - acc: 0.9456 - val_loss: 0.4302 - val_acc: 0.8694\n",
      "\n",
      "Epoch 00030: val_acc improved from 0.86598 to 0.86942, saving model to tmp/weights-30-0.87.hdf5\n",
      "Epoch 31/100\n",
      "2610/2610 [==============================] - 2s 910us/step - loss: 0.1633 - acc: 0.9475 - val_loss: 0.4921 - val_acc: 0.8660\n",
      "\n",
      "Epoch 00031: val_acc did not improve from 0.86942\n",
      "Epoch 32/100\n",
      "2610/2610 [==============================] - 2s 913us/step - loss: 0.2084 - acc: 0.9299 - val_loss: 0.5224 - val_acc: 0.8282\n",
      "\n",
      "Epoch 00032: val_acc did not improve from 0.86942\n",
      "Epoch 33/100\n",
      "2610/2610 [==============================] - 2s 915us/step - loss: 0.1997 - acc: 0.9349 - val_loss: 0.4527 - val_acc: 0.8591\n",
      "\n",
      "Epoch 00033: val_acc did not improve from 0.86942\n",
      "Epoch 34/100\n",
      "2610/2610 [==============================] - 2s 912us/step - loss: 0.1244 - acc: 0.9617 - val_loss: 0.4742 - val_acc: 0.8660\n",
      "\n",
      "Epoch 00034: val_acc did not improve from 0.86942\n",
      "Epoch 35/100\n",
      "2610/2610 [==============================] - 2s 916us/step - loss: 0.1635 - acc: 0.9471 - val_loss: 0.4465 - val_acc: 0.8557\n",
      "\n",
      "Epoch 00035: val_acc did not improve from 0.86942\n",
      "Epoch 36/100\n",
      "2610/2610 [==============================] - 2s 916us/step - loss: 0.1251 - acc: 0.9655 - val_loss: 0.4355 - val_acc: 0.8763\n",
      "\n",
      "Epoch 00036: val_acc improved from 0.86942 to 0.87629, saving model to tmp/weights-36-0.88.hdf5\n",
      "Epoch 37/100\n",
      "2610/2610 [==============================] - 2s 910us/step - loss: 0.0917 - acc: 0.9716 - val_loss: 0.4438 - val_acc: 0.8522\n",
      "\n",
      "Epoch 00037: val_acc did not improve from 0.87629\n",
      "Epoch 38/100\n",
      "2610/2610 [==============================] - 2s 913us/step - loss: 0.1381 - acc: 0.9490 - val_loss: 0.4311 - val_acc: 0.8694\n",
      "\n",
      "Epoch 00038: val_acc did not improve from 0.87629\n",
      "Epoch 39/100\n",
      "2610/2610 [==============================] - 2s 915us/step - loss: 0.1281 - acc: 0.9594 - val_loss: 0.4184 - val_acc: 0.8729\n",
      "\n",
      "Epoch 00039: val_acc did not improve from 0.87629\n",
      "Epoch 40/100\n",
      "2610/2610 [==============================] - 2s 922us/step - loss: 0.0861 - acc: 0.9713 - val_loss: 0.4756 - val_acc: 0.8660\n",
      "\n",
      "Epoch 00040: val_acc did not improve from 0.87629\n",
      "Epoch 41/100\n",
      "2610/2610 [==============================] - 2s 916us/step - loss: 0.0991 - acc: 0.9716 - val_loss: 0.4202 - val_acc: 0.8866\n",
      "\n",
      "Epoch 00041: val_acc improved from 0.87629 to 0.88660, saving model to tmp/weights-41-0.89.hdf5\n",
      "Epoch 42/100\n",
      "2610/2610 [==============================] - 2s 909us/step - loss: 0.0697 - acc: 0.9793 - val_loss: 0.4331 - val_acc: 0.8591\n",
      "\n",
      "Epoch 00042: val_acc did not improve from 0.88660\n",
      "Epoch 43/100\n",
      "2610/2610 [==============================] - 2s 915us/step - loss: 0.0849 - acc: 0.9705 - val_loss: 0.5424 - val_acc: 0.8385\n",
      "\n",
      "Epoch 00043: val_acc did not improve from 0.88660\n",
      "Epoch 44/100\n",
      "2610/2610 [==============================] - 2s 917us/step - loss: 0.1479 - acc: 0.9506 - val_loss: 0.4751 - val_acc: 0.8351\n",
      "\n",
      "Epoch 00044: val_acc did not improve from 0.88660\n",
      "Epoch 45/100\n",
      "2610/2610 [==============================] - 2s 916us/step - loss: 0.1113 - acc: 0.9667 - val_loss: 0.4260 - val_acc: 0.8797\n",
      "\n",
      "Epoch 00045: val_acc did not improve from 0.88660\n",
      "Epoch 46/100\n",
      "2610/2610 [==============================] - 2s 917us/step - loss: 0.0639 - acc: 0.9778 - val_loss: 0.4316 - val_acc: 0.8935\n",
      "\n",
      "Epoch 00046: val_acc improved from 0.88660 to 0.89347, saving model to tmp/weights-46-0.89.hdf5\n",
      "Epoch 47/100\n",
      "2610/2610 [==============================] - 2s 915us/step - loss: 0.0756 - acc: 0.9716 - val_loss: 0.4358 - val_acc: 0.8625\n",
      "\n",
      "Epoch 00047: val_acc did not improve from 0.89347\n",
      "Epoch 48/100\n",
      "2610/2610 [==============================] - 2s 916us/step - loss: 0.0818 - acc: 0.9736 - val_loss: 0.4223 - val_acc: 0.8797\n",
      "\n",
      "Epoch 00048: val_acc did not improve from 0.89347\n",
      "Epoch 49/100\n",
      "2610/2610 [==============================] - 2s 921us/step - loss: 0.0577 - acc: 0.9805 - val_loss: 0.4052 - val_acc: 0.8832\n",
      "\n",
      "Epoch 00049: val_acc did not improve from 0.89347\n",
      "Epoch 50/100\n",
      "2610/2610 [==============================] - 2s 914us/step - loss: 0.0719 - acc: 0.9770 - val_loss: 0.4686 - val_acc: 0.8660\n",
      "\n",
      "Epoch 00050: val_acc did not improve from 0.89347\n",
      "Epoch 51/100\n",
      "2610/2610 [==============================] - 2s 916us/step - loss: 0.0665 - acc: 0.9793 - val_loss: 0.4233 - val_acc: 0.8660\n",
      "\n",
      "Epoch 00051: val_acc did not improve from 0.89347\n",
      "Epoch 52/100\n",
      "2610/2610 [==============================] - 2s 915us/step - loss: 0.0541 - acc: 0.9839 - val_loss: 0.4655 - val_acc: 0.8694\n",
      "\n",
      "Epoch 00052: val_acc did not improve from 0.89347\n",
      "Epoch 53/100\n",
      "2610/2610 [==============================] - 2s 915us/step - loss: 0.0495 - acc: 0.9847 - val_loss: 0.4663 - val_acc: 0.8625\n",
      "\n",
      "Epoch 00053: val_acc did not improve from 0.89347\n",
      "Epoch 54/100\n",
      "2610/2610 [==============================] - 2s 912us/step - loss: 0.0440 - acc: 0.9866 - val_loss: 0.4538 - val_acc: 0.8763\n",
      "\n",
      "Epoch 00054: val_acc did not improve from 0.89347\n",
      "Epoch 55/100\n",
      "2610/2610 [==============================] - 2s 917us/step - loss: 0.0478 - acc: 0.9851 - val_loss: 0.4293 - val_acc: 0.8694\n",
      "\n",
      "Epoch 00055: val_acc did not improve from 0.89347\n",
      "Epoch 56/100\n",
      "2610/2610 [==============================] - 2s 910us/step - loss: 0.0734 - acc: 0.9766 - val_loss: 0.4473 - val_acc: 0.8660\n",
      "\n",
      "Epoch 00056: val_acc did not improve from 0.89347\n",
      "Epoch 57/100\n",
      "2610/2610 [==============================] - 2s 913us/step - loss: 0.0496 - acc: 0.9820 - val_loss: 0.4502 - val_acc: 0.8694\n",
      "\n",
      "Epoch 00057: val_acc did not improve from 0.89347\n",
      "Epoch 58/100\n",
      "2610/2610 [==============================] - 2s 915us/step - loss: 0.0939 - acc: 0.9651 - val_loss: 0.4486 - val_acc: 0.8729\n",
      "\n",
      "Epoch 00058: val_acc did not improve from 0.89347\n",
      "Epoch 59/100\n",
      "2610/2610 [==============================] - 2s 920us/step - loss: 0.0494 - acc: 0.9847 - val_loss: 0.4080 - val_acc: 0.8866\n",
      "\n",
      "Epoch 00059: val_acc did not improve from 0.89347\n"
     ]
    }
   ],
   "source": [
    "adam = Adam(lr=1e-3, decay=0.0)\n",
    "adadelta = Adadelta(lr=1.0, rho=0.95, epsilon=None, decay=0.0)\n",
    "rmsprop = RMSprop(lr=0.001, rho=0.9, epsilon=None, decay=0.0)\n",
    "\n",
    "model.compile(loss='categorical_crossentropy', optimizer=rmsprop, metrics=['acc'])\n",
    "\n",
    "filepath=\"tmp/weights-{epoch:02d}-{val_acc:.2f}.hdf5\"\n",
    "model_checkpoint = ModelCheckpoint(filepath, monitor='val_acc', verbose=1, save_best_only=True, mode='auto')\n",
    "early_stopping = EarlyStopping(monitor='val_loss', patience=10)\n",
    "callbacks = [early_stopping, model_checkpoint]\n",
    "\n",
    "history = model.fit(X_train, y_train, batch_size=1000, epochs=100, verbose=1, validation_data=(X_val, y_val), callbacks=callbacks)  # starts training"
   ]
  },
  {
   "cell_type": "code",
   "execution_count": 0,
   "metadata": {
    "colab": {
     "base_uri": "https://localhost:8080/",
     "height": 3131
    },
    "colab_type": "code",
    "id": "8yc2upLU_4Zl",
    "outputId": "a7ddec7e-dee1-4d2f-a9ca-777efc145578"
   },
   "outputs": [
    {
     "name": "stdout",
     "output_type": "stream",
     "text": [
      "Train on 2901 samples, validate on 291 samples\n",
      "Epoch 1/100\n",
      "2901/2901 [==============================] - 3s 896us/step - loss: 0.1000 - acc: 0.9686 - val_loss: 0.4029 - val_acc: 0.8866\n",
      "\n",
      "Epoch 00001: val_acc did not improve from 0.89347\n",
      "Epoch 2/100\n",
      "2901/2901 [==============================] - 3s 894us/step - loss: 0.1124 - acc: 0.9593 - val_loss: 0.2709 - val_acc: 0.9210\n",
      "\n",
      "Epoch 00002: val_acc improved from 0.89347 to 0.92096, saving model to tmp/weights-02-0.92.hdf5\n",
      "Epoch 3/100\n",
      "2901/2901 [==============================] - 3s 894us/step - loss: 0.0794 - acc: 0.9717 - val_loss: 0.2203 - val_acc: 0.9313\n",
      "\n",
      "Epoch 00003: val_acc improved from 0.92096 to 0.93127, saving model to tmp/weights-03-0.93.hdf5\n",
      "Epoch 4/100\n",
      "2901/2901 [==============================] - 3s 898us/step - loss: 0.0658 - acc: 0.9741 - val_loss: 0.1913 - val_acc: 0.9416\n",
      "\n",
      "Epoch 00004: val_acc improved from 0.93127 to 0.94158, saving model to tmp/weights-04-0.94.hdf5\n",
      "Epoch 5/100\n",
      "2901/2901 [==============================] - 3s 892us/step - loss: 0.0605 - acc: 0.9797 - val_loss: 0.1588 - val_acc: 0.9450\n",
      "\n",
      "Epoch 00005: val_acc improved from 0.94158 to 0.94502, saving model to tmp/weights-05-0.95.hdf5\n",
      "Epoch 6/100\n",
      "2901/2901 [==============================] - 3s 893us/step - loss: 0.0699 - acc: 0.9738 - val_loss: 0.1794 - val_acc: 0.9485\n",
      "\n",
      "Epoch 00006: val_acc improved from 0.94502 to 0.94845, saving model to tmp/weights-06-0.95.hdf5\n",
      "Epoch 7/100\n",
      "2901/2901 [==============================] - 3s 894us/step - loss: 0.0569 - acc: 0.9835 - val_loss: 0.1201 - val_acc: 0.9553\n",
      "\n",
      "Epoch 00007: val_acc improved from 0.94845 to 0.95533, saving model to tmp/weights-07-0.96.hdf5\n",
      "Epoch 8/100\n",
      "2901/2901 [==============================] - 3s 893us/step - loss: 0.0560 - acc: 0.9800 - val_loss: 0.1147 - val_acc: 0.9553\n",
      "\n",
      "Epoch 00008: val_acc did not improve from 0.95533\n",
      "Epoch 9/100\n",
      "2901/2901 [==============================] - 3s 896us/step - loss: 0.0541 - acc: 0.9807 - val_loss: 0.1114 - val_acc: 0.9485\n",
      "\n",
      "Epoch 00009: val_acc did not improve from 0.95533\n",
      "Epoch 10/100\n",
      "2901/2901 [==============================] - 3s 898us/step - loss: 0.0588 - acc: 0.9817 - val_loss: 0.0971 - val_acc: 0.9656\n",
      "\n",
      "Epoch 00010: val_acc improved from 0.95533 to 0.96564, saving model to tmp/weights-10-0.97.hdf5\n",
      "Epoch 11/100\n",
      "2901/2901 [==============================] - 3s 897us/step - loss: 0.0488 - acc: 0.9817 - val_loss: 0.0839 - val_acc: 0.9691\n",
      "\n",
      "Epoch 00011: val_acc improved from 0.96564 to 0.96907, saving model to tmp/weights-11-0.97.hdf5\n",
      "Epoch 12/100\n",
      "2901/2901 [==============================] - 3s 893us/step - loss: 0.0671 - acc: 0.9762 - val_loss: 0.0877 - val_acc: 0.9656\n",
      "\n",
      "Epoch 00012: val_acc did not improve from 0.96907\n",
      "Epoch 13/100\n",
      "2901/2901 [==============================] - 3s 893us/step - loss: 0.0443 - acc: 0.9835 - val_loss: 0.0695 - val_acc: 0.9691\n",
      "\n",
      "Epoch 00013: val_acc did not improve from 0.96907\n",
      "Epoch 14/100\n",
      "2901/2901 [==============================] - 3s 898us/step - loss: 0.0423 - acc: 0.9848 - val_loss: 0.0705 - val_acc: 0.9725\n",
      "\n",
      "Epoch 00014: val_acc improved from 0.96907 to 0.97251, saving model to tmp/weights-14-0.97.hdf5\n",
      "Epoch 15/100\n",
      "2901/2901 [==============================] - 3s 895us/step - loss: 0.0479 - acc: 0.9821 - val_loss: 0.0778 - val_acc: 0.9691\n",
      "\n",
      "Epoch 00015: val_acc did not improve from 0.97251\n",
      "Epoch 16/100\n",
      "2901/2901 [==============================] - 3s 898us/step - loss: 0.0436 - acc: 0.9859 - val_loss: 0.0512 - val_acc: 0.9794\n",
      "\n",
      "Epoch 00016: val_acc improved from 0.97251 to 0.97938, saving model to tmp/weights-16-0.98.hdf5\n",
      "Epoch 17/100\n",
      "2901/2901 [==============================] - 3s 895us/step - loss: 0.0512 - acc: 0.9786 - val_loss: 0.0615 - val_acc: 0.9828\n",
      "\n",
      "Epoch 00017: val_acc improved from 0.97938 to 0.98282, saving model to tmp/weights-17-0.98.hdf5\n",
      "Epoch 18/100\n",
      "2901/2901 [==============================] - 3s 897us/step - loss: 0.0711 - acc: 0.9755 - val_loss: 0.0883 - val_acc: 0.9759\n",
      "\n",
      "Epoch 00018: val_acc did not improve from 0.98282\n",
      "Epoch 19/100\n",
      "2901/2901 [==============================] - 3s 904us/step - loss: 0.0430 - acc: 0.9838 - val_loss: 0.0573 - val_acc: 0.9794\n",
      "\n",
      "Epoch 00019: val_acc did not improve from 0.98282\n",
      "Epoch 20/100\n",
      "2901/2901 [==============================] - 3s 895us/step - loss: 0.0364 - acc: 0.9835 - val_loss: 0.0460 - val_acc: 0.9759\n",
      "\n",
      "Epoch 00020: val_acc did not improve from 0.98282\n",
      "Epoch 21/100\n",
      "2901/2901 [==============================] - 3s 898us/step - loss: 0.0401 - acc: 0.9848 - val_loss: 0.0586 - val_acc: 0.9759\n",
      "\n",
      "Epoch 00021: val_acc did not improve from 0.98282\n",
      "Epoch 22/100\n",
      "2901/2901 [==============================] - 3s 897us/step - loss: 0.0399 - acc: 0.9824 - val_loss: 0.0368 - val_acc: 0.9897\n",
      "\n",
      "Epoch 00022: val_acc improved from 0.98282 to 0.98969, saving model to tmp/weights-22-0.99.hdf5\n",
      "Epoch 23/100\n",
      "2901/2901 [==============================] - 3s 895us/step - loss: 0.0377 - acc: 0.9841 - val_loss: 0.0369 - val_acc: 0.9828\n",
      "\n",
      "Epoch 00023: val_acc did not improve from 0.98969\n",
      "Epoch 24/100\n",
      "2901/2901 [==============================] - 3s 890us/step - loss: 0.0341 - acc: 0.9859 - val_loss: 0.0553 - val_acc: 0.9725\n",
      "\n",
      "Epoch 00024: val_acc did not improve from 0.98969\n",
      "Epoch 25/100\n",
      "2901/2901 [==============================] - 3s 895us/step - loss: 0.0485 - acc: 0.9821 - val_loss: 0.0503 - val_acc: 0.9794\n",
      "\n",
      "Epoch 00025: val_acc did not improve from 0.98969\n",
      "Epoch 26/100\n",
      "2901/2901 [==============================] - 3s 896us/step - loss: 0.0361 - acc: 0.9866 - val_loss: 0.0471 - val_acc: 0.9725\n",
      "\n",
      "Epoch 00026: val_acc did not improve from 0.98969\n",
      "Epoch 27/100\n",
      "2901/2901 [==============================] - 3s 897us/step - loss: 0.0287 - acc: 0.9876 - val_loss: 0.0384 - val_acc: 0.9794\n",
      "\n",
      "Epoch 00027: val_acc did not improve from 0.98969\n",
      "Epoch 28/100\n",
      "2901/2901 [==============================] - 3s 895us/step - loss: 0.0349 - acc: 0.9855 - val_loss: 0.0435 - val_acc: 0.9828\n",
      "\n",
      "Epoch 00028: val_acc did not improve from 0.98969\n",
      "Epoch 29/100\n",
      "2901/2901 [==============================] - 3s 898us/step - loss: 0.0432 - acc: 0.9841 - val_loss: 0.0446 - val_acc: 0.9828\n",
      "\n",
      "Epoch 00029: val_acc did not improve from 0.98969\n",
      "Epoch 30/100\n",
      "2901/2901 [==============================] - 3s 897us/step - loss: 0.0347 - acc: 0.9852 - val_loss: 0.0349 - val_acc: 0.9828\n",
      "\n",
      "Epoch 00030: val_acc did not improve from 0.98969\n",
      "Epoch 31/100\n",
      "2901/2901 [==============================] - 3s 895us/step - loss: 0.0351 - acc: 0.9828 - val_loss: 0.0525 - val_acc: 0.9794\n",
      "\n",
      "Epoch 00031: val_acc did not improve from 0.98969\n",
      "Epoch 32/100\n",
      "2901/2901 [==============================] - 3s 894us/step - loss: 0.0439 - acc: 0.9835 - val_loss: 0.0338 - val_acc: 0.9863\n",
      "\n",
      "Epoch 00032: val_acc did not improve from 0.98969\n",
      "Epoch 33/100\n",
      "2901/2901 [==============================] - 3s 894us/step - loss: 0.0362 - acc: 0.9828 - val_loss: 0.0318 - val_acc: 0.9863\n",
      "\n",
      "Epoch 00033: val_acc did not improve from 0.98969\n",
      "Epoch 34/100\n",
      "2901/2901 [==============================] - 3s 898us/step - loss: 0.0311 - acc: 0.9879 - val_loss: 0.0339 - val_acc: 0.9794\n",
      "\n",
      "Epoch 00034: val_acc did not improve from 0.98969\n",
      "Epoch 35/100\n",
      "2901/2901 [==============================] - 3s 900us/step - loss: 0.0327 - acc: 0.9838 - val_loss: 0.0351 - val_acc: 0.9828\n",
      "\n",
      "Epoch 00035: val_acc did not improve from 0.98969\n",
      "Epoch 36/100\n",
      "2901/2901 [==============================] - 3s 892us/step - loss: 0.0284 - acc: 0.9862 - val_loss: 0.0323 - val_acc: 0.9828\n",
      "\n",
      "Epoch 00036: val_acc did not improve from 0.98969\n",
      "Epoch 37/100\n",
      "2901/2901 [==============================] - 3s 900us/step - loss: 0.0293 - acc: 0.9866 - val_loss: 0.0379 - val_acc: 0.9759\n",
      "\n",
      "Epoch 00037: val_acc did not improve from 0.98969\n",
      "Epoch 38/100\n",
      "2901/2901 [==============================] - 3s 897us/step - loss: 0.0319 - acc: 0.9855 - val_loss: 0.0426 - val_acc: 0.9759\n",
      "\n",
      "Epoch 00038: val_acc did not improve from 0.98969\n",
      "Epoch 39/100\n",
      "2901/2901 [==============================] - 3s 898us/step - loss: 0.0396 - acc: 0.9817 - val_loss: 0.0687 - val_acc: 0.9691\n",
      "\n",
      "Epoch 00039: val_acc did not improve from 0.98969\n",
      "Epoch 40/100\n",
      "2901/2901 [==============================] - 3s 898us/step - loss: 0.0581 - acc: 0.9786 - val_loss: 0.0511 - val_acc: 0.9794\n",
      "\n",
      "Epoch 00040: val_acc did not improve from 0.98969\n",
      "Epoch 41/100\n",
      "2901/2901 [==============================] - 3s 900us/step - loss: 0.0401 - acc: 0.9835 - val_loss: 0.0351 - val_acc: 0.9794\n",
      "\n",
      "Epoch 00041: val_acc did not improve from 0.98969\n",
      "Epoch 42/100\n",
      "2901/2901 [==============================] - 3s 893us/step - loss: 0.0310 - acc: 0.9859 - val_loss: 0.0360 - val_acc: 0.9794\n",
      "\n",
      "Epoch 00042: val_acc did not improve from 0.98969\n",
      "Epoch 43/100\n",
      "2901/2901 [==============================] - 3s 893us/step - loss: 0.0306 - acc: 0.9855 - val_loss: 0.0414 - val_acc: 0.9759\n",
      "\n",
      "Epoch 00043: val_acc did not improve from 0.98969\n"
     ]
    }
   ],
   "source": [
    "X_train_combined = np.concatenate((X_train, X_val))\n",
    "y_train_combined = np.concatenate((y_train, y_val))\n",
    "\n",
    "history = model.fit(X_train_combined, y_train_combined, batch_size=1000, epochs=100, verbose=1, validation_data=(X_val, y_val), callbacks=callbacks)  # starts training"
   ]
  },
  {
   "cell_type": "code",
   "execution_count": 0,
   "metadata": {
    "colab": {},
    "colab_type": "code",
    "id": "OtGrA8RBKShg"
   },
   "outputs": [],
   "source": [
    "model_path = 'emoint_bidirectional_lstm_model.h5'\n",
    "weight_path = 'emoint_bidirectional_lstm_weights.h5'\n",
    "\n",
    "model.save(model_path)\n",
    "model.save_weights(weight_path)"
   ]
  },
  {
   "cell_type": "code",
   "execution_count": 0,
   "metadata": {
    "colab": {
     "base_uri": "https://localhost:8080/",
     "height": 431
    },
    "colab_type": "code",
    "id": "eFzd1urtKeFw",
    "outputId": "01a74e98-8890-44ae-caa8-7cd95bcaa8b2"
   },
   "outputs": [
    {
     "name": "stdout",
     "output_type": "stream",
     "text": [
      "total 1.8G\n",
      "drwxr-xr-x 1 root root 4.0K Dec 17 07:37 .\n",
      "drwxr-xr-x 1 root root 4.0K Dec 17 03:52 ..\n",
      "-rw-r--r-- 1 root root 2.5K Dec 17 03:53 adc.json\n",
      "drwxr-xr-x 1 root root 4.0K Dec 17 03:53 .config\n",
      "-rw-r--r-- 1 root root  53M Dec 17 07:41 emoint_bidirectional_lstm_model.h5\n",
      "-rw-r--r-- 1 root root  27M Dec 17 07:41 emoint_bidirectional_lstm_weights.h5\n",
      "-rw-r--r-- 1 root root  23M Dec 17 07:34 emoint_convnet_model.h5\n",
      "-rw-r--r-- 1 root root  12M Dec 17 07:34 emoint_convnet_weights.h5\n",
      "-rw-r--r-- 1 root root  20M Dec 17 07:36 emoint_embedded_matrix_word2vec.npy\n",
      "-rw-r--r-- 1 root root  37M Dec 17 07:00 emoint_lstm_model.h5\n",
      "-rw-r--r-- 1 root root  19M Dec 17 07:00 emoint_lstm_weights.h5\n",
      "-rw-r--r-- 1 root root  23M Dec 17 03:57 emoint_model.h5\n",
      "-rw-r--r-- 1 root root  12M Dec 17 03:57 emoint_weights.h5\n",
      "-rw-r--r-- 1 root root 324K Dec 17 07:36 emoint_X_test.npy\n",
      "-rw-r--r-- 1 root root 337K Dec 17 07:36 emoint_X_train.npy\n",
      "-rw-r--r-- 1 root root  38K Dec 17 07:36 emoint_X_val.npy\n",
      "-rw-r--r-- 1 root root  40K Dec 17 07:36 emoint_y_test.npy\n",
      "-rw-r--r-- 1 root root  41K Dec 17 07:36 emoint_y_train.npy\n",
      "-rw-r--r-- 1 root root 4.7K Dec 17 07:36 emoint_y_val.npy\n",
      "-rw-r--r-- 1 root root 1.6G Dec 17 06:56 GoogleNews-vectors-negative300.bin.gz\n",
      "drwxr-xr-x 1 root root 4.0K Dec 10 17:34 sample_data\n",
      "drwxr-xr-x 2 root root 4.0K Dec 17 07:40 tmp\n"
     ]
    }
   ],
   "source": [
    "!ls -lah"
   ]
  },
  {
   "cell_type": "code",
   "execution_count": 0,
   "metadata": {
    "colab": {},
    "colab_type": "code",
    "id": "85MiexxMK8zd"
   },
   "outputs": [],
   "source": [
    "upload_drive_file(\"Colab Notebooks\", model_path)\n",
    "upload_drive_file(\"Colab Notebooks\", weight_path)"
   ]
  },
  {
   "cell_type": "code",
   "execution_count": 0,
   "metadata": {
    "colab": {},
    "colab_type": "code",
    "id": "b0P0vTv-7RC6"
   },
   "outputs": [],
   "source": [
    "sequences_test=tokenizer.texts_to_sequences(test_data.text)\n",
    "X_test = pad_sequences(sequences_test, maxlen=X_test.shape[1])\n",
    "y_pred = model.predict(X_test)"
   ]
  },
  {
   "cell_type": "code",
   "execution_count": 0,
   "metadata": {
    "colab": {
     "base_uri": "https://localhost:8080/",
     "height": 35
    },
    "colab_type": "code",
    "id": "IgHlDfC_-rS5",
    "outputId": "f3945581-42d0-42a1-b0df-4d91d9f7e6e8"
   },
   "outputs": [
    {
     "data": {
      "text/plain": [
       "dict_keys(['val_loss', 'val_acc', 'loss', 'acc'])"
      ]
     },
     "execution_count": 23,
     "metadata": {
      "tags": []
     },
     "output_type": "execute_result"
    }
   ],
   "source": [
    "history.history.keys()"
   ]
  },
  {
   "cell_type": "code",
   "execution_count": 0,
   "metadata": {
    "colab": {},
    "colab_type": "code",
    "id": "-JaFoS4u_pwS"
   },
   "outputs": [],
   "source": [
    "y_pred_original = [labels[val] for val in np.argmax(y_pred, axis=1).squeeze()]\n",
    "y_test_original = np.asarray(test_data.emotion)"
   ]
  },
  {
   "cell_type": "code",
   "execution_count": 0,
   "metadata": {
    "colab": {},
    "colab_type": "code",
    "id": "BREyqdCAI9d0"
   },
   "outputs": [],
   "source": [
    "def print_confusion_matrix(confusion_matrix, class_names, figsize = (4,3), fontsize=15):\n",
    "    \"\"\"Prints a confusion matrix, as returned by sklearn.metrics.confusion_matrix, as a heatmap.\n",
    "    \n",
    "    Arguments\n",
    "    ---------\n",
    "    confusion_matrix: numpy.ndarray\n",
    "        The numpy.ndarray object returned from a call to sklearn.metrics.confusion_matrix. \n",
    "        Similarly constructed ndarrays can also be used.\n",
    "    class_names: list\n",
    "        An ordered list of class names, in the order they index the given confusion matrix.\n",
    "    figsize: tuple\n",
    "        A 2-long tuple, the first value determining the horizontal size of the ouputted figure,\n",
    "        the second determining the vertical size. Defaults to (10,7).\n",
    "    fontsize: int\n",
    "        Font size for axes labels. Defaults to 14.\n",
    "        \n",
    "    Returns\n",
    "    -------\n",
    "    matplotlib.figure.Figure\n",
    "        The resulting confusion matrix figure\n",
    "    \"\"\"\n",
    "    df_cm = pd.DataFrame(\n",
    "        confusion_matrix, index=class_names, columns=class_names, \n",
    "    )\n",
    "    fig = plt.figure(figsize=figsize)\n",
    "    try:\n",
    "        heatmap = sns.heatmap(df_cm, annot=True, fmt=\"d\")\n",
    "    except ValueError:\n",
    "        raise ValueError(\"Confusion matrix values must be integers.\")\n",
    "    heatmap.yaxis.set_ticklabels(heatmap.yaxis.get_ticklabels(), rotation=0, ha='right', fontsize=fontsize)\n",
    "    heatmap.xaxis.set_ticklabels(heatmap.xaxis.get_ticklabels(), rotation=45, ha='right', fontsize=fontsize)\n",
    "    plt.ylabel('True label')\n",
    "    plt.xlabel('Predicted label')\n",
    "    return fig"
   ]
  },
  {
   "cell_type": "code",
   "execution_count": 0,
   "metadata": {
    "colab": {
     "base_uri": "https://localhost:8080/",
     "height": 173
    },
    "colab_type": "code",
    "id": "XG9HPQb10TZm",
    "outputId": "c9fe229c-43fe-41bd-a3d6-82c163c1ad2f"
   },
   "outputs": [
    {
     "data": {
      "text/html": [
       "<div>\n",
       "<style scoped>\n",
       "    .dataframe tbody tr th:only-of-type {\n",
       "        vertical-align: middle;\n",
       "    }\n",
       "\n",
       "    .dataframe tbody tr th {\n",
       "        vertical-align: top;\n",
       "    }\n",
       "\n",
       "    .dataframe thead th {\n",
       "        text-align: right;\n",
       "    }\n",
       "</style>\n",
       "<table border=\"1\" class=\"dataframe\">\n",
       "  <thead>\n",
       "    <tr style=\"text-align: right;\">\n",
       "      <th></th>\n",
       "      <th>fear</th>\n",
       "      <th>anger</th>\n",
       "      <th>sadness</th>\n",
       "      <th>joy</th>\n",
       "    </tr>\n",
       "  </thead>\n",
       "  <tbody>\n",
       "    <tr>\n",
       "      <th>fear</th>\n",
       "      <td>638</td>\n",
       "      <td>51</td>\n",
       "      <td>78</td>\n",
       "      <td>22</td>\n",
       "    </tr>\n",
       "    <tr>\n",
       "      <th>anger</th>\n",
       "      <td>65</td>\n",
       "      <td>520</td>\n",
       "      <td>46</td>\n",
       "      <td>12</td>\n",
       "    </tr>\n",
       "    <tr>\n",
       "      <th>sadness</th>\n",
       "      <td>69</td>\n",
       "      <td>22</td>\n",
       "      <td>428</td>\n",
       "      <td>14</td>\n",
       "    </tr>\n",
       "    <tr>\n",
       "      <th>joy</th>\n",
       "      <td>26</td>\n",
       "      <td>11</td>\n",
       "      <td>14</td>\n",
       "      <td>492</td>\n",
       "    </tr>\n",
       "  </tbody>\n",
       "</table>\n",
       "</div>"
      ],
      "text/plain": [
       "         fear  anger  sadness  joy\n",
       "fear      638     51       78   22\n",
       "anger      65    520       46   12\n",
       "sadness    69     22      428   14\n",
       "joy        26     11       14  492"
      ]
     },
     "execution_count": 26,
     "metadata": {
      "tags": []
     },
     "output_type": "execute_result"
    }
   ],
   "source": [
    "cf_matrix = confusion_matrix(y_test_original, y_pred_original, labels=labels)\n",
    "\n",
    "df_cm = pd.DataFrame(\n",
    "    cf_matrix, index=labels, columns=labels, \n",
    ")\n",
    "\n",
    "df_cm"
   ]
  },
  {
   "cell_type": "code",
   "execution_count": 0,
   "metadata": {
    "colab": {
     "base_uri": "https://localhost:8080/",
     "height": 282
    },
    "colab_type": "code",
    "id": "59xnXmbEAKXy",
    "outputId": "9f68f9f9-0b05-46df-c050-6be4554b0013"
   },
   "outputs": [
    {
     "name": "stdout",
     "output_type": "stream",
     "text": [
      "Figure(288x216)\n"
     ]
    },
    {
     "data": {
      "image/png": "[encoded data removed]",
      "text/plain": [
       "<matplotlib.figure.Figure at 0x7fd02f11d2b0>"
      ]
     },
     "metadata": {
      "tags": []
     },
     "output_type": "display_data"
    }
   ],
   "source": [
    "print(print_confusion_matrix(cf_matrix, class_names=labels))"
   ]
  },
  {
   "cell_type": "code",
   "execution_count": 0,
   "metadata": {
    "colab": {
     "base_uri": "https://localhost:8080/",
     "height": 35
    },
    "colab_type": "code",
    "id": "9XE5c4LJEZXy",
    "outputId": "6f276941-fb3c-468e-d8d1-87b1625413a4"
   },
   "outputs": [
    {
     "name": "stdout",
     "output_type": "stream",
     "text": [
      "test accuracy: 0.828548644338118\n"
     ]
    }
   ],
   "source": [
    "test_accuracy = accuracy_score(y_test_original, y_pred_original)\n",
    "print(\"test accuracy:\", test_accuracy)"
   ]
  },
  {
   "cell_type": "markdown",
   "metadata": {
    "colab_type": "text",
    "id": "jAISNDCVwvR7"
   },
   "source": [
    "### Performance score for each classes"
   ]
  },
  {
   "cell_type": "code",
   "execution_count": 0,
   "metadata": {
    "colab": {
     "base_uri": "https://localhost:8080/",
     "height": 173
    },
    "colab_type": "code",
    "id": "iFb9Q6A1DcXi",
    "outputId": "3f6ff514-f49d-4d2a-a94d-f94c8912bd28"
   },
   "outputs": [
    {
     "data": {
      "text/html": [
       "<div>\n",
       "<style scoped>\n",
       "    .dataframe tbody tr th:only-of-type {\n",
       "        vertical-align: middle;\n",
       "    }\n",
       "\n",
       "    .dataframe tbody tr th {\n",
       "        vertical-align: top;\n",
       "    }\n",
       "\n",
       "    .dataframe thead th {\n",
       "        text-align: right;\n",
       "    }\n",
       "</style>\n",
       "<table border=\"1\" class=\"dataframe\">\n",
       "  <thead>\n",
       "    <tr style=\"text-align: right;\">\n",
       "      <th></th>\n",
       "      <th>f1-score</th>\n",
       "      <th>precision</th>\n",
       "      <th>recall</th>\n",
       "      <th>support</th>\n",
       "    </tr>\n",
       "  </thead>\n",
       "  <tbody>\n",
       "    <tr>\n",
       "      <th>fear</th>\n",
       "      <td>0.8340</td>\n",
       "      <td>0.8609</td>\n",
       "      <td>0.8087</td>\n",
       "      <td>643</td>\n",
       "    </tr>\n",
       "    <tr>\n",
       "      <th>anger</th>\n",
       "      <td>0.8040</td>\n",
       "      <td>0.7995</td>\n",
       "      <td>0.8086</td>\n",
       "      <td>789</td>\n",
       "    </tr>\n",
       "    <tr>\n",
       "      <th>sadness</th>\n",
       "      <td>0.9086</td>\n",
       "      <td>0.9111</td>\n",
       "      <td>0.9061</td>\n",
       "      <td>543</td>\n",
       "    </tr>\n",
       "    <tr>\n",
       "      <th>joy</th>\n",
       "      <td>0.7789</td>\n",
       "      <td>0.7562</td>\n",
       "      <td>0.8030</td>\n",
       "      <td>533</td>\n",
       "    </tr>\n",
       "  </tbody>\n",
       "</table>\n",
       "</div>"
      ],
      "text/plain": [
       "         f1-score  precision  recall  support\n",
       "fear       0.8340     0.8609  0.8087      643\n",
       "anger      0.8040     0.7995  0.8086      789\n",
       "sadness    0.9086     0.9111  0.9061      543\n",
       "joy        0.7789     0.7562  0.8030      533"
      ]
     },
     "execution_count": 29,
     "metadata": {
      "tags": []
     },
     "output_type": "execute_result"
    }
   ],
   "source": [
    "precision, recall, fscore, support = precision_recall_fscore_support(y_test_original, y_pred_original)\n",
    "score_dict = {\n",
    "  \"precision\": precision.round(4),\n",
    "  \"recall\": recall.round(4),\n",
    "  \"f1-score\": fscore.round(4),\n",
    "  \"support\": support.round(4)\n",
    "}\n",
    "score_df = pd.DataFrame(score_dict, index=labels)\n",
    "score_df"
   ]
  },
  {
   "cell_type": "markdown",
   "metadata": {
    "colab_type": "text",
    "id": "cHi1Gw7Oz1zG"
   },
   "source": [
    "### Performance score using micro average"
   ]
  },
  {
   "cell_type": "code",
   "execution_count": 0,
   "metadata": {
    "colab": {
     "base_uri": "https://localhost:8080/",
     "height": 80
    },
    "colab_type": "code",
    "id": "KP69PDE9D_jz",
    "outputId": "092c1a18-323c-402c-91c3-9bcfef72a24e"
   },
   "outputs": [
    {
     "data": {
      "text/html": [
       "<div>\n",
       "<style scoped>\n",
       "    .dataframe tbody tr th:only-of-type {\n",
       "        vertical-align: middle;\n",
       "    }\n",
       "\n",
       "    .dataframe tbody tr th {\n",
       "        vertical-align: top;\n",
       "    }\n",
       "\n",
       "    .dataframe thead th {\n",
       "        text-align: right;\n",
       "    }\n",
       "</style>\n",
       "<table border=\"1\" class=\"dataframe\">\n",
       "  <thead>\n",
       "    <tr style=\"text-align: right;\">\n",
       "      <th></th>\n",
       "      <th>f1-score</th>\n",
       "      <th>precision</th>\n",
       "      <th>recall</th>\n",
       "      <th>support</th>\n",
       "    </tr>\n",
       "  </thead>\n",
       "  <tbody>\n",
       "    <tr>\n",
       "      <th>score</th>\n",
       "      <td>0.8285</td>\n",
       "      <td>0.8285</td>\n",
       "      <td>0.8285</td>\n",
       "      <td>None</td>\n",
       "    </tr>\n",
       "  </tbody>\n",
       "</table>\n",
       "</div>"
      ],
      "text/plain": [
       "       f1-score  precision  recall support\n",
       "score    0.8285     0.8285  0.8285    None"
      ]
     },
     "execution_count": 30,
     "metadata": {
      "tags": []
     },
     "output_type": "execute_result"
    }
   ],
   "source": [
    "precision, recall, fscore, support = precision_recall_fscore_support(y_test_original, y_pred_original, average=\"micro\")\n",
    "score_dict = {\n",
    "  \"precision\": precision.round(4),\n",
    "  \"recall\": recall.round(4),\n",
    "  \"f1-score\": fscore.round(4),\n",
    "  \"support\": support\n",
    "}\n",
    "score_df = pd.DataFrame(score_dict, index=[\"score\"])\n",
    "score_df"
   ]
  },
  {
   "cell_type": "markdown",
   "metadata": {
    "colab_type": "text",
    "id": "IWXNCktiz8Vb"
   },
   "source": [
    "### Performance score using macro average"
   ]
  },
  {
   "cell_type": "code",
   "execution_count": 0,
   "metadata": {
    "colab": {
     "base_uri": "https://localhost:8080/",
     "height": 80
    },
    "colab_type": "code",
    "id": "g4e0vsNIydDs",
    "outputId": "55b1571b-4072-4375-e9bf-464c04876875"
   },
   "outputs": [
    {
     "data": {
      "text/html": [
       "<div>\n",
       "<style scoped>\n",
       "    .dataframe tbody tr th:only-of-type {\n",
       "        vertical-align: middle;\n",
       "    }\n",
       "\n",
       "    .dataframe tbody tr th {\n",
       "        vertical-align: top;\n",
       "    }\n",
       "\n",
       "    .dataframe thead th {\n",
       "        text-align: right;\n",
       "    }\n",
       "</style>\n",
       "<table border=\"1\" class=\"dataframe\">\n",
       "  <thead>\n",
       "    <tr style=\"text-align: right;\">\n",
       "      <th></th>\n",
       "      <th>f1-score</th>\n",
       "      <th>precision</th>\n",
       "      <th>recall</th>\n",
       "      <th>support</th>\n",
       "    </tr>\n",
       "  </thead>\n",
       "  <tbody>\n",
       "    <tr>\n",
       "      <th>score</th>\n",
       "      <td>0.8314</td>\n",
       "      <td>0.8319</td>\n",
       "      <td>0.8316</td>\n",
       "      <td>None</td>\n",
       "    </tr>\n",
       "  </tbody>\n",
       "</table>\n",
       "</div>"
      ],
      "text/plain": [
       "       f1-score  precision  recall support\n",
       "score    0.8314     0.8319  0.8316    None"
      ]
     },
     "execution_count": 31,
     "metadata": {
      "tags": []
     },
     "output_type": "execute_result"
    }
   ],
   "source": [
    "precision, recall, fscore, support = precision_recall_fscore_support(y_test_original, y_pred_original, average=\"macro\")\n",
    "score_dict = {\n",
    "  \"precision\": precision.round(4),\n",
    "  \"recall\": recall.round(4),\n",
    "  \"f1-score\": fscore.round(4),\n",
    "  \"support\": support\n",
    "}\n",
    "score_df = pd.DataFrame(score_dict, index=[\"score\"])\n",
    "score_df"
   ]
  },
  {
   "cell_type": "markdown",
   "metadata": {
    "colab_type": "text",
    "id": "wFJFH7u6z-oG"
   },
   "source": [
    "### Performance score using weighted average"
   ]
  },
  {
   "cell_type": "code",
   "execution_count": 0,
   "metadata": {
    "colab": {
     "base_uri": "https://localhost:8080/",
     "height": 80
    },
    "colab_type": "code",
    "id": "z99JkHjuzv68",
    "outputId": "f2b1675b-1673-482a-a993-04fb5de9afe7"
   },
   "outputs": [
    {
     "data": {
      "text/html": [
       "<div>\n",
       "<style scoped>\n",
       "    .dataframe tbody tr th:only-of-type {\n",
       "        vertical-align: middle;\n",
       "    }\n",
       "\n",
       "    .dataframe tbody tr th {\n",
       "        vertical-align: top;\n",
       "    }\n",
       "\n",
       "    .dataframe thead th {\n",
       "        text-align: right;\n",
       "    }\n",
       "</style>\n",
       "<table border=\"1\" class=\"dataframe\">\n",
       "  <thead>\n",
       "    <tr style=\"text-align: right;\">\n",
       "      <th></th>\n",
       "      <th>f1-score</th>\n",
       "      <th>precision</th>\n",
       "      <th>recall</th>\n",
       "      <th>support</th>\n",
       "    </tr>\n",
       "  </thead>\n",
       "  <tbody>\n",
       "    <tr>\n",
       "      <th>score</th>\n",
       "      <td>0.829</td>\n",
       "      <td>0.8302</td>\n",
       "      <td>0.8285</td>\n",
       "      <td>None</td>\n",
       "    </tr>\n",
       "  </tbody>\n",
       "</table>\n",
       "</div>"
      ],
      "text/plain": [
       "       f1-score  precision  recall support\n",
       "score     0.829     0.8302  0.8285    None"
      ]
     },
     "execution_count": 32,
     "metadata": {
      "tags": []
     },
     "output_type": "execute_result"
    }
   ],
   "source": [
    "precision, recall, fscore, support = precision_recall_fscore_support(y_test_original, y_pred_original, average=\"weighted\")\n",
    "score_dict = {\n",
    "  \"precision\": precision.round(4),\n",
    "  \"recall\": recall.round(4),\n",
    "  \"f1-score\": fscore.round(4),\n",
    "  \"support\": support\n",
    "}\n",
    "score_df = pd.DataFrame(score_dict, index=[\"score\"])\n",
    "score_df"
   ]
  },
  {
   "cell_type": "code",
   "execution_count": 0,
   "metadata": {
    "colab": {
     "base_uri": "https://localhost:8080/",
     "height": 35
    },
    "colab_type": "code",
    "id": "Y83dx5SyoBR8",
    "outputId": "0d58dac8-378d-4f59-9471-25c23d188bfc"
   },
   "outputs": [
    {
     "name": "stdout",
     "output_type": "stream",
     "text": [
      "kappa: 0.7694247720631184\n"
     ]
    }
   ],
   "source": [
    "from sklearn.metrics import cohen_kappa_score\n",
    "\n",
    "kappa_score = cohen_kappa_score(y_test_original, y_pred_original, labels=labels)\n",
    "print(\"kappa:\", kappa_score)"
   ]
  },
  {
   "cell_type": "code",
   "execution_count": 0,
   "metadata": {
    "colab": {},
    "colab_type": "code",
    "id": "5womFgI2kjed"
   },
   "outputs": [],
   "source": []
  }
 ],
 "metadata": {
  "accelerator": "GPU",
  "colab": {
   "collapsed_sections": [],
   "include_colab_link": true,
   "name": "EmoInt-Emotion-Analysis-Bidirectional-LSTM-Threshold-0.33.ipynb",
   "provenance": [],
   "version": "0.3.2"
  },
  "kernelspec": {
   "display_name": "Python 3",
   "language": "python",
   "name": "python3"
  },
  "language_info": {
   "codemirror_mode": {
    "name": "ipython",
    "version": 3
   },
   "file_extension": ".py",
   "mimetype": "text/x-python",
   "name": "python",
   "nbconvert_exporter": "python",
   "pygments_lexer": "ipython3",
   "version": "3.6.7"
  }
 },
 "nbformat": 4,
 "nbformat_minor": 1
}
