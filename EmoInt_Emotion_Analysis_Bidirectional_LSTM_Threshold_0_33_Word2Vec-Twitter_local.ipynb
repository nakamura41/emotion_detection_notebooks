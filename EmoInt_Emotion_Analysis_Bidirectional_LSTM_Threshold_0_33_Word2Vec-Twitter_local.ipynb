{
 "cells": [
  {
   "cell_type": "code",
   "execution_count": 1,
   "metadata": {},
   "outputs": [
    {
     "name": "stderr",
     "output_type": "stream",
     "text": [
      "Using TensorFlow backend.\n"
     ]
    },
    {
     "name": "stdout",
     "output_type": "stream",
     "text": [
      "1.10.0\n",
      "['/job:localhost/replica:0/task:0/device:GPU:0']\n"
     ]
    }
   ],
   "source": [
    "import os\n",
    "os.environ[\"CUDA_DEVICE_ORDER\"]=\"PCI_BUS_ID\"\n",
    "# The GPU id to use, usually either \"0\" or \"1\"\n",
    "os.environ[\"CUDA_VISIBLE_DEVICES\"]=\"2\"\n",
    "\n",
    "import tensorflow as tf\n",
    "from keras import backend as K\n",
    "print(tf.__version__)\n",
    "print(K.tensorflow_backend._get_available_gpus())"
   ]
  },
  {
   "cell_type": "code",
   "execution_count": 2,
   "metadata": {
    "colab": {
     "base_uri": "https://localhost:8080/",
     "height": 53
    },
    "colab_type": "code",
    "id": "OdaHCMv2rGKs",
    "outputId": "757ce36e-5dc9-4f0b-888a-afe86c9e8511"
   },
   "outputs": [],
   "source": [
    "import os\n",
    "from tensorflow import keras\n",
    "import numpy as np\n",
    "import urllib.request\n",
    "import pandas as pd\n",
    "from gensim.test.utils import common_texts, get_tmpfile\n",
    "from gensim.utils import simple_preprocess\n",
    "from gensim.models import Word2Vec\n",
    "from tempfile import gettempdir\n",
    "import zipfile\n",
    "from keras.preprocessing.text import Tokenizer\n",
    "from keras.preprocessing.sequence import pad_sequences\n",
    "from keras.utils import to_categorical\n",
    "from sklearn.model_selection import train_test_split\n",
    "from sklearn.metrics import confusion_matrix, precision_recall_fscore_support, accuracy_score\n",
    "import matplotlib.pyplot as plt\n",
    "import seaborn as sns"
   ]
  },
  {
   "cell_type": "code",
   "execution_count": 3,
   "metadata": {},
   "outputs": [],
   "source": [
    "from numpy.random import seed\n",
    "from tensorflow import set_random_seed\n",
    "\n",
    "RANDOM_SEED = 20190101\n",
    "\n",
    "def set_random(random_seed):\n",
    "    seed(random_seed)\n",
    "    set_random_seed(random_seed)\n",
    "\n",
    "set_random(RANDOM_SEED)"
   ]
  },
  {
   "cell_type": "code",
   "execution_count": 4,
   "metadata": {
    "colab": {},
    "colab_type": "code",
    "id": "oBynQmEcrNAy"
   },
   "outputs": [],
   "source": [
    "class EmoIntDataset(object):\n",
    "  BASE_URL = \"http://saifmohammad.com/WebDocs/\"\n",
    "  TRAIN_URI = \"EmoInt%20Train%20Data/{}-ratings-0to1.train.txt\"\n",
    "  TEST_URI = \"EmoInt%20Test%20Gold%20Data/{}-ratings-0to1.test.gold.txt\"\n",
    "  EMOTION_CLASSES = [\"anger\", \"fear\", \"joy\", \"sadness\"]\n",
    "  \n",
    "  THRESHOLD = 0.33\n",
    "  \n",
    "  def __load_data_per_class(self, url, threshold=0):\n",
    "    resource = urllib.request.urlopen(url)\n",
    "    np_array = np.asarray([line.split('\\t') for line in [line.strip() for line in resource.read().decode('utf-8').splitlines()]])\n",
    "    df = pd.DataFrame(np_array, columns=[\"id\", \"text\", \"emotion\", \"emotion_level\"])\n",
    "    df['emotion_level'] = df['emotion_level'].astype(float)\n",
    "    df = df.query('emotion_level>' + str(threshold))\n",
    "    return df[[\"text\", \"emotion\"]]\n",
    "  \n",
    "  def load_data(self, set_threshold=False):\n",
    "    train_data = None\n",
    "    test_data = None\n",
    "    \n",
    "    for emotion in self.EMOTION_CLASSES:\n",
    "      # load train dataset\n",
    "      train_df = self.__load_data_per_class(self.BASE_URL + self.TRAIN_URI.format(emotion), threshold=(self.THRESHOLD if set_threshold else 0))\n",
    "      \n",
    "      # load test dataset\n",
    "      test_df = self.__load_data_per_class(self.BASE_URL + self.TEST_URI.format(emotion), threshold=(self.THRESHOLD if set_threshold else 0))\n",
    "      \n",
    "      train_data = (train_df if train_data is None else train_data.append(train_df))\n",
    "      test_data = (test_df if test_data is None else test_data.append(test_df))\n",
    "      \n",
    "    return train_data, test_data"
   ]
  },
  {
   "cell_type": "code",
   "execution_count": 5,
   "metadata": {
    "colab": {
     "base_uri": "https://localhost:8080/",
     "height": 71
    },
    "colab_type": "code",
    "id": "tevwfq4Tu6fe",
    "outputId": "5507d39f-e094-4727-d761-2c4d1a883ecb"
   },
   "outputs": [
    {
     "name": "stdout",
     "output_type": "stream",
     "text": [
      "(2610, 2)\n",
      "(291, 2)\n",
      "(2508, 2)\n"
     ]
    }
   ],
   "source": [
    "emo_int_dataset = EmoIntDataset()\n",
    "train_data, test_data = emo_int_dataset.load_data(set_threshold=True)\n",
    "train_data, valid_data = train_test_split(train_data, test_size=0.1, random_state=200, stratify=train_data.emotion)\n",
    "\n",
    "print(train_data.shape)\n",
    "print(valid_data.shape)\n",
    "print(test_data.shape)"
   ]
  },
  {
   "cell_type": "code",
   "execution_count": 6,
   "metadata": {
    "colab": {
     "base_uri": "https://localhost:8080/",
     "height": 53
    },
    "colab_type": "code",
    "id": "J-xXkD_4175U",
    "outputId": "abd86198-fa3a-4c35-eb10-993337f48b8a"
   },
   "outputs": [
    {
     "name": "stdout",
     "output_type": "stream",
     "text": [
      "{'fear': 0, 'anger': 1, 'sadness': 2, 'joy': 3}\n",
      "['fear', 'anger', 'sadness', 'joy']\n"
     ]
    }
   ],
   "source": [
    "emotions = train_data.emotion.unique()\n",
    "dic = dict()\n",
    "labels = []\n",
    "for i, emotion in enumerate(emotions):\n",
    "    dic[emotion]=i\n",
    "    labels.append(emotion)\n",
    "print(dic)\n",
    "print(labels)"
   ]
  },
  {
   "cell_type": "code",
   "execution_count": 7,
   "metadata": {
    "colab": {
     "base_uri": "https://localhost:8080/",
     "height": 35
    },
    "colab_type": "code",
    "id": "yhA_GXLyw1gx",
    "outputId": "6a4c4c00-a630-4af6-a75c-fea4d0a33070"
   },
   "outputs": [
    {
     "name": "stdout",
     "output_type": "stream",
     "text": [
      "Found 8672 unique tokens.\n"
     ]
    }
   ],
   "source": [
    "NUM_WORDS=20000\n",
    "texts = train_data.text\n",
    "tokenizer = Tokenizer(num_words=NUM_WORDS,filters='!\"#$%&()*+,-./:;<=>?@[\\\\]^_`{|}~\\t\\n\\'',\n",
    "                      lower=True)\n",
    "tokenizer.fit_on_texts(texts)\n",
    "sequences_train = tokenizer.texts_to_sequences(texts)\n",
    "sequences_valid = tokenizer.texts_to_sequences(valid_data.text)\n",
    "sequences_test = tokenizer.texts_to_sequences(test_data.text)\n",
    "word_index = tokenizer.word_index\n",
    "print('Found %s unique tokens.' % len(word_index))"
   ]
  },
  {
   "cell_type": "code",
   "execution_count": 8,
   "metadata": {
    "colab": {
     "base_uri": "https://localhost:8080/",
     "height": 53
    },
    "colab_type": "code",
    "id": "f3a8LX2z0Vn3",
    "outputId": "9fe28fe7-328a-4fcb-9872-437ec9683444"
   },
   "outputs": [
    {
     "name": "stdout",
     "output_type": "stream",
     "text": [
      "Shape of X train, validation and test tensor: (2610, 33) (291, 33) (2508, 33)\n",
      "Shape of label train, validation and test tensor: (2610, 4) (291, 4) (2508, 4)\n"
     ]
    }
   ],
   "source": [
    "X_train = pad_sequences(sequences_train)\n",
    "X_val = pad_sequences(sequences_valid, maxlen=X_train.shape[1])\n",
    "X_test = pad_sequences(sequences_test, maxlen=X_train.shape[1])\n",
    "\n",
    "y_train = to_categorical(np.asarray(train_data.emotion.apply(lambda x:dic[x])))\n",
    "y_val = to_categorical(np.asarray(valid_data.emotion.apply(lambda x:dic[x])))\n",
    "y_test = to_categorical(np.asarray(test_data.emotion.apply(lambda x:dic[x])))\n",
    "\n",
    "print('Shape of X train, validation and test tensor:', X_train.shape, X_val.shape, X_test.shape)\n",
    "print('Shape of label train, validation and test tensor:', y_train.shape, y_val.shape, y_test.shape)"
   ]
  },
  {
   "cell_type": "code",
   "execution_count": 9,
   "metadata": {
    "colab": {},
    "colab_type": "code",
    "id": "OZprqF6Yqeoe"
   },
   "outputs": [],
   "source": [
    "np.save(\"emoint_X_train.npy\", X_train)\n",
    "np.save(\"emoint_X_val.npy\", X_val)\n",
    "np.save(\"emoint_X_test.npy\", X_test)\n",
    "\n",
    "np.save(\"emoint_y_train.npy\", y_train)\n",
    "np.save(\"emoint_y_val.npy\", y_val)\n",
    "np.save(\"emoint_y_test.npy\", y_test)"
   ]
  },
  {
   "cell_type": "markdown",
   "metadata": {
    "colab_type": "text",
    "id": "kdMDYkGMF7CA"
   },
   "source": [
    "## Word Embedding using Word2Vec model trained in Twitter tweets"
   ]
  },
  {
   "cell_type": "code",
   "execution_count": 10,
   "metadata": {
    "colab": {},
    "colab_type": "code",
    "id": "naD_jPLlmlFq"
   },
   "outputs": [],
   "source": [
    "import gensim\n",
    "from gensim.models import Word2Vec\n",
    "from gensim.utils import simple_preprocess\n",
    "\n",
    "from gensim.models.keyedvectors import KeyedVectors\n",
    "\n",
    "word_vectors = KeyedVectors.load_word2vec_format('../../Datasets/WordEmbeddings/word2vec_twitter_model.bin', binary=True, unicode_errors='ignore')\n",
    "\n",
    "EMBEDDING_DIM=400\n",
    "vocabulary_size = min(len(word_index)+1, NUM_WORDS)\n",
    "embedding_matrix = np.zeros((vocabulary_size, EMBEDDING_DIM))\n",
    "for word, i in word_index.items():\n",
    "    if i>=NUM_WORDS:\n",
    "        continue\n",
    "    try:\n",
    "        embedding_vector = word_vectors[word]\n",
    "        embedding_matrix[i] = embedding_vector\n",
    "    except KeyError:\n",
    "        embedding_matrix[i] = np.random.normal(0,np.sqrt(0.25), EMBEDDING_DIM)\n",
    "\n",
    "del(word_vectors)"
   ]
  },
  {
   "cell_type": "code",
   "execution_count": 11,
   "metadata": {
    "colab": {},
    "colab_type": "code",
    "id": "aXmsV7sr7Ovh"
   },
   "outputs": [],
   "source": [
    "file_embedded_matrix = \"emoint_embedded_matrix_word2vec_twitter.npy\"\n",
    "np.save(file_embedded_matrix, embedding_matrix)"
   ]
  },
  {
   "cell_type": "markdown",
   "metadata": {
    "colab_type": "text",
    "id": "TD731zTjqTI3"
   },
   "source": [
    "## Reload the embedded layer and training dataset"
   ]
  },
  {
   "cell_type": "code",
   "execution_count": 12,
   "metadata": {
    "colab": {
     "base_uri": "https://localhost:8080/",
     "height": 71
    },
    "colab_type": "code",
    "id": "SgGl84NR9Y2Y",
    "outputId": "61b12e65-4402-4a12-c7f8-984d7ba226fb"
   },
   "outputs": [
    {
     "name": "stdout",
     "output_type": "stream",
     "text": [
      "embedding matrix shape: (8673, 400)\n"
     ]
    }
   ],
   "source": [
    "file_embedded_matrix = \"emoint_embedded_matrix_word2vec_twitter.npy\"\n",
    "embedding_matrix = np.load(file_embedded_matrix)\n",
    "print(\"embedding matrix shape:\", embedding_matrix.shape)"
   ]
  },
  {
   "cell_type": "code",
   "execution_count": 13,
   "metadata": {
    "colab": {
     "base_uri": "https://localhost:8080/",
     "height": 557
    },
    "colab_type": "code",
    "id": "txZDRozUyXAQ",
    "outputId": "ed176b31-9088-4236-d632-83748ce4e04a"
   },
   "outputs": [],
   "source": [
    "X_train = np.load(\"emoint_X_train.npy\")\n",
    "X_val = np.load(\"emoint_X_val.npy\")\n",
    "X_test = np.load(\"emoint_X_test.npy\")\n",
    "\n",
    "y_train = np.load(\"emoint_y_train.npy\")\n",
    "y_val = np.load(\"emoint_y_val.npy\")\n",
    "y_test = np.load(\"emoint_y_test.npy\")"
   ]
  },
  {
   "cell_type": "code",
   "execution_count": 14,
   "metadata": {
    "colab": {
     "base_uri": "https://localhost:8080/",
     "height": 341
    },
    "colab_type": "code",
    "id": "Q0fX0z7_7Mi5",
    "outputId": "82ec7754-bcbf-44d7-bf24-6a2cd3639bc9"
   },
   "outputs": [
    {
     "name": "stdout",
     "output_type": "stream",
     "text": [
      "sequence length: 33\n",
      "_________________________________________________________________\n",
      "Layer (type)                 Output Shape              Param #   \n",
      "=================================================================\n",
      "input_1 (InputLayer)         (None, 33)                0         \n",
      "_________________________________________________________________\n",
      "embedding (Embedding)        (None, 33, 400)           3469200   \n",
      "_________________________________________________________________\n",
      "spatial_dropout (SpatialDrop (None, 33, 400)           0         \n",
      "_________________________________________________________________\n",
      "bidirectional_1 (Bidirection (None, 1200)              4804800   \n",
      "_________________________________________________________________\n",
      "output (Dense)               (None, 4)                 4804      \n",
      "=================================================================\n",
      "Total params: 8,278,804\n",
      "Trainable params: 8,278,804\n",
      "Non-trainable params: 0\n",
      "_________________________________________________________________\n"
     ]
    }
   ],
   "source": [
    "from keras.layers import Dense, Input, GlobalMaxPooling1D\n",
    "from keras.layers import Conv1D, MaxPooling1D, Embedding\n",
    "from keras.models import Model\n",
    "from keras.layers import Input, Dense, Embedding, Conv2D, MaxPooling2D, Dropout, concatenate, LSTM, SpatialDropout1D, Bidirectional\n",
    "from keras.layers.core import Reshape, Flatten\n",
    "from keras.callbacks import EarlyStopping, ModelCheckpoint\n",
    "from keras.optimizers import Adam, Adadelta, RMSprop\n",
    "from keras.models import Model\n",
    "from keras import regularizers\n",
    "sequence_length = X_train.shape[1]\n",
    "HIDDEN_DIM = 600\n",
    "DROPOUT_RATE = 0.2\n",
    "N_CLASSES = 4\n",
    "vocabulary_size = 8673\n",
    "\n",
    "print(\"sequence length:\", sequence_length)\n",
    "\n",
    "inputs = Input(shape=(sequence_length,), name='input_1')\n",
    "embedding_layer = Embedding(vocabulary_size, EMBEDDING_DIM, weights=[embedding_matrix], input_length=sequence_length, trainable=True, name='embedding')\n",
    "embedding = embedding_layer(inputs)\n",
    "spatial_droput = SpatialDropout1D(0.4, name='spatial_dropout')(embedding)\n",
    "lstm = Bidirectional(LSTM(units=HIDDEN_DIM, dropout=DROPOUT_RATE, recurrent_dropout=DROPOUT_RATE, name='lstm'))(spatial_droput)\n",
    "output = Dense(units=N_CLASSES, activation='softmax', name='output')(lstm)\n",
    "\n",
    "model = None \n",
    "\n",
    "# this creates a model that includes\n",
    "model = Model(inputs, output)\n",
    "\n",
    "model.summary()"
   ]
  },
  {
   "cell_type": "code",
   "execution_count": 15,
   "metadata": {
    "colab": {
     "base_uri": "https://localhost:8080/",
     "height": 395
    },
    "colab_type": "code",
    "id": "rClQ6sed4JA5",
    "outputId": "20296d37-73a1-466f-99fa-fc6504e99985"
   },
   "outputs": [
    {
     "name": "stdout",
     "output_type": "stream",
     "text": [
      "total 690344\r\n",
      "-rw-rw---- 1 david david   175476 Dec 18 15:21 CrowdFlower_Emotion_Analysis_ConvNet.ipynb\r\n",
      "drwxrwx--- 2 david david     4096 Jan  7 11:21 data\r\n",
      "-rw-rw---- 1 david david 55482008 Dec 21 10:50 emoint_bidirectional_lstm_fasttext_model.h5\r\n",
      "-rw-rw---- 1 david david 27745664 Dec 21 10:50 emoint_bidirectional_lstm_fasttext_weights.h5\r\n",
      "-rw-rw---- 1 david david 55482008 Dec 21 10:25 emoint_bidirectional_lstm_word2vec_model.h5\r\n",
      "-rw-rw---- 1 david david 66260408 Jan  7 17:11 emoint_bidirectional_lstm_word2vec_twitter_model.h5\r\n",
      "-rw-rw---- 1 david david 33134864 Jan  7 17:11 emoint_bidirectional_lstm_word2vec_twitter_weights.h5\r\n",
      "-rw-rw---- 1 david david 27745664 Dec 21 10:25 emoint_bidirectional_lstm_word2vec_weights.h5\r\n",
      "-rw-rw---- 1 david david 23554384 Dec 20 17:53 emoint_convnet_fasttext_model.h5\r\n",
      "-rw-rw---- 1 david david 11783784 Dec 20 17:53 emoint_convnet_fasttext_weights.h5\r\n",
      "-rw-rw---- 1 david david 15720760 Dec 21 11:38 emoint_convnet_glove_model.h5\r\n",
      "-rw-rw---- 1 david david 15720784 Dec 19 14:02 emoint_convnet_glove_twitter_model.h5\r\n",
      "-rw-rw---- 1 david david  7866984 Dec 19 14:02 emoint_convnet_glove_twitter_weights.h5\r\n",
      "-rw-rw---- 1 david david  7866960 Dec 21 11:38 emoint_convnet_glove_weights.h5\r\n",
      "-rw-rw---- 1 david david 21564208 Dec 21 15:03 emoint_convnet_model.h5\r\n",
      "-rw-rw---- 1 david david 21564208 Dec 21 15:04 emoint_convnet_single_model.h5\r\n",
      "-rw-rw---- 1 david david 10787480 Dec 21 15:04 emoint_convnet_single_weights.h5\r\n",
      "-rw-rw---- 1 david david 10787480 Dec 21 15:03 emoint_convnet_weights.h5\r\n",
      "-rw-rw---- 1 david david 31387984 Dec 19 13:50 emoint_convnet_word2vec_twitter_model.h5\r\n",
      "-rw-rw---- 1 david david 15700584 Dec 19 13:50 emoint_convnet_word2vec_twitter_weights.h5\r\n",
      "-rw-rw---- 1 david david 20815328 Dec 21 10:47 emoint_embedded_matrix_fasttext_wikipedia.npy\r\n",
      "-rw-rw---- 1 david david 13747328 Dec 21 11:38 emoint_embedded_matrix_glove_twitter.npy\r\n",
      "-rw-rw---- 1 david david 20815328 Dec 21 10:21 emoint_embedded_matrix_word2vec.npy\r\n",
      "-rw-rw---- 1 david david 27753728 Jan  7 17:13 emoint_embedded_matrix_word2vec_twitter.npy\r\n",
      "-rw-rw---- 1 david david   144822 Dec 18 15:21 EmoInt_Embedding_Comparison.ipynb\r\n",
      "-rw-rw---- 1 david david    85355 Dec 21 11:09 EmoInt_Emotion_Analysis_Bidirectional_LSTM_Threshold_0_33_FastText_local.ipynb\r\n",
      "-rw-rw---- 1 david david    85355 Dec 21 11:10 EmoInt_Emotion_Analysis_Bidirectional_LSTM_Threshold_0_33_Glove_local.ipynb\r\n",
      "-rw-rw---- 1 david david    99516 Dec 21 10:03 EmoInt_Emotion_Analysis_Bidirectional_LSTM_Threshold_0_33.ipynb\r\n",
      "-rw-rw---- 1 david david    80836 Jan  7 10:57 EmoInt_Emotion_Analysis_Bidirectional_LSTM_Threshold_0_33_Word2Vec-GoogleNews_local.ipynb\r\n",
      "-rw-rw---- 1 david david    24912 Jan  7 17:13 EmoInt_Emotion_Analysis_Bidirectional_LSTM_Threshold_0_33_Word2Vec-Twitter_local.ipynb\r\n",
      "-rw-rw---- 1 david david   106254 Dec 21 13:49 EmoInt_Emotion_Analysis_ConvNet_LSTM_Threshold_0_33.ipynb\r\n",
      "-rw-rw---- 1 david david    93235 Dec 21 15:04 EmoInt_Emotion_Analysis_ConvNet_single_Threshold_0_33_local.ipynb\r\n",
      "-rw-rw---- 1 david david    84622 Dec 18 15:21 EmoInt_Emotion_Analysis_ConvNet_Threshold_0_30.ipynb\r\n",
      "-rw-rw---- 1 david david    94037 Jan  7 16:20 EmoInt_Emotion_Analysis_ConvNet_Threshold_0_33_FastText_local.ipynb\r\n",
      "-rw-rw---- 1 david david   129473 Dec 21 11:20 EmoInt_Emotion_Analysis_ConvNet_Threshold_0_33_Glove.ipynb\r\n",
      "-rw-rw---- 1 david david    93966 Jan  7 13:15 EmoInt_Emotion_Analysis_ConvNet_Threshold_0_33_Glove_local.ipynb\r\n",
      "-rw-rw---- 1 david david   133515 Dec 19 10:26 EmoInt_Emotion_Analysis_ConvNet_Threshold_0_33.ipynb\r\n",
      "-rw-rw---- 1 david david    87014 Jan  7 10:57 EmoInt_Emotion_Analysis_ConvNet_Threshold_0_33_Word2Vec-GoogleNews_local.ipynb\r\n",
      "-rw-rw---- 1 david david    83165 Jan  7 17:11 EmoInt_Emotion_Analysis_ConvNet_Threshold_0_33_Word2Vec-Twitter_local.ipynb\r\n",
      "-rw-rw---- 1 david david    38776 Dec 19 16:14 EmoInt_Emotion_Analysis_Elmo_Threshold_0_33.ipynb\r\n",
      "-rw-rw---- 1 david david   116312 Dec 18 15:21 EmoInt_Emotion_Analysis_LSTM_Threshold_0_33.ipynb\r\n",
      "-rw-rw---- 1 david david    76589 Dec 18 15:21 EmoInt_Sentiment_Analysis_ConvNet.ipynb\r\n",
      "-rw-rw---- 1 david david    79654 Dec 18 15:21 EmoInt_Sentiment_Analysis_LSTM_ConvNet.ipynb\r\n",
      "-rw-rw---- 1 david david   331184 Jan  7 17:12 emoint_X_test.npy\r\n",
      "-rw-rw---- 1 david david   344648 Jan  7 17:12 emoint_X_train.npy\r\n",
      "-rw-rw---- 1 david david    38540 Jan  7 17:12 emoint_X_val.npy\r\n",
      "-rw-rw---- 1 david david    40256 Jan  7 17:12 emoint_y_test.npy\r\n",
      "-rw-rw---- 1 david david    41888 Jan  7 17:12 emoint_y_train.npy\r\n",
      "-rw-rw---- 1 david david     4784 Jan  7 17:12 emoint_y_val.npy\r\n",
      "drwxrwx--- 8 david david     4096 Jan  7 13:42 .git\r\n",
      "-rw-rw---- 1 david david     1269 Jan  7 11:45 .gitignore\r\n",
      "drwxrwx--- 2 david david     4096 Jan  7 17:03 .ipynb_checkpoints\r\n",
      "-rw-rw---- 1 david david 30298872 Jan  7 13:38 isear_convnet_fasttext_wikipedia_model.h5\r\n",
      "-rw-rw---- 1 david david 10110960 Jan  7 13:38 isear_convnet_fasttext_wikipedia_weights.h5\r\n",
      "-rw-rw---- 1 david david 20224872 Jan  7 13:20 isear_convnet_glove_twitter_model.h5\r\n",
      "-rw-rw---- 1 david david  6752960 Jan  7 13:20 isear_convnet_glove_twitter_weights.h5\r\n",
      "-rw-rw---- 1 david david 30298944 Jan  7 11:42 isear_convnet_word2vec_googlenews_model.h5\r\n",
      "-rw-rw---- 1 david david 10110976 Jan  7 11:42 isear_convnet_word2vec_googlenews_weights.h5\r\n",
      "-rw-rw---- 1 david david 17268128 Jan  7 13:37 isear_embedded_matrix_fasttext_wikipedia.npy\r\n",
      "-rw-rw---- 1 david david 11512128 Jan  7 13:19 isear_embedded_matrix_glove_twitter.npy\r\n",
      "-rw-rw---- 1 david david 17268128 Jan  7 11:25 isear_embedded_matrix_word2vec_googlenews.npy\r\n",
      "-rw-rw---- 1 david david   251911 Dec 18 15:21 ISEAR_Embedding_Comparison.ipynb\r\n",
      "-rw-rw---- 1 david david   121995 Jan  7 13:42 ISEAR_Emotion_Analysis_ConvNet_FastText_local.ipynb\r\n",
      "-rw-rw---- 1 david david   123449 Jan  7 13:25 ISEAR_Emotion_Analysis_ConvNet_Glove_local.ipynb\r\n",
      "-rw-rw---- 1 david david   152471 Jan  7 11:15 ISEAR_Emotion_Analysis_ConvNet_Word2Vec-GoogleNews.ipynb\r\n",
      "-rw-rw---- 1 david david   120583 Jan  7 13:11 ISEAR_Emotion_Analysis_ConvNet_Word2Vec-GoogleNews_local.ipynb\r\n",
      "-rw-rw---- 1 david david  1766528 Jan  7 13:37 isear_X_test.npy\r\n",
      "-rw-rw---- 1 david david  3708800 Jan  7 13:37 isear_X_train.npy\r\n",
      "-rw-rw---- 1 david david   412544 Jan  7 13:37 isear_X_val.npy\r\n",
      "-rw-rw---- 1 david david    64528 Jan  7 13:37 isear_y_test.npy\r\n",
      "-rw-rw---- 1 david david   135340 Jan  7 13:37 isear_y_train.npy\r\n",
      "-rw-rw---- 1 david david    15164 Jan  7 13:37 isear_y_val.npy\r\n",
      "-rw-rw---- 1 david david    35147 Dec 18 15:21 LICENSE\r\n",
      "-rw-rw---- 1 david david       29 Dec 18 15:21 README.md\r\n",
      "drwxr-x--- 3 david david     4096 Dec 19 16:06 tfhub_modules\r\n",
      "drwxrwx--- 2 david david     4096 Jan  7 17:13 tmp\r\n"
     ]
    }
   ],
   "source": [
    "!rm -r tmp\n",
    "!mkdir tmp\n",
    "!ls -lA"
   ]
  },
  {
   "cell_type": "code",
   "execution_count": 16,
   "metadata": {
    "colab": {
     "base_uri": "https://localhost:8080/",
     "height": 4283
    },
    "colab_type": "code",
    "id": "HHZ1POD77GRp",
    "outputId": "0864429c-6681-43a6-bd68-9bc6099c55e2"
   },
   "outputs": [
    {
     "name": "stdout",
     "output_type": "stream",
     "text": [
      "Train on 2610 samples, validate on 291 samples\n",
      "Epoch 1/100\n",
      "2610/2610 [==============================] - 4s 1ms/step - loss: 1.4974 - acc: 0.2954 - val_loss: 1.4611 - val_acc: 0.2577\n",
      "\n",
      "Epoch 00001: val_acc improved from -inf to 0.25773, saving model to tmp/weights-01-0.26.hdf5\n",
      "Epoch 2/100\n",
      "2610/2610 [==============================] - 1s 277us/step - loss: 1.3438 - acc: 0.3782 - val_loss: 1.2328 - val_acc: 0.4639\n",
      "\n",
      "Epoch 00002: val_acc improved from 0.25773 to 0.46392, saving model to tmp/weights-02-0.46.hdf5\n",
      "Epoch 3/100\n",
      "2610/2610 [==============================] - 1s 287us/step - loss: 1.2157 - acc: 0.5088 - val_loss: 1.2530 - val_acc: 0.4502\n",
      "\n",
      "Epoch 00003: val_acc did not improve from 0.46392\n",
      "Epoch 4/100\n",
      "2610/2610 [==============================] - 1s 280us/step - loss: 1.1717 - acc: 0.5218 - val_loss: 1.1757 - val_acc: 0.4605\n",
      "\n",
      "Epoch 00004: val_acc did not improve from 0.46392\n",
      "Epoch 5/100\n",
      "2610/2610 [==============================] - 1s 278us/step - loss: 1.1198 - acc: 0.5506 - val_loss: 1.0291 - val_acc: 0.6220\n",
      "\n",
      "Epoch 00005: val_acc improved from 0.46392 to 0.62199, saving model to tmp/weights-05-0.62.hdf5\n",
      "Epoch 6/100\n",
      "2610/2610 [==============================] - 1s 297us/step - loss: 0.9716 - acc: 0.6475 - val_loss: 1.1327 - val_acc: 0.5808\n",
      "\n",
      "Epoch 00006: val_acc did not improve from 0.62199\n",
      "Epoch 7/100\n",
      "2610/2610 [==============================] - 1s 291us/step - loss: 0.9887 - acc: 0.6268 - val_loss: 1.2212 - val_acc: 0.4605\n",
      "\n",
      "Epoch 00007: val_acc did not improve from 0.62199\n",
      "Epoch 8/100\n",
      "2610/2610 [==============================] - 1s 282us/step - loss: 1.0163 - acc: 0.5935 - val_loss: 0.9631 - val_acc: 0.5945\n",
      "\n",
      "Epoch 00008: val_acc did not improve from 0.62199\n",
      "Epoch 9/100\n",
      "2610/2610 [==============================] - 1s 276us/step - loss: 0.9207 - acc: 0.6280 - val_loss: 0.8399 - val_acc: 0.7251\n",
      "\n",
      "Epoch 00009: val_acc improved from 0.62199 to 0.72509, saving model to tmp/weights-09-0.73.hdf5\n",
      "Epoch 10/100\n",
      "2610/2610 [==============================] - 1s 283us/step - loss: 0.7454 - acc: 0.7510 - val_loss: 1.0033 - val_acc: 0.6186\n",
      "\n",
      "Epoch 00010: val_acc did not improve from 0.72509\n",
      "Epoch 11/100\n",
      "2610/2610 [==============================] - 1s 290us/step - loss: 0.9345 - acc: 0.6180 - val_loss: 0.8090 - val_acc: 0.6701\n",
      "\n",
      "Epoch 00011: val_acc did not improve from 0.72509\n",
      "Epoch 12/100\n",
      "2610/2610 [==============================] - 1s 293us/step - loss: 0.6832 - acc: 0.7582 - val_loss: 0.7162 - val_acc: 0.7216\n",
      "\n",
      "Epoch 00012: val_acc did not improve from 0.72509\n",
      "Epoch 13/100\n",
      "2610/2610 [==============================] - 1s 281us/step - loss: 0.5796 - acc: 0.7935 - val_loss: 0.7137 - val_acc: 0.7526\n",
      "\n",
      "Epoch 00013: val_acc improved from 0.72509 to 0.75258, saving model to tmp/weights-13-0.75.hdf5\n",
      "Epoch 14/100\n",
      "2610/2610 [==============================] - 1s 276us/step - loss: 0.6848 - acc: 0.7487 - val_loss: 0.7487 - val_acc: 0.7045\n",
      "\n",
      "Epoch 00014: val_acc did not improve from 0.75258\n",
      "Epoch 15/100\n",
      "2610/2610 [==============================] - 1s 287us/step - loss: 0.5971 - acc: 0.7858 - val_loss: 0.7132 - val_acc: 0.7182\n",
      "\n",
      "Epoch 00015: val_acc did not improve from 0.75258\n",
      "Epoch 16/100\n",
      "2610/2610 [==============================] - 1s 294us/step - loss: 0.6243 - acc: 0.7797 - val_loss: 0.9384 - val_acc: 0.6254\n",
      "\n",
      "Epoch 00016: val_acc did not improve from 0.75258\n",
      "Epoch 17/100\n",
      "2610/2610 [==============================] - 1s 285us/step - loss: 0.6142 - acc: 0.7648 - val_loss: 0.6558 - val_acc: 0.7526\n",
      "\n",
      "Epoch 00017: val_acc did not improve from 0.75258\n",
      "Epoch 18/100\n",
      "2610/2610 [==============================] - 1s 284us/step - loss: 0.4424 - acc: 0.8621 - val_loss: 0.6437 - val_acc: 0.7560\n",
      "\n",
      "Epoch 00018: val_acc improved from 0.75258 to 0.75601, saving model to tmp/weights-18-0.76.hdf5\n",
      "Epoch 19/100\n",
      "2610/2610 [==============================] - 1s 281us/step - loss: 0.4001 - acc: 0.8625 - val_loss: 0.6770 - val_acc: 0.7423\n",
      "\n",
      "Epoch 00019: val_acc did not improve from 0.75601\n",
      "Epoch 20/100\n",
      "2610/2610 [==============================] - 1s 289us/step - loss: 0.4731 - acc: 0.8211 - val_loss: 0.7855 - val_acc: 0.7079\n",
      "\n",
      "Epoch 00020: val_acc did not improve from 0.75601\n",
      "Epoch 21/100\n",
      "2610/2610 [==============================] - 1s 283us/step - loss: 0.5723 - acc: 0.7816 - val_loss: 0.6361 - val_acc: 0.7320\n",
      "\n",
      "Epoch 00021: val_acc did not improve from 0.75601\n",
      "Epoch 22/100\n",
      "2610/2610 [==============================] - 1s 281us/step - loss: 0.3589 - acc: 0.8866 - val_loss: 0.6509 - val_acc: 0.7285\n",
      "\n",
      "Epoch 00022: val_acc did not improve from 0.75601\n",
      "Epoch 23/100\n",
      "2610/2610 [==============================] - 1s 283us/step - loss: 0.3306 - acc: 0.8862 - val_loss: 0.5911 - val_acc: 0.7663\n",
      "\n",
      "Epoch 00023: val_acc improved from 0.75601 to 0.76632, saving model to tmp/weights-23-0.77.hdf5\n",
      "Epoch 24/100\n",
      "2610/2610 [==============================] - 1s 278us/step - loss: 0.2673 - acc: 0.9180 - val_loss: 0.5861 - val_acc: 0.8144\n",
      "\n",
      "Epoch 00024: val_acc improved from 0.76632 to 0.81443, saving model to tmp/weights-24-0.81.hdf5\n",
      "Epoch 25/100\n",
      "2610/2610 [==============================] - 1s 280us/step - loss: 0.2699 - acc: 0.9054 - val_loss: 0.5506 - val_acc: 0.8213\n",
      "\n",
      "Epoch 00025: val_acc improved from 0.81443 to 0.82131, saving model to tmp/weights-25-0.82.hdf5\n",
      "Epoch 26/100\n",
      "2610/2610 [==============================] - 1s 280us/step - loss: 0.2506 - acc: 0.9184 - val_loss: 0.7254 - val_acc: 0.7354\n",
      "\n",
      "Epoch 00026: val_acc did not improve from 0.82131\n",
      "Epoch 27/100\n",
      "2610/2610 [==============================] - 1s 285us/step - loss: 0.3882 - acc: 0.8586 - val_loss: 0.5874 - val_acc: 0.7766\n",
      "\n",
      "Epoch 00027: val_acc did not improve from 0.82131\n",
      "Epoch 28/100\n",
      "2610/2610 [==============================] - 1s 281us/step - loss: 0.2585 - acc: 0.9176 - val_loss: 0.6249 - val_acc: 0.7835\n",
      "\n",
      "Epoch 00028: val_acc did not improve from 0.82131\n",
      "Epoch 29/100\n",
      "2610/2610 [==============================] - 1s 293us/step - loss: 0.2307 - acc: 0.9261 - val_loss: 0.5182 - val_acc: 0.8144\n",
      "\n",
      "Epoch 00029: val_acc did not improve from 0.82131\n",
      "Epoch 30/100\n",
      "2610/2610 [==============================] - 1s 286us/step - loss: 0.1469 - acc: 0.9521 - val_loss: 0.5298 - val_acc: 0.8213\n",
      "\n",
      "Epoch 00030: val_acc did not improve from 0.82131\n",
      "Epoch 31/100\n",
      "2610/2610 [==============================] - 1s 285us/step - loss: 0.2018 - acc: 0.9268 - val_loss: 0.5292 - val_acc: 0.8247\n",
      "\n",
      "Epoch 00031: val_acc improved from 0.82131 to 0.82474, saving model to tmp/weights-31-0.82.hdf5\n",
      "Epoch 32/100\n",
      "2610/2610 [==============================] - 1s 276us/step - loss: 0.1265 - acc: 0.9632 - val_loss: 0.5874 - val_acc: 0.8144\n",
      "\n",
      "Epoch 00032: val_acc did not improve from 0.82474\n",
      "Epoch 33/100\n",
      "2610/2610 [==============================] - 1s 278us/step - loss: 0.2787 - acc: 0.9077 - val_loss: 0.5751 - val_acc: 0.7973\n",
      "\n",
      "Epoch 00033: val_acc did not improve from 0.82474\n",
      "Epoch 34/100\n",
      "2610/2610 [==============================] - 1s 279us/step - loss: 0.2070 - acc: 0.9287 - val_loss: 0.5053 - val_acc: 0.8247\n",
      "\n",
      "Epoch 00034: val_acc did not improve from 0.82474\n",
      "Epoch 35/100\n",
      "2610/2610 [==============================] - 1s 279us/step - loss: 0.1280 - acc: 0.9644 - val_loss: 0.5722 - val_acc: 0.8144\n",
      "\n",
      "Epoch 00035: val_acc did not improve from 0.82474\n",
      "Epoch 36/100\n",
      "2610/2610 [==============================] - 1s 277us/step - loss: 0.1758 - acc: 0.9406 - val_loss: 0.4929 - val_acc: 0.8282\n",
      "\n",
      "Epoch 00036: val_acc improved from 0.82474 to 0.82818, saving model to tmp/weights-36-0.83.hdf5\n",
      "Epoch 37/100\n",
      "2610/2610 [==============================] - 1s 290us/step - loss: 0.0965 - acc: 0.9709 - val_loss: 0.5620 - val_acc: 0.8385\n",
      "\n",
      "Epoch 00037: val_acc improved from 0.82818 to 0.83849, saving model to tmp/weights-37-0.84.hdf5\n",
      "Epoch 38/100\n",
      "2610/2610 [==============================] - 1s 282us/step - loss: 0.1263 - acc: 0.9594 - val_loss: 0.6147 - val_acc: 0.8041\n",
      "\n",
      "Epoch 00038: val_acc did not improve from 0.83849\n",
      "Epoch 39/100\n",
      "2610/2610 [==============================] - 1s 277us/step - loss: 0.1491 - acc: 0.9513 - val_loss: 0.5204 - val_acc: 0.8385\n",
      "\n",
      "Epoch 00039: val_acc did not improve from 0.83849\n",
      "Epoch 40/100\n",
      "2610/2610 [==============================] - 1s 289us/step - loss: 0.0922 - acc: 0.9690 - val_loss: 0.5513 - val_acc: 0.8213\n",
      "\n",
      "Epoch 00040: val_acc did not improve from 0.83849\n",
      "Epoch 41/100\n"
     ]
    },
    {
     "name": "stdout",
     "output_type": "stream",
     "text": [
      "2610/2610 [==============================] - 1s 276us/step - loss: 0.0826 - acc: 0.9736 - val_loss: 0.6125 - val_acc: 0.8488\n",
      "\n",
      "Epoch 00041: val_acc improved from 0.83849 to 0.84880, saving model to tmp/weights-41-0.85.hdf5\n",
      "Epoch 42/100\n",
      "2610/2610 [==============================] - 1s 272us/step - loss: 0.1324 - acc: 0.9521 - val_loss: 0.5108 - val_acc: 0.8385\n",
      "\n",
      "Epoch 00042: val_acc did not improve from 0.84880\n",
      "Epoch 43/100\n",
      "2610/2610 [==============================] - 1s 277us/step - loss: 0.0779 - acc: 0.9747 - val_loss: 0.5224 - val_acc: 0.8488\n",
      "\n",
      "Epoch 00043: val_acc did not improve from 0.84880\n",
      "Epoch 44/100\n",
      "2610/2610 [==============================] - 1s 279us/step - loss: 0.0750 - acc: 0.9751 - val_loss: 0.5424 - val_acc: 0.8419\n",
      "\n",
      "Epoch 00044: val_acc did not improve from 0.84880\n",
      "Epoch 45/100\n",
      "2610/2610 [==============================] - 1s 279us/step - loss: 0.1147 - acc: 0.9582 - val_loss: 0.5315 - val_acc: 0.8316\n",
      "\n",
      "Epoch 00045: val_acc did not improve from 0.84880\n",
      "Epoch 46/100\n",
      "2610/2610 [==============================] - 1s 277us/step - loss: 0.0966 - acc: 0.9686 - val_loss: 0.5017 - val_acc: 0.8179\n",
      "\n",
      "Epoch 00046: val_acc did not improve from 0.84880\n"
     ]
    }
   ],
   "source": [
    "adam = Adam(lr=1e-3, decay=0.0)\n",
    "adadelta = Adadelta(lr=1.0, rho=0.95, epsilon=None, decay=0.0)\n",
    "rmsprop = RMSprop(lr=0.001, rho=0.9, epsilon=None, decay=0.0)\n",
    "\n",
    "model.compile(loss='categorical_crossentropy', optimizer=rmsprop, metrics=['acc'])\n",
    "\n",
    "filepath=\"tmp/weights-{epoch:02d}-{val_acc:.2f}.hdf5\"\n",
    "model_checkpoint = ModelCheckpoint(filepath, monitor='val_acc', verbose=1, save_best_only=True, mode='auto')\n",
    "early_stopping = EarlyStopping(monitor='val_loss', patience=10)\n",
    "callbacks = [early_stopping, model_checkpoint]\n",
    "\n",
    "history = model.fit(X_train, y_train, batch_size=1000, epochs=100, verbose=1, validation_data=(X_val, y_val), callbacks=callbacks)  # starts training"
   ]
  },
  {
   "cell_type": "code",
   "execution_count": 17,
   "metadata": {
    "colab": {},
    "colab_type": "code",
    "id": "OtGrA8RBKShg"
   },
   "outputs": [],
   "source": [
    "model_path = 'emoint_bidirectional_lstm_word2vec_twitter_model.h5'\n",
    "weight_path = 'emoint_bidirectional_lstm_word2vec_twitter_weights.h5'\n",
    "\n",
    "model.save(model_path)\n",
    "model.save_weights(weight_path)"
   ]
  },
  {
   "cell_type": "code",
   "execution_count": 18,
   "metadata": {
    "colab": {
     "base_uri": "https://localhost:8080/",
     "height": 431
    },
    "colab_type": "code",
    "id": "eFzd1urtKeFw",
    "outputId": "01a74e98-8890-44ae-caa8-7cd95bcaa8b2"
   },
   "outputs": [
    {
     "name": "stdout",
     "output_type": "stream",
     "text": [
      "total 675M\r\n",
      "drwxrwx--- 7 david david 4.0K Jan  7 17:13 .\r\n",
      "drwxrwx--- 3 david david 4.0K Dec 18 16:51 ..\r\n",
      "-rw-rw---- 1 david david 172K Dec 18 15:21 CrowdFlower_Emotion_Analysis_ConvNet.ipynb\r\n",
      "drwxrwx--- 2 david david 4.0K Jan  7 11:21 data\r\n",
      "-rw-rw---- 1 david david  53M Dec 21 10:50 emoint_bidirectional_lstm_fasttext_model.h5\r\n",
      "-rw-rw---- 1 david david  27M Dec 21 10:50 emoint_bidirectional_lstm_fasttext_weights.h5\r\n",
      "-rw-rw---- 1 david david  53M Dec 21 10:25 emoint_bidirectional_lstm_word2vec_model.h5\r\n",
      "-rw-rw---- 1 david david  64M Jan  7 17:14 emoint_bidirectional_lstm_word2vec_twitter_model.h5\r\n",
      "-rw-rw---- 1 david david  32M Jan  7 17:14 emoint_bidirectional_lstm_word2vec_twitter_weights.h5\r\n",
      "-rw-rw---- 1 david david  27M Dec 21 10:25 emoint_bidirectional_lstm_word2vec_weights.h5\r\n",
      "-rw-rw---- 1 david david  23M Dec 20 17:53 emoint_convnet_fasttext_model.h5\r\n",
      "-rw-rw---- 1 david david  12M Dec 20 17:53 emoint_convnet_fasttext_weights.h5\r\n",
      "-rw-rw---- 1 david david  15M Dec 21 11:38 emoint_convnet_glove_model.h5\r\n",
      "-rw-rw---- 1 david david  15M Dec 19 14:02 emoint_convnet_glove_twitter_model.h5\r\n",
      "-rw-rw---- 1 david david 7.6M Dec 19 14:02 emoint_convnet_glove_twitter_weights.h5\r\n",
      "-rw-rw---- 1 david david 7.6M Dec 21 11:38 emoint_convnet_glove_weights.h5\r\n",
      "-rw-rw---- 1 david david  21M Dec 21 15:03 emoint_convnet_model.h5\r\n",
      "-rw-rw---- 1 david david  21M Dec 21 15:04 emoint_convnet_single_model.h5\r\n",
      "-rw-rw---- 1 david david  11M Dec 21 15:04 emoint_convnet_single_weights.h5\r\n",
      "-rw-rw---- 1 david david  11M Dec 21 15:03 emoint_convnet_weights.h5\r\n",
      "-rw-rw---- 1 david david  30M Dec 19 13:50 emoint_convnet_word2vec_twitter_model.h5\r\n",
      "-rw-rw---- 1 david david  15M Dec 19 13:50 emoint_convnet_word2vec_twitter_weights.h5\r\n",
      "-rw-rw---- 1 david david  20M Dec 21 10:47 emoint_embedded_matrix_fasttext_wikipedia.npy\r\n",
      "-rw-rw---- 1 david david  14M Dec 21 11:38 emoint_embedded_matrix_glove_twitter.npy\r\n",
      "-rw-rw---- 1 david david  20M Dec 21 10:21 emoint_embedded_matrix_word2vec.npy\r\n",
      "-rw-rw---- 1 david david  27M Jan  7 17:13 emoint_embedded_matrix_word2vec_twitter.npy\r\n",
      "-rw-rw---- 1 david david 142K Dec 18 15:21 EmoInt_Embedding_Comparison.ipynb\r\n",
      "-rw-rw---- 1 david david  84K Dec 21 11:09 EmoInt_Emotion_Analysis_Bidirectional_LSTM_Threshold_0_33_FastText_local.ipynb\r\n",
      "-rw-rw---- 1 david david  84K Dec 21 11:10 EmoInt_Emotion_Analysis_Bidirectional_LSTM_Threshold_0_33_Glove_local.ipynb\r\n",
      "-rw-rw---- 1 david david  98K Dec 21 10:03 EmoInt_Emotion_Analysis_Bidirectional_LSTM_Threshold_0_33.ipynb\r\n",
      "-rw-rw---- 1 david david  79K Jan  7 10:57 EmoInt_Emotion_Analysis_Bidirectional_LSTM_Threshold_0_33_Word2Vec-GoogleNews_local.ipynb\r\n",
      "-rw-rw---- 1 david david  25K Jan  7 17:13 EmoInt_Emotion_Analysis_Bidirectional_LSTM_Threshold_0_33_Word2Vec-Twitter_local.ipynb\r\n",
      "-rw-rw---- 1 david david 104K Dec 21 13:49 EmoInt_Emotion_Analysis_ConvNet_LSTM_Threshold_0_33.ipynb\r\n",
      "-rw-rw---- 1 david david  92K Dec 21 15:04 EmoInt_Emotion_Analysis_ConvNet_single_Threshold_0_33_local.ipynb\r\n",
      "-rw-rw---- 1 david david  83K Dec 18 15:21 EmoInt_Emotion_Analysis_ConvNet_Threshold_0_30.ipynb\r\n",
      "-rw-rw---- 1 david david  92K Jan  7 16:20 EmoInt_Emotion_Analysis_ConvNet_Threshold_0_33_FastText_local.ipynb\r\n",
      "-rw-rw---- 1 david david 127K Dec 21 11:20 EmoInt_Emotion_Analysis_ConvNet_Threshold_0_33_Glove.ipynb\r\n",
      "-rw-rw---- 1 david david  92K Jan  7 13:15 EmoInt_Emotion_Analysis_ConvNet_Threshold_0_33_Glove_local.ipynb\r\n",
      "-rw-rw---- 1 david david 131K Dec 19 10:26 EmoInt_Emotion_Analysis_ConvNet_Threshold_0_33.ipynb\r\n",
      "-rw-rw---- 1 david david  85K Jan  7 10:57 EmoInt_Emotion_Analysis_ConvNet_Threshold_0_33_Word2Vec-GoogleNews_local.ipynb\r\n",
      "-rw-rw---- 1 david david  82K Jan  7 17:11 EmoInt_Emotion_Analysis_ConvNet_Threshold_0_33_Word2Vec-Twitter_local.ipynb\r\n",
      "-rw-rw---- 1 david david  38K Dec 19 16:14 EmoInt_Emotion_Analysis_Elmo_Threshold_0_33.ipynb\r\n",
      "-rw-rw---- 1 david david 114K Dec 18 15:21 EmoInt_Emotion_Analysis_LSTM_Threshold_0_33.ipynb\r\n",
      "-rw-rw---- 1 david david  75K Dec 18 15:21 EmoInt_Sentiment_Analysis_ConvNet.ipynb\r\n",
      "-rw-rw---- 1 david david  78K Dec 18 15:21 EmoInt_Sentiment_Analysis_LSTM_ConvNet.ipynb\r\n",
      "-rw-rw---- 1 david david 324K Jan  7 17:12 emoint_X_test.npy\r\n",
      "-rw-rw---- 1 david david 337K Jan  7 17:12 emoint_X_train.npy\r\n",
      "-rw-rw---- 1 david david  38K Jan  7 17:12 emoint_X_val.npy\r\n",
      "-rw-rw---- 1 david david  40K Jan  7 17:12 emoint_y_test.npy\r\n",
      "-rw-rw---- 1 david david  41K Jan  7 17:12 emoint_y_train.npy\r\n",
      "-rw-rw---- 1 david david 4.7K Jan  7 17:12 emoint_y_val.npy\r\n",
      "drwxrwx--- 8 david david 4.0K Jan  7 13:42 .git\r\n",
      "-rw-rw---- 1 david david 1.3K Jan  7 11:45 .gitignore\r\n",
      "drwxrwx--- 2 david david 4.0K Jan  7 17:03 .ipynb_checkpoints\r\n",
      "-rw-rw---- 1 david david  29M Jan  7 13:38 isear_convnet_fasttext_wikipedia_model.h5\r\n",
      "-rw-rw---- 1 david david 9.7M Jan  7 13:38 isear_convnet_fasttext_wikipedia_weights.h5\r\n",
      "-rw-rw---- 1 david david  20M Jan  7 13:20 isear_convnet_glove_twitter_model.h5\r\n",
      "-rw-rw---- 1 david david 6.5M Jan  7 13:20 isear_convnet_glove_twitter_weights.h5\r\n",
      "-rw-rw---- 1 david david  29M Jan  7 11:42 isear_convnet_word2vec_googlenews_model.h5\r\n",
      "-rw-rw---- 1 david david 9.7M Jan  7 11:42 isear_convnet_word2vec_googlenews_weights.h5\r\n",
      "-rw-rw---- 1 david david  17M Jan  7 13:37 isear_embedded_matrix_fasttext_wikipedia.npy\r\n",
      "-rw-rw---- 1 david david  11M Jan  7 13:19 isear_embedded_matrix_glove_twitter.npy\r\n",
      "-rw-rw---- 1 david david  17M Jan  7 11:25 isear_embedded_matrix_word2vec_googlenews.npy\r\n",
      "-rw-rw---- 1 david david 247K Dec 18 15:21 ISEAR_Embedding_Comparison.ipynb\r\n",
      "-rw-rw---- 1 david david 120K Jan  7 13:42 ISEAR_Emotion_Analysis_ConvNet_FastText_local.ipynb\r\n",
      "-rw-rw---- 1 david david 121K Jan  7 13:25 ISEAR_Emotion_Analysis_ConvNet_Glove_local.ipynb\r\n",
      "-rw-rw---- 1 david david 149K Jan  7 11:15 ISEAR_Emotion_Analysis_ConvNet_Word2Vec-GoogleNews.ipynb\r\n",
      "-rw-rw---- 1 david david 118K Jan  7 13:11 ISEAR_Emotion_Analysis_ConvNet_Word2Vec-GoogleNews_local.ipynb\r\n",
      "-rw-rw---- 1 david david 1.7M Jan  7 13:37 isear_X_test.npy\r\n",
      "-rw-rw---- 1 david david 3.6M Jan  7 13:37 isear_X_train.npy\r\n",
      "-rw-rw---- 1 david david 403K Jan  7 13:37 isear_X_val.npy\r\n",
      "-rw-rw---- 1 david david  64K Jan  7 13:37 isear_y_test.npy\r\n",
      "-rw-rw---- 1 david david 133K Jan  7 13:37 isear_y_train.npy\r\n",
      "-rw-rw---- 1 david david  15K Jan  7 13:37 isear_y_val.npy\r\n",
      "-rw-rw---- 1 david david  35K Dec 18 15:21 LICENSE\r\n",
      "-rw-rw---- 1 david david   29 Dec 18 15:21 README.md\r\n",
      "drwxr-x--- 3 david david 4.0K Dec 19 16:06 tfhub_modules\r\n",
      "drwxrwx--- 2 david david 4.0K Jan  7 17:14 tmp\r\n"
     ]
    }
   ],
   "source": [
    "!ls -lah"
   ]
  },
  {
   "cell_type": "code",
   "execution_count": 19,
   "metadata": {
    "colab": {},
    "colab_type": "code",
    "id": "b0P0vTv-7RC6"
   },
   "outputs": [],
   "source": [
    "sequences_test=tokenizer.texts_to_sequences(test_data.text)\n",
    "X_test = pad_sequences(sequences_test, maxlen=X_test.shape[1])\n",
    "y_pred = model.predict(X_test)"
   ]
  },
  {
   "cell_type": "code",
   "execution_count": 20,
   "metadata": {
    "colab": {
     "base_uri": "https://localhost:8080/",
     "height": 35
    },
    "colab_type": "code",
    "id": "IgHlDfC_-rS5",
    "outputId": "f3945581-42d0-42a1-b0df-4d91d9f7e6e8"
   },
   "outputs": [
    {
     "data": {
      "text/plain": [
       "dict_keys(['val_loss', 'val_acc', 'loss', 'acc'])"
      ]
     },
     "execution_count": 20,
     "metadata": {},
     "output_type": "execute_result"
    }
   ],
   "source": [
    "history.history.keys()"
   ]
  },
  {
   "cell_type": "code",
   "execution_count": 21,
   "metadata": {
    "colab": {},
    "colab_type": "code",
    "id": "-JaFoS4u_pwS"
   },
   "outputs": [],
   "source": [
    "y_pred_original = [labels[val] for val in np.argmax(y_pred, axis=1).squeeze()]\n",
    "y_test_original = np.asarray(test_data.emotion)"
   ]
  },
  {
   "cell_type": "code",
   "execution_count": 22,
   "metadata": {
    "colab": {},
    "colab_type": "code",
    "id": "BREyqdCAI9d0"
   },
   "outputs": [],
   "source": [
    "def print_confusion_matrix(confusion_matrix, class_names, figsize = (4,3), fontsize=15):\n",
    "    \"\"\"Prints a confusion matrix, as returned by sklearn.metrics.confusion_matrix, as a heatmap.\n",
    "    \n",
    "    Arguments\n",
    "    ---------\n",
    "    confusion_matrix: numpy.ndarray\n",
    "        The numpy.ndarray object returned from a call to sklearn.metrics.confusion_matrix. \n",
    "        Similarly constructed ndarrays can also be used.\n",
    "    class_names: list\n",
    "        An ordered list of class names, in the order they index the given confusion matrix.\n",
    "    figsize: tuple\n",
    "        A 2-long tuple, the first value determining the horizontal size of the ouputted figure,\n",
    "        the second determining the vertical size. Defaults to (10,7).\n",
    "    fontsize: int\n",
    "        Font size for axes labels. Defaults to 14.\n",
    "        \n",
    "    Returns\n",
    "    -------\n",
    "    matplotlib.figure.Figure\n",
    "        The resulting confusion matrix figure\n",
    "    \"\"\"\n",
    "    df_cm = pd.DataFrame(\n",
    "        confusion_matrix, index=class_names, columns=class_names, \n",
    "    )\n",
    "    fig = plt.figure(figsize=figsize)\n",
    "    try:\n",
    "        heatmap = sns.heatmap(df_cm, annot=True, fmt=\"d\")\n",
    "    except ValueError:\n",
    "        raise ValueError(\"Confusion matrix values must be integers.\")\n",
    "    heatmap.yaxis.set_ticklabels(heatmap.yaxis.get_ticklabels(), rotation=0, ha='right', fontsize=fontsize)\n",
    "    heatmap.xaxis.set_ticklabels(heatmap.xaxis.get_ticklabels(), rotation=45, ha='right', fontsize=fontsize)\n",
    "    plt.ylabel('True label')\n",
    "    plt.xlabel('Predicted label')\n",
    "    return fig"
   ]
  },
  {
   "cell_type": "code",
   "execution_count": 23,
   "metadata": {
    "colab": {
     "base_uri": "https://localhost:8080/",
     "height": 173
    },
    "colab_type": "code",
    "id": "XG9HPQb10TZm",
    "outputId": "c9fe229c-43fe-41bd-a3d6-82c163c1ad2f"
   },
   "outputs": [
    {
     "data": {
      "text/html": [
       "<div>\n",
       "<style scoped>\n",
       "    .dataframe tbody tr th:only-of-type {\n",
       "        vertical-align: middle;\n",
       "    }\n",
       "\n",
       "    .dataframe tbody tr th {\n",
       "        vertical-align: top;\n",
       "    }\n",
       "\n",
       "    .dataframe thead th {\n",
       "        text-align: right;\n",
       "    }\n",
       "</style>\n",
       "<table border=\"1\" class=\"dataframe\">\n",
       "  <thead>\n",
       "    <tr style=\"text-align: right;\">\n",
       "      <th></th>\n",
       "      <th>fear</th>\n",
       "      <th>anger</th>\n",
       "      <th>sadness</th>\n",
       "      <th>joy</th>\n",
       "    </tr>\n",
       "  </thead>\n",
       "  <tbody>\n",
       "    <tr>\n",
       "      <th>fear</th>\n",
       "      <td>659</td>\n",
       "      <td>27</td>\n",
       "      <td>87</td>\n",
       "      <td>16</td>\n",
       "    </tr>\n",
       "    <tr>\n",
       "      <th>anger</th>\n",
       "      <td>111</td>\n",
       "      <td>430</td>\n",
       "      <td>82</td>\n",
       "      <td>20</td>\n",
       "    </tr>\n",
       "    <tr>\n",
       "      <th>sadness</th>\n",
       "      <td>93</td>\n",
       "      <td>18</td>\n",
       "      <td>408</td>\n",
       "      <td>14</td>\n",
       "    </tr>\n",
       "    <tr>\n",
       "      <th>joy</th>\n",
       "      <td>33</td>\n",
       "      <td>6</td>\n",
       "      <td>18</td>\n",
       "      <td>486</td>\n",
       "    </tr>\n",
       "  </tbody>\n",
       "</table>\n",
       "</div>"
      ],
      "text/plain": [
       "         fear  anger  sadness  joy\n",
       "fear      659     27       87   16\n",
       "anger     111    430       82   20\n",
       "sadness    93     18      408   14\n",
       "joy        33      6       18  486"
      ]
     },
     "execution_count": 23,
     "metadata": {},
     "output_type": "execute_result"
    }
   ],
   "source": [
    "cf_matrix = confusion_matrix(y_test_original, y_pred_original, labels=labels)\n",
    "\n",
    "df_cm = pd.DataFrame(\n",
    "    cf_matrix, index=labels, columns=labels, \n",
    ")\n",
    "\n",
    "df_cm"
   ]
  },
  {
   "cell_type": "code",
   "execution_count": 24,
   "metadata": {
    "colab": {
     "base_uri": "https://localhost:8080/",
     "height": 282
    },
    "colab_type": "code",
    "id": "59xnXmbEAKXy",
    "outputId": "9f68f9f9-0b05-46df-c050-6be4554b0013"
   },
   "outputs": [
    {
     "name": "stdout",
     "output_type": "stream",
     "text": [
      "Figure(288x216)\n"
     ]
    },
    {
     "data": {
      "image/png": "[encoded data removed]",
      "text/plain": [
       "<Figure size 288x216 with 2 Axes>"
      ]
     },
     "metadata": {
      "needs_background": "light"
     },
     "output_type": "display_data"
    }
   ],
   "source": [
    "print(print_confusion_matrix(cf_matrix, class_names=labels))"
   ]
  },
  {
   "cell_type": "code",
   "execution_count": 25,
   "metadata": {
    "colab": {
     "base_uri": "https://localhost:8080/",
     "height": 35
    },
    "colab_type": "code",
    "id": "9XE5c4LJEZXy",
    "outputId": "6f276941-fb3c-468e-d8d1-87b1625413a4"
   },
   "outputs": [
    {
     "name": "stdout",
     "output_type": "stream",
     "text": [
      "test accuracy: 0.7906698564593302\n"
     ]
    }
   ],
   "source": [
    "test_accuracy = accuracy_score(y_test_original, y_pred_original)\n",
    "print(\"test accuracy:\", test_accuracy)"
   ]
  },
  {
   "cell_type": "markdown",
   "metadata": {
    "colab_type": "text",
    "id": "jAISNDCVwvR7"
   },
   "source": [
    "### Performance score for each classes"
   ]
  },
  {
   "cell_type": "code",
   "execution_count": 26,
   "metadata": {
    "colab": {
     "base_uri": "https://localhost:8080/",
     "height": 173
    },
    "colab_type": "code",
    "id": "iFb9Q6A1DcXi",
    "outputId": "3f6ff514-f49d-4d2a-a94d-f94c8912bd28"
   },
   "outputs": [
    {
     "data": {
      "text/html": [
       "<div>\n",
       "<style scoped>\n",
       "    .dataframe tbody tr th:only-of-type {\n",
       "        vertical-align: middle;\n",
       "    }\n",
       "\n",
       "    .dataframe tbody tr th {\n",
       "        vertical-align: top;\n",
       "    }\n",
       "\n",
       "    .dataframe thead th {\n",
       "        text-align: right;\n",
       "    }\n",
       "</style>\n",
       "<table border=\"1\" class=\"dataframe\">\n",
       "  <thead>\n",
       "    <tr style=\"text-align: right;\">\n",
       "      <th></th>\n",
       "      <th>precision</th>\n",
       "      <th>recall</th>\n",
       "      <th>f1-score</th>\n",
       "      <th>support</th>\n",
       "    </tr>\n",
       "  </thead>\n",
       "  <tbody>\n",
       "    <tr>\n",
       "      <th>fear</th>\n",
       "      <td>0.8940</td>\n",
       "      <td>0.6687</td>\n",
       "      <td>0.7651</td>\n",
       "      <td>643</td>\n",
       "    </tr>\n",
       "    <tr>\n",
       "      <th>anger</th>\n",
       "      <td>0.7355</td>\n",
       "      <td>0.8352</td>\n",
       "      <td>0.7822</td>\n",
       "      <td>789</td>\n",
       "    </tr>\n",
       "    <tr>\n",
       "      <th>sadness</th>\n",
       "      <td>0.9067</td>\n",
       "      <td>0.8950</td>\n",
       "      <td>0.9008</td>\n",
       "      <td>543</td>\n",
       "    </tr>\n",
       "    <tr>\n",
       "      <th>joy</th>\n",
       "      <td>0.6857</td>\n",
       "      <td>0.7655</td>\n",
       "      <td>0.7234</td>\n",
       "      <td>533</td>\n",
       "    </tr>\n",
       "  </tbody>\n",
       "</table>\n",
       "</div>"
      ],
      "text/plain": [
       "         precision  recall  f1-score  support\n",
       "fear        0.8940  0.6687    0.7651      643\n",
       "anger       0.7355  0.8352    0.7822      789\n",
       "sadness     0.9067  0.8950    0.9008      543\n",
       "joy         0.6857  0.7655    0.7234      533"
      ]
     },
     "execution_count": 26,
     "metadata": {},
     "output_type": "execute_result"
    }
   ],
   "source": [
    "precision, recall, fscore, support = precision_recall_fscore_support(y_test_original, y_pred_original)\n",
    "score_dict = {\n",
    "  \"precision\": precision.round(4),\n",
    "  \"recall\": recall.round(4),\n",
    "  \"f1-score\": fscore.round(4),\n",
    "  \"support\": support.round(4)\n",
    "}\n",
    "score_df = pd.DataFrame(score_dict, index=labels)\n",
    "score_df"
   ]
  },
  {
   "cell_type": "markdown",
   "metadata": {
    "colab_type": "text",
    "id": "cHi1Gw7Oz1zG"
   },
   "source": [
    "### Performance score using micro average"
   ]
  },
  {
   "cell_type": "code",
   "execution_count": 27,
   "metadata": {
    "colab": {
     "base_uri": "https://localhost:8080/",
     "height": 80
    },
    "colab_type": "code",
    "id": "KP69PDE9D_jz",
    "outputId": "092c1a18-323c-402c-91c3-9bcfef72a24e"
   },
   "outputs": [
    {
     "data": {
      "text/html": [
       "<div>\n",
       "<style scoped>\n",
       "    .dataframe tbody tr th:only-of-type {\n",
       "        vertical-align: middle;\n",
       "    }\n",
       "\n",
       "    .dataframe tbody tr th {\n",
       "        vertical-align: top;\n",
       "    }\n",
       "\n",
       "    .dataframe thead th {\n",
       "        text-align: right;\n",
       "    }\n",
       "</style>\n",
       "<table border=\"1\" class=\"dataframe\">\n",
       "  <thead>\n",
       "    <tr style=\"text-align: right;\">\n",
       "      <th></th>\n",
       "      <th>precision</th>\n",
       "      <th>recall</th>\n",
       "      <th>f1-score</th>\n",
       "      <th>support</th>\n",
       "    </tr>\n",
       "  </thead>\n",
       "  <tbody>\n",
       "    <tr>\n",
       "      <th>score</th>\n",
       "      <td>0.7907</td>\n",
       "      <td>0.7907</td>\n",
       "      <td>0.7907</td>\n",
       "      <td>None</td>\n",
       "    </tr>\n",
       "  </tbody>\n",
       "</table>\n",
       "</div>"
      ],
      "text/plain": [
       "       precision  recall  f1-score support\n",
       "score     0.7907  0.7907    0.7907    None"
      ]
     },
     "execution_count": 27,
     "metadata": {},
     "output_type": "execute_result"
    }
   ],
   "source": [
    "precision, recall, fscore, support = precision_recall_fscore_support(y_test_original, y_pred_original, average=\"micro\")\n",
    "score_dict = {\n",
    "  \"precision\": precision.round(4),\n",
    "  \"recall\": recall.round(4),\n",
    "  \"f1-score\": fscore.round(4),\n",
    "  \"support\": support\n",
    "}\n",
    "score_df = pd.DataFrame(score_dict, index=[\"score\"])\n",
    "score_df"
   ]
  },
  {
   "cell_type": "markdown",
   "metadata": {
    "colab_type": "text",
    "id": "IWXNCktiz8Vb"
   },
   "source": [
    "### Performance score using macro average"
   ]
  },
  {
   "cell_type": "code",
   "execution_count": 28,
   "metadata": {
    "colab": {
     "base_uri": "https://localhost:8080/",
     "height": 80
    },
    "colab_type": "code",
    "id": "g4e0vsNIydDs",
    "outputId": "55b1571b-4072-4375-e9bf-464c04876875"
   },
   "outputs": [
    {
     "data": {
      "text/html": [
       "<div>\n",
       "<style scoped>\n",
       "    .dataframe tbody tr th:only-of-type {\n",
       "        vertical-align: middle;\n",
       "    }\n",
       "\n",
       "    .dataframe tbody tr th {\n",
       "        vertical-align: top;\n",
       "    }\n",
       "\n",
       "    .dataframe thead th {\n",
       "        text-align: right;\n",
       "    }\n",
       "</style>\n",
       "<table border=\"1\" class=\"dataframe\">\n",
       "  <thead>\n",
       "    <tr style=\"text-align: right;\">\n",
       "      <th></th>\n",
       "      <th>precision</th>\n",
       "      <th>recall</th>\n",
       "      <th>f1-score</th>\n",
       "      <th>support</th>\n",
       "    </tr>\n",
       "  </thead>\n",
       "  <tbody>\n",
       "    <tr>\n",
       "      <th>score</th>\n",
       "      <td>0.8055</td>\n",
       "      <td>0.7911</td>\n",
       "      <td>0.7929</td>\n",
       "      <td>None</td>\n",
       "    </tr>\n",
       "  </tbody>\n",
       "</table>\n",
       "</div>"
      ],
      "text/plain": [
       "       precision  recall  f1-score support\n",
       "score     0.8055  0.7911    0.7929    None"
      ]
     },
     "execution_count": 28,
     "metadata": {},
     "output_type": "execute_result"
    }
   ],
   "source": [
    "precision, recall, fscore, support = precision_recall_fscore_support(y_test_original, y_pred_original, average=\"macro\")\n",
    "score_dict = {\n",
    "  \"precision\": precision.round(4),\n",
    "  \"recall\": recall.round(4),\n",
    "  \"f1-score\": fscore.round(4),\n",
    "  \"support\": support\n",
    "}\n",
    "score_df = pd.DataFrame(score_dict, index=[\"score\"])\n",
    "score_df"
   ]
  },
  {
   "cell_type": "markdown",
   "metadata": {
    "colab_type": "text",
    "id": "wFJFH7u6z-oG"
   },
   "source": [
    "### Performance score using weighted average"
   ]
  },
  {
   "cell_type": "code",
   "execution_count": 29,
   "metadata": {
    "colab": {
     "base_uri": "https://localhost:8080/",
     "height": 80
    },
    "colab_type": "code",
    "id": "z99JkHjuzv68",
    "outputId": "f2b1675b-1673-482a-a993-04fb5de9afe7"
   },
   "outputs": [
    {
     "data": {
      "text/html": [
       "<div>\n",
       "<style scoped>\n",
       "    .dataframe tbody tr th:only-of-type {\n",
       "        vertical-align: middle;\n",
       "    }\n",
       "\n",
       "    .dataframe tbody tr th {\n",
       "        vertical-align: top;\n",
       "    }\n",
       "\n",
       "    .dataframe thead th {\n",
       "        text-align: right;\n",
       "    }\n",
       "</style>\n",
       "<table border=\"1\" class=\"dataframe\">\n",
       "  <thead>\n",
       "    <tr style=\"text-align: right;\">\n",
       "      <th></th>\n",
       "      <th>precision</th>\n",
       "      <th>recall</th>\n",
       "      <th>f1-score</th>\n",
       "      <th>support</th>\n",
       "    </tr>\n",
       "  </thead>\n",
       "  <tbody>\n",
       "    <tr>\n",
       "      <th>score</th>\n",
       "      <td>0.8026</td>\n",
       "      <td>0.7907</td>\n",
       "      <td>0.791</td>\n",
       "      <td>None</td>\n",
       "    </tr>\n",
       "  </tbody>\n",
       "</table>\n",
       "</div>"
      ],
      "text/plain": [
       "       precision  recall  f1-score support\n",
       "score     0.8026  0.7907     0.791    None"
      ]
     },
     "execution_count": 29,
     "metadata": {},
     "output_type": "execute_result"
    }
   ],
   "source": [
    "precision, recall, fscore, support = precision_recall_fscore_support(y_test_original, y_pred_original, average=\"weighted\")\n",
    "score_dict = {\n",
    "  \"precision\": precision.round(4),\n",
    "  \"recall\": recall.round(4),\n",
    "  \"f1-score\": fscore.round(4),\n",
    "  \"support\": support\n",
    "}\n",
    "score_df = pd.DataFrame(score_dict, index=[\"score\"])\n",
    "score_df"
   ]
  },
  {
   "cell_type": "markdown",
   "metadata": {},
   "source": [
    "### Cohen Kapaa score"
   ]
  },
  {
   "cell_type": "code",
   "execution_count": 30,
   "metadata": {
    "colab": {
     "base_uri": "https://localhost:8080/",
     "height": 35
    },
    "colab_type": "code",
    "id": "Y83dx5SyoBR8",
    "outputId": "0d58dac8-378d-4f59-9471-25c23d188bfc"
   },
   "outputs": [
    {
     "name": "stdout",
     "output_type": "stream",
     "text": [
      "kappa: 0.7177887601609549\n"
     ]
    }
   ],
   "source": [
    "from sklearn.metrics import cohen_kappa_score\n",
    "\n",
    "kappa_score = cohen_kappa_score(y_test_original, y_pred_original, labels=labels)\n",
    "print(\"kappa:\", kappa_score)"
   ]
  },
  {
   "cell_type": "code",
   "execution_count": null,
   "metadata": {
    "colab": {},
    "colab_type": "code",
    "id": "5womFgI2kjed"
   },
   "outputs": [],
   "source": []
  }
 ],
 "metadata": {
  "accelerator": "GPU",
  "colab": {
   "collapsed_sections": [],
   "include_colab_link": true,
   "name": "EmoInt-Emotion-Analysis-Bidirectional-LSTM-Threshold-0.33.ipynb",
   "provenance": [],
   "version": "0.3.2"
  },
  "kernelspec": {
   "display_name": "Python 3",
   "language": "python",
   "name": "python3"
  },
  "language_info": {
   "codemirror_mode": {
    "name": "ipython",
    "version": 3
   },
   "file_extension": ".py",
   "mimetype": "text/x-python",
   "name": "python",
   "nbconvert_exporter": "python",
   "pygments_lexer": "ipython3",
   "version": "3.6.7"
  }
 },
 "nbformat": 4,
 "nbformat_minor": 1
}
