{
 "cells": [
  {
   "cell_type": "code",
   "execution_count": 1,
   "metadata": {
    "colab": {
     "base_uri": "https://localhost:8080/",
     "height": 51
    },
    "colab_type": "code",
    "id": "OdaHCMv2rGKs",
    "outputId": "3931d820-a09c-46ba-c6e4-0d01a1141af7"
   },
   "outputs": [
    {
     "name": "stderr",
     "output_type": "stream",
     "text": [
      "/home/david/anaconda3/envs/machinelearning/lib/python3.6/site-packages/h5py/__init__.py:36: FutureWarning: Conversion of the second argument of issubdtype from `float` to `np.floating` is deprecated. In future, it will be treated as `np.float64 == np.dtype(float).type`.\n",
      "  from ._conv import register_converters as _register_converters\n",
      "Using TensorFlow backend.\n"
     ]
    },
    {
     "name": "stdout",
     "output_type": "stream",
     "text": [
      "1.10.0\n"
     ]
    }
   ],
   "source": [
    "import os\n",
    "import tensorflow as tf\n",
    "import tensorflow_hub as hub\n",
    "from tensorflow import keras\n",
    "import numpy as np\n",
    "import urllib.request\n",
    "import pandas as pd\n",
    "from gensim.test.utils import common_texts, get_tmpfile\n",
    "from gensim.utils import simple_preprocess\n",
    "from gensim.models import Word2Vec\n",
    "from tempfile import gettempdir\n",
    "import zipfile\n",
    "from keras.preprocessing.text import Tokenizer\n",
    "from keras.preprocessing.sequence import pad_sequences\n",
    "from keras.utils import to_categorical\n",
    "from sklearn.metrics import confusion_matrix, classification_report, accuracy_score, brier_score_loss\n",
    "import matplotlib.pyplot as plt\n",
    "import seaborn as sns\n",
    "\n",
    "print(tf.__version__)"
   ]
  },
  {
   "cell_type": "code",
   "execution_count": 2,
   "metadata": {},
   "outputs": [],
   "source": [
    "module_url = \"https://tfhub.dev/google/universal-sentence-encoder-large/3\" #@param [\"https://tfhub.dev/google/universal-sentence-encoder/2\", \"https://tfhub.dev/google/universal-sentence-encoder-large/3\"]"
   ]
  },
  {
   "cell_type": "code",
   "execution_count": 3,
   "metadata": {},
   "outputs": [
    {
     "name": "stdout",
     "output_type": "stream",
     "text": [
      "INFO:tensorflow:Using /tmp/tfhub_modules to cache modules.\n",
      "INFO:tensorflow:Downloading TF-Hub Module 'https://tfhub.dev/google/universal-sentence-encoder-large/3'.\n",
      "INFO:tensorflow:Downloaded TF-Hub Module 'https://tfhub.dev/google/universal-sentence-encoder-large/3'.\n"
     ]
    }
   ],
   "source": [
    "# Import the Universal Sentence Encoder's TF Hub module\n",
    "tf_use_embed = hub.Module(module_url)"
   ]
  },
  {
   "cell_type": "code",
   "execution_count": 4,
   "metadata": {},
   "outputs": [
    {
     "name": "stdout",
     "output_type": "stream",
     "text": [
      "Sentence: I love you so much\n",
      "Embedding size: 512\n",
      "Embedding: [-0.036388035863637924, -0.07312507927417755, 0.0075263469479978085, ...]\n",
      "\n",
      "Sentence: I hate that movie, there are no plotline or even interesting scenes\n",
      "Embedding size: 512\n",
      "Embedding: [0.016185179352760315, 0.059069760143756866, -0.005612705834209919, ...]\n",
      "\n"
     ]
    }
   ],
   "source": [
    "sentences = [\"I love you so much\", \"I hate that movie, there are no plotline or even interesting scenes\"]\n",
    "# Reduce logging output.\n",
    "tf.logging.set_verbosity(tf.logging.ERROR)\n",
    "\n",
    "with tf.Session() as session:\n",
    "    session.run([tf.global_variables_initializer(), tf.tables_initializer()])\n",
    "    embedded_sentences = session.run(tf_use_embed(sentences))\n",
    "    for i, embedded_sentence in enumerate(np.array(embedded_sentences).tolist()):\n",
    "        print(\"Sentence: {}\".format(sentences[i]))\n",
    "        print(\"Embedding size: {}\".format(len(embedded_sentence)))\n",
    "        message_embedding_snippet = \", \".join(\n",
    "            (str(x) for x in embedded_sentence[:3]))\n",
    "        print(\"Embedding: [{}, ...]\\n\".format(message_embedding_snippet))"
   ]
  },
  {
   "cell_type": "code",
   "execution_count": 5,
   "metadata": {},
   "outputs": [],
   "source": [
    "def embed_use(sentences):\n",
    "    with tf.Session() as session:\n",
    "        session.run([tf.global_variables_initializer(), tf.tables_initializer()])\n",
    "        embedded_sentences = session.run(tf_use_embed(sentences))\n",
    "        return embedded_sentences"
   ]
  },
  {
   "cell_type": "code",
   "execution_count": 6,
   "metadata": {
    "colab": {},
    "colab_type": "code",
    "id": "oBynQmEcrNAy"
   },
   "outputs": [],
   "source": [
    "class EmoIntDataset(object):\n",
    "    BASE_URL = \"http://saifmohammad.com/WebDocs/\"\n",
    "    TRAIN_URI = \"EmoInt%20Train%20Data/{}-ratings-0to1.train.txt\"\n",
    "    TEST_URI = \"EmoInt%20Test%20Gold%20Data/{}-ratings-0to1.test.gold.txt\"\n",
    "    EMOTION_CLASSES = [\"anger\", \"fear\", \"joy\", \"sadness\"]\n",
    "  \n",
    "    THRESHOLD = 0.33\n",
    "  \n",
    "    def __load_data_per_class(self, url, threshold=0):\n",
    "        resource = urllib.request.urlopen(url)\n",
    "        np_array = np.asarray([line.split('\\t') for line in [line.strip() for line in resource.read().decode('utf-8').splitlines()]])\n",
    "        df = pd.DataFrame(np_array, columns=[\"id\", \"text\", \"emotion\", \"emotion_level\"])\n",
    "        df['emotion_level'] = df['emotion_level'].astype(float)\n",
    "        df = df.query('emotion_level>' + str(threshold))\n",
    "        return df[[\"text\", \"emotion\"]]\n",
    "  \n",
    "    def load_data(self, set_threshold=False):\n",
    "        train_data = None\n",
    "        test_data = None\n",
    "    \n",
    "        for emotion in self.EMOTION_CLASSES:\n",
    "            # load train dataset\n",
    "            train_df = self.__load_data_per_class(self.BASE_URL + self.TRAIN_URI.format(emotion), threshold=(self.THRESHOLD if set_threshold else 0))\n",
    "      \n",
    "            # load test dataset\n",
    "            test_df = self.__load_data_per_class(self.BASE_URL + self.TEST_URI.format(emotion), threshold=(self.THRESHOLD if set_threshold else 0))\n",
    "      \n",
    "            train_data = (train_df if train_data is None else train_data.append(train_df))\n",
    "            test_data = (test_df if test_data is None else test_data.append(test_df))\n",
    "      \n",
    "        return train_data, test_data"
   ]
  },
  {
   "cell_type": "code",
   "execution_count": 7,
   "metadata": {
    "colab": {
     "base_uri": "https://localhost:8080/",
     "height": 68
    },
    "colab_type": "code",
    "id": "tevwfq4Tu6fe",
    "outputId": "70a5d7b3-2948-4535-c3a1-05e144212259"
   },
   "outputs": [
    {
     "name": "stdout",
     "output_type": "stream",
     "text": [
      "(2901, 2)\n",
      "(2508, 2)\n"
     ]
    }
   ],
   "source": [
    "emo_int_dataset = EmoIntDataset()\n",
    "train_data, test_data = emo_int_dataset.load_data(set_threshold=True)\n",
    "\n",
    "# val_iddata=train_data.sample(frac=0.1,random_state=200)\n",
    "# train_data=train_data.drop(val_data.index)\n",
    "\n",
    "print(train_data.shape)\n",
    "# print(valid_data.shape)\n",
    "print(test_data.shape)"
   ]
  },
  {
   "cell_type": "code",
   "execution_count": 8,
   "metadata": {
    "colab": {
     "base_uri": "https://localhost:8080/",
     "height": 51
    },
    "colab_type": "code",
    "id": "J-xXkD_4175U",
    "outputId": "b8217638-83f4-4113-ee29-fc7c7de6d09e"
   },
   "outputs": [
    {
     "name": "stdout",
     "output_type": "stream",
     "text": [
      "{'anger': 0, 'fear': 1, 'joy': 2, 'sadness': 3}\n",
      "['anger', 'fear', 'joy', 'sadness']\n"
     ]
    }
   ],
   "source": [
    "emotions = train_data.emotion.unique()\n",
    "dic = dict()\n",
    "labels = []\n",
    "for i, emotion in enumerate(emotions):\n",
    "    dic[emotion]=i\n",
    "    labels.append(emotion)\n",
    "print(dic)\n",
    "print(labels)"
   ]
  },
  {
   "cell_type": "markdown",
   "metadata": {},
   "source": [
    "# Embed with Universal Sentence Encoder"
   ]
  },
  {
   "cell_type": "code",
   "execution_count": 9,
   "metadata": {},
   "outputs": [],
   "source": [
    "train_embedded_use = embed_use(train_data.text.tolist())\n",
    "# valid_embedded_use = embed_use(valid_data.text.tolist())\n",
    "test_embedded_use = embed_use(test_data.text.tolist())"
   ]
  },
  {
   "cell_type": "code",
   "execution_count": 10,
   "metadata": {},
   "outputs": [],
   "source": [
    "train_labels = np.array(train_data.emotion.apply(lambda x:dic[x]))\n",
    "# valid_labels = np.array(valid_data.emotion.apply(lambda x:dic[x]))\n",
    "test_labels = np.array(test_data.emotion.apply(lambda x:dic[x]))"
   ]
  },
  {
   "cell_type": "markdown",
   "metadata": {},
   "source": [
    "# SVM Classifier"
   ]
  },
  {
   "cell_type": "code",
   "execution_count": 11,
   "metadata": {},
   "outputs": [
    {
     "data": {
      "text/plain": [
       "SVC(C=1.0, cache_size=200, class_weight=None, coef0=0.0,\n",
       "  decision_function_shape='ovo', degree=3, gamma='scale', kernel='rbf',\n",
       "  max_iter=-1, probability=False, random_state=None, shrinking=True,\n",
       "  tol=0.001, verbose=False)"
      ]
     },
     "execution_count": 11,
     "metadata": {},
     "output_type": "execute_result"
    }
   ],
   "source": [
    "from sklearn import svm\n",
    "clfSVM = svm.SVC(gamma='scale', decision_function_shape='ovo')\n",
    "clfSVM.fit(train_embedded_use, train_labels)"
   ]
  },
  {
   "cell_type": "code",
   "execution_count": 25,
   "metadata": {},
   "outputs": [],
   "source": [
    "test_pred_labels = clfSVM.predict(test_embedded_use)"
   ]
  },
  {
   "cell_type": "code",
   "execution_count": 26,
   "metadata": {},
   "outputs": [
    {
     "data": {
      "text/plain": [
       "array([[422, 157,  37,  27],\n",
       "       [125, 588,  33,  43],\n",
       "       [ 28,  57, 436,  22],\n",
       "       [ 80, 170,  43, 240]])"
      ]
     },
     "execution_count": 26,
     "metadata": {},
     "output_type": "execute_result"
    }
   ],
   "source": [
    "cmSVM = confusion_matrix(test_labels, test_pred_labels)\n",
    "cmSVM"
   ]
  },
  {
   "cell_type": "code",
   "execution_count": 27,
   "metadata": {},
   "outputs": [
    {
     "name": "stdout",
     "output_type": "stream",
     "text": [
      "              precision    recall  f1-score   support\n",
      "\n",
      "       anger       0.64      0.66      0.65       643\n",
      "        fear       0.60      0.75      0.67       789\n",
      "         joy       0.79      0.80      0.80       543\n",
      "     sadness       0.72      0.45      0.55       533\n",
      "\n",
      "   micro avg       0.67      0.67      0.67      2508\n",
      "   macro avg       0.69      0.66      0.67      2508\n",
      "weighted avg       0.68      0.67      0.67      2508\n",
      "\n"
     ]
    }
   ],
   "source": [
    "reportSVM = classification_report(test_labels, test_pred_labels, target_names=labels)\n",
    "print(reportSVM)"
   ]
  },
  {
   "cell_type": "markdown",
   "metadata": {},
   "source": [
    "# TfIdfVectorizer + SVM Classifier"
   ]
  },
  {
   "cell_type": "code",
   "execution_count": 15,
   "metadata": {},
   "outputs": [],
   "source": [
    "from sklearn.feature_extraction.text import TfidfVectorizer\n",
    "\n",
    "tfidf_vectorizer = TfidfVectorizer(max_df=0.7, min_df=3, use_idf=True) \n",
    "train_tfidf_vectors = tfidf_vectorizer.fit_transform(train_data.text.tolist())\n",
    "test_tfidf_vectors = tfidf_vectorizer.transform(test_data.text.tolist())"
   ]
  },
  {
   "cell_type": "code",
   "execution_count": 18,
   "metadata": {},
   "outputs": [
    {
     "data": {
      "text/plain": [
       "SVC(C=10000.0, cache_size=200, class_weight=None, coef0=0.0,\n",
       "  decision_function_shape='ovr', degree=3, gamma='auto', kernel='rbf',\n",
       "  max_iter=-1, probability=False, random_state=None, shrinking=True,\n",
       "  tol=0.001, verbose=False)"
      ]
     },
     "execution_count": 18,
     "metadata": {},
     "output_type": "execute_result"
    }
   ],
   "source": [
    "from sklearn import svm\n",
    "clf_SVM_Tfidf = svm.SVC(C=10000.0, gamma='auto', kernel='rbf')\n",
    "clf_SVM_Tfidf.fit(train_tfidf_vectors, train_labels)"
   ]
  },
  {
   "cell_type": "code",
   "execution_count": 29,
   "metadata": {},
   "outputs": [],
   "source": [
    "test_pred_labels_Tfidf = clf_SVM_Tfidf.predict(test_tfidf_vectors)"
   ]
  },
  {
   "cell_type": "code",
   "execution_count": 30,
   "metadata": {},
   "outputs": [
    {
     "data": {
      "text/plain": [
       "array([[503,  63,  21,  56],\n",
       "       [ 88, 562,  40,  99],\n",
       "       [ 30,  58, 440,  15],\n",
       "       [ 62,  78,  21, 372]])"
      ]
     },
     "execution_count": 30,
     "metadata": {},
     "output_type": "execute_result"
    }
   ],
   "source": [
    "cmSVM_Tfidf = confusion_matrix(test_labels, test_pred_labels_Tfidf)\n",
    "cmSVM_Tfidf"
   ]
  },
  {
   "cell_type": "code",
   "execution_count": 31,
   "metadata": {},
   "outputs": [
    {
     "name": "stdout",
     "output_type": "stream",
     "text": [
      "              precision    recall  f1-score   support\n",
      "\n",
      "       anger       0.74      0.78      0.76       643\n",
      "        fear       0.74      0.71      0.73       789\n",
      "         joy       0.84      0.81      0.83       543\n",
      "     sadness       0.69      0.70      0.69       533\n",
      "\n",
      "   micro avg       0.75      0.75      0.75      2508\n",
      "   macro avg       0.75      0.75      0.75      2508\n",
      "weighted avg       0.75      0.75      0.75      2508\n",
      "\n"
     ]
    }
   ],
   "source": [
    "reportSVM = classification_report(test_labels, test_pred_labels_Tfidf, target_names=labels)\n",
    "print(reportSVM)"
   ]
  },
  {
   "cell_type": "markdown",
   "metadata": {},
   "source": [
    "# CountVectorizer + TfIdfVectorizer + SVM Classifier"
   ]
  },
  {
   "cell_type": "code",
   "execution_count": null,
   "metadata": {},
   "outputs": [],
   "source": [
    "# Initialize a CountVectorizer object: count_vectorizer\n",
    "count_vec = CountVectorizer(stop_words=\"english\", analyzer='word', \n",
    "                            ngram_range=(1, 1), max_df=1.0, min_df=1, max_features=None)"
   ]
  }
 ],
 "metadata": {
  "accelerator": "GPU",
  "colab": {
   "collapsed_sections": [],
   "include_colab_link": true,
   "name": "EmoInt-Emotion-Analysis-LSTM-Threshold-0.33.ipynb",
   "provenance": [],
   "version": "0.3.2"
  },
  "kernelspec": {
   "display_name": "Python 3",
   "language": "python",
   "name": "python3"
  },
  "language_info": {
   "codemirror_mode": {
    "name": "ipython",
    "version": 3
   },
   "file_extension": ".py",
   "mimetype": "text/x-python",
   "name": "python",
   "nbconvert_exporter": "python",
   "pygments_lexer": "ipython3",
   "version": "3.6.6"
  }
 },
 "nbformat": 4,
 "nbformat_minor": 1
}
