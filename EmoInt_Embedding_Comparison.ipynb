{
  "nbformat": 4,
  "nbformat_minor": 0,
  "metadata": {
    "colab": {
      "name": "EmoInt Embedding Comparison",
      "version": "0.3.2",
      "provenance": [],
      "collapsed_sections": [],
      "include_colab_link": true
    },
    "kernelspec": {
      "name": "python3",
      "display_name": "Python 3"
    },
    "accelerator": "GPU"
  },
  "cells": [
    {
      "cell_type": "markdown",
      "metadata": {
        "id": "view-in-github",
        "colab_type": "text"
      },
      "source": [
        "<a href=\"https://colab.research.google.com/github/nakamura41/emotion_detection_notebooks/blob/master/EmoInt_Embedding_Comparison.ipynb\" target=\"_parent\"><img src=\"https://colab.research.google.com/assets/colab-badge.svg\" alt=\"Open In Colab\"/></a>"
      ]
    },
    {
      "metadata": {
        "id": "c95s_IW-AeyH",
        "colab_type": "code",
        "outputId": "8273a750-e401-4e47-ef02-c6122a8ea908",
        "colab": {
          "base_uri": "https://localhost:8080/",
          "height": 361
        }
      },
      "cell_type": "code",
      "source": [
        "!pip install gensim"
      ],
      "execution_count": 2,
      "outputs": [
        {
          "output_type": "stream",
          "text": [
            "Requirement already satisfied: gensim in /usr/local/lib/python3.6/dist-packages (3.6.0)\n",
            "Requirement already satisfied: numpy>=1.11.3 in /usr/local/lib/python3.6/dist-packages (from gensim) (1.14.6)\n",
            "Requirement already satisfied: scipy>=0.18.1 in /usr/local/lib/python3.6/dist-packages (from gensim) (1.1.0)\n",
            "Requirement already satisfied: smart-open>=1.2.1 in /usr/local/lib/python3.6/dist-packages (from gensim) (1.7.1)\n",
            "Requirement already satisfied: six>=1.5.0 in /usr/local/lib/python3.6/dist-packages (from gensim) (1.11.0)\n",
            "Requirement already satisfied: boto>=2.32 in /usr/local/lib/python3.6/dist-packages (from smart-open>=1.2.1->gensim) (2.49.0)\n",
            "Requirement already satisfied: boto3 in /usr/local/lib/python3.6/dist-packages (from smart-open>=1.2.1->gensim) (1.9.41)\n",
            "Requirement already satisfied: requests in /usr/local/lib/python3.6/dist-packages (from smart-open>=1.2.1->gensim) (2.18.4)\n",
            "Requirement already satisfied: bz2file in /usr/local/lib/python3.6/dist-packages (from smart-open>=1.2.1->gensim) (0.98)\n",
            "Requirement already satisfied: s3transfer<0.2.0,>=0.1.10 in /usr/local/lib/python3.6/dist-packages (from boto3->smart-open>=1.2.1->gensim) (0.1.13)\n",
            "Requirement already satisfied: botocore<1.13.0,>=1.12.41 in /usr/local/lib/python3.6/dist-packages (from boto3->smart-open>=1.2.1->gensim) (1.12.41)\n",
            "Requirement already satisfied: jmespath<1.0.0,>=0.7.1 in /usr/local/lib/python3.6/dist-packages (from boto3->smart-open>=1.2.1->gensim) (0.9.3)\n",
            "Requirement already satisfied: certifi>=2017.4.17 in /usr/local/lib/python3.6/dist-packages (from requests->smart-open>=1.2.1->gensim) (2018.10.15)\n",
            "Requirement already satisfied: urllib3<1.23,>=1.21.1 in /usr/local/lib/python3.6/dist-packages (from requests->smart-open>=1.2.1->gensim) (1.22)\n",
            "Requirement already satisfied: chardet<3.1.0,>=3.0.2 in /usr/local/lib/python3.6/dist-packages (from requests->smart-open>=1.2.1->gensim) (3.0.4)\n",
            "Requirement already satisfied: idna<2.7,>=2.5 in /usr/local/lib/python3.6/dist-packages (from requests->smart-open>=1.2.1->gensim) (2.6)\n",
            "Requirement already satisfied: python-dateutil<3.0.0,>=2.1; python_version >= \"2.7\" in /usr/local/lib/python3.6/dist-packages (from botocore<1.13.0,>=1.12.41->boto3->smart-open>=1.2.1->gensim) (2.5.3)\n",
            "Requirement already satisfied: docutils>=0.10 in /usr/local/lib/python3.6/dist-packages (from botocore<1.13.0,>=1.12.41->boto3->smart-open>=1.2.1->gensim) (0.14)\n"
          ],
          "name": "stdout"
        }
      ]
    },
    {
      "metadata": {
        "colab_type": "code",
        "id": "OdaHCMv2rGKs",
        "outputId": "b98ee4b1-30c2-47ab-ac51-9c04d46c4477",
        "colab": {
          "base_uri": "https://localhost:8080/",
          "height": 53
        }
      },
      "cell_type": "code",
      "source": [
        "import os\n",
        "import tensorflow as tf\n",
        "import tensorflow_hub as hub\n",
        "from tensorflow import keras\n",
        "import numpy as np\n",
        "import urllib.request\n",
        "import pandas as pd\n",
        "from gensim.test.utils import common_texts, get_tmpfile\n",
        "from gensim.utils import simple_preprocess\n",
        "from gensim.models import Word2Vec\n",
        "from tempfile import gettempdir\n",
        "import zipfile\n",
        "from keras.preprocessing.text import Tokenizer\n",
        "from keras.preprocessing.sequence import pad_sequences\n",
        "from keras.utils import to_categorical\n",
        "from sklearn.model_selection import train_test_split\n",
        "from sklearn.metrics import confusion_matrix, classification_report, accuracy_score, brier_score_loss\n",
        "import matplotlib.pyplot as plt\n",
        "import seaborn as sns\n",
        "\n",
        "print(tf.__version__)"
      ],
      "execution_count": 3,
      "outputs": [
        {
          "output_type": "stream",
          "text": [
            "1.12.0\n"
          ],
          "name": "stdout"
        },
        {
          "output_type": "stream",
          "text": [
            "Using TensorFlow backend.\n"
          ],
          "name": "stderr"
        }
      ]
    },
    {
      "metadata": {
        "id": "wWC0XDwDASUM",
        "colab_type": "code",
        "colab": {}
      },
      "cell_type": "code",
      "source": [
        "module_url = \"https://tfhub.dev/google/universal-sentence-encoder-large/3\" #@param [\"https://tfhub.dev/google/universal-sentence-encoder/2\", \"https://tfhub.dev/google/universal-sentence-encoder-large/3\"]"
      ],
      "execution_count": 0,
      "outputs": []
    },
    {
      "metadata": {
        "id": "IElRtsQwASUP",
        "colab_type": "code",
        "outputId": "d008f4ee-cbe8-4c0f-bac7-69c653bf9abe",
        "colab": {
          "base_uri": "https://localhost:8080/",
          "height": 35
        }
      },
      "cell_type": "code",
      "source": [
        "# Import the Universal Sentence Encoder's TF Hub module\n",
        "tf_use_embed = hub.Module(module_url)"
      ],
      "execution_count": 5,
      "outputs": [
        {
          "output_type": "stream",
          "text": [
            "INFO:tensorflow:Using /tmp/tfhub_modules to cache modules.\n"
          ],
          "name": "stdout"
        }
      ]
    },
    {
      "metadata": {
        "id": "0RhkgBlRASUR",
        "colab_type": "code",
        "outputId": "22d4b59d-610c-4e48-b419-7d2f4463ea66",
        "colab": {
          "base_uri": "https://localhost:8080/",
          "height": 161
        }
      },
      "cell_type": "code",
      "source": [
        "sentences = [\"I love you so much\", \"I hate that movie, there are no plotline or even interesting scenes\"]\n",
        "# Reduce logging output.\n",
        "tf.logging.set_verbosity(tf.logging.ERROR)\n",
        "\n",
        "with tf.Session() as session:\n",
        "    session.run([tf.global_variables_initializer(), tf.tables_initializer()])\n",
        "    embedded_sentences = session.run(tf_use_embed(sentences))\n",
        "    for i, embedded_sentence in enumerate(np.array(embedded_sentences).tolist()):\n",
        "        print(\"Sentence: {}\".format(sentences[i]))\n",
        "        print(\"Embedding size: {}\".format(len(embedded_sentence)))\n",
        "        message_embedding_snippet = \", \".join(\n",
        "            (str(x) for x in embedded_sentence[:3]))\n",
        "        print(\"Embedding: [{}, ...]\\n\".format(message_embedding_snippet))"
      ],
      "execution_count": 6,
      "outputs": [
        {
          "output_type": "stream",
          "text": [
            "Sentence: I love you so much\n",
            "Embedding size: 512\n",
            "Embedding: [-0.03638805076479912, -0.07312509417533875, 0.007526352070271969, ...]\n",
            "\n",
            "Sentence: I hate that movie, there are no plotline or even interesting scenes\n",
            "Embedding size: 512\n",
            "Embedding: [0.016185155138373375, 0.059069763869047165, -0.0056126900017261505, ...]\n",
            "\n"
          ],
          "name": "stdout"
        }
      ]
    },
    {
      "metadata": {
        "id": "EzmR-eCcASUU",
        "colab_type": "code",
        "colab": {}
      },
      "cell_type": "code",
      "source": [
        "def embed_use(sentences):\n",
        "    with tf.Session() as session:\n",
        "        session.run([tf.global_variables_initializer(), tf.tables_initializer()])\n",
        "        embedded_sentences = session.run(tf_use_embed(sentences))\n",
        "        return embedded_sentences"
      ],
      "execution_count": 0,
      "outputs": []
    },
    {
      "metadata": {
        "colab_type": "code",
        "id": "oBynQmEcrNAy",
        "colab": {}
      },
      "cell_type": "code",
      "source": [
        "from pathlib import Path\n",
        "\n",
        "class EmoIntDataset(object):\n",
        "    BASE_URL = \"http://saifmohammad.com/WebDocs/\"\n",
        "    TRAIN_URI = \"EmoInt%20Train%20Data/{}-ratings-0to1.train.txt\"\n",
        "    TEST_URI = \"EmoInt%20Test%20Gold%20Data/{}-ratings-0to1.test.gold.txt\"\n",
        "    EMOTION_CLASSES = [\"anger\", \"fear\", \"joy\", \"sadness\"]\n",
        "    DATASET_NAME = \"EmoInt\"\n",
        "  \n",
        "    THRESHOLD = 0.33\n",
        "  \n",
        "    def __load_data_per_class(self, category, class_name, url, threshold=0):\n",
        "        filename = \"./{}_{}_{}.csv\".format(category, self.DATASET_NAME, class_name)\n",
        "        if Path(filename).is_file():\n",
        "            df = pd.read_csv(filename)\n",
        "        else:\n",
        "            resource = urllib.request.urlopen(url)\n",
        "            np_array = np.asarray([line.split('\\t') for line in [line.strip() for line in resource.read().decode('utf-8').splitlines()]])\n",
        "            df = pd.DataFrame(np_array, columns=[\"id\", \"text\", \"emotion\", \"emotion_level\"])\n",
        "            df['emotion_level'] = df['emotion_level'].astype(float)\n",
        "            df = df.query('emotion_level>' + str(threshold))\n",
        "            df.to_csv(filename, index=False)\n",
        "        return df[[\"text\", \"emotion\"]]\n",
        "  \n",
        "    def load_data(self, set_threshold=False):\n",
        "        train_data = None\n",
        "        test_data = None\n",
        "    \n",
        "        for emotion in self.EMOTION_CLASSES:\n",
        "            # load train dataset\n",
        "            train_df = self.__load_data_per_class(\"train\", emotion, self.BASE_URL + self.TRAIN_URI.format(emotion), threshold=(self.THRESHOLD if set_threshold else 0))\n",
        "      \n",
        "            # load test dataset\n",
        "            test_df = self.__load_data_per_class(\"test\", emotion, self.BASE_URL + self.TEST_URI.format(emotion), threshold=(self.THRESHOLD if set_threshold else 0))\n",
        "      \n",
        "            train_data = (train_df if train_data is None else train_data.append(train_df))\n",
        "            test_data = (test_df if test_data is None else test_data.append(test_df))\n",
        "      \n",
        "        return train_data, test_data"
      ],
      "execution_count": 0,
      "outputs": []
    },
    {
      "metadata": {
        "colab_type": "code",
        "id": "tevwfq4Tu6fe",
        "outputId": "9400caa8-58e9-4cbb-ce0f-e5120f5fff50",
        "colab": {
          "base_uri": "https://localhost:8080/",
          "height": 71
        }
      },
      "cell_type": "code",
      "source": [
        "emo_int_dataset = EmoIntDataset()\n",
        "train_data, test_data = emo_int_dataset.load_data(set_threshold=True)\n",
        "train_data, valid_data = train_test_split(train_data, test_size=0.1, random_state=200, stratify=train_data.emotion)\n",
        "\n",
        "print(train_data.shape)\n",
        "print(valid_data.shape)\n",
        "print(test_data.shape)"
      ],
      "execution_count": 9,
      "outputs": [
        {
          "output_type": "stream",
          "text": [
            "(2610, 2)\n",
            "(291, 2)\n",
            "(2508, 2)\n"
          ],
          "name": "stdout"
        }
      ]
    },
    {
      "metadata": {
        "colab_type": "code",
        "id": "J-xXkD_4175U",
        "outputId": "cb44fca7-78a5-40bd-fe41-731343ac2637",
        "colab": {
          "base_uri": "https://localhost:8080/",
          "height": 53
        }
      },
      "cell_type": "code",
      "source": [
        "emotions = train_data.emotion.unique()\n",
        "dic = dict()\n",
        "labels = []\n",
        "for i, emotion in enumerate(emotions):\n",
        "    dic[emotion]=i\n",
        "    labels.append(emotion)\n",
        "print(dic)\n",
        "print(labels)"
      ],
      "execution_count": 10,
      "outputs": [
        {
          "output_type": "stream",
          "text": [
            "{'fear': 0, 'anger': 1, 'sadness': 2, 'joy': 3}\n",
            "['fear', 'anger', 'sadness', 'joy']\n"
          ],
          "name": "stdout"
        }
      ]
    },
    {
      "metadata": {
        "id": "0wXUaCQeASUe",
        "colab_type": "text"
      },
      "cell_type": "markdown",
      "source": [
        "# Embed with Universal Sentence Encoder"
      ]
    },
    {
      "metadata": {
        "id": "AvcnW45qASUg",
        "colab_type": "code",
        "colab": {}
      },
      "cell_type": "code",
      "source": [
        "train_embedded_use = embed_use(train_data.text.tolist())\n",
        "test_embedded_use = embed_use(test_data.text.tolist())"
      ],
      "execution_count": 0,
      "outputs": []
    },
    {
      "metadata": {
        "id": "MtZaeo2JASUh",
        "colab_type": "code",
        "colab": {}
      },
      "cell_type": "code",
      "source": [
        "train_labels = np.array(train_data.emotion.apply(lambda x:dic[x]))\n",
        "test_labels = np.array(test_data.emotion.apply(lambda x:dic[x]))"
      ],
      "execution_count": 0,
      "outputs": []
    },
    {
      "metadata": {
        "id": "-mgHsSbYASUk",
        "colab_type": "text"
      },
      "cell_type": "markdown",
      "source": [
        "# Universal Sentence Encoder + SVM Classifier"
      ]
    },
    {
      "metadata": {
        "id": "2l8cnyxSASUk",
        "colab_type": "code",
        "outputId": "d581d4b6-6d56-4fed-c7c8-cc7dd3697e74",
        "colab": {
          "base_uri": "https://localhost:8080/",
          "height": 89
        }
      },
      "cell_type": "code",
      "source": [
        "from sklearn import svm\n",
        "clfSVM = svm.SVC(C=10000.0, gamma='auto', kernel='rbf')\n",
        "clfSVM.fit(train_embedded_use, train_labels)"
      ],
      "execution_count": 13,
      "outputs": [
        {
          "output_type": "execute_result",
          "data": {
            "text/plain": [
              "SVC(C=10000.0, cache_size=200, class_weight=None, coef0=0.0,\n",
              "  decision_function_shape='ovr', degree=3, gamma='auto', kernel='rbf',\n",
              "  max_iter=-1, probability=False, random_state=None, shrinking=True,\n",
              "  tol=0.001, verbose=False)"
            ]
          },
          "metadata": {
            "tags": []
          },
          "execution_count": 13
        }
      ]
    },
    {
      "metadata": {
        "id": "GKvNJ0g9ASUn",
        "colab_type": "code",
        "colab": {}
      },
      "cell_type": "code",
      "source": [
        "test_pred_labels = clfSVM.predict(test_embedded_use)"
      ],
      "execution_count": 0,
      "outputs": []
    },
    {
      "metadata": {
        "id": "UJw3zrZDASUp",
        "colab_type": "code",
        "outputId": "05b57053-8c7c-4877-c3a8-bf1004d3fc96",
        "colab": {
          "base_uri": "https://localhost:8080/",
          "height": 89
        }
      },
      "cell_type": "code",
      "source": [
        "cmSVM = confusion_matrix(test_labels, test_pred_labels)\n",
        "cmSVM"
      ],
      "execution_count": 15,
      "outputs": [
        {
          "output_type": "execute_result",
          "data": {
            "text/plain": [
              "array([[548, 108,  86,  47],\n",
              "       [137, 415,  62,  29],\n",
              "       [141,  63, 291,  38],\n",
              "       [ 54,  36,  45, 408]])"
            ]
          },
          "metadata": {
            "tags": []
          },
          "execution_count": 15
        }
      ]
    },
    {
      "metadata": {
        "id": "Tt3rbFReASUr",
        "colab_type": "code",
        "outputId": "3abe8c0c-4e8a-4e87-8560-985a4204cf2c",
        "colab": {
          "base_uri": "https://localhost:8080/",
          "height": 179
        }
      },
      "cell_type": "code",
      "source": [
        "reportSVM = classification_report(test_labels, test_pred_labels, target_names=labels)\n",
        "print(reportSVM)"
      ],
      "execution_count": 16,
      "outputs": [
        {
          "output_type": "stream",
          "text": [
            "             precision    recall  f1-score   support\n",
            "\n",
            "       fear       0.62      0.69      0.66       789\n",
            "      anger       0.67      0.65      0.66       643\n",
            "    sadness       0.60      0.55      0.57       533\n",
            "        joy       0.78      0.75      0.77       543\n",
            "\n",
            "avg / total       0.66      0.66      0.66      2508\n",
            "\n"
          ],
          "name": "stdout"
        }
      ]
    },
    {
      "metadata": {
        "id": "suU_Yw-fASUw",
        "colab_type": "text"
      },
      "cell_type": "markdown",
      "source": [
        "# TfIdfVectorizer + SVM Classifier"
      ]
    },
    {
      "metadata": {
        "id": "crQ4mZBsASUx",
        "colab_type": "code",
        "colab": {}
      },
      "cell_type": "code",
      "source": [
        "from sklearn.feature_extraction.text import TfidfVectorizer\n",
        "\n",
        "tfidf_vectorizer = TfidfVectorizer(max_df=70, min_df=2, ngram_range=(1, 3))\n",
        "train_tfidf_vectors = tfidf_vectorizer.fit_transform(train_data.text.tolist())\n",
        "test_tfidf_vectors = tfidf_vectorizer.transform(test_data.text.tolist())"
      ],
      "execution_count": 0,
      "outputs": []
    },
    {
      "metadata": {
        "id": "efLiuFqgASUz",
        "colab_type": "code",
        "outputId": "ed4315ef-d361-4c37-fb28-627379f6b1ec",
        "colab": {
          "base_uri": "https://localhost:8080/",
          "height": 89
        }
      },
      "cell_type": "code",
      "source": [
        "from sklearn import svm\n",
        "clf_SVM_Tfidf = svm.SVC(C=10000.0, gamma='auto', kernel='rbf')\n",
        "clf_SVM_Tfidf.fit(train_tfidf_vectors, train_labels)"
      ],
      "execution_count": 18,
      "outputs": [
        {
          "output_type": "execute_result",
          "data": {
            "text/plain": [
              "SVC(C=10000.0, cache_size=200, class_weight=None, coef0=0.0,\n",
              "  decision_function_shape='ovr', degree=3, gamma='auto', kernel='rbf',\n",
              "  max_iter=-1, probability=False, random_state=None, shrinking=True,\n",
              "  tol=0.001, verbose=False)"
            ]
          },
          "metadata": {
            "tags": []
          },
          "execution_count": 18
        }
      ]
    },
    {
      "metadata": {
        "id": "MoS_XCtUASU3",
        "colab_type": "code",
        "colab": {}
      },
      "cell_type": "code",
      "source": [
        "test_pred_labels_Tfidf = clf_SVM_Tfidf.predict(test_tfidf_vectors)"
      ],
      "execution_count": 0,
      "outputs": []
    },
    {
      "metadata": {
        "id": "eBQ0W7MrASU5",
        "colab_type": "code",
        "outputId": "141bb296-86ec-417e-a45f-cba65bb80ef5",
        "colab": {
          "base_uri": "https://localhost:8080/",
          "height": 89
        }
      },
      "cell_type": "code",
      "source": [
        "cmSVM_Tfidf = confusion_matrix(test_labels, test_pred_labels_Tfidf)\n",
        "cmSVM_Tfidf"
      ],
      "execution_count": 20,
      "outputs": [
        {
          "output_type": "execute_result",
          "data": {
            "text/plain": [
              "array([[625,  47,  89,  28],\n",
              "       [ 82, 497,  46,  18],\n",
              "       [ 94,  34, 392,  13],\n",
              "       [ 53,  15,  21, 454]])"
            ]
          },
          "metadata": {
            "tags": []
          },
          "execution_count": 20
        }
      ]
    },
    {
      "metadata": {
        "id": "N5YwSO_ZASU7",
        "colab_type": "code",
        "outputId": "ca91571f-7345-4492-c8ff-51f5ab433b90",
        "colab": {
          "base_uri": "https://localhost:8080/",
          "height": 179
        }
      },
      "cell_type": "code",
      "source": [
        "reportSVM = classification_report(test_labels, test_pred_labels_Tfidf, target_names=labels)\n",
        "print(reportSVM)"
      ],
      "execution_count": 21,
      "outputs": [
        {
          "output_type": "stream",
          "text": [
            "             precision    recall  f1-score   support\n",
            "\n",
            "       fear       0.73      0.79      0.76       789\n",
            "      anger       0.84      0.77      0.80       643\n",
            "    sadness       0.72      0.74      0.73       533\n",
            "        joy       0.88      0.84      0.86       543\n",
            "\n",
            "avg / total       0.79      0.78      0.79      2508\n",
            "\n"
          ],
          "name": "stdout"
        }
      ]
    },
    {
      "metadata": {
        "id": "xY_as_tfASU-",
        "colab_type": "text"
      },
      "cell_type": "markdown",
      "source": [
        "# CountVectorizer + SVM Classifier"
      ]
    },
    {
      "metadata": {
        "id": "k0LFEc-xASU-",
        "colab_type": "code",
        "outputId": "2b316843-86c2-4644-d04b-8b310d641fa7",
        "colab": {
          "base_uri": "https://localhost:8080/",
          "height": 89
        }
      },
      "cell_type": "code",
      "source": [
        "from sklearn.feature_extraction.text import CountVectorizer\n",
        "from sklearn.naive_bayes import MultinomialNB\n",
        "\n",
        "# Initialize a CountVectorizer object: count_vectorizer\n",
        "count_vectorizer = CountVectorizer(stop_words=\"english\", analyzer='word', \n",
        "                                   ngram_range=(1, 3), max_df=70, min_df=2, max_features=None)\n",
        "\n",
        "train_count_vectors = count_vectorizer.fit_transform(train_data.text.tolist())\n",
        "test_count_vectors = count_vectorizer.transform(test_data.text.tolist())\n",
        "\n",
        "clf_NB_count = MultinomialNB(alpha=0.1)\n",
        "clf_SVM_count = svm.SVC(C=10000.0, gamma='auto', kernel='rbf')\n",
        "clf_NB_count.fit(train_count_vectors, train_labels)\n",
        "clf_SVM_count.fit(train_count_vectors, train_labels)"
      ],
      "execution_count": 22,
      "outputs": [
        {
          "output_type": "execute_result",
          "data": {
            "text/plain": [
              "SVC(C=10000.0, cache_size=200, class_weight=None, coef0=0.0,\n",
              "  decision_function_shape='ovr', degree=3, gamma='auto', kernel='rbf',\n",
              "  max_iter=-1, probability=False, random_state=None, shrinking=True,\n",
              "  tol=0.001, verbose=False)"
            ]
          },
          "metadata": {
            "tags": []
          },
          "execution_count": 22
        }
      ]
    },
    {
      "metadata": {
        "id": "8RGYwlr2ASVB",
        "colab_type": "code",
        "outputId": "34efa5de-1abf-41d0-cf95-3e567774f37e",
        "colab": {
          "base_uri": "https://localhost:8080/",
          "height": 197
        }
      },
      "cell_type": "code",
      "source": [
        "# get the feature names as numpy array\n",
        "feature_names = np.array(count_vectorizer.get_feature_names())\n",
        "\n",
        "# Sort the coefficients from the model\n",
        "sorted_coef_index = clf_NB_count.coef_[0].argsort()\n",
        "\n",
        "# Find the 10 smallest and 10 largest coefficients\n",
        "# The 10 largest coefficients are being indexed using [:-11:-1] \n",
        "# so the list returned is in order of largest to smallest\n",
        "print('Smallest Coefs:\\n{}\\n'.format(feature_names[sorted_coef_index[:10]]))\n",
        "print('Largest Coefs: \\n{}'.format(feature_names[sorted_coef_index[:-11:-1]]))"
      ],
      "execution_count": 23,
      "outputs": [
        {
          "output_type": "stream",
          "text": [
            "Smallest Coefs:\n",
            "['00' 'ly broadcast paulzimmer' 'ly broadcast mrgummyking'\n",
            " 'ly broadcast maisiev' 'ly broadcast kaylaaa_sartorious'\n",
            " 'ly broadcast katyy' 'ly broadcast kana_blender'\n",
            " 'ly broadcast jaredhorgan' 'ly broadcast rosannahill'\n",
            " 'ly broadcast izzybuzy365']\n",
            "\n",
            "Largest Coefs: \n",
            "['terrorism' 'fear' 'nightmare' 'terrible' 'awful' 'terror' 'nervous'\n",
            " 'horror' 'panic' 'anxiety']\n"
          ],
          "name": "stdout"
        }
      ]
    },
    {
      "metadata": {
        "id": "0twrTRK3ASVE",
        "colab_type": "code",
        "outputId": "ca95106c-d0f2-4fa4-a09c-8e0d1e53d9ed",
        "colab": {
          "base_uri": "https://localhost:8080/",
          "height": 89
        }
      },
      "cell_type": "code",
      "source": [
        "test_pred_labels_count = clf_SVM_count.predict(test_count_vectors)\n",
        "\n",
        "cmSVM_count = confusion_matrix(test_labels, test_pred_labels_count)\n",
        "cmSVM_count"
      ],
      "execution_count": 24,
      "outputs": [
        {
          "output_type": "execute_result",
          "data": {
            "text/plain": [
              "array([[644,  37,  92,  16],\n",
              "       [ 65, 516,  53,   9],\n",
              "       [ 76,  32, 409,  16],\n",
              "       [ 56,  13,  26, 448]])"
            ]
          },
          "metadata": {
            "tags": []
          },
          "execution_count": 24
        }
      ]
    },
    {
      "metadata": {
        "id": "kjEy36O_ASVL",
        "colab_type": "code",
        "outputId": "80bcd6e4-f902-428a-bfb8-550d1513a425",
        "colab": {
          "base_uri": "https://localhost:8080/",
          "height": 179
        }
      },
      "cell_type": "code",
      "source": [
        "reportSVM = classification_report(test_labels, test_pred_labels_count, target_names=labels)\n",
        "print(reportSVM)"
      ],
      "execution_count": 25,
      "outputs": [
        {
          "output_type": "stream",
          "text": [
            "             precision    recall  f1-score   support\n",
            "\n",
            "       fear       0.77      0.82      0.79       789\n",
            "      anger       0.86      0.80      0.83       643\n",
            "    sadness       0.71      0.77      0.73       533\n",
            "        joy       0.92      0.83      0.87       543\n",
            "\n",
            "avg / total       0.81      0.80      0.81      2508\n",
            "\n"
          ],
          "name": "stdout"
        }
      ]
    },
    {
      "metadata": {
        "id": "cunC17ZVASVN",
        "colab_type": "text"
      },
      "cell_type": "markdown",
      "source": [
        "# CV 5 fold with CountVectorizer + TfIdfTransformer + SVM Classifier "
      ]
    },
    {
      "metadata": {
        "id": "PkQTjwcMASVN",
        "colab_type": "code",
        "outputId": "66832b56-332b-4683-8e95-4a3e8d58184d",
        "colab": {
          "base_uri": "https://localhost:8080/",
          "height": 325
        }
      },
      "cell_type": "code",
      "source": [
        "from sklearn.model_selection import GridSearchCV\n",
        "from sklearn.pipeline import Pipeline\n",
        "from sklearn.feature_extraction.text import TfidfTransformer\n",
        "\n",
        "# Define a pipeline combining a text feature extractor with a simple\n",
        "# classifier\n",
        "pipeline = Pipeline([\n",
        "    ('vect', CountVectorizer()),\n",
        "    ('tfidf', TfidfTransformer()),\n",
        "    ('clf', svm.SVC()),\n",
        "])\n",
        "\n",
        "# uncommenting more parameters will give better exploring power but will\n",
        "# increase processing time in a combinatorial way\n",
        "parameters = {\n",
        "    'vect__max_df': (0.5, 0.75, 1.0),\n",
        "    # 'vect__max_features': (None, 5000, 10000, 50000),\n",
        "    'vect__ngram_range': ((1, 1), (1, 2), (1, 3)),  # unigrams or bigrams\n",
        "    'tfidf__use_idf': (True, False),\n",
        "    # 'tfidf__norm': ('l1', 'l2'),\n",
        "    'clf__C': (10000.0,),\n",
        "    'clf__gamma': ('auto',),\n",
        "    'clf__kernel': ('rbf',),\n",
        "}\n",
        "\n",
        "grid_search = GridSearchCV(pipeline, parameters, cv=5, n_jobs=-1, verbose=1)\n",
        "\n",
        "grid_search.fit(train_data.text.tolist(), train_labels)"
      ],
      "execution_count": 26,
      "outputs": [
        {
          "output_type": "stream",
          "text": [
            "Fitting 5 folds for each of 18 candidates, totalling 90 fits\n"
          ],
          "name": "stdout"
        },
        {
          "output_type": "stream",
          "text": [
            "[Parallel(n_jobs=-1)]: Done  46 tasks      | elapsed:  1.6min\n",
            "[Parallel(n_jobs=-1)]: Done  90 out of  90 | elapsed:  3.1min finished\n"
          ],
          "name": "stderr"
        },
        {
          "output_type": "execute_result",
          "data": {
            "text/plain": [
              "GridSearchCV(cv=5, error_score='raise',\n",
              "       estimator=Pipeline(memory=None,\n",
              "     steps=[('vect', CountVectorizer(analyzer='word', binary=False, decode_error='strict',\n",
              "        dtype=<class 'numpy.int64'>, encoding='utf-8', input='content',\n",
              "        lowercase=True, max_df=1.0, max_features=None, min_df=1,\n",
              "        ngram_range=(1, 1), preprocessor=None, stop_words=None,\n",
              "        strip...,\n",
              "  max_iter=-1, probability=False, random_state=None, shrinking=True,\n",
              "  tol=0.001, verbose=False))]),\n",
              "       fit_params=None, iid=True, n_jobs=-1,\n",
              "       param_grid={'vect__max_df': (0.5, 0.75, 1.0), 'vect__ngram_range': ((1, 1), (1, 2), (1, 3)), 'tfidf__use_idf': (True, False), 'clf__C': (10000.0,), 'clf__gamma': ('auto',), 'clf__kernel': ('rbf',)},\n",
              "       pre_dispatch='2*n_jobs', refit=True, return_train_score='warn',\n",
              "       scoring=None, verbose=1)"
            ]
          },
          "metadata": {
            "tags": []
          },
          "execution_count": 26
        }
      ]
    },
    {
      "metadata": {
        "id": "CwNXm7oTASVQ",
        "colab_type": "code",
        "outputId": "cb4200b3-99f1-4ef2-bd50-56d7d561c930",
        "colab": {
          "base_uri": "https://localhost:8080/",
          "height": 161
        }
      },
      "cell_type": "code",
      "source": [
        "print(\"Best score: %0.3f\" % grid_search.best_score_)\n",
        "print(\"Best parameters set:\")\n",
        "best_parameters = grid_search.best_estimator_.get_params()\n",
        "for param_name in sorted(parameters.keys()):\n",
        "    print(\"\\t%s: %r\" % (param_name, best_parameters[param_name]))"
      ],
      "execution_count": 27,
      "outputs": [
        {
          "output_type": "stream",
          "text": [
            "Best score: 0.832\n",
            "Best parameters set:\n",
            "\tclf__C: 10000.0\n",
            "\tclf__gamma: 'auto'\n",
            "\tclf__kernel: 'rbf'\n",
            "\ttfidf__use_idf: True\n",
            "\tvect__max_df: 0.5\n",
            "\tvect__ngram_range: (1, 1)\n"
          ],
          "name": "stdout"
        }
      ]
    },
    {
      "metadata": {
        "id": "ohWHM2dzASVU",
        "colab_type": "code",
        "outputId": "ec214c68-3cd0-4b0b-ccde-b8a75b8da89e",
        "colab": {
          "base_uri": "https://localhost:8080/",
          "height": 89
        }
      },
      "cell_type": "code",
      "source": [
        "test_pred_labels_grid = grid_search.predict(test_data.text.tolist())\n",
        "\n",
        "cmSVM_grid = confusion_matrix(test_labels, test_pred_labels_grid)\n",
        "cmSVM_grid"
      ],
      "execution_count": 28,
      "outputs": [
        {
          "output_type": "execute_result",
          "data": {
            "text/plain": [
              "array([[630,  49,  86,  24],\n",
              "       [ 85, 483,  57,  18],\n",
              "       [ 89,  41, 387,  16],\n",
              "       [ 49,  18,  21, 455]])"
            ]
          },
          "metadata": {
            "tags": []
          },
          "execution_count": 28
        }
      ]
    },
    {
      "metadata": {
        "id": "IOxPmd3tASVW",
        "colab_type": "code",
        "outputId": "306bc6a2-a54e-407f-fb23-758156071b54",
        "colab": {
          "base_uri": "https://localhost:8080/",
          "height": 179
        }
      },
      "cell_type": "code",
      "source": [
        "reportSVM_grid = classification_report(test_labels, test_pred_labels_grid, target_names=labels)\n",
        "print(reportSVM_grid)"
      ],
      "execution_count": 29,
      "outputs": [
        {
          "output_type": "stream",
          "text": [
            "             precision    recall  f1-score   support\n",
            "\n",
            "       fear       0.74      0.80      0.77       789\n",
            "      anger       0.82      0.75      0.78       643\n",
            "    sadness       0.70      0.73      0.71       533\n",
            "        joy       0.89      0.84      0.86       543\n",
            "\n",
            "avg / total       0.78      0.78      0.78      2508\n",
            "\n"
          ],
          "name": "stdout"
        }
      ]
    },
    {
      "metadata": {
        "id": "Sgdaca1cASVZ",
        "colab_type": "text"
      },
      "cell_type": "markdown",
      "source": [
        "# CV 5 fold with CountVectorizer + TfIdfTransformer + SGDClassifier "
      ]
    },
    {
      "metadata": {
        "id": "ARXDnixgASVZ",
        "colab_type": "code",
        "outputId": "6106e157-7ee4-4502-87dd-cfc4ce9f6ccd",
        "colab": {
          "base_uri": "https://localhost:8080/",
          "height": 307
        }
      },
      "cell_type": "code",
      "source": [
        "from sklearn.model_selection import GridSearchCV\n",
        "from sklearn.pipeline import Pipeline\n",
        "from sklearn.linear_model import SGDClassifier\n",
        "from sklearn.feature_extraction.text import TfidfTransformer\n",
        "\n",
        "# Define a pipeline combining a text feature extractor with a simple\n",
        "# classifier\n",
        "pipeline = Pipeline([\n",
        "    ('vect', CountVectorizer()),\n",
        "    ('tfidf', TfidfTransformer()),\n",
        "    ('clf', SGDClassifier()),\n",
        "])\n",
        "\n",
        "# uncommenting more parameters will give better exploring power but will\n",
        "# increase processing time in a combinatorial way\n",
        "parameters = {\n",
        "    'vect__max_df': (0.5, 0.75, 1.0),\n",
        "    # 'vect__max_features': (None, 5000, 10000, 50000),\n",
        "    'vect__ngram_range': ((1, 1), (1, 2)),  # unigrams or bigrams\n",
        "    # 'tfidf__use_idf': (True, False),\n",
        "    # 'tfidf__norm': ('l1', 'l2'),\n",
        "    'clf__max_iter': (5,),\n",
        "    'clf__alpha': (0.00001, 0.000001),\n",
        "    'clf__penalty': ('l2', 'elasticnet'),\n",
        "    # 'clf__max_iter': (10, 50, 80),\n",
        "}\n",
        "\n",
        "grid_search = GridSearchCV(pipeline, parameters, cv=5, n_jobs=-1, verbose=1)\n",
        "\n",
        "grid_search.fit(train_data.text.tolist(), train_labels)"
      ],
      "execution_count": 30,
      "outputs": [
        {
          "output_type": "stream",
          "text": [
            "Fitting 5 folds for each of 24 candidates, totalling 120 fits\n"
          ],
          "name": "stdout"
        },
        {
          "output_type": "stream",
          "text": [
            "[Parallel(n_jobs=-1)]: Done  88 tasks      | elapsed:   13.0s\n",
            "[Parallel(n_jobs=-1)]: Done 120 out of 120 | elapsed:   17.6s finished\n"
          ],
          "name": "stderr"
        },
        {
          "output_type": "execute_result",
          "data": {
            "text/plain": [
              "GridSearchCV(cv=5, error_score='raise',\n",
              "       estimator=Pipeline(memory=None,\n",
              "     steps=[('vect', CountVectorizer(analyzer='word', binary=False, decode_error='strict',\n",
              "        dtype=<class 'numpy.int64'>, encoding='utf-8', input='content',\n",
              "        lowercase=True, max_df=1.0, max_features=None, min_df=1,\n",
              "        ngram_range=(1, 1), preprocessor=None, stop_words=None,\n",
              "        strip...='l2', power_t=0.5, random_state=None,\n",
              "       shuffle=True, tol=None, verbose=0, warm_start=False))]),\n",
              "       fit_params=None, iid=True, n_jobs=-1,\n",
              "       param_grid={'vect__max_df': (0.5, 0.75, 1.0), 'vect__ngram_range': ((1, 1), (1, 2)), 'clf__max_iter': (5,), 'clf__alpha': (1e-05, 1e-06), 'clf__penalty': ('l2', 'elasticnet')},\n",
              "       pre_dispatch='2*n_jobs', refit=True, return_train_score='warn',\n",
              "       scoring=None, verbose=1)"
            ]
          },
          "metadata": {
            "tags": []
          },
          "execution_count": 30
        }
      ]
    },
    {
      "metadata": {
        "id": "r5_eE1yDASVb",
        "colab_type": "code",
        "outputId": "75ca7802-573c-4668-bfee-4762f0549ac8",
        "colab": {
          "base_uri": "https://localhost:8080/",
          "height": 143
        }
      },
      "cell_type": "code",
      "source": [
        "print(\"Best score: %0.3f\" % grid_search.best_score_)\n",
        "print(\"Best parameters set:\")\n",
        "best_parameters = grid_search.best_estimator_.get_params()\n",
        "for param_name in sorted(parameters.keys()):\n",
        "    print(\"\\t%s: %r\" % (param_name, best_parameters[param_name]))"
      ],
      "execution_count": 31,
      "outputs": [
        {
          "output_type": "stream",
          "text": [
            "Best score: 0.832\n",
            "Best parameters set:\n",
            "\tclf__alpha: 1e-05\n",
            "\tclf__max_iter: 5\n",
            "\tclf__penalty: 'elasticnet'\n",
            "\tvect__max_df: 0.5\n",
            "\tvect__ngram_range: (1, 2)\n"
          ],
          "name": "stdout"
        }
      ]
    },
    {
      "metadata": {
        "id": "tyT61VJzASVd",
        "colab_type": "code",
        "outputId": "736bc464-e7ad-4598-b4ee-fb2f1b88434f",
        "colab": {
          "base_uri": "https://localhost:8080/",
          "height": 89
        }
      },
      "cell_type": "code",
      "source": [
        "train_pred_labels_grid = grid_search.predict(train_data.text.tolist())\n",
        "\n",
        "cmSVM_grid = confusion_matrix(train_labels, train_pred_labels_grid)\n",
        "cmSVM_grid"
      ],
      "execution_count": 32,
      "outputs": [
        {
          "output_type": "execute_result",
          "data": {
            "text/plain": [
              "array([[816,   0,   6,   1],\n",
              "       [  2, 651,   6,   0],\n",
              "       [  7,   5, 543,   1],\n",
              "       [  0,   0,   0, 572]])"
            ]
          },
          "metadata": {
            "tags": []
          },
          "execution_count": 32
        }
      ]
    },
    {
      "metadata": {
        "id": "KrO0xp44ASVg",
        "colab_type": "code",
        "outputId": "623c8424-b02b-4971-95c8-00e7a41b6537",
        "colab": {
          "base_uri": "https://localhost:8080/",
          "height": 89
        }
      },
      "cell_type": "code",
      "source": [
        "test_pred_labels_grid = grid_search.predict(test_data.text.tolist())\n",
        "\n",
        "cmSVM_grid = confusion_matrix(test_labels, test_pred_labels_grid)\n",
        "cmSVM_grid"
      ],
      "execution_count": 33,
      "outputs": [
        {
          "output_type": "execute_result",
          "data": {
            "text/plain": [
              "array([[594,  60,  76,  59],\n",
              "       [ 73, 493,  42,  35],\n",
              "       [ 86,  50, 362,  35],\n",
              "       [ 29,  19,  24, 471]])"
            ]
          },
          "metadata": {
            "tags": []
          },
          "execution_count": 33
        }
      ]
    },
    {
      "metadata": {
        "id": "ZBccwVRWASVh",
        "colab_type": "code",
        "outputId": "047fb0ba-5fa0-406c-eae9-3449b90e1665",
        "colab": {
          "base_uri": "https://localhost:8080/",
          "height": 179
        }
      },
      "cell_type": "code",
      "source": [
        "reportSVM_grid = classification_report(test_labels, test_pred_labels_grid, target_names=labels)\n",
        "print(reportSVM_grid)"
      ],
      "execution_count": 34,
      "outputs": [
        {
          "output_type": "stream",
          "text": [
            "             precision    recall  f1-score   support\n",
            "\n",
            "       fear       0.76      0.75      0.76       789\n",
            "      anger       0.79      0.77      0.78       643\n",
            "    sadness       0.72      0.68      0.70       533\n",
            "        joy       0.79      0.87      0.82       543\n",
            "\n",
            "avg / total       0.76      0.77      0.76      2508\n",
            "\n"
          ],
          "name": "stdout"
        }
      ]
    },
    {
      "metadata": {
        "id": "oDLbHXHUASVk",
        "colab_type": "text"
      },
      "cell_type": "markdown",
      "source": [
        "# spaCy vectorization + SVM Classifier"
      ]
    },
    {
      "metadata": {
        "id": "VjGysCs9CjJC",
        "colab_type": "code",
        "colab": {
          "base_uri": "https://localhost:8080/",
          "height": 271
        },
        "outputId": "a23e9274-08da-40ff-dd84-365fcaca9562"
      },
      "cell_type": "code",
      "source": [
        "!python -m spacy download en_core_web_lg"
      ],
      "execution_count": 36,
      "outputs": [
        {
          "output_type": "stream",
          "text": [
            "Collecting en_core_web_lg==2.0.0 from https://github.com/explosion/spacy-models/releases/download/en_core_web_lg-2.0.0/en_core_web_lg-2.0.0.tar.gz#egg=en_core_web_lg==2.0.0\n",
            "\u001b[?25l  Downloading https://github.com/explosion/spacy-models/releases/download/en_core_web_lg-2.0.0/en_core_web_lg-2.0.0.tar.gz (852.3MB)\n",
            "\u001b[K    100% |████████████████████████████████| 852.3MB 31.5MB/s \n",
            "\u001b[?25hInstalling collected packages: en-core-web-lg\n",
            "  Running setup.py install for en-core-web-lg ... \u001b[?25l-\b \b\\\b \b|\b \b/\b \b-\b \b\\\b \b|\b \b/\b \b-\b \b\\\b \b|\b \bdone\n",
            "\u001b[?25hSuccessfully installed en-core-web-lg-2.0.0\n",
            "\n",
            "\u001b[93m    Linking successful\u001b[0m\n",
            "    /usr/local/lib/python3.6/dist-packages/en_core_web_lg -->\n",
            "    /usr/local/lib/python3.6/dist-packages/spacy/data/en_core_web_lg\n",
            "\n",
            "    You can now load the model via spacy.load('en_core_web_lg')\n",
            "\n"
          ],
          "name": "stdout"
        }
      ]
    },
    {
      "metadata": {
        "id": "C5Tw3LHsASVl",
        "colab_type": "code",
        "colab": {}
      },
      "cell_type": "code",
      "source": [
        "import spacy\n",
        "\n",
        "nlp = spacy.load('en_core_web_lg')\n",
        "train_spacy_vectors = train_data.text.apply(lambda x: nlp(x).vector).tolist()\n",
        "test_spacy_vectors = test_data.text.apply(lambda x: nlp(x).vector).tolist()"
      ],
      "execution_count": 0,
      "outputs": []
    },
    {
      "metadata": {
        "id": "cVMwEmhsASVo",
        "colab_type": "code",
        "outputId": "e75ddfd6-219b-47e8-f2a2-5bfe33e252f2",
        "colab": {
          "base_uri": "https://localhost:8080/",
          "height": 89
        }
      },
      "cell_type": "code",
      "source": [
        "clf_SVM_spacy = svm.SVC(C=10000.0, gamma='auto', kernel='rbf')\n",
        "clf_SVM_spacy.fit(train_spacy_vectors, train_labels)"
      ],
      "execution_count": 38,
      "outputs": [
        {
          "output_type": "execute_result",
          "data": {
            "text/plain": [
              "SVC(C=10000.0, cache_size=200, class_weight=None, coef0=0.0,\n",
              "  decision_function_shape='ovr', degree=3, gamma='auto', kernel='rbf',\n",
              "  max_iter=-1, probability=False, random_state=None, shrinking=True,\n",
              "  tol=0.001, verbose=False)"
            ]
          },
          "metadata": {
            "tags": []
          },
          "execution_count": 38
        }
      ]
    },
    {
      "metadata": {
        "id": "HPESeGFEASVs",
        "colab_type": "code",
        "outputId": "a77a488c-8f34-484d-e452-6d02d0eaf1ea",
        "colab": {
          "base_uri": "https://localhost:8080/",
          "height": 89
        }
      },
      "cell_type": "code",
      "source": [
        "test_pred_labels_spacy = clf_SVM_spacy.predict(test_spacy_vectors)\n",
        "\n",
        "cmSVM_spacy = confusion_matrix(test_labels, test_pred_labels_spacy)\n",
        "cmSVM_spacy"
      ],
      "execution_count": 39,
      "outputs": [
        {
          "output_type": "execute_result",
          "data": {
            "text/plain": [
              "array([[536,  97, 113,  43],\n",
              "       [117, 432,  74,  20],\n",
              "       [138,  52, 308,  35],\n",
              "       [ 49,  26,  41, 427]])"
            ]
          },
          "metadata": {
            "tags": []
          },
          "execution_count": 39
        }
      ]
    },
    {
      "metadata": {
        "id": "j90TW-aoASVv",
        "colab_type": "code",
        "outputId": "d562e9bd-8ea4-4f38-f69f-204c196491c5",
        "colab": {
          "base_uri": "https://localhost:8080/",
          "height": 179
        }
      },
      "cell_type": "code",
      "source": [
        "reportSVM_spacy = classification_report(test_labels, test_pred_labels_spacy, target_names=labels)\n",
        "print(reportSVM_spacy)"
      ],
      "execution_count": 40,
      "outputs": [
        {
          "output_type": "stream",
          "text": [
            "             precision    recall  f1-score   support\n",
            "\n",
            "       fear       0.64      0.68      0.66       789\n",
            "      anger       0.71      0.67      0.69       643\n",
            "    sadness       0.57      0.58      0.58       533\n",
            "        joy       0.81      0.79      0.80       543\n",
            "\n",
            "avg / total       0.68      0.68      0.68      2508\n",
            "\n"
          ],
          "name": "stdout"
        }
      ]
    },
    {
      "metadata": {
        "id": "dYIUwbr5ASVz",
        "colab_type": "text"
      },
      "cell_type": "markdown",
      "source": [
        "# Using spaCy TextCategorizer"
      ]
    },
    {
      "metadata": {
        "id": "zbrLaQf_ASVz",
        "colab_type": "code",
        "outputId": "d3e84bd1-38b8-4ef8-eb5c-e297b97551b3",
        "colab": {
          "base_uri": "https://localhost:8080/",
          "height": 35
        }
      },
      "cell_type": "code",
      "source": [
        "labels"
      ],
      "execution_count": 41,
      "outputs": [
        {
          "output_type": "execute_result",
          "data": {
            "text/plain": [
              "['fear', 'anger', 'sadness', 'joy']"
            ]
          },
          "metadata": {
            "tags": []
          },
          "execution_count": 41
        }
      ]
    },
    {
      "metadata": {
        "id": "qYJWx21QASV2",
        "colab_type": "code",
        "outputId": "e1efe2f9-6110-45c7-a812-e1cd49fcaa33",
        "colab": {
          "base_uri": "https://localhost:8080/",
          "height": 35
        }
      },
      "cell_type": "code",
      "source": [
        "from spacy.pipeline import TextCategorizer\n",
        "\n",
        "model = 'en_core_web_lg'\n",
        "nlp = spacy.load(model)  # load existing spaCy model\n",
        "print(\"Loaded model '%s'\" % model)\n",
        "\n",
        "textcat = nlp.create_pipe('textcat')\n",
        "nlp.add_pipe(textcat, last=True)"
      ],
      "execution_count": 42,
      "outputs": [
        {
          "output_type": "stream",
          "text": [
            "Loaded model 'en_core_web_lg'\n"
          ],
          "name": "stdout"
        }
      ]
    },
    {
      "metadata": {
        "id": "8Iq1guxgASV4",
        "colab_type": "code",
        "outputId": "0b65d501-2d4f-4833-f155-af00456ff8db",
        "colab": {
          "base_uri": "https://localhost:8080/",
          "height": 35
        }
      },
      "cell_type": "code",
      "source": [
        "# assign label\n",
        "for label in labels:\n",
        "    textcat.add_label(label)\n",
        "    \n",
        "textcat.labels"
      ],
      "execution_count": 43,
      "outputs": [
        {
          "output_type": "execute_result",
          "data": {
            "text/plain": [
              "['fear', 'anger', 'sadness', 'joy']"
            ]
          },
          "metadata": {
            "tags": []
          },
          "execution_count": 43
        }
      ]
    },
    {
      "metadata": {
        "id": "_6YDUTDuASV6",
        "colab_type": "code",
        "colab": {}
      },
      "cell_type": "code",
      "source": [
        "train_texts = train_data.text.tolist()\n",
        "valid_texts = valid_data.text.tolist()\n",
        "test_texts = test_data.text.tolist()\n",
        "\n",
        "train_labels = np.array(train_data.emotion.apply(lambda x:dic[x]))\n",
        "valid_labels = np.array(valid_data.emotion.apply(lambda x:dic[x]))\n",
        "test_labels = np.array(test_data.emotion.apply(lambda x:dic[x]))"
      ],
      "execution_count": 0,
      "outputs": []
    },
    {
      "metadata": {
        "id": "Ni-mxu8FASV-",
        "colab_type": "code",
        "colab": {}
      },
      "cell_type": "code",
      "source": [
        "def to_spacy_categorical(label_data, labels):\n",
        "    new_data = dict()\n",
        "    for label in labels:\n",
        "        new_data[label] = (label_data == label)\n",
        "    return new_data"
      ],
      "execution_count": 0,
      "outputs": []
    },
    {
      "metadata": {
        "id": "q3i7mn0zASWA",
        "colab_type": "code",
        "colab": {}
      },
      "cell_type": "code",
      "source": [
        "train_encoded_labels = np.array(train_data.emotion.apply(lambda x:to_spacy_categorical(x, labels)))\n",
        "valid_encoded_labels = np.array(valid_data.emotion.apply(lambda x:to_spacy_categorical(x, labels)))\n",
        "test_encoded_labels = np.array(test_data.emotion.apply(lambda x:to_spacy_categorical(x, labels)))"
      ],
      "execution_count": 0,
      "outputs": []
    },
    {
      "metadata": {
        "id": "D4b4BSk6ASWD",
        "colab_type": "code",
        "outputId": "7944220f-5dd6-4dab-f705-e44a31fd45c0",
        "colab": {
          "base_uri": "https://localhost:8080/",
          "height": 161
        }
      },
      "cell_type": "code",
      "source": [
        "train_encoded_labels"
      ],
      "execution_count": 47,
      "outputs": [
        {
          "output_type": "execute_result",
          "data": {
            "text/plain": [
              "array([{'fear': True, 'anger': False, 'sadness': False, 'joy': False},\n",
              "       {'fear': True, 'anger': False, 'sadness': False, 'joy': False},\n",
              "       {'fear': False, 'anger': True, 'sadness': False, 'joy': False},\n",
              "       ...,\n",
              "       {'fear': False, 'anger': True, 'sadness': False, 'joy': False},\n",
              "       {'fear': False, 'anger': False, 'sadness': False, 'joy': True},\n",
              "       {'fear': False, 'anger': False, 'sadness': False, 'joy': True}],\n",
              "      dtype=object)"
            ]
          },
          "metadata": {
            "tags": []
          },
          "execution_count": 47
        }
      ]
    },
    {
      "metadata": {
        "id": "5MNtZ2hFASWF",
        "colab_type": "code",
        "colab": {}
      },
      "cell_type": "code",
      "source": [
        "train_spacy_data = list(zip(train_texts, [{'cats': cats} for cats in train_encoded_labels]))\n",
        "valid_spacy_data = list(zip(valid_texts, [{'cats': cats} for cats in valid_encoded_labels]))\n",
        "test_spacy_data = list(zip(test_texts, [{'cats': cats} for cats in test_encoded_labels]))"
      ],
      "execution_count": 0,
      "outputs": []
    },
    {
      "metadata": {
        "id": "k5XLQpIoASWG",
        "colab_type": "code",
        "colab": {}
      },
      "cell_type": "code",
      "source": [
        "from spacy.util import minibatch\n",
        "\n",
        "def evaluate(tokenizer, textcat, texts, cats):\n",
        "    docs = (tokenizer(text) for text in texts)\n",
        "    tp = 1e-8  # True positives\n",
        "    fp = 1e-8  # False positives\n",
        "    fn = 1e-8  # False negatives\n",
        "    tn = 1e-8  # True negatives\n",
        "    for i, doc in enumerate(textcat.pipe(docs)):\n",
        "        gold = cats[i]\n",
        "        for label, score in doc.cats.items():\n",
        "            if label not in gold:\n",
        "                continue\n",
        "            if score >= 0.5 and gold[label] >= 0.5:\n",
        "                tp += 1.\n",
        "            elif score >= 0.5 and gold[label] < 0.5:\n",
        "                fp += 1.\n",
        "            elif score < 0.5 and gold[label] < 0.5:\n",
        "                tn += 1\n",
        "            elif score < 0.5 and gold[label] >= 0.5:\n",
        "                fn += 1\n",
        "    precision = tp / (tp + fp)\n",
        "    recall = tp / (tp + fn)\n",
        "    f_score = 2 * (precision * recall) / (precision + recall)\n",
        "    return {'textcat_p': precision, 'textcat_r': recall, 'textcat_f': f_score}\n",
        "\n",
        "\n",
        "def training(spacy_nlp, train_data, valid_data, epoch=20):\n",
        "    valid_texts, valid_labels = zip(*valid_data)\n",
        "    \n",
        "    other_pipes = [pipe for pipe in spacy_nlp.pipe_names if pipe != 'textcat']\n",
        "    with spacy_nlp.disable_pipes(*other_pipes):  # only train textcat\n",
        "        optimizer = spacy_nlp.begin_training()\n",
        "        print(\"Training the model...\")\n",
        "        print('{:^5}\\t{:^5}\\t{:^5}\\t{:^5}\\t{:^5}'.format('EPOCH', 'LOSS', 'P', 'R', 'F'))\n",
        "        for i in range(epoch):\n",
        "            losses = {}\n",
        "            # batch up the examples using spaCy's minibatch\n",
        "            batches = minibatch(train_data, size=4)\n",
        "\n",
        "            for batch in batches:\n",
        "                texts, annotations = zip(*batch)\n",
        "                spacy_nlp.update(texts, annotations, sgd=optimizer, drop=0.2, losses=losses)\n",
        "\n",
        "            with textcat.model.use_params(optimizer.averages):\n",
        "                # evaluate on the dev data split off in load_data()\n",
        "                scores = evaluate(spacy_nlp.tokenizer, textcat, valid_texts, valid_labels)\n",
        "\n",
        "            print('{0:.0f}\\t{1:.3f}\\t{2:.3f}\\t{3:.3f}\\t{4:.3f}'  # print a simple table\n",
        "                  .format(i + 1, losses['textcat'], scores['textcat_p'],\n",
        "                          scores['textcat_r'], scores['textcat_f']))\n",
        "\n",
        "    return spacy_nlp"
      ],
      "execution_count": 0,
      "outputs": []
    },
    {
      "metadata": {
        "id": "xWxmVAB6ASWJ",
        "colab_type": "code",
        "colab": {}
      },
      "cell_type": "code",
      "source": [
        "nlp = training(nlp, train_spacy_data, valid_spacy_data, epoch=20)"
      ],
      "execution_count": 0,
      "outputs": []
    },
    {
      "metadata": {
        "id": "LDcKudmEASWK",
        "colab_type": "code",
        "colab": {}
      },
      "cell_type": "code",
      "source": [
        ""
      ],
      "execution_count": 0,
      "outputs": []
    }
  ]
}