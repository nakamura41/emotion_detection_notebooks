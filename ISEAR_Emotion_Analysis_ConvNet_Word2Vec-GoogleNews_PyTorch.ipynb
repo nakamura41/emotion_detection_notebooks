{
 "cells": [
  {
   "cell_type": "code",
   "execution_count": 1,
   "metadata": {},
   "outputs": [
    {
     "name": "stderr",
     "output_type": "stream",
     "text": [
      "Using TensorFlow backend.\n"
     ]
    }
   ],
   "source": [
    "import os\n",
    "\n",
    "import logging\n",
    "import pandas as pd\n",
    "import numpy as np\n",
    "import matplotlib.pyplot as plt\n",
    "from sklearn.model_selection import train_test_split\n",
    "\n",
    "import torch\n",
    "import torch.nn as nn\n",
    "import torch.nn.functional as F\n",
    "import torch.optim as optim\n",
    "\n",
    "from keras.preprocessing.text import Tokenizer\n",
    "from keras.preprocessing.sequence import pad_sequences\n",
    "\n",
    "os.environ[\"CUDA_DEVICE_ORDER\"]=\"PCI_BUS_ID\"\n",
    "# The GPU id to use, usually either \"0\" or \"1\"\n",
    "os.environ[\"CUDA_VISIBLE_DEVICES\"]=\"1\"\n",
    "os.environ[\"TFHUB_CACHE_DIR\"]=\"tfhub_modules\"\n",
    "\n",
    "torch.manual_seed(1)\n",
    "\n",
    "use_cuda = torch.cuda.is_available()\n",
    "device = torch.device(\"cuda:0\" if use_cuda else \"cpu\")"
   ]
  },
  {
   "cell_type": "code",
   "execution_count": 2,
   "metadata": {},
   "outputs": [],
   "source": [
    "NUM_WORDS = 20000\n",
    "\n",
    "class ISEARDataset(object):\n",
    "    FILENAME = \"data/isear_databank.csv\"\n",
    "    EMOTION_CLASSES = [\"anger\", \"disgust\", \"fear\", \"guilt\", \"joy\", \"sadness\", \"shame\"]\n",
    "    EMOTION_CLASSES_DICT = {\"anger\": 0, \"disgust\": 1, \"fear\": 2, \"guilt\": 3, \"joy\": 4, \"sadness\": 5, \"shame\": 6}\n",
    "    RANDOM_STATE = 41\n",
    "  \n",
    "    def get_classes(self):\n",
    "        return self.EMOTION_CLASSES\n",
    "  \n",
    "    def get_classes_dict(self):\n",
    "        return self.EMOTION_CLASSES_DICT\n",
    "\n",
    "    def _sequence_texts(self, texts):\n",
    "        tokenizer = Tokenizer(num_words=NUM_WORDS,filters='!\"#$%&()*+,-./:;<=>?@[\\\\]^_`{|}~\\t\\n\\'', lower=True)\n",
    "        tokenizer.fit_on_texts(texts)\n",
    "        sequences = pad_sequences(tokenizer.texts_to_sequences(texts))\n",
    "        word_index = tokenizer.word_index\n",
    "        return sequences, word_index\n",
    "\n",
    "    def __init__(self, n_items=0):\n",
    "        data = pd.read_csv(self.FILENAME)\n",
    "\n",
    "        if n_items > 0:\n",
    "            data = data.iloc[0:n_items,:]\n",
    "\n",
    "        data[\"text\"] = data[\"SIT\"]\n",
    "        data[\"emotion\"] = data[\"Field1\"]\n",
    "\n",
    "        for emotion in self.get_classes():\n",
    "            data.loc[data[\"emotion\"] == emotion, \"emotion_int\"] = self.get_classes_dict()[emotion]\n",
    "\n",
    "        sequences, word_index = self._sequence_texts(data[\"text\"])\n",
    "        self.X = sequences\n",
    "        self.y = data[\"emotion_int\"].values\n",
    "        self.word_index = word_index"
   ]
  },
  {
   "cell_type": "code",
   "execution_count": 3,
   "metadata": {},
   "outputs": [],
   "source": [
    "dataset = ISEARDataset()\n",
    "# dataset = ISEARDataset(200)\n",
    "X_train, X_test, y_train, y_test = train_test_split(dataset.X, dataset.y, test_size=0.3, random_state=dataset.RANDOM_STATE, stratify=dataset.y)\n",
    "X_train, X_valid, y_train, y_valid = train_test_split(X_train, y_train, test_size=0.2, random_state=dataset.RANDOM_STATE, stratify=y_train)"
   ]
  },
  {
   "cell_type": "code",
   "execution_count": 4,
   "metadata": {},
   "outputs": [
    {
     "name": "stdout",
     "output_type": "stream",
     "text": [
      "X_train.shape: (4292, 192)\n",
      "y_train.shape: (4292)\n",
      "X_valid.shape: (1074, 192)\n",
      "y_valid.shape: (1074)\n",
      "X_test.shape: (2300, 192)\n",
      "y_test.shape: (2300)\n"
     ]
    }
   ],
   "source": [
    "print(\"X_train.shape: (%d, %d)\" % X_train.shape)\n",
    "print(\"y_train.shape: (%d)\" % y_train.shape)\n",
    "\n",
    "print(\"X_valid.shape: (%d, %d)\" % X_valid.shape)\n",
    "print(\"y_valid.shape: (%d)\" % y_valid.shape)\n",
    "\n",
    "print(\"X_test.shape: (%d, %d)\" % X_test.shape)\n",
    "print(\"y_test.shape: (%d)\" % y_test.shape)"
   ]
  },
  {
   "cell_type": "code",
   "execution_count": 5,
   "metadata": {},
   "outputs": [],
   "source": [
    "np.save(\"pytorch_isear_X_train.npy\", X_train)\n",
    "np.save(\"pytorch_isear_X_valid.npy\", X_valid)\n",
    "np.save(\"pytorch_isear_X_test.npy\", X_test)\n",
    "\n",
    "np.save(\"pytorch_isear_y_train.npy\", y_train)\n",
    "np.save(\"pytorch_isear_y_valid.npy\", y_valid)\n",
    "np.save(\"pytorch_isear_y_test.npy\", y_test)"
   ]
  },
  {
   "cell_type": "code",
   "execution_count": 6,
   "metadata": {},
   "outputs": [],
   "source": [
    "X_train = np.load(\"pytorch_isear_X_train.npy\")\n",
    "X_valid = np.load(\"pytorch_isear_X_valid.npy\")\n",
    "X_test = np.load(\"pytorch_isear_X_test.npy\")\n",
    "\n",
    "y_train = np.load(\"pytorch_isear_y_train.npy\")\n",
    "y_valid = np.load(\"pytorch_isear_y_valid.npy\")\n",
    "y_test = np.load(\"pytorch_isear_y_test.npy\")"
   ]
  },
  {
   "cell_type": "code",
   "execution_count": 7,
   "metadata": {},
   "outputs": [
    {
     "name": "stdout",
     "output_type": "stream",
     "text": [
      "class dictionary: {'anger': 0, 'disgust': 1, 'fear': 2, 'guilt': 3, 'joy': 4, 'sadness': 5, 'shame': 6}\n",
      "class labels: ['anger', 'disgust', 'fear', 'guilt', 'joy', 'sadness', 'shame']\n",
      "number of bins: 7\n"
     ]
    }
   ],
   "source": [
    "dic = dataset.get_classes_dict()\n",
    "labels = dataset.get_classes()\n",
    "n_classes = len(labels)\n",
    "print(\"class dictionary: %s\" % dic)\n",
    "print(\"class labels: %s\" % labels)\n",
    "print(\"number of bins: %s\" % n_classes)"
   ]
  },
  {
   "cell_type": "code",
   "execution_count": 8,
   "metadata": {
    "scrolled": true
   },
   "outputs": [
    {
     "name": "stdout",
     "output_type": "stream",
     "text": [
      "bins: [0, 1, 2, 3, 4, 5, 6, 7]\n"
     ]
    },
    {
     "data": {
      "image/png": "[encoded data removed]",
      "text/plain": [
       "<Figure size 432x288 with 1 Axes>"
      ]
     },
     "metadata": {
      "needs_background": "light"
     },
     "output_type": "display_data"
    }
   ],
   "source": [
    "bins = list(range(0, n_classes + 1))\n",
    "print(\"bins:\", bins)\n",
    "hist, _ = np.histogram(y_train, bins=bins)\n",
    "\n",
    "y_pos = np.arange(len(labels))\n",
    "\n",
    "plt.bar(y_pos, hist, align='center', alpha=0.5)\n",
    "plt.xticks(y_pos, labels)\n",
    "plt.ylabel('Number')\n",
    "plt.title('Emotions')\n",
    " \n",
    "plt.show()"
   ]
  },
  {
   "cell_type": "code",
   "execution_count": 9,
   "metadata": {
    "scrolled": true
   },
   "outputs": [
    {
     "name": "stdout",
     "output_type": "stream",
     "text": [
      "y.shape: torch.Size([4292, 1, 1, 1])\n",
      "y_onehot.shape: torch.Size([4292, 7, 1, 1])\n"
     ]
    }
   ],
   "source": [
    "from torch import autograd\n",
    "\n",
    "def make_one_hot(labels, C=2):\n",
    "    '''\n",
    "    Converts an integer label torch.autograd.Variable to a one-hot Variable.\n",
    "    \n",
    "    Parameters\n",
    "    ----------\n",
    "    labels : torch.autograd.Variable of torch.cuda.LongTensor\n",
    "        N x 1 x H x W, where N is batch size. \n",
    "        Each value is an integer representing correct classification.\n",
    "    C : integer. \n",
    "        number of classes in labels.\n",
    "    \n",
    "    Returns\n",
    "    -------\n",
    "    target : torch.autograd.Variable of torch.cuda.FloatTensor\n",
    "        N x C x H x W, where C is class number. One-hot encoded.\n",
    "    '''\n",
    "    one_hot = torch.FloatTensor(labels.size(0), C, labels.size(2), labels.size(3)).zero_()\n",
    "    target = one_hot.scatter_(1, labels.data, 1)\n",
    "    \n",
    "    target = autograd.Variable(target)\n",
    "        \n",
    "    return target\n",
    "  \n",
    "y = torch.LongTensor(y_train).view(-1, 1, 1, 1)\n",
    "print(\"y.shape:\", y.shape)\n",
    "y_onehot = make_one_hot(y, C=7)\n",
    "print(\"y_onehot.shape:\", y_onehot.shape)"
   ]
  },
  {
   "cell_type": "code",
   "execution_count": 10,
   "metadata": {},
   "outputs": [],
   "source": [
    "import torch\n",
    "from torch.utils import data\n",
    "\n",
    "class ISEAR_Tensor_Dataset(data.TensorDataset):\n",
    "  \n",
    "  def __init__(self, text, emotion, num_class=2):\n",
    "    X = torch.LongTensor(text)\n",
    "    y = torch.LongTensor(emotion).view(-1, 1, 1, 1)\n",
    "    y_onehot = make_one_hot(y, num_class)\n",
    "    y_onehot = y_onehot.view(y_onehot.shape[0], y_onehot.shape[1])\n",
    "    tensors = []\n",
    "    tensors.append(X)\n",
    "    tensors.append(y_onehot)\n",
    "    super().__init__(*tensors)"
   ]
  },
  {
   "cell_type": "code",
   "execution_count": 11,
   "metadata": {},
   "outputs": [],
   "source": [
    "train_dataset = ISEAR_Tensor_Dataset(X_train, y_train, num_class=7)\n",
    "valid_dataset = ISEAR_Tensor_Dataset(X_valid, y_valid, num_class=7)\n",
    "test_dataset = ISEAR_Tensor_Dataset(X_test, y_test, num_class=7)"
   ]
  },
  {
   "cell_type": "code",
   "execution_count": 12,
   "metadata": {},
   "outputs": [
    {
     "name": "stdout",
     "output_type": "stream",
     "text": [
      "train_dataset.tensors[0].shape: torch.Size([4292, 192])\n",
      "train_dataset.tensors[1].shape: torch.Size([4292, 7])\n"
     ]
    }
   ],
   "source": [
    "print(\"train_dataset.tensors[0].shape:\", train_dataset.tensors[0].shape)\n",
    "print(\"train_dataset.tensors[1].shape:\", train_dataset.tensors[1].shape)"
   ]
  },
  {
   "cell_type": "code",
   "execution_count": 13,
   "metadata": {},
   "outputs": [
    {
     "name": "stdout",
     "output_type": "stream",
     "text": [
      "train_dataset length: 4292\n",
      "valid_dataset length: 1074\n",
      "test_dataset length: 2300\n"
     ]
    }
   ],
   "source": [
    "print(\"train_dataset length:\", len(train_dataset))\n",
    "print(\"valid_dataset length:\", len(valid_dataset))\n",
    "print(\"test_dataset length:\", len(test_dataset))"
   ]
  },
  {
   "cell_type": "code",
   "execution_count": 14,
   "metadata": {},
   "outputs": [],
   "source": [
    "batch_size = 50\n",
    "\n",
    "train_loader = data.DataLoader(train_dataset, batch_size=batch_size, shuffle=True)\n",
    "valid_loader = data.DataLoader(valid_dataset, batch_size=batch_size, shuffle=True)\n",
    "test_loader = data.DataLoader(test_dataset, batch_size=batch_size, shuffle=True)"
   ]
  },
  {
   "cell_type": "markdown",
   "metadata": {},
   "source": [
    "### Word2Vec Embedding"
   ]
  },
  {
   "cell_type": "code",
   "execution_count": 15,
   "metadata": {},
   "outputs": [],
   "source": [
    "import gensim\n",
    "from gensim.models import Word2Vec\n",
    "from gensim.utils import simple_preprocess\n",
    "\n",
    "from gensim.models.keyedvectors import KeyedVectors\n",
    "\n",
    "word_vectors = KeyedVectors.load_word2vec_format('../../Datasets/WordEmbeddings/GoogleNews-vectors-negative300.bin.gz', binary=True)\n",
    "\n",
    "EMBEDDING_DIM=300\n",
    "\n",
    "vocabulary_size = min(len(dataset.word_index)+1, NUM_WORDS)\n",
    "embedding_weights = np.zeros((vocabulary_size, EMBEDDING_DIM))\n",
    "for word, i in dataset.word_index.items():\n",
    "    if i>=NUM_WORDS:\n",
    "        continue\n",
    "    try:\n",
    "        embedding_vector = word_vectors[word]\n",
    "        embedding_weights[i] = embedding_vector\n",
    "    except KeyError:\n",
    "        embedding_weights[i] = np.random.normal(0,np.sqrt(0.25), EMBEDDING_DIM)\n",
    "\n",
    "del(word_vectors)"
   ]
  },
  {
   "cell_type": "code",
   "execution_count": 16,
   "metadata": {},
   "outputs": [],
   "source": [
    "file_embedding_weights = \"pytorch_isear_embedded_matrix_word2vec_googlenews.npy\"\n",
    "np.save(file_embedding_weights, embedding_weights)"
   ]
  },
  {
   "cell_type": "markdown",
   "metadata": {},
   "source": [
    "## Reload embedding layer"
   ]
  },
  {
   "cell_type": "code",
   "execution_count": 17,
   "metadata": {},
   "outputs": [
    {
     "name": "stdout",
     "output_type": "stream",
     "text": [
      "embedding_weights.shape: (9014, 300)\n"
     ]
    }
   ],
   "source": [
    "file_embedding_weights = \"pytorch_isear_embedded_matrix_word2vec_googlenews.npy\"\n",
    "embedding_weights = np.load(file_embedding_weights)\n",
    "print(\"embedding_weights.shape:\", embedding_weights.shape)"
   ]
  },
  {
   "cell_type": "code",
   "execution_count": 18,
   "metadata": {},
   "outputs": [],
   "source": [
    "embedding = nn.Embedding(num_embeddings=vocabulary_size, embedding_dim=EMBEDDING_DIM, _weight=torch.Tensor(embedding_weights))"
   ]
  },
  {
   "cell_type": "code",
   "execution_count": 19,
   "metadata": {},
   "outputs": [
    {
     "name": "stdout",
     "output_type": "stream",
     "text": [
      "embedding.requires_grad: True\n"
     ]
    }
   ],
   "source": [
    "for param in embedding.parameters():\n",
    "    print(\"embedding.requires_grad:\", param.requires_grad)"
   ]
  },
  {
   "cell_type": "markdown",
   "metadata": {},
   "source": [
    "## Define the classifier"
   ]
  },
  {
   "cell_type": "code",
   "execution_count": 20,
   "metadata": {},
   "outputs": [],
   "source": [
    "class ConvNetClassifier(nn.Module):\n",
    "    \n",
    "    def __init__(self, embedding, input_dim, embedding_dim=300, \n",
    "                 output_dim=7, filter_dim=100, filter_sizes=[3,4,5], drop_rate=0.5):\n",
    "        super(ConvNetClassifier, self).__init__()\n",
    "        \n",
    "        self.embedding = embedding\n",
    "        self.input_dim = input_dim\n",
    "        self.embedding_dim = embedding_dim\n",
    "        self.filter_sizes = filter_sizes\n",
    "        self.filter_dim = filter_dim\n",
    "        self.output_dim = output_dim\n",
    "        self.drop_rate = drop_rate\n",
    "        \n",
    "        self.conv2d_1 = nn.Conv2d(\n",
    "            in_channels=1, out_channels=self.filter_dim, \n",
    "            kernel_size=(self.filter_sizes[0], self.embedding_dim))\n",
    "        \n",
    "        self.conv2d_2 = nn.Conv2d(\n",
    "            in_channels=1, out_channels=self.filter_dim, \n",
    "            kernel_size=(self.filter_sizes[1], self.embedding_dim))\n",
    "        \n",
    "        self.conv2d_3 = nn.Conv2d(\n",
    "            in_channels=1, out_channels=self.filter_dim, \n",
    "            kernel_size=(self.filter_sizes[2], self.embedding_dim))\n",
    "        \n",
    "        self.maxpool2d_1 = nn.MaxPool2d(\n",
    "            kernel_size=(self.input_dim-self.filter_sizes[0]+1, 1), \n",
    "            stride=1)\n",
    "        \n",
    "        self.maxpool2d_2 = nn.MaxPool2d(\n",
    "            kernel_size=(self.input_dim-self.filter_sizes[1]+1, 1), \n",
    "            stride=1)\n",
    "        \n",
    "        self.maxpool2d_3 = nn.MaxPool2d(\n",
    "            kernel_size=(self.input_dim-self.filter_sizes[2]+1, 1), \n",
    "            stride=1)\n",
    "        \n",
    "        self.linear = nn.Linear(in_features=self.embedding_dim, out_features=self.output_dim)\n",
    "        \n",
    "    def forward(self, x):\n",
    "        embedded = self.embedding(x)\n",
    "        reshaped = embedded.view(embedded.shape[0], 1, embedded.shape[1], self.embedding_dim)\n",
    "        \n",
    "        conv2d_1 = F.relu(self.conv2d_1(reshaped))\n",
    "        conv2d_2 = F.relu(self.conv2d_2(reshaped))\n",
    "        conv2d_3 = F.relu(self.conv2d_3(reshaped))\n",
    "        \n",
    "        maxpool2d_1 = self.maxpool2d_1(conv2d_1)\n",
    "        maxpool2d_2 = self.maxpool2d_2(conv2d_2)\n",
    "        maxpool2d_3 = self.maxpool2d_3(conv2d_3)\n",
    "        \n",
    "        concat = torch.cat([maxpool2d_1, maxpool2d_2, maxpool2d_3], dim=1)\n",
    "        flatten = concat.view(concat.shape[0], concat.shape[1])\n",
    "        dropout = F.dropout(flatten, self.drop_rate)\n",
    "        output = F.softmax(self.linear(dropout))\n",
    "        \n",
    "        return output"
   ]
  },
  {
   "cell_type": "code",
   "execution_count": 21,
   "metadata": {},
   "outputs": [],
   "source": [
    "input_dim = X_train.shape[1]\n",
    "filter_dim = 100\n",
    "embedding_dim = 300\n",
    "filter_sizes = [3,4,5]\n",
    "drop_rate = 0.5\n",
    "output_dim = 7\n",
    "model = ConvNetClassifier(embedding, input_dim, embedding_dim, output_dim, filter_dim, filter_sizes, drop_rate)\n",
    "model = model.to(device)"
   ]
  },
  {
   "cell_type": "code",
   "execution_count": 22,
   "metadata": {},
   "outputs": [
    {
     "data": {
      "text/plain": [
       "{'dataset': <__main__.ISEAR_Tensor_Dataset at 0x7feaf942a1d0>,\n",
       " 'batch_size': 50,\n",
       " 'num_workers': 0,\n",
       " 'collate_fn': <function torch.utils.data.dataloader.default_collate(batch)>,\n",
       " 'pin_memory': False,\n",
       " 'drop_last': False,\n",
       " 'timeout': 0,\n",
       " 'worker_init_fn': None,\n",
       " 'sampler': <torch.utils.data.sampler.RandomSampler at 0x7feaf942a208>,\n",
       " 'batch_sampler': <torch.utils.data.sampler.BatchSampler at 0x7feaf942a128>,\n",
       " '_DataLoader__initialized': True}"
      ]
     },
     "execution_count": 22,
     "metadata": {},
     "output_type": "execute_result"
    }
   ],
   "source": [
    "train_loader.__dict__"
   ]
  },
  {
   "cell_type": "code",
   "execution_count": 23,
   "metadata": {},
   "outputs": [],
   "source": [
    "def train(epoch, model, data_loader, device, optimiser, loss_fn=nn.BCELoss(), log_interval=100):\n",
    "    #####################\n",
    "    # Train model\n",
    "    #####################\n",
    "\n",
    "    # switch model to training mode, clear gradient accumulators\n",
    "    model.train()\n",
    "    # model.hidden = model.init_hidden()\n",
    "    \n",
    "    train_loss = 0\n",
    "    total_correct = 0\n",
    "\n",
    "    all_pred = []\n",
    "    all_target = []\n",
    "\n",
    "    for batch_idx, (data, target) in enumerate(data_loader):\n",
    "        data, target = data.to(device), target.to(device)\n",
    "        optimiser.zero_grad()\n",
    "        output = model(data)\n",
    "        \n",
    "        loss = loss_fn(output, target)\n",
    "        loss.backward()\n",
    "        optimiser.step()\n",
    "        \n",
    "        train_loss += loss.data # sum up batch loss\n",
    "        \n",
    "        pred = output.max(1, keepdim=True)[1]\n",
    "        pred = pred.view(pred.size(0))\n",
    "\n",
    "        target = target.max(1, keepdim=True)[1]\n",
    "        target = target.view(target.size(0))\n",
    "\n",
    "        correct = pred.eq(target.view_as(pred)).sum()\n",
    "        total_correct += correct\n",
    "\n",
    "        all_pred += pred.cpu().numpy().tolist()\n",
    "        all_target += target.cpu().numpy().tolist()\n",
    "\n",
    "        if batch_idx % log_interval == 0:\n",
    "            print('Train Epoch: {} [{}\\t/\\t{}\\t({:.0f}%)]\\tLoss: {:.6f}'.format(\n",
    "                epoch, batch_idx * len(data), len(train_loader.dataset),\n",
    "                100. * batch_idx / len(train_loader), loss.data))\n",
    "    \n",
    "    print('Train: Average loss: {:.4f}, Accuracy: {}/{} ({:.0f}%)'.format(\n",
    "        train_loss, total_correct, len(data_loader.dataset),\n",
    "        100. * total_correct / len(data_loader.dataset)))\n",
    "    \n",
    "    return train_loss, all_pred, all_target"
   ]
  },
  {
   "cell_type": "code",
   "execution_count": 24,
   "metadata": {},
   "outputs": [],
   "source": [
    "def evaluate(model, data_loader, device, loss_fn=nn.BCELoss()):\n",
    "    #####################\n",
    "    # Evaluation model\n",
    "    #####################\n",
    "    model.eval()\n",
    "    eval_loss = 0\n",
    "    total_correct = 0\n",
    "\n",
    "    all_pred = []\n",
    "    all_target = []\n",
    "    \n",
    "    with torch.no_grad():\n",
    "        for data, target in data_loader:\n",
    "            data, target = data.to(device), target.to(device)\n",
    "            output = model(data)\n",
    "            eval_loss += loss_fn(output, target).data # sum up batch loss\n",
    "            \n",
    "            pred = output.max(1, keepdim=True)[1]\n",
    "            pred = pred.view(pred.size(0))\n",
    "            \n",
    "            target = target.max(1, keepdim=True)[1]\n",
    "            target = target.view(target.size(0))\n",
    "            \n",
    "            correct = pred.eq(target.view_as(pred)).sum()\n",
    "            total_correct += correct\n",
    "\n",
    "            all_pred += pred.cpu().numpy().tolist()\n",
    "            all_target += target.cpu().numpy().tolist()\n",
    "\n",
    "    print('Evaluate: Average loss: {:.4f}, Accuracy: {}/{} ({:.0f}%)\\n'.format(\n",
    "        eval_loss, total_correct, len(data_loader.dataset),\n",
    "        100. * total_correct / len(data_loader.dataset)))\n",
    "    \n",
    "    return eval_loss, all_pred, all_target"
   ]
  },
  {
   "cell_type": "code",
   "execution_count": 25,
   "metadata": {},
   "outputs": [
    {
     "name": "stderr",
     "output_type": "stream",
     "text": [
      "/home/david/anaconda3/envs/tf36/lib/python3.6/site-packages/ipykernel_launcher.py:56: UserWarning: Implicit dimension choice for softmax has been deprecated. Change the call to include dim=X as an argument.\n"
     ]
    },
    {
     "name": "stdout",
     "output_type": "stream",
     "text": [
      "Train Epoch: 0 [0\t/\t4292\t(0%)]\tLoss: 0.414288\n",
      "Train Epoch: 0 [500\t/\t4292\t(12%)]\tLoss: 0.417870\n",
      "Train Epoch: 0 [1000\t/\t4292\t(23%)]\tLoss: 0.417129\n",
      "Train Epoch: 0 [1500\t/\t4292\t(35%)]\tLoss: 0.410955\n",
      "Train Epoch: 0 [2000\t/\t4292\t(47%)]\tLoss: 0.403578\n",
      "Train Epoch: 0 [2500\t/\t4292\t(58%)]\tLoss: 0.398571\n",
      "Train Epoch: 0 [3000\t/\t4292\t(70%)]\tLoss: 0.389930\n",
      "Train Epoch: 0 [3500\t/\t4292\t(81%)]\tLoss: 0.390744\n",
      "Train Epoch: 0 [4000\t/\t4292\t(93%)]\tLoss: 0.406144\n",
      "Train: Average loss: 34.9582, Accuracy: 907/4292 (21%)\n",
      "Evaluate: Average loss: 8.6671, Accuracy: 296/1074 (27%)\n",
      "\n",
      "Train Epoch: 1 [0\t/\t4292\t(0%)]\tLoss: 0.373956\n",
      "Train Epoch: 1 [500\t/\t4292\t(12%)]\tLoss: 0.367984\n",
      "Train Epoch: 1 [1000\t/\t4292\t(23%)]\tLoss: 0.366475\n",
      "Train Epoch: 1 [1500\t/\t4292\t(35%)]\tLoss: 0.362407\n",
      "Train Epoch: 1 [2000\t/\t4292\t(47%)]\tLoss: 0.326050\n",
      "Train Epoch: 1 [2500\t/\t4292\t(58%)]\tLoss: 0.344212\n",
      "Train Epoch: 1 [3000\t/\t4292\t(70%)]\tLoss: 0.323629\n",
      "Train Epoch: 1 [3500\t/\t4292\t(81%)]\tLoss: 0.332665\n",
      "Train Epoch: 1 [4000\t/\t4292\t(93%)]\tLoss: 0.271680\n",
      "Train: Average loss: 29.8983, Accuracy: 1810/4292 (42%)\n",
      "Evaluate: Average loss: 6.9370, Accuracy: 521/1074 (48%)\n",
      "\n",
      "Train Epoch: 2 [0\t/\t4292\t(0%)]\tLoss: 0.327521\n",
      "Train Epoch: 2 [500\t/\t4292\t(12%)]\tLoss: 0.257967\n",
      "Train Epoch: 2 [1000\t/\t4292\t(23%)]\tLoss: 0.273090\n",
      "Train Epoch: 2 [1500\t/\t4292\t(35%)]\tLoss: 0.266097\n",
      "Train Epoch: 2 [2000\t/\t4292\t(47%)]\tLoss: 0.231003\n",
      "Train Epoch: 2 [2500\t/\t4292\t(58%)]\tLoss: 0.264718\n",
      "Train Epoch: 2 [3000\t/\t4292\t(70%)]\tLoss: 0.246862\n",
      "Train Epoch: 2 [3500\t/\t4292\t(81%)]\tLoss: 0.273031\n",
      "Train Epoch: 2 [4000\t/\t4292\t(93%)]\tLoss: 0.236553\n",
      "Train: Average loss: 21.6375, Accuracy: 2660/4292 (61%)\n",
      "Evaluate: Average loss: 6.0795, Accuracy: 608/1074 (56%)\n",
      "\n",
      "Train Epoch: 3 [0\t/\t4292\t(0%)]\tLoss: 0.176565\n",
      "Train Epoch: 3 [500\t/\t4292\t(12%)]\tLoss: 0.194701\n",
      "Train Epoch: 3 [1000\t/\t4292\t(23%)]\tLoss: 0.194950\n",
      "Train Epoch: 3 [1500\t/\t4292\t(35%)]\tLoss: 0.227022\n",
      "Train Epoch: 3 [2000\t/\t4292\t(47%)]\tLoss: 0.246351\n",
      "Train Epoch: 3 [2500\t/\t4292\t(58%)]\tLoss: 0.179381\n",
      "Train Epoch: 3 [3000\t/\t4292\t(70%)]\tLoss: 0.167701\n",
      "Train Epoch: 3 [3500\t/\t4292\t(81%)]\tLoss: 0.156547\n",
      "Train Epoch: 3 [4000\t/\t4292\t(93%)]\tLoss: 0.167766\n",
      "Train: Average loss: 17.0229, Accuracy: 3083/4292 (71%)\n",
      "Evaluate: Average loss: 6.0118, Accuracy: 610/1074 (56%)\n",
      "\n",
      "Train Epoch: 4 [0\t/\t4292\t(0%)]\tLoss: 0.176483\n",
      "Train Epoch: 4 [500\t/\t4292\t(12%)]\tLoss: 0.162975\n",
      "Train Epoch: 4 [1000\t/\t4292\t(23%)]\tLoss: 0.150104\n",
      "Train Epoch: 4 [1500\t/\t4292\t(35%)]\tLoss: 0.154639\n",
      "Train Epoch: 4 [2000\t/\t4292\t(47%)]\tLoss: 0.162466\n",
      "Train Epoch: 4 [2500\t/\t4292\t(58%)]\tLoss: 0.163344\n",
      "Train Epoch: 4 [3000\t/\t4292\t(70%)]\tLoss: 0.162900\n",
      "Train Epoch: 4 [3500\t/\t4292\t(81%)]\tLoss: 0.159295\n",
      "Train Epoch: 4 [4000\t/\t4292\t(93%)]\tLoss: 0.165968\n",
      "Train: Average loss: 13.3607, Accuracy: 3392/4292 (79%)\n",
      "Evaluate: Average loss: 6.0413, Accuracy: 634/1074 (59%)\n",
      "\n",
      "Train Epoch: 5 [0\t/\t4292\t(0%)]\tLoss: 0.108322\n",
      "Train Epoch: 5 [500\t/\t4292\t(12%)]\tLoss: 0.097651\n",
      "Train Epoch: 5 [1000\t/\t4292\t(23%)]\tLoss: 0.076892\n",
      "Train Epoch: 5 [1500\t/\t4292\t(35%)]\tLoss: 0.106815\n",
      "Train Epoch: 5 [2000\t/\t4292\t(47%)]\tLoss: 0.105126\n",
      "Train Epoch: 5 [2500\t/\t4292\t(58%)]\tLoss: 0.104636\n",
      "Train Epoch: 5 [3000\t/\t4292\t(70%)]\tLoss: 0.083843\n",
      "Train Epoch: 5 [3500\t/\t4292\t(81%)]\tLoss: 0.105491\n",
      "Train Epoch: 5 [4000\t/\t4292\t(93%)]\tLoss: 0.102664\n",
      "Train: Average loss: 10.1834, Accuracy: 3661/4292 (85%)\n",
      "Evaluate: Average loss: 6.2428, Accuracy: 633/1074 (58%)\n",
      "\n",
      "Train Epoch: 6 [0\t/\t4292\t(0%)]\tLoss: 0.083741\n",
      "Train Epoch: 6 [500\t/\t4292\t(12%)]\tLoss: 0.098287\n",
      "Train Epoch: 6 [1000\t/\t4292\t(23%)]\tLoss: 0.100219\n",
      "Train Epoch: 6 [1500\t/\t4292\t(35%)]\tLoss: 0.072834\n",
      "Train Epoch: 6 [2000\t/\t4292\t(47%)]\tLoss: 0.081937\n",
      "Train Epoch: 6 [2500\t/\t4292\t(58%)]\tLoss: 0.063225\n",
      "Train Epoch: 6 [3000\t/\t4292\t(70%)]\tLoss: 0.084191\n",
      "Train Epoch: 6 [3500\t/\t4292\t(81%)]\tLoss: 0.074902\n",
      "Train Epoch: 6 [4000\t/\t4292\t(93%)]\tLoss: 0.097623\n",
      "Train: Average loss: 7.4474, Accuracy: 3859/4292 (89%)\n",
      "Evaluate: Average loss: 6.5778, Accuracy: 619/1074 (57%)\n",
      "\n",
      "Train Epoch: 7 [0\t/\t4292\t(0%)]\tLoss: 0.053910\n",
      "Train Epoch: 7 [500\t/\t4292\t(12%)]\tLoss: 0.077205\n",
      "Train Epoch: 7 [1000\t/\t4292\t(23%)]\tLoss: 0.093760\n",
      "Train Epoch: 7 [1500\t/\t4292\t(35%)]\tLoss: 0.055571\n",
      "Train Epoch: 7 [2000\t/\t4292\t(47%)]\tLoss: 0.047460\n",
      "Train Epoch: 7 [2500\t/\t4292\t(58%)]\tLoss: 0.068004\n",
      "Train Epoch: 7 [3000\t/\t4292\t(70%)]\tLoss: 0.069157\n",
      "Train Epoch: 7 [3500\t/\t4292\t(81%)]\tLoss: 0.063308\n",
      "Train Epoch: 7 [4000\t/\t4292\t(93%)]\tLoss: 0.071689\n",
      "Train: Average loss: 5.6433, Accuracy: 3975/4292 (92%)\n",
      "Evaluate: Average loss: 6.9596, Accuracy: 610/1074 (56%)\n",
      "\n",
      "Train Epoch: 8 [0\t/\t4292\t(0%)]\tLoss: 0.067849\n",
      "Train Epoch: 8 [500\t/\t4292\t(12%)]\tLoss: 0.074252\n",
      "Train Epoch: 8 [1000\t/\t4292\t(23%)]\tLoss: 0.044147\n",
      "Train Epoch: 8 [1500\t/\t4292\t(35%)]\tLoss: 0.036238\n",
      "Train Epoch: 8 [2000\t/\t4292\t(47%)]\tLoss: 0.039465\n",
      "Train Epoch: 8 [2500\t/\t4292\t(58%)]\tLoss: 0.059108\n",
      "Train Epoch: 8 [3000\t/\t4292\t(70%)]\tLoss: 0.034409\n",
      "Train Epoch: 8 [3500\t/\t4292\t(81%)]\tLoss: 0.058278\n",
      "Train Epoch: 8 [4000\t/\t4292\t(93%)]\tLoss: 0.030661\n",
      "Train: Average loss: 4.2216, Accuracy: 4076/4292 (94%)\n",
      "Evaluate: Average loss: 6.9522, Accuracy: 621/1074 (57%)\n",
      "\n",
      "Train Epoch: 9 [0\t/\t4292\t(0%)]\tLoss: 0.021169\n",
      "Train Epoch: 9 [500\t/\t4292\t(12%)]\tLoss: 0.013769\n",
      "Train Epoch: 9 [1000\t/\t4292\t(23%)]\tLoss: 0.037493\n",
      "Train Epoch: 9 [1500\t/\t4292\t(35%)]\tLoss: 0.037590\n",
      "Train Epoch: 9 [2000\t/\t4292\t(47%)]\tLoss: 0.024116\n",
      "Train Epoch: 9 [2500\t/\t4292\t(58%)]\tLoss: 0.047595\n",
      "Train Epoch: 9 [3000\t/\t4292\t(70%)]\tLoss: 0.047409\n",
      "Train Epoch: 9 [3500\t/\t4292\t(81%)]\tLoss: 0.020638\n",
      "Train Epoch: 9 [4000\t/\t4292\t(93%)]\tLoss: 0.037049\n",
      "Train: Average loss: 3.0435, Accuracy: 4152/4292 (96%)\n",
      "Evaluate: Average loss: 7.4846, Accuracy: 627/1074 (58%)\n",
      "\n"
     ]
    }
   ],
   "source": [
    "loss_fn = nn.BCELoss()\n",
    "log_interval = 10\n",
    "max_epochs = 10\n",
    "learning_rate = 1e-3\n",
    "optimiser = optim.Adam(model.parameters(), lr=learning_rate)\n",
    "\n",
    "train_loss_hist = np.zeros(max_epochs)\n",
    "eval_loss_hist = np.zeros(max_epochs)\n",
    "\n",
    "for epoch in range(max_epochs):\n",
    "  \n",
    "    train_loss, train_pred, train_target = train(epoch, model, train_loader, device, optimiser, loss_fn, log_interval)\n",
    "    train_loss_hist[epoch] = train_loss\n",
    "    \n",
    "    valid_loss, valid_pred, valid_target = evaluate(model, valid_loader, device, loss_fn=nn.BCELoss())\n",
    "    eval_loss_hist[epoch] = valid_loss"
   ]
  },
  {
   "cell_type": "code",
   "execution_count": 26,
   "metadata": {},
   "outputs": [
    {
     "data": {
      "image/png": "[encoded data removed]",
      "text/plain": [
       "<Figure size 432x288 with 1 Axes>"
      ]
     },
     "metadata": {
      "needs_background": "light"
     },
     "output_type": "display_data"
    }
   ],
   "source": [
    "import matplotlib.pyplot as plt\n",
    "plt.plot(train_loss_hist, color='skyblue')\n",
    "plt.plot(eval_loss_hist, color='red')\n",
    "plt.ylabel('Historic Loss')\n",
    "plt.show()"
   ]
  },
  {
   "cell_type": "code",
   "execution_count": 27,
   "metadata": {},
   "outputs": [
    {
     "name": "stderr",
     "output_type": "stream",
     "text": [
      "/home/david/anaconda3/envs/tf36/lib/python3.6/site-packages/torch/serialization.py:250: UserWarning: Couldn't retrieve source code for container of type ConvNetClassifier. It won't be checked for correctness upon loading.\n",
      "  \"type \" + obj.__name__ + \". It won't be checked \"\n"
     ]
    }
   ],
   "source": [
    "model_path = 'pytorch_isear_convnet_word2vec_googlenews_model.h5'\n",
    "weight_path = 'pytorch_isear_convnet_word2vec_googlenews_weights.h5'\n",
    "\n",
    "torch.save(model.state_dict(), weight_path)\n",
    "torch.save(model, model_path)"
   ]
  },
  {
   "cell_type": "code",
   "execution_count": 28,
   "metadata": {},
   "outputs": [
    {
     "name": "stderr",
     "output_type": "stream",
     "text": [
      "/home/david/anaconda3/envs/tf36/lib/python3.6/site-packages/ipykernel_launcher.py:56: UserWarning: Implicit dimension choice for softmax has been deprecated. Change the call to include dim=X as an argument.\n"
     ]
    },
    {
     "name": "stdout",
     "output_type": "stream",
     "text": [
      "Evaluate: Average loss: 15.1099, Accuracy: 1344/2300 (58%)\n",
      "\n"
     ]
    }
   ],
   "source": [
    "test_loss, test_pred, test_target = evaluate(model, test_loader, device, loss_fn)"
   ]
  },
  {
   "cell_type": "code",
   "execution_count": 29,
   "metadata": {},
   "outputs": [
    {
     "data": {
      "text/html": [
       "<div>\n",
       "<style scoped>\n",
       "    .dataframe tbody tr th:only-of-type {\n",
       "        vertical-align: middle;\n",
       "    }\n",
       "\n",
       "    .dataframe tbody tr th {\n",
       "        vertical-align: top;\n",
       "    }\n",
       "\n",
       "    .dataframe thead th {\n",
       "        text-align: right;\n",
       "    }\n",
       "</style>\n",
       "<table border=\"1\" class=\"dataframe\">\n",
       "  <thead>\n",
       "    <tr style=\"text-align: right;\">\n",
       "      <th></th>\n",
       "      <th>anger</th>\n",
       "      <th>disgust</th>\n",
       "      <th>fear</th>\n",
       "      <th>guilt</th>\n",
       "      <th>joy</th>\n",
       "      <th>sadness</th>\n",
       "      <th>shame</th>\n",
       "    </tr>\n",
       "  </thead>\n",
       "  <tbody>\n",
       "    <tr>\n",
       "      <th>anger</th>\n",
       "      <td>175</td>\n",
       "      <td>39</td>\n",
       "      <td>17</td>\n",
       "      <td>42</td>\n",
       "      <td>14</td>\n",
       "      <td>19</td>\n",
       "      <td>23</td>\n",
       "    </tr>\n",
       "    <tr>\n",
       "      <th>disgust</th>\n",
       "      <td>38</td>\n",
       "      <td>202</td>\n",
       "      <td>21</td>\n",
       "      <td>15</td>\n",
       "      <td>13</td>\n",
       "      <td>16</td>\n",
       "      <td>24</td>\n",
       "    </tr>\n",
       "    <tr>\n",
       "      <th>fear</th>\n",
       "      <td>13</td>\n",
       "      <td>18</td>\n",
       "      <td>223</td>\n",
       "      <td>21</td>\n",
       "      <td>14</td>\n",
       "      <td>23</td>\n",
       "      <td>16</td>\n",
       "    </tr>\n",
       "    <tr>\n",
       "      <th>guilt</th>\n",
       "      <td>43</td>\n",
       "      <td>29</td>\n",
       "      <td>19</td>\n",
       "      <td>169</td>\n",
       "      <td>10</td>\n",
       "      <td>19</td>\n",
       "      <td>39</td>\n",
       "    </tr>\n",
       "    <tr>\n",
       "      <th>joy</th>\n",
       "      <td>22</td>\n",
       "      <td>15</td>\n",
       "      <td>12</td>\n",
       "      <td>12</td>\n",
       "      <td>233</td>\n",
       "      <td>23</td>\n",
       "      <td>11</td>\n",
       "    </tr>\n",
       "    <tr>\n",
       "      <th>sadness</th>\n",
       "      <td>40</td>\n",
       "      <td>20</td>\n",
       "      <td>20</td>\n",
       "      <td>18</td>\n",
       "      <td>23</td>\n",
       "      <td>195</td>\n",
       "      <td>13</td>\n",
       "    </tr>\n",
       "    <tr>\n",
       "      <th>shame</th>\n",
       "      <td>37</td>\n",
       "      <td>34</td>\n",
       "      <td>17</td>\n",
       "      <td>57</td>\n",
       "      <td>26</td>\n",
       "      <td>11</td>\n",
       "      <td>147</td>\n",
       "    </tr>\n",
       "  </tbody>\n",
       "</table>\n",
       "</div>"
      ],
      "text/plain": [
       "         anger  disgust  fear  guilt  joy  sadness  shame\n",
       "anger      175       39    17     42   14       19     23\n",
       "disgust     38      202    21     15   13       16     24\n",
       "fear        13       18   223     21   14       23     16\n",
       "guilt       43       29    19    169   10       19     39\n",
       "joy         22       15    12     12  233       23     11\n",
       "sadness     40       20    20     18   23      195     13\n",
       "shame       37       34    17     57   26       11    147"
      ]
     },
     "execution_count": 29,
     "metadata": {},
     "output_type": "execute_result"
    }
   ],
   "source": [
    "from sklearn.metrics import confusion_matrix, precision_recall_fscore_support, accuracy_score\n",
    "\n",
    "cf_matrix = confusion_matrix(test_target, test_pred)\n",
    "\n",
    "df_cm = pd.DataFrame(\n",
    "    cf_matrix, index=labels, columns=labels, \n",
    ")\n",
    "\n",
    "df_cm"
   ]
  },
  {
   "cell_type": "code",
   "execution_count": 30,
   "metadata": {},
   "outputs": [],
   "source": [
    "import seaborn as sns\n",
    "\n",
    "def print_confusion_matrix(confusion_matrix, class_names, figsize = (4,3), fontsize=15):\n",
    "    \"\"\"Prints a confusion matrix, as returned by sklearn.metrics.confusion_matrix, as a heatmap.\n",
    "    \n",
    "    Arguments\n",
    "    ---------\n",
    "    confusion_matrix: numpy.ndarray\n",
    "        The numpy.ndarray object returned from a call to sklearn.metrics.confusion_matrix. \n",
    "        Similarly constructed ndarrays can also be used.\n",
    "    class_names: list\n",
    "        An ordered list of class names, in the order they index the given confusion matrix.\n",
    "    figsize: tuple\n",
    "        A 2-long tuple, the first value determining the horizontal size of the ouputted figure,\n",
    "        the second determining the vertical size. Defaults to (10,7).\n",
    "    fontsize: int\n",
    "        Font size for axes labels. Defaults to 14.\n",
    "        \n",
    "    Returns\n",
    "    -------\n",
    "    matplotlib.figure.Figure\n",
    "        The resulting confusion matrix figure\n",
    "    \"\"\"\n",
    "    df_cm = pd.DataFrame(\n",
    "        confusion_matrix, index=class_names, columns=class_names, \n",
    "    )\n",
    "    fig = plt.figure(figsize=figsize)\n",
    "    try:\n",
    "        heatmap = sns.heatmap(df_cm, annot=True, fmt=\"d\")\n",
    "    except ValueError:\n",
    "        raise ValueError(\"Confusion matrix values must be integers.\")\n",
    "    heatmap.yaxis.set_ticklabels(heatmap.yaxis.get_ticklabels(), rotation=0, ha='right', fontsize=fontsize)\n",
    "    heatmap.xaxis.set_ticklabels(heatmap.xaxis.get_ticklabels(), rotation=45, ha='right', fontsize=fontsize)\n",
    "    plt.ylabel('True label')\n",
    "    plt.xlabel('Predicted label')\n",
    "    return fig"
   ]
  },
  {
   "cell_type": "code",
   "execution_count": 31,
   "metadata": {},
   "outputs": [
    {
     "name": "stdout",
     "output_type": "stream",
     "text": [
      "Figure(288x216)\n"
     ]
    },
    {
     "data": {
      "image/png": "[encoded data removed]",
      "text/plain": [
       "<Figure size 288x216 with 2 Axes>"
      ]
     },
     "metadata": {
      "needs_background": "light"
     },
     "output_type": "display_data"
    }
   ],
   "source": [
    "print(print_confusion_matrix(cf_matrix, class_names=labels))"
   ]
  },
  {
   "cell_type": "code",
   "execution_count": 32,
   "metadata": {},
   "outputs": [
    {
     "name": "stdout",
     "output_type": "stream",
     "text": [
      "test accuracy: 0.5843478260869566\n"
     ]
    }
   ],
   "source": [
    "test_accuracy = accuracy_score(test_target, test_pred)\n",
    "print(\"test accuracy:\", test_accuracy)"
   ]
  },
  {
   "cell_type": "markdown",
   "metadata": {},
   "source": [
    "### Performance score for each classes"
   ]
  },
  {
   "cell_type": "code",
   "execution_count": 33,
   "metadata": {},
   "outputs": [
    {
     "data": {
      "text/html": [
       "<div>\n",
       "<style scoped>\n",
       "    .dataframe tbody tr th:only-of-type {\n",
       "        vertical-align: middle;\n",
       "    }\n",
       "\n",
       "    .dataframe tbody tr th {\n",
       "        vertical-align: top;\n",
       "    }\n",
       "\n",
       "    .dataframe thead th {\n",
       "        text-align: right;\n",
       "    }\n",
       "</style>\n",
       "<table border=\"1\" class=\"dataframe\">\n",
       "  <thead>\n",
       "    <tr style=\"text-align: right;\">\n",
       "      <th></th>\n",
       "      <th>precision</th>\n",
       "      <th>recall</th>\n",
       "      <th>f1-score</th>\n",
       "      <th>support</th>\n",
       "    </tr>\n",
       "  </thead>\n",
       "  <tbody>\n",
       "    <tr>\n",
       "      <th>anger</th>\n",
       "      <td>0.4755</td>\n",
       "      <td>0.5319</td>\n",
       "      <td>0.5022</td>\n",
       "      <td>329</td>\n",
       "    </tr>\n",
       "    <tr>\n",
       "      <th>disgust</th>\n",
       "      <td>0.5658</td>\n",
       "      <td>0.6140</td>\n",
       "      <td>0.5889</td>\n",
       "      <td>329</td>\n",
       "    </tr>\n",
       "    <tr>\n",
       "      <th>fear</th>\n",
       "      <td>0.6778</td>\n",
       "      <td>0.6799</td>\n",
       "      <td>0.6788</td>\n",
       "      <td>328</td>\n",
       "    </tr>\n",
       "    <tr>\n",
       "      <th>guilt</th>\n",
       "      <td>0.5060</td>\n",
       "      <td>0.5152</td>\n",
       "      <td>0.5106</td>\n",
       "      <td>328</td>\n",
       "    </tr>\n",
       "    <tr>\n",
       "      <th>joy</th>\n",
       "      <td>0.6997</td>\n",
       "      <td>0.7104</td>\n",
       "      <td>0.7050</td>\n",
       "      <td>328</td>\n",
       "    </tr>\n",
       "    <tr>\n",
       "      <th>sadness</th>\n",
       "      <td>0.6373</td>\n",
       "      <td>0.5927</td>\n",
       "      <td>0.6142</td>\n",
       "      <td>329</td>\n",
       "    </tr>\n",
       "    <tr>\n",
       "      <th>shame</th>\n",
       "      <td>0.5385</td>\n",
       "      <td>0.4468</td>\n",
       "      <td>0.4884</td>\n",
       "      <td>329</td>\n",
       "    </tr>\n",
       "  </tbody>\n",
       "</table>\n",
       "</div>"
      ],
      "text/plain": [
       "         precision  recall  f1-score  support\n",
       "anger       0.4755  0.5319    0.5022      329\n",
       "disgust     0.5658  0.6140    0.5889      329\n",
       "fear        0.6778  0.6799    0.6788      328\n",
       "guilt       0.5060  0.5152    0.5106      328\n",
       "joy         0.6997  0.7104    0.7050      328\n",
       "sadness     0.6373  0.5927    0.6142      329\n",
       "shame       0.5385  0.4468    0.4884      329"
      ]
     },
     "execution_count": 33,
     "metadata": {},
     "output_type": "execute_result"
    }
   ],
   "source": [
    "precision, recall, fscore, support = precision_recall_fscore_support(test_target, test_pred)\n",
    "score_dict = {\n",
    "  \"precision\": precision.round(4),\n",
    "  \"recall\": recall.round(4),\n",
    "  \"f1-score\": fscore.round(4),\n",
    "  \"support\": support.round(4)\n",
    "}\n",
    "score_df = pd.DataFrame(score_dict, index=labels)\n",
    "score_df"
   ]
  },
  {
   "cell_type": "markdown",
   "metadata": {},
   "source": [
    "### Cohen Kappa Score"
   ]
  },
  {
   "cell_type": "code",
   "execution_count": 34,
   "metadata": {},
   "outputs": [
    {
     "name": "stdout",
     "output_type": "stream",
     "text": [
      "kappa: 0.5150735637902775\n"
     ]
    }
   ],
   "source": [
    "from sklearn.metrics import cohen_kappa_score\n",
    "\n",
    "kappa_score = cohen_kappa_score(test_target, test_pred)\n",
    "print(\"kappa:\", kappa_score)"
   ]
  },
  {
   "cell_type": "code",
   "execution_count": null,
   "metadata": {},
   "outputs": [],
   "source": []
  }
 ],
 "metadata": {
  "kernelspec": {
   "display_name": "Python 3",
   "language": "python",
   "name": "python3"
  },
  "language_info": {
   "codemirror_mode": {
    "name": "ipython",
    "version": 3
   },
   "file_extension": ".py",
   "mimetype": "text/x-python",
   "name": "python",
   "nbconvert_exporter": "python",
   "pygments_lexer": "ipython3",
   "version": "3.6.7"
  }
 },
 "nbformat": 4,
 "nbformat_minor": 2
}
